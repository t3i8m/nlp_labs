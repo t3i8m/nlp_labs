{
 "cells": [
  {
   "cell_type": "markdown",
   "metadata": {
    "collapsed": false,
    "pycharm": {
     "name": "#%% md\n"
    }
   },
   "source": [
    "# NLP 2025\n",
    "# Lab 1: Tokenization\n",
    "\n",
    "Tokenization is a fundamental step in **Natural Language Processing (NLP)** 🧠💬 that transforms raw text into structured data for computational models. In this lab, you will explore different **tokenization techniques** 📝, preprocess text data 🔍, and implement **tokenization pipelines** using popular NLP libraries 🏗️.  \n",
    "\n",
    "You will also gain **hands-on experience** with **Hugging Face Datasets 🤗📚**, while assessing the impact of tokenization choices on downstream NLP tasks. \n",
    "\n",
    "By the end of this lab, you will have a **strong foundation** in tokenization techniques and be able to apply them effectively in **real-world NLP applications** 🌍.  \n",
    "\n",
    "---\n",
    "\n",
    "### 🎯 **Learning Goals**  \n",
    "\n",
    "By the end of this lab, you should be able to:  \n",
    "\n",
    "✅ **Understand the role of tokenization in NLP** 🧠💡  \n",
    "✅ **Explain why tokenization is important** and how it affects text processing 📖🔍  \n",
    "✅ **Implement different tokenization techniques** – Apply **word** 📝, **subword** 🔢, and **character-level** 🔠 tokenization using built-in libraries.  \n",
    "✅ **Use Hugging Face Datasets** 🤗📊 – Load and preprocess text datasets efficiently.  \n",
    "✅ **Evaluate tokenization impact** 📉🔎 – Analyze how different tokenization methods influence model performance.  \n",
    "✅ **Identify challenges in tokenization** ❗🔍 – Recognize issues like **out-of-vocabulary (OOV) words**, **ambiguity**, and **multilingual tokenization** 🌍.  \n",
    "\n",
    "### Score breakdown\n",
    "\n",
    "| Exercise            | Points |\n",
    "|---------------------|--------|\n",
    "| [Exercise 1](#e1)   | 5      |\n",
    "| [Exercise 2](#e2)   | 6      |\n",
    "| [Exercise 3](#e3)   | 5      |\n",
    "| [Exercise 4](#e4)   | 12     |\n",
    "| [Exercise 5](#e5)   | 5      |\n",
    "| [Exercise 6](#e6)   | 22     |\n",
    "| [Exercise 7](#e7)   | 5      |\n",
    "| [Exercise 8](#e8)   | 5      |\n",
    "| [Exercise 9](#e9)   | 10     |\n",
    "| [Exercise 10](#e10) | 25     |\n",
    "| Total               | 100    |\n",
    "\n",
    "This score will be scaled down to 0.5 and that will be your final lab score.\n",
    "\n",
    "### 📌 **Instructions for Delivery** (📅 **Deadline: 11/Apr 18:00**, 🎭 *wildcards possible*)  \n",
    "\n",
    "✅ **Submission Requirements**  \n",
    "+ 📄 You need to submit a **PDF of your report** (use the templates provided in **LaTeX** 🖋️ (*preferred*) or **Word** 📑) and a **copy of your notebook** 📓 with the code.  \n",
    "+ ⚡ Make sure that **all cells are executed properly** ⚙️ and that **all figures/results/plots** 📊 you include in the report are also visible in your **executed notebook**.  \n",
    "\n",
    "✅ **Collaboration & Integrity**  \n",
    "+ 🗣️ While you may **discuss** the lab with others, you must **write your solutions with your group only**. If you **discuss specific tasks** with others, please **include their names** in the appendix of the report.  \n",
    "+ 📜 **Honor Code applies** to this lab. For more details, check **Syllabus §7.2** ⚖️.  \n",
    "+ 📢 **Mandatory Disclosure**:  \n",
    "   - Any **websites** 🌐 (e.g., **Stack Overflow** 💡) or **other resources** used must be **listed and disclosed**.  \n",
    "   - Any **GenAI tools** 🤖 (e.g., **ChatGPT**) used must be **explicitly mentioned**.  \n",
    "   - 🚨 **Failure to disclose these resources is a violation of academic integrity**. See **Syllabus §7.3** for details.   "
   ]
  },
  {
   "cell_type": "markdown",
   "metadata": {
    "collapsed": false,
    "pycharm": {
     "name": "#%% md\n"
    }
   },
   "source": [
    "## Preparation"
   ]
  },
  {
   "cell_type": "code",
   "execution_count": 73,
   "metadata": {
    "collapsed": false,
    "pycharm": {
     "name": "#%%\n"
    }
   },
   "outputs": [],
   "source": [
    "# ! pip install -U datasets~=3.2.0\n",
    "# ! python -m pip install -U matplotlib"
   ]
  },
  {
   "cell_type": "code",
   "execution_count": 74,
   "metadata": {
    "collapsed": false,
    "pycharm": {
     "name": "#%%\n"
    }
   },
   "outputs": [],
   "source": [
    "import re\n",
    "from collections import Counter\n",
    "\n",
    "import datasets\n",
    "import pandas as pd\n",
    "import tqdm"
   ]
  },
  {
   "cell_type": "markdown",
   "metadata": {
    "collapsed": false,
    "pycharm": {
     "name": "#%% md\n"
    }
   },
   "source": [
    "## 0. Intro to regular expressions\n",
    "\n",
    "In this introduction section, you can practice the use of regular expressions in python. You can find the documentation here: [https://docs.python.org/3/library/re.html](https://docs.python.org/3/library/re.html). The main functions of the re module are:\n",
    "- `re.search()` - searches for a pattern in a string, returns the first match,\n",
    "- `re.findall()` - similar to `search()`, but returns a list of all matches,\n",
    "- `re.sub()` - replaces the matches with a string.\n",
    "\n",
    "All above functions accept the regular expression pattern as their argument. The patterns are strings that represent the rules for matching the text. In python they start with `r` character, e.g. `r'\\d'` is a pattern that matches a digit.\n",
    "\n",
    "Let us start with a simple example. We will search for the word \"world\" in the string \"Hello, world!\"."
   ]
  },
  {
   "cell_type": "code",
   "execution_count": 75,
   "metadata": {
    "collapsed": false,
    "pycharm": {
     "name": "#%%\n"
    }
   },
   "outputs": [
    {
     "name": "stdout",
     "output_type": "stream",
     "text": [
      "<re.Match object; span=(7, 12), match='world'>\n"
     ]
    }
   ],
   "source": [
    "text = \"Hello, world!\"\n",
    "pattern = r'world'\n",
    "match = re.search(pattern, text)\n",
    "print(match)"
   ]
  },
  {
   "cell_type": "markdown",
   "metadata": {
    "collapsed": false,
    "pycharm": {
     "name": "#%% md\n"
    }
   },
   "source": [
    "The `search()` function returns a match object that tells us where the match was found (`span` argument) and the exact part of the string that matched the pattern (`group` argument).\n",
    "\n",
    "Below you can find the examples from the lecture."
   ]
  },
  {
   "cell_type": "code",
   "execution_count": 76,
   "metadata": {
    "collapsed": false,
    "pycharm": {
     "name": "#%%\n"
    }
   },
   "outputs": [],
   "source": [
    "# Disjunctions\n",
    "pattern = r'[wW]oodchuck' # matches both \"woodchuck\" and \"Woodchuck\"\n",
    "pattern = r'[1234567890]' # matches any digit\n",
    "pattern = r'[0-9]' # matches any digit\n",
    "pattern = r'[A-Z]' # matches any uppercase letter\n",
    "pattern = r'[a-z]' # matches any lowercase letter\n",
    "pattern = r'[A-Za-z]' # matches any letter\n",
    "\n",
    "# Disjunctions with pipe |\n",
    "pattern = r'groundhog|Woodchuck' # matches both \"woodchuck\" and \"Woodchuck\"\n",
    "\n",
    "# Negation (only when in [])\n",
    "pattern = r'[^0-9]' # matches any character that is not a digit\n",
    "pattern = r'[^Ss]' # matches any character that is not 'S' or 's'\n",
    "pattern = r'a^b' # matches the string \"a^b\"\n",
    "\n",
    "# Quantifiers (+, *, ?, .)\n",
    "pattern = r'baa+' # matches \"ba\" followed by one or more \"a\" (e.g. \"baa\", \"baaa\", \"baaaa\", ...)\n",
    "pattern = r'oo*h' # matches \"o\" followed by zero or more \"o\" and then \"h\" (e.g. \"oh\", \"ooh\", \"oooh\", ...)\n",
    "pattern = r'colou?r' # matches \"color\" and \"colour\"\n",
    "pattern = r'beg.n' # matches \"begun\", \"begin\", \"begnn\", ...\n",
    "\n",
    "# Anchors (^, $)\n",
    "pattern = r'^Hello' # matches \"Hello\" at the beginning of the string\n",
    "pattern = r'world!$' # matches \"world!\" at the end of the string"
   ]
  },
  {
   "cell_type": "markdown",
   "metadata": {
    "collapsed": false,
    "pycharm": {
     "name": "#%% md\n"
    }
   },
   "source": [
    "## 1. Huggingface datasets\n",
    "\n",
    "For this lab, we will use the **Hugging Face Datasets** library ([Hugging Face Datasets](https://huggingface.co/datasets)), which provides an extensive collection of ready-to-use NLP datasets. The library is designed to be lightweight, efficient, and compatible with popular deep learning frameworks such as PyTorch and TensorFlow.  \n",
    "\n",
    "You can find the full documentation and tutorials here:  \n",
    "📌 [Hugging Face Datasets Documentation](https://huggingface.co/docs/datasets/en/index)  \n",
    "\n",
    "### **Why use Hugging Face Datasets?**  \n",
    "- **Easy Access:** Load datasets with a single command without manual downloads.  \n",
    "- **Standardized Format:** Datasets come in a unified structure, making them easy to preprocess and integrate into ML pipelines.  \n",
    "- **Large Collection:** Provides datasets for a wide range of NLP tasks, including classification, translation, summarization, and more.  \n",
    "- **Seamless Integration:** Works with `transformers` and `sklearn` for preprocessing and model training.  \n",
    "\n",
    "### **Dataset for this lab: TweetEval - Emoji Subset**  \n",
    "\n",
    "In this lab, we will work with the **TweetEval** dataset, specifically the **emoji** subset. The TweetEval dataset is a benchmark for evaluating NLP models on Twitter-related tasks, covering tasks such as sentiment analysis, hate speech detection, and irony detection.  \n",
    "\n",
    "For tokenization, we will focus only on the **text** (the content of the tweets), but we will also examine the **labels** to understand the dataset structure.  \n",
    "\n",
    "🔗 The dataset description and details are available in its dataset card: [**TweetEval Dataset**](https://huggingface.co/datasets/cardiffnlp/tweet_eval) \n",
    "\n",
    "💡 Exploring More Datasets\n",
    "Hugging Face provides a vast selection of datasets across different NLP tasks. You can browse and explore more at:\n",
    "🔗 [Hugging Face Datasets Collection](https://huggingface.co/datasets)"
   ]
  },
  {
   "cell_type": "code",
   "execution_count": 77,
   "metadata": {
    "collapsed": false,
    "pycharm": {
     "name": "#%%\n"
    }
   },
   "outputs": [
    {
     "name": "stdout",
     "output_type": "stream",
     "text": [
      "DatasetDict({\n",
      "    train: Dataset({\n",
      "        features: ['text', 'label'],\n",
      "        num_rows: 45000\n",
      "    })\n",
      "    test: Dataset({\n",
      "        features: ['text', 'label'],\n",
      "        num_rows: 50000\n",
      "    })\n",
      "    validation: Dataset({\n",
      "        features: ['text', 'label'],\n",
      "        num_rows: 5000\n",
      "    })\n",
      "})\n"
     ]
    }
   ],
   "source": [
    "tweet_ds = datasets.load_dataset('tweet_eval', 'emoji')\n",
    "print(tweet_ds)"
   ]
  },
  {
   "cell_type": "markdown",
   "metadata": {
    "collapsed": false,
    "pycharm": {
     "name": "#%% md\n"
    }
   },
   "source": [
    "The loaded dataset contains three subsets (“train”, “validation”, and “test”). Each consists of two columns: “text” and “label”. Label is an integer from 0 to 19 representing an emoji. See the dataset's card for more information. We can access the elements of the dataset like so:"
   ]
  },
  {
   "cell_type": "code",
   "execution_count": 78,
   "metadata": {
    "collapsed": false,
    "pycharm": {
     "name": "#%%\n"
    }
   },
   "outputs": [
    {
     "name": "stdout",
     "output_type": "stream",
     "text": [
      "{'text': 'Sunday afternoon walking through Venice in the sun with @user ️ ️ ️ @ Abbot Kinney, Venice', 'label': 12}\n",
      "{'text': \"Time for some BBQ and whiskey libations. Chomp, belch, chomp! (@ Lucille's Smokehouse Bar-B-Que)\", 'label': 19}\n",
      "{'text': 'Love love love all these people ️ ️ ️ #friends #bff #celebrate #blessed #sundayfunday @ San…', 'label': 0}\n",
      "{'text': '️ ️ ️ ️ @ Toys\"R\"Us', 'label': 0}\n",
      "{'text': 'Man these are the funniest kids ever!! That face! #HappyBirthdayBubb @ FLIPnOUT Xtreme', 'label': 2}\n",
      "{'text': '#sandiego @ San Diego, California', 'label': 11}\n",
      "{'text': 'My little ️ ️ ️ ️ ️ #ObsessedWithMyDog @ Cafe Solstice Capitol Hill', 'label': 0}\n",
      "{'text': 'More #tinyepic things #tinyepicwestern, this one is crazy @user I may be one of your…', 'label': 19}\n",
      "{'text': 'Last night ️ @ Omnia Night Club At Caesars Palace', 'label': 0}\n",
      "{'text': 'friendship at its finest. ....#pixar #toystory #buzz #woody #friends #friendship #bff…', 'label': 7}\n"
     ]
    }
   ],
   "source": [
    "for i in range(10):\n",
    "    print(tweet_ds['train'][i])"
   ]
  },
  {
   "cell_type": "markdown",
   "metadata": {
    "collapsed": false,
    "pycharm": {
     "name": "#%% md\n"
    }
   },
   "source": [
    "You can easily cast the dataset to the pandas DataFrame."
   ]
  },
  {
   "cell_type": "code",
   "execution_count": 79,
   "metadata": {
    "collapsed": false,
    "pycharm": {
     "name": "#%%\n"
    }
   },
   "outputs": [
    {
     "name": "stdout",
     "output_type": "stream",
     "text": [
      "                                                    text  label\n",
      "0      Sunday afternoon walking through Venice in the...     12\n",
      "1      Time for some BBQ and whiskey libations. Chomp...     19\n",
      "2      Love love love all these people ️ ️ ️ #friends...      0\n",
      "3                                    ️ ️ ️ ️ @ Toys\"R\"Us      0\n",
      "4      Man these are the funniest kids ever!! That fa...      2\n",
      "...                                                  ...    ...\n",
      "44995  Here to celebrate the Nunez wedding! Love my b...      0\n",
      "44996  1 night in Paris.... Wait... @ Paris Las Vegas...      1\n",
      "44997  Be safe this weekend everyone. #happylaborday ...     11\n",
      "44998          Pizza (@ Five50 - @user in Las Vegas, NV)      1\n",
      "44999  my mini is perfect, no one deserves her @ Las ...     13\n",
      "\n",
      "[45000 rows x 2 columns]\n"
     ]
    }
   ],
   "source": [
    "tweet_train_df = pd.DataFrame(tweet_ds['train'])\n",
    "print(tweet_train_df)"
   ]
  },
  {
   "cell_type": "markdown",
   "metadata": {
    "collapsed": false,
    "pycharm": {
     "name": "#%% md\n"
    }
   },
   "source": [
    "We can plot the distribution of the labels in the training subset."
   ]
  },
  {
   "cell_type": "code",
   "execution_count": 80,
   "metadata": {
    "collapsed": false,
    "pycharm": {
     "name": "#%%\n"
    }
   },
   "outputs": [
    {
     "data": {
      "text/plain": [
       "<AxesSubplot:xlabel='label'>"
      ]
     },
     "execution_count": 80,
     "metadata": {},
     "output_type": "execute_result"
    },
    {
     "data": {
      "image/png": "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",
      "text/plain": [
       "<Figure size 640x480 with 1 Axes>"
      ]
     },
     "metadata": {},
     "output_type": "display_data"
    }
   ],
   "source": [
    "tweet_train_df.groupby('label').count().plot.bar()"
   ]
  },
  {
   "cell_type": "markdown",
   "metadata": {
    "collapsed": false,
    "pycharm": {
     "name": "#%% md\n"
    }
   },
   "source": [
    "### Dataset's filter function\n",
    "We can filter the examples using ```filter()``` method. See this link for more details https://huggingface.co/docs/datasets/en/use_dataset. Here is an example of filtering the short tweets (less than 20 characters) from the ```train``` subset."
   ]
  },
  {
   "cell_type": "code",
   "execution_count": 81,
   "metadata": {
    "collapsed": false,
    "pycharm": {
     "name": "#%%\n"
    }
   },
   "outputs": [
    {
     "name": "stdout",
     "output_type": "stream",
     "text": [
      "Dataset({\n",
      "    features: ['text', 'label'],\n",
      "    num_rows: 506\n",
      "})\n"
     ]
    }
   ],
   "source": [
    "short_tweets = tweet_ds['train'].filter(lambda example: len(example['text']) < 20)\n",
    "print(short_tweets)"
   ]
  },
  {
   "cell_type": "code",
   "execution_count": 82,
   "metadata": {
    "collapsed": false,
    "pycharm": {
     "name": "#%%\n"
    }
   },
   "outputs": [
    {
     "name": "stdout",
     "output_type": "stream",
     "text": [
      "{'text': '️ ️ ️ ️ @ Toys\"R\"Us', 'label': 0}\n",
      "{'text': '️ @ Columbia River', 'label': 12}\n",
      "{'text': 'My weekend: @user 3', 'label': 6}\n",
      "{'text': 'good day today', 'label': 3}\n",
      "{'text': 'My last RT...', 'label': 2}\n",
      "{'text': '@ On Lake Cowichan', 'label': 13}\n",
      "{'text': '@ Macroplaza', 'label': 4}\n",
      "{'text': '@ BART Train', 'label': 6}\n",
      "{'text': '️ 4 a tbh&amp; rate', 'label': 0}\n",
      "{'text': '@user Oh nice!!', 'label': 14}\n"
     ]
    }
   ],
   "source": [
    "for i in range(10):\n",
    "    print(short_tweets[i])"
   ]
  },
  {
   "cell_type": "markdown",
   "metadata": {
    "collapsed": false,
    "pycharm": {
     "name": "#%% md\n"
    }
   },
   "source": [
    "### Dataset's map function\n",
    "Datasets library contains a very useful method map. It expects a function that will receive an example from the dataset. This function will be applied to all entries. We will calculate the length of the text (in characters) in each example."
   ]
  },
  {
   "cell_type": "code",
   "execution_count": 83,
   "metadata": {
    "collapsed": false,
    "pycharm": {
     "name": "#%%\n"
    }
   },
   "outputs": [],
   "source": [
    "def calculate_text_length(example):\n",
    "    example['text_length'] = len(example['text'])\n",
    "    return example"
   ]
  },
  {
   "cell_type": "code",
   "execution_count": 84,
   "metadata": {
    "collapsed": false,
    "pycharm": {
     "name": "#%%\n"
    }
   },
   "outputs": [
    {
     "name": "stdout",
     "output_type": "stream",
     "text": [
      "DatasetDict({\n",
      "    train: Dataset({\n",
      "        features: ['text', 'label', 'text_length'],\n",
      "        num_rows: 45000\n",
      "    })\n",
      "    test: Dataset({\n",
      "        features: ['text', 'label', 'text_length'],\n",
      "        num_rows: 50000\n",
      "    })\n",
      "    validation: Dataset({\n",
      "        features: ['text', 'label', 'text_length'],\n",
      "        num_rows: 5000\n",
      "    })\n",
      "})\n"
     ]
    }
   ],
   "source": [
    "tweet_ds = tweet_ds.map(calculate_text_length)\n",
    "print(tweet_ds)"
   ]
  },
  {
   "cell_type": "markdown",
   "metadata": {
    "collapsed": false,
    "pycharm": {
     "name": "#%% md\n"
    }
   },
   "source": [
    "We can plot the histogram of the text lengths."
   ]
  },
  {
   "cell_type": "code",
   "execution_count": 85,
   "metadata": {
    "collapsed": false,
    "pycharm": {
     "name": "#%%\n"
    }
   },
   "outputs": [
    {
     "data": {
      "text/plain": [
       "<AxesSubplot:ylabel='Frequency'>"
      ]
     },
     "execution_count": 85,
     "metadata": {},
     "output_type": "execute_result"
    },
    {
     "data": {
      "image/png": "iVBORw0KGgoAAAANSUhEUgAAAjIAAAGdCAYAAAAIbpn/AAAAOXRFWHRTb2Z0d2FyZQBNYXRwbG90bGliIHZlcnNpb24zLjUuMSwgaHR0cHM6Ly9tYXRwbG90bGliLm9yZy/YYfK9AAAACXBIWXMAAA9hAAAPYQGoP6dpAAAlEElEQVR4nO3de1RU9f7/8dcgF1G5CAZIgnDStPJSYRplN6VIXWVq55hpmrnqWFQqZebqW61OF0hXlnVSq2Vaq4xyHbWrmqFZHVETb9kFtUwobp0MEAtE5/P7o+X8GkWBcWTmg8/HWnut5rM/7Hm/cdjzas/eexzGGCMAAAALBfi6AAAAAE8RZAAAgLUIMgAAwFoEGQAAYC2CDAAAsBZBBgAAWIsgAwAArEWQAQAA1gr0dQGnmtPpVHFxscLCwuRwOHxdDgAAaARjjPbv36/4+HgFBBz/uEuLDzLFxcVKSEjwdRkAAMADRUVF6tSp03HXt/ggExYWJunPX0R4eLiPqwEAAI1RVVWlhIQE1/v48bT4IHPk46Tw8HCCDAAAlmnotBBO9gUAANYiyAAAAGsRZAAAgLUIMgAAwFoEGQAAYC2CDAAAsBZBBgAAWIsgAwAArEWQAQAA1iLIAAAAaxFkAACAtQgyAADAWgQZAABgLYIMAACwVqCvC7BZ0oMfNjjnx+whzVAJAACnJ47IAAAAaxFkAACAtQgyAADAWgQZAABgLYIMAACwFkEGAABYiyADAACsRZABAADWIsgAAABrEWQAAIC1CDIAAMBaBBkAAGAtggwAALAWQQYAAFiLIAMAAKxFkAEAANYiyAAAAGsRZAAAgLUIMgAAwFoEGQAAYC2CDAAAsBZBBgAAWIsgAwAArEWQAQAA1iLIAAAAaxFkAACAtQgyAADAWgQZAABgLYIMAACwFkEGAABYiyADAACsRZABAADWIsgAAABrEWQAAIC1CDIAAMBaBBkAAGAtggwAALAWQQYAAFiLIAMAAKxFkAEAANYiyAAAAGv5TZDJzs6Ww+HQ5MmTXWM1NTXKyMhQdHS02rVrpxEjRqisrMx3RQIAAL/iF0Hmyy+/1EsvvaRevXq5jU+ZMkXvv/++Fi9erLVr16q4uFjDhw/3UZUAAMDf+DzIVFdXa/To0XrllVfUvn1713hlZaXmz5+vWbNmacCAAUpJSdGCBQu0bt06rV+/3ocVAwAAf+HzIJORkaEhQ4YoLS3NbTw/P191dXVu4927d1diYqLy8vKOu73a2lpVVVW5LQAAoGUK9OWT5+TkaPPmzfryyy+PWVdaWqrg4GBFRka6jcfGxqq0tPS428zKytJjjz3m7VIBAIAf8tkRmaKiIk2aNElvvvmmWrdu7bXtTp8+XZWVla6lqKjIa9sGAAD+xWdBJj8/X+Xl5brwwgsVGBiowMBArV27Vs8//7wCAwMVGxurgwcPqqKiwu3nysrKFBcXd9zthoSEKDw83G0BAAAtk88+Who4cKC++uort7Hx48ere/fumjZtmhISEhQUFKTc3FyNGDFCklRQUKDCwkKlpqb6omQAAOBnfBZkwsLC1KNHD7extm3bKjo62jU+YcIEZWZmKioqSuHh4brnnnuUmpqqiy++2BclAwAAP+PTk30b8uyzzyogIEAjRoxQbW2t0tPTNWfOHF+XBQAA/ITDGGN8XcSpVFVVpYiICFVWVnr9fJmkBz9scM6P2UO8+pwAAJwOGvv+7fP7yAAAAHiKIAMAAKxFkAEAANYiyAAAAGsRZAAAgLUIMgAAwFoEGQAAYC2CDAAAsBZBBgAAWIsgAwAArEWQAQAA1iLIAAAAaxFkAACAtQgyAADAWgQZAABgLYIMAACwFkEGAABYiyADAACsRZABAADWIsgAAABrEWQAAIC1CDIAAMBaBBkAAGAtggwAALAWQQYAAFiLIAMAAKxFkAEAANYiyAAAAGsRZAAAgLUIMgAAwFoEGQAAYC2CDAAAsBZBBgAAWIsgAwAArEWQAQAA1iLIAAAAaxFkAACAtQgyAADAWgQZAABgLYIMAACwFkEGAABYiyADAACsRZABAADWIsgAAABrEWQAAIC1CDIAAMBaBBkAAGAtggwAALAWQQYAAFiLIAMAAKxFkAEAANYiyAAAAGsRZAAAgLUIMgAAwFoEGQAAYC2CDAAAsBZBBgAAWIsgAwAArEWQAQAA1iLIAAAAaxFkAACAtQgyAADAWgQZAABgLYIMAACwFkEGAABYiyADAACs5dMgM3fuXPXq1Uvh4eEKDw9Xamqqli9f7lpfU1OjjIwMRUdHq127dhoxYoTKysp8WDEAAPAnPg0ynTp1UnZ2tvLz87Vp0yYNGDBAQ4cO1ddffy1JmjJlit5//30tXrxYa9euVXFxsYYPH+7LkgEAgB9xGGOMr4v4q6ioKM2cOVM33nijzjjjDC1atEg33nijJOm7777TOeeco7y8PF188cWN2l5VVZUiIiJUWVmp8PBwr9aa9OCHDc75MXuIV58TAIDTQWPfv/3mHJnDhw8rJydHBw4cUGpqqvLz81VXV6e0tDTXnO7duysxMVF5eXnH3U5tba2qqqrcFgAA0DL5PMh89dVXateunUJCQjRx4kQtXbpU5557rkpLSxUcHKzIyEi3+bGxsSotLT3u9rKyshQREeFaEhISTnEHAADAV3weZLp166atW7dqw4YNuvPOOzVu3Dh98803Hm9v+vTpqqysdC1FRUVerBYAAPiTQF8XEBwcrC5dukiSUlJS9OWXX2r27NkaOXKkDh48qIqKCrejMmVlZYqLizvu9kJCQhQSEnKqywYAAH7A50dkjuZ0OlVbW6uUlBQFBQUpNzfXta6goECFhYVKTU31YYUAAMBf+PSIzPTp0zVo0CAlJiZq//79WrRokT799FOtXLlSERERmjBhgjIzMxUVFaXw8HDdc889Sk1NbfQVSwAAoGXzaZApLy/X2LFjVVJSooiICPXq1UsrV67U1VdfLUl69tlnFRAQoBEjRqi2tlbp6emaM2eOL0sGAAB+xO/uI+Nt3EcGAAD7WHcfGQAAgKYiyAAAAGsRZAAAgLUIMgAAwFoEGQAAYC2PgswPP/zg7ToAAACazKMg06VLF1111VV64403VFNT4+2aAAAAGsWjILN582b16tVLmZmZiouL0z//+U9t3LjR27UBAACckEdB5vzzz9fs2bNVXFysV199VSUlJerfv7969OihWbNm6ZdffvF2nQAAAMc4qZN9AwMDNXz4cC1evFhPP/20du/erfvvv18JCQmurx4AAAA4VU4qyGzatEl33XWXOnbsqFmzZun+++/X999/r1WrVqm4uFhDhw71Vp0AAADH8OhLI2fNmqUFCxaooKBAgwcP1uuvv67BgwcrIODPXJScnKyFCxcqKSnJm7UCAAC48SjIzJ07V7fddptuvfVWdezYsd45MTExmj9//kkVBwAAcCIeBZldu3Y1OCc4OFjjxo3zZPMAAACN4tE5MgsWLNDixYuPGV+8eLFee+21ky4KAACgMTwKMllZWerQocMx4zExMXrqqadOuigAAIDG8CjIFBYWKjk5+Zjxzp07q7Cw8KSLAgAAaAyPgkxMTIy2b99+zPi2bdsUHR190kUBAAA0hkdBZtSoUbr33nu1Zs0aHT58WIcPH9bq1as1adIk3XTTTd6uEQAAoF4eXbX0+OOP68cff9TAgQMVGPjnJpxOp8aOHcs5MgAAoNl4FGSCg4P19ttv6/HHH9e2bdsUGhqqnj17qnPnzt6uDwAA4Lg8CjJHnH322Tr77LO9VQsAAECTeBRkDh8+rIULFyo3N1fl5eVyOp1u61evXu2V4gAAAE7EoyAzadIkLVy4UEOGDFGPHj3kcDi8XRcAAECDPAoyOTk5eueddzR48GBv1wMAANBoHl1+HRwcrC5duni7FgAAgCbxKMjcd999mj17towx3q4HAACg0Tz6aOmLL77QmjVrtHz5cp133nkKCgpyW79kyRKvFAcAAHAiHgWZyMhIDRs2zNu1AAAANIlHQWbBggXergMAAKDJPDpHRpIOHTqkTz75RC+99JL2798vSSouLlZ1dbXXigMAADgRj47I7N27V9dee60KCwtVW1urq6++WmFhYXr66adVW1urefPmebtOAACAY3h0RGbSpEnq06ePfvvtN4WGhrrGhw0bptzcXK8VBwAAcCIeHZH5/PPPtW7dOgUHB7uNJyUl6eeff/ZKYQAAAA3x6IiM0+nU4cOHjxn/6aefFBYWdtJFAQAANIZHQeaaa67Rc88953rscDhUXV2tRx99lK8tAAAAzcajj5aeeeYZpaen69xzz1VNTY1uvvlm7dq1Sx06dNBbb73l7RoBAADq5VGQ6dSpk7Zt26acnBxt375d1dXVmjBhgkaPHu128i8AAMCp5FGQkaTAwECNGTPGm7UAAAA0iUdB5vXXXz/h+rFjx3pUDAAAQFN4FGQmTZrk9riurk6///67goOD1aZNG4IMAABoFh5dtfTbb7+5LdXV1SooKFD//v052RcAADQbj79r6Whdu3ZVdnb2MUdrAAAAThWvBRnpzxOAi4uLvblJAACA4/LoHJn33nvP7bExRiUlJfr3v/+tSy+91CuFAQAANMSjIHPDDTe4PXY4HDrjjDM0YMAAPfPMM96oCwAAoEEeBRmn0+ntOgAAAJrMq+fIAAAANCePjshkZmY2eu6sWbM8eQoAAIAGeRRktmzZoi1btqiurk7dunWTJO3cuVOtWrXShRde6JrncDi8UyUAAEA9PAoy1113ncLCwvTaa6+pffv2kv68Sd748eN12WWX6b777vNqkQAAAPXx6ByZZ555RllZWa4QI0nt27fXE088wVVLAACg2XgUZKqqqvTLL78cM/7LL79o//79J10UAABAY3gUZIYNG6bx48dryZIl+umnn/TTTz/pP//5jyZMmKDhw4d7u0YAAIB6eXSOzLx583T//ffr5ptvVl1d3Z8bCgzUhAkTNHPmTK8WCAAAcDweBZk2bdpozpw5mjlzpr7//ntJ0llnnaW2bdt6tTgAAIATOakb4pWUlKikpERdu3ZV27ZtZYzxVl0AAAAN8ijI/Prrrxo4cKDOPvtsDR48WCUlJZKkCRMmcOk1AABoNh4FmSlTpigoKEiFhYVq06aNa3zkyJFasWKF14oDAAA4EY/Okfn444+1cuVKderUyW28a9eu2rt3r1cKAwAAaIhHR2QOHDjgdiTmiH379ikkJOSkiwIAAGgMj4LMZZddptdff9312OFwyOl0asaMGbrqqqu8VhwAAMCJePTR0owZMzRw4EBt2rRJBw8e1AMPPKCvv/5a+/bt03//+19v1wgAAFAvj47I9OjRQzt37lT//v01dOhQHThwQMOHD9eWLVt01llnebtGAACAejX5iExdXZ2uvfZazZs3Tw899NCpqAkAAKBRmnxEJigoSNu3b/fKk2dlZemiiy5SWFiYYmJidMMNN6igoMBtTk1NjTIyMhQdHa127dppxIgRKisr88rzAwAAu3n00dKYMWM0f/78k37ytWvXKiMjQ+vXr9eqVatUV1ena665RgcOHHDNmTJlit5//30tXrxYa9euVXFxMV9MCQAAJHl4su+hQ4f06quv6pNPPlFKSsox37E0a9asRm3n6JvnLVy4UDExMcrPz9fll1+uyspKzZ8/X4sWLdKAAQMkSQsWLNA555yj9evX6+KLL/akfAAA0EI0Kcj88MMPSkpK0o4dO3ThhRdKknbu3Ok2x+FweFxMZWWlJCkqKkqSlJ+fr7q6OqWlpbnmdO/eXYmJicrLy6s3yNTW1qq2ttb1uKqqyuN6AACAf2tSkOnatatKSkq0Zs0aSX9+JcHzzz+v2NjYky7E6XRq8uTJuvTSS9WjRw9JUmlpqYKDgxUZGek2NzY2VqWlpfVuJysrS4899thJ1wMAAPxfk86ROfrbrZcvX+52PsvJyMjI0I4dO5STk3NS25k+fboqKytdS1FRkVfqAwAA/sejc2SOODrYeOruu+/WBx98oM8++8zt+5vi4uJ08OBBVVRUuB2VKSsrU1xcXL3bCgkJ4WsSAAA4TTTpiIzD4TjmHJiTOSfGGKO7775bS5cu1erVq5WcnOy2PiUlRUFBQcrNzXWNFRQUqLCwUKmpqR4/LwAAaBmadETGGKNbb73VdcSjpqZGEydOPOaqpSVLljRqexkZGVq0aJHeffddhYWFuc57iYiIUGhoqCIiIjRhwgRlZmYqKipK4eHhuueee5SamsoVSwAAoGlBZty4cW6Px4wZc1JPPnfuXEnSlVde6Ta+YMEC3XrrrZKkZ599VgEBARoxYoRqa2uVnp6uOXPmnNTzAgCAlsFhvHWii5+qqqpSRESEKisrFR4e7tVtJz34YYNzfswe4tXnBADgdNDY92+P7uwLAADgDwgyAADAWgQZAABgLYIMAACwFkEGAABYiyADAACsRZABAADWIsgAAABrEWQAAIC1CDIAAMBaBBkAAGAtggwAALAWQQYAAFiLIAMAAKxFkAEAANYiyAAAAGsRZAAAgLUIMgAAwFoEGQAAYC2CDAAAsBZBBgAAWIsgAwAArEWQAQAA1iLIAAAAaxFkAACAtQgyAADAWgQZAABgLYIMAACwFkEGAABYiyADAACsRZABAADWIsgAAABrEWQAAIC1CDIAAMBaBBkAAGAtggwAALAWQQYAAFiLIAMAAKxFkAEAANYiyAAAAGsRZAAAgLUIMgAAwFoEGQAAYC2CDAAAsBZBBgAAWIsgAwAArEWQAQAA1gr0dQFAc0p68MMG5/yYPaQZKgEAeANHZAAAgLUIMgAAwFoEGQAAYC2CDAAAsBZBBgAAWIsgAwAArEWQAQAA1iLIAAAAaxFkAACAtQgyAADAWgQZAABgLYIMAACwFkEGAABYiyADAACsRZABAADWIsgAAABrEWQAAIC1CDIAAMBaPg0yn332ma677jrFx8fL4XBo2bJlbuuNMXrkkUfUsWNHhYaGKi0tTbt27fJNsQAAwO/4NMgcOHBAvXv31osvvljv+hkzZuj555/XvHnztGHDBrVt21bp6emqqalp5koBAIA/CvTlkw8aNEiDBg2qd50xRs8995z+7//+T0OHDpUkvf7664qNjdWyZct00003NWepAADAD/ntOTJ79uxRaWmp0tLSXGMRERHq16+f8vLyjvtztbW1qqqqclsAAEDL5LdBprS0VJIUGxvrNh4bG+taV5+srCxFRES4loSEhFNaJwAA8B2/DTKemj59uiorK11LUVGRr0sCAACniN8Gmbi4OElSWVmZ23hZWZlrXX1CQkIUHh7utgAAgJbJb4NMcnKy4uLilJub6xqrqqrShg0blJqa6sPKAACAv/DpVUvV1dXavXu36/GePXu0detWRUVFKTExUZMnT9YTTzyhrl27Kjk5WQ8//LDi4+N1ww03+K5oAADgN3waZDZt2qSrrrrK9TgzM1OSNG7cOC1cuFAPPPCADhw4oDvuuEMVFRXq37+/VqxYodatW/uqZAAA4Ed8GmSuvPJKGWOOu97hcOhf//qX/vWvfzVjVQAAwBZ+e44MAABAQwgyAADAWgQZAABgLYIMAACwFkEGAABYiyADAACsRZABAADWIsgAAABrEWQAAIC1CDIAAMBaBBkAAGAtggwAALAWQQYAAFiLIAMAAKxFkAEAANYiyAAAAGsRZAAAgLUIMgAAwFoEGQAAYC2CDAAAsBZBBgAAWIsgAwAArEWQAQAA1gr0dQGAv0l68MMG5/yYPaQZKgEANIQjMgAAwFoEGQAAYC2CDAAAsBZBBgAAWIsgAwAArEWQAQAA1iLIAAAAa3EfGT/QmPuWSNy7pCGN/T0CAFoOjsgAAABrEWQAAIC1CDIAAMBaBBkAAGAtggwAALAWQQYAAFiLIAMAAKzFfWROsZZ8bxNv9XY63x+nMb/D0/n3AwAN4YgMAACwFkEGAABYiyADAACsRZABAADWIsgAAABrEWQAAIC1uPzaIs15ubO/XTZOPSfmrcu4uRwcgG04IgMAAKxFkAEAANYiyAAAAGsRZAAAgLUIMgAAwFoEGQAAYC2CDAAAsBb3kYHP+ds9WXDymvOeR0BL4m/3cvK3eurDERkAAGAtggwAALAWQQYAAFiLIAMAAKxFkAEAANYiyAAAAGsRZAAAgLW4j8xpiPu22MVb/14t9d+9Oe9z4a3n8rd/C2/V7Ov7iRzNxpq95XTqnSMyAADAWgQZAABgLSuCzIsvvqikpCS1bt1a/fr108aNG31dEgAA8AN+H2TefvttZWZm6tFHH9XmzZvVu3dvpaenq7y83NelAQAAH/P7IDNr1izdfvvtGj9+vM4991zNmzdPbdq00auvvurr0gAAgI/59VVLBw8eVH5+vqZPn+4aCwgIUFpamvLy8ur9mdraWtXW1roeV1ZWSpKqqqq8Xp+z9nevbxPwd435W/LW34a3nstbf//eei5/23f42+/ZW07nmv1tO544sl1jzIknGj/2888/G0lm3bp1buNTp041ffv2rfdnHn30USOJhYWFhYWFpQUsRUVFJ8wKfn1ExhPTp09XZmam67HT6dS+ffsUHR0th8PhteepqqpSQkKCioqKFB4e7rXt+gv6s1tL709q+T3Sn93o7+QZY7R//37Fx8efcJ5fB5kOHTqoVatWKisrcxsvKytTXFxcvT8TEhKikJAQt7HIyMhTVaLCw8Nb5Iv0CPqzW0vvT2r5PdKf3ejv5ERERDQ4x69P9g0ODlZKSopyc3NdY06nU7m5uUpNTfVhZQAAwB/49REZScrMzNS4cePUp08f9e3bV88995wOHDig8ePH+7o0AADgY34fZEaOHKlffvlFjzzyiEpLS3X++edrxYoVio2N9WldISEhevTRR4/5GKuloD+7tfT+pJbfI/3Zjf6aj8OYhq5rAgAA8E9+fY4MAADAiRBkAACAtQgyAADAWgQZAABgLYKMh1588UUlJSWpdevW6tevnzZu3OjrkhqUlZWliy66SGFhYYqJidENN9yggoICtzk1NTXKyMhQdHS02rVrpxEjRhxzQ8LCwkINGTJEbdq0UUxMjKZOnapDhw41ZyuNkp2dLYfDocmTJ7vGbO/v559/1pgxYxQdHa3Q0FD17NlTmzZtcq03xuiRRx5Rx44dFRoaqrS0NO3atcttG/v27dPo0aMVHh6uyMhITZgwQdXV1c3dyjEOHz6shx9+WMnJyQoNDdVZZ52lxx9/3O17Vmzr77PPPtN1112n+Ph4ORwOLVu2zG29t/rZvn27LrvsMrVu3VoJCQmaMWPGqW5N0on7q6ur07Rp09SzZ0+1bdtW8fHxGjt2rIqLi922YWt/R5s4caIcDoeee+45t3Hb+/v22291/fXXKyIiQm3bttVFF12kwsJC13q/2Kee/DcinX5ycnJMcHCwefXVV83XX39tbr/9dhMZGWnKysp8XdoJpaenmwULFpgdO3aYrVu3msGDB5vExERTXV3tmjNx4kSTkJBgcnNzzaZNm8zFF19sLrnkEtf6Q4cOmR49epi0tDSzZcsW89FHH5kOHTqY6dOn+6Kl49q4caNJSkoyvXr1MpMmTXKN29zfvn37TOfOnc2tt95qNmzYYH744QezcuVKs3v3btec7OxsExERYZYtW2a2bdtmrr/+epOcnGz++OMP15xrr73W9O7d26xfv958/vnnpkuXLmbUqFG+aMnNk08+aaKjo80HH3xg9uzZYxYvXmzatWtnZs+e7ZpjW38fffSReeihh8ySJUuMJLN06VK39d7op7Ky0sTGxprRo0ebHTt2mLfeesuEhoaal156yaf9VVRUmLS0NPP222+b7777zuTl5Zm+ffualJQUt23Y2t9fLVmyxPTu3dvEx8ebZ5991m2dzf3t3r3bREVFmalTp5rNmzeb3bt3m3fffdftvc4f9qkEGQ/07dvXZGRkuB4fPnzYxMfHm6ysLB9W1XTl5eVGklm7dq0x5s8dT1BQkFm8eLFrzrfffmskmby8PGPMny/8gIAAU1pa6pozd+5cEx4ebmpra5u3gePYv3+/6dq1q1m1apW54oorXEHG9v6mTZtm+vfvf9z1TqfTxMXFmZkzZ7rGKioqTEhIiHnrrbeMMcZ88803RpL58ssvXXOWL19uHA6H+fnnn09d8Y0wZMgQc9ttt7mNDR8+3IwePdoYY39/R79ReKufOXPmmPbt27u9PqdNm2a6det2ijtyd6I3+iM2btxoJJm9e/caY1pGfz/99JM588wzzY4dO0znzp3dgozt/Y0cOdKMGTPmuD/jL/tUPlpqooMHDyo/P19paWmusYCAAKWlpSkvL8+HlTVdZWWlJCkqKkqSlJ+fr7q6OrfeunfvrsTERFdveXl56tmzp9sNCdPT01VVVaWvv/66Gas/voyMDA0ZMsStD8n+/t577z316dNHf//73xUTE6MLLrhAr7zyimv9nj17VFpa6tZfRESE+vXr59ZfZGSk+vTp45qTlpamgIAAbdiwofmaqccll1yi3Nxc7dy5U5K0bds2ffHFFxo0aJAk+/s7mrf6ycvL0+WXX67g4GDXnPT0dBUUFOi3335rpm4ap7KyUg6Hw/X9d7b353Q6dcstt2jq1Kk677zzjllvc39Op1Mffvihzj77bKWnpysmJkb9+vVz+/jJX/apBJkm+t///qfDhw8fc2fh2NhYlZaW+qiqpnM6nZo8ebIuvfRS9ejRQ5JUWlqq4ODgY75k86+9lZaW1tv7kXW+lpOTo82bNysrK+uYdbb398MPP2ju3Lnq2rWrVq5cqTvvvFP33nuvXnvtNbf6TvTaLC0tVUxMjNv6wMBARUVF+by/Bx98UDfddJO6d++uoKAgXXDBBZo8ebJGjx4tyf7+juatfvz5NftXNTU1mjZtmkaNGuX6kkHb+3v66acVGBioe++9t971NvdXXl6u6upqZWdn69prr9XHH3+sYcOGafjw4Vq7dq2rPn/Yp/r9VxTg1MjIyNCOHTv0xRdf+LoUrykqKtKkSZO0atUqtW7d2tfleJ3T6VSfPn301FNPSZIuuOAC7dixQ/PmzdO4ceN8XN3Je+edd/Tmm29q0aJFOu+887R161ZNnjxZ8fHxLaK/01ldXZ3+8Y9/yBijuXPn+rocr8jPz9fs2bO1efNmORwOX5fjdU6nU5I0dOhQTZkyRZJ0/vnna926dZo3b56uuOIKX5bnhiMyTdShQwe1atXqmLOyy8rKFBcX56Oqmubuu+/WBx98oDVr1qhTp06u8bi4OB08eFAVFRVu8//aW1xcXL29H1nnS/n5+SovL9eFF16owMBABQYGau3atXr++ecVGBio2NhYq/vr2LGjzj33XLexc845x3UFwZH6TvTajIuLU3l5udv6Q4cOad++fT7vb+rUqa6jMj179tQtt9yiKVOmuI6u2d7f0bzVjz+/ZqX/H2L27t2rVatWuY7GSHb39/nnn6u8vFyJiYmu/c3evXt13333KSkpyVWfrf116NBBgYGBDe5z/GGfSpBpouDgYKWkpCg3N9c15nQ6lZubq9TUVB9W1jBjjO6++24tXbpUq1evVnJystv6lJQUBQUFufVWUFCgwsJCV2+pqan66quv3P44j+ycjn7BN7eBAwfqq6++0tatW11Lnz59NHr0aNd/29zfpZdeeszl8jt37lTnzp0lScnJyYqLi3Prr6qqShs2bHDrr6KiQvn5+a45q1evltPpVL9+/Zqhi+P7/fffFRDgvktq1aqV6/8Mbe/vaN7qJzU1VZ999pnq6upcc1atWqVu3bqpffv2zdRN/Y6EmF27dumTTz5RdHS023qb+7vlllu0fft2t/1NfHy8pk6dqpUrV0qyu7/g4GBddNFFJ9zn+M17hldOGT7N5OTkmJCQELNw4ULzzTffmDvuuMNERka6nZXtj+68804TERFhPv30U1NSUuJafv/9d9eciRMnmsTERLN69WqzadMmk5qaalJTU13rj1xKd80115itW7eaFStWmDPOOMMvLk+uz1+vWjLG7v42btxoAgMDzZNPPml27dpl3nzzTdOmTRvzxhtvuOZkZ2ebyMhI8+6775rt27eboUOH1ns57wUXXGA2bNhgvvjiC9O1a1e/uPx63Lhx5swzz3Rdfr1kyRLToUMH88ADD7jm2Nbf/v37zZYtW8yWLVuMJDNr1iyzZcsW11U73uinoqLCxMbGmltuucXs2LHD5OTkmDZt2jTL5bsn6u/gwYPm+uuvN506dTJbt2512+f89WoVW/urz9FXLRljd39LliwxQUFB5uWXXza7du0yL7zwgmnVqpX5/PPPXdvwh30qQcZDL7zwgklMTDTBwcGmb9++Zv369b4uqUGS6l0WLFjgmvPHH3+Yu+66y7Rv3960adPGDBs2zJSUlLht58cffzSDBg0yoaGhpkOHDua+++4zdXV1zdxN4xwdZGzv7/333zc9evQwISEhpnv37ubll192W+90Os3DDz9sYmNjTUhIiBk4cKApKChwm/Prr7+aUaNGmXbt2pnw8HAzfvx4s3///uZso15VVVVm0qRJJjEx0bRu3dr87W9/Mw899JDbm55t/a1Zs6bev7lx48YZY7zXz7Zt20z//v1NSEiIOfPMM012drbP+9uzZ89x9zlr1qyxvr/61BdkbO9v/vz5pkuXLqZ169amd+/eZtmyZW7b8Id9qsOYv9w2EwAAwCKcIwMAAKxFkAEAANYiyAAAAGsRZAAAgLUIMgAAwFoEGQAAYC2CDAAAsBZBBgAAWIsgAwAArEWQAQAA1iLIAAAAaxFkAACAtf4f74AQz20Uw+MAAAAASUVORK5CYII=",
      "text/plain": [
       "<Figure size 640x480 with 1 Axes>"
      ]
     },
     "metadata": {},
     "output_type": "display_data"
    }
   ],
   "source": [
    "pd.DataFrame(tweet_ds['train']).groupby('text_length')['text_length'].count().plot.hist(bins=50)"
   ]
  },
  {
   "cell_type": "markdown",
   "metadata": {
    "collapsed": false,
    "pycharm": {
     "name": "#%% md\n"
    }
   },
   "source": [
    "<a name=\"e1\"></a>\n",
    "\n",
    "### Exercise 1: Questions about the datasets\n",
    "1. (1p) What is the size of the training, test and validation datasets?\n",
    "2. (1p) What are the top 5 most frequent emojis in the validation dataset?\n",
    "3. (1p) Compare the distributions of labels (emojis) between training and validation datasets.\n",
    "4. (1p) How many examples with the \"fire\" emoji are in the training dataset?\n",
    "5. (1p) What is the average length (in characters) of the tweets in the training dataset?"
   ]
  },
  {
   "cell_type": "markdown",
   "metadata": {
    "collapsed": false,
    "pycharm": {
     "name": "#%% md\n"
    }
   },
   "source": [
    "You can add cells here to answer the questions"
   ]
  },
  {
   "cell_type": "code",
   "execution_count": null,
   "metadata": {
    "collapsed": false,
    "pycharm": {
     "name": "#%%\n"
    }
   },
   "outputs": [
    {
     "name": "stdout",
     "output_type": "stream",
     "text": [
      "Training Dataset Size:  45000\n",
      "validation Dataset Size:  5000\n",
      "Test Dataset Size:  50000\n",
      "0    1056\n",
      "1     521\n",
      "2     504\n",
      "3     308\n",
      "4     243\n",
      "Name: label, dtype: int64\n"
     ]
    }
   ],
   "source": [
    "df_train = pd.DataFrame(tweet_ds['train'])\n",
    "df_validation = pd.DataFrame(tweet_ds['validation'])\n",
    "df_test = pd.DataFrame(tweet_ds['test'])\n",
    "\n",
    "# 1. (1p) What is the size of the training, test and validation datasets?\n",
    "print(\"Training Dataset Size: \", df_train.shape[0])\n",
    "print(\"validation Dataset Size: \", df_validation.shape[0])\n",
    "print(\"Test Dataset Size: \", df_test.shape[0])\n",
    "\n",
    "# 2. (1p) What are the top 5 most frequent emojis in the validation dataset?\n",
    "print(df_validation['label'].value_counts()[:5])"
   ]
  },
  {
   "cell_type": "code",
   "execution_count": 106,
   "metadata": {},
   "outputs": [
    {
     "data": {
      "text/plain": [
       "<AxesSubplot:title={'center':'Label Distribution: Train vs Validation'}>"
      ]
     },
     "execution_count": 106,
     "metadata": {},
     "output_type": "execute_result"
    },
    {
     "data": {
      "image/png": "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",
      "text/plain": [
       "<Figure size 1000x600 with 1 Axes>"
      ]
     },
     "metadata": {},
     "output_type": "display_data"
    }
   ],
   "source": [
    "# 3. (1p) Compare the distributions of labels (emojis) between training and validation datasets.\n",
    "train_counts = df_train['label'].value_counts(normalize=True).sort_index()\n",
    "val_counts = df_validation['label'].value_counts(normalize=True).sort_index()\n",
    "\n",
    "dist_df = pd.DataFrame({\n",
    "    'Train': train_counts,\n",
    "    'Validation': val_counts\n",
    "})\n",
    "\n",
    "dist_df.plot.bar(title='Label Distribution: Train vs Validation', figsize=(10, 6))"
   ]
  },
  {
   "cell_type": "code",
   "execution_count": 105,
   "metadata": {},
   "outputs": [
    {
     "name": "stdout",
     "output_type": "stream",
     "text": [
      "2146\n"
     ]
    }
   ],
   "source": [
    "# 4. (1p) How many examples with the \"fire\" emoji are in the training dataset?\n",
    "print(df_train[df_train[\"label\"]==4].shape[0])"
   ]
  },
  {
   "cell_type": "code",
   "execution_count": null,
   "metadata": {},
   "outputs": [
    {
     "data": {
      "text/plain": [
       "71.01691111111111"
      ]
     },
     "execution_count": 110,
     "metadata": {},
     "output_type": "execute_result"
    }
   ],
   "source": [
    "# 5. (1p) What is the average length (in characters) of the tweets in the training dataset?\n",
    "print(df_train[\"text_length\"].mean())"
   ]
  },
  {
   "cell_type": "markdown",
   "metadata": {
    "collapsed": false,
    "pycharm": {
     "name": "#%% md\n"
    }
   },
   "source": [
    "## 2. Tokenization\n",
    "\n",
    "In this section we will preprocess the dataset by cleaning and tokenizing the entries.\n",
    "Datasets library contains a very useful method map. It expects a function that will receive an example from the dataset. This function will be applied to all entries."
   ]
  },
  {
   "cell_type": "markdown",
   "metadata": {
    "collapsed": false,
    "pycharm": {
     "name": "#%% md\n"
    }
   },
   "source": [
    "### 2.1 Cleaning the text"
   ]
  },
  {
   "cell_type": "markdown",
   "metadata": {
    "collapsed": false,
    "pycharm": {
     "name": "#%% md\n"
    }
   },
   "source": [
    "<a name=\"e2\"></a>\n",
    "### Exercise 2: Write the text cleaning function\n",
    "\n",
    "Include at least the following steps:\n",
    "- (1p) remove comma between numbers, i.e. 15,000 -> 15000\n",
    "- (1p) remove multiple spaces\n",
    "- (1p) space out the punctuation (i.e. \"hello, world.\" -> \"hello , world .\")\n",
    "- (3x1p) three more cleaning steps of your choice"
   ]
  },
  {
   "cell_type": "code",
<<<<<<< HEAD:lab1_empty.ipynb
   "execution_count": 98,
=======
   "execution_count": 208,
>>>>>>> 84188b3be75f8b0525fd2024fdc9b3ecd8bdb550:lab_1/lab1_empty.ipynb
   "metadata": {
    "collapsed": false,
    "pycharm": {
     "name": "#%%\n"
    }
   },
   "outputs": [],
   "source": [
    "def clean(example):\n",
    "    \"\"\"\n",
    "    Cleans the example from the Dataset\n",
    "    Args:\n",
    "        example: an example from the Dataset\n",
    "\n",
    "    Returns: update example containing 'clean' column\n",
    "\n",
    "    \"\"\"\n",
    "    text = example['text']\n",
    "\n",
    "    # Empty text\n",
    "    if text == '':\n",
    "        example['clean'] = ''\n",
    "        return example\n",
    "\n",
    "    # 'text' from the example can be of type numpy.str_, let's convert it to a python str\n",
    "    text = str(text)\n",
    "\n",
    "    ### YOUR CODE HERE\n",
    "\n",
    "    # remove comma between numbers\n",
    "    patterncomma = r'(?<=\\d),(?=\\d)'\n",
    "    text = re.sub(patterncomma, '', text)\n",
    "\n",
    "    # remove multiple spaces\n",
<<<<<<< HEAD:lab1_empty.ipynb
    "    patternspaces = r'\\s{2,}'\n",
    "    text = re.sub(patternspaces, ' ', text)\n",
=======
    "    text = re.sub(r'[\\u200d\\u200c\\u2764\\ufe0f]+', ' ', text)    \n",
    "    pattern = r\"\\s{2,}\"\n",
    "    text = re.sub(pattern, ' ', text)\n",
>>>>>>> 84188b3be75f8b0525fd2024fdc9b3ecd8bdb550:lab_1/lab1_empty.ipynb
    "\n",
    "    # space out the punctuation\n",
    "    # text = re.sub(r'([^\\w\\s])', r' \\1 ', text)\n",
    "    # text = re.sub(r'\\s{2,}', ' ', text) \n",
    "\n",
    "    # three more cleaning steps of your choice\n",
    "\n",
    "    ### YOUR CODE ENDS HERE\n",
    "\n",
    "    # Update the example with the cleaned text\n",
    "    example['clean'] = text.strip()\n",
    "    return example"
   ]
  },
  {
   "cell_type": "markdown",
   "metadata": {
    "collapsed": false,
    "pycharm": {
     "name": "#%% md\n"
    }
   },
   "source": [
    "This is an example of applying the ```clean()``` function you just wrote to a single entry of the dataset. The function added a 'clean' field to the example."
   ]
  },
  {
   "cell_type": "code",
<<<<<<< HEAD:lab1_empty.ipynb
   "execution_count": null,
=======
   "execution_count": 210,
>>>>>>> 84188b3be75f8b0525fd2024fdc9b3ecd8bdb550:lab_1/lab1_empty.ipynb
   "metadata": {
    "collapsed": false,
    "pycharm": {
     "name": "#%%\n"
    }
   },
   "outputs": [
    {
     "name": "stdout",
     "output_type": "stream",
     "text": [
      "Original tweet item:\n",
<<<<<<< HEAD:lab1_empty.ipynb
      "['Sunday afternoon walking through Venice in the sun with @user ️ ️ ️ @ Abbot Kinney, Venice', \"Time for some BBQ and whiskey libations. Chomp, belch, chomp! (@ Lucille's Smokehouse Bar-B-Que)\", 'Love love love all these people ️ ️ ️ #friends #bff #celebrate #blessed #sundayfunday @ San…', '️ ️ ️ ️ @ Toys\"R\"Us', 'Man these are the funniest kids ever!! That face! #HappyBirthdayBubb @ FLIPnOUT Xtreme', '#sandiego @ San Diego, California', 'My little ️ ️ ️ ️ ️ #ObsessedWithMyDog @ Cafe Solstice Capitol Hill', 'More #tinyepic things #tinyepicwestern, this one is crazy @user I may be one of your…', 'Last night ️ @ Omnia Night Club At Caesars Palace', 'friendship at its finest. ....#pixar #toystory #buzz #woody #friends #friendship #bff…']\n",
      "Cleaned tweet item:\n",
      "Cleaned tweet item:\n",
      "['Sunday afternoon walking through Venice in the sun with @user ️ ️ ️ @ Abbot Kinney, Venice', \"Time for some BBQ and whiskey libations. Chomp, belch, chomp! (@ Lucille's Smokehouse Bar-B-Que)\", 'Love love love all these people ️ ️ ️ #friends #bff #celebrate #blessed #sundayfunday @ San…', '️ ️ ️ ️ @ Toys\"R\"Us', 'Man these are the funniest kids ever!! That face! #HappyBirthdayBubb @ FLIPnOUT Xtreme', '#sandiego @ San Diego, California', 'My little ️ ️ ️ ️ ️ #ObsessedWithMyDog @ Cafe Solstice Capitol Hill', 'More #tinyepic things #tinyepicwestern, this one is crazy @user I may be one of your…', 'Last night ️ @ Omnia Night Club At Caesars Palace', 'friendship at its finest. ....#pixar #toystory #buzz #woody #friends #friendship #bff…']\n"
=======
      "[\"Time for some BBQ and whiskey libations. Chomp, belch, chomp! (@ Lucille's Smokehouse Bar-B-Que)\", 'Love love love all these people ️ ️ ️ #friends #bff #celebrate #blessed #sundayfunday @ San…', '️ ️ ️ ️ @ Toys\"R\"Us', 'Man these are the funniest kids ever!! That face! #HappyBirthdayBubb @ FLIPnOUT Xtreme', '#sandiego @ San Diego, California', 'My little ️ ️ ️ ️ ️ #ObsessedWithMyDog @ Cafe Solstice Capitol Hill', 'More #tinyepic things #tinyepicwestern, this one is crazy @user I may be one of your…', 'Last night ️ @ Omnia Night Club At Caesars Palace', 'friendship at its finest. ....#pixar #toystory #buzz #woody #friends #friendship #bff…']\n",
      "Cleaned tweet item:\n",
      "[\"Time for some BBQ and whiskey libations. Chomp, belch, chomp! (@ Lucille's Smokehouse Bar-B-Que)\", 'Love love love all these people #friends #bff #celebrate #blessed #sundayfunday @ San…', ' @ Toys\"R\"Us', 'Man these are the funniest kids ever!! That face! #HappyBirthdayBubb @ FLIPnOUT Xtreme', '#sandiego @ San Diego, California', 'My little #ObsessedWithMyDog @ Cafe Solstice Capitol Hill', 'More #tinyepic things #tinyepicwestern, this one is crazy @user I may be one of your…', 'Last night @ Omnia Night Club At Caesars Palace', 'friendship at its finest. ....#pixar #toystory #buzz #woody #friends #friendship #bff…']\n"
>>>>>>> 84188b3be75f8b0525fd2024fdc9b3ecd8bdb550:lab_1/lab1_empty.ipynb
     ]
    }
   ],
   "source": [
    "print('Original tweet item:')\n",
<<<<<<< HEAD:lab1_empty.ipynb
    "print(tweet_ds['train'][:10]['text'])\n",
    "cleaned_examples = [clean({'text': text})['clean'] for text in tweet_ds['train'][:10]['text']]\n",
    "print('Cleaned tweet item:')\n",
    "print(cleaned_examples)"
=======
    "print(tweet_ds['train'][1:10]['text'])\n",
    "print('Cleaned tweet item:')\n",
    "print(clean(tweet_ds['train'][1:10])['clean'])"
>>>>>>> 84188b3be75f8b0525fd2024fdc9b3ecd8bdb550:lab_1/lab1_empty.ipynb
   ]
  },
  {
   "cell_type": "markdown",
   "metadata": {
    "collapsed": false,
    "pycharm": {
     "name": "#%% md\n"
    }
   },
   "source": [
    "Let's finally use the ```map()``` method and apply your `clean()` function to all entries of the dataset. You can see that the ```clean``` column has been added to each split."
   ]
  },
  {
   "cell_type": "markdown",
   "metadata": {
    "collapsed": false,
    "pycharm": {
     "name": "#%% md\n"
    }
   },
   "source": [
    "Below, we will apply your function to all entries in the dataset."
   ]
  },
  {
   "cell_type": "code",
   "execution_count": 89,
   "metadata": {
    "collapsed": false,
    "pycharm": {
     "name": "#%%\n"
    }
   },
   "outputs": [
    {
     "data": {
      "application/vnd.jupyter.widget-view+json": {
       "model_id": "998ee413eb634dc89d7620cde4b67666",
       "version_major": 2,
       "version_minor": 0
      },
      "text/plain": [
       "Map:   0%|          | 0/45000 [00:00<?, ? examples/s]"
      ]
     },
     "metadata": {},
     "output_type": "display_data"
    },
    {
     "data": {
      "application/vnd.jupyter.widget-view+json": {
       "model_id": "771f846cee8841e58c25c6657e928e6b",
       "version_major": 2,
       "version_minor": 0
      },
      "text/plain": [
       "Map:   0%|          | 0/50000 [00:00<?, ? examples/s]"
      ]
     },
     "metadata": {},
     "output_type": "display_data"
    },
    {
     "data": {
      "application/vnd.jupyter.widget-view+json": {
       "model_id": "de6f7c4a95fc417b892fc822045ceb69",
       "version_major": 2,
       "version_minor": 0
      },
      "text/plain": [
       "Map:   0%|          | 0/5000 [00:00<?, ? examples/s]"
      ]
     },
     "metadata": {},
     "output_type": "display_data"
    },
    {
     "name": "stdout",
     "output_type": "stream",
     "text": [
      "DatasetDict({\n",
      "    train: Dataset({\n",
      "        features: ['text', 'label', 'text_length', 'clean'],\n",
      "        num_rows: 45000\n",
      "    })\n",
      "    test: Dataset({\n",
      "        features: ['text', 'label', 'text_length', 'clean'],\n",
      "        num_rows: 50000\n",
      "    })\n",
      "    validation: Dataset({\n",
      "        features: ['text', 'label', 'text_length', 'clean'],\n",
      "        num_rows: 5000\n",
      "    })\n",
      "})\n"
     ]
    }
   ],
   "source": [
    "tweet_ds = tweet_ds.map(clean)\n",
    "print(tweet_ds)"
   ]
  },
  {
   "cell_type": "markdown",
   "metadata": {
    "collapsed": false,
    "pycharm": {
     "name": "#%% md\n"
    }
   },
   "source": [
    "### 2.2 Build vocabulary\n",
    "\n",
    "In the previous section, we implemented the cleaning of the dataset. Now, we will tokenize the text splitting it by spaces. We will build a vocabulary based on the cleaned text of the `train` split. We will investigate some properties of corpora (e.g. Zipf's law).\n",
    "\n",
    "The function below builds a vocabulary from the dataset. It counts the occurrences of the words in the dataset using the Counter class. Check the documentation here [collections.Counter](https://docs.python.org/3/library/collections.html#collections.Counter)."
   ]
  },
  {
   "cell_type": "markdown",
   "metadata": {
    "collapsed": false,
    "pycharm": {
     "name": "#%% md\n"
    }
   },
   "source": [
    "### Exercise 3: Build the vocabulary\n",
    "(5p) Fill in the function below to build the vocabulary from the dataset. The function should return a `Counter` object with the words and their frequencies. The variable named `vocab` is already initialized as an empty `Counter` object."
   ]
  },
  {
   "cell_type": "code",
   "execution_count": 90,
   "metadata": {
    "collapsed": false,
    "pycharm": {
     "name": "#%%\n"
    }
   },
   "outputs": [],
   "source": [
    "def build_vocab_counter(dataset):\n",
    "    \"\"\"\n",
    "    Builds a vocabulary from the dataset\n",
    "    Args:\n",
    "        dataset: a dataset\n",
    "\n",
    "    Returns: a vocabulary\n",
    "\n",
    "    \"\"\"\n",
    "    vocab = Counter()\n",
    "\n",
    "    ### YOUR CODE HERE\n",
    "\n",
    "\n",
    "\n",
    "\n",
    "    ### YOUR CODE ENDS HERE\n",
    "    return vocab"
   ]
  },
  {
   "cell_type": "code",
   "execution_count": 91,
   "metadata": {
    "collapsed": false,
    "pycharm": {
     "name": "#%%\n"
    }
   },
   "outputs": [
    {
     "name": "stdout",
     "output_type": "stream",
     "text": [
      "Size of the vocabulary: 0\n"
     ]
    }
   ],
   "source": [
    "vocab_counter = build_vocab_counter(tweet_ds['train'])\n",
    "print('Size of the vocabulary:', len(vocab_counter))"
   ]
  },
  {
   "cell_type": "markdown",
   "metadata": {
    "collapsed": false,
    "pycharm": {
     "name": "#%% md\n"
    }
   },
   "source": [
    "Because we created a counter, we can easily check the most and least common words in the vocabulary. Do the most common words make sense? How about the least common ones?"
   ]
  },
  {
   "cell_type": "code",
   "execution_count": 92,
   "metadata": {
    "collapsed": false,
    "pycharm": {
     "name": "#%%\n"
    }
   },
   "outputs": [
    {
     "name": "stdout",
     "output_type": "stream",
     "text": [
      "Most common:\n",
      "[]\n",
      "Least common:\n",
      "[]\n"
     ]
    }
   ],
   "source": [
    "print('Most common:')\n",
    "print(vocab_counter.most_common(10))\n",
    "print('Least common:')\n",
    "print(vocab_counter.most_common()[-10:])"
   ]
  },
  {
   "cell_type": "markdown",
   "metadata": {
    "collapsed": false,
    "pycharm": {
     "name": "#%% md\n"
    }
   },
   "source": [
    "We can also plot the counts of the words. You can check the [Power law](https://en.wikipedia.org/wiki/Power_law) if you are more interested."
   ]
  },
  {
   "cell_type": "code",
   "execution_count": 93,
   "metadata": {
    "collapsed": false,
    "pycharm": {
     "name": "#%%\n"
    }
   },
   "outputs": [
    {
     "data": {
      "text/plain": [
       "Text(0, 0.5, 'count')"
      ]
     },
     "execution_count": 93,
     "metadata": {},
     "output_type": "execute_result"
    },
    {
     "data": {
      "image/png": "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",
      "text/plain": [
       "<Figure size 640x480 with 1 Axes>"
      ]
     },
     "metadata": {},
     "output_type": "display_data"
    }
   ],
   "source": [
    "import matplotlib.pyplot as plt\n",
    "\n",
    "plt.loglog([val for word, val in vocab_counter.most_common()])\n",
    "plt.xlabel('rank')\n",
    "plt.ylabel('count')"
   ]
  },
  {
   "cell_type": "markdown",
   "metadata": {
    "collapsed": false,
    "pycharm": {
     "name": "#%% md\n"
    }
   },
   "source": [
    "The plot shows that the distribution of the words in the vocabulary follows the Zipf's law. The most frequent word occurs approximately twice as often as the second most frequent word, three times as often as the third most frequent word, etc.\n",
    "\n",
    "We can also filter the vocabulary by the frequency of the words. We will only consider the most frequent words and mark the rest as the `<unk>` token. Here we set the maximum vocabulary size to 10,000. But in the later steps, you will experiment with different sizes."
   ]
  },
  {
   "cell_type": "code",
   "execution_count": 94,
   "metadata": {
    "collapsed": false,
    "pycharm": {
     "name": "#%%\n"
    }
   },
   "outputs": [
    {
     "name": "stdout",
     "output_type": "stream",
     "text": [
      "0\n"
     ]
    }
   ],
   "source": [
    "max_vocab_size = 10000\n",
    "vocab = vocab_counter.most_common(max_vocab_size)\n",
    "# cast to list of words\n",
    "vocab = [word for word, _ in vocab]\n",
    "print(len(vocab))"
   ]
  },
  {
   "cell_type": "markdown",
   "metadata": {
    "collapsed": false,
    "pycharm": {
     "name": "#%% md\n"
    }
   },
   "source": [
    "### Exercise 4: Frequency of pairs of words (bigrams)\n",
    "Calculate the frequency of (neighbouring) pairs of words in the training dataset.\n",
    "- (5p) List the most and least common pairs. Do the most common pairs make sense?\n",
    "- (2p) How many pairs occur only once in the dataset?\n",
    "- (5p) Plot the distribution of the pair frequencies."
   ]
  },
  {
   "cell_type": "markdown",
   "metadata": {
    "collapsed": false,
    "pycharm": {
     "name": "#%% md\n"
    }
   },
   "source": [
    "### 2.3 Tokenize the dataset\n",
    "The function below tokenizes the cleaned text (```example['clean']```) by splitting it on spaces. It replaces the words that are not in the vocabulary with the `<unk>` token."
   ]
  },
  {
   "cell_type": "markdown",
   "metadata": {
    "collapsed": false,
    "pycharm": {
     "name": "#%% md\n"
    }
   },
   "source": [
    "### Exercise 5: Tokenize the dataset\n",
    "\n",
    "(5p) Fill in the function below to tokenize the dataset. The function will be applied to the dataset through the `map()` method, so it returns the updated example. Your task is to split the text by spaces and replace the words that are not in the vocabulary with the `<unk>` token."
   ]
  },
  {
   "cell_type": "code",
   "execution_count": 95,
   "metadata": {
    "collapsed": false,
    "pycharm": {
     "name": "#%%\n"
    }
   },
   "outputs": [],
   "source": [
    "def tokenize(example, vocab, unknown_token='<unk>'):\n",
    "    \"\"\"\n",
    "    Tokenizes the example from the Dataset\n",
    "    Args:\n",
    "        example: an example from the Dataset\n",
    "        vocab: a vocabulary as a list of words\n",
    "        unknown_token: a token to replace the words that are not in the vocabulary\n",
    "    Returns: update example containing 'tokens' column\n",
    "\n",
    "    \"\"\"\n",
    "    text = example['clean']\n",
    "    tokens = None # list of tokens, your code should fill this variable\n",
    "\n",
    "    ### YOUR CODE HERE\n",
    "\n",
    "\n",
    "\n",
    "\n",
    "    ### YOUR CODE ENDS HERE\n",
    "\n",
    "    example['tokens'] = tokens\n",
    "    return example"
   ]
  },
  {
   "cell_type": "code",
   "execution_count": 96,
   "metadata": {
    "collapsed": false,
    "pycharm": {
     "name": "#%%\n"
    }
   },
   "outputs": [
    {
     "data": {
      "application/vnd.jupyter.widget-view+json": {
       "model_id": "7fed322235bf469a8ae6b0379361706c",
       "version_major": 2,
       "version_minor": 0
      },
      "text/plain": [
       "Map:   0%|          | 0/45000 [00:00<?, ? examples/s]"
      ]
     },
     "metadata": {},
     "output_type": "display_data"
    },
    {
     "data": {
      "application/vnd.jupyter.widget-view+json": {
       "model_id": "187b6d95f961435694717a2908376047",
       "version_major": 2,
       "version_minor": 0
      },
      "text/plain": [
       "Map:   0%|          | 0/50000 [00:00<?, ? examples/s]"
      ]
     },
     "metadata": {},
     "output_type": "display_data"
    },
    {
     "data": {
      "application/vnd.jupyter.widget-view+json": {
       "model_id": "a0a42d6e716345688339866426f2842b",
       "version_major": 2,
       "version_minor": 0
      },
      "text/plain": [
       "Map:   0%|          | 0/5000 [00:00<?, ? examples/s]"
      ]
     },
     "metadata": {},
     "output_type": "display_data"
    },
    {
     "name": "stdout",
     "output_type": "stream",
     "text": [
      "DatasetDict({\n",
      "    train: Dataset({\n",
      "        features: ['text', 'label', 'text_length', 'clean', 'tokens'],\n",
      "        num_rows: 45000\n",
      "    })\n",
      "    test: Dataset({\n",
      "        features: ['text', 'label', 'text_length', 'clean', 'tokens'],\n",
      "        num_rows: 50000\n",
      "    })\n",
      "    validation: Dataset({\n",
      "        features: ['text', 'label', 'text_length', 'clean', 'tokens'],\n",
      "        num_rows: 5000\n",
      "    })\n",
      "})\n"
     ]
    }
   ],
   "source": [
    "tweet_ds = tweet_ds.map(tokenize, fn_kwargs={'vocab': vocab})\n",
    "print(tweet_ds)"
   ]
  },
  {
   "cell_type": "markdown",
   "metadata": {
    "collapsed": false,
    "pycharm": {
     "name": "#%% md\n"
    }
   },
   "source": [
    "Let us examine several entries from the dataset. We can see that the `tokens` column has been added to each example."
   ]
  },
  {
   "cell_type": "code",
   "execution_count": 97,
   "metadata": {
    "collapsed": false,
    "pycharm": {
     "name": "#%%\n"
    }
   },
   "outputs": [
    {
     "name": "stdout",
     "output_type": "stream",
     "text": [
      "Original tweet:\n",
      "Sunday afternoon walking through Venice in the sun with @user ️ ️ ️ @ Abbot Kinney, Venice\n",
      "Tokenized tweet:\n",
      "None\n",
      "Original tweet:\n",
      "Time for some BBQ and whiskey libations. Chomp, belch, chomp! (@ Lucille's Smokehouse Bar-B-Que)\n",
      "Tokenized tweet:\n",
      "None\n",
      "Original tweet:\n",
      "Love love love all these people ️ ️ ️ #friends #bff #celebrate #blessed #sundayfunday @ San…\n",
      "Tokenized tweet:\n",
      "None\n",
      "Original tweet:\n",
      "️ ️ ️ ️ @ Toys\"R\"Us\n",
      "Tokenized tweet:\n",
      "None\n",
      "Original tweet:\n",
      "Man these are the funniest kids ever!! That face! #HappyBirthdayBubb @ FLIPnOUT Xtreme\n",
      "Tokenized tweet:\n",
      "None\n",
      "Original tweet:\n",
      "#sandiego @ San Diego, California\n",
      "Tokenized tweet:\n",
      "None\n",
      "Original tweet:\n",
      "My little ️ ️ ️ ️ ️ #ObsessedWithMyDog @ Cafe Solstice Capitol Hill\n",
      "Tokenized tweet:\n",
      "None\n",
      "Original tweet:\n",
      "More #tinyepic things #tinyepicwestern, this one is crazy @user I may be one of your…\n",
      "Tokenized tweet:\n",
      "None\n",
      "Original tweet:\n",
      "Last night ️ @ Omnia Night Club At Caesars Palace\n",
      "Tokenized tweet:\n",
      "None\n",
      "Original tweet:\n",
      "friendship at its finest. ....#pixar #toystory #buzz #woody #friends #friendship #bff…\n",
      "Tokenized tweet:\n",
      "None\n"
     ]
    }
   ],
   "source": [
    "for i in range(10):\n",
    "    print('Original tweet:')\n",
    "    print(tweet_ds['train'][i]['text'])\n",
    "    print('Tokenized tweet:')\n",
    "    print(tweet_ds['train'][i]['tokens'])"
   ]
  },
  {
   "cell_type": "markdown",
   "metadata": {
    "collapsed": false,
    "pycharm": {
     "name": "#%% md\n"
    }
   },
   "source": [
    "Make sure that the tokenization works as you intended. If not, revisit the cleaning and tokenization functions."
   ]
  },
  {
   "cell_type": "markdown",
   "metadata": {
    "collapsed": false,
    "pycharm": {
     "name": "#%% md\n"
    }
   },
   "source": [
    "### Exercise 6: Questions about the tokenization\n",
    "1. (3p) How many unknown tokens are in the validation dataset after tokenization?\n",
    "2. (3p) What is the distribution of the number of tokens in the training dataset?\n",
    "3. (4p) How the number of tokens corresponds to the number of characters in our dataset?\n",
    "4. (4p) How the size of the vocabulary (```max_vocab_size```) affects the number of unknown tokens?\n",
    "5. (4p) How does the size of the vocabulary affect the number of tokens in the dataset?\n",
    "6. (4p) Think about the advantages and disadvantages of the tokenization method we used. What are the cases when it will not work well?\n",
    "\n",
    "For answering these questions make sure to include a proper mix of numbers/plots/tables etc. and comments."
   ]
  },
  {
   "cell_type": "markdown",
   "metadata": {
    "collapsed": false,
    "pycharm": {
     "name": "#%% md\n"
    }
   },
   "source": [
    "## 3. Byte Pair Encoding\n",
    "\n",
    "In this section, you will build the Byte Pair Encoding (BPE) tokenizer. BPE is an algorithm that replaces the most frequent pair of tokens (initially characters) with a new token. The algorithm is configured by the number of merges that are performed. You can find the paper here [Neural Machine Translation of Rare Words with Subword Units](https://arxiv.org/abs/1508.07909)."
   ]
  },
  {
   "cell_type": "markdown",
   "metadata": {
    "collapsed": false,
    "pycharm": {
     "name": "#%% md\n"
    }
   },
   "source": [
    "### 3.1 Finding the initial set of characters\n",
    "BPE algorithm starts with the set of characters that occur in the dataset. We will build a character counter from the dataset."
   ]
  },
  {
   "cell_type": "markdown",
   "metadata": {
    "collapsed": false,
    "pycharm": {
     "name": "#%% md\n"
    }
   },
   "source": [
    "### Exercise 7: Counting the characters\n",
    "\n",
    "(5p) In this exercise, we build a counter with the frequencies of all characters in the dataset. Iterate over the dataset and count the characters in the `clean` column. The function returns a `Counter` object with the characters and their frequencies."
   ]
  },
  {
   "cell_type": "code",
   "execution_count": 98,
   "metadata": {
    "collapsed": false,
    "pycharm": {
     "name": "#%%\n"
    }
   },
   "outputs": [],
   "source": [
    "def build_character_counter(dataset):\n",
    "    \"\"\"\n",
    "    Builds a character counter from the dataset\n",
    "    Args:\n",
    "        dataset: a dataset\n",
    "\n",
    "    Returns: a character counter\n",
    "\n",
    "    \"\"\"\n",
    "    char_counter = Counter()\n",
    "\n",
    "    ### YOUR CODE HERE\n",
    "\n",
    "\n",
    "\n",
    "    ### YOUR CODE ENDS HERE\n",
    "\n",
    "    return char_counter"
   ]
  },
  {
   "cell_type": "markdown",
   "metadata": {
    "collapsed": false,
    "pycharm": {
     "name": "#%% md\n"
    }
   },
   "source": [
    "The next cell applies the function to the training dataset and prints the size of the vocabulary and the most common characters."
   ]
  },
  {
   "cell_type": "code",
   "execution_count": 99,
   "metadata": {
    "collapsed": false,
    "pycharm": {
     "name": "#%%\n"
    }
   },
   "outputs": [
    {
     "name": "stdout",
     "output_type": "stream",
     "text": [
      "0\n",
      "[]\n"
     ]
    }
   ],
   "source": [
    "char_counter = build_character_counter(tweet_ds['train'])\n",
    "print(len(char_counter))\n",
    "print(char_counter.most_common(100))"
   ]
  },
  {
   "cell_type": "markdown",
   "metadata": {
    "collapsed": false,
    "pycharm": {
     "name": "#%% md\n"
    }
   },
   "source": []
  },
  {
   "cell_type": "markdown",
   "metadata": {
    "collapsed": false,
    "pycharm": {
     "name": "#%% md\n"
    }
   },
   "source": [
    "We will filter the characters that occur less than 10 times in the dataset. We will also replace the space character with the `__` token. This is necessary because we want to preserve the spaces between the words in the tokenization process."
   ]
  },
  {
   "cell_type": "code",
   "execution_count": 100,
   "metadata": {
    "collapsed": false,
    "pycharm": {
     "name": "#%%\n"
    }
   },
   "outputs": [
    {
     "ename": "ValueError",
     "evalue": "' ' is not in list",
     "output_type": "error",
     "traceback": [
      "\u001b[1;31m---------------------------------------------------------------------------\u001b[0m",
      "\u001b[1;31mValueError\u001b[0m                                Traceback (most recent call last)",
      "Cell \u001b[1;32mIn[100], line 2\u001b[0m\n\u001b[0;32m      1\u001b[0m bpe_init_vocab \u001b[38;5;241m=\u001b[39m \u001b[38;5;28msorted\u001b[39m([char \u001b[38;5;28;01mfor\u001b[39;00m char, _ \u001b[38;5;129;01min\u001b[39;00m char_counter\u001b[38;5;241m.\u001b[39mmost_common() \u001b[38;5;28;01mif\u001b[39;00m char_counter[char] \u001b[38;5;241m>\u001b[39m\u001b[38;5;241m=\u001b[39m \u001b[38;5;241m10\u001b[39m])\n\u001b[1;32m----> 2\u001b[0m bpe_init_vocab[\u001b[43mbpe_init_vocab\u001b[49m\u001b[38;5;241;43m.\u001b[39;49m\u001b[43mindex\u001b[49m\u001b[43m(\u001b[49m\u001b[38;5;124;43m'\u001b[39;49m\u001b[38;5;124;43m \u001b[39;49m\u001b[38;5;124;43m'\u001b[39;49m\u001b[43m)\u001b[49m] \u001b[38;5;241m=\u001b[39m \u001b[38;5;124m'\u001b[39m\u001b[38;5;124m__\u001b[39m\u001b[38;5;124m'\u001b[39m\n\u001b[0;32m      3\u001b[0m \u001b[38;5;28mprint\u001b[39m(bpe_init_vocab)\n",
      "\u001b[1;31mValueError\u001b[0m: ' ' is not in list"
     ]
    }
   ],
   "source": [
    "bpe_init_vocab = sorted([char for char, _ in char_counter.most_common() if char_counter[char] >= 10])\n",
    "bpe_init_vocab[bpe_init_vocab.index(' ')] = '__'\n",
    "print(bpe_init_vocab)"
   ]
  },
  {
   "cell_type": "markdown",
   "metadata": {
    "collapsed": false,
    "pycharm": {
     "name": "#%% md\n"
    }
   },
   "source": []
  },
  {
   "cell_type": "markdown",
   "metadata": {
    "collapsed": false,
    "pycharm": {
     "name": "#%% md\n"
    }
   },
   "source": [
    "### 3.2 Training the BPE tokenizer\n",
    "\n",
    "In this section, we will implement the BPE algorithm. We will start by initializing the BPE corpus. The corpus is a list of words from the dataset with their frequency. This makes it easier to find the most frequent pairs of neighbouring tokens (or characters in the beginning). Each word is split into characters and the space (the ```__``` token) is added at the end of each word."
   ]
  },
  {
   "cell_type": "code",
   "execution_count": null,
   "metadata": {
    "collapsed": false,
    "pycharm": {
     "name": "#%%\n"
    }
   },
   "outputs": [],
   "source": [
    "def init_bpe_corpus(dataset):\n",
    "    \"\"\"\n",
    "    Initializes the BPE corpus\n",
    "    Args:\n",
    "        dataset: a dataset\n",
    "\n",
    "    Returns: a BPE corpus\n",
    "\n",
    "    \"\"\"\n",
    "\n",
    "    corpus = Counter()\n",
    "    for example in dataset:\n",
    "        words = example['clean'].split()\n",
    "        words = [' '.join(list(word)) + ' __' for word in words]\n",
    "        corpus.update(words)\n",
    "    return corpus"
   ]
  },
  {
   "cell_type": "code",
   "execution_count": null,
   "metadata": {
    "collapsed": false,
    "pycharm": {
     "name": "#%%\n"
    }
   },
   "outputs": [],
   "source": [
    "bpe_corpus = init_bpe_corpus(tweet_ds['train'])\n",
    "print(len(bpe_corpus))"
   ]
  },
  {
   "cell_type": "markdown",
   "metadata": {
    "collapsed": false,
    "pycharm": {
     "name": "#%% md\n"
    }
   },
   "source": [
    "We can check the most common words in the corpus along with their frequencies."
   ]
  },
  {
   "cell_type": "code",
   "execution_count": null,
   "metadata": {
    "collapsed": false,
    "pycharm": {
     "name": "#%%\n"
    }
   },
   "outputs": [],
   "source": [
    "bpe_corpus.most_common(30)"
   ]
  },
  {
   "cell_type": "markdown",
   "metadata": {
    "collapsed": false,
    "pycharm": {
     "name": "#%% md\n"
    }
   },
   "source": [
    "Our BPE implementation will consist of the following steps:\n",
    "1. Calculate the frequency statistics of adjacent symbol pairs in the corpus.\n",
    "2. Find the most frequent pair.\n",
    "3. Merge the most frequent pair.\n",
    "4. Repeat until the specified number of merges is reached.\n",
    "\n",
    "The following function calculates the frequency statistics of adjacent symbol pairs in the corpus."
   ]
  },
  {
   "cell_type": "markdown",
   "metadata": {
    "collapsed": false,
    "pycharm": {
     "name": "#%% md\n"
    }
   },
   "source": [
    "### Exercise 8: Calculate the frequency statistics of adjacent symbol pairs\n",
    "(5p) Fill in the function below to calculate the frequency statistics of adjacent symbol pairs in the corpus. The function returns a Counter object with the counts of adjacent token pairs. The pairs are represented as tuples of two tokens (e.g., `('cali', 'for')`)."
   ]
  },
  {
   "cell_type": "code",
   "execution_count": null,
   "metadata": {
    "collapsed": false,
    "pycharm": {
     "name": "#%%\n"
    }
   },
   "outputs": [],
   "source": [
    "def calculate_bpe_corpus_stats(corpus):\n",
    "    \"\"\"\n",
    "    Calculates the frequency statistics of adjacent symbol pairs in the corpus.\n",
    "    Args:\n",
    "        corpus: a BPE corpus as a Counter object with words split by space into tokens (initially characters)\n",
    "\n",
    "    Returns: a Counter object with the frequency statistics of adjacent symbol pairs\n",
    "    \"\"\"\n",
    "    stats = Counter()\n",
    "\n",
    "    for word, freq in corpus.items():\n",
    "\n",
    "        ### YOUR CODE HERE\n",
    "\n",
    "\n",
    "\n",
    "\n",
    "\n",
    "        ### YOUR CODE ENDS HERE\n",
    "\n",
    "    return stats"
   ]
  },
  {
   "cell_type": "markdown",
   "metadata": {
    "collapsed": false,
    "pycharm": {
     "name": "#%% md\n"
    }
   },
   "source": [
    "We can check the most common pairs of characters in the initial corpus."
   ]
  },
  {
   "cell_type": "code",
   "execution_count": null,
   "metadata": {
    "collapsed": false,
    "pycharm": {
     "name": "#%%\n"
    }
   },
   "outputs": [],
   "source": [
    "stats = calculate_bpe_corpus_stats(bpe_corpus)\n",
    "print(stats.most_common(10))"
   ]
  },
  {
   "cell_type": "markdown",
   "metadata": {
    "collapsed": false,
    "pycharm": {
     "name": "#%% md\n"
    }
   },
   "source": [
    "Next, we will implement the function that merges the most frequent pair of symbols in the corpus. The function takes the corpus and the most frequent pair of symbols as input and returns the updated corpus."
   ]
  },
  {
   "cell_type": "code",
   "execution_count": null,
   "metadata": {
    "collapsed": false,
    "pycharm": {
     "name": "#%%\n"
    }
   },
   "outputs": [],
   "source": [
    "def merge_corpus(corpus, pair):\n",
    "    \"\"\"\n",
    "    Merges the most frequent pair of symbols in the corpus.\n",
    "    Args:\n",
    "        corpus (dict): Keys are words as space-separated symbols (e.g., \"l o w\"),\n",
    "                       and values are the frequency counts.\n",
    "        pair (tuple): A pair of symbols to merge.\n",
    "\n",
    "    Returns:\n",
    "        dict: Updated corpus after merging the pair of symbols.\n",
    "    \"\"\"\n",
    "    new_corpus = Counter()\n",
    "    bigram = \" \".join(pair)\n",
    "    replacement = \"\".join(pair)\n",
    "    for word, freq in corpus.items():\n",
    "        new_word = word.replace(bigram, replacement)\n",
    "        new_corpus[new_word] = freq\n",
    "    return new_corpus"
   ]
  },
  {
   "cell_type": "markdown",
   "metadata": {
    "collapsed": false,
    "pycharm": {
     "name": "#%% md\n"
    }
   },
   "source": [
    "The last step is to implement the BPE algorithm. The function takes the initial vocabulary, the corpus, and the number of merges as input. It returns the updated vocabulary, corpus, and the list of merges.\n",
    "Returning the list of merges is useful for the tokenization process - it makes it faster to tokenize the text. It contains the tuples of the two tokens that were merged. For example, ('to', 'day__') will merge the tokens 'to' and 'day__' into the 'today__' token."
   ]
  },
  {
   "cell_type": "markdown",
   "metadata": {
    "collapsed": false,
    "pycharm": {
     "name": "#%% md\n"
    }
   },
   "source": [
    "### Exercise 9: BPE algorithm\n",
    "\n",
    "(10p) Implement the BPE algorithm in the following function. The function should return the updated vocabulary, corpus, and the list of merges. The function should perform the specified number of merges. The vocabulary is a list of tokens, the corpus is a Counter object with the words split by space into tokens, and the merges is a list of tuples with the merged tokens.\n",
    "\n",
    "You should use the functions you implemented earlier in this section (```calculate_bpe_corpus_stats()```, ```merge_corpus()```)."
   ]
  },
  {
   "cell_type": "code",
   "execution_count": null,
   "metadata": {
    "collapsed": false,
    "pycharm": {
     "name": "#%%\n"
    }
   },
   "outputs": [],
   "source": [
    "def bpe(vocab, corpus, num_merges):\n",
    "    \"\"\"\n",
    "    Applies the BPE algorithm to the corpus. Merges the most frequent adjacent symbol pairs. The function performs the specified number of merges.\n",
    "\n",
    "    Args:\n",
    "        vocab (list): A list of tokens representing the BPE vocabulary.\n",
    "        corpus (Counter): A Counter object with words split by space into tokens.\n",
    "        num_merges (int): The number of merges to perform.\n",
    "\n",
    "    Returns:\n",
    "        list: Updated vocabulary.\n",
    "        Counter: Updated corpus.\n",
    "        list: List of merges.\n",
    "    \"\"\"\n",
    "    vocab = vocab.copy()\n",
    "    corpus = corpus.copy()\n",
    "    merges = []\n",
    "\n",
    "    for i in tqdm.tqdm(range(num_merges)):\n",
    "        ### YOUR CODE HERE\n",
    "\n",
    "\n",
    "\n",
    "\n",
    "\n",
    "        ### YOUR CODE ENDS HERE\n",
    "    return vocab, corpus, merges"
   ]
  },
  {
   "cell_type": "markdown",
   "metadata": {
    "collapsed": false,
    "pycharm": {
     "name": "#%% md\n"
    }
   },
   "source": [
    "The following cell applies the BPE algorithm to the initial vocabulary and corpus. We will perform 100 merges at first, but you will experiment with different numbers."
   ]
  },
  {
   "cell_type": "code",
   "execution_count": null,
   "metadata": {
    "collapsed": false,
    "pycharm": {
     "name": "#%%\n"
    }
   },
   "outputs": [],
   "source": [
    "bpe_vocab, updated_bpe_corpus, bpe_merges = bpe(bpe_init_vocab, bpe_corpus, num_merges=100)"
   ]
  },
  {
   "cell_type": "markdown",
   "metadata": {
    "collapsed": false,
    "pycharm": {
     "name": "#%% md\n"
    }
   },
   "source": [
    "We can check the size of the BPE vocabulary and the most common tokens."
   ]
  },
  {
   "cell_type": "code",
   "execution_count": null,
   "metadata": {
    "collapsed": false,
    "pycharm": {
     "name": "#%%\n"
    }
   },
   "outputs": [],
   "source": [
    "print(len(bpe_vocab))\n",
    "print(bpe_vocab[:150])"
   ]
  },
  {
   "cell_type": "markdown",
   "metadata": {
    "collapsed": false,
    "pycharm": {
     "name": "#%% md\n"
    }
   },
   "source": [
    "We can also check the most common merges."
   ]
  },
  {
   "cell_type": "code",
   "execution_count": null,
   "metadata": {
    "collapsed": false,
    "pycharm": {
     "name": "#%%\n"
    }
   },
   "outputs": [],
   "source": [
    "print(bpe_merges[:150])"
   ]
  },
  {
   "cell_type": "markdown",
   "metadata": {
    "collapsed": false,
    "pycharm": {
     "name": "#%% md\n"
    }
   },
   "source": [
    "### 3.3 Tokenizing the text using BPE\n",
    "\n",
    "With the tokenizer trained we can now tokenize the text using the BPE vocabulary. We will first build a function that tokenizes any text using our BPE tokenizer (vocabulary and merges). Next we will apply it to our dataset.\n",
    "\n",
    "The following function tokenizes the text using the BPE vocabulary. It replaces the most frequent pairs of tokens with the new token. The function also replaces the tokens that are not in the vocabulary with the `<unk>` token."
   ]
  },
  {
   "cell_type": "code",
   "execution_count": null,
   "metadata": {
    "collapsed": false,
    "pycharm": {
     "name": "#%%\n"
    }
   },
   "outputs": [],
   "source": [
    "def apply_bpe_tokenization(text, vocab, merges, unk_token='<unk>'):\n",
    "    \"\"\"\n",
    "    Tokenizes the text using BPE vocabulary, preserving spaces as '__'.\n",
    "\n",
    "    Args:\n",
    "        text (str): The input text to be tokenized.\n",
    "        vocab (set): A set containing the BPE vocabulary tokens.\n",
    "\n",
    "    Returns:\n",
    "        list: A list of tokens representing the input text.\n",
    "    \"\"\"\n",
    "\n",
    "    words = re.split(r'\\s', text)\n",
    "    words = [' ' + ' '.join(list(word)) + (' __ ' if i < len(words) - 1 else ' ') for i, word in enumerate(words)]\n",
    "\n",
    "    bpe_tokens = []\n",
    "\n",
    "    for i, word in enumerate(words):\n",
    "        for merge in merges:\n",
    "            word = word.replace(' ' + ' '.join(merge) + ' ', ' ' + ''.join(merge) + ' ')\n",
    "        bpe_tokens.extend(word.split())\n",
    "\n",
    "    for i, token in enumerate(bpe_tokens):\n",
    "        if token not in vocab:\n",
    "            bpe_tokens[i] = unk_token\n",
    "    return bpe_tokens\n",
    "\n",
    "\n",
    "# A test example with a special character. Is the character tokenized correctly as <unk> token?\n",
    "print(apply_bpe_tokenization(tweet_ds['train'][0]['clean'] + ' 🇺', bpe_vocab, bpe_merges))"
   ]
  },
  {
   "cell_type": "markdown",
   "metadata": {
    "collapsed": false,
    "pycharm": {
     "name": "#%% md\n"
    }
   },
   "source": [
    "The function below will apply our BPE tokenizer to the dataset. It will add a new column `bpe_tokens` to each example."
   ]
  },
  {
   "cell_type": "code",
   "execution_count": null,
   "metadata": {
    "collapsed": false,
    "pycharm": {
     "name": "#%%\n"
    }
   },
   "outputs": [],
   "source": [
    "def tokenize_bpe(example, vocab, merges, unk_token='<unk>'):\n",
    "    \"\"\"\n",
    "    Tokenizes the example from the Dataset using BPE\n",
    "    Args:\n",
    "        example: an example from the Dataset\n",
    "        vocab: a BPE vocabulary\n",
    "\n",
    "    Returns: update example containing 'bpe_tokens' column\n",
    "\n",
    "    \"\"\"\n",
    "    text = example['clean']\n",
    "    bpe_tokens = apply_bpe_tokenization(text, vocab, merges, unk_token)\n",
    "    example['bpe_tokens'] = bpe_tokens\n",
    "    return example\n",
    "\n",
    "tweet_ds = tweet_ds.map(tokenize_bpe, fn_kwargs={'vocab': bpe_vocab, 'merges': bpe_merges})\n",
    "print(tweet_ds)"
   ]
  },
  {
   "cell_type": "markdown",
   "metadata": {
    "collapsed": false,
    "pycharm": {
     "name": "#%% md\n"
    }
   },
   "source": [
    "We will inspect the both tokenizations of several examples from the ```validation``` subset. Try to find the ```<unk>``` tokens in the printed examples."
   ]
  },
  {
   "cell_type": "code",
   "execution_count": null,
   "metadata": {
    "collapsed": false,
    "pycharm": {
     "name": "#%%\n"
    }
   },
   "outputs": [],
   "source": [
    "for i in range(10):\n",
    "    print('Original tweet:')\n",
    "    print(tweet_ds['validation'][i]['text'])\n",
    "    print('Word tokenization:')\n",
    "    print(tweet_ds['validation'][i]['tokens'])\n",
    "    print('BPE tokenization:')\n",
    "    print(tweet_ds['validation'][i]['bpe_tokens'])\n",
    "    print()"
   ]
  },
  {
   "cell_type": "markdown",
   "metadata": {
    "collapsed": false,
    "pycharm": {
     "name": "#%% md\n"
    }
   },
   "source": [
    "### Exercise 10: Comparing tokenizers\n",
    "\n",
    "Train the BPE tokenizer with different number of merges. Compare the tokenization results with the word tokenization.\n",
    "1. (5p) What are the differences?\n",
    "2. (5p) Compare the number of tokens created by your tokenizers.\n",
    "3. (5p) Calculate the number of `<unk>` tokens in the validation dataset for each tokenizer.\n",
    "4. (5p) Compare the average length in tokens between different tokenizers.\n",
    "5. (5p) What are the advantages and disadvantages of the BPE tokenizer?"
   ]
  },
  {
   "cell_type": "markdown",
   "metadata": {
    "collapsed": false,
    "pycharm": {
     "name": "#%% md\n"
    }
   },
   "source": [
    "For answering these questions make sure to include a proper mix of numbers/plots/tables etc. and comments."
   ]
  },
  {
   "cell_type": "markdown",
   "metadata": {
    "collapsed": false,
    "pycharm": {
     "name": "#%% md\n"
    }
   },
   "source": []
  }
 ],
 "metadata": {
  "kernelspec": {
   "display_name": "Python (my_env)",
   "language": "python",
   "name": "my_env"
  },
  "language_info": {
   "codemirror_mode": {
    "name": "ipython",
    "version": 3
   },
   "file_extension": ".py",
   "mimetype": "text/x-python",
   "name": "python",
   "nbconvert_exporter": "python",
   "pygments_lexer": "ipython3",
   "version": "3.13.2"
  }
 },
 "nbformat": 4,
 "nbformat_minor": 1
}
