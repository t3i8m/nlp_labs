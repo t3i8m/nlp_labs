{
 "cells": [
  {
   "cell_type": "markdown",
   "metadata": {
    "collapsed": false,
    "pycharm": {
     "name": "#%% md\n"
    }
   },
   "source": [
    "# NLP 2025\n",
    "# Lab 1: Tokenization\n",
    "\n",
    "Tokenization is a fundamental step in **Natural Language Processing (NLP)** 🧠💬 that transforms raw text into structured data for computational models. In this lab, you will explore different **tokenization techniques** 📝, preprocess text data 🔍, and implement **tokenization pipelines** using popular NLP libraries 🏗️.  \n",
    "\n",
    "You will also gain **hands-on experience** with **Hugging Face Datasets 🤗📚**, while assessing the impact of tokenization choices on downstream NLP tasks. \n",
    "\n",
    "By the end of this lab, you will have a **strong foundation** in tokenization techniques and be able to apply them effectively in **real-world NLP applications** 🌍.  \n",
    "\n",
    "---\n",
    "\n",
    "### 🎯 **Learning Goals**  \n",
    "\n",
    "By the end of this lab, you should be able to:  \n",
    "\n",
    "✅ **Understand the role of tokenization in NLP** 🧠💡  \n",
    "✅ **Explain why tokenization is important** and how it affects text processing 📖🔍  \n",
    "✅ **Implement different tokenization techniques** – Apply **word** 📝, **subword** 🔢, and **character-level** 🔠 tokenization using built-in libraries.  \n",
    "✅ **Use Hugging Face Datasets** 🤗📊 – Load and preprocess text datasets efficiently.  \n",
    "✅ **Evaluate tokenization impact** 📉🔎 – Analyze how different tokenization methods influence model performance.  \n",
    "✅ **Identify challenges in tokenization** ❗🔍 – Recognize issues like **out-of-vocabulary (OOV) words**, **ambiguity**, and **multilingual tokenization** 🌍.  \n",
    "\n",
    "### Score breakdown\n",
    "\n",
    "| Exercise            | Points |\n",
    "|---------------------|--------|\n",
    "| [Exercise 1](#e1)   | 5      |\n",
    "| [Exercise 2](#e2)   | 6      |\n",
    "| [Exercise 3](#e3)   | 5      |\n",
    "| [Exercise 4](#e4)   | 12     |\n",
    "| [Exercise 5](#e5)   | 5      |\n",
    "| [Exercise 6](#e6)   | 22     |\n",
    "| [Exercise 7](#e7)   | 5      |\n",
    "| [Exercise 8](#e8)   | 5      |\n",
    "| [Exercise 9](#e9)   | 10     |\n",
    "| [Exercise 10](#e10) | 25     |\n",
    "| Total               | 100    |\n",
    "\n",
    "This score will be scaled down to 0.5 and that will be your final lab score.\n",
    "\n",
    "### 📌 **Instructions for Delivery** (📅 **Deadline: 11/Apr 18:00**, 🎭 *wildcards possible*)  \n",
    "\n",
    "✅ **Submission Requirements**  \n",
    "+ 📄 You need to submit a **PDF of your report** (use the templates provided in **LaTeX** 🖋️ (*preferred*) or **Word** 📑) and a **copy of your notebook** 📓 with the code.  \n",
    "+ ⚡ Make sure that **all cells are executed properly** ⚙️ and that **all figures/results/plots** 📊 you include in the report are also visible in your **executed notebook**.  \n",
    "\n",
    "✅ **Collaboration & Integrity**  \n",
    "+ 🗣️ While you may **discuss** the lab with others, you must **write your solutions with your group only**. If you **discuss specific tasks** with others, please **include their names** in the appendix of the report.  \n",
    "+ 📜 **Honor Code applies** to this lab. For more details, check **Syllabus §7.2** ⚖️.  \n",
    "+ 📢 **Mandatory Disclosure**:  \n",
    "   - Any **websites** 🌐 (e.g., **Stack Overflow** 💡) or **other resources** used must be **listed and disclosed**.  \n",
    "   - Any **GenAI tools** 🤖 (e.g., **ChatGPT**) used must be **explicitly mentioned**.  \n",
    "   - 🚨 **Failure to disclose these resources is a violation of academic integrity**. See **Syllabus §7.3** for details.   "
   ]
  },
  {
   "cell_type": "markdown",
   "metadata": {
    "collapsed": false,
    "pycharm": {
     "name": "#%% md\n"
    }
   },
   "source": [
    "## Preparation"
   ]
  },
  {
   "cell_type": "code",
   "execution_count": 3,
   "metadata": {
    "collapsed": false,
    "pycharm": {
     "name": "#%%\n"
    }
   },
   "outputs": [],
   "source": [
    "# ! pip install -U datasets~=3.2.0\n",
    "# ! python -m pip install -U matplotlib"
   ]
  },
  {
   "cell_type": "code",
   "execution_count": 4,
   "metadata": {
    "collapsed": false,
    "pycharm": {
     "name": "#%%\n"
    }
   },
   "outputs": [
    {
     "name": "stderr",
     "output_type": "stream",
     "text": [
      "/Users/nichitabulgaru/my_env/lib/python3.13/site-packages/tqdm/auto.py:21: TqdmWarning: IProgress not found. Please update jupyter and ipywidgets. See https://ipywidgets.readthedocs.io/en/stable/user_install.html\n",
      "  from .autonotebook import tqdm as notebook_tqdm\n"
     ]
    }
   ],
   "source": [
    "import re\n",
    "from collections import Counter\n",
    "\n",
    "import datasets\n",
    "import pandas as pd\n",
    "import tqdm"
   ]
  },
  {
   "cell_type": "markdown",
   "metadata": {
    "collapsed": false,
    "pycharm": {
     "name": "#%% md\n"
    }
   },
   "source": [
    "## 0. Intro to regular expressions\n",
    "\n",
    "In this introduction section, you can practice the use of regular expressions in python. You can find the documentation here: [https://docs.python.org/3/library/re.html](https://docs.python.org/3/library/re.html). The main functions of the re module are:\n",
    "- `re.search()` - searches for a pattern in a string, returns the first match,\n",
    "- `re.findall()` - similar to `search()`, but returns a list of all matches,\n",
    "- `re.sub()` - replaces the matches with a string.\n",
    "\n",
    "All above functions accept the regular expression pattern as their argument. The patterns are strings that represent the rules for matching the text. In python they start with `r` character, e.g. `r'\\d'` is a pattern that matches a digit.\n",
    "\n",
    "Let us start with a simple example. We will search for the word \"world\" in the string \"Hello, world!\"."
   ]
  },
  {
   "cell_type": "code",
   "execution_count": 5,
   "metadata": {
    "collapsed": false,
    "pycharm": {
     "name": "#%%\n"
    }
   },
   "outputs": [
    {
     "name": "stdout",
     "output_type": "stream",
     "text": [
      "<re.Match object; span=(7, 12), match='world'>\n"
     ]
    }
   ],
   "source": [
    "text = \"Hello, world!\"\n",
    "pattern = r'world'\n",
    "match = re.search(pattern, text)\n",
    "print(match)"
   ]
  },
  {
   "cell_type": "markdown",
   "metadata": {
    "collapsed": false,
    "pycharm": {
     "name": "#%% md\n"
    }
   },
   "source": [
    "The `search()` function returns a match object that tells us where the match was found (`span` argument) and the exact part of the string that matched the pattern (`group` argument).\n",
    "\n",
    "Below you can find the examples from the lecture."
   ]
  },
  {
   "cell_type": "code",
   "execution_count": 6,
   "metadata": {
    "collapsed": false,
    "pycharm": {
     "name": "#%%\n"
    }
   },
   "outputs": [],
   "source": [
    "# Disjunctions\n",
    "pattern = r'[wW]oodchuck' # matches both \"woodchuck\" and \"Woodchuck\"\n",
    "pattern = r'[1234567890]' # matches any digit\n",
    "pattern = r'[0-9]' # matches any digit\n",
    "pattern = r'[A-Z]' # matches any uppercase letter\n",
    "pattern = r'[a-z]' # matches any lowercase letter\n",
    "pattern = r'[A-Za-z]' # matches any letter\n",
    "\n",
    "# Disjunctions with pipe |\n",
    "pattern = r'groundhog|Woodchuck' # matches both \"woodchuck\" and \"Woodchuck\"\n",
    "\n",
    "# Negation (only when in [])\n",
    "pattern = r'[^0-9]' # matches any character that is not a digit\n",
    "pattern = r'[^Ss]' # matches any character that is not 'S' or 's'\n",
    "pattern = r'a^b' # matches the string \"a^b\"\n",
    "\n",
    "# Quantifiers (+, *, ?, .)\n",
    "pattern = r'baa+' # matches \"ba\" followed by one or more \"a\" (e.g. \"baa\", \"baaa\", \"baaaa\", ...)\n",
    "pattern = r'oo*h' # matches \"o\" followed by zero or more \"o\" and then \"h\" (e.g. \"oh\", \"ooh\", \"oooh\", ...)\n",
    "pattern = r'colou?r' # matches \"color\" and \"colour\"\n",
    "pattern = r'beg.n' # matches \"begun\", \"begin\", \"begnn\", ...\n",
    "\n",
    "# Anchors (^, $)\n",
    "pattern = r'^Hello' # matches \"Hello\" at the beginning of the string\n",
    "pattern = r'world!$' # matches \"world!\" at the end of the string"
   ]
  },
  {
   "cell_type": "markdown",
   "metadata": {
    "collapsed": false,
    "pycharm": {
     "name": "#%% md\n"
    }
   },
   "source": [
    "## 1. Huggingface datasets\n",
    "\n",
    "For this lab, we will use the **Hugging Face Datasets** library ([Hugging Face Datasets](https://huggingface.co/datasets)), which provides an extensive collection of ready-to-use NLP datasets. The library is designed to be lightweight, efficient, and compatible with popular deep learning frameworks such as PyTorch and TensorFlow.  \n",
    "\n",
    "You can find the full documentation and tutorials here:  \n",
    "📌 [Hugging Face Datasets Documentation](https://huggingface.co/docs/datasets/en/index)  \n",
    "\n",
    "### **Why use Hugging Face Datasets?**  \n",
    "- **Easy Access:** Load datasets with a single command without manual downloads.  \n",
    "- **Standardized Format:** Datasets come in a unified structure, making them easy to preprocess and integrate into ML pipelines.  \n",
    "- **Large Collection:** Provides datasets for a wide range of NLP tasks, including classification, translation, summarization, and more.  \n",
    "- **Seamless Integration:** Works with `transformers` and `sklearn` for preprocessing and model training.  \n",
    "\n",
    "### **Dataset for this lab: TweetEval - Emoji Subset**  \n",
    "\n",
    "In this lab, we will work with the **TweetEval** dataset, specifically the **emoji** subset. The TweetEval dataset is a benchmark for evaluating NLP models on Twitter-related tasks, covering tasks such as sentiment analysis, hate speech detection, and irony detection.  \n",
    "\n",
    "For tokenization, we will focus only on the **text** (the content of the tweets), but we will also examine the **labels** to understand the dataset structure.  \n",
    "\n",
    "🔗 The dataset description and details are available in its dataset card: [**TweetEval Dataset**](https://huggingface.co/datasets/cardiffnlp/tweet_eval) \n",
    "\n",
    "💡 Exploring More Datasets\n",
    "Hugging Face provides a vast selection of datasets across different NLP tasks. You can browse and explore more at:\n",
    "🔗 [Hugging Face Datasets Collection](https://huggingface.co/datasets)"
   ]
  },
  {
   "cell_type": "code",
   "execution_count": 7,
   "metadata": {
    "collapsed": false,
    "pycharm": {
     "name": "#%%\n"
    }
   },
   "outputs": [
    {
     "name": "stdout",
     "output_type": "stream",
     "text": [
      "DatasetDict({\n",
      "    train: Dataset({\n",
      "        features: ['text', 'label'],\n",
      "        num_rows: 45000\n",
      "    })\n",
      "    test: Dataset({\n",
      "        features: ['text', 'label'],\n",
      "        num_rows: 50000\n",
      "    })\n",
      "    validation: Dataset({\n",
      "        features: ['text', 'label'],\n",
      "        num_rows: 5000\n",
      "    })\n",
      "})\n"
     ]
    }
   ],
   "source": [
    "tweet_ds = datasets.load_dataset('tweet_eval', 'emoji')\n",
    "print(tweet_ds)"
   ]
  },
  {
   "cell_type": "markdown",
   "metadata": {
    "collapsed": false,
    "pycharm": {
     "name": "#%% md\n"
    }
   },
   "source": [
    "The loaded dataset contains three subsets (“train”, “validation”, and “test”). Each consists of two columns: “text” and “label”. Label is an integer from 0 to 19 representing an emoji. See the dataset's card for more information. We can access the elements of the dataset like so:"
   ]
  },
  {
   "cell_type": "code",
   "execution_count": 8,
   "metadata": {
    "collapsed": false,
    "pycharm": {
     "name": "#%%\n"
    }
   },
   "outputs": [
    {
     "name": "stdout",
     "output_type": "stream",
     "text": [
      "{'text': 'Sunday afternoon walking through Venice in the sun with @user ️ ️ ️ @ Abbot Kinney, Venice', 'label': 12}\n",
      "{'text': \"Time for some BBQ and whiskey libations. Chomp, belch, chomp! (@ Lucille's Smokehouse Bar-B-Que)\", 'label': 19}\n",
      "{'text': 'Love love love all these people ️ ️ ️ #friends #bff #celebrate #blessed #sundayfunday @ San…', 'label': 0}\n",
      "{'text': '️ ️ ️ ️ @ Toys\"R\"Us', 'label': 0}\n",
      "{'text': 'Man these are the funniest kids ever!! That face! #HappyBirthdayBubb @ FLIPnOUT Xtreme', 'label': 2}\n",
      "{'text': '#sandiego @ San Diego, California', 'label': 11}\n",
      "{'text': 'My little ️ ️ ️ ️ ️ #ObsessedWithMyDog @ Cafe Solstice Capitol Hill', 'label': 0}\n",
      "{'text': 'More #tinyepic things #tinyepicwestern, this one is crazy @user I may be one of your…', 'label': 19}\n",
      "{'text': 'Last night ️ @ Omnia Night Club At Caesars Palace', 'label': 0}\n",
      "{'text': 'friendship at its finest. ....#pixar #toystory #buzz #woody #friends #friendship #bff…', 'label': 7}\n"
     ]
    }
   ],
   "source": [
    "for i in range(10):\n",
    "    print(tweet_ds['train'][i])"
   ]
  },
  {
   "cell_type": "markdown",
   "metadata": {
    "collapsed": false,
    "pycharm": {
     "name": "#%% md\n"
    }
   },
   "source": [
    "You can easily cast the dataset to the pandas DataFrame."
   ]
  },
  {
   "cell_type": "code",
   "execution_count": 9,
   "metadata": {
    "collapsed": false,
    "pycharm": {
     "name": "#%%\n"
    }
   },
   "outputs": [
    {
     "name": "stdout",
     "output_type": "stream",
     "text": [
      "                                                    text  label\n",
      "0      Sunday afternoon walking through Venice in the...     12\n",
      "1      Time for some BBQ and whiskey libations. Chomp...     19\n",
      "2      Love love love all these people ️ ️ ️ #friends...      0\n",
      "3                                    ️ ️ ️ ️ @ Toys\"R\"Us      0\n",
      "4      Man these are the funniest kids ever!! That fa...      2\n",
      "...                                                  ...    ...\n",
      "44995  Here to celebrate the Nunez wedding! Love my b...      0\n",
      "44996  1 night in Paris.... Wait... @ Paris Las Vegas...      1\n",
      "44997  Be safe this weekend everyone. #happylaborday ...     11\n",
      "44998          Pizza (@ Five50 - @user in Las Vegas, NV)      1\n",
      "44999  my mini is perfect, no one deserves her @ Las ...     13\n",
      "\n",
      "[45000 rows x 2 columns]\n"
     ]
    }
   ],
   "source": [
    "tweet_train_df = pd.DataFrame(tweet_ds['train'])\n",
    "print(tweet_train_df)"
   ]
  },
  {
   "cell_type": "markdown",
   "metadata": {
    "collapsed": false,
    "pycharm": {
     "name": "#%% md\n"
    }
   },
   "source": [
    "We can plot the distribution of the labels in the training subset."
   ]
  },
  {
   "cell_type": "code",
   "execution_count": 10,
   "metadata": {
    "collapsed": false,
    "pycharm": {
     "name": "#%%\n"
    }
   },
   "outputs": [
    {
     "data": {
      "text/plain": [
       "<Axes: xlabel='label'>"
      ]
     },
     "execution_count": 10,
     "metadata": {},
     "output_type": "execute_result"
    },
    {
     "data": {
      "image/png": "[encoded data removed]",
      "text/plain": [
       "<Figure size 640x480 with 1 Axes>"
      ]
     },
     "metadata": {},
     "output_type": "display_data"
    }
   ],
   "source": [
    "tweet_train_df.groupby('label').count().plot.bar()"
   ]
  },
  {
   "cell_type": "markdown",
   "metadata": {
    "collapsed": false,
    "pycharm": {
     "name": "#%% md\n"
    }
   },
   "source": [
    "### Dataset's filter function\n",
    "We can filter the examples using ```filter()``` method. See this link for more details https://huggingface.co/docs/datasets/en/use_dataset. Here is an example of filtering the short tweets (less than 20 characters) from the ```train``` subset."
   ]
  },
  {
   "cell_type": "code",
   "execution_count": 11,
   "metadata": {
    "collapsed": false,
    "pycharm": {
     "name": "#%%\n"
    }
   },
   "outputs": [
    {
     "name": "stdout",
     "output_type": "stream",
     "text": [
      "Dataset({\n",
      "    features: ['text', 'label'],\n",
      "    num_rows: 506\n",
      "})\n"
     ]
    }
   ],
   "source": [
    "short_tweets = tweet_ds['train'].filter(lambda example: len(example['text']) < 20)\n",
    "print(short_tweets)"
   ]
  },
  {
   "cell_type": "code",
   "execution_count": 12,
   "metadata": {
    "collapsed": false,
    "pycharm": {
     "name": "#%%\n"
    }
   },
   "outputs": [
    {
     "name": "stdout",
     "output_type": "stream",
     "text": [
      "{'text': '️ ️ ️ ️ @ Toys\"R\"Us', 'label': 0}\n",
      "{'text': '️ @ Columbia River', 'label': 12}\n",
      "{'text': 'My weekend: @user 3', 'label': 6}\n",
      "{'text': 'good day today', 'label': 3}\n",
      "{'text': 'My last RT...', 'label': 2}\n",
      "{'text': '@ On Lake Cowichan', 'label': 13}\n",
      "{'text': '@ Macroplaza', 'label': 4}\n",
      "{'text': '@ BART Train', 'label': 6}\n",
      "{'text': '️ 4 a tbh&amp; rate', 'label': 0}\n",
      "{'text': '@user Oh nice!!', 'label': 14}\n"
     ]
    }
   ],
   "source": [
    "for i in range(10):\n",
    "    print(short_tweets[i])"
   ]
  },
  {
   "cell_type": "markdown",
   "metadata": {
    "collapsed": false,
    "pycharm": {
     "name": "#%% md\n"
    }
   },
   "source": [
    "### Dataset's map function\n",
    "Datasets library contains a very useful method map. It expects a function that will receive an example from the dataset. This function will be applied to all entries. We will calculate the length of the text (in characters) in each example."
   ]
  },
  {
   "cell_type": "code",
   "execution_count": 13,
   "metadata": {
    "collapsed": false,
    "pycharm": {
     "name": "#%%\n"
    }
   },
   "outputs": [],
   "source": [
    "def calculate_text_length(example):\n",
    "    example['text_length'] = len(example['text'])\n",
    "    return example"
   ]
  },
  {
   "cell_type": "code",
   "execution_count": 14,
   "metadata": {
    "collapsed": false,
    "pycharm": {
     "name": "#%%\n"
    }
   },
   "outputs": [
    {
     "name": "stdout",
     "output_type": "stream",
     "text": [
      "DatasetDict({\n",
      "    train: Dataset({\n",
      "        features: ['text', 'label', 'text_length'],\n",
      "        num_rows: 45000\n",
      "    })\n",
      "    test: Dataset({\n",
      "        features: ['text', 'label', 'text_length'],\n",
      "        num_rows: 50000\n",
      "    })\n",
      "    validation: Dataset({\n",
      "        features: ['text', 'label', 'text_length'],\n",
      "        num_rows: 5000\n",
      "    })\n",
      "})\n"
     ]
    }
   ],
   "source": [
    "tweet_ds = tweet_ds.map(calculate_text_length)\n",
    "print(tweet_ds)"
   ]
  },
  {
   "cell_type": "markdown",
   "metadata": {
    "collapsed": false,
    "pycharm": {
     "name": "#%% md\n"
    }
   },
   "source": [
    "We can plot the histogram of the text lengths."
   ]
  },
  {
   "cell_type": "code",
   "execution_count": 15,
   "metadata": {
    "collapsed": false,
    "pycharm": {
     "name": "#%%\n"
    }
   },
   "outputs": [
    {
     "data": {
      "text/plain": [
       "<Axes: ylabel='Frequency'>"
      ]
     },
     "execution_count": 15,
     "metadata": {},
     "output_type": "execute_result"
    },
    {
     "data": {
      "image/png": "[encoded data removed]",
      "text/plain": [
       "<Figure size 640x480 with 1 Axes>"
      ]
     },
     "metadata": {},
     "output_type": "display_data"
    }
   ],
   "source": [
    "pd.DataFrame(tweet_ds['train']).groupby('text_length')['text_length'].count().plot.hist(bins=50)"
   ]
  },
  {
   "cell_type": "markdown",
   "metadata": {
    "collapsed": false,
    "pycharm": {
     "name": "#%% md\n"
    }
   },
   "source": [
    "<a name=\"e1\"></a>\n",
    "\n",
    "### Exercise 1: Questions about the datasets\n",
    "1. (1p) What is the size of the training, test and validation datasets?\n",
    "2. (1p) What are the top 5 most frequent emojis in the validation dataset?\n",
    "3. (1p) Compare the distributions of labels (emojis) between training and validation datasets.\n",
    "4. (1p) How many examples with the \"fire\" emoji are in the training dataset?\n",
    "5. (1p) What is the average length (in characters) of the tweets in the training dataset?"
   ]
  },
  {
   "cell_type": "markdown",
   "metadata": {
    "collapsed": false,
    "pycharm": {
     "name": "#%% md\n"
    }
   },
   "source": [
    "You can add cells here to answer the questions"
   ]
  },
  {
   "cell_type": "code",
   "execution_count": 16,
   "metadata": {
    "collapsed": false,
    "pycharm": {
     "name": "#%%\n"
    }
   },
   "outputs": [
    {
     "name": "stdout",
     "output_type": "stream",
     "text": [
      "Training Dataset Size:  45000\n",
      "validation Dataset Size:  5000\n",
      "Test Dataset Size:  50000\n",
      "label\n",
      "0    1056\n",
      "1     521\n",
      "2     504\n",
      "3     308\n",
      "4     243\n",
      "Name: count, dtype: int64\n"
     ]
    }
   ],
   "source": [
    "df_train = pd.DataFrame(tweet_ds['train'])\n",
    "df_validation = pd.DataFrame(tweet_ds['validation'])\n",
    "df_test = pd.DataFrame(tweet_ds['test'])\n",
    "\n",
    "# 1. (1p) What is the size of the training, test and validation datasets?\n",
    "print(\"Training Dataset Size: \", df_train.shape[0])\n",
    "print(\"validation Dataset Size: \", df_validation.shape[0])\n",
    "print(\"Test Dataset Size: \", df_test.shape[0])\n",
    "\n",
    "# 2. (1p) What are the top 5 most frequent emojis in the validation dataset?\n",
    "print(df_validation['label'].value_counts()[:5])\n",
    "\n",
    "\n",
    "\n"
   ]
  },
  {
   "cell_type": "code",
   "execution_count": 17,
   "metadata": {},
   "outputs": [
    {
     "data": {
      "text/plain": [
       "<Axes: title={'center': 'Label Distribution: Train vs Validation'}, xlabel='label'>"
      ]
     },
     "execution_count": 17,
     "metadata": {},
     "output_type": "execute_result"
    },
    {
     "data": {
      "image/png": "[encoded data removed]",
      "text/plain": [
       "<Figure size 1000x600 with 1 Axes>"
      ]
     },
     "metadata": {},
     "output_type": "display_data"
    }
   ],
   "source": [
    "# 3. (1p) Compare the distributions of labels (emojis) between training and validation datasets.\n",
    "train_counts = df_train['label'].value_counts(normalize=True).sort_index()\n",
    "val_counts = df_validation['label'].value_counts(normalize=True).sort_index()\n",
    "\n",
    "dist_df = pd.DataFrame({\n",
    "    'Train': train_counts,\n",
    "    'Validation': val_counts\n",
    "})\n",
    "\n",
    "dist_df.plot.bar(title='Label Distribution: Train vs Validation', figsize=(10, 6))"
   ]
  },
  {
   "cell_type": "code",
   "execution_count": 18,
   "metadata": {},
   "outputs": [
    {
     "name": "stdout",
     "output_type": "stream",
     "text": [
      "2146\n"
     ]
    }
   ],
   "source": [
    "# 4. (1p) How many examples with the \"fire\" emoji are in the training dataset?\n",
    "print(df_train[df_train[\"label\"]==4].shape[0])"
   ]
  },
  {
   "cell_type": "code",
   "execution_count": 19,
   "metadata": {},
   "outputs": [
    {
     "data": {
      "text/plain": [
       "np.float64(71.01691111111111)"
      ]
     },
     "execution_count": 19,
     "metadata": {},
     "output_type": "execute_result"
    }
   ],
   "source": [
    "# 5. (1p) What is the average length (in characters) of the tweets in the training dataset?\n",
    "df_train[\"text_length\"].mean()"
   ]
  },
  {
   "cell_type": "markdown",
   "metadata": {
    "collapsed": false,
    "pycharm": {
     "name": "#%% md\n"
    }
   },
   "source": [
    "## 2. Tokenization\n",
    "\n",
    "In this section we will preprocess the dataset by cleaning and tokenizing the entries.\n",
    "Datasets library contains a very useful method map. It expects a function that will receive an example from the dataset. This function will be applied to all entries."
   ]
  },
  {
   "cell_type": "markdown",
   "metadata": {
    "collapsed": false,
    "pycharm": {
     "name": "#%% md\n"
    }
   },
   "source": [
    "### 2.1 Cleaning the text"
   ]
  },
  {
   "cell_type": "markdown",
   "metadata": {
    "collapsed": false,
    "pycharm": {
     "name": "#%% md\n"
    }
   },
   "source": [
    "<a name=\"e2\"></a>\n",
    "### Exercise 2: Write the text cleaning function\n",
    "\n",
    "Include at least the following steps:\n",
    "- (1p) remove comma between numbers, i.e. 15,000 -> 15000\n",
    "- (1p) remove multiple spaces\n",
    "- (1p) space out the punctuation (i.e. \"hello, world.\" -> \"hello , world .\")\n",
    "- (3x1p) three more cleaning steps of your choice"
   ]
  },
  {
   "cell_type": "code",
   "execution_count": null,
   "metadata": {
    "collapsed": false,
    "pycharm": {
     "name": "#%%\n"
    }
   },
   "outputs": [],
   "source": [
    "def clean(example):\n",
    "    \"\"\"\n",
    "    Cleans the example from the Dataset.\n",
    "    \n",
    "    Args:\n",
    "        example: an example from the Dataset\n",
    "\n",
    "    Returns:\n",
    "        Updated example containing a 'clean' column.\n",
    "    \"\"\"\n",
    "    text = example['text']\n",
    "\n",
    "    # Empty text\n",
    "    if text == '':\n",
    "        example['clean'] = ''\n",
    "        return example\n",
    "\n",
    "    # 'text' from the example can be of type numpy.str_, let's convert it to a python str\n",
    "    text = str(text)\n",
    "\n",
    "    ### YOUR CODE HERE\n",
    "    # 1. Remove comma between numbers (e.g. 15,000 -> 15000)\n",
    "    text = re.sub(r'(?<=\\d),(?=\\d)', '', text)\n",
    "\n",
    "    # 2. Remove multiple spaces (and some specific Unicode characters)\n",
    "    text = re.sub(r'[\\u200d\\u200c\\u2764\\ufe0f]+', ' ', text)    \n",
    "    pattern1 = r\"\\s{2,}\"\n",
    "    text = re.sub(pattern1, ' ', text)\n",
    "\n",
    "    # 3. Space out the punctuation (dots and commas)\n",
    "    pattern2 = r\"\\.\"\n",
    "    pattern3 = r\"\\,\"\n",
    "    text = re.sub(pattern2, ' .', text)\n",
    "    text = re.sub(pattern3, ' ,', text)\n",
    "\n",
    "\n",
    "    # 4. Additional cleaning steps of your choice:\n",
    "\n",
    "    # Remove URLs from the text\n",
    "    text = re.sub(r'http\\S+', '', text)\n",
    "\n",
    "    # Remove newline characters by replacing them with a space\n",
    "    text = re.sub(r'\\n', ' ', text)\n",
    "\n",
    "    # Additional cleaning: space out special characters (@, ?, !, ', ())\n",
    "    pattern4 = r\"\\@\"\n",
    "    pattern5 = r\"\\!\"\n",
    "    pattern6 = r\"\\?\"\n",
    "    pattern7 = r\"\\'\"\n",
    "    pattern8 = r\"\\(\"\n",
    "    pattern9 = r\"\\)\"\n",
    "    text = re.sub(pattern4, ' @ ', text)\n",
    "    text = re.sub(pattern5, ' ! ', text)\n",
    "    text = re.sub(pattern6, ' ? ', text)\n",
    "    text = re.sub(pattern7, \" ' \", text)\n",
    "    text = re.sub(pattern8, \" ( \", text)\n",
    "    text = re.sub(pattern9, \" ) \", text)\n",
    "\n",
    "    # Final whitespace cleanup (remove any extra spaces)\n",
    "    text = re.sub(pattern1, ' ', text)\n",
    "\n",
    "    ### YOUR CODE ENDS HERE\n",
    "\n",
    "    # Update the example with the cleaned text\n",
    "    example['clean'] = text.strip()\n",
    "    return example"
   ]
  },
  {
   "cell_type": "markdown",
   "metadata": {
    "collapsed": false,
    "pycharm": {
     "name": "#%% md\n"
    }
   },
   "source": [
    "This is an example of applying the ```clean()``` function you just wrote to a single entry of the dataset. The function added a 'clean' field to the example."
   ]
  },
  {
   "cell_type": "code",
   "execution_count": 35,
   "metadata": {
    "collapsed": false,
    "pycharm": {
     "name": "#%%\n"
    }
   },
   "outputs": [
    {
     "name": "stdout",
     "output_type": "stream",
     "text": [
      "Original tweet item:\n",
      "[\"Time for some BBQ and whiskey libations. Chomp, belch, chomp! (@ Lucille's Smokehouse Bar-B-Que)\", 'Love love love all these people ️ ️ ️ #friends #bff #celebrate #blessed #sundayfunday @ San…', '️ ️ ️ ️ @ Toys\"R\"Us', 'Man these are the funniest kids ever!! That face! #HappyBirthdayBubb @ FLIPnOUT Xtreme', '#sandiego @ San Diego, California', 'My little ️ ️ ️ ️ ️ #ObsessedWithMyDog @ Cafe Solstice Capitol Hill', 'More #tinyepic things #tinyepicwestern, this one is crazy @user I may be one of your…', 'Last night ️ @ Omnia Night Club At Caesars Palace', 'friendship at its finest. ....#pixar #toystory #buzz #woody #friends #friendship #bff…']\n",
      "Cleaned tweet item:\n",
      "[\"time for some bbq and whiskey libations . chomp , belch , chomp ! ( @ lucille ' s smokehouse bar-b-que ) \" , ' love love love all these people #friends #bff #celebrate #blessed #sundayfunday @ san… ' , ' @ toys\"r\"us ' , ' man these are the funniest kids ever ! ! that face ! #happybirthdaybubb @ flipnout xtreme ' , ' #sandiego @ san diego , california ' , ' my little #obsessedwithmydog @ cafe solstice capitol hill ' , ' more #tinyepic things #tinyepicwestern , this one is crazy @ user i may be one of your… ' , ' last night @ omnia night club at caesars palace ' , ' friendship at its finest . . . . .#pixar #toystory #buzz #woody #friends #friendship #bff… ' ]\n"
     ]
    }
   ],
   "source": [
    "print('Original tweet item:')\n",
    "print(tweet_ds['train'][1:10]['text'])\n",
    "print('Cleaned tweet item:')\n",
    "print(clean(tweet_ds['train'][1:10])['clean'])"
   ]
  },
  {
   "cell_type": "markdown",
   "metadata": {
    "collapsed": false,
    "pycharm": {
     "name": "#%% md\n"
    }
   },
   "source": [
    "Let's finally use the ```map()``` method and apply your `clean()` function to all entries of the dataset. You can see that the ```clean``` column has been added to each split."
   ]
  },
  {
   "cell_type": "markdown",
   "metadata": {
    "collapsed": false,
    "pycharm": {
     "name": "#%% md\n"
    }
   },
   "source": [
    "Below, we will apply your function to all entries in the dataset."
   ]
  },
  {
   "cell_type": "code",
   "execution_count": 37,
   "metadata": {
    "collapsed": false,
    "pycharm": {
     "name": "#%%\n"
    }
   },
   "outputs": [
    {
     "name": "stderr",
     "output_type": "stream",
     "text": [
      "Map: 100%|██████████| 45000/45000 [00:01<00:00, 27005.37 examples/s]\n",
      "Map: 100%|██████████| 50000/50000 [00:01<00:00, 26286.77 examples/s]\n",
      "Map: 100%|██████████| 5000/5000 [00:00<00:00, 27287.34 examples/s]"
     ]
    },
    {
     "name": "stdout",
     "output_type": "stream",
     "text": [
      "DatasetDict({\n",
      "    train: Dataset({\n",
      "        features: ['text', 'label', 'text_length', 'clean', 'tokens'],\n",
      "        num_rows: 45000\n",
      "    })\n",
      "    test: Dataset({\n",
      "        features: ['text', 'label', 'text_length', 'clean', 'tokens'],\n",
      "        num_rows: 50000\n",
      "    })\n",
      "    validation: Dataset({\n",
      "        features: ['text', 'label', 'text_length', 'clean', 'tokens'],\n",
      "        num_rows: 5000\n",
      "    })\n",
      "})\n"
     ]
    },
    {
     "name": "stderr",
     "output_type": "stream",
     "text": [
      "\n"
     ]
    }
   ],
   "source": [
    "tweet_ds = tweet_ds.map(clean)\n",
    "print(tweet_ds)"
   ]
  },
  {
   "cell_type": "markdown",
   "metadata": {
    "collapsed": false,
    "pycharm": {
     "name": "#%% md\n"
    }
   },
   "source": [
    "### 2.2 Build vocabulary\n",
    "\n",
    "In the previous section, we implemented the cleaning of the dataset. Now, we will tokenize the text splitting it by spaces. We will build a vocabulary based on the cleaned text of the `train` split. We will investigate some properties of corpora (e.g. Zipf's law).\n",
    "\n",
    "The function below builds a vocabulary from the dataset. It counts the occurrences of the words in the dataset using the Counter class. Check the documentation here [collections.Counter](https://docs.python.org/3/library/collections.html#collections.Counter)."
   ]
  },
  {
   "cell_type": "markdown",
   "metadata": {
    "collapsed": false,
    "pycharm": {
     "name": "#%% md\n"
    }
   },
   "source": [
    "### Exercise 3: Build the vocabulary\n",
    "(5p) Fill in the function below to build the vocabulary from the dataset. The function should return a `Counter` object with the words and their frequencies. The variable named `vocab` is already initialized as an empty `Counter` object."
   ]
  },
  {
   "cell_type": "code",
   "execution_count": 41,
   "metadata": {
    "collapsed": false,
    "pycharm": {
     "name": "#%%\n"
    }
   },
   "outputs": [],
   "source": [
    "def build_vocab_counter(dataset):\n",
    "    \"\"\"\n",
    "    Builds a vocabulary from the dataset\n",
    "    Args:\n",
    "        dataset: a dataset\n",
    "\n",
    "    Returns: a vocabulary\n",
    "\n",
    "    \"\"\"\n",
    "    vocab = Counter()\n",
    "\n",
    "    ### YOUR CODE HERE\n",
    "    for example in dataset:\n",
    "        words = re.findall(r'\\w+', example['clean'])\n",
    "        vocab.update(words)\n",
    "    ### YOUR CODE ENDS HERE\n",
    "    return vocab"
   ]
  },
  {
   "cell_type": "code",
   "execution_count": 47,
   "metadata": {
    "collapsed": false,
    "pycharm": {
     "name": "#%%\n"
    }
   },
   "outputs": [
    {
     "name": "stdout",
     "output_type": "stream",
     "text": [
      "Size of the vocabulary: 503774\n"
     ]
    }
   ],
   "source": [
    "vocab_counter = build_vocab_counter(tweet_ds['train'])\n",
    "print('Size of the vocabulary:', vocab_counter.total())"
   ]
  },
  {
   "cell_type": "markdown",
   "metadata": {
    "collapsed": false,
    "pycharm": {
     "name": "#%% md\n"
    }
   },
   "source": [
    "Because we created a counter, we can easily check the most and least common words in the vocabulary. Do the most common words make sense? How about the least common ones?"
   ]
  },
  {
   "cell_type": "code",
   "execution_count": 48,
   "metadata": {
    "collapsed": false,
    "pycharm": {
     "name": "#%%\n"
    }
   },
   "outputs": [
    {
     "name": "stdout",
     "output_type": "stream",
     "text": [
      "Most common:\n",
      "[('the', 13881), ('user', 12236), ('i', 8557), ('to', 7843), ('my', 7657), ('a', 7025), ('in', 6105), ('and', 5799), ('you', 5758), ('with', 5278)]\n",
      "Least common:\n",
      "[('corban', 1), ('southbayla', 1), ('thedabberchick', 1), ('nector', 1), ('chefking1921express', 1), ('rolltide', 1), ('bffweekend', 1), ('nunez', 1), ('happylaborday', 1), ('five50', 1)]\n"
     ]
    }
   ],
   "source": [
    "print('Most common:')\n",
    "print(vocab_counter.most_common(10))\n",
    "print('Least common:')\n",
    "print(vocab_counter.most_common()[-10:])"
   ]
  },
  {
   "cell_type": "markdown",
   "metadata": {
    "collapsed": false,
    "pycharm": {
     "name": "#%% md\n"
    }
   },
   "source": [
    "We can also plot the counts of the words. You can check the [Power law](https://en.wikipedia.org/wiki/Power_law) if you are more interested."
   ]
  },
  {
   "cell_type": "code",
   "execution_count": 49,
   "metadata": {
    "collapsed": false,
    "pycharm": {
     "name": "#%%\n"
    }
   },
   "outputs": [
    {
     "data": {
      "text/plain": [
       "Text(0, 0.5, 'count')"
      ]
     },
     "execution_count": 49,
     "metadata": {},
     "output_type": "execute_result"
    },
    {
     "data": {
      "image/png": "[encoded data removed]",
      "text/plain": [
       "<Figure size 640x480 with 1 Axes>"
      ]
     },
     "metadata": {},
     "output_type": "display_data"
    }
   ],
   "source": [
    "import matplotlib.pyplot as plt\n",
    "\n",
    "plt.loglog([val for word, val in vocab_counter.most_common()])\n",
    "plt.xlabel('rank')\n",
    "plt.ylabel('count')"
   ]
  },
  {
   "cell_type": "markdown",
   "metadata": {
    "collapsed": false,
    "pycharm": {
     "name": "#%% md\n"
    }
   },
   "source": [
    "The plot shows that the distribution of the words in the vocabulary follows the Zipf's law. The most frequent word occurs approximately twice as often as the second most frequent word, three times as often as the third most frequent word, etc.\n",
    "\n",
    "We can also filter the vocabulary by the frequency of the words. We will only consider the most frequent words and mark the rest as the `<unk>` token. Here we set the maximum vocabulary size to 10,000. But in the later steps, you will experiment with different sizes."
   ]
  },
  {
   "cell_type": "code",
   "execution_count": 50,
   "metadata": {
    "collapsed": false,
    "pycharm": {
     "name": "#%%\n"
    }
   },
   "outputs": [
    {
     "name": "stdout",
     "output_type": "stream",
     "text": [
      "10000\n"
     ]
    }
   ],
   "source": [
    "max_vocab_size = 10000\n",
    "vocab = vocab_counter.most_common(max_vocab_size)\n",
    "# cast to list of words\n",
    "vocab = [word for word, _ in vocab]\n",
    "print(len(vocab))"
   ]
  },
  {
   "cell_type": "markdown",
   "metadata": {
    "collapsed": false,
    "pycharm": {
     "name": "#%% md\n"
    }
   },
   "source": [
    "### Exercise 4: Frequency of pairs of words (bigrams)\n",
    "Calculate the frequency of (neighbouring) pairs of words in the training dataset.\n",
    "- (5p) List the most and least common pairs. Do the most common pairs make sense?\n",
    "- (2p) How many pairs occur only once in the dataset?\n",
    "- (5p) Plot the distribution of the pair frequencies."
   ]
  },
  {
   "cell_type": "markdown",
   "metadata": {
    "collapsed": false,
    "pycharm": {
     "name": "#%% md\n"
    }
   },
   "source": [
    "### 2.3 Tokenize the dataset\n",
    "The function below tokenizes the cleaned text (```example['clean']```) by splitting it on spaces. It replaces the words that are not in the vocabulary with the `<unk>` token."
   ]
  },
  {
   "cell_type": "markdown",
   "metadata": {
    "collapsed": false,
    "pycharm": {
     "name": "#%% md\n"
    }
   },
   "source": [
    "### Exercise 5: Tokenize the dataset\n",
    "\n",
    "(5p) Fill in the function below to tokenize the dataset. The function will be applied to the dataset through the `map()` method, so it returns the updated example. Your task is to split the text by spaces and replace the words that are not in the vocabulary with the `<unk>` token."
   ]
  },
  {
   "cell_type": "code",
   "execution_count": 51,
   "metadata": {
    "collapsed": false,
    "pycharm": {
     "name": "#%%\n"
    }
   },
   "outputs": [],
   "source": [
    "def tokenize(example, vocab, unknown_token='<unk>'):\n",
    "    \"\"\"\n",
    "    Tokenizes the example from the Dataset\n",
    "    Args:\n",
    "        example: an example from the Dataset\n",
    "        vocab: a vocabulary as a list of words\n",
    "        unknown_token: a token to replace the words that are not in the vocabulary\n",
    "    Returns: update example containing 'tokens' column\n",
    "\n",
    "    \"\"\"\n",
    "    text = example['clean']\n",
    "    tokens = None # list of tokens, your code should fill this variable\n",
    "\n",
    "    ### YOUR CODE HERE\n",
    "    words = text.split()\n",
    "    tokens = [word if word in vocab else unknown_token for word in words]\n",
    "\n",
    "    ### YOUR CODE ENDS HERE\n",
    "\n",
    "    example['tokens'] = tokens\n",
    "    return example"
   ]
  },
  {
   "cell_type": "code",
   "execution_count": 52,
   "metadata": {
    "collapsed": false,
    "pycharm": {
     "name": "#%%\n"
    }
   },
   "outputs": [
    {
     "name": "stderr",
     "output_type": "stream",
     "text": [
      "Map: 100%|██████████| 45000/45000 [00:18<00:00, 2377.65 examples/s]\n",
      "Map: 100%|██████████| 50000/50000 [00:23<00:00, 2140.93 examples/s]\n",
      "Map: 100%|██████████| 5000/5000 [00:02<00:00, 2286.57 examples/s]"
     ]
    },
    {
     "name": "stdout",
     "output_type": "stream",
     "text": [
      "DatasetDict({\n",
      "    train: Dataset({\n",
      "        features: ['text', 'label', 'text_length', 'clean', 'tokens'],\n",
      "        num_rows: 45000\n",
      "    })\n",
      "    test: Dataset({\n",
      "        features: ['text', 'label', 'text_length', 'clean', 'tokens'],\n",
      "        num_rows: 50000\n",
      "    })\n",
      "    validation: Dataset({\n",
      "        features: ['text', 'label', 'text_length', 'clean', 'tokens'],\n",
      "        num_rows: 5000\n",
      "    })\n",
      "})\n"
     ]
    },
    {
     "name": "stderr",
     "output_type": "stream",
     "text": [
      "\n"
     ]
    }
   ],
   "source": [
    "tweet_ds = tweet_ds.map(tokenize, fn_kwargs={'vocab': vocab})\n",
    "print(tweet_ds)"
   ]
  },
  {
   "cell_type": "markdown",
   "metadata": {
    "collapsed": false,
    "pycharm": {
     "name": "#%% md\n"
    }
   },
   "source": [
    "Let us examine several entries from the dataset. We can see that the `tokens` column has been added to each example."
   ]
  },
  {
   "cell_type": "code",
   "execution_count": 30,
   "metadata": {
    "collapsed": false,
    "pycharm": {
     "name": "#%%\n"
    }
   },
   "outputs": [
    {
     "name": "stdout",
     "output_type": "stream",
     "text": [
      "Original tweet:\n",
      "Sunday afternoon walking through Venice in the sun with @user ️ ️ ️ @ Abbot Kinney, Venice\n",
      "Tokenized tweet:\n",
      "None\n",
      "Original tweet:\n",
      "Time for some BBQ and whiskey libations. Chomp, belch, chomp! (@ Lucille's Smokehouse Bar-B-Que)\n",
      "Tokenized tweet:\n",
      "None\n",
      "Original tweet:\n",
      "Love love love all these people ️ ️ ️ #friends #bff #celebrate #blessed #sundayfunday @ San…\n",
      "Tokenized tweet:\n",
      "None\n",
      "Original tweet:\n",
      "️ ️ ️ ️ @ Toys\"R\"Us\n",
      "Tokenized tweet:\n",
      "None\n",
      "Original tweet:\n",
      "Man these are the funniest kids ever!! That face! #HappyBirthdayBubb @ FLIPnOUT Xtreme\n",
      "Tokenized tweet:\n",
      "None\n",
      "Original tweet:\n",
      "#sandiego @ San Diego, California\n",
      "Tokenized tweet:\n",
      "None\n",
      "Original tweet:\n",
      "My little ️ ️ ️ ️ ️ #ObsessedWithMyDog @ Cafe Solstice Capitol Hill\n",
      "Tokenized tweet:\n",
      "None\n",
      "Original tweet:\n",
      "More #tinyepic things #tinyepicwestern, this one is crazy @user I may be one of your…\n",
      "Tokenized tweet:\n",
      "None\n",
      "Original tweet:\n",
      "Last night ️ @ Omnia Night Club At Caesars Palace\n",
      "Tokenized tweet:\n",
      "None\n",
      "Original tweet:\n",
      "friendship at its finest. ....#pixar #toystory #buzz #woody #friends #friendship #bff…\n",
      "Tokenized tweet:\n",
      "None\n"
     ]
    }
   ],
   "source": [
    "for i in range(10):\n",
    "    print('Original tweet:')\n",
    "    print(tweet_ds['train'][i]['text'])\n",
    "    print('Tokenized tweet:')\n",
    "    print(tweet_ds['train'][i]['tokens'])"
   ]
  },
  {
   "cell_type": "markdown",
   "metadata": {
    "collapsed": false,
    "pycharm": {
     "name": "#%% md\n"
    }
   },
   "source": [
    "Make sure that the tokenization works as you intended. If not, revisit the cleaning and tokenization functions."
   ]
  },
  {
   "cell_type": "markdown",
   "metadata": {
    "collapsed": false,
    "pycharm": {
     "name": "#%% md\n"
    }
   },
   "source": [
    "### Exercise 6: Questions about the tokenization\n",
    "1. (3p) How many unknown tokens are in the validation dataset after tokenization?\n",
    "2. (3p) What is the distribution of the number of tokens in the training dataset?\n",
    "3. (4p) How the number of tokens corresponds to the number of characters in our dataset?\n",
    "4. (4p) How the size of the vocabulary (```max_vocab_size```) affects the number of unknown tokens?\n",
    "5. (4p) How does the size of the vocabulary affect the number of tokens in the dataset?\n",
    "6. (4p) Think about the advantages and disadvantages of the tokenization method we used. What are the cases when it will not work well?\n",
    "\n",
    "For answering these questions make sure to include a proper mix of numbers/plots/tables etc. and comments."
   ]
  },
  {
   "cell_type": "markdown",
   "metadata": {
    "collapsed": false,
    "pycharm": {
     "name": "#%% md\n"
    }
   },
   "source": [
    "## 3. Byte Pair Encoding\n",
    "\n",
    "In this section, you will build the Byte Pair Encoding (BPE) tokenizer. BPE is an algorithm that replaces the most frequent pair of tokens (initially characters) with a new token. The algorithm is configured by the number of merges that are performed. You can find the paper here [Neural Machine Translation of Rare Words with Subword Units](https://arxiv.org/abs/1508.07909)."
   ]
  },
  {
   "cell_type": "markdown",
   "metadata": {
    "collapsed": false,
    "pycharm": {
     "name": "#%% md\n"
    }
   },
   "source": [
    "### 3.1 Finding the initial set of characters\n",
    "BPE algorithm starts with the set of characters that occur in the dataset. We will build a character counter from the dataset."
   ]
  },
  {
   "cell_type": "markdown",
   "metadata": {
    "collapsed": false,
    "pycharm": {
     "name": "#%% md\n"
    }
   },
   "source": [
    "### Exercise 7: Counting the characters\n",
    "\n",
    "(5p) In this exercise, we build a counter with the frequencies of all characters in the dataset. Iterate over the dataset and count the characters in the `clean` column. The function returns a `Counter` object with the characters and their frequencies."
   ]
  },
  {
   "cell_type": "code",
   "execution_count": 31,
   "metadata": {
    "collapsed": false,
    "pycharm": {
     "name": "#%%\n"
    }
   },
   "outputs": [],
   "source": [
    "def build_character_counter(dataset):\n",
    "    \"\"\"\n",
    "    Builds a character counter from the dataset\n",
    "    Args:\n",
    "        dataset: a dataset\n",
    "\n",
    "    Returns: a character counter\n",
    "\n",
    "    \"\"\"\n",
    "    char_counter = Counter()\n",
    "\n",
    "    ### YOUR CODE HERE\n",
    "\n",
    "\n",
    "\n",
    "    ### YOUR CODE ENDS HERE\n",
    "\n",
    "    return char_counter"
   ]
  },
  {
   "cell_type": "markdown",
   "metadata": {
    "collapsed": false,
    "pycharm": {
     "name": "#%% md\n"
    }
   },
   "source": [
    "The next cell applies the function to the training dataset and prints the size of the vocabulary and the most common characters."
   ]
  },
  {
   "cell_type": "code",
   "execution_count": 32,
   "metadata": {
    "collapsed": false,
    "pycharm": {
     "name": "#%%\n"
    }
   },
   "outputs": [
    {
     "name": "stdout",
     "output_type": "stream",
     "text": [
      "0\n",
      "[]\n"
     ]
    }
   ],
   "source": [
    "char_counter = build_character_counter(tweet_ds['train'])\n",
    "print(len(char_counter))\n",
    "print(char_counter.most_common(100))"
   ]
  },
  {
   "cell_type": "markdown",
   "metadata": {
    "collapsed": false,
    "pycharm": {
     "name": "#%% md\n"
    }
   },
   "source": []
  },
  {
   "cell_type": "markdown",
   "metadata": {
    "collapsed": false,
    "pycharm": {
     "name": "#%% md\n"
    }
   },
   "source": [
    "We will filter the characters that occur less than 10 times in the dataset. We will also replace the space character with the `__` token. This is necessary because we want to preserve the spaces between the words in the tokenization process."
   ]
  },
  {
   "cell_type": "code",
   "execution_count": 33,
   "metadata": {
    "collapsed": false,
    "pycharm": {
     "name": "#%%\n"
    }
   },
   "outputs": [
    {
     "ename": "ValueError",
     "evalue": "' ' is not in list",
     "output_type": "error",
     "traceback": [
      "\u001b[0;31m---------------------------------------------------------------------------\u001b[0m",
      "\u001b[0;31mValueError\u001b[0m                                Traceback (most recent call last)",
      "Cell \u001b[0;32mIn[33], line 2\u001b[0m\n\u001b[1;32m      1\u001b[0m bpe_init_vocab \u001b[38;5;241m=\u001b[39m \u001b[38;5;28msorted\u001b[39m([char \u001b[38;5;28;01mfor\u001b[39;00m char, _ \u001b[38;5;129;01min\u001b[39;00m char_counter\u001b[38;5;241m.\u001b[39mmost_common() \u001b[38;5;28;01mif\u001b[39;00m char_counter[char] \u001b[38;5;241m>\u001b[39m\u001b[38;5;241m=\u001b[39m \u001b[38;5;241m10\u001b[39m])\n\u001b[0;32m----> 2\u001b[0m bpe_init_vocab[\u001b[43mbpe_init_vocab\u001b[49m\u001b[38;5;241;43m.\u001b[39;49m\u001b[43mindex\u001b[49m\u001b[43m(\u001b[49m\u001b[38;5;124;43m'\u001b[39;49m\u001b[38;5;124;43m \u001b[39;49m\u001b[38;5;124;43m'\u001b[39;49m\u001b[43m)\u001b[49m] \u001b[38;5;241m=\u001b[39m \u001b[38;5;124m'\u001b[39m\u001b[38;5;124m__\u001b[39m\u001b[38;5;124m'\u001b[39m\n\u001b[1;32m      3\u001b[0m \u001b[38;5;28mprint\u001b[39m(bpe_init_vocab)\n",
      "\u001b[0;31mValueError\u001b[0m: ' ' is not in list"
     ]
    }
   ],
   "source": [
    "bpe_init_vocab = sorted([char for char, _ in char_counter.most_common() if char_counter[char] >= 10])\n",
    "bpe_init_vocab[bpe_init_vocab.index(' ')] = '__'\n",
    "print(bpe_init_vocab)"
   ]
  },
  {
   "cell_type": "markdown",
   "metadata": {
    "collapsed": false,
    "pycharm": {
     "name": "#%% md\n"
    }
   },
   "source": []
  },
  {
   "cell_type": "markdown",
   "metadata": {
    "collapsed": false,
    "pycharm": {
     "name": "#%% md\n"
    }
   },
   "source": [
    "### 3.2 Training the BPE tokenizer\n",
    "\n",
    "In this section, we will implement the BPE algorithm. We will start by initializing the BPE corpus. The corpus is a list of words from the dataset with their frequency. This makes it easier to find the most frequent pairs of neighbouring tokens (or characters in the beginning). Each word is split into characters and the space (the ```__``` token) is added at the end of each word."
   ]
  },
  {
   "cell_type": "code",
   "execution_count": null,
   "metadata": {
    "collapsed": false,
    "pycharm": {
     "name": "#%%\n"
    }
   },
   "outputs": [],
   "source": [
    "def init_bpe_corpus(dataset):\n",
    "    \"\"\"\n",
    "    Initializes the BPE corpus\n",
    "    Args:\n",
    "        dataset: a dataset\n",
    "\n",
    "    Returns: a BPE corpus\n",
    "\n",
    "    \"\"\"\n",
    "\n",
    "    corpus = Counter()\n",
    "    for example in dataset:\n",
    "        words = example['clean'].split()\n",
    "        words = [' '.join(list(word)) + ' __' for word in words]\n",
    "        corpus.update(words)\n",
    "    return corpus"
   ]
  },
  {
   "cell_type": "code",
   "execution_count": null,
   "metadata": {
    "collapsed": false,
    "pycharm": {
     "name": "#%%\n"
    }
   },
   "outputs": [],
   "source": [
    "bpe_corpus = init_bpe_corpus(tweet_ds['train'])\n",
    "print(len(bpe_corpus))"
   ]
  },
  {
   "cell_type": "markdown",
   "metadata": {
    "collapsed": false,
    "pycharm": {
     "name": "#%% md\n"
    }
   },
   "source": [
    "We can check the most common words in the corpus along with their frequencies."
   ]
  },
  {
   "cell_type": "code",
   "execution_count": null,
   "metadata": {
    "collapsed": false,
    "pycharm": {
     "name": "#%%\n"
    }
   },
   "outputs": [],
   "source": [
    "bpe_corpus.most_common(30)"
   ]
  },
  {
   "cell_type": "markdown",
   "metadata": {
    "collapsed": false,
    "pycharm": {
     "name": "#%% md\n"
    }
   },
   "source": [
    "Our BPE implementation will consist of the following steps:\n",
    "1. Calculate the frequency statistics of adjacent symbol pairs in the corpus.\n",
    "2. Find the most frequent pair.\n",
    "3. Merge the most frequent pair.\n",
    "4. Repeat until the specified number of merges is reached.\n",
    "\n",
    "The following function calculates the frequency statistics of adjacent symbol pairs in the corpus."
   ]
  },
  {
   "cell_type": "markdown",
   "metadata": {
    "collapsed": false,
    "pycharm": {
     "name": "#%% md\n"
    }
   },
   "source": [
    "### Exercise 8: Calculate the frequency statistics of adjacent symbol pairs\n",
    "(5p) Fill in the function below to calculate the frequency statistics of adjacent symbol pairs in the corpus. The function returns a Counter object with the counts of adjacent token pairs. The pairs are represented as tuples of two tokens (e.g., `('cali', 'for')`)."
   ]
  },
  {
   "cell_type": "code",
   "execution_count": null,
   "metadata": {
    "collapsed": false,
    "pycharm": {
     "name": "#%%\n"
    }
   },
   "outputs": [],
   "source": [
    "def calculate_bpe_corpus_stats(corpus):\n",
    "    \"\"\"\n",
    "    Calculates the frequency statistics of adjacent symbol pairs in the corpus.\n",
    "    Args:\n",
    "        corpus: a BPE corpus as a Counter object with words split by space into tokens (initially characters)\n",
    "\n",
    "    Returns: a Counter object with the frequency statistics of adjacent symbol pairs\n",
    "    \"\"\"\n",
    "    stats = Counter()\n",
    "\n",
    "    for word, freq in corpus.items():\n",
    "\n",
    "        ### YOUR CODE HERE\n",
    "\n",
    "\n",
    "\n",
    "\n",
    "\n",
    "        ### YOUR CODE ENDS HERE\n",
    "\n",
    "    return stats"
   ]
  },
  {
   "cell_type": "markdown",
   "metadata": {
    "collapsed": false,
    "pycharm": {
     "name": "#%% md\n"
    }
   },
   "source": [
    "We can check the most common pairs of characters in the initial corpus."
   ]
  },
  {
   "cell_type": "code",
   "execution_count": null,
   "metadata": {
    "collapsed": false,
    "pycharm": {
     "name": "#%%\n"
    }
   },
   "outputs": [],
   "source": [
    "stats = calculate_bpe_corpus_stats(bpe_corpus)\n",
    "print(stats.most_common(10))"
   ]
  },
  {
   "cell_type": "markdown",
   "metadata": {
    "collapsed": false,
    "pycharm": {
     "name": "#%% md\n"
    }
   },
   "source": [
    "Next, we will implement the function that merges the most frequent pair of symbols in the corpus. The function takes the corpus and the most frequent pair of symbols as input and returns the updated corpus."
   ]
  },
  {
   "cell_type": "code",
   "execution_count": null,
   "metadata": {
    "collapsed": false,
    "pycharm": {
     "name": "#%%\n"
    }
   },
   "outputs": [],
   "source": [
    "def merge_corpus(corpus, pair):\n",
    "    \"\"\"\n",
    "    Merges the most frequent pair of symbols in the corpus.\n",
    "    Args:\n",
    "        corpus (dict): Keys are words as space-separated symbols (e.g., \"l o w\"),\n",
    "                       and values are the frequency counts.\n",
    "        pair (tuple): A pair of symbols to merge.\n",
    "\n",
    "    Returns:\n",
    "        dict: Updated corpus after merging the pair of symbols.\n",
    "    \"\"\"\n",
    "    new_corpus = Counter()\n",
    "    bigram = \" \".join(pair)\n",
    "    replacement = \"\".join(pair)\n",
    "    for word, freq in corpus.items():\n",
    "        new_word = word.replace(bigram, replacement)\n",
    "        new_corpus[new_word] = freq\n",
    "    return new_corpus"
   ]
  },
  {
   "cell_type": "markdown",
   "metadata": {
    "collapsed": false,
    "pycharm": {
     "name": "#%% md\n"
    }
   },
   "source": [
    "The last step is to implement the BPE algorithm. The function takes the initial vocabulary, the corpus, and the number of merges as input. It returns the updated vocabulary, corpus, and the list of merges.\n",
    "Returning the list of merges is useful for the tokenization process - it makes it faster to tokenize the text. It contains the tuples of the two tokens that were merged. For example, ('to', 'day__') will merge the tokens 'to' and 'day__' into the 'today__' token."
   ]
  },
  {
   "cell_type": "markdown",
   "metadata": {
    "collapsed": false,
    "pycharm": {
     "name": "#%% md\n"
    }
   },
   "source": [
    "### Exercise 9: BPE algorithm\n",
    "\n",
    "(10p) Implement the BPE algorithm in the following function. The function should return the updated vocabulary, corpus, and the list of merges. The function should perform the specified number of merges. The vocabulary is a list of tokens, the corpus is a Counter object with the words split by space into tokens, and the merges is a list of tuples with the merged tokens.\n",
    "\n",
    "You should use the functions you implemented earlier in this section (```calculate_bpe_corpus_stats()```, ```merge_corpus()```)."
   ]
  },
  {
   "cell_type": "code",
   "execution_count": null,
   "metadata": {
    "collapsed": false,
    "pycharm": {
     "name": "#%%\n"
    }
   },
   "outputs": [],
   "source": [
    "def bpe(vocab, corpus, num_merges):\n",
    "    \"\"\"\n",
    "    Applies the BPE algorithm to the corpus. Merges the most frequent adjacent symbol pairs. The function performs the specified number of merges.\n",
    "\n",
    "    Args:\n",
    "        vocab (list): A list of tokens representing the BPE vocabulary.\n",
    "        corpus (Counter): A Counter object with words split by space into tokens.\n",
    "        num_merges (int): The number of merges to perform.\n",
    "\n",
    "    Returns:\n",
    "        list: Updated vocabulary.\n",
    "        Counter: Updated corpus.\n",
    "        list: List of merges.\n",
    "    \"\"\"\n",
    "    vocab = vocab.copy()\n",
    "    corpus = corpus.copy()\n",
    "    merges = []\n",
    "\n",
    "    for i in tqdm.tqdm(range(num_merges)):\n",
    "        ### YOUR CODE HERE\n",
    "\n",
    "\n",
    "\n",
    "\n",
    "\n",
    "        ### YOUR CODE ENDS HERE\n",
    "    return vocab, corpus, merges"
   ]
  },
  {
   "cell_type": "markdown",
   "metadata": {
    "collapsed": false,
    "pycharm": {
     "name": "#%% md\n"
    }
   },
   "source": [
    "The following cell applies the BPE algorithm to the initial vocabulary and corpus. We will perform 100 merges at first, but you will experiment with different numbers."
   ]
  },
  {
   "cell_type": "code",
   "execution_count": null,
   "metadata": {
    "collapsed": false,
    "pycharm": {
     "name": "#%%\n"
    }
   },
   "outputs": [],
   "source": [
    "bpe_vocab, updated_bpe_corpus, bpe_merges = bpe(bpe_init_vocab, bpe_corpus, num_merges=100)"
   ]
  },
  {
   "cell_type": "markdown",
   "metadata": {
    "collapsed": false,
    "pycharm": {
     "name": "#%% md\n"
    }
   },
   "source": [
    "We can check the size of the BPE vocabulary and the most common tokens."
   ]
  },
  {
   "cell_type": "code",
   "execution_count": null,
   "metadata": {
    "collapsed": false,
    "pycharm": {
     "name": "#%%\n"
    }
   },
   "outputs": [],
   "source": [
    "print(len(bpe_vocab))\n",
    "print(bpe_vocab[:150])"
   ]
  },
  {
   "cell_type": "markdown",
   "metadata": {
    "collapsed": false,
    "pycharm": {
     "name": "#%% md\n"
    }
   },
   "source": [
    "We can also check the most common merges."
   ]
  },
  {
   "cell_type": "code",
   "execution_count": null,
   "metadata": {
    "collapsed": false,
    "pycharm": {
     "name": "#%%\n"
    }
   },
   "outputs": [],
   "source": [
    "print(bpe_merges[:150])"
   ]
  },
  {
   "cell_type": "markdown",
   "metadata": {
    "collapsed": false,
    "pycharm": {
     "name": "#%% md\n"
    }
   },
   "source": [
    "### 3.3 Tokenizing the text using BPE\n",
    "\n",
    "With the tokenizer trained we can now tokenize the text using the BPE vocabulary. We will first build a function that tokenizes any text using our BPE tokenizer (vocabulary and merges). Next we will apply it to our dataset.\n",
    "\n",
    "The following function tokenizes the text using the BPE vocabulary. It replaces the most frequent pairs of tokens with the new token. The function also replaces the tokens that are not in the vocabulary with the `<unk>` token."
   ]
  },
  {
   "cell_type": "code",
   "execution_count": null,
   "metadata": {
    "collapsed": false,
    "pycharm": {
     "name": "#%%\n"
    }
   },
   "outputs": [],
   "source": [
    "def apply_bpe_tokenization(text, vocab, merges, unk_token='<unk>'):\n",
    "    \"\"\"\n",
    "    Tokenizes the text using BPE vocabulary, preserving spaces as '__'.\n",
    "\n",
    "    Args:\n",
    "        text (str): The input text to be tokenized.\n",
    "        vocab (set): A set containing the BPE vocabulary tokens.\n",
    "\n",
    "    Returns:\n",
    "        list: A list of tokens representing the input text.\n",
    "    \"\"\"\n",
    "\n",
    "    words = re.split(r'\\s', text)\n",
    "    words = [' ' + ' '.join(list(word)) + (' __ ' if i < len(words) - 1 else ' ') for i, word in enumerate(words)]\n",
    "\n",
    "    bpe_tokens = []\n",
    "\n",
    "    for i, word in enumerate(words):\n",
    "        for merge in merges:\n",
    "            word = word.replace(' ' + ' '.join(merge) + ' ', ' ' + ''.join(merge) + ' ')\n",
    "        bpe_tokens.extend(word.split())\n",
    "\n",
    "    for i, token in enumerate(bpe_tokens):\n",
    "        if token not in vocab:\n",
    "            bpe_tokens[i] = unk_token\n",
    "    return bpe_tokens\n",
    "\n",
    "\n",
    "# A test example with a special character. Is the character tokenized correctly as <unk> token?\n",
    "print(apply_bpe_tokenization(tweet_ds['train'][0]['clean'] + ' 🇺', bpe_vocab, bpe_merges))"
   ]
  },
  {
   "cell_type": "markdown",
   "metadata": {
    "collapsed": false,
    "pycharm": {
     "name": "#%% md\n"
    }
   },
   "source": [
    "The function below will apply our BPE tokenizer to the dataset. It will add a new column `bpe_tokens` to each example."
   ]
  },
  {
   "cell_type": "code",
   "execution_count": null,
   "metadata": {
    "collapsed": false,
    "pycharm": {
     "name": "#%%\n"
    }
   },
   "outputs": [],
   "source": [
    "def tokenize_bpe(example, vocab, merges, unk_token='<unk>'):\n",
    "    \"\"\"\n",
    "    Tokenizes the example from the Dataset using BPE\n",
    "    Args:\n",
    "        example: an example from the Dataset\n",
    "        vocab: a BPE vocabulary\n",
    "\n",
    "    Returns: update example containing 'bpe_tokens' column\n",
    "\n",
    "    \"\"\"\n",
    "    text = example['clean']\n",
    "    bpe_tokens = apply_bpe_tokenization(text, vocab, merges, unk_token)\n",
    "    example['bpe_tokens'] = bpe_tokens\n",
    "    return example\n",
    "\n",
    "tweet_ds = tweet_ds.map(tokenize_bpe, fn_kwargs={'vocab': bpe_vocab, 'merges': bpe_merges})\n",
    "print(tweet_ds)"
   ]
  },
  {
   "cell_type": "markdown",
   "metadata": {
    "collapsed": false,
    "pycharm": {
     "name": "#%% md\n"
    }
   },
   "source": [
    "We will inspect the both tokenizations of several examples from the ```validation``` subset. Try to find the ```<unk>``` tokens in the printed examples."
   ]
  },
  {
   "cell_type": "code",
   "execution_count": null,
   "metadata": {
    "collapsed": false,
    "pycharm": {
     "name": "#%%\n"
    }
   },
   "outputs": [],
   "source": [
    "for i in range(10):\n",
    "    print('Original tweet:')\n",
    "    print(tweet_ds['validation'][i]['text'])\n",
    "    print('Word tokenization:')\n",
    "    print(tweet_ds['validation'][i]['tokens'])\n",
    "    print('BPE tokenization:')\n",
    "    print(tweet_ds['validation'][i]['bpe_tokens'])\n",
    "    print()"
   ]
  },
  {
   "cell_type": "markdown",
   "metadata": {
    "collapsed": false,
    "pycharm": {
     "name": "#%% md\n"
    }
   },
   "source": [
    "### Exercise 10: Comparing tokenizers\n",
    "\n",
    "Train the BPE tokenizer with different number of merges. Compare the tokenization results with the word tokenization.\n",
    "1. (5p) What are the differences?\n",
    "2. (5p) Compare the number of tokens created by your tokenizers.\n",
    "3. (5p) Calculate the number of `<unk>` tokens in the validation dataset for each tokenizer.\n",
    "4. (5p) Compare the average length in tokens between different tokenizers.\n",
    "5. (5p) What are the advantages and disadvantages of the BPE tokenizer?"
   ]
  },
  {
   "cell_type": "markdown",
   "metadata": {
    "collapsed": false,
    "pycharm": {
     "name": "#%% md\n"
    }
   },
   "source": [
    "For answering these questions make sure to include a proper mix of numbers/plots/tables etc. and comments."
   ]
  },
  {
   "cell_type": "markdown",
   "metadata": {
    "collapsed": false,
    "pycharm": {
     "name": "#%% md\n"
    }
   },
   "source": []
  }
 ],
 "metadata": {
  "kernelspec": {
   "display_name": "Python (my_env)",
   "language": "python",
   "name": "my_env"
  },
  "language_info": {
   "codemirror_mode": {
    "name": "ipython",
    "version": 3
   },
   "file_extension": ".py",
   "mimetype": "text/x-python",
   "name": "python",
   "nbconvert_exporter": "python",
   "pygments_lexer": "ipython3",
   "version": "3.13.2"
  }
 },
 "nbformat": 4,
 "nbformat_minor": 1
}
