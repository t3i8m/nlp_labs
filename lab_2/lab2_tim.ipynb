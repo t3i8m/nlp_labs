{
 "cells": [
  {
   "cell_type": "markdown",
   "metadata": {
    "collapsed": false,
    "id": "od2YkWY8pSOC",
    "pycharm": {
     "name": "#%% md\n"
    }
   },
   "source": [
    "# NLP 2025\n",
    "# Lab 2: Word Vectors and Information Retrieval\n",
    "\n",
    "During the first few weeks, we discussed various ways to represent text 📝. One key question was: What should be the basic unit of representation? Words are the fundamental building blocks 🧱.\n",
    "\n",
    "In this lab, we will explore different text representation models, such as Bag-of-Words (BoW), TF-IDF and word embeddings 🔤➡️🔢. Among these, word embeddings are the most effective in terms of performance. They represent each word as a vector of numbers, where each vector captures the meaning of the word 🧠📊.\n",
    "\n",
    "These numerical representations (or weights) are learned using machine learning models 🤖. We’ll dive deeper into how these vectors are learned in the next lecture 📚.\n",
    "\n",
    "For now, we’ll focus on how different representation methods affect performance in an information retrieval task 🔍."
   ]
  },
  {
   "cell_type": "markdown",
   "metadata": {
    "collapsed": false,
    "id": "s93LS5bspSOD",
    "pycharm": {
     "name": "#%% md\n"
    }
   },
   "source": [
    "By the end of this lab, you should be able to:\n",
    "\n",
    "+ 🧼🔁 Implement and/or use built-in functions to preprocess your data (once again!)\n",
    "+ 🧱👜 Build a Bag-of-Words representation of the dataset\n",
    "+ 📊✨ Implement TF-IDF\n",
    "+ 📥🔤 Load pre-trained word embeddings\n",
    "+ 🔍🧠 Inspect and test word embedding properties\n",
    "+ 🗣️➡️📐 Use word embeddings to get sentence representations (aka sentence embeddings)\n",
    "+ 🧩🔎 Use sentence embeddings to solve more complex tasks like information retrieval\n",
    "+ 🧪📏 Design evaluation frameworks for specific NLP tasks and assess their difficulty\n",
    "\n",
    "### Score breakdown\n",
    "\n",
    "| Exercise            | Points |\n",
    "|---------------------|--------|\n",
    "| [Exercise 1](#e1)   | 1      |\n",
    "| [Exercise 2](#e2)   | 1      |\n",
    "| [Exercise 3](#e3)   | 1      |\n",
    "| [Exercise 4](#e4)   | 1      |\n",
    "| [Exercise 5](#e5)   | 1      |\n",
    "| [Exercise 6](#e6)   | 2      |\n",
    "| [Exercise 7](#e7)   | 10     |\n",
    "| [Exercise 8](#e8)   | 5      |\n",
    "| [Exercise 9](#e9)   | 15     |\n",
    "| [Exercise 10](#e10) | 10     |\n",
    "| [Exercise 11](#e11) | 10     |\n",
    "| [Exercise 12](#e12) | 5      |\n",
    "| [Exercise 13](#e13) | 15     |\n",
    "| [Exercise 14](#e14) | 3      |\n",
    "| [Exercise 15](#e15) | 10     |\n",
    "| [Exercise 16](#e16) | 10     |\n",
    "| Total               | 100    |\n",
    "\n",
    "This score will be scaled down to 1 and that will be your final lab score.\n",
    "\n",
    "### 📌 **Instructions for Delivery** (📅 **Deadline: 18/Apr 18:00**, 🎭 *wildcards possible*)\n",
    "\n",
    "✅ **Submission Requirements**\n",
    "+ 📄 You need to submit a **PDF of your report** (use the templates provided in **LaTeX** 🖋️ (*preferred*) or **Word** 📑) and a **copy of your notebook** 📓 with the code.\n",
    "+ ⚡ Make sure that **all cells are executed properly** ⚙️ and that **all figures/results/plots** 📊 you include in the report are also visible in your **executed notebook**.\n",
    "\n",
    "✅ **Collaboration & Integrity**\n",
    "+ 🗣️ While you may **discuss** the lab with others, you must **write your solutions with your group only**. If you **discuss specific tasks** with others, please **include their names** in the appendix of the report.\n",
    "+ 📜 **Honor Code applies** to this lab. For more details, check **Syllabus §7.2** ⚖️.\n",
    "+ 📢 **Mandatory Disclosure**:\n",
    "   - Any **websites** 🌐 (e.g., **Stack Overflow** 💡) or **other resources** used must be **listed and disclosed**.\n",
    "   - Any **GenAI tools** 🤖 (e.g., **ChatGPT**) used must be **explicitly mentioned**.\n",
    "   - 🚨 **Failure to disclose these resources is a violation of academic integrity**. See **Syllabus §7.3** for details."
   ]
  },
  {
   "cell_type": "markdown",
   "metadata": {
    "collapsed": false,
    "id": "aHYGq5RUpSOD",
    "pycharm": {
     "name": "#%% md\n"
    }
   },
   "source": [
    "## 0. Setup\n",
    "\n",
    "As in the last lab, we will be using huggingface datasets library ([https://huggingface.co/datasets](https://huggingface.co/datasets)). You can find the detailed documentation and tutorials here: [https://huggingface.co/docs/datasets/en/index](https://huggingface.co/docs/datasets/en/index)\n",
    "\n",
    "If you don't have it installed you can run the code below or install it via `pip` in your terminal. If you are using Google Colab, you can uncomment and run the code below in a code cell. Restarting of the runtime may be required after installation (Runtime/Restart session)."
   ]
  },
  {
   "cell_type": "code",
   "execution_count": 2,
   "metadata": {
    "id": "rhEG8hKrpSOE",
    "pycharm": {
     "name": "#%%\n"
    }
   },
   "outputs": [],
   "source": [
    "# ! pip install -U datasets~=3.5.0\n",
    "# ! pip install -U gensim\n",
    "# ! python -m pip install -U matplotlib\n",
    "# ! pip install nltk\n",
    "# ! pip install -U scikit-learn"
   ]
  },
  {
   "cell_type": "markdown",
   "metadata": {
    "collapsed": false,
    "pycharm": {
     "name": "#%% md\n"
    }
   },
   "source": [
    "Previously installed datasets library version of 3.2.0 had an error when combined with numpy version >2. If you encounter an error at some point it might require to update the datasets library to the newer version. You can do that by running the code below. If you are using Google Colab, you can run the code below in a code cell. If you are using Jupyter Notebook, you can run the code below in a code cell or in a terminal."
   ]
  },
  {
   "cell_type": "code",
   "execution_count": 3,
   "metadata": {
    "collapsed": false,
    "pycharm": {
     "name": "#%%\n"
    }
   },
   "outputs": [],
   "source": [
    "# ! pip install --upgrade --force-reinstall datasets"
   ]
  },
  {
   "cell_type": "markdown",
   "metadata": {
    "collapsed": false,
    "id": "5CCI1TPJpSOF",
    "pycharm": {
     "name": "#%% md\n"
    }
   },
   "source": [
    "As usual, we start by importing some essential Python libraries and we will be using. Apart from `gensim` (which is going to be used for word embeddings), we have already seen the others."
   ]
  },
  {
   "cell_type": "code",
   "execution_count": 1,
   "metadata": {
    "id": "CRe8W4hKpSOF",
    "pycharm": {
     "name": "#%%\n"
    }
   },
   "outputs": [
    {
     "name": "stderr",
     "output_type": "stream",
     "text": [
      "[nltk_data] Downloading package punkt_tab to\n",
      "[nltk_data]     C:\\Users\\Tim\\AppData\\Roaming\\nltk_data...\n",
      "[nltk_data]   Package punkt_tab is already up-to-date!\n"
     ]
    },
    {
     "data": {
      "text/plain": [
       "True"
      ]
     },
     "execution_count": 1,
     "metadata": {},
     "output_type": "execute_result"
    }
   ],
   "source": [
    "import re\n",
    "\n",
    "import numpy as np\n",
    "import matplotlib.pyplot as plt\n",
    "import datasets\n",
    "import nltk\n",
    "import tqdm\n",
    "import gensim\n",
    "\n",
    "nltk.download('punkt_tab')"
   ]
  },
  {
   "cell_type": "markdown",
   "metadata": {
    "collapsed": false,
    "id": "NXy-1KiCpSOF",
    "pycharm": {
     "name": "#%% md\n"
    }
   },
   "source": [
    "## 1. Load and Preprocess Data\n",
    "\n",
    "*Sentence compression* involves rephrasing sentences to make them shorter while still retaining the original meaning. A reliable compression system would be valuable for mobile devices and could also serve as a component in an extractive summarization system.\n",
    "\n",
    "The dataset we are going to use can be found on [Huggingface](https://huggingface.co/datasets/embedding-data/sentence-compression). It concerns a set of 180,000 pairs of sentences, aka it is a parallel corpus of sentences and their equivalent compressions. It has been collected by harvesting news articles from the Internet where the headline appears to be similar to the first sentence and that property is used to find an \"extractive\" compression of the sentence.\n",
    "\n",
    "For example, for the sentence\n",
    "\n",
    "`\"Regulators Friday shut down a small Florida bank, bringing to 119 the number of US bank failures this year amid mounting loan defaults\"`\n",
    "\n",
    "the compressed equivalent (based on the dataset) is:\n",
    "\n",
    "`\"Regulators shut down small Florida bank\"`.\n",
    "\n",
    "\n",
    "For more information you can read the original paper (from Google) [here](https://aclanthology.org/D13-1155.pdf). We strongly recommend going over the paper to gain further insights. Notice that the paper is from 2013, therefore word embeddings have not been widely introduced yet in NLP tasks, meaning that the methods applied were based on the traditional NLP pipeline (feature extraction + ML)."
   ]
  },
  {
   "cell_type": "markdown",
   "metadata": {
    "collapsed": false,
    "id": "ztJX2GRVpSOF",
    "pycharm": {
     "name": "#%% md\n"
    }
   },
   "source": [
    "### 1.1 Loading the Dataset\n",
    "\n",
    "The dataset will be loaded as a Pandas DataFrame. This may take a few minutes because of the large size of the data.\n",
    "\n",
    "Make sure to inspect the dataset and make sure it is imported properly."
   ]
  },
  {
   "cell_type": "code",
   "execution_count": 2,
   "metadata": {
    "id": "tay2NXPTpSOG",
    "pycharm": {
     "name": "#%%\n"
    }
   },
   "outputs": [
    {
     "name": "stdout",
     "output_type": "stream",
     "text": [
      "DatasetDict({\n",
      "    train: Dataset({\n",
      "        features: ['set'],\n",
      "        num_rows: 180000\n",
      "    })\n",
      "})\n"
     ]
    }
   ],
   "source": [
    "ds = datasets.load_dataset('embedding-data/sentence-compression')\n",
    "print(ds)"
   ]
  },
  {
   "cell_type": "code",
   "execution_count": 3,
   "metadata": {
    "id": "bUud3eZVpSOH",
    "pycharm": {
     "name": "#%%\n"
    }
   },
   "outputs": [
    {
     "name": "stdout",
     "output_type": "stream",
     "text": [
      "{'set': [\"The USHL completed an expansion draft on Monday as 10 players who were on the rosters of USHL teams during the 2009-10 season were selected by the League's two newest entries, the Muskegon Lumberjacks and Dubuque Fighting Saints.\", 'USHL completes expansion draft']}\n",
      "{'set': ['Major League Baseball Commissioner Bud Selig will be speaking at St. Norbert College next month.', 'Bud Selig to speak at St. Norbert College']}\n",
      "{'set': [\"It's fresh cherry time in Michigan and the best time to enjoy this delicious and nutritious fruit.\", \"It's cherry time\"]}\n",
      "{'set': ['An Evesham man is facing charges in Pennsylvania after he allegedly dragged his girlfriend from the side of his pickup truck on the campus of Kutztown University in the early morning hours of Dec. 5, police said.', 'Evesham man faces charges for Pa.']}\n",
      "{'set': [\"NRT LLC, one of the nation's largest residential real estate brokerage companies, announced several executive appointments within its Coldwell Banker Residential Brokerage operations in Southern California.\", 'NRT announces executive appointments at its Coldwell Banker operations in Southern California']}\n",
      "{'set': ['THE JSE kept toying with an all time high by midday today as resources continued to fuel the bourse.', 'JSE keeps toying with all time high']}\n",
      "{'set': ['The government is defending the latest police crime statistics despite a worrying rise in the recorded amount of violent offending.', 'Government defends crime statistics']}\n",
      "{'set': ['The renovated Marappalam bridge, which had been opened for two-wheelers last week, was opened for other vehicles also on Friday.', 'Marappalam bridge opened']}\n",
      "{'set': ['A new survey shows 30 percent of Californians use Twitter, and more and more of us are using our smart phones to go online.', 'Survey: 30 percent of Californians use Twitter']}\n",
      "{'set': ['Brightpoint ,a provider of logistic services to the mobile industry, has started operations in the Turkish market.', 'Brightpoint starts operations on Turkish market']}\n"
     ]
    }
   ],
   "source": [
    "for i in range(10):\n",
    "    print(ds['train'][i])"
   ]
  },
  {
   "cell_type": "markdown",
   "metadata": {
    "collapsed": false,
    "id": "HfJSiWxrpSOH",
    "pycharm": {
     "name": "#%% md\n"
    }
   },
   "source": [
    "The dataset comes with only the `train` split so we will have to split it ourselves."
   ]
  },
  {
   "cell_type": "code",
   "execution_count": 4,
   "metadata": {
    "id": "tATL53MWpSOH",
    "pycharm": {
     "name": "#%%\n"
    }
   },
   "outputs": [
    {
     "name": "stdout",
     "output_type": "stream",
     "text": [
      "DatasetDict({\n",
      "    train: Dataset({\n",
      "        features: ['set'],\n",
      "        num_rows: 144000\n",
      "    })\n",
      "    test: Dataset({\n",
      "        features: ['set'],\n",
      "        num_rows: 36000\n",
      "    })\n",
      "})\n"
     ]
    }
   ],
   "source": [
    "split_ds = ds['train'].train_test_split(test_size=0.2)\n",
    "print(split_ds)"
   ]
  },
  {
   "cell_type": "markdown",
   "metadata": {
    "collapsed": false,
    "id": "L133t3CqpSOH",
    "pycharm": {
     "name": "#%% md\n"
    }
   },
   "source": [
    "### 1.2 Preprocessing the dataset\n",
    "In this section we will prepare the dataset, aka clean the sentences and tokenize.\n",
    "\n",
    "First, let's write the function to clean the text. It can be similar to the one from the previous lab (Lab1) but make sure that it makes sense for this dataset and task.\n",
    "\n",
    "More specifically, think about lower-casing, punctuation, stop-words and lemmatization/stemming and the impact it might have on the dataset. Also reflect on the fact that with word embeddings we want to uncover semantic relationships between words, whereas with bag-of-words we were trying to capture different morphological variations."
   ]
  },
  {
   "cell_type": "markdown",
   "metadata": {
    "collapsed": false,
    "id": "mQszN6GNpSOH",
    "pycharm": {
     "name": "#%% md\n"
    }
   },
   "source": [
    "<a name='e1'></a>\n",
    "### Exercise 1: Clean function\n",
    "(1p) Fill in the following function ot clean the dataset. Implement at least 3 different steps."
   ]
  },
  {
   "cell_type": "code",
   "execution_count": 56,
   "metadata": {},
   "outputs": [
    {
     "name": "stderr",
     "output_type": "stream",
     "text": [
      "[nltk_data] Downloading package wordnet to\n",
      "[nltk_data]     C:\\Users\\Tim\\AppData\\Roaming\\nltk_data...\n",
      "[nltk_data]   Package wordnet is already up-to-date!\n",
      "[nltk_data] Downloading package averaged_perceptron_tagger_eng to\n",
      "[nltk_data]     C:\\Users\\Tim\\AppData\\Roaming\\nltk_data...\n",
      "[nltk_data]   Unzipping taggers\\averaged_perceptron_tagger_eng.zip.\n"
     ]
    },
    {
     "data": {
      "text/plain": [
       "True"
      ]
     },
     "execution_count": 56,
     "metadata": {},
     "output_type": "execute_result"
    }
   ],
   "source": [
    "nltk.download('wordnet')\n",
    "nltk.download('averaged_perceptron_tagger_eng')"
   ]
  },
  {
   "cell_type": "code",
   "execution_count": 57,
   "metadata": {},
   "outputs": [],
   "source": [
    "from nltk.corpus import wordnet\n",
    "\n",
    "def get_wordnet_pos(treebank_tag):\n",
    "    \"\"\"\n",
    "    get pos tags\n",
    "    \"\"\"\n",
    "    if treebank_tag.startswith('J'):\n",
    "        return wordnet.ADJ\n",
    "    elif treebank_tag.startswith('V'):\n",
    "        return wordnet.VERB\n",
    "    elif treebank_tag.startswith('N'):\n",
    "        return wordnet.NOUN\n",
    "    elif treebank_tag.startswith('R'):\n",
    "        return wordnet.ADV\n",
    "    else:\n",
    "        return wordnet.NOUN "
   ]
  },
  {
   "cell_type": "code",
   "execution_count": null,
   "metadata": {
    "id": "TxjfLQj6pSOH",
    "pycharm": {
     "name": "#%%\n"
    }
   },
   "outputs": [],
   "source": [
    "def clean(text):\n",
    "    \"\"\"\n",
    "    Cleans the given text\n",
    "    Args:\n",
    "        text: a str with the text to clean\n",
    "\n",
    "    Returns: a str with the cleaned text\n",
    "\n",
    "    \"\"\"\n",
    "\n",
    "    # Empty text\n",
    "    if text == '':\n",
    "        return text\n",
    "\n",
    "    # 'text' from the example can be of type numpy.str_, let's convert it to a python str\n",
    "    text = str(text)\n",
    "\n",
    "    #you might need more\n",
    "    #add them here\n",
    "\n",
    "    ### YOUR CODE HERE\n",
    "    text = text.lower() # bringing to the lowercase\n",
    "\n",
    "    # punctuation removal\n",
    "    pattern = r\"[^\\w\\s]\"\n",
    "    text = re.sub(pattern, \"\", text)\n",
    "\n",
    "    # stop words removal (is, and, the...) is not nescessary, may transform the context, especially when we are dealing with the sentence compression\n",
    "\n",
    "    # lemmatization \n",
    "    lemmatizer = nltk.stem.WordNetLemmatizer()\n",
    "    tagged = nltk.pos_tag(text.split())\n",
    "    text = [lemmatizer.lemmatize(n, get_wordnet_pos(pos)) for n, pos in tagged]\n",
    "    \n",
    "    text = \" \".join(text)\n",
    "    ### YOUR CODE ENDS HERE\n",
    "\n",
    "    text = text.strip()\n",
    "\n",
    "    # Update the example with the cleaned text\n",
    "    return text"
   ]
  },
  {
   "cell_type": "markdown",
   "metadata": {
    "collapsed": false,
    "id": "gAqf1AoupSOJ",
    "pycharm": {
     "name": "#%% md\n"
    }
   },
   "source": [
    "The following function will apply the function (sic) you just wrote to the whole dataset. More specifically, it takes the first entry (`sentence`) from the set of uncompressed/compressed pairs, applies the `clean` function and saves the processed sentence in the field `clean_sentence`. The same is dome for the compressed version of the sentence (saved as `clean_compressed`)."
   ]
  },
  {
   "cell_type": "code",
   "execution_count": 63,
   "metadata": {
    "id": "WZn-M4_vpSOJ",
    "pycharm": {
     "name": "#%%\n"
    }
   },
   "outputs": [],
   "source": [
    "def clean_dataset(example):\n",
    "    \"\"\"\n",
    "    Cleans the sentence and compressed sentence in the example from the Dataset\n",
    "    Args:\n",
    "        example: an example from the Dataset\n",
    "\n",
    "    Returns: updated example with 'clean_sentence' and 'clean_compressed' cleaned\n",
    "\n",
    "    \"\"\"\n",
    "    sentence, compressed = example['set']\n",
    "    clean_sentence = clean(sentence)\n",
    "    clean_compressed = clean(compressed)\n",
    "    example['clean_sentence'] = clean_sentence\n",
    "    example['clean_compressed'] = clean_compressed\n",
    "    return example"
   ]
  },
  {
   "cell_type": "markdown",
   "metadata": {
    "collapsed": false,
    "id": "_KVujosKpSOJ",
    "pycharm": {
     "name": "#%% md\n"
    }
   },
   "source": [
    "Below we apply the function to the whole dataset (using `map`) and we can also inspect the result."
   ]
  },
  {
   "cell_type": "code",
   "execution_count": 66,
   "metadata": {
    "id": "NBS1JbISpSOJ",
    "pycharm": {
     "name": "#%%\n"
    }
   },
   "outputs": [
    {
     "data": {
      "application/vnd.jupyter.widget-view+json": {
       "model_id": "61957c96ef0c45099a393fa73ccf1610",
       "version_major": 2,
       "version_minor": 0
      },
      "text/plain": [
       "Map:   0%|          | 0/144000 [00:00<?, ? examples/s]"
      ]
     },
     "metadata": {},
     "output_type": "display_data"
    },
    {
     "data": {
      "application/vnd.jupyter.widget-view+json": {
       "model_id": "bde3859216d9416e9e5ce0ac7c142904",
       "version_major": 2,
       "version_minor": 0
      },
      "text/plain": [
       "Map:   0%|          | 0/36000 [00:00<?, ? examples/s]"
      ]
     },
     "metadata": {},
     "output_type": "display_data"
    },
    {
     "name": "stdout",
     "output_type": "stream",
     "text": [
      "DatasetDict({\n",
      "    train: Dataset({\n",
      "        features: ['set', 'clean_sentence', 'clean_compressed', 'sentence_tokens', 'compressed_tokens'],\n",
      "        num_rows: 144000\n",
      "    })\n",
      "    test: Dataset({\n",
      "        features: ['set', 'clean_sentence', 'clean_compressed', 'sentence_tokens', 'compressed_tokens'],\n",
      "        num_rows: 36000\n",
      "    })\n",
      "})\n"
     ]
    }
   ],
   "source": [
    "split_ds = split_ds.map(clean_dataset)\n",
    "print(split_ds)"
   ]
  },
  {
   "cell_type": "markdown",
   "metadata": {
    "collapsed": false,
    "id": "X_ThE9H-pSOJ",
    "pycharm": {
     "name": "#%% md\n"
    }
   },
   "source": [
    "Let's examine some examples from the dataset and make sure that we got the results we wanted. At this step, it might be necessary to revisit some pre-processing steps if you are not happy with the results."
   ]
  },
  {
   "cell_type": "code",
   "execution_count": 67,
   "metadata": {
    "id": "hP-qOPijpSOJ",
    "pycharm": {
     "name": "#%%\n"
    }
   },
   "outputs": [
    {
     "name": "stdout",
     "output_type": "stream",
     "text": [
      "{'set': ['South African bowling sensation Vernon Philander injured his knee at net practice on Saturday morning, but should still be fit to play in the second Test against Sri Lanka which starts on Monday.', 'Philander injured in practice'], 'clean_sentence': 'south african bowling sensation vernon philander injure his knee at net practice on saturday morning but should still be fit to play in the second test against sri lanka which start on monday', 'clean_compressed': 'philander injure in practice', 'sentence_tokens': ['south', 'african', 'bowling', 'sensation', 'vernon', 'philander', 'injured', 'his', 'knee', 'at', 'net', 'practice', 'on', 'saturday', 'morning', 'but', 'should', 'still', 'be', 'fit', 'to', 'play', 'in', 'the', 'second', 'test', 'against', 'sri', 'lanka', 'which', 'start', 'on', 'monday'], 'compressed_tokens': ['philander', 'injured', 'in', 'practice']}\n",
      "{'set': ['A New Hampshire man has been accused of threatening others with a knife in Laconia.', 'N.H. man accused of threatening others with knife'], 'clean_sentence': 'a new hampshire man have be accuse of threaten others with a knife in laconia', 'clean_compressed': 'nh man accuse of threaten others with knife', 'sentence_tokens': ['a', 'new', 'hampshire', 'man', 'ha', 'been', 'accused', 'of', 'threatening', 'others', 'with', 'a', 'knife', 'in', 'laconia'], 'compressed_tokens': ['nh', 'man', 'accused', 'of', 'threatening', 'others', 'with', 'knife']}\n",
      "{'set': [\"Robbers who repeatedly punched a 57-year-old woman in the face in an ``horrific'' late night attack are being hunted by police.\", \"Robbers repeatedly punch woman in face during 'horrific' attack\"], 'clean_sentence': 'robber who repeatedly punch a 57yearold woman in the face in an horrific late night attack be be hunt by police', 'clean_compressed': 'robber repeatedly punch woman in face during horrific attack', 'sentence_tokens': ['robber', 'who', 'repeatedly', 'punched', 'a', '57yearold', 'woman', 'in', 'the', 'face', 'in', 'an', 'horrific', 'late', 'night', 'attack', 'are', 'being', 'hunted', 'by', 'police'], 'compressed_tokens': ['robber', 'repeatedly', 'punch', 'woman', 'in', 'face', 'during', 'horrific', 'attack']}\n",
      "{'set': [\"Lohse picked up his first victory of the season in eight starts, allowing one earned run in six innings in the St. Louis Cardinals' 6-2 win over Washington.\", 'Lohse picks up his first victory of the season'], 'clean_sentence': 'lohse pick up his first victory of the season in eight start allow one earn run in six inning in the st louis cardinal 62 win over washington', 'clean_compressed': 'lohse pick up his first victory of the season', 'sentence_tokens': ['lohse', 'picked', 'up', 'his', 'first', 'victory', 'of', 'the', 'season', 'in', 'eight', 'start', 'allowing', 'one', 'earned', 'run', 'in', 'six', 'inning', 'in', 'the', 'st', 'louis', 'cardinal', '62', 'win', 'over', 'washington'], 'compressed_tokens': ['lohse', 'pick', 'up', 'his', 'first', 'victory', 'of', 'the', 'season']}\n",
      "{'set': [\"Apple has sent an official ``cease and desist'' email to public wiki site Bluwiki, demanding they remove postings where users are trying to figure out how to ``write software that can sync media to the latest versions of the iPhone and iPod Touch.''\", 'Apple sends cease and desist email to public wiki site, bluwiki'], 'clean_sentence': 'apple have send an official cease and desist email to public wiki site bluwiki demand they remove posting where user be try to figure out how to write software that can sync medium to the late version of the iphone and ipod touch', 'clean_compressed': 'apple send cease and desist email to public wiki site bluwiki', 'sentence_tokens': ['apple', 'ha', 'sent', 'an', 'official', 'cease', 'and', 'desist', 'email', 'to', 'public', 'wiki', 'site', 'bluwiki', 'demanding', 'they', 'remove', 'posting', 'where', 'user', 'are', 'trying', 'to', 'figure', 'out', 'how', 'to', 'write', 'software', 'that', 'can', 'sync', 'medium', 'to', 'the', 'latest', 'version', 'of', 'the', 'iphone', 'and', 'ipod', 'touch'], 'compressed_tokens': ['apple', 'sends', 'cease', 'and', 'desist', 'email', 'to', 'public', 'wiki', 'site', 'bluwiki']}\n",
      "{'set': [\"Avengers director and fan favorite TV creator Joss Whedon said that he is ``pissed off'' about the lack of female superheroes in a recent interview.\", \"Joss Whedon 'pissed off' over lack of female superheroes\"], 'clean_sentence': 'avenger director and fan favorite tv creator joss whedon say that he be piss off about the lack of female superheroes in a recent interview', 'clean_compressed': 'joss whedon piss off over lack of female superheroes', 'sentence_tokens': ['avenger', 'director', 'and', 'fan', 'favorite', 'tv', 'creator', 'joss', 'whedon', 'said', 'that', 'he', 'is', 'pissed', 'off', 'about', 'the', 'lack', 'of', 'female', 'superheroes', 'in', 'a', 'recent', 'interview'], 'compressed_tokens': ['joss', 'whedon', 'pissed', 'off', 'over', 'lack', 'of', 'female', 'superheroes']}\n",
      "{'set': [\"Ceann Comhairle John O'Donoghue is to resign next week, after pressure from Opposition parties over his travel and expenses claims.\", \"O'Donoghue to resign next week\"], 'clean_sentence': 'ceann comhairle john odonoghue be to resign next week after pressure from opposition party over his travel and expense claim', 'clean_compressed': 'odonoghue to resign next week', 'sentence_tokens': ['ceann', 'comhairle', 'john', 'odonoghue', 'is', 'to', 'resign', 'next', 'week', 'after', 'pressure', 'from', 'opposition', 'party', 'over', 'his', 'travel', 'and', 'expense', 'claim'], 'compressed_tokens': ['odonoghue', 'to', 'resign', 'next', 'week']}\n",
      "{'set': [\"Baltimore Ravens linebacker Ray Lewis will retire after this season ends, and while he'll be remembered as one of the all-time great linebackers in the NFL, he'll also be remembered for his contributions off the field.\", \"Baltimore Ravens' Ray Lewis to retire after season\"], 'clean_sentence': 'baltimore raven linebacker ray lewis will retire after this season end and while hell be remember a one of the alltime great linebacker in the nfl hell also be remember for his contribution off the field', 'clean_compressed': 'baltimore raven ray lewis to retire after season', 'sentence_tokens': ['baltimore', 'raven', 'linebacker', 'ray', 'lewis', 'will', 'retire', 'after', 'this', 'season', 'end', 'and', 'while', 'hell', 'be', 'remembered', 'a', 'one', 'of', 'the', 'alltime', 'great', 'linebacker', 'in', 'the', 'nfl', 'hell', 'also', 'be', 'remembered', 'for', 'his', 'contribution', 'off', 'the', 'field'], 'compressed_tokens': ['baltimore', 'raven', 'ray', 'lewis', 'to', 'retire', 'after', 'season']}\n",
      "{'set': ['Phillies pitcher Cliff Lee signed autographs in Little Rock to drum up donations to the Arkansas Foodbank.', 'Cliff Lee signs autographs in Little Rock'], 'clean_sentence': 'phillies pitcher cliff lee sign autograph in little rock to drum up donation to the arkansas foodbank', 'clean_compressed': 'cliff lee sign autograph in little rock', 'sentence_tokens': ['phillies', 'pitcher', 'cliff', 'lee', 'signed', 'autograph', 'in', 'little', 'rock', 'to', 'drum', 'up', 'donation', 'to', 'the', 'arkansas', 'foodbank'], 'compressed_tokens': ['cliff', 'lee', 'sign', 'autograph', 'in', 'little', 'rock']}\n",
      "{'set': ['A woman shot dead by her former partner saved six lives by donating her organs to others, it emerged yesterday.', 'Woman shot dead by former partner saved six lives by donating her organs'], 'clean_sentence': 'a woman shoot dead by her former partner save six life by donate her organ to others it emerge yesterday', 'clean_compressed': 'woman shoot dead by former partner save six life by donate her organ', 'sentence_tokens': ['a', 'woman', 'shot', 'dead', 'by', 'her', 'former', 'partner', 'saved', 'six', 'life', 'by', 'donating', 'her', 'organ', 'to', 'others', 'it', 'emerged', 'yesterday'], 'compressed_tokens': ['woman', 'shot', 'dead', 'by', 'former', 'partner', 'saved', 'six', 'life', 'by', 'donating', 'her', 'organ']}\n"
     ]
    }
   ],
   "source": [
    "for i in range(10):\n",
    "    print(split_ds['train'][i])"
   ]
  },
  {
   "cell_type": "markdown",
   "metadata": {
    "collapsed": false,
    "id": "7LI2KlfypSOJ",
    "pycharm": {
     "name": "#%% md\n"
    }
   },
   "source": [
    "<a name='e2'></a>\n",
    "### Exercise 2: Tokenize function\n",
    "\n",
    "(1p) As always, we will need to tokenize the dataset in order to create bat-of-words and TF-IDF representations in the next sections. We will use the [Natural Language Toolkit (NLTK) library]([https://www.nltk.org/]) (https://www.nltk.org/). Complete the following function to split the text into tokens using the `word_tokenize()` function. Check the [documentation](https://www.nltk.org/api/nltk.tokenize.word_tokenize.html?highlight=word_tokenize) first.\n",
    "Note that there are different tokenizers e.g. `RegexpTokenizer` where you can enter your own regexp, `WhitespaceTokenizer` (similar to Python's string.split()) and `BlanklineTokenizer`."
   ]
  },
  {
   "cell_type": "code",
   "execution_count": 68,
   "metadata": {
    "id": "sb-M3V6ApSOK",
    "pycharm": {
     "name": "#%%\n"
    }
   },
   "outputs": [],
   "source": [
    "def tokenize(text):\n",
    "    \"\"\"\n",
    "    Tokenizes the `text` parameter using nltk library\n",
    "    Args:\n",
    "        text: a string representing a sentence to be tokenized\n",
    "\n",
    "    Returns: a list of tokens (strings)\n",
    "\n",
    "    \"\"\"\n",
    "\n",
    "    ### YOUR CODE HERE\n",
    "\n",
    "    tokens = nltk.tokenize.word_tokenize(text)\n",
    "\n",
    "    ### YOUR CODE ENDS HERE\n",
    "    return tokens"
   ]
  },
  {
   "cell_type": "markdown",
   "metadata": {
    "collapsed": false,
    "id": "gwsHqZc9pSOK",
    "pycharm": {
     "name": "#%% md\n"
    }
   },
   "source": [
    "Next, the function will be applied to the whole dataset (as we did with the pre-processing) and `sentence_tokens` field will be created to store the result."
   ]
  },
  {
   "cell_type": "code",
   "execution_count": 69,
   "metadata": {
    "id": "6sTX-AcTpSOK",
    "pycharm": {
     "name": "#%%\n"
    }
   },
   "outputs": [],
   "source": [
    "def tokenize_dataset(example):\n",
    "    \"\"\"\n",
    "    Tokenizes 'clean_sentence' columns in the example from the Dataset\n",
    "    Args:\n",
    "        example: an example from the Dataset\n",
    "\n",
    "    Returns: updated example with 'sentence_tokens' columns\n",
    "\n",
    "    \"\"\"\n",
    "    example['sentence_tokens'] = tokenize(example['clean_sentence'])\n",
    "    example['compressed_tokens'] = tokenize(example['clean_compressed'])\n",
    "    return example"
   ]
  },
  {
   "cell_type": "code",
   "execution_count": 16,
   "metadata": {
    "id": "jvwmXLj2pSOK",
    "pycharm": {
     "name": "#%%\n"
    }
   },
   "outputs": [
    {
     "data": {
      "application/vnd.jupyter.widget-view+json": {
       "model_id": "d19ed3f944684c4ab00fdd2461f4a20a",
       "version_major": 2,
       "version_minor": 0
      },
      "text/plain": [
       "Map:   0%|          | 0/144000 [00:00<?, ? examples/s]"
      ]
     },
     "metadata": {},
     "output_type": "display_data"
    },
    {
     "data": {
      "application/vnd.jupyter.widget-view+json": {
       "model_id": "17153bab73054ace994d3e5adee9e414",
       "version_major": 2,
       "version_minor": 0
      },
      "text/plain": [
       "Map:   0%|          | 0/36000 [00:00<?, ? examples/s]"
      ]
     },
     "metadata": {},
     "output_type": "display_data"
    }
   ],
   "source": [
    "split_ds = split_ds.map(tokenize_dataset)"
   ]
  },
  {
   "cell_type": "code",
   "execution_count": 70,
   "metadata": {
    "id": "yXnje31SpSOK",
    "pycharm": {
     "name": "#%%\n"
    }
   },
   "outputs": [
    {
     "name": "stdout",
     "output_type": "stream",
     "text": [
      "{'set': ['South African bowling sensation Vernon Philander injured his knee at net practice on Saturday morning, but should still be fit to play in the second Test against Sri Lanka which starts on Monday.', 'Philander injured in practice'], 'clean_sentence': 'south african bowling sensation vernon philander injure his knee at net practice on saturday morning but should still be fit to play in the second test against sri lanka which start on monday', 'clean_compressed': 'philander injure in practice', 'sentence_tokens': ['south', 'african', 'bowling', 'sensation', 'vernon', 'philander', 'injured', 'his', 'knee', 'at', 'net', 'practice', 'on', 'saturday', 'morning', 'but', 'should', 'still', 'be', 'fit', 'to', 'play', 'in', 'the', 'second', 'test', 'against', 'sri', 'lanka', 'which', 'start', 'on', 'monday'], 'compressed_tokens': ['philander', 'injured', 'in', 'practice']}\n",
      "{'set': ['A New Hampshire man has been accused of threatening others with a knife in Laconia.', 'N.H. man accused of threatening others with knife'], 'clean_sentence': 'a new hampshire man have be accuse of threaten others with a knife in laconia', 'clean_compressed': 'nh man accuse of threaten others with knife', 'sentence_tokens': ['a', 'new', 'hampshire', 'man', 'ha', 'been', 'accused', 'of', 'threatening', 'others', 'with', 'a', 'knife', 'in', 'laconia'], 'compressed_tokens': ['nh', 'man', 'accused', 'of', 'threatening', 'others', 'with', 'knife']}\n",
      "{'set': [\"Robbers who repeatedly punched a 57-year-old woman in the face in an ``horrific'' late night attack are being hunted by police.\", \"Robbers repeatedly punch woman in face during 'horrific' attack\"], 'clean_sentence': 'robber who repeatedly punch a 57yearold woman in the face in an horrific late night attack be be hunt by police', 'clean_compressed': 'robber repeatedly punch woman in face during horrific attack', 'sentence_tokens': ['robber', 'who', 'repeatedly', 'punched', 'a', '57yearold', 'woman', 'in', 'the', 'face', 'in', 'an', 'horrific', 'late', 'night', 'attack', 'are', 'being', 'hunted', 'by', 'police'], 'compressed_tokens': ['robber', 'repeatedly', 'punch', 'woman', 'in', 'face', 'during', 'horrific', 'attack']}\n",
      "{'set': [\"Lohse picked up his first victory of the season in eight starts, allowing one earned run in six innings in the St. Louis Cardinals' 6-2 win over Washington.\", 'Lohse picks up his first victory of the season'], 'clean_sentence': 'lohse pick up his first victory of the season in eight start allow one earn run in six inning in the st louis cardinal 62 win over washington', 'clean_compressed': 'lohse pick up his first victory of the season', 'sentence_tokens': ['lohse', 'picked', 'up', 'his', 'first', 'victory', 'of', 'the', 'season', 'in', 'eight', 'start', 'allowing', 'one', 'earned', 'run', 'in', 'six', 'inning', 'in', 'the', 'st', 'louis', 'cardinal', '62', 'win', 'over', 'washington'], 'compressed_tokens': ['lohse', 'pick', 'up', 'his', 'first', 'victory', 'of', 'the', 'season']}\n",
      "{'set': [\"Apple has sent an official ``cease and desist'' email to public wiki site Bluwiki, demanding they remove postings where users are trying to figure out how to ``write software that can sync media to the latest versions of the iPhone and iPod Touch.''\", 'Apple sends cease and desist email to public wiki site, bluwiki'], 'clean_sentence': 'apple have send an official cease and desist email to public wiki site bluwiki demand they remove posting where user be try to figure out how to write software that can sync medium to the late version of the iphone and ipod touch', 'clean_compressed': 'apple send cease and desist email to public wiki site bluwiki', 'sentence_tokens': ['apple', 'ha', 'sent', 'an', 'official', 'cease', 'and', 'desist', 'email', 'to', 'public', 'wiki', 'site', 'bluwiki', 'demanding', 'they', 'remove', 'posting', 'where', 'user', 'are', 'trying', 'to', 'figure', 'out', 'how', 'to', 'write', 'software', 'that', 'can', 'sync', 'medium', 'to', 'the', 'latest', 'version', 'of', 'the', 'iphone', 'and', 'ipod', 'touch'], 'compressed_tokens': ['apple', 'sends', 'cease', 'and', 'desist', 'email', 'to', 'public', 'wiki', 'site', 'bluwiki']}\n",
      "{'set': [\"Avengers director and fan favorite TV creator Joss Whedon said that he is ``pissed off'' about the lack of female superheroes in a recent interview.\", \"Joss Whedon 'pissed off' over lack of female superheroes\"], 'clean_sentence': 'avenger director and fan favorite tv creator joss whedon say that he be piss off about the lack of female superheroes in a recent interview', 'clean_compressed': 'joss whedon piss off over lack of female superheroes', 'sentence_tokens': ['avenger', 'director', 'and', 'fan', 'favorite', 'tv', 'creator', 'joss', 'whedon', 'said', 'that', 'he', 'is', 'pissed', 'off', 'about', 'the', 'lack', 'of', 'female', 'superheroes', 'in', 'a', 'recent', 'interview'], 'compressed_tokens': ['joss', 'whedon', 'pissed', 'off', 'over', 'lack', 'of', 'female', 'superheroes']}\n",
      "{'set': [\"Ceann Comhairle John O'Donoghue is to resign next week, after pressure from Opposition parties over his travel and expenses claims.\", \"O'Donoghue to resign next week\"], 'clean_sentence': 'ceann comhairle john odonoghue be to resign next week after pressure from opposition party over his travel and expense claim', 'clean_compressed': 'odonoghue to resign next week', 'sentence_tokens': ['ceann', 'comhairle', 'john', 'odonoghue', 'is', 'to', 'resign', 'next', 'week', 'after', 'pressure', 'from', 'opposition', 'party', 'over', 'his', 'travel', 'and', 'expense', 'claim'], 'compressed_tokens': ['odonoghue', 'to', 'resign', 'next', 'week']}\n",
      "{'set': [\"Baltimore Ravens linebacker Ray Lewis will retire after this season ends, and while he'll be remembered as one of the all-time great linebackers in the NFL, he'll also be remembered for his contributions off the field.\", \"Baltimore Ravens' Ray Lewis to retire after season\"], 'clean_sentence': 'baltimore raven linebacker ray lewis will retire after this season end and while hell be remember a one of the alltime great linebacker in the nfl hell also be remember for his contribution off the field', 'clean_compressed': 'baltimore raven ray lewis to retire after season', 'sentence_tokens': ['baltimore', 'raven', 'linebacker', 'ray', 'lewis', 'will', 'retire', 'after', 'this', 'season', 'end', 'and', 'while', 'hell', 'be', 'remembered', 'a', 'one', 'of', 'the', 'alltime', 'great', 'linebacker', 'in', 'the', 'nfl', 'hell', 'also', 'be', 'remembered', 'for', 'his', 'contribution', 'off', 'the', 'field'], 'compressed_tokens': ['baltimore', 'raven', 'ray', 'lewis', 'to', 'retire', 'after', 'season']}\n",
      "{'set': ['Phillies pitcher Cliff Lee signed autographs in Little Rock to drum up donations to the Arkansas Foodbank.', 'Cliff Lee signs autographs in Little Rock'], 'clean_sentence': 'phillies pitcher cliff lee sign autograph in little rock to drum up donation to the arkansas foodbank', 'clean_compressed': 'cliff lee sign autograph in little rock', 'sentence_tokens': ['phillies', 'pitcher', 'cliff', 'lee', 'signed', 'autograph', 'in', 'little', 'rock', 'to', 'drum', 'up', 'donation', 'to', 'the', 'arkansas', 'foodbank'], 'compressed_tokens': ['cliff', 'lee', 'sign', 'autograph', 'in', 'little', 'rock']}\n",
      "{'set': ['A woman shot dead by her former partner saved six lives by donating her organs to others, it emerged yesterday.', 'Woman shot dead by former partner saved six lives by donating her organs'], 'clean_sentence': 'a woman shoot dead by her former partner save six life by donate her organ to others it emerge yesterday', 'clean_compressed': 'woman shoot dead by former partner save six life by donate her organ', 'sentence_tokens': ['a', 'woman', 'shot', 'dead', 'by', 'her', 'former', 'partner', 'saved', 'six', 'life', 'by', 'donating', 'her', 'organ', 'to', 'others', 'it', 'emerged', 'yesterday'], 'compressed_tokens': ['woman', 'shot', 'dead', 'by', 'former', 'partner', 'saved', 'six', 'life', 'by', 'donating', 'her', 'organ']}\n"
     ]
    }
   ],
   "source": [
    "for i in range(10):\n",
    "    print(split_ds['train'][i])"
   ]
  },
  {
   "cell_type": "markdown",
   "metadata": {
    "collapsed": false,
    "id": "FeF0wFd0pSOL",
    "pycharm": {
     "name": "#%% md\n"
    }
   },
   "source": [
    "Since we will need the tokenized sentences, we can use the following statement to extract them from the `train` split of our dataset."
   ]
  },
  {
   "cell_type": "code",
   "execution_count": 71,
   "metadata": {
    "id": "qYKfXFxQpSOL",
    "pycharm": {
     "name": "#%%\n"
    }
   },
   "outputs": [
    {
     "name": "stdout",
     "output_type": "stream",
     "text": [
      "144000\n",
      "[['south', 'african', 'bowling', 'sensation', 'vernon', 'philander', 'injured', 'his', 'knee', 'at', 'net', 'practice', 'on', 'saturday', 'morning', 'but', 'should', 'still', 'be', 'fit', 'to', 'play', 'in', 'the', 'second', 'test', 'against', 'sri', 'lanka', 'which', 'start', 'on', 'monday'], ['a', 'new', 'hampshire', 'man', 'ha', 'been', 'accused', 'of', 'threatening', 'others', 'with', 'a', 'knife', 'in', 'laconia'], ['robber', 'who', 'repeatedly', 'punched', 'a', '57yearold', 'woman', 'in', 'the', 'face', 'in', 'an', 'horrific', 'late', 'night', 'attack', 'are', 'being', 'hunted', 'by', 'police'], ['lohse', 'picked', 'up', 'his', 'first', 'victory', 'of', 'the', 'season', 'in', 'eight', 'start', 'allowing', 'one', 'earned', 'run', 'in', 'six', 'inning', 'in', 'the', 'st', 'louis', 'cardinal', '62', 'win', 'over', 'washington'], ['apple', 'ha', 'sent', 'an', 'official', 'cease', 'and', 'desist', 'email', 'to', 'public', 'wiki', 'site', 'bluwiki', 'demanding', 'they', 'remove', 'posting', 'where', 'user', 'are', 'trying', 'to', 'figure', 'out', 'how', 'to', 'write', 'software', 'that', 'can', 'sync', 'medium', 'to', 'the', 'latest', 'version', 'of', 'the', 'iphone', 'and', 'ipod', 'touch'], ['avenger', 'director', 'and', 'fan', 'favorite', 'tv', 'creator', 'joss', 'whedon', 'said', 'that', 'he', 'is', 'pissed', 'off', 'about', 'the', 'lack', 'of', 'female', 'superheroes', 'in', 'a', 'recent', 'interview'], ['ceann', 'comhairle', 'john', 'odonoghue', 'is', 'to', 'resign', 'next', 'week', 'after', 'pressure', 'from', 'opposition', 'party', 'over', 'his', 'travel', 'and', 'expense', 'claim'], ['baltimore', 'raven', 'linebacker', 'ray', 'lewis', 'will', 'retire', 'after', 'this', 'season', 'end', 'and', 'while', 'hell', 'be', 'remembered', 'a', 'one', 'of', 'the', 'alltime', 'great', 'linebacker', 'in', 'the', 'nfl', 'hell', 'also', 'be', 'remembered', 'for', 'his', 'contribution', 'off', 'the', 'field'], ['phillies', 'pitcher', 'cliff', 'lee', 'signed', 'autograph', 'in', 'little', 'rock', 'to', 'drum', 'up', 'donation', 'to', 'the', 'arkansas', 'foodbank'], ['a', 'woman', 'shot', 'dead', 'by', 'her', 'former', 'partner', 'saved', 'six', 'life', 'by', 'donating', 'her', 'organ', 'to', 'others', 'it', 'emerged', 'yesterday']]\n"
     ]
    }
   ],
   "source": [
    "tokenized_sentences = split_ds['train']['sentence_tokens']\n",
    "print(len(tokenized_sentences))\n",
    "print(tokenized_sentences[:10])"
   ]
  },
  {
   "cell_type": "code",
   "execution_count": 72,
   "metadata": {
    "collapsed": false,
    "pycharm": {
     "name": "#%%\n"
    }
   },
   "outputs": [
    {
     "name": "stdout",
     "output_type": "stream",
     "text": [
      "144000\n",
      "[['philander', 'injured', 'in', 'practice'], ['nh', 'man', 'accused', 'of', 'threatening', 'others', 'with', 'knife'], ['robber', 'repeatedly', 'punch', 'woman', 'in', 'face', 'during', 'horrific', 'attack'], ['lohse', 'pick', 'up', 'his', 'first', 'victory', 'of', 'the', 'season'], ['apple', 'sends', 'cease', 'and', 'desist', 'email', 'to', 'public', 'wiki', 'site', 'bluwiki'], ['joss', 'whedon', 'pissed', 'off', 'over', 'lack', 'of', 'female', 'superheroes'], ['odonoghue', 'to', 'resign', 'next', 'week'], ['baltimore', 'raven', 'ray', 'lewis', 'to', 'retire', 'after', 'season'], ['cliff', 'lee', 'sign', 'autograph', 'in', 'little', 'rock'], ['woman', 'shot', 'dead', 'by', 'former', 'partner', 'saved', 'six', 'life', 'by', 'donating', 'her', 'organ']]\n"
     ]
    }
   ],
   "source": [
    "tokenized_compressed = split_ds['train']['compressed_tokens']\n",
    "print(len(tokenized_compressed))\n",
    "print(tokenized_compressed[:10])"
   ]
  },
  {
   "cell_type": "markdown",
   "metadata": {
    "id": "ZDGwEiZeCA5U",
    "pycharm": {
     "name": "#%% md\n"
    }
   },
   "source": [
    "Notice the difference in the types of the different structures we use. Run the following cell to check the types. Do they make sense to you?"
   ]
  },
  {
   "cell_type": "code",
   "execution_count": 73,
   "metadata": {
    "id": "wKrkFmcZCtOd",
    "pycharm": {
     "name": "#%%\n"
    }
   },
   "outputs": [
    {
     "name": "stdout",
     "output_type": "stream",
     "text": [
      "<class 'datasets.dataset_dict.DatasetDict'>\n",
      "--\n",
      "{'set': ['A New Hampshire man has been accused of threatening others with a knife in Laconia.', 'N.H. man accused of threatening others with knife'], 'clean_sentence': 'a new hampshire man have be accuse of threaten others with a knife in laconia', 'clean_compressed': 'nh man accuse of threaten others with knife', 'sentence_tokens': ['a', 'new', 'hampshire', 'man', 'ha', 'been', 'accused', 'of', 'threatening', 'others', 'with', 'a', 'knife', 'in', 'laconia'], 'compressed_tokens': ['nh', 'man', 'accused', 'of', 'threatening', 'others', 'with', 'knife']}\n",
      "<class 'dict'>\n",
      "--\n",
      "a new hampshire man have be accuse of threaten others with a knife in laconia\n",
      "<class 'str'>\n",
      "--\n",
      "['a', 'new', 'hampshire', 'man', 'ha', 'been', 'accused', 'of', 'threatening', 'others', 'with', 'a', 'knife', 'in', 'laconia']\n",
      "<class 'list'>\n",
      "--\n"
     ]
    }
   ],
   "source": [
    "#type of original dataset\n",
    "print(type(split_ds))\n",
    "print(\"--\")\n",
    "#type of original sentence\n",
    "print(split_ds['train'][1])\n",
    "print(type(split_ds['train'][1]))\n",
    "print(\"--\")\n",
    "#type of pre-proceesed sentence\n",
    "print(split_ds['train']['clean_sentence'][1])\n",
    "print(type(split_ds['train']['clean_sentence'][1]))\n",
    "print(\"--\")\n",
    "#type of tokenized sentence\n",
    "print(split_ds['train']['sentence_tokens'][1])\n",
    "print(type(split_ds['train']['sentence_tokens'][1]))\n",
    "print(\"--\")"
   ]
  },
  {
   "cell_type": "markdown",
   "metadata": {
    "collapsed": false,
    "pycharm": {
     "name": "#%% md\n"
    }
   },
   "source": [
    "## 2. Bag of Words\n",
    "In this section you will built a bag-of-words representation of the dataset. We will use numpy arrays to store the results. The bag-of-words representation is a simple and effective way to represent text data. It involves creating a vocabulary of unique words from the dataset and representing each sentence as a vector of word counts. We first need the vocabulary, which we will build from both the full sentences and the compressed sentences. Similar to the first lab, the vocabulary will be a list of unique words from the dataset."
   ]
  },
  {
   "cell_type": "markdown",
   "metadata": {
    "collapsed": false,
    "pycharm": {
     "name": "#%% md\n"
    }
   },
   "source": [
    "<a name='e3'></a>\n",
    "### Exercise 3: Extracting vocabulary counts\n",
    "\n",
    "(1p) In the following cell, you will implement a function that takes a list of tokenized sentences and returns a dictionary with the counts of each word in the vocabulary. The dictionary should be of the form {word: count}. As in previous lab, you will use the `Counter` class from the `collections` module to do this."
   ]
  },
  {
   "cell_type": "code",
   "execution_count": 74,
   "metadata": {
    "collapsed": false,
    "pycharm": {
     "name": "#%%\n"
    }
   },
   "outputs": [],
   "source": [
    "from collections import Counter\n",
    "\n",
    "\n",
    "def extract_vocabulary_counts(tokenized_sentences):\n",
    "    \"\"\"\n",
    "    Extracts the vocabulary from the tokenized sentences\n",
    "    Args:\n",
    "        tokenized_sentences: a list of lists of tokens\n",
    "\n",
    "    Returns: a Counter object with the counts of each word in the vocabulary\n",
    "    \"\"\"\n",
    "\n",
    "    ### YOUR CODE HERE\n",
    "\n",
    "    counter = Counter()\n",
    "    for n in tokenized_sentences:\n",
    "        counter.update(n)\n",
    "\n",
    "    return counter\n",
    "\n",
    "    ### YOUR CODE ENDS HERE"
   ]
  },
  {
   "cell_type": "code",
   "execution_count": 75,
   "metadata": {
    "collapsed": false,
    "pycharm": {
     "name": "#%%\n"
    }
   },
   "outputs": [
    {
     "name": "stdout",
     "output_type": "stream",
     "text": [
      "111190\n",
      "[('the', 183093), ('a', 137734), ('to', 130398), ('in', 113144), ('of', 100639), ('and', 68235), ('on', 56160), ('for', 51980), ('ha', 39328), ('it', 33343)]\n"
     ]
    }
   ],
   "source": [
    "vocab_counter = extract_vocabulary_counts(tokenized_sentences + tokenized_compressed)\n",
    "print(len(vocab_counter))\n",
    "print(vocab_counter.most_common(10))"
   ]
  },
  {
   "cell_type": "markdown",
   "metadata": {
    "collapsed": false,
    "pycharm": {
     "name": "#%% md\n"
    }
   },
   "source": [
    "As you can see the size of the vocabulary is quite large. Like the last time, we will limit the vocabulary to the most frequent words. The next cell will create a dictionary that maps each word to an index in the vocabulary. This will be used to create the bag-of-words representation of the sentences."
   ]
  },
  {
   "cell_type": "code",
   "execution_count": 76,
   "metadata": {
    "collapsed": false,
    "pycharm": {
     "name": "#%%\n"
    }
   },
   "outputs": [
    {
     "name": "stdout",
     "output_type": "stream",
     "text": [
      "{'the': 0, 'a': 1, 'to': 2, 'in': 3, 'of': 4, 'and': 5, 'on': 6, 'for': 7, 'ha': 8, 'it': 9, 'with': 10, 'is': 11, 'at': 12, 'that': 13, 'from': 14, 'by': 15, 'new': 16, 'will': 17, 'said': 18, 'after': 19, 'his': 20, 'an': 21, 'wa': 22, 'be': 23, 'have': 24, 'year': 25, 'he': 26, 'man': 27, 'u': 28, 'are': 29, 'been': 30, 'today': 31, 'police': 32, 'this': 33, 'two': 34, 'their': 35, 'state': 36, 'say': 37, 'her': 38, 'who': 39, 'over': 40, 'first': 41, 'announced': 42, 'up': 43, 'tuesday': 44, 'not': 45, 'more': 46, 'monday': 47, 'wednesday': 48, 'thursday': 49, 'against': 50, 'out': 51, 'friday': 52, 'woman': 53, 'president': 54, 'former': 55, 'million': 56, 'week': 57, 'into': 58, 'company': 59, 'world': 60, 'one': 61, 'city': 62, 'day': 63, 'report': 64, 'county': 65, 'were': 66, 'which': 67, 'service': 68, 'last': 69, 'home': 70, 'according': 71, 'may': 72, 'time': 73, 'minister': 74, 'saturday': 75, 'about': 76, 'bank': 77, 'month': 78, 'government': 79, 'market': 80, 'sunday': 81, 'than': 82, 'three': 83, 'official': 84, 'people': 85, 'school': 86, 'but': 87, 'country': 88, 'during': 89, 'india': 90, 'when': 91, 'night': 92, 'plan': 93, 'open': 94, 'price': 95, 'national': 96, 'she': 97, 'killed': 98, 'they': 99, 'off': 100, 'set': 101, 'court': 102, 'all': 103, 'being': 104, 'south': 105, 'charge': 106, 'next': 107, 'found': 108, 'morning': 109, 'arrested': 110, 'group': 111, 'business': 112, 'died': 113, 'i': 114, 'launch': 115, 'second': 116, 'back': 117, 'game': 118, 'fire': 119, 'charged': 120, 'had': 121, 'team': 122, 'star': 123, 'would': 124, 'no': 125, 'could': 126, 'stock': 127, 'obama': 128, 'reported': 129, 'win': 130, 'car': 131, 'season': 132, 'down': 133, 'international': 134, 'house': 135, 'can': 136, 'show': 137, 'make': 138, 'child': 139, 'china': 140, 'oil': 141, 'take': 142, 'american': 143, 'while': 144, 'high': 145, 'hit': 146, 'early': 147, 'job': 148, 'death': 149, 'inc': 150, 'leader': 151, 'hospital': 152, 'north': 153, 'news': 154, 'cut': 155, 'share': 156, 'united': 157, 'or': 158, 'billion': 159, 'global': 160, 'return': 161, 'dy': 162, 'now': 163, 'face': 164, 'four': 165, 'end': 166, 'guilty': 167, 'office': 168, 'chief': 169, 'following': 170, 'some': 171, 'security': 172, 'officer': 173, 'public': 174, 'student': 175, 'fall': 176, 'yesterday': 177, 'help': 178, 'him': 179, 'part': 180, 'sale': 181, 'york': 182, 'released': 183, 'indian': 184, 'league': 185, 'get': 186, 'record': 187, 'health': 188, 'near': 189, 'life': 190, 'federal': 191, 'under': 192, 'rate': 193, 'coach': 194, 'party': 195, 'just': 196, 'play': 197, 'most': 198, 'pakistan': 199, 'financial': 200, 'west': 201, 'area': 202, 'right': 203, '2012': 204, 'made': 205, 'work': 206, 'through': 207, 'sign': 208, 'drug': 209, 'system': 210, 'top': 211, 'power': 212, 'five': 213, 'attack': 214, 'economic': 215, 'deal': 216, 'other': 217, 'crash': 218, 'bill': 219, 'before': 220, '10': 221, 'release': 222, 'local': 223, 'center': 224, 'want': 225, 'john': 226, 'accused': 227, 'per': 228, 'close': 229, 'percent': 230, 'family': 231, 'university': 232, 'force': 233, 'another': 234, 'shot': 235, 'start': 236, 'support': 237, 'should': 238, 'trade': 239, 'street': 240, 'launched': 241, 'dollar': 242, 'expected': 243, 'announces': 244, 'british': 245, 'player': 246, 'major': 247, 'go': 248, 'you': 249, 'visit': 250, 'call': 251, 'third': 252, 'dead': 253, 'european': 254, 'here': 255, 'medium': 256, 'if': 257, 'energy': 258, 'general': 259, 'between': 260, 'what': 261, 'uk': 262, 'cup': 263, 'head': 264, 'industry': 265, 'told': 266, 'member': 267, 'march': 268, 'because': 269, 'department': 270, '1': 271, 'film': 272, 'club': 273, 'road': 274, 'air': 275, 'gas': 276, 'election': 277, 'girl': 278, 'offer': 279, 'held': 280, 'men': 281, 'talk': 282, 'left': 283, 'district': 284, 'economy': 285, 'due': 286, 'tax': 287, 'we': 288, 'case': 289, 'issue': 290, '2010': 291, 'online': 292, 'authority': 293, 'technology': 294, 'free': 295, 'loss': 296, 'move': 297, 'london': 298, 'injured': 299, 'since': 300, 'fund': 301, 'capital': 302, 'weekend': 303, 'run': 304, 'six': 305, 'store': 306, 'park': 307, 'director': 308, 'mobile': 309, 'still': 310, 'won': 311, 'foreign': 312, 'need': 313, 'way': 314, 'point': 315, '2011': 316, 'test': 317, 'increase': 318, 'series': 319, 'agency': 320, 'worker': 321, 'central': 322, 'law': 323, 'there': 324, 'final': 325, 'prime': 326, 'hold': 327, 'development': 328, 'afternoon': 329, 'tour': 330, 'quarter': 331, 'called': 332, 'buy': 333, 'contract': 334, 'meeting': 335, 'project': 336, 'australian': 337, 'host': 338, 'board': 339, 'pay': 340, 'lead': 341, 'water': 342, 'future': 343, 'st': 344, '20': 345, 'change': 346, 'like': 347, 'campaign': 348, 'firm': 349, 'including': 350, 'nation': 351, 'how': 352, 'rise': 353, 'corp': 354, 'food': 355, 'manager': 356, 'australia': 357, 'number': 358, 'military': 359, 'network': 360, 'program': 361, 'iran': 362, 'where': 363, '2': 364, 'june': 365, 'meet': 366, 'signed': 367, 'david': 368, 'despite': 369, 'council': 370, 'actor': 371, 'cancer': 372, 'football': 373, 'best': 374, 'april': 375, 'injury': 376, 'fell': 377, 'investment': 378, 'well': 379, 'them': 380, 'good': 381, 'union': 382, 'agreement': 383, 'washington': 384, 'cent': 385, 'community': 386, 'across': 387, 'award': 388, 'line': 389, 'big': 390, 'product': 391, 'sentenced': 392, 'data': 393, 'east': 394, 'order': 395, 'raise': 396, '11': 397, 'operation': 398, 'growth': 399, 'afghanistan': 400, 'barack': 401, 'boy': 402, 'around': 403, 'investor': 404, 'come': 405, 'gold': 406, 'result': 407, 'prison': 408, 'profit': 409, 'airline': 410, 'driver': 411, 'body': 412, 'sell': 413, 'money': 414, 'research': 415, 'demand': 416, 'town': 417, 'management': 418, '2009': 419, 'revealed': 420, 'so': 421, '2013': 422, 'champion': 423, 'late': 424, 'leading': 425, 'murder': 426, 'conference': 427, 'place': 428, '30': 429, 'plant': 430, 'michael': 431, 'san': 432, 'claim': 433, 'do': 434, 'america': 435, 'join': 436, 'only': 437, 'level': 438, 'provider': 439, 'england': 440, 'allegedly': 441, 'college': 442, 'crisis': 443, '3': 444, 'hour': 445, 'russia': 446, 'largest': 447, 'white': 448, 'again': 449, 'red': 450, 'private': 451, 'budget': 452, 'mark': 453, 'tv': 454, 'political': 455, 'chinese': 456, 'cost': 457, 'judge': 458, 'soldier': 459, 'study': 460, 'annual': 461, 'music': 462, 'medical': 463, 'site': 464, '15': 465, 'region': 466, 'higher': 467, 'confirmed': 468, 'building': 469, 'vehicle': 470, 'several': 471, 'shooting': 472, 'recently': 473, '12': 474, 'july': 475, 'baby': 476, 'give': 477, 'senior': 478, 'trial': 479, 'war': 480, 'wife': 481, 'any': 482, 'fan': 483, 'saying': 484, 'recent': 485, 'closed': 486, 'actress': 487, 'beat': 488, 'japan': 489, 'surgery': 490, 'canada': 491, 'press': 492, 'am': 493, 'age': 494, 'centre': 495, 'action': 496, 'young': 497, 'secretary': 498, 'nearly': 499, 'r': 500, 'making': 501, 'event': 502, 'latest': 503, 'strike': 504, 'special': 505, 'fight': 506, 'rose': 507, 'continue': 508, 'taking': 509, 'consumer': 510, 'accident': 511, 'production': 512, 'resident': 513, 'use': 514, 'giant': 515, 'live': 516, 'flight': 517, 'my': 518, 'lower': 519, 'away': 520, 'credit': 521, 'french': 522, 'los': 523, 'governor': 524, 'sport': 525, 'pm': 526, 'station': 527, 'many': 528, 'assault': 529, 'become': 530, 'sex': 531, 'opened': 532, 'side': 533, 'congress': 534, 'debt': 535, 'video': 536, 'korea': 537, 'singer': 538, 'policy': 539, 'begin': 540, 'care': 541, '5': 542, 'title': 543, 'senate': 544, 'executive': 545, 'customer': 546, 'interest': 547, 'republican': 548, 'named': 549, 'southern': 550, 'texas': 551, 'presidential': 552, 'russian': 553, 'match': 554, 'own': 555, 'long': 556, 'heart': 557, 'post': 558, 'emergency': 559, 'likely': 560, 'race': 561, 'bus': 562, 'social': 563, 'ministry': 564, 'europe': 565, 'solution': 566, 'january': 567, 'updated': 568, 'source': 569, 'going': 570, 'angeles': 571, 'africa': 572, 'coast': 573, '100': 574, 'trading': 575, '4': 576, 'property': 577, 'also': 578, 'google': 579, 'apple': 580, 'filed': 581, 'see': 582, 'role': 583, 'ahead': 584, 'vote': 585, 'paul': 586, 'german': 587, '2008': 588, 'sector': 589, 'premier': 590, 'small': 591, 'loan': 592, 'condition': 593, 'real': 594, 'gain': 595, 'information': 596, 'israel': 597, 'grand': 598, 'protest': 599, 'delhi': 600, 'stop': 601, 'least': 602, 'strong': 603, 'even': 604, 'past': 605, 'target': 606, 'amid': 607, 'facing': 608, 'pleaded': 609, 'control': 610, 'nuclear': 611, 'brand': 612, 'summer': 613, 'ago': 614, 'human': 615, 'island': 616, 'look': 617, 'teacher': 618, 'exchange': 619, 'bid': 620, 'california': 621, 'candidate': 622, 'without': 623, 'partner': 624, 'arrest': 625, 'river': 626, 'seven': 627, 'chairman': 628, 'working': 629, 'canadian': 630, 'france': 631, 'website': 632, 'put': 633, 'owner': 634, 'pleads': 635, 'lake': 636, 'phone': 637, 'hope': 638, 'keep': 639, 'issued': 640, 'agreed': 641, 'old': 642, 'movie': 643, 'took': 644, 'file': 645, '25': 646, 'both': 647, 'leave': 648, 'guard': 649, 'employee': 650, 'fourth': 651, 'robert': 652, 'round': 653, 'september': 654, 'earlier': 655, 'la': 656, 'key': 657, 'brown': 658, 'airport': 659, 'term': 660, 'cash': 661, 'effort': 662, 'army': 663, 'reportedly': 664, 'break': 665, 'february': 666, 'corporation': 667, 'euro': 668, 'taken': 669, 'championship': 670, 'bond': 671, 'november': 672, 'asian': 673, 'coming': 674, 'lost': 675, 'florida': 676, 'victory': 677, 'step': 678, 'northern': 679, 'software': 680, 'forward': 681, 'train': 682, 'james': 683, 'traffic': 684, 'son': 685, 'opening': 686, 'ban': 687, '14': 688, 'half': 689, 'offering': 690, 'black': 691, 'love': 692, 'your': 693, 'our': 694, 'education': 695, 'further': 696, 'field': 697, 'session': 698, 'gov': 699, 'album': 700, 'great': 701, 'george': 702, 'killing': 703, 'problem': 704, 'october': 705, 'looking': 706, 'planning': 707, 'low': 708, 'supply': 709, '13': 710, 'association': 711, 'internet': 712, 'name': 713, '21': 714, 'israeli': 715, 'risk': 716, 'jail': 717, 'co': 718, 'suspended': 719, 'evening': 720, 'much': 721, '16': 722, 'continues': 723, 'led': 724, 'chris': 725, 'green': 726, 'december': 727, '50': 728, 'concern': 729, 'kill': 730, 'commission': 731, 'remains': 732, '18': 733, 'hall': 734, 'thousand': 735, 'committee': 736, 'ready': 737, 'storm': 738, 'august': 739, 'used': 740, 'friend': 741, 'holding': 742, 'practice': 743, 'very': 744, 'statement': 745, 'domestic': 746, 'search': 747, 'driving': 748, 'mother': 749, 'parliament': 750, 'border': 751, 'miss': 752, 'biggest': 753, 'stage': 754, 'britain': 755, 'running': 756, 'crime': 757, 'training': 758, 'facility': 759, 'find': 760, 'must': 761, 'got': 762, 'missing': 763, 'insurance': 764, 'plane': 765, 'chicago': 766, 'remain': 767, 'hotel': 768, 'veteran': 769, 'finance': 770, 'unit': 771, 'troop': 772, 'couple': 773, 'drop': 774, 'maker': 775, 'received': 776, 'current': 777, 'spring': 778, 'turn': 779, 'better': 780, 'mortgage': 781, 'construction': 782, 'getting': 783, 'full': 784, 'trying': 785, 'decision': 786, 'seek': 787, 'weather': 788, 'having': 789, 'deputy': 790, 'truck': 791, 'soon': 792, 'investigating': 793, 'manchester': 794, 'safety': 795, 'king': 796, 'eight': 797, 'act': 798, 'book': 799, '6': 800, 'bankruptcy': 801, 'ended': 802, 'doctor': 803, 'debut': 804, 'sold': 805, '7': 806, 'african': 807, 'victim': 808, '8': 809, 'person': 810, 'fuel': 811, 'himself': 812, 'little': 813, 'rule': 814, 'beach': 815, 'among': 816, 'palestinian': 817, 'cricket': 818, '17': 819, 'sen': 820, 'western': 821, 'land': 822, 'rating': 823, 'career': 824, 'turkey': 825, 'patient': 826, 'dog': 827, 'facebook': 828, 'behind': 829, 'reserve': 830, 'hollywood': 831, 'sri': 832, 'staff': 833, 'sexual': 834, 'wall': 835, 'rally': 836, 'space': 837, 'reach': 838, 'regional': 839, 'announce': 840, 'rock': 841, 'retail': 842, '22': 843, 'tonight': 844, 'motor': 845, 'singh': 846, 'opposition': 847, 'history': 848, 'along': 849, 'justice': 850, 'suicide': 851, 'mayor': 852, 'threat': 853, 'warned': 854, 'pressure': 855, 'robbery': 856, 'admitted': 857, 'performance': 858, 'outside': 859, 'iraq': 860, 'based': 861, 'festival': 862, 'germany': 863, 'recovery': 864, 'benefit': 865, 'jackson': 866, 'church': 867, 'challenge': 868, 'within': 869, 'incident': 870, 'later': 871, 'asset': 872, 'gun': 873, '24': 874, 'battle': 875, 'upcoming': 876, 'agent': 877, 'suspect': 878, 'struck': 879, 'protection': 880, 'hill': 881, 'using': 882, 'bay': 883, 'list': 884, 'until': 885, 'brother': 886, 'anniversary': 887, 'zealand': 888, 'export': 889, 'hand': 890, 'card': 891, 'raised': 892, 'mexico': 893, 'aid': 894, 'drive': 895, 'positive': 896, 'such': 897, 'claimed': 898, 'given': 899, 'im': 900, 'revenue': 901, 'build': 902, 'lady': 903, 'travel': 904, 'de': 905, 'husband': 906, 'olympic': 907, 'peace': 908, 'art': 909, 'valley': 910, 'producer': 911, 'selling': 912, 'boost': 913, 'japanese': 914, 'mumbai': 915, 'leaving': 916, 'communication': 917, 'cause': 918, 'daughter': 919, 'tiger': 920, 'growing': 921, 'microsoft': 922, 'those': 923, 'sent': 924, 'warning': 925, 'figure': 926, 'television': 927, 'captain': 928, 'almost': 929, 'violence': 930, 'asia': 931, 'interview': 932, 'joint': 933, 'double': 934, 'bomb': 935, 'eastern': 936, 'confidence': 937, 'single': 938, 'provide': 939, 'middle': 940, 'georgia': 941, 'same': 942, 'ground': 943, 'flu': 944, 'few': 945, 'un': 946, 'application': 947, 'spending': 948, 'johnson': 949, 'investigation': 950, 'housing': 951, 'me': 952, 'father': 953, 'ltd': 954, 'too': 955, 'track': 956, 'radio': 957, 'activity': 958, 'ever': 959, 'acquire': 960, 'officially': 961, 'administration': 962, 'class': 963, 'attorney': 964, 'senator': 965, 'holiday': 966, 'common': 967, 'worth': 968, 'stay': 969, 'royal': 970, '19': 971, 'gay': 972, 'fraud': 973, 'alleged': 974, 'natural': 975, 'legal': 976, 'stake': 977, 'democratic': 978, 'web': 979, 'sheriff': 980, 'basketball': 981, 'less': 982, '9': 983, 'daily': 984, 'continued': 985, 'appeal': 986, 'possible': 987, 'parent': 988, 'bush': 989, 'index': 990, 'smith': 991, 'highway': 992, 'williams': 993, 'showed': 994, 'equity': 995, 'rival': 996, 'know': 997, 'defense': 998, 'declared': 999, 'jailed': 1000, 'blue': 1001, 'tie': 1002, 'division': 1003, 'seen': 1004, 'returned': 1005, 'heavy': 1006, 'poll': 1007, '31': 1008, 'criminal': 1009, '40': 1010, 'wind': 1011, 'starting': 1012, 'approved': 1013, 'defence': 1014, 'stand': 1015, 'operator': 1016, 'affair': 1017, 'survey': 1018, 'model': 1019, '23': 1020, 'asked': 1021, 'dr': 1022, 'leaf': 1023, 'feel': 1024, 'carolina': 1025, 'winter': 1026, 'rep': 1027, 'known': 1028, 'ship': 1029, 'falling': 1030, 'think': 1031, 'activist': 1032, 'light': 1033, 'dont': 1034, 'serious': 1035, 'boston': 1036, 'save': 1037, 'jet': 1038, 'stadium': 1039, 'channel': 1040, 'khan': 1041, 'might': 1042, 'analyst': 1043, 'italian': 1044, 'commercial': 1045, 'resource': 1046, 'christmas': 1047, 'mike': 1048, 'position': 1049, 'fiscal': 1050, 'nine': 1051, 'partnership': 1052, 'armed': 1053, 'connection': 1054, 'pakistani': 1055, 'baseball': 1056, 'syria': 1057, 'lawsuit': 1058, 'every': 1059, 'appointed': 1060, 'dropped': 1061, 'never': 1062, 'whose': 1063, 'reform': 1064, 'hundred': 1065, 'increased': 1066, 'user': 1067, 'inflation': 1068, 'passenger': 1069, 'damage': 1070, 'total': 1071, 'al': 1072, 'firefighter': 1073, 'doe': 1074, 'main': 1075, 'ceo': 1076, 'fired': 1077, 'joe': 1078, 'why': 1079, 'net': 1080, 'disease': 1081, 'joined': 1082, 'add': 1083, 'convicted': 1084, 'front': 1085, 'lawyer': 1086, 'village': 1087, 'reached': 1088, 'failed': 1089, 'band': 1090, 'wood': 1091, 'form': 1092, 'martin': 1093, 'calif': 1094, 'teen': 1095, 'met': 1096, 'camp': 1097, 'review': 1098, 'youth': 1099, 'account': 1100, 'did': 1101, 'militant': 1102, 'peter': 1103, 'passed': 1104, 'justin': 1105, 'vice': 1106, 'each': 1107, 'digital': 1108, 'acquired': 1109, 'base': 1110, 'striker': 1111, 'decade': 1112, 'finally': 1113, 'spain': 1114, 'minor': 1115, 'treatment': 1116, '26': 1117, 'rain': 1118, 'fear': 1119, 'grant': 1120, 'marriage': 1121, 'twitter': 1122, 'date': 1123, 'popular': 1124, 'newspaper': 1125, 'tom': 1126, 'mp': 1127, 'sydney': 1128, 'earthquake': 1129, 'restaurant': 1130, 'super': 1131, 'organization': 1132, 'platform': 1133, 'watch': 1134, 'straight': 1135, 'focus': 1136, 'concert': 1137, 'measure': 1138, 'split': 1139, 'create': 1140, 'published': 1141, 'crew': 1142, 'paid': 1143, 'suspected': 1144, 'prince': 1145, 'afghan': 1146, 'jones': 1147, 'moving': 1148, 'winning': 1149, 'recall': 1150, 'playing': 1151, 'completed': 1152, 'went': 1153, 'already': 1154, '27': 1155, 'process': 1156, 'farmer': 1157, 'forced': 1158, 'once': 1159, 'birth': 1160, 'recession': 1161, 'iranian': 1162, 'banned': 1163, 'researcher': 1164, 'suffered': 1165, 'spokesman': 1166, 'sea': 1167, 'earnings': 1168, 'crashed': 1169, 'writer': 1170, 'large': 1171, 'expand': 1172, 'abuse': 1173, 'decided': 1174, 'bridge': 1175, 'bos': 1176, 'steel': 1177, 'province': 1178, 'assembly': 1179, 'womens': 1180, 'expert': 1181, 'taylor': 1182, 'currency': 1183, 'banking': 1184, 'started': 1185, 'steve': 1186, 'turned': 1187, 'supreme': 1188, 'civil': 1189, 'houston': 1190, 'bring': 1191, 'syrian': 1192, 'winner': 1193, 'device': 1194, 'ryan': 1195, 'yet': 1196, 'nato': 1197, 'range': 1198, 'caught': 1199, 'cooperation': 1200, 'developer': 1201, 'question': 1202, 'thing': 1203, 'together': 1204, 'scheduled': 1205, 'ohio': 1206, 'tournament': 1207, 'tree': 1208, 'access': 1209, 'flood': 1210, 'cell': 1211, 'giving': 1212, 'ambassador': 1213, '500': 1214, 'view': 1215, 'wont': 1216, 'attempt': 1217, 'michigan': 1218, 'defeat': 1219, '28': 1220, 'scientist': 1221, 'industrial': 1222, 'retailer': 1223, 'involved': 1224, 'seeking': 1225, 'queen': 1226, 'robbed': 1227, 'relation': 1228, 'ceremony': 1229, 'present': 1230, 'barrel': 1231, 'acquisition': 1232, 'boat': 1233, 'lawmaker': 1234, 'divorce': 1235, 'toronto': 1236, 'goal': 1237, 'computer': 1238, 'charity': 1239, 'funding': 1240, 'living': 1241, 'below': 1242, 'improve': 1243, 'above': 1244, 'added': 1245, 'reduce': 1246, 'nfl': 1247, 'address': 1248, 'lanka': 1249, 'period': 1250, 'forecast': 1251, 'ireland': 1252, 'window': 1253, 'scheme': 1254, 'standard': 1255, 'eu': 1256, 'resume': 1257, 'liverpool': 1258, 'port': 1259, 'clinton': 1260, 'birthday': 1261, 'celebrate': 1262, 'retirement': 1263, 'corporate': 1264, 'tony': 1265, 'attacked': 1266, 'unveiled': 1267, 'pilot': 1268, 'programme': 1269, 'turkish': 1270, 'fox': 1271, 'romney': 1272, 'felony': 1273, 'effect': 1274, 'arrived': 1275, 'rape': 1276, 'worldwide': 1277, 'available': 1278, 'primary': 1279, 'kim': 1280, 'journalist': 1281, 'singapore': 1282, 'fee': 1283, 'ruled': 1284, 'wanted': 1285, 'rebel': 1286, 'soccer': 1287, 'draw': 1288, 'terrorist': 1289, 'song': 1290, 'unemployment': 1291, 'dividend': 1292, 'competition': 1293, 'far': 1294, 'apartment': 1295, 'korean': 1296, 'whether': 1297, 'celebrates': 1298, 'rest': 1299, 'weapon': 1300, 'iphone': 1301, 'stabbed': 1302, 'estate': 1303, 'clash': 1304, 'stolen': 1305, 'course': 1306, 'deficit': 1307, 'venture': 1308, 'caused': 1309, 'fashion': 1310, 'celebrity': 1311, 'magazine': 1312, 'lee': 1313, 'decline': 1314, 'science': 1315, 'crude': 1316, 'bar': 1317, 'dubai': 1318, 'philippine': 1319, 'perform': 1320, 'fort': 1321, 'scott': 1322, 'urged': 1323, 'democrat': 1324, 'posted': 1325, 'entertainment': 1326, 'inside': 1327, 'calling': 1328, 'value': 1329, 'spanish': 1330, 'rising': 1331, 'ordered': 1332, 'option': 1333, 'saudi': 1334, 'italy': 1335, 'marketing': 1336, 'direct': 1337, 'personal': 1338, 'illegal': 1339, 'jennifer': 1340, 'institute': 1341, 'commissioner': 1342, 'shop': 1343, 'citizen': 1344, 'jury': 1345, 'independent': 1346, 'female': 1347, 'midfielder': 1348, 'broke': 1349, 'proposed': 1350, 'jersey': 1351, 'minnesota': 1352, 'block': 1353, 'hard': 1354, 'manufacturing': 1355, 'tribute': 1356, 'others': 1357, 'chance': 1358, 'animal': 1359, 'situation': 1360, 'foot': 1361, 'note': 1362, 'society': 1363, 'hurricane': 1364, 'admits': 1365, 'gulf': 1366, 'taliban': 1367, 'minute': 1368, 'voter': 1369, 'auto': 1370, '29': 1371, 'brazil': 1372, 'arm': 1373, 'farm': 1374, 'solar': 1375, 'taiwan': 1376, 'egypt': 1377, 'jan': 1378, 'returning': 1379, 'extended': 1380, 'kevin': 1381, 'representative': 1382, 'short': 1383, 'expects': 1384, 'massive': 1385, 'income': 1386, 'kansa': 1387, 'pound': 1388, 'andrew': 1389, 'came': 1390, 'package': 1391, 'professional': 1392, 'receive': 1393, 'discus': 1394, 'muslim': 1395, 'strategic': 1396, 'pop': 1397, 'moved': 1398, 'then': 1399, 'cabinet': 1400, 'lot': 1401, 'overnight': 1402, 'rescue': 1403, 'quarterly': 1404, 'stealing': 1405, 'tomorrow': 1406, 'v': 1407, 'fresh': 1408, 'potential': 1409, 'corruption': 1410, 'metal': 1411, 'offered': 1412, 'paris': 1413, 'room': 1414, 'blood': 1415, 'greece': 1416, 'ticket': 1417, 'fifth': 1418, 'memorial': 1419, 'average': 1420, 'pirate': 1421, 'suffering': 1422, 'morgan': 1423, 'legend': 1424, 'helped': 1425, 'ali': 1426, 'dispute': 1427, 'hire': 1428, 'girlfriend': 1429, 'chelsea': 1430, 'miami': 1431, 'wedding': 1432, 'nba': 1433, 'mining': 1434, 's': 1435, 'prosecutor': 1436, 'played': 1437, 'planned': 1438, 'previous': 1439, 'payment': 1440, 'iowa': 1441, 'reporter': 1442, 'kid': 1443, 'adding': 1444, 'began': 1445, 'quality': 1446, 'limited': 1447, 'weak': 1448, 'manufacturer': 1449, 'defender': 1450, 'seat': 1451, 'appear': 1452, 'voted': 1453, 'pregnant': 1454, 'buying': 1455, 'bear': 1456, 'try': 1457, 'losing': 1458, 'welcome': 1459, 'receives': 1460, 'fair': 1461, 'feature': 1462, 'louis': 1463, 'environment': 1464, 'protester': 1465, 'vega': 1466, 'carrier': 1467, 'dealer': 1468, 'controversial': 1469, 'coal': 1470, 'ranger': 1471, '60': 1472, 'gaza': 1473, 'response': 1474, 'belief': 1475, 'transfer': 1476, 'bad': 1477, 'aircraft': 1478, 'wireless': 1479, 'downtown': 1480, 'malaysia': 1481, 'theft': 1482, 'strategy': 1483, 'towards': 1484, 'detroit': 1485, 'mission': 1486, 'airway': 1487, '200': 1488, 'hospitalized': 1489, 'edward': 1490, 'flat': 1491, 'comment': 1492, 'colorado': 1493, 'virginia': 1494, 'operating': 1495, 'closing': 1496, 'perry': 1497, 'tell': 1498, 'spot': 1499, 'design': 1500, 'indicted': 1501, 'mountain': 1502, 'republic': 1503, 'denied': 1504, 'van': 1505, 'twin': 1506, 'hearing': 1507, 'adam': 1508, 'diego': 1509, 'cruise': 1510, 'academy': 1511, 'highest': 1512, 'acquires': 1513, 'count': 1514, 'feb': 1515, 'arizona': 1516, 'labor': 1517, 'shoot': 1518, 'purchase': 1519, 'pick': 1520, 'protect': 1521, 'fatal': 1522, 'libya': 1523, 'gave': 1524, 'enterprise': 1525, 'madrid': 1526, 'studio': 1527, 'shareholder': 1528, 'teenager': 1529, 'climate': 1530, 'fined': 1531, 'doesnt': 1532, 'route': 1533, 'photo': 1534, 'separate': 1535, 'mr': 1536, 'kelly': 1537, 'allow': 1538, 'zone': 1539, 'francisco': 1540, 'lose': 1541, 'irish': 1542, 'enough': 1543, 'bail': 1544, 'tried': 1545, 'story': 1546, 'conduct': 1547, 'cutting': 1548, 'patent': 1549, 'snow': 1550, 'slightly': 1551, 'atlanta': 1552, 'cross': 1553, 'contest': 1554, 'different': 1555, 'committed': 1556, 'paper': 1557, 'introduced': 1558, 'heard': 1559, 'trust': 1560, 'tim': 1561, 'tourist': 1562, 'fame': 1563, 'illinois': 1564, 'beating': 1565, 'summit': 1566, 'rugby': 1567, 'clear': 1568, 'compared': 1569, 'draft': 1570, 'aug': 1571, 'leg': 1572, 'effective': 1573, 'alex': 1574, 'elderly': 1575, 'greek': 1576, 'jim': 1577, 'tennis': 1578, 'poor': 1579, 'x': 1580, 'though': 1581, 'squad': 1582, 'azerbaijan': 1583, 'equipment': 1584, 'forest': 1585, 'fighting': 1586, 'quarterback': 1587, 'boyfriend': 1588, 'chemical': 1589, 'factor': 1590, 'fine': 1591, 'landing': 1592, 'trend': 1593, 'telecom': 1594, 'mccain': 1595, 'check': 1596, 'helicopter': 1597, 'swine': 1598, 'import': 1599, 'pacific': 1600, 'rupee': 1601, 'knee': 1602, 'version': 1603, 'artist': 1604, 'saw': 1605, 'dallas': 1606, 'dec': 1607, 'currently': 1608, 'debate': 1609, 'broken': 1610, 'electric': 1611, 'celebrated': 1612, 'mine': 1613, 'disaster': 1614, 'replace': 1615, 'cloud': 1616, 'express': 1617, 'hong': 1618, 'progress': 1619, 'indonesia': 1620, 'heat': 1621, 'hockey': 1622, 'considering': 1623, 'branch': 1624, 'proposal': 1625, 'investigate': 1626, 'trip': 1627, 'worst': 1628, 'ten': 1629, 'beijing': 1630, 'engaged': 1631, 'reality': 1632, 'bull': 1633, 'completes': 1634, 'custody': 1635, 'ben': 1636, 'doing': 1637, 'rescued': 1638, 'headed': 1639, 'retire': 1640, 'chain': 1641, 'impact': 1642, 'lohan': 1643, 'additional': 1644, 'successful': 1645, 'believe': 1646, 'arrives': 1647, 'navy': 1648, 'mixed': 1649, 'develop': 1650, 'matt': 1651, 'golf': 1652, 'becoming': 1653, 'door': 1654, 'pulled': 1655, 'relationship': 1656, 'complex': 1657, 'brain': 1658, 'let': 1659, 'beginning': 1660, 'multiple': 1661, 'lindsay': 1662, 'kong': 1663, 'box': 1664, 'christian': 1665, 'reporting': 1666, 'medal': 1667, 'update': 1668, 'richard': 1669, 'threatened': 1670, 'assistant': 1671, 'chase': 1672, 'headquarters': 1673, 'satellite': 1674, 'opportunity': 1675, 'severe': 1676, 'message': 1677, 'bollywood': 1678, 'ford': 1679, 'environmental': 1680, 'delay': 1681, 'alliance': 1682, 'row': 1683, 'andy': 1684, 'kashmir': 1685, 'kate': 1686, 'milan': 1687, 'involving': 1688, 'important': 1689, 'critical': 1690, 'sentence': 1691, 'harry': 1692, 'classic': 1693, 'pull': 1694, 'wayne': 1695, 'subsidiary': 1696, 'bringing': 1697, 'happy': 1698, 'ice': 1699, 'william': 1700, 'elected': 1701, 'daniel': 1702, 'nov': 1703, 'huge': 1704, 'image': 1705, 'foundation': 1706, 'brought': 1707, 'showing': 1708, 'gaga': 1709, 'distribution': 1710, 'battery': 1711, 'helping': 1712, 'charlie': 1713, 'resigned': 1714, 'shut': 1715, 'samsung': 1716, 'safe': 1717, 'sun': 1718, 'ill': 1719, 'duty': 1720, 'capacity': 1721, 'dozen': 1722, 'married': 1723, 'sir': 1724, 'letter': 1725, 'township': 1726, 'avoid': 1727, 'brian': 1728, 'bowl': 1729, 'stewart': 1730, 'leadership': 1731, 'allegation': 1732, 'pass': 1733, 'resign': 1734, 'journal': 1735, 'outlook': 1736, 'indiana': 1737, 'gone': 1738, 'missouri': 1739, 'tourism': 1740, 'initiative': 1741, 'seriously': 1742, 'ending': 1743, 'secret': 1744, 'signing': 1745, 'marijuana': 1746, 'invest': 1747, 'shes': 1748, 'jason': 1749, 'hot': 1750, 'arsenal': 1751, 'material': 1752, 'various': 1753, 'kardashian': 1754, 'grow': 1755, 'usa': 1756, 'urge': 1757, 'raising': 1758, 'experience': 1759, 'remained': 1760, 'bob': 1761, 'awarded': 1762, 'labour': 1763, 'delivery': 1764, 'oct': 1765, 'stone': 1766, 'toyota': 1767, 'rick': 1768, 'auction': 1769, 'became': 1770, 'cover': 1771, 'english': 1772, 'launching': 1773, 'metro': 1774, 'schedule': 1775, 'mass': 1776, 'mile': 1777, 'cast': 1778, 'transport': 1779, 'burglary': 1780, 'cant': 1781, 'nomination': 1782, 'quit': 1783, 'receiver': 1784, 'settlement': 1785, 'entered': 1786, 'via': 1787, 'eye': 1788, 'scored': 1789, 'advance': 1790, 'failure': 1791, 'moscow': 1792, 'causing': 1793, 'attempted': 1794, 'author': 1795, 'unveils': 1796, 'citing': 1797, 'avenue': 1798, 'jack': 1799, 'eagle': 1800, 'simon': 1801, 'homicide': 1802, 'cleared': 1803, 'stephen': 1804, 'expectation': 1805, 'license': 1806, 'expansion': 1807, '2007': 1808, 'master': 1809, 'speed': 1810, 'increasing': 1811, 'wide': 1812, 'motorcycle': 1813, 'embassy': 1814, 'terror': 1815, 'bangladesh': 1816, 'charles': 1817, 'reelection': 1818, 'joining': 1819, 'garden': 1820, 'didnt': 1821, 'prisoner': 1822, 'expecting': 1823, 'voice': 1824, 'blast': 1825, 'rocket': 1826, 'offender': 1827, 'square': 1828, 'kick': 1829, 'ii': 1830, 'engine': 1831, 'seattle': 1832, 'philadelphia': 1833, 'score': 1834, 'die': 1835, 'treasury': 1836, 'walk': 1837, 'recovering': 1838, 'allen': 1839, 'needed': 1840, 'santa': 1841, 'really': 1842, 'related': 1843, 'horse': 1844, 'extension': 1845, 'idol': 1846, 'jr': 1847, 'tackle': 1848, 'picture': 1849, 'always': 1850, 'complaint': 1851, 'forum': 1852, 'associated': 1853, 'content': 1854, 'infrastructure': 1855, 'thought': 1856, 'arab': 1857, 'patrol': 1858, 'barcelona': 1859, 'seized': 1860, 'founder': 1861, 'ongoing': 1862, 'punjab': 1863, 'historic': 1864, 'honor': 1865, 'crore': 1866, 'spend': 1867, '70': 1868, 'pension': 1869, 'appearance': 1870, 'mitt': 1871, 'nationwide': 1872, 'fighter': 1873, 'panel': 1874, 'cameron': 1875, 'marine': 1876, 'oscar': 1877, 'regular': 1878, 'attend': 1879, 'advanced': 1880, 'client': 1881, 'campus': 1882, 'cleveland': 1883, 'appoints': 1884, 'aimed': 1885, 'sanction': 1886, 'toward': 1887, 'healthcare': 1888, 'generation': 1889, 'placed': 1890, 'prevent': 1891, 'wisconsin': 1892, 'gary': 1893, 'sexually': 1894, 'railway': 1895, 'lion': 1896, 'reason': 1897, 'mean': 1898, '1000': 1899, 'enter': 1900, 'cole': 1901, 'hero': 1902, 'melbourne': 1903, 'iron': 1904, 'app': 1905, 'sharply': 1906, 'struggling': 1907, 'gordon': 1908, 'sox': 1909, 'adult': 1910, 'relief': 1911, 'ukraine': 1912, 'extend': 1913, 'fast': 1914, 'jessica': 1915, 'commerce': 1916, 'wake': 1917, 'aim': 1918, 'sarah': 1919, 'visited': 1920, 'closer': 1921, 'cable': 1922, 'ad': 1923, 'fc': 1924, 'immigration': 1925, 'able': 1926, 'repair': 1927, 'comedy': 1928, 'weekly': 1929, 'send': 1930, 'significant': 1931, 'majority': 1932, 'politics': 1933, 'zimbabwe': 1934, 'setting': 1935, 'ap': 1936, 'terrorism': 1937, 'discovered': 1938, 'rare': 1939, 'developed': 1940, 'swiss': 1941, 'southwest': 1942, 'advertising': 1943, 'inmate': 1944, 'bieber': 1945, 'territory': 1946, 'possession': 1947, 'chapter': 1948, 'missile': 1949, 'prize': 1950, 'finish': 1951, 'saving': 1952, 'lift': 1953, 'plea': 1954, 'scotland': 1955, 'patrick': 1956, 'success': 1957, 'bin': 1958, 'exercise': 1959, 'trader': 1960, 'deadly': 1961, 'resort': 1962, 'hosting': 1963, 'defensive': 1964, 'push': 1965, 'kentucky': 1966, 'brad': 1967, 'dc': 1968, 'tool': 1969, 'throughout': 1970, 'denies': 1971, 'warns': 1972, 'loses': 1973, 'declares': 1974, 'promote': 1975, 'failing': 1976, 'ring': 1977, '35': 1978, 'collection': 1979, 'cancel': 1980, 'kennedy': 1981, 'dutch': 1982, 'offensive': 1983, 'scandal': 1984, 'hamilton': 1985, 'consider': 1986, 'announcement': 1987, 'jay': 1988, 'email': 1989, 'lack': 1990, 'olympics': 1991, 'tamil': 1992, '75': 1993, 'surprise': 1994, 'done': 1995, 'factory': 1996, 'jose': 1997, 'wale': 1998, 'reveals': 1999, 'stimulus': 2000, '32': 2001, 'settle': 2002, 'davis': 2003, 'nick': 2004, 'theatre': 2005, 'yankee': 2006, 'spent': 2007, 'electronic': 2008, 'limit': 2009, 'violent': 2010, 'tech': 2011, 'arabia': 2012, 'designed': 2013, 'mexican': 2014, 'tata': 2015, 'islamic': 2016, 'brazilian': 2017, 'wild': 2018, 'regulator': 2019, 'assaulting': 2020, 'golden': 2021, 'detained': 2022, 'identified': 2023, 'b': 2024, 'previously': 2025, 'apparently': 2026, 'link': 2027, 'electricity': 2028, 'developing': 2029, 'orleans': 2030, 'pace': 2031, 'word': 2032, 'rural': 2033, 'destroyed': 2034, 'evidence': 2035, 'anthony': 2036, 'heading': 2037, 'lender': 2038, 'approves': 2039, 'pitcher': 2040, 'shopping': 2041, 'qatar': 2042, '300': 2043, 'strip': 2044, 'iraqi': 2045, 'hired': 2046, 'sister': 2047, 'consecutive': 2048, 'yahoo': 2049, 'tennessee': 2050, 'longer': 2051, 'penalty': 2052, 'location': 2053, 'agree': 2054, 'ray': 2055, 'lewis': 2056, 'camera': 2057, 'spread': 2058, 'dream': 2059, 'advisory': 2060, 'carrying': 2061, 'movement': 2062, 'speech': 2063, 'sending': 2064, 'thomas': 2065, 'technical': 2066, 'disabled': 2067, 'complete': 2068, 'roll': 2069, 'recovered': 2070, 'produce': 2071, 'bbc': 2072, 'beaten': 2073, 'library': 2074, 'el': 2075, 'ruling': 2076, 'egyptian': 2077, 'overseas': 2078, 'victoria': 2079, '80': 2080, 'stabbing': 2081, 'speaker': 2082, 'portfolio': 2083, 'volunteer': 2084, 'childrens': 2085, 'allowed': 2086, 'elizabeth': 2087, 'confirms': 2088, 'speak': 2089, 'violation': 2090, 'providing': 2091, 'overall': 2092, 'pas': 2093, 'bjp': 2094, 'silver': 2095, 'oklahoma': 2096, 'expands': 2097, 'm': 2098, 'these': 2099, 'breast': 2100, 'catholic': 2101, 'supplier': 2102, 'scene': 2103, 'russell': 2104, 'appears': 2105, 'amy': 2106, 'celebration': 2107, 'carbon': 2108, 'freedom': 2109, 'supporter': 2110, 'saint': 2111, 'phoenix': 2112, 'serve': 2113, 'pharmaceutical': 2114, 'linked': 2115, 'amount': 2116, 'ghana': 2117, 'vietnam': 2118, 'nokia': 2119, 'edge': 2120, 'escape': 2121, 'northwest': 2122, 'witness': 2123, 'agriculture': 2124, 'beckham': 2125, 'document': 2126, 'explosion': 2127, 'wrong': 2128, 'sony': 2129, 'parking': 2130, 'tough': 2131, 'honored': 2132, 'screen': 2133, 'clinic': 2134, 'playoff': 2135, 'alert': 2136, 'introduces': 2137, 'miller': 2138, 'wounded': 2139, 'successfully': 2140, 'plc': 2141, 'venezuela': 2142, 'broadband': 2143, 'n': 2144, 'jump': 2145, 'ocean': 2146, 'racing': 2147, 'coalition': 2148, 'sept': 2149, 'dating': 2150, 'commodity': 2151, 'clean': 2152, 'institution': 2153, 'selected': 2154, 'rail': 2155, 'refused': 2156, 'fact': 2157, 'engineering': 2158, 'ensure': 2159, 'denver': 2160, 'conservative': 2161, 'alcohol': 2162, 'statistic': 2163, 'improvement': 2164, 'rapper': 2165, 'itself': 2166, 'stroke': 2167, 'tokyo': 2168, '90': 2169, 'casino': 2170, 'bought': 2171, 'nelson': 2172, 'collision': 2173, 'elementary': 2174, 'cold': 2175, 'jordan': 2176, 'hurt': 2177, 'sue': 2178, 'deliver': 2179, 'ball': 2180, 'rejected': 2181, 'palm': 2182, 'matter': 2183, 'bird': 2184, 'approval': 2185, 'mar': 2186, 'cuba': 2187, 'nigeria': 2188, 'prix': 2189, 'kyrgyzstan': 2190, 'promotion': 2191, 'speculation': 2192, 'diagnosed': 2193, 'toll': 2194, 'serving': 2195, 'sixth': 2196, 'changed': 2197, 'murray': 2198, 'claiming': 2199, 'page': 2200, 'improved': 2201, 'hillary': 2202, 'pool': 2203, 'undergo': 2204, 'frank': 2205, 'ed': 2206, 'electronics': 2207, 'individual': 2208, 'expanding': 2209, 'homeless': 2210, 'threatening': 2211, 'dangerous': 2212, 'moore': 2213, 'created': 2214, 'continuing': 2215, 'assaulted': 2216, 'pradesh': 2217, 'sky': 2218, 'parliamentary': 2219, 'pattinson': 2220, 'designer': 2221, 'arena': 2222, 'negative': 2223, 'medicine': 2224, 'greater': 2225, 'pope': 2226, 'extends': 2227, 'collapse': 2228, 'appeared': 2229, 'detail': 2230, 'breaking': 2231, 'austin': 2232, 'friendly': 2233, 'android': 2234, 'cape': 2235, 'aged': 2236, 'libyan': 2237, 'museum': 2238, 'specialist': 2239, 'mill': 2240, 'democracy': 2241, 'granted': 2242, 'tonne': 2243, 'palin': 2244, 'kept': 2245, 'drama': 2246, 'civilian': 2247, 'campbell': 2248, 'hell': 2249, 'catch': 2250, 'utility': 2251, 'prospect': 2252, 'alabama': 2253, 'treated': 2254, 'legislation': 2255, 'raid': 2256, 'resigns': 2257, 'hike': 2258, 'thanks': 2259, 'expanded': 2260, 'interior': 2261, 'formally': 2262, 'ny': 2263, 'fargo': 2264, 'tropical': 2265, 'superstar': 2266, '45': 2267, 'laid': 2268, 'cocaine': 2269, 'receiving': 2270, 'lending': 2271, 'diamond': 2272, 'tornado': 2273, 'dance': 2274, 'weight': 2275, 'contact': 2276, 'smart': 2277, 'politician': 2278, 'acting': 2279, 'pittsburgh': 2280, 'stated': 2281, 'pain': 2282, 'fisherman': 2283, 'struggle': 2284, 'jon': 2285, 'simpson': 2286, 'ipad': 2287, 'lowest': 2288, 'touch': 2289, '2014': 2290, 'athlete': 2291, 'residential': 2292, 'gate': 2293, 'status': 2294, 'funeral': 2295, 'lebanon': 2296, 'reuters': 2297, 'cancelled': 2298, 'burn': 2299, 'filing': 2300, 'voting': 2301, 'famous': 2302, 'rehab': 2303, 'sudan': 2304, 'true': 2305, 'cbs': 2306, 'visiting': 2307, 'notice': 2308, 'nifty': 2309, 'sa': 2310, 'flag': 2311, 'orange': 2312, 'commander': 2313, 'massachusetts': 2314, 'although': 2315, 'becomes': 2316, 'storage': 2317, 'celtic': 2318, 'galaxy': 2319, 'scottish': 2320, 'spear': 2321, 'fellow': 2322, 'choice': 2323, 'dancing': 2324, 'approach': 2325, 'bureau': 2326, 'certain': 2327, 'warrant': 2328, 'pitch': 2329, 'conflict': 2330, 'suspicion': 2331, 'strength': 2332, 'tablet': 2333, 'ton': 2334, 'milwaukee': 2335, 'killer': 2336, 'extra': 2337, 'guy': 2338, '400': 2339, 'stronger': 2340, 'employer': 2341, 'rio': 2342, 'yemen': 2343, 'carry': 2344, 'request': 2345, 'uae': 2346, 'degree': 2347, 'cardinal': 2348, 'believed': 2349, 'lifted': 2350, 'talent': 2351, 'franchise': 2352, 'negotiation': 2353, 'jerry': 2354, 'rather': 2355, 'immediate': 2356, 'religious': 2357, 'built': 2358, 'independence': 2359, 'strengthen': 2360, 'longtime': 2361, 'formula': 2362, 'machine': 2363, 'michelle': 2364, 'eric': 2365, 'crossing': 2366, 'comeback': 2367, 'abu': 2368, 'virus': 2369, 'howard': 2370, 'idea': 2371, 'herself': 2372, 'sheen': 2373, 'healthy': 2374, 'recalled': 2375, 'diplomatic': 2376, 'keeping': 2377, 'rihanna': 2378, 'musical': 2379, 'stanley': 2380, 'assistance': 2381, 'bulgaria': 2382, 'delegation': 2383, 'junior': 2384, 'wilson': 2385, 'yen': 2386, 'malaysian': 2387, 'gandhi': 2388, 'pipeline': 2389, 'roger': 2390, 'throw': 2391, 'powerful': 2392, 'missed': 2393, 'congressional': 2394, 'upgrade': 2395, 'wave': 2396, 'pro': 2397, 'estimate': 2398, 'gang': 2399, 'semifinal': 2400, 'pair': 2401, 'wage': 2402, 'abc': 2403, 'bengal': 2404, 'located': 2405, 'teenage': 2406, 'anna': 2407, 'initial': 2408, 'tension': 2409, 'existing': 2410, 'agrees': 2411, 'hitting': 2412, 'eurozone': 2413, 'cap': 2414, 'katie': 2415, 'combat': 2416, 'monetary': 2417, 'testing': 2418, 'myanmar': 2419, 'cat': 2420, 'visa': 2421, 'waste': 2422, 'cheryl': 2423, 'ride': 2424, 'inning': 2425, 'newly': 2426, 'sam': 2427, 'shoulder': 2428, 'zardari': 2429, 'illness': 2430, 'provides': 2431, 'pedestrian': 2432, 'wing': 2433, 'earth': 2434, 'sharp': 2435, 'enforcement': 2436, 'financing': 2437, 'newcastle': 2438, 'lay': 2439, 'shortage': 2440, 'mail': 2441, 'refugee': 2442, 'britney': 2443, 'gift': 2444, 'bag': 2445, 'shown': 2446, 'bailout': 2447, 'stable': 2448, 'drink': 2449, 'pc': 2450, 'presented': 2451, 'usd': 2452, 'copper': 2453, 'liberal': 2454, 'w': 2455, 'sentiment': 2456, 'removed': 2457, 'spotted': 2458, 'buffalo': 2459, 'fully': 2460, 'affected': 2461, 'gunman': 2462, 'floor': 2463, 'sued': 2464, 'baltimore': 2465, 'regulation': 2466, 'bp': 2467, 'item': 2468, 'investigator': 2469, 'czech': 2470, 'mary': 2471, 'buyer': 2472, 'hoping': 2473, '150': 2474, 'somali': 2475, 'apparent': 2476, 'rebound': 2477, 'display': 2478, 'approximately': 2479, 'promise': 2480, 'ontario': 2481, 'harris': 2482, 'twice': 2483, 'drunk': 2484, 'tampa': 2485, 'alive': 2486, 'include': 2487, 'style': 2488, 'madonna': 2489, 'neighborhood': 2490, 'enters': 2491, 'population': 2492, 'southeast': 2493, 'moment': 2494, 'awareness': 2495, 'discovery': 2496, 'sabha': 2497, 'birmingham': 2498, 'networking': 2499, 'phil': 2500, 'oregon': 2501, 'instead': 2502, 'culture': 2503, 'adviser': 2504, 'thailand': 2505, 'utah': 2506, 'secure': 2507, 'language': 2508, 'recover': 2509, 'dialogue': 2510, 'suffers': 2511, 'carlos': 2512, 'remove': 2513, 'att': 2514, 'native': 2515, 'argentina': 2516, 'exclusive': 2517, 'broadway': 2518, 'begun': 2519, 'phase': 2520, 'commitment': 2521, 'sound': 2522, 'circuit': 2523, 'kumar': 2524, 'traded': 2525, 'dakota': 2526, 'atlantic': 2527, 'putting': 2528, 'congressman': 2529, 'owned': 2530, 'whats': 2531, 'steady': 2532, 'shark': 2533, 'fishing': 2534, 'scam': 2535, 'professor': 2536, 'emerging': 2537, 'vowed': 2538, 'outstanding': 2539, 'legendary': 2540, 'salary': 2541, 'stopped': 2542, 'angelina': 2543, 'mall': 2544, 'kicked': 2545, 'employment': 2546, 'sought': 2547, 'active': 2548, 'katy': 2549, 'madison': 2550, 'rapid': 2551, 'jolie': 2552, 'feeling': 2553, 'restructuring': 2554, 'vancouver': 2555, 'thats': 2556, 'probation': 2557, 'c': 2558, 'fatally': 2559, 'creating': 2560, 'section': 2561, 'jumped': 2562, 'sensex': 2563, 'cargo': 2564, 'direction': 2565, 'premiere': 2566, 'halt': 2567, 'intelligence': 2568, 'entire': 2569, '10000': 2570, 'serbia': 2571, 'collapsed': 2572, 'opener': 2573, 'jimmy': 2574, 'probe': 2575, 'transportation': 2576, 'sworn': 2577, 'aviation': 2578, 'pennsylvania': 2579, 'appointment': 2580, 'sprint': 2581, 'identity': 2582, 'smartphone': 2583, 'felt': 2584, 'invasion': 2585, 'presence': 2586, 'evacuated': 2587, 'troubled': 2588, 'reject': 2589, 'mac': 2590, 'j': 2591, 'disney': 2592, 'resistance': 2593, '600': 2594, 'regime': 2595, 'edition': 2596, 'taxi': 2597, 'male': 2598, 'especially': 2599, 'craig': 2600, 'penn': 2601, 'reduced': 2602, 'organisation': 2603, 'table': 2604, 'invited': 2605, 'blow': 2606, 'merger': 2607, 'fit': 2608, 'slam': 2609, 'businessman': 2610, 'vow': 2611, 'ankle': 2612, 'sugar': 2613, 'preliminary': 2614, 'benchmark': 2615, 'convention': 2616, 'deposit': 2617, 'trophy': 2618, 'asking': 2619, 'themselves': 2620, 'orlando': 2621, 'regarding': 2622, 'episode': 2623, 'hudson': 2624, 'asks': 2625, 'gop': 2626, 'hamas': 2627, 'oakland': 2628, 'matthew': 2629, 'however': 2630, 'henry': 2631, 'boxing': 2632, 'century': 2633, '65': 2634, 'something': 2635, 'offshore': 2636, 'resolution': 2637, 'kazakhstan': 2638, '62': 2639, 'connecticut': 2640, 'infection': 2641, 'rich': 2642, 'wish': 2643, 'dedicated': 2644, 'diplomat': 2645, 'born': 2646, 'immediately': 2647, 'demi': 2648, 'tower': 2649, '64': 2650, 'turning': 2651, 'federation': 2652, 'exhibition': 2653, 'false': 2654, 'pub': 2655, 'warren': 2656, 'deadline': 2657, 'lord': 2658, 'answer': 2659, 'output': 2660, 'armenian': 2661, 'nsw': 2662, 'mississippi': 2663, 'e': 2664, 'jeff': 2665, 'residence': 2666, 'mount': 2667, 'maoist': 2668, 'columbus': 2669, 'winehouse': 2670, 'ron': 2671, 'monthly': 2672, 'preparing': 2673, 'anderson': 2674, 'slow': 2675, 'considered': 2676, 'engagement': 2677, 'basis': 2678, 'cyrus': 2679, 'searching': 2680, 'renewed': 2681, 'bomber': 2682, '100000': 2683, 'ease': 2684, 'creek': 2685, 'pole': 2686, 'swedish': 2687, 'ncaa': 2688, 'alaska': 2689, '41': 2690, 'crowd': 2691, 'manslaughter': 2692, 'wait': 2693, 'postponed': 2694, 'suspends': 2695, 'canceled': 2696, 'globe': 2697, 'coverage': 2698, 'fish': 2699, 'columbia': 2700, 'learned': 2701, 'declined': 2702, 'expect': 2703, 'manmohan': 2704, 'foreclosure': 2705, 'noon': 2706, 'bell': 2707, 'bit': 2708, 'luxury': 2709, 'queensland': 2710, 'discussion': 2711, 'duo': 2712, 'rice': 2713, 'portland': 2714, 'goldman': 2715, 'criticism': 2716, 'celebrating': 2717, 'welcomed': 2718, 'northeast': 2719, 'busy': 2720, 'nominee': 2721, 'nothing': 2722, 'shanghai': 2723, 'knife': 2724, 'respect': 2725, 'mutual': 2726, 'internal': 2727, 'dan': 2728, 'suspension': 2729, 'normal': 2730, 'tested': 2731, 'suspicious': 2732, 'youtube': 2733, 'smoke': 2734, 'bilateral': 2735, 'maryland': 2736, 'temporary': 2737, 'defend': 2738, 'trail': 2739, 'contractor': 2740, 'tender': 2741, 'fake': 2742, 'insists': 2743, 'personnel': 2744, 'angel': 2745, 'paying': 2746, 'alternative': 2747, 'conducted': 2748, 'modern': 2749, 'ask': 2750, 'introduce': 2751, 'engineer': 2752, 'retired': 2753, 'performing': 2754, 'azerbaijani': 2755, 'delayed': 2756, 'bombing': 2757, 'learn': 2758, 'responsible': 2759, 'broadcast': 2760, 'marathon': 2761, 'virgin': 2762, 'chavez': 2763, 'lankan': 2764, 'pornography': 2765, 'nominated': 2766, 'ag': 2767, 'patriot': 2768, 'bulgarian': 2769, 'recorded': 2770, 'sweden': 2771, 'arkansas': 2772, 'drinking': 2773, 'sponsor': 2774, 'tied': 2775, 'managed': 2776, 'cowboy': 2777, 'everything': 2778, 'lane': 2779, 'targeting': 2780, '2000': 2781, 'nasa': 2782, 'coffee': 2783, 'tea': 2784, 'pitt': 2785, 'hunter': 2786, 'scientific': 2787, 'escaped': 2788, 'kristen': 2789, 'swimming': 2790, 'memory': 2791, 'highly': 2792, 'difference': 2793, 'sends': 2794, 'eve': 2795, 'betting': 2796, 'guest': 2797, 'lincoln': 2798, 'seems': 2799, 'worked': 2800, 'josh': 2801, 'waiting': 2802, 'sean': 2803, 'cuban': 2804, 'announcing': 2805, 'franklin': 2806, 'cooper': 2807, 'andre': 2808, 'weaker': 2809, 'miley': 2810, 'stole': 2811, 'praise': 2812, 'sachs': 2813, 'kidnapped': 2814, 'wear': 2815, 'upset': 2816, 'minority': 2817, 'affect': 2818, 'intel': 2819, 'spill': 2820, 'transaction': 2821, 'improving': 2822, 'warrior': 2823, 'llc': 2824, 'kenya': 2825, '63': 2826, 'register': 2827, 'rushed': 2828, 'swift': 2829, 'tight': 2830, 'conviction': 2831, 'tank': 2832, '85': 2833, 'fallen': 2834, 'assigned': 2835, 'provided': 2836, 'spirit': 2837, 'nashville': 2838, '42': 2839, 'publisher': 2840, 'dark': 2841, 'bahrain': 2842, 'perfect': 2843, 'immigrant': 2844, 'louisiana': 2845, 'nigerian': 2846, 'registration': 2847, 'slip': 2848, 'reopen': 2849, 'tehran': 2850, 'emirate': 2851, 'onto': 2852, '5000': 2853, 'principal': 2854, 'pet': 2855, 'indie': 2856, 'steven': 2857, 'robin': 2858, 'flying': 2859, 'nbc': 2860, 'finished': 2861, 'blackberry': 2862, 'nhl': 2863, 'label': 2864, 'temperature': 2865, 'participate': 2866, 'donation': 2867, 'don': 2868, 'hosted': 2869, 'thief': 2870, 'del': 2871, 'plastic': 2872, 'expressed': 2873, 'ukrainian': 2874, 'kidnapping': 2875, 'mental': 2876, 'pledge': 2877, 'marry': 2878, 'read': 2879, 'threatens': 2880, 'maria': 2881, 'nevada': 2882, 'chip': 2883, 'article': 2884, 'terry': 2885, 'fifa': 2886, 'miner': 2887, 'includes': 2888, 'neil': 2889, 'charlotte': 2890, 'advantage': 2891, 'slowdown': 2892, 'leak': 2893, 'transit': 2894, 'drew': 2895, 'beyond': 2896, 'balance': 2897, 'vessel': 2898, 'reduction': 2899, 'boeing': 2900, 'theater': 2901, 'carter': 2902, 'villa': 2903, 'dhabi': 2904, 'proud': 2905, 'confident': 2906, 'cincinnati': 2907, 'crown': 2908, 'shore': 2909, 'naval': 2910, 'finding': 2911, 'featuring': 2912, 'lineup': 2913, 'defeated': 2914, 'rookie': 2915, 'indonesian': 2916, 'restore': 2917, 'interim': 2918, 'kingdom': 2919, 'decide': 2920, 'd': 2921, 'armenia': 2922, 'biden': 2923, 'reading': 2924, 'undisclosed': 2925, 'fly': 2926, 'compete': 2927, 'nicole': 2928, 'trafficking': 2929, 'ive': 2930, 'guide': 2931, 'blame': 2932, 'defended': 2933, 'fail': 2934, 'pat': 2935, 'targeted': 2936, 'ram': 2937, 'bike': 2938, 'suggested': 2939, 'switzerland': 2940, 'bone': 2941, 'carried': 2942, 'antonio': 2943, 'cited': 2944, 'defends': 2945, 'happened': 2946, 'volume': 2947, 'warner': 2948, 'managing': 2949, 'ibm': 2950, 'johnny': 2951, 'provincial': 2952, 'walker': 2953, 'suit': 2954, 'charter': 2955, 'rider': 2956, 'dinner': 2957, 'lawrence': 2958, 'cowell': 2959, 'derby': 2960, 'tottenham': 2961, 'anything': 2962, 'secured': 2963, 'critic': 2964, 'worry': 2965, 'counterpart': 2966, 'character': 2967, 'knight': 2968, 'rafael': 2969, 'refuse': 2970, 'armstrong': 2971, 'ran': 2972, 'upper': 2973, 'god': 2974, 'remaining': 2975, 'responsibility': 2976, 'accept': 2977, 'rand': 2978, 'wildlife': 2979, 'core': 2980, 'custom': 2981, 'damaged': 2982, 'alan': 2983, 'suggests': 2984, 'tip': 2985, 'rank': 2986, 'aniston': 2987, 'fleet': 2988, 'maintenance': 2989, 'rob': 2990, 'kind': 2991, '33': 2992, 'bradley': 2993, 'easy': 2994, 'allowing': 2995, 'informed': 2996, 'urban': 2997, 'murdered': 2998, 'fare': 2999, 'dick': 3000, 'audience': 3001, 'wikileaks': 3002, 'drowned': 3003, 'talking': 3004, 'slash': 3005, 'hawaii': 3006, 'bat': 3007, 'fitness': 3008, 'teammate': 3009, 'drone': 3010, 'quarterfinal': 3011, 'barclays': 3012, 'destination': 3013, 'trouble': 3014, 'heavyweight': 3015, 'p': 3016, 'sacramento': 3017, 'ufc': 3018, 'assist': 3019, 'compensation': 3020, 'economist': 3021, 'alexander': 3022, 'honda': 3023, 'smoking': 3024, 'visitor': 3025, 'milestone': 3026, 'icon': 3027, 'brings': 3028, 'toddler': 3029, 'mandela': 3030, 'learning': 3031, 'gained': 3032, 'bruce': 3033, 'temporarily': 3034, 'ash': 3035, 'supporting': 3036, 'emission': 3037, 'ferguson': 3038, 'code': 3039, 'haiti': 3040, 'clark': 3041, 'jacob': 3042, 'sweep': 3043, 'gunpoint': 3044, 'difficult': 3045, 'speaks': 3046, 'favourite': 3047, '76': 3048, 'nurse': 3049, 'maintain': 3050, 'closure': 3051, 'billy': 3052, 'follow': 3053, 'whole': 3054, 'musician': 3055, 'deep': 3056, 'exploration': 3057, 'category': 3058, 'dismissed': 3059, 'wolf': 3060, 'exit': 3061, 'petrol': 3062, 'prepare': 3063, 'retiring': 3064, 'dublin': 3065, 'robber': 3066, 'shah': 3067, 'resignation': 3068, 'jazz': 3069, 'arson': 3070, 'blog': 3071, 'diabetes': 3072, '34': 3073, 'expense': 3074, 'bobby': 3075, '36': 3076, 'cyprus': 3077, '911': 3078, 'jewish': 3079, 'liberty': 3080, 'arrive': 3081, 'produced': 3082, 'montreal': 3083, 'parker': 3084, 'nepal': 3085, 'chamber': 3086, 'barbara': 3087, 'barry': 3088, 'grove': 3089, 'recording': 3090, 'hedge': 3091, 'upgraded': 3092, 'rush': 3093, 'standing': 3094, 'constitution': 3095, 'adopted': 3096, 'policeman': 3097, 'brave': 3098, 'vaccine': 3099, 'belarus': 3100, 'bishop': 3101, 'ac': 3102, 'shoe': 3103, 'fed': 3104, 'nh': 3105, 'raped': 3106, 'often': 3107, 'flooding': 3108, 'battling': 3109, 'delivered': 3110, 'prominent': 3111, 'palace': 3112, 'processing': 3113, 'preseason': 3114, 'amazon': 3115, 'us': 3116, 'verizon': 3117, 'occurred': 3118, 'chrysler': 3119, 'collaboration': 3120, 'entry': 3121, 'burning': 3122, 'motorist': 3123, 'height': 3124, 'ally': 3125, 'joseph': 3126, 'softball': 3127, 'poland': 3128, 'murdering': 3129, 'jammu': 3130, 'withdraws': 3131, 'task': 3132, 'indianapolis': 3133, 'estimated': 3134, 'reliance': 3135, 'traditional': 3136, 'petition': 3137, 'plead': 3138, 'picked': 3139, 'triple': 3140, 'roy': 3141, 'piece': 3142, 'isnt': 3143, 'drunken': 3144, '3d': 3145, 'handed': 3146, 'supermarket': 3147, 'caribbean': 3148, 'cub': 3149, 'downturn': 3150, 'probably': 3151, 'hunt': 3152, 'regulatory': 3153, 'influence': 3154, 'stepping': 3155, 'sure': 3156, 'kolkata': 3157, 'thai': 3158, '10th': 3159, 'roster': 3160, 'virtual': 3161, 'walmart': 3162, 'auckland': 3163, 'riot': 3164, 'honoured': 3165, 'remark': 3166, 'lopez': 3167, 'roof': 3168, 'cook': 3169, 'dolphin': 3170, 'mostly': 3171, 'zoo': 3172, 'dave': 3173, 'structure': 3174, 'jamie': 3175, 'surge': 3176, 'priority': 3177, 'shortly': 3178, 'cultural': 3179, 'flame': 3180, 'permanent': 3181, 'demanded': 3182, 'delta': 3183, 'shell': 3184, 'ricky': 3185, 'advisor': 3186, 'nicolas': 3187, 'blamed': 3188, 'hiring': 3189, 'comedian': 3190, 'signal': 3191, 'grade': 3192, 'colombia': 3193, 'permit': 3194, 'liam': 3195, 'linebacker': 3196, 'aaron': 3197, 'similar': 3198, 'faced': 3199, 'landed': 3200, 'greg': 3201, 'fitch': 3202, 'registered': 3203, 'threw': 3204, 'medvedev': 3205, 'prescription': 3206, 'capitol': 3207, 'reopened': 3208, 'actually': 3209, 'lakh': 3210, 'interstate': 3211, 'alone': 3212, 'automotive': 3213, 'cnn': 3214, 'drought': 3215, 'recalling': 3216, 'undergoing': 3217, 'bristol': 3218, 'maine': 3219, 'collins': 3220, 'emerged': 3221, 'innovation': 3222, 'extending': 3223, 'goalkeeper': 3224, 'yard': 3225, 'athletic': 3226, 'islamabad': 3227, 'legislative': 3228, 'ranking': 3229, 'sunderland': 3230, 'resolve': 3231, 'cyclist': 3232, 'physical': 3233, 'accidentally': 3234, 'passing': 3235, 'commonwealth': 3236, 'graduate': 3237, 'beauty': 3238, 'establish': 3239, 'broker': 3240, 'ballot': 3241, 'performed': 3242, 'described': 3243, 'municipal': 3244, 'legislature': 3245, 'promised': 3246, 'backed': 3247, 'brook': 3248, 'earned': 3249, 'saved': 3250, 'captured': 3251, 'asif': 3252, 'duke': 3253, 'stress': 3254, 'seventh': 3255, 'enhance': 3256, 'misdemeanor': 3257, 'parade': 3258, 'shed': 3259, 'automaker': 3260, 'wildfire': 3261, 'waiver': 3262, 'nascar': 3263, 'treat': 3264, 'takeover': 3265, 'offence': 3266, 'wearing': 3267, 'colombian': 3268, 'written': 3269, 'violating': 3270, 'type': 3271, 'motion': 3272, 'fastest': 3273, 'longterm': 3274, 'freed': 3275, 'coordinator': 3276, 'kapoor': 3277, 'suing': 3278, 'restriction': 3279, 'wealth': 3280, 'creative': 3281, 'magic': 3282, 'chennai': 3283, 'dodger': 3284, 'condemned': 3285, 'wine': 3286, 'billionaire': 3287, 'hostage': 3288, 'yield': 3289, 'workshop': 3290, 'brewer': 3291, 'crackdown': 3292, 'pushed': 3293, 'watson': 3294, 'mind': 3295, 'inquiry': 3296, 'rome': 3297, 'photographer': 3298, 'chart': 3299, 'unchanged': 3300, 'netherlands': 3301, 'wholesale': 3302, 'deutsche': 3303, 'favorite': 3304, 'dow': 3305, 'moon': 3306, 'finger': 3307, 'formed': 3308, '38': 3309, 'possibility': 3310, 'someone': 3311, 'guarantee': 3312, 'holder': 3313, 'streak': 3314, 'romania': 3315, 'listed': 3316, 'judicial': 3317, 'diesel': 3318, 'chile': 3319, '2006': 3320, 'focused': 3321, 'insurer': 3322, 'gujarat': 3323, 'variety': 3324, 'steal': 3325, 'temple': 3326, 'knocked': 3327, 'rumor': 3328, 'attention': 3329, 'editor': 3330, '43': 3331, 'graham': 3332, 'unlikely': 3333, 'terminal': 3334, 'upon': 3335, 'freeze': 3336, 'seed': 3337, 'latin': 3338, 'gaming': 3339, 'outfielder': 3340, 'reaching': 3341, 'hilton': 3342, 'drilling': 3343, 'welfare': 3344, 'brandon': 3345, 'putin': 3346, 'comprehensive': 3347, 'benedict': 3348, 'lightning': 3349, '61': 3350, 'considers': 3351, 'grain': 3352, 'shift': 3353, 'universal': 3354, 'christina': 3355, 'gap': 3356, 'plus': 3357, 'household': 3358, '72': 3359, '3000': 3360, 'forthcoming': 3361, 'lok': 3362, 'le': 3363, 'raping': 3364, 'opera': 3365, 'holmes': 3366, 'envoy': 3367, 'attacking': 3368, '250': 3369, 'telecommunication': 3370, 'espn': 3371, 'hampshire': 3372, 'fisher': 3373, 'premium': 3374, 'kuwait': 3375, '51': 3376, 'shipping': 3377, 'thompson': 3378, 'size': 3379, 'heritage': 3380, 'aston': 3381, 'tanker': 3382, 'till': 3383, 'trillion': 3384, 'shuttle': 3385, '82': 3386, 'standoff': 3387, 'quickly': 3388, 'tribal': 3389, 'assignment': 3390, 'crop': 3391, 'encounter': 3392, 'explosive': 3393, 'malik': 3394, 'competitive': 3395, 'amendment': 3396, 'ottawa': 3397, 'petroleum': 3398, '37': 3399, 'lama': 3400, 'owen': 3401, 'hp': 3402, 'dealing': 3403, 'hub': 3404, 'berlin': 3405, 'withdraw': 3406, 'sustained': 3407, 'ted': 3408, 'fun': 3409, 'downgraded': 3410, 'ranked': 3411, 'fiji': 3412, 'swing': 3413, 'acre': 3414, 'integrated': 3415, 'original': 3416, 'workforce': 3417, 'sleep': 3418, 'neck': 3419, 'hughes': 3420, 'fbi': 3421, 'casey': 3422, 'reid': 3423, 'fails': 3424, 'councillor': 3425, 'depression': 3426, 'georgian': 3427, 'fla': 3428, 'raw': 3429, 'hugo': 3430, 'skill': 3431, 'reveal': 3432, 'poised': 3433, 'shelter': 3434, 'analysis': 3435, 'migrant': 3436, 'sp': 3437, 'publicly': 3438, 'monitor': 3439, 'defending': 3440, 'motorcyclist': 3441, 'trailer': 3442, 'cinema': 3443, 'edged': 3444, 'dalai': 3445, 'rogers': 3446, 'perth': 3447, 'required': 3448, 'mom': 3449, 'glass': 3450, 'ore': 3451, 'crack': 3452, 'opinion': 3453, 'milk': 3454, 'fixed': 3455, 'twoyear': 3456, 'honour': 3457, 'undergoes': 3458, 'fewer': 3459, 'hate': 3460, 'nadal': 3461, 'associate': 3462, 'everyone': 3463, 'raider': 3464, 'scale': 3465, 'dramatic': 3466, 'firing': 3467, '55': 3468, 'asylum': 3469, 'lance': 3470, 'musharraf': 3471, 'map': 3472, 'quits': 3473, 'endorses': 3474, 'intends': 3475, 'detective': 3476, 'sustainable': 3477, 'abortion': 3478, 'ian': 3479, 'walking': 3480, 'grew': 3481, 'minimum': 3482, 'licence': 3483, 'lakers': 3484, 'illegally': 3485, '48': 3486, 'pose': 3487, 'accuses': 3488, 'seize': 3489, 'elephant': 3490, 'writes': 3491, 'danger': 3492, 'controversy': 3493, 'increasingly': 3494, 'skin': 3495, 'demonstration': 3496, 'established': 3497, 'rallied': 3498, 'ability': 3499, 'afp': 3500, 'renewable': 3501, 'bonus': 3502, 'requirement': 3503, 'discount': 3504, 'revolution': 3505, 'implement': 3506, 'interactive': 3507, 'nebraska': 3508, 'titan': 3509, 'unveil': 3510, 'unique': 3511, 'sterling': 3512, 'capture': 3513, 'brisbane': 3514, 'marshall': 3515, 'accepted': 3516, 'gilani': 3517, 'ashley': 3518, 'switch': 3519, 'nc': 3520, 'jesse': 3521, 'knowledge': 3522, 'salman': 3523, 'selection': 3524, 'aide': 3525, 'changing': 3526, '700': 3527, 'danny': 3528, 'rb': 3529, 'larry': 3530, 'wreck': 3531, 'older': 3532, 'addition': 3533, 'pupil': 3534, 'lebanese': 3535, 'fa': 3536, 'uncertainty': 3537, 'humanitarian': 3538, 'interested': 3539, 'marking': 3540, 'preparation': 3541, 'zuma': 3542, 'opponent': 3543, 'critically': 3544, 'theyre': 3545, 'rolling': 3546, 'tracking': 3547, 'bigger': 3548, 'hunger': 3549, 'contribution': 3550, 'jeremy': 3551, 'sparked': 3552, 'stream': 3553, 'proposes': 3554, 'stability': 3555, 'strongly': 3556, 'banker': 3557, 'smartphones': 3558, 'familiar': 3559, 'text': 3560, 'kanye': 3561, 'mistake': 3562, 'praised': 3563, 'restored': 3564, 'retires': 3565, 'wound': 3566, 'communist': 3567, 'quite': 3568, 'dropping': 3569, 'filmmaker': 3570, 'pilgrim': 3571, 'entering': 3572, 'hair': 3573, 'keith': 3574, 'montana': 3575, 'vision': 3576, 'shock': 3577, 'pit': 3578, 'corner': 3579, 'haven': 3580, 'baghdad': 3581, 'starring': 3582, 'outlet': 3583, 'served': 3584, 'citigroup': 3585, 'hole': 3586, 'kerry': 3587, 'outage': 3588, 'lung': 3589, 'raza': 3590, 'innovative': 3591, 'solo': 3592, 'speaking': 3593, 'ross': 3594, 'kerala': 3595, '2015': 3596, 'inter': 3597, 'susan': 3598, 'wright': 3599, 'bounce': 3600, 'demanding': 3601, 'coaching': 3602, '44': 3603, 'endorsed': 3604, 'spokeswoman': 3605, 'resumed': 3606, 'peak': 3607, 'mets': 3608, 'significantly': 3609, 'neighbor': 3610, 'pickup': 3611, 'relative': 3612, 'administrator': 3613, 'thrown': 3614, 'releasing': 3615, 'mccartney': 3616, 'guidance': 3617, 'pak': 3618, 'cliff': 3619, 'harper': 3620, 'string': 3621, 'dell': 3622, 'winger': 3623, 'pregnancy': 3624, 'survivor': 3625, 'burned': 3626, 'bed': 3627, 'arrival': 3628, 'qantas': 3629, 'mario': 3630, 'evans': 3631, 'o': 3632, 'potentially': 3633, 'twenty20': 3634, 'rental': 3635, '52': 3636, '800': 3637, 'juan': 3638, 'jerusalem': 3639, 'pete': 3640, 'angry': 3641, 'eddie': 3642, 'injuring': 3643, 'kenny': 3644, 'unexpectedly': 3645, 'basic': 3646, 'mitchell': 3647, 'directed': 3648, 'pledged': 3649, 'prepared': 3650, 'crashing': 3651, 'gaddafi': 3652, 'neutral': 3653, 'anne': 3654, 'insisted': 3655, 'screening': 3656, 'mukherjee': 3657, 'imposed': 3658, 'withdrawn': 3659, 'approve': 3660, 'exporter': 3661, 'rollover': 3662, 'marked': 3663, 'gm': 3664, 'rover': 3665, 'carl': 3666, 'viewer': 3667, 'monitoring': 3668, 'pushing': 3669, 'jacksonville': 3670, 'spy': 3671, 'abroad': 3672, 'recycling': 3673, 'vatican': 3674, 'sovereign': 3675, 'keen': 3676, 'sarkozy': 3677, 'rochester': 3678, 'rocker': 3679, 'kyle': 3680, 'stranded': 3681, 'transplant': 3682, 'anyone': 3683, 'doubt': 3684, 'advice': 3685, 'conspiracy': 3686, 'allstar': 3687, 'slipped': 3688, 'tyler': 3689, 'hip': 3690, 'insurgent': 3691, 'cairo': 3692, 'consulting': 3693, 'accepting': 3694, 'costa': 3695, 'refinery': 3696, 'advocate': 3697, 'maharashtra': 3698, 'determined': 3699, 'trooper': 3700, 'obamas': 3701, 'underwent': 3702, 'northwestern': 3703, 'prepares': 3704, 'oneyear': 3705, 'drill': 3706, 'trapped': 3707, 'urging': 3708, 'julian': 3709, 'reader': 3710, 'airbus': 3711, 'hopeful': 3712, 'plot': 3713, 'inducted': 3714, 'bullet': 3715, 'brief': 3716, 'parish': 3717, 'mtv': 3718, 'blaze': 3719, 'era': 3720, 'tsunami': 3721, 'recruit': 3722, 'lloyd': 3723, 'homeowner': 3724, 'featured': 3725, 'affiliate': 3726, 'membership': 3727, 'sporting': 3728, 'douglas': 3729, 'ambulance': 3730, 'chancellor': 3731, 'scrap': 3732, 'hear': 3733, 'argument': 3734, 'concussion': 3735, 'forcing': 3736, 'capability': 3737, 'roman': 3738, 'skipper': 3739, 'nj': 3740, 'karnataka': 3741, 'walter': 3742, 'breach': 3743, 'volleyball': 3744, 'brett': 3745, 'downgrade': 3746, 'raven': 3747, 'murphy': 3748, 'idaho': 3749, 'pleased': 3750, 'iii': 3751, 'vladimir': 3752, 'external': 3753, 'spokesperson': 3754, 'mubarak': 3755, 'middleton': 3756, 'flow': 3757, 'dry': 3758, 'procedure': 3759, 'quick': 3760, 'foster': 3761, 'watchdog': 3762, 'faster': 3763, 'beer': 3764, 'suv': 3765, 'included': 3766, 'kent': 3767, 'weakened': 3768, 'arnold': 3769, 'specie': 3770, 'carey': 3771, 'bronco': 3772, 'munich': 3773, 'gene': 3774, 'quoted': 3775, 'pti': 3776, 'default': 3777, 'springfield': 3778, 'memphis': 3779, 'everton': 3780, 'outbreak': 3781, 'prior': 3782, 'settled': 3783, 'chest': 3784, 'boosted': 3785, 'bangalore': 3786, 'sep': 3787, 'telling': 3788, 'path': 3789, 'philip': 3790, 'tommy': 3791, 'writing': 3792, 'novel': 3793, 'nightclub': 3794, 'pizza': 3795, 'bottom': 3796, 'gear': 3797, 'priest': 3798, 'porn': 3799, 'apply': 3800, 'magistrate': 3801, 'efficiency': 3802, 'pump': 3803, 'streaming': 3804, 'vendor': 3805, 'zero': 3806, '46': 3807, 'tibetan': 3808, 'allows': 3809, 'agricultural': 3810, 'dad': 3811, 'promoting': 3812, 'bihar': 3813, 'chicken': 3814, 'placement': 3815, 'solid': 3816, 'subject': 3817, 'newest': 3818, 'involvement': 3819, 'kidney': 3820, '50000': 3821, 'bc': 3822, 'neighbour': 3823, 'midnight': 3824, 'ahmadinejad': 3825, 'plunge': 3826, 'astronaut': 3827, 'clothing': 3828, 'chef': 3829, 'kosovo': 3830, 'rolled': 3831, 'climb': 3832, 'regret': 3833, 'venezuelan': 3834, 'motorola': 3835, 'wheat': 3836, 'modi': 3837, 'adelaide': 3838, 'advised': 3839, 'select': 3840, 'nobel': 3841, 'mahmoud': 3842, 'affordable': 3843, 'superior': 3844, 'mason': 3845, 'montgomery': 3846, 'pending': 3847, 'julia': 3848, 'alongside': 3849, 'walked': 3850, 'momentum': 3851, 'wrote': 3852, 'colleague': 3853, 'apologized': 3854, 'dean': 3855, 'buried': 3856, 'wimbledon': 3857, 'viking': 3858, 'commits': 3859, 'wellington': 3860, 'comic': 3861, 'crystal': 3862, 'qualifying': 3863, 'jobless': 3864, 'margin': 3865, 'abdullah': 3866, 'promoted': 3867, 'watching': 3868, 'youre': 3869, 'dj': 3870, 'confirm': 3871, 'ken': 3872, 'jonathan': 3873, 'shane': 3874, 'donald': 3875, 'shield': 3876, 'vodafone': 3877, 'crucial': 3878, 'worse': 3879, 'distributor': 3880, 'toy': 3881, 'hunting': 3882, 'suburb': 3883, 'stepped': 3884, '53': 3885, 'somalia': 3886, 'leeds': 3887, 'revised': 3888, 'prostate': 3889, 'assange': 3890, 'broadcaster': 3891, 'spoke': 3892, 'integration': 3893, 'computing': 3894, 'christie': 3895, 'brussels': 3896, 'federer': 3897, 'disorder': 3898, 'invite': 3899, 'penguin': 3900, 'clerk': 3901, 'seminar': 3902, 'prove': 3903, 'apologizes': 3904, 'driven': 3905, 'kris': 3906, 'lie': 3907, 'tape': 3908, 'lily': 3909, 'bottle': 3910, 'infant': 3911, '95': 3912, 'surplus': 3913, 'improves': 3914, 'creation': 3915, 'serial': 3916, 'lucky': 3917, 'coroner': 3918, 'heidi': 3919, 'yemeni': 3920, 'mt': 3921, 'cruelty': 3922, 'outfit': 3923, 'refinance': 3924, 'manage': 3925, '20th': 3926, 'possibly': 3927, 'maritime': 3928, 'earn': 3929, 'rachel': 3930, 'unknown': 3931, 'mariner': 3932, '68': 3933, 'bmw': 3934, 'packer': 3935, 'nature': 3936, 'ownership': 3937, 'reward': 3938, 'ace': 3939, 'donated': 3940, 'greatest': 3941, 'rodriguez': 3942, 'either': 3943, 'documentary': 3944, 'lab': 3945, 'unable': 3946, 'oak': 3947, 'feared': 3948, '83': 3949, 'academic': 3950, 'delaware': 3951, 'clinical': 3952, 'slump': 3953, 'bachchan': 3954, 'pride': 3955, 'throwing': 3956, 'completely': 3957, 'adopt': 3958, 'write': 3959, 'remote': 3960, 'jefferson': 3961, '54': 3962, '47': 3963, 'lying': 3964, 'austerity': 3965, 'peaceful': 3966, 'bryant': 3967, 'aggressive': 3968, 'inspection': 3969, 'slide': 3970, 'muhammad': 3971, 'abandoned': 3972, 'presidency': 3973, 'naked': 3974, 'berlusconi': 3975, 'plunged': 3976, 'trainer': 3977, 'suspend': 3978, 'hang': 3979, 'pensioner': 3980, 'xinhua': 3981, 'scout': 3982, 'nursing': 3983, 'swept': 3984, 'vital': 3985, 'operate': 3986, 'amanda': 3987, 'faith': 3988, 'poverty': 3989, 'gibson': 3990, 'lil': 3991, 'robinson': 3992, 'pharmacy': 3993, 'warehouse': 3994, 'fernando': 3995, 'tweet': 3996, 'borrowing': 3997, 'ski': 3998, 'topped': 3999, 'laboratory': 4000, 'curb': 4001, 'eighth': 4002, 'sitting': 4003, 'apology': 4004, 'anc': 4005, 'flash': 4006, 'athens': 4007, 'broad': 4008, 'norway': 4009, 'chosen': 4010, 'replaced': 4011, 'emma': 4012, 'inventory': 4013, 'hiv': 4014, 'riding': 4015, 'exposure': 4016, 'inspector': 4017, '120': 4018, 'consumption': 4019, 'grocery': 4020, 'tendulkar': 4021, 'abusing': 4022, 'jaguar': 4023, 'overhaul': 4024, 'karzai': 4025, 'lesson': 4026, 'discrimination': 4027, 'redskin': 4028, 'baseman': 4029, 'rahul': 4030, 'hasnt': 4031, 'attempting': 4032, 'boycott': 4033, '900': 4034, 'hanging': 4035, 'prevention': 4036, 'abdul': 4037, 'slammed': 4038, 'hailed': 4039, '81': 4040, 'discussed': 4041, 'staterun': 4042, '77': 4043, 'method': 4044, 'chidambaram': 4045, 'fiveyear': 4046, 'attending': 4047, 'mugabe': 4048, 'salt': 4049, 'concluded': 4050, 'theme': 4051, 'refusing': 4052, 'blind': 4053, 'pink': 4054, 'behaviour': 4055, 'lt': 4056, 'monroe': 4057, 'prostitution': 4058, 'stick': 4059, 'prayer': 4060, 'louisville': 4061, 'portsmouth': 4062, 'syed': 4063, 'fugitive': 4064, 'voluntary': 4065, 'grid': 4066, 'underway': 4067, 'martinez': 4068, 'rajasthan': 4069, 'aboard': 4070, 'uranium': 4071, 'cycling': 4072, 'bowler': 4073, 'drawing': 4074, 'producing': 4075, 'uttar': 4076, 'moss': 4077, 'randy': 4078, 'ward': 4079, 'privacy': 4080, 'administrative': 4081, 'seal': 4082, 'northeastern': 4083, 'predicted': 4084, 'absence': 4085, 'thanksgiving': 4086, 'hybrid': 4087, 'insider': 4088, 'drove': 4089, 'constitutional': 4090, 'beef': 4091, 'cotton': 4092, 'swap': 4093, 'agenda': 4094, 'sheikh': 4095, 'heroin': 4096, 'tear': 4097, 'steelers': 4098, 'followed': 4099, 'suburban': 4100, 'disputed': 4101, 'wasnt': 4102, 'lease': 4103, 'determine': 4104, '49': 4105, 'eating': 4106, 'secondary': 4107, 'gross': 4108, 'lovato': 4109, 'mystery': 4110, 'athletics': 4111, 'landmark': 4112, 'karachi': 4113, 'reducing': 4114, 'warn': 4115, 'firearm': 4116, 'server': 4117, 'enjoy': 4118, 'hacker': 4119, 'holy': 4120, 'disability': 4121, 'osbourne': 4122, 'beverly': 4123, 'evacuation': 4124, 'discharged': 4125, 'drowns': 4126, 'pioneer': 4127, 'accusing': 4128, '67': 4129, 'quinn': 4130, 'belgium': 4131, 'referee': 4132, 'schwarzenegger': 4133, 'dress': 4134, '39': 4135, 'checkpoint': 4136, 'achievement': 4137, 'replacement': 4138, 'sick': 4139, 'abbas': 4140, 'elect': 4141, 'eased': 4142, 'seoul': 4143, 'sonia': 4144, 'gomez': 4145, 'rumour': 4146, 'imf': 4147, 'versus': 4148, 'detention': 4149, 'oracle': 4150, 'conservation': 4151, 'ninth': 4152, 'polish': 4153, 'deer': 4154, 'wwe': 4155, 'warming': 4156, 'broadcasting': 4157, 'qaeda': 4158, 'nancy': 4159, 'slashed': 4160, 'aggravated': 4161, 'princess': 4162, 'oldest': 4163, 'whitney': 4164, 'eat': 4165, 'robbie': 4166, 'unidentified': 4167, 'firework': 4168, 'potter': 4169, 'meter': 4170, 'apa': 4171, 'auburn': 4172, 'particularly': 4173, 'weakness': 4174, 'moderate': 4175, 'tribune': 4176, 'richmond': 4177, 'disappointing': 4178, 'widespread': 4179, 'intervention': 4180, 'concerned': 4181, 'error': 4182, 'xbox': 4183, 'pastor': 4184, 'coastal': 4185, 'census': 4186, 'surrounding': 4187, 'murdoch': 4188, 'remember': 4189, 'nissan': 4190, 'sachin': 4191, '56': 4192, 'supported': 4193, 'ferrari': 4194, 'listing': 4195, 'spur': 4196, 'performs': 4197, 'substance': 4198, 'outdoor': 4199, 'evasion': 4200, 'argentine': 4201, 'norwegian': 4202, 'investigated': 4203, 'audit': 4204, 'container': 4205, 'defenseman': 4206, 'honorary': 4207, 'jesus': 4208, 'lifetime': 4209, 'phillips': 4210, 'phillies': 4211, 'garage': 4212, 'gasoline': 4213, 'mahindra': 4214, 'looked': 4215, 'anticipated': 4216, 'merkel': 4217, 'max': 4218, 'cop': 4219, 'levy': 4220, 'thunderstorm': 4221, 'taxpayer': 4222, 'dmitry': 4223, 'baku': 4224, 'bloomberg': 4225, 'function': 4226, 'survive': 4227, 'emmy': 4228, 'meat': 4229, 'grammy': 4230, 'suggesting': 4231, 'laden': 4232, 'publishing': 4233, 'wire': 4234, '57': 4235, 'proceeding': 4236, 'afl': 4237, 'liquor': 4238, 'k': 4239, 'jewelry': 4240, 'respond': 4241, '71': 4242, 'nadu': 4243, 'wicket': 4244, '20yearold': 4245, 'offset': 4246, 'briefly': 4247, 'bayern': 4248, 'specialty': 4249, '1500': 4250, 'plain': 4251, 'scare': 4252, 'command': 4253, 'robbing': 4254, 'condemns': 4255, 'formal': 4256, 'crowned': 4257, 'dairy': 4258, 'rooney': 4259, '11th': 4260, 'reopens': 4261, 'easing': 4262, 'ann': 4263, 'incentive': 4264, 'quoting': 4265, 'youngster': 4266, 'spark': 4267, 'footballer': 4268, 'commuter': 4269, 'todd': 4270, 'threeyear': 4271, 'suzuki': 4272, 'mel': 4273, 'arctic': 4274, 'crushed': 4275, 'newton': 4276, 'layoff': 4277, 'edmonton': 4278, 'entrepreneur': 4279, 'judiciary': 4280, 'scholarship': 4281, 'johannesburg': 4282, 'playstation': 4283, 'aberdeen': 4284, 'scoring': 4285, 'dennis': 4286, 'designated': 4287, 'sandra': 4288, 'bernanke': 4289, 'sailor': 4290, '125': 4291, 'desert': 4292, 'commit': 4293, 'ronaldo': 4294, 'gather': 4295, 'pacquiao': 4296, 'sacked': 4297, 'francis': 4298, 'unpaid': 4299, 'marc': 4300, 'identify': 4301, 'shape': 4302, 'pricing': 4303, 'sandy': 4304, 'cricketer': 4305, 'timberlake': 4306, 'attract': 4307, 'midland': 4308, 'guitarist': 4309, 'therapy': 4310, 'whale': 4311, 'print': 4312, 'inspired': 4313, 'boxer': 4314, 'qualifier': 4315, '1st': 4316, 'dame': 4317, 'uniform': 4318, 'decrease': 4319, 'subscriber': 4320, 'watched': 4321, 'clothes': 4322, 'meal': 4323, 'inquest': 4324, 'wenger': 4325, '12th': 4326, 'pranab': 4327, 'suite': 4328, 'frozen': 4329, 'cambridge': 4330, 'installed': 4331, 'component': 4332, 'seeing': 4333, 'juventus': 4334, 'shipment': 4335, 'yes': 4336, 'hu': 4337, 'fundraiser': 4338, 'opec': 4339, 'suffer': 4340, '50th': 4341, 'clarke': 4342, 'fundraising': 4343, 'shootout': 4344, 'haryana': 4345, 'electrical': 4346, 'subsidy': 4347, 'spencer': 4348, 'awardwinning': 4349, 'sharing': 4350, 'spectrum': 4351, 'easter': 4352, 'contain': 4353, 'costar': 4354, 'swim': 4355, 'tire': 4356, 'brooklyn': 4357, 'furniture': 4358, '78': 4359, 'audio': 4360, 'overcome': 4361, 'doubled': 4362, 'shared': 4363, '66': 4364, 'consultant': 4365, 'highlight': 4366, 'cofounder': 4367, 'fix': 4368, 'happen': 4369, 'shopper': 4370, 'lifestyle': 4371, 'extreme': 4372, 'cool': 4373, 'boyle': 4374, 'slowing': 4375, 'postal': 4376, 'elbow': 4377, 'runner': 4378, 'unless': 4379, 'barnes': 4380, 'slowed': 4381, 'burglar': 4382, 'bound': 4383, 'pipe': 4384, 'posting': 4385, 'empire': 4386, 'attended': 4387, 'convenience': 4388, 'statewide': 4389, 'buyout': 4390, '74': 4391, 'cbi': 4392, 'sharif': 4393, 'ethnic': 4394, 'roadside': 4395, 'completion': 4396, 'referendum': 4397, 'obesity': 4398, 'fill': 4399, 'colt': 4400, 'hindu': 4401, 'smaller': 4402, 'vacant': 4403, 'achieved': 4404, 'lottery': 4405, 'stripped': 4406, 'ultimate': 4407, 'fat': 4408, 'occupy': 4409, 'rod': 4410, 'uefa': 4411, 'stem': 4412, 'unity': 4413, 'charging': 4414, 'estranged': 4415, 'albert': 4416, 'publication': 4417, 'recognized': 4418, 'circle': 4419, 'multiyear': 4420, 'framework': 4421, 'sense': 4422, 'necessary': 4423, 'freight': 4424, 'gambling': 4425, 'invitation': 4426, 'rupert': 4427, '73': 4428, 'combined': 4429, 'transition': 4430, 'whom': 4431, 'selena': 4432, 'extremely': 4433, 'oneday': 4434, 'torch': 4435, 'directly': 4436, 'twilight': 4437, 'hamid': 4438, 'optimism': 4439, 'beyonce': 4440, 'billboard': 4441, 'serbian': 4442, 'certificate': 4443, 'ubs': 4444, 'roberto': 4445, 'luke': 4446, 'manhattan': 4447, 'staying': 4448, 'handset': 4449, 'veto': 4450, 'portugal': 4451, 'alberta': 4452, 'romanian': 4453, 'easily': 4454, 'titled': 4455, 'cautious': 4456, 'definitive': 4457, 'profile': 4458, 'flagship': 4459, 'atomic': 4460, 'twoday': 4461, 'recognition': 4462, 'gallagher': 4463, 'pa': 4464, 'pentagon': 4465, 'pneumonia': 4466, 'tobacco': 4467, 'amnesty': 4468, 'bench': 4469, 'feed': 4470, 'ahmed': 4471, 'ceasefire': 4472, 'suu': 4473, 'poker': 4474, 'netanyahu': 4475, 'intention': 4476, 'investing': 4477, 'semiconductor': 4478, 'pill': 4479, 'telephone': 4480, 'damascus': 4481, 'skip': 4482, 'siemens': 4483, 'floyd': 4484, 'promising': 4485, 'strengthened': 4486, 'bolton': 4487, '86': 4488, 'disclosed': 4489, 'baldwin': 4490, 'smuggling': 4491, 'reactor': 4492, 'bernard': 4493, 'relay': 4494, 'baker': 4495, 'verdict': 4496, 'hungary': 4497, 'inaugural': 4498, 'gathered': 4499, 'staged': 4500, 'ham': 4501, 'nonprofit': 4502, 'peru': 4503, 'horror': 4504, 'pack': 4505, 'datuk': 4506, 'da': 4507, 'pga': 4508, 'simple': 4509, 'blake': 4510, 'manny': 4511, 'denmark': 4512, 'donates': 4513, 'l': 4514, 'southeastern': 4515, 'colin': 4516, 'parole': 4517, 'lesbian': 4518, 'mo': 4519, 'nearby': 4520, 'favour': 4521, 'laptop': 4522, 'arbitration': 4523, 'donor': 4524, 'locked': 4525, '2005': 4526, 'lunch': 4527, 'unbeaten': 4528, 'operational': 4529, 'hyderabad': 4530, 'achieve': 4531, 'challenger': 4532, 'concept': 4533, 'berry': 4534, 'dragon': 4535, 'unprecedented': 4536, 'teaching': 4537, 'appoint': 4538, 'eliminate': 4539, 'nintendo': 4540, 'marion': 4541, 'submitted': 4542, 'elton': 4543, 'guru': 4544, 'branded': 4545, 'favor': 4546, 'endorse': 4547, 'pattern': 4548, 'observed': 4549, 'delivers': 4550, 'cycle': 4551, 'oriole': 4552, '21yearold': 4553, 'cigarette': 4554, 'applied': 4555, 'destroys': 4556, 'threeday': 4557, 'maximum': 4558, 'fled': 4559, 'lynch': 4560, 'childhood': 4561, 'jake': 4562, 'ethic': 4563, 'lover': 4564, '500000': 4565, 'assam': 4566, 'exploded': 4567, 'kyi': 4568, 'volatile': 4569, 'prestigious': 4570, 'soul': 4571, 'blackburn': 4572, 'sebastian': 4573, 'pleading': 4574, 'beautiful': 4575, 'stuck': 4576, 'remembered': 4577, 'emotional': 4578, 'cox': 4579, 'dip': 4580, 'butler': 4581, 'mohammed': 4582, 'christopher': 4583, 'cardiff': 4584, 'root': 4585, 'kabul': 4586, 'declaration': 4587, 'vince': 4588, 'minneapolis': 4589, 'tag': 4590, 'oprah': 4591, 'entitled': 4592, 'hsbc': 4593, 'bullock': 4594, 'harrison': 4595, 'boss': 4596, 'finland': 4597, 'survived': 4598, 'filipino': 4599, 'treaty': 4600, 'na': 4601, 'canal': 4602, 'castro': 4603, 'htc': 4604, 'turbine': 4605, 'hull': 4606, 'wheel': 4607, 'buck': 4608, 'inaugurated': 4609, 'kitchen': 4610, 'importance': 4611, 'iconic': 4612, 'swansea': 4613, 'blocked': 4614, '84': 4615, 'municipality': 4616, 'punishment': 4617, 'dam': 4618, 'hugh': 4619, 'apart': 4620, 'representing': 4621, 'dental': 4622, 'singing': 4623, 'cheating': 4624, 'triplea': 4625, 'tribunal': 4626, 'heath': 4627, '130': 4628, 'runway': 4629, 'midwest': 4630, 'harvest': 4631, 'stamp': 4632, 'icc': 4633, 'consultation': 4634, 'kenyan': 4635, 'ericsson': 4636, 'combine': 4637, 'serena': 4638, 'gen': 4639, 'valued': 4640, 'builder': 4641, 'nude': 4642, 'boot': 4643, 'sand': 4644, 'implementation': 4645, 'sing': 4646, 'cope': 4647, 'occasion': 4648, '2004': 4649, 'surveillance': 4650, 'charger': 4651, '20000': 4652, 'recommended': 4653, 'pact': 4654, 'mainly': 4655, 'nrl': 4656, 'odds': 4657, 'larger': 4658, 'tmz': 4659, 'mild': 4660, 'correspondent': 4661, 'doping': 4662, 'educational': 4663, 'juvenile': 4664, 'tentative': 4665, 'startup': 4666, 'joel': 4667, 'corn': 4668, 'abbott': 4669, 'sensation': 4670, 'blair': 4671, 'gaining': 4672, 'peninsula': 4673, 'segment': 4674, 'newman': 4675, 'innocent': 4676, '360': 4677, 'routine': 4678, 'obtained': 4679, 'glasgow': 4680, 'raj': 4681, 'unrest': 4682, 'dna': 4683, '19yearold': 4684, 'collided': 4685, 'vacation': 4686, 'vulnerable': 4687, 'anchor': 4688, 'declining': 4689, 'replacing': 4690, '89': 4691, 'chair': 4692, 'packaging': 4693, 'golfer': 4694, 'governance': 4695, 'mega': 4696, 'fruit': 4697, 'santorum': 4698, '79': 4699, 'brush': 4700, 'aside': 4701, 'g': 4702, 'charleston': 4703, 'presidentelect': 4704, 'prosecution': 4705, 'citizenship': 4706, 'sharma': 4707, 'mosque': 4708, 'magnitude': 4709, 'venue': 4710, 'foreigner': 4711, 'cardiac': 4712, 'wyoming': 4713, 'warm': 4714, 'apr': 4715, 'younger': 4716, 'personality': 4717, 'delivering': 4718, 'rehabilitation': 4719, 'manning': 4720, 'shower': 4721, 'pervez': 4722, 'understanding': 4723, 'racist': 4724, 'medicare': 4725, 'challenging': 4726, 'ecuador': 4727, 'passport': 4728, 'subway': 4729, 'warship': 4730, 'indicated': 4731, 'responded': 4732, 'defeating': 4733, 'legislator': 4734, 'angela': 4735, 'harbor': 4736, 'dumped': 4737, 'couldnt': 4738, 'strain': 4739, 'giffords': 4740, 'trump': 4741, 'permission': 4742, 'righthander': 4743, 'frontman': 4744, 'worried': 4745, 'offense': 4746, '25th': 4747, 'severely': 4748, 'knew': 4749, 'yuan': 4750, 'norman': 4751, 'norwich': 4752, 'helen': 4753, 'plate': 4754, 'abducted': 4755, 'declare': 4756, 'marcus': 4757, 'desperate': 4758, 'occupied': 4759, 'grave': 4760, 'mum': 4761, 'enemy': 4762, 'withdrew': 4763, 'islam': 4764, 'hardware': 4765, 'recommendation': 4766, 'itunes': 4767, 'retained': 4768, 'responding': 4769, 'execution': 4770, 'sioux': 4771, 'acquitted': 4772, 'mentally': 4773, '69': 4774, 'surged': 4775, 'unanimously': 4776, 'sit': 4777, 'mayer': 4778, 'indefinite': 4779, 'austrian': 4780, 'moody': 4781, 'freddie': 4782, 'striking': 4783, 'mad': 4784, 'narrow': 4785, 'hail': 4786, 'surcharge': 4787, 'leon': 4788, 'nile': 4789, '58': 4790, 'herald': 4791, 'transferred': 4792, 'eliminated': 4793, 'belgian': 4794, 'leaked': 4795, 'batsman': 4796, 'conrad': 4797, 'endorsement': 4798, 'cisco': 4799, 'capable': 4800, 'prompting': 4801, 'dynamic': 4802, 'purpose': 4803, 'chad': 4804, 'quebec': 4805, 'intersection': 4806, 'thriller': 4807, 'portal': 4808, 'throat': 4809, 'genetic': 4810, 'diet': 4811, 'austria': 4812, 'duck': 4813, 'amitabh': 4814, 'thunder': 4815, 'bath': 4816, '200000': 4817, 'monsoon': 4818, 'button': 4819, 'expensive': 4820, 'omaha': 4821, 'eva': 4822, 'accepts': 4823, 'creator': 4824, 'valentine': 4825, 'easier': 4826, '101': 4827, 'cheney': 4828, 'wichita': 4829, 'disciplinary': 4830, 'sheet': 4831, 'largely': 4832, 'tumor': 4833, 'hometown': 4834, 'pig': 4835, 'sc': 4836, 'cruz': 4837, 'organised': 4838, '100th': 4839, 'tragedy': 4840, 'enable': 4841, 'patch': 4842, 'tattoo': 4843, 'morris': 4844, 'syracuse': 4845, 'ucla': 4846, 'aussie': 4847, 'oman': 4848, 'controller': 4849, 'attendant': 4850, 'surrender': 4851, 'mineral': 4852, 'gallery': 4853, 'nathan': 4854, 'renew': 4855, 'nz': 4856, 'headline': 4857, 'jonas': 4858, 'bashar': 4859, 'christchurch': 4860, 'inch': 4861, 'quiet': 4862, '2020': 4863, 'lived': 4864, 'bout': 4865, 'definitely': 4866, 'harassment': 4867, 'vegetable': 4868, 'coleman': 4869, 'triggered': 4870, 'admitting': 4871, 'exposed': 4872, 'reaction': 4873, 'enhanced': 4874, 'sanchez': 4875, 'religion': 4876, 'reverse': 4877, 'glen': 4878, 'crunch': 4879, 'eur': 4880, 'mccarthy': 4881, 'guideline': 4882, 'observer': 4883, 'provision': 4884, 'crush': 4885, 'flyer': 4886, 'survival': 4887, 'michele': 4888, 'loved': 4889, 'falcon': 4890, 'selects': 4891, 'bowling': 4892, 'blockbuster': 4893, 'counter': 4894, 'carpet': 4895, 'danish': 4896, 'maruti': 4897, 'darren': 4898, 'ist': 4899, 'brady': 4900, 'statue': 4901, 'gathering': 4902, 'muammar': 4903, 'tap': 4904, 'underground': 4905, 'mariah': 4906, 'widely': 4907, 'aiming': 4908, 'chronic': 4909, 'retain': 4910, 'starbucks': 4911, 'housewife': 4912, 'mogul': 4913, 'ecommerce': 4914, 'bang': 4915, 'adoption': 4916, 'speedway': 4917, 'indefinitely': 4918, 'molestation': 4919, 'mohamed': 4920, 'maple': 4921, 'transmission': 4922, 'assessment': 4923, 'experienced': 4924, 'physician': 4925, 'tariff': 4926, 'southwestern': 4927, '2nd': 4928, 'understand': 4929, 'apologised': 4930, 'marlin': 4931, 'badly': 4932, 'resigning': 4933, 'closely': 4934, 'maintained': 4935, 'toilet': 4936, 'bolster': 4937, 'knot': 4938, '24yearold': 4939, 'malta': 4940, 'archbishop': 4941, 'ridge': 4942, 'jane': 4943, 'heavily': 4944, 'newark': 4945, 'longest': 4946, 'domain': 4947, 'protesting': 4948, 'instrument': 4949, 'ebay': 4950, 'landlord': 4951, 'sheffield': 4952, '91': 4953, 'barrier': 4954, 'yellow': 4955, '25000': 4956, 'availability': 4957, 'pretty': 4958, 'romantic': 4959, 'grenade': 4960, 'sap': 4961, 'recruiting': 4962, 'planet': 4963, 'climbed': 4964, 'hammer': 4965, 'exam': 4966, 'glee': 4967, 'osama': 4968, 'salem': 4969, 'rubber': 4970, 'fantasy': 4971, 'fresno': 4972, 'executed': 4973, 'compliance': 4974, 'suisse': 4975, '18th': 4976, 'cemetery': 4977, 'socalled': 4978, 'turmoil': 4979, 'torn': 4980, '23yearold': 4981, 'devil': 4982, 'logo': 4983, 'h1n1': 4984, 'lp': 4985, 'jewellery': 4986, 'seeker': 4987, 'disappointed': 4988, 'kiss': 4989, 'equal': 4990, '88': 4991, 'dvd': 4992, 'controlled': 4993, 'composer': 4994, 'belt': 4995, 'qualify': 4996, 'rockies': 4997, 'rocky': 4998, 'vanessa': 4999, 'edinburgh': 5000, 'clearing': 5001, 'bee': 5002, 'appealing': 5003, 'alqaeda': 5004, 'ferry': 5005, 'hathaway': 5006, 'tunisia': 5007, 'knock': 5008, 'bruin': 5009, 'expo': 5010, 'cement': 5011, 'essential': 5012, 'secures': 5013, 'highland': 5014, 'merchant': 5015, 'cue': 5016, 'challenged': 5017, 'wade': 5018, 'jean': 5019, 'supervisor': 5020, 'finnish': 5021, 'reiterated': 5022, 'sensitive': 5023, 'liver': 5024, 'contender': 5025, 'covering': 5026, 'catcher': 5027, 'xvi': 5028, 'hd': 5029, 'silvio': 5030, 'expelled': 5031, '350': 5032, 'pollution': 5033, 'ranch': 5034, 'graphic': 5035, 'processor': 5036, 'insisting': 5037, 'sweet': 5038, 'brent': 5039, 'lexington': 5040, 'preferred': 5041, 'rudd': 5042, 'norfolk': 5043, 'organized': 5044, 'wrap': 5045, 'collect': 5046, 'burst': 5047, 'ashton': 5048, 'jumping': 5049, 'assured': 5050, 'jpmorgan': 5051, 'deported': 5052, 'presentation': 5053, 'paisa': 5054, 'intent': 5055, 'appearing': 5056, 'rifle': 5057, 'lock': 5058, 'luis': 5059, 'portion': 5060, 'valuable': 5061, 'booking': 5062, 'gillard': 5063, 'benjamin': 5064, 'cyber': 5065, 'crossed': 5066, 'pulling': 5067, 'puppy': 5068, 'misconduct': 5069, 'mate': 5070, 'soft': 5071, 'sindh': 5072, 'mamata': 5073, 'romance': 5074, 'crane': 5075, 'clooney': 5076, 'questioned': 5077, 'calgary': 5078, 'beta': 5079, 'safely': 5080, 'trigger': 5081, 'sec': 5082, 'metre': 5083, 'reconciliation': 5084, 'arthur': 5085, 'backing': 5086, 'derek': 5087, 'emerge': 5088, 'seahawks': 5089, 'influential': 5090, 'newport': 5091, 'subscription': 5092, '1200': 5093, 'apps': 5094, 'guitar': 5095, 'ipl': 5096, 'substantial': 5097, 'snap': 5098, 'retreat': 5099, 'fought': 5100, 'cooperative': 5101, 'amber': 5102, 'kicking': 5103, 'download': 5104, 'genocide': 5105, 'mounting': 5106, 'newborn': 5107, 'thackeray': 5108, 'infringement': 5109, 'toss': 5110, 'wigan': 5111, 'imran': 5112, 'turner': 5113, 'walsh': 5114, 'choose': 5115, 'numerous': 5116, 'behalf': 5117, 'handle': 5118, 'swat': 5119, 'wrestling': 5120, 'participation': 5121, 'silence': 5122, 'naomi': 5123, '92': 5124, '30000': 5125, 'calm': 5126, 'noel': 5127, 'boosting': 5128, 'conn': 5129, 'riley': 5130, 'horizon': 5131, 'focusing': 5132, '05': 5133, 'hornet': 5134, '25yearold': 5135, 'egg': 5136, 'narrowly': 5137, 'principle': 5138, 'slovenia': 5139, 'blogger': 5140, 'touched': 5141, '4000': 5142, 'recovers': 5143, 'carmaker': 5144, 'bolt': 5145, 'autopsy': 5146, 'sideline': 5147, 'th': 5148, 'risen': 5149, 'wonder': 5150, 'connect': 5151, 'exwife': 5152, 'cooperate': 5153, 'spreading': 5154, 'joke': 5155, 'thomson': 5156, 'recruitment': 5157, 'nicki': 5158, 'certification': 5159, 'grace': 5160, 'breakfast': 5161, 'electoral': 5162, 'midday': 5163, 'accounting': 5164, 'hawk': 5165, 'handling': 5166, 'manila': 5167, 'meant': 5168, 'cornerback': 5169, 'casualty': 5170, 'mansion': 5171, 'tripoli': 5172, 'wash': 5173, 'barn': 5174, 'id': 5175, 'orissa': 5176, 'encourage': 5177, 'tibet': 5178, 'weighed': 5179, 'indictment': 5180, 'overturned': 5181, 'rom': 5182, 'maverick': 5183, 'colombo': 5184, 'complication': 5185, 'winnipeg': 5186, 'glenn': 5187, 'swan': 5188, 'origin': 5189, '87': 5190, 'brokerage': 5191, 'lambert': 5192, 'vermont': 5193, 'modest': 5194, 'encouraged': 5195, 'paterson': 5196, 'surgeon': 5197, 'teach': 5198, '110': 5199, 'explore': 5200, 'logistics': 5201, 'bronze': 5202, 'aguilera': 5203, 'presenter': 5204, 'tinto': 5205, 'qb': 5206, 'tractor': 5207, 'et': 5208, 'renews': 5209, 'licensing': 5210, 'racial': 5211, 'cedar': 5212, 'load': 5213, 'omar': 5214, 'ca': 5215, 'superintendent': 5216, 'concession': 5217, 'supermodel': 5218, 'confessed': 5219, 'goa': 5220, 'bhp': 5221, 'bros': 5222, 'reed': 5223, 'oath': 5224, 'canyon': 5225, 'freshman': 5226, 'pond': 5227, 'winfrey': 5228, 'liability': 5229, 'symbol': 5230, 'spin': 5231, 'bet': 5232, 'dirty': 5233, 'tesco': 5234, 'historical': 5235, 'imported': 5236, 'cyclone': 5237, 'millionaire': 5238, 'finale': 5239, 'stemming': 5240, 'lisa': 5241, 'minaj': 5242, 'merge': 5243, 'autism': 5244, 'ivory': 5245, 'creates': 5246, 'cuomo': 5247, 'xi': 5248, 'zambia': 5249, 'continental': 5250, 'grows': 5251, 'pursue': 5252, 'projected': 5253, 'narendra': 5254, 'backup': 5255, 'radical': 5256, 'richardson': 5257, 'dump': 5258, 'kit': 5259, 'metropolitan': 5260, 'mandate': 5261, 'platinum': 5262, 'spiritual': 5263, 'element': 5264, 'janata': 5265, 'istanbul': 5266, 'compromise': 5267, 'henderson': 5268, 'represent': 5269, 'disruption': 5270, 'incumbent': 5271, 'suggest': 5272, 'karl': 5273, 'hijacked': 5274, 'turkmenistan': 5275, 'fred': 5276, 'rbi': 5277, 'clinch': 5278, 'develops': 5279, 'miliband': 5280, '28yearold': 5281, 'strict': 5282, 'install': 5283, 'finalist': 5284, '13th': 5285, 'portuguese': 5286, 'reliever': 5287, 'geneva': 5288, 'speeding': 5289, 'privately': 5290, 'patil': 5291, 'ancient': 5292, 'ipo': 5293, 'organiser': 5294, 'extensive': 5295, 'lahore': 5296, 'andhra': 5297, 'autumn': 5298, 'outsourcing': 5299, 'attractive': 5300, 'simply': 5301, 'anger': 5302, 'stevens': 5303, 'muscle': 5304, 'travis': 5305, 'arent': 5306, 'myers': 5307, 'richie': 5308, 'albany': 5309, 'obrien': 5310, 'lash': 5311, '17th': 5312, 'ppp': 5313, 'format': 5314, 'showcase': 5315, 'isle': 5316, 'impressive': 5317, 'parked': 5318, 'originally': 5319, 'jakarta': 5320, 'jamaica': 5321, 'welsh': 5322, 'surface': 5323, 'talked': 5324, 'trustee': 5325, 'minogue': 5326, 'io': 5327, 'traveling': 5328, 'excited': 5329, 'bitter': 5330, 'tulsa': 5331, 'nose': 5332, 'hiding': 5333, '22yearold': 5334, 'universe': 5335, '2016': 5336, 'bharti': 5337, 'miranda': 5338, 'buffett': 5339, 'diving': 5340, 'partial': 5341, 'noble': 5342, 'frontier': 5343, 'petersburg': 5344, 'civic': 5345, 'require': 5346, '59': 5347, 'navigation': 5348, 'bust': 5349, 'filming': 5350, 'arsene': 5351, 'cheap': 5352, 'lg': 5353, 'bryan': 5354, 'compact': 5355, 'molesting': 5356, 'flower': 5357, 'absolutely': 5358, 'purchased': 5359, 'picking': 5360, '3g': 5361, 'borough': 5362, '000': 5363, 'effectively': 5364, 'pine': 5365, 'exactly': 5366, 'riverside': 5367, 'lebron': 5368, 'panther': 5369, 'islamist': 5370, 'consideration': 5371, 'payroll': 5372, 'devastating': 5373, 'slain': 5374, 'providence': 5375, 'unconscious': 5376, 'battled': 5377, 'folk': 5378, 'allocation': 5379, 'peer': 5380, 'penny': 5381, 'rapidly': 5382, 'gray': 5383, 'forecaster': 5384, 'signature': 5385, 'mainland': 5386, 'ethiopia': 5387, 'yorkshire': 5388, 'batch': 5389, 'laundering': 5390, 'regard': 5391, 'coyote': 5392, 'f': 5393, 'bargain': 5394, 'correction': 5395, 'indecent': 5396, 'brawl': 5397, 'explain': 5398, 'somerset': 5399, 'harvey': 5400, 'convert': 5401, 'installation': 5402, '4th': 5403, 'excessive': 5404, 'bangkok': 5405, 'lineman': 5406, 'mini': 5407, 'laser': 5408, 'dawn': 5409, 'proceeds': 5410, 'vietnamese': 5411, 'ip': 5412, 'lieutenant': 5413, 'doubleheader': 5414, 'overdose': 5415, 'hosni': 5416, 'issuing': 5417, 'affecting': 5418, 'sight': 5419, 'plaza': 5420, 'marketplace': 5421, '6000': 5422, 'violated': 5423, 'railroad': 5424, 'repeal': 5425, 'ailing': 5426, 'willing': 5427, 'panasonic': 5428, 'woe': 5429, 'journey': 5430, 'manuel': 5431, 'margaret': 5432, 'extradition': 5433, 'bachmann': 5434, 'carrie': 5435, 'consequence': 5436, 'vicepresident': 5437, 'stern': 5438, 'exciting': 5439, 'cannabis': 5440, 'richards': 5441, 'buzz': 5442, 'marries': 5443, 'punched': 5444, 'mohammad': 5445, 'spell': 5446, 'scarlett': 5447, 'johansson': 5448, 'proved': 5449, 'guardian': 5450, 'wifi': 5451, 'lsu': 5452, 'laura': 5453, 'fouryear': 5454, 'sustainability': 5455, 'webber': 5456, 'avalanche': 5457, 'sentencing': 5458, 'sofia': 5459, 'depp': 5460, 'ryanair': 5461, 'proper': 5462, 'paso': 5463, 'difficulty': 5464, 'cannon': 5465, 'grown': 5466, 'arrangement': 5467, 'natalie': 5468, 'restraining': 5469, 'adele': 5470, 'monument': 5471, 'ave': 5472, 'jintao': 5473, 'contestant': 5474, 'compound': 5475, 'seem': 5476, 'du': 5477, 'remanded': 5478, 'sharapova': 5479, 'sena': 5480, 'transparency': 5481, 'rig': 5482, 'acquiring': 5483, 'knicks': 5484, 'morrison': 5485, 'discover': 5486, 'niagara': 5487, 'punch': 5488, 'mercury': 5489, 'minn': 5490, 'notre': 5491, 'defamation': 5492, 'arraigned': 5493, 'hartford': 5494, 'hospitalised': 5495, 'analytics': 5496, '7th': 5497, 'ronnie': 5498, 'deployment': 5499, 'dealership': 5500, 'accusation': 5501, 'sanjay': 5502, 'intensive': 5503, 'zimbabwean': 5504, 'wizard': 5505, 'cream': 5506, 'tyson': 5507, 'spice': 5508, 'waived': 5509, 'silicon': 5510, '15th': 5511, 'finishing': 5512, 'strengthening': 5513, 'stomach': 5514, 'vincent': 5515, 'specific': 5516, 'tsvangirai': 5517, 'sudanese': 5518, 'pune': 5519, 'volcano': 5520, 'else': 5521, 'admission': 5522, 'rajya': 5523, 'shortfall': 5524, 'prompted': 5525, 'depot': 5526, 'bend': 5527, 'rainfall': 5528, 't': 5529, 'shake': 5530, 'sanford': 5531, 'oscarwinning': 5532, 'booked': 5533, 'solve': 5534, 'banerjee': 5535, 'remake': 5536, 'gallon': 5537, 'antigovernment': 5538, 'kobe': 5539, 'qualified': 5540, 'mouse': 5541, 'mae': 5542, 'soar': 5543, 'survives': 5544, 'ipod': 5545, 'di': 5546, 'fever': 5547, 'rim': 5548, 'nyc': 5549, 'noted': 5550, 'delegate': 5551, 'kingston': 5552, 'studying': 5553, 'victor': 5554, 'lucas': 5555, 'wouldnt': 5556, 'champ': 5557, 'renowned': 5558, 'thinking': 5559, 'wilmington': 5560, 'encouraging': 5561, 'thin': 5562, 'taipei': 5563, 'deciding': 5564, 'nasdaq': 5565, 'km': 5566, 'carson': 5567, 'consultancy': 5568, 'renovation': 5569, 'mclaren': 5570, 'sierra': 5571, 'billing': 5572, 'prostitute': 5573, 'abused': 5574, 'sharon': 5575, 'slated': 5576, 'airtel': 5577, 'filled': 5578, 'acclaimed': 5579, 'shelf': 5580, 'stateowned': 5581, 'beatles': 5582, 'formation': 5583, 'vijay': 5584, 'blew': 5585, '15yearold': 5586, 'intellectual': 5587, 'sweeping': 5588, 'betty': 5589, 'jockey': 5590, 'prepaid': 5591, 'caucus': 5592, 'blagojevich': 5593, 'raja': 5594, 'courthouse': 5595, 'hazare': 5596, 'apologises': 5597, 'resulted': 5598, 'dismisses': 5599, 'ditch': 5600, 'homeland': 5601, 'extraordinary': 5602, 'elite': 5603, 'baptist': 5604, 'helm': 5605, 'revive': 5606, 'doherty': 5607, 'bradford': 5608, 'spoken': 5609, 'restructure': 5610, 'organizer': 5611, 'swimmer': 5612, 'europa': 5613, 'reef': 5614, 'destroy': 5615, 'scanner': 5616, 'posed': 5617, 'sudden': 5618, 'rd': 5619, 'hat': 5620, 'smash': 5621, 'invested': 5622, 'economics': 5623, 'wallace': 5624, 'seizure': 5625, 'headon': 5626, 'aung': 5627, 'contribute': 5628, 'lowered': 5629, 'quitting': 5630, 'diaz': 5631, 'torture': 5632, 'soil': 5633, 'jayz': 5634, 'fleeing': 5635, 'peterson': 5636, 'jharkhand': 5637, 'barton': 5638, 'vehicular': 5639, 'revealing': 5640, 'treasurer': 5641, 'heel': 5642, 'wed': 5643, 'satyam': 5644, 'convertible': 5645, 'productivity': 5646, 'pursuit': 5647, 'gala': 5648, 'possessing': 5649, 'bennett': 5650, '300000': 5651, 'covered': 5652, 'jun': 5653, 'appliance': 5654, 'rehman': 5655, 'seller': 5656, 'favre': 5657, 'bribery': 5658, 'demonstrator': 5659, 'generate': 5660, 'fulham': 5661, 'participating': 5662, 'owns': 5663, 'servant': 5664, 'campaigner': 5665, 'carroll': 5666, 'leicester': 5667, 'reservation': 5668, 'stretch': 5669, 'copy': 5670, 'boulevard': 5671, 'strausskahn': 5672, 'kirk': 5673, 'boris': 5674, 'starter': 5675, 'palmer': 5676, 'reynolds': 5677, 'bribe': 5678, 'benitez': 5679, 'yousuf': 5680, 'tenant': 5681, 'enjoying': 5682, 'creditor': 5683, 'sponsorship': 5684, 'donate': 5685, 'wii': 5686, 'tmobile': 5687, 'enjoyed': 5688, 'withdrawal': 5689, 'calendar': 5690, 'myspace': 5691, 'marie': 5692, 'alberto': 5693, 'pretax': 5694, 'reduces': 5695, 'aerospace': 5696, 'wrist': 5697, 'astros': 5698, 'hostile': 5699, 'brutal': 5700, 'smashed': 5701, 'stanford': 5702, 'fierce': 5703, 'intended': 5704, 'durham': 5705, 'fortune': 5706, 'classroom': 5707, 'megan': 5708, 'hungarian': 5709, 'oxford': 5710, 'essex': 5711, 'motel': 5712, 'participant': 5713, 'surprised': 5714, 'rough': 5715, 'gdp': 5716, 'tucson': 5717, 'ounce': 5718, 'nice': 5719, 'automation': 5720, 'desire': 5721, 'outcome': 5722, 'briefing': 5723, 'heather': 5724, 'maintains': 5725, 'burma': 5726, 'publicist': 5727, 'theyve': 5728, 'rap': 5729, 'pier': 5730, 'bailey': 5731, 'cia': 5732, 'percentage': 5733, 'bright': 5734, 'gilbert': 5735, 'setback': 5736, 'spray': 5737, 'gunshot': 5738, 'liquidity': 5739, 'nugget': 5740, 'lyon': 5741, 'meaning': 5742, 'asean': 5743, 'sting': 5744, 'fabio': 5745, 'sleeping': 5746, 'repeat': 5747, 'contained': 5748, 'stressed': 5749, 'reception': 5750, 'rent': 5751, 'wider': 5752, 'collective': 5753, 'ex': 5754, '14th': 5755, 'questioning': 5756, 'weve': 5757, 'resulting': 5758, 'constituency': 5759, 'connected': 5760, 'assassination': 5761, 'skype': 5762, 'prof': 5763, 'ge': 5764, 'foul': 5765, '2500': 5766, 'seconddegree': 5767, 'premiership': 5768, 'tory': 5769, 'quake': 5770, 'diana': 5771, 'mobility': 5772, 'workplace': 5773, 'attacker': 5774, '250000': 5775, 'tumbled': 5776, 'sorry': 5777, 'twotime': 5778, 'saskatchewan': 5779, 'insight': 5780, 'gps': 5781, 'engage': 5782, 'alien': 5783, '2002': 5784, '225': 5785, 'travelling': 5786, 'hamstring': 5787, 'globally': 5788, 'upa': 5789, 'huntington': 5790, 'plotting': 5791, 'bundesliga': 5792, 'fda': 5793, 'sum': 5794, 'hbo': 5795, 'garbage': 5796, 'bruno': 5797, 'adventure': 5798, 'reunited': 5799, 'recognize': 5800, 'amazing': 5801, 'threaten': 5802, 'accessory': 5803, 'spree': 5804, 'architect': 5805, 'shadow': 5806, 'marco': 5807, 'yoga': 5808, 'chopra': 5809, 'padre': 5810, 'lashed': 5811, 'priced': 5812, 'rukh': 5813, 'md': 5814, 'hurdle': 5815, 'texan': 5816, 'shrink': 5817, 'samuel': 5818, 'cage': 5819, 'timothy': 5820, 'alicia': 5821, 'shutdown': 5822, 'dayton': 5823, 'kutcher': 5824, 'ok': 5825, 'retains': 5826, 'addressing': 5827, 'tradition': 5828, 'activated': 5829, 'revival': 5830, 'organic': 5831, 'orchestra': 5832, 'sluggish': 5833, 'impose': 5834, 'stunning': 5835, 'efficient': 5836, 'eligible': 5837, 'medication': 5838, '14yearold': 5839, '400000': 5840, 'deployed': 5841, 'bounced': 5842, 'anil': 5843, 'cosmetic': 5844, '30yearold': 5845, 'bold': 5846, 'gig': 5847, 'orbit': 5848, 'powell': 5849, 'adrian': 5850, 'usbased': 5851, 'amtrak': 5852, 'soap': 5853, '18yearold': 5854, 'optimistic': 5855, 'pointed': 5856, 'lighting': 5857, 'governing': 5858, 'carlisle': 5859, 'chuck': 5860, 'spotlight': 5861, 'secondlargest': 5862, 'steam': 5863, 'grass': 5864, 'sink': 5865, '02': 5866, 'witherspoon': 5867, 'counsel': 5868, 'generic': 5869, 'daytona': 5870, 'quest': 5871, 'stood': 5872, 'reckless': 5873, 'faulty': 5874, 'pepper': 5875, 'katrina': 5876, 'nickel': 5877, 'weakens': 5878, 'textile': 5879, 'ryder': 5880, 'hamburg': 5881, 'gazprom': 5882, 'reunion': 5883, 'plenty': 5884, 'raul': 5885, 'joy': 5886, 'hidden': 5887, 'abandon': 5888, 'attitude': 5889, 'carnival': 5890, 'alleging': 5891, 'slowly': 5892, 'anonymous': 5893, 'burke': 5894, 'uganda': 5895, 'painting': 5896, 'implemented': 5897, 'rebuild': 5898, 'regain': 5899, 'hacked': 5900, 'dying': 5901, 'perez': 5902, 'va': 5903, 'earns': 5904, 'dragged': 5905, 'ambitious': 5906, 'councilman': 5907, 'partially': 5908, 'firstquarter': 5909, 'gabrielle': 5910, 'brace': 5911, 'approached': 5912, 'outperform': 5913, 'bite': 5914, 'completing': 5915, '15000': 5916, 'stuart': 5917, 'lansing': 5918, 'breakthrough': 5919, 'shuts': 5920, 'reference': 5921, 'exclusively': 5922, '4g': 5923, 'infielder': 5924, 'longoria': 5925, 'mourinho': 5926, 'consulate': 5927, 'windsor': 5928, 'asthma': 5929, 'catherine': 5930, 'organ': 5931, 'dentist': 5932, 'maintaining': 5933, 'aspect': 5934, 'damaging': 5935, 'addressed': 5936, 'eventually': 5937, 'opposed': 5938, 'joey': 5939, 'capello': 5940, 'renault': 5941, 'lancaster': 5942, 'croatia': 5943, 'removal': 5944, 'indication': 5945, 'doug': 5946, 'uncertain': 5947, 'excellent': 5948, 'ellen': 5949, 'multimillion': 5950, 'alarm': 5951, 'miguel': 5952, 'addiction': 5953, 'moral': 5954, 'serie': 5955, 'frankfurt': 5956, 'protected': 5957, 'rebounded': 5958, 'cry': 5959, 'awaited': 5960, 'cavalier': 5961, 'perhaps': 5962, 'forming': 5963, 'overweight': 5964, 'predict': 5965, 'dubbed': 5966, 'wallaby': 5967, 'crazy': 5968, 'dominique': 5969, 'dpa': 5970, 'explains': 5971, 'kraft': 5972, 'stamford': 5973, 'brendan': 5974, 'mph': 5975, 'suddenly': 5976, 'module': 5977, '40th': 5978, 'apparel': 5979, 'behavior': 5980, 'halloween': 5981, 'hinted': 5982, 'bathroom': 5983, 'banning': 5984, 'grandmother': 5985, 'corrupt': 5986, 'sometimes': 5987, 'strengthens': 5988, 'tumble': 5989, 'chocolate': 5990, 'greene': 5991, 'ghost': 5992, 'castle': 5993, 'traveler': 5994, 'workout': 5995, 'ponting': 5996, 'symptom': 5997, 'congratulates': 5998, 'fertilizer': 5999, 'unexpected': 6000, 'oliver': 6001, 'greenhouse': 6002, 'tragic': 6003, 'hanged': 6004, 'chat': 6005, 'competitor': 6006, 'rhode': 6007, 'consensus': 6008, 'fishery': 6009, 'permanently': 6010, 'checked': 6011, 'territorial': 6012, 'combination': 6013, 'plymouth': 6014, 'reputation': 6015, 'td': 6016, '1100': 6017, 'rogue': 6018, 'concerning': 6019, 'preserve': 6020, 'guinea': 6021, 'collected': 6022, 'wrestler': 6023, 'myself': 6024, 'norm': 6025, 'villager': 6026, 'kyrgyz': 6027, 'leonardo': 6028, 'introduction': 6029, 'batting': 6030, 'cab': 6031, 'truth': 6032, 'morocco': 6033, 'micro': 6034, 'neglect': 6035, 'example': 6036, 'djokovic': 6037, 'imprisonment': 6038, 'amsterdam': 6039, 'succeed': 6040, 'prop': 6041, 'dissident': 6042, 'santos': 6043, 'halted': 6044, 'li': 6045, 'advani': 6046, 'containing': 6047, 'submit': 6048, 'dominican': 6049, '19th': 6050, 'trio': 6051, 'invitational': 6052, 'aden': 6053, 'distance': 6054, 'bankrupt': 6055, 'precious': 6056, 'krishna': 6057, 'stoke': 6058, 'decides': 6059, 'ledger': 6060, 'garcia': 6061, 'messaging': 6062, 'turtle': 6063, 'vandal': 6064, 'shahid': 6065, 'confrontation': 6066, 'balotelli': 6067, 'demolition': 6068, 'overturn': 6069, 'disorderly': 6070, 'testify': 6071, 'poisoning': 6072, 'dancer': 6073, '94': 6074, 'mandatory': 6075, 'symphony': 6076, 'underage': 6077, 'approaching': 6078, 'goodwill': 6079, 'troy': 6080, 'tunnel': 6081, 'jp': 6082, 'merrill': 6083, 'integrity': 6084, 'cain': 6085, 'solidarity': 6086, 'dodge': 6087, 'facilitate': 6088, 'typhoon': 6089, 'ramp': 6090, 'habit': 6091, 'nikkei': 6092, 'diver': 6093, 'detected': 6094, 'nd': 6095, 'congratulated': 6096, 'monster': 6097, 'oneal': 6098, '3rd': 6099, 'stance': 6100, 'prairie': 6101, 'unusual': 6102, 'maradona': 6103, 'initiate': 6104, 'farewell': 6105, 'voluntarily': 6106, 'broking': 6107, 'itv': 6108, 'tougher': 6109, 'nova': 6110, 'predator': 6111, 'jacket': 6112, 'cousin': 6113, 'usc': 6114, 'renewal': 6115, 'anthem': 6116, 'indicator': 6117, 'hemsworth': 6118, 'reese': 6119, 'establishment': 6120, 'geithner': 6121, 'halifax': 6122, 'vettel': 6123, 'fate': 6124, 'blasted': 6125, 'graduation': 6126, 'automobile': 6127, 'canuck': 6128, 'repeatedly': 6129, 'humanity': 6130, 'islander': 6131, 'opposite': 6132, 'ana': 6133, 'faculty': 6134, 'heating': 6135, 'hayden': 6136, 'aurora': 6137, 'planting': 6138, 'counterfeit': 6139, 'oasis': 6140, 'taste': 6141, 'inn': 6142, 'aol': 6143, 'felipe': 6144, 'gossip': 6145, 'rip': 6146, 'dhaka': 6147, 'distribute': 6148, 'consent': 6149, 'aaa': 6150, 'volatility': 6151, 'caution': 6152, 'massacre': 6153, 'battered': 6154, 'circumstance': 6155, 'derivative': 6156, 'crawford': 6157, '21st': 6158, 'trademark': 6159, 'database': 6160, 'harvard': 6161, 'telstra': 6162, 'rev': 6163, 'dogg': 6164, 'broader': 6165, 'mechanism': 6166, 'knox': 6167, 'royalty': 6168, 'protecting': 6169, 'slight': 6170, 'detainee': 6171, 'acute': 6172, 'seasonal': 6173, 'telegraph': 6174, 'sailing': 6175, 'reviewing': 6176, 'infosys': 6177, 'nottingham': 6178, 'hed': 6179, 'lockout': 6180, 'shale': 6181, 'flee': 6182, 'unified': 6183, 'toxic': 6184, '96': 6185, 'jackie': 6186, 'yacht': 6187, 'walt': 6188, 'cellular': 6189, 'victorian': 6190, 'postpones': 6191, 'trevor': 6192, 'wilkinson': 6193, 'kashmiri': 6194, 'bullish': 6195, 'h': 6196, 'appealed': 6197, 'pearl': 6198, 'particular': 6199, 'clashed': 6200, 'gender': 6201, 'pierce': 6202, 'popularity': 6203, 'yadav': 6204, 'bharatiya': 6205, 'dengue': 6206, 'declaring': 6207, 'wet': 6208, 'redknapp': 6209, 'hernandez': 6210, 'valuation': 6211, 'object': 6212, 'boundary': 6213, 'examination': 6214, 'driveby': 6215, 'soaring': 6216, 'patel': 6217, 'turnover': 6218, 'overtime': 6219, 'medicaid': 6220, 'nazi': 6221, 'ousted': 6222, 'poet': 6223, 'supplement': 6224, 'cal': 6225, 'mode': 6226, 'dementia': 6227, 'intense': 6228, 'mix': 6229, 'adjourned': 6230, 'nobody': 6231, 'macedonia': 6232, 'sm': 6233, 'sample': 6234, 'contempt': 6235, '93': 6236, 'paint': 6237, 'griffin': 6238, 'algeria': 6239, 'disturbance': 6240, 'cristiano': 6241, 'bancorp': 6242, 'thank': 6243, 'trim': 6244, 'manitoba': 6245, 'concrete': 6246, 'kidnap': 6247, 'sergio': 6248, 'length': 6249, 'shiite': 6250, 'reelected': 6251, 'pratt': 6252, 'unite': 6253, 'hart': 6254, 'extremist': 6255, 'reflecting': 6256, 'etihad': 6257, 'mercedes': 6258, 'zsa': 6259, 'washed': 6260, 'lionel': 6261, 'marginally': 6262, '201112': 6263, 'consolidate': 6264, 'maiden': 6265, 'sedan': 6266, 'restart': 6267, 'polling': 6268, 'wheelchair': 6269, 'predicts': 6270, 'lobby': 6271, 'hassan': 6272, 'shocking': 6273, 'welterweight': 6274, 'hispanic': 6275, 'tel': 6276, 'laying': 6277, 'exhibit': 6278, 'chaos': 6279, 'arlington': 6280, 'columnist': 6281, 'calf': 6282, 'tenn': 6283, 'sikh': 6284, 'institutional': 6285, 'youngest': 6286, 'agreeing': 6287, 'progressive': 6288, 'trash': 6289, 'disclosure': 6290, 'valencia': 6291, 'elli': 6292, 'desktop': 6293, 'paulo': 6294, 'halle': 6295, '99': 6296, 'pfizer': 6297, 'bhd': 6298, 'jade': 6299, 'govt': 6300, 'boil': 6301, 'steep': 6302, 'salvation': 6303, 'tiny': 6304, 'lodge': 6305, 'iceland': 6306, 'o2': 6307, 'strictly': 6308, 'teeth': 6309, 'burlington': 6310, 'ethiopian': 6311, 'damon': 6312, 'sponsored': 6313, 'flew': 6314, 'schumacher': 6315, 'erupted': 6316, 'vale': 6317, 'lauren': 6318, 'profitability': 6319, '16yearold': 6320, 'weakening': 6321, 'clipper': 6322, 'conversation': 6323, 'volkswagen': 6324, 'shortstop': 6325, 'posing': 6326, 'interesting': 6327, 'swung': 6328, 'dismissal': 6329, 'criticized': 6330, 'cooking': 6331, 'legacy': 6332, 'exceed': 6333, 'landslide': 6334, 'gubernatorial': 6335, 'thus': 6336, 'jenkins': 6337, 'hood': 6338, 'aliyev': 6339, 'interbank': 6340, 'restricted': 6341, 'semi': 6342, 'songwriter': 6343, 'snack': 6344, 'distributed': 6345, 'novak': 6346, 'arriving': 6347, 'cheated': 6348, 'inappropriate': 6349, 'ear': 6350, 'burnley': 6351, 'bandit': 6352, '30th': 6353, 'ea': 6354, 'equality': 6355, 'founding': 6356, 'silva': 6357, 'printing': 6358, 'suffolk': 6359, 'airlifted': 6360, 'hoped': 6361, 'ml': 6362, 'oppose': 6363, 'excellence': 6364, 'angola': 6365, 'earl': 6366, 'fracture': 6367, 'color': 6368, 'introducing': 6369, 'theory': 6370, 'chartered': 6371, 'chilean': 6372, 'relating': 6373, 'erie': 6374, 'monkey': 6375, 'cow': 6376, 'puerto': 6377, 'touchdown': 6378, 'davy': 6379, 'nyse': 6380, 'hacking': 6381, 'radiation': 6382, 'mayweather': 6383, 'pierre': 6384, 'publish': 6385, 'hide': 6386, 'dressed': 6387, 'cairn': 6388, 'zac': 6389, 'arquette': 6390, 'hodgson': 6391, 'sank': 6392, 'atletico': 6393, 'sequel': 6394, 'malawi': 6395, 'frame': 6396, 'firmly': 6397, 'malaria': 6398, 'uprising': 6399, 'struggled': 6400, 'cocacola': 6401, 'nutrition': 6402, 'facial': 6403, 'herman': 6404, 'specifically': 6405, 'ahmad': 6406, 'indicates': 6407, 'gym': 6408, 'initially': 6409, 'boom': 6410, 'grey': 6411, 'happiness': 6412, 'afraid': 6413, 'duchess': 6414, 'sexy': 6415, 'avoided': 6416, 'dominated': 6417, 'drawn': 6418, 'jointly': 6419, 'fiery': 6420, 'sore': 6421, 'diamondback': 6422, 'wr': 6423, 'wounding': 6424, 'glory': 6425, 'evaluation': 6426, 'hopkins': 6427, 'rodgers': 6428, 'coral': 6429, 'usain': 6430, '450': 6431, 'lynn': 6432, 'requested': 6433, 'treasure': 6434, 'competing': 6435, 'gosselin': 6436, 'exgirlfriend': 6437, 'underwood': 6438, 'tuition': 6439, 'drain': 6440, 'abbey': 6441, 'coventry': 6442, 'repay': 6443, 'adopts': 6444, 'tracy': 6445, 'clayton': 6446, '160': 6447, 'florence': 6448, 'georgetown': 6449, 'burger': 6450, 'bicycle': 6451, 'lecture': 6452, 'bingo': 6453, 'tanzania': 6454, 'invests': 6455, 'eas': 6456, 'topic': 6457, 'indigenous': 6458, '49ers': 6459, 'shutting': 6460, 'evacuate': 6461, 'proof': 6462, 'billiton': 6463, 'nawaz': 6464, '5th': 6465, 'bnp': 6466, 'croatian': 6467, 'traveller': 6468, 'altercation': 6469, 'mouth': 6470, '2003': 6471, 'shocked': 6472, 'toledo': 6473, 'attendance': 6474, 'spends': 6475, 'portman': 6476, 'reorganization': 6477, 'kuwaiti': 6478, 'amazoncom': 6479, 'hazard': 6480, 'briton': 6481, 'hook': 6482, 'steroid': 6483, 'menu': 6484, 'slot': 6485, 'pistorius': 6486, 'fundamental': 6487, 'jul': 6488, 'coin': 6489, 'publishes': 6490, 'kidman': 6491, 'fiat': 6492, 'sergeant': 6493, '12000': 6494, 'epic': 6495, 'slid': 6496, '180': 6497, 'middleweight': 6498, 'coma': 6499, 'tycoon': 6500, 'nervous': 6501, 'tevez': 6502, 'hilary': 6503, 'revenge': 6504, 'carlo': 6505, '26yearold': 6506, 'usual': 6507, 'colour': 6508, 'palo': 6509, 'floating': 6510, 'runoff': 6511, 'blackpool': 6512, 'imaging': 6513, 'dutt': 6514, 'assad': 6515, 'confirmation': 6516, 'gavin': 6517, 'disrupted': 6518, 'shaw': 6519, 'simmons': 6520, 'rica': 6521, 'lte': 6522, 'ab': 6523, 'pawlenty': 6524, 'constable': 6525, 'abduction': 6526, 'prefer': 6527, 'aware': 6528, 'bullpen': 6529, 'raymond': 6530, 'bangladeshi': 6531, 'berkeley': 6532, 'pitching': 6533, 'physically': 6534, 'sensor': 6535, 'samajwadi': 6536, 'slovakia': 6537, 'goaltender': 6538, 'indoor': 6539, 'groin': 6540, 'sat': 6541, 'humphries': 6542, 'bloc': 6543, 'reservoir': 6544, 'playboy': 6545, 'ordinary': 6546, 'promoter': 6547, 'endangered': 6548, 'wbc': 6549, 'nielsen': 6550, 'fractured': 6551, 'consolidation': 6552, 'hezbollah': 6553, 'shiv': 6554, 'hiphop': 6555, 'presenting': 6556, 'vick': 6557, 'ripped': 6558, 'wellknown': 6559, 'cleric': 6560, 'widened': 6561, 'ak': 6562, 'duncan': 6563, 're': 6564, 'instructor': 6565, '2001': 6566, 'sanaa': 6567, 'stating': 6568, 'exhusband': 6569, 'packed': 6570, 'clegg': 6571, 'loose': 6572, 'dictator': 6573, 'confirming': 6574, 'panic': 6575, '97': 6576, 'rwanda': 6577, 'clemens': 6578, 'sullivan': 6579, 'opposes': 6580, 'premise': 6581, 'chess': 6582, 'makeover': 6583, 'christ': 6584, 'dhoni': 6585, 'claire': 6586, 'accra': 6587, 'fannie': 6588, 'negotiating': 6589, 'submarine': 6590, 'holland': 6591, 'console': 6592, 'canberra': 6593, 'belonging': 6594, 'removing': 6595, 'cellphone': 6596, 'stab': 6597, '8000': 6598, 'self': 6599, 'blackhawks': 6600, 'cease': 6601, 'tyre': 6602, 'repeated': 6603, 'preston': 6604, 'crow': 6605, 'requiring': 6606, 'narcotic': 6607, 'jew': 6608, '6th': 6609, 'showdown': 6610, 'khloe': 6611, 'busted': 6612, 'notorious': 6613, 'pelosi': 6614, 'peacefully': 6615, 'nitish': 6616, 'shaun': 6617, 'vampire': 6618, 'aamir': 6619, 'rory': 6620, 'trained': 6621, 'singersongwriter': 6622, 'hr': 6623, 'preview': 6624, 'sort': 6625, 'allrounder': 6626, 'openly': 6627, 'tipped': 6628, 'hague': 6629, 'respectively': 6630, 'martial': 6631, 'wipro': 6632, 'comfortable': 6633, 'snoop': 6634, 'treating': 6635, 'cabin': 6636, 'sidelined': 6637, 'monica': 6638, 'levi': 6639, 'raleigh': 6640, 'pocket': 6641, 'paula': 6642, 'mayo': 6643, '104': 6644, 'spa': 6645, 'pal': 6646, 'reinstated': 6647, 'skating': 6648, 'revise': 6649, 'climbing': 6650, 'ferdinand': 6651, 'commissioned': 6652, 'ejected': 6653, 'binghamton': 6654, 'desk': 6655, 'irene': 6656, 'relegation': 6657, 'mali': 6658, 'recommends': 6659, 'animation': 6660, 'lorry': 6661, 'ink': 6662, 'von': 6663, 'withdrawing': 6664, 'drummer': 6665, 'diane': 6666, 'goody': 6667, 'netflix': 6668, 'replaces': 6669, 'addict': 6670, 'criticised': 6671, 'harbour': 6672, '31yearold': 6673, 'freeway': 6674, 'kingfisher': 6675, 'crosby': 6676, 'palestine': 6677, 'bombay': 6678, 'rebate': 6679, 'fairfield': 6680, 'dale': 6681, 'anand': 6682, 'ruler': 6683, 'secondquarter': 6684, 'coup': 6685, 'promotes': 6686, 'harm': 6687, 'strait': 6688, 'silent': 6689, 'hewitt': 6690, 'olmert': 6691, 'alqaida': 6692, 'reliable': 6693, 'loaded': 6694, 'accidental': 6695, 'conglomerate': 6696, 'cattle': 6697, 'westminster': 6698, 'firstdegree': 6699, 'urgent': 6700, 'requires': 6701, '201011': 6702, 'offseason': 6703, 'banner': 6704, 'sack': 6705, 'der': 6706, 'triumph': 6707, 'ind': 6708, 'robot': 6709, 'ministerial': 6710, 'empty': 6711, 'diva': 6712, 'appetite': 6713, 'consortium': 6714, 'stalled': 6715, 'khalifa': 6716, 'sprained': 6717, 'automatic': 6718, 'biopic': 6719, 'occupation': 6720, 'amateur': 6721, 'browser': 6722, 'auditor': 6723, 'curfew': 6724, 'admit': 6725, 'seri': 6726, '102': 6727, 'sunshine': 6728, 'lawn': 6729, 'reunite': 6730, 'klum': 6731, 'mercy': 6732, 'deportation': 6733, 'slows': 6734, 'purdue': 6735, 'uzbekistan': 6736, 'vernon': 6737, '1600': 6738, 'distributing': 6739, 'sparking': 6740, 'portable': 6741, 'ltte': 6742, 'linking': 6743, 'indeed': 6744, 'michel': 6745, 'separatist': 6746, 'contemporary': 6747, 'arabian': 6748, 'truly': 6749, 'highprofile': 6750, '35yearold': 6751, 'detection': 6752, 'passage': 6753, 'citi': 6754, 'propose': 6755, 'ra': 6756, 'examiner': 6757, 'funny': 6758, 'jd': 6759, 'certainly': 6760, 'photograph': 6761, 'satisfaction': 6762, 'widow': 6763, 'undercover': 6764, 'carol': 6765, 'ike': 6766, 'proposing': 6767, '03': 6768, 'follower': 6769, 'borrower': 6770, 'notebook': 6771, 'aviv': 6772, 'discusses': 6773, 'vitamin': 6774, 'metric': 6775, 'endeavour': 6776, 'piracy': 6777, 'ftse': 6778, 'par': 6779, 'chose': 6780, 'cambodia': 6781, 'belfast': 6782, 'willis': 6783, 'manipur': 6784, 'forever': 6785, 'operated': 6786, 'pancreatic': 6787, 'alto': 6788, 'ma': 6789, 'maldives': 6790, 'priyanka': 6791, 'alonso': 6792, 'greenback': 6793, 'coronation': 6794, 'brooke': 6795, 'obsessed': 6796, 'rajapaksa': 6797, 'salon': 6798, 'fork': 6799, 'cleanup': 6800, 'cafe': 6801, 'appreciation': 6802, '01': 6803, 'capsized': 6804, '17yearold': 6805, 'pointing': 6806, 'soared': 6807, 'abraham': 6808, 'burton': 6809, 'reshuffle': 6810, 'qld': 6811, 'resolved': 6812, 'testimony': 6813, 'fiance': 6814, 'editorial': 6815, 'undergone': 6816, 'fm': 6817, 'guantanamo': 6818, 'bride': 6819, 'formerly': 6820, 'aggregate': 6821, 'litre': 6822, 'judgment': 6823, 'jse': 6824, '1400': 6825, 'dated': 6826, 'sunny': 6827, 'bitten': 6828, 'departure': 6829, 'ordinance': 6830, 'hampton': 6831, 'subdued': 6832, 'lone': 6833, 'earning': 6834, 'crossborder': 6835, '04': 6836, 'ashok': 6837, 'pacer': 6838, 'caroline': 6839, 'recognised': 6840, 'parkway': 6841, 'acid': 6842, 'statutory': 6843, 'rage': 6844, 'ti': 6845, '140': 6846, 'displaced': 6847, 'samantha': 6848, 'friendship': 6849, 'huntsman': 6850, 'adjusted': 6851, 'comparison': 6852, 'katherine': 6853, 'marketer': 6854, 'imminent': 6855, 'yearold': 6856, 'axe': 6857, 'besides': 6858, 'scotia': 6859, 'duff': 6860, 'depth': 6861, 'shia': 6862, 'brit': 6863, 'sussex': 6864, 'gerard': 6865, 'explorer': 6866, 'myrtle': 6867, 'antony': 6868, 'albuquerque': 6869, 'wanderer': 6870, 'successor': 6871, 'therapeutic': 6872, 'disgraced': 6873, 'panda': 6874, 'punk': 6875, 'syndrome': 6876, 'initiated': 6877, 'delighted': 6878, 'bernie': 6879, 'programming': 6880, 'hannah': 6881, 'mila': 6882, 'awaiting': 6883, 'tier': 6884, 'stint': 6885, 'nationally': 6886, 'kurt': 6887, 'pyongyang': 6888, 'burnt': 6889, '23rd': 6890, 'statistical': 6891, 'exploitation': 6892, 'monaco': 6893, 'fullback': 6894, 'remarkable': 6895, 'obligation': 6896, 'courtney': 6897, 'splash': 6898, 'prosperity': 6899, 'pietersen': 6900, 'unemployed': 6901, 'indicating': 6902, 'infected': 6903, 'gateway': 6904, 'snapped': 6905, 'upside': 6906, 'deserve': 6907, 'cleaning': 6908, 'allowance': 6909, 'marsh': 6910, 'hussain': 6911, 'recreation': 6912, '29yearold': 6913, 'mick': 6914, 'himachal': 6915, 'sole': 6916, 'wi': 6917, '16th': 6918, 'mvp': 6919, 'gloucester': 6920, 'beverage': 6921, 'janet': 6922, 'chester': 6923, 'audition': 6924, 'baron': 6925, 'jackpot': 6926, 'tube': 6927, 'miracle': 6928, 'vandalism': 6929, 'devastated': 6930, '15day': 6931, 'dish': 6932, 'revolutionary': 6933, 'experimental': 6934, 'comfort': 6935, 'bump': 6936, 'placing': 6937, 'labourer': 6938, 'rutgers': 6939, 'flown': 6940, 'sabah': 6941, 'polar': 6942, 'chandigarh': 6943, 'businessmen': 6944, 'virtually': 6945, 'laureate': 6946, 'bakery': 6947, 'thermal': 6948, 'injection': 6949, 'sidney': 6950, 'crusader': 6951, 'prodemocracy': 6952, 'stranger': 6953, 'kamal': 6954, 'johnston': 6955, 'internationally': 6956, 'describes': 6957, 'rossi': 6958, 'cheaper': 6959, 'bret': 6960, 'alassad': 6961, 'canterbury': 6962, 'tan': 6963, 'ligament': 6964, 'surrey': 6965, '175': 6966, '150000': 6967, 'leonard': 6968, 'sander': 6969, 'panama': 6970, 'learnt': 6971, 'bible': 6972, 'lou': 6973, 'messi': 6974, 'minsk': 6975, 'jude': 6976, 'drake': 6977, 'bourse': 6978, 'footprint': 6979, 'roethlisberger': 6980, 'cancellation': 6981, 'curry': 6982, 'odi': 6983, 'safer': 6984, 'paralympic': 6985, 'highlighting': 6986, 'airplane': 6987, 'bedroom': 6988, 'sail': 6989, 'explained': 6990, 'copyright': 6991, 'gesture': 6992, 'pharma': 6993, 'grab': 6994, 'sometime': 6995, 'embezzlement': 6996, 'chrome': 6997, 'firmer': 6998, 'bale': 6999, 'bias': 7000, 'salina': 7001, 'sitcom': 7002, 'convict': 7003, 'rico': 7004, 'allied': 7005, 'shook': 7006, 'taiwanese': 7007, 'telekom': 7008, 'mcdonalds': 7009, 'lennon': 7010, 'reno': 7011, 'locker': 7012, 'robertson': 7013, 'vienna': 7014, 'persistent': 7015, 'paterno': 7016, 'embattled': 7017, 'implication': 7018, 'grandfather': 7019, 'lehigh': 7020, 'manner': 7021, 'repurchase': 7022, 'clinched': 7023, 'mcdonnell': 7024, 'explodes': 7025, 'alltime': 7026, 'touring': 7027, 'appropriate': 7028, 'haley': 7029, 'assurance': 7030, 'rouge': 7031, 'famed': 7032, 'jam': 7033, 'mentor': 7034, 'tale': 7035, 'negotiate': 7036, 'toshiba': 7037, 'bulldog': 7038, 'technique': 7039, 'borrow': 7040, 'chevrolet': 7041, 'tighten': 7042, 'surfer': 7043, 'ralph': 7044, 'cave': 7045, 'revelation': 7046, 'pot': 7047, 'reddy': 7048, 'torres': 7049, 'lightweight': 7050, 'javier': 7051, '50yearold': 7052, 'forbes': 7053, 'eli': 7054, 'wen': 7055, 'letting': 7056, 'jared': 7057, 'courtroom': 7058, 'condolence': 7059, 'meltdown': 7060, 'fairfax': 7061, 'yeddyurappa': 7062, 'sprinter': 7063, 'discussing': 7064, 'mysterious': 7065, 'gwyneth': 7066, 'paltrow': 7067, 'boise': 7068, '115': 7069, 'poster': 7070, 'uruguay': 7071, 'historian': 7072, 'protocol': 7073, 'alzheimers': 7074, 'brigade': 7075, 'spectacular': 7076, 'informs': 7077, 'butt': 7078, 'pray': 7079, '32yearold': 7080, 'freeagent': 7081, 'lacrosse': 7082, 'deploy': 7083, 'wrapped': 7084, 'malcolm': 7085, 'kurdish': 7086, 'ambition': 7087, 'acknowledged': 7088, '00': 7089, 'ramirez': 7090, 'surrendered': 7091, 'kilometre': 7092, 'zurich': 7093, 'pmln': 7094, 'infamous': 7095, 'radcliffe': 7096, 'strained': 7097, 'staple': 7098, 'vacancy': 7099, 'saeed': 7100, 'mich': 7101, 'slur': 7102, 'marshal': 7103, 'kunis': 7104, 'plug': 7105, 'widens': 7106, 'grip': 7107, 'destruction': 7108, 'ethanol': 7109, 'biotechnology': 7110, 'rid': 7111, 'carr': 7112, 'bse': 7113, 'macau': 7114, 'accelerated': 7115, 'bearish': 7116, 'luck': 7117, 'sovereignty': 7118, 'sad': 7119, 'describing': 7120, 'adaptation': 7121, 'willie': 7122, 'mob': 7123, 'actively': 7124, 'passion': 7125, 'mayawati': 7126, 'bizarre': 7127, 'array': 7128, 'tunisian': 7129, 'highspeed': 7130, 'hank': 7131, 'accord': 7132, 'aftermath': 7133, '07': 7134, 'topeka': 7135, 'dipped': 7136, 'restoration': 7137, 'mesa': 7138, 'whatever': 7139, 'amidst': 7140, 'script': 7141, 'concludes': 7142, 'belgrade': 7143, 'stopping': 7144, 'spare': 7145, 'havana': 7146, 'thirdquarter': 7147, 'breakaway': 7148, 'correctional': 7149, 'muamba': 7150, 'kerr': 7151, 'eid': 7152, 'bae': 7153, 'logan': 7154, 'kg': 7155, 'baba': 7156, 'ramdev': 7157, 'surf': 7158, 'srinagar': 7159, 'mw': 7160, 'fourthquarter': 7161, 'libel': 7162, 'deny': 7163, '27yearold': 7164, 'reconstruction': 7165, 'clot': 7166, 'maybe': 7167, 'watford': 7168, 'boulder': 7169, 'salisbury': 7170, 'pardon': 7171, '60th': 7172, 'afc': 7173, 'tab': 7174, 'neighbouring': 7175, 'dana': 7176, 'rocked': 7177, 'lafayette': 7178, 'zimmerman': 7179, 'alley': 7180, 'joan': 7181, 'leopard': 7182, 'dicaprio': 7183, 'nail': 7184, 'militia': 7185, 'secretly': 7186, 'basin': 7187, 'airspace': 7188, 'blockade': 7189, 'tweeted': 7190, 'dwi': 7191, 'scholar': 7192, 'balloon': 7193, 'webb': 7194, 'bass': 7195, 'lokpal': 7196, 'congo': 7197, 'rib': 7198, 'aquino': 7199, 'mitsubishi': 7200, 'manufacture': 7201, 'directing': 7202, 'letterman': 7203, 'baton': 7204, 'bicyclist': 7205, 'firstround': 7206, 'colony': 7207, 'yang': 7208, 'robust': 7209, 'finalized': 7210, 'blaming': 7211, 'skilled': 7212, 'nor': 7213, 'namibia': 7214, 'convoy': 7215, 'melissa': 7216, 'juror': 7217, 'tebow': 7218, 'klitschko': 7219, 'nano': 7220, 'smoker': 7221, 'mcilroy': 7222, 'performer': 7223, 'destroying': 7224, 'certified': 7225, 'conducting': 7226, 'solomon': 7227, 'soviet': 7228, 'upbeat': 7229, 'slower': 7230, 'fragile': 7231, 'soybean': 7232, 'icici': 7233, 'grizzly': 7234, 'jenna': 7235, 'intercontinental': 7236, 'gamble': 7237, 'roughly': 7238, 'allamerican': 7239, 'luther': 7240, 'scenario': 7241, 'debris': 7242, 'importer': 7243, 'fence': 7244, 'hindi': 7245, 'disappointment': 7246, 'pen': 7247, 'suspending': 7248, 'kuala': 7249, 'mancini': 7250, 'disappeared': 7251, 'conan': 7252, '135': 7253, 'apprentice': 7254, 'tribe': 7255, 'westwood': 7256, 'leap': 7257, 'albania': 7258, 'refuge': 7259, 'beck': 7260, 'jeffrey': 7261, 'asiapacific': 7262, 'touching': 7263, 'sara': 7264, 'printer': 7265, 'stalking': 7266, 'isaac': 7267, 'flexible': 7268, 'thatcher': 7269, 'daylight': 7270, 'zuckerberg': 7271, 'bloody': 7272, 'rcmp': 7273, 'visual': 7274, 'adobe': 7275, 'bt': 7276, 'kindle': 7277, 'bow': 7278, 'relatively': 7279, 'umpire': 7280, 'nearing': 7281, 'montag': 7282, 'cure': 7283, 'upheld': 7284, 'gadhafi': 7285, 'shortterm': 7286, 'settler': 7287, 'dock': 7288, 'assess': 7289, 'lehman': 7290, 'fraudulent': 7291, 'marvel': 7292, 'hepatitis': 7293, 'lure': 7294, 'gunfire': 7295, 'olivia': 7296, 'dual': 7297, 'transformation': 7298, 'fault': 7299, 'vast': 7300, 'scrapped': 7301, 'pratibha': 7302, 'jermaine': 7303, 'mirza': 7304, 'filling': 7305, 'stunt': 7306, 'eyed': 7307, 'nexus': 7308, 'saga': 7309, 'sevilla': 7310, 'chaudhry': 7311, 'protested': 7312, 'happening': 7313, 'represents': 7314, 'liquid': 7315, 'lap': 7316, 'shifted': 7317, 'radar': 7318, 'oval': 7319, 'casting': 7320, 'tone': 7321, 'taught': 7322, 'tomas': 7323, 'literature': 7324, 'deliberately': 7325, 'spike': 7326, 'cord': 7327, 'campaigning': 7328, 'demolished': 7329, 'fielder': 7330, 'snake': 7331, 'accountability': 7332, 'zach': 7333, 'daytime': 7334, 'everywhere': 7335, 'jorge': 7336, 'mediterranean': 7337, 'generating': 7338, 'expenditure': 7339, 'ga': 7340, 'linda': 7341, 'epidemic': 7342, 'methodist': 7343, 'reiterates': 7344, 'admiral': 7345, 'composite': 7346, 'honolulu': 7347, 'arcelormittal': 7348, 'annually': 7349, 'enjoys': 7350, 'loud': 7351, 'auditorium': 7352, 'emily': 7353, 'tymoshenko': 7354, 'balanced': 7355, 'ronson': 7356, 'marilyn': 7357, 'whip': 7358, 'madoff': 7359, 'kiwi': 7360, 'conclusion': 7361, 'brunswick': 7362, 'trent': 7363, 'vic': 7364, 'holocaust': 7365, 'bug': 7366, 'jc': 7367, 'attends': 7368, 'kodak': 7369, 'f1': 7370, 'incorporated': 7371, 'eden': 7372, 'demonstrate': 7373, 'livestock': 7374, 'sienna': 7375, 'augusta': 7376, 'scared': 7377, 'didier': 7378, 'bestselling': 7379, 'escalating': 7380, '106': 7381, 'remainder': 7382, 'doll': 7383, 'roommate': 7384, 'successive': 7385, 'bolivia': 7386, 'unfair': 7387, 'pitched': 7388, 'elder': 7389, 'hancock': 7390, 'handing': 7391, 'conjunction': 7392, 'punching': 7393, 'vaccination': 7394, 'clarkson': 7395, 'aj': 7396, 'aleague': 7397, 'ugly': 7398, 'conway': 7399, 'sewer': 7400, 'burden': 7401, 'ibrahim': 7402, 'knoxville': 7403, 'denying': 7404, '7000': 7405, 'kendra': 7406, 'shepherd': 7407, 'homer': 7408, 'bentley': 7409, 'oneill': 7410, 'moines': 7411, 'bermuda': 7412, 'sandusky': 7413, 'boutique': 7414, 'mercer': 7415, 'discipline': 7416, 'bart': 7417, 'monk': 7418, 'complained': 7419, 'prefers': 7420, 'bracing': 7421, 'gonzalez': 7422, 'arguing': 7423, 'aground': 7424, 'worcester': 7425, '8th': 7426, 'lodged': 7427, 'dust': 7428, 'parkinson': 7429, 'pleasant': 7430, 'dealt': 7431, 'lifting': 7432, 'nolan': 7433, 'bread': 7434, 'responds': 7435, 'vista': 7436, 'beirut': 7437, 'accreditation': 7438, '13yearold': 7439, 'groupon': 7440, 'deeper': 7441, 'amir': 7442, 'kay': 7443, 'airasia': 7444, 'felix': 7445, 'breakdown': 7446, 'concentrate': 7447, 'hotspur': 7448, 'seng': 7449, 'stupid': 7450, 'machinery': 7451, 'decisive': 7452, 'kickoff': 7453, 'scan': 7454, 'rated': 7455, 'injures': 7456, 'volvo': 7457, 'drag': 7458, 'newsday': 7459, 'dover': 7460, 'macon': 7461, 'busch': 7462, 'worsening': 7463, 'founded': 7464, 'automated': 7465, 'efron': 7466, 'contrary': 7467, 'huffington': 7468, 'intelligent': 7469, 'narrowed': 7470, 'bahraini': 7471, 'otherwise': 7472, 'gabriel': 7473, 'connectivity': 7474, 'shrine': 7475, 'sultan': 7476, 'colbert': 7477, 'sheboygan': 7478, 'lagos': 7479, 'gangster': 7480, 'lindsey': 7481, 'hyundai': 7482, 'preventing': 7483, 'eager': 7484, '730': 7485, 'beam': 7486, 'johan': 7487, 'entertainer': 7488, 'ideal': 7489, 'fatality': 7490, 'benson': 7491, 'advertisement': 7492, 'quota': 7493, 'continent': 7494, '105': 7495, 'witnessed': 7496, 'fixture': 7497, 'dustin': 7498, 'garrett': 7499, 'catastrophic': 7500, 'forgery': 7501, 'grabbed': 7502, 'unilever': 7503, 'fog': 7504, 'wachovia': 7505, 'colon': 7506, 'stayed': 7507, 'outline': 7508, 'marseille': 7509, 'laurent': 7510, 'mln': 7511, 'dylan': 7512, '107': 7513, 'exploring': 7514, 'newt': 7515, 'gingrich': 7516, 'supervision': 7517, 'ritchie': 7518, 'cleaner': 7519, 'mri': 7520, 'operates': 7521, 'inflow': 7522, 'bean': 7523, 'mcdonald': 7524, 'aging': 7525, 'fragrance': 7526, 'webcast': 7527, 'holly': 7528, 'doha': 7529, 'pike': 7530, 'committing': 7531, 'irvine': 7532, 'serf': 7533, 'mirror': 7534, 'pulse': 7535, 'corridor': 7536, 'franco': 7537, 'nixon': 7538, 'ipswich': 7539, 'bidder': 7540, 'rear': 7541, 'clearly': 7542, 'afford': 7543, 'devon': 7544, '40000': 7545, 'grammer': 7546, 'literacy': 7547, 'mozambique': 7548, 'experiencing': 7549, 'mosquito': 7550, 'belmont': 7551, 'ambush': 7552, 'porsche': 7553, 'pure': 7554, 'backyard': 7555, 'quote': 7556, 'hillsborough': 7557, 'immunity': 7558, 'leigh': 7559, 'generator': 7560, 'lucknow': 7561, 'petrochemical': 7562, 'pad': 7563, 'doctorate': 7564, 'mayoral': 7565, 'column': 7566, 'bargaining': 7567, 'raided': 7568, 'panetta': 7569, 'ossetia': 7570, 'hogan': 7571, 'junction': 7572, 'copa': 7573, 'paulson': 7574, 'inauguration': 7575, 'purse': 7576, 'expires': 7577, 'cm': 7578, 'strange': 7579, '39yearold': 7580, 'respiratory': 7581, 'heineken': 7582, 'catching': 7583, 'establishing': 7584, 'ehud': 7585, 'blade': 7586, 'breathing': 7587, 'injunction': 7588, 'suggestion': 7589, 'paramedic': 7590, 'harder': 7591, 'math': 7592, 'paypal': 7593, 'gradually': 7594, 'cartel': 7595, 'cheat': 7596, 'ashore': 7597, 'impossible': 7598, 'lithuania': 7599, 'lowcost': 7600, 'entity': 7601, 'clock': 7602, 'deepening': 7603, 'graffiti': 7604, 'savannah': 7605, 'curtis': 7606, 'upto': 7607, 'shifting': 7608, 'nate': 7609, 'evan': 7610, 'twist': 7611, 'runaway': 7612, 'lobbyist': 7613, 'foray': 7614, 'harsh': 7615, '2g': 7616, 'detect': 7617, 'waive': 7618, 'oral': 7619, 'jubilee': 7620, 'richest': 7621, 'havoc': 7622, 'pepsico': 7623, 'chevron': 7624, 'purchasing': 7625, 'alexandra': 7626, 'skier': 7627, 'colonial': 7628, 'establishes': 7629, 'reopening': 7630, 'cavendish': 7631, 'lumpur': 7632, 'surpassed': 7633, '9000': 7634, 'protestors': 7635, 'promotional': 7636, 'peruvian': 7637, 'sao': 7638, '9th': 7639, 'deeply': 7640, 'wooden': 7641, 'cathedral': 7642, 'patience': 7643, 'mickey': 7644, 'bafana': 7645, 'audi': 7646, 'liberation': 7647, 'ramesh': 7648, 'highlighted': 7649, 'tightening': 7650, 'slalom': 7651, 'trafford': 7652, 'wholly': 7653, 'socialist': 7654, 'steering': 7655, 'whilst': 7656, 'goodbye': 7657, 'conversion': 7658, 'cypriot': 7659, 'caterpillar': 7660, 'quietly': 7661, 'negligent': 7662, 'landfall': 7663, 'anz': 7664, 'freezing': 7665, 'prolonged': 7666, 'nonstop': 7667, 'mlb': 7668, 'kylie': 7669, 'au': 7670, 'lined': 7671, 'braced': 7672, 'controlling': 7673, 'wrongful': 7674, 'kane': 7675, 'tsx': 7676, 'seemed': 7677, 'canton': 7678, 'spelling': 7679, 'contracted': 7680, 'southampton': 7681, 'shriver': 7682, 'rescuer': 7683, 'fedex': 7684, 'achieving': 7685, 'jindal': 7686, 'nun': 7687, 'onetime': 7688, 'whistleblower': 7689, 'atlantis': 7690, 'flick': 7691, '112': 7692, 'milton': 7693, 'alice': 7694, 'comcast': 7695, 'escort': 7696, 'divided': 7697, 'diverted': 7698, 'entrance': 7699, 'ranging': 7700, 'issuer': 7701, 'collapsing': 7702, 'totally': 7703, 'leisure': 7704, 'clay': 7705, 'tumour': 7706, 'intoxication': 7707, '38yearold': 7708, 'twenty': 7709, 'embrace': 7710, 'attraction': 7711, 'barrymore': 7712, 'faction': 7713, 'commencement': 7714, 'ceiling': 7715, 'ammunition': 7716, 'psychiatric': 7717, 'continuous': 7718, 'durban': 7719, 'dramatically': 7720, 'ensuring': 7721, 'ups': 7722, 'endangerment': 7723, 'travolta': 7724, 'crocodile': 7725, 'choppy': 7726, 'downloads': 7727, 'timor': 7728, 'rosa': 7729, 'spokane': 7730, 'hazardous': 7731, 'impaired': 7732, 'cohen': 7733, 'telangana': 7734, 'blackout': 7735, 'medalist': 7736, 'implant': 7737, 'carlyle': 7738, 'rao': 7739, 'apologise': 7740, 'habitat': 7741, 'drum': 7742, 'thermo': 7743, 'eastman': 7744, 'testified': 7745, 'enrollment': 7746, 'amended': 7747, 'costume': 7748, 'impersonating': 7749, 'furlough': 7750, 'stallone': 7751, 'sixmonth': 7752, 'cooling': 7753, 'knockout': 7754, 'stray': 7755, 'ep': 7756, 'overwhelming': 7757, 'outgoing': 7758, 'intimate': 7759, 'java': 7760, 'marina': 7761, 'dumping': 7762, 'disposal': 7763, 'searched': 7764, 'slogan': 7765, 'omalley': 7766, 'happens': 7767, 'defrauding': 7768, 'bikini': 7769, 'mirren': 7770, 'serb': 7771, 'ingredient': 7772, 'monte': 7773, 'wembley': 7774, '1970s': 7775, 'fantastic': 7776, 'ilham': 7777, 'wolfsburg': 7778, 'snyder': 7779, 'havent': 7780, '08': 7781, 'circus': 7782, 'mask': 7783, 'pictured': 7784, 'background': 7785, 'pan': 7786, 'leone': 7787, 'synthetic': 7788, 'eclipse': 7789, 'duet': 7790, 'fraser': 7791, 'furious': 7792, 'dynamo': 7793, 'transparent': 7794, 'yourself': 7795, 'personally': 7796, 'bypass': 7797, 'rebecca': 7798, 'ecb': 7799, 'beloved': 7800, 'cartoon': 7801, 'alba': 7802, 'migration': 7803, 'crist': 7804, 'stunned': 7805, 'ria': 7806, 'slugger': 7807, 'seth': 7808, 'il': 7809, 'evil': 7810, 'intensified': 7811, 'intoxicated': 7812, 'kourtney': 7813, 'iphones': 7814, 'flooded': 7815, 'denise': 7816, 'blunt': 7817, 'pearson': 7818, 'rss': 7819, 'mgm': 7820, 'spacecraft': 7821, 'spying': 7822, 'cutler': 7823, 'aviva': 7824, 'hospitality': 7825, 'detailed': 7826, 'eugene': 7827, 'mcafee': 7828, '1960s': 7829, 'poultry': 7830, 'macquarie': 7831, 'meredith': 7832, 'polk': 7833, 'upward': 7834, 'collides': 7835, 'wildcat': 7836, 'bullying': 7837, 'cpi': 7838, 'elimination': 7839, 'antidoping': 7840, 'kissing': 7841, 'yy': 7842, 'liz': 7843, 'ci': 7844, 'chan': 7845, 'anticorruption': 7846, 'lewd': 7847, 'shawn': 7848, 'condemn': 7849, '12yearold': 7850, 'tightened': 7851, 'antitrust': 7852, 'basu': 7853, 'relevant': 7854, 'underwear': 7855, 'obese': 7856, 'lng': 7857, 'powered': 7858, 'icy': 7859, 'alec': 7860, 'reflect': 7861, 'hm': 7862, 'guatemala': 7863, 'examine': 7864, 'rein': 7865, 'expression': 7866, 'capped': 7867, 'meth': 7868, '40yearold': 7869, 'splitting': 7870, 'massa': 7871, 'benghazi': 7872, 'â': 7873, 'tina': 7874, 'surfaced': 7875, 'groundbreaking': 7876, 'y': 7877, 'autobiography': 7878, 'strongest': 7879, 'jiabao': 7880, 'kristin': 7881, 'shahrukh': 7882, 'pile': 7883, 'ipads': 7884, 'leno': 7885, '201213': 7886, 'keeper': 7887, 'boone': 7888, 'impress': 7889, 'weeklong': 7890, '1300': 7891, 'booker': 7892, 'arrow': 7893, 'washing': 7894, 'powder': 7895, '750': 7896, 'polanski': 7897, 'affirmed': 7898, 'partly': 7899, 'architecture': 7900, 'unanimous': 7901, 'cornwall': 7902, 'slapped': 7903, 'bulk': 7904, 'phelps': 7905, 'breaching': 7906, 'novosti': 7907, 'ballet': 7908, 'chandler': 7909, 'downing': 7910, 'camden': 7911, 'rescheduled': 7912, 'dane': 7913, 'attracting': 7914, 'bloom': 7915, 'jessie': 7916, 'collecting': 7917, 'pedro': 7918, 'batman': 7919, 'weighing': 7920, 'tajikistan': 7921, 'kelsey': 7922, 'lautner': 7923, 'slim': 7924, 'ole': 7925, 'leighton': 7926, 'halftime': 7927, 'scratched': 7928, 'cumberland': 7929, 'cheltenham': 7930, 'multimedia': 7931, 'competitiveness': 7932, 'intruder': 7933, 'ranbir': 7934, 'understands': 7935, 'headache': 7936, 'slaying': 7937, 'usher': 7938, 'afridi': 7939, 'marched': 7940, 'interviewed': 7941, 'moratorium': 7942, 'larceny': 7943, 'impressed': 7944, 'memoir': 7945, 'teaming': 7946, 'convinced': 7947, 'jamaican': 7948, 'winslet': 7949, 'biological': 7950, 'caucasus': 7951, 'disrupt': 7952, 'osce': 7953, 'roddick': 7954, 'spate': 7955, 'halfway': 7956, 'warplane': 7957, 'est': 7958, 'fourday': 7959, 'exile': 7960, 'neighboring': 7961, 'sylvester': 7962, 'motogp': 7963, 'ramadan': 7964, 'filmed': 7965, 'albion': 7966, 'rejoin': 7967, 'enhancement': 7968, 'nda': 7969, 'g20': 7970, 'isolated': 7971, 'sinking': 7972, 'restoring': 7973, 'solicitor': 7974, 'objection': 7975, 'gearing': 7976, 'vonn': 7977, 'roland': 7978, 'selloff': 7979, 'owed': 7980, 'astana': 7981, 'animated': 7982, 'aka': 7983, 'novelist': 7984, 'talented': 7985, 'eliminating': 7986, 'princeton': 7987, 'tune': 7988, 'balcony': 7989, 'malfunction': 7990, 'attracted': 7991, 'pared': 7992, 'pea': 7993, 'please': 7994, 'confederation': 7995, 'refund': 7996, 'affiliated': 7997, 'bhutto': 7998, 'weigh': 7999, 'pianist': 8000, 'constituent': 8001, 'hewlettpackard': 8002, 'decreased': 8003, 'scrutiny': 8004, 'payne': 8005, 'llp': 8006, 'julius': 8007, 'hint': 8008, 'transform': 8009, 'ubisoft': 8010, 'acted': 8011, 'deck': 8012, 'inform': 8013, 'paparazzo': 8014, 'nod': 8015, 'reaffirmed': 8016, 'abdominal': 8017, 'aust': 8018, 'heated': 8019, 'owes': 8020, 'verge': 8021, 'ronald': 8022, 'keegan': 8023, 'rime': 8024, 'firsthalf': 8025, 'viral': 8026, 'hon': 8027, 'petraeus': 8028, 'reagan': 8029, 'negotiator': 8030, 'dundee': 8031, 'xperia': 8032, 'schmidt': 8033, 'marker': 8034, 'inevitable': 8035, 'pawar': 8036, 'fiber': 8037, 'fulltime': 8038, 'smuggler': 8039, 'tide': 8040, 'yusuf': 8041, 'conceded': 8042, 'cannes': 8043, '22nd': 8044, 'eminem': 8045, 'hiker': 8046, 'emotion': 8047, 'freeman': 8048, 'rodney': 8049, 'lancashire': 8050, 'daly': 8051, 'sacred': 8052, 'arbor': 8053, 'jaipur': 8054, 'stockton': 8055, 'rat': 8056, '06': 8057, 'absolute': 8058, 'akron': 8059, 'stakeholder': 8060, 'advertiser': 8061, 'garner': 8062, 'anywhere': 8063, 'uncle': 8064, 'honduras': 8065, 'hudgens': 8066, 'outing': 8067, 'balochistan': 8068, 'basket': 8069, 'bidding': 8070, 'scooter': 8071, 'securing': 8072, 'clara': 8073, 'rehearsal': 8074, 'undefeated': 8075, 'shrank': 8076, 'ratio': 8077, 'peso': 8078, 'defendant': 8079, 'apollo': 8080, 'sophomore': 8081, 'etf': 8082, 'derailed': 8083, '1800': 8084, 'dev': 8085, 'lucie': 8086, 'twovehicle': 8087, 'scherzinger': 8088, 'neither': 8089, 'straw': 8090, 'outskirt': 8091, 'landscape': 8092, 'amar': 8093, 'raceway': 8094, 'misleading': 8095, 'multinational': 8096, 'longrunning': 8097, 'penske': 8098, 'legion': 8099, 'safeguard': 8100, 'primetime': 8101, 'rawalpindi': 8102, 'counting': 8103, 'rampage': 8104, 'exist': 8105, 'atmosphere': 8106, 'chesapeake': 8107, 'orthodox': 8108, 'tactic': 8109, 'dannii': 8110, 'dawson': 8111, 'incredible': 8112, 'dominant': 8113, 'merit': 8114, 'kazakh': 8115, 'nepali': 8116, 'extradited': 8117, 'latter': 8118, 'handgun': 8119, 'cardiovascular': 8120, 'msnbc': 8121, 'listen': 8122, 'gerrard': 8123, 'amongst': 8124, 'intensify': 8125, 'supposed': 8126, 'pretoria': 8127, 'technological': 8128, '10year': 8129, 'collaborate': 8130, 'fayetteville': 8131, 'overwhelmingly': 8132, 'alcoa': 8133, 'participated': 8134, 'q': 8135, '90th': 8136, 'jenny': 8137, 'attached': 8138, 'disqualified': 8139, 'rejecting': 8140, 'calhoun': 8141, 'portrait': 8142, 'hottest': 8143, 'triggering': 8144, 'delaying': 8145, 'cory': 8146, 'obtain': 8147, 'deepika': 8148, 'viewing': 8149, 'mosley': 8150, '28th': 8151, 'aggression': 8152, 'salmonella': 8153, 'limerick': 8154, 'mickelson': 8155, 'opted': 8156, 'rainbow': 8157, 'gyllenhaal': 8158, 'lilly': 8159, 'heathrow': 8160, 'demonstrated': 8161, 'pursuing': 8162, 'glove': 8163, 'clue': 8164, 'fiction': 8165, 'preorders': 8166, 'candy': 8167, 'cork': 8168, 'realty': 8169, '630': 8170, 'trinamool': 8171, 'oiler': 8172, 'budapest': 8173, 'chasing': 8174, 'diversity': 8175, 'basement': 8176, 'dunn': 8177, 'bronx': 8178, 'contamination': 8179, 'griffith': 8180, 'en': 8181, 'lowering': 8182, 'thrilled': 8183, 'byrd': 8184, 'knightley': 8185, 'mid': 8186, 'seizes': 8187, 'bachelor': 8188, 'hospice': 8189, 'hiked': 8190, 'spinner': 8191, 'skull': 8192, 'rabies': 8193, 'cult': 8194, 'gp': 8195, 'lotus': 8196, 'directorial': 8197, 'lied': 8198, 'accelerate': 8199, 'collector': 8200, 'ft': 8201, 'mounted': 8202, 'costcutting': 8203, 'commenced': 8204, 'clemson': 8205, 'barred': 8206, 'lend': 8207, 'belarusian': 8208, 'measuring': 8209, 'torus': 8210, 'wbo': 8211, 'donna': 8212, 'righthanded': 8213, 'capsule': 8214, 'rodham': 8215, 'malibu': 8216, 'laugh': 8217, 'mainstream': 8218, 'wonderful': 8219, 'rivera': 8220, 'gotten': 8221, 'checking': 8222, 'tenure': 8223, 'loser': 8224, 'nigel': 8225, 'lille': 8226, 'hung': 8227, 'unlawful': 8228, 'bahamas': 8229, 'fabrice': 8230, 'hoax': 8231, 'slumped': 8232, 'instant': 8233, 'xavier': 8234, 'shooter': 8235, 'yerevan': 8236, 'bacteria': 8237, 'rubbish': 8238, 'brewing': 8239, 'buenos': 8240, 'aire': 8241, 'eleven': 8242, 'imagine': 8243, 'none': 8244, 'aquarium': 8245, 'lea': 8246, 'leann': 8247, 'dining': 8248, 'bipartisan': 8249, 'sanctuary': 8250, 'horn': 8251, 'evolution': 8252, 'cindy': 8253, 'shropshire': 8254, 'harlem': 8255, 'follows': 8256, 'regina': 8257, 'min': 8258, 'olive': 8259, 'stuff': 8260, 'insolvency': 8261, 'educator': 8262, 'phillip': 8263, 'toe': 8264, 'postpone': 8265, 'aa': 8266, 'saskatoon': 8267, 'modified': 8268, 'guerrilla': 8269, 'yearonyear': 8270, 'indycar': 8271, 'slashing': 8272, 'moose': 8273, 'blown': 8274, 'fidel': 8275, 'freestyle': 8276, '200m': 8277, 'barrett': 8278, 'stan': 8279, 'se': 8280, '650': 8281, 'venus': 8282, 'sacrifice': 8283, 'osborne': 8284, 'ukbased': 8285, 'prolific': 8286, 'cohost': 8287, 'imperial': 8288, 'spiderman': 8289, 'asda': 8290, 'putnam': 8291, 'daryl': 8292, 'anchorage': 8293, 'debit': 8294, 'protein': 8295, 'mideast': 8296, 'consistent': 8297, 'hulk': 8298, 'airtran': 8299, 'viktor': 8300, 'designate': 8301, 'raft': 8302, 'trick': 8303, 'collide': 8304, 'conditioning': 8305, 'donating': 8306, 'brake': 8307, 'detector': 8308, 'cougar': 8309, 'potato': 8310, 'enrichment': 8311, 'ho': 8312, 'bash': 8313, 'negligence': 8314, 'rahman': 8315, 'boater': 8316, 'loyal': 8317, 'longawaited': 8318, 'mm': 8319, 'caretaker': 8320, 'transformer': 8321, 'clip': 8322, 'entirely': 8323, 'savage': 8324, 'outer': 8325, 'coordination': 8326, 'onevehicle': 8327, 'bruised': 8328, 'trafficker': 8329, 'aloud': 8330, 'greenville': 8331, 'fastgrowing': 8332, 'bon': 8333, 'wesley': 8334, 'hitachi': 8335, 'coat': 8336, 'carla': 8337, 'divorced': 8338, 'throne': 8339, 'missoula': 8340, 'napoli': 8341, 'substitute': 8342, '145': 8343, 'politically': 8344, 'grounded': 8345, 'acceptance': 8346, 'snowmobile': 8347, 'lengthy': 8348, 'goodman': 8349, 'cadre': 8350, 'odonnell': 8351, 'elvis': 8352, 'jong': 8353, 'dixon': 8354, 'leaking': 8355, 'goalless': 8356, 'sonic': 8357, '09': 8358, 'wardrobe': 8359, 'elsewhere': 8360, 'darling': 8361, 'payable': 8362, 'cameroon': 8363, 'youve': 8364, 'refinancing': 8365, 'legally': 8366, 'millennium': 8367, 'maid': 8368, 'oversight': 8369, 'bismarck': 8370, 'erin': 8371, 'secretarygeneral': 8372, 'memorandum': 8373, 'motorway': 8374, 'hai': 8375, '103': 8376, 'vulnerability': 8377, 'corning': 8378, 'porter': 8379, 'driveway': 8380, 'oconnor': 8381, 'jill': 8382, 'anaheim': 8383, 'unesco': 8384, 'revoked': 8385, 'lufthansa': 8386, 'salvador': 8387, 'relieved': 8388, 'geological': 8389, 'mock': 8390, 'iftikhar': 8391, 'mellon': 8392, 'junk': 8393, 'threetime': 8394, 'cfo': 8395, 'patterson': 8396, 'log': 8397, 'lamb': 8398, 'methamphetamine': 8399, 'fontana': 8400, 'martha': 8401, 'moroccan': 8402, '98': 8403, 'extinction': 8404, 'surrounded': 8405, 'hijack': 8406, 'cite': 8407, 'litigation': 8408, '33yearold': 8409, 'highlevel': 8410, 'diary': 8411, 'sears': 8412, 'cheese': 8413, 'perdue': 8414, 'bobcat': 8415, 'shahbaz': 8416, 'karan': 8417, 'defect': 8418, 'tense': 8419, '27th': 8420, 'atp': 8421, 'drogba': 8422, 'shannon': 8423, 'meningitis': 8424, 'acc': 8425, 'senegal': 8426, 'greeting': 8427, 'commentator': 8428, 'rumored': 8429, 'soup': 8430, 'shirley': 8431, 'barely': 8432, 'outreach': 8433, 'keira': 8434, 'avery': 8435, 'achieves': 8436, 'horrific': 8437, 'deadliest': 8438, 'cautioned': 8439, '111': 8440, '45yearold': 8441, 'naming': 8442, 'enabling': 8443, 'except': 8444, 'twoweek': 8445, 'moammar': 8446, 'relaunch': 8447, 'wouldbe': 8448, 'chairperson': 8449, 'cambodian': 8450, 'crushing': 8451, 'precautionary': 8452, 'shutout': 8453, '11yearold': 8454, 'influenza': 8455, 'wealthy': 8456, 'racket': 8457, 'downhill': 8458, 'memo': 8459, 'dismiss': 8460, 'paddy': 8461, 'donovan': 8462, '31st': 8463, 'properly': 8464, 'christine': 8465, 'vocal': 8466, 'iris': 8467, 'candidacy': 8468, 'nike': 8469, 'expired': 8470, 'breached': 8471, 'middlesbrough': 8472, 'commence': 8473, 'rotary': 8474, 'canadiens': 8475, 'mitch': 8476, 'ta': 8477, 'lefthander': 8478, 'acoustic': 8479, 'wba': 8480, 'pageant': 8481, 'slept': 8482, 'fibre': 8483, 'stimulate': 8484, 'knocking': 8485, 'drowning': 8486, 'eyeing': 8487, 'nvidia': 8488, 'flintoff': 8489, 'flexibility': 8490, 'stun': 8491, 'anticipation': 8492, 'niger': 8493, 'nightmare': 8494, 'paribas': 8495, 'aluminum': 8496, 'fletcher': 8497, 'carpenter': 8498, 'shetty': 8499, 'lpga': 8500, 'khyber': 8501, 'contributing': 8502, 'timing': 8503, 'unmanned': 8504, 'password': 8505, 'dwight': 8506, 'contributed': 8507, 'enables': 8508, 'advocacy': 8509, 'bullion': 8510, 'julio': 8511, 'alcoholic': 8512, 'forged': 8513, 'opt': 8514, 'conspiring': 8515, 'penelope': 8516, '200809': 8517, 'samoa': 8518, 'mull': 8519, 'supplying': 8520, 'mahinda': 8521, 'mahendra': 8522, 'crowe': 8523, 'leinster': 8524, 'indicate': 8525, 'avoiding': 8526, 'stockholder': 8527, 'lk': 8528, 'frontline': 8529, '10yearold': 8530, 'jaime': 8531, 'classified': 8532, 'truce': 8533, 'costing': 8534, 'equivalent': 8535, 'lisbon': 8536, 'peyton': 8537, 'paraguay': 8538, 'sealed': 8539, 'nairobi': 8540, 'ala': 8541, 'jerome': 8542, 'bryce': 8543, 'belong': 8544, 'shotgun': 8545, 'northampton': 8546, 'prediction': 8547, 'commemorate': 8548, 'defenceman': 8549, 'shelton': 8550, 'gill': 8551, 'chivas': 8552, 'curtain': 8553, '170': 8554, 'berth': 8555, 'chattanooga': 8556, 'importing': 8557, 'oreilly': 8558, 'taxation': 8559, 'recipient': 8560, 'vmware': 8561, 'stall': 8562, 'nerve': 8563, 'sbi': 8564, 'artificial': 8565, 'kaif': 8566, 'madden': 8567, 'piper': 8568, 'byrne': 8569, 'wallet': 8570, 'misery': 8571, 'embargo': 8572, 'prom': 8573, 'concord': 8574, 'redundancy': 8575, 'sheila': 8576, 'licensed': 8577, 'surging': 8578, 'monoxide': 8579, 'lens': 8580, 'thumb': 8581, 'shipyard': 8582, 'separated': 8583, 'burial': 8584, 'gloria': 8585, 'spared': 8586, 'bali': 8587, 'barker': 8588, 'credited': 8589, 'unsecured': 8590, 'planner': 8591, 'elena': 8592, 'obstruction': 8593, 'ngo': 8594, '1700': 8595, 'cheer': 8596, 'ulster': 8597, 'smallest': 8598, 'taco': 8599, 'lingering': 8600, 'roanoke': 8601, 'tbilisi': 8602, 'dismal': 8603, 'downward': 8604, 'profitable': 8605, 'underlying': 8606, 'ki': 8607, 'trusted': 8608, 'archive': 8609, 'lauderdale': 8610, 'virtualization': 8611, 'seafood': 8612, 'sotomayor': 8613, 'credential': 8614, 'a380': 8615, 'alpha': 8616, 'restrict': 8617, 'upstate': 8618, 'consolidated': 8619, 'fairbanks': 8620, 'tortured': 8621, 'timber': 8622, 'contaminated': 8623, 'rhino': 8624, 'composition': 8625, 'rapist': 8626, '124': 8627, 'fcc': 8628, 'nassau': 8629, '109': 8630, 'inner': 8631, 'hurley': 8632, 'gainesville': 8633, 'sim': 8634, 'impending': 8635, 'kia': 8636, 'embezzling': 8637, 'jihad': 8638, 'chhattisgarh': 8639, 'luxembourg': 8640, 'remittance': 8641, 'usually': 8642, 'kochi': 8643, 'craft': 8644, 'deepen': 8645, 'rai': 8646, 'stormed': 8647, 'persian': 8648, 'liga': 8649, 'galway': 8650, 'starred': 8651, 'affleck': 8652, 'cadet': 8653, 'emc': 8654, 'ruth': 8655, 'sandwich': 8656, 'snowfall': 8657, 'jetblue': 8658, 'suarez': 8659, 'homage': 8660, 'closet': 8661, 'switched': 8662, 'observe': 8663, 'unnamed': 8664, 'eviction': 8665, 'antiterrorism': 8666, 'kara': 8667, 'noting': 8668, '3m': 8669, 'grower': 8670, 'gutted': 8671, 'integrate': 8672, 'uc': 8673, 'recognizes': 8674, 'frederick': 8675, 'nl': 8676, 'saab': 8677, 'usage': 8678, 'biel': 8679, 'daredevil': 8680, 'restive': 8681, 'norris': 8682, 'schoolgirl': 8683, 'headquartered': 8684, 'blocking': 8685, 'linux': 8686, 'joyce': 8687, 'fiancee': 8688, 'spector': 8689, 'dominate': 8690, 'joplin': 8691, 'imposes': 8692, 'speedy': 8693, 'ladder': 8694, 'khurshid': 8695, 'satisfied': 8696, 'gore': 8697, 'penney': 8698, 'therefore': 8699, 'fluid': 8700, 'owing': 8701, 'barge': 8702, 'bald': 8703, 'nephew': 8704, 'guild': 8705, 'improper': 8706, 'betterthanexpected': 8707, 'honoring': 8708, 'referred': 8709, 'exceeded': 8710, 'yorkbased': 8711, 'represented': 8712, 'grande': 8713, 'frequent': 8714, 'psychological': 8715, 'degeneres': 8716, 'patriotic': 8717, 'ventura': 8718, 'scottsdale': 8719, 'adequate': 8720, 'kimoon': 8721, 'input': 8722, 'exboyfriend': 8723, 'brighton': 8724, 'implementing': 8725, 'donut': 8726, 'buccaneer': 8727, '47yearold': 8728, 'manufactured': 8729, 'jaw': 8730, 'interface': 8731, 'doncaster': 8732, '18000': 8733, 'lin': 8734, 'hayes': 8735, 'precision': 8736, 'brilliant': 8737, '550': 8738, 'whopping': 8739, 'stuttgart': 8740, 'seaside': 8741, 'lyric': 8742, 'norton': 8743, 'turnout': 8744, 'pepsi': 8745, 'chapel': 8746, 'clause': 8747, 'mercantile': 8748, '24th': 8749, 'bravo': 8750, 'sunrise': 8751, 'fenway': 8752, '850': 8753, '70000': 8754, 'procter': 8755, 'ariz': 8756, '41yearold': 8757, 'beau': 8758, 'ordering': 8759, 'lit': 8760, 'jj': 8761, 'trek': 8762, 'publicity': 8763, 'autonomous': 8764, '190': 8765, 'seminole': 8766, 'turnaround': 8767, 'lockheed': 8768, 'maturity': 8769, 'scorer': 8770, 'appalachian': 8771, 'sabre': 8772, 'murderer': 8773, 'organizational': 8774, 'atm': 8775, 'nowhere': 8776, 'loom': 8777, 'sargsyan': 8778, 'keane': 8779, 'shirt': 8780, 'carrey': 8781, 'smile': 8782, 'choir': 8783, 'reversing': 8784, 'clijsters': 8785, 'medallist': 8786, 'optical': 8787, 'sunset': 8788, 'chooses': 8789, 'pleasure': 8790, 'detain': 8791, 'nitin': 8792, 'ivan': 8793, 'applying': 8794, 'bassist': 8795, 'alligator': 8796, 'retreated': 8797, 'churchill': 8798, 'pippa': 8799, 'racism': 8800, 'heaven': 8801, 'jenson': 8802, 'corey': 8803, 'meyer': 8804, 'wondering': 8805, 'gareth': 8806, 'chi': 8807, 'sword': 8808, '60000': 8809, 'unlimited': 8810, 'trap': 8811, 'revamped': 8812, 'copenhagen': 8813, 'euronext': 8814, 'ethical': 8815, 'oriental': 8816, 'conocophillips': 8817, 'harrington': 8818, '230': 8819, 'dig': 8820, 'contador': 8821, 'shoaib': 8822, 'tesla': 8823, 'danielle': 8824, '2018': 8825, 'subdivision': 8826, 'swayze': 8827, 'lorenzo': 8828, 'propaganda': 8829, 'lao': 8830, 'separation': 8831, 'mention': 8832, 'forestry': 8833, 'bury': 8834, 'latino': 8835, 'suicidal': 8836, 'hitler': 8837, 'maestro': 8838, 'pistol': 8839, 'bakersfield': 8840, 'cart': 8841, 'noah': 8842, 'slap': 8843, 'tongue': 8844, 'iv': 8845, 'salute': 8846, 'activate': 8847, 'haye': 8848, 'emerges': 8849, 'bogus': 8850, 'abkhazia': 8851, 'blizzard': 8852, 'albans': 8853, 'funded': 8854, 'courteney': 8855, 'exchanged': 8856, 'everybody': 8857, 'nestle': 8858, 'connecting': 8859, 'arroyo': 8860, 'nicky': 8861, 'constant': 8862, 'pendleton': 8863, 'diversified': 8864, 'schalke': 8865, 'fallon': 8866, 'courtesy': 8867, 'compare': 8868, 'hungry': 8869, 'richter': 8870, 'lucy': 8871, 'limiting': 8872, 'kan': 8873, 'auctioned': 8874, 'leona': 8875, 'bluff': 8876, 'lucrative': 8877, 'literally': 8878, 'miscarriage': 8879, 'vogue': 8880, 'andrea': 8881, 'exploit': 8882, 'farming': 8883, 'captive': 8884, 'lounge': 8885, 'bosnian': 8886, 'pled': 8887, 'polo': 8888, 'partnered': 8889, 'remembers': 8890, 'mtn': 8891, 'noida': 8892, '108': 8893, 'pavilion': 8894, 'ortiz': 8895, 'handful': 8896, 'naples': 8897, 'bubble': 8898, 'carlton': 8899, 'condom': 8900, 'alumnus': 8901, 'bal': 8902, 'longstanding': 8903, 'dissolve': 8904, 'mood': 8905, 'amarnath': 8906, 'mongolia': 8907, 'akshay': 8908, 'primarily': 8909, 'boca': 8910, 'ramsay': 8911, 'overshadowed': 8912, '220': 8913, 'excuse': 8914, 'unacceptable': 8915, 'interaction': 8916, 'trace': 8917, 'flint': 8918, 'labeouf': 8919, 'kitten': 8920, 'wandering': 8921, 'ancelotti': 8922, 'harding': 8923, 'disc': 8924, 'middletown': 8925, 'gadget': 8926, 'bloomington': 8927, 'coldplay': 8928, 'seacrest': 8929, 'bcci': 8930, 'kathy': 8931, 'paving': 8932, 'gerald': 8933, 'complain': 8934, 'gadkari': 8935, 'overtake': 8936, 'webster': 8937, 'disappearance': 8938, 'congestion': 8939, 'jain': 8940, 'gram': 8941, 'registry': 8942, 'clint': 8943, 'guaranteed': 8944, 'sr': 8945, 'realtime': 8946, 'romo': 8947, 'aboriginal': 8948, 'notch': 8949, 'tackling': 8950, 'float': 8951, 'goat': 8952, 'ajay': 8953, 'macedonian': 8954, 'closest': 8955, 'surgical': 8956, 'flip': 8957, 'dressing': 8958, 'trauma': 8959, 'qpr': 8960, 'colonel': 8961, 'opposing': 8962, 'mahama': 8963, 'fremont': 8964, 'horry': 8965, 'akhtar': 8966, 'pr': 8967, 'fergie': 8968, 'kandahar': 8969, 'hardy': 8970, 'settling': 8971, 'husky': 8972, 'blanket': 8973, '600000': 8974, 'inked': 8975, 'gymnastics': 8976, 'haitian': 8977, 'yanukovych': 8978, 'candlestick': 8979, 'mf': 8980, 'alexandria': 8981, 'rite': 8982, 'inflationary': 8983, 'paternity': 8984, 'nominates': 8985, 'respective': 8986, 'cornell': 8987, 'uniteds': 8988, 'tna': 8989, 'qureshi': 8990, 'lobbying': 8991, 'buyback': 8992, 'santander': 8993, 'paedophile': 8994, 'threemonth': 8995, 'loving': 8996, 'jeter': 8997, 'uconn': 8998, 'honey': 8999, 'underwater': 9000, 'bharat': 9001, 'deemed': 9002, 'sheep': 9003, 'solicitation': 9004, 'graeme': 9005, 'springbok': 9006, 'pandemic': 9007, 'organising': 9008, 'shoplifting': 9009, 'rita': 9010, 'tj': 9011, 'perspective': 9012, 'gloomy': 9013, 'snapping': 9014, 'indy': 9015, 'clearance': 9016, 'tall': 9017, 'deserves': 9018, 'everyday': 9019, 'woodland': 9020, 'aerial': 9021, 'react': 9022, 'sketch': 9023, 'marred': 9024, 'cv': 9025, 'echo': 9026, 'kathleen': 9027, 'mechanic': 9028, 'provisional': 9029, 'oh': 9030, 'employed': 9031, 'contention': 9032, '49yearold': 9033, 'steele': 9034, 'actual': 9035, 'forge': 9036, '200910': 9037, 'cnbc': 9038, 'rivalry': 9039, 'goodell': 9040, 'frustration': 9041, 'doc': 9042, 'duluth': 9043, 'gardner': 9044, 'trinidad': 9045, 'emmanuel': 9046, 'edwin': 9047, 'semester': 9048, 'representation': 9049, 'grandson': 9050, 'homemade': 9051, 'warden': 9052, '143': 9053, 'unveiling': 9054, 'sewage': 9055, 'busiest': 9056, 'foil': 9057, 'relegated': 9058, 'adjustment': 9059, 'looming': 9060, 'axis': 9061, 'sgt': 9062, 'peacekeeper': 9063, 'describe': 9064, 'marvin': 9065, 'motivated': 9066, 'breeder': 9067, 'complaining': 9068, 'bellevue': 9069, 'franc': 9070, 'cadbury': 9071, 'prospective': 9072, 'wee': 9073, 'tissue': 9074, 'annie': 9075, 'bud': 9076, 'trinity': 9077, 'hurting': 9078, 'hormone': 9079, 'westfield': 9080, 'quantity': 9081, 'luncheon': 9082, 'stephanie': 9083, 'staging': 9084, 'redistricting': 9085, 'cubic': 9086, 'chronicle': 9087, 'cialis': 9088, 'ultimately': 9089, 'farmington': 9090, 'calvin': 9091, 'landfill': 9092, 'pamela': 9093, 'bigg': 9094, 'sharad': 9095, 'thirdlargest': 9096, 'cocktail': 9097, 'mat': 9098, 'linkedin': 9099, 'bayer': 9100, 'herbert': 9101, 'bucharest': 9102, 'freak': 9103, 'booster': 9104, 'fidelity': 9105, 'inspiration': 9106, 'punter': 9107, 'santana': 9108, 'goalie': 9109, 'gurgaon': 9110, 'atop': 9111, 'livingston': 9112, 'immune': 9113, 'vacuum': 9114, 'noise': 9115, 'derry': 9116, 'rainy': 9117, 'algerian': 9118, 'rafa': 9119, 'perkins': 9120, '70th': 9121, 'mcqueen': 9122, 'luiz': 9123, '26th': 9124, 'engulfing': 9125, 'credible': 9126, 'bynes': 9127, 'reversed': 9128, 'resisting': 9129, 'directive': 9130, 'telugu': 9131, 'lampard': 9132, 'bhopal': 9133, 'dive': 9134, 'tent': 9135, 'authorized': 9136, 'ahmedabad': 9137, 'mistakenly': 9138, 'hobbit': 9139, 'evicted': 9140, 'affirms': 9141, 'inaugurates': 9142, 'predicting': 9143, 'ecosystem': 9144, 'televised': 9145, 'mentioned': 9146, 'jupiter': 9147, 'excess': 9148, 'pressured': 9149, 'societe': 9150, 'curve': 9151, 'qualcomm': 9152, 'mastectomy': 9153, 'chemotherapy': 9154, 'fallout': 9155, 'geo': 9156, 'mammoth': 9157, 'frustrated': 9158, 'threegame': 9159, 'engulfed': 9160, 'acer': 9161, 'sonoma': 9162, 'superhero': 9163, 'darfur': 9164, 'papua': 9165, 'threeyearold': 9166, 'sammy': 9167, 'refining': 9168, 'lenovo': 9169, 'premature': 9170, 'booth': 9171, 'electrocuted': 9172, 'strauss': 9173, 'downside': 9174, 'mladic': 9175, 'colo': 9176, 'minivan': 9177, 'newfoundland': 9178, 'tendon': 9179, 'obscene': 9180, '787': 9181, 'tore': 9182, 'jenner': 9183, 'prakash': 9184, 'ghanaian': 9185, '155': 9186, 'regulate': 9187, 'gunned': 9188, 'surprisingly': 9189, 'lunar': 9190, 'olympia': 9191, 'lingerie': 9192, 'leftist': 9193, 'planted': 9194, 'congresswoman': 9195, 'sally': 9196, 'ethernet': 9197, 'prasad': 9198, 'amd': 9199, 'tripura': 9200, 'nordstrom': 9201, 'booming': 9202, 'salmon': 9203, 'protective': 9204, 'instruction': 9205, 'impeachment': 9206, 'helmet': 9207, 'banquet': 9208, 'fixing': 9209, 'hop': 9210, 'lamar': 9211, 'mn': 9212, 'supplied': 9213, 'shaft': 9214, 'graf': 9215, 'ringgit': 9216, 'commando': 9217, 'boyd': 9218, 'catastrophe': 9219, 'bluray': 9220, 'unnecessary': 9221, 'sliding': 9222, 'seymour': 9223, '7500': 9224, 'exercised': 9225, 'onboard': 9226, 'anxiety': 9227, 'ecofriendly': 9228, 'aspen': 9229, 'zynga': 9230, 'identifying': 9231, 'accountant': 9232, 'bajaj': 9233, 'brittany': 9234, 'quincy': 9235, 'sidewalk': 9236, 'airstrike': 9237, 'scuffle': 9238, 'pardew': 9239, 'burmese': 9240, 'upholds': 9241, 'huawei': 9242, 'ransom': 9243, 'amend': 9244, 'ba': 9245, 'nina': 9246, 'brutally': 9247, 'luggage': 9248, 'anfield': 9249, 'huckabee': 9250, 'fountain': 9251, 'chen': 9252, 'microwave': 9253, 'surviving': 9254, 'informal': 9255, 'cd': 9256, 'loyalty': 9257, 'zayed': 9258, 'ark': 9259, 'widening': 9260, 'cake': 9261, 'hovered': 9262, 'craigslist': 9263, 'polio': 9264, 'brunei': 9265, 'hutchison': 9266, 'waited': 9267, 'belle': 9268, 'meaningful': 9269, 'nest': 9270, 'hulu': 9271, 'haul': 9272, 'sits': 9273, 'showroom': 9274, 'comply': 9275, 'broadly': 9276, 'practicing': 9277, 'apache': 9278, 'perjury': 9279, 'twelve': 9280, 'lasting': 9281, 'punish': 9282, 'ah1n1': 9283, 'modestly': 9284, 'powerball': 9285, 'jawan': 9286, 'breed': 9287, 'comprising': 9288, 'parcel': 9289, '42yearold': 9290, 'fellowship': 9291, 'watt': 9292, 'wta': 9293, 'ignoring': 9294, '3500': 9295, 'dot': 9296, 'oj': 9297, 'smartrends': 9298, 'encourages': 9299, 'soda': 9300, 'pork': 9301, 'needy': 9302, 'playbook': 9303, 'warfare': 9304, 'await': 9305, 'installs': 9306, 'robs': 9307, 'backlash': 9308, 'shakespeare': 9309, 'gupta': 9310, 'economically': 9311, 'contributor': 9312, 'blazer': 9313, 'nash': 9314, 'raptor': 9315, 'commonly': 9316, 'adopting': 9317, 'festive': 9318, 'turf': 9319, 'nv': 9320, 'reeling': 9321, 'blessing': 9322, 'barrack': 9323, '1980s': 9324, 'grim': 9325, 'structural': 9326, 'insurgency': 9327, 'angle': 9328, 'missionary': 9329, 'dunkin': 9330, 'orientation': 9331, 'warsaw': 9332, 'performanceenhancing': 9333, 'neighbourhood': 9334, 'igor': 9335, 'medic': 9336, 'transmitted': 9337, 'hollyoaks': 9338, 'influenced': 9339, 'confidential': 9340, 'expressing': 9341, 'branding': 9342, 'maxwell': 9343, '34yearold': 9344, 'diagnostic': 9345, 'kern': 9346, 'napa': 9347, 'estonia': 9348, 'ajax': 9349, 'scope': 9350, 'sculpture': 9351, 'imposing': 9352, 'wanting': 9353, 'expertise': 9354, 'hivaids': 9355, '2017': 9356, 'lenny': 9357, 'motorbike': 9358, 'generally': 9359, '1999': 9360, 'playground': 9361, 'enthusiast': 9362, 'walgreens': 9363, 'foiled': 9364, 'jackman': 9365, 'paramount': 9366, 'jk': 9367, 'reacted': 9368, 'flour': 9369, 'bmo': 9370, 'useful': 9371, 'usb': 9372, 'timberwolves': 9373, 'ebooks': 9374, 'proving': 9375, 'praying': 9376, '37yearold': 9377, 'marcos': 9378, 'surprising': 9379, 'answered': 9380, 'cody': 9381, 'dalton': 9382, 'mohali': 9383, 'backdrop': 9384, 'worship': 9385, 'shaken': 9386, 'varsity': 9387, 'antigay': 9388, 'northbound': 9389, 'aluminium': 9390, 'peshawar': 9391, 'karunanidhi': 9392, 'artistic': 9393, 'preschool': 9394, 'sundance': 9395, 'advancing': 9396, 'airstrikes': 9397, 'lynchburg': 9398, 'correct': 9399, '100m': 9400, 'fischer': 9401, 'shine': 9402, 'stockholm': 9403, 'vigil': 9404, 'arcade': 9405, 'transporter': 9406, 'waterfront': 9407, 'ansari': 9408, 'ankara': 9409, 'karen': 9410, 'exported': 9411, 'outlined': 9412, 'lowe': 9413, 'skiing': 9414, 'midway': 9415, 'spider': 9416, 'hoffman': 9417, 'kirsten': 9418, 'redmond': 9419, 'iberia': 9420, 'saleh': 9421, 'posco': 9422, '1997': 9423, 'onion': 9424, 'procurement': 9425, 'liberia': 9426, 'lonely': 9427, 'tow': 9428, 'mourning': 9429, 'clarence': 9430, 'bernardino': 9431, 'davidson': 9432, 'forget': 9433, 'petty': 9434, 'lara': 9435, 'sonny': 9436, 'stepfather': 9437, 'vaughn': 9438, 'dmk': 9439, 'newell': 9440, 'switching': 9441, 'resuming': 9442, 'africanamerican': 9443, 'clive': 9444, 'weisz': 9445, 'montenegro': 9446, 'macys': 9447, 'pinto': 9448, 'beaver': 9449, 'denny': 9450, 'onstage': 9451, 'brink': 9452, 'shakira': 9453, 'ravi': 9454, 'locally': 9455, 'outrage': 9456, 'sergei': 9457, 'counseling': 9458, 'gosling': 9459, 'patron': 9460, 'boating': 9461, 'xfactor': 9462, 'massage': 9463, 'avert': 9464, 'sims': 9465, 'financially': 9466, 'reign': 9467, 'patna': 9468, 'wakefield': 9469, 'hdfc': 9470, 'knifepoint': 9471, 'antique': 9472, 'asbestos': 9473, 'gcc': 9474, 'competent': 9475, 'serzh': 9476, 'claude': 9477, 'twomonth': 9478, 'fx': 9479, 'firstever': 9480, 'capsizes': 9481, 'pie': 9482, 'aer': 9483, 'goldberg': 9484, 'metlife': 9485, 'vat': 9486, 'mediation': 9487, 'concedes': 9488, 'vedanta': 9489, 'jairam': 9490, 'ugandan': 9491, 'jo': 9492, 'photography': 9493, 'mere': 9494, 'exemption': 9495, 'rey': 9496, 'snatch': 9497, 'deserved': 9498, 'generale': 9499, 'accurate': 9500, 'kat': 9501, 'ailment': 9502, 'leslie': 9503, 'welcoming': 9504, 'apologize': 9505, 'voiced': 9506, 'gibbs': 9507, 'irrigation': 9508, 'blatter': 9509, 'gabor': 9510, 'disclose': 9511, 'mercedesbenz': 9512, 'reviewed': 9513, 'shrinking': 9514, 'tryout': 9515, 'reply': 9516, 'argued': 9517, 'qualification': 9518, 'diverse': 9519, 'jordanian': 9520, '17000': 9521, 'shouldnt': 9522, 'syndicate': 9523, 'zoning': 9524, 'teamed': 9525, 'waziristan': 9526, 'smuggle': 9527, 'theyll': 9528, 'sheridan': 9529, 'caregiver': 9530, 'edgar': 9531, 'packet': 9532, 'rbc': 9533, 'mound': 9534, 'arthritis': 9535, 'locality': 9536, 'dirt': 9537, 'slate': 9538, 'frost': 9539, 'tenth': 9540, 'intentionally': 9541, 'pressed': 9542, 'bodyguard': 9543, 'reinstate': 9544, 'butter': 9545, 'thrasher': 9546, 'readiness': 9547, 'pueblo': 9548, 'knowles': 9549, 'nicholas': 9550, 'helena': 9551, 'skate': 9552, 'spinal': 9553, 'nordic': 9554, 'allahabad': 9555, 'guam': 9556, 'gibb': 9557, 'authorization': 9558, 'measured': 9559, 'archer': 9560, 'hawaiian': 9561, 'honest': 9562, 'easton': 9563, 'gervais': 9564, 'relocate': 9565, 'stricken': 9566, 'referring': 9567, 'berkshire': 9568, 'parenthood': 9569, 'plantation': 9570, 'thug': 9571, 'lethal': 9572, 'profession': 9573, '14000': 9574, 'klein': 9575, 'newcomer': 9576, 'cesar': 9577, 'hiatus': 9578, 'scramble': 9579, 'dee': 9580, 'guillen': 9581, 'lexus': 9582, 'learns': 9583, 'respected': 9584, 'digit': 9585, 'hasan': 9586, 'mastercard': 9587, 'flavor': 9588, 'vetoed': 9589, 'brick': 9590, 'trayvon': 9591, 'denounced': 9592, 'usled': 9593, 'ai': 9594, 'waterloo': 9595, 'impairment': 9596, 'carnegie': 9597, 'lockdown': 9598, 'softer': 9599, 'seasonally': 9600, 'bunker': 9601, 'revived': 9602, 'snooki': 9603, 'classical': 9604, 'ballistic': 9605, 'deepwater': 9606, 'powerhouse': 9607, 'rascal': 9608, 'spotify': 9609, 'najib': 9610, 'belongs': 9611, 'thrash': 9612, 'caldwell': 9613, 'footage': 9614, 'rhp': 9615, 'moses': 9616, 'optimization': 9617, 'granting': 9618, 'repaired': 9619, 'eni': 9620, 'hatch': 9621, 'delicious': 9622, 'ira': 9623, 'feedback': 9624, 'patriarch': 9625, 'assailant': 9626, 'sherman': 9627, 'lieberman': 9628, 'submits': 9629, 'spouse': 9630, 'finalised': 9631, 'glendale': 9632, 'dragging': 9633, 'monterey': 9634, 'tolerance': 9635, 'barney': 9636, 'madhya': 9637, 'symposium': 9638, 'bosnia': 9639, 'simulation': 9640, 'charitable': 9641, 'xerox': 9642, 'hectare': 9643, 'californian': 9644, 'greenwood': 9645, 'scot': 9646, 'hawkes': 9647, 'leo': 9648, 'elk': 9649, 'hajj': 9650, 'dissent': 9651, 'marriott': 9652, 'fond': 9653, 'peanut': 9654, 'weaken': 9655, 'surpasses': 9656, 'assemblyman': 9657, 'phenomenon': 9658, 'hears': 9659, 'eligibility': 9660, 'reluctant': 9661, 'bridgeport': 9662, 'smooth': 9663, 'taj': 9664, 'hayward': 9665, 'squeeze': 9666, 'fullyear': 9667, 'referral': 9668, 'joked': 9669, 'guided': 9670, 'suresh': 9671, 'poison': 9672, 'ict': 9673, 'chased': 9674, 'determination': 9675, 'festivity': 9676, 'confusion': 9677, 'brewery': 9678, 'launcher': 9679, 'accordance': 9680, 'pesticide': 9681, 'endorsing': 9682, 'extent': 9683, 'eads': 9684, 'majesty': 9685, '113': 9686, 'ce': 9687, 'effectiveness': 9688, 'regularly': 9689, 'exposing': 9690, 'harrisburg': 9691, 'laurel': 9692, 'fry': 9693, 'dioxide': 9694, 'battlefield': 9695, 'sebi': 9696, '117': 9697, 'achilles': 9698, 'tabloid': 9699, 'dire': 9700, 'visible': 9701, 'humane': 9702, 'roadway': 9703, 'geoff': 9704, 'diplomacy': 9705, 'casual': 9706, 'reggie': 9707, 'highend': 9708, 'ing': 9709, 'wore': 9710, 'uncomfortable': 9711, 'scratch': 9712, 'ramon': 9713, 'microsystems': 9714, 'aretha': 9715, 'connector': 9716, 'dome': 9717, 'limelight': 9718, 'fiveday': 9719, 'wished': 9720, 'crowded': 9721, 'intend': 9722, 'deteriorating': 9723, 'fortnight': 9724, 'shilpa': 9725, 'julianne': 9726, 'beshear': 9727, 'involuntary': 9728, 'butte': 9729, 'gauge': 9730, 'listening': 9731, 'cobra': 9732, '43yearold': 9733, 'resumption': 9734, 'kohl': 9735, 'gartner': 9736, 'monopoly': 9737, 'sufficient': 9738, 'hygiene': 9739, 'eduardo': 9740, 'transformed': 9741, 'diversify': 9742, 'palermo': 9743, 'frequently': 9744, 'edison': 9745, 'ignored': 9746, 'voip': 9747, 'hydro': 9748, 'agitation': 9749, 'mango': 9750, 'weighs': 9751, 'steelmaker': 9752, 'maori': 9753, 'mla': 9754, 'villarreal': 9755, 'curriculum': 9756, 'phrase': 9757, 'zombie': 9758, 'vaughan': 9759, 'oneida': 9760, 'irving': 9761, 'pressing': 9762, 'journalism': 9763, 'q1': 9764, 'saver': 9765, 'singaporean': 9766, 'broward': 9767, 'glastonbury': 9768, 'bursa': 9769, 'sunil': 9770, 'psychologist': 9771, 'anton': 9772, 'buckingham': 9773, 'derbyshire': 9774, 'sutherland': 9775, 'garfield': 9776, '201314': 9777, 'nanotechnology': 9778, 'standout': 9779, 'smell': 9780, 'taser': 9781, 'redesign': 9782, 'criticizes': 9783, 'postseason': 9784, 'sustain': 9785, 'comptroller': 9786, 'irs': 9787, 'hbos': 9788, 'bb': 9789, 'rajesh': 9790, 'turk': 9791, 'anymore': 9792, 'applegate': 9793, 'confiscated': 9794, 'persuade': 9795, 'commute': 9796, 'beneath': 9797, 'werent': 9798, 'twoyearold': 9799, 'holden': 9800, 'orchard': 9801, 'heartbeat': 9802, 'supremo': 9803, 'slumping': 9804, 'redding': 9805, 'piston': 9806, 'remembrance': 9807, 'morale': 9808, 'warwick': 9809, 'antidepressant': 9810, 'fukushima': 9811, 'smashing': 9812, 'tasmania': 9813, 'downey': 9814, 'punished': 9815, 'extortion': 9816, 'sinkhole': 9817, 'wes': 9818, 'tired': 9819, 'prescott': 9820, 'asleep': 9821, 'valve': 9822, 'ignore': 9823, 'rancho': 9824, 'lingus': 9825, 'goodwin': 9826, 'appropriation': 9827, 'dunk': 9828, 'elisabeth': 9829, 'pin': 9830, 'bridal': 9831, 'relaunches': 9832, 'pour': 9833, 'choreographer': 9834, 'underperform': 9835, 'interfax': 9836, 'obstacle': 9837, 'avatar': 9838, 'wagner': 9839, 'inviting': 9840, 'yearend': 9841, 'kalam': 9842, 'winstonsalem': 9843, 'nagar': 9844, 'vicious': 9845, 'badminton': 9846, 'preacher': 9847, '3yearold': 9848, 'vergara': 9849, 'lakshmi': 9850, 'barlow': 9851, 'conductor': 9852, 'healthier': 9853, 'sexiest': 9854, 'choked': 9855, 'cherokee': 9856, 'resolving': 9857, 'specializing': 9858, 'icahn': 9859, 'equipped': 9860, 'hefner': 9861, 'olivier': 9862, 'spaniard': 9863, 'ambani': 9864, 'nortel': 9865, 'axed': 9866, 'shave': 9867, 'milford': 9868, 'janeiro': 9869, 'decree': 9870, 'jungle': 9871, 'directorate': 9872, 'benefiting': 9873, 'incredibly': 9874, 'sahara': 9875, 'glamour': 9876, '1bn': 9877, 'autonomy': 9878, '830': 9879, '129': 9880, 'anybody': 9881, '930': 9882, 'siren': 9883, 'kathmandu': 9884, 'corbett': 9885, 'vineyard': 9886, 'enrique': 9887, 'extramarital': 9888, 'dion': 9889, 'kiev': 9890, 'glaxosmithkline': 9891, 'subprime': 9892, 'stafford': 9893, 'cocoa': 9894, 'whollyowned': 9895, 'elevator': 9896, 'harold': 9897, 'expel': 9898, 'woody': 9899, 'therapist': 9900, 'predecessor': 9901, 'pasadena': 9902, 'megastar': 9903, 'sarawak': 9904, 'feud': 9905, 'diagnosis': 9906, 'unlike': 9907, 'decker': 9908, 'recommend': 9909, 'mcguinty': 9910, 'alma': 9911, 'warne': 9912, 'homecoming': 9913, 'heist': 9914, 'rematch': 9915, 'nehru': 9916, 't20': 9917, 'dinosaur': 9918, 'secretariat': 9919, 'munster': 9920, 'devoted': 9921, 'toro': 9922, 'rout': 9923, 'stylish': 9924, 'interpol': 9925, 'painkiller': 9926, 'annan': 9927, 'manhunt': 9928, 'jamestown': 9929, 'selector': 9930, 'unofficial': 9931, 'belleville': 9932, 'roshan': 9933, 'holloway': 9934, 'emanuel': 9935, '29th': 9936, 'wholesaler': 9937, 'asheville': 9938, 'captivity': 9939, 'hated': 9940, 'woolworth': 9941, 'ernst': 9942, 'scifi': 9943, 'loop': 9944, 'giro': 9945, 'vp': 9946, 'applies': 9947, 'simplify': 9948, 'displayed': 9949, 'hopper': 9950, 'amr': 9951, 'ar': 9952, '800000': 9953, 'wrongdoing': 9954, 'experiment': 9955, 'converted': 9956, 'puma': 9957, 'perfume': 9958, 'limbaugh': 9959, 'hitter': 9960, '430': 9961, 'espionage': 9962, 'measurement': 9963, 'revolving': 9964, 'rex': 9965, 'sophie': 9966, 'dekalb': 9967, 'cit': 9968, 'sings': 9969, 'cautiously': 9970, 'olympian': 9971, 'nypd': 9972, 'wrongly': 9973, 'divide': 9974, 'beth': 9975, 'sania': 9976, 'branson': 9977, 'farooq': 9978, 'refusal': 9979, 'menace': 9980, '55yearold': 9981, 'mia': 9982, 'syndicated': 9983, 'lavrov': 9984, 'feat': 9985, 'cebu': 9986, 'telefonica': 9987, 'wiz': 9988, 'kroger': 9989, 'sai': 9990, 'guinness': 9991, 'vanderbilt': 9992, 'naacp': 9993, 'tacoma': 9994, 'renaissance': 9995, 'innovator': 9996, 'shade': 9997, 'pare': 9998, 'daddy': 9999}\n"
     ]
    }
   ],
   "source": [
    "vocab_size = 10_000\n",
    "vocab = vocab_counter.most_common(vocab_size)\n",
    "token_to_id = {word: i for i, (word, _) in enumerate(vocab)}\n",
    "print(token_to_id)"
   ]
  },
  {
   "cell_type": "markdown",
   "metadata": {
    "collapsed": false,
    "pycharm": {
     "name": "#%% md\n"
    }
   },
   "source": [
    "<a name='e4'></a>\n",
    "### Exercise 4: Bag of Words\n",
    "(1p) Here we will create the bag-of-words representation of the sentences. The function will take a single sentence (list of tokens) and return an array of size `vocab_size` with the counts of each word in the vocabulary. The\n",
    "`vocab_size` is calculated as the length of the passed `token_to_id` dictionary. The resulting array should have zeros everywhere but the indices corresponding to the words in the vocabulary where it should have the counts of the words in the sentence. For example, if the sentence is `['fox', 'and', 'deer']` and the vocabulary is `{'fox': 0, 'and': 1, 'deer': 2}`, the resulting array should be `[1, 1, 1]`. If the sentence is `['fox', 'and', 'fox', 'deer']`, the resulting array should be `[2, 1, 1]`."
   ]
  },
  {
   "cell_type": "code",
   "execution_count": null,
   "metadata": {
    "collapsed": false,
    "pycharm": {
     "name": "#%%\n"
    }
   },
   "outputs": [],
   "source": [
    "def bag_of_words(sentence, token_to_id):\n",
    "    \"\"\"\n",
    "    Creates a bag-of-words representation of the sentence\n",
    "    Args:\n",
    "        sentence: a list of tokens\n",
    "        token_to_id: a dictionary mapping each word to an index in the vocabulary\n",
    "\n",
    "    Returns:: a numpy array of size vocab_size with the counts of each word in the vocabulary\n",
    "\n",
    "    \"\"\"\n",
    "    vocab_size = len(token_to_id)\n",
    "    bow = np.zeros(vocab_size, dtype=int)\n",
    "\n",
    "    ### YOUR CODE HERE\n",
    "\n",
    "    for n in sentence:\n",
    "        if n in token_to_id.keys():\n",
    "            id = token_to_id[n]\n",
    "            bow[id]+=1\n",
    "\n",
    "\n",
    "\n",
    "    ### YOUR CODE ENDS HERE\n",
    "\n",
    "    return bow"
   ]
  },
  {
   "cell_type": "markdown",
   "metadata": {
    "collapsed": false,
    "pycharm": {
     "name": "#%% md\n"
    }
   },
   "source": [
    "Let's see how the function works on a single sentence. The output should be a numpy array of size `vocab_size` with the counts of each word in the vocabulary."
   ]
  },
  {
   "cell_type": "code",
   "execution_count": 78,
   "metadata": {
    "collapsed": false,
    "pycharm": {
     "name": "#%%\n"
    }
   },
   "outputs": [
    {
     "name": "stdout",
     "output_type": "stream",
     "text": [
      "Tokenized sentence:\n",
      "['south', 'african', 'bowling', 'sensation', 'vernon', 'philander', 'injured', 'his', 'knee', 'at', 'net', 'practice', 'on', 'saturday', 'morning', 'but', 'should', 'still', 'be', 'fit', 'to', 'play', 'in', 'the', 'second', 'test', 'against', 'sri', 'lanka', 'which', 'start', 'on', 'monday']\n",
      "Bag of words:\n",
      "[1 0 1 ... 0 0 0]\n",
      "Type of bag of words:\n",
      "<class 'numpy.ndarray'>\n",
      "Shape of bag of words:\n",
      "(10000,)\n",
      "Non-zero elements in bag of words:\n",
      "[   0    2    3    6   12   20   23   47   50   67   75   87  105  109\n",
      "  116  197  236  238  299  310  317  743  807  832 1080 1249 1602 2608\n",
      " 4670 4892 6737]\n"
     ]
    }
   ],
   "source": [
    "print('Tokenized sentence:')\n",
    "print(tokenized_sentences[0])\n",
    "sentence_bow = bag_of_words(tokenized_sentences[0], token_to_id)\n",
    "\n",
    "print('Bag of words:')\n",
    "print(sentence_bow)\n",
    "print('Type of bag of words:')\n",
    "print(type(sentence_bow))\n",
    "print('Shape of bag of words:')\n",
    "print(sentence_bow.shape)\n",
    "print('Non-zero elements in bag of words:')\n",
    "print(np.nonzero(sentence_bow)[0])"
   ]
  },
  {
   "cell_type": "markdown",
   "metadata": {
    "collapsed": false,
    "pycharm": {
     "name": "#%% md\n"
    }
   },
   "source": [
    "We can also check in detail what words and their counts are in the bag-of-words representation."
   ]
  },
  {
   "cell_type": "code",
   "execution_count": 79,
   "metadata": {
    "collapsed": false,
    "pycharm": {
     "name": "#%%\n"
    }
   },
   "outputs": [
    {
     "name": "stdout",
     "output_type": "stream",
     "text": [
      "Non-zero elements in bag of words:\n",
      "[   0    2    3    6   12   20   23   47   50   67   75   87  105  109\n",
      "  116  197  236  238  299  310  317  743  807  832 1080 1249 1602 2608\n",
      " 4670 4892 6737]\n",
      "the : 1\n",
      "to : 1\n",
      "in : 1\n",
      "on : 2\n",
      "at : 1\n",
      "his : 1\n",
      "be : 1\n",
      "monday : 1\n",
      "against : 1\n",
      "which : 1\n",
      "saturday : 1\n",
      "but : 1\n",
      "south : 1\n",
      "morning : 1\n",
      "second : 1\n",
      "play : 1\n",
      "start : 1\n",
      "should : 1\n",
      "injured : 1\n",
      "still : 1\n",
      "test : 1\n",
      "practice : 1\n",
      "african : 1\n",
      "sri : 1\n",
      "net : 1\n",
      "lanka : 1\n",
      "knee : 1\n",
      "fit : 1\n",
      "sensation : 1\n",
      "bowling : 1\n",
      "vernon : 1\n"
     ]
    }
   ],
   "source": [
    "sentence_non_zero_bow = np.nonzero(sentence_bow)[0]\n",
    "print('Non-zero elements in bag of words:')\n",
    "print(sentence_non_zero_bow)\n",
    "for i in sentence_non_zero_bow:\n",
    "    print(vocab[i][0], ':', sentence_bow[i])"
   ]
  },
  {
   "cell_type": "markdown",
   "metadata": {
    "collapsed": false,
    "pycharm": {
     "name": "#%% md\n"
    }
   },
   "source": [
    "The following function will apply all the steps we implemented to a single sentence. It returns a bag of words representation that we will use to calculate the similarity between different sentences."
   ]
  },
  {
   "cell_type": "code",
   "execution_count": 80,
   "metadata": {
    "collapsed": false,
    "pycharm": {
     "name": "#%%\n"
    }
   },
   "outputs": [],
   "source": [
    "def embed_text(text, clean_fn, tokenize_fn, embed_fn):\n",
    "    cleaned = clean_fn(text)\n",
    "    tokens = tokenize_fn(cleaned)\n",
    "    embedding = embed_fn(tokens)\n",
    "    return embedding"
   ]
  },
  {
   "cell_type": "markdown",
   "metadata": {
    "collapsed": false,
    "pycharm": {
     "name": "#%% md\n"
    }
   },
   "source": [
    "<a name='e5'></a>\n",
    "### Exercise 5: Cosine Similarity between two vectors\n",
    "\n",
    "(1p) Complete the following function that given any two vectors will compute the cosine similarity. If you don't remember the formula for the cosine similarity, revisit the course material. Notice that the function receives numpy arrays and recall that you can express cosine similarity as a dot product. Use numpy functions to write an efficient implementation."
   ]
  },
  {
   "cell_type": "code",
   "execution_count": 86,
   "metadata": {
    "collapsed": false,
    "pycharm": {
     "name": "#%%\n"
    }
   },
   "outputs": [],
   "source": [
    "def cosine_similarity(vector1, vector2):\n",
    "    \"\"\"\n",
    "    Computes the cosine similarity between two vectors\n",
    "    Args:\n",
    "        vector1: numpy array of the first vector\n",
    "        vector2: numpy array of the second vector\n",
    "\n",
    "    Returns: cosine similarity\n",
    "\n",
    "    \"\"\"\n",
    "    ### YOUR CODE HERE\n",
    "    norm_1 = np.linalg.norm(vector1)\n",
    "    normalized_vec_1 = vector1/norm_1\n",
    "\n",
    "    norm_2 = np.linalg.norm(vector2)\n",
    "    normalized_vec_2 = vector2/norm_2\n",
    "\n",
    "    similarity = np.dot(normalized_vec_1, normalized_vec_2)\n",
    "\n",
    "    return similarity\n",
    "    ### YOUR CODE ENDS HERE"
   ]
  },
  {
   "cell_type": "code",
   "execution_count": 87,
   "metadata": {
    "collapsed": false,
    "pycharm": {
     "name": "#%%\n"
    }
   },
   "outputs": [
    {
     "data": {
      "text/plain": [
       "0.9999999999999999"
      ]
     },
     "execution_count": 87,
     "metadata": {},
     "output_type": "execute_result"
    }
   ],
   "source": [
    "cosine_similarity(np.array([0, 1, 2]), np.array([0, 2, 4]))"
   ]
  },
  {
   "cell_type": "code",
   "execution_count": 88,
   "metadata": {
    "collapsed": false,
    "pycharm": {
     "name": "#%%\n"
    }
   },
   "outputs": [
    {
     "name": "stdout",
     "output_type": "stream",
     "text": [
      "Query: fox and deer\n",
      "Cosine Similarity: 0.1826 - Sentence: The quick brown fox jumps over the lazy dog.\n",
      "Cosine Similarity: 0.0000 - Sentence: Some interesting document containin sentences.\n",
      "Cosine Similarity: 0.3086 - Sentence: The quick brown fox jumps over the lazy cat and some other stuff.\n",
      "Cosine Similarity: 0.7071 - Sentence: Fox and deer are not friends.\n",
      "Cosine Similarity: 0.3849 - Sentence: Fox and deer are not friends. But this document is a lot longer than the previous one. We can add sentence by sentence and see how the embeddings change.\n"
     ]
    }
   ],
   "source": [
    "sentences = [\n",
    "    'The quick brown fox jumps over the lazy dog.',\n",
    "    'Some interesting document containin sentences.',\n",
    "    'The quick brown fox jumps over the lazy cat and some other stuff.',\n",
    "    'Fox and deer are not friends.',\n",
    "    'Fox and deer are not friends. But this document is a lot longer than the previous one. We can add sentence by sentence and see how the embeddings change.',\n",
    "]\n",
    "embedded_sentences = [\n",
    "    embed_text(sentence, clean, tokenize, lambda x: bag_of_words(x, token_to_id))\n",
    "    for sentence in sentences\n",
    "]\n",
    "\n",
    "query = 'fox and deer'\n",
    "embedded_query = embed_text(query, clean, tokenize, lambda x: bag_of_words(x, token_to_id))\n",
    "\n",
    "cosine_similarities = [\n",
    "    cosine_similarity(embedded_query, embedded_sentence)\n",
    "    for embedded_sentence in embedded_sentences\n",
    "]\n",
    "print(f'Query: {query}')\n",
    "for sent, cos_sim in zip(sentences, cosine_similarities):\n",
    "    print(f'Cosine Similarity: {cos_sim:.4f} - Sentence: {sent}')"
   ]
  },
  {
   "cell_type": "markdown",
   "metadata": {
    "collapsed": false,
    "pycharm": {
     "name": "#%% md\n"
    }
   },
   "source": [
    "We will apply the function to the whole dataset. This might take a while, so be patient. The result will be stored in the `sentence_bow` and `compressed_bow` fields of the dataset."
   ]
  },
  {
   "cell_type": "code",
   "execution_count": 89,
   "metadata": {
    "collapsed": false,
    "pycharm": {
     "name": "#%%\n"
    }
   },
   "outputs": [],
   "source": [
    "def bag_of_words_dataset(example):\n",
    "    \"\"\"\n",
    "    Creates a bag-of-words representation of the sentence and compressed sentence in the example from the Dataset\n",
    "    Args:\n",
    "        example: an example from the Dataset\n",
    "\n",
    "    Returns: updated example with 'sentence_bow' and 'compressed_bow' columns\n",
    "\n",
    "    \"\"\"\n",
    "    sentence_tokens = example['sentence_tokens']\n",
    "    compressed_tokens = example['compressed_tokens']\n",
    "\n",
    "    sentence_bow = bag_of_words(sentence_tokens, token_to_id)\n",
    "    compressed_bow = bag_of_words(compressed_tokens, token_to_id)\n",
    "\n",
    "    example['sentence_bow'] = sentence_bow\n",
    "    example['compressed_bow'] = compressed_bow\n",
    "    return example"
   ]
  },
  {
   "cell_type": "markdown",
   "metadata": {
    "collapsed": false,
    "pycharm": {
     "name": "#%% md\n"
    }
   },
   "source": [
    "The following cell will apply the function to the whole dataset. The result will be stored in the `sentence_bow` and `compressed_bow` fields of the dataset. We will also convert the dataset's fields `sentence_bow` and `compressed_bow` to numpy format for easier manipulation."
   ]
  },
  {
   "cell_type": "code",
   "execution_count": 90,
   "metadata": {
    "collapsed": false,
    "pycharm": {
     "name": "#%%\n"
    }
   },
   "outputs": [
    {
     "data": {
      "application/vnd.jupyter.widget-view+json": {
       "model_id": "aac9d92e23224c22bb49fd9b157a6b3c",
       "version_major": 2,
       "version_minor": 0
      },
      "text/plain": [
       "Map:   0%|          | 0/36000 [00:00<?, ? examples/s]"
      ]
     },
     "metadata": {},
     "output_type": "display_data"
    },
    {
     "name": "stdout",
     "output_type": "stream",
     "text": [
      "Dataset({\n",
      "    features: ['set', 'clean_sentence', 'clean_compressed', 'sentence_tokens', 'compressed_tokens', 'sentence_bow', 'compressed_bow'],\n",
      "    num_rows: 36000\n",
      "})\n"
     ]
    }
   ],
   "source": [
    "test_ds = split_ds['test'].map(bag_of_words_dataset)\n",
    "test_ds = test_ds.with_format('np', columns=['sentence_bow', 'compressed_bow'], dtype=float)\n",
    "print(test_ds)"
   ]
  },
  {
   "cell_type": "markdown",
   "metadata": {
    "collapsed": false,
    "pycharm": {
     "name": "#%% md\n"
    }
   },
   "source": [
    "Let's check the results. The `sentence_bow` and `compressed_bow` fields should contain the bag-of-words representation of the sentences and compressed sentences, respectively."
   ]
  },
  {
   "cell_type": "code",
   "execution_count": 91,
   "metadata": {
    "collapsed": false,
    "pycharm": {
     "name": "#%%\n"
    }
   },
   "outputs": [
    {
     "name": "stdout",
     "output_type": "stream",
     "text": [
      "{'sentence_bow': array([0., 1., 0., ..., 0., 0., 0.]), 'compressed_bow': array([0., 0., 0., ..., 0., 0., 0.])}\n"
     ]
    }
   ],
   "source": [
    "print(test_ds[0])"
   ]
  },
  {
   "cell_type": "code",
   "execution_count": 92,
   "metadata": {
    "collapsed": false,
    "pycharm": {
     "name": "#%%\n"
    }
   },
   "outputs": [
    {
     "name": "stdout",
     "output_type": "stream",
     "text": [
      "(36000, 10000)\n"
     ]
    }
   ],
   "source": [
    "sentences_bows = test_ds['sentence_bow']\n",
    "print(sentences_bows.shape)"
   ]
  },
  {
   "cell_type": "markdown",
   "metadata": {
    "collapsed": false,
    "pycharm": {
     "name": "#%% md\n"
    }
   },
   "source": [
    "Now we can start building a retriever based on the bag of words representation. The first step is to calculate the cosine similarity between two vectors."
   ]
  },
  {
   "cell_type": "markdown",
   "metadata": {
    "collapsed": false,
    "pycharm": {
     "name": "#%% md\n"
    }
   },
   "source": [
    "<a name='e6'></a>\n",
    "### Exercise 6: Cosine Similarity between a vector and an array of vectors\n",
    "\n",
    "(2p) The next step in our retrieval system, would be to calculate the proximity of a query to our retrieval corpus (in our case that is all the sentences).\n",
    "\n",
    "Complete the following function to calculate the cosine similarity between a vector (first parameter `vector`, that will usually be the query vector) and all other vectors (second parameter `other_vectors`, that will be the sentence embeddings in our case). Note that the `other_vectors` parameter is a single numpy array of size `N x D`, where $N$ is the number of vectors and $D$ is the dimension of each vector.\n",
    "\n",
    "For maximum efficiency (we will need it) do not use loops. Try to write the implementation with numpy functions. Hint: matrix multiplication can be seen as calculating the dot product between rows and columns of the multiplied matrices."
   ]
  },
  {
   "cell_type": "code",
   "execution_count": null,
   "metadata": {
    "id": "LgaV2b3fpSOR",
    "pycharm": {
     "name": "#%%\n"
    }
   },
   "outputs": [],
   "source": [
    "def cosine_similarity_1_to_n(vector, other_vectors):\n",
    "    \"\"\"\n",
    "    Calculates the cosine similarity between a single vector and other vectors.\n",
    "    Args:\n",
    "        vector: a numpy array representing a vector of D dimensions\n",
    "        other_vectors: a 2D numpy array representing other vectors (of the size NxD, where N is the number of vectors and D is their dimension)\n",
    "\n",
    "    Returns: a 1D numpy array of size N containing the cosine similarity between the vector and all the other vectors\n",
    "\n",
    "    \"\"\"\n",
    "\n",
    "    #### YOUR CODE HERE\n",
    "    dot_product = np.dot(other_vectors, vector) # 1xN vector\n",
    "    norms_others = np.linalg.norm(other_vectors, axis=1)\n",
    "    norm_vector = np.linalg.norm(vector)\n",
    "\n",
    "    similarities_vector = dot_product/(norm_vector*norms_others)\n",
    "\n",
    "    return similarities_vector\n",
    "\n",
    "    ### YOUR CODE ENDS HERE"
   ]
  },
  {
   "cell_type": "markdown",
   "metadata": {
    "collapsed": false,
    "id": "irNqAJZLpSOR",
    "pycharm": {
     "name": "#%% md\n"
    }
   },
   "source": [
    "We will use the function to calculate the similarity of all sentences in the dataset to our query."
   ]
  },
  {
   "cell_type": "code",
   "execution_count": 97,
   "metadata": {
    "collapsed": false,
    "pycharm": {
     "name": "#%%\n"
    }
   },
   "outputs": [],
   "source": [
    "query = 'fox and deer'\n",
    "embedded_query = embed_text(query, clean, tokenize, lambda x: bag_of_words(x, token_to_id))\n"
   ]
  },
  {
   "cell_type": "code",
   "execution_count": 103,
   "metadata": {
    "id": "uD9mVAhYpSOR",
    "pycharm": {
     "name": "#%%\n"
    }
   },
   "outputs": [
    {
     "name": "stdout",
     "output_type": "stream",
     "text": [
      "(36000,)\n",
      "[0.         0.         0.         0.         0.         0.\n",
      " 0.22645541 0.25197632 0.11846978 0.        ]\n"
     ]
    }
   ],
   "source": [
    "query_similarity = cosine_similarity_1_to_n(embedded_query, sentences_bows)\n",
    "print(query_similarity.shape)\n",
    "print(query_similarity[:10])"
   ]
  },
  {
   "cell_type": "markdown",
   "metadata": {
    "collapsed": false,
    "id": "_l3erVTNpSOR",
    "pycharm": {
     "name": "#%% md\n"
    }
   },
   "source": [
    "The following cell will select the most similar sentence."
   ]
  },
  {
   "cell_type": "code",
   "execution_count": 108,
   "metadata": {
    "id": "0wWa4AWHpSOR",
    "pycharm": {
     "name": "#%%\n"
    }
   },
   "outputs": [
    {
     "name": "stdout",
     "output_type": "stream",
     "text": [
      "30068\n",
      "0.4082482904638631\n",
      "CW INDUSTRIES High density rectangular connector with enhanced retention and solderability, meets the requirements of MIL-DTL-28804 and NAVSEA 3164341 and 3164342 specifications.\n"
     ]
    }
   ],
   "source": [
    "most_similar = int(np.argmax(query_similarity))\n",
    "print(most_similar)\n",
    "print(query_similarity[most_similar])\n",
    "print(split_ds['test'][most_similar]['set'][0])\n"
   ]
  },
  {
   "cell_type": "markdown",
   "metadata": {
    "collapsed": false,
    "id": "fpdJHFD1pSOR",
    "pycharm": {
     "name": "#%% md\n"
    }
   },
   "source": [
    "The following function will return the indices of the top-k elements in the array."
   ]
  },
  {
   "cell_type": "code",
   "execution_count": 109,
   "metadata": {
    "id": "QFUNI9elpSOS",
    "pycharm": {
     "name": "#%%\n"
    }
   },
   "outputs": [],
   "source": [
    "def top_k_indices(array, k, sorted=True):\n",
    "    \"\"\"\n",
    "    Returns top-k indices from the 1D array. If `sorted` is `True` the returned indices are sorted in the descending order\n",
    "    Args:\n",
    "        array: a 1D numpy array\n",
    "        k: a number of top indices to return\n",
    "        sorted: if True, the returned indices are sorted in descending order\n",
    "\n",
    "    Returns: a 1D array containing top-k indices\n",
    "\n",
    "    \"\"\"\n",
    "    top_k = np.argpartition(array, -k)[-k:]\n",
    "    if sorted:\n",
    "        selected = array[top_k]\n",
    "        sorted_selected = (-selected).argsort()\n",
    "        top_k = top_k[sorted_selected]\n",
    "    return top_k"
   ]
  },
  {
   "cell_type": "code",
   "execution_count": 110,
   "metadata": {
    "id": "nY8vvJdepSOS",
    "pycharm": {
     "name": "#%%\n"
    }
   },
   "outputs": [
    {
     "name": "stdout",
     "output_type": "stream",
     "text": [
      "CW INDUSTRIES High density rectangular connector with enhanced retention and solderability, meets the requirements of MIL-DTL-28804 and NAVSEA 3164341 and 3164342 specifications.\n",
      "similarity: 0.4082482904638631\n",
      "The Guideline specifies that private capital is attracted and encouraged to enter such fields of science, technology and industry for national defense as scientific research and production of weaponry and equipment, investment and construction of science, technology and industry for national defense, restructuring and reorganization of military industrial enterprises and development of military-civilian dual-use technologies.\n",
      "similarity: 0.38624363966821407\n",
      "PTC Alliance, a leading manufacturer and marketer of welded and cold drawn mechanical steel tubing and tubular shapes, fabricated parts, precision components and chrome-plated rod, announced today that employees at its facilities in Alliance, Ohio and Darlington, Pennsylvania have ratified new collective bargaining agreements.\n",
      "similarity: 0.38235955645093633\n",
      "Menu Boards provides a wide range of products and services which includes menu design services, content and artwork layout, three dimensional artwork, handcrafted timber work, chalk and permanent art design and drawings, murals and menu boards.\n",
      "similarity: 0.36961063547728645\n",
      "Terrebonne and Lafourche School Board offices and public schools will be closed Monday and reopen Tuesday.\n",
      "similarity: 0.3692744729379982\n",
      "Compugen Ltd. today announced that it has retained Porter Novelli Life Sciences to design and execute an investor and public relations campaign to achieve greater recognition of Compugen's accelerating commercial progress and broadly applicable drug and diagnostic discovery capabilities in the US financial and media communities.\n",
      "similarity: 0.36661778755338326\n",
      "* From 8-10 pm ET, ``Dateline NBC'' ranked #1 in the slot among ABC, CBS, NBC and Fox in total viewers and #2 in adults 18-49 and adults 25-54.\n",
      "similarity: 0.3651483716701107\n",
      "``The Indian market is expected to open gap down following panic selling across US and Asian markets. The Sensex has supports at 16,630 and 16,210 and resistances at 17,080 and 17,230. The Nifty has supports at 4,950 and 4,930 and resistances at 5,100 and 5,140,`` said stock broker ICICI Securities while commenting on the market outlook.\n",
      "similarity: 0.3614784456460256\n",
      "``People assume that you can go out to Brussels and just start thumping the table and shout and roar and that people are going to respond to you. Europe is about patience and timing,'' he says.\n",
      "similarity: 0.36084391824351614\n",
      "MetroPCS, the flat-rate, no-contract wireless service, has expanded coverage into Gainesville and Ocala and expects to create about 50 jobs through 20 authorized service and phone dealers and a corporate store.\n",
      "similarity: 0.360667853866973\n"
     ]
    }
   ],
   "source": [
    "top_indices = top_k_indices(query_similarity, k=10).tolist()\n",
    "for idx in top_indices:\n",
    "    print(split_ds['test'][idx]['set'][0])\n",
    "    print(f'similarity: {query_similarity[idx]}')"
   ]
  },
  {
   "cell_type": "markdown",
   "metadata": {
    "collapsed": false,
    "id": "BuRI2JzQpSOS",
    "pycharm": {
     "name": "#%% md\n"
    }
   },
   "source": [
    "<a name='e7'></a>\n",
    "### Exercise 7: Analyzing and improving BOW search results\n",
    "\n",
    "Experiment with different queries (taking into account the nature of the dataset and your insights from the analysis so far).\n",
    "Answer the following questions:\n",
    "- (5p) Does the search perform well? When does it fail? Discuss several examples that are we get an expected but also unexpected results (find at least 3 from each category). Provide reasons for the good/bad result in each case (e.g. is there some error in the data, is there some linguistic phenomenon that we don't capture, is something wrong with our modeling with average embeddings, ...)\n",
    "- (5p) If you see problems with search, how could you improve your implementation? Change the functions above, if you think there is room for improvement. Describe your changes and how they made the search better or (in case you made no changes) explain what made the search robust enough to work well."
   ]
  },
  {
   "cell_type": "code",
   "execution_count": null,
   "metadata": {
    "id": "sEQKHAvcpSOS",
    "pycharm": {
     "name": "#%%\n"
    }
   },
   "outputs": [],
   "source": [
    "#### YOUR CODE HERE\n",
    "\n",
    "\n",
    "\n",
    "### YOUR CODE ENDS HERE"
   ]
  },
  {
   "cell_type": "markdown",
   "metadata": {
    "id": "eiIGTfq6eFI5",
    "pycharm": {
     "name": "#%% md\n"
    }
   },
   "source": [
    "// your comments"
   ]
  },
  {
   "cell_type": "markdown",
   "metadata": {
    "collapsed": false,
    "pycharm": {
     "name": "#%% md\n"
    }
   },
   "source": [
    "## 3. Term Frequency - Inverse Document Frequency (TF-IDF)\n",
    "\n",
    "In this section we will implement the TF-IDF algorithm. While BOW is a simple way to represent the documents, it has some limitations. For example, it does not take into account the importance of each word in the document. TF-IDF representation takes into account the frequency of each word in the document and the frequency of the word in the whole dataset. It is a widely used technique in information retrieval and text mining. Refer to the lecture slides for more details."
   ]
  },
  {
   "cell_type": "markdown",
   "metadata": {
    "collapsed": false,
    "pycharm": {
     "name": "#%% md\n"
    }
   },
   "source": [
    "<a name='e8'></a>\n",
    "### Exercise 8: Inverse Document Frequency (IDF)\n",
    "(5p) In this exercise, you will implement the TF-IDF algorithm. First, calculate Inverse Document Frequency (IDF) for each word in the vocabulary. Intuitively, it is a measure of how informative a word is based on the whole dataset. Consult the lecture slides for the details. The IDF is calculated as follows:\n",
    "$$\n",
    "IDF(t) = log_{10}(N/df(t))$$\n",
    "where $N$ is the total number of documents (sentences) in the dataset and $df(t)$ is the number of documents containing the word $t$.\n"
   ]
  },
  {
   "cell_type": "code",
   "execution_count": 113,
   "metadata": {
    "collapsed": false,
    "pycharm": {
     "name": "#%%\n"
    }
   },
   "outputs": [
    {
     "data": {
      "text/plain": [
       "array([0.17032107, 0.23350453, 0.32475646, ..., 3.8573325 , 4.5563025 ,\n",
       "       4.25527251])"
      ]
     },
     "execution_count": 113,
     "metadata": {},
     "output_type": "execute_result"
    }
   ],
   "source": [
    "def calculate_idf(bows):\n",
    "    \"\"\"\n",
    "    Calculates the IDF for each word in the vocabulary\n",
    "    Args:\n",
    "        bows: numpty array of size (N x D) where N is the number of documents and D is the vocabulary size\n",
    "\n",
    "    Returns: a numpy array of size D with IDF values for each token\n",
    "    \"\"\"\n",
    "\n",
    "    ### YOUR CODE HERE\n",
    "\n",
    "    size = bows.shape\n",
    "\n",
    "    df = np.count_nonzero(bows > 0, axis=0)+1\n",
    "    idfs = np.log10(size[0]/df)\n",
    "\n",
    "\n",
    "    return idfs\n",
    "    ### YOUR CODE ENDS HERE\n",
    "\n",
    "idf = calculate_idf(sentences_bows)\n",
    "idf"
   ]
  },
  {
   "cell_type": "markdown",
   "metadata": {
    "collapsed": false,
    "pycharm": {
     "name": "#%% md\n"
    }
   },
   "source": [
    "<a name='e9'></a>\n",
    "### Exercise 9: TF-IDF\n",
    "- (5p) Calculate TF-IDF on the `test` subset of the dataset.\n",
    "- (5p) Analyze the search results based on your implemented TF-IDF. Does the search perform well? When does it fail? Discuss several examples that are we get an expected but also unexpected results (find at least 3 from each category). Provide reasons for the good/bad result in each case (e.g. is there some error in the data, is there some linguistic phenomenon that we don't capture, is something wrong with our modeling with average embeddings, ...)\n",
    "- (5p) Compare the results with the ones you got with the bag-of-words representation. Discuss the differences and similarities. Do you think TF-IDF is a better representation for this task? Why or why not? Provide examples to support your arguments.\n"
   ]
  },
  {
   "cell_type": "code",
   "execution_count": null,
   "metadata": {
    "collapsed": false,
    "pycharm": {
     "name": "#%%\n"
    }
   },
   "outputs": [],
   "source": [
    "### YOUR CODE HERE\n",
    "\n",
    "\n",
    "\n",
    "\n",
    "### YOUR CODE ENDS HERE\n",
    "\n",
    "### YOU CAN ADD MORE CELLS"
   ]
  },
  {
   "cell_type": "markdown",
   "metadata": {
    "collapsed": false,
    "pycharm": {
     "name": "#%% md\n"
    }
   },
   "source": [
    "// your comments"
   ]
  },
  {
   "cell_type": "markdown",
   "metadata": {
    "collapsed": false,
    "pycharm": {
     "name": "#%% md\n"
    }
   },
   "source": [
    "## 4. Word Embeddings\n",
    "\n",
    "In this section you will load the pre-trained word embeddings model - Glove. You can read more about it [here](https://aclanthology.org/D14-1162/) ([https://aclanthology.org/D14-1162/](https://aclanthology.org/D14-1162/)). The embeddings are trained on a large corpus of text and are available in different dimensions. We will start with the dimension of 100, but later you will be asked to experiment with other dimensions.\n",
    "Gensim library maintains a storage containing some pre-trained models. You can read more about it [here](https://github.com/piskvorky/gensim-data) ([https://github.com/piskvorky/gensim-data](https://github.com/piskvorky/gensim-data)). Be sure to read the README of this repository.\n",
    "\n",
    "Let's first load the info of what models are available."
   ]
  },
  {
   "cell_type": "code",
   "execution_count": 114,
   "metadata": {
    "collapsed": false,
    "pycharm": {
     "name": "#%%\n"
    }
   },
   "outputs": [
    {
     "name": "stdout",
     "output_type": "stream",
     "text": [
      "{\n",
      "  \"fasttext-wiki-news-subwords-300\": {\n",
      "    \"num_records\": 999999,\n",
      "    \"file_size\": 1005007116,\n",
      "    \"base_dataset\": \"Wikipedia 2017, UMBC webbase corpus and statmt.org news dataset (16B tokens)\",\n",
      "    \"reader_code\": \"https://github.com/RaRe-Technologies/gensim-data/releases/download/fasttext-wiki-news-subwords-300/__init__.py\",\n",
      "    \"license\": \"https://creativecommons.org/licenses/by-sa/3.0/\",\n",
      "    \"parameters\": {\n",
      "      \"dimension\": 300\n",
      "    },\n",
      "    \"description\": \"1 million word vectors trained on Wikipedia 2017, UMBC webbase corpus and statmt.org news dataset (16B tokens).\",\n",
      "    \"read_more\": [\n",
      "      \"https://fasttext.cc/docs/en/english-vectors.html\",\n",
      "      \"https://arxiv.org/abs/1712.09405\",\n",
      "      \"https://arxiv.org/abs/1607.01759\"\n",
      "    ],\n",
      "    \"checksum\": \"de2bb3a20c46ce65c9c131e1ad9a77af\",\n",
      "    \"file_name\": \"fasttext-wiki-news-subwords-300.gz\",\n",
      "    \"parts\": 1\n",
      "  },\n",
      "  \"conceptnet-numberbatch-17-06-300\": {\n",
      "    \"num_records\": 1917247,\n",
      "    \"file_size\": 1225497562,\n",
      "    \"base_dataset\": \"ConceptNet, word2vec, GloVe, and OpenSubtitles 2016\",\n",
      "    \"reader_code\": \"https://github.com/RaRe-Technologies/gensim-data/releases/download/conceptnet-numberbatch-17-06-300/__init__.py\",\n",
      "    \"license\": \"https://github.com/commonsense/conceptnet-numberbatch/blob/master/LICENSE.txt\",\n",
      "    \"parameters\": {\n",
      "      \"dimension\": 300\n",
      "    },\n",
      "    \"description\": \"ConceptNet Numberbatch consists of state-of-the-art semantic vectors (also known as word embeddings) that can be used directly as a representation of word meanings or as a starting point for further machine learning. ConceptNet Numberbatch is part of the ConceptNet open data project. ConceptNet provides lots of ways to compute with word meanings, one of which is word embeddings. ConceptNet Numberbatch is a snapshot of just the word embeddings. It is built using an ensemble that combines data from ConceptNet, word2vec, GloVe, and OpenSubtitles 2016, using a variation on retrofitting.\",\n",
      "    \"read_more\": [\n",
      "      \"http://aaai.org/ocs/index.php/AAAI/AAAI17/paper/view/14972\",\n",
      "      \"https://github.com/commonsense/conceptnet-numberbatch\",\n",
      "      \"http://conceptnet.io/\"\n",
      "    ],\n",
      "    \"checksum\": \"fd642d457adcd0ea94da0cd21b150847\",\n",
      "    \"file_name\": \"conceptnet-numberbatch-17-06-300.gz\",\n",
      "    \"parts\": 1\n",
      "  },\n",
      "  \"word2vec-ruscorpora-300\": {\n",
      "    \"num_records\": 184973,\n",
      "    \"file_size\": 208427381,\n",
      "    \"base_dataset\": \"Russian National Corpus (about 250M words)\",\n",
      "    \"reader_code\": \"https://github.com/RaRe-Technologies/gensim-data/releases/download/word2vec-ruscorpora-300/__init__.py\",\n",
      "    \"license\": \"https://creativecommons.org/licenses/by/4.0/deed.en\",\n",
      "    \"parameters\": {\n",
      "      \"dimension\": 300,\n",
      "      \"window_size\": 10\n",
      "    },\n",
      "    \"description\": \"Word2vec Continuous Skipgram vectors trained on full Russian National Corpus (about 250M words). The model contains 185K words.\",\n",
      "    \"preprocessing\": \"The corpus was lemmatized and tagged with Universal PoS\",\n",
      "    \"read_more\": [\n",
      "      \"https://www.academia.edu/24306935/WebVectors_a_Toolkit_for_Building_Web_Interfaces_for_Vector_Semantic_Models\",\n",
      "      \"http://rusvectores.org/en/\",\n",
      "      \"https://github.com/RaRe-Technologies/gensim-data/issues/3\"\n",
      "    ],\n",
      "    \"checksum\": \"9bdebdc8ae6d17d20839dd9b5af10bc4\",\n",
      "    \"file_name\": \"word2vec-ruscorpora-300.gz\",\n",
      "    \"parts\": 1\n",
      "  },\n",
      "  \"word2vec-google-news-300\": {\n",
      "    \"num_records\": 3000000,\n",
      "    \"file_size\": 1743563840,\n",
      "    \"base_dataset\": \"Google News (about 100 billion words)\",\n",
      "    \"reader_code\": \"https://github.com/RaRe-Technologies/gensim-data/releases/download/word2vec-google-news-300/__init__.py\",\n",
      "    \"license\": \"not found\",\n",
      "    \"parameters\": {\n",
      "      \"dimension\": 300\n",
      "    },\n",
      "    \"description\": \"Pre-trained vectors trained on a part of the Google News dataset (about 100 billion words). The model contains 300-dimensional vectors for 3 million words and phrases. The phrases were obtained using a simple data-driven approach described in 'Distributed Representations of Words and Phrases and their Compositionality' (https://code.google.com/archive/p/word2vec/).\",\n",
      "    \"read_more\": [\n",
      "      \"https://code.google.com/archive/p/word2vec/\",\n",
      "      \"https://arxiv.org/abs/1301.3781\",\n",
      "      \"https://arxiv.org/abs/1310.4546\",\n",
      "      \"https://www.microsoft.com/en-us/research/publication/linguistic-regularities-in-continuous-space-word-representations/?from=http%3A%2F%2Fresearch.microsoft.com%2Fpubs%2F189726%2Frvecs.pdf\"\n",
      "    ],\n",
      "    \"checksum\": \"a5e5354d40acb95f9ec66d5977d140ef\",\n",
      "    \"file_name\": \"word2vec-google-news-300.gz\",\n",
      "    \"parts\": 1\n",
      "  },\n",
      "  \"glove-wiki-gigaword-50\": {\n",
      "    \"num_records\": 400000,\n",
      "    \"file_size\": 69182535,\n",
      "    \"base_dataset\": \"Wikipedia 2014 + Gigaword 5 (6B tokens, uncased)\",\n",
      "    \"reader_code\": \"https://github.com/RaRe-Technologies/gensim-data/releases/download/glove-wiki-gigaword-50/__init__.py\",\n",
      "    \"license\": \"http://opendatacommons.org/licenses/pddl/\",\n",
      "    \"parameters\": {\n",
      "      \"dimension\": 50\n",
      "    },\n",
      "    \"description\": \"Pre-trained vectors based on Wikipedia 2014 + Gigaword, 5.6B tokens, 400K vocab, uncased (https://nlp.stanford.edu/projects/glove/).\",\n",
      "    \"preprocessing\": \"Converted to w2v format with `python -m gensim.scripts.glove2word2vec -i <fname> -o glove-wiki-gigaword-50.txt`.\",\n",
      "    \"read_more\": [\n",
      "      \"https://nlp.stanford.edu/projects/glove/\",\n",
      "      \"https://nlp.stanford.edu/pubs/glove.pdf\"\n",
      "    ],\n",
      "    \"checksum\": \"c289bc5d7f2f02c6dc9f2f9b67641813\",\n",
      "    \"file_name\": \"glove-wiki-gigaword-50.gz\",\n",
      "    \"parts\": 1\n",
      "  },\n",
      "  \"glove-wiki-gigaword-100\": {\n",
      "    \"num_records\": 400000,\n",
      "    \"file_size\": 134300434,\n",
      "    \"base_dataset\": \"Wikipedia 2014 + Gigaword 5 (6B tokens, uncased)\",\n",
      "    \"reader_code\": \"https://github.com/RaRe-Technologies/gensim-data/releases/download/glove-wiki-gigaword-100/__init__.py\",\n",
      "    \"license\": \"http://opendatacommons.org/licenses/pddl/\",\n",
      "    \"parameters\": {\n",
      "      \"dimension\": 100\n",
      "    },\n",
      "    \"description\": \"Pre-trained vectors based on Wikipedia 2014 + Gigaword 5.6B tokens, 400K vocab, uncased (https://nlp.stanford.edu/projects/glove/).\",\n",
      "    \"preprocessing\": \"Converted to w2v format with `python -m gensim.scripts.glove2word2vec -i <fname> -o glove-wiki-gigaword-100.txt`.\",\n",
      "    \"read_more\": [\n",
      "      \"https://nlp.stanford.edu/projects/glove/\",\n",
      "      \"https://nlp.stanford.edu/pubs/glove.pdf\"\n",
      "    ],\n",
      "    \"checksum\": \"40ec481866001177b8cd4cb0df92924f\",\n",
      "    \"file_name\": \"glove-wiki-gigaword-100.gz\",\n",
      "    \"parts\": 1\n",
      "  },\n",
      "  \"glove-wiki-gigaword-200\": {\n",
      "    \"num_records\": 400000,\n",
      "    \"file_size\": 264336934,\n",
      "    \"base_dataset\": \"Wikipedia 2014 + Gigaword 5 (6B tokens, uncased)\",\n",
      "    \"reader_code\": \"https://github.com/RaRe-Technologies/gensim-data/releases/download/glove-wiki-gigaword-200/__init__.py\",\n",
      "    \"license\": \"http://opendatacommons.org/licenses/pddl/\",\n",
      "    \"parameters\": {\n",
      "      \"dimension\": 200\n",
      "    },\n",
      "    \"description\": \"Pre-trained vectors based on Wikipedia 2014 + Gigaword, 5.6B tokens, 400K vocab, uncased (https://nlp.stanford.edu/projects/glove/).\",\n",
      "    \"preprocessing\": \"Converted to w2v format with `python -m gensim.scripts.glove2word2vec -i <fname> -o glove-wiki-gigaword-200.txt`.\",\n",
      "    \"read_more\": [\n",
      "      \"https://nlp.stanford.edu/projects/glove/\",\n",
      "      \"https://nlp.stanford.edu/pubs/glove.pdf\"\n",
      "    ],\n",
      "    \"checksum\": \"59652db361b7a87ee73834a6c391dfc1\",\n",
      "    \"file_name\": \"glove-wiki-gigaword-200.gz\",\n",
      "    \"parts\": 1\n",
      "  },\n",
      "  \"glove-wiki-gigaword-300\": {\n",
      "    \"num_records\": 400000,\n",
      "    \"file_size\": 394362229,\n",
      "    \"base_dataset\": \"Wikipedia 2014 + Gigaword 5 (6B tokens, uncased)\",\n",
      "    \"reader_code\": \"https://github.com/RaRe-Technologies/gensim-data/releases/download/glove-wiki-gigaword-300/__init__.py\",\n",
      "    \"license\": \"http://opendatacommons.org/licenses/pddl/\",\n",
      "    \"parameters\": {\n",
      "      \"dimension\": 300\n",
      "    },\n",
      "    \"description\": \"Pre-trained vectors based on Wikipedia 2014 + Gigaword, 5.6B tokens, 400K vocab, uncased (https://nlp.stanford.edu/projects/glove/).\",\n",
      "    \"preprocessing\": \"Converted to w2v format with `python -m gensim.scripts.glove2word2vec -i <fname> -o glove-wiki-gigaword-300.txt`.\",\n",
      "    \"read_more\": [\n",
      "      \"https://nlp.stanford.edu/projects/glove/\",\n",
      "      \"https://nlp.stanford.edu/pubs/glove.pdf\"\n",
      "    ],\n",
      "    \"checksum\": \"29e9329ac2241937d55b852e8284e89b\",\n",
      "    \"file_name\": \"glove-wiki-gigaword-300.gz\",\n",
      "    \"parts\": 1\n",
      "  },\n",
      "  \"glove-twitter-25\": {\n",
      "    \"num_records\": 1193514,\n",
      "    \"file_size\": 109885004,\n",
      "    \"base_dataset\": \"Twitter (2B tweets, 27B tokens, 1.2M vocab, uncased)\",\n",
      "    \"reader_code\": \"https://github.com/RaRe-Technologies/gensim-data/releases/download/glove-twitter-25/__init__.py\",\n",
      "    \"license\": \"http://opendatacommons.org/licenses/pddl/\",\n",
      "    \"parameters\": {\n",
      "      \"dimension\": 25\n",
      "    },\n",
      "    \"description\": \"Pre-trained vectors based on 2B tweets, 27B tokens, 1.2M vocab, uncased (https://nlp.stanford.edu/projects/glove/).\",\n",
      "    \"preprocessing\": \"Converted to w2v format with `python -m gensim.scripts.glove2word2vec -i <fname> -o glove-twitter-25.txt`.\",\n",
      "    \"read_more\": [\n",
      "      \"https://nlp.stanford.edu/projects/glove/\",\n",
      "      \"https://nlp.stanford.edu/pubs/glove.pdf\"\n",
      "    ],\n",
      "    \"checksum\": \"50db0211d7e7a2dcd362c6b774762793\",\n",
      "    \"file_name\": \"glove-twitter-25.gz\",\n",
      "    \"parts\": 1\n",
      "  },\n",
      "  \"glove-twitter-50\": {\n",
      "    \"num_records\": 1193514,\n",
      "    \"file_size\": 209216938,\n",
      "    \"base_dataset\": \"Twitter (2B tweets, 27B tokens, 1.2M vocab, uncased)\",\n",
      "    \"reader_code\": \"https://github.com/RaRe-Technologies/gensim-data/releases/download/glove-twitter-50/__init__.py\",\n",
      "    \"license\": \"http://opendatacommons.org/licenses/pddl/\",\n",
      "    \"parameters\": {\n",
      "      \"dimension\": 50\n",
      "    },\n",
      "    \"description\": \"Pre-trained vectors based on 2B tweets, 27B tokens, 1.2M vocab, uncased (https://nlp.stanford.edu/projects/glove/)\",\n",
      "    \"preprocessing\": \"Converted to w2v format with `python -m gensim.scripts.glove2word2vec -i <fname> -o glove-twitter-50.txt`.\",\n",
      "    \"read_more\": [\n",
      "      \"https://nlp.stanford.edu/projects/glove/\",\n",
      "      \"https://nlp.stanford.edu/pubs/glove.pdf\"\n",
      "    ],\n",
      "    \"checksum\": \"c168f18641f8c8a00fe30984c4799b2b\",\n",
      "    \"file_name\": \"glove-twitter-50.gz\",\n",
      "    \"parts\": 1\n",
      "  },\n",
      "  \"glove-twitter-100\": {\n",
      "    \"num_records\": 1193514,\n",
      "    \"file_size\": 405932991,\n",
      "    \"base_dataset\": \"Twitter (2B tweets, 27B tokens, 1.2M vocab, uncased)\",\n",
      "    \"reader_code\": \"https://github.com/RaRe-Technologies/gensim-data/releases/download/glove-twitter-100/__init__.py\",\n",
      "    \"license\": \"http://opendatacommons.org/licenses/pddl/\",\n",
      "    \"parameters\": {\n",
      "      \"dimension\": 100\n",
      "    },\n",
      "    \"description\": \"Pre-trained vectors based on  2B tweets, 27B tokens, 1.2M vocab, uncased (https://nlp.stanford.edu/projects/glove/)\",\n",
      "    \"preprocessing\": \"Converted to w2v format with `python -m gensim.scripts.glove2word2vec -i <fname> -o glove-twitter-100.txt`.\",\n",
      "    \"read_more\": [\n",
      "      \"https://nlp.stanford.edu/projects/glove/\",\n",
      "      \"https://nlp.stanford.edu/pubs/glove.pdf\"\n",
      "    ],\n",
      "    \"checksum\": \"b04f7bed38756d64cf55b58ce7e97b15\",\n",
      "    \"file_name\": \"glove-twitter-100.gz\",\n",
      "    \"parts\": 1\n",
      "  },\n",
      "  \"glove-twitter-200\": {\n",
      "    \"num_records\": 1193514,\n",
      "    \"file_size\": 795373100,\n",
      "    \"base_dataset\": \"Twitter (2B tweets, 27B tokens, 1.2M vocab, uncased)\",\n",
      "    \"reader_code\": \"https://github.com/RaRe-Technologies/gensim-data/releases/download/glove-twitter-200/__init__.py\",\n",
      "    \"license\": \"http://opendatacommons.org/licenses/pddl/\",\n",
      "    \"parameters\": {\n",
      "      \"dimension\": 200\n",
      "    },\n",
      "    \"description\": \"Pre-trained vectors based on 2B tweets, 27B tokens, 1.2M vocab, uncased (https://nlp.stanford.edu/projects/glove/).\",\n",
      "    \"preprocessing\": \"Converted to w2v format with `python -m gensim.scripts.glove2word2vec -i <fname> -o glove-twitter-200.txt`.\",\n",
      "    \"read_more\": [\n",
      "      \"https://nlp.stanford.edu/projects/glove/\",\n",
      "      \"https://nlp.stanford.edu/pubs/glove.pdf\"\n",
      "    ],\n",
      "    \"checksum\": \"e52e8392d1860b95d5308a525817d8f9\",\n",
      "    \"file_name\": \"glove-twitter-200.gz\",\n",
      "    \"parts\": 1\n",
      "  },\n",
      "  \"__testing_word2vec-matrix-synopsis\": {\n",
      "    \"description\": \"[THIS IS ONLY FOR TESTING] Word vecrors of the movie matrix.\",\n",
      "    \"parameters\": {\n",
      "      \"dimensions\": 50\n",
      "    },\n",
      "    \"preprocessing\": \"Converted to w2v using a preprocessed corpus. Converted to w2v format with `python3.5 -m gensim.models.word2vec -train <input_filename> -iter 50 -output <output_filename>`.\",\n",
      "    \"read_more\": [],\n",
      "    \"checksum\": \"534dcb8b56a360977a269b7bfc62d124\",\n",
      "    \"file_name\": \"__testing_word2vec-matrix-synopsis.gz\",\n",
      "    \"parts\": 1\n",
      "  }\n",
      "}\n"
     ]
    }
   ],
   "source": [
    "import json\n",
    "import gensim.downloader as api\n",
    "\n",
    "info = api.info()  # show info about available models/datasets\n",
    "print(json.dumps(info['models'], indent=2))"
   ]
  },
  {
   "cell_type": "code",
   "execution_count": 115,
   "metadata": {
    "collapsed": false,
    "pycharm": {
     "name": "#%%\n"
    }
   },
   "outputs": [
    {
     "name": "stdout",
     "output_type": "stream",
     "text": [
      "[==================================================] 100.0% 128.1/128.1MB downloaded\n"
     ]
    }
   ],
   "source": [
    "glove_model = api.load(\"glove-wiki-gigaword-100\")"
   ]
  },
  {
   "cell_type": "markdown",
   "metadata": {
    "collapsed": false,
    "pycharm": {
     "name": "#%% md\n"
    }
   },
   "source": [
    "We can use the loaded model's `key_to_index` attribute to retrieve the whole vocabulary (aka for how many words we learned embeddings for)."
   ]
  },
  {
   "cell_type": "code",
   "execution_count": 116,
   "metadata": {
    "collapsed": false,
    "pycharm": {
     "name": "#%%\n"
    }
   },
   "outputs": [
    {
     "name": "stdout",
     "output_type": "stream",
     "text": [
      "400000\n"
     ]
    }
   ],
   "source": [
    "vocab = list(glove_model.key_to_index)\n",
    "print(len(vocab))"
   ]
  },
  {
   "cell_type": "markdown",
   "metadata": {
    "collapsed": false,
    "pycharm": {
     "name": "#%% md\n"
    }
   },
   "source": [
    "Let's explore a bit further the embeddings. In the following cells, the embedding of a single word is returned. Double-check the dimensions (as sanity check). This is like inspecting the `W` matrix (weights) that we discussed in the lecture."
   ]
  },
  {
   "cell_type": "code",
   "execution_count": 117,
   "metadata": {
    "collapsed": false,
    "pycharm": {
     "name": "#%%\n"
    }
   },
   "outputs": [
    {
     "data": {
      "text/plain": [
       "array([-1.5180e-01,  3.8409e-01,  8.9340e-01, -4.2421e-01, -9.2161e-01,\n",
       "        3.7988e-02, -3.2026e-01,  3.4119e-03,  2.2101e-01, -2.2045e-01,\n",
       "        1.6661e-01,  2.1956e-01,  2.5325e-01, -2.9267e-01,  1.0171e-01,\n",
       "       -7.5491e-02, -6.0406e-02,  2.8194e-01, -5.8519e-01,  4.8271e-01,\n",
       "        1.7504e-02, -1.2086e-01, -1.0990e-01, -6.9554e-01,  1.5600e-01,\n",
       "        7.0558e-02, -1.5058e-01, -8.1811e-01, -1.8535e-01, -3.6863e-01,\n",
       "        3.1650e-02,  7.6616e-01,  8.4041e-02,  2.6928e-03, -2.7440e-01,\n",
       "        2.1815e-01, -3.5157e-02,  3.2569e-01,  1.0032e-01, -6.0932e-01,\n",
       "       -7.0316e-01,  1.8299e-01,  3.3134e-01, -1.2416e-01, -9.0542e-01,\n",
       "       -3.9157e-02,  4.4719e-01, -5.7338e-01, -4.0172e-01, -8.2234e-01,\n",
       "        5.5740e-01,  1.5101e-01,  2.4598e-01,  1.0113e+00, -4.6626e-01,\n",
       "       -2.7133e+00,  4.3273e-01, -1.6314e-01,  1.5828e+00,  5.5081e-01,\n",
       "       -2.4738e-01,  1.4184e+00, -1.6867e-02, -1.9368e-01,  1.0090e+00,\n",
       "       -5.9864e-02,  9.1853e-01,  4.3022e-01, -2.0624e-01,  7.6127e-02,\n",
       "        2.1595e-01, -2.6834e-01, -3.3342e-01, -3.7151e-01,  4.5197e-01,\n",
       "       -8.2460e-02,  3.2984e-01, -5.7376e-01, -1.3042e+00,  2.7121e-01,\n",
       "        6.6277e-01, -7.9626e-02, -7.9167e-01, -5.3662e-03, -1.7916e+00,\n",
       "       -3.3298e-01, -3.0698e-01, -3.3980e-01, -5.5618e-01, -6.9471e-01,\n",
       "        2.7427e-01, -2.1898e-01, -2.6714e-01,  2.2561e-03, -5.0178e-01,\n",
       "       -3.2775e-01, -4.5670e-01, -2.7123e-01,  2.2157e-01,  9.2112e-01],\n",
       "      dtype=float32)"
      ]
     },
     "execution_count": 117,
     "metadata": {},
     "output_type": "execute_result"
    }
   ],
   "source": [
    "# vector of a particular model. note that it is 100 dimensional as specified.\n",
    "glove_model['what']"
   ]
  },
  {
   "cell_type": "markdown",
   "metadata": {
    "collapsed": false,
    "pycharm": {
     "name": "#%% md\n"
    }
   },
   "source": [
    "Gensim objects offers different methods to easily run very common tasks. For example, there are different functions to find the most similar words.\n",
    "\n",
    "Check the documentation on how [`most_similar`](https://tedboy.github.io/nlps/generated/generated/gensim.models.Word2Vec.most_similar.html) and [`similar_by_word`](https://tedboy.github.io/nlps/generated/generated/gensim.models.Word2Vec.similar_by_word.html) can be used."
   ]
  },
  {
   "cell_type": "code",
   "execution_count": 118,
   "metadata": {
    "collapsed": false,
    "pycharm": {
     "name": "#%%\n"
    }
   },
   "outputs": [
    {
     "name": "stdout",
     "output_type": "stream",
     "text": [
      "[('how', 0.9303215742111206), ('why', 0.9196363091468811), ('fact', 0.906943678855896), ('know', 0.8876389265060425), ('that', 0.8810365796089172), ('think', 0.8772969841957092), ('so', 0.8753098249435425), ('even', 0.8751895427703857), ('something', 0.874744176864624), ('if', 0.8702542781829834)]\n",
      "[('play', 0.6266524791717529), ('missed', 0.608065128326416), ('she', 0.596325695514679), ('chance', 0.5839369297027588), ('tournament', 0.572258710861206)]\n"
     ]
    }
   ],
   "source": [
    "# most similar words to a given word\n",
    "print(glove_model.most_similar('what', topn=10))\n",
    "\n",
    "# also u can use\n",
    "print(glove_model.similar_by_word('miss', topn=5))"
   ]
  },
  {
   "cell_type": "code",
   "execution_count": 119,
   "metadata": {
    "collapsed": false,
    "pycharm": {
     "name": "#%%\n"
    }
   },
   "outputs": [
    {
     "name": "stdout",
     "output_type": "stream",
     "text": [
      "[('know', 0.944094181060791), ('what', 0.9196362495422363), ('think', 0.9086559414863586), ('how', 0.9020735621452332), ('tell', 0.8923122882843018), (\"n't\", 0.8890628814697266), ('sure', 0.8870969414710999), ('thought', 0.8747684955596924), ('believe', 0.8745115399360657), ('say', 0.8730075359344482)]\n"
     ]
    }
   ],
   "source": [
    "print(glove_model.most_similar('why', topn=10))"
   ]
  },
  {
   "cell_type": "code",
   "execution_count": 120,
   "metadata": {
    "collapsed": false,
    "pycharm": {
     "name": "#%%\n"
    }
   },
   "outputs": [
    {
     "name": "stdout",
     "output_type": "stream",
     "text": [
      "[('whom', 0.8642492890357971), ('he', 0.8201969861984253), ('whose', 0.8143677711486816), ('had', 0.8035843968391418), ('others', 0.7708418965339661)]\n"
     ]
    }
   ],
   "source": [
    "print(glove_model.similar_by_word('who', topn=5))"
   ]
  },
  {
   "cell_type": "markdown",
   "metadata": {
    "collapsed": false,
    "pycharm": {
     "name": "#%% md\n"
    }
   },
   "source": [
    "We can now compare our implementation with the one in the pre-trained model and confirm what we already expected."
   ]
  },
  {
   "cell_type": "code",
   "execution_count": 121,
   "metadata": {
    "collapsed": false,
    "pycharm": {
     "name": "#%%\n"
    }
   },
   "outputs": [
    {
     "name": "stdout",
     "output_type": "stream",
     "text": [
      "0.15712576\n",
      "0.15712576\n"
     ]
    }
   ],
   "source": [
    "# simalarity between two words\n",
    "word1 = 'alive'\n",
    "word2 = 'biology'\n",
    "print(glove_model.similarity(word1, word2))\n",
    "print(cosine_similarity(glove_model[word1], glove_model[word2]))"
   ]
  },
  {
   "cell_type": "code",
   "execution_count": 122,
   "metadata": {
    "collapsed": false,
    "pycharm": {
     "name": "#%%\n"
    }
   },
   "outputs": [
    {
     "name": "stdout",
     "output_type": "stream",
     "text": [
      "0.6400605\n",
      "0.6400605\n"
     ]
    }
   ],
   "source": [
    "# simalarity between two words. similar words\n",
    "word1 = 'alive'\n",
    "word2 = 'life'\n",
    "print(glove_model.similarity(word1, word2))\n",
    "print(cosine_similarity(glove_model[word1], glove_model[word2]))"
   ]
  },
  {
   "cell_type": "code",
   "execution_count": 123,
   "metadata": {
    "collapsed": false,
    "pycharm": {
     "name": "#%%\n"
    }
   },
   "outputs": [
    {
     "name": "stdout",
     "output_type": "stream",
     "text": [
      "0.7103517\n",
      "0.7103518\n"
     ]
    }
   ],
   "source": [
    "# simalarity between two words. dissimilar words\n",
    "word1 = 'alive'\n",
    "word2 = 'dead'\n",
    "print(glove_model.similarity(word1, word2))\n",
    "print(cosine_similarity(glove_model[word1], glove_model[word2]))"
   ]
  },
  {
   "cell_type": "code",
   "execution_count": 124,
   "metadata": {
    "collapsed": false,
    "pycharm": {
     "name": "#%%\n"
    }
   },
   "outputs": [
    {
     "name": "stdout",
     "output_type": "stream",
     "text": [
      "0.34625494\n",
      "0.34625494\n"
     ]
    }
   ],
   "source": [
    "# simalarity between two words. unrelated words\n",
    "word1 = 'alive'\n",
    "word2 = 'horse'\n",
    "print(glove_model.similarity(word1, word2))\n",
    "print(cosine_similarity(glove_model[word1], glove_model[word2]))"
   ]
  },
  {
   "cell_type": "code",
   "execution_count": 125,
   "metadata": {
    "collapsed": false,
    "pycharm": {
     "name": "#%%\n"
    }
   },
   "outputs": [
    {
     "name": "stdout",
     "output_type": "stream",
     "text": [
      "1.0\n",
      "1.0000001\n"
     ]
    }
   ],
   "source": [
    "# simalarity between two SAME words\n",
    "glove_model.similarity('equal', 'equal')\n",
    "word1 = 'equal'\n",
    "word2 = 'equal'\n",
    "print(glove_model.similarity(word1, word2))\n",
    "print(cosine_similarity(glove_model[word1], glove_model[word2]))"
   ]
  },
  {
   "cell_type": "markdown",
   "metadata": {
    "collapsed": false,
    "pycharm": {
     "name": "#%% md\n"
    }
   },
   "source": [
    "The next function contains the code to plot a similarity matrix between multiple words (e.g. if we want to compare 10 words and their pair-wise similarities). It requires a matrix with similarities (as input) and labels (aka the words) to display in the final figure."
   ]
  },
  {
   "cell_type": "code",
   "execution_count": 126,
   "metadata": {
    "collapsed": false,
    "pycharm": {
     "name": "#%%\n"
    }
   },
   "outputs": [],
   "source": [
    "def plot_similarity_matrix(matrix, labels):\n",
    "    \"\"\"\n",
    "    Displays a plot of the `matrix` of size (N x N) with the labels specified as a list of size N\n",
    "    Args:\n",
    "        matrix: a square-sized (N x N) numpy array\n",
    "        labels: a list of strings of hte size N\n",
    "    \"\"\"\n",
    "\n",
    "    fig, ax = plt.subplots()\n",
    "    im = ax.imshow(matrix)\n",
    "\n",
    "    # Show all ticks and label them with the respective list entries\n",
    "    ax.set_xticks(np.arange(len(labels)), labels=labels)\n",
    "    ax.set_yticks(np.arange(len(labels)), labels=labels)\n",
    "\n",
    "    # Rotate the tick labels and set their alignment.\n",
    "    plt.setp(ax.get_xticklabels(), rotation=45, ha=\"right\",\n",
    "             rotation_mode=\"anchor\")\n",
    "\n",
    "    # Loop over data dimensions and create text annotations.\n",
    "    for i in range(len(labels)):\n",
    "        for j in range(len(labels)):\n",
    "            text = ax.text(j, i, f'{matrix[i, j]:.2f}',\n",
    "                           ha=\"center\", va=\"center\", color=\"w\")\n",
    "\n",
    "    # ax.set_title(\"Give a title if you want\")\n",
    "    fig.tight_layout()\n",
    "    plt.show()"
   ]
  },
  {
   "cell_type": "markdown",
   "metadata": {
    "collapsed": false,
    "pycharm": {
     "name": "#%% md\n"
    }
   },
   "source": [
    "<a name='e10'></a>\n",
    "### Exercise 10: Plotting similarities between words\n",
    "\n",
    "(10p) In the following, we will explore some properties of word embeddings through some examples. We will use 6 example words for this purpose but experiment with other set of words as well. Fill in the next cell to create a similarity matrix between a list of words.\n",
    "\n",
    "Experiment with different words and their similarities plotted. Try at least 3 different sets of words of at least 6 words each. Use the `plot_similarity_matrix` function to visualize the results.\n",
    "Comment on the results. Do they make sense? Why some words are closer to each other than others? What does it mean?"
   ]
  },
  {
   "cell_type": "code",
   "execution_count": 134,
   "metadata": {},
   "outputs": [],
   "source": [
    "def calculate_similarity_table(list_words, model):\n",
    "    similarity_matrix = np.zeros((len(list_words), len(list_words)), dtype=float)\n",
    "\n",
    "    for index, n in enumerate(list_words):\n",
    "        for index2, j in enumerate(list_words):\n",
    "            vec1 = model[n]\n",
    "            vec2 = model[j]\n",
    "            \n",
    "            similarity = cosine_similarity(vec1, vec2)  \n",
    "            \n",
    "            similarity_matrix[index][index2] = similarity\n",
    "    return similarity_matrix\n"
   ]
  },
  {
   "cell_type": "code",
   "execution_count": 137,
   "metadata": {
    "collapsed": false,
    "pycharm": {
     "name": "#%%\n"
    }
   },
   "outputs": [
    {
     "data": {
      "image/png": "[encoded data removed]",
      "text/plain": [
       "<Figure size 640x480 with 1 Axes>"
      ]
     },
     "metadata": {},
     "output_type": "display_data"
    },
    {
     "data": {
      "image/png": "[encoded data removed]",
      "text/plain": [
       "<Figure size 640x480 with 1 Axes>"
      ]
     },
     "metadata": {},
     "output_type": "display_data"
    },
    {
     "data": {
      "image/png": "[encoded data removed]",
      "text/plain": [
       "<Figure size 640x480 with 1 Axes>"
      ]
     },
     "metadata": {},
     "output_type": "display_data"
    }
   ],
   "source": [
    "list_of_words = ['love', 'hate', 'life', 'equal', 'alive', 'dead']\n",
    "\n",
    "similarity_matrix = np.zeros((len(list_of_words), len(list_of_words)), dtype=float)\n",
    "\n",
    "### YOUR CODE HERE\n",
    "\n",
    "similarity_matrix1 = calculate_similarity_table(list_of_words, glove_model)\n",
    "\n",
    "list_words2 = [\"apple\", \"banana\", \"minion\", \"table\", \"chair\", \"tiger\", \"blanket\", \"animal\"]\n",
    "similarity_matrix2 = calculate_similarity_table(list_words2, glove_model)\n",
    "\n",
    "list_words3 = [\"phone\", \"space\", \"tesla\", \"apple\", \"technologies\", \"usa\", \"fruit\"]\n",
    "similarity_matrix3 = calculate_similarity_table(list_words3, glove_model)\n",
    "\n",
    "\n",
    "### YOUR CODE ENDS HERE\n",
    "\n",
    "plot_similarity_matrix(similarity_matrix1, list_of_words)\n",
    "\n",
    "plot_similarity_matrix(similarity_matrix2, list_words2)\n",
    "plot_similarity_matrix(similarity_matrix3, list_words3)"
   ]
  },
  {
   "cell_type": "code",
   "execution_count": null,
   "metadata": {
    "collapsed": false,
    "pycharm": {
     "name": "#%%\n"
    }
   },
   "outputs": [],
   "source": [
    "#### YOUR CODE HERE\n",
    "\n",
    "# As we can see, some strange results may occur. For instance, the words \"alive\" and \"dead\" can have a very high cosine similarity,\n",
    "# which can be explained by their frequent co-occurrence as a pair in the same sentences. Since the glove model does not capture semantics \n",
    "# in the context of words meanings, but makes embedings by calculating statistics of word sequences. \n",
    "\n",
    "# In general, it shows good results. For example, the words \"apple,\" \"technologies,\" and \"phone\" have a high similarity, \n",
    "# indicating that the model recognizes the Apple company’s connection to phone manufacturing and technologies.\n",
    "\n",
    "### YOUR CODE ENDS HERE"
   ]
  },
  {
   "cell_type": "markdown",
   "metadata": {
    "collapsed": false,
    "pycharm": {
     "name": "#%% md\n"
    }
   },
   "source": [
    "<a name='e11'></a>\n",
    "### Exercise 11: Other pre-trained word embeddings\n",
    "(10p) For this exercise, experiment with at least one different word embedding model. You can choose Glove with different dimensions or other pre-trained models. Use the gensim library to download and use the models.\n",
    "Plot similarity matrices between sets of words you used in the previous exercise and compare the results. Are there noticeable differences? Why (not)?"
   ]
  },
  {
   "cell_type": "code",
   "execution_count": 138,
   "metadata": {},
   "outputs": [
    {
     "name": "stdout",
     "output_type": "stream",
     "text": [
      "[==================================================] 100.0% 958.5/958.4MB downloaded\n"
     ]
    }
   ],
   "source": [
    "model = api.load(\"fasttext-wiki-news-subwords-300\")\n"
   ]
  },
  {
   "cell_type": "code",
   "execution_count": 139,
   "metadata": {
    "collapsed": false,
    "pycharm": {
     "name": "#%%\n"
    }
   },
   "outputs": [
    {
     "data": {
      "image/png": "[encoded data removed]",
      "text/plain": [
       "<Figure size 640x480 with 1 Axes>"
      ]
     },
     "metadata": {},
     "output_type": "display_data"
    },
    {
     "data": {
      "image/png": "[encoded data removed]",
      "text/plain": [
       "<Figure size 640x480 with 1 Axes>"
      ]
     },
     "metadata": {},
     "output_type": "display_data"
    },
    {
     "data": {
      "image/png": "[encoded data removed]",
      "text/plain": [
       "<Figure size 640x480 with 1 Axes>"
      ]
     },
     "metadata": {},
     "output_type": "display_data"
    }
   ],
   "source": [
    "#### YOUR CODE HERE\n",
    "\n",
    "\n",
    "list_of_words = ['love', 'hate', 'life', 'equal', 'alive', 'dead']\n",
    "\n",
    "similarity_matrix = np.zeros((len(list_of_words), len(list_of_words)), dtype=float)\n",
    "\n",
    "\n",
    "similarity_matrix1 = calculate_similarity_table(list_of_words, model)\n",
    "\n",
    "list_words2 = [\"apple\", \"banana\", \"minion\", \"table\", \"chair\", \"tiger\", \"blanket\", \"animal\"]\n",
    "similarity_matrix2 = calculate_similarity_table(list_words2, model)\n",
    "\n",
    "list_words3 = [\"phone\", \"space\", \"tesla\", \"apple\", \"technologies\", \"usa\", \"fruit\"]\n",
    "similarity_matrix3 = calculate_similarity_table(list_words3, model)\n",
    "\n",
    "\n",
    "plot_similarity_matrix(similarity_matrix1, list_of_words)\n",
    "\n",
    "plot_similarity_matrix(similarity_matrix2, list_words2)\n",
    "plot_similarity_matrix(similarity_matrix3, list_words3)\n",
    "\n",
    "### YOUR CODE ENDS HERE"
   ]
  },
  {
   "cell_type": "markdown",
   "metadata": {
    "collapsed": false,
    "pycharm": {
     "name": "#%% md\n"
    }
   },
   "source": [
    "// your comments"
   ]
  },
  {
   "cell_type": "markdown",
   "metadata": {
    "collapsed": false,
    "pycharm": {
     "name": "#%% md\n"
    }
   },
   "source": [
    "## 5. Sentence Embeddings by Averaging Word Embeddings\n",
    "\n",
    "Word embeddings are a powerful model for representing words and their meaning (in terms of distributional similarity). As we discussed in class, we can use them in a wide variety of tasks with more complex architectures. Word vectors offer a dense vector for each word. What if we wanted to represent a sentence (or a document) based on word vectors. How can we do that?\n",
    "\n",
    "In the course, we will see different architectures that take into account the sequence of words (by combining their vectors). A first naive but simple and sometimes (as we are going to see) quite effective approach would be to represent a sentence with an embedding vector that is the average of the word vectors that form the sentence.\n",
    "\n",
    "So formally, this is what we are aiming for:\n",
    "\n",
    "$\n",
    "\\text{Sentence_Embedding} = \\frac{1}{N} \\sum_{i=1}^{N} \\text{Word_Embedding}_i\n",
    "$\n",
    "\n",
    "where:\n",
    "* $N$ is the number of words in a sentence\n",
    "* $\\text{Word_Embedding}_i$ is the word vector for the $i$-th in the sentence.\n",
    "\n",
    "Things to note:\n",
    "* The embedding vector for the sentence will obviously have the same dimension as the word embedding.\n",
    "* This representation ignores the word order (like bag-of-words). During the course we will see how we can overcome this limitation by using sequence models."
   ]
  },
  {
   "cell_type": "markdown",
   "metadata": {
    "collapsed": false,
    "pycharm": {
     "name": "#%% md\n"
    }
   },
   "source": [
    "<a name='e12'></a>\n",
    "### Exercise 12: Sentence Embedding\n",
    "\n",
    "(10p) Complete the function below that takes as input the sentence in the form of tokens (so it's a list of words) and calculates the sentence embedding vector. First, we would need to retrieve the word embeddings for each word from our loaded model and then average the vectors.\n",
    "\n",
    "Note: There can be cases where all tokens from a sentence are out-of-vocabulary words (OOV). Think what to do in this case and make sure to discuss it in the report."
   ]
  },
  {
   "cell_type": "code",
   "execution_count": null,
   "metadata": {
    "collapsed": false,
    "pycharm": {
     "name": "#%%\n"
    }
   },
   "outputs": [],
   "source": [
    "def embed_sentence_word_model(tokens, model):\n",
    "    \"\"\"\n",
    "    Calculates the sentence embedding by averaging the embeddings of the tokens\n",
    "    Args:\n",
    "        tokens: a list of words from the sentence\n",
    "        model: a trained word embeddings model\n",
    "\n",
    "    Returns: a numpy array of the sentence embedding\n",
    "\n",
    "    \"\"\"\n",
    "    #### YOUR CODE HERE\n",
    "    #### CAUTION: be sure to cover the case where all tokens are out-of-vocabulary!!!\n",
    "\n",
    "\n",
    "\n",
    "\n",
    "    ### YOUR CODE ENDS HERE"
   ]
  },
  {
   "cell_type": "markdown",
   "metadata": {
    "collapsed": false,
    "pycharm": {
     "name": "#%% md\n"
    }
   },
   "source": [
    "Now we can apply the function to the whole dataset. Here we do it both for the sentence and the compressed version. You should know it by now, but this operation might take some time. The next cells will apply your function to the whole dataset."
   ]
  },
  {
   "cell_type": "code",
   "execution_count": null,
   "metadata": {
    "collapsed": false,
    "pycharm": {
     "name": "#%%\n"
    }
   },
   "outputs": [],
   "source": [
    "def embed_sentence_word_model_dataset(example, model):\n",
    "    \"\"\"\n",
    "    Embeds the sentence and the compressed sentence in the example from the Dataset\n",
    "    Args:\n",
    "        example: an example from the Dataset\n",
    "        model: a trained word embeddings model\n",
    "\n",
    "    Returns: updated example with 'sentence_embedding' and 'compressed_embedding' columns\n",
    "\n",
    "    \"\"\"\n",
    "    sentence_tokens = example['sentence_tokens']\n",
    "    clean_compressed = example['clean_compressed']\n",
    "    compressed_tokens = tokenize(clean_compressed)\n",
    "\n",
    "    sentence_embedding = embed_sentence_word_model(sentence_tokens, model)\n",
    "    compressed_embedding = embed_sentence_word_model(compressed_tokens, model)\n",
    "\n",
    "    example['sentence_embedding'] = sentence_embedding\n",
    "    example['compressed_embedding'] = compressed_embedding\n",
    "    return example"
   ]
  },
  {
   "cell_type": "code",
   "execution_count": null,
   "metadata": {
    "collapsed": false,
    "pycharm": {
     "name": "#%%\n"
    }
   },
   "outputs": [],
   "source": [
    "test_ds = test_ds.map(embed_sentence_word_model_dataset, fn_kwargs={'model': glove_model})\n",
    "print(test_ds)"
   ]
  },
  {
   "cell_type": "code",
   "execution_count": null,
   "metadata": {
    "collapsed": false,
    "pycharm": {
     "name": "#%%\n"
    }
   },
   "outputs": [],
   "source": [
    "for i in range(10):\n",
    "    print(test_ds[i])"
   ]
  },
  {
   "cell_type": "markdown",
   "metadata": {
    "collapsed": false,
    "pycharm": {
     "name": "#%% md\n"
    }
   },
   "source": [
    "Here you can see that the new dataset returned a single numpy array containing all sentence embeddings in our dataset. This is a lot more efficient than returning a list of arrays (which is the default behaviour). Below we check the type and the dimensionality.\n",
    "\n",
    "We will be using `text` subset from our dataset to not use too much RAM."
   ]
  },
  {
   "cell_type": "code",
   "execution_count": null,
   "metadata": {
    "collapsed": false,
    "pycharm": {
     "name": "#%%\n"
    }
   },
   "outputs": [],
   "source": [
    "sent_embedding = test_ds['sentence_embedding']\n",
    "compr_embedding = test_ds['compressed_embedding']\n",
    "print(type(sent_embedding))\n",
    "print(sent_embedding.shape)\n",
    "print(type(compr_embedding))\n",
    "print(compr_embedding.shape)"
   ]
  },
  {
   "cell_type": "markdown",
   "metadata": {
    "collapsed": false,
    "pycharm": {
     "name": "#%% md\n"
    }
   },
   "source": [
    "Next we try the condensed representatin based on a simple query. Feel free to try different queries with different words. What happens if we have OOV words in a query?"
   ]
  },
  {
   "cell_type": "code",
   "execution_count": null,
   "metadata": {
    "collapsed": false,
    "pycharm": {
     "name": "#%%\n"
    }
   },
   "outputs": [],
   "source": [
    "query = 'fox and deer'\n",
    "print(query)\n",
    "\n",
    "query_embedding = embed_text(query, clean, tokenize, lambda x: embed_sentence_word_model(x, glove_model))\n",
    "print(query_embedding.shape)\n",
    "print(query_embedding)"
   ]
  },
  {
   "cell_type": "markdown",
   "metadata": {
    "collapsed": false,
    "pycharm": {
     "name": "#%% md\n"
    }
   },
   "source": [
    "<a name='e13'></a>\n",
    "### Exercise 13: Analyze sentence embeddings\n",
    "- (5p) Calculate similarity between the word embeddings representations of the selected queries and the dataset sentences.\n",
    "- (5p) Analyze the search results. Does the search work as expected? Discuss the results.\n",
    "- (5p) Compare the results with the ones you got with the bag-of-words and TF-IDF representation. Discuss the differences and similarities."
   ]
  },
  {
   "cell_type": "code",
   "execution_count": null,
   "metadata": {
    "collapsed": false,
    "pycharm": {
     "name": "#%%\n"
    }
   },
   "outputs": [],
   "source": [
    "### YOUR CODE HERE\n",
    "\n",
    "\n",
    "\n",
    "\n",
    "### YOUR CODE ENDS HERE"
   ]
  },
  {
   "cell_type": "markdown",
   "metadata": {
    "id": "ZY2jouFmeHOg",
    "pycharm": {
     "name": "#%% md\n"
    }
   },
   "source": [
    "## 6. Evaluating Retrieval\n",
    "\n",
    "In this last section we will try to evaluate how good our sentence retrieval system is. To keep the computational resources manageable, we will use the test set for that as its size is more manageable.\n",
    "\n",
    "Recall from the lecture in IR that there are several metrics to evaluate retrieval performance by taking into account the relevance of the retrieved results to the query. We will use Recall@K here (for more metrics and more details refer to the lecture slides and the textbooks).\n",
    "\n",
    "RRecall@K is a metric used to measure the effectiveness of a search system in retrieving relevant documents within the top $K$ retrieved documents. It calculates the proportion of relevant documents retrieved within the top-$K$ results, compared to the total number of relevant documents in the collection.\n",
    "\n",
    "$\n",
    "\\text{Recall@K} = \\frac{\\text{Number of relevant documents retrieved in the top }-K}{\\text{Total number of relevant documents}}\n",
    "$\n",
    "\n",
    "In our case, we have a sentence, and it's compressed version. To test our system, we will treat compressed sentences as the queries. Each query will have only a single relevant sentence - the corresponding uncompressed sentence.\n",
    "\n",
    "Therefore, for the calculation of Recall@K we will take into account whether the correct retrieved result is contained within the first $K$ retrieved results. For example, if for a query (i.e. a compressed sentence) we retrieve 10 results and within these we see the relevant one (i.e. the full sentence), then Recall@10 = 1."
   ]
  },
  {
   "cell_type": "markdown",
   "metadata": {
    "id": "QUKPtG-uem9f",
    "pycharm": {
     "name": "#%% md\n"
    }
   },
   "source": [
    "<a name='e14'></a>\n",
    "### Exercise 14: Cosine similarity between two sets of vectors\n",
    "\n",
    "(3p) In this exercise you will revisit your implementation of the cosine similarity. Generalize it so that it can accept two arrays containing two sets of vectors (first one containing $M$ vectors and the second one $N$ vectors). Compute the cosine similarity between each pair of vectors coming from the two sets. The result should be an array of size $M x N$.\n",
    "\n",
    "Once again, try to write an efficient code. This means no loops. Remember the relation between matrix multiplication and dot product. (Depending on your implementation of the previous function calculating cosine similarity, this one can be almost the same)"
   ]
  },
  {
   "cell_type": "code",
   "execution_count": null,
   "metadata": {
    "id": "xKiHDrN9eld7",
    "pycharm": {
     "name": "#%%\n"
    }
   },
   "outputs": [],
   "source": [
    "def cosine_similarity_m_to_n(vectors, other_vectors):\n",
    "    \"\"\"\n",
    "    Calculates the cosine similarity between a multiple vectors and other vectors.\n",
    "    Args:\n",
    "        vectors: a numpy array representing M number of vectors of D dimensions (of the size MxD)\n",
    "        other_vectors: a 2D numpy array representing other vectors (of the size NxD, where N is the number of vectors and D is their dimension)\n",
    "\n",
    "    Returns: a numpy array of cosine similarity between all the vectors and all the other vectors\n",
    "\n",
    "    \"\"\"\n",
    "\n",
    "    #### YOUR CODE HERE\n",
    "\n",
    "\n",
    "\n",
    "\n",
    "    ### YOUR CODE ENDS HERE"
   ]
  },
  {
   "cell_type": "markdown",
   "metadata": {
    "id": "qQ-Yhl1Sgoka",
    "pycharm": {
     "name": "#%% md\n"
    }
   },
   "source": [
    "The following function will use your implementation to calculate Recall@K based on the similarity matrix."
   ]
  },
  {
   "cell_type": "code",
   "execution_count": null,
   "metadata": {
    "id": "z0sLS3uRCfdh",
    "pycharm": {
     "name": "#%%\n"
    }
   },
   "outputs": [],
   "source": [
    "def calculate_recall(queries, sentences, k, batch_size=1000):\n",
    "    \"\"\"\n",
    "    Calculates recall@k given the embeddings of the queries and sentences.\n",
    "    Assumes that only a single sentence with the same index as query is relevant.\n",
    "    Batching is implemented to avoid high memory usage.\n",
    "    Args:\n",
    "        queries: a numpy array with the embeddings of N queries\n",
    "        sentences: a numpy array with the embeddings of N sentences available for retrieval\n",
    "        k: number of top results to search for the relevant sentence\n",
    "        batch_size: number of queries to process at a time\n",
    "\n",
    "    Returns: calculated recall@k\n",
    "\n",
    "    \"\"\"\n",
    "    n_queries = queries.shape[0]\n",
    "    correct = np.zeros(n_queries, dtype=bool)\n",
    "\n",
    "    with tqdm.tqdm(total=n_queries) as pbar:\n",
    "        for batch_start in range(0, n_queries, batch_size):\n",
    "            batch_end = min(batch_start + batch_size, n_queries)\n",
    "            queries_batch = queries[batch_start:batch_end]\n",
    "            batch_similarity = cosine_similarity_m_to_n(queries_batch, sentences)\n",
    "\n",
    "            for i, similarity_row in enumerate(batch_similarity):\n",
    "                query_index = batch_start + i\n",
    "                top_k = top_k_indices(similarity_row, k=k, sorted=False)\n",
    "\n",
    "                if query_index in top_k:\n",
    "                    correct[query_index] = True\n",
    "\n",
    "                pbar.update(1)\n",
    "\n",
    "    recall = np.sum(correct) / n_queries\n",
    "    return recall"
   ]
  },
  {
   "cell_type": "markdown",
   "metadata": {
    "id": "3QgAgMiDgw8m",
    "pycharm": {
     "name": "#%% md\n"
    }
   },
   "source": [
    "You can use it like so:"
   ]
  },
  {
   "cell_type": "code",
   "execution_count": null,
   "metadata": {
    "id": "Yxpex7ZxHM7c",
    "pycharm": {
     "name": "#%%\n"
    }
   },
   "outputs": [],
   "source": [
    "recall_at_1 = calculate_recall(compr_embedding, sent_embedding, k=1, batch_size=1000)\n",
    "print(f'\\n{recall_at_1 * 100:.2f}%')"
   ]
  },
  {
   "cell_type": "markdown",
   "metadata": {
    "id": "zY5ZVq5ogzMI",
    "pycharm": {
     "name": "#%% md\n"
    }
   },
   "source": [
    "<a name='e15'></a>\n",
    "### Exercise 15: Evaluating retrieval methods\n",
    "\n",
    "(10p) Calculate recall for different values of $K$ for all methods:\n",
    "- BOW,\n",
    "- TF-IDF,\n",
    "- Pre-trained embeddings.\n",
    "\n",
    "Discuss the results.\n",
    "Comment on how recall changes based on the value of $K$. Are the results expected or surprising?"
   ]
  },
  {
   "cell_type": "code",
   "execution_count": null,
   "metadata": {
    "collapsed": false,
    "pycharm": {
     "name": "#%%\n"
    }
   },
   "outputs": [],
   "source": [
    "#### YOUR CODE HERE\n",
    "\n",
    "\n",
    "\n",
    "### YOUR CODE ENDS HERE"
   ]
  },
  {
   "cell_type": "markdown",
   "metadata": {
    "collapsed": false,
    "pycharm": {
     "name": "#%% md\n"
    }
   },
   "source": [
    "<a name='e16'></a>\n",
    "### Exercise 16: Improving retrieval\n",
    "\n",
    "(10p) Imagine that you work at a company and are tasked with delivering the best retrieval method. Select the most promising one and try to improve the scores (e.g. by changing the vocab size, loading different model, etc.).\n",
    "Discuss the results you achieve, even if you didn't manage to improve the scores."
   ]
  },
  {
   "cell_type": "code",
   "execution_count": null,
   "metadata": {
    "id": "YA9bEm5ehMq8",
    "pycharm": {
     "name": "#%%\n"
    }
   },
   "outputs": [],
   "source": [
    "#### YOUR CODE HERE\n",
    "\n",
    "\n",
    "\n",
    "### YOUR CODE ENDS HERE"
   ]
  },
  {
   "cell_type": "markdown",
   "metadata": {
    "collapsed": false,
    "pycharm": {
     "name": "#%% md\n"
    }
   },
   "source": [
    "// your comments"
   ]
  }
 ],
 "metadata": {
  "colab": {
   "provenance": [],
   "toc_visible": true
  },
  "kernelspec": {
   "display_name": "Python 3",
   "language": "python",
   "name": "python3"
  },
  "language_info": {
   "codemirror_mode": {
    "name": "ipython",
    "version": 3
   },
   "file_extension": ".py",
   "mimetype": "text/x-python",
   "name": "python",
   "nbconvert_exporter": "python",
   "pygments_lexer": "ipython3",
   "version": "3.10.1"
  }
 },
 "nbformat": 4,
 "nbformat_minor": 0
}
