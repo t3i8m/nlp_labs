{
 "cells": [
  {
   "cell_type": "markdown",
   "metadata": {
    "collapsed": false,
    "id": "od2YkWY8pSOC",
    "pycharm": {
     "name": "#%% md\n"
    }
   },
   "source": [
    "# NLP 2025\n",
    "# Lab 2: Word Vectors and Information Retrieval\n",
    "\n",
    "During the first few weeks, we discussed various ways to represent text 📝. One key question was: What should be the basic unit of representation? Words are the fundamental building blocks 🧱.\n",
    "\n",
    "In this lab, we will explore different text representation models, such as Bag-of-Words (BoW), TF-IDF and word embeddings 🔤➡️🔢. Among these, word embeddings are the most effective in terms of performance. They represent each word as a vector of numbers, where each vector captures the meaning of the word 🧠📊.\n",
    "\n",
    "These numerical representations (or weights) are learned using machine learning models 🤖. We’ll dive deeper into how these vectors are learned in the next lecture 📚.\n",
    "\n",
    "For now, we’ll focus on how different representation methods affect performance in an information retrieval task 🔍."
   ]
  },
  {
   "cell_type": "markdown",
   "metadata": {
    "collapsed": false,
    "id": "s93LS5bspSOD",
    "pycharm": {
     "name": "#%% md\n"
    }
   },
   "source": [
    "By the end of this lab, you should be able to:\n",
    "\n",
    "+ 🧼🔁 Implement and/or use built-in functions to preprocess your data (once again!)\n",
    "+ 🧱👜 Build a Bag-of-Words representation of the dataset\n",
    "+ 📊✨ Implement TF-IDF\n",
    "+ 📥🔤 Load pre-trained word embeddings\n",
    "+ 🔍🧠 Inspect and test word embedding properties\n",
    "+ 🗣️➡️📐 Use word embeddings to get sentence representations (aka sentence embeddings)\n",
    "+ 🧩🔎 Use sentence embeddings to solve more complex tasks like information retrieval\n",
    "+ 🧪📏 Design evaluation frameworks for specific NLP tasks and assess their difficulty\n",
    "\n",
    "### Score breakdown\n",
    "\n",
    "| Exercise            | Points |\n",
    "|---------------------|--------|\n",
    "| [Exercise 1](#e1)   | 1      |\n",
    "| [Exercise 2](#e2)   | 1      |\n",
    "| [Exercise 3](#e3)   | 1      |\n",
    "| [Exercise 4](#e4)   | 1      |\n",
    "| [Exercise 5](#e5)   | 1      |\n",
    "| [Exercise 6](#e6)   | 2      |\n",
    "| [Exercise 7](#e7)   | 10     |\n",
    "| [Exercise 8](#e8)   | 5      |\n",
    "| [Exercise 9](#e9)   | 15     |\n",
    "| [Exercise 10](#e10) | 10     |\n",
    "| [Exercise 11](#e11) | 10     |\n",
    "| [Exercise 12](#e12) | 5      |\n",
    "| [Exercise 13](#e13) | 15     |\n",
    "| [Exercise 14](#e14) | 3      |\n",
    "| [Exercise 15](#e15) | 10     |\n",
    "| [Exercise 16](#e16) | 10     |\n",
    "| Total               | 100    |\n",
    "\n",
    "This score will be scaled down to 1 and that will be your final lab score.\n",
    "\n",
    "### 📌 **Instructions for Delivery** (📅 **Deadline: 18/Apr 18:00**, 🎭 *wildcards possible*)\n",
    "\n",
    "✅ **Submission Requirements**\n",
    "+ 📄 You need to submit a **PDF of your report** (use the templates provided in **LaTeX** 🖋️ (*preferred*) or **Word** 📑) and a **copy of your notebook** 📓 with the code.\n",
    "+ ⚡ Make sure that **all cells are executed properly** ⚙️ and that **all figures/results/plots** 📊 you include in the report are also visible in your **executed notebook**.\n",
    "\n",
    "✅ **Collaboration & Integrity**\n",
    "+ 🗣️ While you may **discuss** the lab with others, you must **write your solutions with your group only**. If you **discuss specific tasks** with others, please **include their names** in the appendix of the report.\n",
    "+ 📜 **Honor Code applies** to this lab. For more details, check **Syllabus §7.2** ⚖️.\n",
    "+ 📢 **Mandatory Disclosure**:\n",
    "   - Any **websites** 🌐 (e.g., **Stack Overflow** 💡) or **other resources** used must be **listed and disclosed**.\n",
    "   - Any **GenAI tools** 🤖 (e.g., **ChatGPT**) used must be **explicitly mentioned**.\n",
    "   - 🚨 **Failure to disclose these resources is a violation of academic integrity**. See **Syllabus §7.3** for details."
   ]
  },
  {
   "cell_type": "markdown",
   "metadata": {
    "collapsed": false,
    "id": "aHYGq5RUpSOD",
    "pycharm": {
     "name": "#%% md\n"
    }
   },
   "source": [
    "## 0. Setup\n",
    "\n",
    "As in the last lab, we will be using huggingface datasets library ([https://huggingface.co/datasets](https://huggingface.co/datasets)). You can find the detailed documentation and tutorials here: [https://huggingface.co/docs/datasets/en/index](https://huggingface.co/docs/datasets/en/index)\n",
    "\n",
    "If you don't have it installed you can run the code below or install it via `pip` in your terminal. If you are using Google Colab, you can uncomment and run the code below in a code cell. Restarting of the runtime may be required after installation (Runtime/Restart session)."
   ]
  },
  {
   "cell_type": "code",
   "execution_count": 1,
   "metadata": {
    "id": "rhEG8hKrpSOE",
    "pycharm": {
     "name": "#%%\n"
    }
   },
   "outputs": [],
   "source": [
    "# ! pip install -U datasets~=3.5.0\n",
    "# ! pip install -U gensim\n",
    "# ! python -m pip install -U matplotlib\n",
    "# ! pip install nltk\n",
    "# ! pip install -U scikit-learn"
   ]
  },
  {
   "cell_type": "markdown",
   "metadata": {
    "collapsed": false,
    "pycharm": {
     "name": "#%% md\n"
    }
   },
   "source": [
    "Previously installed datasets library version of 3.2.0 had an error when combined with numpy version >2. If you encounter an error at some point it might require to update the datasets library to the newer version. You can do that by running the code below. If you are using Google Colab, you can run the code below in a code cell. If you are using Jupyter Notebook, you can run the code below in a code cell or in a terminal."
   ]
  },
  {
   "cell_type": "code",
   "execution_count": 2,
   "metadata": {
    "collapsed": false,
    "pycharm": {
     "name": "#%%\n"
    }
   },
   "outputs": [],
   "source": [
    "# ! pip install --upgrade --force-reinstall datasets"
   ]
  },
  {
   "cell_type": "markdown",
   "metadata": {
    "collapsed": false,
    "id": "5CCI1TPJpSOF",
    "pycharm": {
     "name": "#%% md\n"
    }
   },
   "source": [
    "As usual, we start by importing some essential Python libraries and we will be using. Apart from `gensim` (which is going to be used for word embeddings), we have already seen the others."
   ]
  },
  {
   "cell_type": "code",
   "execution_count": 3,
   "metadata": {
    "id": "CRe8W4hKpSOF",
    "pycharm": {
     "name": "#%%\n"
    }
   },
   "outputs": [
    {
     "name": "stderr",
     "output_type": "stream",
     "text": [
      "[nltk_data] Downloading package punkt_tab to\n",
      "[nltk_data]     C:\\Users\\Timur\\AppData\\Roaming\\nltk_data...\n",
      "[nltk_data]   Unzipping tokenizers\\punkt_tab.zip.\n"
     ]
    },
    {
     "data": {
      "text/plain": [
       "True"
      ]
     },
     "execution_count": 3,
     "metadata": {},
     "output_type": "execute_result"
    }
   ],
   "source": [
    "import re\n",
    "\n",
    "import numpy as np\n",
    "import matplotlib.pyplot as plt\n",
    "import datasets\n",
    "import nltk\n",
    "import tqdm\n",
    "import gensim\n",
    "\n",
    "nltk.download('punkt_tab')"
   ]
  },
  {
   "cell_type": "markdown",
   "metadata": {
    "collapsed": false,
    "id": "NXy-1KiCpSOF",
    "pycharm": {
     "name": "#%% md\n"
    }
   },
   "source": [
    "## 1. Load and Preprocess Data\n",
    "\n",
    "*Sentence compression* involves rephrasing sentences to make them shorter while still retaining the original meaning. A reliable compression system would be valuable for mobile devices and could also serve as a component in an extractive summarization system.\n",
    "\n",
    "The dataset we are going to use can be found on [Huggingface](https://huggingface.co/datasets/embedding-data/sentence-compression). It concerns a set of 180,000 pairs of sentences, aka it is a parallel corpus of sentences and their equivalent compressions. It has been collected by harvesting news articles from the Internet where the headline appears to be similar to the first sentence and that property is used to find an \"extractive\" compression of the sentence.\n",
    "\n",
    "For example, for the sentence\n",
    "\n",
    "`\"Regulators Friday shut down a small Florida bank, bringing to 119 the number of US bank failures this year amid mounting loan defaults\"`\n",
    "\n",
    "the compressed equivalent (based on the dataset) is:\n",
    "\n",
    "`\"Regulators shut down small Florida bank\"`.\n",
    "\n",
    "\n",
    "For more information you can read the original paper (from Google) [here](https://aclanthology.org/D13-1155.pdf). We strongly recommend going over the paper to gain further insights. Notice that the paper is from 2013, therefore word embeddings have not been widely introduced yet in NLP tasks, meaning that the methods applied were based on the traditional NLP pipeline (feature extraction + ML)."
   ]
  },
  {
   "cell_type": "markdown",
   "metadata": {
    "collapsed": false,
    "id": "ztJX2GRVpSOF",
    "pycharm": {
     "name": "#%% md\n"
    }
   },
   "source": [
    "### 1.1 Loading the Dataset\n",
    "\n",
    "The dataset will be loaded as a Pandas DataFrame. This may take a few minutes because of the large size of the data.\n",
    "\n",
    "Make sure to inspect the dataset and make sure it is imported properly."
   ]
  },
  {
   "cell_type": "code",
   "execution_count": 4,
   "metadata": {
    "id": "tay2NXPTpSOG",
    "pycharm": {
     "name": "#%%\n"
    }
   },
   "outputs": [
    {
     "data": {
      "application/vnd.jupyter.widget-view+json": {
       "model_id": "371e15ea68b84472bbc5ca696e38b444",
       "version_major": 2,
       "version_minor": 0
      },
      "text/plain": [
       "README.md:   0%|          | 0.00/4.88k [00:00<?, ?B/s]"
      ]
     },
     "metadata": {},
     "output_type": "display_data"
    },
    {
     "name": "stderr",
     "output_type": "stream",
     "text": [
      "c:\\Users\\Timur\\AppData\\Local\\Programs\\Python\\Python39\\lib\\site-packages\\huggingface_hub\\file_download.py:140: UserWarning: `huggingface_hub` cache-system uses symlinks by default to efficiently store duplicated files but your machine does not support them in C:\\Users\\Timur\\.cache\\huggingface\\hub\\datasets--embedding-data--sentence-compression. Caching files will still work but in a degraded version that might require more space on your disk. This warning can be disabled by setting the `HF_HUB_DISABLE_SYMLINKS_WARNING` environment variable. For more details, see https://huggingface.co/docs/huggingface_hub/how-to-cache#limitations.\n",
      "To support symlinks on Windows, you either need to activate Developer Mode or to run Python as an administrator. In order to activate developer mode, see this article: https://docs.microsoft.com/en-us/windows/apps/get-started/enable-your-device-for-development\n",
      "  warnings.warn(message)\n"
     ]
    },
    {
     "data": {
      "application/vnd.jupyter.widget-view+json": {
       "model_id": "c4e6613de79047dc87b574b282c34258",
       "version_major": 2,
       "version_minor": 0
      },
      "text/plain": [
       "sentence-compression_compressed.jsonl.gz:   0%|          | 0.00/14.2M [00:00<?, ?B/s]"
      ]
     },
     "metadata": {},
     "output_type": "display_data"
    },
    {
     "data": {
      "application/vnd.jupyter.widget-view+json": {
       "model_id": "37386e05f6314b9faf716dd9ddd29f52",
       "version_major": 2,
       "version_minor": 0
      },
      "text/plain": [
       "Generating train split:   0%|          | 0/180000 [00:00<?, ? examples/s]"
      ]
     },
     "metadata": {},
     "output_type": "display_data"
    },
    {
     "name": "stdout",
     "output_type": "stream",
     "text": [
      "DatasetDict({\n",
      "    train: Dataset({\n",
      "        features: ['set'],\n",
      "        num_rows: 180000\n",
      "    })\n",
      "})\n"
     ]
    }
   ],
   "source": [
    "ds = datasets.load_dataset('embedding-data/sentence-compression')\n",
    "print(ds)"
   ]
  },
  {
   "cell_type": "code",
   "execution_count": 5,
   "metadata": {
    "id": "bUud3eZVpSOH",
    "pycharm": {
     "name": "#%%\n"
    }
   },
   "outputs": [
    {
     "name": "stdout",
     "output_type": "stream",
     "text": [
      "{'set': [\"The USHL completed an expansion draft on Monday as 10 players who were on the rosters of USHL teams during the 2009-10 season were selected by the League's two newest entries, the Muskegon Lumberjacks and Dubuque Fighting Saints.\", 'USHL completes expansion draft']}\n",
      "{'set': ['Major League Baseball Commissioner Bud Selig will be speaking at St. Norbert College next month.', 'Bud Selig to speak at St. Norbert College']}\n",
      "{'set': [\"It's fresh cherry time in Michigan and the best time to enjoy this delicious and nutritious fruit.\", \"It's cherry time\"]}\n",
      "{'set': ['An Evesham man is facing charges in Pennsylvania after he allegedly dragged his girlfriend from the side of his pickup truck on the campus of Kutztown University in the early morning hours of Dec. 5, police said.', 'Evesham man faces charges for Pa.']}\n",
      "{'set': [\"NRT LLC, one of the nation's largest residential real estate brokerage companies, announced several executive appointments within its Coldwell Banker Residential Brokerage operations in Southern California.\", 'NRT announces executive appointments at its Coldwell Banker operations in Southern California']}\n",
      "{'set': ['THE JSE kept toying with an all time high by midday today as resources continued to fuel the bourse.', 'JSE keeps toying with all time high']}\n",
      "{'set': ['The government is defending the latest police crime statistics despite a worrying rise in the recorded amount of violent offending.', 'Government defends crime statistics']}\n",
      "{'set': ['The renovated Marappalam bridge, which had been opened for two-wheelers last week, was opened for other vehicles also on Friday.', 'Marappalam bridge opened']}\n",
      "{'set': ['A new survey shows 30 percent of Californians use Twitter, and more and more of us are using our smart phones to go online.', 'Survey: 30 percent of Californians use Twitter']}\n",
      "{'set': ['Brightpoint ,a provider of logistic services to the mobile industry, has started operations in the Turkish market.', 'Brightpoint starts operations on Turkish market']}\n"
     ]
    }
   ],
   "source": [
    "for i in range(10):\n",
    "    print(ds['train'][i])"
   ]
  },
  {
   "cell_type": "markdown",
   "metadata": {
    "collapsed": false,
    "id": "HfJSiWxrpSOH",
    "pycharm": {
     "name": "#%% md\n"
    }
   },
   "source": [
    "The dataset comes with only the `train` split so we will have to split it ourselves."
   ]
  },
  {
   "cell_type": "code",
   "execution_count": 6,
   "metadata": {
    "id": "tATL53MWpSOH",
    "pycharm": {
     "name": "#%%\n"
    }
   },
   "outputs": [
    {
     "name": "stdout",
     "output_type": "stream",
     "text": [
      "DatasetDict({\n",
      "    train: Dataset({\n",
      "        features: ['set'],\n",
      "        num_rows: 144000\n",
      "    })\n",
      "    test: Dataset({\n",
      "        features: ['set'],\n",
      "        num_rows: 36000\n",
      "    })\n",
      "})\n"
     ]
    }
   ],
   "source": [
    "split_ds = ds['train'].train_test_split(test_size=0.2)\n",
    "print(split_ds)"
   ]
  },
  {
   "cell_type": "markdown",
   "metadata": {
    "collapsed": false,
    "id": "L133t3CqpSOH",
    "pycharm": {
     "name": "#%% md\n"
    }
   },
   "source": [
    "### 1.2 Preprocessing the dataset\n",
    "In this section we will prepare the dataset, aka clean the sentences and tokenize.\n",
    "\n",
    "First, let's write the function to clean the text. It can be similar to the one from the previous lab (Lab1) but make sure that it makes sense for this dataset and task.\n",
    "\n",
    "More specifically, think about lower-casing, punctuation, stop-words and lemmatization/stemming and the impact it might have on the dataset. Also reflect on the fact that with word embeddings we want to uncover semantic relationships between words, whereas with bag-of-words we were trying to capture different morphological variations."
   ]
  },
  {
   "cell_type": "markdown",
   "metadata": {
    "collapsed": false,
    "id": "mQszN6GNpSOH",
    "pycharm": {
     "name": "#%% md\n"
    }
   },
   "source": [
    "<a name='e1'></a>\n",
    "### Exercise 1: Clean function\n",
    "(1p) Fill in the following function ot clean the dataset. Implement at least 3 different steps."
   ]
  },
  {
   "cell_type": "code",
   "execution_count": 7,
   "metadata": {},
   "outputs": [
    {
     "name": "stderr",
     "output_type": "stream",
     "text": [
      "[nltk_data] Downloading package wordnet to\n",
      "[nltk_data]     C:\\Users\\Timur\\AppData\\Roaming\\nltk_data...\n",
      "[nltk_data] Downloading package averaged_perceptron_tagger_eng to\n",
      "[nltk_data]     C:\\Users\\Timur\\AppData\\Roaming\\nltk_data...\n",
      "[nltk_data]   Unzipping taggers\\averaged_perceptron_tagger_eng.zip.\n"
     ]
    },
    {
     "data": {
      "text/plain": [
       "True"
      ]
     },
     "execution_count": 7,
     "metadata": {},
     "output_type": "execute_result"
    }
   ],
   "source": [
    "nltk.download('wordnet')\n",
    "nltk.download('averaged_perceptron_tagger_eng')"
   ]
  },
  {
   "cell_type": "code",
   "execution_count": 8,
   "metadata": {},
   "outputs": [],
   "source": [
    "from nltk.corpus import wordnet\n",
    "\n",
    "def get_wordnet_pos(treebank_tag):\n",
    "    \"\"\"\n",
    "    get pos tags\n",
    "    \"\"\"\n",
    "    if treebank_tag.startswith('J'):\n",
    "        return wordnet.ADJ\n",
    "    elif treebank_tag.startswith('V'):\n",
    "        return wordnet.VERB\n",
    "    elif treebank_tag.startswith('N'):\n",
    "        return wordnet.NOUN\n",
    "    elif treebank_tag.startswith('R'):\n",
    "        return wordnet.ADV\n",
    "    else:\n",
    "        return wordnet.NOUN "
   ]
  },
  {
   "cell_type": "code",
   "execution_count": 9,
   "metadata": {
    "id": "TxjfLQj6pSOH",
    "pycharm": {
     "name": "#%%\n"
    }
   },
   "outputs": [],
   "source": [
    "def clean(text):\n",
    "    \"\"\"\n",
    "    Cleans the given text\n",
    "    Args:\n",
    "        text: a str with the text to clean\n",
    "\n",
    "    Returns: a str with the cleaned text\n",
    "\n",
    "    \"\"\"\n",
    "\n",
    "    # Empty text\n",
    "    if text == '':\n",
    "        return text\n",
    "\n",
    "    # 'text' from the example can be of type numpy.str_, let's convert it to a python str\n",
    "    text = str(text)\n",
    "\n",
    "    #you might need more\n",
    "    #add them here\n",
    "\n",
    "    ### YOUR CODE HERE\n",
    "    text = text.lower() # bringing to the lowercase\n",
    "\n",
    "    # punctuation removal\n",
    "    pattern = r\"[^\\w\\s]\"\n",
    "    text = re.sub(pattern, \"\", text)\n",
    "\n",
    "    # stop words removal (is, and, the...) is not nescessary, may transform the context, especially when we are dealing with the sentence compression\n",
    "\n",
    "    # lemmatization \n",
    "    lemmatizer = nltk.stem.WordNetLemmatizer()\n",
    "    tagged = nltk.pos_tag(text.split())\n",
    "    text = [lemmatizer.lemmatize(n, get_wordnet_pos(pos)) for n, pos in tagged]\n",
    "    \n",
    "    text = \" \".join(text)\n",
    "    ### YOUR CODE ENDS HERE\n",
    "\n",
    "    text = text.strip()\n",
    "\n",
    "    # Update the example with the cleaned text\n",
    "    return text"
   ]
  },
  {
   "cell_type": "markdown",
   "metadata": {
    "collapsed": false,
    "id": "gAqf1AoupSOJ",
    "pycharm": {
     "name": "#%% md\n"
    }
   },
   "source": [
    "The following function will apply the function (sic) you just wrote to the whole dataset. More specifically, it takes the first entry (`sentence`) from the set of uncompressed/compressed pairs, applies the `clean` function and saves the processed sentence in the field `clean_sentence`. The same is dome for the compressed version of the sentence (saved as `clean_compressed`)."
   ]
  },
  {
   "cell_type": "code",
   "execution_count": 10,
   "metadata": {
    "id": "WZn-M4_vpSOJ",
    "pycharm": {
     "name": "#%%\n"
    }
   },
   "outputs": [],
   "source": [
    "def clean_dataset(example):\n",
    "    \"\"\"\n",
    "    Cleans the sentence and compressed sentence in the example from the Dataset\n",
    "    Args:\n",
    "        example: an example from the Dataset\n",
    "\n",
    "    Returns: updated example with 'clean_sentence' and 'clean_compressed' cleaned\n",
    "\n",
    "    \"\"\"\n",
    "    sentence, compressed = example['set']\n",
    "    clean_sentence = clean(sentence)\n",
    "    clean_compressed = clean(compressed)\n",
    "    example['clean_sentence'] = clean_sentence\n",
    "    example['clean_compressed'] = clean_compressed\n",
    "    return example"
   ]
  },
  {
   "cell_type": "markdown",
   "metadata": {
    "collapsed": false,
    "id": "_KVujosKpSOJ",
    "pycharm": {
     "name": "#%% md\n"
    }
   },
   "source": [
    "Below we apply the function to the whole dataset (using `map`) and we can also inspect the result."
   ]
  },
  {
   "cell_type": "code",
   "execution_count": 11,
   "metadata": {
    "id": "NBS1JbISpSOJ",
    "pycharm": {
     "name": "#%%\n"
    }
   },
   "outputs": [
    {
     "name": "stderr",
     "output_type": "stream",
     "text": [
      "Parameter 'function'=<function clean_dataset at 0x00000142204850D0> of the transform datasets.arrow_dataset.Dataset._map_single couldn't be hashed properly, a random hash was used instead. Make sure your transforms and parameters are serializable with pickle or dill for the dataset fingerprinting and caching to work. If you reuse this transform, the caching mechanism will consider it to be different from the previous calls and recompute everything. This warning is only showed once. Subsequent hashing failures won't be showed.\n"
     ]
    },
    {
     "data": {
      "application/vnd.jupyter.widget-view+json": {
       "model_id": "710cfa25328d41b5809f92289ea3b2df",
       "version_major": 2,
       "version_minor": 0
      },
      "text/plain": [
       "Map:   0%|          | 0/144000 [00:00<?, ? examples/s]"
      ]
     },
     "metadata": {},
     "output_type": "display_data"
    },
    {
     "data": {
      "application/vnd.jupyter.widget-view+json": {
       "model_id": "39aa295c7d4b457082b0df1efcd56f6e",
       "version_major": 2,
       "version_minor": 0
      },
      "text/plain": [
       "Map:   0%|          | 0/36000 [00:00<?, ? examples/s]"
      ]
     },
     "metadata": {},
     "output_type": "display_data"
    },
    {
     "name": "stdout",
     "output_type": "stream",
     "text": [
      "DatasetDict({\n",
      "    train: Dataset({\n",
      "        features: ['set', 'clean_sentence', 'clean_compressed'],\n",
      "        num_rows: 144000\n",
      "    })\n",
      "    test: Dataset({\n",
      "        features: ['set', 'clean_sentence', 'clean_compressed'],\n",
      "        num_rows: 36000\n",
      "    })\n",
      "})\n"
     ]
    }
   ],
   "source": [
    "split_ds = split_ds.map(clean_dataset)\n",
    "print(split_ds)"
   ]
  },
  {
   "cell_type": "markdown",
   "metadata": {
    "collapsed": false,
    "id": "X_ThE9H-pSOJ",
    "pycharm": {
     "name": "#%% md\n"
    }
   },
   "source": [
    "Let's examine some examples from the dataset and make sure that we got the results we wanted. At this step, it might be necessary to revisit some pre-processing steps if you are not happy with the results."
   ]
  },
  {
   "cell_type": "code",
   "execution_count": 12,
   "metadata": {
    "id": "hP-qOPijpSOJ",
    "pycharm": {
     "name": "#%%\n"
    }
   },
   "outputs": [
    {
     "name": "stdout",
     "output_type": "stream",
     "text": [
      "{'set': ['A rebound in exports by the battered auto industry helped Canada post a small trade surplus in February of $126 million after sliding into the biggest trade deficit on record in January, Statistics Canada said on Thursday.', 'Canada posts trade surplus'], 'clean_sentence': 'a rebound in export by the battered auto industry help canada post a small trade surplus in february of 126 million after slide into the big trade deficit on record in january statistic canada say on thursday', 'clean_compressed': 'canada post trade surplus'}\n",
      "{'set': [\"Russia is building a new missile to respond to the US missile defense system in Europe, the country's strategic missile troop commander said.\", 'Russia building new missile'], 'clean_sentence': 'russia be build a new missile to respond to the u missile defense system in europe the country strategic missile troop commander say', 'clean_compressed': 'russia build new missile'}\n",
      "{'set': ['AP Basketball Writer Jason Kidd retired Monday from the NBA after 19 seasons, ending one of the greatest careers for a point guard in league history.', 'Jason Kidd retiring from NBA after 19 seasons'], 'clean_sentence': 'ap basketball writer jason kidd retire monday from the nba after 19 season end one of the great career for a point guard in league history', 'clean_compressed': 'jason kidd retire from nba after 19 season'}\n",
      "{'set': ['Portugal striker Helder Postiga is moving from Porto to Sporting Lisbon for ¤2.5 million.', \"Portugal's Postiga moves from Porto to Sporting Lisbon\"], 'clean_sentence': 'portugal striker helder postiga be move from porto to sport lisbon for 25 million', 'clean_compressed': 'portugal postiga move from porto to sport lisbon'}\n",
      "{'set': ['Stocks have proven the naysayers wrong so far in 2012.', 'Stocks prove naysayers wrong'], 'clean_sentence': 'stock have prove the naysayer wrong so far in 2012', 'clean_compressed': 'stock prove naysayer wrong'}\n",
      "{'set': ['Wire Staff Assisted-suicide advocate Jack Kevorkian has been hospitalized in Michigan for pneumonia and a kidney-related ailment, his attorney said Thursday.', 'Kevorkian hospitalized for pneumonia'], 'clean_sentence': 'wire staff assistedsuicide advocate jack kevorkian have be hospitalize in michigan for pneumonia and a kidneyrelated ailment his attorney say thursday', 'clean_compressed': 'kevorkian hospitalize for pneumonia'}\n",
      "{'set': ['The Inca ruins site at Machu Picchu in Peru reopens to tourists Thursday after it was closed in January due to flooding and mud slides.', 'Machu Picchu reopens to tourists'], 'clean_sentence': 'the inca ruin site at machu picchu in peru reopens to tourist thursday after it be close in january due to flood and mud slide', 'clean_compressed': 'machu picchu reopen to tourist'}\n",
      "{'set': ['The Centre today asked Karnataka, Maharashtra and Andhra Pradesh to reach out to the people from northeast living in these states to allay apprehensions of threat following exodus of hundreds of people.', 'Centre asks Karnataka, Maharashtra, Andhra Pradesh to reach out to northeast people'], 'clean_sentence': 'the centre today ask karnataka maharashtra and andhra pradesh to reach out to the people from northeast living in these state to allay apprehension of threat follow exodus of hundred of people', 'clean_compressed': 'centre ask karnataka maharashtra andhra pradesh to reach out to northeast people'}\n",
      "{'set': ['A Providence poet has won a National Book Award for his work.', 'Providence poet wins National Book Award'], 'clean_sentence': 'a providence poet have win a national book award for his work', 'clean_compressed': 'providence poet win national book award'}\n",
      "{'set': [\"A DOCTOR used an ultrasound probe ''like it was a sex toy'' and had a delighted expression on his face as he fondled a female patient's genitals, a court has been told.\", \"Doctor used probe 'like a sex toy'\"], 'clean_sentence': 'a doctor use an ultrasound probe like it be a sex toy and have a delighted expression on his face a he fondle a female patient genitals a court have be tell', 'clean_compressed': 'doctor use probe like a sex toy'}\n"
     ]
    }
   ],
   "source": [
    "for i in range(10):\n",
    "    print(split_ds['train'][i])"
   ]
  },
  {
   "cell_type": "markdown",
   "metadata": {
    "collapsed": false,
    "id": "7LI2KlfypSOJ",
    "pycharm": {
     "name": "#%% md\n"
    }
   },
   "source": [
    "<a name='e2'></a>\n",
    "### Exercise 2: Tokenize function\n",
    "\n",
    "(1p) As always, we will need to tokenize the dataset in order to create bat-of-words and TF-IDF representations in the next sections. We will use the [Natural Language Toolkit (NLTK) library]([https://www.nltk.org/]) (https://www.nltk.org/). Complete the following function to split the text into tokens using the `word_tokenize()` function. Check the [documentation](https://www.nltk.org/api/nltk.tokenize.word_tokenize.html?highlight=word_tokenize) first.\n",
    "Note that there are different tokenizers e.g. `RegexpTokenizer` where you can enter your own regexp, `WhitespaceTokenizer` (similar to Python's string.split()) and `BlanklineTokenizer`."
   ]
  },
  {
   "cell_type": "code",
   "execution_count": 13,
   "metadata": {
    "id": "sb-M3V6ApSOK",
    "pycharm": {
     "name": "#%%\n"
    }
   },
   "outputs": [],
   "source": [
    "def tokenize(text):\n",
    "    \"\"\"\n",
    "    Tokenizes the `text` parameter using nltk library\n",
    "    Args:\n",
    "        text: a string representing a sentence to be tokenized\n",
    "\n",
    "    Returns: a list of tokens (strings)\n",
    "\n",
    "    \"\"\"\n",
    "\n",
    "    ### YOUR CODE HERE\n",
    "\n",
    "    tokens = nltk.tokenize.word_tokenize(text)\n",
    "\n",
    "    ### YOUR CODE ENDS HERE\n",
    "    return tokens"
   ]
  },
  {
   "cell_type": "markdown",
   "metadata": {
    "collapsed": false,
    "id": "gwsHqZc9pSOK",
    "pycharm": {
     "name": "#%% md\n"
    }
   },
   "source": [
    "Next, the function will be applied to the whole dataset (as we did with the pre-processing) and `sentence_tokens` field will be created to store the result."
   ]
  },
  {
   "cell_type": "code",
   "execution_count": 14,
   "metadata": {
    "id": "6sTX-AcTpSOK",
    "pycharm": {
     "name": "#%%\n"
    }
   },
   "outputs": [],
   "source": [
    "def tokenize_dataset(example):\n",
    "    \"\"\"\n",
    "    Tokenizes 'clean_sentence' columns in the example from the Dataset\n",
    "    Args:\n",
    "        example: an example from the Dataset\n",
    "\n",
    "    Returns: updated example with 'sentence_tokens' columns\n",
    "\n",
    "    \"\"\"\n",
    "    example['sentence_tokens'] = tokenize(example['clean_sentence'])\n",
    "    example['compressed_tokens'] = tokenize(example['clean_compressed'])\n",
    "    return example"
   ]
  },
  {
   "cell_type": "code",
   "execution_count": 15,
   "metadata": {
    "id": "jvwmXLj2pSOK",
    "pycharm": {
     "name": "#%%\n"
    }
   },
   "outputs": [
    {
     "data": {
      "application/vnd.jupyter.widget-view+json": {
       "model_id": "ce8c931c57e04d5cb618b4b464c397fa",
       "version_major": 2,
       "version_minor": 0
      },
      "text/plain": [
       "Map:   0%|          | 0/144000 [00:00<?, ? examples/s]"
      ]
     },
     "metadata": {},
     "output_type": "display_data"
    },
    {
     "data": {
      "application/vnd.jupyter.widget-view+json": {
       "model_id": "45923fc5a6074b2e9d6a745ea8517759",
       "version_major": 2,
       "version_minor": 0
      },
      "text/plain": [
       "Map:   0%|          | 0/36000 [00:00<?, ? examples/s]"
      ]
     },
     "metadata": {},
     "output_type": "display_data"
    }
   ],
   "source": [
    "split_ds = split_ds.map(tokenize_dataset)"
   ]
  },
  {
   "cell_type": "code",
   "execution_count": 16,
   "metadata": {
    "id": "yXnje31SpSOK",
    "pycharm": {
     "name": "#%%\n"
    }
   },
   "outputs": [
    {
     "name": "stdout",
     "output_type": "stream",
     "text": [
      "{'set': ['A rebound in exports by the battered auto industry helped Canada post a small trade surplus in February of $126 million after sliding into the biggest trade deficit on record in January, Statistics Canada said on Thursday.', 'Canada posts trade surplus'], 'clean_sentence': 'a rebound in export by the battered auto industry help canada post a small trade surplus in february of 126 million after slide into the big trade deficit on record in january statistic canada say on thursday', 'clean_compressed': 'canada post trade surplus', 'sentence_tokens': ['a', 'rebound', 'in', 'export', 'by', 'the', 'battered', 'auto', 'industry', 'help', 'canada', 'post', 'a', 'small', 'trade', 'surplus', 'in', 'february', 'of', '126', 'million', 'after', 'slide', 'into', 'the', 'big', 'trade', 'deficit', 'on', 'record', 'in', 'january', 'statistic', 'canada', 'say', 'on', 'thursday'], 'compressed_tokens': ['canada', 'post', 'trade', 'surplus']}\n",
      "{'set': [\"Russia is building a new missile to respond to the US missile defense system in Europe, the country's strategic missile troop commander said.\", 'Russia building new missile'], 'clean_sentence': 'russia be build a new missile to respond to the u missile defense system in europe the country strategic missile troop commander say', 'clean_compressed': 'russia build new missile', 'sentence_tokens': ['russia', 'be', 'build', 'a', 'new', 'missile', 'to', 'respond', 'to', 'the', 'u', 'missile', 'defense', 'system', 'in', 'europe', 'the', 'country', 'strategic', 'missile', 'troop', 'commander', 'say'], 'compressed_tokens': ['russia', 'build', 'new', 'missile']}\n",
      "{'set': ['AP Basketball Writer Jason Kidd retired Monday from the NBA after 19 seasons, ending one of the greatest careers for a point guard in league history.', 'Jason Kidd retiring from NBA after 19 seasons'], 'clean_sentence': 'ap basketball writer jason kidd retire monday from the nba after 19 season end one of the great career for a point guard in league history', 'clean_compressed': 'jason kidd retire from nba after 19 season', 'sentence_tokens': ['ap', 'basketball', 'writer', 'jason', 'kidd', 'retire', 'monday', 'from', 'the', 'nba', 'after', '19', 'season', 'end', 'one', 'of', 'the', 'great', 'career', 'for', 'a', 'point', 'guard', 'in', 'league', 'history'], 'compressed_tokens': ['jason', 'kidd', 'retire', 'from', 'nba', 'after', '19', 'season']}\n",
      "{'set': ['Portugal striker Helder Postiga is moving from Porto to Sporting Lisbon for ¤2.5 million.', \"Portugal's Postiga moves from Porto to Sporting Lisbon\"], 'clean_sentence': 'portugal striker helder postiga be move from porto to sport lisbon for 25 million', 'clean_compressed': 'portugal postiga move from porto to sport lisbon', 'sentence_tokens': ['portugal', 'striker', 'helder', 'postiga', 'be', 'move', 'from', 'porto', 'to', 'sport', 'lisbon', 'for', '25', 'million'], 'compressed_tokens': ['portugal', 'postiga', 'move', 'from', 'porto', 'to', 'sport', 'lisbon']}\n",
      "{'set': ['Stocks have proven the naysayers wrong so far in 2012.', 'Stocks prove naysayers wrong'], 'clean_sentence': 'stock have prove the naysayer wrong so far in 2012', 'clean_compressed': 'stock prove naysayer wrong', 'sentence_tokens': ['stock', 'have', 'prove', 'the', 'naysayer', 'wrong', 'so', 'far', 'in', '2012'], 'compressed_tokens': ['stock', 'prove', 'naysayer', 'wrong']}\n",
      "{'set': ['Wire Staff Assisted-suicide advocate Jack Kevorkian has been hospitalized in Michigan for pneumonia and a kidney-related ailment, his attorney said Thursday.', 'Kevorkian hospitalized for pneumonia'], 'clean_sentence': 'wire staff assistedsuicide advocate jack kevorkian have be hospitalize in michigan for pneumonia and a kidneyrelated ailment his attorney say thursday', 'clean_compressed': 'kevorkian hospitalize for pneumonia', 'sentence_tokens': ['wire', 'staff', 'assistedsuicide', 'advocate', 'jack', 'kevorkian', 'have', 'be', 'hospitalize', 'in', 'michigan', 'for', 'pneumonia', 'and', 'a', 'kidneyrelated', 'ailment', 'his', 'attorney', 'say', 'thursday'], 'compressed_tokens': ['kevorkian', 'hospitalize', 'for', 'pneumonia']}\n",
      "{'set': ['The Inca ruins site at Machu Picchu in Peru reopens to tourists Thursday after it was closed in January due to flooding and mud slides.', 'Machu Picchu reopens to tourists'], 'clean_sentence': 'the inca ruin site at machu picchu in peru reopens to tourist thursday after it be close in january due to flood and mud slide', 'clean_compressed': 'machu picchu reopen to tourist', 'sentence_tokens': ['the', 'inca', 'ruin', 'site', 'at', 'machu', 'picchu', 'in', 'peru', 'reopens', 'to', 'tourist', 'thursday', 'after', 'it', 'be', 'close', 'in', 'january', 'due', 'to', 'flood', 'and', 'mud', 'slide'], 'compressed_tokens': ['machu', 'picchu', 'reopen', 'to', 'tourist']}\n",
      "{'set': ['The Centre today asked Karnataka, Maharashtra and Andhra Pradesh to reach out to the people from northeast living in these states to allay apprehensions of threat following exodus of hundreds of people.', 'Centre asks Karnataka, Maharashtra, Andhra Pradesh to reach out to northeast people'], 'clean_sentence': 'the centre today ask karnataka maharashtra and andhra pradesh to reach out to the people from northeast living in these state to allay apprehension of threat follow exodus of hundred of people', 'clean_compressed': 'centre ask karnataka maharashtra andhra pradesh to reach out to northeast people', 'sentence_tokens': ['the', 'centre', 'today', 'ask', 'karnataka', 'maharashtra', 'and', 'andhra', 'pradesh', 'to', 'reach', 'out', 'to', 'the', 'people', 'from', 'northeast', 'living', 'in', 'these', 'state', 'to', 'allay', 'apprehension', 'of', 'threat', 'follow', 'exodus', 'of', 'hundred', 'of', 'people'], 'compressed_tokens': ['centre', 'ask', 'karnataka', 'maharashtra', 'andhra', 'pradesh', 'to', 'reach', 'out', 'to', 'northeast', 'people']}\n",
      "{'set': ['A Providence poet has won a National Book Award for his work.', 'Providence poet wins National Book Award'], 'clean_sentence': 'a providence poet have win a national book award for his work', 'clean_compressed': 'providence poet win national book award', 'sentence_tokens': ['a', 'providence', 'poet', 'have', 'win', 'a', 'national', 'book', 'award', 'for', 'his', 'work'], 'compressed_tokens': ['providence', 'poet', 'win', 'national', 'book', 'award']}\n",
      "{'set': [\"A DOCTOR used an ultrasound probe ''like it was a sex toy'' and had a delighted expression on his face as he fondled a female patient's genitals, a court has been told.\", \"Doctor used probe 'like a sex toy'\"], 'clean_sentence': 'a doctor use an ultrasound probe like it be a sex toy and have a delighted expression on his face a he fondle a female patient genitals a court have be tell', 'clean_compressed': 'doctor use probe like a sex toy', 'sentence_tokens': ['a', 'doctor', 'use', 'an', 'ultrasound', 'probe', 'like', 'it', 'be', 'a', 'sex', 'toy', 'and', 'have', 'a', 'delighted', 'expression', 'on', 'his', 'face', 'a', 'he', 'fondle', 'a', 'female', 'patient', 'genitals', 'a', 'court', 'have', 'be', 'tell'], 'compressed_tokens': ['doctor', 'use', 'probe', 'like', 'a', 'sex', 'toy']}\n"
     ]
    }
   ],
   "source": [
    "for i in range(10):\n",
    "    print(split_ds['train'][i])"
   ]
  },
  {
   "cell_type": "markdown",
   "metadata": {
    "collapsed": false,
    "id": "FeF0wFd0pSOL",
    "pycharm": {
     "name": "#%% md\n"
    }
   },
   "source": [
    "Since we will need the tokenized sentences, we can use the following statement to extract them from the `train` split of our dataset."
   ]
  },
  {
   "cell_type": "code",
   "execution_count": 17,
   "metadata": {
    "id": "qYKfXFxQpSOL",
    "pycharm": {
     "name": "#%%\n"
    }
   },
   "outputs": [
    {
     "name": "stdout",
     "output_type": "stream",
     "text": [
      "144000\n",
      "[['a', 'rebound', 'in', 'export', 'by', 'the', 'battered', 'auto', 'industry', 'help', 'canada', 'post', 'a', 'small', 'trade', 'surplus', 'in', 'february', 'of', '126', 'million', 'after', 'slide', 'into', 'the', 'big', 'trade', 'deficit', 'on', 'record', 'in', 'january', 'statistic', 'canada', 'say', 'on', 'thursday'], ['russia', 'be', 'build', 'a', 'new', 'missile', 'to', 'respond', 'to', 'the', 'u', 'missile', 'defense', 'system', 'in', 'europe', 'the', 'country', 'strategic', 'missile', 'troop', 'commander', 'say'], ['ap', 'basketball', 'writer', 'jason', 'kidd', 'retire', 'monday', 'from', 'the', 'nba', 'after', '19', 'season', 'end', 'one', 'of', 'the', 'great', 'career', 'for', 'a', 'point', 'guard', 'in', 'league', 'history'], ['portugal', 'striker', 'helder', 'postiga', 'be', 'move', 'from', 'porto', 'to', 'sport', 'lisbon', 'for', '25', 'million'], ['stock', 'have', 'prove', 'the', 'naysayer', 'wrong', 'so', 'far', 'in', '2012'], ['wire', 'staff', 'assistedsuicide', 'advocate', 'jack', 'kevorkian', 'have', 'be', 'hospitalize', 'in', 'michigan', 'for', 'pneumonia', 'and', 'a', 'kidneyrelated', 'ailment', 'his', 'attorney', 'say', 'thursday'], ['the', 'inca', 'ruin', 'site', 'at', 'machu', 'picchu', 'in', 'peru', 'reopens', 'to', 'tourist', 'thursday', 'after', 'it', 'be', 'close', 'in', 'january', 'due', 'to', 'flood', 'and', 'mud', 'slide'], ['the', 'centre', 'today', 'ask', 'karnataka', 'maharashtra', 'and', 'andhra', 'pradesh', 'to', 'reach', 'out', 'to', 'the', 'people', 'from', 'northeast', 'living', 'in', 'these', 'state', 'to', 'allay', 'apprehension', 'of', 'threat', 'follow', 'exodus', 'of', 'hundred', 'of', 'people'], ['a', 'providence', 'poet', 'have', 'win', 'a', 'national', 'book', 'award', 'for', 'his', 'work'], ['a', 'doctor', 'use', 'an', 'ultrasound', 'probe', 'like', 'it', 'be', 'a', 'sex', 'toy', 'and', 'have', 'a', 'delighted', 'expression', 'on', 'his', 'face', 'a', 'he', 'fondle', 'a', 'female', 'patient', 'genitals', 'a', 'court', 'have', 'be', 'tell']]\n"
     ]
    }
   ],
   "source": [
    "tokenized_sentences = split_ds['train']['sentence_tokens']\n",
    "print(len(tokenized_sentences))\n",
    "print(tokenized_sentences[:10])"
   ]
  },
  {
   "cell_type": "code",
   "execution_count": 18,
   "metadata": {
    "collapsed": false,
    "pycharm": {
     "name": "#%%\n"
    }
   },
   "outputs": [
    {
     "name": "stdout",
     "output_type": "stream",
     "text": [
      "144000\n",
      "[['canada', 'post', 'trade', 'surplus'], ['russia', 'build', 'new', 'missile'], ['jason', 'kidd', 'retire', 'from', 'nba', 'after', '19', 'season'], ['portugal', 'postiga', 'move', 'from', 'porto', 'to', 'sport', 'lisbon'], ['stock', 'prove', 'naysayer', 'wrong'], ['kevorkian', 'hospitalize', 'for', 'pneumonia'], ['machu', 'picchu', 'reopen', 'to', 'tourist'], ['centre', 'ask', 'karnataka', 'maharashtra', 'andhra', 'pradesh', 'to', 'reach', 'out', 'to', 'northeast', 'people'], ['providence', 'poet', 'win', 'national', 'book', 'award'], ['doctor', 'use', 'probe', 'like', 'a', 'sex', 'toy']]\n"
     ]
    }
   ],
   "source": [
    "tokenized_compressed = split_ds['train']['compressed_tokens']\n",
    "print(len(tokenized_compressed))\n",
    "print(tokenized_compressed[:10])"
   ]
  },
  {
   "cell_type": "markdown",
   "metadata": {
    "id": "ZDGwEiZeCA5U",
    "pycharm": {
     "name": "#%% md\n"
    }
   },
   "source": [
    "Notice the difference in the types of the different structures we use. Run the following cell to check the types. Do they make sense to you?"
   ]
  },
  {
   "cell_type": "code",
   "execution_count": 19,
   "metadata": {
    "id": "wKrkFmcZCtOd",
    "pycharm": {
     "name": "#%%\n"
    }
   },
   "outputs": [
    {
     "name": "stdout",
     "output_type": "stream",
     "text": [
      "<class 'datasets.dataset_dict.DatasetDict'>\n",
      "--\n",
      "{'set': [\"Russia is building a new missile to respond to the US missile defense system in Europe, the country's strategic missile troop commander said.\", 'Russia building new missile'], 'clean_sentence': 'russia be build a new missile to respond to the u missile defense system in europe the country strategic missile troop commander say', 'clean_compressed': 'russia build new missile', 'sentence_tokens': ['russia', 'be', 'build', 'a', 'new', 'missile', 'to', 'respond', 'to', 'the', 'u', 'missile', 'defense', 'system', 'in', 'europe', 'the', 'country', 'strategic', 'missile', 'troop', 'commander', 'say'], 'compressed_tokens': ['russia', 'build', 'new', 'missile']}\n",
      "<class 'dict'>\n",
      "--\n",
      "russia be build a new missile to respond to the u missile defense system in europe the country strategic missile troop commander say\n",
      "<class 'str'>\n",
      "--\n",
      "['russia', 'be', 'build', 'a', 'new', 'missile', 'to', 'respond', 'to', 'the', 'u', 'missile', 'defense', 'system', 'in', 'europe', 'the', 'country', 'strategic', 'missile', 'troop', 'commander', 'say']\n",
      "<class 'list'>\n",
      "--\n"
     ]
    }
   ],
   "source": [
    "#type of original dataset\n",
    "print(type(split_ds))\n",
    "print(\"--\")\n",
    "#type of original sentence\n",
    "print(split_ds['train'][1])\n",
    "print(type(split_ds['train'][1]))\n",
    "print(\"--\")\n",
    "#type of pre-proceesed sentence\n",
    "print(split_ds['train']['clean_sentence'][1])\n",
    "print(type(split_ds['train']['clean_sentence'][1]))\n",
    "print(\"--\")\n",
    "#type of tokenized sentence\n",
    "print(split_ds['train']['sentence_tokens'][1])\n",
    "print(type(split_ds['train']['sentence_tokens'][1]))\n",
    "print(\"--\")"
   ]
  },
  {
   "cell_type": "markdown",
   "metadata": {
    "collapsed": false,
    "pycharm": {
     "name": "#%% md\n"
    }
   },
   "source": [
    "## 2. Bag of Words\n",
    "In this section you will built a bag-of-words representation of the dataset. We will use numpy arrays to store the results. The bag-of-words representation is a simple and effective way to represent text data. It involves creating a vocabulary of unique words from the dataset and representing each sentence as a vector of word counts. We first need the vocabulary, which we will build from both the full sentences and the compressed sentences. Similar to the first lab, the vocabulary will be a list of unique words from the dataset."
   ]
  },
  {
   "cell_type": "markdown",
   "metadata": {
    "collapsed": false,
    "pycharm": {
     "name": "#%% md\n"
    }
   },
   "source": [
    "<a name='e3'></a>\n",
    "### Exercise 3: Extracting vocabulary counts\n",
    "\n",
    "(1p) In the following cell, you will implement a function that takes a list of tokenized sentences and returns a dictionary with the counts of each word in the vocabulary. The dictionary should be of the form {word: count}. As in previous lab, you will use the `Counter` class from the `collections` module to do this."
   ]
  },
  {
   "cell_type": "code",
   "execution_count": 20,
   "metadata": {
    "collapsed": false,
    "pycharm": {
     "name": "#%%\n"
    }
   },
   "outputs": [],
   "source": [
    "from collections import Counter\n",
    "\n",
    "\n",
    "def extract_vocabulary_counts(tokenized_sentences):\n",
    "    \"\"\"\n",
    "    Extracts the vocabulary from the tokenized sentences\n",
    "    Args:\n",
    "        tokenized_sentences: a list of lists of tokens\n",
    "\n",
    "    Returns: a Counter object with the counts of each word in the vocabulary\n",
    "    \"\"\"\n",
    "\n",
    "    ### YOUR CODE HERE\n",
    "\n",
    "    counter = Counter()\n",
    "    for n in tokenized_sentences:\n",
    "        counter.update(n)\n",
    "\n",
    "    return counter\n",
    "\n",
    "    ### YOUR CODE ENDS HERE"
   ]
  },
  {
   "cell_type": "code",
   "execution_count": 21,
   "metadata": {
    "collapsed": false,
    "pycharm": {
     "name": "#%%\n"
    }
   },
   "outputs": [
    {
     "name": "stdout",
     "output_type": "stream",
     "text": [
      "109507\n",
      "[('the', 183108), ('a', 136051), ('to', 130631), ('in', 113021), ('of', 100716), ('be', 93727), ('and', 68574), ('on', 56128), ('have', 55971), ('for', 52070)]\n"
     ]
    }
   ],
   "source": [
    "vocab_counter = extract_vocabulary_counts(tokenized_sentences + tokenized_compressed)\n",
    "print(len(vocab_counter))\n",
    "print(vocab_counter.most_common(10))"
   ]
  },
  {
   "cell_type": "markdown",
   "metadata": {
    "collapsed": false,
    "pycharm": {
     "name": "#%% md\n"
    }
   },
   "source": [
    "As you can see the size of the vocabulary is quite large. Like the last time, we will limit the vocabulary to the most frequent words. The next cell will create a dictionary that maps each word to an index in the vocabulary. This will be used to create the bag-of-words representation of the sentences."
   ]
  },
  {
   "cell_type": "code",
   "execution_count": 22,
   "metadata": {
    "collapsed": false,
    "pycharm": {
     "name": "#%%\n"
    }
   },
   "outputs": [
    {
     "name": "stdout",
     "output_type": "stream",
     "text": [
      "{'the': 0, 'a': 1, 'to': 2, 'in': 3, 'of': 4, 'be': 5, 'and': 6, 'on': 7, 'have': 8, 'for': 9, 'it': 10, 'with': 11, 'say': 12, 'at': 13, 'that': 14, 'from': 15, 'by': 16, 'new': 17, 'will': 18, 'after': 19, 'his': 20, 'an': 21, 'man': 22, 'year': 23, 'he': 24, 'u': 25, 'today': 26, 'police': 27, 'this': 28, 'two': 29, 'state': 30, 'report': 31, 'announce': 32, 'their': 33, 'her': 34, 'who': 35, 'over': 36, 'first': 37, 'up': 38, 'charge': 39, 'tuesday': 40, 'not': 41, 'more': 42, 'wednesday': 43, 'monday': 44, 'against': 45, 'thursday': 46, 'out': 47, 'friday': 48, 'president': 49, 'woman': 50, 'make': 51, 'former': 52, 'take': 53, 'launch': 54, 'million': 55, 'week': 56, 'into': 57, 'company': 58, 'one': 59, 'open': 60, 'world': 61, 'city': 62, 'day': 63, 'kill': 64, 'county': 65, 'win': 66, 'which': 67, 'service': 68, 'last': 69, 'accord': 70, 'home': 71, 'plan': 72, 'may': 73, 'time': 74, 'about': 75, 'bank': 76, 'die': 77, 'minister': 78, 'saturday': 79, 'month': 80, 'government': 81, 'release': 82, 'market': 83, 'than': 84, 'find': 85, 'arrest': 86, 'official': 87, 'sunday': 88, 'three': 89, 'people': 90, 'high': 91, 'school': 92, 'during': 93, 'show': 94, 'but': 95, 'country': 96, 'set': 97, 'price': 98, 'night': 99, 'fire': 100, 'when': 101, 'national': 102, 'get': 103, 'she': 104, 'call': 105, 'go': 106, 'india': 107, 'off': 108, 'they': 109, 'all': 110, 'hold': 111, 'sign': 112, 'court': 113, 'south': 114, 'end': 115, 'face': 116, 'next': 117, 'return': 118, 'group': 119, 'back': 120, 'morning': 121, 'business': 122, 'lead': 123, 'close': 124, 'game': 125, 'i': 126, 'second': 127, 'star': 128, 'team': 129, 'leave': 130, 'would': 131, 'down': 132, 'work': 133, 'could': 134, 'no': 135, 'obama': 136, 'rise': 137, 'stock': 138, 'car': 139, 'help': 140, 'fall': 141, 'play': 142, 'international': 143, 'season': 144, 'cut': 145, 'hit': 146, 'do': 147, 'child': 148, 'house': 149, 'start': 150, 'can': 151, 'china': 152, 'oil': 153, 'early': 154, 'share': 155, 'expect': 156, 'while': 157, 'american': 158, 'job': 159, 'continue': 160, 'follow': 161, 'leader': 162, 'use': 163, 'crash': 164, 'issue': 165, 'give': 166, 'attack': 167, 'death': 168, 'north': 169, 'offer': 170, 'hospital': 171, 'inc': 172, 'news': 173, 'sell': 174, 'or': 175, 'now': 176, 'move': 177, 'run': 178, 'record': 179, 'force': 180, 'office': 181, 'billion': 182, 'guilty': 183, 'come': 184, 'four': 185, 'global': 186, 'chief': 187, 'some': 188, 'officer': 189, 'security': 190, 'public': 191, 'late': 192, 'want': 193, 'head': 194, 'york': 195, 'him': 196, 'part': 197, 'sale': 198, 'visit': 199, 'student': 200, 'increase': 201, 'yesterday': 202, 'near': 203, 'league': 204, 'indian': 205, 'big': 206, 'health': 207, 'raise': 208, 'trade': 209, 'tell': 210, 'federal': 211, 'coach': 212, 'accuse': 213, 'support': 214, 'west': 215, 'united': 216, 'pay': 217, 'rate': 218, 'top': 219, 'pakistan': 220, 'meet': 221, 'under': 222, 'just': 223, 'deal': 224, 'right': 225, 'through': 226, 'area': 227, 'financial': 228, 'claim': 229, 'drug': 230, 'most': 231, 'life': 232, 'other': 233, 'system': 234, 'include': 235, '2012': 236, 'party': 237, '10': 238, 'percent': 239, 'john': 240, 'economic': 241, 'shoot': 242, 'five': 243, 'join': 244, 'before': 245, 'center': 246, 'bill': 247, 'power': 248, 'buy': 249, 'low': 250, 'local': 251, 'become': 252, 'another': 253, 'per': 254, 'begin': 255, 'file': 256, 'good': 257, 'look': 258, 'talk': 259, 'major': 260, 'remain': 261, 'street': 262, 'name': 263, 'host': 264, 'plead': 265, 'film': 266, 'lose': 267, 'player': 268, 'you': 269, 'if': 270, 'british': 271, 'change': 272, 'third': 273, 'test': 274, 'family': 275, 'dollar': 276, 'strike': 277, 'dead': 278, 'should': 279, 'large': 280, 'university': 281, 'here': 282, 'energy': 283, 'between': 284, 'need': 285, 'medium': 286, 'european': 287, 'general': 288, 'election': 289, 'free': 290, 'march': 291, 'order': 292, 'what': 293, 'sentence': 294, 'air': 295, 'club': 296, 'because': 297, 'girl': 298, 'road': 299, 'industry': 300, 'miss': 301, '1': 302, 'break': 303, 'member': 304, 'cup': 305, 'case': 306, 'district': 307, 'economy': 308, 'department': 309, 'receive': 310, 'gas': 311, 'tax': 312, 'due': 313, 'see': 314, 'point': 315, 'park': 316, 'uk': 317, 'authority': 318, 'beat': 319, 'award': 320, 'we': 321, 'murder': 322, '2010': 323, 'dy': 324, 'men': 325, 'fund': 326, 'post': 327, 'place': 328, 'london': 329, 'assault': 330, 'tour': 331, 'try': 332, 'online': 333, 'well': 334, 'store': 335, 'acquire': 336, 'way': 337, 'since': 338, 'weekend': 339, 'demand': 340, 'foreign': 341, 'technology': 342, 'six': 343, 'mobile': 344, 'reveal': 345, 'loss': 346, 'worker': 347, 'water': 348, 'capital': 349, 'campaign': 350, 'director': 351, '2011': 352, 'confirm': 353, 'contract': 354, 'series': 355, 'network': 356, 'central': 357, 'firm': 358, 'turn': 359, 'agency': 360, 'project': 361, 'like': 362, 'prime': 363, 'still': 364, 'board': 365, 'final': 366, 'st': 367, 'vote': 368, 'quarter': 369, 'food': 370, 'law': 371, 'number': 372, 'fight': 373, 'nation': 374, 'how': 375, 'program': 376, 'live': 377, 'australian': 378, 'there': 379, 'mark': 380, 'age': 381, 'future': 382, 'drop': 383, 'manager': 384, '20': 385, 'result': 386, 'june': 387, 'injure': 388, 'afternoon': 389, 'military': 390, 'development': 391, 'drive': 392, 'seek': 393, 'david': 394, 'cause': 395, 'add': 396, 'corp': 397, 'line': 398, '2': 399, 'celebrate': 400, 'actor': 401, 'iran': 402, 'injury': 403, 'keep': 404, 'community': 405, 'reach': 406, 'april': 407, 'ban': 408, 'council': 409, 'agree': 410, 'best': 411, 'where': 412, 'across': 413, 'cancer': 414, 'east': 415, 'them': 416, 'union': 417, 'data': 418, 'barack': 419, 'despite': 420, 'jail': 421, 'own': 422, 'send': 423, 'football': 424, 'cent': 425, 'around': 426, 'investment': 427, 'meeting': 428, 'fell': 429, 'operation': 430, 'product': 431, 'announces': 432, 'washington': 433, 'target': 434, 'rule': 435, 'prison': 436, 'plant': 437, 'growth': 438, '2013': 439, '11': 440, 'investor': 441, 'so': 442, 'provide': 443, 'even': 444, 'australia': 445, 'study': 446, 'body': 447, 'level': 448, 'champion': 449, 'again': 450, 'know': 451, 'management': 452, 'cost': 453, 'airline': 454, 'town': 455, '2009': 456, 'judge': 457, 'michael': 458, 'bring': 459, 'young': 460, 'agreement': 461, 'profit': 462, 'san': 463, 'gold': 464, 'research': 465, 'england': 466, 'strong': 467, 'driver': 468, 'money': 469, 'afghanistan': 470, '30': 471, 'warn': 472, 'stop': 473, 'expand': 474, 'budget': 475, 'conference': 476, 'only': 477, 'grow': 478, 'hour': 479, 'boy': 480, 'investigate': 481, 'long': 482, 'crisis': 483, '3': 484, 'chinese': 485, 'college': 486, 'gain': 487, 'allegedly': 488, 'great': 489, 'white': 490, 'red': 491, 'region': 492, 'provider': 493, 'private': 494, '15': 495, 'annual': 496, 'soldier': 497, 'as': 498, 'music': 499, 'surgery': 500, 'put': 501, 'several': 502, 'press': 503, 'fan': 504, 'trial': 505, '12': 506, 'tv': 507, 'july': 508, 'ask': 509, 'complete': 510, 'race': 511, 'step': 512, 'any': 513, 'vehicle': 514, 'old': 515, 'actress': 516, 'action': 517, 'russia': 518, 'base': 519, 'senior': 520, 'build': 521, 'consumer': 522, 'train': 523, 'title': 524, 'america': 525, 'pass': 526, 'japan': 527, 'war': 528, 'medical': 529, 'recently': 530, 'recent': 531, 'baby': 532, 'secretary': 533, 'sport': 534, 'credit': 535, 'political': 536, 'centre': 537, 'wife': 538, 'station': 539, 'resident': 540, 'production': 541, 'site': 542, 'nearly': 543, 'steal': 544, 'small': 545, 'suffer': 546, 'away': 547, 'giant': 548, 'care': 549, 'admit': 550, 'event': 551, 'special': 552, 'executive': 553, 'many': 554, 'side': 555, 'debt': 556, 'accident': 557, 'governor': 558, 'los': 559, 'interest': 560, '5': 561, 'create': 562, 'canada': 563, 'protest': 564, 'sex': 565, 'suspend': 566, 'pm': 567, 'brand': 568, 'control': 569, 'congress': 570, 'texas': 571, 'policy': 572, 'southern': 573, 'french': 574, 'flight': 575, 'republican': 576, 'premier': 577, 'extend': 578, 'russian': 579, 'declare': 580, 'heart': 581, 'source': 582, 'video': 583, 'likely': 584, 'senate': 585, 'my': 586, 'land': 587, 'presidential': 588, 'search': 589, 'fail': 590, 'bus': 591, 'korea': 592, 'january': 593, 'match': 594, 'singer': 595, 'customer': 596, 'emergency': 597, 'candidate': 598, 'role': 599, 'solution': 600, 'angeles': 601, 'google': 602, 'social': 603, 'ahead': 604, 'exchange': 605, 'israel': 606, 'appear': 607, 'loan': 608, 'condition': 609, 'property': 610, 'apple': 611, 'information': 612, 'sector': 613, 'concern': 614, 'also': 615, 'ministry': 616, 'develop': 617, 'brown': 618, '4': 619, 'nuclear': 620, 'partner': 621, 'german': 622, 'coast': 623, 'shot': 624, 'owner': 625, 'canadian': 626, '2008': 627, 'guard': 628, 'summer': 629, '100': 630, 'amid': 631, 'teacher': 632, 'paul': 633, 'river': 634, 'act': 635, 'grand': 636, 'arrive': 637, 'both': 638, 'bid': 639, 'believe': 640, 'real': 641, 'allow': 642, 'without': 643, '25': 644, 'bond': 645, 'least': 646, 'ago': 647, 'approve': 648, 'chairman': 649, 'traffic': 650, 'california': 651, 'february': 652, 'france': 653, 'fourth': 654, 'human': 655, 'employee': 656, 'movie': 657, 'lake': 658, 'army': 659, 'europe': 660, 'seven': 661, 'recall': 662, 'september': 663, 'corporation': 664, 'building': 665, 'term': 666, 'euro': 667, 'cash': 668, 'battle': 669, 'past': 670, 'phone': 671, 'florida': 672, 'effort': 673, 'supply': 674, 'key': 675, 'love': 676, 'delhi': 677, 'website': 678, 'round': 679, 'software': 680, 'november': 681, 'suspect': 682, 'africa': 683, 'asian': 684, 'half': 685, 'consider': 686, 'victory': 687, 'reportedly': 688, 'airport': 689, 'field': 690, 'improve': 691, 'urge': 692, 'island': 693, 'forward': 694, 'black': 695, 'northern': 696, 'album': 697, 'robert': 698, 'far': 699, 'date': 700, 'internet': 701, 'education': 702, 'practice': 703, 'think': 704, 'james': 705, 'son': 706, 'commission': 707, 'your': 708, 'storm': 709, 'travel': 710, 'list': 711, 'rally': 712, 'session': 713, 'la': 714, 'october': 715, 'championship': 716, 'hand': 717, 'boost': 718, 'bad': 719, '14': 720, 'perform': 721, 'involve': 722, 'our': 723, 'problem': 724, 'trading': 725, 'rescue': 726, 'israeli': 727, 'gov': 728, 'couple': 729, '50': 730, 'much': 731, 'co': 732, 'chris': 733, 'green': 734, '13': 735, 'challenge': 736, '21': 737, 'association': 738, 'august': 739, 'book': 740, '16': 741, 'recover': 742, 'hall': 743, 'save': 744, 'december': 745, 'facility': 746, 'mother': 747, 'grant': 748, 'statement': 749, 'reduce': 750, 'george': 751, 'risk': 752, 'border': 753, 'ready': 754, 'finance': 755, 'hotel': 756, 'threaten': 757, 'enter': 758, 'must': 759, 'stage': 760, 'parliament': 761, 'decide': 762, 'friend': 763, '18': 764, 'troop': 765, 'current': 766, 'rock': 767, 'mortgage': 768, 'schedule': 769, 'fuel': 770, 'hire': 771, 'domestic': 772, 'deputy': 773, 'african': 774, 'britain': 775, 'decline': 776, 'truck': 777, 'crime': 778, 'attempt': 779, 'spend': 780, 'defeat': 781, 'reserve': 782, 'thousand': 783, 'construction': 784, 'maker': 785, 'stay': 786, 'unit': 787, 'committee': 788, 'spring': 789, 'clear': 790, 'veteran': 791, 'damage': 792, 'cancel': 793, 'insurance': 794, 'updated': 795, 'track': 796, 'very': 797, 'earlier': 798, 'resign': 799, 'arm': 800, 'tie': 801, 'manchester': 802, 'pull': 803, 'dog': 804, 'appeal': 805, 'present': 806, 'eight': 807, 'facebook': 808, 'benefit': 809, '7': 810, 'stand': 811, 'debut': 812, 'rating': 813, 'chicago': 814, 'full': 815, 'bankruptcy': 816, 'decision': 817, 'focus': 818, 'victim': 819, 'few': 820, '6': 821, 'retail': 822, 'little': 823, '8': 824, 'safety': 825, 'soon': 826, 'plane': 827, 'watch': 828, 'rob': 829, 'weather': 830, 'sen': 831, 'doctor': 832, 'beach': 833, 'form': 834, 'king': 835, 'performance': 836, 'turkey': 837, 'western': 838, 'gun': 839, 'feel': 840, 'staff': 841, 'patient': 842, 'person': 843, 'export': 844, 'suicide': 845, 'double': 846, 'among': 847, 'career': 848, '17': 849, 'tonight': 850, 'cricket': 851, 'hollywood': 852, 'threat': 853, 'palestinian': 854, 'behind': 855, 'regional': 856, 'himself': 857, 'unveil': 858, 'robbery': 859, 'sexual': 860, 'wall': 861, 'retire': 862, 'jackson': 863, 'festival': 864, 'score': 865, 'brother': 866, 'r': 867, 'catch': 868, 'sri': 869, 'mayor': 870, 'justice': 871, 'pressure': 872, 'bay': 873, 'outside': 874, 'opposition': 875, '24': 876, 'introduce': 877, 'serve': 878, 'agent': 879, 'draw': 880, 'violence': 881, 'motor': 882, 'feature': 883, 'interview': 884, 'carry': 885, 'recovery': 886, 'along': 887, 'valley': 888, 'card': 889, 'space': 890, 'within': 891, 'history': 892, 'design': 893, 'until': 894, 'iraq': 895, 'hill': 896, 'abuse': 897, 'incident': 898, 'stab': 899, 'upcoming': 900, 'singh': 901, '22': 902, 'aid': 903, 'aim': 904, 'later': 905, 'church': 906, 'welcome': 907, 'appoint': 908, 'anniversary': 909, 'positive': 910, 'bomb': 911, 'light': 912, 'single': 913, 'germany': 914, 'such': 915, 'ship': 916, 'pick': 917, 'father': 918, 'figure': 919, 'mexico': 920, 'middle': 921, 'deny': 922, 'sue': 923, 'asset': 924, 'protection': 925, 'fear': 926, 'im': 927, 'lady': 928, 'revenue': 929, 'japanese': 930, 'zealand': 931, 'same': 932, 'daughter': 933, 'almost': 934, 'resume': 935, 'art': 936, 'eastern': 937, 'hope': 938, 'bear': 939, 'too': 940, 'direct': 941, 'question': 942, 'review': 943, 'peace': 944, 'tiger': 945, 'de': 946, 'housing': 947, 'less': 948, 'stake': 949, 'highway': 950, 'flu': 951, 'ground': 952, 'survey': 953, 'worth': 954, 'activity': 955, 'speak': 956, 'joint': 957, 'kick': 958, 'attorney': 959, 'mumbai': 960, 'conduct': 961, 'husband': 962, 'officially': 963, 'olympic': 964, 'propose': 965, 'publish': 966, 'communication': 967, 'producer': 968, 'television': 969, 'captain': 970, 'defend': 971, 'throw': 972, 'application': 973, 'convict': 974, 'those': 975, 'me': 976, 'democratic': 977, 'wind': 978, 'asia': 979, 'fraud': 980, 'blue': 981, 'poll': 982, 'legal': 983, 'flood': 984, 'spot': 985, 'division': 986, 'index': 987, 'position': 988, 'ltd': 989, 'total': 990, 'williams': 991, 'update': 992, 'rival': 993, 'possible': 994, 'ever': 995, '19': 996, 'training': 997, 'discuss': 998, 'block': 999, 'microsoft': 1000, 'confidence': 1001, 'sheriff': 1002, 'reform': 1003, 'struggle': 1004, 'administration': 1005, 'boston': 1006, 'walk': 1007, 'write': 1008, 'smith': 1009, 'class': 1010, 'jet': 1011, 'daily': 1012, 'carolina': 1013, '23': 1014, 'heavy': 1015, 'address': 1016, 'hop': 1017, 'radio': 1018, 'basketball': 1019, 'link': 1020, 'criminal': 1021, '9': 1022, 'push': 1023, 'cross': 1024, 'parent': 1025, 'senator': 1026, 'honor': 1027, 'royal': 1028, 'measure': 1029, 'georgia': 1030, 'camp': 1031, '31': 1032, 'serious': 1033, 'dr': 1034, 'model': 1035, '40': 1036, 'natural': 1037, 'johnson': 1038, 'firefighter': 1039, 'operator': 1040, 'pakistani': 1041, 'holiday': 1042, 'defense': 1043, 'hundred': 1044, 'defence': 1045, 'un': 1046, 'gay': 1047, 'delay': 1048, 'baseball': 1049, 'equity': 1050, 'channel': 1051, 'investigation': 1052, 'replace': 1053, 'nine': 1054, 'never': 1055, 'rep': 1056, 'common': 1057, 'weak': 1058, 'refuse': 1059, 'dont': 1060, 'lawsuit': 1061, 'limit': 1062, 'connection': 1063, 'commercial': 1064, 'fiscal': 1065, 'web': 1066, 'express': 1067, 'inflation': 1068, 'main': 1069, 'justin': 1070, 'whose': 1071, 'why': 1072, 'mike': 1073, 'joe': 1074, 'affair': 1075, 'resource': 1076, 'learn': 1077, 'bush': 1078, 'process': 1079, 'might': 1080, 'vice': 1081, 'al': 1082, 'range': 1083, 'christmas': 1084, 'note': 1085, 'user': 1086, 'stadium': 1087, 'ceo': 1088, 'italian': 1089, 'band': 1090, 'promote': 1091, 'popular': 1092, 'partnership': 1093, 'treatment': 1094, 'disease': 1095, 'analyst': 1096, 'bar': 1097, 'calif': 1098, 'prepare': 1099, 'winter': 1100, 'striker': 1101, 'value': 1102, 'lift': 1103, 'account': 1104, 'front': 1105, 'activist': 1106, 'concert': 1107, 'attend': 1108, 'earnings': 1109, 'net': 1110, 'produce': 1111, 'village': 1112, 'earthquake': 1113, 'super': 1114, '26': 1115, 'split': 1116, 'marriage': 1117, 'straight': 1118, 'youth': 1119, 'view': 1120, 'newspaper': 1121, 'every': 1122, 'finish': 1123, 'digital': 1124, 'jump': 1125, 'tom': 1126, 'teen': 1127, 'passenger': 1128, 'peter': 1129, 'commit': 1130, 'militant': 1131, 'prince': 1132, 'each': 1133, 'ohio': 1134, 'decade': 1135, 'recession': 1136, 'martin': 1137, 'transfer': 1138, 'minor': 1139, 'winner': 1140, 'scientist': 1141, 'organization': 1142, 'twitter': 1143, 'province': 1144, 'invest': 1145, 'once': 1146, 'syria': 1147, 'afghan': 1148, 'lay': 1149, 'crew': 1150, 'protect': 1151, 'wood': 1152, 'deliver': 1153, 'boat': 1154, 'iranian': 1155, 'divorce': 1156, 'platform': 1157, 'researcher': 1158, 'steve': 1159, 'jones': 1160, 'already': 1161, 'restaurant': 1162, 'access': 1163, 'forecast': 1164, 'shop': 1165, 'slow': 1166, '27': 1167, 'ambassador': 1168, 'wont': 1169, 'sea': 1170, 'spain': 1171, 'fast': 1172, 'opening': 1173, 'supreme': 1174, 'rain': 1175, 'michigan': 1176, 'nfl': 1177, 'expert': 1178, 'evening': 1179, 'mp': 1180, 'khan': 1181, 'cite': 1182, 'assembly': 1183, 'relation': 1184, 'device': 1185, 'finally': 1186, 'hard': 1187, 'rest': 1188, 'cover': 1189, 'currency': 1190, 'magazine': 1191, 'birth': 1192, 'syrian': 1193, 'roll': 1194, 'ryan': 1195, '28': 1196, 'retailer': 1197, 'ceremony': 1198, 'remove': 1199, 'womens': 1200, 'standard': 1201, 'yet': 1202, 'bridge': 1203, 'turkish': 1204, 'thing': 1205, 'primary': 1206, 'lawyer': 1207, 'civil': 1208, 'ireland': 1209, 'goal': 1210, '500': 1211, 'ticket': 1212, 'farmer': 1213, 'seize': 1214, 'clash': 1215, 'cell': 1216, 'spokesman': 1217, 'rape': 1218, 'jury': 1219, 'together': 1220, 'taylor': 1221, 'houston': 1222, 'whether': 1223, 'iphone': 1224, 'developer': 1225, 'suggest': 1226, 'weapon': 1227, 'escape': 1228, 'gulf': 1229, 'dispute': 1230, 'sydney': 1231, 'tree': 1232, 'acquisition': 1233, 'purchase': 1234, 'bos': 1235, 'nato': 1236, 'unemployment': 1237, 'independent': 1238, 'further': 1239, 'spending': 1240, 'fee': 1241, 'import': 1242, 'collapse': 1243, 'steel': 1244, 'cooperation': 1245, 'scheme': 1246, 'reject': 1247, 'writer': 1248, 'available': 1249, 'lanka': 1250, 'tomorrow': 1251, 'lee': 1252, 'box': 1253, 'toronto': 1254, 'burn': 1255, 'programme': 1256, 'secure': 1257, 'rebel': 1258, 'romney': 1259, 'dubai': 1260, 'period': 1261, 'option': 1262, 'computer': 1263, 'above': 1264, 'manage': 1265, 'eu': 1266, 'short': 1267, 'below': 1268, 'minnesota': 1269, 'fashion': 1270, 'barrel': 1271, 'pilot': 1272, 'birthday': 1273, 'dividend': 1274, 'institute': 1275, 'advance': 1276, 'competition': 1277, 'count': 1278, 'farm': 1279, 'course': 1280, 'tournament': 1281, 'shut': 1282, 'clinton': 1283, 'saudi': 1284, 'liverpool': 1285, 'retirement': 1286, 'singapore': 1287, 'accept': 1288, 'apartment': 1289, 'quit': 1290, 'pound': 1291, 'average': 1292, 'engage': 1293, 'corporate': 1294, 'kim': 1295, 'celebrity': 1296, 'industrial': 1297, 'citizen': 1298, 'queen': 1299, 'crude': 1300, 'egypt': 1301, 'animal': 1302, 'effect': 1303, 'hurricane': 1304, 'lawmaker': 1305, 'personal': 1306, 'elect': 1307, 'check': 1308, 'korean': 1309, 'charity': 1310, 'deficit': 1311, 'fox': 1312, 'port': 1313, 'terrorist': 1314, 'journalist': 1315, 'then': 1316, 'illegal': 1317, 'banking': 1318, 'emerge': 1319, 'jan': 1320, 'female': 1321, 'package': 1322, 'worldwide': 1323, 'voter': 1324, 'undergo': 1325, 'hear': 1326, 'science': 1327, 'taiwan': 1328, 'philippine': 1329, 'destroy': 1330, 'foot': 1331, 'avoid': 1332, 'shooting': 1333, 'comment': 1334, 'taliban': 1335, 'tony': 1336, 'felony': 1337, 'room': 1338, 'entertainment': 1339, 'song': 1340, 'pop': 1341, 'vow': 1342, 'others': 1343, 'overnight': 1344, 'lot': 1345, 'massive': 1346, 'democrat': 1347, 'jennifer': 1348, 'corruption': 1349, 'fifth': 1350, 'society': 1351, 'previous': 1352, 'girlfriend': 1353, 'scott': 1354, 'funding': 1355, 'cabinet': 1356, 'contest': 1357, 'situation': 1358, 'commissioner': 1359, 'fort': 1360, 'tribute': 1361, 'reopen': 1362, 'greece': 1363, 'professional': 1364, 'soccer': 1365, 'louis': 1366, 'fly': 1367, 'poor': 1368, 'compare': 1369, 'jersey': 1370, 'inside': 1371, 'metal': 1372, 'manufacturer': 1373, 'venture': 1374, '60': 1375, 'auto': 1376, 'andrew': 1377, 'select': 1378, 'unite': 1379, 'pirate': 1380, 'affect': 1381, 'payment': 1382, 'spanish': 1383, 'potential': 1384, 'operate': 1385, 'chance': 1386, 'kevin': 1387, 'promise': 1388, 'experience': 1389, '29': 1390, 'strategic': 1391, 'minute': 1392, 'downtown': 1393, 'edge': 1394, 'brazil': 1395, 'chelsea': 1396, 'draft': 1397, 'solar': 1398, 'ali': 1399, 'quarterly': 1400, 'flat': 1401, 'seat': 1402, 'midfielder': 1403, '200': 1404, 'italy': 1405, 'estate': 1406, 'coal': 1407, 's': 1408, 'identify': 1409, 'fin': 1410, 'paris': 1411, 'pregnant': 1412, 'marry': 1413, 'quality': 1414, 'blood': 1415, 'wound': 1416, 'dance': 1417, 'treat': 1418, 'income': 1419, 'theft': 1420, 'window': 1421, 'strengthen': 1422, 'ease': 1423, 'separate': 1424, 'fresh': 1425, 'withdraw': 1426, 'perry': 1427, 'carrier': 1428, 'defender': 1429, 'mine': 1430, 'representative': 1431, 'ranger': 1432, 'iowa': 1433, 'eye': 1434, 'republic': 1435, 'wait': 1436, 'jim': 1437, 'reporter': 1438, 'settle': 1439, 'strategy': 1440, 'zone': 1441, 'colorado': 1442, 'nba': 1443, 'protester': 1444, 'virginia': 1445, 'bail': 1446, 'chase': 1447, 'dealer': 1448, 'miami': 1449, 'prevent': 1450, 'mission': 1451, 'fair': 1452, 'arizona': 1453, 'edward': 1454, 'detroit': 1455, 'muslim': 1456, 'aircraft': 1457, 'offering': 1458, 'impact': 1459, 'morgan': 1460, 'towards': 1461, 'relationship': 1462, 'malaysia': 1463, 'route': 1464, 'controversial': 1465, 'debate': 1466, 'prosecutor': 1467, 'story': 1468, 'twin': 1469, 'endorse': 1470, 'gaza': 1471, 'marketing': 1472, 'legend': 1473, 'trust': 1474, 'knee': 1475, 'memorial': 1476, 'indict': 1477, 'heat': 1478, 'climate': 1479, 'van': 1480, 'response': 1481, 'auction': 1482, 'discover': 1483, 'blame': 1484, 'trip': 1485, 'fatal': 1486, 'allege': 1487, 'hospitalize': 1488, 'elderly': 1489, 'license': 1490, 'let': 1491, 'enough': 1492, 'speed': 1493, 'studio': 1494, 'photo': 1495, 'kid': 1496, 'environment': 1497, 'image': 1498, 'mountain': 1499, 'chain': 1500, 'labor': 1501, 'mean': 1502, 'academy': 1503, 'strip': 1504, 'adam': 1505, 'fame': 1506, 'brain': 1507, 'doesnt': 1508, 'message': 1509, 'bowl': 1510, 'cloud': 1511, 'squad': 1512, 'insist': 1513, 'dec': 1514, 'disaster': 1515, 'touch': 1516, 'illinois': 1517, 'rs': 1518, 'teenager': 1519, 'currently': 1520, 'fine': 1521, 'chemical': 1522, 'feb': 1523, 'rugby': 1524, 'francisco': 1525, 'progress': 1526, 'enterprise': 1527, 'maintain': 1528, 'ford': 1529, 'wireless': 1530, 'ten': 1531, 'cruise': 1532, 'effective': 1533, 'forest': 1534, 'tennis': 1535, 'azerbaijan': 1536, 'tackle': 1537, 'upgrade': 1538, 'beijing': 1539, 'transport': 1540, 'restore': 1541, 'row': 1542, 'greek': 1543, 'libya': 1544, 'quarterback': 1545, 'trend': 1546, 'equipment': 1547, 'version': 1548, 'critical': 1549, 'navy': 1550, 'blast': 1551, 'voice': 1552, 'ben': 1553, 'kelly': 1554, 'leg': 1555, 'alex': 1556, 'diego': 1557, 'additional': 1558, 'though': 1559, 'tim': 1560, 'mccain': 1561, 'burglary': 1562, 'mr': 1563, 'satellite': 1564, 'hong': 1565, 'patent': 1566, 'praise': 1567, 'tourist': 1568, 'different': 1569, 'x': 1570, 'factor': 1571, 'shareholder': 1572, 'telecom': 1573, 'proposal': 1574, 'opportunity': 1575, 'saw': 1576, 'earn': 1577, 'hockey': 1578, 'kashmir': 1579, 'atlanta': 1580, 'spread': 1581, 'aug': 1582, 'hot': 1583, 'door': 1584, 'dallas': 1585, 'paper': 1586, 'safe': 1587, 'swine': 1588, 'irish': 1589, 'rap': 1590, 'rush': 1591, 'slightly': 1592, 'custody': 1593, 'wear': 1594, 'cast': 1595, 'picture': 1596, 'pacific': 1597, 'kate': 1598, 'madrid': 1599, 'electric': 1600, 'lohan': 1601, 'mining': 1602, 'severe': 1603, 'tough': 1604, 'establish': 1605, 'boyfriend': 1606, 'summit': 1607, 'rupee': 1608, 'snow': 1609, 'letter': 1610, 'register': 1611, 'kong': 1612, 'patrol': 1613, 'lindsay': 1614, 'estimate': 1615, 'screen': 1616, 'gaga': 1617, 'classic': 1618, 'assistant': 1619, 'william': 1620, 'successful': 1621, 'distribution': 1622, 'multiple': 1623, 'golf': 1624, 'holding': 1625, 'andy': 1626, 'nov': 1627, 'manufacturing': 1628, 'huge': 1629, 'bollywood': 1630, 'renew': 1631, 'wake': 1632, 'happen': 1633, 'happy': 1634, 'richard': 1635, 'sir': 1636, 'reality': 1637, 'ill': 1638, 'sanction': 1639, 'township': 1640, 'milan': 1641, 'artist': 1642, 'shes': 1643, 'ice': 1644, 'helicopter': 1645, 'branch': 1646, 'delivery': 1647, 'environmental': 1648, 'material': 1649, 'approach': 1650, '2007': 1651, 'christian': 1652, 'mass': 1653, 'matt': 1654, 'oct': 1655, 'rank': 1656, 'missouri': 1657, 'charles': 1658, 'bull': 1659, 'surprise': 1660, 'complex': 1661, 'battery': 1662, 'nomination': 1663, 'headquarters': 1664, 'charlie': 1665, 'wayne': 1666, 'ensure': 1667, 'simon': 1668, 'master': 1669, 'left': 1670, 'didnt': 1671, 'oscar': 1672, 'allegation': 1673, 'cleveland': 1674, 'indiana': 1675, 'secret': 1676, 'daniel': 1677, 'invite': 1678, 'expectation': 1679, 'important': 1680, 'failure': 1681, 'indonesia': 1682, 'warning': 1683, 'medal': 1684, 'tourism': 1685, 'mixed': 1686, 'subsidiary': 1687, 'capacity': 1688, 'motorcycle': 1689, 'bob': 1690, 'via': 1691, 'english': 1692, 'harry': 1693, 'pledge': 1694, 'stone': 1695, 'content': 1696, 'hearing': 1697, 'treasury': 1698, 'jason': 1699, 'prisoner': 1700, 'repair': 1701, 'kardashian': 1702, 'leadership': 1703, 'wide': 1704, 'airway': 1705, 'hang': 1706, 'outlook': 1707, 'sun': 1708, 'foundation': 1709, 'santa': 1710, 'slam': 1711, 'slip': 1712, 'alliance': 1713, 'wisconsin': 1714, 'moscow': 1715, 'sarah': 1716, 'allen': 1717, 'drink': 1718, 'toyota': 1719, 'politics': 1720, 'arab': 1721, 'bangladesh': 1722, 'labour': 1723, 'dozen': 1724, 'jessica': 1725, 'vega': 1726, 'stephen': 1727, 'healthcare': 1728, 'usa': 1729, 'square': 1730, 'rick': 1731, 'deadly': 1732, 'request': 1733, 'lion': 1734, 'donate': 1735, 'respond': 1736, 'expansion': 1737, 'mile': 1738, 'various': 1739, 'sox': 1740, 'author': 1741, 'adopt': 1742, 'ring': 1743, 'terror': 1744, 'associate': 1745, 'sexually': 1746, 'brian': 1747, 'duty': 1748, 'complaint': 1749, 'pleads': 1750, 'cant': 1751, 'missile': 1752, 'exercise': 1753, 'v': 1754, 'journal': 1755, 'mount': 1756, 'barcelona': 1757, 'seriously': 1758, 'adult': 1759, 'defensive': 1760, 'relate': 1761, 'mitt': 1762, 'seattle': 1763, 'rebound': 1764, 'pension': 1765, 'reason': 1766, 'honour': 1767, 'regular': 1768, 'blow': 1769, 'reelection': 1770, 'avenue': 1771, 'fighter': 1772, 'slash': 1773, 'detain': 1774, 'arsenal': 1775, 'philadelphia': 1776, 'campus': 1777, 'samsung': 1778, 'clean': 1779, 'witness': 1780, 'infrastructure': 1781, 'horse': 1782, 'alleged': 1783, 'kidnap': 1784, 'receiver': 1785, 'seem': 1786, 'extension': 1787, 'panel': 1788, 'stewart': 1789, 'marine': 1790, 'punjab': 1791, 'eagle': 1792, 'embassy': 1793, 'enjoy': 1794, 'metro': 1795, '70': 1796, 'commerce': 1797, 'rocket': 1798, 'forum': 1799, 'historic': 1800, 'wedding': 1801, 'crore': 1802, 'garden': 1803, 'always': 1804, 'app': 1805, 'collection': 1806, 'swiss': 1807, 'southwest': 1808, 'cole': 1809, 'cameron': 1810, 'participate': 1811, 'generation': 1812, 'ukraine': 1813, 'jack': 1814, 'marijuana': 1815, 'bbc': 1816, 'really': 1817, 'surge': 1818, 'trader': 1819, 'raid': 1820, 'cable': 1821, 'toward': 1822, 'hurt': 1823, 'electronic': 1824, 'offensive': 1825, 'idol': 1826, 'lack': 1827, 'settlement': 1828, 'territory': 1829, 'scotland': 1830, 'pitch': 1831, 'bieber': 1832, 'hamilton': 1833, 'downgrade': 1834, 'engine': 1835, 'founder': 1836, 'thomas': 1837, 'alert': 1838, '1000': 1839, 'brazilian': 1840, 'nationwide': 1841, 'require': 1842, 'ad': 1843, 'resort': 1844, 'olympics': 1845, 'spark': 1846, 'bin': 1847, 'jose': 1848, 'speech': 1849, 'able': 1850, 'lender': 1851, 'gordon': 1852, 'significant': 1853, 'choose': 1854, 'railway': 1855, 'appearance': 1856, 'sharply': 1857, 'brad': 1858, 'mar': 1859, 'dutch': 1860, 'violent': 1861, 'sweep': 1862, 'immigration': 1863, 'factory': 1864, 'scene': 1865, 'ongoing': 1866, 'offender': 1867, 'hike': 1868, 'capture': 1869, 'initiative': 1870, 'violation': 1871, 'egyptian': 1872, 'kentucky': 1873, 'majority': 1874, 'bjp': 1875, 'patrick': 1876, 'comedy': 1877, '75': 1878, 'prove': 1879, 'prize': 1880, 'ii': 1881, 'hero': 1882, 'halt': 1883, 'client': 1884, 'regard': 1885, 'possession': 1886, 'islamic': 1887, 'fc': 1888, 'plc': 1889, 'stimulus': 1890, 'advisory': 1891, 'pitcher': 1892, 'gary': 1893, 'zimbabwe': 1894, 'relief': 1895, 'saint': 1896, 'theatre': 1897, 'evidence': 1898, 'document': 1899, 'parliamentary': 1900, 'evacuate': 1901, 'tool': 1902, 'volunteer': 1903, 'survive': 1904, '80': 1905, 'amount': 1906, 'detail': 1907, 'el': 1908, 'exist': 1909, 'tennessee': 1910, 'quote': 1911, 'melbourne': 1912, 'movement': 1913, 'jr': 1914, 'tamil': 1915, 'rare': 1916, 'crown': 1917, 'dc': 1918, 'lower': 1919, 'these': 1920, 'homicide': 1921, 'leak': 1922, 'success': 1923, 'rural': 1924, 'wild': 1925, 'scandal': 1926, 'throughout': 1927, 'email': 1928, 'anthony': 1929, 'describe': 1930, 'ap': 1931, 'davis': 1932, 'russell': 1933, 'dream': 1934, 'iron': 1935, 'electricity': 1936, 'kennedy': 1937, 'phoenix': 1938, 'tech': 1939, 'terrorism': 1940, '300': 1941, '32': 1942, 'word': 1943, 'mexican': 1944, 'qatar': 1945, 'injured': 1946, '35': 1947, 'palm': 1948, 'yankee': 1949, 'location': 1950, 'engineering': 1951, 'oklahoma': 1952, 'weekly': 1953, 'display': 1954, 'announcement': 1955, 'apparently': 1956, 'violate': 1957, 'technical': 1958, 'consecutive': 1959, 'inmate': 1960, 'golden': 1961, 'collision': 1962, 'victoria': 1963, 'sit': 1964, 'dismiss': 1965, 'ray': 1966, 'nick': 1967, 'pace': 1968, 'sony': 1969, 'plea': 1970, 'wale': 1971, 'celebration': 1972, 'arabia': 1973, 'suspected': 1974, 'coalition': 1975, 'orleans': 1976, 'sister': 1977, 'alcohol': 1978, 'notice': 1979, 'portfolio': 1980, 'fisherman': 1981, 'diamond': 1982, 'conservative': 1983, 'broadband': 1984, 'kansa': 1985, 'climb': 1986, 'advertising': 1987, 'camera': 1988, 'yahoo': 1989, 'palin': 1990, 'wrong': 1991, 'playoff': 1992, 'lie': 1993, 'denver': 1994, 'plunge': 1995, 'toll': 1996, 'approval': 1997, 'smoke': 1998, 'ball': 1999, 'elizabeth': 2000, 'cap': 2001, 'worry': 2002, 'penalty': 2003, 'waste': 2004, 'n': 2005, 'chapter': 2006, 'kyrgyzstan': 2007, 'miller': 2008, 'breast': 2009, 'rail': 2010, 'disabled': 2011, 'overall': 2012, 'b': 2013, 'fish': 2014, 'pharmaceutical': 2015, 'flag': 2016, 'diagnose': 2017, 'explosion': 2018, 'locate': 2019, 'supporter': 2020, 'cocaine': 2021, 'civilian': 2022, 'armed': 2023, 'contact': 2024, 'tata': 2025, 'carbon': 2026, 'successfully': 2027, 'sept': 2028, 'vietnam': 2029, 'promotion': 2030, 'matter': 2031, 'overseas': 2032, 'stream': 2033, 'iraqi': 2034, 'stroke': 2035, 'appoints': 2036, 'impose': 2037, 'commodity': 2038, 'regulator': 2039, 'scottish': 2040, 'pradesh': 2041, 'institution': 2042, 'simpson': 2043, 'achieve': 2044, 'frank': 2045, 'ocean': 2046, 'freedom': 2047, 'designer': 2048, 'cuba': 2049, 'speaker': 2050, 'speculation': 2051, 'agriculture': 2052, 'electronics': 2053, 'amy': 2054, 'previously': 2055, 'read': 2056, 'silver': 2057, 'jay': 2058, 'ghana': 2059, 'negative': 2060, 'statistic': 2061, 'warrant': 2062, 'library': 2063, 'tokyo': 2064, 'orange': 2065, 'moore': 2066, 'killer': 2067, 'dangerous': 2068, 'supplier': 2069, 'm': 2070, 'gate': 2071, 'alabama': 2072, 'sixth': 2073, 'legislation': 2074, 'easy': 2075, 'prospect': 2076, 'utility': 2077, 'sponsor': 2078, 'gather': 2079, 'mill': 2080, 'rapper': 2081, 'pose': 2082, 'cbs': 2083, 'postpone': 2084, 'yen': 2085, 'contain': 2086, 'campbell': 2087, 'mail': 2088, 'clinic': 2089, 'arena': 2090, 'fargo': 2091, 'friendly': 2092, 'cape': 2093, 'sky': 2094, 'qualify': 2095, 'malaysian': 2096, 'catholic': 2097, 'answer': 2098, 'libyan': 2099, 'nokia': 2100, 'sudan': 2101, 'cold': 2102, 'weight': 2103, 'wilson': 2104, 'page': 2105, 'semifinal': 2106, 'apply': 2107, 'determine': 2108, 'northwest': 2109, 'compete': 2110, 'knock': 2111, 'lewis': 2112, 'stress': 2113, 'pope': 2114, 'swim': 2115, 'beckham': 2116, 'musical': 2117, 'employer': 2118, 'funeral': 2119, '2014': 2120, 'reuters': 2121, 'michelle': 2122, 'ed': 2123, 'nigeria': 2124, 'individual': 2125, 'jordan': 2126, 'retain': 2127, 'represent': 2128, 'machine': 2129, 'cardinal': 2130, 'sharp': 2131, '90': 2132, 'bureau': 2133, 'hillary': 2134, 'nelson': 2135, 'democracy': 2136, 'choice': 2137, 'condemn': 2138, 'suspicion': 2139, 'itself': 2140, 'drama': 2141, 'prix': 2142, 'casino': 2143, 'teenage': 2144, 'thanks': 2145, 'hunt': 2146, 'tonne': 2147, 'rehab': 2148, 'nominate': 2149, 'interior': 2150, 'pain': 2151, 'sound': 2152, 'childrens': 2153, 'improvement': 2154, 'ontario': 2155, 'drown': 2156, 'gang': 2157, 'eric': 2158, 'venezuela': 2159, 'bag': 2160, 'sleep': 2161, 'ton': 2162, 'spear': 2163, 'longtime': 2164, 'fact': 2165, 'medicine': 2166, 'illness': 2167, 'tropical': 2168, 'pool': 2169, 'table': 2170, 'pro': 2171, 'android': 2172, 'powerful': 2173, 'pittsburgh': 2174, 'celtic': 2175, 'implement': 2176, 'shift': 2177, 'tornado': 2178, 'broadcast': 2179, 'museum': 2180, 'hell': 2181, 'yemen': 2182, 'elementary': 2183, 'guy': 2184, 'wish': 2185, 'status': 2186, 'storage': 2187, 'eliminate': 2188, 'politician': 2189, 'intend': 2190, 'strength': 2191, 'floor': 2192, 'resolve': 2193, 'twice': 2194, 'smart': 2195, 'ny': 2196, '45': 2197, 'formally': 2198, 'superstar': 2199, 'spill': 2200, 'massachusetts': 2201, 'probe': 2202, 'although': 2203, 'crush': 2204, 'combat': 2205, 'pattinson': 2206, 'tablet': 2207, 'herself': 2208, 'fellow': 2209, 'idea': 2210, 'junior': 2211, 'gunman': 2212, 'conflict': 2213, 'instead': 2214, 'lebanon': 2215, 'newly': 2216, 'ipad': 2217, 'famous': 2218, 'monitor': 2219, 'rich': 2220, 'enhance': 2221, 'alive': 2222, 'steady': 2223, 'pair': 2224, 'homeless': 2225, 'virus': 2226, 'uae': 2227, 'monetary': 2228, 'rio': 2229, 'sheen': 2230, 'religious': 2231, 'bounce': 2232, 'abu': 2233, 'jon': 2234, 'culture': 2235, 'trigger': 2236, 'shock': 2237, 'shortage': 2238, 'inform': 2239, 'assistance': 2240, 'visa': 2241, 'austin': 2242, 'extra': 2243, 'milwaukee': 2244, 'sam': 2245, 'rihanna': 2246, 'bulgaria': 2247, 'franchise': 2248, 'murray': 2249, 'gift': 2250, 'apparent': 2251, 'healthy': 2252, 'specialist': 2253, 'nifty': 2254, 'roger': 2255, 'bird': 2256, 'rather': 2257, 'signal': 2258, 'recognize': 2259, 'encourage': 2260, 'gandhi': 2261, 'commander': 2262, 'delegation': 2263, 'flee': 2264, '400': 2265, 'indicate': 2266, 'ride': 2267, 'deep': 2268, 'britney': 2269, 'true': 2270, 'fit': 2271, 'birmingham': 2272, 'shopping': 2273, 'eat': 2274, 'usd': 2275, 'style': 2276, 'diplomatic': 2277, 'apologize': 2278, 'stanley': 2279, 'fake': 2280, 'weaken': 2281, 'stable': 2282, 'jerry': 2283, 'baltimore': 2284, 'population': 2285, 'buffalo': 2286, 'residential': 2287, 'harris': 2288, 'formula': 2289, 'oregon': 2290, 'direction': 2291, 'vancouver': 2292, 'bengal': 2293, 'southeast': 2294, 'sa': 2295, 'inning': 2296, 'offshore': 2297, 'rice': 2298, 'fully': 2299, 'copper': 2300, 'negotiation': 2301, 'wave': 2302, 'circuit': 2303, 'somali': 2304, 'salary': 2305, 'predict': 2306, 'busy': 2307, 'immediate': 2308, 'anna': 2309, 'moment': 2310, 'certain': 2311, 'charter': 2312, 'wage': 2313, 'howard': 2314, 'slide': 2315, 'matthew': 2316, 'cheryl': 2317, 'comeback': 2318, 'talent': 2319, 'cat': 2320, 'pennsylvania': 2321, 'exclusive': 2322, 'refugee': 2323, 'preliminary': 2324, '150': 2325, 'j': 2326, 'tip': 2327, 'oakland': 2328, 'enforcement': 2329, 'tension': 2330, 'respect': 2331, 'madison': 2332, 'athlete': 2333, 'stick': 2334, 'invasion': 2335, 'madonna': 2336, 'bet': 2337, 'dump': 2338, 'swing': 2339, 'influence': 2340, 'guide': 2341, 'native': 2342, 'tender': 2343, 'pedestrian': 2344, 'congressional': 2345, 'shoulder': 2346, 'earth': 2347, 'language': 2348, 'galaxy': 2349, 'swear': 2350, '10000': 2351, 'thailand': 2352, 'independence': 2353, 'themselves': 2354, 'presence': 2355, 'bp': 2356, 'fix': 2357, 'convention': 2358, 'output': 2359, 'abc': 2360, 'neighborhood': 2361, 'driving': 2362, 'nothing': 2363, 'tampa': 2364, 'eurozone': 2365, 'atlantic': 2366, 'scam': 2367, 'bahrain': 2368, 'remember': 2369, 'degree': 2370, 'monthly': 2371, 'balance': 2372, 'sensex': 2373, 'wing': 2374, 'regime': 2375, 'ron': 2376, 'thats': 2377, 'phase': 2378, 'myanmar': 2379, 'bailout': 2380, 'commitment': 2381, 'crack': 2382, 'initial': 2383, 'bell': 2384, 'newcastle': 2385, 'mississippi': 2386, 'switch': 2387, 'mall': 2388, 'gop': 2389, 'anderson': 2390, 'buyer': 2391, 'pipeline': 2392, 'att': 2393, 'investigator': 2394, 'sentiment': 2395, 'discovery': 2396, 'zardari': 2397, 'hail': 2398, 'entire': 2399, 'professor': 2400, 'c': 2401, 'broadway': 2402, 'ram': 2403, 'oppose': 2404, 'graduate': 2405, 'katie': 2406, 'intelligence': 2407, 'regulation': 2408, 'sabha': 2409, 'deadline': 2410, 'w': 2411, 'tower': 2412, 'sugar': 2413, 'katy': 2414, 'orlando': 2415, 'male': 2416, 'item': 2417, 'sing': 2418, 'adviser': 2419, 'active': 2420, 'awareness': 2421, 'explain': 2422, 'occur': 2423, 'lane': 2424, 'crowd': 2425, '65': 2426, 'utah': 2427, 'breach': 2428, 'basis': 2429, 'fatally': 2430, 'exhibition': 2431, 'phil': 2432, 'indias': 2433, 'recruit': 2434, '64': 2435, 'shark': 2436, 'aviation': 2437, 'plot': 2438, 'trouble': 2439, 'appointment': 2440, 'identity': 2441, 'resigns': 2442, 'mac': 2443, 'columbia': 2444, 'probation': 2445, 'residence': 2446, 'employment': 2447, 'attract': 2448, 'transportation': 2449, 'mary': 2450, 'creek': 2451, 'jeff': 2452, 'section': 2453, 'swedish': 2454, 'luxury': 2455, 'fill': 2456, 'resistance': 2457, 'czech': 2458, 'exit': 2459, 'episode': 2460, 'diplomat': 2461, 'slump': 2462, 'resolution': 2463, 'nurse': 2464, 'organisation': 2465, 'merger': 2466, 'minority': 2467, 'columbus': 2468, 'sprint': 2469, 'contractor': 2470, 'thief': 2471, 'bomber': 2472, 'northeast': 2473, 'drunk': 2474, 'engineer': 2475, 'carlos': 2476, 'label': 2477, 'infection': 2478, 'legendary': 2479, 'nsw': 2480, 'however': 2481, 'trail': 2482, 'whats': 2483, 'felt': 2484, 'freeze': 2485, 'pitt': 2486, 'businessman': 2487, 'bat': 2488, '600': 2489, 'disney': 2490, 'dakota': 2491, 'coverage': 2492, 'triple': 2493, 'azerbaijani': 2494, 'congressman': 2495, 'approximately': 2496, 'maoist': 2497, 'reveals': 2498, 'guest': 2499, 'pc': 2500, 'edition': 2501, 'dress': 2502, 'attempted': 2503, 'queensland': 2504, 'dialogue': 2505, 'foreclosure': 2506, 'manslaughter': 2507, 'liberal': 2508, 'upset': 2509, 'smartphone': 2510, 'collect': 2511, 'confident': 2512, 'demi': 2513, 'pole': 2514, 'hudson': 2515, 'cook': 2516, 'planning': 2517, 'benchmark': 2518, 'jolie': 2519, 'henry': 2520, 'lending': 2521, 'unveils': 2522, 'false': 2523, 'alaska': 2524, 'outstanding': 2525, 'knife': 2526, 'pet': 2527, 'angelina': 2528, 'rapid': 2529, 'andre': 2530, 'especially': 2531, 'something': 2532, 'assign': 2533, 'kumar': 2534, 'highly': 2535, 'shanghai': 2536, 'mental': 2537, 'globe': 2538, 'e': 2539, 'article': 2540, 'steven': 2541, 'noon': 2542, 'ag': 2543, 'pornography': 2544, 'lineup': 2545, '41': 2546, 'ukrainian': 2547, 'lock': 2548, 'trophy': 2549, 'argentina': 2550, 'discussion': 2551, 'biden': 2552, 'manufacture': 2553, 'goldman': 2554, 'highlight': 2555, '2000': 2556, 'modern': 2557, 'stem': 2558, '5000': 2559, '100000': 2560, 'tight': 2561, 'warren': 2562, 'winehouse': 2563, 'soar': 2564, 'transaction': 2565, 'penn': 2566, 'jimmy': 2567, 'wed': 2568, 'armenian': 2569, 'federation': 2570, 'don': 2571, 'responsible': 2572, 'perfect': 2573, 'suspension': 2574, 'permit': 2575, 'scale': 2576, 'cheat': 2577, 'taxi': 2578, 'scientific': 2579, 'normal': 2580, 'introduces': 2581, 'nbc': 2582, 'connecticut': 2583, 'indonesian': 2584, 'chip': 2585, 'distribute': 2586, 'tank': 2587, 'nigerian': 2588, 'opener': 2589, 'scrap': 2590, '63': 2591, 'craig': 2592, 'living': 2593, 'ive': 2594, 'theater': 2595, 'cyrus': 2596, 'coffee': 2597, 'derby': 2598, 'pub': 2599, 'criticism': 2600, 'sean': 2601, 'cargo': 2602, 'immigrant': 2603, 'eve': 2604, 'antonio': 2605, 'walker': 2606, 'serbia': 2607, 'lord': 2608, 'fitness': 2609, 'swift': 2610, 'bit': 2611, 'engagement': 2612, 'recommend': 2613, 'suit': 2614, 'assist': 2615, 'observe': 2616, 'kazakhstan': 2617, 'financing': 2618, 'rumor': 2619, 'charlotte': 2620, 'cooper': 2621, 'gear': 2622, 'belarus': 2623, '85': 2624, 'counterpart': 2625, 'arkansas': 2626, 'suspicious': 2627, 'chavez': 2628, 'dark': 2629, 'plastic': 2630, 'maryland': 2631, 'century': 2632, 'abandon': 2633, 'portland': 2634, 'advanced': 2635, 'josh': 2636, 'tea': 2637, 'bilateral': 2638, '42': 2639, 'interstate': 2640, 'terry': 2641, 'immediately': 2642, 'alternative': 2643, 'ncaa': 2644, 'connect': 2645, 'blackberry': 2646, 'virgin': 2647, 'alan': 2648, 'submit': 2649, 'conclude': 2650, 'suffers': 2651, 'barbara': 2652, 'grade': 2653, 'premiere': 2654, 'dan': 2655, 'difficult': 2656, 'robin': 2657, 'donation': 2658, 'beyond': 2659, 'kansas': 2660, 'indie': 2661, 'kenya': 2662, 'prompt': 2663, 'lankan': 2664, 'hunter': 2665, 'knight': 2666, 'bulgarian': 2667, 'sachs': 2668, 'miley': 2669, 'temporary': 2670, '33': 2671, 'code': 2672, 'everything': 2673, 'personnel': 2674, 'ferguson': 2675, 'miner': 2676, 'closer': 2677, 'bone': 2678, 'longer': 2679, 'guarantee': 2680, 'chrysler': 2681, 'transit': 2682, 'manmohan': 2683, 'proud': 2684, 'difference': 2685, 'alexander': 2686, 'parking': 2687, 'dedicate': 2688, 'marathon': 2689, 'snap': 2690, 'cuban': 2691, 'angel': 2692, 'enable': 2693, 'nhl': 2694, 'deposit': 2695, 'punch': 2696, 'shed': 2697, 'haiti': 2698, 'kristen': 2699, 'height': 2700, 'broad': 2701, 'wildlife': 2702, 'shake': 2703, 'llc': 2704, 'internal': 2705, 'mutual': 2706, 'preseason': 2707, 'closure': 2708, 'weigh': 2709, 'robber': 2710, 'louisiana': 2711, 'custom': 2712, 'tehran': 2713, 'liam': 2714, 'expense': 2715, 'dhabi': 2716, 'villa': 2717, 'temperature': 2718, 'youtube': 2719, 'god': 2720, 'petrol': 2721, 'visitor': 2722, 'chamber': 2723, '62': 2724, 'musician': 2725, 'sack': 2726, 'hamas': 2727, 'spirit': 2728, 'wash': 2729, 'memory': 2730, 'category': 2731, 'warrior': 2732, 'slowdown': 2733, 'boeing': 2734, 'advise': 2735, '76': 2736, 'character': 2737, 'cincinnati': 2738, 'publisher': 2739, 'switzerland': 2740, 'arson': 2741, 'drone': 2742, 'nominee': 2743, 'combine': 2744, '10th': 2745, 'ally': 2746, 'enters': 2747, 'compensation': 2748, 'upper': 2749, 'kind': 2750, 'dinner': 2751, 'hedge': 2752, 'mostly': 2753, 'shore': 2754, 'comedian': 2755, 'troubled': 2756, 'obtain': 2757, 'montreal': 2758, 'milestone': 2759, 'dodger': 2760, 'size': 2761, 'carter': 2762, 'traditional': 2763, 'fifa': 2764, 'networking': 2765, 'heavyweight': 2766, 'tottenham': 2767, 'onto': 2768, 'toddler': 2769, 'kingdom': 2770, 'conviction': 2771, 'brave': 2772, 'roy': 2773, 'policeman': 2774, 'surround': 2775, 'neil': 2776, 'ac': 2777, 'maria': 2778, 'tweet': 2779, 'nicole': 2780, 'franklin': 2781, 'barclays': 2782, 'responsibility': 2783, 'countrys': 2784, 'naval': 2785, 'verizon': 2786, 'd': 2787, 'amazon': 2788, 'bruce': 2789, 'cowell': 2790, 'restriction': 2791, 'johnny': 2792, 'advantage': 2793, 'jazz': 2794, 'rookie': 2795, 'warner': 2796, 'sweden': 2797, 'ballot': 2798, 'closing': 2799, 'fleet': 2800, 'core': 2801, 'operating': 2802, 'legislature': 2803, 'medvedev': 2804, 'yield': 2805, 'walmart': 2806, 'brief': 2807, 'lawrence': 2808, 'bradley': 2809, 'warns': 2810, 'often': 2811, 'lincoln': 2812, 'armenia': 2813, 'teammate': 2814, 'anything': 2815, 'task': 2816, 'saving': 2817, 'provincial': 2818, 'pat': 2819, '34': 2820, 'upon': 2821, 'duo': 2822, 'rid': 2823, 'reduction': 2824, 'principal': 2825, 'heard': 2826, 'undisclosed': 2827, 'thai': 2828, 'peak': 2829, 'cultural': 2830, 'leaf': 2831, 'ankle': 2832, 'rafael': 2833, 'streak': 2834, 'tear': 2835, 'similar': 2836, 'maintenance': 2837, 'drill': 2838, 'gunpoint': 2839, 'waiver': 2840, 'cub': 2841, 'longterm': 2842, 'innovation': 2843, 'household': 2844, 'blog': 2845, 'volume': 2846, 'supermarket': 2847, '250': 2848, 'roster': 2849, 'resignation': 2850, 'coordinator': 2851, 'drought': 2852, 'urban': 2853, 'del': 2854, 'aniston': 2855, 'intel': 2856, 'neighbor': 2857, 'discount': 2858, 'bike': 2859, 'jewish': 2860, 'deutsche': 2861, 'map': 2862, 'bobby': 2863, 'bite': 2864, 'motorist': 2865, 'armstrong': 2866, 'shell': 2867, 'liberty': 2868, 'apologise': 2869, 'collide': 2870, 'tumble': 2871, 'remark': 2872, 'billy': 2873, 'duke': 2874, 'reliance': 2875, 'pump': 2876, '36': 2877, 'execute': 2878, 'patriot': 2879, 'softball': 2880, 'plus': 2881, 'encounter': 2882, 'deploy': 2883, 'parker': 2884, 'hilton': 2885, 'possibility': 2886, 'danny': 2887, 'interim': 2888, 'prominent': 2889, 'trap': 2890, 'inquiry': 2891, 'parade': 2892, 'registration': 2893, 'indianapolis': 2894, 'gujarat': 2895, 'barry': 2896, 'unexpectedly': 2897, 'broken': 2898, 'narrow': 2899, 'maine': 2900, 'palace': 2901, 'motion': 2902, 'spy': 2903, 'lightning': 2904, 'shortly': 2905, 'shah': 2906, 'fare': 2907, 'downturn': 2908, 'delta': 2909, 'crop': 2910, 'ash': 2911, 'pit': 2912, 'smash': 2913, 'regulatory': 2914, 'chart': 2915, 'nashville': 2916, 'lopez': 2917, 'nicolas': 2918, 'audience': 2919, 'sacramento': 2920, 'wikileaks': 2921, 'billionaire': 2922, 'structure': 2923, 'hole': 2924, 'favourite': 2925, 'heritage': 2926, 'clark': 2927, 'mind': 2928, 'rider': 2929, 'caribbean': 2930, 'diesel': 2931, 'sideline': 2932, 'seal': 2933, 'dow': 2934, 'kolkata': 2935, '3d': 2936, 'dry': 2937, 'takeover': 2938, 'killing': 2939, 'honda': 2940, 'wreck': 2941, '700': 2942, 'limited': 2943, 'seventh': 2944, 'linebacker': 2945, 'photographer': 2946, 'destination': 2947, 'wolf': 2948, 'permanent': 2949, 'premium': 2950, 'sink': 2951, 'emission': 2952, 'kapoor': 2953, 'dick': 2954, 'fitch': 2955, 'surrender': 2956, 'contribute': 2957, 'jacob': 2958, 'constitution': 2959, 'berlin': 2960, 'hawaii': 2961, 'isnt': 2962, 'netherlands': 2963, 'type': 2964, 'priority': 2965, 'understand': 2966, 'wildfire': 2967, 'raider': 2968, 'probably': 2969, 'whole': 2970, 'broker': 2971, 'ufc': 2972, 'critic': 2973, 'automotive': 2974, 'prescription': 2975, 'pack': 2976, 'entry': 2977, 'shoe': 2978, 'mom': 2979, 'grove': 2980, 'temple': 2981, 'quarterfinal': 2982, 'restructuring': 2983, 'exploration': 2984, 'landing': 2985, 'comprehensive': 2986, 'ibm': 2987, '2006': 2988, 'reverse': 2989, '43': 2990, 'misdemeanor': 2991, 'teach': 2992, 'p': 2993, 'ian': 2994, 'cool': 2995, 'georgian': 2996, 'requirement': 2997, 'economist': 2998, 'abroad': 2999, 'leading': 3000, 'sunderland': 3001, 'drunken': 3002, 'bristol': 3003, 'shelter': 3004, 'collaboration': 3005, 'standoff': 3006, '61': 3007, 'judicial': 3008, '37': 3009, 'forthcoming': 3010, 'petroleum': 3011, 'advisor': 3012, 'nasa': 3013, 'brewer': 3014, 'poland': 3015, 'mandela': 3016, 'buying': 3017, 'spur': 3018, 'malik': 3019, 'dublin': 3020, 'latin': 3021, 'nevada': 3022, 'dip': 3023, 'handle': 3024, 'await': 3025, 'quickly': 3026, 'motorcyclist': 3027, 'bury': 3028, 'advocate': 3029, 'legislative': 3030, 'alone': 3031, 'admits': 3032, 'argument': 3033, 'everyone': 3034, 'grain': 3035, 'cyclist': 3036, 'hide': 3037, 'holder': 3038, 'unique': 3039, 'temporarily': 3040, 'danger': 3041, 'disclose': 3042, 'reward': 3043, 'vaccine': 3044, 'editor': 3045, 'vessel': 3046, 'decrease': 3047, 'gap': 3048, 'benedict': 3049, 'waive': 3050, 'asif': 3051, 'icon': 3052, 'outfielder': 3053, 'brace': 3054, 'rand': 3055, 'trailer': 3056, 'islamabad': 3057, 'abortion': 3058, '911': 3059, 'feed': 3060, 'flow': 3061, 'jammu': 3062, 'beauty': 3063, 'nascar': 3064, 'beer': 3065, 'terminal': 3066, 'wire': 3067, 'expose': 3068, 'ruling': 3069, 'welfare': 3070, 'musharraf': 3071, 'trooper': 3072, 'reunite': 3073, 'seed': 3074, 'tighten': 3075, 'ricky': 3076, 'tanker': 3077, 'roof': 3078, 'collins': 3079, 'detective': 3080, 'aaron': 3081, 'accidentally': 3082, 'hampshire': 3083, 'riot': 3084, 'finger': 3085, 'overcome': 3086, 'clinch': 3087, 'revise': 3088, 'beef': 3089, 'brook': 3090, 'cnn': 3091, 'flame': 3092, 'licence': 3093, 'till': 3094, 'automaker': 3095, 'flash': 3096, 'colombia': 3097, 'sure': 3098, 'overturn': 3099, 'actually': 3100, 'piece': 3101, 'subject': 3102, 'knowledge': 3103, 'auckland': 3104, 'assignment': 3105, 'humanitarian': 3106, 'sterling': 3107, 'fishing': 3108, 'physical': 3109, 'joseph': 3110, 'offence': 3111, 'cop': 3112, 'voting': 3113, 'hostage': 3114, 'shuttle': 3115, 'illegally': 3116, 'envoy': 3117, 'depression': 3118, 'telecommunication': 3119, 'competitive': 3120, 'wholesale': 3121, 'sustain': 3122, 'graham': 3123, 'afp': 3124, 'trillion': 3125, 'wrap': 3126, 'ashley': 3127, 'default': 3128, 'watson': 3129, 'keith': 3130, 'spokeswoman': 3131, 'putin': 3132, 'zoo': 3133, 'brandon': 3134, 'discharge': 3135, 'mets': 3136, 'controversy': 3137, 'designate': 3138, 'minimum': 3139, '55': 3140, 'commonwealth': 3141, 'induct': 3142, 'preparation': 3143, 'fisher': 3144, 'ross': 3145, 'aide': 3146, 'kerry': 3147, 'procedure': 3148, 'vision': 3149, 'reflect': 3150, 'refinery': 3151, 'original': 3152, 'municipal': 3153, 'neighbour': 3154, 'hp': 3155, 'innovative': 3156, 'filmmaker': 3157, 'shrink': 3158, 'unchanged': 3159, 'workshop': 3160, 'overhaul': 3161, 'congratulate': 3162, 'hair': 3163, 'attention': 3164, 'cinema': 3165, 'inspire': 3166, 'quite': 3167, 'chennai': 3168, 'insurer': 3169, 'stability': 3170, 'ottawa': 3171, 'lash': 3172, 'selection': 3173, 'bombing': 3174, 'diabetes': 3175, 'variety': 3176, 'strongly': 3177, 'sp': 3178, 'christina': 3179, 'reiterate': 3180, 'guidance': 3181, '72': 3182, 'favorite': 3183, 'nepal': 3184, 'lok': 3185, 'disorder': 3186, 'dave': 3187, 'generate': 3188, 'cyprus': 3189, 'banker': 3190, 'dominate': 3191, 'doubt': 3192, 'evacuation': 3193, 'le': 3194, 'stag': 3195, 'drag': 3196, 'skill': 3197, 'magic': 3198, 'activate': 3199, 'conspiracy': 3200, '48': 3201, 'hugo': 3202, 'kuwait': 3203, 'moon': 3204, 'familiar': 3205, 'refinance': 3206, '800': 3207, 'virtual': 3208, 'goalkeeper': 3209, 'qantas': 3210, 'exporter': 3211, 'owe': 3212, 'revolution': 3213, 'twoyear': 3214, 'springfield': 3215, 'nadal': 3216, 'hunger': 3217, 'solo': 3218, 'yard': 3219, 'wheat': 3220, 'councillor': 3221, 'opponent': 3222, 'rollover': 3223, 'ability': 3224, 'mistake': 3225, 'associated': 3226, 'widen': 3227, 'warm': 3228, 'integrate': 3229, 'kidney': 3230, 'veto': 3231, 'filing': 3232, 'gene': 3233, 'text': 3234, 'lung': 3235, 'petition': 3236, 'tyler': 3237, 'addition': 3238, '3000': 3239, 'jesse': 3240, 'reid': 3241, 'communist': 3242, '51': 3243, 'explore': 3244, 'lakh': 3245, 'greg': 3246, 'hub': 3247, 'nc': 3248, 'pak': 3249, 'viking': 3250, 'rover': 3251, 'rumour': 3252, 'raw': 3253, '38': 3254, 'prior': 3255, 'rip': 3256, 'athletic': 3257, 'kerala': 3258, 'lama': 3259, 'bust': 3260, 'increasingly': 3261, 'motorola': 3262, 'douglas': 3263, 'lebanese': 3264, 'bed': 3265, 'inaugurate': 3266, 'allstar': 3267, 'cairo': 3268, 'swap': 3269, 'jamie': 3270, 'creative': 3271, 'undergoes': 3272, 'hip': 3273, 'emirate': 3274, 'aston': 3275, 'relative': 3276, 'higher': 3277, 'marshall': 3278, 'tribal': 3279, 'era': 3280, 'momentum': 3281, 'outlet': 3282, 'fla': 3283, 'capitol': 3284, 'administrator': 3285, 'colombian': 3286, 'larry': 3287, 'rochester': 3288, 'contribution': 3289, 'transplant': 3290, 'ambulance': 3291, 'romania': 3292, 'restructure': 3293, 'foster': 3294, 'bishop': 3295, 'wine': 3296, 'iii': 3297, 'amendment': 3298, 'analysis': 3299, 'dalai': 3300, 'agricultural': 3301, 'obamas': 3302, 'tire': 3303, 'affiliate': 3304, 'lance': 3305, 'nebraska': 3306, 'jonathan': 3307, 'unlikely': 3308, 'perth': 3309, 'fbi': 3310, 'blaze': 3311, 'fiji': 3312, 'string': 3313, 'corner': 3314, 'bonus': 3315, 'baghdad': 3316, 'skip': 3317, 'homeowner': 3318, 'costa': 3319, 'workforce': 3320, 'opera': 3321, 'occupy': 3322, 'leeds': 3323, '50000': 3324, 'outbreak': 3325, 'brisbane': 3326, 'salman': 3327, 'hat': 3328, 'pti': 3329, 'opinion': 3330, 'acre': 3331, 'strain': 3332, 'grab': 3333, 'tap': 3334, 'kenny': 3335, 'owen': 3336, 'bottle': 3337, 'disrupt': 3338, 'exceed': 3339, 'renewable': 3340, 'parish': 3341, 'anyone': 3342, 'twenty20': 3343, 'universal': 3344, 'harper': 3345, 'shane': 3346, 'someone': 3347, 'pursue': 3348, 'revive': 3349, 'repeat': 3350, 'quick': 3351, 'kiss': 3352, 'fun': 3353, 'walter': 3354, 'titan': 3355, 'skipper': 3356, 'theyre': 3357, 'ted': 3358, 'kosovo': 3359, 'mtv': 3360, 'skin': 3361, 'advice': 3362, 'comic': 3363, 'thompson': 3364, 'detect': 3365, 'warehouse': 3366, 'blind': 3367, 'dolphin': 3368, 'bachchan': 3369, 'neck': 3370, 'inter': 3371, 'smartphones': 3372, 'roman': 3373, 'tsunami': 3374, 'nightclub': 3375, 'sustainable': 3376, 'processing': 3377, 'chef': 3378, 'dean': 3379, 'cheap': 3380, 'rb': 3381, 'poise': 3382, 'lakers': 3383, 'critically': 3384, 'wright': 3385, 'holmes': 3386, 'idaho': 3387, 'gm': 3388, 'espn': 3389, 'mukherjee': 3390, 'jefferson': 3391, 'citigroup': 3392, 'wealth': 3393, 'wimbledon': 3394, 'pickup': 3395, 'strand': 3396, 'organize': 3397, 'publicly': 3398, 'interested': 3399, '46': 3400, 'casey': 3401, 'sarkozy': 3402, 'dramatic': 3403, 'pupil': 3404, 'carl': 3405, 'integration': 3406, 'bolster': 3407, 'corn': 3408, 'elephant': 3409, 'bc': 3410, 'haven': 3411, 'northwestern': 3412, 'keen': 3413, 'yemeni': 3414, 'curb': 3415, 'scout': 3416, 'explosive': 3417, 'bottom': 3418, 'uncertainty': 3419, 'pioneer': 3420, 'angry': 3421, 'path': 3422, 'significantly': 3423, 'involvement': 3424, 'zuma': 3425, 'deserve': 3426, 'hate': 3427, 'priest': 3428, 'rome': 3429, 'lily': 3430, 'zero': 3431, 'fa': 3432, 'migrant': 3433, 'margin': 3434, 'brett': 3435, 'alongside': 3436, 'basic': 3437, 'survivor': 3438, 'sovereign': 3439, 'hughes': 3440, 'ore': 3441, 'ranking': 3442, 'ahmadinejad': 3443, 'lucky': 3444, 'testify': 3445, '53': 3446, 'print': 3447, 'cowboy': 3448, 'pete': 3449, 'lease': 3450, 'ski': 3451, 'carey': 3452, 'remains': 3453, 'rogers': 3454, 'milk': 3455, 'jerusalem': 3456, 'cliff': 3457, 'interactive': 3458, 'amanda': 3459, 'raven': 3460, 'viewer': 3461, 'chancellor': 3462, 'ace': 3463, 'montana': 3464, '44': 3465, 'explode': 3466, '2015': 3467, 'winger': 3468, 'glass': 3469, 'instal': 3470, 'oneyear': 3471, 'kris': 3472, 'crackdown': 3473, 'vladimir': 3474, 'documentary': 3475, 'presidency': 3476, 'sep': 3477, 'everton': 3478, 'salt': 3479, 'novel': 3480, 'philip': 3481, 'abdullah': 3482, 'wonder': 3483, 'vendor': 3484, 'unknown': 3485, 'gomez': 3486, 'julian': 3487, 'please': 3488, 'mario': 3489, 'organise': 3490, 'kanye': 3491, 'poverty': 3492, 'demonstration': 3493, 'munich': 3494, 'hopeful': 3495, 'eddie': 3496, 'bihar': 3497, 'download': 3498, 'asylum': 3499, 'gaddafi': 3500, 'regret': 3501, 'toy': 3502, 'favour': 3503, 'cricketer': 3504, 'colleague': 3505, 'remote': 3506, '82': 3507, 'rental': 3508, 'efficiency': 3509, 'hes': 3510, 'kyle': 3511, 'packer': 3512, 'outage': 3513, 'watchdog': 3514, 'negotiate': 3515, 'chile': 3516, 'affordable': 3517, 'gilani': 3518, 'julia': 3519, 'membership': 3520, 'imf': 3521, 'hint': 3522, 'meter': 3523, 'auburn': 3524, 'outfit': 3525, 'portsmouth': 3526, 'venezuelan': 3527, 'adelaide': 3528, 'chicken': 3529, 'jeremy': 3530, 'murphy': 3531, 'mason': 3532, 'maharashtra': 3533, 'capability': 3534, 'vodafone': 3535, 'broadcaster': 3536, 'jacksonville': 3537, 'bloomberg': 3538, 'reader': 3539, 'convert': 3540, 'serial': 3541, 'cycle': 3542, 'server': 3543, 'retreat': 3544, 'command': 3545, 'landmark': 3546, 'baseman': 3547, 'jobless': 3548, 'australias': 3549, 'solve': 3550, 'spell': 3551, 'bullet': 3552, 'withdraws': 3553, 'middleton': 3554, 'airbus': 3555, 'mahmoud': 3556, 'voluntary': 3557, 'oracle': 3558, 'method': 3559, 'cruelty': 3560, 'mccartney': 3561, 'modi': 3562, 'shape': 3563, 'donald': 3564, 'theme': 3565, 'polish': 3566, 'dam': 3567, 'merge': 3568, 'gross': 3569, 'abduct': 3570, 'gamble': 3571, 'either': 3572, 'bangalore': 3573, 'ham': 3574, 'brussels': 3575, 'signing': 3576, 'smuggle': 3577, 'arrival': 3578, 'rocker': 3579, 'evans': 3580, 'surface': 3581, 'phillips': 3582, 'boss': 3583, 'maritime': 3584, 'drilling': 3585, 'load': 3586, 'academic': 3587, 'pregnancy': 3588, 'drinking': 3589, 'castro': 3590, 'function': 3591, 'pharmacy': 3592, 'memphis': 3593, 'neutral': 3594, 'pilgrim': 3595, 'mitchell': 3596, 'assure': 3597, 'lloyd': 3598, 'potentially': 3599, 'kent': 3600, 'roberto': 3601, 'jaguar': 3602, 'dmitry': 3603, 'somalia': 3604, 'ward': 3605, 'rachel': 3606, 'seminar': 3607, 'pending': 3608, 'spencer': 3609, 'selling': 3610, 'shield': 3611, 'prayer': 3612, 'bmw': 3613, 'austerity': 3614, 'lodge': 3615, 'pizza': 3616, 'dad': 3617, 'midnight': 3618, 'raza': 3619, 'denies': 3620, 'karnataka': 3621, 'susan': 3622, 'recycle': 3623, 'torch': 3624, '95': 3625, 'vs': 3626, 'meat': 3627, 'clinical': 3628, 'demonstrate': 3629, 'ferry': 3630, '120': 3631, 'tape': 3632, 'wellington': 3633, 'assange': 3634, 'superior': 3635, 'concussion': 3636, 'laboratory': 3637, 'surplus': 3638, 'spokesperson': 3639, 'absence': 3640, 'pensioner': 3641, 'dairy': 3642, '52': 3643, 'expel': 3644, 'rodriguez': 3645, 'external': 3646, '67': 3647, 'privacy': 3648, 'suburb': 3649, 'emma': 3650, 'faith': 3651, 'lifetime': 3652, 'hacker': 3653, 'christie': 3654, 'crystal': 3655, 'soft': 3656, 'considers': 3657, 'xinhua': 3658, 'clothes': 3659, 'torture': 3660, 'inspector': 3661, 'mariner': 3662, 'chidambaram': 3663, 'tag': 3664, 'crucial': 3665, 'distributor': 3666, '11th': 3667, 'porn': 3668, 'ubs': 3669, 'circle': 3670, 'cigarette': 3671, 'sonia': 3672, 'caution': 3673, 'firearm': 3674, 'coroner': 3675, 'suv': 3676, 'headline': 3677, 'shipment': 3678, 'constitutional': 3679, '71': 3680, 'pink': 3681, 'mubarak': 3682, 'holy': 3683, 'arnold': 3684, '83': 3685, 'delaware': 3686, 'elbow': 3687, 'karachi': 3688, 'heidi': 3689, 'joke': 3690, 'boycott': 3691, '54': 3692, 'infant': 3693, 'defenseman': 3694, 'beginning': 3695, 'intervention': 3696, '125': 3697, 'commits': 3698, 'muhammad': 3699, 'harvest': 3700, 'completely': 3701, 'youre': 3702, 'pastor': 3703, 'tendulkar': 3704, 'tibetan': 3705, 'accelerate': 3706, 'norway': 3707, 'robinson': 3708, 'conservation': 3709, 'confirms': 3710, 'detention': 3711, 'selena': 3712, 'fugitive': 3713, 'obesity': 3714, 'steelers': 3715, 'inch': 3716, '66': 3717, 'inspection': 3718, 'counter': 3719, 'deer': 3720, 'chair': 3721, 'phillies': 3722, 'versus': 3723, 'cambridge': 3724, 'sheikh': 3725, 'particularly': 3726, 'anne': 3727, 'gasoline': 3728, 'sense': 3729, 'dj': 3730, 'newton': 3731, 'garage': 3732, 'pattern': 3733, 'richmond': 3734, 'abbas': 3735, 'dell': 3736, 'trainer': 3737, 'peaceful': 3738, 'schwarzenegger': 3739, 'favor': 3740, 'naked': 3741, 'chest': 3742, 'initiate': 3743, 'americas': 3744, 'nj': 3745, 'underway': 3746, 'taxpayer': 3747, 'sharif': 3748, 'montgomery': 3749, 'laden': 3750, 'juan': 3751, 'heroin': 3752, 'karzai': 3753, 'footballer': 3754, 'regain': 3755, 'martinez': 3756, 'whale': 3757, 'vatican': 3758, 'solid': 3759, 'athletics': 3760, 'fiveyear': 3761, 'borrow': 3762, '49': 3763, 'o': 3764, 'hack': 3765, 'rahul': 3766, 'max': 3767, 'lottery': 3768, 'judiciary': 3769, 'argue': 3770, 'boot': 3771, 'scare': 3772, 'staterun': 3773, 'athens': 3774, 'ownership': 3775, 'possibly': 3776, 'lesson': 3777, '39': 3778, 'odds': 3779, 'eighth': 3780, 'placement': 3781, 'monroe': 3782, 'stretch': 3783, 'compromise': 3784, 'unable': 3785, 'offset': 3786, 'exposure': 3787, 'apology': 3788, 'reading': 3789, 'transition': 3790, 'wwe': 3791, 'osbourne': 3792, 'discrimination': 3793, '500000': 3794, 'jesus': 3795, 'tommy': 3796, 'brooklyn': 3797, 'cbi': 3798, 'secondary': 3799, 'unity': 3800, 'outdoor': 3801, 'astronaut': 3802, 'thunderstorm': 3803, 'audit': 3804, 'restrict': 3805, 'consumption': 3806, '1st': 3807, 'louisville': 3808, 'wheel': 3809, 'container': 3810, 'ken': 3811, 'following': 3812, 'statewide': 3813, 'specialty': 3814, 'cooperate': 3815, 'vital': 3816, 'nature': 3817, 'diet': 3818, 'ethnic': 3819, 'pentagon': 3820, 'grocery': 3821, 'syed': 3822, 'hasnt': 3823, 'kitchen': 3824, 'levy': 3825, 'inventory': 3826, 'marc': 3827, '81': 3828, 'hijack': 3829, 'hammer': 3830, 'semiconductor': 3831, 'directly': 3832, 'suite': 3833, 'volleyball': 3834, 'desert': 3835, 'jewelry': 3836, 'specie': 3837, 'trafficking': 3838, 'silence': 3839, 'meal': 3840, 'subsidy': 3841, 'lovato': 3842, 'robbie': 3843, 'commuter': 3844, 'rooney': 3845, 'replacement': 3846, 'fernando': 3847, 'importance': 3848, 'criticize': 3849, 'subscriber': 3850, 'widespread': 3851, '68': 3852, '73': 3853, 'shopper': 3854, 'weakness': 3855, 'edmonton': 3856, '57': 3857, 'relay': 3858, 'ronaldo': 3859, 'receives': 3860, 'merkel': 3861, '50th': 3862, 'component': 3863, 'pranab': 3864, 'mugabe': 3865, 'bernard': 3866, 'formal': 3867, 'burst': 3868, 'vacation': 3869, 'prevention': 3870, 'insurgent': 3871, 'bayern': 3872, 'entrepreneur': 3873, 'hiv': 3874, 'agenda': 3875, 'serbian': 3876, 'anc': 3877, 'timberlake': 3878, 'nadu': 3879, 'intention': 3880, 'thanksgiving': 3881, 'butler': 3882, 'bench': 3883, 'flagship': 3884, 'referendum': 3885, 'lil': 3886, 'sandy': 3887, 'behaviour': 3888, 'qaeda': 3889, '900': 3890, 'moderate': 3891, 'insider': 3892, 'playstation': 3893, 'surveillance': 3894, 'opt': 3895, 'error': 3896, 'abdul': 3897, 'blake': 3898, 'yes': 3899, 'challenger': 3900, 'deport': 3901, 'magistrate': 3902, 'paint': 3903, 'succeed': 3904, 'maximum': 3905, 'burglar': 3906, '74': 3907, 'aggressive': 3908, 'liquor': 3909, 'mild': 3910, 'operational': 3911, 'seahawks': 3912, 'oak': 3913, 'hybrid': 3914, 'aberdeen': 3915, 'prostitution': 3916, 'federer': 3917, 'bronco': 3918, 'cisco': 3919, 'ann': 3920, 'gibson': 3921, 'beverly': 3922, 'cotton': 3923, 'rajasthan': 3924, 'sick': 3925, 'alberta': 3926, 'costar': 3927, 'clarke': 3928, 'administrative': 3929, 'acquit': 3930, 'honorary': 3931, 'soul': 3932, 'par': 3933, 'ashton': 3934, 'profile': 3935, 'runner': 3936, 'substance': 3937, 'census': 3938, 'baku': 3939, 'ericsson': 3940, 'execution': 3941, 'moss': 3942, 'briefly': 3943, 'haryana': 3944, 'prostate': 3945, 'audio': 3946, 'emmy': 3947, 'dame': 3948, 'norwegian': 3949, '20th': 3950, 'fundraiser': 3951, 'wichita': 3952, 'ferrari': 3953, 'rebuild': 3954, 'romanian': 3955, 'hyderabad': 3956, 'unrest': 3957, 'mystery': 3958, 'lunch': 3959, 'grid': 3960, 'tribune': 3961, 'postal': 3962, 'wenger': 3963, 'builder': 3964, 'creation': 3965, 'unanimously': 3966, 'blackburn': 3967, 'incentive': 3968, 'guru': 3969, 'firework': 3970, '20yearold': 3971, 'volatile': 3972, 'emotional': 3973, 'wasnt': 3974, 'achievement': 3975, 'stun': 3976, 'boxer': 3977, 'declaration': 3978, 'brush': 3979, 'laptop': 3980, 'verdict': 3981, 'berlusconi': 3982, 'uranium': 3983, 'ultimate': 3984, 'lt': 3985, 'qualifier': 3986, 'buck': 3987, 'boom': 3988, 'princess': 3989, 'randy': 3990, 'nobel': 3991, 'mt': 3992, 'uefa': 3993, 'potter': 3994, 'mel': 3995, 'pill': 3996, 'awardwinning': 3997, 'occasion': 3998, 'empire': 3999, 'underwent': 4000, 'easter': 4001, 'disability': 4002, 'jake': 4003, 'pact': 4004, 'bowler': 4005, 'recognition': 4006, 'ninth': 4007, 'mix': 4008, 'prefer': 4009, 'extreme': 4010, 'complain': 4011, 'clerk': 4012, 'ceasefire': 4013, 'runway': 4014, 'heath': 4015, 'publication': 4016, 'racing': 4017, 'pneumonia': 4018, 'apa': 4019, 'jean': 4020, 'afl': 4021, 'buyout': 4022, 'telephone': 4023, 'coastal': 4024, 'bryant': 4025, 'shower': 4026, 'sachin': 4027, 'parole': 4028, 'righthander': 4029, 'belgian': 4030, 'belgium': 4031, 'lesbian': 4032, 'necessary': 4033, 'mentally': 4034, 'bernanke': 4035, 'aussie': 4036, 'easily': 4037, 'suburban': 4038, 'plate': 4039, 'threeday': 4040, 'unpaid': 4041, 'elton': 4042, 'treaty': 4043, 'rupert': 4044, 'marion': 4045, 'reinstate': 4046, '84': 4047, 'electrical': 4048, '47': 4049, 'tobacco': 4050, 'calm': 4051, 'therapy': 4052, 'simple': 4053, 'pipe': 4054, 'inaugural': 4055, 'johannesburg': 4056, 'glasgow': 4057, 'manhattan': 4058, 'billboard': 4059, 'closely': 4060, 'root': 4061, 'murdoch': 4062, 'freight': 4063, 'equal': 4064, 'norman': 4065, 'quinn': 4066, 'fat': 4067, 'clothing': 4068, 'outsource': 4069, 'vacant': 4070, '100th': 4071, 'guitarist': 4072, 'prosecution': 4073, 'multiyear': 4074, 'devastate': 4075, '2005': 4076, 'spin': 4077, 'todd': 4078, 'rod': 4079, 'datuk': 4080, 'turbine': 4081, 'uttar': 4082, 'referee': 4083, 'amnesty': 4084, 'brady': 4085, 'personality': 4086, 'handset': 4087, 'checkpoint': 4088, 'evasion': 4089, 'thank': 4090, 'threeyear': 4091, 'juvenile': 4092, 'arbitration': 4093, 'hungary': 4094, '12th': 4095, 'found': 4096, 'sail': 4097, '86': 4098, 'apart': 4099, 'xbox': 4100, 'unless': 4101, 'trump': 4102, 'fracture': 4103, 'mad': 4104, 'dennis': 4105, 'cope': 4106, 'consolidate': 4107, 'ink': 4108, 'kidnapping': 4109, 'certificate': 4110, 'grammy': 4111, 'amber': 4112, 'ignore': 4113, 'htc': 4114, 'bath': 4115, 'leon': 4116, 'react': 4117, 'donor': 4118, 'scholarship': 4119, 'punishment': 4120, 'hull': 4121, 'nancy': 4122, 'concept': 4123, 'whitney': 4124, 'proceeding': 4125, 'shootout': 4126, 'cofounder': 4127, 'nissan': 4128, 'pervez': 4129, 'christopher': 4130, 'lab': 4131, 'mohammed': 4132, '77': 4133, 'lifestyle': 4134, '21yearold': 4135, 'implementation': 4136, 'confess': 4137, '56': 4138, 'hugh': 4139, 'iconic': 4140, 'pride': 4141, 'blair': 4142, 'presidentelect': 4143, 'nintendo': 4144, 'catcher': 4145, 'childhood': 4146, 'pas': 4147, 'argentine': 4148, 'gallagher': 4149, '1500': 4150, 'portugal': 4151, 'stoke': 4152, 'offense': 4153, 'marcus': 4154, 'examine': 4155, 'anchor': 4156, '20000': 4157, 'colin': 4158, 'hamid': 4159, 'instrument': 4160, 'hindu': 4161, 'netanyahu': 4162, '88': 4163, 'aboard': 4164, 'midwest': 4165, 'inquest': 4166, 'southeastern': 4167, 'suzuki': 4168, 'furniture': 4169, 'couldnt': 4170, 'neglect': 4171, 'gen': 4172, 'devil': 4173, 'sailor': 4174, 'frontman': 4175, 'continued': 4176, 'whom': 4177, 'consultation': 4178, 'married': 4179, 'harbor': 4180, 'layoff': 4181, 'entitle': 4182, 'trim': 4183, 'nursing': 4184, 'hometown': 4185, 'convenience': 4186, 'omaha': 4187, 'midland': 4188, 'horror': 4189, 'unidentified': 4190, 'alarm': 4191, 'mahindra': 4192, 'chad': 4193, 'drowns': 4194, 'adjust': 4195, 'bashar': 4196, 'peninsula': 4197, 'h1n1': 4198, 'kenyan': 4199, 'bolton': 4200, 'arctic': 4201, '89': 4202, 'wicket': 4203, 'segment': 4204, 'tribunal': 4205, 'g': 4206, 'eur': 4207, 'certification': 4208, 'fruit': 4209, 'innocent': 4210, 'pa': 4211, 'enemy': 4212, 'pga': 4213, 'spectrum': 4214, 'peru': 4215, 'youngster': 4216, 'sensation': 4217, 'preserve': 4218, '130': 4219, '91': 4220, 'herald': 4221, 'slap': 4222, 'oriole': 4223, 'pretty': 4224, 'supervisor': 4225, 'consultant': 4226, 'oath': 4227, 'berry': 4228, 'prestigious': 4229, 'unbeaten': 4230, 'capable': 4231, 'joel': 4232, 'intersection': 4233, 'swan': 4234, 'syracuse': 4235, '78': 4236, 'expire': 4237, 'baldwin': 4238, 'islam': 4239, 'northeastern': 4240, 'routine': 4241, '19yearold': 4242, '4000': 4243, 'serena': 4244, 'educational': 4245, 'colt': 4246, 'yuan': 4247, 'plain': 4248, 'hsbc': 4249, 'lp': 4250, '69': 4251, 'twoday': 4252, 'mineral': 4253, 'atomic': 4254, 'desperate': 4255, 'framework': 4256, 'compliance': 4257, 'twilight': 4258, 'nearby': 4259, 'recommendation': 4260, 'ethic': 4261, 'oneday': 4262, 'colombo': 4263, 'overdose': 4264, 'button': 4265, 'deepen': 4266, '101': 4267, 'liver': 4268, '110': 4269, 'minneapolis': 4270, 'lover': 4271, 'sanchez': 4272, 'citizenship': 4273, 'poker': 4274, 'invitation': 4275, '30000': 4276, 'beyonce': 4277, 'cemetery': 4278, 'lynch': 4279, 'l': 4280, 'francis': 4281, 'belt': 4282, 'racist': 4283, 'rat': 4284, 'tractor': 4285, 'batsman': 4286, 'lisa': 4287, 'valentine': 4288, 'belong': 4289, 'ramp': 4290, 'disappointing': 4291, 'damascus': 4292, 'pollution': 4293, 'manny': 4294, '79': 4295, 'surpass': 4296, 'albany': 4297, 'k': 4298, 'eva': 4299, 'newborn': 4300, '2004': 4301, 'outline': 4302, 'osama': 4303, 'pricing': 4304, 'finland': 4305, 'jam': 4306, 'intensify': 4307, 'relocate': 4308, 'hu': 4309, 'boys': 4310, 'angela': 4311, 'permission': 4312, 'boyle': 4313, 'knot': 4314, 'amitabh': 4315, 'municipality': 4316, 'roadside': 4317, 'install': 4318, 'luke': 4319, 'jonas': 4320, 'harrison': 4321, 'skate': 4322, 'guideline': 4323, 'bang': 4324, 'calgary': 4325, 'lexington': 4326, 'autism': 4327, 'pacquiao': 4328, 'widely': 4329, 'mo': 4330, 'baker': 4331, 'ist': 4332, 'ahmed': 4333, 'floyd': 4334, 'uniform': 4335, 'breakfast': 4336, 'aside': 4337, 'severely': 4338, 'unprecedented': 4339, 'tragedy': 4340, 'rent': 4341, 'michele': 4342, 'stall': 4343, 'grave': 4344, 'sioux': 4345, 'possess': 4346, 'beautiful': 4347, 'survival': 4348, '25000': 4349, 'nrl': 4350, 'dragon': 4351, 'domain': 4352, 'alqaeda': 4353, 'denmark': 4354, 'golfer': 4355, 'cautious': 4356, 'swat': 4357, 'completion': 4358, 'commence': 4359, 'hardware': 4360, 'definitive': 4361, 'dynamic': 4362, 'creator': 4363, 'nonprofit': 4364, 'southwestern': 4365, 'composer': 4366, 'muscle': 4367, 'barnes': 4368, 'crunch': 4369, 'chronic': 4370, 'frontier': 4371, 'float': 4372, 'indefinite': 4373, 'stamp': 4374, 'throat': 4375, 'restart': 4376, 'indictment': 4377, 'freddie': 4378, 'ancient': 4379, 'remind': 4380, 'norwich': 4381, 'abbott': 4382, 'na': 4383, 'rudd': 4384, 'siemens': 4385, 'tariff': 4386, 'toss': 4387, 'duck': 4388, 'panther': 4389, 'statue': 4390, 'tumor': 4391, 'depot': 4392, 'approves': 4393, 'filipino': 4394, 'spray': 4395, 'continental': 4396, 'chinas': 4397, 'cry': 4398, 'assess': 4399, 'ecommerce': 4400, 'molest': 4401, 'navigation': 4402, 'albert': 4403, 'raj': 4404, 'turmoil': 4405, 'thunder': 4406, 'optimism': 4407, 'sandra': 4408, 'canal': 4409, 'venue': 4410, 'planned': 4411, 'portal': 4412, 'largely': 4413, 'cardiac': 4414, 'gillard': 4415, 'assam': 4416, 'grace': 4417, 'egg': 4418, 'extremely': 4419, 'electoral': 4420, 'endorsement': 4421, 'transmission': 4422, 'salem': 4423, 'austrian': 4424, 'ebay': 4425, 'sap': 4426, 'andhra': 4427, 'falcon': 4428, 'rockies': 4429, 'mohammad': 4430, 'cyber': 4431, 'pig': 4432, 'concession': 4433, 'caught': 4434, 'danish': 4435, 'criticise': 4436, 'drain': 4437, 'participation': 4438, 'merchant': 4439, 'uks': 4440, 'sustainability': 4441, 'highland': 4442, '13th': 4443, 'increased': 4444, 'dvd': 4445, 'radical': 4446, 'counsel': 4447, 'romance': 4448, 'buzz': 4449, 'maverick': 4450, 'assessment': 4451, 'originally': 4452, 'worsen': 4453, 'sheet': 4454, '2nd': 4455, 'provision': 4456, 'fed': 4457, 'complication': 4458, 'quiet': 4459, 'packaging': 4460, 'tesco': 4461, 'luis': 4462, 'rig': 4463, 'dental': 4464, 'hawk': 4465, 'medicare': 4466, 'signature': 4467, 'hartford': 4468, 'catherine': 4469, 'substantial': 4470, 'barrier': 4471, 'tucson': 4472, 'fresno': 4473, '25yearold': 4474, 'superintendent': 4475, 'triplea': 4476, 'dna': 4477, 'apps': 4478, 'lahore': 4479, 'glen': 4480, '24yearold': 4481, 'turkmenistan': 4482, 'lobby': 4483, 'carmaker': 4484, 'nile': 4485, 'expo': 4486, 'juventus': 4487, 'carpet': 4488, 'cornerback': 4489, 'speedway': 4490, 'remake': 4491, 'principle': 4492, 'contender': 4493, 'leicester': 4494, 'dive': 4495, 'penguin': 4496, 'lineman': 4497, 'thomson': 4498, 'lambert': 4499, 'id': 4500, 'essential': 4501, 'santorum': 4502, 'rocky': 4503, 'autopsy': 4504, 'clooney': 4505, 'vince': 4506, 'harassment': 4507, 'nude': 4508, 'sharma': 4509, 'opec': 4510, 'disciplinary': 4511, 'apr': 4512, 'lend': 4513, 'glee': 4514, 'correspondent': 4515, 'ivory': 4516, 'miranda': 4517, 'jewellery': 4518, 'acknowledge': 4519, 'newark': 4520, 'brokerage': 4521, 'bow': 4522, 'oman': 4523, 'coming': 4524, 'sight': 4525, 'adoption': 4526, 'bronze': 4527, 'observer': 4528, 'religion': 4529, 'subway': 4530, 'itunes': 4531, 'portion': 4532, 'beating': 4533, 'charleston': 4534, 'mayer': 4535, 'peterson': 4536, 'crane': 4537, 'pour': 4538, 'xvi': 4539, 'surgeon': 4540, 'integrated': 4541, 'thriller': 4542, 'mccarthy': 4543, 'nathan': 4544, 'sc': 4545, 'monitoring': 4546, 'sorry': 4547, 'heavily': 4548, 'socalled': 4549, 'controller': 4550, 'indefinitely': 4551, 'benjamin': 4552, 'warship': 4553, 'renovation': 4554, 'kutcher': 4555, 'ranch': 4556, 'mariah': 4557, 'expensive': 4558, 'reed': 4559, 'patch': 4560, 'magnitude': 4561, 'repay': 4562, 'modest': 4563, 'performs': 4564, 'remand': 4565, 'mini': 4566, 'dirty': 4567, 'ucla': 4568, 'tentative': 4569, 'anger': 4570, 'edinburgh': 4571, 'badly': 4572, 'wigan': 4573, '360': 4574, 'racial': 4575, 'naomi': 4576, 'housewife': 4577, 'bribe': 4578, 'convince': 4579, '87': 4580, 'helen': 4581, 'ecuador': 4582, '25th': 4583, 'reconciliation': 4584, 'surcharge': 4585, 'icc': 4586, 'coleman': 4587, 'compound': 4588, 'mum': 4589, 'desire': 4590, '350': 4591, 'zambia': 4592, 'borrowing': 4593, 'bolt': 4594, 'witherspoon': 4595, 'repeal': 4596, 'platinum': 4597, 'nz': 4598, 'recognise': 4599, 'oprah': 4600, 'mega': 4601, 'rifle': 4602, 'paso': 4603, 'sexy': 4604, 'passport': 4605, 'foreigner': 4606, 'stabbing': 4607, 'ditch': 4608, 'tmz': 4609, 'ridge': 4610, 'fred': 4611, 'morrison': 4612, 'rough': 4613, '58': 4614, 'bee': 4615, 'maple': 4616, 'purpose': 4617, 'arthur': 4618, 'rehabilitation': 4619, 'bhp': 4620, 'bump': 4621, 'exwife': 4622, 'definitely': 4623, 'chat': 4624, 'vanessa': 4625, 'scratch': 4626, 'numerous': 4627, 'orchestra': 4628, 'disappear': 4629, '22yearold': 4630, 'cheney': 4631, 'amend': 4632, 'walsh': 4633, 'gray': 4634, '4th': 4635, 'finalize': 4636, 'retires': 4637, 'cement': 4638, 'blockbuster': 4639, 'sensitive': 4640, 'copy': 4641, 'thin': 4642, 'intent': 4643, 'narrowly': 4644, 'winnipeg': 4645, '200000': 4646, 'romantic': 4647, 'valuable': 4648, 'taste': 4649, 'supermodel': 4650, 'manuel': 4651, 'format': 4652, 'civic': 4653, '05': 4654, 'sebastian': 4655, 'bout': 4656, 'sand': 4657, 'giffords': 4658, 'norfolk': 4659, 'ppp': 4660, 'misconduct': 4661, 'incorporate': 4662, 'element': 4663, 'maruti': 4664, 'taipei': 4665, 'bend': 4666, 'wallace': 4667, 'cox': 4668, 'cardiff': 4669, 'thought': 4670, 'vincent': 4671, 'sindh': 4672, 'strict': 4673, 'cruz': 4674, 'finnish': 4675, 'gallery': 4676, 'spice': 4677, 'islamist': 4678, 'presentation': 4679, 'smoking': 4680, 'puppy': 4681, 'reactor': 4682, 'wade': 4683, 'aguilera': 4684, 'speaks': 4685, 'conrad': 4686, 'mouse': 4687, 'erupt': 4688, 'govern': 4689, 'mohamed': 4690, 'caucus': 4691, 'christchurch': 4692, 'reliever': 4693, 'planet': 4694, 'dock': 4695, 'isle': 4696, 'pond': 4697, 'flower': 4698, 'origin': 4699, 'impress': 4700, 'midday': 4701, 'bullock': 4702, 'glenn': 4703, 'landlord': 4704, 'arrangement': 4705, 'mogul': 4706, 'recruitment': 4707, 'jamaica': 4708, 'organizer': 4709, 'reservation': 4710, 'las': 4711, 'seeker': 4712, 'xi': 4713, 'charger': 4714, 'pray': 4715, 'gallon': 4716, 'legislator': 4717, 'darren': 4718, 'reaction': 4719, '92': 4720, 'adrian': 4721, 'tulsa': 4722, 'flyer': 4723, 'airlift': 4724, 'physician': 4725, 'da': 4726, 'rehman': 4727, 'turner': 4728, 'frame': 4729, 'borough': 4730, '18th': 4731, 'flooding': 4732, 'historical': 4733, 'bradford': 4734, 'ronnie': 4735, 'guitar': 4736, 'ave': 4737, 'du': 4738, 'anticipate': 4739, 'extensive': 4740, 'austria': 4741, 'fever': 4742, 'mamata': 4743, 'airways': 4744, 'presenter': 4745, 'seoul': 4746, 'sting': 4747, 'discipline': 4748, 'jakarta': 4749, 'indecent': 4750, 'celebrates': 4751, 'trustee': 4752, 'rbi': 4753, 'newman': 4754, 'extraordinary': 4755, 'baptist': 4756, 'th': 4757, 'subscription': 4758, '1200': 4759, 'arraign': 4760, 'narendra': 4761, 'spike': 4762, 'excessive': 4763, 'suisse': 4764, 'mosque': 4765, 'lyon': 4766, 'kabul': 4767, 'listen': 4768, 'scar': 4769, 'exam': 4770, 'quebec': 4771, 'finding': 4772, 'malta': 4773, 'participant': 4774, 'monsoon': 4775, 'starbucks': 4776, 'infringement': 4777, 'tunisia': 4778, 'riverside': 4779, 'mandate': 4780, '23yearold': 4781, 'amtrak': 4782, 'newport': 4783, 'essex': 4784, 'bros': 4785, 'arsene': 4786, 'sofia': 4787, 'doherty': 4788, 'fabio': 4789, 'fulham': 4790, 'workplace': 4791, 'hd': 4792, 'backup': 4793, 'blogger': 4794, 'airtel': 4795, 'excite': 4796, 'cue': 4797, 'underground': 4798, 'lucas': 4799, 'crossing': 4800, 'boxing': 4801, 'transform': 4802, 'f': 4803, 'morris': 4804, 'workout': 4805, 'marco': 4806, 'organiser': 4807, 'jockey': 4808, 'overweight': 4809, 'jane': 4810, 'pine': 4811, 'obrien': 4812, 'sena': 4813, 'startup': 4814, 'archbishop': 4815, 'rapidly': 4816, 'stuart': 4817, 'miliband': 4818, 'intellectual': 4819, 'conn': 4820, 'gdp': 4821, 'vegetable': 4822, 'reese': 4823, 'nh': 4824, 'punish': 4825, 'vegas': 4826, 'diaz': 4827, 'wyoming': 4828, 'barn': 4829, 'capello': 4830, 'influential': 4831, 'universe': 4832, 'niagara': 4833, 'graphic': 4834, 'listing': 4835, 'tibet': 4836, 'outcome': 4837, 'restrain': 4838, 'vulnerable': 4839, 'sponsorship': 4840, 'governance': 4841, 'richards': 4842, 'di': 4843, 'arrives': 4844, 'sum': 4845, '15th': 4846, 'aggravated': 4847, 'improved': 4848, 'estranged': 4849, 'depp': 4850, '2020': 4851, 'outperform': 4852, 'toilet': 4853, 'canyon': 4854, 'impressive': 4855, 'dawn': 4856, 'freshman': 4857, 'faster': 4858, 'yellow': 4859, 'closed': 4860, 'fantasy': 4861, 'headon': 4862, 'behalf': 4863, 'lg': 4864, 'thackeray': 4865, 'suspends': 4866, 'antigovernment': 4867, 'ip': 4868, 'janata': 4869, 'hathaway': 4870, 'pepper': 4871, 'sample': 4872, 'simply': 4873, 'windsor': 4874, 'ipod': 4875, 'reaffirm': 4876, 'railroad': 4877, 'grass': 4878, 'renowned': 4879, 'bachmann': 4880, 'theres': 4881, 'seconddegree': 4882, 'hart': 4883, 'distance': 4884, 'proceeds': 4885, 'cooperative': 4886, 'penny': 4887, 'natalie': 4888, '7th': 4889, 'timothy': 4890, 'contestant': 4891, 'finale': 4892, 'garbage': 4893, '14th': 4894, 'consequence': 4895, 'attractive': 4896, 'redskin': 4897, 'forget': 4898, 'exhibit': 4899, '15000': 4900, 'fouryear': 4901, 'trash': 4902, 'perhaps': 4903, 'sudden': 4904, 'tattoo': 4905, 'attendant': 4906, 'suu': 4907, 'vermont': 4908, 'sec': 4909, 'genetic': 4910, 'logo': 4911, 'sudanese': 4912, 'bharti': 4913, '3g': 4914, 'bryan': 4915, 'consult': 4916, 'journey': 4917, 'chopra': 4918, 'derek': 4919, 'raja': 4920, 'pave': 4921, 'kingston': 4922, 'cedar': 4923, 'bitter': 4924, 'knicks': 4925, 'mention': 4926, 'crazy': 4927, 'mainland': 4928, 'treasurer': 4929, 'nasdaq': 4930, 'tinto': 4931, 'defamation': 4932, 'tripoli': 4933, 'liability': 4934, 'carson': 4935, 'tmobile': 4936, 'logistics': 4937, 'geithner': 4938, 'adventure': 4939, 'nhs': 4940, 'panasonic': 4941, 'tsvangirai': 4942, 'percentage': 4943, 'silicon': 4944, 'zimbabwean': 4945, 'kyi': 4946, 'sheffield': 4947, 'stevens': 4948, 'bancorp': 4949, 'withdrawal': 4950, '17th': 4951, 'grenade': 4952, 'publicist': 4953, 'consideration': 4954, 'creditor': 4955, 'swansea': 4956, 'cannabis': 4957, 'folk': 4958, 'allocation': 4959, 'silvio': 4960, 'molestation': 4961, 'defraud': 4962, 'palmer': 4963, 'carrie': 4964, 'symptom': 4965, 'cannon': 4966, 'occupied': 4967, 'russias': 4968, 'djokovic': 4969, 'aden': 4970, 'omar': 4971, 'bangkok': 4972, 'reception': 4973, 'harm': 4974, 'sweet': 4975, 'goa': 4976, 'spiritual': 4977, 'soil': 4978, 'petersburg': 4979, 'metre': 4980, 'showcase': 4981, 'paisa': 4982, 'victor': 4983, 'karl': 4984, 'payroll': 4985, 'casualty': 4986, 'availability': 4987, 'related': 4988, 'vicepresident': 4989, 'sharapova': 4990, 'sort': 4991, '15yearold': 4992, 'gunshot': 4993, 'nyc': 4994, 'collective': 4995, 'adjourn': 4996, 'autumn': 4997, 'arent': 4998, 'jpmorgan': 4999, 'surf': 5000, 'hamstring': 5001, 'defy': 5002, 'usbased': 5003, 'quest': 5004, 'nicki': 5005, 'minaj': 5006, 'wizard': 5007, 'kit': 5008, 'mainly': 5009, 'globally': 5010, 'intensive': 5011, 'slat': 5012, '2016': 5013, 'warming': 5014, 'boil': 5015, 'turtle': 5016, 'exactly': 5017, 'km': 5018, 'refer': 5019, 'uganda': 5020, 'fierce': 5021, 'companys': 5022, 'indicator': 5023, 'castle': 5024, 'blagojevich': 5025, 'reckless': 5026, 'frozen': 5027, 'cage': 5028, 'tyson': 5029, 'privately': 5030, 'et': 5031, 'ca': 5032, 'scanner': 5033, 'welsh': 5034, 'theyve': 5035, 'breakthrough': 5036, 'peer': 5037, 'difficulty': 5038, 'reunion': 5039, 'endanger': 5040, 'slovenia': 5041, 'paterson': 5042, 'pile': 5043, 'extradition': 5044, 'satyam': 5045, 'setback': 5046, 'seller': 5047, 'assassination': 5048, 'else': 5049, 'muammar': 5050, '000': 5051, 'avalanche': 5052, 'richie': 5053, '59': 5054, 'winfrey': 5055, 'oscarwinning': 5056, 'volcano': 5057, 'effectively': 5058, 'minn': 5059, 'millionaire': 5060, 'fate': 5061, 'io': 5062, 'heel': 5063, 'prostitute': 5064, 'aerospace': 5065, 'imran': 5066, 'mate': 5067, 'bright': 5068, 'circumstance': 5069, 'incumbent': 5070, 'massacre': 5071, 'pierce': 5072, 'jharkhand': 5073, 'dodge': 5074, 'wouldnt': 5075, 'notre': 5076, 'mercury': 5077, 'willing': 5078, 'finalist': 5079, 'specific': 5080, 'steep': 5081, 'partially': 5082, 'doubleheader': 5083, 'bennett': 5084, 'travis': 5085, 'stomach': 5086, 'productivity': 5087, 'rainfall': 5088, 'qb': 5089, 'harvard': 5090, 'shortfall': 5091, 'aol': 5092, 'drew': 5093, 'loom': 5094, 'analytics': 5095, 'demonstrator': 5096, 'medication': 5097, 'establishment': 5098, 'serie': 5099, 'shelf': 5100, 'consultancy': 5101, 'pursuit': 5102, 'hospitalise': 5103, 'pratt': 5104, 'reference': 5105, 'elite': 5106, 'johansson': 5107, 'textile': 5108, 'reynolds': 5109, 'genocide': 5110, 'rom': 5111, 'compact': 5112, '30yearold': 5113, 'dengue': 5114, 'cow': 5115, 'calendar': 5116, 'sharon': 5117, 'infielder': 5118, 'myers': 5119, 'jp': 5120, 'samuel': 5121, 'excellent': 5122, 'convertible': 5123, 'minogue': 5124, 'rubber': 5125, 'feeling': 5126, 'broadcasting': 5127, 'absolutely': 5128, 'underage': 5129, 'weve': 5130, 'transparency': 5131, 'wifi': 5132, 'noble': 5133, 'jintao': 5134, 'addict': 5135, 'disruption': 5136, 'moody': 5137, 'brent': 5138, 'zsa': 5139, 'permanently': 5140, 'betty': 5141, 'gig': 5142, 'durham': 5143, 'voluntarily': 5144, 'duncan': 5145, 'commemorate': 5146, 'myspace': 5147, 'symbol': 5148, 'patil': 5149, 'infosys': 5150, 'noel': 5151, 'gaming': 5152, 'ambush': 5153, 'length': 5154, 'disappoint': 5155, 'scarlett': 5156, 'dpa': 5157, 'admission': 5158, 'bash': 5159, 'batter': 5160, 'liquidity': 5161, 'hopkins': 5162, 'pune': 5163, 'deployment': 5164, 'grip': 5165, 'rev': 5166, 'boris': 5167, 'manila': 5168, 'beta': 5169, 'henderson': 5170, 'helm': 5171, 'stern': 5172, 'novak': 5173, 'barton': 5174, 'vijay': 5175, 'counterfeit': 5176, 'compute': 5177, 'upa': 5178, 'bailey': 5179, 'laura': 5180, 'forecaster': 5181, 'truth': 5182, 'plaza': 5183, 'favre': 5184, 'dominican': 5185, 'buffett': 5186, 'heather': 5187, 'nice': 5188, 'riley': 5189, 'delivers': 5190, 'dope': 5191, 'reelect': 5192, 'accusation': 5193, '2002': 5194, 'generic': 5195, 'escalate': 5196, 'joey': 5197, 'delegate': 5198, 'lure': 5199, 'installation': 5200, 'mclaren': 5201, 'economics': 5202, 'erase': 5203, 'embrace': 5204, 'nose': 5205, '18yearold': 5206, 'tan': 5207, 'chuck': 5208, 'carroll': 5209, 'editorial': 5210, 'woe': 5211, 'soap': 5212, 'kirk': 5213, 'unconscious': 5214, 'classroom': 5215, 'metropolitan': 5216, 'foul': 5217, 'carlisle': 5218, 'derivative': 5219, 'bribery': 5220, 'europa': 5221, 'brawl': 5222, 'cia': 5223, 'scramble': 5224, 'saskatchewan': 5225, 'benitez': 5226, 'steam': 5227, 'fortune': 5228, 'jayz': 5229, 'richardson': 5230, 'cain': 5231, 'ge': 5232, 'cristiano': 5233, 'gala': 5234, 'nugget': 5235, 'multimillion': 5236, 'wrist': 5237, 'boulevard': 5238, 'sanford': 5239, 'automation': 5240, 'hosni': 5241, 'cream': 5242, '201112': 5243, 'campaigner': 5244, 'demolish': 5245, 'scheduled': 5246, 'ipl': 5247, 'mae': 5248, 'lieutenant': 5249, 'color': 5250, 'horizon': 5251, 'bundesliga': 5252, 'reputation': 5253, 'leonardo': 5254, 'ghost': 5255, 'consensus': 5256, 'ethiopia': 5257, '30th': 5258, 'orissa': 5259, 'beverage': 5260, 'shadow': 5261, 'banerjee': 5262, 'portuguese': 5263, 'chocolate': 5264, 'swimmer': 5265, 'anthem': 5266, 'flip': 5267, 'ail': 5268, 'volkswagen': 5269, 'sanjay': 5270, 'yacht': 5271, 'hurdle': 5272, 'gender': 5273, 'biopic': 5274, 'dayton': 5275, 'ryder': 5276, 'govt': 5277, 'safely': 5278, 'oxford': 5279, 'facilitate': 5280, 'photograph': 5281, 'ipo': 5282, 'yorkshire': 5283, 'lebron': 5284, 'intense': 5285, '300000': 5286, 'orbit': 5287, 'courthouse': 5288, 'sierra': 5289, 'divide': 5290, 'plenty': 5291, 'derail': 5292, 'farewell': 5293, 'dub': 5294, 'escort': 5295, 'longoria': 5296, 'ex': 5297, 'sundays': 5298, 'confrontation': 5299, 'batch': 5300, '40th': 5301, 'cycling': 5302, '93': 5303, 'pacer': 5304, 'hornet': 5305, 'rim': 5306, '2500': 5307, 'europes': 5308, '4g': 5309, 'strausskahn': 5310, 'ryanair': 5311, 'popularity': 5312, 'homer': 5313, 'geneva': 5314, 'merrill': 5315, 'thrill': 5316, 'processor': 5317, 'marlin': 5318, 'champ': 5319, 'ounce': 5320, 'nazi': 5321, 'wet': 5322, 'spree': 5323, 'billing': 5324, 'renault': 5325, 'monster': 5326, 'revival': 5327, 'daytona': 5328, 'cosmetic': 5329, 'accessory': 5330, 'fork': 5331, 'harvey': 5332, 'preferred': 5333, 'laser': 5334, 'uphold': 5335, 'typhoon': 5336, 'alicia': 5337, '225': 5338, 'hostile': 5339, 'legalize': 5340, 'prairie': 5341, 'attacker': 5342, 'cease': 5343, 'exgirlfriend': 5344, 'marketplace': 5345, 't': 5346, 'somerset': 5347, 'predator': 5348, 'vehicular': 5349, 'coventry': 5350, 'evaluation': 5351, 'forge': 5352, 'opposite': 5353, 'equality': 5354, 'topic': 5355, 'griffin': 5356, 'raul': 5357, 'prop': 5358, 'troy': 5359, 'coin': 5360, 'suffolk': 5361, 'rajya': 5362, 'poison': 5363, 'diver': 5364, 'stamford': 5365, 'texan': 5366, 'gilbert': 5367, 'skype': 5368, 'ear': 5369, 'assad': 5370, 'nervous': 5371, 'alberto': 5372, 'hbo': 5373, 'nawaz': 5374, 'comfortable': 5375, 'landslide': 5376, 'concentrate': 5377, 'hamburg': 5378, 'nd': 5379, 'vick': 5380, 'margaret': 5381, 'bound': 5382, 'seasonal': 5383, 'eligible': 5384, 'kyrgyz': 5385, 'object': 5386, 'epic': 5387, '6th': 5388, 'istanbul': 5389, 'valuation': 5390, 'greenhouse': 5391, 'africas': 5392, 'supplement': 5393, 'stolen': 5394, 'revamp': 5395, 'bargain': 5396, 'aaa': 5397, 'constituency': 5398, 'mechanism': 5399, 'alqaida': 5400, '28yearold': 5401, 'vandal': 5402, 'radiation': 5403, 'kraft': 5404, '94': 5405, 'fiat': 5406, 'fda': 5407, 'clipper': 5408, 'jun': 5409, 'huntington': 5410, 'tenn': 5411, 'hook': 5412, 'sluggish': 5413, 'garcia': 5414, 'constable': 5415, 'macedonia': 5416, 'fishery': 5417, 'powell': 5418, 'hungarian': 5419, 'repeatedly': 5420, 'wilmington': 5421, 'indication': 5422, 'mouth': 5423, 'ferdinand': 5424, 'litre': 5425, 'hazard': 5426, 'guinea': 5427, 'puerto': 5428, 'stateowned': 5429, 'panda': 5430, 'pretax': 5431, 'dissident': 5432, 'apparel': 5433, 'servant': 5434, 'pen': 5435, 'bullish': 5436, 'concrete': 5437, 'ahmad': 5438, 'mentor': 5439, 'tragic': 5440, 'oliver': 5441, 'mysterious': 5442, 'nielsen': 5443, 'vietnamese': 5444, 'mourinho': 5445, 'bhd': 5446, 'concede': 5447, 'suddenly': 5448, 'tevez': 5449, '6000': 5450, 'bully': 5451, 'villager': 5452, 'astros': 5453, 'faculty': 5454, 'rejoin': 5455, 'crawford': 5456, 'graduation': 5457, 'screening': 5458, 'hayden': 5459, '400000': 5460, 'webber': 5461, 'bloody': 5462, 'collaborate': 5463, 'brendan': 5464, 'completes': 5465, 'plummet': 5466, 'citys': 5467, 'shaun': 5468, 'arlington': 5469, 'disputed': 5470, 'willis': 5471, 'trevor': 5472, 'paula': 5473, 'cyclone': 5474, 'preview': 5475, 'partial': 5476, 'mandatory': 5477, 'narcotic': 5478, 'slowly': 5479, 'hazare': 5480, 'secondlargest': 5481, 'humanity': 5482, 'formation': 5483, 'symphony': 5484, 'belfast': 5485, 'td': 5486, 'bingo': 5487, 'burma': 5488, 'thrash': 5489, 'brutal': 5490, 'underwood': 5491, 'widow': 5492, 'example': 5493, 'prepares': 5494, 'addiction': 5495, 'rwanda': 5496, 'coyote': 5497, 'micro': 5498, 'beatles': 5499, 'norm': 5500, 'adele': 5501, 'tradition': 5502, 'overtime': 5503, 'ea': 5504, 'corrupt': 5505, 'hood': 5506, '04': 5507, 'dealership': 5508, 'dominique': 5509, 'firstquarter': 5510, 'chaos': 5511, 'inauguration': 5512, 'tel': 5513, 'overtake': 5514, 'etihad': 5515, 'sore': 5516, 'marries': 5517, 'providence': 5518, 'holland': 5519, 'reef': 5520, 'organic': 5521, 'nova': 5522, 'tanzania': 5523, 'o2': 5524, 'interbank': 5525, 'guardian': 5526, 'plague': 5527, 'bankrupt': 5528, 'yoga': 5529, 'shortstop': 5530, 'aspect': 5531, '2001': 5532, 'itv': 5533, 'rukh': 5534, 'divert': 5535, 'secretly': 5536, 'bold': 5537, 'broking': 5538, 'undermine': 5539, 'groin': 5540, 'oust': 5541, 'islander': 5542, 'unusual': 5543, 'billiton': 5544, 'correction': 5545, 'columnist': 5546, 'invitational': 5547, 'optimistic': 5548, 'alien': 5549, 'teeth': 5550, 'santos': 5551, 'consolidation': 5552, 'solidarity': 5553, 'efficient': 5554, 'marie': 5555, 'traveller': 5556, 'starter': 5557, '3rd': 5558, 'plymouth': 5559, 'log': 5560, 'conversation': 5561, 'perez': 5562, 'stalk': 5563, 'ellen': 5564, 'usc': 5565, 'doug': 5566, 'monument': 5567, 'tebow': 5568, 'recovers': 5569, 'megan': 5570, 'cuomo': 5571, 'suspended': 5572, '12000': 5573, 'eject': 5574, '14yearold': 5575, 'exclusively': 5576, 'behavior': 5577, 'revoke': 5578, 'disorderly': 5579, 'aware': 5580, 'whip': 5581, 'hed': 5582, 'progressive': 5583, 'bruno': 5584, 'particular': 5585, 'attitude': 5586, 'trio': 5587, 'choke': 5588, 'detainee': 5589, 'gonzalez': 5590, 'rd': 5591, 'ltte': 5592, 'wii': 5593, 'rogue': 5594, 'twotime': 5595, 'sergio': 5596, 'valencia': 5597, 'sanaa': 5598, 'mask': 5599, 'playing': 5600, 'felipe': 5601, 'hassan': 5602, 'tow': 5603, 'confront': 5604, 'betting': 5605, 'harbour': 5606, 'foray': 5607, 'employ': 5608, 'malaria': 5609, 'reorganization': 5610, 'sander': 5611, 'carlo': 5612, 'brit': 5613, 'lorry': 5614, 'resist': 5615, 'condemns': 5616, 'drake': 5617, 'tunnel': 5618, 'gosselin': 5619, 'croatia': 5620, 'uncertain': 5621, 'reporting': 5622, 'tall': 5623, 'marginally': 5624, 'vampire': 5625, 'mercy': 5626, 'fiery': 5627, 'nikkei': 5628, 'extremist': 5629, 'salvation': 5630, 'firstdegree': 5631, 'depth': 5632, 'repurchase': 5633, 'disclosure': 5634, 'clayton': 5635, 'module': 5636, 'volatility': 5637, 'quake': 5638, 'cellular': 5639, 'indoor': 5640, 'foil': 5641, 'herman': 5642, 'cheer': 5643, 'yadav': 5644, 'pocket': 5645, 'kingfisher': 5646, 'self': 5647, 'wheelchair': 5648, 'tenant': 5649, 'wallaby': 5650, 'wilkinson': 5651, 'promoter': 5652, 'integrity': 5653, 'obligation': 5654, 'respectively': 5655, 'working': 5656, 'specifically': 5657, 'mull': 5658, 'seizure': 5659, 'portman': 5660, '250000': 5661, 'burning': 5662, 'browser': 5663, 'pin': 5664, 'bruin': 5665, 'padre': 5666, 'bullpen': 5667, 'empty': 5668, 'imprisonment': 5669, 'hernandez': 5670, 'stanford': 5671, 'sometimes': 5672, 'sad': 5673, 'lehman': 5674, 'greene': 5675, 'mesa': 5676, 'maiden': 5677, 'laundering': 5678, 'examination': 5679, 'abduction': 5680, 'michel': 5681, 'competitor': 5682, 'reno': 5683, 'grey': 5684, 'erie': 5685, 'bharatiya': 5686, 'dig': 5687, 'thus': 5688, 'md': 5689, 'gloucester': 5690, 'stabilise': 5691, 'pardon': 5692, 'burlington': 5693, 'joy': 5694, 'attach': 5695, 'slot': 5696, 'preston': 5697, 'amazoncom': 5698, 'metric': 5699, 'anil': 5700, 'ledger': 5701, 'tuition': 5702, 'hussain': 5703, 'removal': 5704, 'console': 5705, 'terminate': 5706, 'offseason': 5707, 'calf': 5708, 'songwriter': 5709, '21st': 5710, 'pierre': 5711, 'beaten': 5712, 'miguel': 5713, 'faulty': 5714, 'steer': 5715, 'aamir': 5716, 'pier': 5717, 'inn': 5718, 'seri': 5719, 'florence': 5720, 'va': 5721, 'treasure': 5722, 'dhoni': 5723, 'spa': 5724, 'telekom': 5725, 'tory': 5726, 'samantha': 5727, 'cousin': 5728, 'indigenous': 5729, 'redknapp': 5730, 'bathroom': 5731, 'rico': 5732, 'nickel': 5733, 'deportation': 5734, 'wen': 5735, 'lone': 5736, 'lansing': 5737, 'gps': 5738, '17yearold': 5739, 'mob': 5740, 'fundamental': 5741, 'altercation': 5742, 'secondquarter': 5743, 'nottingham': 5744, 'ruler': 5745, 'reddy': 5746, 'asthma': 5747, 'wbc': 5748, 'kerr': 5749, 'vienna': 5750, 'proper': 5751, 'revenge': 5752, 'construct': 5753, 'finalise': 5754, 'running': 5755, 'accompany': 5756, 'mansion': 5757, 'lsu': 5758, 'ambitious': 5759, 'inappropriate': 5760, 'coronation': 5761, 'unified': 5762, '1100': 5763, 'failed': 5764, 'goodwill': 5765, 'mobility': 5766, 'mph': 5767, 'capsize': 5768, 'lecture': 5769, 'fundraising': 5770, 'reign': 5771, 'submarine': 5772, 'runoff': 5773, 'gubernatorial': 5774, 'citi': 5775, 'departure': 5776, 'anonymous': 5777, 'javier': 5778, 'slight': 5779, 'schumacher': 5780, 'colour': 5781, 'jorge': 5782, 'unfair': 5783, 'coma': 5784, 'gym': 5785, 'facial': 5786, 'olmert': 5787, 'jeffrey': 5788, 'delight': 5789, 'cavalier': 5790, 'hampton': 5791, 'cleric': 5792, 'ramirez': 5793, 'kobe': 5794, 'accounting': 5795, 'humphries': 5796, 'diana': 5797, 'reshuffle': 5798, 'rhode': 5799, 'gazprom': 5800, 'victorian': 5801, 'rodgers': 5802, 'paulo': 5803, 'quits': 5804, 'bernie': 5805, 'injection': 5806, '19th': 5807, 'burden': 5808, 'habit': 5809, 'advani': 5810, '01': 5811, 'greet': 5812, 'netflix': 5813, 'bowling': 5814, 'shiite': 5815, 'exploit': 5816, 'toledo': 5817, 'cure': 5818, 'gabrielle': 5819, 'icici': 5820, 'conglomerate': 5821, 'medicaid': 5822, 'kurt': 5823, 'homeland': 5824, 'monkey': 5825, 'therapeutic': 5826, 'parkway': 5827, 'nobody': 5828, 'belmont': 5829, 'h': 5830, 'ceiling': 5831, 'institutional': 5832, '16yearold': 5833, 'slain': 5834, 'lancaster': 5835, 'sacrifice': 5836, 'panic': 5837, 'telegraph': 5838, '99': 5839, 'canadas': 5840, 'jointly': 5841, 'coral': 5842, 'walt': 5843, 'loose': 5844, 'introduction': 5845, 'damon': 5846, 'instructor': 5847, 'janet': 5848, 'sullivan': 5849, 'torn': 5850, 'cellphone': 5851, 'acid': 5852, 'tracy': 5853, 'assume': 5854, 'stance': 5855, 'happiness': 5856, 'regulate': 5857, '160': 5858, 'palestine': 5859, 'blockade': 5860, 'bicycle': 5861, 'grandmother': 5862, 'menu': 5863, 'asean': 5864, 'knox': 5865, 'kashmiri': 5866, 'canuck': 5867, 'acquires': 5868, 'usain': 5869, 'expression': 5870, 'alley': 5871, 'mancini': 5872, 'rutgers': 5873, 'chrome': 5874, '15day': 5875, 'clemens': 5876, 'facing': 5877, '450': 5878, 'portable': 5879, 'satisfaction': 5880, 'drummer': 5881, 'mislead': 5882, 'sara': 5883, 'oneal': 5884, 'amsterdam': 5885, 'demolition': 5886, 'unexpected': 5887, 'maybe': 5888, 'prevail': 5889, 'jul': 5890, 'jacket': 5891, 'bloc': 5892, 'tube': 5893, 'script': 5894, 'consortium': 5895, 'monica': 5896, 'lap': 5897, 'bale': 5898, 'spar': 5899, 'acute': 5900, 'jenkins': 5901, 'pietersen': 5902, 'dictator': 5903, 'shiv': 5904, 'booking': 5905, 'consent': 5906, 'wrestler': 5907, 'simmons': 5908, 'councilman': 5909, 'imminent': 5910, 'relegation': 5911, 'audition': 5912, 'lauren': 5913, 'albuquerque': 5914, 'mick': 5915, 'moral': 5916, 'claire': 5917, 'hispanic': 5918, 'traveler': 5919, 'vernon': 5920, 'dismissal': 5921, 'ordinary': 5922, 'kurdish': 5923, 'vitamin': 5924, 'krishna': 5925, 'bride': 5926, 'ftse': 5927, 'freeway': 5928, 'toxic': 5929, 'hodgson': 5930, 'expands': 5931, 'examiner': 5932, 'manner': 5933, 'balotelli': 5934, 'maldives': 5935, 'disturbance': 5936, 'swallow': 5937, 'certainly': 5938, 'shahid': 5939, 'burton': 5940, 'premiership': 5941, 'irene': 5942, 'precious': 5943, 'blackpool': 5944, 'myself': 5945, 'maradona': 5946, 'welterweight': 5947, 'westminster': 5948, 'vale': 5949, 'organ': 5950, 'greenback': 5951, 'attendance': 5952, 'hezbollah': 5953, 'insight': 5954, 'embezzle': 5955, 'clock': 5956, 'renewal': 5957, 'upward': 5958, 'rein': 5959, 'publishing': 5960, 'strangle': 5961, 'lionel': 5962, 'zuckerberg': 5963, 'cathedral': 5964, 'comprise': 5965, 'abbey': 5966, 'sm': 5967, 'yousuf': 5968, 'jackie': 5969, 'dementia': 5970, 'reliable': 5971, 'math': 5972, 'selects': 5973, 'poet': 5974, 'oversee': 5975, 'pure': 5976, 'accountability': 5977, 'fertilizer': 5978, 'lawn': 5979, 'ashok': 5980, 'allowance': 5981, 'fixed': 5982, 'shutdown': 5983, 'exploitation': 5984, 'christ': 5985, 'winslet': 5986, '97': 5987, 'tiny': 5988, 'beam': 5989, 'gossip': 5990, 'truly': 5991, 'rout': 5992, 'ak': 5993, 'antony': 5994, 'sequel': 5995, 'exhusband': 5996, 'snoop': 5997, 'ministerial': 5998, 'automatic': 5999, 'pancreatic': 6000, 'motel': 6001, 'carnival': 6002, '26yearold': 6003, 'premise': 6004, 'iceland': 6005, 'architect': 6006, 'craft': 6007, 'splash': 6008, 'oneill': 6009, 'bias': 6010, 'mayo': 6011, 'intercept': 6012, 'ana': 6013, 'raleigh': 6014, 'playboy': 6015, 'hewitt': 6016, 'stimulate': 6017, 'comfort': 6018, 'pal': 6019, 'algeria': 6020, 'moines': 6021, 'eventually': 6022, 'diamondback': 6023, 'sunny': 6024, 'abraham': 6025, 'sedan': 6026, 'afc': 6027, 'gerard': 6028, 'appreciation': 6029, 'combination': 6030, 'patel': 6031, '8000': 6032, 'mirza': 6033, 'robertson': 6034, 'marshal': 6035, 'cambodia': 6036, 'mali': 6037, 'lte': 6038, 'shale': 6039, 'manitoba': 6040, 'aviv': 6041, 'replaces': 6042, 'roethlisberger': 6043, 'stole': 6044, 'friendship': 6045, '105': 6046, 'wellknown': 6047, '49ers': 6048, 'burke': 6049, '02': 6050, 'caroline': 6051, 'funny': 6052, 'bt': 6053, 'roughly': 6054, 'missing': 6055, 'katrina': 6056, 'sometime': 6057, 'denounce': 6058, 'klitschko': 6059, 'franco': 6060, 'myrtle': 6061, 'sitcom': 6062, 'leap': 6063, 'comply': 6064, 'jd': 6065, 'cowboys': 6066, 'purdue': 6067, 'chilean': 6068, 'duchess': 6069, 'rajapaksa': 6070, 'cabin': 6071, 'dancer': 6072, 'nab': 6073, 'visual': 6074, 'convoy': 6075, 'relieve': 6076, 'garner': 6077, 'plug': 6078, 'ethanol': 6079, 'chester': 6080, 'piracy': 6081, 'tyre': 6082, 'yearold': 6083, '5th': 6084, 'gingrich': 6085, '23rd': 6086, 'middleweight': 6087, '175': 6088, 'affirm': 6089, 'contempt': 6090, 'span': 6091, 'axe': 6092, 'himachal': 6093, 'cafe': 6094, 'messi': 6095, 'dentist': 6096, 'consulting': 6097, 'laugh': 6098, 'eden': 6099, 'steroid': 6100, 'triumph': 6101, 'tone': 6102, 'archive': 6103, 'zac': 6104, 'rica': 6105, 'anand': 6106, 'mirror': 6107, 'prepaid': 6108, 'cab': 6109, 'quota': 6110, 'openly': 6111, 'coup': 6112, 'pelosi': 6113, 'halloween': 6114, 'nexus': 6115, 'georgetown': 6116, 'highspeed': 6117, 'rory': 6118, 'firstround': 6119, 'postpones': 6120, 'nyse': 6121, 'endangerment': 6122, 'makeover': 6123, 'trademark': 6124, 'bnp': 6125, 'bypass': 6126, 'khloe': 6127, 'marsh': 6128, 'profitability': 6129, 'vacancy': 6130, 'glory': 6131, 'khalifa': 6132, 'desk': 6133, 'wipro': 6134, 'luck': 6135, 'endeavour': 6136, 'aliyev': 6137, 'lightweight': 6138, 'arquette': 6139, '201011': 6140, '16th': 6141, 'legacy': 6142, 'fullback': 6143, 'malawi': 6144, 'dicaprio': 6145, 'snack': 6146, 'substitute': 6147, 'turnover': 6148, 'syndrome': 6149, 'estimated': 6150, 'rebate': 6151, 'der': 6152, 'fence': 6153, 'performer': 6154, 'engulf': 6155, 'chandigarh': 6156, 'undercover': 6157, 'ethiopian': 6158, 'testimony': 6159, 'paramedic': 6160, 'busch': 6161, 'staple': 6162, 'bloom': 6163, 'upbeat': 6164, '27yearold': 6165, 'displace': 6166, 'famed': 6167, 'canberra': 6168, 'ronson': 6169, 'sole': 6170, 'showdown': 6171, 'mode': 6172, 'recreation': 6173, 'highprofile': 6174, 'revolutionary': 6175, 'jade': 6176, 'blackhawks': 6177, 'oasis': 6178, 'driveby': 6179, 'theory': 6180, 'hemsworth': 6181, 'diva': 6182, 'shipping': 6183, 'martial': 6184, 'libel': 6185, 'willie': 6186, 'restoration': 6187, 'corridor': 6188, 'worlds': 6189, 'goaltender': 6190, 'mitsubishi': 6191, 'angola': 6192, 'crow': 6193, 'aquino': 6194, 'ma': 6195, 'radcliffe': 6196, 'prosperity': 6197, 'comparison': 6198, 'territorial': 6199, '35yearold': 6200, 'cartel': 6201, 'dish': 6202, 'butt': 6203, 'gesture': 6204, 'desktop': 6205, 'protocol': 6206, 'slur': 6207, 'bearish': 6208, '2003': 6209, 'bulldog': 6210, 'bean': 6211, 'pot': 6212, 'adaptation': 6213, 'automobile': 6214, 'alonso': 6215, 'seng': 6216, 'tunisian': 6217, 'burger': 6218, 'dogg': 6219, 'frankfurt': 6220, 'alassad': 6221, 'bentley': 6222, 'meltdown': 6223, 'consulate': 6224, 'copyright': 6225, 'importer': 6226, 'evolve': 6227, 'alice': 6228, 'fiance': 6229, 'dissolve': 6230, 'sikh': 6231, 'logan': 6232, 'excellence': 6233, 'taiwanese': 6234, 'usher': 6235, 'newt': 6236, 'touchdown': 6237, 'surrey': 6238, 'annually': 6239, 'bret': 6240, 'passage': 6241, 'stuff': 6242, 'cattle': 6243, 'dylan': 6244, 'singersongwriter': 6245, 'tune': 6246, 'extradite': 6247, 'mourn': 6248, 'pearl': 6249, 'hyundai': 6250, 'kamal': 6251, 'bandit': 6252, 'tycoon': 6253, 'punk': 6254, 'scholar': 6255, 'rubbish': 6256, '50yearold': 6257, 'carol': 6258, 'aung': 6259, 'grizzly': 6260, 'lacrosse': 6261, 'appliance': 6262, 'landscape': 6263, 'virtually': 6264, 'pyongyang': 6265, '29yearold': 6266, 'nationally': 6267, 'tribe': 6268, 'jew': 6269, 'elder': 6270, 'spare': 6271, 'sienna': 6272, 'diane': 6273, 'explorer': 6274, 'f1': 6275, '140': 6276, 'holly': 6277, 'soybean': 6278, 'appropriate': 6279, '730': 6280, 'anticipated': 6281, 'initially': 6282, 'entity': 6283, 'holocaust': 6284, 'gabriel': 6285, 'trick': 6286, 'slovakia': 6287, 'vandalism': 6288, 'upside': 6289, 'jackpot': 6290, 'boundary': 6291, 'stabilize': 6292, 'cairn': 6293, 'sabah': 6294, 'hover': 6295, 'afraid': 6296, 'firmly': 6297, 'letterman': 6298, 'formerly': 6299, 'technique': 6300, 'parkinson': 6301, 'physically': 6302, 'freeman': 6303, 'honduras': 6304, '40000': 6305, 'debris': 6306, 'ponting': 6307, 'fog': 6308, 'ga': 6309, 'confirmation': 6310, 'chronicle': 6311, 'haunt': 6312, 'cocacola': 6313, 'eclipse': 6314, 'nutrition': 6315, 'jessie': 6316, 'ike': 6317, 'ehud': 6318, 'learning': 6319, 'knoxville': 6320, 'notebook': 6321, 'smile': 6322, 'baron': 6323, 'spotlight': 6324, 'pistorius': 6325, 'klum': 6326, 'locker': 6327, 'prolonged': 6328, '00': 6329, 'royalty': 6330, 'banner': 6331, 'hilary': 6332, 'snatch': 6333, 'audi': 6334, 'slim': 6335, 'freeagent': 6336, 'ab': 6337, 'isaac': 6338, 'struck': 6339, 'basin': 6340, 'scotia': 6341, 'hannah': 6342, 'huntsman': 6343, 'stint': 6344, 'boutique': 6345, 'gavin': 6346, 'scan': 6347, 'rossi': 6348, 'unemployed': 6349, 'gateway': 6350, 'lynn': 6351, 'brunswick': 6352, 'arabian': 6353, 'amateur': 6354, 'hiphop': 6355, 'fannie': 6356, 'namibia': 6357, 'croatian': 6358, 'halle': 6359, 'retired': 6360, 'refuge': 6361, 'trace': 6362, 'painting': 6363, 'denise': 6364, 'airplane': 6365, 'fm': 6366, 'bombay': 6367, 'portray': 6368, 'licensing': 6369, 'dash': 6370, 'li': 6371, 'appetite': 6372, 'wa': 6373, 'deteriorate': 6374, 'yang': 6375, 'historian': 6376, 'reconstruction': 6377, 'blade': 6378, 'twist': 6379, 'contemporary': 6380, 'pleased': 6381, 'brooke': 6382, 'crist': 6383, 'atletico': 6384, 'dwi': 6385, 'malcolm': 6386, 'whatever': 6387, 'thermal': 6388, 'shia': 6389, 'dhaka': 6390, 'impossible': 6391, 'shaw': 6392, 'warplane': 6393, 'boise': 6394, 'kodak': 6395, 'cartoon': 6396, 'wooden': 6397, 'assert': 6398, 'empower': 6399, '31yearold': 6400, 'priyanka': 6401, 'silent': 6402, 'notorious': 6403, 'jiabao': 6404, 'animation': 6405, 'clay': 6406, '96': 6407, 'daylight': 6408, 'oiler': 6409, 'statistical': 6410, 'obese': 6411, 'internationally': 6412, 'tomas': 6413, 'alltime': 6414, 'cleanup': 6415, 'palo': 6416, 'gwyneth': 6417, 'mercedes': 6418, 'invade': 6419, 'habitat': 6420, 'congo': 6421, 'uss': 6422, 'bulk': 6423, 'scenario': 6424, 'tab': 6425, 'belief': 6426, 'embark': 6427, 'baba': 6428, 'davy': 6429, 'fourthquarter': 6430, 'marvel': 6431, 'rebecca': 6432, 'purse': 6433, 'vista': 6434, 'ordinance': 6435, 'infect': 6436, 'courtney': 6437, 'cave': 6438, 'haley': 6439, 'snowmobile': 6440, 'tale': 6441, 'uzbekistan': 6442, 'lockout': 6443, 'telstra': 6444, 'destruction': 6445, 'protestors': 6446, 'torres': 6447, 'indeed': 6448, 'clegg': 6449, 'accidental': 6450, 'modify': 6451, 'hindi': 6452, 'nigel': 6453, 'toshiba': 6454, 'elli': 6455, 'besides': 6456, 'havana': 6457, 'usual': 6458, 'implication': 6459, 'halftime': 6460, 'bicyclist': 6461, 'katherine': 6462, 'volvo': 6463, 'kidman': 6464, 'clearly': 6465, 'accepts': 6466, 'chaudhry': 6467, 'halifax': 6468, 'murderer': 6469, 'wanderer': 6470, 'ratify': 6471, 'salmonella': 6472, 'bind': 6473, 'minsk': 6474, 'lou': 6475, 'strictly': 6476, 'meth': 6477, 'ria': 6478, 'remainder': 6479, 'avert': 6480, 'column': 6481, 'afford': 6482, '115': 6483, 'pfizer': 6484, 'settler': 6485, 'paltrow': 6486, 'webcast': 6487, 'sensor': 6488, 'statutory': 6489, 'hm': 6490, 'poultry': 6491, 'fielder': 6492, 'pan': 6493, 'rescuer': 6494, 'evaluate': 6495, 'flick': 6496, 'ralph': 6497, 'auditor': 6498, 'alzheimers': 6499, 'fairfield': 6500, 'follower': 6501, '135': 6502, 'macau': 6503, 'ambition': 6504, 'madoff': 6505, 'linda': 6506, 'rely': 6507, 'ugly': 6508, 'winning': 6509, 'jenna': 6510, 'nonstop': 6511, 'rattle': 6512, 'assurance': 6513, 'recording': 6514, 'nolan': 6515, '180': 6516, 'g20': 6517, 'exciting': 6518, 'sovereignty': 6519, 'belgrade': 6520, 'shannon': 6521, 'motogp': 6522, 'dutt': 6523, 'businessmen': 6524, 'coaching': 6525, 'roommate': 6526, 'arbor': 6527, 'hungry': 6528, 'embezzlement': 6529, 'uruguay': 6530, 'reel': 6531, 'mock': 6532, 'porsche': 6533, 'boo': 6534, 'chesapeake': 6535, 'robust': 6536, 'skier': 6537, 'cavendish': 6538, 'breed': 6539, 'pedro': 6540, 'briton': 6541, 'impersonate': 6542, 'cannes': 6543, 'liquid': 6544, 'crosby': 6545, 'fatality': 6546, 'lafayette': 6547, '104': 6548, 'forever': 6549, 'aurora': 6550, 'eid': 6551, 'harsh': 6552, 'unilever': 6553, 'courtroom': 6554, 'paterno': 6555, 'proof': 6556, 'hatch': 6557, 'bart': 6558, 'loud': 6559, 'beck': 6560, 'gathering': 6561, 'ligament': 6562, 'leigh': 6563, 'raymond': 6564, 'drift': 6565, 'enforce': 6566, 'kindle': 6567, 'cal': 6568, 'earl': 6569, 'unanimous': 6570, 'socialist': 6571, 'dale': 6572, 'curfew': 6573, 'emily': 6574, 'alto': 6575, 'endure': 6576, 'uncle': 6577, 'informs': 6578, 'swimming': 6579, 'testing': 6580, 'apprentice': 6581, 'runaway': 6582, 'hr': 6583, 'mw': 6584, 'expected': 6585, 'thirdquarter': 6586, 'persuade': 6587, 'macquarie': 6588, 'kg': 6589, 'shout': 6590, 'mens': 6591, 'hamper': 6592, '150000': 6593, 'bible': 6594, 'ok': 6595, 'standing': 6596, 'mosquito': 6597, 'remarkable': 6598, 'dust': 6599, 'dawson': 6600, 'jse': 6601, 'actively': 6602, 'breathe': 6603, '06': 6604, 'massa': 6605, 'aggregate': 6606, 'bangladeshi': 6607, 'von': 6608, 'stray': 6609, 'detection': 6610, 'clot': 6611, 'fidel': 6612, 'semi': 6613, 'southampton': 6614, 'uprising': 6615, 'levi': 6616, 'vandalize': 6617, 'forgery': 6618, 'balloon': 6619, '106': 6620, 'hague': 6621, 'hillsborough': 6622, 'tajikistan': 6623, 'lennon': 6624, 'hank': 6625, 'fairfax': 6626, 'mcilroy': 6627, 'en': 6628, 'canterbury': 6629, 'specialize': 6630, 'epidemic': 6631, 'adobe': 6632, 'trent': 6633, 'sunshine': 6634, 'contamination': 6635, 'lagos': 6636, 'odi': 6637, 'crossborder': 6638, 'kuwaiti': 6639, 'clip': 6640, 'evil': 6641, 'accra': 6642, 'amazing': 6643, 'crusader': 6644, 'silva': 6645, 'longawaited': 6646, 'bug': 6647, 'fragile': 6648, 'jindal': 6649, 'wholly': 6650, 'ramesh': 6651, 'curtis': 6652, 'certify': 6653, 'making': 6654, 'liberation': 6655, 'labourer': 6656, 'pleasant': 6657, 'basket': 6658, 'nitish': 6659, '13yearold': 6660, 'bahraini': 6661, '9000': 6662, 'amir': 6663, 'saeed': 6664, 'summon': 6665, 'partly': 6666, 'define': 6667, 'huffington': 6668, 'cart': 6669, 'amidst': 6670, 'continent': 6671, 'caterpillar': 6672, 'felix': 6673, 'spectacular': 6674, '98': 6675, 'undertake': 6676, 'venus': 6677, 'leonard': 6678, 'successor': 6679, 'binghamton': 6680, 'everywhere': 6681, 'hazardous': 6682, 'entrance': 6683, 'forbes': 6684, 'webb': 6685, 'acclaim': 6686, 'correctional': 6687, 'lautner': 6688, 'hitachi': 6689, 'johnston': 6690, 'separatist': 6691, 'persistent': 6692, 'notch': 6693, 'poster': 6694, 'intercontinental': 6695, 'mcdonnell': 6696, 'mri': 6697, 'albion': 6698, '03': 6699, 'bourse': 6700, 'rcmp': 6701, 'dustin': 6702, 'wr': 6703, 'deepika': 6704, '7000': 6705, 'irvine': 6706, 'turnout': 6707, 'goody': 6708, 'apologises': 6709, '9th': 6710, 'outlaw': 6711, 'otherwise': 6712, 'constituent': 6713, 'breeder': 6714, 'syndicate': 6715, 'qld': 6716, 'reinforce': 6717, 'sheboygan': 6718, 'freestyle': 6719, 'mickey': 6720, '8th': 6721, 'polling': 6722, 'stunt': 6723, 'paedophile': 6724, 'colon': 6725, 'insult': 6726, 'carr': 6727, 'polar': 6728, 'extended': 6729, 'hepatitis': 6730, 'wipe': 6731, 'zurich': 6732, 'lotus': 6733, 'samajwadi': 6734, 'anchorage': 6735, 'infamous': 6736, 'antitrust': 6737, 'rage': 6738, 'refund': 6739, 'eugene': 6740, 'disappointment': 6741, 'hotspur': 6742, 'nixon': 6743, 'snowfall': 6744, 'forgive': 6745, 'wan': 6746, 'petrochemical': 6747, 'ft': 6748, 'defect': 6749, 'accreditation': 6750, 'bestselling': 6751, 'wi': 6752, 'candidacy': 6753, 'rack': 6754, 'sultan': 6755, 'ramdev': 6756, 'hospice': 6757, 'junction': 6758, 'vast': 6759, 'darling': 6760, 'outrage': 6761, 'prosecute': 6762, 'strange': 6763, 'stranger': 6764, 'surfer': 6765, 'breakdown': 6766, 'cumberland': 6767, 'lokpal': 6768, 'reassure': 6769, 'efron': 6770, 'shawn': 6771, 'llp': 6772, 'timor': 6773, 'kilometre': 6774, 'jermaine': 6775, 'loot': 6776, 'emotion': 6777, 'shave': 6778, 'cancellation': 6779, '750': 6780, 'mln': 6781, '12yearold': 6782, 'cohen': 6783, 'cord': 6784, 'jar': 6785, 'paypal': 6786, 'dover': 6787, 'reduces': 6788, 'sandusky': 6789, 'bse': 6790, 'hogan': 6791, 'footprint': 6792, 'nail': 6793, 'watford': 6794, 'explodes': 6795, 'ruin': 6796, 'ideal': 6797, 'inject': 6798, 'successive': 6799, 'keeper': 6800, 'dual': 6801, 'conclusion': 6802, 'asiapacific': 6803, '1400': 6804, 'oj': 6805, 'daytime': 6806, 'marketer': 6807, 'ronald': 6808, 'allrounder': 6809, 'flare': 6810, 'admiral': 6811, 'snub': 6812, 'authorize': 6813, 'saga': 6814, 'montag': 6815, 'heal': 6816, 'pawlenty': 6817, 'pharma': 6818, 'soviet': 6819, 'polanski': 6820, 'pmln': 6821, 'relax': 6822, 'morocco': 6823, 'peacefully': 6824, 'smooth': 6825, 'ratio': 6826, 'nor': 6827, 're': 6828, '1600': 6829, '60th': 6830, 'occupation': 6831, 'burnley': 6832, 'ashore': 6833, 'realize': 6834, 'livestock': 6835, 'durban': 6836, 'imagine': 6837, 'militia': 6838, 'kuala': 6839, 'sergeant': 6840, 'griffith': 6841, 'negotiator': 6842, 'rib': 6843, 'wachovia': 6844, 'overshadow': 6845, 'iris': 6846, 'psychiatric': 6847, 'novelist': 6848, 'persist': 6849, 'vaccination': 6850, 'liz': 6851, 'donovan': 6852, 'honolulu': 6853, 'mideast': 6854, 'undefeated': 6855, 'gunfire': 6856, 'crocodile': 6857, 'urgent': 6858, 'revelation': 6859, 'nano': 6860, 'westwood': 6861, 'rai': 6862, 'duff': 6863, 'smoker': 6864, 'bass': 6865, 'sevilla': 6866, 'ingredient': 6867, 'berkeley': 6868, 'guantanamo': 6869, 'luther': 6870, 'jude': 6871, 'anaheim': 6872, 'ind': 6873, 'rampage': 6874, 'curry': 6875, 'jubilee': 6876, 'gerrard': 6877, 'arcelormittal': 6878, 'bafana': 6879, 'collector': 6880, 'sears': 6881, 'juror': 6882, 'frequent': 6883, 'haul': 6884, 'smuggler': 6885, 'wealthy': 6886, 'chan': 6887, 'oval': 6888, 'windows': 6889, 'ra': 6890, 'confederation': 6891, 'iphones': 6892, 'lehigh': 6893, 'halve': 6894, 'payne': 6895, 'vettel': 6896, 'totally': 6897, 'blunt': 6898, 'ammunition': 6899, 'auditorium': 6900, 'wrestle': 6901, 'laurent': 6902, 'reservoir': 6903, '107': 6904, 'downloads': 6905, 'lucknow': 6906, 'olivia': 6907, 'skull': 6908, 'yy': 6909, 'reply': 6910, 'convene': 6911, 'bizarre': 6912, 'bae': 6913, 'furlough': 6914, 'reschedule': 6915, 'transparent': 6916, 'mayweather': 6917, 'cohost': 6918, 'lengthy': 6919, 'biological': 6920, 'amongst': 6921, 'wembley': 6922, 'hospitality': 6923, 'didier': 6924, 'havoc': 6925, 'anywhere': 6926, 'entertainer': 6927, 'cm': 6928, 'trek': 6929, 'macon': 6930, 'spate': 6931, 'topeka': 6932, 'larceny': 6933, 'mid': 6934, 'outgo': 6935, 'suggestion': 6936, 'redesign': 6937, 'y': 6938, 'alba': 6939, '07': 6940, 'dane': 6941, 'strait': 6942, 'clemson': 6943, 'shirt': 6944, 'deliberately': 6945, 'mediterranean': 6946, 'grammer': 6947, 'bakery': 6948, 'relatively': 6949, 'depend': 6950, 'radar': 6951, 'stunning': 6952, 'ranbir': 6953, 'cutler': 6954, 'commencement': 6955, 'sao': 6956, 'vic': 6957, 'odonnell': 6958, '08': 6959, 'pepsi': 6960, 'sewer': 6961, 'mich': 6962, 'daly': 6963, 'clarkson': 6964, 'zimmerman': 6965, 'kourtney': 6966, 'subdue': 6967, 'devon': 6968, 'pratibha': 6969, 'motorway': 6970, 'onetime': 6971, 'alter': 6972, 'intervene': 6973, 'coordinate': 6974, 'machinery': 6975, 'novosti': 6976, 'booth': 6977, 'supervision': 6978, 'coldplay': 6979, 'landfall': 6980, 'borrower': 6981, 'transformation': 6982, 'augusta': 6983, 'nod': 6984, 'boulder': 6985, 'precision': 6986, 'belarusian': 6987, 'gore': 6988, 'insists': 6989, 'passion': 6990, 'tymoshenko': 6991, 'safeguard': 6992, 'airspace': 6993, 'snyder': 6994, 'sidney': 6995, 'lucrative': 6996, 'aloud': 6997, '201213': 6998, 'rear': 6999, 'aground': 7000, 'flock': 7001, 'reagan': 7002, 'freak': 7003, 'joan': 7004, 'handgun': 7005, 'abolish': 7006, 'doctorate': 7007, 'marseille': 7008, 'graffiti': 7009, 'immunity': 7010, 'database': 7011, '2018': 7012, 'tout': 7013, 'marina': 7014, 'spinner': 7015, 'lindsey': 7016, 'kay': 7017, 'fault': 7018, 'shriver': 7019, 'consume': 7020, 'ibrahim': 7021, 'cory': 7022, 'improper': 7023, 'ubisoft': 7024, 'pike': 7025, 'coat': 7026, 'mcdonald': 7027, 'beirut': 7028, 'mood': 7029, 'fraser': 7030, 'printer': 7031, 'understanding': 7032, 'candlestick': 7033, 'lean': 7034, 'persian': 7035, 'salute': 7036, 'lowcost': 7037, 'shin': 7038, 'boca': 7039, 'kazakh': 7040, 'renews': 7041, 'ossetia': 7042, 'expenditure': 7043, 'pulse': 7044, 'grandfather': 7045, 'batman': 7046, 'harass': 7047, 'implant': 7048, 'java': 7049, 'bolivia': 7050, 'alec': 7051, '103': 7052, 'impaired': 7053, 'vigil': 7054, 'galway': 7055, 'underwear': 7056, 'flexible': 7057, 'garrett': 7058, 'merit': 7059, 'issuer': 7060, 'onevehicle': 7061, 'conjunction': 7062, 'robot': 7063, 'meredith': 7064, 'cripple': 7065, 'yearonyear': 7066, 'salisbury': 7067, 'aleague': 7068, 'colbert': 7069, 'con': 7070, 'prohibit': 7071, 'composite': 7072, 'maid': 7073, 'drum': 7074, 'fighting': 7075, 'hidden': 7076, 'conan': 7077, 'rename': 7078, '1960s': 7079, 'bedroom': 7080, 'catastrophic': 7081, 'inflow': 7082, 'chevron': 7083, 'yeddyurappa': 7084, 'contrary': 7085, 'ax': 7086, 'schalke': 7087, 'mellon': 7088, 'brigade': 7089, 'yusuf': 7090, 'solomon': 7091, 'newsday': 7092, 'blanket': 7093, 'stakeholder': 7094, 'intoxication': 7095, 'heineken': 7096, 'skilled': 7097, 'arroyo': 7098, 'fragrance': 7099, 'paulson': 7100, 'emirates': 7101, 'sheep': 7102, 'petraeus': 7103, 'mvp': 7104, 'shrine': 7105, 'topple': 7106, 'balcony': 7107, 'diversify': 7108, 'bikini': 7109, 'dedicated': 7110, 'hurley': 7111, 'bread': 7112, 'pad': 7113, 'cork': 7114, 'cypriot': 7115, 'reduced': 7116, 'password': 7117, 'fraudulent': 7118, 'mgm': 7119, 'geological': 7120, 'mayoral': 7121, 'inner': 7122, 'wrestling': 7123, 'literature': 7124, 'manipur': 7125, 'enhanced': 7126, 'batting': 7127, 'atp': 7128, 'eleven': 7129, 'deck': 7130, 'hai': 7131, 'fundraise': 7132, 'sixmonth': 7133, 'stir': 7134, 'milton': 7135, 'lea': 7136, 'migration': 7137, 'mainstream': 7138, 'frederick': 7139, 'exile': 7140, 'righthanded': 7141, 'prof': 7142, 'monaco': 7143, 'porter': 7144, 'dundee': 7145, 'horry': 7146, 'sprinter': 7147, 'attraction': 7148, 'bismarck': 7149, 'rotary': 7150, '200m': 7151, 'knockout': 7152, 'obsess': 7153, 'echo': 7154, 'biel': 7155, 'jamaican': 7156, 'wrongful': 7157, 'sprain': 7158, 'karan': 7159, 'scuffle': 7160, 'beau': 7161, 'laureate': 7162, 'instant': 7163, 'exclude': 7164, 'wander': 7165, 'julius': 7166, '1300': 7167, 'simplify': 7168, 'gerald': 7169, 'gradually': 7170, 'disposal': 7171, 'breakaway': 7172, 'imperial': 7173, 'powder': 7174, 'alexandria': 7175, 'rosa': 7176, 'knightley': 7177, 'vmware': 7178, 'suppose': 7179, 'junk': 7180, 'bud': 7181, 'rawalpindi': 7182, 'linger': 7183, 'mercer': 7184, 'berth': 7185, 'byrd': 7186, 'serb': 7187, 'sends': 7188, 'q': 7189, 'chandler': 7190, 'senegal': 7191, 'savage': 7192, 'kickoff': 7193, 'multimedia': 7194, 'patterson': 7195, 'frustration': 7196, 'tenure': 7197, '27th': 7198, 'sabre': 7199, 'marilyn': 7200, '1800': 7201, 'acc': 7202, 'bachelor': 7203, 'srinagar': 7204, 'leno': 7205, 'sussex': 7206, 'methodist': 7207, 'telangana': 7208, 'jenny': 7209, 'tend': 7210, 'panetta': 7211, 'baton': 7212, 'haitian': 7213, 'scherzinger': 7214, 'kiwi': 7215, 'il': 7216, 'barrymore': 7217, 'intelligent': 7218, 'shepherd': 7219, 'oral': 7220, 'ritchie': 7221, 'aa': 7222, 'bless': 7223, 'eager': 7224, 'wbo': 7225, 'outreach': 7226, 'slugger': 7227, 'colony': 7228, 'havent': 7229, 'airtran': 7230, 'commentator': 7231, 'slogan': 7232, 'barely': 7233, 'computing': 7234, 'doha': 7235, 'woodland': 7236, 'nest': 7237, 'cheltenham': 7238, 'ukbased': 7239, 'manning': 7240, 'se': 7241, 'flintoff': 7242, 'judgment': 7243, 'gangster': 7244, 'viral': 7245, 'ti': 7246, 'deem': 7247, 'warne': 7248, 'rahman': 7249, 'condolence': 7250, 'piper': 7251, 'saskatoon': 7252, 'tactic': 7253, 'atlantis': 7254, 'mat': 7255, 'colonial': 7256, 'eastman': 7257, 'tolerate': 7258, 'worcester': 7259, 'unesco': 7260, 'dynamo': 7261, 'biotechnology': 7262, 'communicate': 7263, 'medalist': 7264, 'blackout': 7265, 'snake': 7266, 'legally': 7267, 'youve': 7268, 'respiratory': 7269, 'injunction': 7270, 'albania': 7271, 'tent': 7272, 'cpi': 7273, 'maori': 7274, 'mcdonalds': 7275, 'buenos': 7276, 'eminem': 7277, 'yourself': 7278, 'schmidt': 7279, 'bronx': 7280, 'interface': 7281, 'spotify': 7282, '24th': 7283, 'excuse': 7284, 'millennium': 7285, 'hayes': 7286, 'lobbyist': 7287, 'panama': 7288, 'proposed': 7289, 'salon': 7290, 'anticorruption': 7291, 'wouldbe': 7292, 'appreciate': 7293, 'underscore': 7294, 'concord': 7295, 'correct': 7296, 'afridi': 7297, 'basu': 7298, 'bruise': 7299, 'fixture': 7300, 'clijsters': 7301, 'gp': 7302, 'brighton': 7303, 'spiderman': 7304, 'wesley': 7305, 'ballistic': 7306, 'hudgens': 7307, '1970s': 7308, 'aftermath': 7309, 'pianist': 7310, 'choir': 7311, 'woo': 7312, 'disturb': 7313, 'personally': 7314, 'viktor': 7315, 'clue': 7316, 'roddick': 7317, 'alcoa': 7318, 'advertise': 7319, 'indy': 7320, 'preorders': 7321, 'printing': 7322, 'shahbaz': 7323, 'redundancy': 7324, '32yearold': 7325, 'dramatically': 7326, 'passing': 7327, 'fayetteville': 7328, 'jaw': 7329, 'combined': 7330, 'kristin': 7331, 'malfunction': 7332, 'absolute': 7333, 'pavilion': 7334, 'negligent': 7335, 'goodbye': 7336, 'whistleblower': 7337, 'promising': 7338, '28th': 7339, 'bahamas': 7340, 'dannii': 7341, 'peruvian': 7342, 'ups': 7343, 'raft': 7344, 'fenway': 7345, 'nassau': 7346, 'poisoning': 7347, 'humane': 7348, 'gutted': 7349, 'linux': 7350, 'tier': 7351, 'teaching': 7352, 'airasia': 7353, 'timberwolves': 7354, 'elena': 7355, 'ecb': 7356, 'groupon': 7357, 'trafficker': 7358, 'asks': 7359, 'iftikhar': 7360, 'perdue': 7361, 'canton': 7362, 'arrow': 7363, '102': 7364, '39yearold': 7365, 'fantastic': 7366, 'intentionally': 7367, 'mozambique': 7368, 'wellness': 7369, 'acclaimed': 7370, 'experiment': 7371, 'primetime': 7372, 'tense': 7373, 'melissa': 7374, 'uncover': 7375, 'corbett': 7376, 'sacred': 7377, 'oreilly': 7378, 'squeeze': 7379, 'miracle': 7380, '550': 7381, 'promotional': 7382, 'ajay': 7383, '33yearold': 7384, 'latter': 7385, 'solicitor': 7386, 'overwhelmingly': 7387, 'universitys': 7388, 'faction': 7389, 'elsewhere': 7390, 'maestro': 7391, 'interaction': 7392, 'barge': 7393, 'proceed': 7394, 'mila': 7395, 'kunis': 7396, 'appalachian': 7397, 'alpha': 7398, 'costume': 7399, 'leopard': 7400, 'commando': 7401, 'briefing': 7402, 'trafford': 7403, 'conversion': 7404, 'zach': 7405, 'risky': 7406, 'circus': 7407, 'harding': 7408, 'lumpur': 7409, 'crowe': 7410, 'continuous': 7411, 'rouge': 7412, 'chapel': 7413, 'forestry': 7414, 'aj': 7415, 'horn': 7416, 'improves': 7417, 'generator': 7418, 'anfield': 7419, 'verge': 7420, 'vogue': 7421, 'usage': 7422, 'mercantile': 7423, 'disable': 7424, 'wow': 7425, 'buccaneer': 7426, 'shetty': 7427, 'bidder': 7428, 'voip': 7429, 'xperia': 7430, 'ravi': 7431, 'input': 7432, '108': 7433, 'peyton': 7434, 'smartrends': 7435, 'herbert': 7436, 'shirley': 7437, 'longrunning': 7438, 'travolta': 7439, 'pork': 7440, '47yearold': 7441, 'salvador': 7442, 'bal': 7443, 'norton': 7444, 'madden': 7445, 'omalley': 7446, 'wider': 7447, 'adapt': 7448, 'psychological': 7449, 'tbilisi': 7450, 'guerrilla': 7451, 'hulk': 7452, 'anticipation': 7453, 'enact': 7454, 'eli': 7455, 'furious': 7456, 'redskins': 7457, 'monte': 7458, 'aust': 7459, 'seminole': 7460, 'jc': 7461, 'saturdays': 7462, 'hunting': 7463, 'properly': 7464, 'phelps': 7465, 'nash': 7466, 'grows': 7467, 'commute': 7468, 'harlem': 7469, 'webster': 7470, 'publishes': 7471, 'grande': 7472, 'bosnian': 7473, 'timing': 7474, 'bluff': 7475, 'interesting': 7476, 'separation': 7477, 'speedy': 7478, 'anz': 7479, '1700': 7480, 'keira': 7481, 'oconnor': 7482, 'headley': 7483, 'sonic': 7484, 'candy': 7485, 'curve': 7486, 'ipswich': 7487, 'mammoth': 7488, 'corey': 7489, 'wba': 7490, 'canadiens': 7491, 'strauss': 7492, 'backyard': 7493, 'beloved': 7494, 'credible': 7495, 'monk': 7496, 'lunar': 7497, 'advertisement': 7498, 'fullyear': 7499, 'lewd': 7500, 'min': 7501, 'realty': 7502, 'seafood': 7503, '200809': 7504, 'ulster': 7505, 'glove': 7506, 'scoop': 7507, 'spokane': 7508, 'â': 7509, 'cfo': 7510, 'remittance': 7511, 'nephew': 7512, 'compile': 7513, 'loyal': 7514, 'betterthanexpected': 7515, 'hiring': 7516, 'kendra': 7517, 'immune': 7518, 'regina': 7519, 'sylvester': 7520, 'icahn': 7521, 'bogus': 7522, 'robbed': 7523, 'motivate': 7524, 'bynes': 7525, 'hon': 7526, 'xavier': 7527, 'kylie': 7528, 'pawar': 7529, 'fergie': 7530, 'overwhelm': 7531, 'upstate': 7532, 'multinational': 7533, 'nate': 7534, 'abdominal': 7535, 'comcast': 7536, 'payable': 7537, 'barker': 7538, 'aishwarya': 7539, 'rose': 7540, 'limerick': 7541, 'gadhafi': 7542, 'heathrow': 7543, 'osce': 7544, 'clara': 7545, 'lpga': 7546, 'warden': 7547, 'mcafee': 7548, 'electrocute': 7549, 'ancelotti': 7550, 'umpire': 7551, '70000': 7552, 'aer': 7553, 'soup': 7554, 'allocate': 7555, 'smell': 7556, 'enhancement': 7557, 'throne': 7558, 'composition': 7559, 'northampton': 7560, 'stupid': 7561, 'keane': 7562, 'firsthalf': 7563, 'rainbow': 7564, 'contador': 7565, 'confiscate': 7566, 'extinction': 7567, 'trinamool': 7568, 'stephanie': 7569, 'petty': 7570, 'bigg': 7571, 'tide': 7572, '650': 7573, 'accountant': 7574, 'evict': 7575, 'shortterm': 7576, 'recipient': 7577, 'cornwall': 7578, 'romo': 7579, 'gainesville': 7580, 'fedex': 7581, 'bermuda': 7582, 'collides': 7583, 'reopens': 7584, 'blackmail': 7585, 'competitiveness': 7586, 'deeply': 7587, 'antidoping': 7588, 'fx': 7589, 'berkshire': 7590, 'khyber': 7591, 'headquarter': 7592, 'thatcher': 7593, 'precautionary': 7594, 'pearson': 7595, 'optical': 7596, 'brilliant': 7597, 'surprisingly': 7598, 'ilham': 7599, 'benghazi': 7600, 'aerial': 7601, 'defenceman': 7602, 'embattled': 7603, 'inspect': 7604, 'anxiety': 7605, 'roland': 7606, 'dunk': 7607, 'courtesy': 7608, 'rag': 7609, 'tsx': 7610, 'transmit': 7611, 'prodemocracy': 7612, 'dana': 7613, 'decisive': 7614, 'incredible': 7615, 'rodney': 7616, 'ho': 7617, 'disqualify': 7618, '38yearold': 7619, 'elk': 7620, 'showing': 7621, 'told': 7622, 'penelope': 7623, 'calhoun': 7624, 'sergei': 7625, 'regularly': 7626, 'generally': 7627, 'tna': 7628, 'coordination': 7629, '200910': 7630, 'virtualization': 7631, 'groundbreaking': 7632, 'moose': 7633, 'cheese': 7634, 'realise': 7635, 'copa': 7636, 'shoaib': 7637, 'mayawati': 7638, 'evan': 7639, 'sophomore': 7640, '1999': 7641, 'arise': 7642, 'cambodian': 7643, 'capsule': 7644, 'edwin': 7645, 'byrne': 7646, 'reclaim': 7647, 'leinster': 7648, 'yerevan': 7649, 'fastgrowing': 7650, 'downward': 7651, 'helena': 7652, 'upto': 7653, 'cardiovascular': 7654, 'paralympic': 7655, 'camden': 7656, 'beaver': 7657, 'extremism': 7658, 'nv': 7659, 'carla': 7660, 'suarez': 7661, 'apollo': 7662, 'assemblyman': 7663, 'sania': 7664, 'architecture': 7665, 'cameroon': 7666, 'muamba': 7667, 'quietly': 7668, 'aka': 7669, '143': 7670, 'mirren': 7671, 'chevrolet': 7672, 'thermo': 7673, 'chattanooga': 7674, 'swayze': 7675, 'pepsico': 7676, 'lufthansa': 7677, 'ethical': 7678, 'mosley': 7679, 'apologizes': 7680, 'shotgun': 7681, 'penske': 7682, 'interrupt': 7683, 'putnam': 7684, 'parcel': 7685, 'balochistan': 7686, 'harrington': 7687, 'sweeping': 7688, 'lisbon': 7689, 'lockheed': 7690, 'conway': 7691, 'fellowship': 7692, 'rabies': 7693, 'conductor': 7694, 'paraguay': 7695, 'landfill': 7696, 'outskirt': 7697, 'daryl': 7698, 'ramadan': 7699, 'mlb': 7700, 'starve': 7701, 'hurl': 7702, 'rope': 7703, 'savannah': 7704, 'portrait': 7705, 'cornell': 7706, 'franc': 7707, 'blend': 7708, 'conspire': 7709, 'nerve': 7710, 'mahama': 7711, 'antiterrorism': 7712, 'streamline': 7713, 'burnt': 7714, 'calvin': 7715, 'aggravate': 7716, 'shakespeare': 7717, 'wrongly': 7718, 'firstever': 7719, 'liga': 7720, 'obstruction': 7721, 'memoir': 7722, 'adverse': 7723, 'melt': 7724, 'gareth': 7725, 'ariz': 7726, 'except': 7727, 'chess': 7728, 'programming': 7729, 'shooter': 7730, 'depart': 7731, 'gurgaon': 7732, 'ala': 7733, 'fiancee': 7734, 'christine': 7735, 'phillip': 7736, 'everybody': 7737, 'grower': 7738, 'lefthander': 7739, 'atmosphere': 7740, 'mess': 7741, 'therefore': 7742, 'enrollment': 7743, 'shelton': 7744, 'mahinda': 7745, 'mateo': 7746, 'bargaining': 7747, '10year': 7748, 'stockpile': 7749, 'lowe': 7750, 'nvidia': 7751, 'q1': 7752, 'dancing': 7753, '230': 7754, 'lounge': 7755, 'objection': 7756, 'baxter': 7757, 'deere': 7758, 'miscarriage': 7759, 'colonel': 7760, 'lng': 7761, 'mm': 7762, 'underperform': 7763, 'raceway': 7764, 'incredibly': 7765, 'astana': 7766, 'wallet': 7767, 'weeklong': 7768, 'talented': 7769, 'hiker': 7770, 'intimate': 7771, 'rehearsal': 7772, 'fontana': 7773, 'interfere': 7774, 'disappearance': 7775, 'attribute': 7776, 'alcoholic': 7777, 'icy': 7778, 'assailant': 7779, 'none': 7780, 'protein': 7781, 'scream': 7782, 'naples': 7783, 'kia': 7784, 'abkhazia': 7785, 'rivera': 7786, 'noise': 7787, 'cleaner': 7788, 'halfway': 7789, 'locally': 7790, 'shutout': 7791, 'rubio': 7792, 'shipyard': 7793, 'unlawful': 7794, 'background': 7795, 'spector': 7796, 'dickinson': 7797, 'backlash': 7798, 'bosnia': 7799, 'sneak': 7800, 'kitten': 7801, 'keegan': 7802, 'wonderful': 7803, 'paribas': 7804, 'lk': 7805, 'selloff': 7806, 'ki': 7807, 'chant': 7808, 'ipads': 7809, 'leverage': 7810, 'polk': 7811, 'cd': 7812, 'zynga': 7813, 'homage': 7814, 'peshawar': 7815, 'rao': 7816, 'johan': 7817, 'nordstrom': 7818, 'lauderdale': 7819, 'patriotic': 7820, 'madhya': 7821, 'carlyle': 7822, 'churchill': 7823, 'cult': 7824, 'sustained': 7825, 'respective': 7826, 'hitler': 7827, 'directorial': 7828, 'tripura': 7829, 'thrasher': 7830, 'latino': 7831, 'dispatch': 7832, 'literacy': 7833, 'oversight': 7834, 'bullion': 7835, 'spacecraft': 7836, 'guinness': 7837, 'wildcat': 7838, '100m': 7839, 'eviction': 7840, 'mcqueen': 7841, 'chhattisgarh': 7842, 'paternity': 7843, 'fry': 7844, 'highlevel': 7845, 'spinal': 7846, 'experimental': 7847, 'stockholder': 7848, 'entirely': 7849, 'copenhagen': 7850, 'bayer': 7851, 'prolific': 7852, 'turnaround': 7853, 'showroom': 7854, '09': 7855, 'whilst': 7856, 'contaminate': 7857, '109': 7858, 'akhtar': 7859, 'lorenzo': 7860, 'pea': 7861, 'sectarian': 7862, 'broadly': 7863, 'est': 7864, 'succumb': 7865, 'straw': 7866, 'clarify': 7867, 'dwight': 7868, 'modestly': 7869, 'maturity': 7870, 'fallon': 7871, 'pearce': 7872, 'detector': 7873, 'inevitable': 7874, 'shahrukh': 7875, 'cremate': 7876, 'rodham': 7877, 'au': 7878, 'flexibility': 7879, 'jj': 7880, 'kochi': 7881, 'charm': 7882, 'scorer': 7883, 'unsecured': 7884, 'uc': 7885, 'hawkes': 7886, 'adequate': 7887, 'algerian': 7888, 'daredevil': 7889, 'budapest': 7890, 'peacekeeper': 7891, 'kelsey': 7892, 'lucy': 7893, 'bon': 7894, '90th': 7895, 'twovehicle': 7896, 'dixon': 7897, 'chivas': 7898, 'boater': 7899, 'hay': 7900, 'tick': 7901, 'gabor': 7902, 'eas': 7903, 'relegate': 7904, 'taking': 7905, 'administer': 7906, 'actual': 7907, 'educator': 7908, 'asbestos': 7909, '3500': 7910, 'taco': 7911, 'nike': 7912, 'booker': 7913, 'upholds': 7914, 'martha': 7915, 'fulfil': 7916, 'lara': 7917, 'pageant': 7918, 'derry': 7919, 'gill': 7920, 'bali': 7921, 'colo': 7922, 'burmese': 7923, 'patience': 7924, 'cnbc': 7925, 'sanctuary': 7926, 'bassist': 7927, 'nagar': 7928, 'karunanidhi': 7929, 'presley': 7930, 'shatter': 7931, 'olive': 7932, 'suicidal': 7933, 'negligence': 7934, 'cadbury': 7935, 'dominant': 7936, 'cluster': 7937, 'marvin': 7938, 'nightmare': 7939, 'carpenter': 7940, 'sewage': 7941, 'burglarize': 7942, 'punter': 7943, 'costcutting': 7944, 'registered': 7945, 'surgical': 7946, 'thirdlargest': 7947, 'elimination': 7948, 'tumour': 7949, 'jill': 7950, 'gloria': 7951, 'topless': 7952, 'buyback': 7953, 'luncheon': 7954, 'allamerican': 7955, 'loser': 7956, 'fallout': 7957, 'bluray': 7958, 'eradicate': 7959, '220': 7960, 'angle': 7961, 'fischer': 7962, 'wakefield': 7963, 'restive': 7964, 'pretoria': 7965, 'memo': 7966, 'avatar': 7967, 'relevant': 7968, 'threemonth': 7969, 'memorandum': 7970, '112': 7971, 'bcci': 7972, 'credential': 7973, 'avery': 7974, '14000': 7975, 'experienced': 7976, 'proclaim': 7977, 'speaking': 7978, 'termination': 7979, 'banquet': 7980, 'danielle': 7981, 'moammar': 7982, 'ole': 7983, 'prakash': 7984, 'twelve': 7985, 'communal': 7986, 'caregiver': 7987, 'princeton': 7988, 'threetime': 7989, 'confidential': 7990, 'harare': 7991, 'politically': 7992, 'equip': 7993, 'spent': 7994, '18000': 7995, 'concerned': 7996, 'msnbc': 7997, 'goalless': 7998, 'strained': 7999, 'vonn': 8000, 'dunn': 8001, 'procurement': 8002, 'aviva': 8003, 'whopping': 8004, 'hancock': 8005, 'doll': 8006, 'antique': 8007, 'rapist': 8008, 'dare': 8009, 'benson': 8010, 'jihad': 8011, '11yearold': 8012, 'soften': 8013, 'supremo': 8014, 'geo': 8015, 'identification': 8016, 'sculpture': 8017, 'shine': 8018, 'grill': 8019, 'bursa': 8020, 'publicity': 8021, 'premature': 8022, 'alexandra': 8023, 'avril': 8024, 'luiz': 8025, 'motorsports': 8026, '3yearold': 8027, 'loyalty': 8028, 'monoxide': 8029, 'hormone': 8030, 'rwandan': 8031, 'seth': 8032, 'renaissance': 8033, 'angolan': 8034, 'todays': 8035, 'prom': 8036, 'patna': 8037, 'parked': 8038, 'bubble': 8039, 'penney': 8040, 'airstrike': 8041, 'hoffman': 8042, 'render': 8043, 'scope': 8044, 'longstanding': 8045, 'lucie': 8046, 'perjury': 8047, 'delist': 8048, 'asda': 8049, 'vat': 8050, 'driveway': 8051, 'ecosystem': 8052, 'advocacy': 8053, 'synthetic': 8054, 'neither': 8055, 'jerome': 8056, 'helmet': 8057, '3m': 8058, 'islands': 8059, 'autobiography': 8060, 'marker': 8061, 'zombie': 8062, 'carney': 8063, 'bhutto': 8064, 'brings': 8065, 'adopts': 8066, 'malema': 8067, 'ultimately': 8068, 'misuse': 8069, 'autonomous': 8070, 'perspective': 8071, '31st': 8072, 'lingerie': 8073, 'mitch': 8074, 'fibre': 8075, '200th': 8076, 'technological': 8077, 'dolphins': 8078, 'aluminum': 8079, 'methamphetamine': 8080, 'stafford': 8081, 'lieberman': 8082, 'nepali': 8083, 'bacteria': 8084, 'paramount': 8085, 'polo': 8086, 'nairobi': 8087, 'iv': 8088, 'financially': 8089, 'compulsory': 8090, 'mound': 8091, 'wta': 8092, 'spaniard': 8093, 'leftist': 8094, 'closet': 8095, 'booster': 8096, 'unlike': 8097, 'founding': 8098, 'gyllenhaal': 8099, 'stan': 8100, 'qpr': 8101, 'disc': 8102, 'moroccan': 8103, 'barrett': 8104, 'dismantle': 8105, 'indycar': 8106, 'grandson': 8107, 'lilly': 8108, 'kan': 8109, 'vocal': 8110, 'racket': 8111, 'stockton': 8112, 'array': 8113, 'antigay': 8114, 'aire': 8115, 'blazer': 8116, 'newcomer': 8117, 'saab': 8118, 'livingston': 8119, 'akron': 8120, 'disgrace': 8121, 'potato': 8122, 'pistol': 8123, 'hobbit': 8124, 'parenthood': 8125, 'acoustic': 8126, 'elevator': 8127, 'ugandan': 8128, 'sutherland': 8129, 'cska': 8130, 'overwhelming': 8131, 'hardy': 8132, 'hoax': 8133, 'allied': 8134, 'fourday': 8135, 'leisure': 8136, 'plantation': 8137, 'playground': 8138, 'exempt': 8139, 'abhishek': 8140, 'packet': 8141, 'aretha': 8142, 'brake': 8143, 'ballet': 8144, 'goodman': 8145, 'slalom': 8146, 'censor': 8147, 'duluth': 8148, 'seasonally': 8149, 'roshan': 8150, 'misery': 8151, 'caucasus': 8152, 'bald': 8153, 'artificial': 8154, 'karen': 8155, 'sword': 8156, 'basement': 8157, 'equivalent': 8158, 'dev': 8159, 'jetblue': 8160, 'kandahar': 8161, '630': 8162, '34yearold': 8163, 'bajaj': 8164, 'scooter': 8165, 'richter': 8166, 'dalglish': 8167, 'shropshire': 8168, 'schoolgirl': 8169, 'pep': 8170, 'nun': 8171, '2017': 8172, 'ahmedabad': 8173, 'malibu': 8174, 'prefers': 8175, 'jupiter': 8176, 'aboriginal': 8177, 'jacques': 8178, 'starting': 8179, 'ankara': 8180, 'coli': 8181, 'stockholm': 8182, 'middlesbrough': 8183, 'fade': 8184, 'secretarygeneral': 8185, 'downhill': 8186, 'anita': 8187, 'samoa': 8188, 'defends': 8189, 'burial': 8190, 'cocktail': 8191, 'nypd': 8192, 'waterloo': 8193, 'legion': 8194, 'nestle': 8195, 'erin': 8196, 'kara': 8197, 'brewery': 8198, 'snowden': 8199, 'transporter': 8200, 'organizational': 8201, 'costly': 8202, 'lonely': 8203, '40yearold': 8204, 'cadre': 8205, 'roar': 8206, 'spider': 8207, 'turf': 8208, 'hiatus': 8209, 'handful': 8210, 'ep': 8211, 'diary': 8212, 'truce': 8213, 'buoy': 8214, 'zoe': 8215, 'powerhouse': 8216, 'trauma': 8217, 'eskom': 8218, 'gibb': 8219, 'exboyfriend': 8220, 'wag': 8221, 'prasad': 8222, 'festive': 8223, 'defendant': 8224, 'enrichment': 8225, 'repatriate': 8226, 'playbook': 8227, 'butte': 8228, 'labrador': 8229, 'courteney': 8230, 'bremen': 8231, 'judy': 8232, 'usb': 8233, 'registry': 8234, 'claude': 8235, 'leann': 8236, 'bb': 8237, 'fulltime': 8238, 'twoyearold': 8239, 'fiction': 8240, 'timber': 8241, 'yorkbased': 8242, 'cam': 8243, 'jain': 8244, 'circulate': 8245, 'honey': 8246, 'bharat': 8247, 'mature': 8248, 'jong': 8249, 'huckabee': 8250, 'jolt': 8251, 'uniteds': 8252, 'jenson': 8253, 'pamela': 8254, 'twomonth': 8255, 'toe': 8256, 'unlimited': 8257, 'denial': 8258, 'desmond': 8259, 'onboard': 8260, 'ngo': 8261, 'lexus': 8262, 'tina': 8263, 'debit': 8264, 'threegame': 8265, 'knifepoint': 8266, 'devote': 8267, 'zayed': 8268, 'frontline': 8269, 'usually': 8270, 'caretaker': 8271, 'standout': 8272, 'xerox': 8273, 'orthodox': 8274, 'threeyearold': 8275, '22nd': 8276, 'sherman': 8277, 'instruction': 8278, 'evolution': 8279, 'lazio': 8280, 'twenty': 8281, 'jaipur': 8282, 'pr': 8283, 'igor': 8284, 'taxation': 8285, 'fertiliser': 8286, 'mechanic': 8287, 'maxwell': 8288, 'aquarium': 8289, 'jenner': 8290, 'beshear': 8291, 'terrible': 8292, 'sbi': 8293, 'insurgency': 8294, 'arvind': 8295, 'headache': 8296, 'diagnostic': 8297, 'dot': 8298, 'losing': 8299, 'bobcat': 8300, 'valve': 8301, 'consistent': 8302, 'mere': 8303, 'tendon': 8304, 'fluid': 8305, 'nicholas': 8306, 'blizzard': 8307, 'atm': 8308, 'keynote': 8309, 'painful': 8310, 'taj': 8311, 'mickelson': 8312, 'nl': 8313, 'craigslist': 8314, 'robinho': 8315, 'casual': 8316, 'anytime': 8317, 'declares': 8318, 'breeze': 8319, 'rhys': 8320, 'wanted': 8321, 'detailed': 8322, 'missoula': 8323, 'tongue': 8324, 'vicious': 8325, 'davidson': 8326, 'flaw': 8327, 'brutally': 8328, 'footage': 8329, 'firing': 8330, 'lancashire': 8331, 'mtn': 8332, 'elvis': 8333, '155': 8334, 'satisfy': 8335, 'confusion': 8336, 'sally': 8337, 'advertiser': 8338, 'snowstorm': 8339, 'thrive': 8340, 'midway': 8341, 'dirt': 8342, 'decker': 8343, 'theo': 8344, '44yearold': 8345, 'stronghold': 8346, 'singaporean': 8347, 'sharemarkets': 8348, 'vita': 8349, 'chop': 8350, 'sotomayor': 8351, 'kane': 8352, 'nanotechnology': 8353, 'linkedin': 8354, 'qualification': 8355, 'meyer': 8356, 'wee': 8357, 'delicious': 8358, 'conscience': 8359, 'clause': 8360, 'vacate': 8361, 'peterborough': 8362, 'pulitzer': 8363, 'jairam': 8364, 'lamb': 8365, '600000': 8366, '60000': 8367, 'tolerance': 8368, 'notify': 8369, 'dear': 8370, 'click': 8371, 'rime': 8372, 'scottsdale': 8373, 'fiber': 8374, 'dion': 8375, '800000': 8376, 'seaside': 8377, 'dissent': 8378, 'inflationary': 8379, 'affirms': 8380, 'menace': 8381, 'webinar': 8382, 'carrey': 8383, 'pendleton': 8384, 'quantity': 8385, '850': 8386, 'atop': 8387, 'horrific': 8388, 'fatigue': 8389, 'sunrise': 8390, 'grapple': 8391, 'stallone': 8392, 'butterfly': 8393, 'mastercard': 8394, 'vacuum': 8395, 'daimler': 8396, 'lifeline': 8397, 'oriental': 8398, 'nomura': 8399, 'mistakenly': 8400, 'jailed': 8401, 'darfur': 8402, 'bridgeport': 8403, 'apache': 8404, 'julio': 8405, 'torus': 8406, 'hrithik': 8407, 'santiago': 8408, 'trinity': 8409, 'palermo': 8410, 'nowhere': 8411, 'journalism': 8412, 'paramilitary': 8413, 'qualcomm': 8414, 'bloomington': 8415, 'resumption': 8416, 'mastermind': 8417, 'adjustment': 8418, 'ah1n1': 8419, 'kathleen': 8420, '111': 8421, 'goalie': 8422, 'steelmaker': 8423, 'turk': 8424, 'relaunch': 8425, 'lithuania': 8426, 'axis': 8427, 'constant': 8428, 'cit': 8429, 'munster': 8430, 'harold': 8431, 'optimization': 8432, 'ecofriendly': 8433, 'sim': 8434, 'heaven': 8435, 'mastectomy': 8436, 'otago': 8437, '37yearold': 8438, 'rainy': 8439, 'representation': 8440, 'lethal': 8441, 'lin': 8442, 'limelight': 8443, 'nda': 8444, 'paparazzo': 8445, 'hewlettpackard': 8446, 'newfoundland': 8447, 'powerball': 8448, 'fiveday': 8449, 'sonoma': 8450, 'uconn': 8451, 'lingus': 8452, 'moratorium': 8453, 'mahendra': 8454, 'corps': 8455, 'euronext': 8456, 'chairperson': 8457, 'backdrop': 8458, 'piston': 8459, 'ringgit': 8460, 'hershey': 8461, 'sketch': 8462, 'akbar': 8463, 'doncaster': 8464, 'jaime': 8465, 'polio': 8466, 'leone': 8467, 'fletcher': 8468, 'najib': 8469, 'irrigation': 8470, 'charitable': 8471, 'zinc': 8472, 'structural': 8473, 'triangle': 8474, 'guam': 8475, 'selector': 8476, 'alumnus': 8477, '45yearold': 8478, 'moyes': 8479, 'edit': 8480, 'effectiveness': 8481, 'paddy': 8482, 'barrack': 8483, 'speeding': 8484, 'perkins': 8485, 'usled': 8486, 'spearhead': 8487, 'reorganize': 8488, 'rite': 8489, 'irs': 8490, 'sunni': 8491, 'huawei': 8492, 'realtime': 8493, 'rolling': 8494, 'jawan': 8495, 'aspen': 8496, 'repayment': 8497, 'goat': 8498, 'tryout': 8499, 'megastar': 8500, 'oh': 8501, 'waziristan': 8502, 'meningitis': 8503, 'hectare': 8504, 'defer': 8505, 'quentin': 8506, 'reprimand': 8507, 'dupont': 8508, 'assassinate': 8509, 'safer': 8510, 'prescott': 8511, 'kiev': 8512, 'honeymoon': 8513, 'hefner': 8514, 'aggression': 8515, 'boyd': 8516, 'recruiting': 8517, 'partys': 8518, 'jackman': 8519, 'easton': 8520, 'gloomy': 8521, 'wardrobe': 8522, 'tuesdays': 8523, 'anymore': 8524, 'societe': 8525, 'greenville': 8526, 'drogba': 8527, 'lille': 8528, 'nicky': 8529, 'bellevue': 8530, 'singlevehicle': 8531, 'ortiz': 8532, 'artistic': 8533, 'entertain': 8534, 'bipartisan': 8535, 'dismal': 8536, 'liberia': 8537, 'tabloid': 8538, 'julianne': 8539, 'photography': 8540, 'gardner': 8541, 'luxembourg': 8542, 'ashland': 8543, 'accurate': 8544, 'geoff': 8545, 'intact': 8546, 'hitter': 8547, 'sandwich': 8548, 'scrutiny': 8549, 'wolfsburg': 8550, 'giro': 8551, 'pumpkin': 8552, '170': 8553, '2g': 8554, 'macedonian': 8555, 'brink': 8556, 'excise': 8557, 'eastenders': 8558, 'pandemic': 8559, 'socialite': 8560, 'francois': 8561, 'maul': 8562, 'boone': 8563, '113': 8564, 'telugu': 8565, 'dalton': 8566, 'honest': 8567, 'clarence': 8568, 'vodka': 8569, 'hutchison': 8570, 'accountable': 8571, 'goodell': 8572, 'summons': 8573, 'emc': 8574, 'lyric': 8575, 'kendrick': 8576, 'patriarch': 8577, 'yanukovych': 8578, 'napoli': 8579, 'scot': 8580, 'glitter': 8581, '124': 8582, 'feedback': 8583, 'fukushima': 8584, 'primarily': 8585, 'blatter': 8586, 'kaif': 8587, 'gupta': 8588, 'canon': 8589, 'coupon': 8590, 'dominic': 8591, 'clearance': 8592, 'tissue': 8593, 'milo': 8594, 'diplomacy': 8595, 'khurshid': 8596, 'eni': 8597, 'rey': 8598, 'estonia': 8599, 'mercedesbenz': 8600, 'morale': 8601, 'labeouf': 8602, 'vulnerability': 8603, 'rafa': 8604, 'iain': 8605, 'tesla': 8606, 'booze': 8607, 'redistricting': 8608, 'gcc': 8609, 'clive': 8610, 'springbok': 8611, 'nkorea': 8612, 'porto': 8613, 'medic': 8614, 'newell': 8615, 'inspiration': 8616, 'trinidad': 8617, 'rockford': 8618, 'wisdom': 8619, 'receipt': 8620, 'clint': 8621, 'viagra': 8622, 'dmk': 8623, 'rex': 8624, 'hog': 8625, 'commonly': 8626, 'broward': 8627, 'hosting': 8628, 'siren': 8629, 'stalker': 8630, 'handcuff': 8631, 'rematch': 8632, 'kimoon': 8633, 'peacekeeping': 8634, 'counterterrorism': 8635, 'precaution': 8636, 'flynn': 8637, 'barricade': 8638, 'messaging': 8639, 'meaningful': 8640, 'spiral': 8641, '190': 8642, 'weisz': 8643, 'peso': 8644, 'sudbury': 8645, 'determination': 8646, 'vedanta': 8647, 'unnamed': 8648, 'subdivision': 8649, 'prey': 8650, 'fcc': 8651, 'tulare': 8652, 'bernardino': 8653, 'hotspot': 8654, 'chainsaw': 8655, 'rancho': 8656, 'brick': 8657, 'leslie': 8658, 'sunil': 8659, 'bushfire': 8660, 'stricken': 8661, 'massage': 8662, 'walgreens': 8663, 'uncomfortable': 8664, 't20': 8665, 'feud': 8666, 'pippa': 8667, 'justify': 8668, 'jo': 8669, 'diagnosis': 8670, 'solicit': 8671, 'curtain': 8672, 'known': 8673, 'ta': 8674, 'sheila': 8675, 'highend': 8676, 'shilpa': 8677, 'subprime': 8678, 'rhp': 8679, 'sgt': 8680, 'flint': 8681, 'italia': 8682, 'barak': 8683, 'etf': 8684, 'espionage': 8685, 'contention': 8686, 'nortel': 8687, 'moldova': 8688, 'mogadishu': 8689, 'detonate': 8690, 'authorization': 8691, 'connectivity': 8692, 'ruth': 8693, 'cadet': 8694, 'andrea': 8695, 'bakersfield': 8696, 'nasty': 8697, 'farooq': 8698, 'laurel': 8699, 'weston': 8700, 'din': 8701, 'fortis': 8702, 'klein': 8703, 'winstonsalem': 8704, 'steele': 8705, 'interfax': 8706, 'boast': 8707, 'uttarakhand': 8708, '43yearold': 8709, 'sebi': 8710, 'langley': 8711, 'cougar': 8712, 'capsizes': 8713, 'mongolia': 8714, 'nfc': 8715, 'existence': 8716, 'align': 8717, 'warfare': 8718, 'homemade': 8719, 'peoria': 8720, 'guardiola': 8721, 'mohali': 8722, 'sheryl': 8723, 'amar': 8724, 'lavigne': 8725, 'orchard': 8726, 'napa': 8727, 'embarrass': 8728, 'bunker': 8729, 'rajesh': 8730, 'asheville': 8731, 'weaker': 8732, 'choppy': 8733, 'notification': 8734, '26th': 8735, 'concentration': 8736, 'joyce': 8737, 'asias': 8738, 'wiggins': 8739, 'westfield': 8740, 'dire': 8741, 'profitable': 8742, 'conocophillips': 8743, 'ransom': 8744, 'bsp': 8745, 'fridays': 8746, 'telenor': 8747, 'rivalry': 8748, 'lenovo': 8749, 'mla': 8750, 'gymnastics': 8751, 'welch': 8752, 'becomes': 8753, '126': 8754, 'ailment': 8755, 'extortion': 8756, 'comptroller': 8757, 'osborne': 8758, 'renovate': 8759, 'projection': 8760, 'hawaiian': 8761, 'londonbased': 8762, '430': 8763, '49yearold': 8764, 'paralyze': 8765, 'vanderbilt': 8766, 'brunei': 8767, 'flour': 8768, 'mischief': 8769, 'tease': 8770, 'descend': 8771, 'donna': 8772, 'purple': 8773, '42yearold': 8774, 'nitin': 8775, 'undergone': 8776, 'seymour': 8777, 'belly': 8778, 'burress': 8779, 'twoweek': 8780, 'malayalam': 8781, 'outpost': 8782, 'hussein': 8783, 'salvage': 8784, 'bryce': 8785, 'intruder': 8786, 'olympia': 8787, '275': 8788, 'lynchburg': 8789, 'dirk': 8790, 'roanoke': 8791, 'seacrest': 8792, 'bragg': 8793, 'neighbourhood': 8794, 'ventura': 8795, 'kirsten': 8796, 'incoming': 8797, 'werder': 8798, 'manipulate': 8799, '29th': 8800, 'laud': 8801, 'glaxosmithkline': 8802, 'gibbs': 8803, 'crux': 8804, 'tamper': 8805, 'profession': 8806, 'barlow': 8807, 'niger': 8808, 'leona': 8809, 'costars': 8810, 'hindustan': 8811, 'carlton': 8812, 'generale': 8813, 'prediction': 8814, 'toro': 8815, 'strive': 8816, 'outburst': 8817, 'enthusiast': 8818, 'developed': 8819, 'thug': 8820, 'pesticide': 8821, 'contributor': 8822, 'coating': 8823, 'natasha': 8824, '144': 8825, 'scifi': 8826, 'chen': 8827, 'nbcs': 8828, 'luggage': 8829, 'dekalb': 8830, 'parallel': 8831, 'lakshmi': 8832, 'milford': 8833, 'doping': 8834, 'motorbike': 8835, 'nursery': 8836, 'sainsburys': 8837, 'inventor': 8838, 'gosling': 8839, 'barney': 8840, 'brittany': 8841, 'educate': 8842, 'joplin': 8843, 'bundle': 8844, 'olympian': 8845, 'dioxide': 8846, 'extinguish': 8847, 'pleasure': 8848, 'superhero': 8849, '117': 8850, 'wrongdoing': 8851, 'cake': 8852, 'beneath': 8853, '41yearold': 8854, 'pardew': 8855, 'thumb': 8856, 'artillery': 8857, 'humble': 8858, 'redmond': 8859, '13000': 8860, 'jefferies': 8861, 'chemistry': 8862, 'hopper': 8863, 'mia': 8864, 'caste': 8865, 'crab': 8866, 'cesar': 8867, 'migrate': 8868, 'decent': 8869, 'alligator': 8870, 'hayward': 8871, 'swindon': 8872, 'diversity': 8873, 'worm': 8874, 'amarnath': 8875, 'tally': 8876, 'ml': 8877, 'oversold': 8878, 'stuttgart': 8879, '17000': 8880, 'villarreal': 8881, '114': 8882, 'coincide': 8883, 'kyiv': 8884, 'fairbanks': 8885, 'carve': 8886, 'autistic': 8887, 'shade': 8888, 'heist': 8889, 'conventional': 8890, 'salina': 8891, 'quiz': 8892, 'oxygen': 8893, 'ramsay': 8894, 'guatemala': 8895, 'bedford': 8896, 'xfactor': 8897, 'degeneres': 8898, 'woody': 8899, 'pinto': 8900, 'lcd': 8901, 'reluctant': 8902, 'variant': 8903, 'simulation': 8904, 'spouse': 8905, 'samesex': 8906, 'sharjah': 8907, 'sunset': 8908, 'informal': 8909, 'anton': 8910, 'amd': 8911, 'fortnight': 8912, 'rift': 8913, 'elaborate': 8914, 'provisional': 8915, 'medallist': 8916, 'papua': 8917, 'planner': 8918, 'pant': 8919, 'ict': 8920, 'grassroots': 8921, 'impairment': 8922, 'sufferer': 8923, 'valid': 8924, 'aluminium': 8925, 'gadkari': 8926, 'residency': 8927, 'captive': 8928, 'haye': 8929, 'digit': 8930, 'no1': 8931, 'fiancé': 8932, 'propaganda': 8933, 'brotherhood': 8934, 'fujitsu': 8935, 'oneida': 8936, 'kiran': 8937, 'jimmie': 8938, 'snooki': 8939, 'racism': 8940, 'bleed': 8941, 'unwanted': 8942, 'sundance': 8943, 'sd': 8944, 'fractured': 8945, 'husky': 8946, 'onstage': 8947, 'condom': 8948, 'harrisburg': 8949, '145': 8950, 'insolvency': 8951, 'coyle': 8952, 'secretariat': 8953, 'strategist': 8954, 'reggie': 8955, 'buckingham': 8956, 'ladder': 8957, '10yearold': 8958, 'saleh': 8959, 'sabotage': 8960, 'refining': 8961, 'lavrov': 8962, 'everyday': 8963, 'enrique': 8964, 'competent': 8965, 'interpol': 8966, 'caldwell': 8967, 'fond': 8968, 'vary': 8969, 'sever': 8970, 'ivan': 8971, 'excess': 8972, 'moreno': 8973, 'ci': 8974, 'seventime': 8975, 'surprising': 8976, 'gon': 8977, 'gmbh': 8978, 'specter': 8979, 'dui': 8980, 'expertise': 8981, '750000': 8982, 'pre': 8983, 'peres': 8984, 'pasadena': 8985, 'sharad': 8986, 'africanamerican': 8987, 'transformer': 8988, 'airstrikes': 8989, 'useful': 8990, 'watt': 8991, 'titanic': 8992, 'curriculum': 8993, 'fold': 8994, 'essay': 8995, 'enrol': 8996, 'slaying': 8997, 'varun': 8998, 'bethlehem': 8999, 'bancshares': 9000, 'salesforcecom': 9001, 'rowland': 9002, 'brom': 9003, '149': 9004, 'objective': 9005, '830': 9006, 'fdi': 9007, 'fails': 9008, 'atrocity': 9009, 'gervais': 9010, 'erdogan': 9011, 'oslo': 9012, 'technician': 9013, 'bing': 9014, 'saver': 9015, 'extract': 9016, 'dorset': 9017, 'bravo': 9018, 'iberia': 9019, 'unmanned': 9020, 'albans': 9021, 'clone': 9022, 'fabrice': 9023, 'thigh': 9024, 'digest': 9025, 'economically': 9026, 'pelt': 9027, '7500': 9028, 'vergara': 9029, 'companion': 9030, 'atlas': 9031, 'influenza': 9032, 'icelandic': 9033, 'rita': 9034, 'shrug': 9035, 'denny': 9036, 'hamlin': 9037, 'rss': 9038, 'sniper': 9039, 'phrase': 9040, 'hollyoaks': 9041, 'tate': 9042, 'mccoy': 9043, 'radioactive': 9044, 'pettitte': 9045, 'csi': 9046, 'norris': 9047, 'playwright': 9048, 'sheriffs': 9049, 'vp': 9050, 'decides': 9051, '116': 9052, 'lamar': 9053, 'erik': 9054, 'akshay': 9055, 'padukone': 9056, 'dome': 9057, 'worship': 9058, 'viva': 9059, 'prospective': 9060, 'diocese': 9061, 'needy': 9062, 'ce': 9063, 'nationalist': 9064, 'petrobras': 9065, 'minivan': 9066, 'glamour': 9067, 'tj': 9068, 'ing': 9069, 'bucharest': 9070, 'bligh': 9071, 'pueblo': 9072, 'qatari': 9073, 'shuts': 9074, 'posco': 9075, 'installment': 9076, 'downside': 9077, 'slice': 9078, 'sophie': 9079, 'artery': 9080, 'battlefield': 9081, 'hello': 9082, 'tenth': 9083, 'sahara': 9084, 'eligibility': 9085, 'dreamworks': 9086, 'brew': 9087, 'highness': 9088, 'scary': 9089, 'performanceenhancing': 9090, 'cody': 9091, 'regardless': 9092, 'franken': 9093, 'peanut': 9094, 'butter': 9095, 'submission': 9096, 'raptor': 9097, 'mishap': 9098, 'affected': 9099, 'leach': 9100, 'pinnacle': 9101, 'relaunches': 9102, 'sargsyan': 9103, 'stave': 9104, 'ecclestone': 9105, 'evangelist': 9106, 'gartner': 9107, 'unacceptable': 9108, 'sinkhole': 9109, 'botswana': 9110, 'referral': 9111, '165': 9112, 'predecessor': 9113, 'wholesaler': 9114, 'favorable': 9115, '325': 9116, 'jungle': 9117, 'refusal': 9118, 'matchup': 9119, 'behave': 9120, 'procter': 9121, 'amr': 9122, 'lag': 9123, 'instagram': 9124, 'ky': 9125, 'greensboro': 9126, 'relaunched': 9127, 'yearlong': 9128, 'unveiled': 9129, 'chemotherapy': 9130, 'varsity': 9131, 'indulge': 9132, 'marcos': 9133, 'hanoi': 9134, 'acer': 9135, 'disperse': 9136, 'watched': 9137, 'recreational': 9138, 'werent': 9139, 'jordanian': 9140, 'midst': 9141, 'marian': 9142, 'macys': 9143, 'diwali': 9144, 'ira': 9145, 'famer': 9146, 'mian': 9147, 'jeweller': 9148, 'retention': 9149, 'hulu': 9150, 'ghanaian': 9151, 'microsofts': 9152, 'contentious': 9153, 'dunkin': 9154, '118': 9155, 'merck': 9156, 'automate': 9157, 'emmanuel': 9158, 'lampard': 9159, 'mug': 9160, 'mango': 9161, 'zaman': 9162, 'lima': 9163, '16000': 9164, 'accordance': 9165, 'ont': 9166, 'captivity': 9167, 'thursdays': 9168, 'potash': 9169, 'eating': 9170, 'poorly': 9171, 'diverse': 9172, 'toni': 9173, 'sidewalk': 9174, 'dampen': 9175, 'juniper': 9176, 'timely': 9177, 'postseason': 9178, 'intimidate': 9179, 'frost': 9180, 'loop': 9181, 'temper': 9182, 'gadget': 9183, 'ratan': 9184, 'considerable': 9185, 'rubble': 9186, 'baylor': 9187, 'impending': 9188, 'kwazulunatal': 9189, '1997': 9190, 'ba': 9191, 'northbound': 9192, 'hollande': 9193, 'spitzer': 9194, 'shreveport': 9195, 'jonny': 9196, 'pt': 9197, 'eaton': 9198, 'questionable': 9199, 'lenny': 9200, 'stripper': 9201, 'flush': 9202, 'stepfather': 9203, 'cocoa': 9204, 'northrop': 9205, 'stumble': 9206, 'decree': 9207, 'flurry': 9208, 'recount': 9209, 'sprained': 9210, 'soda': 9211, 'jeter': 9212, 'skid': 9213, 'prepared': 9214, 'bn': 9215, 'preside': 9216, 'idiot': 9217, 'acceptance': 9218, '1994': 9219, 'kathy': 9220, 'tasmania': 9221, 'wang': 9222, 'regis': 9223, 'ar': 9224, 'explicit': 9225, 'homophobic': 9226, 'destiny': 9227, 'choreographer': 9228, 'conditional': 9229, 'jongil': 9230, 'mma': 9231, 'mack': 9232, 'solicitation': 9233, 'collateral': 9234, 'motherhood': 9235, 'farmington': 9236, 'annie': 9237, 'witch': 9238, 'goodwin': 9239, '2022': 9240, 'latvia': 9241, 'congresswoman': 9242, 'allahabad': 9243, 'bhopal': 9244, 'randolph': 9245, 'bolivian': 9246, 'monopoly': 9247, 'congestion': 9248, 'unnecessary': 9249, 'pantry': 9250, 'ethernet': 9251, 'arrange': 9252, 'karabakh': 9253, 'johar': 9254, 'molecule': 9255, 'germanys': 9256, 'sarawak': 9257, 'os': 9258, 'fountain': 9259, 'mf': 9260, 'pare': 9261, 'erupts': 9262, 'kidd': 9263, 'extramarital': 9264, 'middletown': 9265, 'bowie': 9266, 'optimize': 9267, 'carling': 9268, 'shall': 9269, 'groom': 9270, 'dysfunction': 9271, 'shrewsbury': 9272, 'boob': 9273, 'brock': 9274, 'proposition': 9275, 'procession': 9276, 'exemption': 9277, 'dee': 9278, 'sonny': 9279, 'flavor': 9280, 'falter': 9281, 'malicious': 9282, 'alma': 9283, 'taser': 9284, 'astronomer': 9285, 'unarmed': 9286, 'microwave': 9287, 'unsafe': 9288, 'brewing': 9289, 'woolworth': 9290, 'kayak': 9291, 'allergy': 9292, 'suresh': 9293, 'puzzle': 9294, 'carnegie': 9295, 'wagon': 9296, 'psychologist': 9297, 'mormon': 9298, 'vocalist': 9299, 'provoke': 9300, 'baird': 9301, 'sag': 9302, 'muse': 9303, 'middlesex': 9304, 'cautiously': 9305, 'manhunt': 9306, 'wolverine': 9307, 'forced': 9308, 'asteroid': 9309, 'clamp': 9310, 'warsaw': 9311, 'biotech': 9312, 'boehner': 9313, 'dispose': 9314, 'sent': 9315, 'unhappy': 9316, 'latenight': 9317, 'bladder': 9318, 'bodyguard': 9319, 'edison': 9320, 'quincy': 9321, 'symposium': 9322, 'asleep': 9323, 'cnns': 9324, 'applaud': 9325, 'volcanic': 9326, 'karim': 9327, 'barbour': 9328, 'piano': 9329, 'phenomenon': 9330, 'financier': 9331, 'staffer': 9332, 'duet': 9333, 'ghaziabad': 9334, 'grim': 9335, 'montenegro': 9336, 'saunders': 9337, 'buchanan': 9338, 'theyll': 9339, 'genoa': 9340, 'machete': 9341, 'hatton': 9342, 'balanced': 9343, 'foley': 9344, 'pause': 9345, 'knowles': 9346, 'idle': 9347, 'aleppo': 9348, 'unofficial': 9349, 'plow': 9350, 'snag': 9351, 'sheridan': 9352, 'raton': 9353, 'yatra': 9354, 'dunedin': 9355, 'melanie': 9356, 'rae': 9357, 'cherry': 9358, 'monthlong': 9359, 'ark': 9360, 'woodward': 9361, 'venice': 9362, 'mourner': 9363, '128': 9364, 'underlying': 9365, 'beneficiary': 9366, 'handler': 9367, 'granite': 9368, 'liu': 9369, 'chatham': 9370, 'gazette': 9371, 'westjet': 9372, 'dolly': 9373, 'urgently': 9374, 'cubic': 9375, 'noida': 9376, 'stiff': 9377, 'underwater': 9378, 'footwear': 9379, 'qureshi': 9380, 'redding': 9381, 'warwick': 9382, 'rendell': 9383, 'waterfront': 9384, 'impasse': 9385, 'gorge': 9386, 'madness': 9387, 'parma': 9388, 'holden': 9389, 'connector': 9390, 'rowan': 9391, 'grumman': 9392, 'homebuilder': 9393, 'cater': 9394, 'precede': 9395, 'accessible': 9396, 'davenport': 9397, 'roadway': 9398, 'coke': 9399, 'janeiro': 9400, 'blitz': 9401, 'deepwater': 9402, 'stormers': 9403, 'rhodes': 9404, 'ioc': 9405, 'sr': 9406, 'tin': 9407, 'genuine': 9408, 'behead': 9409, 'lens': 9410, 'benazir': 9411, 'liberian': 9412, 'joshi': 9413, 'cheshire': 9414, 'merchandise': 9415, 'raf': 9416, 'roast': 9417, 'ansari': 9418, 'serzh': 9419, 'catastrophe': 9420, 'derrick': 9421, 'branson': 9422, 'chavan': 9423, 'crawl': 9424, 'villain': 9425, 'protectionism': 9426, 'cherokee': 9427, 'rbc': 9428, 'pinellas': 9429, 'marriott': 9430, 'cobra': 9431, '340': 9432, 'ravage': 9433, 'homecoming': 9434, 'codeshare': 9435, 'santander': 9436, 'santana': 9437, 'roberts': 9438, 'hdfc': 9439, 'litigation': 9440, 'fossil': 9441, 'accommodation': 9442, 'modesto': 9443, 'xm': 9444, 'uma': 9445, 'undergoing': 9446, 'parity': 9447, 'lowest': 9448, 'appropriation': 9449, 'newtown': 9450, 'winston': 9451, 'lately': 9452, 'hears': 9453, 'garment': 9454, 'highlander': 9455, '1849': 9456, 'weiner': 9457, 'mafia': 9458, 'reassign': 9459, 'hydrogen': 9460, 'roth': 9461, 'affleck': 9462, 'rosie': 9463, 'salmon': 9464, 'limbaugh': 9465, 'trespass': 9466, 'preschool': 9467, 'dependence': 9468, 'psa': 9469, 'hajj': 9470, 'patron': 9471, 'childcare': 9472, 'remembers': 9473, 'unlawfully': 9474, 'doyle': 9475, 'endorses': 9476, 'hanover': 9477, 'rollsroyce': 9478, 'a380': 9479, 'itartass': 9480, 'constitute': 9481, 'ligue': 9482, 'exceptional': 9483, 'cracker': 9484, 'gauge': 9485, 'kathmandu': 9486, 'wednesdays': 9487, 'edible': 9488, 'gannett': 9489, 'cruiser': 9490, 'literally': 9491, 'blonde': 9492, 'countdown': 9493, 'vargas': 9494, 'ri': 9495, 'slate': 9496, 'rugged': 9497, '2yearold': 9498, 'megawatt': 9499, 'crosse': 9500, 'aditya': 9501, 'anders': 9502, 'drawing': 9503, 'classify': 9504, 'pretend': 9505, 'sect': 9506, 'prudential': 9507, 'graeme': 9508, 'thwart': 9509, 'capitalize': 9510, 'disk': 9511, 'encouraging': 9512, 'ambani': 9513, 'nordic': 9514, 'strikeforce': 9515, 'rabbi': 9516, 'racine': 9517, 'rascal': 9518, '787': 9519, 'greenwood': 9520, 'contra': 9521, 'kareena': 9522, 'somewhat': 9523, 'directive': 9524, 'paradise': 9525, 'passionate': 9526, 'downey': 9527, 'innovator': 9528, 'goldberg': 9529, 'danville': 9530, 'investigative': 9531, 'kannada': 9532, 'heating': 9533, 'hooker': 9534, 'trinations': 9535, 'seyfried': 9536, 'grandparent': 9537, 'etc': 9538, 'greenwich': 9539, 'cebu': 9540, 'heartbeat': 9541, 'clarksville': 9542, 'arthroscopic': 9543, 'ypsilanti': 9544, 'shashi': 9545, 'tharoor': 9546, 'donut': 9547, '1993': 9548, 'nagornokarabakh': 9549, 'sibling': 9550, 'planting': 9551, 'ibf': 9552, 'blackrock': 9553, 'jetstar': 9554, 'playmaker': 9555, '80000': 9556, 'random': 9557, 'withhold': 9558, 'extent': 9559, 'tweed': 9560, 'downplay': 9561, 'barbados': 9562, 'romeo': 9563, '1980s': 9564, 'ramon': 9565, 'bcs': 9566, 'picket': 9567, 'orientation': 9568, 'italys': 9569, 'onion': 9570, 'stearns': 9571, 'chill': 9572, 'writing': 9573, 'kindergarten': 9574, 'feat': 9575, 'gambling': 9576, 'braxton': 9577, 'olympus': 9578, 'readiness': 9579, 'ditalia': 9580, 'semester': 9581, 'applicant': 9582, '48yearold': 9583, 'hype': 9584, 'beg': 9585, 'mladic': 9586, 'ramsey': 9587, 'skeletal': 9588, '24hour': 9589, 'viable': 9590, 'beard': 9591, 'juice': 9592, 'slumdog': 9593, 'spat': 9594, 'practitioner': 9595, '1030': 9596, 'jk': 9597, 'doc': 9598, 'avon': 9599, 'dose': 9600, 'pursuant': 9601, 'ribbon': 9602, 'inhalation': 9603, 'maurice': 9604, 'rhino': 9605, 'niro': 9606, 'annuity': 9607, 'tacoma': 9608, 'girls': 9609, 'westbrook': 9610, 'vault': 9611, 'vera': 9612, 'environmentally': 9613, 'vaughn': 9614, 'moses': 9615, 'mortality': 9616, 'innocence': 9617, 'sufficient': 9618, 'sinking': 9619, 'showtime': 9620, 'deaf': 9621, 'monarch': 9622, 'enormous': 9623, '201314': 9624, 'breaker': 9625, 'spite': 9626, 'expectancy': 9627, 'shakira': 9628, 'revised': 9629, 'texting': 9630, 'frustrate': 9631, 'beacon': 9632, 'karadzic': 9633, 'hydro': 9634, 'glendale': 9635, 'prep': 9636, 'seve': 9637, 'ingram': 9638, 'rotation': 9639, 'shelby': 9640, 'garfield': 9641, 'bournemouth': 9642, 'lobster': 9643, 'benton': 9644, 'cache': 9645, 'sacha': 9646, 'sings': 9647, '1995': 9648, 'rupture': 9649, 'concedes': 9650, 'neymar': 9651, 'winery': 9652, 'cindy': 9653, 'amaze': 9654, 'bipolar': 9655, 'tremendous': 9656, 'beyoncé': 9657, 'cayman': 9658, 'chi': 9659, 'disappointed': 9660, 'extends': 9661, 'dismisses': 9662, 'subcommittee': 9663, 'landowner': 9664, 'microsystems': 9665, 'dal': 9666, 'trayvon': 9667, '1990s': 9668, 'teddy': 9669, 'getaway': 9670, 'casper': 9671, 'novartis': 9672, 'fonterra': 9673, 'belleville': 9674, 'takeoff': 9675, 'analyze': 9676, 'affiliation': 9677, 'unrelated': 9678, 'curtail': 9679, 'collar': 9680, 'mont': 9681, 'shouldnt': 9682, 'wideranging': 9683, 'racially': 9684, 'productive': 9685, 'fifty': 9686, 'ebooks': 9687, 'prospectus': 9688, 'pillar': 9689, 'binge': 9690, 'cw': 9691, 'fairly': 9692, 'demographic': 9693, 'symantec': 9694, 'recycling': 9695, 'kagan': 9696, 'ashraf': 9697, 'chopper': 9698, 'glad': 9699, 'chorus': 9700, 'greer': 9701, 'intraday': 9702, 'screenwriter': 9703, 'silverstone': 9704, 'evangelical': 9705, 'spoil': 9706, 'rabid': 9707, 'stalemate': 9708, 'maneuver': 9709, 'arcade': 9710, 'carp': 9711, 'easley': 9712, 'erect': 9713, 'breakup': 9714, 'gregg': 9715, 'qamar': 9716, 'samaritan': 9717, 'wagner': 9718, 'paolo': 9719, 'sai': 9720, 'wes': 9721, 'embargo': 9722, 'buddhist': 9723, 'nina': 9724, 'aspire': 9725, 'slew': 9726, 'technologies': 9727, 'therapist': 9728, 'elisabeth': 9729, 'philanthropist': 9730, 'badminton': 9731, 'guild': 9732, 'mischa': 9733, 'fulton': 9734, 'guillermo': 9735, 'deliberation': 9736, 'rana': 9737, 'steadily': 9738, 'humiliate': 9739, 'archer': 9740, 'turbulent': 9741, 'wartorn': 9742, 'patrice': 9743, 'preparedness': 9744, 'curse': 9745, 'ty': 9746, 'jewel': 9747, 'koreas': 9748, 'dent': 9749, 'involuntary': 9750, 'agitation': 9751, 'achilles': 9752, 'demo': 9753, 'imaging': 9754, 'hubby': 9755, 'heap': 9756, 'nextgeneration': 9757, 'showbiz': 9758, 'missionary': 9759, 'rooftop': 9760, 'dikshit': 9761, 'ndp': 9762, 'califbased': 9763, 'sheldon': 9764, 'inverness': 9765, 'fraternity': 9766, 'practical': 9767, 'calorie': 9768, 'handheld': 9769, 'kaira': 9770, 'doodle': 9771, 'delinquency': 9772, 'compensate': 9773, 'elevate': 9774, 'fool': 9775, 'bidding': 9776, 'interference': 9777, 'darlington': 9778, 'indians': 9779, 'unleash': 9780, 'vidya': 9781, 'guyana': 9782, 'bore': 9783, 'sammy': 9784, 'challenging': 9785, 'clothe': 9786, 'mistress': 9787, 'abrams': 9788, 'literary': 9789, 'quad': 9790, 'invent': 9791, 'oshkosh': 9792, '55yearold': 9793, 'kern': 9794, 'coliseum': 9795, '24kg': 9796, 'prague': 9797, 'eps': 9798, 'cameo': 9799, 'suez': 9800, 'emanuel': 9801, 'meaning': 9802, 'pinch': 9803, 'liken': 9804, 'ajit': 9805, 'geelong': 9806, 'waikato': 9807, 'wiz': 9808, 'unborn': 9809, 'ablaze': 9810, 'ovation': 9811, 'decatur': 9812, 'bynum': 9813, 'irving': 9814, 'threematch': 9815, 'hbos': 9816, 'poke': 9817, 'wikipedia': 9818, '70th': 9819, 'supervise': 9820, 'tailor': 9821, 'dortmund': 9822, 'contraction': 9823, 'superb': 9824, 'ernie': 9825, 'bruni': 9826, 'weber': 9827, 'automated': 9828, 'captaincy': 9829, 'launcher': 9830, 'ballesteros': 9831, 'grind': 9832, 'writes': 9833, 'leighton': 9834, 'floodwaters': 9835, 'illicit': 9836, 'fremont': 9837, 'petronas': 9838, 'pele': 9839, 'ayatollah': 9840, 'depict': 9841, 'peabody': 9842, 'gmt': 9843, 'osprey': 9844, '1992': 9845, 'stormy': 9846, 'patricia': 9847, 'bombardier': 9848, 'collaborative': 9849, 'realistic': 9850, 'duffy': 9851, 'swung': 9852, 'orphan': 9853, 'judgement': 9854, 'culver': 9855, 'salesman': 9856, 'cb': 9857, 'graf': 9858, 'swipe': 9859, 'hypothermia': 9860, 'watertown': 9861, 'unify': 9862, 'bare': 9863, 'shakeup': 9864, 'yale': 9865, 'financials': 9866, 'cme': 9867, 'mcnair': 9868, 'g8': 9869, 'devotee': 9870, 'sk': 9871, 'ware': 9872, 'isd': 9873, 'ebook': 9874, 'loaded': 9875, 'lockdown': 9876, '270': 9877, 'odom': 9878, 'annan': 9879, 'poetry': 9880, 'ignite': 9881, 'stark': 9882, 'worst': 9883, 'lo': 9884, 'sober': 9885, 'falsely': 9886, 'dole': 9887, 'crest': 9888, 'airwave': 9889, 's3': 9890, 'fancy': 9891, 'molly': 9892, 'insect': 9893, 'footstep': 9894, 'richland': 9895, 'marquette': 9896, 'ozzy': 9897, 'sclerosis': 9898, 'rockstar': 9899, 'ongc': 9900, 'interrogation': 9901, 'protective': 9902, 'sway': 9903, 'tar': 9904, 'reyes': 9905, 'whenever': 9906, 'quarantine': 9907, 'locomotive': 9908, 'distraction': 9909, 'operative': 9910, 'dialysis': 9911, 'vitali': 9912, 'watkins': 9913, 'beth': 9914, 'gee': 9915, 'rashid': 9916, 'dense': 9917, 'secondround': 9918, 'andrei': 9919, 'evansville': 9920, 'inadequate': 9921, 'julie': 9922, 'claiming': 9923, 'backward': 9924, 'fsa': 9925, 'revolt': 9926, 'azad': 9927, 'eduardo': 9928, 'detour': 9929, 'festivity': 9930, '1990': 9931, 'tomato': 9932, 'homs': 9933, 'basra': 9934, 'speculate': 9935, 'monterey': 9936, 'dinosaur': 9937, 'granholm': 9938, 'cooking': 9939, 'gemma': 9940, 'ecstasy': 9941, 'gram': 9942, 'isolated': 9943, 'kroger': 9944, 'caspian': 9945, '75th': 9946, 'mumford': 9947, 'schoolboy': 9948, 'yulia': 9949, '51yearold': 9950, 'infectious': 9951, 'guwahati': 9952, 'annoy': 9953, '2611': 9954, 'mlbcom': 9955, '137': 9956, 'firsttime': 9957, 'stump': 9958, 'ivanovic': 9959, 'preacher': 9960, 'kenneth': 9961, 'zack': 9962, 'showcased': 9963, 'informant': 9964, 'cahill': 9965, 'ombudsman': 9966, 'unconstitutional': 9967, 'belle': 9968, 'odisha': 9969, 'pellet': 9970, '2030': 9971, 'lac': 9972, 'stevie': 9973, '475': 9974, 'bleak': 9975, 'darkness': 9976, 'amit': 9977, '700000': 9978, 'wozniacki': 9979, 'manitowoc': 9980, 'conserve': 9981, 'oswego': 9982, 'rebuke': 9983, 'foxconn': 9984, 'sour': 9985, 'saif': 9986, 'eyed': 9987, 'pic': 9988, 'grope': 9989, 'sims': 9990, 'sideways': 9991, 'fidelity': 9992, 'huntsville': 9993, 'thames': 9994, 'singing': 9995, 'televise': 9996, 'handling': 9997, 'echl': 9998, 'discontinue': 9999}\n"
     ]
    }
   ],
   "source": [
    "vocab_size = 10_000\n",
    "vocab = vocab_counter.most_common(vocab_size)\n",
    "token_to_id = {word: i for i, (word, _) in enumerate(vocab)}\n",
    "print(token_to_id)"
   ]
  },
  {
   "cell_type": "markdown",
   "metadata": {
    "collapsed": false,
    "pycharm": {
     "name": "#%% md\n"
    }
   },
   "source": [
    "<a name='e4'></a>\n",
    "### Exercise 4: Bag of Words\n",
    "(1p) Here we will create the bag-of-words representation of the sentences. The function will take a single sentence (list of tokens) and return an array of size `vocab_size` with the counts of each word in the vocabulary. The\n",
    "`vocab_size` is calculated as the length of the passed `token_to_id` dictionary. The resulting array should have zeros everywhere but the indices corresponding to the words in the vocabulary where it should have the counts of the words in the sentence. For example, if the sentence is `['fox', 'and', 'deer']` and the vocabulary is `{'fox': 0, 'and': 1, 'deer': 2}`, the resulting array should be `[1, 1, 1]`. If the sentence is `['fox', 'and', 'fox', 'deer']`, the resulting array should be `[2, 1, 1]`."
   ]
  },
  {
   "cell_type": "code",
   "execution_count": 23,
   "metadata": {
    "collapsed": false,
    "pycharm": {
     "name": "#%%\n"
    }
   },
   "outputs": [],
   "source": [
    "def bag_of_words(sentence, token_to_id):\n",
    "    \"\"\"\n",
    "    Creates a bag-of-words representation of the sentence\n",
    "    Args:\n",
    "        sentence: a list of tokens\n",
    "        token_to_id: a dictionary mapping each word to an index in the vocabulary\n",
    "\n",
    "    Returns:: a numpy array of size vocab_size with the counts of each word in the vocabulary\n",
    "\n",
    "    \"\"\"\n",
    "    vocab_size = len(token_to_id)\n",
    "    bow = np.zeros(vocab_size, dtype=int)\n",
    "\n",
    "    ### YOUR CODE HERE\n",
    "\n",
    "    for n in sentence:\n",
    "        if n in token_to_id.keys():\n",
    "            id = token_to_id[n]\n",
    "            bow[id]+=1\n",
    "\n",
    "\n",
    "\n",
    "    ### YOUR CODE ENDS HERE\n",
    "\n",
    "    return bow"
   ]
  },
  {
   "cell_type": "markdown",
   "metadata": {
    "collapsed": false,
    "pycharm": {
     "name": "#%% md\n"
    }
   },
   "source": [
    "Let's see how the function works on a single sentence. The output should be a numpy array of size `vocab_size` with the counts of each word in the vocabulary."
   ]
  },
  {
   "cell_type": "code",
   "execution_count": 24,
   "metadata": {
    "collapsed": false,
    "pycharm": {
     "name": "#%%\n"
    }
   },
   "outputs": [
    {
     "name": "stdout",
     "output_type": "stream",
     "text": [
      "Tokenized sentence:\n",
      "['a', 'rebound', 'in', 'export', 'by', 'the', 'battered', 'auto', 'industry', 'help', 'canada', 'post', 'a', 'small', 'trade', 'surplus', 'in', 'february', 'of', '126', 'million', 'after', 'slide', 'into', 'the', 'big', 'trade', 'deficit', 'on', 'record', 'in', 'january', 'statistic', 'canada', 'say', 'on', 'thursday']\n",
      "Bag of words:\n",
      "[2 2 0 ... 0 0 0]\n",
      "Type of bag of words:\n",
      "<class 'numpy.ndarray'>\n",
      "Shape of bag of words:\n",
      "(10000,)\n",
      "Non-zero elements in bag of words:\n",
      "[   0    1    3    4    7   12   16   19   46   55   57  140  179  206\n",
      "  209  300  327  545  563  593  652  844 1311 1376 1764 2061 2315 3638\n",
      " 8754]\n"
     ]
    }
   ],
   "source": [
    "print('Tokenized sentence:')\n",
    "print(tokenized_sentences[0])\n",
    "sentence_bow = bag_of_words(tokenized_sentences[0], token_to_id)\n",
    "\n",
    "print('Bag of words:')\n",
    "print(sentence_bow)\n",
    "print('Type of bag of words:')\n",
    "print(type(sentence_bow))\n",
    "print('Shape of bag of words:')\n",
    "print(sentence_bow.shape)\n",
    "print('Non-zero elements in bag of words:')\n",
    "print(np.nonzero(sentence_bow)[0])"
   ]
  },
  {
   "cell_type": "markdown",
   "metadata": {
    "collapsed": false,
    "pycharm": {
     "name": "#%% md\n"
    }
   },
   "source": [
    "We can also check in detail what words and their counts are in the bag-of-words representation."
   ]
  },
  {
   "cell_type": "code",
   "execution_count": 25,
   "metadata": {
    "collapsed": false,
    "pycharm": {
     "name": "#%%\n"
    }
   },
   "outputs": [
    {
     "name": "stdout",
     "output_type": "stream",
     "text": [
      "Non-zero elements in bag of words:\n",
      "[   0    1    3    4    7   12   16   19   46   55   57  140  179  206\n",
      "  209  300  327  545  563  593  652  844 1311 1376 1764 2061 2315 3638\n",
      " 8754]\n",
      "the : 2\n",
      "a : 2\n",
      "in : 3\n",
      "of : 1\n",
      "on : 2\n",
      "say : 1\n",
      "by : 1\n",
      "after : 1\n",
      "thursday : 1\n",
      "million : 1\n",
      "into : 1\n",
      "help : 1\n",
      "record : 1\n",
      "big : 1\n",
      "trade : 2\n",
      "industry : 1\n",
      "post : 1\n",
      "small : 1\n",
      "canada : 2\n",
      "january : 1\n",
      "february : 1\n",
      "export : 1\n",
      "deficit : 1\n",
      "auto : 1\n",
      "rebound : 1\n",
      "statistic : 1\n",
      "slide : 1\n",
      "surplus : 1\n",
      "126 : 1\n"
     ]
    }
   ],
   "source": [
    "sentence_non_zero_bow = np.nonzero(sentence_bow)[0]\n",
    "print('Non-zero elements in bag of words:')\n",
    "print(sentence_non_zero_bow)\n",
    "for i in sentence_non_zero_bow:\n",
    "    print(vocab[i][0], ':', sentence_bow[i])"
   ]
  },
  {
   "cell_type": "markdown",
   "metadata": {
    "collapsed": false,
    "pycharm": {
     "name": "#%% md\n"
    }
   },
   "source": [
    "The following function will apply all the steps we implemented to a single sentence. It returns a bag of words representation that we will use to calculate the similarity between different sentences."
   ]
  },
  {
   "cell_type": "code",
   "execution_count": 26,
   "metadata": {
    "collapsed": false,
    "pycharm": {
     "name": "#%%\n"
    }
   },
   "outputs": [],
   "source": [
    "def embed_text(text, clean_fn, tokenize_fn, embed_fn):\n",
    "    cleaned = clean_fn(text)\n",
    "    tokens = tokenize_fn(cleaned)\n",
    "    embedding = embed_fn(tokens)\n",
    "    return embedding"
   ]
  },
  {
   "cell_type": "markdown",
   "metadata": {
    "collapsed": false,
    "pycharm": {
     "name": "#%% md\n"
    }
   },
   "source": [
    "<a name='e5'></a>\n",
    "### Exercise 5: Cosine Similarity between two vectors\n",
    "\n",
    "(1p) Complete the following function that given any two vectors will compute the cosine similarity. If you don't remember the formula for the cosine similarity, revisit the course material. Notice that the function receives numpy arrays and recall that you can express cosine similarity as a dot product. Use numpy functions to write an efficient implementation."
   ]
  },
  {
   "cell_type": "code",
   "execution_count": 27,
   "metadata": {
    "collapsed": false,
    "pycharm": {
     "name": "#%%\n"
    }
   },
   "outputs": [],
   "source": [
    "def cosine_similarity(vector1, vector2):\n",
    "    \"\"\"\n",
    "    Computes the cosine similarity between two vectors\n",
    "    Args:\n",
    "        vector1: numpy array of the first vector\n",
    "        vector2: numpy array of the second vector\n",
    "\n",
    "    Returns: cosine similarity\n",
    "\n",
    "    \"\"\"\n",
    "    ### YOUR CODE HERE\n",
    "    norm_1 = np.linalg.norm(vector1)\n",
    "    normalized_vec_1 = vector1/norm_1\n",
    "\n",
    "    norm_2 = np.linalg.norm(vector2)\n",
    "    normalized_vec_2 = vector2/norm_2\n",
    "\n",
    "    similarity = np.dot(normalized_vec_1, normalized_vec_2)\n",
    "\n",
    "    return similarity\n",
    "    ### YOUR CODE ENDS HERE"
   ]
  },
  {
   "cell_type": "code",
   "execution_count": 28,
   "metadata": {
    "collapsed": false,
    "pycharm": {
     "name": "#%%\n"
    }
   },
   "outputs": [
    {
     "data": {
      "text/plain": [
       "0.9999999999999999"
      ]
     },
     "execution_count": 28,
     "metadata": {},
     "output_type": "execute_result"
    }
   ],
   "source": [
    "cosine_similarity(np.array([0, 1, 2]), np.array([0, 2, 4]))"
   ]
  },
  {
   "cell_type": "code",
   "execution_count": 29,
   "metadata": {
    "collapsed": false,
    "pycharm": {
     "name": "#%%\n"
    }
   },
   "outputs": [
    {
     "name": "stdout",
     "output_type": "stream",
     "text": [
      "Query: fox and deer\n",
      "Cosine Similarity: 0.1826 - Sentence: The quick brown fox jumps over the lazy dog.\n",
      "Cosine Similarity: 0.0000 - Sentence: Some interesting document containin sentences.\n",
      "Cosine Similarity: 0.3086 - Sentence: The quick brown fox jumps over the lazy cat and some other stuff.\n",
      "Cosine Similarity: 0.7071 - Sentence: Fox and deer are not friends.\n",
      "Cosine Similarity: 0.3849 - Sentence: Fox and deer are not friends. But this document is a lot longer than the previous one. We can add sentence by sentence and see how the embeddings change.\n"
     ]
    }
   ],
   "source": [
    "sentences = [\n",
    "    'The quick brown fox jumps over the lazy dog.',\n",
    "    'Some interesting document containin sentences.',\n",
    "    'The quick brown fox jumps over the lazy cat and some other stuff.',\n",
    "    'Fox and deer are not friends.',\n",
    "    'Fox and deer are not friends. But this document is a lot longer than the previous one. We can add sentence by sentence and see how the embeddings change.',\n",
    "]\n",
    "embedded_sentences = [\n",
    "    embed_text(sentence, clean, tokenize, lambda x: bag_of_words(x, token_to_id))\n",
    "    for sentence in sentences\n",
    "]\n",
    "\n",
    "query = 'fox and deer'\n",
    "embedded_query = embed_text(query, clean, tokenize, lambda x: bag_of_words(x, token_to_id))\n",
    "\n",
    "cosine_similarities = [\n",
    "    cosine_similarity(embedded_query, embedded_sentence)\n",
    "    for embedded_sentence in embedded_sentences\n",
    "]\n",
    "print(f'Query: {query}')\n",
    "for sent, cos_sim in zip(sentences, cosine_similarities):\n",
    "    print(f'Cosine Similarity: {cos_sim:.4f} - Sentence: {sent}')"
   ]
  },
  {
   "cell_type": "markdown",
   "metadata": {
    "collapsed": false,
    "pycharm": {
     "name": "#%% md\n"
    }
   },
   "source": [
    "We will apply the function to the whole dataset. This might take a while, so be patient. The result will be stored in the `sentence_bow` and `compressed_bow` fields of the dataset."
   ]
  },
  {
   "cell_type": "code",
   "execution_count": 30,
   "metadata": {
    "collapsed": false,
    "pycharm": {
     "name": "#%%\n"
    }
   },
   "outputs": [],
   "source": [
    "def bag_of_words_dataset(example):\n",
    "    \"\"\"\n",
    "    Creates a bag-of-words representation of the sentence and compressed sentence in the example from the Dataset\n",
    "    Args:\n",
    "        example: an example from the Dataset\n",
    "\n",
    "    Returns: updated example with 'sentence_bow' and 'compressed_bow' columns\n",
    "\n",
    "    \"\"\"\n",
    "    sentence_tokens = example['sentence_tokens']\n",
    "    compressed_tokens = example['compressed_tokens']\n",
    "\n",
    "    sentence_bow = bag_of_words(sentence_tokens, token_to_id)\n",
    "    compressed_bow = bag_of_words(compressed_tokens, token_to_id)\n",
    "\n",
    "    example['sentence_bow'] = sentence_bow\n",
    "    example['compressed_bow'] = compressed_bow\n",
    "    return example"
   ]
  },
  {
   "cell_type": "markdown",
   "metadata": {
    "collapsed": false,
    "pycharm": {
     "name": "#%% md\n"
    }
   },
   "source": [
    "The following cell will apply the function to the whole dataset. The result will be stored in the `sentence_bow` and `compressed_bow` fields of the dataset. We will also convert the dataset's fields `sentence_bow` and `compressed_bow` to numpy format for easier manipulation."
   ]
  },
  {
   "cell_type": "code",
   "execution_count": 31,
   "metadata": {
    "collapsed": false,
    "pycharm": {
     "name": "#%%\n"
    }
   },
   "outputs": [
    {
     "data": {
      "application/vnd.jupyter.widget-view+json": {
       "model_id": "5856e778d8f14c629a40ef5078b3228d",
       "version_major": 2,
       "version_minor": 0
      },
      "text/plain": [
       "Map:   0%|          | 0/36000 [00:00<?, ? examples/s]"
      ]
     },
     "metadata": {},
     "output_type": "display_data"
    },
    {
     "name": "stdout",
     "output_type": "stream",
     "text": [
      "Dataset({\n",
      "    features: ['set', 'clean_sentence', 'clean_compressed', 'sentence_tokens', 'compressed_tokens', 'sentence_bow', 'compressed_bow'],\n",
      "    num_rows: 36000\n",
      "})\n"
     ]
    }
   ],
   "source": [
    "test_ds = split_ds['test'].map(bag_of_words_dataset)\n",
    "test_ds = test_ds.with_format('np', columns=['sentence_bow', 'compressed_bow'], dtype=float)\n",
    "print(test_ds)"
   ]
  },
  {
   "cell_type": "markdown",
   "metadata": {
    "collapsed": false,
    "pycharm": {
     "name": "#%% md\n"
    }
   },
   "source": [
    "Let's check the results. The `sentence_bow` and `compressed_bow` fields should contain the bag-of-words representation of the sentences and compressed sentences, respectively."
   ]
  },
  {
   "cell_type": "code",
   "execution_count": 32,
   "metadata": {
    "collapsed": false,
    "pycharm": {
     "name": "#%%\n"
    }
   },
   "outputs": [
    {
     "name": "stdout",
     "output_type": "stream",
     "text": [
      "{'sentence_bow': array([3., 0., 1., ..., 0., 0., 0.]), 'compressed_bow': array([0., 0., 0., ..., 0., 0., 0.])}\n"
     ]
    }
   ],
   "source": [
    "print(test_ds[0])"
   ]
  },
  {
   "cell_type": "code",
   "execution_count": 33,
   "metadata": {
    "collapsed": false,
    "pycharm": {
     "name": "#%%\n"
    }
   },
   "outputs": [
    {
     "name": "stdout",
     "output_type": "stream",
     "text": [
      "(36000, 10000)\n"
     ]
    }
   ],
   "source": [
    "sentences_bows = test_ds['sentence_bow']\n",
    "print(sentences_bows.shape)"
   ]
  },
  {
   "cell_type": "markdown",
   "metadata": {
    "collapsed": false,
    "pycharm": {
     "name": "#%% md\n"
    }
   },
   "source": [
    "Now we can start building a retriever based on the bag of words representation. The first step is to calculate the cosine similarity between two vectors."
   ]
  },
  {
   "cell_type": "markdown",
   "metadata": {
    "collapsed": false,
    "pycharm": {
     "name": "#%% md\n"
    }
   },
   "source": [
    "<a name='e6'></a>\n",
    "### Exercise 6: Cosine Similarity between a vector and an array of vectors\n",
    "\n",
    "(2p) The next step in our retrieval system, would be to calculate the proximity of a query to our retrieval corpus (in our case that is all the sentences).\n",
    "\n",
    "Complete the following function to calculate the cosine similarity between a vector (first parameter `vector`, that will usually be the query vector) and all other vectors (second parameter `other_vectors`, that will be the sentence embeddings in our case). Note that the `other_vectors` parameter is a single numpy array of size `N x D`, where $N$ is the number of vectors and $D$ is the dimension of each vector.\n",
    "\n",
    "For maximum efficiency (we will need it) do not use loops. Try to write the implementation with numpy functions. Hint: matrix multiplication can be seen as calculating the dot product between rows and columns of the multiplied matrices."
   ]
  },
  {
   "cell_type": "code",
   "execution_count": 34,
   "metadata": {
    "id": "LgaV2b3fpSOR",
    "pycharm": {
     "name": "#%%\n"
    }
   },
   "outputs": [],
   "source": [
    "def cosine_similarity_1_to_n(vector, other_vectors):\n",
    "    \"\"\"\n",
    "    Calculates the cosine similarity between a single vector and other vectors.\n",
    "    Args:\n",
    "        vector: a numpy array representing a vector of D dimensions\n",
    "        other_vectors: a 2D numpy array representing other vectors (of the size NxD, where N is the number of vectors and D is their dimension)\n",
    "\n",
    "    Returns: a 1D numpy array of size N containing the cosine similarity between the vector and all the other vectors\n",
    "\n",
    "    \"\"\"\n",
    "\n",
    "    #### YOUR CODE HERE\n",
    "    dot_product = np.dot(other_vectors, vector) # 1xN vector\n",
    "    norms_others = np.linalg.norm(other_vectors, axis=1)\n",
    "    norm_vector = np.linalg.norm(vector)\n",
    "\n",
    "    similarities_vector = dot_product/(norm_vector*norms_others)\n",
    "\n",
    "    return similarities_vector\n",
    "\n",
    "    ### YOUR CODE ENDS HERE"
   ]
  },
  {
   "cell_type": "markdown",
   "metadata": {
    "collapsed": false,
    "id": "irNqAJZLpSOR",
    "pycharm": {
     "name": "#%% md\n"
    }
   },
   "source": [
    "We will use the function to calculate the similarity of all sentences in the dataset to our query."
   ]
  },
  {
   "cell_type": "code",
   "execution_count": 70,
   "metadata": {
    "collapsed": false,
    "pycharm": {
     "name": "#%%\n"
    }
   },
   "outputs": [],
   "source": [
    "query = 'fox and deer'\n",
    "embedded_query = embed_text(query, clean, tokenize, lambda x: bag_of_words(x, token_to_id))\n"
   ]
  },
  {
   "cell_type": "code",
   "execution_count": 71,
   "metadata": {
    "id": "uD9mVAhYpSOR",
    "pycharm": {
     "name": "#%%\n"
    }
   },
   "outputs": [
    {
     "name": "stdout",
     "output_type": "stream",
     "text": [
      "(36000,)\n",
      "[0.         0.         0.         0.14002801 0.         0.\n",
      " 0.         0.         0.15294382 0.        ]\n"
     ]
    }
   ],
   "source": [
    "query_similarity = cosine_similarity_1_to_n(embedded_query, sentences_bows)\n",
    "print(query_similarity.shape)\n",
    "print(query_similarity[:10])"
   ]
  },
  {
   "cell_type": "markdown",
   "metadata": {
    "collapsed": false,
    "id": "_l3erVTNpSOR",
    "pycharm": {
     "name": "#%% md\n"
    }
   },
   "source": [
    "The following cell will select the most similar sentence."
   ]
  },
  {
   "cell_type": "code",
   "execution_count": 72,
   "metadata": {
    "id": "0wWa4AWHpSOR",
    "pycharm": {
     "name": "#%%\n"
    }
   },
   "outputs": [
    {
     "name": "stdout",
     "output_type": "stream",
     "text": [
      "3452\n",
      "0.40544242703969163\n",
      "``The Sensex has supports at 18,250 and 18,150 and resistances at 18,430 and 18,580. The Nifty spot has supports at 5,525 and 5,485 and resistances at 5,585 and 5,620,`` it added.\n"
     ]
    }
   ],
   "source": [
    "most_similar = int(np.argmax(query_similarity))\n",
    "print(most_similar)\n",
    "print(query_similarity[most_similar])\n",
    "print(split_ds['test'][most_similar]['set'][0])\n"
   ]
  },
  {
   "cell_type": "markdown",
   "metadata": {
    "collapsed": false,
    "id": "fpdJHFD1pSOR",
    "pycharm": {
     "name": "#%% md\n"
    }
   },
   "source": [
    "The following function will return the indices of the top-k elements in the array."
   ]
  },
  {
   "cell_type": "code",
   "execution_count": 73,
   "metadata": {
    "id": "QFUNI9elpSOS",
    "pycharm": {
     "name": "#%%\n"
    }
   },
   "outputs": [],
   "source": [
    "def top_k_indices(array, k, sorted=True):\n",
    "    \"\"\"\n",
    "    Returns top-k indices from the 1D array. If `sorted` is `True` the returned indices are sorted in the descending order\n",
    "    Args:\n",
    "        array: a 1D numpy array\n",
    "        k: a number of top indices to return\n",
    "        sorted: if True, the returned indices are sorted in descending order\n",
    "\n",
    "    Returns: a 1D array containing top-k indices\n",
    "\n",
    "    \"\"\"\n",
    "    top_k = np.argpartition(array, -k)[-k:]\n",
    "    if sorted:\n",
    "        selected = array[top_k]\n",
    "        sorted_selected = (-selected).argsort()\n",
    "        top_k = top_k[sorted_selected]\n",
    "    return top_k"
   ]
  },
  {
   "cell_type": "code",
   "execution_count": 39,
   "metadata": {
    "id": "nY8vvJdepSOS",
    "pycharm": {
     "name": "#%%\n"
    }
   },
   "outputs": [
    {
     "name": "stdout",
     "output_type": "stream",
     "text": [
      "``The Sensex has supports at 18,250 and 18,150 and resistances at 18,430 and 18,580. The Nifty spot has supports at 5,525 and 5,485 and resistances at 5,585 and 5,620,`` it added.\n",
      "similarity: 0.40544242703969163\n",
      "China always takes ASEAN and its member countries as reliable brothers, partners and neighbors, and China hails greater unity, stability and development of ASEAN and supports its more active role in regional and international affairs, former Chinese State Councilor Tang Jiaxuan said here Friday.\n",
      "similarity: 0.39477101697586137\n",
      "PTC Alliance, a leading manufacturer and marketer of welded and cold drawn mechanical steel tubing and tubular shapes, fabricated parts, precision components and chrome-plated rod, announced today that employees at its facilities in Alliance, Ohio and Darlington, Pennsylvania have ratified new collective bargaining agreements.\n",
      "similarity: 0.3790490217894517\n",
      "A 4.5 magnitude earthquake hit north-eastern Sicily and the Aeolian Islands causing rockslides and injuries, according to Italy's National Institute of Geophysics and Vulcanology and the Civil Protection Agency.\n",
      "similarity: 0.37463432463267765\n",
      "Tieto and Aalto University are increasing co-operation in the research and innovation of digital financial management and mobile commerce.\n",
      "similarity: 0.3611575592573077\n",
      "A high intensity earthquake on Tuesday hit Andaman and Nicobar islands and shook many cities in southern and eastern India.\n",
      "similarity: 0.3611575592573077\n",
      "Compugen Ltd. today announced that it has retained Porter Novelli Life Sciences to design and execute an investor and public relations campaign to achieve greater recognition of Compugen's accelerating commercial progress and broadly applicable drug and diagnostic discovery capabilities in the US financial and media communities.\n",
      "similarity: 0.36084391824351614\n",
      "Edwin Newman, who brought literacy, wit and energy to NBC newscasts for more than three decades, and battled linguistic pretense and clutter in his best sellers ``Strictly Speaking'' and ''A Civil Tongue,'' has died.\n",
      "similarity: 0.360667853866973\n",
      "``The Indian market is expected to open gap down following panic selling across US and Asian markets. The Sensex has supports at 16,630 and 16,210 and resistances at 17,080 and 17,230. The Nifty has supports at 4,950 and 4,930 and resistances at 5,100 and 5,140,`` said stock broker ICICI Securities while commenting on the market outlook.\n",
      "similarity: 0.3600411499115478\n",
      "HIS MAJESTY ALSO RECEIVED SIMILAR CABLE FROM SAUDI CROWN PRINCE AND DEPUTY PRIME MINISTER AND MINISTER OF DEFENCE AND AVIATION AND GENERAL COMMAND PRINCE SULTAN BIN ABDULAZIZ AL SAUD.\n",
      "similarity: 0.3563483225498992\n"
     ]
    }
   ],
   "source": [
    "top_indices = top_k_indices(query_similarity, k=10).tolist()\n",
    "for idx in top_indices:\n",
    "    print(split_ds['test'][idx]['set'][0])\n",
    "    print(f'similarity: {query_similarity[idx]}')"
   ]
  },
  {
   "cell_type": "markdown",
   "metadata": {
    "collapsed": false,
    "id": "BuRI2JzQpSOS",
    "pycharm": {
     "name": "#%% md\n"
    }
   },
   "source": [
    "<a name='e7'></a>\n",
    "### Exercise 7: Analyzing and improving BOW search results\n",
    "\n",
    "Experiment with different queries (taking into account the nature of the dataset and your insights from the analysis so far).\n",
    "Answer the following questions:\n",
    "- (5p) Does the search perform well? When does it fail? Discuss several examples that are we get an expected but also unexpected results (find at least 3 from each category). Provide reasons for the good/bad result in each case (e.g. is there some error in the data, is there some linguistic phenomenon that we don't capture, is something wrong with our modeling with average embeddings, ...)\n",
    "- (5p) If you see problems with search, how could you improve your implementation? Change the functions above, if you think there is room for improvement. Describe your changes and how they made the search better or (in case you made no changes) explain what made the search robust enough to work well."
   ]
  },
  {
   "cell_type": "code",
   "execution_count": 40,
   "metadata": {
    "id": "sEQKHAvcpSOS",
    "pycharm": {
     "name": "#%%\n"
    }
   },
   "outputs": [],
   "source": [
    "#### YOUR CODE HERE\n",
    "\n",
    "\n",
    "\n",
    "### YOUR CODE ENDS HERE"
   ]
  },
  {
   "cell_type": "markdown",
   "metadata": {
    "id": "eiIGTfq6eFI5",
    "pycharm": {
     "name": "#%% md\n"
    }
   },
   "source": [
    "// your comments"
   ]
  },
  {
   "cell_type": "markdown",
   "metadata": {
    "collapsed": false,
    "pycharm": {
     "name": "#%% md\n"
    }
   },
   "source": [
    "## 3. Term Frequency - Inverse Document Frequency (TF-IDF)\n",
    "\n",
    "In this section we will implement the TF-IDF algorithm. While BOW is a simple way to represent the documents, it has some limitations. For example, it does not take into account the importance of each word in the document. TF-IDF representation takes into account the frequency of each word in the document and the frequency of the word in the whole dataset. It is a widely used technique in information retrieval and text mining. Refer to the lecture slides for more details."
   ]
  },
  {
   "cell_type": "markdown",
   "metadata": {
    "collapsed": false,
    "pycharm": {
     "name": "#%% md\n"
    }
   },
   "source": [
    "<a name='e8'></a>\n",
    "### Exercise 8: Inverse Document Frequency (IDF)\n",
    "(5p) In this exercise, you will implement the TF-IDF algorithm. First, calculate Inverse Document Frequency (IDF) for each word in the vocabulary. Intuitively, it is a measure of how informative a word is based on the whole dataset. Consult the lecture slides for the details. The IDF is calculated as follows:\n",
    "$$\n",
    "IDF(t) = log_{10}(N/df(t))$$\n",
    "where $N$ is the total number of documents (sentences) in the dataset and $df(t)$ is the number of documents containing the word $t$.\n"
   ]
  },
  {
   "cell_type": "code",
   "execution_count": 41,
   "metadata": {
    "collapsed": false,
    "pycharm": {
     "name": "#%%\n"
    }
   },
   "outputs": [
    {
     "data": {
      "text/plain": [
       "array([0.16999977, 0.2313208 , 0.32664625, ..., 3.41017447, 3.71120446,\n",
       "       3.51490982])"
      ]
     },
     "execution_count": 41,
     "metadata": {},
     "output_type": "execute_result"
    }
   ],
   "source": [
    "def calculate_idf(bows):\n",
    "    \"\"\"\n",
    "    Calculates the IDF for each word in the vocabulary\n",
    "    Args:\n",
    "        bows: numpty array of size (N x D) where N is the number of documents and D is the vocabulary size\n",
    "\n",
    "    Returns: a numpy array of size D with IDF values for each token\n",
    "    \"\"\"\n",
    "\n",
    "    ### YOUR CODE HERE\n",
    "\n",
    "    size = bows.shape\n",
    "\n",
    "    df = np.count_nonzero(bows > 0, axis=0)+1\n",
    "    idfs = np.log10(size[0]/df)\n",
    "\n",
    "\n",
    "    return idfs\n",
    "    ### YOUR CODE ENDS HERE\n",
    "\n",
    "idf = calculate_idf(sentences_bows)\n",
    "idf"
   ]
  },
  {
   "cell_type": "markdown",
   "metadata": {
    "collapsed": false,
    "pycharm": {
     "name": "#%% md\n"
    }
   },
   "source": [
    "<a name='e9'></a>\n",
    "### Exercise 9: TF-IDF\n",
    "- (5p) Calculate TF-IDF on the `test` subset of the dataset.\n",
    "- (5p) Analyze the search results based on your implemented TF-IDF. Does the search perform well? When does it fail? Discuss several examples that are we get an expected but also unexpected results (find at least 3 from each category). Provide reasons for the good/bad result in each case (e.g. is there some error in the data, is there some linguistic phenomenon that we don't capture, is something wrong with our modeling with average embeddings, ...)\n",
    "- (5p) Compare the results with the ones you got with the bag-of-words representation. Discuss the differences and similarities. Do you think TF-IDF is a better representation for this task? Why or why not? Provide examples to support your arguments.\n"
   ]
  },
  {
   "cell_type": "code",
   "execution_count": 42,
   "metadata": {
    "collapsed": false,
    "pycharm": {
     "name": "#%%\n"
    }
   },
   "outputs": [],
   "source": [
    "### YOUR CODE HERE\n",
    "\n",
    "\n",
    "\n",
    "\n",
    "### YOUR CODE ENDS HERE\n",
    "\n",
    "### YOU CAN ADD MORE CELLS"
   ]
  },
  {
   "cell_type": "markdown",
   "metadata": {
    "collapsed": false,
    "pycharm": {
     "name": "#%% md\n"
    }
   },
   "source": [
    "// your comments"
   ]
  },
  {
   "cell_type": "markdown",
   "metadata": {
    "collapsed": false,
    "pycharm": {
     "name": "#%% md\n"
    }
   },
   "source": [
    "## 4. Word Embeddings\n",
    "\n",
    "In this section you will load the pre-trained word embeddings model - Glove. You can read more about it [here](https://aclanthology.org/D14-1162/) ([https://aclanthology.org/D14-1162/](https://aclanthology.org/D14-1162/)). The embeddings are trained on a large corpus of text and are available in different dimensions. We will start with the dimension of 100, but later you will be asked to experiment with other dimensions.\n",
    "Gensim library maintains a storage containing some pre-trained models. You can read more about it [here](https://github.com/piskvorky/gensim-data) ([https://github.com/piskvorky/gensim-data](https://github.com/piskvorky/gensim-data)). Be sure to read the README of this repository.\n",
    "\n",
    "Let's first load the info of what models are available."
   ]
  },
  {
   "cell_type": "code",
   "execution_count": 43,
   "metadata": {
    "collapsed": false,
    "pycharm": {
     "name": "#%%\n"
    }
   },
   "outputs": [
    {
     "name": "stdout",
     "output_type": "stream",
     "text": [
      "{\n",
      "  \"fasttext-wiki-news-subwords-300\": {\n",
      "    \"num_records\": 999999,\n",
      "    \"file_size\": 1005007116,\n",
      "    \"base_dataset\": \"Wikipedia 2017, UMBC webbase corpus and statmt.org news dataset (16B tokens)\",\n",
      "    \"reader_code\": \"https://github.com/RaRe-Technologies/gensim-data/releases/download/fasttext-wiki-news-subwords-300/__init__.py\",\n",
      "    \"license\": \"https://creativecommons.org/licenses/by-sa/3.0/\",\n",
      "    \"parameters\": {\n",
      "      \"dimension\": 300\n",
      "    },\n",
      "    \"description\": \"1 million word vectors trained on Wikipedia 2017, UMBC webbase corpus and statmt.org news dataset (16B tokens).\",\n",
      "    \"read_more\": [\n",
      "      \"https://fasttext.cc/docs/en/english-vectors.html\",\n",
      "      \"https://arxiv.org/abs/1712.09405\",\n",
      "      \"https://arxiv.org/abs/1607.01759\"\n",
      "    ],\n",
      "    \"checksum\": \"de2bb3a20c46ce65c9c131e1ad9a77af\",\n",
      "    \"file_name\": \"fasttext-wiki-news-subwords-300.gz\",\n",
      "    \"parts\": 1\n",
      "  },\n",
      "  \"conceptnet-numberbatch-17-06-300\": {\n",
      "    \"num_records\": 1917247,\n",
      "    \"file_size\": 1225497562,\n",
      "    \"base_dataset\": \"ConceptNet, word2vec, GloVe, and OpenSubtitles 2016\",\n",
      "    \"reader_code\": \"https://github.com/RaRe-Technologies/gensim-data/releases/download/conceptnet-numberbatch-17-06-300/__init__.py\",\n",
      "    \"license\": \"https://github.com/commonsense/conceptnet-numberbatch/blob/master/LICENSE.txt\",\n",
      "    \"parameters\": {\n",
      "      \"dimension\": 300\n",
      "    },\n",
      "    \"description\": \"ConceptNet Numberbatch consists of state-of-the-art semantic vectors (also known as word embeddings) that can be used directly as a representation of word meanings or as a starting point for further machine learning. ConceptNet Numberbatch is part of the ConceptNet open data project. ConceptNet provides lots of ways to compute with word meanings, one of which is word embeddings. ConceptNet Numberbatch is a snapshot of just the word embeddings. It is built using an ensemble that combines data from ConceptNet, word2vec, GloVe, and OpenSubtitles 2016, using a variation on retrofitting.\",\n",
      "    \"read_more\": [\n",
      "      \"http://aaai.org/ocs/index.php/AAAI/AAAI17/paper/view/14972\",\n",
      "      \"https://github.com/commonsense/conceptnet-numberbatch\",\n",
      "      \"http://conceptnet.io/\"\n",
      "    ],\n",
      "    \"checksum\": \"fd642d457adcd0ea94da0cd21b150847\",\n",
      "    \"file_name\": \"conceptnet-numberbatch-17-06-300.gz\",\n",
      "    \"parts\": 1\n",
      "  },\n",
      "  \"word2vec-ruscorpora-300\": {\n",
      "    \"num_records\": 184973,\n",
      "    \"file_size\": 208427381,\n",
      "    \"base_dataset\": \"Russian National Corpus (about 250M words)\",\n",
      "    \"reader_code\": \"https://github.com/RaRe-Technologies/gensim-data/releases/download/word2vec-ruscorpora-300/__init__.py\",\n",
      "    \"license\": \"https://creativecommons.org/licenses/by/4.0/deed.en\",\n",
      "    \"parameters\": {\n",
      "      \"dimension\": 300,\n",
      "      \"window_size\": 10\n",
      "    },\n",
      "    \"description\": \"Word2vec Continuous Skipgram vectors trained on full Russian National Corpus (about 250M words). The model contains 185K words.\",\n",
      "    \"preprocessing\": \"The corpus was lemmatized and tagged with Universal PoS\",\n",
      "    \"read_more\": [\n",
      "      \"https://www.academia.edu/24306935/WebVectors_a_Toolkit_for_Building_Web_Interfaces_for_Vector_Semantic_Models\",\n",
      "      \"http://rusvectores.org/en/\",\n",
      "      \"https://github.com/RaRe-Technologies/gensim-data/issues/3\"\n",
      "    ],\n",
      "    \"checksum\": \"9bdebdc8ae6d17d20839dd9b5af10bc4\",\n",
      "    \"file_name\": \"word2vec-ruscorpora-300.gz\",\n",
      "    \"parts\": 1\n",
      "  },\n",
      "  \"word2vec-google-news-300\": {\n",
      "    \"num_records\": 3000000,\n",
      "    \"file_size\": 1743563840,\n",
      "    \"base_dataset\": \"Google News (about 100 billion words)\",\n",
      "    \"reader_code\": \"https://github.com/RaRe-Technologies/gensim-data/releases/download/word2vec-google-news-300/__init__.py\",\n",
      "    \"license\": \"not found\",\n",
      "    \"parameters\": {\n",
      "      \"dimension\": 300\n",
      "    },\n",
      "    \"description\": \"Pre-trained vectors trained on a part of the Google News dataset (about 100 billion words). The model contains 300-dimensional vectors for 3 million words and phrases. The phrases were obtained using a simple data-driven approach described in 'Distributed Representations of Words and Phrases and their Compositionality' (https://code.google.com/archive/p/word2vec/).\",\n",
      "    \"read_more\": [\n",
      "      \"https://code.google.com/archive/p/word2vec/\",\n",
      "      \"https://arxiv.org/abs/1301.3781\",\n",
      "      \"https://arxiv.org/abs/1310.4546\",\n",
      "      \"https://www.microsoft.com/en-us/research/publication/linguistic-regularities-in-continuous-space-word-representations/?from=http%3A%2F%2Fresearch.microsoft.com%2Fpubs%2F189726%2Frvecs.pdf\"\n",
      "    ],\n",
      "    \"checksum\": \"a5e5354d40acb95f9ec66d5977d140ef\",\n",
      "    \"file_name\": \"word2vec-google-news-300.gz\",\n",
      "    \"parts\": 1\n",
      "  },\n",
      "  \"glove-wiki-gigaword-50\": {\n",
      "    \"num_records\": 400000,\n",
      "    \"file_size\": 69182535,\n",
      "    \"base_dataset\": \"Wikipedia 2014 + Gigaword 5 (6B tokens, uncased)\",\n",
      "    \"reader_code\": \"https://github.com/RaRe-Technologies/gensim-data/releases/download/glove-wiki-gigaword-50/__init__.py\",\n",
      "    \"license\": \"http://opendatacommons.org/licenses/pddl/\",\n",
      "    \"parameters\": {\n",
      "      \"dimension\": 50\n",
      "    },\n",
      "    \"description\": \"Pre-trained vectors based on Wikipedia 2014 + Gigaword, 5.6B tokens, 400K vocab, uncased (https://nlp.stanford.edu/projects/glove/).\",\n",
      "    \"preprocessing\": \"Converted to w2v format with `python -m gensim.scripts.glove2word2vec -i <fname> -o glove-wiki-gigaword-50.txt`.\",\n",
      "    \"read_more\": [\n",
      "      \"https://nlp.stanford.edu/projects/glove/\",\n",
      "      \"https://nlp.stanford.edu/pubs/glove.pdf\"\n",
      "    ],\n",
      "    \"checksum\": \"c289bc5d7f2f02c6dc9f2f9b67641813\",\n",
      "    \"file_name\": \"glove-wiki-gigaword-50.gz\",\n",
      "    \"parts\": 1\n",
      "  },\n",
      "  \"glove-wiki-gigaword-100\": {\n",
      "    \"num_records\": 400000,\n",
      "    \"file_size\": 134300434,\n",
      "    \"base_dataset\": \"Wikipedia 2014 + Gigaword 5 (6B tokens, uncased)\",\n",
      "    \"reader_code\": \"https://github.com/RaRe-Technologies/gensim-data/releases/download/glove-wiki-gigaword-100/__init__.py\",\n",
      "    \"license\": \"http://opendatacommons.org/licenses/pddl/\",\n",
      "    \"parameters\": {\n",
      "      \"dimension\": 100\n",
      "    },\n",
      "    \"description\": \"Pre-trained vectors based on Wikipedia 2014 + Gigaword 5.6B tokens, 400K vocab, uncased (https://nlp.stanford.edu/projects/glove/).\",\n",
      "    \"preprocessing\": \"Converted to w2v format with `python -m gensim.scripts.glove2word2vec -i <fname> -o glove-wiki-gigaword-100.txt`.\",\n",
      "    \"read_more\": [\n",
      "      \"https://nlp.stanford.edu/projects/glove/\",\n",
      "      \"https://nlp.stanford.edu/pubs/glove.pdf\"\n",
      "    ],\n",
      "    \"checksum\": \"40ec481866001177b8cd4cb0df92924f\",\n",
      "    \"file_name\": \"glove-wiki-gigaword-100.gz\",\n",
      "    \"parts\": 1\n",
      "  },\n",
      "  \"glove-wiki-gigaword-200\": {\n",
      "    \"num_records\": 400000,\n",
      "    \"file_size\": 264336934,\n",
      "    \"base_dataset\": \"Wikipedia 2014 + Gigaword 5 (6B tokens, uncased)\",\n",
      "    \"reader_code\": \"https://github.com/RaRe-Technologies/gensim-data/releases/download/glove-wiki-gigaword-200/__init__.py\",\n",
      "    \"license\": \"http://opendatacommons.org/licenses/pddl/\",\n",
      "    \"parameters\": {\n",
      "      \"dimension\": 200\n",
      "    },\n",
      "    \"description\": \"Pre-trained vectors based on Wikipedia 2014 + Gigaword, 5.6B tokens, 400K vocab, uncased (https://nlp.stanford.edu/projects/glove/).\",\n",
      "    \"preprocessing\": \"Converted to w2v format with `python -m gensim.scripts.glove2word2vec -i <fname> -o glove-wiki-gigaword-200.txt`.\",\n",
      "    \"read_more\": [\n",
      "      \"https://nlp.stanford.edu/projects/glove/\",\n",
      "      \"https://nlp.stanford.edu/pubs/glove.pdf\"\n",
      "    ],\n",
      "    \"checksum\": \"59652db361b7a87ee73834a6c391dfc1\",\n",
      "    \"file_name\": \"glove-wiki-gigaword-200.gz\",\n",
      "    \"parts\": 1\n",
      "  },\n",
      "  \"glove-wiki-gigaword-300\": {\n",
      "    \"num_records\": 400000,\n",
      "    \"file_size\": 394362229,\n",
      "    \"base_dataset\": \"Wikipedia 2014 + Gigaword 5 (6B tokens, uncased)\",\n",
      "    \"reader_code\": \"https://github.com/RaRe-Technologies/gensim-data/releases/download/glove-wiki-gigaword-300/__init__.py\",\n",
      "    \"license\": \"http://opendatacommons.org/licenses/pddl/\",\n",
      "    \"parameters\": {\n",
      "      \"dimension\": 300\n",
      "    },\n",
      "    \"description\": \"Pre-trained vectors based on Wikipedia 2014 + Gigaword, 5.6B tokens, 400K vocab, uncased (https://nlp.stanford.edu/projects/glove/).\",\n",
      "    \"preprocessing\": \"Converted to w2v format with `python -m gensim.scripts.glove2word2vec -i <fname> -o glove-wiki-gigaword-300.txt`.\",\n",
      "    \"read_more\": [\n",
      "      \"https://nlp.stanford.edu/projects/glove/\",\n",
      "      \"https://nlp.stanford.edu/pubs/glove.pdf\"\n",
      "    ],\n",
      "    \"checksum\": \"29e9329ac2241937d55b852e8284e89b\",\n",
      "    \"file_name\": \"glove-wiki-gigaword-300.gz\",\n",
      "    \"parts\": 1\n",
      "  },\n",
      "  \"glove-twitter-25\": {\n",
      "    \"num_records\": 1193514,\n",
      "    \"file_size\": 109885004,\n",
      "    \"base_dataset\": \"Twitter (2B tweets, 27B tokens, 1.2M vocab, uncased)\",\n",
      "    \"reader_code\": \"https://github.com/RaRe-Technologies/gensim-data/releases/download/glove-twitter-25/__init__.py\",\n",
      "    \"license\": \"http://opendatacommons.org/licenses/pddl/\",\n",
      "    \"parameters\": {\n",
      "      \"dimension\": 25\n",
      "    },\n",
      "    \"description\": \"Pre-trained vectors based on 2B tweets, 27B tokens, 1.2M vocab, uncased (https://nlp.stanford.edu/projects/glove/).\",\n",
      "    \"preprocessing\": \"Converted to w2v format with `python -m gensim.scripts.glove2word2vec -i <fname> -o glove-twitter-25.txt`.\",\n",
      "    \"read_more\": [\n",
      "      \"https://nlp.stanford.edu/projects/glove/\",\n",
      "      \"https://nlp.stanford.edu/pubs/glove.pdf\"\n",
      "    ],\n",
      "    \"checksum\": \"50db0211d7e7a2dcd362c6b774762793\",\n",
      "    \"file_name\": \"glove-twitter-25.gz\",\n",
      "    \"parts\": 1\n",
      "  },\n",
      "  \"glove-twitter-50\": {\n",
      "    \"num_records\": 1193514,\n",
      "    \"file_size\": 209216938,\n",
      "    \"base_dataset\": \"Twitter (2B tweets, 27B tokens, 1.2M vocab, uncased)\",\n",
      "    \"reader_code\": \"https://github.com/RaRe-Technologies/gensim-data/releases/download/glove-twitter-50/__init__.py\",\n",
      "    \"license\": \"http://opendatacommons.org/licenses/pddl/\",\n",
      "    \"parameters\": {\n",
      "      \"dimension\": 50\n",
      "    },\n",
      "    \"description\": \"Pre-trained vectors based on 2B tweets, 27B tokens, 1.2M vocab, uncased (https://nlp.stanford.edu/projects/glove/)\",\n",
      "    \"preprocessing\": \"Converted to w2v format with `python -m gensim.scripts.glove2word2vec -i <fname> -o glove-twitter-50.txt`.\",\n",
      "    \"read_more\": [\n",
      "      \"https://nlp.stanford.edu/projects/glove/\",\n",
      "      \"https://nlp.stanford.edu/pubs/glove.pdf\"\n",
      "    ],\n",
      "    \"checksum\": \"c168f18641f8c8a00fe30984c4799b2b\",\n",
      "    \"file_name\": \"glove-twitter-50.gz\",\n",
      "    \"parts\": 1\n",
      "  },\n",
      "  \"glove-twitter-100\": {\n",
      "    \"num_records\": 1193514,\n",
      "    \"file_size\": 405932991,\n",
      "    \"base_dataset\": \"Twitter (2B tweets, 27B tokens, 1.2M vocab, uncased)\",\n",
      "    \"reader_code\": \"https://github.com/RaRe-Technologies/gensim-data/releases/download/glove-twitter-100/__init__.py\",\n",
      "    \"license\": \"http://opendatacommons.org/licenses/pddl/\",\n",
      "    \"parameters\": {\n",
      "      \"dimension\": 100\n",
      "    },\n",
      "    \"description\": \"Pre-trained vectors based on  2B tweets, 27B tokens, 1.2M vocab, uncased (https://nlp.stanford.edu/projects/glove/)\",\n",
      "    \"preprocessing\": \"Converted to w2v format with `python -m gensim.scripts.glove2word2vec -i <fname> -o glove-twitter-100.txt`.\",\n",
      "    \"read_more\": [\n",
      "      \"https://nlp.stanford.edu/projects/glove/\",\n",
      "      \"https://nlp.stanford.edu/pubs/glove.pdf\"\n",
      "    ],\n",
      "    \"checksum\": \"b04f7bed38756d64cf55b58ce7e97b15\",\n",
      "    \"file_name\": \"glove-twitter-100.gz\",\n",
      "    \"parts\": 1\n",
      "  },\n",
      "  \"glove-twitter-200\": {\n",
      "    \"num_records\": 1193514,\n",
      "    \"file_size\": 795373100,\n",
      "    \"base_dataset\": \"Twitter (2B tweets, 27B tokens, 1.2M vocab, uncased)\",\n",
      "    \"reader_code\": \"https://github.com/RaRe-Technologies/gensim-data/releases/download/glove-twitter-200/__init__.py\",\n",
      "    \"license\": \"http://opendatacommons.org/licenses/pddl/\",\n",
      "    \"parameters\": {\n",
      "      \"dimension\": 200\n",
      "    },\n",
      "    \"description\": \"Pre-trained vectors based on 2B tweets, 27B tokens, 1.2M vocab, uncased (https://nlp.stanford.edu/projects/glove/).\",\n",
      "    \"preprocessing\": \"Converted to w2v format with `python -m gensim.scripts.glove2word2vec -i <fname> -o glove-twitter-200.txt`.\",\n",
      "    \"read_more\": [\n",
      "      \"https://nlp.stanford.edu/projects/glove/\",\n",
      "      \"https://nlp.stanford.edu/pubs/glove.pdf\"\n",
      "    ],\n",
      "    \"checksum\": \"e52e8392d1860b95d5308a525817d8f9\",\n",
      "    \"file_name\": \"glove-twitter-200.gz\",\n",
      "    \"parts\": 1\n",
      "  },\n",
      "  \"__testing_word2vec-matrix-synopsis\": {\n",
      "    \"description\": \"[THIS IS ONLY FOR TESTING] Word vecrors of the movie matrix.\",\n",
      "    \"parameters\": {\n",
      "      \"dimensions\": 50\n",
      "    },\n",
      "    \"preprocessing\": \"Converted to w2v using a preprocessed corpus. Converted to w2v format with `python3.5 -m gensim.models.word2vec -train <input_filename> -iter 50 -output <output_filename>`.\",\n",
      "    \"read_more\": [],\n",
      "    \"checksum\": \"534dcb8b56a360977a269b7bfc62d124\",\n",
      "    \"file_name\": \"__testing_word2vec-matrix-synopsis.gz\",\n",
      "    \"parts\": 1\n",
      "  }\n",
      "}\n"
     ]
    }
   ],
   "source": [
    "import json\n",
    "import gensim.downloader as api\n",
    "\n",
    "info = api.info()  # show info about available models/datasets\n",
    "print(json.dumps(info['models'], indent=2))"
   ]
  },
  {
   "cell_type": "code",
   "execution_count": 44,
   "metadata": {
    "collapsed": false,
    "pycharm": {
     "name": "#%%\n"
    }
   },
   "outputs": [
    {
     "name": "stdout",
     "output_type": "stream",
     "text": [
      "[==================================================] 100.0% 128.1/128.1MB downloaded\n"
     ]
    }
   ],
   "source": [
    "glove_model = api.load(\"glove-wiki-gigaword-100\")"
   ]
  },
  {
   "cell_type": "markdown",
   "metadata": {
    "collapsed": false,
    "pycharm": {
     "name": "#%% md\n"
    }
   },
   "source": [
    "We can use the loaded model's `key_to_index` attribute to retrieve the whole vocabulary (aka for how many words we learned embeddings for)."
   ]
  },
  {
   "cell_type": "code",
   "execution_count": 45,
   "metadata": {
    "collapsed": false,
    "pycharm": {
     "name": "#%%\n"
    }
   },
   "outputs": [
    {
     "name": "stdout",
     "output_type": "stream",
     "text": [
      "400000\n"
     ]
    }
   ],
   "source": [
    "vocab = list(glove_model.key_to_index)\n",
    "print(len(vocab))"
   ]
  },
  {
   "cell_type": "markdown",
   "metadata": {
    "collapsed": false,
    "pycharm": {
     "name": "#%% md\n"
    }
   },
   "source": [
    "Let's explore a bit further the embeddings. In the following cells, the embedding of a single word is returned. Double-check the dimensions (as sanity check). This is like inspecting the `W` matrix (weights) that we discussed in the lecture."
   ]
  },
  {
   "cell_type": "code",
   "execution_count": 46,
   "metadata": {
    "collapsed": false,
    "pycharm": {
     "name": "#%%\n"
    }
   },
   "outputs": [
    {
     "data": {
      "text/plain": [
       "array([-1.5180e-01,  3.8409e-01,  8.9340e-01, -4.2421e-01, -9.2161e-01,\n",
       "        3.7988e-02, -3.2026e-01,  3.4119e-03,  2.2101e-01, -2.2045e-01,\n",
       "        1.6661e-01,  2.1956e-01,  2.5325e-01, -2.9267e-01,  1.0171e-01,\n",
       "       -7.5491e-02, -6.0406e-02,  2.8194e-01, -5.8519e-01,  4.8271e-01,\n",
       "        1.7504e-02, -1.2086e-01, -1.0990e-01, -6.9554e-01,  1.5600e-01,\n",
       "        7.0558e-02, -1.5058e-01, -8.1811e-01, -1.8535e-01, -3.6863e-01,\n",
       "        3.1650e-02,  7.6616e-01,  8.4041e-02,  2.6928e-03, -2.7440e-01,\n",
       "        2.1815e-01, -3.5157e-02,  3.2569e-01,  1.0032e-01, -6.0932e-01,\n",
       "       -7.0316e-01,  1.8299e-01,  3.3134e-01, -1.2416e-01, -9.0542e-01,\n",
       "       -3.9157e-02,  4.4719e-01, -5.7338e-01, -4.0172e-01, -8.2234e-01,\n",
       "        5.5740e-01,  1.5101e-01,  2.4598e-01,  1.0113e+00, -4.6626e-01,\n",
       "       -2.7133e+00,  4.3273e-01, -1.6314e-01,  1.5828e+00,  5.5081e-01,\n",
       "       -2.4738e-01,  1.4184e+00, -1.6867e-02, -1.9368e-01,  1.0090e+00,\n",
       "       -5.9864e-02,  9.1853e-01,  4.3022e-01, -2.0624e-01,  7.6127e-02,\n",
       "        2.1595e-01, -2.6834e-01, -3.3342e-01, -3.7151e-01,  4.5197e-01,\n",
       "       -8.2460e-02,  3.2984e-01, -5.7376e-01, -1.3042e+00,  2.7121e-01,\n",
       "        6.6277e-01, -7.9626e-02, -7.9167e-01, -5.3662e-03, -1.7916e+00,\n",
       "       -3.3298e-01, -3.0698e-01, -3.3980e-01, -5.5618e-01, -6.9471e-01,\n",
       "        2.7427e-01, -2.1898e-01, -2.6714e-01,  2.2561e-03, -5.0178e-01,\n",
       "       -3.2775e-01, -4.5670e-01, -2.7123e-01,  2.2157e-01,  9.2112e-01],\n",
       "      dtype=float32)"
      ]
     },
     "execution_count": 46,
     "metadata": {},
     "output_type": "execute_result"
    }
   ],
   "source": [
    "# vector of a particular model. note that it is 100 dimensional as specified.\n",
    "glove_model['what']"
   ]
  },
  {
   "cell_type": "markdown",
   "metadata": {
    "collapsed": false,
    "pycharm": {
     "name": "#%% md\n"
    }
   },
   "source": [
    "Gensim objects offers different methods to easily run very common tasks. For example, there are different functions to find the most similar words.\n",
    "\n",
    "Check the documentation on how [`most_similar`](https://tedboy.github.io/nlps/generated/generated/gensim.models.Word2Vec.most_similar.html) and [`similar_by_word`](https://tedboy.github.io/nlps/generated/generated/gensim.models.Word2Vec.similar_by_word.html) can be used."
   ]
  },
  {
   "cell_type": "code",
   "execution_count": 47,
   "metadata": {
    "collapsed": false,
    "pycharm": {
     "name": "#%%\n"
    }
   },
   "outputs": [
    {
     "name": "stdout",
     "output_type": "stream",
     "text": [
      "[('how', 0.9303215742111206), ('why', 0.9196363091468811), ('fact', 0.906943678855896), ('know', 0.8876389265060425), ('that', 0.8810365796089172), ('think', 0.8772969841957092), ('so', 0.8753098249435425), ('even', 0.8751895427703857), ('something', 0.874744176864624), ('if', 0.8702542781829834)]\n",
      "[('play', 0.6266524791717529), ('missed', 0.608065128326416), ('she', 0.596325695514679), ('chance', 0.5839369297027588), ('tournament', 0.572258710861206)]\n"
     ]
    }
   ],
   "source": [
    "# most similar words to a given word\n",
    "print(glove_model.most_similar('what', topn=10))\n",
    "\n",
    "# also u can use\n",
    "print(glove_model.similar_by_word('miss', topn=5))"
   ]
  },
  {
   "cell_type": "code",
   "execution_count": 48,
   "metadata": {
    "collapsed": false,
    "pycharm": {
     "name": "#%%\n"
    }
   },
   "outputs": [
    {
     "name": "stdout",
     "output_type": "stream",
     "text": [
      "[('know', 0.944094181060791), ('what', 0.9196362495422363), ('think', 0.9086559414863586), ('how', 0.9020735621452332), ('tell', 0.8923122882843018), (\"n't\", 0.8890628814697266), ('sure', 0.8870969414710999), ('thought', 0.8747684955596924), ('believe', 0.8745115399360657), ('say', 0.8730075359344482)]\n"
     ]
    }
   ],
   "source": [
    "print(glove_model.most_similar('why', topn=10))"
   ]
  },
  {
   "cell_type": "code",
   "execution_count": 49,
   "metadata": {
    "collapsed": false,
    "pycharm": {
     "name": "#%%\n"
    }
   },
   "outputs": [
    {
     "name": "stdout",
     "output_type": "stream",
     "text": [
      "[('whom', 0.8642492890357971), ('he', 0.8201969861984253), ('whose', 0.8143677711486816), ('had', 0.8035843968391418), ('others', 0.7708418965339661)]\n"
     ]
    }
   ],
   "source": [
    "print(glove_model.similar_by_word('who', topn=5))"
   ]
  },
  {
   "cell_type": "markdown",
   "metadata": {
    "collapsed": false,
    "pycharm": {
     "name": "#%% md\n"
    }
   },
   "source": [
    "We can now compare our implementation with the one in the pre-trained model and confirm what we already expected."
   ]
  },
  {
   "cell_type": "code",
   "execution_count": 50,
   "metadata": {
    "collapsed": false,
    "pycharm": {
     "name": "#%%\n"
    }
   },
   "outputs": [
    {
     "name": "stdout",
     "output_type": "stream",
     "text": [
      "0.15712576\n",
      "0.15712576\n"
     ]
    }
   ],
   "source": [
    "# simalarity between two words\n",
    "word1 = 'alive'\n",
    "word2 = 'biology'\n",
    "print(glove_model.similarity(word1, word2))\n",
    "print(cosine_similarity(glove_model[word1], glove_model[word2]))"
   ]
  },
  {
   "cell_type": "code",
   "execution_count": 51,
   "metadata": {
    "collapsed": false,
    "pycharm": {
     "name": "#%%\n"
    }
   },
   "outputs": [
    {
     "name": "stdout",
     "output_type": "stream",
     "text": [
      "0.6400605\n",
      "0.6400605\n"
     ]
    }
   ],
   "source": [
    "# simalarity between two words. similar words\n",
    "word1 = 'alive'\n",
    "word2 = 'life'\n",
    "print(glove_model.similarity(word1, word2))\n",
    "print(cosine_similarity(glove_model[word1], glove_model[word2]))"
   ]
  },
  {
   "cell_type": "code",
   "execution_count": 52,
   "metadata": {
    "collapsed": false,
    "pycharm": {
     "name": "#%%\n"
    }
   },
   "outputs": [
    {
     "name": "stdout",
     "output_type": "stream",
     "text": [
      "0.7103517\n",
      "0.7103518\n"
     ]
    }
   ],
   "source": [
    "# simalarity between two words. dissimilar words\n",
    "word1 = 'alive'\n",
    "word2 = 'dead'\n",
    "print(glove_model.similarity(word1, word2))\n",
    "print(cosine_similarity(glove_model[word1], glove_model[word2]))"
   ]
  },
  {
   "cell_type": "code",
   "execution_count": 53,
   "metadata": {
    "collapsed": false,
    "pycharm": {
     "name": "#%%\n"
    }
   },
   "outputs": [
    {
     "name": "stdout",
     "output_type": "stream",
     "text": [
      "0.34625494\n",
      "0.34625494\n"
     ]
    }
   ],
   "source": [
    "# simalarity between two words. unrelated words\n",
    "word1 = 'alive'\n",
    "word2 = 'horse'\n",
    "print(glove_model.similarity(word1, word2))\n",
    "print(cosine_similarity(glove_model[word1], glove_model[word2]))"
   ]
  },
  {
   "cell_type": "code",
   "execution_count": 54,
   "metadata": {
    "collapsed": false,
    "pycharm": {
     "name": "#%%\n"
    }
   },
   "outputs": [
    {
     "name": "stdout",
     "output_type": "stream",
     "text": [
      "1.0\n",
      "1.0000001\n"
     ]
    }
   ],
   "source": [
    "# simalarity between two SAME words\n",
    "glove_model.similarity('equal', 'equal')\n",
    "word1 = 'equal'\n",
    "word2 = 'equal'\n",
    "print(glove_model.similarity(word1, word2))\n",
    "print(cosine_similarity(glove_model[word1], glove_model[word2]))"
   ]
  },
  {
   "cell_type": "markdown",
   "metadata": {
    "collapsed": false,
    "pycharm": {
     "name": "#%% md\n"
    }
   },
   "source": [
    "The next function contains the code to plot a similarity matrix between multiple words (e.g. if we want to compare 10 words and their pair-wise similarities). It requires a matrix with similarities (as input) and labels (aka the words) to display in the final figure."
   ]
  },
  {
   "cell_type": "code",
   "execution_count": 55,
   "metadata": {
    "collapsed": false,
    "pycharm": {
     "name": "#%%\n"
    }
   },
   "outputs": [],
   "source": [
    "def plot_similarity_matrix(matrix, labels):\n",
    "    \"\"\"\n",
    "    Displays a plot of the `matrix` of size (N x N) with the labels specified as a list of size N\n",
    "    Args:\n",
    "        matrix: a square-sized (N x N) numpy array\n",
    "        labels: a list of strings of hte size N\n",
    "    \"\"\"\n",
    "\n",
    "    fig, ax = plt.subplots()\n",
    "    im = ax.imshow(matrix)\n",
    "\n",
    "    # Show all ticks and label them with the respective list entries\n",
    "    ax.set_xticks(np.arange(len(labels)), labels=labels)\n",
    "    ax.set_yticks(np.arange(len(labels)), labels=labels)\n",
    "\n",
    "    # Rotate the tick labels and set their alignment.\n",
    "    plt.setp(ax.get_xticklabels(), rotation=45, ha=\"right\",\n",
    "             rotation_mode=\"anchor\")\n",
    "\n",
    "    # Loop over data dimensions and create text annotations.\n",
    "    for i in range(len(labels)):\n",
    "        for j in range(len(labels)):\n",
    "            text = ax.text(j, i, f'{matrix[i, j]:.2f}',\n",
    "                           ha=\"center\", va=\"center\", color=\"w\")\n",
    "\n",
    "    # ax.set_title(\"Give a title if you want\")\n",
    "    fig.tight_layout()\n",
    "    plt.show()"
   ]
  },
  {
   "cell_type": "markdown",
   "metadata": {
    "collapsed": false,
    "pycharm": {
     "name": "#%% md\n"
    }
   },
   "source": [
    "<a name='e10'></a>\n",
    "### Exercise 10: Plotting similarities between words\n",
    "\n",
    "(10p) In the following, we will explore some properties of word embeddings through some examples. We will use 6 example words for this purpose but experiment with other set of words as well. Fill in the next cell to create a similarity matrix between a list of words.\n",
    "\n",
    "Experiment with different words and their similarities plotted. Try at least 3 different sets of words of at least 6 words each. Use the `plot_similarity_matrix` function to visualize the results.\n",
    "Comment on the results. Do they make sense? Why some words are closer to each other than others? What does it mean?"
   ]
  },
  {
   "cell_type": "code",
   "execution_count": 56,
   "metadata": {},
   "outputs": [],
   "source": [
    "def calculate_similarity_table(list_words, model):\n",
    "    similarity_matrix = np.zeros((len(list_words), len(list_words)), dtype=float)\n",
    "\n",
    "    for index, n in enumerate(list_words):\n",
    "        for index2, j in enumerate(list_words):\n",
    "            vec1 = model[n]\n",
    "            vec2 = model[j]\n",
    "            \n",
    "            similarity = cosine_similarity(vec1, vec2)  \n",
    "            \n",
    "            similarity_matrix[index][index2] = similarity\n",
    "    return similarity_matrix\n"
   ]
  },
  {
   "cell_type": "code",
   "execution_count": 57,
   "metadata": {
    "collapsed": false,
    "pycharm": {
     "name": "#%%\n"
    }
   },
   "outputs": [
    {
     "data": {
      "image/png": "[encoded data removed]",
      "text/plain": [
       "<Figure size 432x288 with 1 Axes>"
      ]
     },
     "metadata": {
      "needs_background": "light"
     },
     "output_type": "display_data"
    },
    {
     "data": {
      "image/png": "[encoded data removed]",
      "text/plain": [
       "<Figure size 432x288 with 1 Axes>"
      ]
     },
     "metadata": {
      "needs_background": "light"
     },
     "output_type": "display_data"
    },
    {
     "data": {
      "image/png": "[encoded data removed]",
      "text/plain": [
       "<Figure size 432x288 with 1 Axes>"
      ]
     },
     "metadata": {
      "needs_background": "light"
     },
     "output_type": "display_data"
    }
   ],
   "source": [
    "list_of_words = ['love', 'hate', 'life', 'equal', 'alive', 'dead']\n",
    "\n",
    "similarity_matrix = np.zeros((len(list_of_words), len(list_of_words)), dtype=float)\n",
    "\n",
    "### YOUR CODE HERE\n",
    "\n",
    "similarity_matrix1 = calculate_similarity_table(list_of_words, glove_model)\n",
    "\n",
    "list_words2 = [\"apple\", \"banana\", \"minion\", \"table\", \"chair\", \"tiger\", \"blanket\", \"animal\"]\n",
    "similarity_matrix2 = calculate_similarity_table(list_words2, glove_model)\n",
    "\n",
    "list_words3 = [\"phone\", \"space\", \"tesla\", \"apple\", \"technologies\", \"usa\", \"fruit\"]\n",
    "similarity_matrix3 = calculate_similarity_table(list_words3, glove_model)\n",
    "\n",
    "\n",
    "### YOUR CODE ENDS HERE\n",
    "\n",
    "plot_similarity_matrix(similarity_matrix1, list_of_words)\n",
    "\n",
    "plot_similarity_matrix(similarity_matrix2, list_words2)\n",
    "plot_similarity_matrix(similarity_matrix3, list_words3)"
   ]
  },
  {
   "cell_type": "code",
   "execution_count": null,
   "metadata": {
    "collapsed": false,
    "pycharm": {
     "name": "#%%\n"
    }
   },
   "outputs": [],
   "source": [
    "#### YOUR CODE HERE\n",
    "\n",
    "# As we can see, some strange results may occur. For instance, the words \"alive\" and \"dead\" can have a very high cosine similarity,\n",
    "# which can be explained by their frequent co-occurrence as a pair in the same sentences. Since the glove model does not capture semantics \n",
    "# in the context of words meanings, but makes embedings by calculating statistics of word sequences and creating a co-occurrence matrix. \n",
    "\n",
    "# In general, it shows good results. For example, the words \"apple,\" \"technologies,\" and \"phone\" have a high similarity, \n",
    "# indicating that the model recognizes the Apple company’s connection to phone manufacturing and technologies.\n",
    "\n",
    "### YOUR CODE ENDS HERE"
   ]
  },
  {
   "cell_type": "markdown",
   "metadata": {
    "collapsed": false,
    "pycharm": {
     "name": "#%% md\n"
    }
   },
   "source": [
    "<a name='e11'></a>\n",
    "### Exercise 11: Other pre-trained word embeddings\n",
    "(10p) For this exercise, experiment with at least one different word embedding model. You can choose Glove with different dimensions or other pre-trained models. Use the gensim library to download and use the models.\n",
    "Plot similarity matrices between sets of words you used in the previous exercise and compare the results. Are there noticeable differences? Why (not)?"
   ]
  },
  {
   "cell_type": "code",
   "execution_count": 59,
   "metadata": {},
   "outputs": [
    {
     "name": "stdout",
     "output_type": "stream",
     "text": [
      "[==================================================] 100.0% 958.5/958.4MB downloaded\n"
     ]
    }
   ],
   "source": [
    "model = api.load(\"fasttext-wiki-news-subwords-300\")\n"
   ]
  },
  {
   "cell_type": "code",
   "execution_count": 60,
   "metadata": {
    "collapsed": false,
    "pycharm": {
     "name": "#%%\n"
    }
   },
   "outputs": [
    {
     "data": {
      "image/png": "[encoded data removed]",
      "text/plain": [
       "<Figure size 432x288 with 1 Axes>"
      ]
     },
     "metadata": {
      "needs_background": "light"
     },
     "output_type": "display_data"
    },
    {
     "data": {
      "image/png": "[encoded data removed]",
      "text/plain": [
       "<Figure size 432x288 with 1 Axes>"
      ]
     },
     "metadata": {
      "needs_background": "light"
     },
     "output_type": "display_data"
    },
    {
     "data": {
      "image/png": "[encoded data removed]",
      "text/plain": [
       "<Figure size 432x288 with 1 Axes>"
      ]
     },
     "metadata": {
      "needs_background": "light"
     },
     "output_type": "display_data"
    }
   ],
   "source": [
    "#### YOUR CODE HERE\n",
    "\n",
    "\n",
    "list_of_words = ['love', 'hate', 'life', 'equal', 'alive', 'dead']\n",
    "\n",
    "similarity_matrix = np.zeros((len(list_of_words), len(list_of_words)), dtype=float)\n",
    "\n",
    "\n",
    "similarity_matrix1 = calculate_similarity_table(list_of_words, model)\n",
    "\n",
    "list_words2 = [\"apple\", \"banana\", \"minion\", \"table\", \"chair\", \"tiger\", \"blanket\", \"animal\"]\n",
    "similarity_matrix2 = calculate_similarity_table(list_words2, model)\n",
    "\n",
    "list_words3 = [\"phone\", \"space\", \"tesla\", \"apple\", \"technologies\", \"usa\", \"fruit\"]\n",
    "similarity_matrix3 = calculate_similarity_table(list_words3, model)\n",
    "\n",
    "\n",
    "plot_similarity_matrix(similarity_matrix1, list_of_words)\n",
    "\n",
    "plot_similarity_matrix(similarity_matrix2, list_words2)\n",
    "plot_similarity_matrix(similarity_matrix3, list_words3)\n",
    "\n",
    "### YOUR CODE ENDS HERE"
   ]
  },
  {
   "cell_type": "code",
   "execution_count": null,
   "metadata": {},
   "outputs": [],
   "source": [
    "# We can clearly observe that by using this pre-trained model, we still have the problem that some clearly opposite words have very high\n",
    "# similarity (\"apple\" and \"phone\"). \n",
    "\n",
    "# Fasttext-wiki-news-subwords-300 embeding identifies \"proximity\" based on statistics of ngrams occurrences in the same or similar environments. It can capture \n",
    "# high similarity between certain words (e.g., \"apple\" and \"phone\") even though they seem conceptually opposite in some senses (apple as a fruit vs. phone as a device)."
   ]
  },
  {
   "cell_type": "markdown",
   "metadata": {
    "collapsed": false,
    "pycharm": {
     "name": "#%% md\n"
    }
   },
   "source": [
    "// your comments"
   ]
  },
  {
   "cell_type": "markdown",
   "metadata": {
    "collapsed": false,
    "pycharm": {
     "name": "#%% md\n"
    }
   },
   "source": [
    "## 5. Sentence Embeddings by Averaging Word Embeddings\n",
    "\n",
    "Word embeddings are a powerful model for representing words and their meaning (in terms of distributional similarity). As we discussed in class, we can use them in a wide variety of tasks with more complex architectures. Word vectors offer a dense vector for each word. What if we wanted to represent a sentence (or a document) based on word vectors. How can we do that?\n",
    "\n",
    "In the course, we will see different architectures that take into account the sequence of words (by combining their vectors). A first naive but simple and sometimes (as we are going to see) quite effective approach would be to represent a sentence with an embedding vector that is the average of the word vectors that form the sentence.\n",
    "\n",
    "So formally, this is what we are aiming for:\n",
    "\n",
    "$\n",
    "\\text{Sentence_Embedding} = \\frac{1}{N} \\sum_{i=1}^{N} \\text{Word_Embedding}_i\n",
    "$\n",
    "\n",
    "where:\n",
    "* $N$ is the number of words in a sentence\n",
    "* $\\text{Word_Embedding}_i$ is the word vector for the $i$-th in the sentence.\n",
    "\n",
    "Things to note:\n",
    "* The embedding vector for the sentence will obviously have the same dimension as the word embedding.\n",
    "* This representation ignores the word order (like bag-of-words). During the course we will see how we can overcome this limitation by using sequence models."
   ]
  },
  {
   "cell_type": "markdown",
   "metadata": {
    "collapsed": false,
    "pycharm": {
     "name": "#%% md\n"
    }
   },
   "source": [
    "<a name='e12'></a>\n",
    "### Exercise 12: Sentence Embedding\n",
    "\n",
    "(10p) Complete the function below that takes as input the sentence in the form of tokens (so it's a list of words) and calculates the sentence embedding vector. First, we would need to retrieve the word embeddings for each word from our loaded model and then average the vectors.\n",
    "\n",
    "Note: There can be cases where all tokens from a sentence are out-of-vocabulary words (OOV). Think what to do in this case and make sure to discuss it in the report."
   ]
  },
  {
   "cell_type": "code",
   "execution_count": 84,
   "metadata": {
    "collapsed": false,
    "pycharm": {
     "name": "#%%\n"
    }
   },
   "outputs": [],
   "source": [
    "def embed_sentence_word_model(tokens, model):\n",
    "    \"\"\"\n",
    "    Calculates the sentence embedding by averaging the embeddings of the tokens\n",
    "    Args:\n",
    "        tokens: a list of words from the sentence\n",
    "        model: a trained word embeddings model\n",
    "\n",
    "    Returns: a numpy array of the sentence embedding\n",
    "\n",
    "    \"\"\"\n",
    "    #### YOUR CODE HERE\n",
    "    #### CAUTION: be sure to cover the case where all tokens are out-of-vocabulary!!!\n",
    "    vectors = []\n",
    "    for token in tokens:\n",
    "        if token in model.key_to_index:\n",
    "            vectors.append(model[token])\n",
    "\n",
    "    if len(vectors) == 0:\n",
    "        return np.zeros(model.vector_size)\n",
    "\n",
    "\n",
    "    return np.mean(vectors, axis=0)\n",
    "    ### YOUR CODE ENDS HERE"
   ]
  },
  {
   "cell_type": "markdown",
   "metadata": {
    "collapsed": false,
    "pycharm": {
     "name": "#%% md\n"
    }
   },
   "source": [
    "Now we can apply the function to the whole dataset. Here we do it both for the sentence and the compressed version. You should know it by now, but this operation might take some time. The next cells will apply your function to the whole dataset."
   ]
  },
  {
   "cell_type": "code",
   "execution_count": 83,
   "metadata": {
    "collapsed": false,
    "pycharm": {
     "name": "#%%\n"
    }
   },
   "outputs": [],
   "source": [
    "def embed_sentence_word_model_dataset(example, model):\n",
    "    \"\"\"\n",
    "    Embeds the sentence and the compressed sentence in the example from the Dataset\n",
    "    Args:\n",
    "        example: an example from the Dataset\n",
    "        model: a trained word embeddings model\n",
    "\n",
    "    Returns: updated example with 'sentence_embedding' and 'compressed_embedding' columns\n",
    "\n",
    "    \"\"\"\n",
    "    sentence_tokens = example['sentence_tokens']\n",
    "    clean_compressed = example['clean_compressed']\n",
    "    compressed_tokens = tokenize(clean_compressed)\n",
    "\n",
    "    sentence_embedding = embed_sentence_word_model(sentence_tokens, model)\n",
    "    compressed_embedding = embed_sentence_word_model(compressed_tokens, model)\n",
    "\n",
    "    example['sentence_embedding'] = sentence_embedding\n",
    "    example['compressed_embedding'] = compressed_embedding\n",
    "    return example"
   ]
  },
  {
   "cell_type": "code",
   "execution_count": 86,
   "metadata": {
    "collapsed": false,
    "pycharm": {
     "name": "#%%\n"
    }
   },
   "outputs": [
    {
     "data": {
      "application/vnd.jupyter.widget-view+json": {
       "model_id": "642ac04e2a194f36b379aad2610fb91e",
       "version_major": 2,
       "version_minor": 0
      },
      "text/plain": [
       "Map:   0%|          | 0/36000 [00:00<?, ? examples/s]"
      ]
     },
     "metadata": {},
     "output_type": "display_data"
    },
    {
     "name": "stdout",
     "output_type": "stream",
     "text": [
      "Dataset({\n",
      "    features: ['set', 'clean_sentence', 'clean_compressed', 'sentence_tokens', 'compressed_tokens', 'sentence_bow', 'compressed_bow', 'sentence_embedding', 'compressed_embedding'],\n",
      "    num_rows: 36000\n",
      "})\n"
     ]
    }
   ],
   "source": [
    "test_ds = test_ds.map(embed_sentence_word_model_dataset, fn_kwargs={'model': glove_model})\n",
    "print(test_ds)"
   ]
  },
  {
   "cell_type": "code",
   "execution_count": 87,
   "metadata": {
    "collapsed": false,
    "pycharm": {
     "name": "#%%\n"
    }
   },
   "outputs": [
    {
     "name": "stdout",
     "output_type": "stream",
     "text": [
      "{'sentence_bow': array([3., 0., 1., ..., 0., 0., 0.]), 'compressed_bow': array([0., 0., 0., ..., 0., 0., 0.]), 'sentence_embedding': array([ 0.0579108 , -0.0512195 ,  0.35728368, -0.29107746, -0.20501682,\n",
      "        0.11244314,  0.05440228,  0.2480002 , -0.31246969,  0.03833044,\n",
      "        0.18628129, -0.13623483,  0.32994777, -0.08197429, -0.01518664,\n",
      "       -0.21129772,  0.25310984, -0.00635008, -0.48074859,  0.00806636,\n",
      "        0.07684254, -0.14800674,  0.1251992 ,  0.15934961,  0.24974716,\n",
      "       -0.2486774 , -0.2199697 , -0.44582269,  0.08109541, -0.15060344,\n",
      "       -0.31239188,  0.45145366, -0.25823414,  0.08618256, -0.04060736,\n",
      "        0.03447677, -0.05885354,  0.22102927, -0.1924715 , -0.10318136,\n",
      "       -0.31626651, -0.1953965 ,  0.30437386, -0.25869495,  0.21885796,\n",
      "        0.17382804,  0.184911  , -0.13254508,  0.06754324, -0.73897195,\n",
      "        0.00928851, -0.0438352 ,  0.10567972,  1.12818646, -0.11104763,\n",
      "       -2.41742086, -0.23143396, -0.21084084,  1.50316441,  0.65920156,\n",
      "       -0.11898351,  0.52858722, -0.2864376 ,  0.22433728,  0.54217952,\n",
      "       -0.02431464,  0.27783784,  0.49085608, -0.00880976, -0.10924666,\n",
      "       -0.09308512, -0.28506678, -0.15977231, -0.59574747,  0.09350212,\n",
      "        0.11652888, -0.19208531,  0.04493416, -0.87866426, -0.03050032,\n",
      "        0.66945285,  0.12852244, -0.39207599,  0.03206092, -1.1180898 ,\n",
      "       -0.27453548,  0.09203128,  0.08779585, -0.11625788, -0.23002821,\n",
      "       -0.17955455, -0.03172424, -0.40368998,  0.31072581, -0.50401103,\n",
      "        0.02113315, -0.28068197,  0.09772155,  0.51430643,  0.06775523]), 'compressed_embedding': array([ 2.98761338e-01,  2.10957661e-01,  3.98663312e-01, -1.13233000e-01,\n",
      "        3.31956655e-01, -2.25616679e-01, -7.18499944e-02,  2.10166678e-01,\n",
      "       -1.49654672e-01, -2.33094677e-01,  2.05778003e-01,  2.07755685e-01,\n",
      "        2.63790011e-01, -5.06032770e-03,  1.29800007e-01, -1.95517346e-01,\n",
      "       -1.66646745e-02,  1.85333693e-03, -2.61353344e-01, -6.87066689e-02,\n",
      "        1.31963000e-01,  2.03700066e-02,  1.51810005e-01,  4.44760948e-01,\n",
      "        1.84916675e-01, -3.46333277e-03, -2.53829330e-01, -2.99906671e-01,\n",
      "       -1.20019667e-01, -3.63956660e-01, -8.41766596e-02,  4.21986669e-01,\n",
      "       -3.34196687e-02, -3.52133363e-01, -2.03857660e-01,  3.20377678e-01,\n",
      "        1.77486673e-01, -3.32440019e-01, -2.67364651e-01, -5.89999966e-02,\n",
      "       -2.04726681e-01, -1.31172001e-01, -2.06026673e-01, -6.11466616e-02,\n",
      "       -1.53913334e-01,  1.89303346e-02,  4.56001289e-04, -5.75609989e-02,\n",
      "        2.20892385e-01, -7.96636760e-01,  2.93793380e-02,  7.63506666e-02,\n",
      "        2.11611331e-01,  9.22216654e-01, -2.98793614e-03, -2.57733321e+00,\n",
      "       -1.98016658e-01, -3.50312978e-01,  1.98909998e+00,  3.95206690e-01,\n",
      "       -3.21596675e-02,  7.99819946e-01, -5.12446702e-01, -2.14779258e-01,\n",
      "        4.84170049e-01,  4.09989990e-02,  2.62913316e-01,  1.04003333e-01,\n",
      "        2.54200101e-02, -2.44324684e-01,  1.02486663e-01, -3.35495979e-01,\n",
      "       -4.30703312e-01, -4.73556668e-01, -8.75721276e-02, -2.35913336e-01,\n",
      "       -3.36413294e-01,  3.26666646e-02, -8.85063350e-01,  1.64246991e-01,\n",
      "        6.39223337e-01,  2.54196674e-01, -2.53686666e-01,  1.25276670e-01,\n",
      "       -1.08879673e+00, -1.87509969e-01,  9.97103378e-02, -9.03066620e-02,\n",
      "       -2.93766648e-01, -1.51375994e-01, -1.12300001e-01,  4.38666753e-02,\n",
      "       -6.38762355e-01,  2.48773336e-01, -4.47116703e-01,  4.83600087e-02,\n",
      "        2.99871653e-01,  3.32030028e-01,  5.63129961e-01, -7.19520971e-02])}\n",
      "{'sentence_bow': array([1., 0., 0., ..., 0., 0., 0.]), 'compressed_bow': array([0., 0., 0., ..., 0., 0., 0.]), 'sentence_embedding': array([ 0.02030157,  0.06066428,  0.29511285, -0.25079331,  0.13225701,\n",
      "       -0.11056527, -0.15691409,  0.34406409, -0.36846852,  0.05554445,\n",
      "        0.15678081,  0.23146179,  0.258995  ,  0.14190428,  0.02140029,\n",
      "       -0.18707001,  0.29529023, -0.24342391, -0.39946714,  0.11858008,\n",
      "        0.47045848, -0.04284476,  0.25923586,  0.16184613,  0.19721663,\n",
      "        0.06188391,  0.02465888, -0.27568388, -0.00750691,  0.17217462,\n",
      "       -0.09110185,  0.20489211, -0.014568  ,  0.20147701, -0.00273614,\n",
      "        0.05788871,  0.01672967,  0.19252725,  0.14539658,  0.02174156,\n",
      "       -0.52286083, -0.3217676 ,  0.2215164 , -0.14350331,  0.08447371,\n",
      "        0.13353831, -0.10653019, -0.22356823, -0.12878892, -0.46818405,\n",
      "        0.07340052, -0.12066196,  0.04959349,  0.89415753, -0.38666233,\n",
      "       -2.00643969, -0.29819092, -0.30153823,  1.41696537,  0.40056977,\n",
      "       -0.2828857 ,  0.45332927, -0.15459086,  0.13538249,  0.41839746,\n",
      "        0.06962244,  0.37694123,  0.36209592,  0.14248718,  0.03084714,\n",
      "       -0.02279974, -0.20564763, -0.10915604, -0.32182157,  0.18748276,\n",
      "       -0.04401257,  0.01946238,  0.13092032, -0.89768666,  0.05830618,\n",
      "        0.68855804,  0.13657133, -0.29992974,  0.00401001, -0.81614059,\n",
      "       -0.22747414,  0.10828225, -0.039076  ,  0.11698866, -0.26563695,\n",
      "        0.0656773 , -0.17544475, -0.1056333 ,  0.36175701, -0.43814895,\n",
      "        0.25497875, -0.19074476, -0.12079415,  0.52539855, -0.02779638]), 'compressed_embedding': array([ 0.57806998,  0.06503499, -0.11481275, -0.38577598,  0.41399401,\n",
      "        0.2291325 , -0.1020075 ,  0.31401423, -0.20530401,  0.24060065,\n",
      "        0.250321  ,  0.51254499,  0.06782176,  0.03033375, -0.1238945 ,\n",
      "        0.13517925,  0.19925575, -0.27451724, -0.35017499,  0.53154254,\n",
      "        0.76294756, -0.10299951,  0.13709451,  0.32108751,  0.09398499,\n",
      "       -0.06874502,  0.1138405 , -0.4028025 ,  0.1410525 ,  0.32836002,\n",
      "       -0.1063765 , -0.0834545 , -0.03732975, -0.1572375 ,  0.08155625,\n",
      "       -0.14252248, -0.01816086, -0.1803675 ,  0.1491785 ,  0.09054625,\n",
      "       -0.75413501,  0.02583175,  0.72284502, -0.10224925,  0.36206752,\n",
      "        0.15825751, -0.206955  , -0.31202251, -0.0823665 , -0.1962615 ,\n",
      "       -0.13515501, -0.09615999,  0.04069706,  1.05929756, -0.20477626,\n",
      "       -0.99941248, -0.56396496, -0.3403675 ,  1.48316991,  0.531555  ,\n",
      "       -0.48078001,  0.15250999, -0.1044075 , -0.05260001,  0.45655149,\n",
      "        0.1877875 ,  0.57865876,  0.05544499,  0.26297373, -0.04919051,\n",
      "       -0.15266025, -0.221755  , -0.07186862,  0.0342775 ,  0.12001925,\n",
      "        0.10269525, -0.09930576, -0.22508001, -0.92609251,  0.1769135 ,\n",
      "        1.17917252, -0.030995  , -0.0643685 ,  0.02820699, -0.82639253,\n",
      "       -0.47715503,  0.52607   ,  0.09560525,  0.018638  , -0.15305251,\n",
      "       -0.05722143, -0.30833501, -0.03678249,  0.0871625 , -0.23779249,\n",
      "        0.162829  , -0.25407249,  0.05891624,  0.12253776, -0.40237749])}\n",
      "{'sentence_bow': array([0., 1., 1., ..., 0., 0., 0.]), 'compressed_bow': array([0., 0., 1., ..., 0., 0., 0.]), 'sentence_embedding': array([-2.58702695e-01, -1.68916676e-02,  3.44094157e-01,  8.87060389e-02,\n",
      "        8.52757692e-02, -2.43504792e-02, -1.47800997e-01,  1.54094666e-01,\n",
      "       -1.95081010e-01,  3.31025541e-01, -6.08232245e-02, -1.45813957e-01,\n",
      "        2.50433952e-01,  7.79944807e-02, -5.65474257e-02, -2.06519172e-01,\n",
      "        4.78357077e-01,  3.32368426e-02, -3.52187783e-01,  5.42234257e-02,\n",
      "        4.62965727e-01,  1.00487219e-02,  3.81580263e-01,  5.10232858e-02,\n",
      "        7.57003278e-02, -1.28785759e-01, -2.55522460e-01, -2.02840105e-01,\n",
      "       -5.39779104e-03, -1.22686280e-02, -2.88690984e-01,  3.91994387e-01,\n",
      "       -7.57774264e-02,  5.96698411e-02,  6.20069057e-02,  3.66547674e-01,\n",
      "        2.14580894e-01,  2.03110084e-01, -3.15743797e-02,  7.01895654e-02,\n",
      "       -5.96381843e-01, -1.65427610e-01, -6.60210429e-03, -1.81969535e-02,\n",
      "        2.45013684e-01,  3.10974754e-02,  2.96327561e-01, -2.31621563e-01,\n",
      "       -1.99365363e-01, -4.82263297e-01,  2.41606738e-02,  1.81158900e-01,\n",
      "        1.36884719e-01,  9.49275255e-01, -1.87410519e-01, -1.97437906e+00,\n",
      "        3.04349549e-02, -4.21419591e-01,  1.86464286e+00,  4.00640935e-01,\n",
      "       -8.87268409e-02,  2.98452705e-01, -9.51352587e-04,  1.76484749e-01,\n",
      "        5.10074317e-01,  9.51362476e-02,  9.36817676e-02,  3.54982495e-01,\n",
      "        3.26689035e-02,  6.96215704e-02, -8.31066072e-02, -6.51112854e-01,\n",
      "       -2.50618994e-01, -3.97437006e-01,  1.17859900e-01, -7.74361938e-02,\n",
      "       -1.12514896e-02,  1.18910946e-01, -9.53165412e-01,  1.06416963e-01,\n",
      "        4.56374258e-01, -1.18142307e-01, -3.32103968e-01,  1.36937678e-01,\n",
      "       -8.52828622e-01, -5.60441427e-02,  3.96669716e-01, -3.57876271e-02,\n",
      "       -1.14624412e-03, -1.91428095e-01,  2.63132364e-03, -1.06090024e-01,\n",
      "       -2.27714583e-01,  2.01676283e-02, -4.49925870e-01,  2.85200447e-01,\n",
      "       -1.92305401e-01, -7.92088062e-02,  4.90090430e-01, -1.44277304e-01]), 'compressed_embedding': array([-0.132432  , -0.02824802,  0.19233115,  0.16211143, -0.11611928,\n",
      "       -0.13107714, -0.4894833 ,  0.00745359, -0.05313143,  0.20979843,\n",
      "        0.16104077, -0.11420642,  0.00385714, -0.28979856, -0.29773572,\n",
      "       -0.19091715,  0.37680396, -0.02978813, -0.45605999, -0.01402914,\n",
      "        0.26016775, -0.15217771,  0.21379998,  0.01846114, -0.17930619,\n",
      "       -0.15705629, -0.25456414, -0.22715192,  0.20946857, -0.19250257,\n",
      "       -0.27611285,  0.46928144, -0.14541557,  0.15797485, -0.05231256,\n",
      "        0.49770144,  0.31549716,  0.17778341, -0.07103056,  0.083595  ,\n",
      "       -0.54651862, -0.22308001, -0.04838357,  0.12742242,  0.09536415,\n",
      "        0.02794943,  0.09966499,  0.01498929, -0.33709142, -0.57787853,\n",
      "        0.27446172,  0.33532673, -0.07138314,  0.91581142, -0.16188727,\n",
      "       -1.5390358 ,  0.25974572, -0.23278058,  1.89962423,  0.52007145,\n",
      "        0.00997572, -0.12258486,  0.07099486, -0.04646144,  0.45787713,\n",
      "        0.12485743, -0.01721186,  0.49422958,  0.01379058, -0.1693127 ,\n",
      "       -0.06072301, -0.69715148, -0.23436412, -0.41064814, -0.13389044,\n",
      "       -0.32320428, -0.04774157, -0.02759657, -0.87338436,  0.14543141,\n",
      "        0.37449688, -0.32084385, -0.04726857,  0.09699001, -0.94603425,\n",
      "        0.03492928,  0.28953627,  0.0829877 ,  0.06446157, -0.01042814,\n",
      "       -0.09832172, -0.08811902, -0.32964087, -0.29346713, -0.29115987,\n",
      "        0.38217455, -0.12478285, -0.03983385,  0.4302921 , -0.06877858])}\n",
      "{'sentence_bow': array([0., 0., 0., ..., 0., 0., 0.]), 'compressed_bow': array([0., 0., 0., ..., 0., 0., 0.]), 'sentence_embedding': array([ 1.01809226e-01,  2.85510551e-02,  2.07549214e-01, -3.30289841e-01,\n",
      "        1.28717005e-01,  2.23067045e-01,  5.27824610e-02,  2.95033157e-01,\n",
      "       -2.05459297e-01,  1.62657127e-01,  7.89922178e-02,  1.57038122e-01,\n",
      "        1.03621274e-01,  2.04104319e-01,  8.91819149e-02, -2.92314082e-01,\n",
      "        2.14688540e-01, -7.81442970e-03, -2.70060301e-01,  3.98502260e-01,\n",
      "        2.56085962e-01, -6.31196126e-02,  3.18765700e-01,  3.02107900e-01,\n",
      "        3.57456326e-01, -1.81278840e-01, -7.23038986e-02, -6.26084268e-01,\n",
      "        1.55665785e-01, -1.61549985e-01,  2.35856157e-02,  4.43752646e-01,\n",
      "        6.46733344e-02,  3.14793549e-02,  5.34466505e-02,  2.55865484e-01,\n",
      "        1.37786061e-01,  3.22507411e-01,  1.96024552e-02,  1.70482963e-01,\n",
      "       -4.33314919e-01, -2.98238873e-01,  3.80158037e-01, -2.70661920e-01,\n",
      "       -2.06206277e-01,  9.28996727e-02, -2.02350076e-02, -4.10106480e-01,\n",
      "        1.20277613e-01, -5.26763201e-01,  5.17435446e-02, -6.90922737e-02,\n",
      "        4.35273834e-02,  1.02662158e+00,  2.40299180e-02, -1.90791619e+00,\n",
      "       -2.95376897e-01,  8.67728889e-02,  1.35066056e+00,  3.92914087e-01,\n",
      "       -1.83435440e-01,  5.58506727e-01, -6.67181090e-02,  1.27382785e-01,\n",
      "        6.68156564e-01, -1.14635080e-02,  3.59056175e-01,  2.21178710e-01,\n",
      "        1.73297465e-01,  5.85290454e-02, -1.92671657e-01,  1.08605670e-03,\n",
      "       -2.66002595e-01, -3.14808637e-01,  1.60112947e-01,  2.68573940e-01,\n",
      "        1.18013300e-01, -1.27090007e-01, -8.13484967e-01, -2.53763974e-01,\n",
      "        3.75132620e-01,  9.05712172e-02, -9.90105644e-02,  1.81884453e-01,\n",
      "       -9.85843241e-01, -3.01057190e-01, -6.25999831e-03, -3.00933719e-01,\n",
      "       -1.52027339e-01, -5.35705030e-01, -1.28505990e-01,  3.93073335e-02,\n",
      "        5.07598855e-02,  1.70893013e-01, -3.18540305e-01,  2.38335039e-02,\n",
      "       -1.45720676e-01, -1.18863501e-01,  5.52490652e-01, -3.03514361e-01]), 'compressed_embedding': array([-0.02992479, -0.09103621, -0.21812001, -0.6795494 ,  0.14494921,\n",
      "        0.45054597, -0.1688623 ,  0.0458994 , -0.09242599, -0.14448941,\n",
      "       -0.1648294 ,  0.0717878 , -0.256161  ,  0.15842059, -0.14127235,\n",
      "       -0.369324  ,  0.35121086,  0.08925924, -0.0897996 ,  0.36514202,\n",
      "       -0.13096   , -0.074178  ,  0.23141441,  0.45459443,  0.34825501,\n",
      "       -0.26143181,  0.26281559, -0.72334969, -0.021752  , -0.0940154 ,\n",
      "        0.01297599,  0.36837998,  0.15836401, -0.02558556,  0.1749634 ,\n",
      "        0.12577102,  0.24066059,  0.008186  ,  0.04143401,  0.09888999,\n",
      "       -0.50732994, -0.20872402,  0.21357112, -0.37995201, -0.47695142,\n",
      "       -0.0355502 , -0.22639379, -0.62765598,  0.16719659, -0.39769238,\n",
      "        0.60612142,  0.06003944, -0.1321774 ,  0.54671395, -0.128684  ,\n",
      "       -1.21456194, -0.00787399, -0.072994  ,  1.05179191,  0.19633099,\n",
      "       -0.44066802,  0.24411599, -0.0750476 , -0.35167542,  0.67429101,\n",
      "       -0.31065542,  0.28109318,  0.3693282 ,  0.0297656 , -0.03468781,\n",
      "       -0.232004  ,  0.013364  , -0.36181742, -0.36190206,  0.32598799,\n",
      "        0.0355414 ,  0.11178999, -0.30204999, -0.53859001, -0.09155039,\n",
      "        0.14065382, -0.0665534 ,  0.33948201,  0.17750201, -0.56273997,\n",
      "       -0.50496995,  0.0924678 , -0.0855248 , -0.152136  , -0.56139195,\n",
      "       -0.29303282, -0.01510221, -0.0469164 ,  0.21912119,  0.088658  ,\n",
      "       -0.050684  ,  0.32967287,  0.04411539,  0.11660381, -0.48676881])}\n",
      "{'sentence_bow': array([0., 1., 1., ..., 0., 0., 0.]), 'compressed_bow': array([0., 0., 0., ..., 0., 0., 0.]), 'sentence_embedding': array([-1.26796171e-01,  1.96820006e-01,  3.64314765e-01, -2.56050564e-03,\n",
      "        2.80103952e-01,  1.94041133e-01,  1.22713186e-01,  3.27563226e-01,\n",
      "       -5.16949892e-01,  2.28879601e-02,  2.76662946e-01,  8.26407298e-02,\n",
      "       -7.77831152e-02, -1.42992198e-01,  4.85059954e-02, -8.67674425e-02,\n",
      "        1.64758220e-01,  1.13181464e-01, -3.32950622e-01,  2.97143549e-01,\n",
      "        4.07129019e-01,  1.25371590e-01,  2.30343848e-01,  5.09824991e-01,\n",
      "        3.06724608e-01, -1.37464285e-01,  1.67911723e-01, -4.13665593e-01,\n",
      "        5.02733767e-01, -2.01163754e-01, -4.50800776e-01,  1.83834136e-01,\n",
      "        1.39483083e-02,  3.63315530e-02, -1.77657176e-02,  1.63568020e-01,\n",
      "       -2.95939088e-01,  2.66799480e-01, -2.12405041e-01,  2.72616833e-01,\n",
      "       -2.35913262e-01, -4.48377073e-01,  4.31757659e-01, -2.41683513e-01,\n",
      "        1.31496891e-01, -1.79775238e-01,  1.52320296e-01, -3.15017015e-01,\n",
      "        2.47257445e-02, -4.46374655e-01, -1.37361556e-01, -8.63498747e-02,\n",
      "        9.38932449e-02,  9.09653246e-01, -1.96808413e-01, -2.20284152e+00,\n",
      "       -1.49852887e-01,  7.47604445e-02,  1.17315769e+00,  6.88324809e-01,\n",
      "       -1.29208192e-01,  4.06451046e-01, -3.75390016e-02,  1.51201617e-02,\n",
      "        3.88225615e-01,  6.81725470e-03,  6.94108903e-02,  4.09698546e-01,\n",
      "        2.87074540e-02, -1.91604748e-01,  1.08581339e-03,  1.76427457e-02,\n",
      "       -2.39957169e-01, -3.54658842e-01,  5.65875471e-02,  3.82524244e-02,\n",
      "       -1.05231963e-01, -8.23788643e-02, -6.96190178e-01,  1.00358069e-01,\n",
      "        8.08441520e-01, -2.88499147e-02, -3.37170571e-01,  1.81435287e-01,\n",
      "       -9.05467749e-01, -3.18754703e-01, -1.49682626e-01,  1.27943262e-01,\n",
      "       -1.07139826e-01,  1.36486422e-02, -1.21226370e-01,  5.54901771e-02,\n",
      "       -7.64631778e-02,  2.74462759e-01, -4.01319176e-01,  6.79573976e-03,\n",
      "       -1.80982381e-01, -8.73727649e-02,  3.50623190e-01,  3.50955352e-02]), 'compressed_embedding': array([-0.33676001,  0.47466865,  0.20242999, -0.05788666,  0.02651001,\n",
      "       -0.10942334, -0.15809332, -0.00184134, -0.18378668, -0.33354267,\n",
      "        0.40752998,  0.78502673, -0.03154   ,  0.19640565,  0.14272   ,\n",
      "        0.00289666, -0.16020334,  0.31459334, -0.62574333,  0.36261633,\n",
      "        0.14795701,  0.75763029, -0.46255335,  0.36847463,  0.41959667,\n",
      "        0.08041634,  0.01629   , -0.39837334,  0.80165005, -0.52269995,\n",
      "       -0.59928334, -0.18816434,  0.12721901, -0.18929334, -0.07387666,\n",
      "       -0.09378365, -0.77357   ,  0.07128101,  0.22201999,  0.16270332,\n",
      "       -0.07205933, -0.6189    , -0.00358701, -0.03592333, -0.15785332,\n",
      "       -0.03132   ,  0.02894   ,  0.55077797,  0.57984   , -0.02686533,\n",
      "       -0.06512   ,  0.05168   ,  0.448915  ,  0.77770001, -0.17831033,\n",
      "       -1.51166332,  0.51506037, -0.04272999,  0.79339671,  0.67789334,\n",
      "        0.15406667,  0.48773333, -0.14400901,  0.44991335,  0.63940668,\n",
      "        0.05367334,  0.45069   , -0.00742   , -0.35841998, -0.45601001,\n",
      "        0.37649   ,  0.3735567 , -0.061783  , -0.34767666, -0.09239534,\n",
      "       -0.07211999,  0.20197535, -0.06294667, -0.00424   ,  0.66031337,\n",
      "        1.01201999,  0.24077   , -0.59800804,  0.18516   , -0.68286008,\n",
      "       -0.34619331, -0.16813065,  0.63804001, -0.39700332,  0.51620668,\n",
      "       -0.04664334,  0.18601666, -0.31133533,  0.15678   ,  0.43716669,\n",
      "       -0.20790668, -0.12562667, -0.35797933, -0.17876084,  0.31577471])}\n",
      "{'sentence_bow': array([1., 3., 1., ..., 0., 0., 0.]), 'compressed_bow': array([0., 0., 0., ..., 0., 0., 0.]), 'sentence_embedding': array([-6.02984130e-02, -4.47700694e-02,  2.54631817e-01, -1.52104020e-01,\n",
      "        1.90509796e-01,  1.91864982e-01,  2.32898071e-02,  2.71938235e-01,\n",
      "       -2.08820879e-01,  1.18765496e-01, -1.99837148e-01, -2.66860686e-02,\n",
      "        2.50842541e-01,  1.18715063e-01,  1.11416444e-01, -1.35132089e-01,\n",
      "        2.41923153e-01, -6.08676188e-02, -3.61750841e-01,  1.61325589e-01,\n",
      "        2.71794230e-01,  4.90467958e-02,  8.58497396e-02,  3.45617473e-01,\n",
      "        1.47390202e-01,  6.94876164e-02, -1.66572556e-01, -5.77440679e-01,\n",
      "        2.20241159e-01,  6.53255433e-02, -2.54356638e-02,  2.93825209e-01,\n",
      "       -6.45475974e-03,  1.76374093e-01, -1.62727341e-01,  1.39221624e-01,\n",
      "       -1.41966984e-01,  2.30233893e-01,  1.02149338e-01,  1.13579771e-02,\n",
      "       -4.35382515e-01, -2.60588616e-01,  2.35902056e-01, -1.91263378e-01,\n",
      "       -7.34781424e-05,  1.14805199e-01,  9.16575119e-02, -1.28001586e-01,\n",
      "       -7.10349828e-02, -5.93894422e-01,  2.02021115e-02, -1.14653900e-01,\n",
      "        2.03274354e-01,  8.57971787e-01, -1.59431502e-01, -2.25134492e+00,\n",
      "       -1.67472690e-01, -4.07617956e-01,  1.44869494e+00,  5.34531832e-01,\n",
      "       -1.64684981e-01,  6.91653073e-01, -1.83202997e-01,  1.85681209e-01,\n",
      "        4.28102612e-01,  1.08944839e-02,  3.62684160e-01,  2.86754280e-01,\n",
      "       -4.23894171e-03, -4.65462497e-03, -9.42107067e-02, -9.02878791e-02,\n",
      "       -2.00381324e-01, -2.62629092e-01,  2.29459569e-01,  9.49391723e-02,\n",
      "       -2.53093958e-01, -8.21001008e-02, -8.52402151e-01, -6.81301057e-02,\n",
      "        4.45534527e-01,  2.32997954e-01, -3.13868612e-01,  7.59291500e-02,\n",
      "       -1.08751607e+00, -3.56610805e-01,  2.48138472e-01,  6.87931329e-02,\n",
      "       -2.52480865e-01, -4.69396353e-01,  1.82791486e-01, -9.58206728e-02,\n",
      "       -9.40096676e-02,  3.06910813e-01, -3.52631509e-01,  1.28149405e-01,\n",
      "       -5.59167936e-02, -1.67191774e-01,  5.14697552e-01, -5.36951497e-02]), 'compressed_embedding': array([ 1.08646140e-01,  1.58999953e-02,  1.99711293e-01, -1.85045987e-01,\n",
      "        1.54297993e-01,  5.12479916e-02,  9.86741632e-02,  2.19650850e-01,\n",
      "       -1.39538556e-01,  4.77000233e-03, -1.58925671e-02, -3.21240723e-01,\n",
      "        7.74090141e-02, -3.88671495e-02,  4.44185734e-02, -2.52623290e-01,\n",
      "        1.80829287e-01,  2.79494137e-01, -3.42835873e-01,  4.04849976e-01,\n",
      "        2.84092456e-01,  2.71555156e-01,  2.63868570e-01,  5.93757808e-01,\n",
      "       -1.17987031e-02, -1.10247182e-02, -7.83330873e-02, -7.66048551e-01,\n",
      "        2.45687127e-01,  5.98372854e-02,  9.85046998e-02,  1.90259710e-01,\n",
      "       -4.61354330e-02,  9.40705687e-02, -1.62954852e-01,  1.07667141e-01,\n",
      "        1.05284370e-01,  2.01068565e-01,  1.42357182e-02, -1.10848859e-01,\n",
      "       -3.05591404e-01, -4.35924262e-01, -9.54314321e-02, -6.28657192e-02,\n",
      "       -6.02147426e-04,  2.17928275e-01, -3.13472748e-02, -1.98714584e-01,\n",
      "        2.87341446e-01, -3.38795751e-01, -9.70242843e-02,  7.65211806e-02,\n",
      "        9.79499966e-02,  4.87229884e-01, -2.05318425e-02, -1.54711151e+00,\n",
      "       -2.65189588e-01, -4.82021749e-01,  9.54751432e-01,  5.29611468e-01,\n",
      "       -3.95516962e-01,  6.57048583e-01, -1.45135432e-01,  2.02946559e-01,\n",
      "        1.55924752e-01, -1.35934222e-02,  4.98261273e-01,  2.21100869e-03,\n",
      "        5.38718626e-02,  2.43768524e-02,  2.82212887e-02,  9.56528541e-03,\n",
      "       -2.89480865e-01, -1.23187423e-01,  2.52005726e-01,  9.43231434e-02,\n",
      "       -1.04943708e-01, -1.12275138e-01, -6.81994319e-01,  6.47309944e-02,\n",
      "        1.22028604e-01,  2.71377146e-01, -2.84419984e-01,  2.49058574e-01,\n",
      "       -6.32941604e-01, -3.03110301e-01,  1.37772992e-01,  3.31061482e-02,\n",
      "       -3.18024784e-01, -3.83546412e-01,  1.34299159e-01, -1.01044141e-01,\n",
      "       -1.90737993e-01,  2.22821996e-01, -2.38227159e-01,  1.08046152e-01,\n",
      "       -3.11457203e-03, -1.22004282e-02,  3.47813040e-01, -2.31605694e-01])}\n",
      "{'sentence_bow': array([0., 1., 0., ..., 0., 0., 0.]), 'compressed_bow': array([0., 0., 0., ..., 0., 0., 0.]), 'sentence_embedding': array([-0.02915283, -0.07064801,  0.21471143, -0.63878572, -0.06329585,\n",
      "        0.0818404 , -0.04031892,  0.21677153, -0.02755423,  0.27659109,\n",
      "        0.09575992,  0.27296644,  0.17275861,  0.29200223, -0.15621039,\n",
      "       -0.1951998 ,  0.3079963 , -0.02350539, -0.44209498,  0.13357054,\n",
      "        0.54827976, -0.08461977,  0.19042625, -0.01245045,  0.14009719,\n",
      "       -0.04132492, -0.33402449, -0.41380465,  0.18566553,  0.08954307,\n",
      "       -0.0340857 ,  0.21579632, -0.07899846,  0.16367237,  0.01169892,\n",
      "        0.10252238, -0.08869444,  0.35127184,  0.36093694,  0.16259469,\n",
      "       -0.10926999, -0.22553149,  0.18826424, -0.20926967,  0.01791359,\n",
      "        0.18120238,  0.3363733 , -0.23493116, -0.10469454, -0.39033839,\n",
      "        0.09522378, -0.19375755, -0.09848347,  0.81123358, -0.14250854,\n",
      "       -1.68759918, -0.23794192, -0.02825044,  1.28163075,  0.36188105,\n",
      "       -0.028392  ,  0.52736735, -0.09505454,  0.13630132,  0.53014767,\n",
      "        0.14337923,  0.2215744 ,  0.286396  ,  0.04398692,  0.22757031,\n",
      "       -0.15439378, -0.27325293, -0.09865032, -0.23549615,  0.00884706,\n",
      "        0.12687631,  0.38280043,  0.05219384, -0.73761201, -0.13778624,\n",
      "        0.66927779,  0.08096115, -0.20054075,  0.12406708, -1.00641668,\n",
      "       -0.1917197 ,  0.16223475, -0.06589162, -0.45273632, -0.27425593,\n",
      "        0.29251492, -0.20972964, -0.08955201,  0.28240931, -0.16638884,\n",
      "        0.31547955, -0.08726548, -0.03253359,  0.46351093, -0.20866577]), 'compressed_embedding': array([-0.15444912, -0.29822335,  0.27242568, -0.51563901, -0.19591434,\n",
      "       -0.46880499, -0.11228001,  0.06977999,  0.19172585,  0.32121283,\n",
      "        0.26865435,  0.06184415,  0.08616349,  0.40502882,  0.11296836,\n",
      "       -0.15822898,  0.08668283,  0.06409334, -0.34223852,  0.120875  ,\n",
      "        0.46209785,  0.151638  ,  0.16947682,  0.05571252,  0.16721833,\n",
      "       -0.03955067, -0.50800329, -0.06950667,  0.225785  ,  0.05928   ,\n",
      "       -0.22143932, -0.05360134,  0.01578384,  0.22766517, -0.22327699,\n",
      "        0.12535165, -0.13043165,  0.63959545,  0.02935468,  0.14899451,\n",
      "        0.10681834, -0.46909001, -0.00582501, -0.08718932, -0.01549222,\n",
      "        0.28873917,  0.27807832,  0.0326855 ,  0.049775  , -0.37886667,\n",
      "        0.00265333, -0.02404833, -0.25445417,  0.81789166, -0.41493499,\n",
      "       -1.30128491, -0.08059666, -0.12426332,  1.30291498,  0.19729483,\n",
      "        0.01588034,  0.32212317,  0.20488334,  0.24983166,  0.12905835,\n",
      "        0.27669668, -0.16620834, -0.04450801, -0.25837049,  0.39398131,\n",
      "       -0.31249669, -0.36840665, -0.20132017, -0.21104866,  0.00879831,\n",
      "        0.40514001,  0.67712361,  0.01852   , -0.59210598, -0.19541383,\n",
      "        0.26293001,  0.22971833,  0.08275615,  0.23881833, -0.71862334,\n",
      "       -0.06302883,  0.17272335, -0.2580215 , -0.53727168, -0.30350432,\n",
      "        0.3441973 ,  0.04923501,  0.11243667,  0.45662689,  0.22553831,\n",
      "        0.62157005, -0.19759166, -0.01266511,  0.54487699, -0.313115  ])}\n",
      "{'sentence_bow': array([0., 2., 1., ..., 0., 0., 0.]), 'compressed_bow': array([0., 0., 0., ..., 0., 0., 0.]), 'sentence_embedding': array([-0.0325125 , -0.04699546,  0.21715912, -0.2142221 ,  0.14083219,\n",
      "        0.31679422,  0.02839077,  0.2841067 , -0.10579018,  0.20815124,\n",
      "       -0.09376673,  0.11747611,  0.11448915,  0.08996114,  0.08328814,\n",
      "       -0.17657095,  0.40342847,  0.0750645 , -0.30907539,  0.21966594,\n",
      "        0.27055138, -0.0515095 ,  0.28931248,  0.01210236,  0.17801796,\n",
      "       -0.0176302 , -0.18325144, -0.41681001,  0.04153163, -0.06601518,\n",
      "        0.00426049,  0.32588917, -0.01750331, -0.06598592, -0.12853011,\n",
      "        0.12081964,  0.03800127,  0.11295145,  0.16040932, -0.08222541,\n",
      "       -0.34709972, -0.15856792,  0.25268415, -0.49641851, -0.15543635,\n",
      "        0.02886198,  0.25093201, -0.39058015, -0.03078786, -0.60614592,\n",
      "       -0.02967927, -0.1438349 ,  0.13518749,  0.93148571, -0.25263909,\n",
      "       -1.99406695, -0.11004894, -0.29505965,  1.29566634,  0.39116162,\n",
      "       -0.04410031,  0.35030285, -0.27925792,  0.24310938,  0.61855596,\n",
      "       -0.06483619,  0.44073316,  0.40201396, -0.00609126,  0.00420718,\n",
      "       -0.07411326, -0.2171867 , -0.20485596, -0.41833684,  0.13976663,\n",
      "        0.00204245, -0.05492228,  0.01198404, -0.89642811,  0.03992264,\n",
      "        0.71825653,  0.16939832, -0.25784257,  0.05960877, -0.96614385,\n",
      "       -0.3046869 ,  0.05525285, -0.1812852 , -0.04665682, -0.27714896,\n",
      "       -0.03016615, -0.28449392, -0.11025018,  0.06242478, -0.27401754,\n",
      "        0.09013409, -0.13199402, -0.10957124,  0.44415599, -0.05003865]), 'compressed_embedding': array([-0.01064   , -0.05265401,  0.41819826, -0.38941598,  0.43109745,\n",
      "        0.68123204,  0.04746061,  0.37653521, -0.15895   ,  0.30583602,\n",
      "       -0.33298597,  0.396222  , -0.013934  ,  0.20700245,  0.13243799,\n",
      "       -0.2153614 ,  0.51429236,  0.22714801, -0.57484603,  0.26349401,\n",
      "        0.13860917,  0.02994741,  0.24139354, -0.02095741, -0.02626201,\n",
      "        0.15170497,  0.15410888, -0.33712   , -0.14104882, -0.06469379,\n",
      "        0.38434598,  0.0534108 ,  0.14925259, -0.31873402,  0.04504307,\n",
      "       -0.43304819, -0.18920842, -0.167034  ,  0.44568181,  0.0172124 ,\n",
      "       -0.46171403, -0.48049539,  0.379924  , -0.68169999,  0.06166721,\n",
      "       -0.04496401,  0.33077797, -0.55597961, -0.018238  , -0.60415202,\n",
      "        0.20182601, -0.43825999,  0.20837998,  1.10080659, -0.20126382,\n",
      "       -1.71856594, -0.06694941, -0.222074  ,  1.43877995,  0.42975202,\n",
      "       -0.07352378,  0.10985597, -0.26704559,  0.15248141,  0.54095805,\n",
      "       -0.25068539,  0.53287202,  0.4673368 ,  0.043444  ,  0.33637804,\n",
      "       -0.16304222,  0.013749  , -0.3295632 , -0.28459001,  0.4493278 ,\n",
      "       -0.0764702 ,  0.0536928 ,  0.099306  , -0.78605795,  0.17586961,\n",
      "        1.11788595,  0.38147077, -0.1149688 , -0.1962382 , -1.16399598,\n",
      "       -0.57255399, -0.45969802,  0.02801601,  0.29805681, -0.31044403,\n",
      "       -0.0964388 , -0.33744201, -0.0869966 ,  0.00970479,  0.2086186 ,\n",
      "        0.31012601,  0.01472739, -0.09256412,  0.61380357, -0.600972  ])}\n",
      "{'sentence_bow': array([2., 1., 1., ..., 0., 0., 0.]), 'compressed_bow': array([0., 0., 1., ..., 0., 0., 0.]), 'sentence_embedding': array([ 7.42245466e-03,  2.13458568e-01,  3.69075716e-01, -3.73446316e-01,\n",
      "       -1.85808130e-02,  1.56079561e-01, -3.16394120e-02,  9.77657288e-02,\n",
      "       -3.22165161e-01, -3.74193452e-02,  6.38875365e-02, -1.08457766e-01,\n",
      "        2.35014513e-01, -8.52719992e-02,  2.19485790e-01, -3.42116088e-01,\n",
      "        2.30490804e-01,  1.60994530e-01, -3.04595739e-01,  8.68972093e-02,\n",
      "        1.61612153e-01, -8.86240751e-02,  3.57077643e-02,  2.67196327e-01,\n",
      "        3.07641149e-01, -1.76192656e-01, -9.43040699e-02, -3.76760900e-01,\n",
      "        1.13356136e-01,  6.96241781e-02, -2.30565935e-01,  4.82937515e-01,\n",
      "       -7.38255540e-03,  1.71500713e-01,  4.99624386e-02,  2.91674674e-01,\n",
      "       -1.12715438e-01,  3.06948811e-01, -1.66425362e-01, -1.42149106e-01,\n",
      "       -3.98639329e-02, -1.78132504e-01,  2.01325461e-01, -2.28483438e-01,\n",
      "       -3.90506275e-02,  7.49911964e-02,  2.06671044e-01, -3.87767702e-01,\n",
      "        6.37176931e-02, -5.84532440e-01,  3.15398052e-02, -1.23226773e-02,\n",
      "       -4.21932824e-02,  6.66206658e-01, -3.05866063e-01, -2.07668686e+00,\n",
      "       -1.94113687e-01, -2.17830211e-01,  1.47895598e+00,  7.75862932e-01,\n",
      "       -4.58094358e-01,  6.69705391e-01, -2.79263496e-01,  4.54423465e-02,\n",
      "        5.98789155e-01, -1.54272556e-01,  4.07377779e-01,  2.41315171e-01,\n",
      "       -3.10423020e-02, -4.94672209e-02, -3.19371782e-02, -3.33637714e-01,\n",
      "       -4.81378496e-01, -4.79833901e-01,  1.97143942e-01,  4.88437675e-02,\n",
      "       -9.66383219e-02,  7.14955032e-02, -6.69413269e-01, -8.17959011e-02,\n",
      "        4.22548234e-01,  7.60221109e-02, -5.23400784e-01,  6.38449639e-02,\n",
      "       -9.78425860e-01, -1.40175432e-01,  1.80351526e-01,  4.69613187e-02,\n",
      "       -1.24588929e-01, -4.07022774e-01, -6.78410232e-02, -1.66031912e-01,\n",
      "       -2.68048108e-01,  4.41178456e-02, -4.91515070e-01,  1.34474978e-01,\n",
      "       -6.53053746e-02, -9.75050181e-02,  4.20916706e-01,  6.59848738e-04]), 'compressed_embedding': array([ 0.00229   ,  0.20436566,  0.37320149, -0.21793149, -0.18012834,\n",
      "        0.02057483, -0.13712209, -0.0348955 , -0.16872565, -0.27210566,\n",
      "        0.05769272, -0.01594018,  0.17990999, -0.1049905 ,  0.22017133,\n",
      "       -0.33703232,  0.16486998,  0.37976384, -0.41286501,  0.02170015,\n",
      "        0.076515  , -0.30063149, -0.05632167,  0.30258834,  0.25689408,\n",
      "       -0.12487707, -0.034293  , -0.31416166,  0.42585549,  0.18951868,\n",
      "       -0.18692583,  0.49751103, -0.1276105 ,  0.29233751,  0.14501034,\n",
      "        0.35431167,  0.02184283,  0.15068416, -0.09080533, -0.01490366,\n",
      "        0.03350167, -0.17631666,  0.08534017, -0.39864168, -0.34209666,\n",
      "        0.154836  ,  0.14728834, -0.35376668,  0.06826832, -0.8969    ,\n",
      "       -0.02331833,  0.07589168,  0.1566    ,  0.57437778, -0.34850517,\n",
      "       -1.7905668 , -0.24543893, -0.16303401,  1.21147859,  0.77068669,\n",
      "       -0.28464165,  0.60299832, -0.23895232,  0.13342583,  0.50197583,\n",
      "       -0.05249551,  0.44913498,  0.42394164, -0.14885502, -0.11548436,\n",
      "       -0.01374867, -0.46883333, -0.35880184, -0.53501004,  0.39136115,\n",
      "       -0.0987215 , -0.11670667,  0.04172166, -0.56872666, -0.12444934,\n",
      "        0.37734535,  0.03361433, -0.601336  , -0.09167682, -0.92634279,\n",
      "       -0.10856834,  0.3859233 ,  0.12004168, -0.10210634, -0.280085  ,\n",
      "       -0.18965451, -0.1241555 , -0.24726166, -0.28234535, -0.4212583 ,\n",
      "        0.08422633,  0.13159417, -0.29673168,  0.04730666,  0.05676   ])}\n",
      "{'sentence_bow': array([2., 0., 1., ..., 0., 0., 0.]), 'compressed_bow': array([0., 0., 1., ..., 0., 0., 0.]), 'sentence_embedding': array([-0.13685125,  0.028579  ,  0.38913229, -0.27918538, -0.0325676 ,\n",
      "        0.08023717, -0.164279  ,  0.26271644, -0.32586166, -0.06969941,\n",
      "        0.03560375,  0.01241567,  0.10988698, -0.11429699, -0.02265256,\n",
      "       -0.19594526,  0.20482887,  0.06529533, -0.40606886,  0.04099727,\n",
      "        0.26108518, -0.04867093,  0.16350846,  0.25327107,  0.28171828,\n",
      "       -0.21811247, -0.1161864 , -0.5004636 ,  0.09843712, -0.07869513,\n",
      "       -0.20034355,  0.39868462, -0.0370364 ,  0.0357812 ,  0.01043923,\n",
      "        0.33067641, -0.02466908,  0.21629567, -0.071467  , -0.10195713,\n",
      "       -0.29812732, -0.3754012 ,  0.22244668, -0.24706155, -0.15125118,\n",
      "        0.06338856,  0.23268768, -0.43846929, -0.0873626 , -0.74339068,\n",
      "        0.01755136, -0.09232632,  0.14356592,  1.08532071, -0.22590478,\n",
      "       -2.47084928, -0.17794241, -0.26218647,  1.58764207,  0.54762942,\n",
      "       -0.30687267,  0.65549177, -0.2656337 ,  0.06247086,  0.56168818,\n",
      "       -0.0053116 ,  0.33681801,  0.42559251,  0.03443309, -0.23675561,\n",
      "        0.07606947, -0.36730498, -0.3399106 , -0.51356333,  0.17834732,\n",
      "        0.10736239, -0.38060009,  0.02163574, -0.85840929,  0.00541567,\n",
      "        0.56979191, -0.016145  , -0.44559866,  0.0274088 , -1.1859436 ,\n",
      "       -0.19243732,  0.22763772, -0.02855654, -0.16150786, -0.43833265,\n",
      "        0.02072127, -0.10570627, -0.31549594,  0.27627602, -0.64375937,\n",
      "       -0.05572999, -0.15102555, -0.26128754,  0.52101201,  0.16030906]), 'compressed_embedding': array([-0.13142827,  0.03606871,  0.21262486, -0.3721101 , -0.27698013,\n",
      "        0.07729652,  0.00405842,  0.23706214, -0.31254798,  0.00317   ,\n",
      "        0.2639623 ,  0.17807187,  0.04965314, -0.117586  , -0.0573    ,\n",
      "       -0.08709   ,  0.13505413, -0.07194044, -0.34810618,  0.17705157,\n",
      "        0.12533484, -0.068449  ,  0.00482872,  0.56428576,  0.18264779,\n",
      "       -0.09646557, -0.147209  , -0.57704347,  0.22465527, -0.04727129,\n",
      "       -0.36594114,  0.10814713, -0.0771357 ,  0.10851043, -0.08065386,\n",
      "        0.15276286, -0.17527714,  0.181105  , -0.03204957,  0.07296415,\n",
      "       -0.10519712, -0.31343743,  0.33772525, -0.14784899, -0.29277712,\n",
      "        0.06170383,  0.09852   , -0.54063004,  0.13401714, -0.50001711,\n",
      "       -0.12734081, -0.02217979,  0.01478   ,  0.98482567, -0.01174299,\n",
      "       -1.66095293, -0.26665801, -0.03813487,  0.95668995,  0.32907072,\n",
      "       -0.18514143,  0.49264786, -0.38235715,  0.06346256,  0.19309571,\n",
      "        0.23627743,  0.27359286,  0.15480001, -0.16271295,  0.01811343,\n",
      "        0.06624871, -0.24507141, -0.28186372, -0.63808429,  0.00232143,\n",
      "        0.00224714, -0.51394415, -0.01574643, -0.69506139, -0.065611  ,\n",
      "        0.31341553, -0.07742015, -0.38012144,  0.06646615, -0.79727793,\n",
      "       -0.15138285,  0.28114173,  0.17506628, -0.2060573 , -0.38795185,\n",
      "        0.05691271,  0.128812  , -0.23719843,  0.16993284, -0.49269858,\n",
      "        0.01193757, -0.06915643, -0.28677854,  0.27331713,  0.22564141])}\n"
     ]
    }
   ],
   "source": [
    "for i in range(10):\n",
    "    print(test_ds[i])"
   ]
  },
  {
   "cell_type": "markdown",
   "metadata": {
    "collapsed": false,
    "pycharm": {
     "name": "#%% md\n"
    }
   },
   "source": [
    "Here you can see that the new dataset returned a single numpy array containing all sentence embeddings in our dataset. This is a lot more efficient than returning a list of arrays (which is the default behaviour). Below we check the type and the dimensionality.\n",
    "\n",
    "We will be using `text` subset from our dataset to not use too much RAM."
   ]
  },
  {
   "cell_type": "code",
   "execution_count": 88,
   "metadata": {
    "collapsed": false,
    "pycharm": {
     "name": "#%%\n"
    }
   },
   "outputs": [
    {
     "name": "stdout",
     "output_type": "stream",
     "text": [
      "<class 'numpy.ndarray'>\n",
      "(36000, 100)\n",
      "<class 'numpy.ndarray'>\n",
      "(36000, 100)\n"
     ]
    }
   ],
   "source": [
    "sent_embedding = test_ds['sentence_embedding']\n",
    "compr_embedding = test_ds['compressed_embedding']\n",
    "print(type(sent_embedding))\n",
    "print(sent_embedding.shape)\n",
    "print(type(compr_embedding))\n",
    "print(compr_embedding.shape)"
   ]
  },
  {
   "cell_type": "markdown",
   "metadata": {
    "collapsed": false,
    "pycharm": {
     "name": "#%% md\n"
    }
   },
   "source": [
    "Next we try the condensed representatin based on a simple query. Feel free to try different queries with different words. What happens if we have OOV words in a query?"
   ]
  },
  {
   "cell_type": "code",
   "execution_count": 95,
   "metadata": {
    "collapsed": false,
    "pycharm": {
     "name": "#%%\n"
    }
   },
   "outputs": [
    {
     "name": "stdout",
     "output_type": "stream",
     "text": [
      "fox and deer\n",
      "(100,)\n",
      "[-7.9574332e-02 -3.4770331e-01  1.7729366e-01 -6.0485005e-01\n",
      "  3.0022332e-02 -3.1933334e-01 -3.3017006e-02  3.8080001e-01\n",
      " -9.5549993e-02 -6.8293667e-01 -2.5135002e-01 -2.6160267e-01\n",
      "  5.4243332e-01  4.8967004e-02  6.4244002e-01  1.4520667e-01\n",
      "  1.6598998e-01  2.1143766e-01 -2.9778001e-01  3.7910333e-01\n",
      " -2.5491999e-02  3.0857334e-01  4.4262299e-01 -4.8366687e-03\n",
      "  5.1693004e-01  6.1506337e-01 -1.6002001e-01 -1.9082667e-01\n",
      " -4.2462167e-01 -1.7103335e-02  9.1679998e-02  5.4518598e-01\n",
      "  2.2566617e-03  4.1771331e-01  2.9497001e-01  2.8101999e-01\n",
      " -2.5762668e-02  2.4963665e-01  3.6236334e-01  2.3719667e-01\n",
      " -2.1890998e-01 -2.1570998e-01 -4.9093699e-01  1.8930303e-01\n",
      " -2.2870134e-01  2.5945336e-02  2.1237333e-01 -3.5905001e-01\n",
      "  1.7600060e-03 -3.3630332e-01 -6.9356328e-01 -1.8233334e-01\n",
      "  9.2886640e-03  9.2804670e-01 -2.8199133e-01 -1.7956600e+00\n",
      " -1.0166732e-01  2.3830002e-02  7.7983665e-01  2.9350668e-01\n",
      " -4.9146999e-02  7.9245996e-01  3.5156965e-01  2.4036676e-02\n",
      "  1.1213700e+00  2.1680067e-01  3.5515597e-01 -1.1769990e-02\n",
      "  3.5113668e-01  6.1282998e-01 -2.3524332e-01 -3.1374046e-01\n",
      " -9.6039660e-02 -2.8411800e-01 -3.6390673e-02 -4.3443333e-02\n",
      " -5.8063668e-01  2.6340067e-01 -7.3534006e-01  2.5729999e-01\n",
      "  5.1676673e-01 -4.6536573e-03 -9.2333339e-02 -8.6986661e-02\n",
      " -6.4950603e-01 -1.3533334e-02 -3.5431001e-01  2.1625966e-01\n",
      "  4.4950667e-01  1.6832666e-01 -7.7321000e-02 -9.2248327e-01\n",
      "  1.2464666e-01  1.2446667e-02 -1.1995667e+00 -3.3782998e-01\n",
      " -5.7883334e-01 -2.6139334e-01  6.6624999e-01 -1.2742333e-01]\n"
     ]
    }
   ],
   "source": [
    "query = 'fox and deer'\n",
    "print(query)\n",
    "\n",
    "query_embedding = embed_text(query, clean, tokenize, lambda x: embed_sentence_word_model(x, glove_model))\n",
    "print(query_embedding.shape)\n",
    "print(query_embedding)"
   ]
  },
  {
   "cell_type": "code",
   "execution_count": 97,
   "metadata": {},
   "outputs": [
    {
     "name": "stdout",
     "output_type": "stream",
     "text": [
      "fortnite\n",
      "(100,)\n",
      "[0. 0. 0. 0. 0. 0. 0. 0. 0. 0. 0. 0. 0. 0. 0. 0. 0. 0. 0. 0. 0. 0. 0. 0.\n",
      " 0. 0. 0. 0. 0. 0. 0. 0. 0. 0. 0. 0. 0. 0. 0. 0. 0. 0. 0. 0. 0. 0. 0. 0.\n",
      " 0. 0. 0. 0. 0. 0. 0. 0. 0. 0. 0. 0. 0. 0. 0. 0. 0. 0. 0. 0. 0. 0. 0. 0.\n",
      " 0. 0. 0. 0. 0. 0. 0. 0. 0. 0. 0. 0. 0. 0. 0. 0. 0. 0. 0. 0. 0. 0. 0. 0.\n",
      " 0. 0. 0. 0.]\n"
     ]
    }
   ],
   "source": [
    "query = 'fortnite'\n",
    "print(query)\n",
    "\n",
    "query_embedding = embed_text(query, clean, tokenize, lambda x: embed_sentence_word_model(x, glove_model))\n",
    "print(query_embedding.shape)\n",
    "print(query_embedding)"
   ]
  },
  {
   "cell_type": "markdown",
   "metadata": {
    "collapsed": false,
    "pycharm": {
     "name": "#%% md\n"
    }
   },
   "source": [
    "<a name='e13'></a>\n",
    "### Exercise 13: Analyze sentence embeddings\n",
    "- (5p) Calculate similarity between the word embeddings representations of the selected queries and the dataset sentences.\n",
    "- (5p) Analyze the search results. Does the search work as expected? Discuss the results.\n",
    "- (5p) Compare the results with the ones you got with the bag-of-words and TF-IDF representation. Discuss the differences and similarities."
   ]
  },
  {
   "cell_type": "code",
   "execution_count": null,
   "metadata": {
    "collapsed": false,
    "pycharm": {
     "name": "#%%\n"
    }
   },
   "outputs": [],
   "source": [
    "### YOUR CODE HERE\n",
    "\n",
    "\n",
    "\n",
    "\n",
    "### YOUR CODE ENDS HERE"
   ]
  },
  {
   "cell_type": "markdown",
   "metadata": {
    "id": "ZY2jouFmeHOg",
    "pycharm": {
     "name": "#%% md\n"
    }
   },
   "source": [
    "## 6. Evaluating Retrieval\n",
    "\n",
    "In this last section we will try to evaluate how good our sentence retrieval system is. To keep the computational resources manageable, we will use the test set for that as its size is more manageable.\n",
    "\n",
    "Recall from the lecture in IR that there are several metrics to evaluate retrieval performance by taking into account the relevance of the retrieved results to the query. We will use Recall@K here (for more metrics and more details refer to the lecture slides and the textbooks).\n",
    "\n",
    "RRecall@K is a metric used to measure the effectiveness of a search system in retrieving relevant documents within the top $K$ retrieved documents. It calculates the proportion of relevant documents retrieved within the top-$K$ results, compared to the total number of relevant documents in the collection.\n",
    "\n",
    "$\n",
    "\\text{Recall@K} = \\frac{\\text{Number of relevant documents retrieved in the top }-K}{\\text{Total number of relevant documents}}\n",
    "$\n",
    "\n",
    "In our case, we have a sentence, and it's compressed version. To test our system, we will treat compressed sentences as the queries. Each query will have only a single relevant sentence - the corresponding uncompressed sentence.\n",
    "\n",
    "Therefore, for the calculation of Recall@K we will take into account whether the correct retrieved result is contained within the first $K$ retrieved results. For example, if for a query (i.e. a compressed sentence) we retrieve 10 results and within these we see the relevant one (i.e. the full sentence), then Recall@10 = 1."
   ]
  },
  {
   "cell_type": "markdown",
   "metadata": {
    "id": "QUKPtG-uem9f",
    "pycharm": {
     "name": "#%% md\n"
    }
   },
   "source": [
    "<a name='e14'></a>\n",
    "### Exercise 14: Cosine similarity between two sets of vectors\n",
    "\n",
    "(3p) In this exercise you will revisit your implementation of the cosine similarity. Generalize it so that it can accept two arrays containing two sets of vectors (first one containing $M$ vectors and the second one $N$ vectors). Compute the cosine similarity between each pair of vectors coming from the two sets. The result should be an array of size $M x N$.\n",
    "\n",
    "Once again, try to write an efficient code. This means no loops. Remember the relation between matrix multiplication and dot product. (Depending on your implementation of the previous function calculating cosine similarity, this one can be almost the same)"
   ]
  },
  {
   "cell_type": "code",
   "execution_count": 107,
   "metadata": {
    "id": "xKiHDrN9eld7",
    "pycharm": {
     "name": "#%%\n"
    }
   },
   "outputs": [],
   "source": [
    "def cosine_similarity_m_to_n(vectors, other_vectors):\n",
    "    \"\"\"\n",
    "    Calculates the cosine similarity between a multiple vectors and other vectors.\n",
    "    Args:\n",
    "        vectors: a numpy array representing M number of vectors of D dimensions (of the size MxD)\n",
    "        other_vectors: a 2D numpy array representing other vectors (of the size NxD, where N is the number of vectors and D is their dimension)\n",
    "\n",
    "    Returns: a numpy array of cosine similarity between all the vectors and all the other vectors\n",
    "\n",
    "    \"\"\"\n",
    "\n",
    "    #### YOUR CODE HERE\n",
    "\n",
    "    dot_product = np.dot(vectors, other_vectors.T) # M x N matrix\n",
    "    norms_others = np.linalg.norm(other_vectors, axis=1).reshape(1, -1) #shape(1, N)\n",
    "    norm_vector = np.linalg.norm(vectors, axis = 1).reshape(-1, 1) # shape (M, 1)\n",
    "\n",
    "    similarities_vector = dot_product/(norm_vector*norms_others)\n",
    "\n",
    "    return similarities_vector\n",
    "\n",
    "\n",
    "    ### YOUR CODE ENDS HERE"
   ]
  },
  {
   "cell_type": "markdown",
   "metadata": {
    "id": "qQ-Yhl1Sgoka",
    "pycharm": {
     "name": "#%% md\n"
    }
   },
   "source": [
    "The following function will use your implementation to calculate Recall@K based on the similarity matrix."
   ]
  },
  {
   "cell_type": "code",
   "execution_count": 108,
   "metadata": {
    "id": "z0sLS3uRCfdh",
    "pycharm": {
     "name": "#%%\n"
    }
   },
   "outputs": [],
   "source": [
    "def calculate_recall(queries, sentences, k, batch_size=1000):\n",
    "    \"\"\"\n",
    "    Calculates recall@k given the embeddings of the queries and sentences.\n",
    "    Assumes that only a single sentence with the same index as query is relevant.\n",
    "    Batching is implemented to avoid high memory usage.\n",
    "    Args:\n",
    "        queries: a numpy array with the embeddings of N queries\n",
    "        sentences: a numpy array with the embeddings of N sentences available for retrieval\n",
    "        k: number of top results to search for the relevant sentence\n",
    "        batch_size: number of queries to process at a time\n",
    "\n",
    "    Returns: calculated recall@k\n",
    "\n",
    "    \"\"\"\n",
    "    n_queries = queries.shape[0]\n",
    "    correct = np.zeros(n_queries, dtype=bool)\n",
    "\n",
    "    with tqdm.tqdm(total=n_queries) as pbar:\n",
    "        for batch_start in range(0, n_queries, batch_size):\n",
    "            batch_end = min(batch_start + batch_size, n_queries)\n",
    "            queries_batch = queries[batch_start:batch_end]\n",
    "            batch_similarity = cosine_similarity_m_to_n(queries_batch, sentences)\n",
    "\n",
    "            for i, similarity_row in enumerate(batch_similarity):\n",
    "                query_index = batch_start + i\n",
    "                top_k = top_k_indices(similarity_row, k=k, sorted=False)\n",
    "\n",
    "                if query_index in top_k:\n",
    "                    correct[query_index] = True\n",
    "\n",
    "                pbar.update(1)\n",
    "\n",
    "    recall = np.sum(correct) / n_queries\n",
    "    return recall"
   ]
  },
  {
   "cell_type": "markdown",
   "metadata": {
    "id": "3QgAgMiDgw8m",
    "pycharm": {
     "name": "#%% md\n"
    }
   },
   "source": [
    "You can use it like so:"
   ]
  },
  {
   "cell_type": "code",
   "execution_count": 109,
   "metadata": {
    "id": "Yxpex7ZxHM7c",
    "pycharm": {
     "name": "#%%\n"
    }
   },
   "outputs": [
    {
     "name": "stderr",
     "output_type": "stream",
     "text": [
      "100%|██████████| 36000/36000 [00:20<00:00, 1745.61it/s]"
     ]
    },
    {
     "name": "stdout",
     "output_type": "stream",
     "text": [
      "\n",
      "55.45%\n"
     ]
    },
    {
     "name": "stderr",
     "output_type": "stream",
     "text": [
      "\n"
     ]
    }
   ],
   "source": [
    "recall_at_1 = calculate_recall(compr_embedding, sent_embedding, k=1, batch_size=1000)\n",
    "print(f'\\n{recall_at_1 * 100:.2f}%')"
   ]
  },
  {
   "cell_type": "markdown",
   "metadata": {
    "id": "zY5ZVq5ogzMI",
    "pycharm": {
     "name": "#%% md\n"
    }
   },
   "source": [
    "<a name='e15'></a>\n",
    "### Exercise 15: Evaluating retrieval methods\n",
    "\n",
    "(10p) Calculate recall for different values of $K$ for all methods:\n",
    "- BOW,\n",
    "- TF-IDF,\n",
    "- Pre-trained embeddings.\n",
    "\n",
    "Discuss the results.\n",
    "Comment on how recall changes based on the value of $K$. Are the results expected or surprising?"
   ]
  },
  {
   "cell_type": "code",
   "execution_count": 110,
   "metadata": {
    "collapsed": false,
    "pycharm": {
     "name": "#%%\n"
    }
   },
   "outputs": [
    {
     "name": "stderr",
     "output_type": "stream",
     "text": [
      " 17%|█▋        | 6000/36000 [01:08<03:01, 165.17it/s]C:\\Users\\Timur\\AppData\\Local\\Temp\\ipykernel_17504\\3952638300.py:18: RuntimeWarning: invalid value encountered in divide\n",
      "  similarities_vector = dot_product/(norm_vector*norms_others)\n",
      "100%|██████████| 36000/36000 [05:36<00:00, 107.10it/s]\n",
      "100%|██████████| 36000/36000 [00:29<00:00, 1233.42it/s]\n"
     ]
    },
    {
     "name": "stdout",
     "output_type": "stream",
     "text": [
      "Recall@5 (BOW): 90.11%\n",
      "Recall@5 (Embeddings): 72.26%\n"
     ]
    },
    {
     "name": "stderr",
     "output_type": "stream",
     "text": [
      "100%|██████████| 36000/36000 [05:20<00:00, 112.29it/s]\n",
      "100%|██████████| 36000/36000 [00:29<00:00, 1240.32it/s]\n"
     ]
    },
    {
     "name": "stdout",
     "output_type": "stream",
     "text": [
      "Recall@10 (BOW): 92.66%\n",
      "Recall@10 (Embeddings): 77.83%\n"
     ]
    },
    {
     "name": "stderr",
     "output_type": "stream",
     "text": [
      "100%|██████████| 36000/36000 [05:09<00:00, 116.37it/s]\n",
      "100%|██████████| 36000/36000 [00:28<00:00, 1255.03it/s]\n"
     ]
    },
    {
     "name": "stdout",
     "output_type": "stream",
     "text": [
      "Recall@15 (BOW): 93.83%\n",
      "Recall@15 (Embeddings): 81.01%\n"
     ]
    },
    {
     "name": "stderr",
     "output_type": "stream",
     "text": [
      "100%|██████████| 36000/36000 [05:08<00:00, 116.88it/s]\n",
      "100%|██████████| 36000/36000 [00:27<00:00, 1308.24it/s]\n"
     ]
    },
    {
     "name": "stdout",
     "output_type": "stream",
     "text": [
      "Recall@20 (BOW): 94.59%\n",
      "Recall@20 (Embeddings): 83.04%\n"
     ]
    },
    {
     "name": "stderr",
     "output_type": "stream",
     "text": [
      "100%|██████████| 36000/36000 [04:42<00:00, 127.45it/s]\n",
      "100%|██████████| 36000/36000 [00:26<00:00, 1337.27it/s]"
     ]
    },
    {
     "name": "stdout",
     "output_type": "stream",
     "text": [
      "Recall@25 (BOW): 95.13%\n",
      "Recall@25 (Embeddings): 84.58%\n"
     ]
    },
    {
     "name": "stderr",
     "output_type": "stream",
     "text": [
      "\n"
     ]
    }
   ],
   "source": [
    "#### YOUR CODE HERE\n",
    "\n",
    "k_values = [5,10,15,20,25]\n",
    "recalls_bow = []\n",
    "recalls_embed = []\n",
    "recalls_tfidf = []\n",
    "\n",
    "for n in  k_values:\n",
    "    recall_bow = calculate_recall(test_ds['compressed_bow'], test_ds['sentence_bow'], k=n, batch_size=1000)\n",
    "    recall_model = calculate_recall(test_ds[\"compressed_embedding\"], test_ds[\"sentence_embedding\"], k=n, batch_size=1000)\n",
    "    \n",
    "    # TODO:need to create for the tf_idf\n",
    "    # recall_tf_idf = calculate_recall(compr_embedding, sent_embedding, k=n, batch_size=1000) \n",
    "\n",
    "    print(f\"Recall@{n} (BOW): {recall_bow * 100:.2f}%\")\n",
    "    # print(f\"Recall@{n} (TF-IDF): {recall_tf_idf * 100:.2f}%\")\n",
    "    print(f\"Recall@{n} (Embeddings): {recall_model * 100:.2f}%\")\n",
    "    recalls_bow.append(recall_bow)\n",
    "    recalls_embed.append(recall_model)\n",
    "    # recalls_tfidf.append(recall_tf_idf)\n",
    "\n",
    "\n",
    "\n",
    "### YOUR CODE ENDS HERE"
   ]
  },
  {
   "cell_type": "code",
   "execution_count": 111,
   "metadata": {},
   "outputs": [
    {
     "data": {
      "image/png": "[encoded data removed]",
      "text/plain": [
       "<Figure size 576x432 with 1 Axes>"
      ]
     },
     "metadata": {
      "needs_background": "light"
     },
     "output_type": "display_data"
    }
   ],
   "source": [
    "plt.figure(figsize=(8, 6))\n",
    "plt.plot(k_values, recalls_bow, marker='o', label='BOW')\n",
    "plt.plot(k_values, recalls_embed, marker='s', label='Embeddings/Model')\n",
    "# plt.plot(k_values, recalls_tfidf, marker='x', label='tf-idf')\n",
    "\n",
    "plt.xlabel('k')\n",
    "plt.ylabel('Recall@k')\n",
    "plt.title('Recall@k comparison')\n",
    "plt.legend()\n",
    "plt.grid(True)\n",
    "plt.show()"
   ]
  },
  {
   "cell_type": "markdown",
   "metadata": {
    "collapsed": false,
    "pycharm": {
     "name": "#%% md\n"
    }
   },
   "source": [
    "<a name='e16'></a>\n",
    "### Exercise 16: Improving retrieval\n",
    "\n",
    "(10p) Imagine that you work at a company and are tasked with delivering the best retrieval method. Select the most promising one and try to improve the scores (e.g. by changing the vocab size, loading different model, etc.).\n",
    "Discuss the results you achieve, even if you didn't manage to improve the scores."
   ]
  },
  {
   "cell_type": "code",
   "execution_count": null,
   "metadata": {
    "id": "YA9bEm5ehMq8",
    "pycharm": {
     "name": "#%%\n"
    }
   },
   "outputs": [],
   "source": [
    "#### YOUR CODE HERE\n",
    "\n",
    "\n",
    "\n",
    "### YOUR CODE ENDS HERE"
   ]
  },
  {
   "cell_type": "markdown",
   "metadata": {
    "collapsed": false,
    "pycharm": {
     "name": "#%% md\n"
    }
   },
   "source": [
    "// your comments"
   ]
  }
 ],
 "metadata": {
  "colab": {
   "provenance": [],
   "toc_visible": true
  },
  "kernelspec": {
   "display_name": "Python 3",
   "language": "python",
   "name": "python3"
  },
  "language_info": {
   "codemirror_mode": {
    "name": "ipython",
    "version": 3
   },
   "file_extension": ".py",
   "mimetype": "text/x-python",
   "name": "python",
   "nbconvert_exporter": "python",
   "pygments_lexer": "ipython3",
   "version": "3.9.7"
  }
 },
 "nbformat": 4,
 "nbformat_minor": 0
}
