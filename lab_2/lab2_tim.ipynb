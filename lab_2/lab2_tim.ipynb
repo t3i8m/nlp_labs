{
 "cells": [
  {
   "cell_type": "markdown",
   "metadata": {
    "collapsed": false,
    "id": "od2YkWY8pSOC",
    "pycharm": {
     "name": "#%% md\n"
    }
   },
   "source": [
    "# NLP 2025\n",
    "# Lab 2: Word Vectors and Information Retrieval\n",
    "\n",
    "During the first few weeks, we discussed various ways to represent text 📝. One key question was: What should be the basic unit of representation? Words are the fundamental building blocks 🧱.\n",
    "\n",
    "In this lab, we will explore different text representation models, such as Bag-of-Words (BoW), TF-IDF and word embeddings 🔤➡️🔢. Among these, word embeddings are the most effective in terms of performance. They represent each word as a vector of numbers, where each vector captures the meaning of the word 🧠📊.\n",
    "\n",
    "These numerical representations (or weights) are learned using machine learning models 🤖. We’ll dive deeper into how these vectors are learned in the next lecture 📚.\n",
    "\n",
    "For now, we’ll focus on how different representation methods affect performance in an information retrieval task 🔍."
   ]
  },
  {
   "cell_type": "markdown",
   "metadata": {
    "collapsed": false,
    "id": "s93LS5bspSOD",
    "pycharm": {
     "name": "#%% md\n"
    }
   },
   "source": [
    "By the end of this lab, you should be able to:\n",
    "\n",
    "+ 🧼🔁 Implement and/or use built-in functions to preprocess your data (once again!)\n",
    "+ 🧱👜 Build a Bag-of-Words representation of the dataset\n",
    "+ 📊✨ Implement TF-IDF\n",
    "+ 📥🔤 Load pre-trained word embeddings\n",
    "+ 🔍🧠 Inspect and test word embedding properties\n",
    "+ 🗣️➡️📐 Use word embeddings to get sentence representations (aka sentence embeddings)\n",
    "+ 🧩🔎 Use sentence embeddings to solve more complex tasks like information retrieval\n",
    "+ 🧪📏 Design evaluation frameworks for specific NLP tasks and assess their difficulty\n",
    "\n",
    "### Score breakdown\n",
    "\n",
    "| Exercise            | Points |\n",
    "|---------------------|--------|\n",
    "| [Exercise 1](#e1)   | 1      |\n",
    "| [Exercise 2](#e2)   | 1      |\n",
    "| [Exercise 3](#e3)   | 1      |\n",
    "| [Exercise 4](#e4)   | 1      |\n",
    "| [Exercise 5](#e5)   | 1      |\n",
    "| [Exercise 6](#e6)   | 2      |\n",
    "| [Exercise 7](#e7)   | 10     |\n",
    "| [Exercise 8](#e8)   | 5      |\n",
    "| [Exercise 9](#e9)   | 15     |\n",
    "| [Exercise 10](#e10) | 10     |\n",
    "| [Exercise 11](#e11) | 10     |\n",
    "| [Exercise 12](#e12) | 5      |\n",
    "| [Exercise 13](#e13) | 15     |\n",
    "| [Exercise 14](#e14) | 3      |\n",
    "| [Exercise 15](#e15) | 10     |\n",
    "| [Exercise 16](#e16) | 10     |\n",
    "| Total               | 100    |\n",
    "\n",
    "This score will be scaled down to 1 and that will be your final lab score.\n",
    "\n",
    "### 📌 **Instructions for Delivery** (📅 **Deadline: 18/Apr 18:00**, 🎭 *wildcards possible*)\n",
    "\n",
    "✅ **Submission Requirements**\n",
    "+ 📄 You need to submit a **PDF of your report** (use the templates provided in **LaTeX** 🖋️ (*preferred*) or **Word** 📑) and a **copy of your notebook** 📓 with the code.\n",
    "+ ⚡ Make sure that **all cells are executed properly** ⚙️ and that **all figures/results/plots** 📊 you include in the report are also visible in your **executed notebook**.\n",
    "\n",
    "✅ **Collaboration & Integrity**\n",
    "+ 🗣️ While you may **discuss** the lab with others, you must **write your solutions with your group only**. If you **discuss specific tasks** with others, please **include their names** in the appendix of the report.\n",
    "+ 📜 **Honor Code applies** to this lab. For more details, check **Syllabus §7.2** ⚖️.\n",
    "+ 📢 **Mandatory Disclosure**:\n",
    "   - Any **websites** 🌐 (e.g., **Stack Overflow** 💡) or **other resources** used must be **listed and disclosed**.\n",
    "   - Any **GenAI tools** 🤖 (e.g., **ChatGPT**) used must be **explicitly mentioned**.\n",
    "   - 🚨 **Failure to disclose these resources is a violation of academic integrity**. See **Syllabus §7.3** for details."
   ]
  },
  {
   "cell_type": "markdown",
   "metadata": {
    "collapsed": false,
    "id": "aHYGq5RUpSOD",
    "pycharm": {
     "name": "#%% md\n"
    }
   },
   "source": [
    "## 0. Setup\n",
    "\n",
    "As in the last lab, we will be using huggingface datasets library ([https://huggingface.co/datasets](https://huggingface.co/datasets)). You can find the detailed documentation and tutorials here: [https://huggingface.co/docs/datasets/en/index](https://huggingface.co/docs/datasets/en/index)\n",
    "\n",
    "If you don't have it installed you can run the code below or install it via `pip` in your terminal. If you are using Google Colab, you can uncomment and run the code below in a code cell. Restarting of the runtime may be required after installation (Runtime/Restart session)."
   ]
  },
  {
   "cell_type": "code",
   "execution_count": 1,
   "metadata": {
    "id": "rhEG8hKrpSOE",
    "pycharm": {
     "name": "#%%\n"
    }
   },
   "outputs": [],
   "source": [
    "# ! pip install -U datasets~=3.5.0\n",
    "# ! pip install -U gensim\n",
    "# ! python -m pip install -U matplotlib\n",
    "# ! pip install nltk\n",
    "# ! pip install -U scikit-learn\n"
   ]
  },
  {
   "cell_type": "markdown",
   "metadata": {
    "collapsed": false,
    "pycharm": {
     "name": "#%% md\n"
    }
   },
   "source": [
    "Previously installed datasets library version of 3.2.0 had an error when combined with numpy version >2. If you encounter an error at some point it might require to update the datasets library to the newer version. You can do that by running the code below. If you are using Google Colab, you can run the code below in a code cell. If you are using Jupyter Notebook, you can run the code below in a code cell or in a terminal."
   ]
  },
  {
   "cell_type": "code",
   "execution_count": 2,
   "metadata": {
    "collapsed": false,
    "pycharm": {
     "name": "#%%\n"
    }
   },
   "outputs": [],
   "source": [
    "# ! pip install --upgrade --force-reinstall datasets"
   ]
  },
  {
   "cell_type": "markdown",
   "metadata": {
    "collapsed": false,
    "id": "5CCI1TPJpSOF",
    "pycharm": {
     "name": "#%% md\n"
    }
   },
   "source": [
    "As usual, we start by importing some essential Python libraries and we will be using. Apart from `gensim` (which is going to be used for word embeddings), we have already seen the others."
   ]
  },
  {
   "cell_type": "code",
   "execution_count": 3,
   "metadata": {
    "id": "CRe8W4hKpSOF",
    "pycharm": {
     "name": "#%%\n"
    }
   },
   "outputs": [],
   "source": [
    "import re\n",
    "\n",
    "import numpy as np\n",
    "import matplotlib.pyplot as plt\n",
    "import datasets\n",
    "import nltk\n",
    "import random\n",
    "import tqdm\n",
    "# import gensim\n",
    "\n",
    "# nltk.download('punkt_tab')"
   ]
  },
  {
   "cell_type": "markdown",
   "metadata": {
    "collapsed": false,
    "id": "NXy-1KiCpSOF",
    "pycharm": {
     "name": "#%% md\n"
    }
   },
   "source": [
    "## 1. Load and Preprocess Data\n",
    "\n",
    "*Sentence compression* involves rephrasing sentences to make them shorter while still retaining the original meaning. A reliable compression system would be valuable for mobile devices and could also serve as a component in an extractive summarization system.\n",
    "\n",
    "The dataset we are going to use can be found on [Huggingface](https://huggingface.co/datasets/embedding-data/sentence-compression). It concerns a set of 180,000 pairs of sentences, aka it is a parallel corpus of sentences and their equivalent compressions. It has been collected by harvesting news articles from the Internet where the headline appears to be similar to the first sentence and that property is used to find an \"extractive\" compression of the sentence.\n",
    "\n",
    "For example, for the sentence\n",
    "\n",
    "`\"Regulators Friday shut down a small Florida bank, bringing to 119 the number of US bank failures this year amid mounting loan defaults\"`\n",
    "\n",
    "the compressed equivalent (based on the dataset) is:\n",
    "\n",
    "`\"Regulators shut down small Florida bank\"`.\n",
    "\n",
    "\n",
    "For more information you can read the original paper (from Google) [here](https://aclanthology.org/D13-1155.pdf). We strongly recommend going over the paper to gain further insights. Notice that the paper is from 2013, therefore word embeddings have not been widely introduced yet in NLP tasks, meaning that the methods applied were based on the traditional NLP pipeline (feature extraction + ML)."
   ]
  },
  {
   "cell_type": "markdown",
   "metadata": {
    "collapsed": false,
    "id": "ztJX2GRVpSOF",
    "pycharm": {
     "name": "#%% md\n"
    }
   },
   "source": [
    "### 1.1 Loading the Dataset\n",
    "\n",
    "The dataset will be loaded as a Pandas DataFrame. This may take a few minutes because of the large size of the data.\n",
    "\n",
    "Make sure to inspect the dataset and make sure it is imported properly."
   ]
  },
  {
   "cell_type": "code",
   "execution_count": 4,
   "metadata": {
    "id": "tay2NXPTpSOG",
    "pycharm": {
     "name": "#%%\n"
    }
   },
   "outputs": [
    {
     "data": {
      "application/vnd.jupyter.widget-view+json": {
       "model_id": "0cfaaaec536d46828e8616b7d3327626",
       "version_major": 2,
       "version_minor": 0
      },
      "text/plain": [
       "README.md:   0%|          | 0.00/4.88k [00:00<?, ?B/s]"
      ]
     },
     "metadata": {},
     "output_type": "display_data"
    },
    {
     "data": {
      "application/vnd.jupyter.widget-view+json": {
       "model_id": "56f9a3df2fa148808f5dfc0b4d40da74",
       "version_major": 2,
       "version_minor": 0
      },
      "text/plain": [
       "sentence-compression_compressed.jsonl.gz:   0%|          | 0.00/14.2M [00:00<?, ?B/s]"
      ]
     },
     "metadata": {},
     "output_type": "display_data"
    },
    {
     "data": {
      "application/vnd.jupyter.widget-view+json": {
       "model_id": "a196769b477c4f33a0d78cfa6305091c",
       "version_major": 2,
       "version_minor": 0
      },
      "text/plain": [
       "Generating train split:   0%|          | 0/180000 [00:00<?, ? examples/s]"
      ]
     },
     "metadata": {},
     "output_type": "display_data"
    },
    {
     "name": "stdout",
     "output_type": "stream",
     "text": [
      "DatasetDict({\n",
      "    train: Dataset({\n",
      "        features: ['set'],\n",
      "        num_rows: 180000\n",
      "    })\n",
      "})\n"
     ]
    }
   ],
   "source": [
    "ds = datasets.load_dataset('embedding-data/sentence-compression')\n",
    "print(ds)"
   ]
  },
  {
   "cell_type": "code",
   "execution_count": 5,
   "metadata": {
    "id": "bUud3eZVpSOH",
    "pycharm": {
     "name": "#%%\n"
    }
   },
   "outputs": [
    {
     "name": "stdout",
     "output_type": "stream",
     "text": [
      "{'set': [\"The USHL completed an expansion draft on Monday as 10 players who were on the rosters of USHL teams during the 2009-10 season were selected by the League's two newest entries, the Muskegon Lumberjacks and Dubuque Fighting Saints.\", 'USHL completes expansion draft']}\n",
      "{'set': ['Major League Baseball Commissioner Bud Selig will be speaking at St. Norbert College next month.', 'Bud Selig to speak at St. Norbert College']}\n",
      "{'set': [\"It's fresh cherry time in Michigan and the best time to enjoy this delicious and nutritious fruit.\", \"It's cherry time\"]}\n",
      "{'set': ['An Evesham man is facing charges in Pennsylvania after he allegedly dragged his girlfriend from the side of his pickup truck on the campus of Kutztown University in the early morning hours of Dec. 5, police said.', 'Evesham man faces charges for Pa.']}\n",
      "{'set': [\"NRT LLC, one of the nation's largest residential real estate brokerage companies, announced several executive appointments within its Coldwell Banker Residential Brokerage operations in Southern California.\", 'NRT announces executive appointments at its Coldwell Banker operations in Southern California']}\n",
      "{'set': ['THE JSE kept toying with an all time high by midday today as resources continued to fuel the bourse.', 'JSE keeps toying with all time high']}\n",
      "{'set': ['The government is defending the latest police crime statistics despite a worrying rise in the recorded amount of violent offending.', 'Government defends crime statistics']}\n",
      "{'set': ['The renovated Marappalam bridge, which had been opened for two-wheelers last week, was opened for other vehicles also on Friday.', 'Marappalam bridge opened']}\n",
      "{'set': ['A new survey shows 30 percent of Californians use Twitter, and more and more of us are using our smart phones to go online.', 'Survey: 30 percent of Californians use Twitter']}\n",
      "{'set': ['Brightpoint ,a provider of logistic services to the mobile industry, has started operations in the Turkish market.', 'Brightpoint starts operations on Turkish market']}\n"
     ]
    }
   ],
   "source": [
    "for i in range(10):\n",
    "    print(ds['train'][i])"
   ]
  },
  {
   "cell_type": "markdown",
   "metadata": {
    "collapsed": false,
    "id": "HfJSiWxrpSOH",
    "pycharm": {
     "name": "#%% md\n"
    }
   },
   "source": [
    "The dataset comes with only the `train` split so we will have to split it ourselves."
   ]
  },
  {
   "cell_type": "code",
   "execution_count": 6,
   "metadata": {},
   "outputs": [],
   "source": [
    "SEED_VALUE = 505 \n",
    "\n",
    "\n",
    "random.seed(SEED_VALUE)\n",
    "np.random.seed(SEED_VALUE)"
   ]
  },
  {
   "cell_type": "code",
   "execution_count": 7,
   "metadata": {
    "id": "tATL53MWpSOH",
    "pycharm": {
     "name": "#%%\n"
    }
   },
   "outputs": [
    {
     "name": "stdout",
     "output_type": "stream",
     "text": [
      "DatasetDict({\n",
      "    train: Dataset({\n",
      "        features: ['set'],\n",
      "        num_rows: 144000\n",
      "    })\n",
      "    test: Dataset({\n",
      "        features: ['set'],\n",
      "        num_rows: 36000\n",
      "    })\n",
      "})\n"
     ]
    }
   ],
   "source": [
    "split_ds = ds['train'].train_test_split(test_size=0.2)\n",
    "print(split_ds)"
   ]
  },
  {
   "cell_type": "markdown",
   "metadata": {
    "collapsed": false,
    "id": "L133t3CqpSOH",
    "pycharm": {
     "name": "#%% md\n"
    }
   },
   "source": [
    "### 1.2 Preprocessing the dataset\n",
    "In this section we will prepare the dataset, aka clean the sentences and tokenize.\n",
    "\n",
    "First, let's write the function to clean the text. It can be similar to the one from the previous lab (Lab1) but make sure that it makes sense for this dataset and task.\n",
    "\n",
    "More specifically, think about lower-casing, punctuation, stop-words and lemmatization/stemming and the impact it might have on the dataset. Also reflect on the fact that with word embeddings we want to uncover semantic relationships between words, whereas with bag-of-words we were trying to capture different morphological variations."
   ]
  },
  {
   "cell_type": "markdown",
   "metadata": {
    "collapsed": false,
    "id": "mQszN6GNpSOH",
    "pycharm": {
     "name": "#%% md\n"
    }
   },
   "source": [
    "<a name='e1'></a>\n",
    "### Exercise 1: Clean function\n",
    "(1p) Fill in the following function ot clean the dataset. Implement at least 3 different steps."
   ]
  },
  {
   "cell_type": "code",
   "execution_count": 8,
   "metadata": {},
   "outputs": [
    {
     "name": "stderr",
     "output_type": "stream",
     "text": [
      "[nltk_data] Downloading package wordnet to\n",
      "[nltk_data]     /Users/nichitabulgaru/nltk_data...\n",
      "[nltk_data]   Package wordnet is already up-to-date!\n",
      "[nltk_data] Downloading package averaged_perceptron_tagger_eng to\n",
      "[nltk_data]     /Users/nichitabulgaru/nltk_data...\n",
      "[nltk_data]   Package averaged_perceptron_tagger_eng is already up-to-\n",
      "[nltk_data]       date!\n"
     ]
    },
    {
     "data": {
      "text/plain": [
       "True"
      ]
     },
     "execution_count": 8,
     "metadata": {},
     "output_type": "execute_result"
    }
   ],
   "source": [
    "nltk.download('wordnet')\n",
    "nltk.download('averaged_perceptron_tagger_eng')"
   ]
  },
  {
   "cell_type": "code",
   "execution_count": 9,
   "metadata": {},
   "outputs": [],
   "source": [
    "from nltk.corpus import wordnet\n",
    "\n",
    "def get_wordnet_pos(treebank_tag):\n",
    "    \"\"\"\n",
    "    get pos tags\n",
    "    \"\"\"\n",
    "    if treebank_tag.startswith('J'):\n",
    "        return wordnet.ADJ\n",
    "    elif treebank_tag.startswith('V'):\n",
    "        return wordnet.VERB\n",
    "    elif treebank_tag.startswith('N'):\n",
    "        return wordnet.NOUN\n",
    "    elif treebank_tag.startswith('R'):\n",
    "        return wordnet.ADV\n",
    "    else:\n",
    "        return wordnet.NOUN "
   ]
  },
  {
   "cell_type": "code",
   "execution_count": 10,
   "metadata": {
    "id": "TxjfLQj6pSOH",
    "pycharm": {
     "name": "#%%\n"
    }
   },
   "outputs": [],
   "source": [
    "def clean(text):\n",
    "    \"\"\"\n",
    "    Cleans the given text\n",
    "    Args:\n",
    "        text: a str with the text to clean\n",
    "\n",
    "    Returns: a str with the cleaned text\n",
    "\n",
    "    \"\"\"\n",
    "\n",
    "    # Empty text\n",
    "    if text == '':\n",
    "        return text\n",
    "\n",
    "    # 'text' from the example can be of type numpy.str_, let's convert it to a python str\n",
    "    text = str(text)\n",
    "\n",
    "    #you might need more\n",
    "    #add them here\n",
    "\n",
    "    ### YOUR CODE HERE\n",
    "    text = text.lower() # bringing to the lowercase\n",
    "\n",
    "    # punctuation removal\n",
    "    pattern = r\"[^\\w\\s]\"\n",
    "    text = re.sub(pattern, \"\", text)\n",
    "\n",
    "    # stop words removal (is, and, the...) is not nescessary, may transform the context, especially when we are dealing with the sentence compression\n",
    "\n",
    "    # lemmatization \n",
    "    lemmatizer = nltk.stem.WordNetLemmatizer()\n",
    "    tagged = nltk.pos_tag(text.split())\n",
    "    text = [lemmatizer.lemmatize(n, get_wordnet_pos(pos)) for n, pos in tagged]\n",
    "    \n",
    "    text = \" \".join(text)\n",
    "    ### YOUR CODE ENDS HERE\n",
    "\n",
    "    text = text.strip()\n",
    "\n",
    "    # Update the example with the cleaned text\n",
    "    return text"
   ]
  },
  {
   "cell_type": "markdown",
   "metadata": {
    "collapsed": false,
    "id": "gAqf1AoupSOJ",
    "pycharm": {
     "name": "#%% md\n"
    }
   },
   "source": [
    "The following function will apply the function (sic) you just wrote to the whole dataset. More specifically, it takes the first entry (`sentence`) from the set of uncompressed/compressed pairs, applies the `clean` function and saves the processed sentence in the field `clean_sentence`. The same is dome for the compressed version of the sentence (saved as `clean_compressed`)."
   ]
  },
  {
   "cell_type": "code",
   "execution_count": 11,
   "metadata": {
    "id": "WZn-M4_vpSOJ",
    "pycharm": {
     "name": "#%%\n"
    }
   },
   "outputs": [],
   "source": [
    "def clean_dataset(example):\n",
    "    \"\"\"\n",
    "    Cleans the sentence and compressed sentence in the example from the Dataset\n",
    "    Args:\n",
    "        example: an example from the Dataset\n",
    "\n",
    "    Returns: updated example with 'clean_sentence' and 'clean_compressed' cleaned\n",
    "\n",
    "    \"\"\"\n",
    "    sentence, compressed = example['set']\n",
    "    clean_sentence = clean(sentence)\n",
    "    clean_compressed = clean(compressed)\n",
    "    example['clean_sentence'] = clean_sentence\n",
    "    example['clean_compressed'] = clean_compressed\n",
    "    return example"
   ]
  },
  {
   "cell_type": "markdown",
   "metadata": {
    "collapsed": false,
    "id": "_KVujosKpSOJ",
    "pycharm": {
     "name": "#%% md\n"
    }
   },
   "source": [
    "Below we apply the function to the whole dataset (using `map`) and we can also inspect the result."
   ]
  },
  {
   "cell_type": "code",
   "execution_count": 12,
   "metadata": {
    "id": "NBS1JbISpSOJ",
    "pycharm": {
     "name": "#%%\n"
    }
   },
   "outputs": [
    {
     "data": {
      "application/vnd.jupyter.widget-view+json": {
       "model_id": "7a12e7f882da4c58a8d4a44943656290",
       "version_major": 2,
       "version_minor": 0
      },
      "text/plain": [
       "Map:   0%|          | 0/144000 [00:00<?, ? examples/s]"
      ]
     },
     "metadata": {},
     "output_type": "display_data"
    },
    {
     "data": {
      "application/vnd.jupyter.widget-view+json": {
       "model_id": "4c9cf7b2e9e64cba9296f636736e8b66",
       "version_major": 2,
       "version_minor": 0
      },
      "text/plain": [
       "Map:   0%|          | 0/36000 [00:00<?, ? examples/s]"
      ]
     },
     "metadata": {},
     "output_type": "display_data"
    },
    {
     "name": "stdout",
     "output_type": "stream",
     "text": [
      "DatasetDict({\n",
      "    train: Dataset({\n",
      "        features: ['set', 'clean_sentence', 'clean_compressed'],\n",
      "        num_rows: 144000\n",
      "    })\n",
      "    test: Dataset({\n",
      "        features: ['set', 'clean_sentence', 'clean_compressed'],\n",
      "        num_rows: 36000\n",
      "    })\n",
      "})\n"
     ]
    }
   ],
   "source": [
    "split_ds = split_ds.map(clean_dataset)\n",
    "print(split_ds)"
   ]
  },
  {
   "cell_type": "markdown",
   "metadata": {
    "collapsed": false,
    "id": "X_ThE9H-pSOJ",
    "pycharm": {
     "name": "#%% md\n"
    }
   },
   "source": [
    "Let's examine some examples from the dataset and make sure that we got the results we wanted. At this step, it might be necessary to revisit some pre-processing steps if you are not happy with the results."
   ]
  },
  {
   "cell_type": "code",
   "execution_count": 13,
   "metadata": {
    "id": "hP-qOPijpSOJ",
    "pycharm": {
     "name": "#%%\n"
    }
   },
   "outputs": [
    {
     "name": "stdout",
     "output_type": "stream",
     "text": [
      "{'set': ['Internationally renowned Irish chamber orchestra Camerata Ireland and award-winning pianist Barry Douglas with soprano Celine Byrne come to Central Florida for a one-performance-only engagement.', 'Irish chamber orchestra Camerata Ireland comes to Central Florida'], 'clean_sentence': 'internationally renowned irish chamber orchestra camerata ireland and awardwinning pianist barry douglas with soprano celine byrne come to central florida for a oneperformanceonly engagement', 'clean_compressed': 'irish chamber orchestra camerata ireland come to central florida'}\n",
      "{'set': ['Granite Construction Incorporated today announced James H. Roberts, executive vice president and chief operating officer, will present at the NYSSA Construction and Materials Industry Conference in New York City at 9:35 am on Tuesday, September 22, 2009.', 'Granite Construction to present at the NYSSA Construction and Materials Industry Conference'], 'clean_sentence': 'granite construction incorporate today announce james h robert executive vice president and chief operate officer will present at the nyssa construction and material industry conference in new york city at 935 be on tuesday september 22 2009', 'clean_compressed': 'granite construction to present at the nyssa construction and material industry conference'}\n",
      "{'set': ['Aust commits a further $10m aid to Syria Updated: 05:45, Thursday January 31, 2013 Australia has committed another $10 million in aid to help people affected by the ongoing conflict in Syria.', 'Aust commits a further $10m aid to Syria'], 'clean_sentence': 'aust commit a further 10m aid to syria updated 0545 thursday january 31 2013 australia have commit another 10 million in aid to help people affect by the ongoing conflict in syria', 'clean_compressed': 'aust commit a further 10m aid to syria'}\n",
      "{'set': ['FORMER world champion Mark Cavendish is to leave Team Sky for Belgian outfit Omega Pharma-Quickstep after just one year with the Tour de France winning team.', 'Mark Cavendish to leave team Sky for Omega Pharma-Quickstep'], 'clean_sentence': 'former world champion mark cavendish be to leave team sky for belgian outfit omega pharmaquickstep after just one year with the tour de france win team', 'clean_compressed': 'mark cavendish to leave team sky for omega pharmaquickstep'}\n",
      "{'set': ['A police lieutenant resigned Friday after he was placed under investigation and suspended without pay due to an arrest earlier this month.', 'Police lieutenant resigns'], 'clean_sentence': 'a police lieutenant resign friday after he be place under investigation and suspend without pay due to an arrest earlier this month', 'clean_compressed': 'police lieutenant resigns'}\n",
      "{'set': ['Governor Quinn is in Boston today, trying to recruit new businesses and jobs to Illinois.', 'Governor Quinn in Boston to recruit new business'], 'clean_sentence': 'governor quinn be in boston today try to recruit new business and job to illinois', 'clean_compressed': 'governor quinn in boston to recruit new business'}\n",
      "{'set': ['J&T , a Slovak private equity group, may create a new holding which is likely to include SES Tlmace, a producer of industrial boilers.', 'J&T may create new holding'], 'clean_sentence': 'jt a slovak private equity group may create a new hold which be likely to include s tlmace a producer of industrial boiler', 'clean_compressed': 'jt may create new hold'}\n",
      "{'set': ['Henry County residents are encouraged to vote in the Aug. 21 runoff to decide who will advance to the November election in two board of commission races.', 'Residents encouraged to vote in runoff'], 'clean_sentence': 'henry county resident be encourage to vote in the aug 21 runoff to decide who will advance to the november election in two board of commission race', 'clean_compressed': 'resident encourage to vote in runoff'}\n",
      "{'set': ['Lindsay Lohan was spotted picking up a homeless prostitute dressed in a black tank top and wearing a small, metal cross.', 'Lindsay Lohan picks up homeless prostitutes'], 'clean_sentence': 'lindsay lohan be spot pick up a homeless prostitute dress in a black tank top and wear a small metal cross', 'clean_compressed': 'lindsay lohan pick up homeless prostitute'}\n",
      "{'set': ['TBS has renewed Cougar Town for a fifth season, the network announced Monday.', \"Tbs renews 'Cougar Town'\"], 'clean_sentence': 'tb have renew cougar town for a fifth season the network announce monday', 'clean_compressed': 'tbs renews cougar town'}\n"
     ]
    }
   ],
   "source": [
    "for i in range(10):\n",
    "    print(split_ds['train'][i])"
   ]
  },
  {
   "cell_type": "markdown",
   "metadata": {
    "collapsed": false,
    "id": "7LI2KlfypSOJ",
    "pycharm": {
     "name": "#%% md\n"
    }
   },
   "source": [
    "<a name='e2'></a>\n",
    "### Exercise 2: Tokenize function\n",
    "\n",
    "(1p) As always, we will need to tokenize the dataset in order to create bat-of-words and TF-IDF representations in the next sections. We will use the [Natural Language Toolkit (NLTK) library]([https://www.nltk.org/]) (https://www.nltk.org/). Complete the following function to split the text into tokens using the `word_tokenize()` function. Check the [documentation](https://www.nltk.org/api/nltk.tokenize.word_tokenize.html?highlight=word_tokenize) first.\n",
    "Note that there are different tokenizers e.g. `RegexpTokenizer` where you can enter your own regexp, `WhitespaceTokenizer` (similar to Python's string.split()) and `BlanklineTokenizer`."
   ]
  },
  {
   "cell_type": "code",
   "execution_count": 14,
   "metadata": {
    "id": "sb-M3V6ApSOK",
    "pycharm": {
     "name": "#%%\n"
    }
   },
   "outputs": [],
   "source": [
    "def tokenize(text):\n",
    "    \"\"\"\n",
    "    Tokenizes the `text` parameter using nltk library\n",
    "    Args:\n",
    "        text: a string representing a sentence to be tokenized\n",
    "\n",
    "    Returns: a list of tokens (strings)\n",
    "\n",
    "    \"\"\"\n",
    "\n",
    "    ### YOUR CODE HERE\n",
    "\n",
    "    tokens = nltk.tokenize.word_tokenize(text)\n",
    "\n",
    "    ### YOUR CODE ENDS HERE\n",
    "    return tokens"
   ]
  },
  {
   "cell_type": "markdown",
   "metadata": {
    "collapsed": false,
    "id": "gwsHqZc9pSOK",
    "pycharm": {
     "name": "#%% md\n"
    }
   },
   "source": [
    "Next, the function will be applied to the whole dataset (as we did with the pre-processing) and `sentence_tokens` field will be created to store the result."
   ]
  },
  {
   "cell_type": "code",
   "execution_count": 15,
   "metadata": {
    "id": "6sTX-AcTpSOK",
    "pycharm": {
     "name": "#%%\n"
    }
   },
   "outputs": [],
   "source": [
    "def tokenize_dataset(example):\n",
    "    \"\"\"\n",
    "    Tokenizes 'clean_sentence' columns in the example from the Dataset\n",
    "    Args:\n",
    "        example: an example from the Dataset\n",
    "\n",
    "    Returns: updated example with 'sentence_tokens' columns\n",
    "\n",
    "    \"\"\"\n",
    "    example['sentence_tokens'] = tokenize(example['clean_sentence'])\n",
    "    example['compressed_tokens'] = tokenize(example['clean_compressed'])\n",
    "    return example"
   ]
  },
  {
   "cell_type": "code",
   "execution_count": 16,
   "metadata": {
    "id": "jvwmXLj2pSOK",
    "pycharm": {
     "name": "#%%\n"
    }
   },
   "outputs": [
    {
     "data": {
      "application/vnd.jupyter.widget-view+json": {
       "model_id": "ca1b718ce13a490480bf8b1e85ce9cf7",
       "version_major": 2,
       "version_minor": 0
      },
      "text/plain": [
       "Map:   0%|          | 0/144000 [00:00<?, ? examples/s]"
      ]
     },
     "metadata": {},
     "output_type": "display_data"
    },
    {
     "data": {
      "application/vnd.jupyter.widget-view+json": {
       "model_id": "303395088dc541e1bb31887021572f58",
       "version_major": 2,
       "version_minor": 0
      },
      "text/plain": [
       "Map:   0%|          | 0/36000 [00:00<?, ? examples/s]"
      ]
     },
     "metadata": {},
     "output_type": "display_data"
    }
   ],
   "source": [
    "split_ds = split_ds.map(tokenize_dataset)"
   ]
  },
  {
   "cell_type": "code",
   "execution_count": 17,
   "metadata": {
    "id": "yXnje31SpSOK",
    "pycharm": {
     "name": "#%%\n"
    }
   },
   "outputs": [
    {
     "name": "stdout",
     "output_type": "stream",
     "text": [
      "{'set': ['Internationally renowned Irish chamber orchestra Camerata Ireland and award-winning pianist Barry Douglas with soprano Celine Byrne come to Central Florida for a one-performance-only engagement.', 'Irish chamber orchestra Camerata Ireland comes to Central Florida'], 'clean_sentence': 'internationally renowned irish chamber orchestra camerata ireland and awardwinning pianist barry douglas with soprano celine byrne come to central florida for a oneperformanceonly engagement', 'clean_compressed': 'irish chamber orchestra camerata ireland come to central florida', 'sentence_tokens': ['internationally', 'renowned', 'irish', 'chamber', 'orchestra', 'camerata', 'ireland', 'and', 'awardwinning', 'pianist', 'barry', 'douglas', 'with', 'soprano', 'celine', 'byrne', 'come', 'to', 'central', 'florida', 'for', 'a', 'oneperformanceonly', 'engagement'], 'compressed_tokens': ['irish', 'chamber', 'orchestra', 'camerata', 'ireland', 'come', 'to', 'central', 'florida']}\n",
      "{'set': ['Granite Construction Incorporated today announced James H. Roberts, executive vice president and chief operating officer, will present at the NYSSA Construction and Materials Industry Conference in New York City at 9:35 am on Tuesday, September 22, 2009.', 'Granite Construction to present at the NYSSA Construction and Materials Industry Conference'], 'clean_sentence': 'granite construction incorporate today announce james h robert executive vice president and chief operate officer will present at the nyssa construction and material industry conference in new york city at 935 be on tuesday september 22 2009', 'clean_compressed': 'granite construction to present at the nyssa construction and material industry conference', 'sentence_tokens': ['granite', 'construction', 'incorporate', 'today', 'announce', 'james', 'h', 'robert', 'executive', 'vice', 'president', 'and', 'chief', 'operate', 'officer', 'will', 'present', 'at', 'the', 'nyssa', 'construction', 'and', 'material', 'industry', 'conference', 'in', 'new', 'york', 'city', 'at', '935', 'be', 'on', 'tuesday', 'september', '22', '2009'], 'compressed_tokens': ['granite', 'construction', 'to', 'present', 'at', 'the', 'nyssa', 'construction', 'and', 'material', 'industry', 'conference']}\n",
      "{'set': ['Aust commits a further $10m aid to Syria Updated: 05:45, Thursday January 31, 2013 Australia has committed another $10 million in aid to help people affected by the ongoing conflict in Syria.', 'Aust commits a further $10m aid to Syria'], 'clean_sentence': 'aust commit a further 10m aid to syria updated 0545 thursday january 31 2013 australia have commit another 10 million in aid to help people affect by the ongoing conflict in syria', 'clean_compressed': 'aust commit a further 10m aid to syria', 'sentence_tokens': ['aust', 'commit', 'a', 'further', '10m', 'aid', 'to', 'syria', 'updated', '0545', 'thursday', 'january', '31', '2013', 'australia', 'have', 'commit', 'another', '10', 'million', 'in', 'aid', 'to', 'help', 'people', 'affect', 'by', 'the', 'ongoing', 'conflict', 'in', 'syria'], 'compressed_tokens': ['aust', 'commit', 'a', 'further', '10m', 'aid', 'to', 'syria']}\n",
      "{'set': ['FORMER world champion Mark Cavendish is to leave Team Sky for Belgian outfit Omega Pharma-Quickstep after just one year with the Tour de France winning team.', 'Mark Cavendish to leave team Sky for Omega Pharma-Quickstep'], 'clean_sentence': 'former world champion mark cavendish be to leave team sky for belgian outfit omega pharmaquickstep after just one year with the tour de france win team', 'clean_compressed': 'mark cavendish to leave team sky for omega pharmaquickstep', 'sentence_tokens': ['former', 'world', 'champion', 'mark', 'cavendish', 'be', 'to', 'leave', 'team', 'sky', 'for', 'belgian', 'outfit', 'omega', 'pharmaquickstep', 'after', 'just', 'one', 'year', 'with', 'the', 'tour', 'de', 'france', 'win', 'team'], 'compressed_tokens': ['mark', 'cavendish', 'to', 'leave', 'team', 'sky', 'for', 'omega', 'pharmaquickstep']}\n",
      "{'set': ['A police lieutenant resigned Friday after he was placed under investigation and suspended without pay due to an arrest earlier this month.', 'Police lieutenant resigns'], 'clean_sentence': 'a police lieutenant resign friday after he be place under investigation and suspend without pay due to an arrest earlier this month', 'clean_compressed': 'police lieutenant resigns', 'sentence_tokens': ['a', 'police', 'lieutenant', 'resign', 'friday', 'after', 'he', 'be', 'place', 'under', 'investigation', 'and', 'suspend', 'without', 'pay', 'due', 'to', 'an', 'arrest', 'earlier', 'this', 'month'], 'compressed_tokens': ['police', 'lieutenant', 'resigns']}\n",
      "{'set': ['Governor Quinn is in Boston today, trying to recruit new businesses and jobs to Illinois.', 'Governor Quinn in Boston to recruit new business'], 'clean_sentence': 'governor quinn be in boston today try to recruit new business and job to illinois', 'clean_compressed': 'governor quinn in boston to recruit new business', 'sentence_tokens': ['governor', 'quinn', 'be', 'in', 'boston', 'today', 'try', 'to', 'recruit', 'new', 'business', 'and', 'job', 'to', 'illinois'], 'compressed_tokens': ['governor', 'quinn', 'in', 'boston', 'to', 'recruit', 'new', 'business']}\n",
      "{'set': ['J&T , a Slovak private equity group, may create a new holding which is likely to include SES Tlmace, a producer of industrial boilers.', 'J&T may create new holding'], 'clean_sentence': 'jt a slovak private equity group may create a new hold which be likely to include s tlmace a producer of industrial boiler', 'clean_compressed': 'jt may create new hold', 'sentence_tokens': ['jt', 'a', 'slovak', 'private', 'equity', 'group', 'may', 'create', 'a', 'new', 'hold', 'which', 'be', 'likely', 'to', 'include', 's', 'tlmace', 'a', 'producer', 'of', 'industrial', 'boiler'], 'compressed_tokens': ['jt', 'may', 'create', 'new', 'hold']}\n",
      "{'set': ['Henry County residents are encouraged to vote in the Aug. 21 runoff to decide who will advance to the November election in two board of commission races.', 'Residents encouraged to vote in runoff'], 'clean_sentence': 'henry county resident be encourage to vote in the aug 21 runoff to decide who will advance to the november election in two board of commission race', 'clean_compressed': 'resident encourage to vote in runoff', 'sentence_tokens': ['henry', 'county', 'resident', 'be', 'encourage', 'to', 'vote', 'in', 'the', 'aug', '21', 'runoff', 'to', 'decide', 'who', 'will', 'advance', 'to', 'the', 'november', 'election', 'in', 'two', 'board', 'of', 'commission', 'race'], 'compressed_tokens': ['resident', 'encourage', 'to', 'vote', 'in', 'runoff']}\n",
      "{'set': ['Lindsay Lohan was spotted picking up a homeless prostitute dressed in a black tank top and wearing a small, metal cross.', 'Lindsay Lohan picks up homeless prostitutes'], 'clean_sentence': 'lindsay lohan be spot pick up a homeless prostitute dress in a black tank top and wear a small metal cross', 'clean_compressed': 'lindsay lohan pick up homeless prostitute', 'sentence_tokens': ['lindsay', 'lohan', 'be', 'spot', 'pick', 'up', 'a', 'homeless', 'prostitute', 'dress', 'in', 'a', 'black', 'tank', 'top', 'and', 'wear', 'a', 'small', 'metal', 'cross'], 'compressed_tokens': ['lindsay', 'lohan', 'pick', 'up', 'homeless', 'prostitute']}\n",
      "{'set': ['TBS has renewed Cougar Town for a fifth season, the network announced Monday.', \"Tbs renews 'Cougar Town'\"], 'clean_sentence': 'tb have renew cougar town for a fifth season the network announce monday', 'clean_compressed': 'tbs renews cougar town', 'sentence_tokens': ['tb', 'have', 'renew', 'cougar', 'town', 'for', 'a', 'fifth', 'season', 'the', 'network', 'announce', 'monday'], 'compressed_tokens': ['tbs', 'renews', 'cougar', 'town']}\n"
     ]
    }
   ],
   "source": [
    "for i in range(10):\n",
    "    print(split_ds['train'][i])"
   ]
  },
  {
   "cell_type": "markdown",
   "metadata": {
    "collapsed": false,
    "id": "FeF0wFd0pSOL",
    "pycharm": {
     "name": "#%% md\n"
    }
   },
   "source": [
    "Since we will need the tokenized sentences, we can use the following statement to extract them from the `train` split of our dataset."
   ]
  },
  {
   "cell_type": "code",
   "execution_count": 18,
   "metadata": {
    "id": "qYKfXFxQpSOL",
    "pycharm": {
     "name": "#%%\n"
    }
   },
   "outputs": [
    {
     "name": "stdout",
     "output_type": "stream",
     "text": [
      "144000\n",
      "[['internationally', 'renowned', 'irish', 'chamber', 'orchestra', 'camerata', 'ireland', 'and', 'awardwinning', 'pianist', 'barry', 'douglas', 'with', 'soprano', 'celine', 'byrne', 'come', 'to', 'central', 'florida', 'for', 'a', 'oneperformanceonly', 'engagement'], ['granite', 'construction', 'incorporate', 'today', 'announce', 'james', 'h', 'robert', 'executive', 'vice', 'president', 'and', 'chief', 'operate', 'officer', 'will', 'present', 'at', 'the', 'nyssa', 'construction', 'and', 'material', 'industry', 'conference', 'in', 'new', 'york', 'city', 'at', '935', 'be', 'on', 'tuesday', 'september', '22', '2009'], ['aust', 'commit', 'a', 'further', '10m', 'aid', 'to', 'syria', 'updated', '0545', 'thursday', 'january', '31', '2013', 'australia', 'have', 'commit', 'another', '10', 'million', 'in', 'aid', 'to', 'help', 'people', 'affect', 'by', 'the', 'ongoing', 'conflict', 'in', 'syria'], ['former', 'world', 'champion', 'mark', 'cavendish', 'be', 'to', 'leave', 'team', 'sky', 'for', 'belgian', 'outfit', 'omega', 'pharmaquickstep', 'after', 'just', 'one', 'year', 'with', 'the', 'tour', 'de', 'france', 'win', 'team'], ['a', 'police', 'lieutenant', 'resign', 'friday', 'after', 'he', 'be', 'place', 'under', 'investigation', 'and', 'suspend', 'without', 'pay', 'due', 'to', 'an', 'arrest', 'earlier', 'this', 'month'], ['governor', 'quinn', 'be', 'in', 'boston', 'today', 'try', 'to', 'recruit', 'new', 'business', 'and', 'job', 'to', 'illinois'], ['jt', 'a', 'slovak', 'private', 'equity', 'group', 'may', 'create', 'a', 'new', 'hold', 'which', 'be', 'likely', 'to', 'include', 's', 'tlmace', 'a', 'producer', 'of', 'industrial', 'boiler'], ['henry', 'county', 'resident', 'be', 'encourage', 'to', 'vote', 'in', 'the', 'aug', '21', 'runoff', 'to', 'decide', 'who', 'will', 'advance', 'to', 'the', 'november', 'election', 'in', 'two', 'board', 'of', 'commission', 'race'], ['lindsay', 'lohan', 'be', 'spot', 'pick', 'up', 'a', 'homeless', 'prostitute', 'dress', 'in', 'a', 'black', 'tank', 'top', 'and', 'wear', 'a', 'small', 'metal', 'cross'], ['tb', 'have', 'renew', 'cougar', 'town', 'for', 'a', 'fifth', 'season', 'the', 'network', 'announce', 'monday']]\n"
     ]
    }
   ],
   "source": [
    "tokenized_sentences = split_ds['train']['sentence_tokens']\n",
    "print(len(tokenized_sentences))\n",
    "print(tokenized_sentences[:10])"
   ]
  },
  {
   "cell_type": "code",
   "execution_count": 19,
   "metadata": {
    "collapsed": false,
    "pycharm": {
     "name": "#%%\n"
    }
   },
   "outputs": [
    {
     "name": "stdout",
     "output_type": "stream",
     "text": [
      "144000\n",
      "[['irish', 'chamber', 'orchestra', 'camerata', 'ireland', 'come', 'to', 'central', 'florida'], ['granite', 'construction', 'to', 'present', 'at', 'the', 'nyssa', 'construction', 'and', 'material', 'industry', 'conference'], ['aust', 'commit', 'a', 'further', '10m', 'aid', 'to', 'syria'], ['mark', 'cavendish', 'to', 'leave', 'team', 'sky', 'for', 'omega', 'pharmaquickstep'], ['police', 'lieutenant', 'resigns'], ['governor', 'quinn', 'in', 'boston', 'to', 'recruit', 'new', 'business'], ['jt', 'may', 'create', 'new', 'hold'], ['resident', 'encourage', 'to', 'vote', 'in', 'runoff'], ['lindsay', 'lohan', 'pick', 'up', 'homeless', 'prostitute'], ['tbs', 'renews', 'cougar', 'town']]\n"
     ]
    }
   ],
   "source": [
    "tokenized_compressed = split_ds['train']['compressed_tokens']\n",
    "print(len(tokenized_compressed))\n",
    "print(tokenized_compressed[:10])"
   ]
  },
  {
   "cell_type": "markdown",
   "metadata": {
    "id": "ZDGwEiZeCA5U",
    "pycharm": {
     "name": "#%% md\n"
    }
   },
   "source": [
    "Notice the difference in the types of the different structures we use. Run the following cell to check the types. Do they make sense to you?"
   ]
  },
  {
   "cell_type": "code",
   "execution_count": 20,
   "metadata": {
    "id": "wKrkFmcZCtOd",
    "pycharm": {
     "name": "#%%\n"
    }
   },
   "outputs": [
    {
     "name": "stdout",
     "output_type": "stream",
     "text": [
      "<class 'datasets.dataset_dict.DatasetDict'>\n",
      "--\n",
      "{'set': ['Granite Construction Incorporated today announced James H. Roberts, executive vice president and chief operating officer, will present at the NYSSA Construction and Materials Industry Conference in New York City at 9:35 am on Tuesday, September 22, 2009.', 'Granite Construction to present at the NYSSA Construction and Materials Industry Conference'], 'clean_sentence': 'granite construction incorporate today announce james h robert executive vice president and chief operate officer will present at the nyssa construction and material industry conference in new york city at 935 be on tuesday september 22 2009', 'clean_compressed': 'granite construction to present at the nyssa construction and material industry conference', 'sentence_tokens': ['granite', 'construction', 'incorporate', 'today', 'announce', 'james', 'h', 'robert', 'executive', 'vice', 'president', 'and', 'chief', 'operate', 'officer', 'will', 'present', 'at', 'the', 'nyssa', 'construction', 'and', 'material', 'industry', 'conference', 'in', 'new', 'york', 'city', 'at', '935', 'be', 'on', 'tuesday', 'september', '22', '2009'], 'compressed_tokens': ['granite', 'construction', 'to', 'present', 'at', 'the', 'nyssa', 'construction', 'and', 'material', 'industry', 'conference']}\n",
      "<class 'dict'>\n",
      "--\n",
      "granite construction incorporate today announce james h robert executive vice president and chief operate officer will present at the nyssa construction and material industry conference in new york city at 935 be on tuesday september 22 2009\n",
      "<class 'str'>\n",
      "--\n",
      "['granite', 'construction', 'incorporate', 'today', 'announce', 'james', 'h', 'robert', 'executive', 'vice', 'president', 'and', 'chief', 'operate', 'officer', 'will', 'present', 'at', 'the', 'nyssa', 'construction', 'and', 'material', 'industry', 'conference', 'in', 'new', 'york', 'city', 'at', '935', 'be', 'on', 'tuesday', 'september', '22', '2009']\n",
      "<class 'list'>\n",
      "--\n"
     ]
    }
   ],
   "source": [
    "#type of original dataset\n",
    "print(type(split_ds))\n",
    "print(\"--\")\n",
    "#type of original sentence\n",
    "print(split_ds['train'][1])\n",
    "print(type(split_ds['train'][1]))\n",
    "print(\"--\")\n",
    "#type of pre-proceesed sentence\n",
    "print(split_ds['train']['clean_sentence'][1])\n",
    "print(type(split_ds['train']['clean_sentence'][1]))\n",
    "print(\"--\")\n",
    "#type of tokenized sentence\n",
    "print(split_ds['train']['sentence_tokens'][1])\n",
    "print(type(split_ds['train']['sentence_tokens'][1]))\n",
    "print(\"--\")"
   ]
  },
  {
   "cell_type": "markdown",
   "metadata": {
    "collapsed": false,
    "pycharm": {
     "name": "#%% md\n"
    }
   },
   "source": [
    "## 2. Bag of Words\n",
    "In this section you will built a bag-of-words representation of the dataset. We will use numpy arrays to store the results. The bag-of-words representation is a simple and effective way to represent text data. It involves creating a vocabulary of unique words from the dataset and representing each sentence as a vector of word counts. We first need the vocabulary, which we will build from both the full sentences and the compressed sentences. Similar to the first lab, the vocabulary will be a list of unique words from the dataset."
   ]
  },
  {
   "cell_type": "markdown",
   "metadata": {
    "collapsed": false,
    "pycharm": {
     "name": "#%% md\n"
    }
   },
   "source": [
    "<a name='e3'></a>\n",
    "### Exercise 3: Extracting vocabulary counts\n",
    "\n",
    "(1p) In the following cell, you will implement a function that takes a list of tokenized sentences and returns a dictionary with the counts of each word in the vocabulary. The dictionary should be of the form {word: count}. As in previous lab, you will use the `Counter` class from the `collections` module to do this."
   ]
  },
  {
   "cell_type": "code",
   "execution_count": 21,
   "metadata": {
    "collapsed": false,
    "pycharm": {
     "name": "#%%\n"
    }
   },
   "outputs": [],
   "source": [
    "from collections import Counter\n",
    "\n",
    "\n",
    "def extract_vocabulary_counts(tokenized_sentences):\n",
    "    \"\"\"\n",
    "    Extracts the vocabulary from the tokenized sentences\n",
    "    Args:\n",
    "        tokenized_sentences: a list of lists of tokens\n",
    "\n",
    "    Returns: a Counter object with the counts of each word in the vocabulary\n",
    "    \"\"\"\n",
    "\n",
    "    ### YOUR CODE HERE\n",
    "\n",
    "    counter = Counter()\n",
    "    for n in tokenized_sentences:\n",
    "        counter.update(n)\n",
    "\n",
    "    return counter\n",
    "\n",
    "    ### YOUR CODE ENDS HERE"
   ]
  },
  {
   "cell_type": "code",
   "execution_count": 22,
   "metadata": {
    "collapsed": false,
    "pycharm": {
     "name": "#%%\n"
    }
   },
   "outputs": [
    {
     "name": "stdout",
     "output_type": "stream",
     "text": [
      "109366\n",
      "[('the', 182927), ('a', 135981), ('to', 130228), ('in', 112990), ('of', 100233), ('be', 93623), ('and', 68179), ('on', 56280), ('have', 55965), ('for', 52007)]\n"
     ]
    }
   ],
   "source": [
    "vocab_counter = extract_vocabulary_counts(tokenized_sentences + tokenized_compressed)\n",
    "print(len(vocab_counter))\n",
    "print(vocab_counter.most_common(10))"
   ]
  },
  {
   "cell_type": "markdown",
   "metadata": {
    "collapsed": false,
    "pycharm": {
     "name": "#%% md\n"
    }
   },
   "source": [
    "As you can see the size of the vocabulary is quite large. Like the last time, we will limit the vocabulary to the most frequent words. The next cell will create a dictionary that maps each word to an index in the vocabulary. This will be used to create the bag-of-words representation of the sentences."
   ]
  },
  {
   "cell_type": "code",
   "execution_count": 23,
   "metadata": {
    "collapsed": false,
    "pycharm": {
     "name": "#%%\n"
    }
   },
   "outputs": [
    {
     "name": "stdout",
     "output_type": "stream",
     "text": [
      "{'the': 0, 'a': 1, 'to': 2, 'in': 3, 'of': 4, 'be': 5, 'and': 6, 'on': 7, 'have': 8, 'for': 9, 'it': 10, 'with': 11, 'say': 12, 'at': 13, 'that': 14, 'from': 15, 'by': 16, 'new': 17, 'will': 18, 'after': 19, 'his': 20, 'an': 21, 'man': 22, 'year': 23, 'he': 24, 'u': 25, 'today': 26, 'police': 27, 'this': 28, 'two': 29, 'announce': 30, 'state': 31, 'report': 32, 'their': 33, 'her': 34, 'who': 35, 'over': 36, 'first': 37, 'charge': 38, 'tuesday': 39, 'up': 40, 'not': 41, 'more': 42, 'wednesday': 43, 'monday': 44, 'thursday': 45, 'against': 46, 'friday': 47, 'out': 48, 'woman': 49, 'make': 50, 'president': 51, 'former': 52, 'week': 53, 'launch': 54, 'take': 55, 'million': 56, 'into': 57, 'company': 58, 'one': 59, 'day': 60, 'city': 61, 'open': 62, 'world': 63, 'kill': 64, 'county': 65, 'win': 66, 'which': 67, 'accord': 68, 'last': 69, 'service': 70, 'home': 71, 'plan': 72, 'may': 73, 'minister': 74, 'time': 75, 'bank': 76, 'about': 77, 'die': 78, 'month': 79, 'saturday': 80, 'government': 81, 'market': 82, 'arrest': 83, 'than': 84, 'release': 85, 'find': 86, 'sunday': 87, 'official': 88, 'people': 89, 'three': 90, 'school': 91, 'high': 92, 'during': 93, 'show': 94, 'but': 95, 'country': 96, 'fire': 97, 'set': 98, 'price': 99, 'when': 100, 'night': 101, 'national': 102, 'she': 103, 'call': 104, 'they': 105, 'get': 106, 'off': 107, 'go': 108, 'india': 109, 'hold': 110, 'all': 111, 'court': 112, 'face': 113, 'south': 114, 'sign': 115, 'return': 116, 'end': 117, 'group': 118, 'morning': 119, 'next': 120, 'back': 121, 'close': 122, 'business': 123, 'lead': 124, 'game': 125, 'leave': 126, 'star': 127, 'i': 128, 'second': 129, 'team': 130, 'work': 131, 'would': 132, 'car': 133, 'could': 134, 'down': 135, 'no': 136, 'stock': 137, 'rise': 138, 'obama': 139, 'fall': 140, 'help': 141, 'play': 142, 'season': 143, 'child': 144, 'cut': 145, 'start': 146, 'international': 147, 'hit': 148, 'house': 149, 'china': 150, 'can': 151, 'do': 152, 'early': 153, 'oil': 154, 'expect': 155, 'while': 156, 'job': 157, 'share': 158, 'american': 159, 'follow': 160, 'continue': 161, 'issue': 162, 'attack': 163, 'hospital': 164, 'north': 165, 'give': 166, 'crash': 167, 'use': 168, 'death': 169, 'news': 170, 'leader': 171, 'inc': 172, 'or': 173, 'offer': 174, 'force': 175, 'come': 176, 'sell': 177, 'global': 178, 'billion': 179, 'now': 180, 'move': 181, 'run': 182, 'record': 183, 'four': 184, 'office': 185, 'some': 186, 'want': 187, 'guilty': 188, 'chief': 189, 'security': 190, 'public': 191, 'head': 192, 'officer': 193, 'part': 194, 'yesterday': 195, 'late': 196, 'visit': 197, 'student': 198, 'sale': 199, 'him': 200, 'increase': 201, 'near': 202, 'big': 203, 'raise': 204, 'york': 205, 'league': 206, 'health': 207, 'rate': 208, 'tell': 209, 'indian': 210, 'accuse': 211, 'coach': 212, 'federal': 213, 'top': 214, 'trade': 215, 'support': 216, 'deal': 217, 'pakistan': 218, 'pay': 219, 'united': 220, 'under': 221, 'west': 222, 'area': 223, 'just': 224, 'most': 225, 'right': 226, 'through': 227, '2012': 228, 'drug': 229, 'claim': 230, 'financial': 231, 'meet': 232, 'party': 233, 'life': 234, 'other': 235, 'join': 236, 'power': 237, 'before': 238, 'five': 239, 'include': 240, 'economic': 241, 'system': 242, 'percent': 243, '10': 244, 'center': 245, 'local': 246, 'john': 247, 'shoot': 248, 'file': 249, 'another': 250, 'per': 251, 'begin': 252, 'good': 253, 'bill': 254, 'buy': 255, 'low': 256, 'remain': 257, 'street': 258, 'host': 259, 'family': 260, 'look': 261, 'test': 262, 'become': 263, 'dollar': 264, 'major': 265, 'talk': 266, 'british': 267, 'should': 268, 'player': 269, 'change': 270, 'dead': 271, 'lose': 272, 'university': 273, 'large': 274, 'third': 275, 'name': 276, 'order': 277, 'european': 278, 'need': 279, 'between': 280, 'plead': 281, 'you': 282, 'if': 283, 'energy': 284, 'what': 285, 'film': 286, 'here': 287, 'march': 288, 'road': 289, 'strike': 290, 'medium': 291, 'cup': 292, 'free': 293, 'air': 294, 'industry': 295, 'miss': 296, 'general': 297, 'girl': 298, 'club': 299, 'break': 300, 'department': 301, 'election': 302, 'sentence': 303, '1': 304, 'case': 305, 'park': 306, 'because': 307, 'economy': 308, 'receive': 309, 'award': 310, 'gas': 311, 'district': 312, 'uk': 313, 'see': 314, 'tax': 315, 'member': 316, 'due': 317, 'point': 318, 'men': 319, 'beat': 320, '2010': 321, 'store': 322, 'authority': 323, 'loss': 324, 'we': 325, 'dy': 326, 'tour': 327, 'place': 328, 'fund': 329, 'online': 330, 'since': 331, 'six': 332, 'well': 333, 'london': 334, 'weekend': 335, 'contract': 336, 'foreign': 337, 'reveal': 338, 'try': 339, 'worker': 340, 'prime': 341, 'acquire': 342, 'assault': 343, 'central': 344, 'technology': 345, 'post': 346, '2011': 347, 'director': 348, 'water': 349, 'capital': 350, 'firm': 351, 'way': 352, 'final': 353, 'still': 354, 'demand': 355, 'confirm': 356, 'project': 357, 'murder': 358, 'development': 359, 'fight': 360, 'turn': 361, 'program': 362, 'mobile': 363, 'series': 364, 'live': 365, 'nation': 366, 'network': 367, 'quarter': 368, 'number': 369, 'afternoon': 370, 'agency': 371, 'food': 372, 'board': 373, 'future': 374, 'vote': 375, 'drop': 376, 'campaign': 377, 'there': 378, 'military': 379, '2': 380, '20': 381, 'st': 382, 'drive': 383, 'law': 384, 'like': 385, 'australian': 386, 'mark': 387, 'seek': 388, 'injure': 389, 'celebrate': 390, 'june': 391, 'manager': 392, 'iran': 393, 'add': 394, 'line': 395, 'david': 396, 'keep': 397, 'where': 398, 'how': 399, 'reach': 400, 'cause': 401, 'age': 402, 'corp': 403, 'injury': 404, 'result': 405, 'product': 406, 'fell': 407, 'april': 408, 'ban': 409, 'council': 410, 'agree': 411, 'them': 412, 'east': 413, 'despite': 414, 'union': 415, 'actor': 416, 'investment': 417, 'community': 418, 'meeting': 419, 'data': 420, 'across': 421, 'best': 422, 'jail': 423, 'football': 424, 'cancer': 425, 'rule': 426, 'investor': 427, 'own': 428, 'washington': 429, 'cent': 430, 'agreement': 431, 'announces': 432, 'australia': 433, 'growth': 434, 'plant': 435, 'driver': 436, '11': 437, 'operation': 438, '2009': 439, 'barack': 440, 'body': 441, 'send': 442, 'around': 443, 'town': 444, 'bring': 445, 'provide': 446, 'management': 447, 'so': 448, 'prison': 449, 'study': 450, 'afghanistan': 451, 'champion': 452, 'airline': 453, 'san': 454, 'level': 455, 'strong': 456, 'england': 457, 'young': 458, 'target': 459, 'investigate': 460, 'research': 461, 'michael': 462, 'conference': 463, 'profit': 464, 'money': 465, '30': 466, '2013': 467, 'gold': 468, 'warn': 469, 'boy': 470, 'again': 471, 'grow': 472, 'even': 473, 'college': 474, 'cost': 475, 'race': 476, 'hour': 477, 'stop': 478, 'provider': 479, 'chinese': 480, 'judge': 481, 'several': 482, 'know': 483, 'red': 484, 'budget': 485, '3': 486, 'allegedly': 487, 'only': 488, 'white': 489, 'base': 490, 'expand': 491, 'gain': 492, 'great': 493, 'annual': 494, 'long': 495, 'crisis': 496, 'region': 497, 'soldier': 498, 'music': 499, 'tv': 500, 'press': 501, 'political': 502, 'as': 503, '15': 504, 'ask': 505, 'vehicle': 506, 'trial': 507, 'july': 508, 'medical': 509, 'surgery': 510, 'private': 511, '12': 512, 'complete': 513, 'japan': 514, 'fan': 515, 'title': 516, 'any': 517, 'accident': 518, 'build': 519, 'actress': 520, 'old': 521, 'senior': 522, 'special': 523, 'resident': 524, 'action': 525, 'put': 526, 'recently': 527, 'baby': 528, 'recent': 529, 'credit': 530, 'step': 531, 'train': 532, 'wife': 533, 'sport': 534, 'site': 535, 'event': 536, 'steal': 537, 'america': 538, 'protest': 539, 'nearly': 540, 'war': 541, 'consumer': 542, 'pass': 543, 'my': 544, 'secretary': 545, 'care': 546, 'centre': 547, 'admit': 548, 'russia': 549, 'station': 550, 'small': 551, 'many': 552, 'interest': 553, 'giant': 554, 'away': 555, 'canada': 556, 'land': 557, 'pm': 558, 'flight': 559, 'side': 560, 'customer': 561, 'los': 562, 'create': 563, 'policy': 564, 'production': 565, 'suffer': 566, 'debt': 567, '5': 568, 'russian': 569, 'southern': 570, 'sex': 571, 'senate': 572, 'brand': 573, 'singer': 574, 'fail': 575, 'governor': 576, 'executive': 577, 'republican': 578, 'texas': 579, 'korea': 580, 'control': 581, 'extend': 582, 'video': 583, 'congress': 584, 'french': 585, 'match': 586, 'loan': 587, 'condition': 588, 'bus': 589, 'search': 590, 'likely': 591, 'premier': 592, 'january': 593, 'emergency': 594, 'coast': 595, 'partner': 596, 'also': 597, 'angeles': 598, 'social': 599, 'presidential': 600, '2008': 601, 'israel': 602, 'declare': 603, 'source': 604, 'apple': 605, 'suspend': 606, 'appear': 607, 'heart': 608, 'summer': 609, 'information': 610, '100': 611, 'exchange': 612, 'solution': 613, 'teacher': 614, 'grand': 615, 'ahead': 616, 'candidate': 617, 'paul': 618, '4': 619, 'brown': 620, 'role': 621, 'act': 622, 'google': 623, 'bid': 624, 'sector': 625, 'property': 626, 'nuclear': 627, 'ministry': 628, 'canadian': 629, 'europe': 630, 'allow': 631, 'traffic': 632, 'concern': 633, 'lake': 634, 'german': 635, 'both': 636, 'shot': 637, 'human': 638, 'amid': 639, 'approve': 640, 'develop': 641, 'california': 642, 'term': 643, 'real': 644, 'guard': 645, 'believe': 646, 'arrive': 647, 'owner': 648, 'round': 649, 'february': 650, 'september': 651, 'france': 652, 'river': 653, 'past': 654, 'supply': 655, '25': 656, 'least': 657, 'key': 658, 'battle': 659, 'asian': 660, 'employee': 661, 'bond': 662, 'black': 663, 'delhi': 664, 'love': 665, 'suspect': 666, 'ago': 667, 'website': 668, 'phone': 669, 'building': 670, 'without': 671, 'fourth': 672, 'reportedly': 673, 'cash': 674, 'chairman': 675, 'africa': 676, 'movie': 677, 'championship': 678, 'effort': 679, 'euro': 680, 'airport': 681, 'urge': 682, 'corporation': 683, 'seven': 684, 'victory': 685, 'software': 686, 'army': 687, 'recall': 688, 'improve': 689, 'island': 690, 'son': 691, 'florida': 692, 'northern': 693, 'november': 694, 'robert': 695, 'forward': 696, 'bad': 697, 'commission': 698, 'field': 699, 'involve': 700, 'la': 701, 'rally': 702, 'our': 703, 'far': 704, 'travel': 705, 'think': 706, 'consider': 707, 'list': 708, 'date': 709, 'education': 710, '14': 711, 'internet': 712, 'hand': 713, 'your': 714, '50': 715, 'mother': 716, 'risk': 717, 'problem': 718, 'boost': 719, 'association': 720, 'practice': 721, 'session': 722, '13': 723, 'james': 724, 'album': 725, 'book': 726, 'october': 727, 'co': 728, 'half': 729, 'perform': 730, 'green': 731, 'storm': 732, 'threaten': 733, '21': 734, 'hall': 735, 'statement': 736, 'israeli': 737, 'facility': 738, 'chris': 739, 'rock': 740, 'grant': 741, 'gov': 742, 'george': 743, 'august': 744, 'rescue': 745, 'recover': 746, 'reduce': 747, 'decide': 748, 'enter': 749, 'challenge': 750, 'schedule': 751, 'couple': 752, 'border': 753, 'trading': 754, 'veteran': 755, 'domestic': 756, 'finance': 757, 'parliament': 758, 'damage': 759, 'fuel': 760, 'save': 761, 'much': 762, 'decline': 763, 'stage': 764, '16': 765, 'stand': 766, 'truck': 767, 'december': 768, '18': 769, 'deputy': 770, 'must': 771, 'resign': 772, 'friend': 773, 'very': 774, 'thousand': 775, 'committee': 776, 'britain': 777, 'victim': 778, 'construction': 779, 'stay': 780, 'ready': 781, 'debut': 782, 'present': 783, 'troop': 784, 'focus': 785, 'hotel': 786, 'insurance': 787, 'chicago': 788, 'mortgage': 789, 'soon': 790, 'african': 791, 'hire': 792, 'manchester': 793, 'spring': 794, 'form': 795, 'clear': 796, 'dog': 797, 'unit': 798, 'king': 799, 'earlier': 800, 'attempt': 801, '6': 802, 'cancel': 803, 'full': 804, 'few': 805, 'bankruptcy': 806, 'arm': 807, 'updated': 808, 'maker': 809, 'plane': 810, 'sen': 811, 'benefit': 812, 'western': 813, 'spend': 814, 'watch': 815, 'current': 816, 'facebook': 817, 'weather': 818, 'appeal': 819, 'defeat': 820, 'eight': 821, 'tie': 822, 'rob': 823, 'crime': 824, 'safety': 825, 'staff': 826, 'decision': 827, '8': 828, 'double': 829, 'reserve': 830, 'retail': 831, 'export': 832, 'hollywood': 833, 'little': 834, 'pull': 835, 'career': 836, '7': 837, 'tonight': 838, 'person': 839, 'among': 840, 'palestinian': 841, 'r': 842, 'feel': 843, 'doctor': 844, '17': 845, 'outside': 846, 'jackson': 847, 'behind': 848, 'sri': 849, 'rating': 850, 'himself': 851, 'track': 852, 'sexual': 853, '22': 854, '24': 855, 'retire': 856, 'feature': 857, 'patient': 858, 'turkey': 859, 'performance': 860, 'gun': 861, 'unveil': 862, 'regional': 863, 'wall': 864, 'pressure': 865, 'motor': 866, 'mayor': 867, 'opposition': 868, 'design': 869, 'abuse': 870, 'score': 871, 'cricket': 872, 'agent': 873, 'space': 874, 'catch': 875, 'iraq': 876, 'robbery': 877, 'deny': 878, 'serve': 879, 'aid': 880, 'stab': 881, 'bomb': 882, 'within': 883, 'festival': 884, 'carry': 885, 'single': 886, 'beach': 887, 'draw': 888, 'card': 889, 'suicide': 890, 'introduce': 891, 'history': 892, 'threat': 893, 'appoint': 894, 'germany': 895, 'hill': 896, 'violence': 897, 'until': 898, 'light': 899, 'singh': 900, 'valley': 901, 'zealand': 902, 'ship': 903, 'protection': 904, 'upcoming': 905, 'incident': 906, 'interview': 907, 'aim': 908, 'church': 909, 'along': 910, 'tiger': 911, 'review': 912, 'such': 913, 'recovery': 914, 'middle': 915, 'publish': 916, 'father': 917, 'asset': 918, 'justice': 919, 'brother': 920, 'peace': 921, 'mumbai': 922, 'sue': 923, 'almost': 924, 'kick': 925, 'bay': 926, 'pick': 927, 'officially': 928, 'positive': 929, 'daughter': 930, 'eastern': 931, 'later': 932, 'figure': 933, 'producer': 934, 'japanese': 935, 'olympic': 936, 'anniversary': 937, 'joint': 938, 'lady': 939, 'me': 940, 'propose': 941, 'ltd': 942, 'survey': 943, 'question': 944, 'ground': 945, 'bear': 946, 'communication': 947, 'same': 948, 'update': 949, 'microsoft': 950, 'husband': 951, 'democratic': 952, 'art': 953, 'conduct': 954, 'address': 955, 'poll': 956, 'welcome': 957, 'flood': 958, 'housing': 959, 'revenue': 960, 'struggle': 961, 'captain': 962, 'worth': 963, 'too': 964, 'throw': 965, 'resume': 966, 'de': 967, 'direct': 968, 'attorney': 969, 'defend': 970, 'hop': 971, 'im': 972, 'application': 973, 'fear': 974, 'less': 975, 'holiday': 976, 'those': 977, 'highway': 978, 'mexico': 979, 'write': 980, 'possible': 981, 'total': 982, 'williams': 983, 'spot': 984, 'flu': 985, 'hope': 986, 'ever': 987, 'rival': 988, 'daily': 989, 'link': 990, 'stake': 991, 'activity': 992, 'position': 993, '40': 994, 'jet': 995, 'discuss': 996, 'administration': 997, 'smith': 998, 'confidence': 999, 'wind': 1000, 'speak': 1001, 'class': 1002, 'index': 1003, '19': 1004, 'parent': 1005, 'natural': 1006, 'honor': 1007, 'fraud': 1008, 'investigation': 1009, 'boston': 1010, 'blue': 1011, 'legal': 1012, 'cross': 1013, 'georgia': 1014, 'convict': 1015, 'johnson': 1016, 'defense': 1017, 'resource': 1018, 'delay': 1019, 'bush': 1020, 'royal': 1021, 'radio': 1022, 'push': 1023, 'heavy': 1024, 'asia': 1025, 'reform': 1026, 'block': 1027, 'television': 1028, 'measure': 1029, 'treatment': 1030, 'un': 1031, '9': 1032, 'joe': 1033, 'gay': 1034, 'equity': 1035, 'sheriff': 1036, 'model': 1037, 'replace': 1038, 'never': 1039, 'web': 1040, 'criminal': 1041, 'channel': 1042, 'partnership': 1043, 'serious': 1044, 'winter': 1045, 'process': 1046, 'training': 1047, 'dr': 1048, 'mike': 1049, 'basketball': 1050, 'wood': 1051, 'band': 1052, 'nine': 1053, 'promote': 1054, 'common': 1055, 'pakistani': 1056, '23': 1057, 'vice': 1058, 'division': 1059, 'firefighter': 1060, 'weak': 1061, 'senator': 1062, 'express': 1063, 'front': 1064, 'calif': 1065, 'connection': 1066, 'carolina': 1067, 'fiscal': 1068, 'might': 1069, 'attend': 1070, 'affair': 1071, 'every': 1072, 'rep': 1073, 'why': 1074, 'main': 1075, 'hundred': 1076, 'camp': 1077, 'defence': 1078, 'limit': 1079, 'learn': 1080, 'walk': 1081, 'dont': 1082, 'user': 1083, 'justin': 1084, 'militant': 1085, 'commercial': 1086, 'lawsuit': 1087, 'crew': 1088, 'inflation': 1089, 'activist': 1090, '31': 1091, 'bar': 1092, 'prince': 1093, 'analyst': 1094, 'split': 1095, 'christmas': 1096, 'passenger': 1097, 'whose': 1098, 'super': 1099, 'martin': 1100, 'account': 1101, 'italian': 1102, 'operator': 1103, 'jump': 1104, 'popular': 1105, 'disease': 1106, 'stadium': 1107, 'refuse': 1108, 'net': 1109, 'finish': 1110, 'twitter': 1111, 'prepare': 1112, 'platform': 1113, 'concert': 1114, 'khan': 1115, 'each': 1116, 'note': 1117, 'divorce': 1118, 'expert': 1119, 'newspaper': 1120, 'transfer': 1121, 'tom': 1122, 'earnings': 1123, 'cite': 1124, 'province': 1125, 'supreme': 1126, 'bridge': 1127, 'baseball': 1128, 'straight': 1129, 'village': 1130, 'ceo': 1131, 'earthquake': 1132, 'al': 1133, 'deliver': 1134, 'recession': 1135, 'jones': 1136, 'once': 1137, '27': 1138, 'range': 1139, 'marriage': 1140, 'view': 1141, 'organization': 1142, 'protect': 1143, 'lift': 1144, 'mp': 1145, 'teen': 1146, 'winner': 1147, 'spokesman': 1148, 'syria': 1149, 'roll': 1150, '26': 1151, 'peter': 1152, 'striker': 1153, 'access': 1154, 'produce': 1155, 'value': 1156, 'afghan': 1157, 'rain': 1158, 'iranian': 1159, 'burn': 1160, 'minor': 1161, 'lawyer': 1162, 'fast': 1163, 'decade': 1164, 'shop': 1165, 'steve': 1166, 'clash': 1167, 'opening': 1168, 'suggest': 1169, 'commit': 1170, 'assembly': 1171, 'invest': 1172, 'youth': 1173, 'ohio': 1174, 'syrian': 1175, 'ambassador': 1176, 'rest': 1177, 'boat': 1178, 'birth': 1179, 'wont': 1180, 'ryan': 1181, 'slow': 1182, 'lay': 1183, 'restaurant': 1184, 'yet': 1185, 'already': 1186, 'farmer': 1187, 'relation': 1188, 'digital': 1189, 'finally': 1190, 'evening': 1191, 'nfl': 1192, 'forecast': 1193, 'apartment': 1194, 'scientist': 1195, 'magazine': 1196, 'fee': 1197, 'goal': 1198, 'engage': 1199, 'spain': 1200, 'purchase': 1201, 'houston': 1202, 'currency': 1203, 'cell': 1204, 'steel': 1205, 'civil': 1206, 'writer': 1207, 'lanka': 1208, 'acquisition': 1209, 'womens': 1210, 'taylor': 1211, 'ceremony': 1212, 'researcher': 1213, 'sea': 1214, '28': 1215, 'turkish': 1216, 'jury': 1217, 'whether': 1218, 'together': 1219, 'birthday': 1220, 'ireland': 1221, 'developer': 1222, 'illegal': 1223, 'bos': 1224, 'sydney': 1225, 'song': 1226, 'seize': 1227, 'retailer': 1228, 'cover': 1229, 'escape': 1230, 'further': 1231, 'fashion': 1232, 'dispute': 1233, 'destroy': 1234, '500': 1235, 'competition': 1236, 'tree': 1237, 'dubai': 1238, 'cooperation': 1239, 'tournament': 1240, 'worldwide': 1241, 'pound': 1242, 'programme': 1243, 'personal': 1244, 'queen': 1245, 'foot': 1246, 'accept': 1247, 'standard': 1248, 'independent': 1249, 'box': 1250, 'lawmaker': 1251, 'advance': 1252, 'unemployment': 1253, 'minnesota': 1254, 'rebel': 1255, 'ticket': 1256, 'above': 1257, 'fly': 1258, 'animal': 1259, 'device': 1260, 'quit': 1261, 'period': 1262, 'pilot': 1263, 'import': 1264, 'clinton': 1265, 'michigan': 1266, 'felony': 1267, 'hard': 1268, 'manage': 1269, 'secure': 1270, 'spending': 1271, 'toronto': 1272, 'pop': 1273, 'count': 1274, 'remove': 1275, 'rape': 1276, 'kim': 1277, 'effect': 1278, 'barrel': 1279, 'lee': 1280, 'computer': 1281, 'primary': 1282, 'tony': 1283, 'available': 1284, 'saudi': 1285, 'scott': 1286, 'reject': 1287, 'emerge': 1288, 'jan': 1289, 'iphone': 1290, 'weapon': 1291, 'port': 1292, 'institute': 1293, 'corporate': 1294, 'nato': 1295, 'citizen': 1296, 'voter': 1297, 'collapse': 1298, 'dividend': 1299, 'below': 1300, 'thing': 1301, 'avoid': 1302, 'option': 1303, 'shooting': 1304, 'deficit': 1305, 'spanish': 1306, 'singapore': 1307, 'elect': 1308, 'comment': 1309, 'korean': 1310, 'charity': 1311, 'journalist': 1312, 'estate': 1313, 'eu': 1314, 'kevin': 1315, 'retirement': 1316, 'room': 1317, 'hear': 1318, 'hurricane': 1319, 'farm': 1320, 'fifth': 1321, 'jennifer': 1322, 'unite': 1323, 'check': 1324, 'scheme': 1325, 'tomorrow': 1326, 'fox': 1327, 'metal': 1328, 'vow': 1329, 'cabinet': 1330, 'package': 1331, 'taiwan': 1332, 'massive': 1333, 'democrat': 1334, 'egypt': 1335, 'affect': 1336, 'gulf': 1337, 'venture': 1338, 'celebrity': 1339, 'industrial': 1340, 'average': 1341, 'entertainment': 1342, 'course': 1343, 'commissioner': 1344, 'auto': 1345, 'chance': 1346, 'quality': 1347, 'seat': 1348, 'short': 1349, 'terrorist': 1350, 'jersey': 1351, 'crude': 1352, 'then': 1353, 'midfielder': 1354, 'liverpool': 1355, 'girlfriend': 1356, 'soccer': 1357, 'chelsea': 1358, 'potential': 1359, 'corruption': 1360, 'shut': 1361, 'philippine': 1362, 'female': 1363, 'settle': 1364, 'science': 1365, 'paris': 1366, 'inside': 1367, 'fort': 1368, 'romney': 1369, 'withdraw': 1370, 'banking': 1371, 'contest': 1372, 'legend': 1373, 'promise': 1374, 'others': 1375, 'operate': 1376, 'overnight': 1377, 'lot': 1378, 'dance': 1379, 'marry': 1380, 'funding': 1381, 'compare': 1382, 'mission': 1383, 'manufacturer': 1384, 'indict': 1385, 'treat': 1386, 'tribute': 1387, 'downtown': 1388, 'andrew': 1389, 'solar': 1390, 'pregnant': 1391, 'undergo': 1392, 'reopen': 1393, 'taliban': 1394, 'previous': 1395, 'fresh': 1396, 'select': 1397, 'strategic': 1398, 'flat': 1399, 'situation': 1400, 'identify': 1401, 'blood': 1402, 'society': 1403, 'greece': 1404, 'wound': 1405, 'brazil': 1406, 'professional': 1407, 'window': 1408, '29': 1409, 'bail': 1410, 's': 1411, 'eye': 1412, 'defender': 1413, 'carrier': 1414, 'draft': 1415, 'italy': 1416, 'representative': 1417, 'separate': 1418, 'minute': 1419, 'edge': 1420, 'strengthen': 1421, 'reporter': 1422, 'memorial': 1423, 'theft': 1424, 'muslim': 1425, 'impact': 1426, 'response': 1427, 'miami': 1428, 'twin': 1429, 'dealer': 1430, 'republic': 1431, 'zone': 1432, 'quarterly': 1433, 'chase': 1434, 'edward': 1435, 'income': 1436, 'perry': 1437, 'experience': 1438, 'protester': 1439, 'morgan': 1440, 'aircraft': 1441, 'prosecutor': 1442, 'fair': 1443, 'bowl': 1444, 'controversial': 1445, 'gaza': 1446, '200': 1447, 'mine': 1448, 'payment': 1449, 'iowa': 1450, 'debate': 1451, 'louis': 1452, 'wait': 1453, 'ali': 1454, 'coal': 1455, 'ranger': 1456, '60': 1457, 'pirate': 1458, 'route': 1459, 'poor': 1460, 'mean': 1461, 'fin': 1462, 'summit': 1463, 'virginia': 1464, 'arizona': 1465, 'forest': 1466, 'nba': 1467, 'cruise': 1468, 'message': 1469, 'strategy': 1470, 'colorado': 1471, 'endorse': 1472, 'auction': 1473, 'rs': 1474, 'allege': 1475, 'fatal': 1476, 'knee': 1477, 'hot': 1478, 'environment': 1479, 'cloud': 1480, 'van': 1481, 'enough': 1482, 'marketing': 1483, 'irish': 1484, 'detroit': 1485, 'prevent': 1486, 'malaysia': 1487, 'trend': 1488, 'blame': 1489, 'enterprise': 1490, 'heat': 1491, 'offering': 1492, 'teenager': 1493, 'elderly': 1494, 'squad': 1495, 'chain': 1496, 'jim': 1497, 'mountain': 1498, 'towards': 1499, 'rupee': 1500, 'trip': 1501, 'hospitalize': 1502, 'adam': 1503, 'fame': 1504, 'wireless': 1505, 'labor': 1506, 'snow': 1507, 'ease': 1508, 'shareholder': 1509, 'kid': 1510, 'mccain': 1511, 'photo': 1512, 'speed': 1513, 'academy': 1514, 'burglary': 1515, 'strip': 1516, 'relationship': 1517, 'feb': 1518, 'doesnt': 1519, 'pacific': 1520, 'dallas': 1521, 'diego': 1522, 'francisco': 1523, 'atlanta': 1524, 'studio': 1525, 'hockey': 1526, 'tim': 1527, 'story': 1528, 'libya': 1529, 'blast': 1530, 'image': 1531, 'tennis': 1532, 'discover': 1533, 'let': 1534, 'approach': 1535, 'climate': 1536, 'alex': 1537, 'transport': 1538, 'opportunity': 1539, 'greek': 1540, 'rap': 1541, 'madrid': 1542, 'different': 1543, 'touch': 1544, 'navy': 1545, 'wear': 1546, 'though': 1547, 'upgrade': 1548, 'mr': 1549, 'additional': 1550, 'hong': 1551, 'illinois': 1552, 'disaster': 1553, 'estimate': 1554, 'critical': 1555, 'trust': 1556, 'version': 1557, 'boyfriend': 1558, 'tourist': 1559, 'picture': 1560, 'successful': 1561, 'dec': 1562, 'insist': 1563, 'quarterback': 1564, 'ten': 1565, 'door': 1566, 'swine': 1567, 'safe': 1568, 'rugby': 1569, 'patent': 1570, 'voice': 1571, 'severe': 1572, 'fine': 1573, 'stone': 1574, 'restore': 1575, 'license': 1576, 'factor': 1577, 'wake': 1578, 'brain': 1579, 'paper': 1580, 'william': 1581, 'branch': 1582, 'proposal': 1583, 'establish': 1584, 'custody': 1585, 'x': 1586, 'tackle': 1587, 'kelly': 1588, 'harry': 1589, 'telecom': 1590, 'exercise': 1591, 'christian': 1592, 'chemical': 1593, 'equipment': 1594, 'aug': 1595, 'maintain': 1596, 'azerbaijan': 1597, 'mass': 1598, 'milan': 1599, 'effective': 1600, 'kong': 1601, 'manufacturing': 1602, 'helicopter': 1603, 'bull': 1604, 'bollywood': 1605, 'beijing': 1606, 'richard': 1607, 'letter': 1608, 'cast': 1609, 'slip': 1610, 'rebound': 1611, 'currently': 1612, 'rank': 1613, 'earn': 1614, 'row': 1615, 'ford': 1616, 'ben': 1617, 'progress': 1618, 'register': 1619, 'renew': 1620, 'via': 1621, 'mining': 1622, 'screen': 1623, 'delivery': 1624, 'headquarters': 1625, 'lindsay': 1626, 'duty': 1627, 'detain': 1628, 'electric': 1629, 'golf': 1630, 'wayne': 1631, 'foundation': 1632, 'leg': 1633, 'nov': 1634, 'kardashian': 1635, 'secret': 1636, 'tough': 1637, 'happen': 1638, 'santa': 1639, 'sun': 1640, 'surprise': 1641, 'matt': 1642, 'repair': 1643, 'andy': 1644, 'seriously': 1645, 'reality': 1646, 'happy': 1647, 'patrol': 1648, 'rush': 1649, 'ill': 1650, 'simon': 1651, 'lohan': 1652, 'multiple': 1653, 'holding': 1654, 'slightly': 1655, 'saw': 1656, 'sanction': 1657, 'motorcycle': 1658, 'warning': 1659, 'charlie': 1660, 'environmental': 1661, 'shes': 1662, 'battery': 1663, 'wide': 1664, 'oct': 1665, 'township': 1666, 'artist': 1667, 'vega': 1668, 'witness': 1669, 'satellite': 1670, 'left': 1671, 'invite': 1672, 'alliance': 1673, 'marijuana': 1674, 'hearing': 1675, 'praise': 1676, 'complex': 1677, 'gaga': 1678, 'bangladesh': 1679, 'sir': 1680, 'toyota': 1681, 'kashmir': 1682, 'nomination': 1683, 'classic': 1684, 'tourism': 1685, 'journal': 1686, 'drink': 1687, 'bob': 1688, 'crore': 1689, 'jack': 1690, 'respond': 1691, 'settlement': 1692, 'expectation': 1693, 'ring': 1694, 'subsidiary': 1695, 'adopt': 1696, 'oscar': 1697, 'outlook': 1698, 'arab': 1699, 'prisoner': 1700, 'indonesia': 1701, 'mile': 1702, 'seattle': 1703, 'didnt': 1704, 'leadership': 1705, 'assistant': 1706, 'ice': 1707, 'daniel': 1708, 'various': 1709, 'pledge': 1710, 'kate': 1711, 'huge': 1712, 'material': 1713, 'cleveland': 1714, 'content': 1715, 'missouri': 1716, 'spread': 1717, 'ensure': 1718, 'honour': 1719, 'charles': 1720, 'brian': 1721, 'medal': 1722, 'hang': 1723, 'hurt': 1724, 'failure': 1725, 'blow': 1726, 'important': 1727, 'terror': 1728, 'jose': 1729, 'receiver': 1730, 'slam': 1731, 'engine': 1732, 'square': 1733, 'request': 1734, 'lion': 1735, 'distribution': 1736, 'treasury': 1737, 'sox': 1738, 'resort': 1739, 'capacity': 1740, '2007': 1741, 'relief': 1742, 'cant': 1743, 'jr': 1744, 'panel': 1745, 'english': 1746, 'labour': 1747, 'airway': 1748, '1000': 1749, 'reason': 1750, 'infrastructure': 1751, 'allegation': 1752, 'donate': 1753, 'fighter': 1754, 'expansion': 1755, 'clean': 1756, 'adult': 1757, 'jessica': 1758, 'v': 1759, 'bbc': 1760, 'anthony': 1761, 'master': 1762, 'rocket': 1763, 'initiative': 1764, 'stewart': 1765, 'ukraine': 1766, 'melbourne': 1767, 'mount': 1768, 'allen': 1769, 'deadly': 1770, 'associate': 1771, 'dozen': 1772, 'sexually': 1773, 'philadelphia': 1774, 'author': 1775, 'moscow': 1776, 'usa': 1777, 'app': 1778, 'metro': 1779, 'embassy': 1780, 'lack': 1781, 'raid': 1782, 'jason': 1783, 'always': 1784, 'sharply': 1785, 'gordon': 1786, 'horse': 1787, 'punjab': 1788, 'samsung': 1789, 'theatre': 1790, 'extension': 1791, 'swiss': 1792, 'barcelona': 1793, 'forum': 1794, 'complaint': 1795, 'appearance': 1796, 'really': 1797, 'orleans': 1798, 'homicide': 1799, 'require': 1800, 'generation': 1801, 'idol': 1802, 'indiana': 1803, 'reelection': 1804, 'alleged': 1805, 'scotland': 1806, 'garden': 1807, 'healthcare': 1808, 'cole': 1809, 'spark': 1810, 'campus': 1811, 'client': 1812, 'email': 1813, 'nick': 1814, 'politics': 1815, 'slash': 1816, 'ongoing': 1817, 'historic': 1818, 'stephen': 1819, 'pleads': 1820, 'islamic': 1821, 'hero': 1822, 'factory': 1823, 'dc': 1824, 'founder': 1825, 'offender': 1826, 'surge': 1827, 'seem': 1828, 'wedding': 1829, 'territory': 1830, 'cameron': 1831, 'mitt': 1832, 'marine': 1833, 'olympics': 1834, 'nationwide': 1835, 'rick': 1836, 'egyptian': 1837, 'wisconsin': 1838, 'southwest': 1839, 'pitch': 1840, 'able': 1841, '70': 1842, 'hike': 1843, 'mixed': 1844, 'halt': 1845, 'avenue': 1846, 'hamilton': 1847, 'majority': 1848, 'speech': 1849, 'regular': 1850, 'capture': 1851, 'offensive': 1852, 'downgrade': 1853, 'relate': 1854, 'brazilian': 1855, 'document': 1856, 'cable': 1857, 'eagle': 1858, 'dutch': 1859, 'mar': 1860, 'thomas': 1861, 'dream': 1862, 'immigration': 1863, 'ball': 1864, 'leak': 1865, 'arsenal': 1866, 'zimbabwe': 1867, 'saint': 1868, 'weekly': 1869, 'defensive': 1870, 'sister': 1871, 'pitcher': 1872, '35': 1873, 'volunteer': 1874, 'pension': 1875, 'violation': 1876, 'bin': 1877, 'lie': 1878, 'collection': 1879, 'sarah': 1880, 'word': 1881, 'gary': 1882, 'comedy': 1883, 'stimulus': 1884, 'lender': 1885, 'possession': 1886, 'sweep': 1887, 'smoke': 1888, 'patrick': 1889, 'tennessee': 1890, 'movement': 1891, 'ap': 1892, 'prize': 1893, 'electricity': 1894, 'missile': 1895, 'bieber': 1896, 'kentucky': 1897, 'russell': 1898, 'el': 1899, 'throughout': 1900, 'trader': 1901, 'survive': 1902, 'regard': 1903, 'participate': 1904, 'alcohol': 1905, '75': 1906, 'tech': 1907, 'previously': 1908, 'lower': 1909, 'plc': 1910, 'contact': 1911, 'pace': 1912, 'describe': 1913, 'location': 1914, 'victoria': 1915, 'violent': 1916, 'sony': 1917, 'technical': 1918, 'announcement': 1919, 'rare': 1920, 'commerce': 1921, 'choose': 1922, 'apparently': 1923, 'terrorism': 1924, 'pool': 1925, 'climb': 1926, 'advisory': 1927, 'scene': 1928, 'mexican': 1929, 'b': 1930, 'plea': 1931, 'condemn': 1932, 'toward': 1933, 'fish': 1934, 'scandal': 1935, 'detail': 1936, 'kennedy': 1937, 'ii': 1938, 'oklahoma': 1939, 'iron': 1940, 'explosion': 1941, 'silver': 1942, 'kidnap': 1943, 'exist': 1944, 'ad': 1945, 'alert': 1946, 'stream': 1947, 'injured': 1948, 'quote': 1949, 'camera': 1950, 'coalition': 1951, 'brad': 1952, '300': 1953, 'plunge': 1954, 'qatar': 1955, 'railway': 1956, 'wrong': 1957, 'ray': 1958, 'violate': 1959, 'evacuate': 1960, 'celebration': 1961, 'chapter': 1962, 'm': 1963, 'enjoy': 1964, 'tool': 1965, 'overseas': 1966, 'wild': 1967, 'these': 1968, 'amount': 1969, 'fc': 1970, '32': 1971, 'golden': 1972, 'electronic': 1973, 'davis': 1974, 'tamil': 1975, 'significant': 1976, 'bjp': 1977, 'parliamentary': 1978, 'rail': 1979, 'palm': 1980, 'success': 1981, 'approval': 1982, 'inmate': 1983, 'diagnose': 1984, 'lewis': 1985, 'flag': 1986, 'wale': 1987, 'regulator': 1988, 'engineering': 1989, 'consecutive': 1990, 'tata': 1991, 'conservative': 1992, 'kyrgyzstan': 1993, 'sept': 1994, 'prove': 1995, 'notice': 1996, 'evidence': 1997, 'frank': 1998, 'playoff': 1999, 'arabia': 2000, 'portfolio': 2001, 'childrens': 2002, 'cap': 2003, 'library': 2004, 'mill': 2005, 'yankee': 2006, 'cold': 2007, 'breast': 2008, 'elizabeth': 2009, 'phoenix': 2010, 'suspected': 2011, 'pradesh': 2012, 'vietnam': 2013, 'dismiss': 2014, 'waste': 2015, 'beckham': 2016, '80': 2017, 'overall': 2018, 'yahoo': 2019, 'pharmaceutical': 2020, 'pope': 2021, 'appoints': 2022, 'iraqi': 2023, 'hunt': 2024, 'impose': 2025, 'advertising': 2026, 'friendly': 2027, 'crown': 2028, 'jay': 2029, 'electronics': 2030, 'alabama': 2031, 'institution': 2032, 'n': 2033, 'ed': 2034, 'campbell': 2035, 'libyan': 2036, 'prix': 2037, 'stroke': 2038, 'nelson': 2039, 'supporter': 2040, 'armed': 2041, 'collision': 2042, 'locate': 2043, 'pose': 2044, 'warrant': 2045, 'drown': 2046, 'penalty': 2047, 'ghana': 2048, 'ocean': 2049, 'freedom': 2050, 'statistic': 2051, 'catholic': 2052, 'civilian': 2053, 'scottish': 2054, 'determine': 2055, 'disabled': 2056, 'prospect': 2057, 'kansa': 2058, 'postpone': 2059, 'gate': 2060, 'northwest': 2061, 'display': 2062, 'diamond': 2063, 'hillary': 2064, 'broadband': 2065, 'promotion': 2066, 'nokia': 2067, 'represent': 2068, 'homeless': 2069, '2014': 2070, 'page': 2071, 'compete': 2072, 'utility': 2073, 'designer': 2074, 'worry': 2075, 'amy': 2076, 'pittsburgh': 2077, 'michelle': 2078, 'simpson': 2079, 'clinic': 2080, 'contain': 2081, 'mail': 2082, 'easy': 2083, 'intend': 2084, 'speaker': 2085, 'speculation': 2086, 'fargo': 2087, 'yemen': 2088, 'sponsor': 2089, 'read': 2090, 'fact': 2091, 'cuba': 2092, 'fisherman': 2093, 'supplier': 2094, 'medicine': 2095, 'matter': 2096, 'knock': 2097, 'tokyo': 2098, 'weight': 2099, 'carbon': 2100, 'answer': 2101, 'nominate': 2102, 'achieve': 2103, 'employer': 2104, 'democracy': 2105, 'tornado': 2106, 'sixth': 2107, 'venezuela': 2108, 'cape': 2109, 'weaken': 2110, 'retain': 2111, 'casino': 2112, 'toll': 2113, 'commodity': 2114, 'milwaukee': 2115, 'gang': 2116, 'sit': 2117, 'celtic': 2118, 'conflict': 2119, 'machine': 2120, 'moore': 2121, 'jon': 2122, 'killer': 2123, 'denver': 2124, 'spill': 2125, 'successfully': 2126, 'rural': 2127, 'cbs': 2128, 'rapper': 2129, 'jordan': 2130, 'bureau': 2131, 'gather': 2132, 'tonne': 2133, 'miller': 2134, 'swim': 2135, 'murray': 2136, 'museum': 2137, 'agriculture': 2138, 'commander': 2139, 'interior': 2140, 'shift': 2141, 'qualify': 2142, 'yen': 2143, 'semifinal': 2144, '45': 2145, 'eliminate': 2146, 'wish': 2147, 'smart': 2148, 'sleep': 2149, 'elementary': 2150, 'tablet': 2151, 'funeral': 2152, 'ipad': 2153, 'fit': 2154, 'apologize': 2155, 'shortage': 2156, 'apply': 2157, 'guy': 2158, 'negative': 2159, 'palin': 2160, 'sound': 2161, 'predict': 2162, 'rihanna': 2163, 'arena': 2164, 'android': 2165, 'wilson': 2166, 'specialist': 2167, 'thanks': 2168, 'pair': 2169, 'individual': 2170, 'although': 2171, 'herself': 2172, '90': 2173, 'sharp': 2174, 'sky': 2175, 'formally': 2176, 'nigeria': 2177, 'drama': 2178, 'junior': 2179, 'formula': 2180, 'malaysian': 2181, 'eat': 2182, 'dangerous': 2183, 'residential': 2184, 'delegation': 2185, '400': 2186, 'itself': 2187, 'politician': 2188, 'probe': 2189, 'famous': 2190, 'suspicion': 2191, 'choice': 2192, 'pedestrian': 2193, 'pro': 2194, 'rehab': 2195, 'strength': 2196, 'resolve': 2197, 'steady': 2198, 'stress': 2199, 'ny': 2200, 'sudan': 2201, 'longtime': 2202, 'twice': 2203, 'musical': 2204, 'implement': 2205, 'reuters': 2206, 'nifty': 2207, 'fellow': 2208, 'tropical': 2209, 'bird': 2210, 'signal': 2211, 'shock': 2212, 'storage': 2213, 'fake': 2214, 'crush': 2215, 'healthy': 2216, 'pattinson': 2217, 'shoulder': 2218, 'bag': 2219, 'roger': 2220, 'wave': 2221, 'franchise': 2222, 'improvement': 2223, 'pain': 2224, 'phase': 2225, 'eric': 2226, 'alive': 2227, 'thailand': 2228, 'orange': 2229, 'anna': 2230, 'earth': 2231, 'jerry': 2232, 'certain': 2233, 'initial': 2234, 'spear': 2235, 'legislation': 2236, 'illness': 2237, 'stanley': 2238, 'mall': 2239, 'combat': 2240, 'vancouver': 2241, 'pipeline': 2242, 'myanmar': 2243, 'monetary': 2244, 'immediate': 2245, 'status': 2246, 'fill': 2247, 'austin': 2248, 'trigger': 2249, 'sa': 2250, 'baltimore': 2251, 'dump': 2252, 'inning': 2253, 'style': 2254, 'busy': 2255, 'rich': 2256, 'visa': 2257, 'true': 2258, 'deep': 2259, 'gunman': 2260, 'howard': 2261, 'hell': 2262, 'basis': 2263, 'charter': 2264, 'independence': 2265, 'floor': 2266, 'idea': 2267, 'tension': 2268, 'indicate': 2269, 'birmingham': 2270, 'negotiation': 2271, 'stable': 2272, 'enforcement': 2273, 'talent': 2274, 'fully': 2275, 'uae': 2276, 'virus': 2277, 'congressional': 2278, 'lane': 2279, 'native': 2280, 'bengal': 2281, 'galaxy': 2282, 'monitor': 2283, 'rice': 2284, 'cardinal': 2285, 'culture': 2286, 'diplomatic': 2287, 'instead': 2288, 'buffalo': 2289, 'extra': 2290, 'moment': 2291, 'assistance': 2292, 'newly': 2293, 'exclusive': 2294, '10000': 2295, 'rather': 2296, 'newcastle': 2297, 'cheryl': 2298, 'ron': 2299, 'slide': 2300, 'usd': 2301, 'sheen': 2302, 'wing': 2303, 'ontario': 2304, 'table': 2305, 'sprint': 2306, 'tampa': 2307, 'bailout': 2308, 'matthew': 2309, 'deadline': 2310, 'abu': 2311, 'southeast': 2312, 'rio': 2313, 'dialogue': 2314, 'religious': 2315, 'copper': 2316, 'direction': 2317, 'teenage': 2318, 'attract': 2319, 'hail': 2320, 'indias': 2321, 'intelligence': 2322, '150': 2323, 'anderson': 2324, 'occur': 2325, 'population': 2326, 'inform': 2327, 'section': 2328, 'shopping': 2329, 'massachusetts': 2330, 'circuit': 2331, 'cat': 2332, 'carlos': 2333, 'encourage': 2334, 'entire': 2335, 'harris': 2336, 'katie': 2337, 'superstar': 2338, 'bulgaria': 2339, 'tip': 2340, 'recognize': 2341, 'w': 2342, 'powerful': 2343, 'j': 2344, 'fix': 2345, 'sabha': 2346, 'broadcast': 2347, 'sam': 2348, 'discovery': 2349, 'britney': 2350, 'lebanon': 2351, 'rapid': 2352, 'enhance': 2353, 'highlight': 2354, 'abc': 2355, 'label': 2356, 'wage': 2357, 'flee': 2358, 'bp': 2359, 'oregon': 2360, 'apparent': 2361, 'approximately': 2362, 'cocaine': 2363, 'crowd': 2364, 'comeback': 2365, 'degree': 2366, 'monthly': 2367, 'eurozone': 2368, 'respect': 2369, 'gandhi': 2370, 'scam': 2371, 'stick': 2372, 'item': 2373, 'tight': 2374, 'ton': 2375, 'swear': 2376, 'aviation': 2377, 'shark': 2378, 'resolution': 2379, 'sensex': 2380, 'commitment': 2381, 'disney': 2382, 'gift': 2383, 'thats': 2384, 'madison': 2385, 'presence': 2386, 'atlantic': 2387, 'exhibition': 2388, 'athlete': 2389, 'regulation': 2390, 'madonna': 2391, 'coverage': 2392, 'cook': 2393, 'luxury': 2394, 'influence': 2395, 'male': 2396, 'bounce': 2397, 'organisation': 2398, 'ride': 2399, '65': 2400, 'creek': 2401, 'fatally': 2402, 'trouble': 2403, 'resigns': 2404, 'convention': 2405, 'probation': 2406, 'pc': 2407, 'sing': 2408, 'katy': 2409, 'manslaughter': 2410, 'recruit': 2411, 'transportation': 2412, 'shanghai': 2413, 'kumar': 2414, 'orlando': 2415, 'angelina': 2416, 'utah': 2417, 'engineer': 2418, 'cargo': 2419, 'explain': 2420, 'globe': 2421, 'offshore': 2422, 'residence': 2423, 'sugar': 2424, 'themselves': 2425, 'breach': 2426, 'oakland': 2427, 'sentiment': 2428, 'tea': 2429, 'somali': 2430, 'employment': 2431, 'tower': 2432, 'demi': 2433, 'salary': 2434, 'lock': 2435, 'att': 2436, 'businessman': 2437, 'driving': 2438, 'c': 2439, 'exit': 2440, 'freeze': 2441, 'professor': 2442, 'jeff': 2443, 'refugee': 2444, 'buyer': 2445, 'legendary': 2446, 'invasion': 2447, 'reveals': 2448, 'mississippi': 2449, 'resistance': 2450, 'arkansas': 2451, 'preliminary': 2452, '62': 2453, 'remember': 2454, 'jolie': 2455, 'henry': 2456, 'bet': 2457, 'diplomat': 2458, 'deposit': 2459, 'gop': 2460, 'appointment': 2461, 'language': 2462, 'engagement': 2463, 'neighborhood': 2464, 'pennsylvania': 2465, 'investigator': 2466, 'active': 2467, 'queensland': 2468, 'unveils': 2469, 'highly': 2470, '600': 2471, 'nothing': 2472, 'guide': 2473, 'liberal': 2474, '41': 2475, 'episode': 2476, 'edition': 2477, 'ram': 2478, 'balance': 2479, 'dan': 2480, 'dakota': 2481, 'goldman': 2482, 'pornography': 2483, 'czech': 2484, 'abandon': 2485, 'regime': 2486, 'foreclosure': 2487, 'bomber': 2488, 'whats': 2489, 'mary': 2490, 'contractor': 2491, 'premiere': 2492, 'soar': 2493, 'crack': 2494, 'hunter': 2495, 'immediately': 2496, '64': 2497, 'minority': 2498, 'bat': 2499, 'planning': 2500, 'adviser': 2501, 'false': 2502, 'bilateral': 2503, 'benchmark': 2504, 'especially': 2505, 'thief': 2506, 'oppose': 2507, 'tender': 2508, 'wed': 2509, 'discussion': 2510, 'argentina': 2511, 'scrap': 2512, 'congressman': 2513, 'attempted': 2514, 'temporary': 2515, 'zardari': 2516, 'ankle': 2517, 'lending': 2518, 'awareness': 2519, 'pet': 2520, 'graduate': 2521, 'northeast': 2522, 'drunk': 2523, 'felt': 2524, 'warren': 2525, 'smartphone': 2526, 'e': 2527, 'manufacture': 2528, 'suspension': 2529, 'identity': 2530, 'opener': 2531, 'lineup': 2532, 'prompt': 2533, 'nsw': 2534, 'suffers': 2535, 'manmohan': 2536, 'something': 2537, 'penn': 2538, 'suspicious': 2539, 'craig': 2540, 'broadway': 2541, 'infection': 2542, 'don': 2543, 'jimmy': 2544, 'principal': 2545, 'cooper': 2546, 'advise': 2547, 'josh': 2548, 'however': 2549, 'azerbaijani': 2550, 'normal': 2551, 'bahrain': 2552, 'noon': 2553, 'antonio': 2554, 'andre': 2555, 'trail': 2556, 'dedicate': 2557, 'pitt': 2558, 'armenian': 2559, 'derby': 2560, 'switch': 2561, 'output': 2562, 'ag': 2563, 'stem': 2564, 'rumor': 2565, 'mac': 2566, 'slump': 2567, 'winehouse': 2568, 'youtube': 2569, 'lawrence': 2570, 'advanced': 2571, 'article': 2572, 'taxi': 2573, 'difference': 2574, 'maryland': 2575, 'columbia': 2576, 'responsible': 2577, 'bell': 2578, 'transaction': 2579, 'kazakhstan': 2580, 'alaska': 2581, 'bulgarian': 2582, 'maoist': 2583, 'biden': 2584, 'portland': 2585, 'serbia': 2586, 'spirit': 2587, 'neil': 2588, 'marathon': 2589, 'nurse': 2590, 'observe': 2591, 'mutual': 2592, 'plot': 2593, 'distribute': 2594, 'closer': 2595, 'hudson': 2596, 'tweet': 2597, 'suit': 2598, 'alternative': 2599, '5000': 2600, 'dark': 2601, 'outstanding': 2602, 'columbus': 2603, 'chavez': 2604, 'submit': 2605, 'sean': 2606, 'merger': 2607, 'angel': 2608, 'century': 2609, 'sachs': 2610, 'modern': 2611, 'confident': 2612, 'phil': 2613, 'parking': 2614, 'conclude': 2615, 'nhl': 2616, 'louisiana': 2617, 'onto': 2618, 'hamas': 2619, 'immigrant': 2620, 'guest': 2621, 'triple': 2622, 'tehran': 2623, 'tank': 2624, 'patriot': 2625, '85': 2626, 'criticism': 2627, 'warner': 2628, 'mental': 2629, 'enable': 2630, 'assist': 2631, 'naval': 2632, 'beyond': 2633, 'longer': 2634, 'miner': 2635, 'federation': 2636, 'ukrainian': 2637, 'god': 2638, 'publisher': 2639, 'permit': 2640, 'swift': 2641, '33': 2642, 'ncaa': 2643, 'structure': 2644, 'swedish': 2645, 'upset': 2646, 'switzerland': 2647, 'nominee': 2648, 'financing': 2649, 'dress': 2650, 'often': 2651, 'gear': 2652, '100000': 2653, '2000': 2654, 'pub': 2655, 'temperature': 2656, 'motorist': 2657, 'pole': 2658, 'limited': 2659, 'punch': 2660, 'fitness': 2661, 'introduces': 2662, 'trophy': 2663, 'upper': 2664, 'memory': 2665, 'weigh': 2666, 'cowell': 2667, 'living': 2668, 'steven': 2669, 'knight': 2670, 'internal': 2671, 'franklin': 2672, 'cuban': 2673, 'scientific': 2674, 'sweden': 2675, 'alan': 2676, 'swing': 2677, 'del': 2678, 'coffee': 2679, 'shed': 2680, 'connecticut': 2681, 'guarantee': 2682, 'category': 2683, 'drone': 2684, 'warrior': 2685, 'lord': 2686, 'charlotte': 2687, '42': 2688, 'lankan': 2689, 'gunpoint': 2690, 'jewish': 2691, 'duo': 2692, 'registration': 2693, 'milestone': 2694, 'conviction': 2695, 'collect': 2696, 'brave': 2697, 'size': 2698, 'kenya': 2699, 'operating': 2700, 'kansas': 2701, 'bradley': 2702, 'kristen': 2703, 'johnny': 2704, 'counterpart': 2705, 'shore': 2706, 'reliance': 2707, 'plastic': 2708, 'saving': 2709, 'knife': 2710, 'preseason': 2711, 'nigerian': 2712, 'billy': 2713, 'spy': 2714, 'closure': 2715, 'sack': 2716, 'ally': 2717, 'indonesian': 2718, 'villa': 2719, 'everything': 2720, 'robin': 2721, 'perfect': 2722, 'bury': 2723, 'dhabi': 2724, 'terry': 2725, 'reduction': 2726, 'chip': 2727, 'bone': 2728, 'parker': 2729, 'snap': 2730, 'theater': 2731, 'indie': 2732, 'transit': 2733, 'connect': 2734, 'dinner': 2735, 'slowdown': 2736, 'fare': 2737, 'assign': 2738, 'armstrong': 2739, 'personnel': 2740, 'eve': 2741, 'compensation': 2742, 'decrease': 2743, 'proud': 2744, 'surround': 2745, 'traditional': 2746, 'cyrus': 2747, 'teach': 2748, 'honda': 2749, 'cincinnati': 2750, 'cultural': 2751, 'enters': 2752, 'bike': 2753, 'apologise': 2754, 'alexander': 2755, 'brief': 2756, 'shah': 2757, 'amazon': 2758, 'llc': 2759, 'quarterfinal': 2760, '10th': 2761, 'deploy': 2762, '63': 2763, '36': 2764, 'character': 2765, 'wash': 2766, 'collide': 2767, 'bruce': 2768, 'killing': 2769, 'provincial': 2770, 'core': 2771, 'ballot': 2772, 'petrol': 2773, 'boeing': 2774, 'heard': 2775, 'obtain': 2776, 'nicolas': 2777, 'diabetes': 2778, 'ibm': 2779, 'code': 2780, 'recommend': 2781, 'mistake': 2782, 'pit': 2783, 'responsibility': 2784, 'fifa': 2785, 'aniston': 2786, 'emission': 2787, 'yield': 2788, 'streak': 2789, 'visitor': 2790, 'ferguson': 2791, 'custom': 2792, 'economist': 2793, 'nbc': 2794, 'interstate': 2795, 'chart': 2796, 'cnn': 2797, 'scale': 2798, 'shell': 2799, 'comedian': 2800, 'mind': 2801, 'walker': 2802, 'wildlife': 2803, 'wine': 2804, 'destination': 2805, 'bit': 2806, 'toddler': 2807, 'nicole': 2808, '34': 2809, 'tottenham': 2810, 'blackberry': 2811, 'cheat': 2812, 'priority': 2813, 'robber': 2814, 'countrys': 2815, 'kingdom': 2816, 'shake': 2817, 'kind': 2818, 'actually': 2819, 'p': 2820, 'chrysler': 2821, 'ive': 2822, 'shoe': 2823, 'troubled': 2824, 'belarus': 2825, 'volume': 2826, 'virgin': 2827, 'vaccine': 2828, 'networking': 2829, 'cub': 2830, 'grade': 2831, 'armenia': 2832, 'carter': 2833, 'montreal': 2834, 'barclays': 2835, 'broker': 2836, 'judicial': 2837, 'trap': 2838, 'regulatory': 2839, 'audience': 2840, 'maintenance': 2841, 'kolkata': 2842, 'roster': 2843, 'smash': 2844, 'bite': 2845, 'mandela': 2846, 'broad': 2847, 'caribbean': 2848, 'nasa': 2849, 'map': 2850, 'closing': 2851, 'rid': 2852, 'ac': 2853, 'innovation': 2854, 'softball': 2855, 'drill': 2856, 'barry': 2857, 'collaboration': 2858, 'neighbor': 2859, 'wreck': 2860, 'anything': 2861, 'rookie': 2862, 'longterm': 2863, 'interim': 2864, 'hub': 2865, 'barbara': 2866, 'rafael': 2867, 'upon': 2868, 'donation': 2869, 'physical': 2870, 'contribute': 2871, 'casey': 2872, 'miley': 2873, 'whole': 2874, 'inquiry': 2875, 'undisclosed': 2876, 'reverse': 2877, 'joseph': 2878, 'shelter': 2879, 'gap': 2880, 'fleet': 2881, 'chamber': 2882, 'resignation': 2883, 'jazz': 2884, 'hole': 2885, 'sustain': 2886, 'downturn': 2887, 'arson': 2888, 'urban': 2889, 'waiver': 2890, 'remark': 2891, 'lincoln': 2892, 'hide': 2893, 'dry': 2894, 'reunite': 2895, 'fitch': 2896, 'shortly': 2897, 'tear': 2898, 'expense': 2899, 'task': 2900, 'tumble': 2901, 'hawaii': 2902, 'hilton': 2903, 'petroleum': 2904, 'coordinator': 2905, 'height': 2906, 'bobby': 2907, 'haiti': 2908, 'workshop': 2909, 'putin': 2910, 'pat': 2911, 'icon': 2912, 'ricky': 2913, 'musician': 2914, 'musharraf': 2915, 'beauty': 2916, 'unchanged': 2917, 'difficult': 2918, 'constitution': 2919, 'verizon': 2920, 'd': 2921, 'nepal': 2922, 'entry': 2923, 'quickly': 2924, 'heavyweight': 2925, 'vessel': 2926, 'dow': 2927, 'walmart': 2928, 'brace': 2929, 'buying': 2930, 'maria': 2931, 'seventh': 2932, 'trillion': 2933, 'sunderland': 2934, 'takeover': 2935, 'brewer': 2936, 'teammate': 2937, 'delta': 2938, 'lopez': 2939, 'poland': 2940, 'seal': 2941, 'terminal': 2942, 'rand': 2943, 'blog': 2944, 'petition': 2945, 'restriction': 2946, 'handle': 2947, 'pack': 2948, 'encounter': 2949, 'parade': 2950, 'jacob': 2951, 'warns': 2952, 'forthcoming': 2953, 'thai': 2954, 'premium': 2955, 'legislature': 2956, '43': 2957, 'bristol': 2958, 'leading': 2959, 'seed': 2960, 'wikileaks': 2961, 'feed': 2962, 'await': 2963, 'wrap': 2964, 'temporarily': 2965, 'accidentally': 2966, '61': 2967, 'roy': 2968, 'pump': 2969, 'leaf': 2970, 'creative': 2971, 'colombian': 2972, 'broken': 2973, 'yard': 2974, 'brandon': 2975, 'dodger': 2976, 'dick': 2977, 'original': 2978, 'supermarket': 2979, '3d': 2980, 'tanker': 2981, 'roof': 2982, 'policeman': 2983, 'automotive': 2984, 'cool': 2985, 'restructuring': 2986, 'wolf': 2987, 'kapoor': 2988, 'shuttle': 2989, 'combine': 2990, 'sure': 2991, 'isnt': 2992, 'zoo': 2993, 'motion': 2994, 'reid': 2995, 'hedge': 2996, 'sacramento': 2997, 'understand': 2998, 'dip': 2999, 'nevada': 3000, 'cyclist': 3001, 'nascar': 3002, 'motorcyclist': 3003, 'watson': 3004, 'diesel': 3005, 'wildfire': 3006, 'mostly': 3007, 'insurer': 3008, '2006': 3009, 'benedict': 3010, 'prominent': 3011, 'heritage': 3012, 'comprehensive': 3013, 'cyprus': 3014, '76': 3015, 'hugo': 3016, 'moon': 3017, 'ufc': 3018, 'colombia': 3019, 'dublin': 3020, 'liam': 3021, 'peak': 3022, 'similar': 3023, 'ruling': 3024, 'photographer': 3025, 'spur': 3026, 'inter': 3027, 'finger': 3028, 'clark': 3029, 'prescription': 3030, 'fishing': 3031, 'affiliate': 3032, 'netherlands': 3033, 'abroad': 3034, 'type': 3035, 'palace': 3036, '37': 3037, 'household': 3038, 'kerry': 3039, 'nashville': 3040, 'hair': 3041, 'intel': 3042, 'qantas': 3043, 'trailer': 3044, 'admits': 3045, 'billionaire': 3046, 'ian': 3047, 'filing': 3048, 'refinery': 3049, 'designate': 3050, 'exploration': 3051, 'duke': 3052, 'strongly': 3053, 'emirate': 3054, 'auckland': 3055, 'temple': 3056, 'discharge': 3057, 'berlin': 3058, 'lakh': 3059, 'critic': 3060, 'automaker': 3061, 'revolution': 3062, 'probably': 3063, 'hughes': 3064, 'alone': 3065, 'execute': 3066, 'bust': 3067, 'indianapolis': 3068, 'acre': 3069, 'reflect': 3070, 'permanent': 3071, 'rider': 3072, 'landing': 3073, 'kiss': 3074, 'larry': 3075, 'riot': 3076, 'assignment': 3077, 'clinch': 3078, 'sink': 3079, 'revise': 3080, '700': 3081, 'integrate': 3082, 'legislative': 3083, '911': 3084, 'lightning': 3085, 'lash': 3086, 'induct': 3087, 'aston': 3088, 'lok': 3089, 'inaugurate': 3090, 'fbi': 3091, 'foster': 3092, 'raider': 3093, 'argument': 3094, 'bed': 3095, 'neighbour': 3096, 'unexpectedly': 3097, 'municipal': 3098, 'liberty': 3099, 'jamie': 3100, 'ski': 3101, 'analysis': 3102, 'hp': 3103, 'drag': 3104, 'thompson': 3105, 'flow': 3106, 'advantage': 3107, 'overturn': 3108, 'generate': 3109, 'discount': 3110, 'commonwealth': 3111, 'misdemeanor': 3112, 'narrow': 3113, 'dramatic': 3114, 'bishop': 3115, 'editor': 3116, 'bombing': 3117, 'aaron': 3118, 'quite': 3119, 'organize': 3120, 'requirement': 3121, 'islamabad': 3122, 'grove': 3123, 'lama': 3124, 'deutsche': 3125, 'selection': 3126, 'collins': 3127, 'graham': 3128, 'outlet': 3129, 'depression': 3130, 'detective': 3131, 'magic': 3132, '72': 3133, 'glass': 3134, 'trooper': 3135, 'mtv': 3136, 'maine': 3137, 'interested': 3138, 'drunken': 3139, 'keen': 3140, 'hip': 3141, 'corner': 3142, 'ash': 3143, 'dave': 3144, 'illegally': 3145, 'opponent': 3146, 'standoff': 3147, 'regret': 3148, 'welfare': 3149, 'danny': 3150, 'rover': 3151, 'associated': 3152, 'aide': 3153, 'workforce': 3154, 'cinema': 3155, 'christina': 3156, 'advocate': 3157, '3000': 3158, 'expose': 3159, 'increasingly': 3160, 'baghdad': 3161, 'stag': 3162, 'favorite': 3163, 'flash': 3164, 'unique': 3165, 'controversy': 3166, 'possibility': 3167, 'goalkeeper': 3168, 'carl': 3169, 'favourite': 3170, 'athletic': 3171, 'piece': 3172, 'print': 3173, 'gujarat': 3174, 'waive': 3175, 'advisor': 3176, 'flame': 3177, 'georgian': 3178, '38': 3179, 'preparation': 3180, 'cairo': 3181, 'fisher': 3182, 'dolphin': 3183, 'tribal': 3184, 'ashley': 3185, 'overhaul': 3186, 'beer': 3187, 'surrender': 3188, 'refinance': 3189, 'danger': 3190, 'disclose': 3191, 'sp': 3192, '250': 3193, 'widen': 3194, 'hostage': 3195, 'wire': 3196, 'till': 3197, 'chennai': 3198, 'contribution': 3199, 'telecommunication': 3200, 'kerala': 3201, 'variety': 3202, 'jesse': 3203, 'evans': 3204, 'medvedev': 3205, 'marshall': 3206, 'rome': 3207, 'owe': 3208, '55': 3209, 'prior': 3210, 'tighten': 3211, 'tap': 3212, 'reward': 3213, 'plus': 3214, 'poise': 3215, 'vendor': 3216, 'cheap': 3217, 'banker': 3218, 'jobless': 3219, 'bachchan': 3220, 'universal': 3221, 'opera': 3222, 'virtual': 3223, 'shane': 3224, 'salman': 3225, 'competitive': 3226, '51': 3227, 'karnataka': 3228, 'linebacker': 3229, 'filmmaker': 3230, 'brisbane': 3231, 'someone': 3232, 'jammu': 3233, 'kanye': 3234, 'unlikely': 3235, 'hunger': 3236, 'doubt': 3237, 'everyone': 3238, 'default': 3239, 'eddie': 3240, 'pursue': 3241, 'beef': 3242, 'sideline': 3243, 'mccartney': 3244, 'uncertainty': 3245, 'grain': 3246, 'roman': 3247, 'mets': 3248, 'era': 3249, 'ross': 3250, 'occupy': 3251, 'shrink': 3252, 'stability': 3253, 'drought': 3254, 'relative': 3255, 'walter': 3256, 'subject': 3257, 'procedure': 3258, 'publicly': 3259, 'holmes': 3260, 'greg': 3261, 'offence': 3262, 'ace': 3263, 'strand': 3264, 'text': 3265, 'dalai': 3266, 'addition': 3267, 'brook': 3268, '48': 3269, 'vladimir': 3270, 'viking': 3271, 'holder': 3272, 'outfielder': 3273, 'restructure': 3274, 'hampshire': 3275, 'torch': 3276, 'ottawa': 3277, 'asif': 3278, 'ted': 3279, 'string': 3280, 'capitol': 3281, 'humanitarian': 3282, 'explore': 3283, 'outbreak': 3284, 'milk': 3285, 'conspiracy': 3286, 'lung': 3287, 'transplant': 3288, 'demonstration': 3289, '50000': 3290, 'mitchell': 3291, 'pak': 3292, 'crackdown': 3293, 'warm': 3294, 'voting': 3295, '44': 3296, 'kuwait': 3297, 'kidney': 3298, 'gaddafi': 3299, 'fla': 3300, 'minimum': 3301, 'cowboy': 3302, 'skin': 3303, 'twoyear': 3304, 'explosive': 3305, 'tyler': 3306, 'dominate': 3307, 'rogers': 3308, 'councillor': 3309, 'rumour': 3310, 'sterling': 3311, 'sarkozy': 3312, '800': 3313, 'prayer': 3314, 'afp': 3315, 'bottom': 3316, 'rollover': 3317, '82': 3318, 'gene': 3319, 'titan': 3320, 'costa': 3321, 'lance': 3322, 'ahmadinejad': 3323, 'perth': 3324, 'reiterate': 3325, 'iii': 3326, 'australias': 3327, 'sustainable': 3328, 'skill': 3329, 'shape': 3330, 'inspire': 3331, 'envoy': 3332, 'haven': 3333, 'undergoes': 3334, '46': 3335, 'infant': 3336, 'rental': 3337, 'migrant': 3338, 'ore': 3339, 'malik': 3340, 'hes': 3341, 'efficiency': 3342, 'innovative': 3343, 'mukherjee': 3344, 'wholesale': 3345, 'bolster': 3346, 'testify': 3347, 'zuma': 3348, '2015': 3349, 'neck': 3350, 'remote': 3351, 'mahmoud': 3352, 'fa': 3353, 'raw': 3354, 'overcome': 3355, 'interactive': 3356, 'path': 3357, 'exporter': 3358, 'revive': 3359, 'amendment': 3360, 'anyone': 3361, 'chile': 3362, 'wealth': 3363, 'mom': 3364, 'adelaide': 3365, 'jerusalem': 3366, 'spokeswoman': 3367, 'obamas': 3368, 'curb': 3369, 'jeremy': 3370, 'opinion': 3371, 'jonathan': 3372, 'bottle': 3373, 'surface': 3374, 'dell': 3375, 'instal': 3376, 'latin': 3377, 'knowledge': 3378, 'fun': 3379, 'abortion': 3380, 'landmark': 3381, 'hint': 3382, 'oneyear': 3383, 'disorder': 3384, 'citigroup': 3385, 'hopeful': 3386, 'viewer': 3387, 'activate': 3388, 'integration': 3389, 'idaho': 3390, 'swap': 3391, 'rb': 3392, '52': 3393, 'higher': 3394, 'harper': 3395, 'attention': 3396, 'motorola': 3397, 'bmw': 3398, 'tire': 3399, 'zero': 3400, 'denies': 3401, 'douglas': 3402, 'disrupt': 3403, 'le': 3404, 'gilani': 3405, 'wimbledon': 3406, 'strain': 3407, 'significantly': 3408, 'kenny': 3409, 'skipper': 3410, 'signing': 3411, 'nebraska': 3412, 'critically': 3413, 'presidency': 3414, 'delaware': 3415, 'warehouse': 3416, 'comic': 3417, 'veto': 3418, 'guidance': 3419, 'nadal': 3420, 'pete': 3421, 'congratulate': 3422, 'priest': 3423, 'venezuelan': 3424, 'communist': 3425, 'raza': 3426, 'hat': 3427, 'rochester': 3428, 'springfield': 3429, 'explode': 3430, 'theyre': 3431, 'twenty20': 3432, 'scout': 3433, 'merge': 3434, 'lakers': 3435, 'montana': 3436, 'chancellor': 3437, 'pupil': 3438, 'murphy': 3439, 'voluntary': 3440, 'chef': 3441, 'vision': 3442, 'cycle': 3443, 'unknown': 3444, 'blaze': 3445, 'renewable': 3446, 'ambulance': 3447, 'familiar': 3448, 'lease': 3449, 'fiji': 3450, 'owen': 3451, 'recycle': 3452, 'abdullah': 3453, 'kyle': 3454, 'tape': 3455, 'crystal': 3456, 'nc': 3457, 'affordable': 3458, 'evacuation': 3459, 'mario': 3460, 'gibson': 3461, 'kris': 3462, 'gm': 3463, 'steelers': 3464, 'jefferson': 3465, 'parish': 3466, 'crop': 3467, 'dean': 3468, 'airbus': 3469, '11th': 3470, 'quick': 3471, 'pti': 3472, 'julia': 3473, 'kent': 3474, 'novel': 3475, 'lloyd': 3476, 'romania': 3477, 'ability': 3478, 'arnold': 3479, 'skip': 3480, 'survivor': 3481, 'salt': 3482, 'organise': 3483, 'function': 3484, 'nightclub': 3485, 'pickup': 3486, 'processing': 3487, 'lily': 3488, 'everton': 3489, 'wright': 3490, 'juan': 3491, 'asylum': 3492, 'memphis': 3493, 'northwestern': 3494, 'membership': 3495, 'prostate': 3496, 'elephant': 3497, 'tsunami': 3498, 'sep': 3499, 'outfit': 3500, '53': 3501, 'taxpayer': 3502, 'chair': 3503, 'advice': 3504, 'jacksonville': 3505, 'cop': 3506, 'winger': 3507, 'lucky': 3508, 'wellington': 3509, 'momentum': 3510, 'solo': 3511, 'blind': 3512, 'neutral': 3513, 'grab': 3514, 'maharashtra': 3515, 'lebanese': 3516, 'spell': 3517, 'hate': 3518, 'wonder': 3519, 'joke': 3520, 'command': 3521, 'astronaut': 3522, 'angry': 3523, 'allstar': 3524, 'berlusconi': 3525, 'detect': 3526, 'levy': 3527, 'tommy': 3528, 'sovereign': 3529, 'broadcaster': 3530, 'accelerate': 3531, 'pioneer': 3532, 'placement': 3533, 'retreat': 3534, 'exceed': 3535, '95': 3536, 'rachel': 3537, 'agricultural': 3538, 'raven': 3539, 'please': 3540, 'emma': 3541, 'completely': 3542, 'harvest': 3543, 'poverty': 3544, 'coroner': 3545, 'rip': 3546, 'keith': 3547, 'solid': 3548, 'hack': 3549, 'sick': 3550, 'afl': 3551, 'bc': 3552, 'licence': 3553, 'rocker': 3554, 'boss': 3555, 'brett': 3556, 'documentary': 3557, 'withdraws': 3558, 'spokesperson': 3559, 'deserve': 3560, 'wheat': 3561, 'reader': 3562, 'repeat': 3563, 'mason': 3564, '120': 3565, 'alongside': 3566, 'defenseman': 3567, 'julian': 3568, 'phillips': 3569, 'homeowner': 3570, 'involvement': 3571, 'cliff': 3572, 'crucial': 3573, 'pregnancy': 3574, 'lil': 3575, 'colleague': 3576, 'bonus': 3577, 'watchdog': 3578, 'possibly': 3579, 'versus': 3580, 'drinking': 3581, 'academic': 3582, 'basic': 3583, 'prevention': 3584, 'kosovo': 3585, 'qualifier': 3586, '50th': 3587, 'prostitution': 3588, 'shipment': 3589, 'abdul': 3590, 'margin': 3591, 'exposure': 3592, 'load': 3593, 'espn': 3594, 'donald': 3595, 'rooney': 3596, 'method': 3597, 'nj': 3598, 'superior': 3599, 'constitutional': 3600, 'boycott': 3601, 'somalia': 3602, 'smuggle': 3603, 'vodafone': 3604, 'tibetan': 3605, '54': 3606, 'pastor': 3607, 'theme': 3608, 'chidambaram': 3609, 'middleton': 3610, 'jaguar': 3611, 'naked': 3612, 'convert': 3613, 'carey': 3614, 'download': 3615, 'ferry': 3616, 'cotton': 3617, 'lodge': 3618, 'remains': 3619, 'pending': 3620, 'mubarak': 3621, '68': 3622, 'beverly': 3623, 'serial': 3624, 'emmy': 3625, 'phillies': 3626, 'dad': 3627, 'youre': 3628, 'suburb': 3629, 'beginning': 3630, 'favour': 3631, 'philip': 3632, 'subscriber': 3633, 'external': 3634, 'volleyball': 3635, 'lesson': 3636, 'nobel': 3637, 'garage': 3638, 'potentially': 3639, 'caution': 3640, 'athens': 3641, 'holy': 3642, 'gamble': 3643, 'cruelty': 3644, 'underway': 3645, 'clerk': 3646, 'wheel': 3647, 'server': 3648, 'bloomberg': 3649, 'toy': 3650, 'vatican': 3651, 'faith': 3652, 'distributor': 3653, 'corn': 3654, 'surplus': 3655, 'torture': 3656, 'pizza': 3657, 'census': 3658, 'administrator': 3659, 'either': 3660, 'expel': 3661, 'inspector': 3662, 'midnight': 3663, 'susan': 3664, 'capability': 3665, 'concussion': 3666, 'martinez': 3667, 'ham': 3668, 'arrival': 3669, 'outage': 3670, 'conservation': 3671, 'shopper': 3672, 'discrimination': 3673, 'lovato': 3674, 'bullet': 3675, 'randy': 3676, 'roberto': 3677, 'thunderstorm': 3678, 'bangalore': 3679, '67': 3680, 'anne': 3681, 'ranking': 3682, 'christie': 3683, 'flagship': 3684, 'uranium': 3685, 'receives': 3686, '71': 3687, 'solve': 3688, 'lifetime': 3689, 'liquor': 3690, 'headline': 3691, 'muhammad': 3692, 'laboratory': 3693, 'peaceful': 3694, 'leeds': 3695, '500000': 3696, 'pink': 3697, 'pilgrim': 3698, 'bryant': 3699, 'sandy': 3700, 'mystery': 3701, 'porn': 3702, 'imf': 3703, 'tag': 3704, '57': 3705, 'marc': 3706, 'montgomery': 3707, 'haryana': 3708, 'regain': 3709, 'brussels': 3710, 'stretch': 3711, 'counter': 3712, 'xinhua': 3713, 'smartphones': 3714, 'vs': 3715, 'fugitive': 3716, 'brush': 3717, 'chicken': 3718, 'portsmouth': 3719, 'baseman': 3720, 'unable': 3721, 'edmonton': 3722, 'dairy': 3723, 'wwe': 3724, 'anc': 3725, 'unity': 3726, 'seminar': 3727, 'auburn': 3728, 'inaugural': 3729, 'detention': 3730, 'spencer': 3731, 'boot': 3732, 'firearm': 3733, 'karachi': 3734, 'richmond': 3735, 'mel': 3736, 'abduct': 3737, 'potter': 3738, 'reading': 3739, 'meter': 3740, 'inventory': 3741, 'sense': 3742, 'inch': 3743, 'heidi': 3744, 'firework': 3745, 'polish': 3746, 'bihar': 3747, 'considers': 3748, 'commits': 3749, 'awardwinning': 3750, 'privacy': 3751, 'louisville': 3752, 'syed': 3753, 'dame': 3754, 'pharmacy': 3755, 'selling': 3756, 'elbow': 3757, 'boxer': 3758, 'following': 3759, 'offset': 3760, 'assure': 3761, 'transition': 3762, 'laden': 3763, 'assange': 3764, 'cbi': 3765, 'favor': 3766, 'modi': 3767, 'mugabe': 3768, 'staterun': 3769, 'peru': 3770, 'confirms': 3771, 'karzai': 3772, 'guitarist': 3773, 'heroin': 3774, 'costar': 3775, 'sheikh': 3776, 'demonstrate': 3777, '39': 3778, 'execution': 3779, 'abbas': 3780, 'ward': 3781, 'dam': 3782, 'fiveyear': 3783, 'amanda': 3784, 'jewelry': 3785, 'racing': 3786, 'achievement': 3787, 'compromise': 3788, 'inspection': 3789, 'specialty': 3790, 'agenda': 3791, 'obesity': 3792, 'nissan': 3793, 'fernando': 3794, 'max': 3795, 'moderate': 3796, 'portugal': 3797, 'threeday': 3798, 'thanksgiving': 3799, 'devastate': 3800, 'cricketer': 3801, 'hybrid': 3802, 'grocery': 3803, 'confess': 3804, 'gross': 3805, 'rodriguez': 3806, 'insider': 3807, '12th': 3808, 'verdict': 3809, 'scare': 3810, 'error': 3811, 'qaeda': 3812, 'acquit': 3813, 'complain': 3814, 'insurgent': 3815, 'fat': 3816, '900': 3817, 'bernard': 3818, 'pattern': 3819, 'diet': 3820, 'schwarzenegger': 3821, 'chest': 3822, 'norway': 3823, 'easter': 3824, 'creation': 3825, 'quinn': 3826, 'recognition': 3827, 'mahindra': 3828, 'pentagon': 3829, 'trainer': 3830, 'timberlake': 3831, 'ken': 3832, 'clinical': 3833, 'gomez': 3834, 'eighth': 3835, 'audit': 3836, 'initiate': 3837, 'particularly': 3838, 'maritime': 3839, 'bronco': 3840, 'buck': 3841, 'borrow': 3842, 'alberta': 3843, 'tribune': 3844, 'drilling': 3845, 'nature': 3846, 'athletics': 3847, 'suzuki': 3848, 'munich': 3849, 'poker': 3850, 'cigarette': 3851, 'hammer': 3852, 'cambridge': 3853, 'pill': 3854, 'americas': 3855, 'suburban': 3856, 'sonia': 3857, 'reinstate': 3858, 'freight': 3859, 'apology': 3860, 'restrict': 3861, '56': 3862, 'shield': 3863, 'postal': 3864, 'horror': 3865, 'layoff': 3866, 'hungary': 3867, 'rod': 3868, 'operational': 3869, 'absence': 3870, 'playstation': 3871, 'yemeni': 3872, 'offense': 3873, 'argue': 3874, 'packer': 3875, 'eva': 3876, 'xbox': 3877, 'mariner': 3878, 'castro': 3879, 'osbourne': 3880, 'harbor': 3881, 'honorary': 3882, 'seoul': 3883, 'molest': 3884, 'pipe': 3885, 'serbian': 3886, 'uttar': 3887, 'disability': 3888, '69': 3889, 'thank': 3890, 'arctic': 3891, 'brooklyn': 3892, 'multiyear': 3893, 'bench': 3894, 'batsman': 3895, 'certificate': 3896, 'suite': 3897, 'formal': 3898, '125': 3899, 'turbine': 3900, 'ceasefire': 3901, 'semiconductor': 3902, 'extreme': 3903, 'mentally': 3904, '20yearold': 3905, 'criticize': 3906, 'runner': 3907, 'administrative': 3908, 'specie': 3909, 'cooperate': 3910, 'sharif': 3911, 'hindu': 3912, 'pervez': 3913, 'stun': 3914, 'austerity': 3915, 'incentive': 3916, 'blake': 3917, 'aggressive': 3918, 'par': 3919, 'iconic': 3920, 'outdoor': 3921, 'negotiate': 3922, 'maximum': 3923, 'laptop': 3924, 'deport': 3925, 'chad': 3926, 'oak': 3927, 'whale': 3928, 'silence': 3929, 'hacker': 3930, 'atomic': 3931, 'baldwin': 3932, 'suv': 3933, 'kidnapping': 3934, 'underwent': 3935, '1st': 3936, 'equal': 3937, '21yearold': 3938, 'cofounder': 3939, 'newton': 3940, 'behaviour': 3941, '66': 3942, 'ethnic': 3943, 'nancy': 3944, 'compliance': 3945, 'consumption': 3946, 'evasion': 3947, 'juventus': 3948, 'murdoch': 3949, 'marion': 3950, 'cisco': 3951, 'root': 3952, 'desert': 3953, 'pensioner': 3954, 'ninth': 3955, 'consolidate': 3956, 'mt': 3957, 'oracle': 3958, 'mix': 3959, 'challenger': 3960, 'judiciary': 3961, 'paint': 3962, 'plate': 3963, '2005': 3964, 'rahul': 3965, 'johannesburg': 3966, 'surveillance': 3967, 'pas': 3968, 'permission': 3969, '83': 3970, 'soft': 3971, 'alarm': 3972, '77': 3973, 'blackburn': 3974, 'necessary': 3975, 'widespread': 3976, 'pranab': 3977, 'juvenile': 3978, 'pga': 3979, 'ubs': 3980, 'yes': 3981, 'jam': 3982, 'soul': 3983, '1500': 3984, 'todd': 3985, 'replacement': 3986, 'kitchen': 3987, 'seahawks': 3988, 'dmitry': 3989, 'lab': 3990, 'dragon': 3991, 'statewide': 3992, 'vacant': 3993, 'component': 3994, 'vital': 3995, '100th': 3996, 'cope': 3997, 'reactor': 3998, 'bowler': 3999, 'pride': 4000, '73': 4001, '74': 4002, 'lottery': 4003, 'scholarship': 4004, 'succeed': 4005, 'pneumonia': 4006, 'finland': 4007, 'luke': 4008, 'berry': 4009, 'nearby': 4010, 'sachin': 4011, 'tendulkar': 4012, 'buyout': 4013, 'nintendo': 4014, 'opt': 4015, 'unidentified': 4016, 'definitive': 4017, 'rebuild': 4018, 'nadu': 4019, 'robinson': 4020, 'denmark': 4021, 'uefa': 4022, 'crunch': 4023, 'ink': 4024, 'unless': 4025, 'trafficking': 4026, 'wicket': 4027, 'whitney': 4028, 'checkpoint': 4029, 'clothes': 4030, 'hasnt': 4031, 'grid': 4032, 'meat': 4033, 'ferrari': 4034, 'lynch': 4035, 'clothing': 4036, 'bolton': 4037, 'southeastern': 4038, 'float': 4039, 'anchor': 4040, 'moss': 4041, 'lifestyle': 4042, 'hiv': 4043, 'burglar': 4044, 'rupert': 4045, 'belong': 4046, 'assessment': 4047, 'prefer': 4048, 'aberdeen': 4049, 'norfolk': 4050, 'telephone': 4051, 'simple': 4052, 'monroe': 4053, 'ethic': 4054, 'unbeaten': 4055, 'builder': 4056, 'whom': 4057, 'entrepreneur': 4058, 'federer': 4059, 'deer': 4060, 'button': 4061, 'mosque': 4062, 'elton': 4063, '2004': 4064, '20000': 4065, 'electrical': 4066, 'hometown': 4067, 'selena': 4068, 'footballer': 4069, 'tattoo': 4070, 'argentine': 4071, 'boom': 4072, 'bath': 4073, 'xvi': 4074, 'magistrate': 4075, 'wasnt': 4076, 'barnes': 4077, 'hsbc': 4078, 'o': 4079, 'grammy': 4080, 'robbie': 4081, 'youngster': 4082, 'coming': 4083, 'merkel': 4084, 'beyonce': 4085, 'furniture': 4086, 'hu': 4087, 'container': 4088, 'golfer': 4089, 'righthander': 4090, 'governance': 4091, 'jake': 4092, 'romanian': 4093, 'completion': 4094, 'referendum': 4095, 'northeastern': 4096, 'relay': 4097, 'twoday': 4098, 'rent': 4099, 'therapy': 4100, 'municipality': 4101, 'rajasthan': 4102, '4000': 4103, 'duck': 4104, 'fracture': 4105, 'secondary': 4106, 'inquest': 4107, 'frontman': 4108, 'belt': 4109, 'parole': 4110, 'invitation': 4111, 'ann': 4112, 'belgium': 4113, 'toss': 4114, 'mega': 4115, 'childhood': 4116, 'instrument': 4117, 'cyber': 4118, 'jesus': 4119, 'opec': 4120, '84': 4121, 'jonas': 4122, 'hull': 4123, 'ericsson': 4124, 'wenger': 4125, 'hijack': 4126, 'burst': 4127, 'unrest': 4128, 'consultation': 4129, 'ronaldo': 4130, 'nonprofit': 4131, 'desperate': 4132, 'spin': 4133, 'calm': 4134, 'amitabh': 4135, 'publication': 4136, 'pact': 4137, 'butler': 4138, 'eur': 4139, 'lt': 4140, '49': 4141, 'substance': 4142, 'dj': 4143, 'prosecution': 4144, 'educational': 4145, 'tumor': 4146, 'easily': 4147, 'personality': 4148, 'relocate': 4149, 'egg': 4150, 'blair': 4151, 'ebay': 4152, 'bang': 4153, 'tribunal': 4154, 'importance': 4155, 'circle': 4156, 'tragedy': 4157, 'grave': 4158, 'punishment': 4159, 'directly': 4160, 'cry': 4161, 'consultant': 4162, 'survival': 4163, 'lunch': 4164, 'entitle': 4165, 'glasgow': 4166, 'hyderabad': 4167, 'netanyahu': 4168, 'cement': 4169, 'wichita': 4170, 'examine': 4171, 'spray': 4172, 'shower': 4173, 'vacation': 4174, 'mad': 4175, 'empire': 4176, 'hamid': 4177, 'underground': 4178, 'react': 4179, 'belgian': 4180, 'midland': 4181, 'fruit': 4182, 'ownership': 4183, 'mohammed': 4184, 'occasion': 4185, 'heath': 4186, 'largely': 4187, 'indefinite': 4188, 'certification': 4189, 'princess': 4190, 'sandra': 4191, 'odds': 4192, 'h1n1': 4193, 'bernanke': 4194, 'norwegian': 4195, 'severely': 4196, 'twilight': 4197, 'leon': 4198, 'intention': 4199, 'clarke': 4200, 'liver': 4201, 'apart': 4202, 'rig': 4203, '91': 4204, 'weakness': 4205, 'slap': 4206, 'handset': 4207, 'amnesty': 4208, 'guru': 4209, 'albert': 4210, 'freddie': 4211, 'convenience': 4212, 'optimism': 4213, 'htc': 4214, 'meal': 4215, 'sailor': 4216, 'remind': 4217, 'fundraiser': 4218, 'na': 4219, 'marcus': 4220, 'dive': 4221, 'beautiful': 4222, 'profile': 4223, 'stoke': 4224, 'christopher': 4225, 'swan': 4226, 'racist': 4227, 'sand': 4228, 'implementation': 4229, 'stamp': 4230, 'recommendation': 4231, 'damascus': 4232, 'deepen': 4233, 'penguin': 4234, 'conrad': 4235, 'oneday': 4236, 'spectrum': 4237, 'adjust': 4238, 'correspondent': 4239, 'tobacco': 4240, 'prestigious': 4241, 'manhattan': 4242, 'raj': 4243, 'intervention': 4244, 'kenyan': 4245, 'outsource': 4246, 'turmoil': 4247, 'dental': 4248, '20th': 4249, 'thomson': 4250, '47': 4251, 'restart': 4252, 'lexington': 4253, 'nude': 4254, 'mayer': 4255, 'planet': 4256, 'tractor': 4257, 'sail': 4258, 'venue': 4259, 'drowns': 4260, 'unanimously': 4261, 'amber': 4262, 'speedway': 4263, 'islam': 4264, 'bashar': 4265, 'joel': 4266, 'helen': 4267, 'disappointing': 4268, 'possess': 4269, 'mineral': 4270, 'creator': 4271, 'norwich': 4272, 'k': 4273, '81': 4274, 'definitely': 4275, 'surpass': 4276, 'emotional': 4277, 'sebastian': 4278, 'sc': 4279, 'coastal': 4280, 'bee': 4281, 'francis': 4282, 'serena': 4283, 'newborn': 4284, '130': 4285, 'icc': 4286, 'baku': 4287, 'siemens': 4288, 'g': 4289, 'gasoline': 4290, '200000': 4291, 'aboard': 4292, 'repeal': 4293, 'surcharge': 4294, 'herald': 4295, 'cruz': 4296, 'nrl': 4297, 'dennis': 4298, 'tmz': 4299, 'capable': 4300, 'trim': 4301, 'ridge': 4302, '78': 4303, 'id': 4304, 'valuable': 4305, 'sierra': 4306, 'lobby': 4307, 'concept': 4308, 'osama': 4309, 'floyd': 4310, 'mild': 4311, 'apa': 4312, 'abbott': 4313, 'rat': 4314, 'found': 4315, 'itunes': 4316, 'indefinitely': 4317, 'fred': 4318, 'devil': 4319, 'beating': 4320, 'gallagher': 4321, 'numerous': 4322, 'hawk': 4323, 'treaty': 4324, 'colin': 4325, 'glee': 4326, 'peninsula': 4327, 'bout': 4328, 'falcon': 4329, 'da': 4330, 'sioux': 4331, 'roadside': 4332, 'supervisor': 4333, 'hugh': 4334, 'buzz': 4335, 'preserve': 4336, 'closely': 4337, 'jewellery': 4338, 'plain': 4339, 'continued': 4340, 'cardiff': 4341, 'declaration': 4342, 'briefly': 4343, 'carpet': 4344, 'stall': 4345, '360': 4346, 'charleston': 4347, 'lp': 4348, 'pretty': 4349, 'segment': 4350, 'extremely': 4351, 'threeyear': 4352, 'gallery': 4353, 'startup': 4354, 'reaction': 4355, 'oath': 4356, 'increased': 4357, '101': 4358, 'quiet': 4359, 'boys': 4360, 'merchant': 4361, 'legislator': 4362, 'citizenship': 4363, 'innocent': 4364, 'guideline': 4365, 'silvio': 4366, 'harrison': 4367, 'expire': 4368, 'lesbian': 4369, 'element': 4370, '79': 4371, 'breakfast': 4372, 'lend': 4373, 'baker': 4374, 'disappear': 4375, 'neglect': 4376, 'oman': 4377, 'minneapolis': 4378, 'brady': 4379, 'audio': 4380, 'composer': 4381, 'sanchez': 4382, 'vegetable': 4383, 'overdose': 4384, 'housewife': 4385, 'cox': 4386, 'pricing': 4387, 'mum': 4388, 'enemy': 4389, 'commence': 4390, 'unpaid': 4391, 'purpose': 4392, 'quebec': 4393, 'manny': 4394, 'ist': 4395, 'grace': 4396, 'tentative': 4397, 'bradford': 4398, 'integrated': 4399, 'santorum': 4400, 'fed': 4401, '25000': 4402, 'bayern': 4403, 'swat': 4404, 'billboard': 4405, 'uks': 4406, 'midwest': 4407, 'oriole': 4408, 'physician': 4409, 'install': 4410, 'mo': 4411, 'barrier': 4412, 'ashton': 4413, 'intensify': 4414, 'sharma': 4415, 'remake': 4416, '87': 4417, 'datuk': 4418, 'ignore': 4419, 'newman': 4420, 'pond': 4421, 'triplea': 4422, 'magnitude': 4423, 'commuter': 4424, 'patch': 4425, 'uniform': 4426, 'arbitration': 4427, '88': 4428, 'yuan': 4429, 'ancient': 4430, 'nathan': 4431, 'southwestern': 4432, 'runway': 4433, 'ultimate': 4434, 'aussie': 4435, 'ahmed': 4436, 'essential': 4437, 'thunder': 4438, 'maruti': 4439, 'mandate': 4440, 'suu': 4441, 'aside': 4442, 'performs': 4443, 'approves': 4444, 'suspends': 4445, 'married': 4446, 'rough': 4447, 'framework': 4448, 'simply': 4449, 'subsidy': 4450, 'worsen': 4451, 'sexy': 4452, 'rocky': 4453, 'bros': 4454, 'routine': 4455, 'pa': 4456, 'michele': 4457, 'endorsement': 4458, 'controller': 4459, 'proceeding': 4460, '25th': 4461, 'shootout': 4462, 'principle': 4463, 'sorry': 4464, 'harassment': 4465, 'lineman': 4466, '110': 4467, 'ditch': 4468, 'sight': 4469, 'dirty': 4470, 'coleman': 4471, 'listen': 4472, 'turner': 4473, 'autopsy': 4474, 'cemetery': 4475, 'assam': 4476, 'volatile': 4477, 'presidentelect': 4478, 'recognise': 4479, 'outline': 4480, 'referee': 4481, 'passport': 4482, 'blockbuster': 4483, 'renovation': 4484, 'alqaeda': 4485, 'modest': 4486, 'boxing': 4487, 'valentine': 4488, 'glen': 4489, 'austria': 4490, 'boyle': 4491, 'supermodel': 4492, 'jean': 4493, 'unprecedented': 4494, 'ecuador': 4495, 'pacquiao': 4496, 'intersection': 4497, 'depot': 4498, 'originally': 4499, 'penny': 4500, 'foreigner': 4501, 'reed': 4502, 'kabul': 4503, 'wyoming': 4504, '86': 4505, 'sensation': 4506, 'monitoring': 4507, 'giffords': 4508, 'pollution': 4509, 'bullock': 4510, 'depp': 4511, 'carmaker': 4512, 'domain': 4513, 'expensive': 4514, 'rudd': 4515, '22yearold': 4516, '58': 4517, 'cardiac': 4518, 'dvd': 4519, 'lahore': 4520, 'reliever': 4521, 'hook': 4522, 'las': 4523, 'faster': 4524, '92': 4525, 'chinas': 4526, 'charger': 4527, 'cage': 4528, 'benjamin': 4529, 'religion': 4530, 'subway': 4531, 'widely': 4532, 'muscle': 4533, 'concede': 4534, '350': 4535, 'dock': 4536, 'excessive': 4537, 'cedar': 4538, 'dynamic': 4539, 'thackeray': 4540, 'excite': 4541, 'archbishop': 4542, 'angela': 4543, 'canal': 4544, 'gen': 4545, 'intent': 4546, 'kyi': 4547, 'drain': 4548, 'knot': 4549, 'tibet': 4550, 'attractive': 4551, 'caught': 4552, 'sting': 4553, 'laura': 4554, 'indictment': 4555, 'airways': 4556, 'contender': 4557, 'clooney': 4558, 'andhra': 4559, 'govern': 4560, 'nursing': 4561, 'th': 4562, 'tariff': 4563, 'frontier': 4564, 'warming': 4565, 'behalf': 4566, 'donor': 4567, 'surgeon': 4568, 'oprah': 4569, 'participation': 4570, 'logistics': 4571, 'crossing': 4572, 'arrives': 4573, 'naomi': 4574, '2nd': 4575, 'omaha': 4576, 'newark': 4577, 'chronic': 4578, 'trump': 4579, 'dna': 4580, 'colt': 4581, 'paisa': 4582, 'pray': 4583, 'celebrates': 4584, 'barn': 4585, 'convince': 4586, '05': 4587, 'compound': 4588, 'portion': 4589, 'organiser': 4590, 'qb': 4591, 'expo': 4592, 'recruitment': 4593, 'ramp': 4594, 'rifle': 4595, 'gillard': 4596, 'omar': 4597, 'origin': 4598, 'xi': 4599, 'closed': 4600, 'turkmenistan': 4601, 'austrian': 4602, 'skate': 4603, 'bronze': 4604, 'frame': 4605, 'trustee': 4606, 'compute': 4607, 'anger': 4608, '24yearold': 4609, 'provision': 4610, 'lambert': 4611, 'sensitive': 4612, 'retires': 4613, 'genetic': 4614, 'taipei': 4615, 'hathaway': 4616, 'mclaren': 4617, 'mogul': 4618, 'misconduct': 4619, 'extraordinary': 4620, 'signature': 4621, 'molestation': 4622, 'amend': 4623, 'salem': 4624, 'apps': 4625, 'longoria': 4626, 'mate': 4627, 'criticise': 4628, 'darren': 4629, 'mini': 4630, 'morris': 4631, 'vermont': 4632, 'calgary': 4633, 'geneva': 4634, 'warship': 4635, 'copy': 4636, 'disciplinary': 4637, 'counsel': 4638, 'concession': 4639, 'bryan': 4640, 'manuel': 4641, 'reconciliation': 4642, 'sheet': 4643, 'observer': 4644, 'glenn': 4645, 'brokerage': 4646, 'badly': 4647, 'complication': 4648, 'finnish': 4649, 'vulnerable': 4650, 'remand': 4651, 'listing': 4652, 'brent': 4653, 'couldnt': 4654, 'reservation': 4655, 'chopra': 4656, 'sustainability': 4657, 'throat': 4658, 'colombo': 4659, 'withdrawal': 4660, 'indecent': 4661, 'finding': 4662, 'aguilera': 4663, 'filipino': 4664, 'sheffield': 4665, 'liability': 4666, 'racial': 4667, 'arrangement': 4668, 'richardson': 4669, 'cautious': 4670, 'delivers': 4671, 'ucla': 4672, 'maverick': 4673, 'edinburgh': 4674, 'borrowing': 4675, 'airlift': 4676, 'cornerback': 4677, 'sap': 4678, 'sweet': 4679, 'elite': 4680, 'transmission': 4681, 'cuomo': 4682, 'rbi': 4683, 'toilet': 4684, 'wigan': 4685, 'exwife': 4686, 'pine': 4687, 'l': 4688, 'dawn': 4689, 'zsa': 4690, 'zambia': 4691, '3g': 4692, 'satyam': 4693, 'workout': 4694, 'bolt': 4695, 'tesco': 4696, 'paso': 4697, 'difficulty': 4698, 'electoral': 4699, 'cheney': 4700, 'norman': 4701, 'lover': 4702, 'muammar': 4703, 'continental': 4704, 'assess': 4705, 'midday': 4706, 'romance': 4707, 'swansea': 4708, 'doubleheader': 4709, 'kit': 4710, 'boris': 4711, 'restrain': 4712, 'malta': 4713, 'format': 4714, 'luis': 4715, 'mariah': 4716, 'anticipate': 4717, 'richie': 4718, 'steep': 4719, 'et': 4720, 'railroad': 4721, 'cream': 4722, 'wizard': 4723, 'pour': 4724, 'silicon': 4725, 'thin': 4726, '23yearold': 4727, 'logo': 4728, 'socalled': 4729, 'planned': 4730, 'setback': 4731, 'impressive': 4732, 'improved': 4733, 'betty': 4734, '18yearold': 4735, 'availability': 4736, 'mainly': 4737, 'bow': 4738, 'arraign': 4739, 'adoption': 4740, 'acknowledge': 4741, 'superintendent': 4742, 'sudanese': 4743, 'cooperative': 4744, 'bright': 4745, 'spiritual': 4746, 'rockies': 4747, 'imran': 4748, 'yorkshire': 4749, 'narrowly': 4750, 'ca': 4751, 'autumn': 4752, 'related': 4753, 'ivory': 4754, 'bennett': 4755, 'catherine': 4756, 'scratch': 4757, 'smoking': 4758, 'civic': 4759, 'natalie': 4760, 'fulham': 4761, 'heel': 4762, 'hd': 4763, 'jane': 4764, 'apr': 4765, '19yearold': 4766, 'distance': 4767, '13th': 4768, 'substantial': 4769, 'outperform': 4770, 'ranch': 4771, 'lg': 4772, 'nile': 4773, 'paterson': 4774, 'wouldnt': 4775, 'caucus': 4776, 'vicepresident': 4777, 'blagojevich': 4778, 'ppp': 4779, 'lyon': 4780, 'optimistic': 4781, 'islamist': 4782, '1200': 4783, '25yearold': 4784, 'spike': 4785, '2020': 4786, 'doherty': 4787, 'nz': 4788, 'newport': 4789, 'tucson': 4790, 'flower': 4791, 'grenade': 4792, 'exactly': 4793, 'danish': 4794, 'monkey': 4795, 'metre': 4796, 'correction': 4797, 'adjourn': 4798, 'bachmann': 4799, '30000': 4800, 'mohamed': 4801, 'chat': 4802, 'rehabilitation': 4803, 'pepper': 4804, 'morrison': 4805, 'extensive': 4806, 'nice': 4807, 'statue': 4808, 'travis': 4809, 'arent': 4810, 'seeker': 4811, 'gdp': 4812, 'navigation': 4813, 'catcher': 4814, 'disappoint': 4815, 'yellow': 4816, 'vehicular': 4817, 'vegas': 4818, 'sena': 4819, 'romantic': 4820, 'sponsorship': 4821, 'graphic': 4822, 'thriller': 4823, 'soil': 4824, 'vanessa': 4825, 'impress': 4826, 'shortfall': 4827, 'safely': 4828, 'orchestra': 4829, 'exam': 4830, 'repay': 4831, 'lisa': 4832, 'hartford': 4833, 'stuart': 4834, 'aggravated': 4835, 'gunshot': 4836, 'screening': 4837, 'packaging': 4838, 'sec': 4839, '17th': 4840, 'hazare': 4841, 'journey': 4842, 'ipo': 4843, 'ipod': 4844, 'riverside': 4845, 'highland': 4846, 'winnipeg': 4847, 'kingston': 4848, 'windsor': 4849, 'hardware': 4850, 'boulevard': 4851, 'erupt': 4852, 'refer': 4853, 'nicki': 4854, 'seller': 4855, 'unconscious': 4856, 'autism': 4857, 'estranged': 4858, 'obrien': 4859, 'medicare': 4860, 'pursuit': 4861, 'du': 4862, 'vincent': 4863, '89': 4864, 'f': 4865, 'woe': 4866, 'panther': 4867, 'bribe': 4868, 'kirk': 4869, 'syracuse': 4870, 'attendant': 4871, 'km': 4872, 'orissa': 4873, 'witherspoon': 4874, 'renowned': 4875, 'derail': 4876, 'casualty': 4877, 'organizer': 4878, 'feeling': 4879, 'mansion': 4880, 'rajya': 4881, 'patil': 4882, 'willing': 4883, 'leicester': 4884, 'christchurch': 4885, 'derek': 4886, 'carson': 4887, 'privately': 4888, 'monsoon': 4889, 'miranda': 4890, 'guitar': 4891, 'bhp': 4892, 'puppy': 4893, 'mercury': 4894, 'platinum': 4895, 'noble': 4896, 'backup': 4897, 'metropolitan': 4898, 'rom': 4899, 'gallon': 4900, 'transform': 4901, 'portal': 4902, 'taste': 4903, 'minaj': 4904, 'somerset': 4905, 'sindh': 4906, 'grass': 4907, 'landslide': 4908, 'scanner': 4909, 'nhs': 4910, 'extradition': 4911, 'peer': 4912, 'walsh': 4913, 'notre': 4914, 'tulsa': 4915, 'solidarity': 4916, 'flyer': 4917, 'plaza': 4918, 'usbased': 4919, 'frozen': 4920, 'workplace': 4921, 'millionaire': 4922, 'disruption': 4923, 'theres': 4924, 'facilitate': 4925, 'hornet': 4926, 'istanbul': 4927, 'jamaica': 4928, 'thought': 4929, 'rd': 4930, 'vince': 4931, 'cue': 4932, 'redskin': 4933, 'fabio': 4934, 'overweight': 4935, 'wifi': 4936, 'deployment': 4937, 'sum': 4938, 'nasdaq': 4939, 'cease': 4940, 'tyson': 4941, 'dope': 4942, 'historical': 4943, 'goa': 4944, 'lieutenant': 4945, 'heavily': 4946, 'sofia': 4947, 'discipline': 4948, 'bump': 4949, 'welsh': 4950, 'liquidity': 4951, 'harvard': 4952, 'bitter': 4953, 'nh': 4954, 'escalate': 4955, 'analytics': 4956, 'shelf': 4957, 'manila': 4958, '15yearold': 4959, 'presentation': 4960, 'universe': 4961, 'mae': 4962, 'payroll': 4963, 'massacre': 4964, 'richards': 4965, 'mccarthy': 4966, 'radical': 4967, 'percentage': 4968, 'punish': 4969, 'influential': 4970, 'albany': 4971, 'knicks': 4972, 'strict': 4973, 'minn': 4974, 'rainfall': 4975, 'ecommerce': 4976, 'multimillion': 4977, 'brawl': 4978, 'timothy': 4979, 'exhibit': 4980, 'bruno': 4981, 'extremist': 4982, 'jintao': 4983, 'duncan': 4984, 'yacht': 4985, 'borough': 4986, 'desire': 4987, 'pig': 4988, 'freshman': 4989, 'reese': 4990, 'partial': 4991, 'flooding': 4992, 'miliband': 4993, 'addict': 4994, 'incorporate': 4995, 'prostitute': 4996, 'minogue': 4997, 'courthouse': 4998, 'beatles': 4999, 'hosni': 5000, 'gilbert': 5001, 'demonstrator': 5002, 'seconddegree': 5003, 'spice': 5004, 'stabbing': 5005, 'foul': 5006, 'fresno': 5007, 'crane': 5008, 'effectively': 5009, 'gray': 5010, 'isle': 5011, 'landlord': 5012, 'forge': 5013, 'ipl': 5014, 'horizon': 5015, 'outcome': 5016, 'beta': 5017, 'installation': 5018, 'consult': 5019, 'fantasy': 5020, 'buffett': 5021, 'proper': 5022, 'bargain': 5023, 'hopkins': 5024, 'moody': 5025, 'ellen': 5026, 'economics': 5027, 'citys': 5028, 'intensive': 5029, 'productivity': 5030, 'slat': 5031, 'ail': 5032, '2016': 5033, 'folk': 5034, 'hamstring': 5035, '15th': 5036, 'finale': 5037, 'embrace': 5038, 'rapidly': 5039, 'scarlett': 5040, 'johansson': 5041, 'vietnamese': 5042, 'genocide': 5043, 'delight': 5044, 'revamp': 5045, 'arsene': 5046, 'carroll': 5047, 'pardon': 5048, 'ge': 5049, 'grandmother': 5050, 'amtrak': 5051, 'greenhouse': 5052, 'oscarwinning': 5053, 'ethiopia': 5054, 'canyon': 5055, 'mamata': 5056, 'tradition': 5057, 'tsvangirai': 5058, 'portuguese': 5059, 'skype': 5060, 'bound': 5061, '14th': 5062, 'infringement': 5063, 'intellectual': 5064, 'cannabis': 5065, 'castle': 5066, 'theyve': 5067, 'alberto': 5068, 'console': 5069, 'jakarta': 5070, 'davy': 5071, 'treasurer': 5072, 'reynolds': 5073, 'premiership': 5074, '28yearold': 5075, 'lure': 5076, 'bancorp': 5077, 'commemorate': 5078, 'reunion': 5079, 'volcano': 5080, 'else': 5081, 'showcase': 5082, 'hospitalise': 5083, 'favre': 5084, 'arthur': 5085, 'cannon': 5086, 'attacker': 5087, 'speaks': 5088, 'providence': 5089, 'mohammad': 5090, 'presenter': 5091, 'pune': 5092, 'poison': 5093, 'shutdown': 5094, 'suisse': 5095, 'margaret': 5096, '300000': 5097, 'wrist': 5098, 'creditor': 5099, 'fouryear': 5100, 'reporting': 5101, 'blogger': 5102, 'hazard': 5103, 'truth': 5104, 'africas': 5105, 'adrian': 5106, 'cycling': 5107, 'adventure': 5108, 'leonardo': 5109, 'homer': 5110, 'reception': 5111, 'noel': 5112, 'accusation': 5113, 'reaffirm': 5114, 'nyc': 5115, 'jpmorgan': 5116, '15000': 5117, 'bold': 5118, 'petersburg': 5119, 'interbank': 5120, 'stateowned': 5121, 'nd': 5122, 'circumstance': 5123, 'apparel': 5124, 'quest': 5125, 'aaa': 5126, 'capello': 5127, 'inappropriate': 5128, 'forget': 5129, 'crazy': 5130, 'starbucks': 5131, 'farewell': 5132, 'rubber': 5133, 'steam': 5134, 'webber': 5135, 'palmer': 5136, 'betting': 5137, 'antigovernment': 5138, 'scar': 5139, 'wilmington': 5140, 'narendra': 5141, 'finalize': 5142, 'counterfeit': 5143, 'geithner': 5144, 'pratt': 5145, 'raja': 5146, '18th': 5147, 'nose': 5148, 'reference': 5149, 'troy': 5150, 'europa': 5151, 'wrestler': 5152, 'baptist': 5153, 'panasonic': 5154, 'huntington': 5155, 'ip': 5156, 'jayz': 5157, 'suddenly': 5158, 'exgirlfriend': 5159, 'pierce': 5160, 'underage': 5161, 'henderson': 5162, 'helm': 5163, 'sanjay': 5164, 'burma': 5165, 'demolition': 5166, 'prop': 5167, 'dodge': 5168, 'durham': 5169, 'stolen': 5170, 'swimmer': 5171, 'concrete': 5172, 'companys': 5173, 'coventry': 5174, 'symbol': 5175, 'cheer': 5176, 'rejoin': 5177, 'barton': 5178, 'specific': 5179, 'bharti': 5180, 'diaz': 5181, 'carnival': 5182, 'mainland': 5183, 'weve': 5184, 'clemens': 5185, 'detainee': 5186, 'slovenia': 5187, '93': 5188, 'wade': 5189, 'aol': 5190, 'essex': 5191, 'valuation': 5192, 'allocation': 5193, 'hungarian': 5194, '000': 5195, 'tripoli': 5196, 'russias': 5197, 'billing': 5198, 'pretax': 5199, 'forecaster': 5200, 'voluntarily': 5201, 'escort': 5202, 'tunisia': 5203, 'poet': 5204, 'particular': 5205, 'finalist': 5206, 'contestant': 5207, 'wii': 5208, '400000': 5209, 'equality': 5210, 'myspace': 5211, '6000': 5212, 'sudden': 5213, 'plymouth': 5214, 'janata': 5215, 'proceeds': 5216, 'consulate': 5217, 'absolutely': 5218, 'cow': 5219, 'seizure': 5220, 'powell': 5221, 'bribery': 5222, 'tragic': 5223, 'excellent': 5224, 'asthma': 5225, 'oxford': 5226, 'employ': 5227, 'volkswagen': 5228, 'cyclone': 5229, 'classroom': 5230, 'sort': 5231, 'laser': 5232, 'conn': 5233, 'hamburg': 5234, 'transparency': 5235, 'capsize': 5236, 'strausskahn': 5237, 'rim': 5238, 'garbage': 5239, 'broadcasting': 5240, 'winfrey': 5241, 'di': 5242, 'condemns': 5243, 'hed': 5244, 'victor': 5245, 'derivative': 5246, 'rehman': 5247, 'crawford': 5248, 'hart': 5249, 'rukh': 5250, 'sundays': 5251, 'wet': 5252, 'grey': 5253, 'stomach': 5254, 'suffolk': 5255, 'pier': 5256, 'ave': 5257, 'reckless': 5258, 'quake': 5259, 'dpa': 5260, 'peterson': 5261, 'cure': 5262, '2002': 5263, 'mention': 5264, 'collective': 5265, 'indicator': 5266, 'cosmetic': 5267, 'ronnie': 5268, 'strangle': 5269, 'medication': 5270, 'ryanair': 5271, 'zimbabwean': 5272, 'saskatchewan': 5273, 'wallace': 5274, '4g': 5275, 'bloody': 5276, 'maple': 5277, 'jockey': 5278, 'defamation': 5279, 'padre': 5280, 'carrie': 5281, 'io': 5282, 'dub': 5283, 'surf': 5284, 'lebron': 5285, '7th': 5286, 'tow': 5287, 'alqaida': 5288, 'aerospace': 5289, 'servant': 5290, 'marries': 5291, 'guardian': 5292, 'canuck': 5293, 'defraud': 5294, 'consensus': 5295, 'pave': 5296, 'collaborate': 5297, 'yousuf': 5298, '4th': 5299, 'flip': 5300, 'walt': 5301, 'ambush': 5302, 'marco': 5303, 'maiden': 5304, 'consideration': 5305, 'lucas': 5306, 'consequence': 5307, 'pacer': 5308, 'daytona': 5309, 'europes': 5310, 'sample': 5311, 'accessory': 5312, 'campaigner': 5313, 'institutional': 5314, '225': 5315, 'organic': 5316, 'bangkok': 5317, 'competitor': 5318, 'bailey': 5319, 'desktop': 5320, 'harm': 5321, 'avalanche': 5322, 'champ': 5323, 'bend': 5324, 'shipping': 5325, 'pile': 5326, 'defy': 5327, 'rev': 5328, 'cain': 5329, 'homeland': 5330, 'erase': 5331, 'airtel': 5332, 'preview': 5333, 'gender': 5334, 'bingo': 5335, 'mourinho': 5336, 'dig': 5337, 'brutal': 5338, 'mob': 5339, 'legacy': 5340, 'jharkhand': 5341, 'halle': 5342, 'chocolate': 5343, 'browser': 5344, 'drew': 5345, 'choke': 5346, 'loom': 5347, 'boil': 5348, 'mouse': 5349, 'ounce': 5350, 'disputed': 5351, 'serie': 5352, 'terminate': 5353, 'burlington': 5354, 'log': 5355, 'length': 5356, 'humanity': 5357, 'pocket': 5358, 'spotlight': 5359, 'secondlargest': 5360, 'headon': 5361, 'efficient': 5362, 'addiction': 5363, 'karl': 5364, 'griffin': 5365, 'color': 5366, 'gala': 5367, '04': 5368, 'fate': 5369, 'fever': 5370, 'span': 5371, 'adele': 5372, 'gaming': 5373, 'harvey': 5374, 'recovers': 5375, 'batter': 5376, 'tel': 5377, 'sharapova': 5378, 'lauren': 5379, 'breakthrough': 5380, 'humphries': 5381, 'confrontation': 5382, 'benitez': 5383, 'publicist': 5384, 'niagara': 5385, 'wallaby': 5386, 'dominique': 5387, 'greet': 5388, 'reorganization': 5389, 'schumacher': 5390, 'divide': 5391, 'cavalier': 5392, 'globally': 5393, 'nickel': 5394, 'rogue': 5395, 'concentrate': 5396, 'victorian': 5397, 'mull': 5398, 'fierce': 5399, 'lawn': 5400, 'incumbent': 5401, 'spree': 5402, 'scramble': 5403, 'repeatedly': 5404, 'astros': 5405, 'vick': 5406, 'monster': 5407, 'establishment': 5408, 'tmobile': 5409, 'heather': 5410, 'bankrupt': 5411, 'intense': 5412, 'dhoni': 5413, 'dominican': 5414, 'va': 5415, '94': 5416, 'admission': 5417, 'monument': 5418, 'belfast': 5419, 'parkway': 5420, '2500': 5421, 'govt': 5422, 'consultancy': 5423, 'gig': 5424, 'mourn': 5425, 'nikkei': 5426, 'gym': 5427, 'joey': 5428, 'der': 5429, 'ryder': 5430, 'territorial': 5431, 'reelect': 5432, 'asean': 5433, 'upa': 5434, 'panic': 5435, 'sacrifice': 5436, 'paulo': 5437, 'batch': 5438, '26yearold': 5439, 'macedonia': 5440, 'assume': 5441, 'faculty': 5442, 'perhaps': 5443, 'photograph': 5444, 'jp': 5445, 'kobe': 5446, 'symptom': 5447, 'diana': 5448, 'tevez': 5449, 'dylan': 5450, 'mentor': 5451, '59': 5452, 'exclusively': 5453, 'shadow': 5454, 'excellence': 5455, 'comply': 5456, 'shiv': 5457, 'iceland': 5458, '14yearold': 5459, 'broking': 5460, 'marketplace': 5461, 'mouth': 5462, 'sharon': 5463, 'eject': 5464, 'vijay': 5465, 'prairie': 5466, 'cellphone': 5467, 'fork': 5468, 'facial': 5469, 'oliver': 5470, 'mandatory': 5471, 'usc': 5472, 'harbour': 5473, 'underwood': 5474, 'plenty': 5475, 'claire': 5476, 'regulate': 5477, 'twotime': 5478, 'cia': 5479, 'trash': 5480, 'renewal': 5481, 'preferred': 5482, 'ledger': 5483, 'etihad': 5484, 'kutcher': 5485, 'chaos': 5486, 'oneal': 5487, 'textile': 5488, 'amazoncom': 5489, 'bundesliga': 5490, 'guinea': 5491, 'unusual': 5492, 'tracy': 5493, 'chilean': 5494, 'audition': 5495, 'habit': 5496, 'sometimes': 5497, '3rd': 5498, 'jun': 5499, 'formation': 5500, 'kyrgyz': 5501, 'croatia': 5502, 'td': 5503, 'fortune': 5504, 'micro': 5505, 'medicaid': 5506, 'relegation': 5507, 'myers': 5508, 'delegate': 5509, 'subscription': 5510, 'drummer': 5511, '250000': 5512, 'treasure': 5513, 'columnist': 5514, 'volatility': 5515, 'supplement': 5516, 'fishery': 5517, 'stamford': 5518, 'arlington': 5519, 'banner': 5520, 'quits': 5521, 'completes': 5522, 'assad': 5523, 'anthem': 5524, 'legalize': 5525, 'running': 5526, 'mechanism': 5527, 'seasonal': 5528, 'patel': 5529, 'aamir': 5530, 'li': 5531, 'sander': 5532, 'empty': 5533, 'firstdegree': 5534, 'oust': 5535, 'royalty': 5536, 'dengue': 5537, 'assassination': 5538, 'samuel': 5539, 'raleigh': 5540, 'scheduled': 5541, 'itv': 5542, 'alicia': 5543, 'popularity': 5544, 'marlin': 5545, 't': 5546, 'tinto': 5547, 'mph': 5548, 'tanzania': 5549, 'participant': 5550, 'module': 5551, 'vampire': 5552, 'acid': 5553, 'orbit': 5554, 'prevail': 5555, 'ex': 5556, 'priyanka': 5557, 'generic': 5558, 'jackie': 5559, 'bash': 5560, 'councilman': 5561, 'object': 5562, 'nova': 5563, 'reshuffle': 5564, 'processor': 5565, 'pfizer': 5566, 'clock': 5567, 'dayton': 5568, 'compact': 5569, 'boundary': 5570, 'failed': 5571, 'affirm': 5572, 'firstquarter': 5573, 'moral': 5574, 'torn': 5575, 'offseason': 5576, '19th': 5577, 'revolutionary': 5578, 'coup': 5579, 'katrina': 5580, 'cousin': 5581, '30yearold': 5582, 'marshal': 5583, 'halifax': 5584, 'lancaster': 5585, 'mobility': 5586, 'rage': 5587, 'endanger': 5588, 'anil': 5589, 'faulty': 5590, 'bully': 5591, 'fertilizer': 5592, 'diamondback': 5593, 'shortstop': 5594, 'hurdle': 5595, 'reputation': 5596, 'nugget': 5597, 'reservoir': 5598, 'uphold': 5599, 'lockout': 5600, 'disorderly': 5601, 'coin': 5602, 'grip': 5603, 'stalk': 5604, 'attitude': 5605, 'texan': 5606, 'hayden': 5607, 'renault': 5608, 'megan': 5609, 'cleric': 5610, 'revenge': 5611, 'graduation': 5612, 'lionel': 5613, 'shale': 5614, 'kingfisher': 5615, 'greene': 5616, 'syndicate': 5617, 'djokovic': 5618, '201112': 5619, 'paula': 5620, 'tenn': 5621, 'angola': 5622, 'convertible': 5623, 'snack': 5624, 'lap': 5625, 'ana': 5626, 'tuition': 5627, 'symphony': 5628, 'hezbollah': 5629, 'highprofile': 5630, 'banerjee': 5631, 'carlo': 5632, 'laundering': 5633, 'disturbance': 5634, 'nobody': 5635, 'acute': 5636, 'burden': 5637, 'stern': 5638, 'precious': 5639, 'hussain': 5640, 'bhd': 5641, 'singersongwriter': 5642, 'tone': 5643, 'marginally': 5644, 'opposite': 5645, 'stanford': 5646, 'infielder': 5647, 'vista': 5648, 'sullivan': 5649, 'cathedral': 5650, 'dish': 5651, 'crow': 5652, 'behavior': 5653, 'surrey': 5654, 'aviv': 5655, 'dogg': 5656, 'ferdinand': 5657, '140': 5658, 'rhode': 5659, 'unexpected': 5660, 'traveler': 5661, 'erie': 5662, 'fundraising': 5663, 'thrash': 5664, 'reef': 5665, 'anonymous': 5666, 'novak': 5667, 'sanford': 5668, 'wellknown': 5669, 'tebow': 5670, 'hostile': 5671, 'kuwaiti': 5672, 'wilkinson': 5673, 'lansing': 5674, 'sanaa': 5675, 'tiny': 5676, 'postpones': 5677, 'occupied': 5678, 'appliance': 5679, 'overtime': 5680, 'constable': 5681, 'motel': 5682, 'revoke': 5683, 'bullish': 5684, '40th': 5685, 'pelosi': 5686, 'sluggish': 5687, 'sore': 5688, 'trevor': 5689, 'dhaka': 5690, 'consent': 5691, 'editorial': 5692, 'spa': 5693, 'diver': 5694, 'depth': 5695, 'mysterious': 5696, 'mayo': 5697, 'foil': 5698, 'altercation': 5699, 'strictly': 5700, 'progressive': 5701, 'steroid': 5702, 'embark': 5703, 'ponting': 5704, 'puerto': 5705, 'example': 5706, 'tenant': 5707, 'gazprom': 5708, 'makeover': 5709, 'settler': 5710, 'thrill': 5711, 'foray': 5712, 'infosys': 5713, 'fiery': 5714, '2001': 5715, 'hbo': 5716, 'steer': 5717, 'sad': 5718, 'stevens': 5719, 'pen': 5720, 'script': 5721, 'wbc': 5722, 'clegg': 5723, 'turtle': 5724, 'ahmad': 5725, 'attach': 5726, 'nottingham': 5727, 'panda': 5728, 'sequel': 5729, '23rd': 5730, 'frankfurt': 5731, 'janet': 5732, 'beverage': 5733, 'booking': 5734, 'goodwill': 5735, 'epic': 5736, 'rodgers': 5737, 'ashok': 5738, 'triumph': 5739, 'brendan': 5740, 'breathe': 5741, 'volvo': 5742, 'coma': 5743, '16yearold': 5744, '17yearold': 5745, 'examination': 5746, 'organ': 5747, 'gore': 5748, 'automation': 5749, 'alien': 5750, 'demolish': 5751, 'evaluation': 5752, 'revival': 5753, 'ea': 5754, 'consortium': 5755, 'jeffrey': 5756, 'gps': 5757, 'md': 5758, 'invitational': 5759, 'topic': 5760, 'lecture': 5761, 'vienna': 5762, 'knox': 5763, 'swallow': 5764, 'f1': 5765, 'letterman': 5766, 'dancer': 5767, 'soap': 5768, 'garcia': 5769, 'mode': 5770, 'publishing': 5771, 'norm': 5772, 'pearl': 5773, 'chronicle': 5774, 'mayweather': 5775, 'glory': 5776, 'quota': 5777, 'mislead': 5778, 'merrill': 5779, 'automobile': 5780, 'dictator': 5781, 'notorious': 5782, 'aung': 5783, 'toxic': 5784, 'h': 5785, 'runoff': 5786, 'mask': 5787, 'nazi': 5788, 'trademark': 5789, 'aden': 5790, 'goaltender': 5791, '21st': 5792, 'stance': 5793, 'kindle': 5794, 'yoga': 5795, 'chrome': 5796, 'splash': 5797, 'sometime': 5798, 'lacrosse': 5799, 'ghost': 5800, 'friendship': 5801, 'joy': 5802, 'plummet': 5803, 'ethiopian': 5804, 'eventually': 5805, 'worlds': 5806, 'conversation': 5807, 'radiation': 5808, 'deportation': 5809, 'injection': 5810, 'kerr': 5811, 'billiton': 5812, 'diva': 5813, 'gubernatorial': 5814, 'cab': 5815, 'statutory': 5816, 'tan': 5817, 'promoter': 5818, 'villager': 5819, 'ftse': 5820, 'mercy': 5821, 'portman': 5822, 'advani': 5823, 'busch': 5824, 'bruin': 5825, 'notebook': 5826, 'cellular': 5827, 'taiwanese': 5828, 'constituency': 5829, 'reddy': 5830, 'anand': 5831, 'rout': 5832, 'dentist': 5833, 'diane': 5834, 'mayoral': 5835, 'simmons': 5836, 'starter': 5837, 'cowboys': 5838, 'consulting': 5839, 'endeavour': 5840, '16th': 5841, 'mesa': 5842, 'franco': 5843, 'semi': 5844, '12000': 5845, '97': 5846, 'obligation': 5847, 'typhoon': 5848, 'alley': 5849, '6th': 5850, 'gunfire': 5851, 'partially': 5852, 'canadas': 5853, 'hood': 5854, 'insight': 5855, 'uncertain': 5856, 'shaun': 5857, 'felipe': 5858, 'yadav': 5859, 'bret': 5860, 'bernie': 5861, 'hampton': 5862, 'traveller': 5863, 'litre': 5864, 'miguel': 5865, 'burke': 5866, 'rossi': 5867, 'cristiano': 5868, 'passage': 5869, 'shiite': 5870, 'exploit': 5871, 'welterweight': 5872, 'jul': 5873, 'prepaid': 5874, 'ceiling': 5875, 'blackhawks': 5876, 'himachal': 5877, 'stray': 5878, '99': 5879, 'stimulate': 5880, 'trick': 5881, 'ordinary': 5882, 'westwood': 5883, 'chuck': 5884, 'occupation': 5885, 'punk': 5886, '31yearold': 5887, 'indication': 5888, 'construct': 5889, 'lightweight': 5890, 'brooke': 5891, 'eden': 5892, 'mali': 5893, 'departure': 5894, 'roughly': 5895, 'embezzle': 5896, 'auditor': 5897, 'showdown': 5898, 'tall': 5899, 'polar': 5900, 'permanently': 5901, 'calendar': 5902, 'combination': 5903, 'consolidation': 5904, 'maybe': 5905, 'krishna': 5906, 'doug': 5907, 'removal': 5908, 'facing': 5909, 'integrity': 5910, 'croatian': 5911, 'scotia': 5912, 'santos': 5913, 'salvation': 5914, 'raul': 5915, 'dutt': 5916, 'ga': 5917, 'marsh': 5918, 'wheelchair': 5919, 'valencia': 5920, 'stabilise': 5921, 'palestine': 5922, 'comprise': 5923, 'jorge': 5924, 'conglomerate': 5925, 'corrupt': 5926, 'burning': 5927, 'isaac': 5928, 'fence': 5929, 'purdue': 5930, 'wrestle': 5931, 'impersonate': 5932, 'tory': 5933, 'nervous': 5934, 'restoration': 5935, 'amsterdam': 5936, 'crossborder': 5937, 'comfort': 5938, 'arquette': 5939, 'finalise': 5940, 'licensing': 5941, 'aware': 5942, 'telegraph': 5943, 'avert': 5944, 'laureate': 5945, 'expression': 5946, 'bale': 5947, 'relieve': 5948, 'hank': 5949, 'o2': 5950, 'staple': 5951, '15day': 5952, 'repurchase': 5953, 'introduction': 5954, 'ma': 5955, 'burton': 5956, 'afraid': 5957, 'herman': 5958, 'balotelli': 5959, 'samantha': 5960, 'separatist': 5961, '5th': 5962, 'axe': 5963, 'mercedes': 5964, 'gabrielle': 5965, 'urgent': 5966, 'dissident': 5967, 'carlisle': 5968, 'slowly': 5969, 'holland': 5970, 'forever': 5971, 'florence': 5972, 'spar': 5973, 'denounce': 5974, 'unemployed': 5975, 'nawaz': 5976, 'learning': 5977, 'irene': 5978, 'sergio': 5979, 'oasis': 5980, 'cattle': 5981, 'hispanic': 5982, '8000': 5983, 'nielsen': 5984, 'bullpen': 5985, 'eid': 5986, 'gossip': 5987, 'silva': 5988, 'confront': 5989, 'firmly': 5990, 'thus': 5991, 'trio': 5992, 'crusader': 5993, 'clipper': 5994, 'gonzalez': 5995, '160': 5996, 'bnp': 5997, 'hr': 5998, 'freeway': 5999, 'labourer': 6000, 'lou': 6001, 'kashmiri': 6002, 'whip': 6003, 'snoop': 6004, 'zac': 6005, 'bowling': 6006, 'indigenous': 6007, 'stole': 6008, 'daylight': 6009, 'cave': 6010, 'indoor': 6011, 'blunt': 6012, 'working': 6013, 'accompany': 6014, 'ltte': 6015, '30th': 6016, 'halloween': 6017, 'fda': 6018, 'marie': 6019, 'malawi': 6020, 'self': 6021, 'comfortable': 6022, 'aspect': 6023, 'chester': 6024, 'minsk': 6025, 'winning': 6026, 'moines': 6027, 'accounting': 6028, 'coronation': 6029, 'jade': 6030, 'blockade': 6031, 'displace': 6032, 'aurora': 6033, 'canberra': 6034, 'vitamin': 6035, 'nexus': 6036, 'define': 6037, 'hyundai': 6038, 'macau': 6039, 'locker': 6040, 'burger': 6041, 'slot': 6042, 'struck': 6043, 'mick': 6044, 'plague': 6045, '01': 6046, 'sikh': 6047, 'coral': 6048, 'duchess': 6049, 'stabilize': 6050, 'raymond': 6051, 'tube': 6052, 'amidst': 6053, 'accidental': 6054, 'nab': 6055, 'sunshine': 6056, 'maradona': 6057, 'slight': 6058, 'atletico': 6059, 'linda': 6060, 'brit': 6061, 'respectively': 6062, 'resist': 6063, 'zuckerberg': 6064, 'deteriorate': 6065, 'therapeutic': 6066, 'jse': 6067, 'songwriter': 6068, 'webb': 6069, 'courtroom': 6070, 'slim': 6071, 'exhusband': 6072, 'dicaprio': 6073, 'gosselin': 6074, 'ti': 6075, 'database': 6076, 'rely': 6077, 'pietersen': 6078, 'laurent': 6079, 'pin': 6080, 'fairfield': 6081, 'parkinson': 6082, 'myself': 6083, 'dissolve': 6084, 'dealership': 6085, 'ralph': 6086, 'fundamental': 6087, 'profitability': 6088, 'recreation': 6089, 'eligible': 6090, 'tycoon': 6091, 'meltdown': 6092, 'christ': 6093, 'ramirez': 6094, 'balloon': 6095, 'prosperity': 6096, 'hamper': 6097, 'bride': 6098, 'salute': 6099, 'burnley': 6100, 'hewitt': 6101, 'jackpot': 6102, 'meth': 6103, 'hiphop': 6104, 'bathroom': 6105, 'funny': 6106, 'tune': 6107, 'rcmp': 6108, 'expands': 6109, 'acquires': 6110, 'huffington': 6111, 'piracy': 6112, 'teeth': 6113, 'jessie': 6114, 'hazardous': 6115, 'aliyev': 6116, 'overtake': 6117, 'predator': 6118, 'leap': 6119, 'kurdish': 6120, 'fullback': 6121, 'fiat': 6122, 'wen': 6123, 'hilary': 6124, 'flock': 6125, 'happiness': 6126, 'undertake': 6127, 'kidman': 6128, 'bias': 6129, 'johnston': 6130, 'lsu': 6131, 'gwyneth': 6132, 'vandal': 6133, 'brunswick': 6134, 'sunny': 6135, 'jointly': 6136, 'ear': 6137, 'contempt': 6138, 'ab': 6139, 'upbeat': 6140, 'usual': 6141, 'cal': 6142, '03': 6143, 'shaw': 6144, 'painting': 6145, 'javier': 6146, 'cancellation': 6147, 'epidemic': 6148, 'courtney': 6149, 'groin': 6150, 'ak': 6151, 'imminent': 6152, 'extradite': 6153, 'craft': 6154, 'briton': 6155, 'reign': 6156, 'undermine': 6157, 'mancini': 6158, 'logan': 6159, 'wipro': 6160, 'georgetown': 6161, 'abduction': 6162, 'replaces': 6163, 'jd': 6164, 'rwanda': 6165, '96': 6166, 'bart': 6167, 'ugly': 6168, 'cabin': 6169, 'nolan': 6170, 'madoff': 6171, 'satisfaction': 6172, 'butt': 6173, 'khalifa': 6174, 'invade': 6175, 'seng': 6176, 'blackpool': 6177, 'laugh': 6178, 'attendance': 6179, 'alice': 6180, 'rica': 6181, 'monica': 6182, 'congo': 6183, 'depend': 6184, 'ministerial': 6185, 'bombay': 6186, 'slain': 6187, 'drift': 6188, 'seri': 6189, 'damon': 6190, 'sprain': 6191, 'sitcom': 6192, 'myrtle': 6193, 'purse': 6194, 'beaten': 6195, 'explodes': 6196, 'realize': 6197, '02': 6198, 'forbes': 6199, 'snake': 6200, 'follower': 6201, 'touchdown': 6202, 'zurich': 6203, 'mirza': 6204, 'imprisonment': 6205, 'vernon': 6206, 'lynn': 6207, 'ambitious': 6208, 'robust': 6209, 'shawn': 6210, 'pleased': 6211, 'ruler': 6212, 'menu': 6213, 'ria': 6214, 'famed': 6215, 'kraft': 6216, 'paltrow': 6217, 'oval': 6218, 'spare': 6219, 'endangerment': 6220, 'bloom': 6221, 'twist': 6222, 'fannie': 6223, 'wipe': 6224, 'entity': 6225, 'oiler': 6226, 'mln': 6227, 'klum': 6228, 'specifically': 6229, 'telstra': 6230, 'evan': 6231, 'bandit': 6232, 'manitoba': 6233, 'physically': 6234, 'shahid': 6235, 'engulf': 6236, 'snatch': 6237, 'toledo': 6238, 'airspace': 6239, 'paramedic': 6240, 'chandigarh': 6241, 'arabian': 6242, 'trent': 6243, 'tymoshenko': 6244, 'suspended': 6245, 'submarine': 6246, 'colour': 6247, 'manner': 6248, 'bicycle': 6249, 'playboy': 6250, 'pan': 6251, '201011': 6252, '29yearold': 6253, 'loose': 6254, 'tab': 6255, 'perez': 6256, 'coyote': 6257, 'aquino': 6258, 'openly': 6259, 'apologises': 6260, 'businessmen': 6261, 'vettel': 6262, 'icici': 6263, 'crosby': 6264, 'goody': 6265, 'westminster': 6266, 'zach': 6267, 'initially': 6268, 'freak': 6269, 'beam': 6270, 'plug': 6271, 'hogan': 6272, 'sergeant': 6273, 'messi': 6274, 'clayton': 6275, 'motogp': 6276, 'playing': 6277, '40000': 6278, 'sandusky': 6279, 'ok': 6280, 'forgive': 6281, 'middleweight': 6282, 'usain': 6283, 'leonard': 6284, 'syndrome': 6285, 'biopic': 6286, 'persistent': 6287, 'appreciation': 6288, 'inauguration': 6289, 'importer': 6290, 'theory': 6291, 'universitys': 6292, 'lehman': 6293, 'entrance': 6294, 'rory': 6295, 'smile': 6296, 'hassan': 6297, '2003': 6298, 'turnover': 6299, 'formerly': 6300, 'archive': 6301, '8th': 6302, 'ratify': 6303, 'scenario': 6304, 'albuquerque': 6305, '1600': 6306, 'judgment': 6307, 'hannah': 6308, 'tribe': 6309, 'islander': 6310, 'radcliffe': 6311, 'srinagar': 6312, 'intercept': 6313, 'pot': 6314, 'aftermath': 6315, 'sm': 6316, 'martial': 6317, 'pmln': 6318, 'torres': 6319, 'hatch': 6320, 'wa': 6321, 'pure': 6322, 'reconstruction': 6323, 'thermal': 6324, 'bourse': 6325, 'haunt': 6326, 'animation': 6327, 'lte': 6328, 'inn': 6329, 'evolve': 6330, 'ethanol': 6331, 'accountability': 6332, 'examiner': 6333, 'bulldog': 6334, 'historian': 6335, 'roethlisberger': 6336, 'making': 6337, 'landscape': 6338, 'sara': 6339, 'eclipse': 6340, 'accra': 6341, 'anticipated': 6342, 'pal': 6343, 'bind': 6344, 'gabriel': 6345, 'poultry': 6346, 'jacket': 6347, 'lone': 6348, 'guantanamo': 6349, 'jubilee': 6350, 'amir': 6351, 'missing': 6352, 'crist': 6353, 'yang': 6354, 'sedan': 6355, 'undercover': 6356, 'airplane': 6357, 'conway': 6358, 'jew': 6359, 'monk': 6360, 'nor': 6361, 'overshadow': 6362, 'testimony': 6363, 'tunnel': 6364, 'pawlenty': 6365, 'besides': 6366, 'specialize': 6367, 'boutique': 6368, 'usher': 6369, 'automatic': 6370, 'duff': 6371, 'leone': 6372, 'defect': 6373, 'prepares': 6374, 'uganda': 6375, 'nano': 6376, 'abbey': 6377, 'pancreatic': 6378, 'pierre': 6379, 'bafana': 6380, 'ideal': 6381, 'afford': 6382, '1100': 6383, 'hague': 6384, 'miracle': 6385, 'disclosure': 6386, 'calf': 6387, 'performer': 6388, 'baron': 6389, 'fourthquarter': 6390, 'protocol': 6391, 'snowmobile': 6392, 'mirror': 6393, 'widow': 6394, '35yearold': 6395, 'militia': 6396, 'adobe': 6397, 'consume': 6398, 'kay': 6399, 'winslet': 6400, '135': 6401, 'dover': 6402, 'alassad': 6403, '201213': 6404, '49ers': 6405, 'unfair': 6406, 'hodgson': 6407, 'soviet': 6408, 'fiance': 6409, 'oversee': 6410, 'harass': 6411, 'odonnell': 6412, 'alzheimers': 6413, 'colony': 6414, 'nitish': 6415, 'leigh': 6416, 'bahamas': 6417, 'appropriate': 6418, 'bug': 6419, 'willis': 6420, 'bse': 6421, 'peacefully': 6422, 'divert': 6423, 'slovakia': 6424, 'allowance': 6425, 'fm': 6426, 'samajwadi': 6427, 'paterno': 6428, 'kamal': 6429, 'citi': 6430, 'haley': 6431, 'successive': 6432, 'contamination': 6433, 'remarkable': 6434, 'hemsworth': 6435, 'canterbury': 6436, 'shepherd': 6437, 'sao': 6438, 'luther': 6439, 'unified': 6440, 'vacancy': 6441, 'netflix': 6442, 'fixed': 6443, '180': 6444, 'convoy': 6445, 'longawaited': 6446, 'silent': 6447, '32yearold': 6448, 'comparison': 6449, 'algeria': 6450, 'levi': 6451, 'clot': 6452, 'strange': 6453, 'wrestling': 6454, 'slur': 6455, 'boise': 6456, 'liquid': 6457, 'coaching': 6458, 'khloe': 6459, 'sole': 6460, 'condolence': 6461, 'rico': 6462, 'secondquarter': 6463, 'bharatiya': 6464, 'maldives': 6465, 'reschedule': 6466, 'portable': 6467, '107': 6468, 'bae': 6469, 'highspeed': 6470, 'technique': 6471, 'successor': 6472, 'remainder': 6473, 'cairn': 6474, 'knoxville': 6475, 'indeed': 6476, 'cannes': 6477, 'clay': 6478, 'trace': 6479, 'rack': 6480, 'architect': 6481, 'cambodia': 6482, 'warplane': 6483, 'drake': 6484, 'michel': 6485, 'cartel': 6486, 'kilometre': 6487, 'contemporary': 6488, 'grandfather': 6489, 'antony': 6490, 'oral': 6491, 'oneill': 6492, '175': 6493, 'selects': 6494, 'composite': 6495, 'disappointment': 6496, 'outrage': 6497, 'vast': 6498, '1400': 6499, 'dramatically': 6500, 'olmert': 6501, 'continent': 6502, 'bass': 6503, '104': 6504, 'abraham': 6505, 'copyright': 6506, 'psychiatric': 6507, 'yeddyurappa': 6508, 'appreciate': 6509, 'gloucester': 6510, 'llp': 6511, 'lucknow': 6512, 'havoc': 6513, 'greenback': 6514, 'truly': 6515, 'bypass': 6516, 'reinforce': 6517, 'bestselling': 6518, 'mila': 6519, 'kunis': 6520, 'watford': 6521, 'cm': 6522, 'cocacola': 6523, 'empower': 6524, 'malcolm': 6525, 'larceny': 6526, 'halftime': 6527, 'autobiography': 6528, 'lengthy': 6529, 're': 6530, 'shout': 6531, 'bloc': 6532, 'preston': 6533, 'kurt': 6534, 'bible': 6535, 'metric': 6536, 'rajapaksa': 6537, 'ammunition': 6538, 'irvine': 6539, 'ind': 6540, 'math': 6541, 'bean': 6542, 'juror': 6543, '105': 6544, 'emily': 6545, 'katherine': 6546, 'reliable': 6547, 'secretly': 6548, 'fairfax': 6549, 'carpenter': 6550, 'beloved': 6551, 'wr': 6552, 'lennon': 6553, 'upward': 6554, 'smoker': 6555, 'honolulu': 6556, 'stuff': 6557, 'firstround': 6558, 'elder': 6559, 'parked': 6560, 'lorry': 6561, 'havana': 6562, 'clemson': 6563, 'proof': 6564, 'yearonyear': 6565, 'joan': 6566, 'pharma': 6567, 'garner': 6568, 'soybean': 6569, 'nationally': 6570, 'cafe': 6571, 'admiral': 6572, 'dementia': 6573, 'novosti': 6574, 'spate': 6575, 'annually': 6576, 'retired': 6577, 'backyard': 6578, 'column': 6579, 'reno': 6580, 'extended': 6581, 'von': 6582, '450': 6583, 'bulk': 6584, '00': 6585, 'bicyclist': 6586, 'belmont': 6587, 'shriver': 6588, 'carol': 6589, 'malaria': 6590, 'caroline': 6591, 'starve': 6592, 'berkeley': 6593, 'monaco': 6594, 'informs': 6595, 'vic': 6596, 'chess': 6597, 'holocaust': 6598, 'habitat': 6599, 'biological': 6600, 'umpire': 6601, 'evil': 6602, 'debris': 6603, 'standing': 6604, 'wembley': 6605, 'mickey': 6606, 'klitschko': 6607, 'visual': 6608, 'instructor': 6609, '102': 6610, 'pleasant': 6611, 'beirut': 6612, 'chevrolet': 6613, 'loud': 6614, 'alter': 6615, 'belief': 6616, 'reassure': 6617, 'fighting': 6618, 'reduces': 6619, 'dale': 6620, 'cleanup': 6621, 'obese': 6622, 'bentley': 6623, 'groupon': 6624, 'oj': 6625, 'deepika': 6626, 'mens': 6627, '27yearold': 6628, 'premise': 6629, 'huntsman': 6630, '13yearold': 6631, 'accepts': 6632, 'riley': 6633, 'virtually': 6634, 'audi': 6635, 'copa': 6636, 'baba': 6637, 'deem': 6638, 'kiwi': 6639, 'correctional': 6640, 'vale': 6641, 'furlough': 6642, 'robot': 6643, 'dash': 6644, 'uprising': 6645, 'unilever': 6646, 'ehud': 6647, 'sheboygan': 6648, 'scan': 6649, 'afc': 6650, 'recording': 6651, 'everywhere': 6652, 'hepatitis': 6653, 'correct': 6654, 'sussex': 6655, 'pistorius': 6656, 'sabah': 6657, '50yearold': 6658, 'rosa': 6659, 'salmonella': 6660, 'realty': 6661, 'telekom': 6662, '07': 6663, 'muamba': 6664, 'immunity': 6665, 'mcdonnell': 6666, 'entertainer': 6667, 'transparent': 6668, 'dismissal': 6669, 'clearly': 6670, 'dust': 6671, 'breed': 6672, 'generator': 6673, 'tina': 6674, 'experimental': 6675, 'gingrich': 6676, 'efron': 6677, 'skilled': 6678, 'tyre': 6679, 'durban': 6680, 'gerrard': 6681, 'dwi': 6682, 'certainly': 6683, 'stunning': 6684, 'tier': 6685, 'serb': 6686, 'alec': 6687, 'whatever': 6688, 'speedy': 6689, 'mw': 6690, 'gesture': 6691, 'unanimous': 6692, 'fault': 6693, 'basu': 6694, 'implant': 6695, 'bahraini': 6696, 'ibrahim': 6697, 'eli': 6698, 'crocodile': 6699, 'lafayette': 6700, 'nutrition': 6701, 'array': 6702, 'exciting': 6703, 'mosquito': 6704, 'liberation': 6705, 'booth': 6706, 'cartoon': 6707, 'leopard': 6708, 'shortterm': 6709, 'confirmation': 6710, 'mock': 6711, 'felix': 6712, 'conclusion': 6713, 'bedroom': 6714, 'fixture': 6715, 'toshiba': 6716, 'galway': 6717, 'massa': 6718, 'groundbreaking': 6719, 'alonso': 6720, 'salon': 6721, 'prof': 6722, 'rodney': 6723, 'namibia': 6724, 'internationally': 6725, 'nonstop': 6726, 'squeeze': 6727, 'ligament': 6728, 'endure': 6729, 'uncle': 6730, 'cohen': 6731, 'bearish': 6732, 'revelation': 6733, 'solicitor': 6734, 'curtis': 6735, 'freeman': 6736, 'tunisian': 6737, 'assurance': 6738, 'belgrade': 6739, '12yearold': 6740, 'fog': 6741, 'rein': 6742, 'prolonged': 6743, 'borrower': 6744, 'evict': 6745, '9th': 6746, 'lagos': 6747, '750': 6748, 'manipur': 6749, 'rouge': 6750, 'jermaine': 6751, 'alltime': 6752, 'hernandez': 6753, 'embezzlement': 6754, 'mediterranean': 6755, 'fraser': 6756, 'flick': 6757, 'passion': 6758, 'appetite': 6759, 'ambition': 6760, 'ax': 6761, 'g20': 6762, 'expected': 6763, 'marina': 6764, 'certify': 6765, 'hidden': 6766, 'sultan': 6767, 'amateur': 6768, 'poisoning': 6769, 'dancing': 6770, 'adaptation': 6771, 'redknapp': 6772, 'libel': 6773, 'guinness': 6774, 'footprint': 6775, 'iphones': 6776, 'mitsubishi': 6777, 'bermuda': 6778, 'rebate': 6779, 'palo': 6780, 'conan': 6781, 'doha': 6782, 'bikini': 6783, 'authorize': 6784, 'binghamton': 6785, 'totally': 6786, 'driveby': 6787, 'harlem': 6788, 'ipswich': 6789, 'cripple': 6790, 'hitachi': 6791, 'stupid': 6792, 'sovereignty': 6793, 'mich': 6794, 'topeka': 6795, 'assert': 6796, 'outlaw': 6797, 'gerard': 6798, 'batman': 6799, 'stranger': 6800, 'literacy': 6801, 'deeply': 6802, 'imperial': 6803, 'pyongyang': 6804, 'junction': 6805, 'daytime': 6806, 'arcelormittal': 6807, 'ordinance': 6808, 'vandalism': 6809, 'tout': 6810, 'boo': 6811, 'nail': 6812, 'vaccination': 6813, 'cavendish': 6814, 'fundraise': 6815, 'fedex': 6816, 'intercontinental': 6817, 'rib': 6818, 'statistical': 6819, 'chan': 6820, 'understanding': 6821, 'wanderer': 6822, 'aleague': 6823, 'instant': 6824, 'rear': 6825, 'livestock': 6826, 'jenna': 6827, 'pratibha': 6828, 'hungry': 6829, 'caterpillar': 6830, 'spectacular': 6831, 'estimated': 6832, 'saeed': 6833, 'malfunction': 6834, 'detection': 6835, 'anywhere': 6836, 'dunk': 6837, 'aground': 6838, 'brake': 6839, 'fidel': 6840, 'attraction': 6841, 'beck': 6842, 'respiratory': 6843, 'quietly': 6844, 'marketer': 6845, 'rescuer': 6846, 'kg': 6847, 'lokpal': 6848, 'newt': 6849, 'tent': 6850, 'collector': 6851, 'antitrust': 6852, 'batting': 6853, 'panama': 6854, 'jar': 6855, 'grande': 6856, 'printer': 6857, 'telangana': 6858, 'substitute': 6859, 'heal': 6860, 'comcast': 6861, 'atlantis': 6862, 'allrounder': 6863, 'morocco': 6864, 'ramesh': 6865, 'uzbekistan': 6866, 'memoir': 6867, 'java': 6868, 'willie': 6869, 'jenkins': 6870, 'yearold': 6871, 'northampton': 6872, 'biel': 6873, 'rutgers': 6874, 'desk': 6875, 'bread': 6876, 'sword': 6877, 'anaheim': 6878, 'southampton': 6879, 'chevron': 6880, 'gathering': 6881, 'paulson': 6882, 'daredevil': 6883, 'mcdonalds': 6884, 'strait': 6885, 'rao': 6886, 'sneak': 6887, 'millennium': 6888, 'conversion': 6889, 'vandalize': 6890, 'refund': 6891, 'gavin': 6892, 'portray': 6893, 'sidney': 6894, 'kourtney': 6895, 'poster': 6896, 'decisive': 6897, '106': 6898, 'loyal': 6899, 'fielder': 6900, 'exploitation': 6901, 'thirdquarter': 6902, 'acclaim': 6903, 'chapel': 6904, 'proceed': 6905, 'shahbaz': 6906, 'combined': 6907, 'runaway': 6908, 'jiabao': 6909, 'dual': 6910, 'johan': 6911, 'relax': 6912, 'reply': 6913, 'breakdown': 6914, '111': 6915, 'impaired': 6916, 'nigel': 6917, 'hewlettpackard': 6918, 'contador': 6919, 'clue': 6920, 'coat': 6921, 'notch': 6922, 'uss': 6923, 'mcilroy': 6924, 'zimmerman': 6925, 'unsecured': 6926, 'boulder': 6927, 'tolerate': 6928, 'chesapeake': 6929, '730': 6930, 'lowcost': 6931, 'infamous': 6932, 'hover': 6933, '1300': 6934, 'socialist': 6935, 'pad': 6936, 'scholar': 6937, 'lucrative': 6938, 'partly': 6939, 'persist': 6940, 'seth': 6941, 'fragile': 6942, 'shannon': 6943, 'anchorage': 6944, 'flexible': 6945, 'alto': 6946, 'seafood': 6947, '150000': 6948, 'stunt': 6949, 'auditorium': 6950, 'advertisement': 6951, 'ulster': 6952, 'hillsborough': 6953, 'clarkson': 6954, 'tajikistan': 6955, 'enrichment': 6956, 'darling': 6957, 'pulse': 6958, 'augusta': 6959, 'kendra': 6960, 'aggregate': 6961, 'porsche': 6962, 'forgery': 6963, 'albion': 6964, 'basin': 6965, 'jaw': 6966, 'arrow': 6967, 'optical': 6968, 'procurement': 6969, 'hm': 6970, 'shetty': 6971, 'kodak': 6972, 'wachovia': 6973, 'mgm': 6974, 'explorer': 6975, 'gradually': 6976, 'atp': 6977, 'keeper': 6978, 'robbed': 6979, 'convene': 6980, 'issuer': 6981, 'cpi': 6982, 'norton': 6983, 'crowe': 6984, 'stint': 6985, 'incredible': 6986, 'narcotic': 6987, 'alcoholic': 6988, 'baton': 6989, 'destruction': 6990, 'gadhafi': 6991, 'phillip': 6992, 'mess': 6993, 'contrary': 6994, 'bluff': 6995, 'xavier': 6996, 'straw': 6997, 'accreditation': 6998, 'y': 6999, 'faction': 7000, 'gateway': 7001, 'simplify': 7002, 'interesting': 7003, 'didier': 7004, 'printing': 7005, 'cohost': 7006, 'tbilisi': 7007, 'enhanced': 7008, 'rai': 7009, 'intelligent': 7010, '60th': 7011, 'tsx': 7012, 'turnout': 7013, 'skier': 7014, 'swimming': 7015, 'fatality': 7016, 'murderer': 7017, 'basket': 7018, 'sketch': 7019, 'nixon': 7020, 'motorway': 7021, 'impossible': 7022, 'injunction': 7023, 'amazing': 7024, 'upside': 7025, 'outgo': 7026, 'pedro': 7027, 'shin': 7028, 'elli': 7029, 'odi': 7030, 'driveway': 7031, 'actively': 7032, 'slogan': 7033, 'savage': 7034, 'duet': 7035, 'sewer': 7036, 'deck': 7037, 'windows': 7038, 'safeguard': 7039, 'confederation': 7040, 'luck': 7041, 'curry': 7042, 'diversify': 7043, 'nvidia': 7044, 'worcester': 7045, 'ronson': 7046, 'freeagent': 7047, 'alba': 7048, 'eugene': 7049, 'expenditure': 7050, 'gangster': 7051, 'moratorium': 7052, 'goodbye': 7053, 'evaluate': 7054, 'circus': 7055, 'thatcher': 7056, 'imagine': 7057, 'ra': 7058, 'fragrance': 7059, 'tale': 7060, 'summon': 7061, 'joplin': 7062, 'barely': 7063, 'collides': 7064, 'hotspur': 7065, 'harsh': 7066, 'dixon': 7067, 'equip': 7068, 'canton': 7069, 'wallet': 7070, 'cult': 7071, 'bachelor': 7072, 'amongst': 7073, 'hulk': 7074, 'olive': 7075, '1960s': 7076, 'conjunction': 7077, 'mideast': 7078, 'mvp': 7079, 'elsewhere': 7080, 'sotomayor': 7081, 'echo': 7082, 'breakaway': 7083, 'allamerican': 7084, 'fourday': 7085, 'kia': 7086, 'mozambique': 7087, 'peruvian': 7088, 'graffiti': 7089, 'longrunning': 7090, 'pr': 7091, 'cart': 7092, 'literature': 7093, 'persuade': 7094, 'dynamo': 7095, 'transformation': 7096, 'ritchie': 7097, 'robertson': 7098, 'methodist': 7099, 'osborne': 7100, 'scherzinger': 7101, 'reduced': 7102, 'fulfil': 7103, 'paternity': 7104, 'migration': 7105, 'sensor': 7106, 'spinner': 7107, 'roommate': 7108, 'macquarie': 7109, 'chaudhry': 7110, 'macon': 7111, 'doll': 7112, 'background': 7113, 'suggestion': 7114, 'savannah': 7115, 'saga': 7116, 'knockout': 7117, 'cory': 7118, 'rebecca': 7119, 'sprinter': 7120, 'prodemocracy': 7121, 'tomas': 7122, 'piper': 7123, 'twovehicle': 7124, 'ecb': 7125, 'clara': 7126, 'halve': 7127, 'wba': 7128, 'colon': 7129, 'hospice': 7130, 'suppose': 7131, 'twenty': 7132, 'shirley': 7133, 'hurley': 7134, 'qld': 7135, 'ranbir': 7136, 'aj': 7137, 'redundancy': 7138, 'passing': 7139, 'eleven': 7140, 'hiring': 7141, 'patience': 7142, '7000': 7143, 'moose': 7144, 'whistleblower': 7145, 'shave': 7146, 'grammer': 7147, 'obsess': 7148, 'lithuania': 7149, 'aust': 7150, 'potato': 7151, 'mri': 7152, 'reagan': 7153, 'ep': 7154, 'anticorruption': 7155, 'teaching': 7156, 'scream': 7157, 'onevehicle': 7158, 'julius': 7159, 'hospitality': 7160, 'beaver': 7161, 'sabre': 7162, 'salisbury': 7163, 'architecture': 7164, 'synthetic': 7165, 'depart': 7166, 'nest': 7167, 'allocate': 7168, 'loyalty': 7169, 'risky': 7170, 'clearance': 7171, 'commencement': 7172, 'curfew': 7173, '08': 7174, 'omalley': 7175, 'julio': 7176, 'bolivia': 7177, 'clip': 7178, 'enforce': 7179, 'saturdays': 7180, 'bon': 7181, 'linger': 7182, 'apprentice': 7183, 'sewage': 7184, 'cord': 7185, 'intoxication': 7186, 'ike': 7187, 'glove': 7188, 'negotiator': 7189, 'hindi': 7190, 'bismarck': 7191, 'prohibit': 7192, 'bt': 7193, '31st': 7194, 'shia': 7195, 'ups': 7196, 'mid': 7197, 'polanski': 7198, 'blade': 7199, 'en': 7200, 'redesign': 7201, 'relegate': 7202, 'paedophile': 7203, 'snub': 7204, 'otherwise': 7205, 'landfall': 7206, 'aloud': 7207, '38yearold': 7208, 'warden': 7209, 'lindsey': 7210, 'rampage': 7211, 'ossetia': 7212, 'anz': 7213, 'drum': 7214, 'bayer': 7215, 'adapt': 7216, 'rawalpindi': 7217, 'handgun': 7218, 'choppy': 7219, 'saskatoon': 7220, 'jindal': 7221, 'holly': 7222, 'loot': 7223, 'wrongful': 7224, 'webster': 7225, 'indy': 7226, 'stakeholder': 7227, 'shirt': 7228, 'pepsi': 7229, 'bhutto': 7230, 'dustin': 7231, 'montag': 7232, 'berth': 7233, 'electrocute': 7234, 'appalachian': 7235, 'maori': 7236, 'lamb': 7237, 'reel': 7238, 'gabor': 7239, 'modify': 7240, 'livingston': 7241, 'venus': 7242, 'cd': 7243, 'albania': 7244, 'kylie': 7245, 'uruguay': 7246, 'heineken': 7247, 'exile': 7248, 'gill': 7249, 'melt': 7250, 'implication': 7251, 'merit': 7252, 'mainstream': 7253, 'testing': 7254, 'inflow': 7255, 'soup': 7256, '200m': 7257, 'protestors': 7258, 'patterson': 7259, 'personally': 7260, 'frequent': 7261, 'cornwall': 7262, 'timor': 7263, 'pageant': 7264, 'surfer': 7265, 'ubisoft': 7266, '10year': 7267, 'tna': 7268, 'cypriot': 7269, 'wan': 7270, 'redskins': 7271, 'blanket': 7272, 'arise': 7273, '600000': 7274, 'tide': 7275, 'asiapacific': 7276, 'haul': 7277, 'exboyfriend': 7278, 'anticipation': 7279, 'transmit': 7280, 'defendant': 7281, 'medalist': 7282, 'interface': 7283, 'dana': 7284, 'fantastic': 7285, 'ratio': 7286, 'verge': 7287, 'bizarre': 7288, 'talented': 7289, 'bal': 7290, '550': 7291, 'psychological': 7292, 'mcdonald': 7293, 'relatively': 7294, 'tend': 7295, 'iris': 7296, 'onetime': 7297, 'connectivity': 7298, '28th': 7299, 'lunar': 7300, 'dundee': 7301, 'camden': 7302, 'airtran': 7303, 'modestly': 7304, 'gp': 7305, 'wholly': 7306, 'bidder': 7307, 'dannii': 7308, 'elimination': 7309, 'upto': 7310, 'se': 7311, 'snowfall': 7312, 'milton': 7313, 'dispatch': 7314, 'downward': 7315, 'lin': 7316, 'jaime': 7317, 'ladder': 7318, 'kickoff': 7319, 'coordination': 7320, 'throne': 7321, 'qpr': 7322, 'schmidt': 7323, 'jude': 7324, 'grandson': 7325, 'aggravate': 7326, 'pork': 7327, '1800': 7328, 'asks': 7329, '1700': 7330, 'paraguay': 7331, 'disqualify': 7332, 'edwin': 7333, 'leno': 7334, 'rag': 7335, 'ramdev': 7336, 'novelist': 7337, 'garrett': 7338, 'rename': 7339, 'machinery': 7340, 'ashore': 7341, 'promotional': 7342, 'neither': 7343, 'brigade': 7344, 'registry': 7345, '115': 7346, 'dawson': 7347, 'junk': 7348, 'disturb': 7349, 'shooter': 7350, 'embattled': 7351, 'taxation': 7352, 'devote': 7353, 'backdrop': 7354, 'astana': 7355, 'intervene': 7356, 'supervision': 7357, 'halfway': 7358, 'grizzly': 7359, 'booker': 7360, 'ajay': 7361, 'raft': 7362, 'bless': 7363, 'eager': 7364, 'petrochemical': 7365, 'clarify': 7366, 'autonomous': 7367, 'sevilla': 7368, 'havent': 7369, 'horry': 7370, 'mayawati': 7371, 'schalke': 7372, 'separation': 7373, 'overwhelm': 7374, 'meredith': 7375, 'fade': 7376, 'unesco': 7377, 'rubbish': 7378, 'knifepoint': 7379, 'abolish': 7380, 'beau': 7381, 'dwight': 7382, 'objection': 7383, 'bakery': 7384, 'surgical': 7385, 'furious': 7386, 'jenner': 7387, 'biotechnology': 7388, 'timing': 7389, 'frederick': 7390, 'alcoa': 7391, 'diary': 7392, 'avery': 7393, 'cardiovascular': 7394, 'briefing': 7395, 'quantity': 7396, 'persian': 7397, 'disposal': 7398, 'rodham': 7399, 'prediction': 7400, 'rss': 7401, 'immune': 7402, 'vogue': 7403, 'icahn': 7404, 'emotion': 7405, 'smuggler': 7406, 'righthanded': 7407, 'wealthy': 7408, 'wellness': 7409, 'shrine': 7410, 'leinster': 7411, 'taking': 7412, 'polling': 7413, 'trafford': 7414, '103': 7415, 'scrutiny': 7416, 'ole': 7417, 'paddy': 7418, 'jenson': 7419, 'inject': 7420, 'melissa': 7421, 'rattle': 7422, 'roanoke': 7423, 'slalom': 7424, 'ipads': 7425, 'donovan': 7426, 'valve': 7427, 'helmet': 7428, 'ventura': 7429, 'monte': 7430, 'horn': 7431, 'terrible': 7432, 'negligent': 7433, 'vmware': 7434, 'candlestick': 7435, 'xperia': 7436, 'exclude': 7437, 'sends': 7438, 'declares': 7439, 'harare': 7440, 'amar': 7441, 'gutted': 7442, 'aa': 7443, 'vacate': 7444, 'kuala': 7445, 'alexandra': 7446, 'dismal': 7447, 'topple': 7448, '2018': 7449, 'hunting': 7450, 'oconnor': 7451, 'payable': 7452, 'computing': 7453, 'middlesbrough': 7454, 'rivera': 7455, 'lyric': 7456, 'elena': 7457, '9000': 7458, 'credential': 7459, 'naples': 7460, '22nd': 7461, 'proclaim': 7462, 'seasonally': 7463, '98': 7464, 'lisbon': 7465, 'wow': 7466, 'candidacy': 7467, 'bynes': 7468, 'proposed': 7469, 'yourself': 7470, 'lea': 7471, 'peso': 7472, 'continuous': 7473, 'outreach': 7474, 'commute': 7475, 'abdominal': 7476, 'carla': 7477, 'fabrice': 7478, 'paribas': 7479, 'viktor': 7480, 'smooth': 7481, 'forestry': 7482, 'viral': 7483, 'accountant': 7484, 'chandler': 7485, 'overwhelmingly': 7486, 'methamphetamine': 7487, 'antidoping': 7488, 'newsday': 7489, 'hurl': 7490, 'intimate': 7491, '06': 7492, 'firsthalf': 7493, 'subdue': 7494, 'alexandria': 7495, 'commentator': 7496, 'afridi': 7497, 'spiderman': 7498, 'lehigh': 7499, 'franc': 7500, 'mature': 7501, 'tense': 7502, 'byrd': 7503, 'shutout': 7504, 'greenville': 7505, 'fraudulent': 7506, 'courteney': 7507, 'dane': 7508, 'apollo': 7509, 'gainesville': 7510, 'doctorate': 7511, 'earl': 7512, 'deliberately': 7513, 'spotify': 7514, 'wbo': 7515, 'brilliant': 7516, 'q': 7517, 'render': 7518, 'marseille': 7519, 'pesticide': 7520, 'keegan': 7521, 'sanctuary': 7522, 'spokane': 7523, 'cork': 7524, 'refuge': 7525, 'bernardino': 7526, 'roddick': 7527, 'choir': 7528, 'excuse': 7529, 'skull': 7530, 'polio': 7531, 'lampard': 7532, 'heathrow': 7533, 'cialis': 7534, 'denise': 7535, 'everybody': 7536, 'grower': 7537, 'lauderdale': 7538, '200809': 7539, 'petty': 7540, 'roland': 7541, 'sophomore': 7542, 'conspire': 7543, 'vigil': 7544, '39yearold': 7545, 'carlyle': 7546, 'warne': 7547, 'honduras': 7548, 'fibre': 7549, 'lpga': 7550, 'travolta': 7551, 'honeymoon': 7552, 'ho': 7553, 'gyllenhaal': 7554, 'coldplay': 7555, 'capsule': 7556, 'thrasher': 7557, 'buccaneer': 7558, 'flare': 7559, 'showroom': 7560, 'karan': 7561, 'con': 7562, 'except': 7563, 'shilpa': 7564, 'aviva': 7565, 'unlimited': 7566, 'arbor': 7567, 'grows': 7568, 'prosecute': 7569, 'drogba': 7570, 'aluminum': 7571, 'improves': 7572, 'apologizes': 7573, 'renews': 7574, 'fiancee': 7575, '2g': 7576, 'cheltenham': 7577, 'disgrace': 7578, 'programming': 7579, 'emirates': 7580, 'confiscate': 7581, 'ilham': 7582, 'jacques': 7583, '24th': 7584, 'showing': 7585, 'upstate': 7586, 'os': 7587, 'prey': 7588, 'costume': 7589, 'paypal': 7590, '630': 7591, 'khyber': 7592, 'bangladeshi': 7593, 'yy': 7594, 'uncover': 7595, 'wider': 7596, 'freestyle': 7597, 'maid': 7598, 'caretaker': 7599, '60000': 7600, 'cautiously': 7601, 'pretoria': 7602, 'ukbased': 7603, 'luxembourg': 7604, 'webcast': 7605, 'olivia': 7606, 'nightmare': 7607, 'lewd': 7608, 'restive': 7609, 'influenza': 7610, 'cocktail': 7611, 'breeder': 7612, '47yearold': 7613, 'sweeping': 7614, 'ruin': 7615, 'rehearsal': 7616, 'reprimand': 7617, 'tenure': 7618, 'shotgun': 7619, 'experiment': 7620, 'banquet': 7621, 'relevant': 7622, 'lilly': 7623, 'tripura': 7624, 'wolfsburg': 7625, 'lautner': 7626, 'putnam': 7627, 'hudgens': 7628, 'caucasus': 7629, 'respective': 7630, 'noise': 7631, 'defends': 7632, 'balochistan': 7633, 'akron': 7634, 'rose': 7635, 'dominant': 7636, 'bethlehem': 7637, '108': 7638, 'tactic': 7639, 'rahman': 7640, '109': 7641, 'il': 7642, 'calvin': 7643, 'stuttgart': 7644, 'stockholder': 7645, 'boca': 7646, 'kane': 7647, 'disable': 7648, 'ft': 7649, 'publishes': 7650, 'uc': 7651, 'journalism': 7652, 'downloads': 7653, 'peacekeeper': 7654, 'pawar': 7655, 'samoa': 7656, 'smartrends': 7657, 'sienna': 7658, 'kandahar': 7659, 'fontana': 7660, 'educator': 7661, 'upholds': 7662, 'headquarter': 7663, 'barrymore': 7664, 'knightley': 7665, 'brings': 7666, 'karunanidhi': 7667, 'lorenzo': 7668, 'berkshire': 7669, 'bruise': 7670, 'hancock': 7671, 'misuse': 7672, 'polk': 7673, 'underwear': 7674, 'guerrilla': 7675, 'entertain': 7676, '112': 7677, 'ancelotti': 7678, 'cheese': 7679, 'nairobi': 7680, 'rope': 7681, 'shoaib': 7682, 'bullion': 7683, 'ahmedabad': 7684, 'tumour': 7685, '41yearold': 7686, 'slugger': 7687, 'zombie': 7688, 'nyse': 7689, 'copenhagen': 7690, 'wi': 7691, 'moammar': 7692, 'dev': 7693, 'richter': 7694, 'undefeated': 7695, 'radar': 7696, 'jain': 7697, 'ala': 7698, 'regina': 7699, 'none': 7700, 'memorandum': 7701, 'wakefield': 7702, 'timber': 7703, 'confidential': 7704, 'yusuf': 7705, 'mahendra': 7706, 'blackmail': 7707, 'nv': 7708, 'landfill': 7709, 'loser': 7710, 'aishwarya': 7711, 'inner': 7712, 'antiterrorism': 7713, 'constituent': 7714, 'hon': 7715, 'mtn': 7716, 'interfere': 7717, 'multinational': 7718, 'leisure': 7719, 'enrollment': 7720, 'enact': 7721, 'niger': 7722, 'moroccan': 7723, 'communicate': 7724, 'hosting': 7725, 'swayze': 7726, 'twoweek': 7727, '09': 7728, 'nda': 7729, 'penske': 7730, 'rainbow': 7731, 'shipyard': 7732, 'portrait': 7733, 'christine': 7734, 'colonel': 7735, 'repatriate': 7736, 'malibu': 7737, 'preschool': 7738, 'bosnia': 7739, 'virtualization': 7740, 'compile': 7741, 'insists': 7742, 'fayetteville': 7743, 'sonic': 7744, 'perdue': 7745, 'headache': 7746, 'nike': 7747, 'disappearance': 7748, 'competitiveness': 7749, '190': 7750, 'osce': 7751, 'administer': 7752, 'acc': 7753, 'aka': 7754, 'catastrophic': 7755, 'scooter': 7756, 'fiber': 7757, 'hayes': 7758, 'mickelson': 7759, 'waterloo': 7760, 'ballistic': 7761, 'parcel': 7762, 'dot': 7763, 'herbert': 7764, 'devon': 7765, 'detector': 7766, 'liz': 7767, 'bacteria': 7768, 'lobbyist': 7769, '45yearold': 7770, 'stockton': 7771, 'chi': 7772, 'handful': 7773, 'fiction': 7774, 'wrongly': 7775, 'akhtar': 7776, 'ml': 7777, 'phelps': 7778, 'huawei': 7779, 'threeyearold': 7780, 'registered': 7781, 'charm': 7782, 'corey': 7783, 'andrea': 7784, 'improper': 7785, 'salvador': 7786, 'jihad': 7787, 'eastman': 7788, 'nate': 7789, 'pavilion': 7790, 'asda': 7791, 'ballet': 7792, 'corridor': 7793, 'streamline': 7794, 'mirren': 7795, 'cnbc': 7796, 'reopens': 7797, 'sbi': 7798, 'tick': 7799, 'sears': 7800, 'bronx': 7801, 'multimedia': 7802, 'realtime': 7803, 'cadre': 7804, 'threegame': 7805, 'sania': 7806, 'composition': 7807, '650': 7808, 'kyiv': 7809, 'homage': 7810, 'credible': 7811, 'censor': 7812, 'ronald': 7813, 'mlb': 7814, 'raceway': 7815, 'iftikhar': 7816, 'mastermind': 7817, 'solomon': 7818, 'ortiz': 7819, 'infect': 7820, 'twelve': 7821, 'eminem': 7822, 'alligator': 7823, 'nepali': 7824, 'est': 7825, 'fletcher': 7826, 'fulltime': 7827, 'quincy': 7828, 'jackman': 7829, 'primetime': 7830, 'cleaner': 7831, 'bursa': 7832, 'kan': 7833, 'dolphins': 7834, 'inevitable': 7835, 'candy': 7836, '40yearold': 7837, 'realise': 7838, 'conductor': 7839, 'acceptance': 7840, '143': 7841, 'aluminium': 7842, 'stockholm': 7843, 'properly': 7844, 'flush': 7845, 'bargaining': 7846, 'hai': 7847, 'brighton': 7848, 'salmon': 7849, 'acclaimed': 7850, 'asbestos': 7851, 'guild': 7852, 'cameroon': 7853, 'belle': 7854, 'stallone': 7855, 'harold': 7856, 'paralympic': 7857, 'transformer': 7858, 'sonoma': 7859, 'gervais': 7860, 'doncaster': 7861, 'bassist': 7862, 'nod': 7863, 'geological': 7864, 'perjury': 7865, 'bipartisan': 7866, 'marvel': 7867, 'entirely': 7868, 'negligence': 7869, '90th': 7870, '200910': 7871, 'madhya': 7872, 'sixmonth': 7873, 'contributor': 7874, 'lingerie': 7875, 'fergie': 7876, 'wouldbe': 7877, 'maul': 7878, 'etf': 7879, 'scoop': 7880, 'liga': 7881, 'thirdlargest': 7882, 'alpha': 7883, 'mm': 7884, 'lefthander': 7885, 'mercer': 7886, 'khurshid': 7887, 'closet': 7888, 'quiz': 7889, 'blizzard': 7890, 'lean': 7891, 'advocacy': 7892, 'shahrukh': 7893, 'marvin': 7894, 'nash': 7895, 'anxiety': 7896, 'orthodox': 7897, 'pike': 7898, 'fenway': 7899, 'fallout': 7900, 'surprisingly': 7901, 'kelsey': 7902, 'extract': 7903, 'sim': 7904, 'mellon': 7905, 'perspective': 7906, 'au': 7907, 'stephanie': 7908, 'benghazi': 7909, 'unmanned': 7910, 'martha': 7911, 'safer': 7912, 'lotus': 7913, 'absolute': 7914, 'defenceman': 7915, 'lowe': 7916, 'stir': 7917, 'panetta': 7918, 'airstrike': 7919, 'marker': 7920, 'toe': 7921, 'airasia': 7922, 'trek': 7923, 'jj': 7924, 'tongue': 7925, 'intruder': 7926, 'interaction': 7927, 'payne': 7928, 'limerick': 7929, 'bigg': 7930, 'ravi': 7931, 'powder': 7932, 'mosley': 7933, 'adopts': 7934, 'byrne': 7935, 'frustration': 7936, 'dampen': 7937, 'flintoff': 7938, 'lumpur': 7939, 'footage': 7940, 'solicitation': 7941, 'yanukovych': 7942, 'bhopal': 7943, 'malema': 7944, 'bubble': 7945, 'technological': 7946, 'wonderful': 7947, 'curtain': 7948, 'stan': 7949, 'hawaiian': 7950, 'locally': 7951, 'sunni': 7952, 'gareth': 7953, 'costcutting': 7954, 'weeklong': 7955, 'prasad': 7956, 'santana': 7957, 'lucie': 7958, 'underscore': 7959, 'circulate': 7960, 'burnt': 7961, 'mitch': 7962, 'intentionally': 7963, 'ingredient': 7964, 'shuts': 7965, 'hiker': 7966, 'flexibility': 7967, 'dare': 7968, 'duluth': 7969, 'mongolia': 7970, 'frontline': 7971, 'mood': 7972, 'icy': 7973, 'sandwich': 7974, 'rex': 7975, 'iv': 7976, 'boyd': 7977, 'budapest': 7978, 'nerve': 7979, 'vat': 7980, 'wildcat': 7981, 'dunn': 7982, 'fastgrowing': 7983, 'gerald': 7984, 'enhancement': 7985, 'condom': 7986, 'maestro': 7987, 'fx': 7988, 'goalless': 7989, 'selloff': 7990, 'hitter': 7991, 'min': 7992, 'speaking': 7993, 'aboriginal': 7994, 'lk': 7995, 'unlawful': 7996, 'elk': 7997, 'bosnian': 7998, 'kitten': 7999, 'spacecraft': 8000, 'ramadan': 8001, 'interrupt': 8002, 'ankara': 8003, 'oversight': 8004, '11yearold': 8005, 'wta': 8006, 'reclaim': 8007, 'estonia': 8008, 'festive': 8009, 'turf': 8010, 'rivalry': 8011, 'shrug': 8012, 'partys': 8013, 'woodland': 8014, 'patriotic': 8015, 'chemistry': 8016, '230': 8017, 'waziristan': 8018, 'solicit': 8019, 'pea': 8020, 'haitian': 8021, 'jerome': 8022, 'nassau': 8023, 'captive': 8024, 'madden': 8025, 'advertise': 8026, 'kiev': 8027, 'nun': 8028, 'diversity': 8029, 'smell': 8030, 'yerevan': 8031, 'gcc': 8032, 'minivan': 8033, 'walgreens': 8034, 'dedicated': 8035, 'coordinate': 8036, 'downside': 8037, 'racket': 8038, 'powerball': 8039, 'haye': 8040, 'unveiled': 8041, 'tendon': 8042, 'mat': 8043, 'varsity': 8044, '1970s': 8045, 'mercantile': 8046, 'lufthansa': 8047, 'steelmaker': 8048, 'overwhelming': 8049, 'motorsports': 8050, 'strauss': 8051, 'lucy': 8052, 'headley': 8053, 'flint': 8054, 'sahara': 8055, 'atm': 8056, 'pearce': 8057, 'benson': 8058, 'ngo': 8059, 'barker': 8060, 'snyder': 8061, 'cherokee': 8062, '170': 8063, 'burial': 8064, 'eviction': 8065, 'affirms': 8066, 'fremont': 8067, '200th': 8068, 'daryl': 8069, 'pianist': 8070, 'granite': 8071, 'cougar': 8072, 'indycar': 8073, 'mahinda': 8074, 'danielle': 8075, 'warsaw': 8076, 'actual': 8077, 'sylvester': 8078, '27th': 8079, 'litigation': 8080, 'packet': 8081, 'arthritis': 8082, 'representation': 8083, 'mastercard': 8084, 'literally': 8085, 'nestle': 8086, 'provisional': 8087, 'contention': 8088, 'motivate': 8089, 'emc': 8090, 'atmosphere': 8091, 'wardrobe': 8092, 'firstever': 8093, 'legion': 8094, 'directorial': 8095, 'profitable': 8096, 'cambodian': 8097, 'shelton': 8098, 'buenos': 8099, 'prospective': 8100, 'rbc': 8101, 'stockpile': 8102, '33yearold': 8103, 'firing': 8104, 'shine': 8105, 'abhishek': 8106, 'assemblyman': 8107, 'clint': 8108, 'wander': 8109, 'seminole': 8110, 'hiatus': 8111, 'contaminate': 8112, 'miscarriage': 8113, 'gibb': 8114, 'subdivision': 8115, 'elevator': 8116, 'kathleen': 8117, 'twoyearold': 8118, 'constant': 8119, 'decree': 8120, 'inspect': 8121, 'islands': 8122, 'xerox': 8123, 'canadiens': 8124, 'alumnus': 8125, 'timberwolves': 8126, 'powerhouse': 8127, 'ict': 8128, 'chairperson': 8129, 'quentin': 8130, 'jc': 8131, 'scope': 8132, 'griffith': 8133, 'relaunch': 8134, 'artificial': 8135, 'harding': 8136, 'antique': 8137, 'polo': 8138, 'vonn': 8139, 'cubic': 8140, 'labrador': 8141, 'chant': 8142, 'uniteds': 8143, 'missoula': 8144, 'burmese': 8145, 'jupiter': 8146, '100m': 8147, 'calhoun': 8148, 'pasadena': 8149, 'husky': 8150, 'atop': 8151, 'mahama': 8152, 'flynn': 8153, 'anytime': 8154, 'monoxide': 8155, 'kazakh': 8156, 'latter': 8157, 'superhero': 8158, 'mound': 8159, 'weaker': 8160, 'desmond': 8161, 'legally': 8162, 'suicidal': 8163, 'nypd': 8164, 'told': 8165, 'cfo': 8166, 'thermo': 8167, '42yearold': 8168, 'carnegie': 8169, 'eskom': 8170, 'tuesdays': 8171, 'adjustment': 8172, 'sherman': 8173, 'huckabee': 8174, 'cindy': 8175, 'nicholas': 8176, 'dui': 8177, 'goodman': 8178, 'redistricting': 8179, 'bogus': 8180, 'sectarian': 8181, 'fry': 8182, 'usually': 8183, 'consistent': 8184, 'degeneres': 8185, 'evolution': 8186, 'todays': 8187, 'cumberland': 8188, 'onboard': 8189, 'wooden': 8190, 'a380': 8191, 'bali': 8192, 'feud': 8193, 'publicity': 8194, 'trauma': 8195, 'rabies': 8196, 'boater': 8197, 'rime': 8198, 'rascal': 8199, 'keira': 8200, 'fiveday': 8201, 'amaze': 8202, 'predecessor': 8203, 'lara': 8204, 'wee': 8205, 'mechanic': 8206, 'nephew': 8207, 'blazer': 8208, 'penelope': 8209, 'stumble': 8210, 'nfc': 8211, 'elvis': 8212, 'hormone': 8213, 'mere': 8214, 'maturity': 8215, 'resumption': 8216, 'kara': 8217, 'rotary': 8218, 'primarily': 8219, 'neighbourhood': 8220, 'founding': 8221, 'lancashire': 8222, 'lifeline': 8223, 'joyce': 8224, 'robinho': 8225, 'meningitis': 8226, 'dee': 8227, 'princeton': 8228, 'defer': 8229, 'secretarygeneral': 8230, 'massage': 8231, 'topless': 8232, 'spiral': 8233, 'youve': 8234, 'clijsters': 8235, 'jong': 8236, 'jenny': 8237, 'clarence': 8238, 'scuffle': 8239, 'ariz': 8240, 'premature': 8241, 'hog': 8242, 'obstruction': 8243, 'threetime': 8244, 'wanted': 8245, 'identification': 8246, 'everyday': 8247, 'nordic': 8248, 'gupta': 8249, 'attribute': 8250, 'newfoundland': 8251, '149': 8252, '145': 8253, 'arroyo': 8254, 'chen': 8255, '1997': 8256, 'scorer': 8257, 'deepwater': 8258, 'bravo': 8259, 'patna': 8260, 'leverage': 8261, 'objective': 8262, 'recipient': 8263, 'ultimately': 8264, 'claude': 8265, 'hobbit': 8266, 'theyll': 8267, 'underperform': 8268, 'whilst': 8269, 'societe': 8270, 'paparazzo': 8271, 'racism': 8272, 'matchup': 8273, 'gibbs': 8274, 'lockheed': 8275, 'courtesy': 8276, 'constitute': 8277, 'sutherland': 8278, 'scottsdale': 8279, 'debit': 8280, 'jairam': 8281, 'q1': 8282, 'msnbc': 8283, 'annan': 8284, 'tolerance': 8285, 'mateo': 8286, 'inspiration': 8287, 'hoax': 8288, 'secretariat': 8289, 'chhattisgarh': 8290, 'lazio': 8291, 'sacred': 8292, 'extinction': 8293, 'vicious': 8294, 'gadkari': 8295, 'igor': 8296, 'generally': 8297, 'spaniard': 8298, 'lieberman': 8299, 'selector': 8300, 'broward': 8301, 'usage': 8302, 'kareena': 8303, 'extremism': 8304, 'munster': 8305, 'lounge': 8306, 'buddhist': 8307, 'belarusian': 8308, 'shropshire': 8309, 'gymnastics': 8310, 'perfume': 8311, 'bajaj': 8312, 'soften': 8313, 'undergone': 8314, 'dismantle': 8315, 'emmanuel': 8316, 'keynote': 8317, 'advertiser': 8318, 'exempt': 8319, 'microsystems': 8320, 'snowstorm': 8321, 'laurel': 8322, 'inflationary': 8323, 'chattanooga': 8324, 'winstonsalem': 8325, 'jaipur': 8326, 'cutler': 8327, 'kristin': 8328, 'known': 8329, 'villarreal': 8330, 'senegal': 8331, 'oriental': 8332, 'boone': 8333, 'playground': 8334, 'newcomer': 8335, 'jetblue': 8336, 'medallist': 8337, 'stafford': 8338, 'wag': 8339, 'leona': 8340, 'dirt': 8341, 'speeding': 8342, 'tryout': 8343, 'bud': 8344, 'mistakenly': 8345, 'cody': 8346, 'peyton': 8347, 'leighton': 8348, 'thumb': 8349, 'cesar': 8350, 'marilyn': 8351, 'mango': 8352, 'sprained': 8353, 'guatemala': 8354, 'â': 8355, 'goalie': 8356, 'keane': 8357, 'embargo': 8358, 'bobcat': 8359, 'capsizes': 8360, 'stoner': 8361, 'onion': 8362, 'beshear': 8363, 'nitin': 8364, 'najib': 8365, 'allergy': 8366, 'akshay': 8367, 'concerned': 8368, 'jamaican': 8369, 'assailant': 8370, 'outskirt': 8371, 'collaborative': 8372, 'experienced': 8373, 'erin': 8374, 'kaif': 8375, 'fellowship': 8376, 'losing': 8377, 'receipt': 8378, 'eduardo': 8379, 'angle': 8380, 'blend': 8381, 'guam': 8382, 'sustained': 8383, 'messaging': 8384, 'soda': 8385, '220': 8386, 'insurgency': 8387, 'aretha': 8388, 'pepsico': 8389, 'condoleezza': 8390, 'olympian': 8391, 'dioxide': 8392, 'cruiser': 8393, 'marcos': 8394, 'basement': 8395, 'rey': 8396, 'congresswoman': 8397, 'churchill': 8398, 'blackout': 8399, 'deliberation': 8400, 'gadget': 8401, 'remittance': 8402, 'napa': 8403, 'rancho': 8404, 'winery': 8405, 'mcafee': 8406, 'perkins': 8407, 'helena': 8408, 'notify': 8409, 'hardy': 8410, 'abkhazia': 8411, 'kroger': 8412, 'woody': 8413, 'misery': 8414, 'balcony': 8415, 'hitler': 8416, 'geoff': 8417, 'overpass': 8418, 'pie': 8419, '34yearold': 8420, 'carr': 8421, 'harrisburg': 8422, 'rapist': 8423, 'exemption': 8424, 'scary': 8425, 'colo': 8426, 'meaningful': 8427, 'therefore': 8428, 'akbar': 8429, 'nbcs': 8430, 'pep': 8431, 'derrick': 8432, 'lynchburg': 8433, 'unicef': 8434, 'hefner': 8435, 'ethernet': 8436, 'affected': 8437, 'kochi': 8438, 'concord': 8439, 'klein': 8440, 'saab': 8441, 'unwanted': 8442, 'excess': 8443, 'gurgaon': 8444, 'cocoa': 8445, 'commando': 8446, 'schoolgirl': 8447, 'essay': 8448, 'aquarium': 8449, 'santander': 8450, 'scot': 8451, 'villain': 8452, 'trafficker': 8453, 'becomes': 8454, 'lng': 8455, 'grope': 8456, 'aerial': 8457, 'farmington': 8458, '10yearold': 8459, 'bb': 8460, 'graf': 8461, 'manning': 8462, 'medic': 8463, 'humane': 8464, 'bcci': 8465, 'monopoly': 8466, 'daly': 8467, 'redmond': 8468, 'assassinate': 8469, 'leann': 8470, 'financially': 8471, 'santiago': 8472, 'grandparent': 8473, 'wiggins': 8474, 'nkorea': 8475, 'highlevel': 8476, 'dmk': 8477, 'politically': 8478, 'vergara': 8479, 'ing': 8480, 'orchard': 8481, 'torus': 8482, 'wang': 8483, 'tin': 8484, 'broadly': 8485, 'rolling': 8486, 'plow': 8487, 'craigslist': 8488, 'romo': 8489, 'impeachment': 8490, 'mack': 8491, '16000': 8492, 'tabloid': 8493, '3yearold': 8494, 'yorkbased': 8495, 'pearson': 8496, 'determination': 8497, 'papua': 8498, '2017': 8499, 'suarez': 8500, 'jolt': 8501, 'photography': 8502, 'betterthanexpected': 8503, 'corps': 8504, 'ki': 8505, 'shaft': 8506, 'barrack': 8507, 'airstrikes': 8508, 'shouldnt': 8509, 'porto': 8510, 'harrington': 8511, 'promising': 8512, 'protein': 8513, 'ci': 8514, 'random': 8515, 'preside': 8516, 'seaside': 8517, 'juniper': 8518, 'strained': 8519, 'jailed': 8520, 'rainy': 8521, 'brittany': 8522, 'unnamed': 8523, 'competent': 8524, 'refusal': 8525, 'seventime': 8526, 'davidson': 8527, 'generale': 8528, 'grim': 8529, 'mammoth': 8530, 'detailed': 8531, 'ar': 8532, 'incredibly': 8533, 'brutally': 8534, 'oh': 8535, 'lamar': 8536, 'carlton': 8537, 'socialite': 8538, 'bryce': 8539, 'karabakh': 8540, 'mischief': 8541, 'tesla': 8542, 'sooner': 8543, 'wesley': 8544, 'microsofts': 8545, 'seymour': 8546, 'ethical': 8547, 'downhill': 8548, 'colonial': 8549, 'parma': 8550, 'sheep': 8551, 'voip': 8552, 'anymore': 8553, '29th': 8554, 'oneida': 8555, 'darfur': 8556, 'italys': 8557, 'semester': 8558, 'fountain': 8559, 'saleh': 8560, 'referral': 8561, 'guardiola': 8562, 'prolific': 8563, 'crux': 8564, 'steele': 8565, 'naacp': 8566, 'cadet': 8567, 'pippa': 8568, '3500': 8569, 'artery': 8570, 'prom': 8571, 'usled': 8572, 'oxygen': 8573, 'strive': 8574, 'spearhead': 8575, 'jetstar': 8576, 'baxter': 8577, 'aggression': 8578, 'meyer': 8579, 'taj': 8580, 'theron': 8581, 'isd': 8582, 'expertise': 8583, 'sunset': 8584, 'symposium': 8585, 'gloria': 8586, 'evangelist': 8587, 'denny': 8588, 'judy': 8589, '787': 8590, '201314': 8591, 'thug': 8592, 'carrey': 8593, 'moses': 8594, 'suresh': 8595, 'fatigue': 8596, 'punter': 8597, '17000': 8598, 'jordanian': 8599, 'spouse': 8600, 'adverse': 8601, 'rhys': 8602, 'nl': 8603, 'hebron': 8604, 'arvind': 8605, 'arrange': 8606, 'rita': 8607, 'fridays': 8608, 'bedford': 8609, 'lima': 8610, '18000': 8611, 'feedback': 8612, 'financier': 8613, 'sculpture': 8614, 'clause': 8615, 'vocal': 8616, 'costly': 8617, 'delinquency': 8618, 'align': 8619, 'pare': 8620, 'bushfire': 8621, 'monterey': 8622, 'stalker': 8623, 'peres': 8624, 'canon': 8625, 'bauer': 8626, 'existence': 8627, 'northbound': 8628, 'grapple': 8629, 'mueller': 8630, 'nursery': 8631, 'icelandic': 8632, '70000': 8633, 'roshan': 8634, 'luncheon': 8635, 'cobra': 8636, 'maxwell': 8637, 'booster': 8638, 'sergei': 8639, 'lexus': 8640, 'lille': 8641, 'karen': 8642, 'delist': 8643, 'holden': 8644, 'roberts': 8645, 'longstanding': 8646, 'handling': 8647, 'geo': 8648, 'lakshmi': 8649, 'horrific': 8650, 'boob': 8651, 'raptor': 8652, 'leslie': 8653, 'julie': 8654, 'shreveport': 8655, 'brock': 8656, 'bakersfield': 8657, 'ah1n1': 8658, 'unlike': 8659, 'fdi': 8660, 'hydro': 8661, 'turnaround': 8662, 'brink': 8663, 'allied': 8664, 'tj': 8665, 'sundance': 8666, 'slaying': 8667, 'ba': 8668, 'click': 8669, 'davenport': 8670, 'ailment': 8671, 'kalam': 8672, 'informal': 8673, 'oslo': 8674, 'ansari': 8675, 'paramount': 8676, 'vanderbilt': 8677, 'fertiliser': 8678, 'rosie': 8679, 'chop': 8680, 'purple': 8681, 'breeze': 8682, 'spite': 8683, 'justify': 8684, 'benazir': 8685, 'subprime': 8686, 'artistic': 8687, 'onstage': 8688, 'geelong': 8689, 'prescott': 8690, 'aer': 8691, 'motorbike': 8692, 'penney': 8693, 'uncomfortable': 8694, 'buoy': 8695, 'ramsay': 8696, 'confusion': 8697, 'insult': 8698, 'groom': 8699, '800000': 8700, 'lenny': 8701, 'thrive': 8702, 'counterterrorism': 8703, 'educate': 8704, 'useful': 8705, 'padukone': 8706, 'heinz': 8707, 'homemade': 8708, 'sheriffs': 8709, 'denial': 8710, 't20': 8711, 'autistic': 8712, 'menace': 8713, 'brick': 8714, 'donna': 8715, 'optimization': 8716, 'embarrass': 8717, 'schneider': 8718, 'snowden': 8719, 'wagner': 8720, '430': 8721, 'mastectomy': 8722, 'parallel': 8723, 'chivas': 8724, 'sonny': 8725, 'axis': 8726, 'fend': 8727, 'jill': 8728, 'edison': 8729, 'spat': 8730, 'acoustic': 8731, 'knowles': 8732, 'greenwood': 8733, 'nordstrom': 8734, 'eas': 8735, 'succumb': 8736, 'sai': 8737, 'malayalam': 8738, 'trinamool': 8739, 'filter': 8740, 'contentious': 8741, 'aggressively': 8742, 'brotherhood': 8743, 'mourner': 8744, 'bluray': 8745, 'diverse': 8746, 'liberian': 8747, 'byron': 8748, 'springbok': 8749, '113': 8750, 'eradicate': 8751, 'patrice': 8752, 'autonomy': 8753, 'intact': 8754, 'luiz': 8755, 'supremo': 8756, 'rite': 8757, 'irving': 8758, 'edit': 8759, 'patron': 8760, 'olympia': 8761, 'warfare': 8762, 'roadway': 8763, 'megastar': 8764, 'giro': 8765, 'om': 8766, 'butte': 8767, 'trinity': 8768, 'kannada': 8769, 'romeo': 8770, 'dear': 8771, 'discontinue': 8772, 'rampant': 8773, 'samesex': 8774, 'butterfly': 8775, 'turk': 8776, 'shy': 8777, 'literary': 8778, 'anton': 8779, 'microwave': 8780, 'amr': 8781, 'ignite': 8782, 'pueblo': 8783, 'thames': 8784, 'xfactor': 8785, 'input': 8786, 'regularly': 8787, 'nortel': 8788, 'hotspot': 8789, 'precision': 8790, 'trayvon': 8791, '114': 8792, 'africanamerican': 8793, 'unborn': 8794, 'paradise': 8795, 'culver': 8796, '24hour': 8797, 'wrongdoing': 8798, 'irrigation': 8799, 'propaganda': 8800, 'peterborough': 8801, 'termination': 8802, 'antigay': 8803, 'cater': 8804, 'painful': 8805, 'yulia': 8806, 'insolvency': 8807, 'uttarakhand': 8808, 'eurovision': 8809, 'bing': 8810, 'antidepressant': 8811, 'kangaroo': 8812, 'companion': 8813, 'ark': 8814, 'telugu': 8815, 'slate': 8816, 'dose': 8817, 'snag': 8818, 'ebooks': 8819, 'edgar': 8820, 'otago': 8821, 'barak': 8822, 'delicious': 8823, 'uconn': 8824, 'heaven': 8825, 'gosling': 8826, 'poorly': 8827, 'sr': 8828, 'brewery': 8829, 'nina': 8830, 'tissue': 8831, 'fujitsu': 8832, 'projection': 8833, 'unofficial': 8834, 'organizational': 8835, 'expedite': 8836, 'hayward': 8837, 'graeme': 8838, 'mia': 8839, 'falter': 8840, 'collarbone': 8841, 'renovate': 8842, 'chatham': 8843, 'backlash': 8844, 'qualification': 8845, 'deere': 8846, 'precautionary': 8847, 'disc': 8848, 'conscience': 8849, 'ira': 8850, 'avatar': 8851, 'compensate': 8852, 'heist': 8853, 'cameo': 8854, 'hay': 8855, 'password': 8856, 'sheryl': 8857, 'salina': 8858, 'pendleton': 8859, 'vet': 8860, 'frequency': 8861, 'shelby': 8862, 'therapist': 8863, '26th': 8864, '37yearold': 8865, 'pumpkin': 8866, 'dissent': 8867, 'brom': 8868, 'truce': 8869, 'falsely': 8870, 'woo': 8871, 'worst': 8872, 'fullyear': 8873, 'jo': 8874, 'fischer': 8875, 'sk': 8876, 'elisabeth': 8877, 'anita': 8878, 'charlize': 8879, 'playbook': 8880, 'ioc': 8881, 'barge': 8882, 'hectare': 8883, 'hutchison': 8884, 'honey': 8885, 'cake': 8886, 'barrett': 8887, 'shakira': 8888, 'butter': 8889, 'doping': 8890, '124': 8891, 'coyle': 8892, 'eni': 8893, 'fails': 8894, 'langley': 8895, 'mechel': 8896, 'lowest': 8897, 'decides': 8898, 'sunrise': 8899, 'exceptional': 8900, 'digit': 8901, 'aspen': 8902, 'wes': 8903, 'limelight': 8904, 'zayed': 8905, 'submission': 8906, 'preorders': 8907, 'yonhap': 8908, 'dalton': 8909, '49yearold': 8910, 'peshawar': 8911, 'welch': 8912, '44yearold': 8913, 'fool': 8914, 'semenya': 8915, 'damn': 8916, 'structural': 8917, 'analyze': 8918, 'pettitte': 8919, 'steadily': 8920, 'unconstitutional': 8921, 'prakash': 8922, 'undergoing': 8923, 'eau': 8924, '270': 8925, 'slumdog': 8926, 'sharemarkets': 8927, 'detonate': 8928, 'mauritius': 8929, 'stormy': 8930, 'fold': 8931, 'bunker': 8932, 'twomonth': 8933, 'highness': 8934, 'dunedin': 8935, 'downey': 8936, 'goat': 8937, 'sheridan': 8938, 'salvage': 8939, 'doc': 8940, 'deaf': 8941, 'fractured': 8942, 'shoplift': 8943, 'dreamworks': 8944, 'pamela': 8945, 'unhappy': 8946, 'duffy': 8947, 'jovi': 8948, 'reggie': 8949, 'precaution': 8950, 'belleville': 8951, 'qureshi': 8952, 'poetry': 8953, 'simulation': 8954, 'mcqueen': 8955, 'newtown': 8956, 'patriarch': 8957, 'communal': 8958, 'dickinson': 8959, 'lens': 8960, 'ivan': 8961, 'pulitzer': 8962, 'pistol': 8963, 'archer': 8964, 'rajesh': 8965, 'sufficient': 8966, 'dominic': 8967, 'cremate': 8968, 'leach': 8969, 'repayment': 8970, 'launcher': 8971, 'benton': 8972, 'chorus': 8973, 'reminder': 8974, 'laud': 8975, 'theo': 8976, 'catastrophe': 8977, 'gambling': 8978, 'fairbanks': 8979, 'middletown': 8980, 'honest': 8981, 'alma': 8982, 'cornell': 8983, 'staffer': 8984, 'petraeus': 8985, 'overthrow': 8986, 'dirk': 8987, '155': 8988, 'niro': 8989, 'orientation': 8990, 'oreilly': 8991, 'congestion': 8992, 'merchandise': 8993, 'developed': 8994, 'thursdays': 8995, 'glastonbury': 8996, 'sgt': 8997, 'gloomy': 8998, 'colbert': 8999, 'grill': 9000, 'bake': 9001, 'slovenian': 9002, 'sainsburys': 9003, 'cam': 9004, 'echl': 9005, 'ghanaian': 9006, 'beyoncé': 9007, 'frustrate': 9008, 'xstrata': 9009, 'yearlong': 9010, 'csi': 9011, 'incoming': 9012, 'lenovo': 9013, 'pre': 9014, 'coli': 9015, 'corbett': 9016, '7500': 9017, 'ringgit': 9018, 'bharat': 9019, 'derry': 9020, 'springsteen': 9021, 'hershey': 9022, 'rubio': 9023, '43yearold': 9024, 'gerry': 9025, 'challenging': 9026, 'linux': 9027, 'jawan': 9028, 'costars': 9029, 'beneath': 9030, 'erect': 9031, 'ugandan': 9032, 'dinosaur': 9033, 'montenegro': 9034, 'whollyowned': 9035, 'breaker': 9036, 'saif': 9037, 'silverstone': 9038, 'reasonable': 9039, 'comptroller': 9040, 'childcare': 9041, 'candle': 9042, 'spoil': 9043, 'weisz': 9044, 'spector': 9045, 'barney': 9046, 'hydrogen': 9047, 'coke': 9048, 'sharad': 9049, 'bancshares': 9050, 'noida': 9051, 'bellevue': 9052, 'gardner': 9053, 'vodka': 9054, 'liberia': 9055, 'waterfront': 9056, 'aire': 9057, 'memo': 9058, 'handcuff': 9059, 'stepfather': 9060, 'unacceptable': 9061, 'liquidation': 9062, 'visible': 9063, 'hoffman': 9064, 'crest': 9065, 'tremor': 9066, 'watt': 9067, 'hanover': 9068, 'rhp': 9069, 'kathy': 9070, 'leftist': 9071, 'spinal': 9072, 'chemotherapy': 9073, 'underlying': 9074, 'fortnight': 9075, 'phrase': 9076, 'fond': 9077, '7yearold': 9078, 'zoe': 9079, 'cheque': 9080, 'lately': 9081, 'jungle': 9082, 'bucharest': 9083, 'floodwaters': 9084, 'presley': 9085, 'threemonth': 9086, 'coincide': 9087, '750000': 9088, 'roar': 9089, 'shakespeare': 9090, 'wisdom': 9091, 'televise': 9092, 'jeweller': 9093, 'sally': 9094, 'screw': 9095, 'caster': 9096, 'molecular': 9097, 'equivalent': 9098, 'slew': 9099, 'descend': 9100, 'memorable': 9101, 'temper': 9102, 'casual': 9103, 'countdown': 9104, 'milo': 9105, 'glamour': 9106, 'toni': 9107, 'cluster': 9108, 'utilize': 9109, 'underwater': 9110, 'genuine': 9111, 'performanceenhancing': 9112, 'rotation': 9113, 'kimoon': 9114, 'lip': 9115, 'toro': 9116, 'mla': 9117, 'carp': 9118, 'ajax': 9119, 'gram': 9120, 'parliamentarian': 9121, 'caregiver': 9122, 'famer': 9123, 'coating': 9124, 'morale': 9125, 'gartner': 9126, 'sudbury': 9127, 'dispatcher': 9128, '1980s': 9129, 'ai': 9130, 'pornographic': 9131, 'weston': 9132, 'ribbon': 9133, 'sargsyan': 9134, 'instruction': 9135, 'vedanta': 9136, 'timely': 9137, 'dispose': 9138, 'irs': 9139, 'superb': 9140, 'loaded': 9141, 'highlander': 9142, 'midway': 9143, 'reluctant': 9144, 'uma': 9145, 'drawing': 9146, 'quarantine': 9147, 'mf': 9148, 'barbados': 9149, 'randolph': 9150, 'adequate': 9151, 'impasse': 9152, 'vera': 9153, 'bolivian': 9154, 'warwick': 9155, 'redding': 9156, 'feat': 9157, 'limp': 9158, 'sin': 9159, 'applegate': 9160, '55yearold': 9161, 'deprive': 9162, 'sarawak': 9163, 'guillermo': 9164, 'juice': 9165, 'sent': 9166, 'durable': 9167, 'glad': 9168, 'monthlong': 9169, 'stiff': 9170, 'buckingham': 9171, 'accurate': 9172, 'goldberg': 9173, 'napoli': 9174, 'palermo': 9175, 'economically': 9176, 'procter': 9177, 'demo': 9178, 'prefers': 9179, 'tulare': 9180, 'bmo': 9181, 'stateoftheart': 9182, 'pantry': 9183, 'din': 9184, 'ransom': 9185, 'censorship': 9186, 'jongil': 9187, 'jurisdiction': 9188, 'decatur': 9189, 'applicant': 9190, 'qatari': 9191, 'karadzic': 9192, 'lastminute': 9193, 'hastings': 9194, 'inverness': 9195, 'gmbh': 9196, 'lethal': 9197, 'goodwin': 9198, 'asias': 9199, 'destiny': 9200, '1999': 9201, 'decker': 9202, 'bridgeport': 9203, '144': 9204, 'intraday': 9205, 'potash': 9206, 'algerian': 9207, 'lockdown': 9208, '80000': 9209, 'albans': 9210, 'burglarize': 9211, 'chapman': 9212, 'asteroid': 9213, 'excise': 9214, 'blank': 9215, 'olivier': 9216, 'dome': 9217, 'curve': 9218, 'curse': 9219, 'diwali': 9220, 'regardless': 9221, 'manipulate': 9222, 'poacher': 9223, 'cebu': 9224, 'affiliation': 9225, 'gregg': 9226, 'vulnerability': 9227, 'festivity': 9228, 'lonely': 9229, 'ivy': 9230, 'jeter': 9231, 'dalglish': 9232, 'impairment': 9233, 'pontiac': 9234, 'fusion': 9235, 'tar': 9236, 'idiot': 9237, 'anfield': 9238, 'extortion': 9239, 'posco': 9240, 'anybody': 9241, 'satisfy': 9242, 'viagra': 9243, 'concludes': 9244, 'dismisses': 9245, 'ballpark': 9246, 'acer': 9247, '280': 9248, 'abilene': 9249, 'whopping': 9250, 'malicious': 9251, 'bald': 9252, 'yves': 9253, 'epilepsy': 9254, 'zinc': 9255, 'invests': 9256, 'endorses': 9257, 'suck': 9258, 'theroux': 9259, '116': 9260, 'reorganize': 9261, 'mortality': 9262, 'diagnostic': 9263, 'marian': 9264, 'ky': 9265, 'met': 9266, 'huntsville': 9267, 'bidding': 9268, 'dedication': 9269, 'watched': 9270, 'behead': 9271, 'hajj': 9272, 'mian': 9273, 'directive': 9274, 'spent': 9275, 'dreamliner': 9276, 'questionable': 9277, '48yearold': 9278, 'forced': 9279, 'sunil': 9280, 'ecstasy': 9281, '325': 9282, 'glaxosmithkline': 9283, 'boehner': 9284, 'gon': 9285, 'accommodate': 9286, 'pinto': 9287, 'arcade': 9288, 'harmful': 9289, 'spider': 9290, 'francois': 9291, '2022': 9292, 'anatomy': 9293, 'outburst': 9294, 'collingwood': 9295, 'stalemate': 9296, 'rashid': 9297, 'improperly': 9298, 'convenient': 9299, 'saratoga': 9300, 'coupon': 9301, '80th': 9302, 'grassroots': 9303, 'caste': 9304, 'urgently': 9305, 'connector': 9306, 'highend': 9307, 'catalog': 9308, '340': 9309, 'pretend': 9310, 'obstacle': 9311, 'criterion': 9312, 'proposition': 9313, 'racine': 9314, 'usb': 9315, 'modesto': 9316, 'writing': 9317, 'specter': 9318, 'shatter': 9319, 'peabody': 9320, 'empowerment': 9321, 'breakup': 9322, 'serzh': 9323, 'basel': 9324, 'tenth': 9325, 'intimidate': 9326, 'rant': 9327, 'cherry': 9328, 'nicky': 9329, 'conserve': 9330, 'nikki': 9331, 'technologies': 9332, 'guess': 9333, 'hrithik': 9334, 'labeouf': 9335, 'missionary': 9336, 'fukushima': 9337, 'glitter': 9338, 'hamlin': 9339, 'oversold': 9340, 'ce': 9341, 'rafa': 9342, 'germanys': 9343, 'pf': 9344, '70th': 9345, 'involuntary': 9346, 'bleak': 9347, 'luggage': 9348, 'latvia': 9349, 'ecofriendly': 9350, 'selective': 9351, 'texting': 9352, 'revolt': 9353, 'cache': 9354, 'nagornokarabakh': 9355, 'flavor': 9356, 'hubby': 9357, 'kirsten': 9358, 'prudential': 9359, 'distress': 9360, 'bundle': 9361, 'glendale': 9362, 'inhalation': 9363, 'marin': 9364, 'limbaugh': 9365, 'sammy': 9366, 'clarksville': 9367, 'madness': 9368, 'innovator': 9369, 'nasty': 9370, 'eligibility': 9371, 'wicketkeeper': 9372, 'woodward': 9373, 'londonbased': 9374, 'swipe': 9375, 'surprising': 9376, 'pant': 9377, 'karim': 9378, 'blvd': 9379, 'westfield': 9380, 'fetch': 9381, 'prospectus': 9382, 'chesterfield': 9383, 'gregory': 9384, 'fluid': 9385, 'shall': 9386, 'beg': 9387, 'reported': 9388, 'carney': 9389, 'nickelodeon': 9390, 'newell': 9391, 'outpost': 9392, 'ramon': 9393, 'freighter': 9394, 'lingus': 9395, 'wartorn': 9396, 'mogadishu': 9397, 'standout': 9398, 'parenthood': 9399, 'starting': 9400, 'pasco': 9401, 'janeiro': 9402, 'fidelity': 9403, 'sabotage': 9404, 'racer': 9405, 'harlequin': 9406, 'overland': 9407, 'beneficiary': 9408, 'flaw': 9409, 'prescribe': 9410, 'sandisk': 9411, 'trinidad': 9412, 'cheyenne': 9413, 'notification': 9414, 'holloway': 9415, 'quantum': 9416, 'preacher': 9417, 'singlevehicle': 9418, 'jeep': 9419, 'ratan': 9420, 'sebi': 9421, 'lantern': 9422, 'frontrunner': 9423, 'sidewalk': 9424, 'nagar': 9425, 'dent': 9426, 'abruptly': 9427, 'italia': 9428, 'roche': 9429, 'stitch': 9430, 'frequently': 9431, 'provoke': 9432, 'guwahati': 9433, 'writes': 9434, 'protective': 9435, 'tacoma': 9436, 'lac': 9437, 'sailing': 9438, 'heating': 9439, 'merck': 9440, 'westjet': 9441, 'mccoy': 9442, 'tease': 9443, 'sub': 9444, 'sinkhole': 9445, 'ecclestone': 9446, 'charitable': 9447, 'penis': 9448, 'goodell': 9449, 'accordance': 9450, 'ricardo': 9451, 'patricia': 9452, 'sacha': 9453, 'rooftop': 9454, 'levee': 9455, 'plantation': 9456, 'ruth': 9457, 'mcguinty': 9458, 'siren': 9459, 'disperse': 9460, 'ashland': 9461, 'summons': 9462, 'spit': 9463, 'unleash': 9464, 'benign': 9465, '1849': 9466, 'migrate': 9467, 'brew': 9468, 'ponzi': 9469, 'asleep': 9470, 'diplomacy': 9471, 'maurice': 9472, 'prague': 9473, 'enormous': 9474, 'intake': 9475, '850': 9476, 'moyes': 9477, 'recount': 9478, 'codeshare': 9479, 'ghaziabad': 9480, 'sharjah': 9481, 'cnns': 9482, 'iqbal': 9483, 'curriculum': 9484, 'waterford': 9485, 'taco': 9486, 'jewel': 9487, 'alpine': 9488, 'seo': 9489, 'extent': 9490, 'pt': 9491, 'readiness': 9492, '1bn': 9493, 'mediation': 9494, 'jefferies': 9495, 'rugged': 9496, '24kg': 9497, 'hussein': 9498, 'ritual': 9499, 'inclusion': 9500, 'shocking': 9501, 'tally': 9502, 'fiancé': 9503, 'liu': 9504, 'confession': 9505, 'digest': 9506, 'kohl': 9507, 'perception': 9508, 'richland': 9509, 'renaissance': 9510, 'apache': 9511, 'annie': 9512, 'bore': 9513, 'piano': 9514, 'footstep': 9515, 'elaborate': 9516, 'pele': 9517, 'lavrov': 9518, 'largescale': 9519, 'ernest': 9520, 'morton': 9521, 'dependence': 9522, 'unarmed': 9523, 'postseason': 9524, 'homophobic': 9525, 'chin': 9526, 'grind': 9527, 'daley': 9528, '700000': 9529, 'cb': 9530, 'paolo': 9531, 'heartbeat': 9532, 'harness': 9533, 'accommodation': 9534, 'heap': 9535, 'bj': 9536, 'encouraging': 9537, 'productive': 9538, 'commonly': 9539, 'locality': 9540, 'botswana': 9541, 'gown': 9542, 'eastenders': 9543, 'enthusiast': 9544, 'fey': 9545, 'showtime': 9546, 'volcanic': 9547, 'extends': 9548, 'webinar': 9549, '5yearold': 9550, 'expedition': 9551, 'lao': 9552, 'bligh': 9553, 'meaning': 9554, 'explicit': 9555, 'automated': 9556, 'angolan': 9557, 'effectiveness': 9558, 'pleasure': 9559, 'frost': 9560, 'whirlpool': 9561, 'westpac': 9562, 'unsure': 9563, 'landowner': 9564, 'shakeup': 9565, 'badminton': 9566, 'kathmandu': 9567, 'biology': 9568, 'suitable': 9569, 'loop': 9570, 'guillen': 9571, 'snooki': 9572, 'macedonian': 9573, 'cahill': 9574, 'ballard': 9575, 'marquette': 9576, 'cher': 9577, 'sims': 9578, 'nowhere': 9579, 'conditional': 9580, 'reassign': 9581, 'cholesterol': 9582, 'ballack': 9583, 'relaunches': 9584, 'nanotechnology': 9585, 'obscene': 9586, 'compulsory': 9587, 'reboot': 9588, 'barricade': 9589, 'hawkes': 9590, 'loses': 9591, 'slice': 9592, 'eads': 9593, 'preparedness': 9594, 'stronghold': 9595, 'bowie': 9596, 'hernia': 9597, 'achilles': 9598, 'sibling': 9599, 'blonde': 9600, 'mistress': 9601, 'remembrance': 9602, 'wheres': 9603, 'asheville': 9604, 'tatum': 9605, 'clemons': 9606, 'caldwell': 9607, 'peoria': 9608, 'confinement': 9609, 'planner': 9610, 'ecosystem': 9611, 'bridal': 9612, 'playwright': 9613, 'getaway': 9614, 'gannett': 9615, 'remembers': 9616, 'saakashvili': 9617, 'collateral': 9618, 'clone': 9619, 'dorset': 9620, 'boast': 9621, 'trucker': 9622, 'ty': 9623, '128': 9624, 'operative': 9625, 'pandemic': 9626, 'lighting': 9627, 'camilla': 9628, 'homosexual': 9629, 'enrol': 9630, 'dilute': 9631, 'vita': 9632, 'cottage': 9633, 'kapil': 9634, 'ganguly': 9635, 'vesta': 9636, 'aziz': 9637, 'iraqs': 9638, 'climber': 9639, 'conocophillips': 9640, 'substation': 9641, 'variant': 9642, 'psa': 9643, 'sag': 9644, 'jayalalithaa': 9645, 'oshkosh': 9646, 'hangover': 9647, 'kicker': 9648, 'jodie': 9649, 'discriminate': 9650, 'captivity': 9651, 'crosse': 9652, 'etc': 9653, 'derails': 9654, 'boiler': 9655, '2yearold': 9656, 'prophet': 9657, 'barbour': 9658, 'interrogation': 9659, 'avon': 9660, '8yearold': 9661, 'swindon': 9662, '830': 9663, 'heater': 9664, 'derailment': 9665, 'collier': 9666, 'rutherford': 9667, 'witch': 9668, 'kimmel': 9669, 'carling': 9670, 'kagan': 9671, 'blessing': 9672, 'sarasota': 9673, 'girls': 9674, 'vault': 9675, 'sever': 9676, 'belly': 9677, 'dominion': 9678, 'baylor': 9679, 'equestrian': 9680, 'californian': 9681, 'seve': 9682, 'yuma': 9683, 'chainsaw': 9684, 'skeletal': 9685, 'inadequate': 9686, 'relaunched': 9687, 'trespass': 9688, 'foxx': 9689, 'vineyard': 9690, 'schoolboy': 9691, 'machete': 9692, 'gibbon': 9693, 'marriott': 9694, 'carve': 9695, 'piston': 9696, 'transitional': 9697, 'hariri': 9698, 'automate': 9699, 'rupture': 9700, 'telefonica': 9701, '11000': 9702, 'cholera': 9703, 'linkedin': 9704, 'diagnosis': 9705, 'nook': 9706, 'grievance': 9707, 'layer': 9708, 'lumia': 9709, '210': 9710, 'hostess': 9711, 'hyde': 9712, 'youll': 9713, 'watkins': 9714, 'swung': 9715, 'dolly': 9716, 'unnecessary': 9717, 'unsafe': 9718, 'stylish': 9719, 'estrange': 9720, 'bcs': 9721, 'practical': 9722, 'ablaze': 9723, 'interact': 9724, 'authorization': 9725, 'gee': 9726, 'ramsey': 9727, 'tweed': 9728, 'bournemouth': 9729, 'rohit': 9730, 'procession': 9731, 'arabic': 9732, 'mdc': 9733, 'painkiller': 9734, 'rhodes': 9735, 'kwazulunatal': 9736, 'tomato': 9737, 'pinellas': 9738, 'allentown': 9739, 'outpace': 9740, 'fifty': 9741, 'wagon': 9742, 'mauritania': 9743, 'rwandan': 9744, 'concedes': 9745, 'smuggling': 9746, 'williamson': 9747, 'fcc': 9748, 'kern': 9749, 'elevate': 9750, 'hasan': 9751, 'rana': 9752, 'wiz': 9753, 'aiken': 9754, 'espionage': 9755, '3m': 9756, 'consul': 9757, 'vp': 9758, 'recede': 9759, 'cesc': 9760, 'applaud': 9761, 'disk': 9762, 'beacon': 9763, 'sniper': 9764, 'demographic': 9765, 'rematch': 9766, 'cadbury': 9767, 'grammywinning': 9768, 'khalid': 9769, 'saginaw': 9770, 'cutting': 9771, 'booze': 9772, 'devastating': 9773, 'diversified': 9774, 'biotech': 9775, '275': 9776, 'camper': 9777, 'scatter': 9778, 'diocese': 9779, 'speculate': 9780, 'vaughn': 9781, '117': 9782, 'ebook': 9783, 'practitioner': 9784, 'optimize': 9785, 'mahesh': 9786, 'hooker': 9787, 'bodyguard': 9788, 'oswego': 9789, 'clive': 9790, 'hightech': 9791, 'battlefield': 9792, 'frenchman': 9793, 'easton': 9794, 'subcommittee': 9795, 'latenight': 9796, 'offduty': 9797, 'handler': 9798, 'norris': 9799, 'delete': 9800, 'leyland': 9801, 'hivaids': 9802, 'waikato': 9803, 'buchanan': 9804, 'ernie': 9805, 'zack': 9806, 'mumford': 9807, 'acting': 9808, 'slavery': 9809, 'tharoor': 9810, '2611': 9811, 'weed': 9812, 'nomura': 9813, 'gwinnett': 9814, 'indira': 9815, 'unification': 9816, 'behave': 9817, 'residency': 9818, '1994': 9819, 'californiabased': 9820, 'harmony': 9821, 'foley': 9822, 'qualifying': 9823, 'biodiesel': 9824, 'bladder': 9825, 'no1': 9826, 'amarnath': 9827, 'vary': 9828, 'voucher': 9829, 'amd': 9830, 'maneuver': 9831, 'joanna': 9832, 'zynga': 9833, 'bookstore': 9834, 'inventor': 9835, 'basf': 9836, 'propane': 9837, 'incite': 9838, 'peanut': 9839, 'revisit': 9840, 'rabid': 9841, 'middlesex': 9842, 'mutation': 9843, 'majesty': 9844, 'rubble': 9845, 'threshold': 9846, 'beast': 9847, 'fulton': 9848, 'salesforcecom': 9849, 'joshi': 9850, 'hindustan': 9851, 'ligue': 9852, 'pellet': 9853, 'monarch': 9854, 'loc': 9855, 'biodiversity': 9856, 'interfax': 9857, 'winston': 9858, 'classify': 9859, 'bowel': 9860, 'scifi': 9861, 'seacrest': 9862, 'emanuel': 9863, 'blackrock': 9864, 'jaya': 9865, 'sheila': 9866, 'interference': 9867, 'sikkim': 9868, 'showcased': 9869, 'megawatt': 9870, 'fuller': 9871, 'skid': 9872, 'leather': 9873, 'telenor': 9874, 'maggie': 9875, 'symantec': 9876, 'provocative': 9877, 'midst': 9878, 'assassin': 9879, 'hollyoaks': 9880, 'glitch': 9881, 'establishes': 9882, 'lcd': 9883, 'annuity': 9884, 'mansfield': 9885, 'transient': 9886, 'paralyze': 9887, 'venice': 9888, 'vaughan': 9889, '129': 9890, 'bracket': 9891, 'novartis': 9892, 'kenneth': 9893, 'fabregas': 9894, 'creep': 9895, 'withhold': 9896, 'hears': 9897, 'qualifies': 9898, 'erupts': 9899, 'hurry': 9900, 'ravage': 9901, 'millionth': 9902, 'rockford': 9903, 'yearend': 9904, 'supervise': 9905, 'metlife': 9906, 'measurement': 9907, 'utica': 9908, 'barlow': 9909, 'trinations': 9910, '330': 9911, 'taoiseach': 9912, 'iberia': 9913, 'setup': 9914, 'kidnapper': 9915, 'eyewitness': 9916, 'recreational': 9917, 'calorie': 9918, 'trenton': 9919, 'mclean': 9920, 'awesome': 9921, 'worship': 9922, 'ditalia': 9923, 'minibus': 9924, 'filly': 9925, 'ibf': 9926, 'airborne': 9927, 'bremen': 9928, 'nextel': 9929, 'philanthropist': 9930, 'arch': 9931, 'exact': 9932, 'pardew': 9933, 'instagram': 9934, 'capitalize': 9935, 'playmaker': 9936, 'bragg': 9937, 'fe': 9938, 'sufferer': 9939, 'dez': 9940, 'environmentally': 9941, 'andreas': 9942, 'triangle': 9943, 'cod': 9944, 'cathay': 9945, 'intimidation': 9946, 'qualcomm': 9947, 'prefecture': 9948, 'caller': 9949, 'hygiene': 9950, 'humble': 9951, 'blatter': 9952, 'mcnair': 9953, 'webbased': 9954, 'aversion': 9955, 'nehru': 9956, 'mladic': 9957, 'binge': 9958, 'farc': 9959, 'doyle': 9960, 'singaporean': 9961, '118': 9962, 'takeoff': 9963, 'classical': 9964, 'homecoming': 9965, 'overlook': 9966, 'aspirin': 9967, 'tallahassee': 9968, '20102011': 9969, 'creed': 9970, 'depict': 9971, 'basically': 9972, 'clothe': 9973, 'oneoff': 9974, '76ers': 9975, 'overdue': 9976, 'evansville': 9977, 'congolese': 9978, 'enrique': 9979, 'militancy': 9980, 'defiant': 9981, 'responder': 9982, 'ozzy': 9983, 'hbos': 9984, 'digvijay': 9985, 'eruption': 9986, 'preorder': 9987, 'pitching': 9988, 'dupont': 9989, 'darlington': 9990, 'gamers': 9991, 'presbyterian': 9992, 'marley': 9993, 'agitation': 9994, 'jumper': 9995, 'cit': 9996, 'eps': 9997, 'saunders': 9998, 'pinch': 9999}\n"
     ]
    }
   ],
   "source": [
    "vocab_size = 10_000\n",
    "vocab = vocab_counter.most_common(vocab_size)\n",
    "token_to_id = {word: i for i, (word, _) in enumerate(vocab)}\n",
    "print(token_to_id)"
   ]
  },
  {
   "cell_type": "markdown",
   "metadata": {
    "collapsed": false,
    "pycharm": {
     "name": "#%% md\n"
    }
   },
   "source": [
    "<a name='e4'></a>\n",
    "### Exercise 4: Bag of Words\n",
    "(1p) Here we will create the bag-of-words representation of the sentences. The function will take a single sentence (list of tokens) and return an array of size `vocab_size` with the counts of each word in the vocabulary. The\n",
    "`vocab_size` is calculated as the length of the passed `token_to_id` dictionary. The resulting array should have zeros everywhere but the indices corresponding to the words in the vocabulary where it should have the counts of the words in the sentence. For example, if the sentence is `['fox', 'and', 'deer']` and the vocabulary is `{'fox': 0, 'and': 1, 'deer': 2}`, the resulting array should be `[1, 1, 1]`. If the sentence is `['fox', 'and', 'fox', 'deer']`, the resulting array should be `[2, 1, 1]`."
   ]
  },
  {
   "cell_type": "code",
   "execution_count": 24,
   "metadata": {
    "collapsed": false,
    "pycharm": {
     "name": "#%%\n"
    }
   },
   "outputs": [],
   "source": [
    "def bag_of_words(sentence, token_to_id):\n",
    "    \"\"\"\n",
    "    Creates a bag-of-words representation of the sentence\n",
    "    Args:\n",
    "        sentence: a list of tokens\n",
    "        token_to_id: a dictionary mapping each word to an index in the vocabulary\n",
    "\n",
    "    Returns:: a numpy array of size vocab_size with the counts of each word in the vocabulary\n",
    "\n",
    "    \"\"\"\n",
    "    vocab_size = len(token_to_id)\n",
    "    bow = np.zeros(vocab_size, dtype=int)\n",
    "\n",
    "    ### YOUR CODE HERE\n",
    "\n",
    "    for n in sentence:\n",
    "        if n in token_to_id.keys():\n",
    "            id = token_to_id[n]\n",
    "            bow[id]+=1\n",
    "\n",
    "\n",
    "\n",
    "    ### YOUR CODE ENDS HERE\n",
    "\n",
    "    return bow"
   ]
  },
  {
   "cell_type": "markdown",
   "metadata": {
    "collapsed": false,
    "pycharm": {
     "name": "#%% md\n"
    }
   },
   "source": [
    "Let's see how the function works on a single sentence. The output should be a numpy array of size `vocab_size` with the counts of each word in the vocabulary."
   ]
  },
  {
   "cell_type": "code",
   "execution_count": 25,
   "metadata": {
    "collapsed": false,
    "pycharm": {
     "name": "#%%\n"
    }
   },
   "outputs": [
    {
     "name": "stdout",
     "output_type": "stream",
     "text": [
      "Tokenized sentence:\n",
      "['internationally', 'renowned', 'irish', 'chamber', 'orchestra', 'camerata', 'ireland', 'and', 'awardwinning', 'pianist', 'barry', 'douglas', 'with', 'soprano', 'celine', 'byrne', 'come', 'to', 'central', 'florida', 'for', 'a', 'oneperformanceonly', 'engagement']\n",
      "Bag of words:\n",
      "[0 1 1 ... 0 0 0]\n",
      "Type of bag of words:\n",
      "<class 'numpy.ndarray'>\n",
      "Shape of bag of words:\n",
      "(10000,)\n",
      "Non-zero elements in bag of words:\n",
      "[   1    2    6    9   11  176  344  692 1221 1484 2463 2857 2882 3402\n",
      " 3750 4829 4875 6725 7935 8070]\n"
     ]
    }
   ],
   "source": [
    "print('Tokenized sentence:')\n",
    "print(tokenized_sentences[0])\n",
    "sentence_bow = bag_of_words(tokenized_sentences[0], token_to_id)\n",
    "\n",
    "print('Bag of words:')\n",
    "print(sentence_bow)\n",
    "print('Type of bag of words:')\n",
    "print(type(sentence_bow))\n",
    "print('Shape of bag of words:')\n",
    "print(sentence_bow.shape)\n",
    "print('Non-zero elements in bag of words:')\n",
    "print(np.nonzero(sentence_bow)[0])"
   ]
  },
  {
   "cell_type": "markdown",
   "metadata": {
    "collapsed": false,
    "pycharm": {
     "name": "#%% md\n"
    }
   },
   "source": [
    "We can also check in detail what words and their counts are in the bag-of-words representation."
   ]
  },
  {
   "cell_type": "code",
   "execution_count": 26,
   "metadata": {
    "collapsed": false,
    "pycharm": {
     "name": "#%%\n"
    }
   },
   "outputs": [
    {
     "name": "stdout",
     "output_type": "stream",
     "text": [
      "Non-zero elements in bag of words:\n",
      "[   1    2    6    9   11  176  344  692 1221 1484 2463 2857 2882 3402\n",
      " 3750 4829 4875 6725 7935 8070]\n",
      "a : 1\n",
      "to : 1\n",
      "and : 1\n",
      "for : 1\n",
      "with : 1\n",
      "come : 1\n",
      "central : 1\n",
      "florida : 1\n",
      "ireland : 1\n",
      "irish : 1\n",
      "engagement : 1\n",
      "barry : 1\n",
      "chamber : 1\n",
      "douglas : 1\n",
      "awardwinning : 1\n",
      "orchestra : 1\n",
      "renowned : 1\n",
      "internationally : 1\n",
      "byrne : 1\n",
      "pianist : 1\n"
     ]
    }
   ],
   "source": [
    "sentence_non_zero_bow = np.nonzero(sentence_bow)[0]\n",
    "print('Non-zero elements in bag of words:')\n",
    "print(sentence_non_zero_bow)\n",
    "for i in sentence_non_zero_bow:\n",
    "    print(vocab[i][0], ':', sentence_bow[i])"
   ]
  },
  {
   "cell_type": "markdown",
   "metadata": {
    "collapsed": false,
    "pycharm": {
     "name": "#%% md\n"
    }
   },
   "source": [
    "The following function will apply all the steps we implemented to a single sentence. It returns a bag of words representation that we will use to calculate the similarity between different sentences."
   ]
  },
  {
   "cell_type": "code",
   "execution_count": 27,
   "metadata": {
    "collapsed": false,
    "pycharm": {
     "name": "#%%\n"
    }
   },
   "outputs": [],
   "source": [
    "def embed_text(text, clean_fn, tokenize_fn, embed_fn):\n",
    "    cleaned = clean_fn(text)\n",
    "    tokens = tokenize_fn(cleaned)\n",
    "    embedding = embed_fn(tokens)\n",
    "    return embedding"
   ]
  },
  {
   "cell_type": "markdown",
   "metadata": {
    "collapsed": false,
    "pycharm": {
     "name": "#%% md\n"
    }
   },
   "source": [
    "<a name='e5'></a>\n",
    "### Exercise 5: Cosine Similarity between two vectors\n",
    "\n",
    "(1p) Complete the following function that given any two vectors will compute the cosine similarity. If you don't remember the formula for the cosine similarity, revisit the course material. Notice that the function receives numpy arrays and recall that you can express cosine similarity as a dot product. Use numpy functions to write an efficient implementation."
   ]
  },
  {
   "cell_type": "code",
   "execution_count": 28,
   "metadata": {
    "collapsed": false,
    "pycharm": {
     "name": "#%%\n"
    }
   },
   "outputs": [],
   "source": [
    "def cosine_similarity(vector1, vector2):\n",
    "    \"\"\"\n",
    "    Computes the cosine similarity between two vectors\n",
    "    Args:\n",
    "        vector1: numpy array of the first vector\n",
    "        vector2: numpy array of the second vector\n",
    "\n",
    "    Returns: cosine similarity\n",
    "\n",
    "    \"\"\"\n",
    "    ### YOUR CODE HERE\n",
    "    norm_1 = np.linalg.norm(vector1)\n",
    "    normalized_vec_1 = vector1/norm_1\n",
    "\n",
    "    norm_2 = np.linalg.norm(vector2)\n",
    "    normalized_vec_2 = vector2/norm_2\n",
    "\n",
    "    similarity = np.dot(normalized_vec_1, normalized_vec_2)\n",
    "\n",
    "    return similarity\n",
    "    ### YOUR CODE ENDS HERE"
   ]
  },
  {
   "cell_type": "code",
   "execution_count": 29,
   "metadata": {
    "collapsed": false,
    "pycharm": {
     "name": "#%%\n"
    }
   },
   "outputs": [
    {
     "data": {
      "text/plain": [
       "0.9999999999999999"
      ]
     },
     "execution_count": 29,
     "metadata": {},
     "output_type": "execute_result"
    }
   ],
   "source": [
    "cosine_similarity(np.array([0, 1, 2]), np.array([0, 2, 4]))"
   ]
  },
  {
   "cell_type": "code",
   "execution_count": 30,
   "metadata": {
    "collapsed": false,
    "pycharm": {
     "name": "#%%\n"
    }
   },
   "outputs": [
    {
     "name": "stdout",
     "output_type": "stream",
     "text": [
      "Query: fox and deer\n",
      "Cosine Similarity: 0.1826 - Sentence: The quick brown fox jumps over the lazy dog.\n",
      "Cosine Similarity: 0.0000 - Sentence: Some interesting document containin sentences.\n",
      "Cosine Similarity: 0.3086 - Sentence: The quick brown fox jumps over the lazy cat and some other stuff.\n",
      "Cosine Similarity: 0.7071 - Sentence: Fox and deer are not friends.\n",
      "Cosine Similarity: 0.3849 - Sentence: Fox and deer are not friends. But this document is a lot longer than the previous one. We can add sentence by sentence and see how the embeddings change.\n"
     ]
    }
   ],
   "source": [
    "sentences = [\n",
    "    'The quick brown fox jumps over the lazy dog.',\n",
    "    'Some interesting document containin sentences.',\n",
    "    'The quick brown fox jumps over the lazy cat and some other stuff.',\n",
    "    'Fox and deer are not friends.',\n",
    "    'Fox and deer are not friends. But this document is a lot longer than the previous one. We can add sentence by sentence and see how the embeddings change.',\n",
    "]\n",
    "embedded_sentences = [\n",
    "    embed_text(sentence, clean, tokenize, lambda x: bag_of_words(x, token_to_id))\n",
    "    for sentence in sentences\n",
    "]\n",
    "\n",
    "query = 'fox and deer'\n",
    "embedded_query = embed_text(query, clean, tokenize, lambda x: bag_of_words(x, token_to_id))\n",
    "\n",
    "cosine_similarities = [\n",
    "    cosine_similarity(embedded_query, embedded_sentence)\n",
    "    for embedded_sentence in embedded_sentences\n",
    "]\n",
    "print(f'Query: {query}')\n",
    "for sent, cos_sim in zip(sentences, cosine_similarities):\n",
    "    print(f'Cosine Similarity: {cos_sim:.4f} - Sentence: {sent}')"
   ]
  },
  {
   "cell_type": "markdown",
   "metadata": {
    "collapsed": false,
    "pycharm": {
     "name": "#%% md\n"
    }
   },
   "source": [
    "We will apply the function to the whole dataset. This might take a while, so be patient. The result will be stored in the `sentence_bow` and `compressed_bow` fields of the dataset."
   ]
  },
  {
   "cell_type": "code",
   "execution_count": 31,
   "metadata": {
    "collapsed": false,
    "pycharm": {
     "name": "#%%\n"
    }
   },
   "outputs": [],
   "source": [
    "def bag_of_words_dataset(example):\n",
    "    \"\"\"\n",
    "    Creates a bag-of-words representation of the sentence and compressed sentence in the example from the Dataset\n",
    "    Args:\n",
    "        example: an example from the Dataset\n",
    "\n",
    "    Returns: updated example with 'sentence_bow' and 'compressed_bow' columns\n",
    "\n",
    "    \"\"\"\n",
    "    sentence_tokens = example['sentence_tokens']\n",
    "    compressed_tokens = example['compressed_tokens']\n",
    "\n",
    "    sentence_bow = bag_of_words(sentence_tokens, token_to_id)\n",
    "    compressed_bow = bag_of_words(compressed_tokens, token_to_id)\n",
    "\n",
    "    example['sentence_bow'] = sentence_bow\n",
    "    example['compressed_bow'] = compressed_bow\n",
    "    return example"
   ]
  },
  {
   "cell_type": "markdown",
   "metadata": {
    "collapsed": false,
    "pycharm": {
     "name": "#%% md\n"
    }
   },
   "source": [
    "The following cell will apply the function to the whole dataset. The result will be stored in the `sentence_bow` and `compressed_bow` fields of the dataset. We will also convert the dataset's fields `sentence_bow` and `compressed_bow` to numpy format for easier manipulation."
   ]
  },
  {
   "cell_type": "code",
   "execution_count": 32,
   "metadata": {
    "collapsed": false,
    "pycharm": {
     "name": "#%%\n"
    }
   },
   "outputs": [
    {
     "data": {
      "application/vnd.jupyter.widget-view+json": {
       "model_id": "a0fb96fb008d4aee8f2d458c2f28fd52",
       "version_major": 2,
       "version_minor": 0
      },
      "text/plain": [
       "Map:   0%|          | 0/36000 [00:00<?, ? examples/s]"
      ]
     },
     "metadata": {},
     "output_type": "display_data"
    },
    {
     "name": "stdout",
     "output_type": "stream",
     "text": [
      "Dataset({\n",
      "    features: ['set', 'clean_sentence', 'clean_compressed', 'sentence_tokens', 'compressed_tokens', 'sentence_bow', 'compressed_bow'],\n",
      "    num_rows: 36000\n",
      "})\n"
     ]
    }
   ],
   "source": [
    "test_ds = split_ds['test'].map(bag_of_words_dataset)\n",
    "test_ds = test_ds.with_format('np', columns=['sentence_bow', 'compressed_bow'], dtype=float)\n",
    "print(test_ds)"
   ]
  },
  {
   "cell_type": "markdown",
   "metadata": {
    "collapsed": false,
    "pycharm": {
     "name": "#%% md\n"
    }
   },
   "source": [
    "Let's check the results. The `sentence_bow` and `compressed_bow` fields should contain the bag-of-words representation of the sentences and compressed sentences, respectively."
   ]
  },
  {
   "cell_type": "code",
   "execution_count": 33,
   "metadata": {
    "collapsed": false,
    "pycharm": {
     "name": "#%%\n"
    }
   },
   "outputs": [
    {
     "name": "stdout",
     "output_type": "stream",
     "text": [
      "{'sentence_bow': array([0., 1., 0., ..., 0., 0., 0.]), 'compressed_bow': array([0., 0., 0., ..., 0., 0., 0.])}\n"
     ]
    }
   ],
   "source": [
    "print(test_ds[0])"
   ]
  },
  {
   "cell_type": "code",
   "execution_count": 34,
   "metadata": {
    "collapsed": false,
    "pycharm": {
     "name": "#%%\n"
    }
   },
   "outputs": [
    {
     "name": "stdout",
     "output_type": "stream",
     "text": [
      "(36000, 10000)\n"
     ]
    }
   ],
   "source": [
    "sentences_bows = test_ds['sentence_bow']\n",
    "print(sentences_bows.shape)"
   ]
  },
  {
   "cell_type": "markdown",
   "metadata": {
    "collapsed": false,
    "pycharm": {
     "name": "#%% md\n"
    }
   },
   "source": [
    "Now we can start building a retriever based on the bag of words representation. The first step is to calculate the cosine similarity between two vectors."
   ]
  },
  {
   "cell_type": "markdown",
   "metadata": {
    "collapsed": false,
    "pycharm": {
     "name": "#%% md\n"
    }
   },
   "source": [
    "<a name='e6'></a>\n",
    "### Exercise 6: Cosine Similarity between a vector and an array of vectors\n",
    "\n",
    "(2p) The next step in our retrieval system, would be to calculate the proximity of a query to our retrieval corpus (in our case that is all the sentences).\n",
    "\n",
    "Complete the following function to calculate the cosine similarity between a vector (first parameter `vector`, that will usually be the query vector) and all other vectors (second parameter `other_vectors`, that will be the sentence embeddings in our case). Note that the `other_vectors` parameter is a single numpy array of size `N x D`, where $N$ is the number of vectors and $D$ is the dimension of each vector.\n",
    "\n",
    "For maximum efficiency (we will need it) do not use loops. Try to write the implementation with numpy functions. Hint: matrix multiplication can be seen as calculating the dot product between rows and columns of the multiplied matrices."
   ]
  },
  {
   "cell_type": "code",
   "execution_count": 35,
   "metadata": {
    "id": "LgaV2b3fpSOR",
    "pycharm": {
     "name": "#%%\n"
    }
   },
   "outputs": [],
   "source": [
    "def cosine_similarity_1_to_n(vector, other_vectors):\n",
    "    \"\"\"\n",
    "    Calculates the cosine similarity between a single vector and other vectors.\n",
    "    Args:\n",
    "        vector: a numpy array representing a vector of D dimensions\n",
    "        other_vectors: a 2D numpy array representing other vectors (of the size NxD, where N is the number of vectors and D is their dimension)\n",
    "\n",
    "    Returns: a 1D numpy array of size N containing the cosine similarity between the vector and all the other vectors\n",
    "\n",
    "    \"\"\"\n",
    "\n",
    "    #### YOUR CODE HERE\n",
    "    dot_product = np.dot(other_vectors, vector) # 1xN vector\n",
    "    norms_others = np.linalg.norm(other_vectors, axis=1)\n",
    "    norm_vector = np.linalg.norm(vector)\n",
    "\n",
    "    similarities_vector = dot_product/(norm_vector*norms_others)\n",
    "\n",
    "    return similarities_vector\n",
    "\n",
    "    ### YOUR CODE ENDS HERE"
   ]
  },
  {
   "cell_type": "markdown",
   "metadata": {
    "collapsed": false,
    "id": "irNqAJZLpSOR",
    "pycharm": {
     "name": "#%% md\n"
    }
   },
   "source": [
    "We will use the function to calculate the similarity of all sentences in the dataset to our query."
   ]
  },
  {
   "cell_type": "code",
   "execution_count": 36,
   "metadata": {
    "collapsed": false,
    "pycharm": {
     "name": "#%%\n"
    }
   },
   "outputs": [],
   "source": [
    "query = 'fox and deer'\n",
    "embedded_query = embed_text(query, clean, tokenize, lambda x: bag_of_words(x, token_to_id))\n"
   ]
  },
  {
   "cell_type": "code",
   "execution_count": 37,
   "metadata": {
    "id": "uD9mVAhYpSOR",
    "pycharm": {
     "name": "#%%\n"
    }
   },
   "outputs": [
    {
     "name": "stdout",
     "output_type": "stream",
     "text": [
      "(36000,)\n",
      "[0.         0.         0.11547005 0.         0.10540926 0.\n",
      " 0.         0.17609018 0.         0.0727393 ]\n"
     ]
    }
   ],
   "source": [
    "query_similarity = cosine_similarity_1_to_n(embedded_query, sentences_bows)\n",
    "print(query_similarity.shape)\n",
    "print(query_similarity[:10])"
   ]
  },
  {
   "cell_type": "markdown",
   "metadata": {
    "collapsed": false,
    "id": "_l3erVTNpSOR",
    "pycharm": {
     "name": "#%% md\n"
    }
   },
   "source": [
    "The following cell will select the most similar sentence."
   ]
  },
  {
   "cell_type": "code",
   "execution_count": 38,
   "metadata": {
    "id": "0wWa4AWHpSOR",
    "pycharm": {
     "name": "#%%\n"
    }
   },
   "outputs": [
    {
     "name": "stdout",
     "output_type": "stream",
     "text": [
      "2934\n",
      "0.4082482904638631\n",
      "``The Sensex has supports at 17,520 and 17,380 and resistances at 17,710 and 17,830. The Nifty has supports at 5,300 and 5,270 and resistances at 5,370 and 5,400,`` it added.\n"
     ]
    }
   ],
   "source": [
    "most_similar = int(np.argmax(query_similarity))\n",
    "print(most_similar)\n",
    "print(query_similarity[most_similar])\n",
    "print(split_ds['test'][most_similar]['set'][0])\n"
   ]
  },
  {
   "cell_type": "markdown",
   "metadata": {
    "collapsed": false,
    "id": "fpdJHFD1pSOR",
    "pycharm": {
     "name": "#%% md\n"
    }
   },
   "source": [
    "The following function will return the indices of the top-k elements in the array."
   ]
  },
  {
   "cell_type": "code",
   "execution_count": 39,
   "metadata": {
    "id": "QFUNI9elpSOS",
    "pycharm": {
     "name": "#%%\n"
    }
   },
   "outputs": [],
   "source": [
    "def top_k_indices(array, k, sorted=True):\n",
    "    \"\"\"\n",
    "    Returns top-k indices from the 1D array. If `sorted` is `True` the returned indices are sorted in the descending order\n",
    "    Args:\n",
    "        array: a 1D numpy array\n",
    "        k: a number of top indices to return\n",
    "        sorted: if True, the returned indices are sorted in descending order\n",
    "\n",
    "    Returns: a 1D array containing top-k indices\n",
    "\n",
    "    \"\"\"\n",
    "    top_k = np.argpartition(array, -k)[-k:]\n",
    "    if sorted:\n",
    "        selected = array[top_k]\n",
    "        sorted_selected = (-selected).argsort()\n",
    "        top_k = top_k[sorted_selected]\n",
    "    return top_k"
   ]
  },
  {
   "cell_type": "code",
   "execution_count": 40,
   "metadata": {
    "id": "nY8vvJdepSOS",
    "pycharm": {
     "name": "#%%\n"
    }
   },
   "outputs": [
    {
     "name": "stdout",
     "output_type": "stream",
     "text": [
      "CW INDUSTRIES High density rectangular connector with enhanced retention and solderability, meets the requirements of MIL-DTL-28804 and NAVSEA 3164341 and 3164342 specifications.\n",
      "similarity: 0.4082482904638631\n",
      "``The Sensex has supports at 17,520 and 17,380 and resistances at 17,710 and 17,830. The Nifty has supports at 5,300 and 5,270 and resistances at 5,370 and 5,400,`` it added.\n",
      "similarity: 0.4082482904638631\n",
      "Heide and Cook Ltd. is restructuring its business to focus on heating, ventilation and air conditioning services, and CFO and Executive Vice President Dexter Kekua is retiring and will not be replaced.\n",
      "similarity: 0.39652579285907213\n",
      "Singapore and Australia reaffirmed on Monday to enhance bilateral ties and strengthen cooperation on regional and international political, economic and security developments.\n",
      "similarity: 0.3849001794597505\n",
      "Chinese ambassador to Australia Zhang Junsai on Tuesday called for broader and further cooperation between China and Australia in such areas as energy and resources, education and tourism, and in environmental protection, particularly in the time of the global financial crisis and economic downturn.\n",
      "similarity: 0.38254602783800296\n",
      "``While consumer durables, telecom and IT lead the gainers, auto, power and capital goods were the top losers. The Sensex fell by 16.9 points or 0.1% to 17,301.9 and the Nifty fell to 5,239.2, down 9.0 points or 0.2%. The Sensex has supports at 17,210 and 17,000 and resistances at 17,430 and 17,530. The Nifty has supports at 5,220 and 5,180 and resistances at 5,280 and 5,310.``\n",
      "similarity: 0.3799802978286742\n",
      "and table-top clear epoxy, which can be shaped, edged, and engraved with ordinary router once it has set and cured.\n",
      "similarity: 0.37796447300922725\n",
      "SCHOOLGROUND knife and weapon attacks have doubled in 10 years and are as common as bar-room stabbings and glassings.\n",
      "similarity: 0.37796447300922725\n",
      "SKANEATELES FALLS, NY & CHELMSFORD, Mass.---Welch Allyn Inc. and ZOLL Medical Corporation announced today a comprehensive strategic alliance regarding research and development, manufacturing, sales, service, and distribution relating to Welch Allyn's defibrillation and monitoring products.\n",
      "similarity: 0.37463432463267765\n",
      "Varian Medical Systems today is celebrating its tenth anniversary and a decade of growth and innovation in life-saving technology utilizing X-ray energy for cancer treatment, imaging, and security and inspection.\n",
      "similarity: 0.36980013081681945\n"
     ]
    }
   ],
   "source": [
    "top_indices = top_k_indices(query_similarity, k=10).tolist()\n",
    "for idx in top_indices:\n",
    "    print(split_ds['test'][idx]['set'][0])\n",
    "    print(f'similarity: {query_similarity[idx]}')"
   ]
  },
  {
   "cell_type": "markdown",
   "metadata": {
    "collapsed": false,
    "id": "BuRI2JzQpSOS",
    "pycharm": {
     "name": "#%% md\n"
    }
   },
   "source": [
    "<a name='e7'></a>\n",
    "### Exercise 7: Analyzing and improving BOW search results\n",
    "\n",
    "Experiment with different queries (taking into account the nature of the dataset and your insights from the analysis so far).\n",
    "Answer the following questions:\n",
    "- (5p) Does the search perform well? When does it fail? Discuss several examples that are we get an expected but also unexpected results (find at least 3 from each category). Provide reasons for the good/bad result in each case (e.g. is there some error in the data, is there some linguistic phenomenon that we don't capture, is something wrong with our modeling with average embeddings, ...)\n",
    "- (5p) If you see problems with search, how could you improve your implementation? Change the functions above, if you think there is room for improvement. Describe your changes and how they made the search better or (in case you made no changes) explain what made the search robust enough to work well."
   ]
  },
  {
   "cell_type": "markdown",
   "metadata": {},
   "source": [
    "### Answer "
   ]
  },
  {
   "cell_type": "markdown",
   "metadata": {},
   "source": [
    "First of all, just from the example above we can see that our search does not perform well. We searched for 'fox and deer' but as we didn't clean the stop words ('the', 'and' ) and as we use just a simple BOE, the sentences with a lot of 'and' is found, which is completely useless for us. \n",
    "So: \n"
   ]
  },
  {
   "cell_type": "markdown",
   "metadata": {},
   "source": [
    " **1) Search doesn't perform well when there are stop words in the query.**"
   ]
  },
  {
   "cell_type": "markdown",
   "metadata": {},
   "source": [
    "Also, let's create a convenient function to perform searches:"
   ]
  },
  {
   "cell_type": "code",
   "execution_count": 41,
   "metadata": {},
   "outputs": [],
   "source": [
    "def perform_search(query, num_results=5):\n",
    "\n",
    "    embedded_query = embed_text(query, clean, tokenize, lambda x: bag_of_words(x, token_to_id))\n",
    "    query_similarity = cosine_similarity_1_to_n(embedded_query, sentences_bows)\n",
    "    top_indices = top_k_indices(query_similarity, k=num_results).tolist()\n",
    "    for idx in top_indices:\n",
    "        print(split_ds['test'][idx]['set'][0])"
   ]
  },
  {
   "cell_type": "code",
   "execution_count": 42,
   "metadata": {},
   "outputs": [
    {
     "name": "stdout",
     "output_type": "stream",
     "text": [
      "Charlotte and Port Charlotte high school students enrolled in Liang Wang's Chinese class celebrate the Chinese New Year.\n",
      "Shanghai-based Chinese steel giant Baosteel signs a cooperation contract with Hebei-based Chinese automobile maker Great Wall Motor Company Limited, according to media reports.\n",
      "An interaction program on Chinese publication was held Friday in Nepali capital Kathmandu to mark the coming Chinese New Year.\n",
      "AP , 06.08.11, 08:25 AM EDT Taiwanese and Chinese negotiators says Taiwan will let Chinese tourists travel alone on the island starting in late June.\n",
      "Chinese Premier Wen Jiabao will visit Brunei Darussalam next month, the first by the Chinese premier to the Sultanate.\n"
     ]
    }
   ],
   "source": [
    "perform_search('Chinese planes')\n"
   ]
  },
  {
   "cell_type": "code",
   "execution_count": 43,
   "metadata": {},
   "outputs": [
    {
     "name": "stdout",
     "output_type": "stream",
     "text": [
      "Qantas has significantly expanded its reach into China by signing a new codeshare agreement with China Eastern Airlines.\n",
      "AirMedia Group Inc, an operator of out-of-home advertising platforms in China, has renewed its concession rights contract with China Eastern Airlines, the company reported today.\n",
      "For the seventh time LAN Airlines is chosen Best Airline in Central/ South America and the Caribbean by the Official Airline Guide.\n",
      "Starbucks Corporation will soon face more competition in China, said China Daily today.\n",
      "A Nationwide computer failure has drastically disrupted US carrier United Airlines operations, the airline confirmed.\n"
     ]
    }
   ],
   "source": [
    "perform_search('china airlines')"
   ]
  },
  {
   "cell_type": "markdown",
   "metadata": {},
   "source": [
    "Also we see from the examples above that search doesn't take sematics into consideration, so:"
   ]
  },
  {
   "cell_type": "markdown",
   "metadata": {},
   "source": [
    "**2) Search doesn't work well with finding sematically close sentences**. "
   ]
  },
  {
   "cell_type": "markdown",
   "metadata": {},
   "source": [
    "And that is the main problem, other problems are related to this one."
   ]
  },
  {
   "cell_type": "code",
   "execution_count": 44,
   "metadata": {},
   "outputs": [
    {
     "name": "stdout",
     "output_type": "stream",
     "text": [
      "WordPress announced that WordPress.com blogs are now getting comment notifications, with moderation and reply functionality.\n",
      "Congress president Sonia Gandhi warned on Wednesday that India would give a ``fitting reply'' to terrorism.\n",
      "Action against S Sreesanth for criticising the Kerala Cricket Association will depend on his reply to the association's letter seeking the player's explanation.\n",
      "Kolkata, June 8 Mohun Bagan Monday suspended soccer star Bhaichung Bhutia for six months, alleging that the striker has given an 'unsatisfactory' reply to the show cause notice slapped on him by the I-League club.\n",
      "BSNL has requested a refund of Rs 8,313.9 crore for surrendering its BWA spectrum in 20 circles, minister of state for communications and IT Milind Deora said in his written reply to Lok Sabha.\n",
      "Madhya Pradesh Veteran Congress leader Arjun Singh who was Madhya Pradesh Chief Minister at the time of the Bhopal gas disaster in December 1984 said here today that he would give ``appropriate reply at an appropriate time'' on it.\n",
      "In a written reply to the House, Minister of State for External Affairs E. Ahmad said: ``India is committed to resolving all outstanding issues with Pakistan through dialogue in the interest of peace and prosperity of our people,'' The Dawn reports.\n",
      "The Finance Ministry is going to reply to the Vodafone notice on the retrospective tax proposal after the passage of the Finance Bill in Parliament as the matter is related to it.\n",
      "The former chairman of Andhra Pradesh Industrial Infrastructure Corporation, Mr Ambati Rambabu, said the former MP, Mr YS Jagan Mohan Reddy, will give reply to the notices given by income tax department and alleged that the UPA chairperson, Ms Sonia Gandhi, the Chief Minister, Mr Kiran Kumar Reddy.\n",
      "Sports Writer Adding a big arm to their bullpen, the NL West-leading Los Angeles Dodgers acquired former All-Star closer George Sherrill from the Baltimore Orioles on Thursday for two minor leaguers.\n"
     ]
    }
   ],
   "source": [
    "perform_search('reply', num_results=10)"
   ]
  },
  {
   "cell_type": "code",
   "execution_count": 45,
   "metadata": {},
   "outputs": [
    {
     "name": "stdout",
     "output_type": "stream",
     "text": [
      "Firefighters already stretched thin in responding to multiple fires this week, responded to a fire off of County Road 397 Wednesday afternoon.\n",
      "Police respond to a stabbing around 8 pm Monday in Terre Haute.\n",
      "UFC President Dana White responded harshly when asked about the crowd booing tonight's flyweight title fight.\n",
      "The Red Cross is expanding its resources in Missouri to respond faster during local disasters.\n",
      "Crews responded to the scene of a natural gas leak in Chester County on Thursday evening.\n"
     ]
    }
   ],
   "source": [
    "perform_search('respond', num_results=5)"
   ]
  },
  {
   "cell_type": "markdown",
   "metadata": {},
   "source": [
    "**3) Doesn't work well with the synonyms** once again because it doesn't consider semantics and looks only at the exact words. From the examples above you can see that the 10th result for 'reply' has nothing to do with the query, even though in the subset there are sentences with the word 'respond'"
   ]
  },
  {
   "cell_type": "code",
   "execution_count": 46,
   "metadata": {},
   "outputs": [
    {
     "name": "stdout",
     "output_type": "stream",
     "text": [
      "A baby elephant had drowned at the Pinnawela Elephant Orphanage Saturday evening, officials said.\n",
      "The San Diego Zoo is loaning two female Asian elephants to the Los Angeles Zoo for its new $42-million Elephants of Asia exhibit set to open in mid-December, officials at the two zoos announced Friday.\n",
      "A rare Asian elephant born this summer at a southern Ontario safari park is the first third-generation calf born in North America, officials said Tuesday.\n",
      "Fox has apologized to Asians after a Fox Sports report made fun of Asian students' accents and knowledge of college football.\n",
      "A rare Sumatran elephant, missing its tusks, has been found dead in western Indonesia.\n"
     ]
    }
   ],
   "source": [
    "perform_search('asian Elephant')"
   ]
  },
  {
   "cell_type": "markdown",
   "metadata": {},
   "source": [
    "Also we see that **4) Number of occurrences of words matter, which is not alwasy useful**, for example above the actual news about asian elephants are on the 2nd and 3rd place not on the first"
   ]
  },
  {
   "cell_type": "code",
   "execution_count": 47,
   "metadata": {},
   "outputs": [
    {
     "name": "stdout",
     "output_type": "stream",
     "text": [
      "Nicole Scherzinger wants a big family Updated: 04:58, Sunday September 2, 2012 Nicole Scherzinger hopes to have lots of kids in the future and is looking to Gary Barlow, her co-star on 'The X Factor' for advice.\n",
      "Nicole Kidman covers the November issue of Harper's Bazaar, and she looks absolutely gorgeous.\n",
      "HOLLYWOOD star Nicole Kidman arrived in the small East Lothian town of North Berwick today.\n",
      "Socialite Nicole Richie is all set to judge forthcoming TV series 'Fashion Star'.\n",
      "Anna Nicole Smith died in February of 2007, but the court case surrounding her death still continues.\n",
      "Nicole ``Snooki'' Polizzi says she doesn't care what anyone says, she's ready to be a parent.\n",
      "Nicole turns 44 years old today, though you'd never guess her age by looking at her.\n",
      "Despite those suspicious baby bump photos of Nicole Kidman we have seen recently, she is apparently not pregnant.\n",
      "Nicole Polizzi, also known as Snooki, has revealed that she can often be found reading at Barnes and Noble.\n",
      "February 16, 2010, - Singer Lionel Richie has said he can't wait to walk his daughter Nicole down the aisle.\n",
      "Oscar winning actress Nicole Kidman admits that she is 'boring' as she is a teetotaller.\n",
      "Nicole Polizzi, better known to the world as Snooki from the MTV show ``Jersey Shore,'' faces charges of being criminally annoying.\n",
      "Nicole Scherzinger, the lead singer of the Pussycat Dolls, says she was a shy child and had a strict upbringing.\n",
      "Two disaster recovery centers have opened in Beaufort and Hertford counties to help those whose homes or businesses were affected by Tropical Storm Nicole.\n",
      "Los Angeles, Aug 12 Singer Nicole Scherzinger says she enjoys charity work as she gets pleasure out of helping others.\n",
      "UNITED NATIONS Nicole Kidman has urged world leaders and ordinary people to join the global fight to end violence against women.\n",
      "Hollywood actress Nicole Kidman and director Ang Lee will join Steven Spielberg next month on the Cannes film festival jury, organisers said on Wednesday.\n",
      "He starred with Nicole Kidman in the new movie ``Australia'', was named People Magazine's ``Sexiest Man Alive'', and now Jackman will host the Academy Awards.\n",
      "Nicole Kidman has admitted that she cried after receiving a 'Best Actress' Oscar nomination for her performance as a grieving mother in Rabbit Hole.\n",
      "The New York Liberty selected Nicole Powell with the first pick in the WNBA's Dispersal Draft of Sacramento Monarchs players held via conference call today.\n",
      "In a brief statement, publicist Catherine Olim said Nicole Kidman and husband, country singer Keith Urban, are expecting a baby and ``the couple are thrilled.''\n",
      "Actor Dulé Hill, best known for his work on West Wing and his current gig on Psych, has filed for separation from his wife, actress Nicole Lyn.\n",
      "Anna Nicole Smith was so weak in the days before her death that she used a baby bottle to get fluids and drifted in and out of consciousness, an investigator testified Tuesday.\n",
      "DJ AM is suing New York Daily News for libel and invasion of privacy for an article saying his career is not as hot as when he dated Nicole Richie.\n",
      "A bodyguard who was one of the last people to see Anna Nicole Smith alive has taken the witness stand in the drug conspiracy trial of two doctors and Smith's boyfriend-lawyer.\n",
      "A pastor's anti-... *Nicole Richie, who shot to fame as Paris Hilton's BFF on the Fox/E! reality series ``The Simple Life,'' will return to television as the star of a scripted comedy in development at ABC.\n",
      "Nicole ``Snooki'' Polizzi is working the press circuit following the release of her debut ``novel,'' called A Shore Thing... and she says her ``15 minutes was, like, a year ago,'' people, so now she's all legit and has plans to take over the world with her brand, or something.\n",
      "(Photo by Franco Origlia/Getty ... By: Nicole Winfield, Associated Press Emeritus Pope Benedict XVI comes home on Thursday to a new house and a new pope, as an unprecedented era begins of a retired pontiff living side-by-side with a reigning one inside the Vatican gardens. All eyes will be on Benedict's physical state as he is welcomed by Pope Francis at his new retirement home, a converted monastery tucked behind St. Peter's Basilica. The last time he was seen by the public - March 23 - Benedict appeared remarkably more frail and thin than when he left the Vatican on his final day as pope three weeks earlier. The Vatican spokesman, the Rev. Federico Lombardi, has acknowledged Benedict's post-retirement decline but insists the 86-year-old German isn't suffering from any ailment and is just old. ``He is a man who is not young: He is old and his strength is slowly ebbing,'' Lombardi said this week. ``However, there is no special illness. He is an old man who is healthy.`` Since his Feb. 28 resignation, Benedict has been ''hidden to the world`` as he himself predicted, living at the papal residence in Castel Gandolfo, in the hills south of Rome. He chose to leave the Vatican immediately after his resignation to physically remove himself from the process of electing his successor and from Pope Francis' first weeks as pontiff. His absence also gave workers time to finish up renovations on the monastery on the edge of the Vatican gardens that until last year housed groups of cloistered nuns who were invited for a few years at a time to live inside the Vatican to pray for the pontiff and church at large. In the small building, with a chapel attached, Benedict will live with his personal secretary, Monsignor Georg Gaenswein, and the four consecrated women who look after him, preparing his meals and tending to the household. Inside the small building, Benedict has at his disposal a small library and a study. A guest room is available for when his brother, Monsignor Georg Ratzinger, comes to visit. ''It is certainly small but well-equipped,`` Lombardi said. When Benedict announced his intention to resign - the first pontiff to do so in 600 years - questions immediately swirled about the implications of having two popes living alongside one another inside the Vatican. Benedict fueled those concerns when he chose to be called ''emeritus pope`` and ''Your Holiness`` rather than ''emeritus bishop of Rome.`` He also raised eyebrows when he chose to continue wearing the white cassock of the papacy. Given the political intrigues that plague the Vatican, it wasn't much of a stretch of the imagination to wonder if some cardinals, bishops and monsignors - not to mention ordinary Catholics - might continue making Benedict their point of reference rather than the new pope. However, Benedict made clear on his final day as pope that he was renouncing the job and pledged his ''unconditional reverence and obedience`` to his then-unknown successor. It was a pledge he repeated in person on March 23 when Francis went to have lunch with him at Castel Gandolfo. It was during that visit that the world saw how frail Benedict had become in the three weeks since his emotional departure from the Apostolic Palace: Always a man with a purposeful walk, he shuffled tentatively that day, using his cane. Francis, for his part, seems utterly unfazed by the novel situation unfolding. He has frequently invoked Benedict's name and work and has called him on a half-dozen occasions, making clear he has no intention of ignoring the fact that there's another pope still very much alive and now living on the other side of the garden from the Vatican hotel where he lives. Francis' gestures to Benedict during that March 23 visit were also remarkable: He refused to pray on the special papal kneeler in the small chapel of Castel Gandolfo, preferring to join Benedict on a kneeler in the pews, and referring to his predecessor as his ''brother.`` Now that they're neighbors, they might bump into one another on walks in the Vatican gardens or at the shrine to the Madonna on the top of the hill, just a stone's throw from Benedict's new home.\n",
      "A minor died in a road accident at Dulegauda in Tanahu district on Tuesday.\n",
      "While not always attaining the highest technical standards, AYO concerts leave the spirits soaring, confident that the future of our musical culture is secure.\n"
     ]
    }
   ],
   "source": [
    "perform_search(\"Nicole\", 30)"
   ]
  },
  {
   "cell_type": "markdown",
   "metadata": {},
   "source": [
    "From the example above we see that besides the first case where there is multiple occurrences of word 'Nicole' the length of sentence matters, because it make embeddings  to be further from our initial request's embeddings (as moe words that we don't have initially are there), so: "
   ]
  },
  {
   "cell_type": "markdown",
   "metadata": {},
   "source": [
    "**5) If our inquiries are short, then the search is biased towards short (token-wise) sentences**"
   ]
  },
  {
   "cell_type": "code",
   "execution_count": 48,
   "metadata": {},
   "outputs": [
    {
     "name": "stdout",
     "output_type": "stream",
     "text": [
      "Blood For Blood is reuniting and heading out on tour after six years.\n",
      "A local company says its new blood bag could revolutionize blood storage by eliminating shortages worldwide.\n",
      "A new study has found that exposure to secondhand smoke raises blood pressure in boys, but not in girls.\n",
      "Carlstadt will hold a community blood drive in cooperation with Community Blood Services on Saturday, July 24, from 9:30 am-noon.\n",
      "Third-place Tour de France finisher Bernhard Kohl admits he used the new blood booster CERA because he was under ``incredibly huge'' pressure to perform.\n"
     ]
    }
   ],
   "source": [
    "perform_search('blood pressure', 5)"
   ]
  },
  {
   "cell_type": "markdown",
   "metadata": {},
   "source": [
    "Also we see that **6) There is no way to specify this search for exact phrases (set of words that should be found together in the text)**, from the example above we see that we are interested in some type phrase 'blood pressure' but the first results is just relatedto blood in a way"
   ]
  },
  {
   "cell_type": "code",
   "execution_count": 49,
   "metadata": {},
   "outputs": [
    {
     "name": "stdout",
     "output_type": "stream",
     "text": [
      "Additional water will be held back at Zosel Dam on Lake Osoyoos now that a drought has been declared in the region by the International Osoyoos Lake Board of Control.\n",
      "A Cedar Lake man has been charged in Lake Superior Court with child molesting involving an 11-year-old girl.\n",
      "Lake Tahoe has been named the ``Best Lake in America,'' according to results of a recent readers' poll released Monday by USA Today.\n",
      "Two people, including a 3-year-old boy, were injured Sunday afternoon in a Lake Michigan boating accident just north of the Muskegon Lake channel.\n",
      "Lake Tahoe area officials tomorrow will launch a water taxi service with two routes and four stops on the lake's north and west shores.\n"
     ]
    }
   ],
   "source": [
    "perform_search('Zosel Dam Lake Osoyoos')"
   ]
  },
  {
   "cell_type": "markdown",
   "metadata": {},
   "source": [
    "But, we see from the example above that **7) Search can work well when we know exact phrasing and don't use stop words**"
   ]
  },
  {
   "cell_type": "code",
   "execution_count": 50,
   "metadata": {},
   "outputs": [
    {
     "name": "stdout",
     "output_type": "stream",
     "text": [
      "Two-time world champion Fernando Alonso on Saturday boosted his hopes of claiming his third victory at the Monaco Grand Prix when he topped the times in final free practice for Sunday's race.\n",
      "Barclays is launching two new savings accounts including a best buy cash ISA paying 3.55% gross/3.61% AER interest to help customers make the most of their tax-free savings allowance.\n",
      "A minor died in a road accident at Dulegauda in Tanahu district on Tuesday.\n",
      "The Samsung Galaxy S4 will be available to pre-order from TalkTalk from Monday, ready for its release on April 26.\n",
      "Actress Evelyn Keyes, who played Scarlett O'Hara's younger sister in ``Gone With the Wind,'' has died at age 91.\n"
     ]
    },
    {
     "name": "stderr",
     "output_type": "stream",
     "text": [
      "/var/folders/fp/bqd9m9ln4sn4w0xn9dg147tc0000gn/T/ipykernel_37062/2851269352.py:17: RuntimeWarning: invalid value encountered in divide\n",
      "  similarities_vector = dot_product/(norm_vector*norms_others)\n"
     ]
    }
   ],
   "source": [
    "perform_search('preventive')"
   ]
  },
  {
   "cell_type": "markdown",
   "metadata": {},
   "source": [
    "And from the example above we see that **8) Search doesn't work at all when the phrase we are looking for is not in the vocavulary** because an embedding of the initial request is basically all zero"
   ]
  },
  {
   "cell_type": "markdown",
   "metadata": {},
   "source": [
    "### Improvement\n",
    "##### We are gonna adress aforementioned issues 1 by 1\n",
    "1) Delete stop words during cleaning\n",
    "2) I don't think that it is relevant to talk about semantic search using Bag Of Words, \n",
    "there are much more suitable methods for this, so we are going to leave it as it is\n",
    "3) The same as number 2 \n",
    "4) We can not count multiple occurrences of the word (so, make a simple rule: if this word occurred in the sentence x times -> it still counts as 1 in the embedding), but on average it is a bad practice. For example: if we search 'elephant', then a sentence with a few occurrences of this word is definetely about the elephant itself, whether 1 occurrence might be encountered in the description of the zoo, etc. So, it is kind of a loophole to get a 'semantic search' (which means that the phrase we are looking for is indeed the main topic of the sentence). Due to this reasoning, I will not implement it. \n",
    "5) We can add a weighting factor which is gonna make our search a bit more fair for long sentences.\n",
    "6) We can add n-gramms for vectorizations so phrases will be taken into consideration.\n",
    "7) Positive point, no change\n",
    "8) First, we can increase the vocabulary size. But if the word is completely not encountered in training subset, it is a different issue. In order to solve that issue we need to understand the semantics of the word which we don't have in our voacbulary, but considering our approach, it is not really reasonable."
   ]
  },
  {
   "cell_type": "markdown",
   "metadata": {},
   "source": [
    "So, we will: \n",
    "- Delete stop words\n",
    "- Add a weighting factor for number of tokens \n",
    "- Add 2-grams \n",
    "- Increase vocanulary size"
   ]
  },
  {
   "cell_type": "code",
   "execution_count": 51,
   "metadata": {},
   "outputs": [
    {
     "name": "stderr",
     "output_type": "stream",
     "text": [
      "[nltk_data] Downloading package stopwords to\n",
      "[nltk_data]     /Users/nichitabulgaru/nltk_data...\n"
     ]
    },
    {
     "name": "stdout",
     "output_type": "stream",
     "text": [
      "{'as', 'did', 'only', 'ours', 'all', 'theirs', \"couldn't\", 'haven', 'ain', 'its', 'my', 'some', 'but', 'more', \"they've\", 'they', 'on', \"won't\", 'll', 'than', 'because', \"i'll\", \"aren't\", 'out', 'just', \"wouldn't\", 'being', 'his', \"wasn't\", 'during', 'hasn', 'very', 'how', \"she'll\", \"should've\", 'has', 'themselves', 'should', \"don't\", 'a', 'isn', 'by', 'them', 'while', 'under', 'your', \"she's\", \"it'd\", \"he's\", 'both', \"doesn't\", 'ourselves', 'herself', 'above', 'are', \"hasn't\", \"you've\", 'own', 'himself', 'she', 'between', 'too', \"we've\", 'these', 'aren', \"i'd\", 'an', \"it's\", \"i've\", 'i', 'the', 'most', 'you', 'can', 'having', 'hers', 'yours', 'ma', 'against', 'down', \"shan't\", 'so', 'any', 'in', 'it', \"mightn't\", \"that'll\", 've', 'below', 'this', 'been', 'we', \"didn't\", 'is', 'm', 'were', 'to', 'that', 'for', 'no', \"we'll\", 'me', 'few', 'about', \"i'm\", 'with', 'doing', 'mustn', 't', 'those', 'won', 'of', 'up', 'not', 'why', 'have', 'shouldn', 's', 'had', 'then', \"we're\", 'further', 'hadn', 'was', 'what', 'he', \"needn't\", 'wasn', 'at', 'from', 'be', 'here', 'their', 'over', 'shan', 'myself', 'which', 'after', 'needn', \"mustn't\", 'or', \"they'd\", \"they'll\", 'when', 'same', 'yourselves', 'and', 'again', 'nor', 'will', 'didn', 'doesn', 'd', 'does', \"hadn't\", 'into', 'yourself', 'weren', 'y', 'other', \"you'd\", 'through', 'am', 'our', 'if', \"he'd\", 'mightn', 'wouldn', 'couldn', 'until', \"it'll\", \"isn't\", 'once', 'each', \"we'd\", 'whom', \"you'll\", 'him', 'there', 'do', 'such', 'where', 'itself', \"she'd\", 'who', 'before', \"they're\", 'don', \"shouldn't\", 'o', \"you're\", 'now', 're', \"he'll\", 'her', \"haven't\", 'off', \"weren't\"}\n"
     ]
    },
    {
     "name": "stderr",
     "output_type": "stream",
     "text": [
      "[nltk_data]   Unzipping corpora/stopwords.zip.\n"
     ]
    }
   ],
   "source": [
    "\n",
    "nltk.download('stopwords')\n",
    "from nltk.corpus import stopwords\n",
    "\n",
    "stops = set(stopwords.words('english'))\n",
    "stop_words = set(stopwords.words('english'))\n",
    "print(stops)\n",
    "# in case it is not there. As we will use stop words deletion on already lemmatized words, we might need that\n",
    "stops.add(\"n't\")"
   ]
  },
  {
   "cell_type": "code",
   "execution_count": 52,
   "metadata": {},
   "outputs": [],
   "source": [
    "def remove_stopwords(tokens):\n",
    "\n",
    "    return [word for word in tokens if word not in stop_words]"
   ]
  },
  {
   "cell_type": "code",
   "execution_count": 53,
   "metadata": {},
   "outputs": [],
   "source": [
    "def remove_stopwords_dataset(example):\n",
    "    example['sentence_tokens_nostop'] = remove_stopwords(example['sentence_tokens'])\n",
    "    example['compressed_tokens_nostop'] = remove_stopwords(example['compressed_tokens'])\n",
    "    return example"
   ]
  },
  {
   "cell_type": "code",
   "execution_count": 54,
   "metadata": {},
   "outputs": [
    {
     "data": {
      "application/vnd.jupyter.widget-view+json": {
       "model_id": "339ca6abd4f34cb9b561c6e587b13386",
       "version_major": 2,
       "version_minor": 0
      },
      "text/plain": [
       "Map:   0%|          | 0/144000 [00:00<?, ? examples/s]"
      ]
     },
     "metadata": {},
     "output_type": "display_data"
    },
    {
     "data": {
      "application/vnd.jupyter.widget-view+json": {
       "model_id": "d1938357b82047cfb448c82603e8836c",
       "version_major": 2,
       "version_minor": 0
      },
      "text/plain": [
       "Map:   0%|          | 0/36000 [00:00<?, ? examples/s]"
      ]
     },
     "metadata": {},
     "output_type": "display_data"
    }
   ],
   "source": [
    "split_ds_nostop = split_ds.map(remove_stopwords_dataset)"
   ]
  },
  {
   "cell_type": "code",
   "execution_count": 55,
   "metadata": {},
   "outputs": [],
   "source": [
    "vocab = vocab_counter.most_common(vocab_size)\n",
    "token_to_id = {word: i for i, (word, _) in enumerate(vocab)}"
   ]
  },
  {
   "cell_type": "markdown",
   "metadata": {},
   "source": [
    "Adding n-grams"
   ]
  },
  {
   "cell_type": "code",
   "execution_count": 56,
   "metadata": {},
   "outputs": [],
   "source": [
    "def generate_ngrams(tokens, n_values=[1, 2]):\n",
    "    all_ngrams_list = []\n",
    "    for n in n_values:\n",
    "        if n == 1:\n",
    "            all_ngrams_list.extend(tokens)\n",
    "        elif len(tokens) >= n:\n",
    "            n_gram_tuples = nltk.ngrams(tokens, n)\n",
    "            n_gram_strings = [\"_\".join(gram) for gram in n_gram_tuples]\n",
    "            all_ngrams_list.extend(n_gram_strings)\n",
    "    return all_ngrams_list"
   ]
  },
  {
   "cell_type": "code",
   "execution_count": 57,
   "metadata": {},
   "outputs": [],
   "source": [
    "def add_ngrams_dataset(example):\n",
    "    example['sentence_ngrams'] = generate_ngrams(example['sentence_tokens_nostop'], n_values=[1, 2])\n",
    "    example['compressed_ngrams'] = generate_ngrams(example['compressed_tokens_nostop'], n_values=[1, 2])\n",
    "    return example"
   ]
  },
  {
   "cell_type": "code",
   "execution_count": 58,
   "metadata": {},
   "outputs": [
    {
     "data": {
      "application/vnd.jupyter.widget-view+json": {
       "model_id": "17b1b9834cd04a73922bb771298867ae",
       "version_major": 2,
       "version_minor": 0
      },
      "text/plain": [
       "Map:   0%|          | 0/144000 [00:00<?, ? examples/s]"
      ]
     },
     "metadata": {},
     "output_type": "display_data"
    },
    {
     "data": {
      "application/vnd.jupyter.widget-view+json": {
       "model_id": "6c48eb8dcfb449b8a2f586b1161e8077",
       "version_major": 2,
       "version_minor": 0
      },
      "text/plain": [
       "Map:   0%|          | 0/36000 [00:00<?, ? examples/s]"
      ]
     },
     "metadata": {},
     "output_type": "display_data"
    }
   ],
   "source": [
    "split_ds_ngrams = split_ds_nostop.map(add_ngrams_dataset)\n",
    "del split_ds_nostop"
   ]
  },
  {
   "cell_type": "code",
   "execution_count": 59,
   "metadata": {},
   "outputs": [
    {
     "name": "stdout",
     "output_type": "stream",
     "text": [
      "{'set': ['Internationally renowned Irish chamber orchestra Camerata Ireland and award-winning pianist Barry Douglas with soprano Celine Byrne come to Central Florida for a one-performance-only engagement.', 'Irish chamber orchestra Camerata Ireland comes to Central Florida'], 'clean_sentence': 'internationally renowned irish chamber orchestra camerata ireland and awardwinning pianist barry douglas with soprano celine byrne come to central florida for a oneperformanceonly engagement', 'clean_compressed': 'irish chamber orchestra camerata ireland come to central florida', 'sentence_tokens': ['internationally', 'renowned', 'irish', 'chamber', 'orchestra', 'camerata', 'ireland', 'and', 'awardwinning', 'pianist', 'barry', 'douglas', 'with', 'soprano', 'celine', 'byrne', 'come', 'to', 'central', 'florida', 'for', 'a', 'oneperformanceonly', 'engagement'], 'compressed_tokens': ['irish', 'chamber', 'orchestra', 'camerata', 'ireland', 'come', 'to', 'central', 'florida'], 'sentence_tokens_nostop': ['internationally', 'renowned', 'irish', 'chamber', 'orchestra', 'camerata', 'ireland', 'awardwinning', 'pianist', 'barry', 'douglas', 'soprano', 'celine', 'byrne', 'come', 'central', 'florida', 'oneperformanceonly', 'engagement'], 'compressed_tokens_nostop': ['irish', 'chamber', 'orchestra', 'camerata', 'ireland', 'come', 'central', 'florida'], 'sentence_ngrams': ['internationally', 'renowned', 'irish', 'chamber', 'orchestra', 'camerata', 'ireland', 'awardwinning', 'pianist', 'barry', 'douglas', 'soprano', 'celine', 'byrne', 'come', 'central', 'florida', 'oneperformanceonly', 'engagement', 'internationally_renowned', 'renowned_irish', 'irish_chamber', 'chamber_orchestra', 'orchestra_camerata', 'camerata_ireland', 'ireland_awardwinning', 'awardwinning_pianist', 'pianist_barry', 'barry_douglas', 'douglas_soprano', 'soprano_celine', 'celine_byrne', 'byrne_come', 'come_central', 'central_florida', 'florida_oneperformanceonly', 'oneperformanceonly_engagement'], 'compressed_ngrams': ['irish', 'chamber', 'orchestra', 'camerata', 'ireland', 'come', 'central', 'florida', 'irish_chamber', 'chamber_orchestra', 'orchestra_camerata', 'camerata_ireland', 'ireland_come', 'come_central', 'central_florida']}\n"
     ]
    }
   ],
   "source": [
    "for i in split_ds_ngrams['train']:\n",
    "    print(i)\n",
    "    break"
   ]
  },
  {
   "cell_type": "code",
   "execution_count": 60,
   "metadata": {},
   "outputs": [
    {
     "name": "stdout",
     "output_type": "stream",
     "text": [
      "Examples of 2grams in vocabulary: ['new_york', 'police_say', 'plead_guilty', 'official_say', 'prime_minister', 'barack_obama', 'united_state', 'today_announce', 'first_time', 'man_charge']\n"
     ]
    }
   ],
   "source": [
    "all_ngrams_for_vocab = (\n",
    "    split_ds_ngrams['train']['sentence_ngrams'] +\n",
    "    split_ds_ngrams['train']['compressed_ngrams'] +\n",
    "    split_ds_ngrams['test']['sentence_ngrams'] +\n",
    "    split_ds_ngrams['test']['compressed_ngrams']\n",
    ")\n",
    "vocab_counter_ngrams = extract_vocabulary_counts(all_ngrams_for_vocab)\n",
    "vocab_size = 20000\n",
    "vocab_ngrams = vocab_counter_ngrams.most_common(vocab_size)\n",
    "token_to_id_ngrams = {term: i for i, (term, _) in enumerate(vocab_ngrams)}\n",
    "example_bigram_in_vocab = [item for item in token_to_id_ngrams if '_' in item]\n",
    "print(f\"Examples of 2grams in vocabulary: {example_bigram_in_vocab[:10]}\")\n",
    "\n",
    "del all_ngrams_for_vocab\n",
    "del vocab_counter_ngrams\n",
    "\n"
   ]
  },
  {
   "cell_type": "code",
   "execution_count": 61,
   "metadata": {},
   "outputs": [],
   "source": [
    "def bag_of_words_dataset_ngrams(example):\n",
    "    \"\"\"\n",
    "    Creates a bag-of-words representation of the sentence and compressed sentence in the example from the Dataset\n",
    "    Args:\n",
    "        example: an example from the Dataset\n",
    "\n",
    "    Returns: updated example with 'sentence_bow' and 'compressed_bow' columns\n",
    "\n",
    "    \"\"\"\n",
    "    sentence_tokens = example['sentence_ngrams']\n",
    "    compressed_tokens = example['compressed_ngrams']\n",
    "\n",
    "    sentence_bow = bag_of_words(sentence_tokens, token_to_id_ngrams)\n",
    "    compressed_bow = bag_of_words(compressed_tokens, token_to_id_ngrams)\n",
    "\n",
    "    example['sentence_bow'] = sentence_bow\n",
    "    example['compressed_bow'] = compressed_bow\n",
    "    return example"
   ]
  },
  {
   "cell_type": "code",
   "execution_count": 62,
   "metadata": {},
   "outputs": [
    {
     "data": {
      "application/vnd.jupyter.widget-view+json": {
       "model_id": "e10b28b86bff4992b45ce19df0f93756",
       "version_major": 2,
       "version_minor": 0
      },
      "text/plain": [
       "Map:   0%|          | 0/36000 [00:00<?, ? examples/s]"
      ]
     },
     "metadata": {},
     "output_type": "display_data"
    },
    {
     "name": "stdout",
     "output_type": "stream",
     "text": [
      "Dataset({\n",
      "    features: ['set', 'clean_sentence', 'clean_compressed', 'sentence_tokens', 'compressed_tokens', 'sentence_tokens_nostop', 'compressed_tokens_nostop', 'sentence_ngrams', 'compressed_ngrams', 'sentence_bow', 'compressed_bow'],\n",
      "    num_rows: 36000\n",
      "})\n"
     ]
    }
   ],
   "source": [
    "test_ds_ngrams = split_ds_ngrams['test'].map(bag_of_words_dataset_ngrams)\n",
    "test_ds_ngrams = test_ds_ngrams.with_format('np', columns=['sentence_bow', 'compressed_bow'], dtype=float)\n",
    "print(test_ds_ngrams)\n",
    "del split_ds_ngrams"
   ]
  },
  {
   "cell_type": "code",
   "execution_count": 63,
   "metadata": {},
   "outputs": [],
   "source": [
    "sentences_bows_ngrams = test_ds_ngrams['sentence_bow']\n",
    "del test_ds_ngrams"
   ]
  },
  {
   "cell_type": "code",
   "execution_count": 64,
   "metadata": {},
   "outputs": [],
   "source": [
    "def get_query_embedding_ngram(query_text, token_to_id_map):\n",
    "    \n",
    "    cleaned_query = clean(query_text)\n",
    "    tokens_query = tokenize(cleaned_query)\n",
    "    tokens_query_nostop = remove_stopwords(tokens_query)\n",
    "\n",
    "    \n",
    "    query_ngrams = generate_ngrams(tokens_query_nostop, n_values=[1, 2])\n",
    "\n",
    "    \n",
    "    vocab_size = len(token_to_id_map)\n",
    "    query_bow_vector = np.zeros(vocab_size, dtype=int)\n",
    "    term_counts = Counter(query_ngrams) \n",
    "\n",
    "    for gram, count in term_counts.items():\n",
    "        if gram in token_to_id_map:\n",
    "            idx = token_to_id_map[gram]\n",
    "            query_bow_vector[idx] = count\n",
    "\n",
    "    return query_bow_vector"
   ]
  },
  {
   "cell_type": "markdown",
   "metadata": {},
   "source": [
    "Let's add weigthing factor (really simple, just small weight bonus)"
   ]
  },
  {
   "cell_type": "code",
   "execution_count": 65,
   "metadata": {},
   "outputs": [],
   "source": [
    "def perform_search_factor(query, num_results=5, weight_factor=0.001):\n",
    "    \n",
    "    embedded_query = get_query_embedding_ngram(query, token_to_id_ngrams)\n",
    "   \n",
    "    \n",
    "    query_similarity = cosine_similarity_1_to_n(embedded_query, sentences_bows_ngrams) \n",
    "    query_similarity = np.nan_to_num(query_similarity)\n",
    "\n",
    "    candidate_k = max(num_results * 2, 20)\n",
    "    initial_top_indices = top_k_indices(query_similarity, k=candidate_k, sorted=True).tolist()\n",
    "    \n",
    "    scored_candidates = []\n",
    "    for idx in initial_top_indices:\n",
    "        original_similarity = query_similarity[idx]\n",
    "      \n",
    "        sentence_length = len(split_ds['test'][idx]['sentence_tokens'])\n",
    "        length_bonus = weight_factor * np.log(sentence_length + 1) \n",
    "        \n",
    "        adjusted_score = original_similarity + length_bonus\n",
    "        scored_candidates.append((adjusted_score, original_similarity, idx, sentence_length))\n",
    "    \n",
    "    scored_candidates.sort(key=lambda x: x[0], reverse=True)\n",
    "\n",
    "    \n",
    "    for adjusted_score, original_similarity, idx, sentence_length in scored_candidates[:num_results]:\n",
    "    \n",
    "        text = split_ds['test'][idx]['set'][0]\n",
    "        \n",
    "        print(text)\n"
   ]
  },
  {
   "cell_type": "markdown",
   "metadata": {},
   "source": [
    "### Results"
   ]
  },
  {
   "cell_type": "code",
   "execution_count": 66,
   "metadata": {},
   "outputs": [
    {
     "name": "stdout",
     "output_type": "stream",
     "text": [
      "Despite preventive steps being taken by the authorities, poaching continues in Jim Corbett National Park in Uttarakhand''s Ramnagar district.\n",
      "Tamoxifen, taken by certain women as a preventive measure against breast cancer, saves lives and reduces medical costs.\n",
      "Spanish tenor Placido Domingo is to undergo ``preventive surgery'' and will be unable to perform for the next six weeks, his spokesman has said.\n",
      "Spanish tenor Placido Domingo is to undergo ``preventive surgery'' and will be unable to perform for the next six weeks, his spokesperson has said.\n",
      "There is not enough evidence to support suicide screening for all teens and adults, according to the US Preventive Services Task Force.\n"
     ]
    }
   ],
   "source": [
    "perform_search_factor('preventive', num_results=5, weight_factor=0.001)"
   ]
  },
  {
   "cell_type": "markdown",
   "metadata": {},
   "source": [
    "##### Now, with bigger vocabulary we can find queries that we couldn't find before, see example above"
   ]
  },
  {
   "cell_type": "code",
   "execution_count": 67,
   "metadata": {},
   "outputs": [
    {
     "name": "stdout",
     "output_type": "stream",
     "text": [
      "Nicole Scherzinger wants a big family Updated: 04:58, Sunday September 2, 2012 Nicole Scherzinger hopes to have lots of kids in the future and is looking to Gary Barlow, her co-star on 'The X Factor' for advice.\n",
      "(Photo by Franco Origlia/Getty ... By: Nicole Winfield, Associated Press Emeritus Pope Benedict XVI comes home on Thursday to a new house and a new pope, as an unprecedented era begins of a retired pontiff living side-by-side with a reigning one inside the Vatican gardens. All eyes will be on Benedict's physical state as he is welcomed by Pope Francis at his new retirement home, a converted monastery tucked behind St. Peter's Basilica. The last time he was seen by the public - March 23 - Benedict appeared remarkably more frail and thin than when he left the Vatican on his final day as pope three weeks earlier. The Vatican spokesman, the Rev. Federico Lombardi, has acknowledged Benedict's post-retirement decline but insists the 86-year-old German isn't suffering from any ailment and is just old. ``He is a man who is not young: He is old and his strength is slowly ebbing,'' Lombardi said this week. ``However, there is no special illness. He is an old man who is healthy.`` Since his Feb. 28 resignation, Benedict has been ''hidden to the world`` as he himself predicted, living at the papal residence in Castel Gandolfo, in the hills south of Rome. He chose to leave the Vatican immediately after his resignation to physically remove himself from the process of electing his successor and from Pope Francis' first weeks as pontiff. His absence also gave workers time to finish up renovations on the monastery on the edge of the Vatican gardens that until last year housed groups of cloistered nuns who were invited for a few years at a time to live inside the Vatican to pray for the pontiff and church at large. In the small building, with a chapel attached, Benedict will live with his personal secretary, Monsignor Georg Gaenswein, and the four consecrated women who look after him, preparing his meals and tending to the household. Inside the small building, Benedict has at his disposal a small library and a study. A guest room is available for when his brother, Monsignor Georg Ratzinger, comes to visit. ''It is certainly small but well-equipped,`` Lombardi said. When Benedict announced his intention to resign - the first pontiff to do so in 600 years - questions immediately swirled about the implications of having two popes living alongside one another inside the Vatican. Benedict fueled those concerns when he chose to be called ''emeritus pope`` and ''Your Holiness`` rather than ''emeritus bishop of Rome.`` He also raised eyebrows when he chose to continue wearing the white cassock of the papacy. Given the political intrigues that plague the Vatican, it wasn't much of a stretch of the imagination to wonder if some cardinals, bishops and monsignors - not to mention ordinary Catholics - might continue making Benedict their point of reference rather than the new pope. However, Benedict made clear on his final day as pope that he was renouncing the job and pledged his ''unconditional reverence and obedience`` to his then-unknown successor. It was a pledge he repeated in person on March 23 when Francis went to have lunch with him at Castel Gandolfo. It was during that visit that the world saw how frail Benedict had become in the three weeks since his emotional departure from the Apostolic Palace: Always a man with a purposeful walk, he shuffled tentatively that day, using his cane. Francis, for his part, seems utterly unfazed by the novel situation unfolding. He has frequently invoked Benedict's name and work and has called him on a half-dozen occasions, making clear he has no intention of ignoring the fact that there's another pope still very much alive and now living on the other side of the garden from the Vatican hotel where he lives. Francis' gestures to Benedict during that March 23 visit were also remarkable: He refused to pray on the special papal kneeler in the small chapel of Castel Gandolfo, preferring to join Benedict on a kneeler in the pews, and referring to his predecessor as his ''brother.`` Now that they're neighbors, they might bump into one another on walks in the Vatican gardens or at the shrine to the Madonna on the top of the hill, just a stone's throw from Benedict's new home.\n",
      "Nicole Scherzinger, the lead singer of the Pussycat Dolls, says she was a shy child and had a strict upbringing.\n",
      "Oscar winning actress Nicole Kidman admits that she is 'boring' as she is a teetotaller.\n",
      "Anna Nicole Smith was so weak in the days before her death that she used a baby bottle to get fluids and drifted in and out of consciousness, an investigator testified Tuesday.\n",
      "Actor Dulé Hill, best known for his work on West Wing and his current gig on Psych, has filed for separation from his wife, actress Nicole Lyn.\n",
      "A pastor's anti-... *Nicole Richie, who shot to fame as Paris Hilton's BFF on the Fox/E! reality series ``The Simple Life,'' will return to television as the star of a scripted comedy in development at ABC.\n",
      "Nicole Polizzi, also known as Snooki, has revealed that she can often be found reading at Barnes and Noble.\n",
      "Nicole Kidman covers the November issue of Harper's Bazaar, and she looks absolutely gorgeous.\n",
      "Nicole Kidman has admitted that she cried after receiving a 'Best Actress' Oscar nomination for her performance as a grieving mother in Rabbit Hole.\n",
      "Nicole ``Snooki'' Polizzi is working the press circuit following the release of her debut ``novel,'' called A Shore Thing... and she says her ``15 minutes was, like, a year ago,'' people, so now she's all legit and has plans to take over the world with her brand, or something.\n",
      "DJ AM is suing New York Daily News for libel and invasion of privacy for an article saying his career is not as hot as when he dated Nicole Richie.\n",
      "Nicole turns 44 years old today, though you'd never guess her age by looking at her.\n",
      "Despite those suspicious baby bump photos of Nicole Kidman we have seen recently, she is apparently not pregnant.\n",
      "Nicole Polizzi, better known to the world as Snooki from the MTV show ``Jersey Shore,'' faces charges of being criminally annoying.\n",
      "Anna Nicole Smith died in February of 2007, but the court case surrounding her death still continues.\n",
      "HOLLYWOOD star Nicole Kidman arrived in the small East Lothian town of North Berwick today.\n",
      "A bodyguard who was one of the last people to see Anna Nicole Smith alive has taken the witness stand in the drug conspiracy trial of two doctors and Smith's boyfriend-lawyer.\n",
      "February 16, 2010, - Singer Lionel Richie has said he can't wait to walk his daughter Nicole down the aisle.\n",
      "He starred with Nicole Kidman in the new movie ``Australia'', was named People Magazine's ``Sexiest Man Alive'', and now Jackman will host the Academy Awards.\n",
      "In a brief statement, publicist Catherine Olim said Nicole Kidman and husband, country singer Keith Urban, are expecting a baby and ``the couple are thrilled.''\n",
      "The New York Liberty selected Nicole Powell with the first pick in the WNBA's Dispersal Draft of Sacramento Monarchs players held via conference call today.\n",
      "Socialite Nicole Richie is all set to judge forthcoming TV series 'Fashion Star'.\n",
      "Two disaster recovery centers have opened in Beaufort and Hertford counties to help those whose homes or businesses were affected by Tropical Storm Nicole.\n",
      "Nicole ``Snooki'' Polizzi says she doesn't care what anyone says, she's ready to be a parent.\n",
      "Los Angeles, Aug 12 Singer Nicole Scherzinger says she enjoys charity work as she gets pleasure out of helping others.\n",
      "UNITED NATIONS Nicole Kidman has urged world leaders and ordinary people to join the global fight to end violence against women.\n",
      "Hollywood actress Nicole Kidman and director Ang Lee will join Steven Spielberg next month on the Cannes film festival jury, organisers said on Wednesday.\n",
      "Colin Powell, a Republican and retired general who was President Bush's first secretary of state, broke with the party Sunday and endorsed Democrat Barack Obama for president, calling him a ``transformational figure'' while criticizing the tone of John McCain's campaign.\n",
      "Before going into holidays on June 1, in a joint effort of the Punjab health and family welfare department and education department, hundreds of students and teachers will take the pledge on 'No Tobacco Day' on May 31.\n"
     ]
    }
   ],
   "source": [
    "perform_search_factor('Nicole', num_results=30, weight_factor=0.1)"
   ]
  },
  {
   "cell_type": "markdown",
   "metadata": {},
   "source": [
    "##### Also, now we can fine-tune weight_factor so our algorithm is not biased anymore (example above)."
   ]
  },
  {
   "cell_type": "code",
   "execution_count": 68,
   "metadata": {},
   "outputs": [
    {
     "name": "stdout",
     "output_type": "stream",
     "text": [
      "Free blood pressure checks will be on offer around Otago today to encourage people to find out if they are at risk of having a stroke.\n",
      "A new study has found that exposure to secondhand smoke raises blood pressure in boys, but not in girls.\n",
      "After his performance on American Idol Wednesday night, contestant David Cook was rushed to the hospital after suffering from high blood pressure and experiencing heart palpitations.\n",
      "Blood For Blood is reuniting and heading out on tour after six years.\n",
      "Electric Boat gave $125,000 on Friday to 149 employees who took part in a company program that encourages them to quit smoking, get a physical, check health numbers like blood pressure or use the Electric Boat pharmacy.\n"
     ]
    }
   ],
   "source": [
    "\n",
    "perform_search_factor('blood pressure', num_results=5, weight_factor=0.001)"
   ]
  },
  {
   "cell_type": "markdown",
   "metadata": {},
   "source": [
    "##### And now thanks to bigrams we can look up exact phrases "
   ]
  },
  {
   "cell_type": "markdown",
   "metadata": {},
   "source": [
    "### So, all the issues we decided to fix with inprovements are fixed!"
   ]
  },
  {
   "cell_type": "markdown",
   "metadata": {
    "collapsed": false,
    "pycharm": {
     "name": "#%% md\n"
    }
   },
   "source": [
    "## 3. Term Frequency - Inverse Document Frequency (TF-IDF)\n",
    "\n",
    "In this section we will implement the TF-IDF algorithm. While BOW is a simple way to represent the documents, it has some limitations. For example, it does not take into account the importance of each word in the document. TF-IDF representation takes into account the frequency of each word in the document and the frequency of the word in the whole dataset. It is a widely used technique in information retrieval and text mining. Refer to the lecture slides for more details."
   ]
  },
  {
   "cell_type": "markdown",
   "metadata": {
    "collapsed": false,
    "pycharm": {
     "name": "#%% md\n"
    }
   },
   "source": [
    "<a name='e8'></a>\n",
    "### Exercise 8: Inverse Document Frequency (IDF)\n",
    "(5p) In this exercise, you will implement the TF-IDF algorithm. First, calculate Inverse Document Frequency (IDF) for each word in the vocabulary. Intuitively, it is a measure of how informative a word is based on the whole dataset. Consult the lecture slides for the details. The IDF is calculated as follows:\n",
    "$$\n",
    "IDF(t) = log_{10}(N/df(t))$$\n",
    "where $N$ is the total number of documents (sentences) in the dataset and $df(t)$ is the number of documents containing the word $t$.\n"
   ]
  },
  {
   "cell_type": "code",
   "execution_count": 69,
   "metadata": {
    "collapsed": false,
    "pycharm": {
     "name": "#%%\n"
    }
   },
   "outputs": [
    {
     "data": {
      "text/plain": [
       "array([0.16914412, 0.23148523, 0.32406898, ..., 3.77815125, 3.8573325 ,\n",
       "       3.65321251])"
      ]
     },
     "execution_count": 69,
     "metadata": {},
     "output_type": "execute_result"
    }
   ],
   "source": [
    "def calculate_idf(bows):\n",
    "    \"\"\"\n",
    "    Calculates the IDF for each word in the vocabulary\n",
    "    Args:\n",
    "        bows: numpty array of size (N x D) where N is the number of documents and D is the vocabulary size\n",
    "\n",
    "    Returns: a numpy array of size D with IDF values for each token\n",
    "    \"\"\"\n",
    "\n",
    "    ### YOUR CODE HERE\n",
    "\n",
    "    size = bows.shape\n",
    "\n",
    "    df = np.count_nonzero(bows > 0, axis=0)+1\n",
    "    idfs = np.log10(size[0]/df)\n",
    "\n",
    "\n",
    "    return idfs\n",
    "    ### YOUR CODE ENDS HERE\n",
    "\n",
    "idf = calculate_idf(sentences_bows)\n",
    "idf"
   ]
  },
  {
   "cell_type": "markdown",
   "metadata": {
    "collapsed": false,
    "pycharm": {
     "name": "#%% md\n"
    }
   },
   "source": [
    "<a name='e9'></a>\n",
    "### Exercise 9: TF-IDF\n",
    "- (5p) Calculate TF-IDF on the `test` subset of the dataset.\n",
    "- (5p) Analyze the search results based on your implemented TF-IDF. Does the search perform well? When does it fail? Discuss several examples that are we get an expected but also unexpected results (find at least 3 from each category). Provide reasons for the good/bad result in each case (e.g. is there some error in the data, is there some linguistic phenomenon that we don't capture, is something wrong with our modeling with average embeddings, ...)\n",
    "- (5p) Compare the results with the ones you got with the bag-of-words representation. Discuss the differences and similarities. Do you think TF-IDF is a better representation for this task? Why or why not? Provide examples to support your arguments.\n"
   ]
  },
  {
   "cell_type": "code",
   "execution_count": 70,
   "metadata": {
    "collapsed": false,
    "pycharm": {
     "name": "#%%\n"
    }
   },
   "outputs": [
    {
     "name": "stdout",
     "output_type": "stream",
     "text": [
      "IDF vector shape: (10000,)\n",
      "Test set BOW shape: (36000, 10000)\n",
      "Test set TF-IDF shape: (36000, 10000)\n"
     ]
    }
   ],
   "source": [
    "### YOUR CODE HERE\n",
    "\n",
    "\n",
    "\n",
    "idf_train = calculate_idf(sentences_bows) \n",
    "print(f\"IDF vector shape: {idf_train.shape}\")\n",
    "\n",
    "sentences_bows_test = test_ds['sentence_bow']\n",
    "compressed_bows_test = test_ds['compressed_bow']\n",
    "print(f\"Test set BOW shape: {sentences_bows_test.shape}\")\n",
    "\n",
    "\n",
    "\n",
    "sentences_tfidf_test = sentences_bows_test * idf_train\n",
    "compressed_tfidf_test = compressed_bows_test * idf_train \n",
    "\n",
    "print(f\"Test set TF-IDF shape: {sentences_tfidf_test.shape}\")\n",
    "\n",
    "### YOUR CODE ENDS HERE\n",
    "\n",
    "### YOU CAN ADD MORE CELLS"
   ]
  },
  {
   "cell_type": "code",
   "execution_count": 71,
   "metadata": {},
   "outputs": [
    {
     "name": "stdout",
     "output_type": "stream",
     "text": [
      "[0.         0.23148523 0.         ... 0.         0.         0.        ]\n"
     ]
    }
   ],
   "source": [
    "print(sentences_tfidf_test[0])"
   ]
  },
  {
   "cell_type": "code",
   "execution_count": 72,
   "metadata": {},
   "outputs": [
    {
     "name": "stdout",
     "output_type": "stream",
     "text": [
      "(array([   1,    3,    4,    8,    9,   48,  143,  177,  911, 1107, 1256,\n",
      "       6131]),)\n"
     ]
    }
   ],
   "source": [
    "print(np.nonzero(sentences_tfidf_test[0]))"
   ]
  },
  {
   "cell_type": "code",
   "execution_count": 73,
   "metadata": {},
   "outputs": [],
   "source": [
    "def embed_query_tfidf(query_text, clean_fn, tokenize_fn, token_to_id_map, idf_vector):\n",
    "    \n",
    "    cleaned = clean_fn(query_text)\n",
    "    tokens = tokenize_fn(cleaned)\n",
    "    query_bow = bag_of_words(tokens, token_to_id_map) \n",
    "    query_tfidf = query_bow * idf_vector \n",
    "    return query_tfidf"
   ]
  },
  {
   "cell_type": "code",
   "execution_count": 74,
   "metadata": {},
   "outputs": [],
   "source": [
    "def perform_search_tfidf(query, num_results=5):\n",
    "    \n",
    "    embedded_query_tfidf = embed_query_tfidf(query, clean, tokenize, token_to_id, idf)\n",
    "\n",
    "    \n",
    "    query_similarity_tfidf = cosine_similarity_1_to_n(embedded_query_tfidf, sentences_tfidf_test)\n",
    "    \n",
    "    query_similarity_tfidf = np.nan_to_num(query_similarity_tfidf)\n",
    "\n",
    "\n",
    "    \n",
    "    top_indices_tfidf = top_k_indices(query_similarity_tfidf, k=num_results).tolist()\n",
    "\n",
    "    \n",
    "    for idx in top_indices_tfidf:\n",
    "        similarity_score = query_similarity_tfidf[idx]\n",
    "        original_sentence = split_ds['test'][idx]['set'][0]\n",
    "        print(f\"{original_sentence}\")"
   ]
  },
  {
   "cell_type": "code",
   "execution_count": 75,
   "metadata": {},
   "outputs": [
    {
     "name": "stdout",
     "output_type": "stream",
     "text": [
      " \n",
      "\n",
      "fox and deer\n",
      "BOW\n",
      "CW INDUSTRIES High density rectangular connector with enhanced retention and solderability, meets the requirements of MIL-DTL-28804 and NAVSEA 3164341 and 3164342 specifications.\n",
      "``The Sensex has supports at 17,520 and 17,380 and resistances at 17,710 and 17,830. The Nifty has supports at 5,300 and 5,270 and resistances at 5,370 and 5,400,`` it added.\n",
      "Heide and Cook Ltd. is restructuring its business to focus on heating, ventilation and air conditioning services, and CFO and Executive Vice President Dexter Kekua is retiring and will not be replaced.\n",
      "Singapore and Australia reaffirmed on Monday to enhance bilateral ties and strengthen cooperation on regional and international political, economic and security developments.\n",
      "Chinese ambassador to Australia Zhang Junsai on Tuesday called for broader and further cooperation between China and Australia in such areas as energy and resources, education and tourism, and in environmental protection, particularly in the time of the global financial crisis and economic downturn.\n",
      "TF-IDF\n",
      "What time of the day is best for hunting deer during a full moon?\n",
      "Fox has apologized to Asians after a Fox Sports report made fun of Asian students' accents and knowledge of college football.\n",
      "Authorities say a driver in west Michigan has died after hitting a deer, losing control of the vehicle and striking a tree.\n",
      "Divers found the body of a missing deer hunter, near Laurie, in Camden County.\n",
      "It's deer hunting season, and that means some lucky hunters will bring home venison.\n",
      " \n",
      "\n",
      "Chinese planes\n",
      "BOW\n",
      "Charlotte and Port Charlotte high school students enrolled in Liang Wang's Chinese class celebrate the Chinese New Year.\n",
      "Shanghai-based Chinese steel giant Baosteel signs a cooperation contract with Hebei-based Chinese automobile maker Great Wall Motor Company Limited, according to media reports.\n",
      "An interaction program on Chinese publication was held Friday in Nepali capital Kathmandu to mark the coming Chinese New Year.\n",
      "AP , 06.08.11, 08:25 AM EDT Taiwanese and Chinese negotiators says Taiwan will let Chinese tourists travel alone on the island starting in late June.\n",
      "Chinese Premier Wen Jiabao will visit Brunei Darussalam next month, the first by the Chinese premier to the Sultanate.\n",
      "TF-IDF\n",
      "The plane crashed into a home in High Point.\n",
      "A Greensboro man died in a small plane crash at the Elkin Municipal Airport, not far from where six people died in a plane crash last week.\n",
      "A small plane crashed this weekend into Lake Lucille near Wasilla and sank.\n",
      "Chinese Premier Wen Jiabao will visit Brunei Darussalam next month, the first by the Chinese premier to the Sultanate.\n",
      "Four-time Olympic champion Guo Jingjing will not retire after the Chinese 11th National Games, Zhou Jihong, team leader of the Chinese national diving team, said on Friday.\n",
      " \n",
      "\n",
      "china airlines\n",
      "BOW\n",
      "Qantas has significantly expanded its reach into China by signing a new codeshare agreement with China Eastern Airlines.\n",
      "AirMedia Group Inc, an operator of out-of-home advertising platforms in China, has renewed its concession rights contract with China Eastern Airlines, the company reported today.\n",
      "For the seventh time LAN Airlines is chosen Best Airline in Central/ South America and the Caribbean by the Official Airline Guide.\n",
      "Starbucks Corporation will soon face more competition in China, said China Daily today.\n",
      "A Nationwide computer failure has drastically disrupted US carrier United Airlines operations, the airline confirmed.\n",
      "TF-IDF\n",
      "For the seventh time LAN Airlines is chosen Best Airline in Central/ South America and the Caribbean by the Official Airline Guide.\n",
      "Qantas has significantly expanded its reach into China by signing a new codeshare agreement with China Eastern Airlines.\n",
      "AirMedia Group Inc, an operator of out-of-home advertising platforms in China, has renewed its concession rights contract with China Eastern Airlines, the company reported today.\n",
      "A Nationwide computer failure has drastically disrupted US carrier United Airlines operations, the airline confirmed.\n",
      "Aloha Airlines halting passenger service after bankruptcy filing The airline says it will stop taking flight reservations after today.\n",
      " \n",
      "\n",
      "reply\n",
      "BOW\n",
      "WordPress announced that WordPress.com blogs are now getting comment notifications, with moderation and reply functionality.\n",
      "Congress president Sonia Gandhi warned on Wednesday that India would give a ``fitting reply'' to terrorism.\n",
      "Action against S Sreesanth for criticising the Kerala Cricket Association will depend on his reply to the association's letter seeking the player's explanation.\n",
      "Kolkata, June 8 Mohun Bagan Monday suspended soccer star Bhaichung Bhutia for six months, alleging that the striker has given an 'unsatisfactory' reply to the show cause notice slapped on him by the I-League club.\n",
      "BSNL has requested a refund of Rs 8,313.9 crore for surrendering its BWA spectrum in 20 circles, minister of state for communications and IT Milind Deora said in his written reply to Lok Sabha.\n",
      "Madhya Pradesh Veteran Congress leader Arjun Singh who was Madhya Pradesh Chief Minister at the time of the Bhopal gas disaster in December 1984 said here today that he would give ``appropriate reply at an appropriate time'' on it.\n",
      "In a written reply to the House, Minister of State for External Affairs E. Ahmad said: ``India is committed to resolving all outstanding issues with Pakistan through dialogue in the interest of peace and prosperity of our people,'' The Dawn reports.\n",
      "The Finance Ministry is going to reply to the Vodafone notice on the retrospective tax proposal after the passage of the Finance Bill in Parliament as the matter is related to it.\n",
      "The former chairman of Andhra Pradesh Industrial Infrastructure Corporation, Mr Ambati Rambabu, said the former MP, Mr YS Jagan Mohan Reddy, will give reply to the notices given by income tax department and alleged that the UPA chairperson, Ms Sonia Gandhi, the Chief Minister, Mr Kiran Kumar Reddy.\n",
      "Sports Writer Adding a big arm to their bullpen, the NL West-leading Los Angeles Dodgers acquired former All-Star closer George Sherrill from the Baltimore Orioles on Thursday for two minor leaguers.\n",
      "TF-IDF\n",
      "WordPress announced that WordPress.com blogs are now getting comment notifications, with moderation and reply functionality.\n",
      "Congress president Sonia Gandhi warned on Wednesday that India would give a ``fitting reply'' to terrorism.\n",
      "Action against S Sreesanth for criticising the Kerala Cricket Association will depend on his reply to the association's letter seeking the player's explanation.\n",
      "Kolkata, June 8 Mohun Bagan Monday suspended soccer star Bhaichung Bhutia for six months, alleging that the striker has given an 'unsatisfactory' reply to the show cause notice slapped on him by the I-League club.\n",
      "The Finance Ministry is going to reply to the Vodafone notice on the retrospective tax proposal after the passage of the Finance Bill in Parliament as the matter is related to it.\n",
      "BSNL has requested a refund of Rs 8,313.9 crore for surrendering its BWA spectrum in 20 circles, minister of state for communications and IT Milind Deora said in his written reply to Lok Sabha.\n",
      "In a written reply to the House, Minister of State for External Affairs E. Ahmad said: ``India is committed to resolving all outstanding issues with Pakistan through dialogue in the interest of peace and prosperity of our people,'' The Dawn reports.\n",
      "Madhya Pradesh Veteran Congress leader Arjun Singh who was Madhya Pradesh Chief Minister at the time of the Bhopal gas disaster in December 1984 said here today that he would give ``appropriate reply at an appropriate time'' on it.\n",
      "The former chairman of Andhra Pradesh Industrial Infrastructure Corporation, Mr Ambati Rambabu, said the former MP, Mr YS Jagan Mohan Reddy, will give reply to the notices given by income tax department and alleged that the UPA chairperson, Ms Sonia Gandhi, the Chief Minister, Mr Kiran Kumar Reddy.\n",
      "The Samsung Galaxy S4 will be available to pre-order from TalkTalk from Monday, ready for its release on April 26.\n",
      " \n",
      "\n",
      "respond\n",
      "BOW\n",
      "Firefighters already stretched thin in responding to multiple fires this week, responded to a fire off of County Road 397 Wednesday afternoon.\n",
      "Police respond to a stabbing around 8 pm Monday in Terre Haute.\n",
      "UFC President Dana White responded harshly when asked about the crowd booing tonight's flyweight title fight.\n",
      "The Red Cross is expanding its resources in Missouri to respond faster during local disasters.\n",
      "Crews responded to the scene of a natural gas leak in Chester County on Thursday evening.\n",
      "TF-IDF\n",
      "Firefighters already stretched thin in responding to multiple fires this week, responded to a fire off of County Road 397 Wednesday afternoon.\n",
      "A Hofstra student was killed by police, who were responding to reports of a home invasion.\n",
      "Police respond to a stabbing around 8 pm Monday in Terre Haute.\n",
      "A Bismarck Police officer is shot and killed after responding to a call last night...\n",
      "Lauryn Hill has turned to the Internet to respond to federal tax evasion charges.\n",
      " \n",
      "\n",
      "asian Elephant\n",
      "BOW\n",
      "A baby elephant had drowned at the Pinnawela Elephant Orphanage Saturday evening, officials said.\n",
      "The San Diego Zoo is loaning two female Asian elephants to the Los Angeles Zoo for its new $42-million Elephants of Asia exhibit set to open in mid-December, officials at the two zoos announced Friday.\n",
      "A rare Asian elephant born this summer at a southern Ontario safari park is the first third-generation calf born in North America, officials said Tuesday.\n",
      "Fox has apologized to Asians after a Fox Sports report made fun of Asian students' accents and knowledge of college football.\n",
      "A rare Sumatran elephant, missing its tusks, has been found dead in western Indonesia.\n",
      "TF-IDF\n",
      "A baby elephant had drowned at the Pinnawela Elephant Orphanage Saturday evening, officials said.\n",
      "The San Diego Zoo is loaning two female Asian elephants to the Los Angeles Zoo for its new $42-million Elephants of Asia exhibit set to open in mid-December, officials at the two zoos announced Friday.\n",
      "A rare Asian elephant born this summer at a southern Ontario safari park is the first third-generation calf born in North America, officials said Tuesday.\n",
      "A rare Sumatran elephant, missing its tusks, has been found dead in western Indonesia.\n",
      "The elephants consumed poisonous crops, says a committee that went into the issue.\n",
      " \n",
      "\n",
      "Zosel Dam Lake Osoyoos\n",
      "BOW\n",
      "Additional water will be held back at Zosel Dam on Lake Osoyoos now that a drought has been declared in the region by the International Osoyoos Lake Board of Control.\n",
      "A Cedar Lake man has been charged in Lake Superior Court with child molesting involving an 11-year-old girl.\n",
      "Lake Tahoe has been named the ``Best Lake in America,'' according to results of a recent readers' poll released Monday by USA Today.\n",
      "Two people, including a 3-year-old boy, were injured Sunday afternoon in a Lake Michigan boating accident just north of the Muskegon Lake channel.\n",
      "Lake Tahoe area officials tomorrow will launch a water taxi service with two routes and four stops on the lake's north and west shores.\n",
      "TF-IDF\n",
      "Additional water will be held back at Zosel Dam on Lake Osoyoos now that a drought has been declared in the region by the International Osoyoos Lake Board of Control.\n",
      "Low water level in Sardar Sarovar dam across Narmada river at Kevadya has restricted the power generation hours from six units of the 1450 mw hydro-power project set up at the dam site.\n",
      "Man's body found in NSW dam Updated: 15:03, Sunday December 9, 2012 The body of a man has been found in a dam north of Sydney, two days after he went missing.\n",
      "Captain Thulani Zwane said the woman, 20, apparently threw the baby into the dam on Wednesday after its father rejected the child.\n",
      "Lake Tahoe has been named the ``Best Lake in America,'' according to results of a recent readers' poll released Monday by USA Today.\n",
      " \n",
      "\n",
      "preventive\n",
      "BOW\n"
     ]
    },
    {
     "name": "stderr",
     "output_type": "stream",
     "text": [
      "/var/folders/fp/bqd9m9ln4sn4w0xn9dg147tc0000gn/T/ipykernel_37062/2851269352.py:17: RuntimeWarning: invalid value encountered in divide\n",
      "  similarities_vector = dot_product/(norm_vector*norms_others)\n"
     ]
    },
    {
     "name": "stdout",
     "output_type": "stream",
     "text": [
      "Two-time world champion Fernando Alonso on Saturday boosted his hopes of claiming his third victory at the Monaco Grand Prix when he topped the times in final free practice for Sunday's race.\n",
      "Barclays is launching two new savings accounts including a best buy cash ISA paying 3.55% gross/3.61% AER interest to help customers make the most of their tax-free savings allowance.\n",
      "A minor died in a road accident at Dulegauda in Tanahu district on Tuesday.\n",
      "The Samsung Galaxy S4 will be available to pre-order from TalkTalk from Monday, ready for its release on April 26.\n",
      "Actress Evelyn Keyes, who played Scarlett O'Hara's younger sister in ``Gone With the Wind,'' has died at age 91.\n",
      "TF-IDF\n",
      "Two-time world champion Fernando Alonso on Saturday boosted his hopes of claiming his third victory at the Monaco Grand Prix when he topped the times in final free practice for Sunday's race.\n",
      "Barclays is launching two new savings accounts including a best buy cash ISA paying 3.55% gross/3.61% AER interest to help customers make the most of their tax-free savings allowance.\n",
      "A minor died in a road accident at Dulegauda in Tanahu district on Tuesday.\n",
      "The Samsung Galaxy S4 will be available to pre-order from TalkTalk from Monday, ready for its release on April 26.\n",
      "Actress Evelyn Keyes, who played Scarlett O'Hara's younger sister in ``Gone With the Wind,'' has died at age 91.\n",
      " \n",
      "\n",
      "blood pressure\n",
      "BOW\n",
      "Blood For Blood is reuniting and heading out on tour after six years.\n",
      "A local company says its new blood bag could revolutionize blood storage by eliminating shortages worldwide.\n",
      "A new study has found that exposure to secondhand smoke raises blood pressure in boys, but not in girls.\n",
      "Carlstadt will hold a community blood drive in cooperation with Community Blood Services on Saturday, July 24, from 9:30 am-noon.\n",
      "Third-place Tour de France finisher Bernhard Kohl admits he used the new blood booster CERA because he was under ``incredibly huge'' pressure to perform.\n",
      "TF-IDF\n",
      "Blood For Blood is reuniting and heading out on tour after six years.\n",
      "A new study has found that exposure to secondhand smoke raises blood pressure in boys, but not in girls.\n",
      "Carlstadt will hold a community blood drive in cooperation with Community Blood Services on Saturday, July 24, from 9:30 am-noon.\n",
      "A local company says its new blood bag could revolutionize blood storage by eliminating shortages worldwide.\n",
      "The Ottawa Hospital is partnering with Canadian Blood Services to be the first national public cord blood collection site.\n"
     ]
    }
   ],
   "source": [
    "queries_to_test = [\n",
    "    'fox and deer',\n",
    "    'Chinese planes',\n",
    "    'china airlines',\n",
    "    'reply',\n",
    "    'respond',\n",
    "    'asian Elephant',\n",
    "    'Zosel Dam Lake Osoyoos', \n",
    "    'preventive', \n",
    "    'blood pressure'\n",
    "]\n",
    "\n",
    "for q in queries_to_test:\n",
    "    if q == 'reply':\n",
    "        num_results = 10\n",
    "    else:\n",
    "        num_results = 5\n",
    "    print(f\" \\n\\n{q}\")\n",
    "    print(\"BOW\")\n",
    "    perform_search(q, num_results=num_results)\n",
    "    print(\"TF-IDF\")\n",
    "    perform_search_tfidf(q, num_results=num_results)"
   ]
  },
  {
   "cell_type": "markdown",
   "metadata": {},
   "source": [
    "### Results and comparison\n",
    "As I found 8 useful examples in BOW, here I am going to just go over them and describe how well does the algorithm tackle them and what\n",
    "is the difference with simple BOW.\n",
    "1) **fox and deer**: TF-IDF performs much better and I can say quite well because it ignores 'and' due to its overall frequencies in the texts. Results are relevant, unlike with BOW.\n",
    "2) **Chinese planes**: TF-IDF performs better, because the essense if the query is of course more so in the word 'plane', and it finds examples with planes. BOW, on the contrary finds nothing related to airplanes. Seamntically, TF-IDF obviously can not find the most suitable examples with chinese airlines. Even though TF-IDF is more advanced, it still has no tool to understand semantics. \n",
    "3) **china airlines**: Here TF-IDF performs worse then BOW because it considers airlines a less popular word then China, so the first example it finds is related to just airlines (there are 3 occurrences of 'airlines' there). It is a bad result, considering that there is a really suitable sentence about china airlines that BOW finds easily.\n",
    "4) **reply**: Here TF-IDF doesn't perform well, because once again it can not understand semantics and find synonyms. At the same time, BOW performs the same, it finds pretty much the same sentences. \n",
    "5) **respond**: We just need this query to check that there are sentences with a synonym to 'reply'\n",
    "6) **asian Elephant**: TF-IDF performs the same as BOW, it doesn't put the most relevant result on the first place. Also, here we can see that the second placed result is not on the first place beacause it is really long. Also, 'elephant' is probably more rare than 'asian', otherwise asian might have been on the first place. \n",
    "7) **Zosel Dam Lake Osoyoos**: Both algorithm worked well here because their principle is basically the same. \n",
    "8) **preventive**: Both algorithms didn't find sentences with this word, even though it is in the testing subset. TF-IDF has no advancements over BOW that helps it tackle new words. \n",
    "9) **blood pressure**: Both algorithms performed poor here, because TF-IDF doesn't have any functionality to take compound phrases into consideration. In order to fix that we would need to add bigrams.\n"
   ]
  },
  {
   "cell_type": "markdown",
   "metadata": {},
   "source": [
    "Overall, in 2 examples TF-IDF performed better due to its advancements and only in 1 it performed worse. Still, this example might have been more suitable for TF-IDF if airlines was a more frequent word in a corpus, so I can conclude that it performed worse basically by luck. \n",
    "**Taking these facts into consideration, I can state that TF-IDF is better for this task.**"
   ]
  },
  {
   "cell_type": "markdown",
   "metadata": {
    "collapsed": false,
    "pycharm": {
     "name": "#%% md\n"
    }
   },
   "source": [
    "## 4. Word Embeddings\n",
    "\n",
    "In this section you will load the pre-trained word embeddings model - Glove. You can read more about it [here](https://aclanthology.org/D14-1162/) ([https://aclanthology.org/D14-1162/](https://aclanthology.org/D14-1162/)). The embeddings are trained on a large corpus of text and are available in different dimensions. We will start with the dimension of 100, but later you will be asked to experiment with other dimensions.\n",
    "Gensim library maintains a storage containing some pre-trained models. You can read more about it [here](https://github.com/piskvorky/gensim-data) ([https://github.com/piskvorky/gensim-data](https://github.com/piskvorky/gensim-data)). Be sure to read the README of this repository.\n",
    "\n",
    "Let's first load the info of what models are available."
   ]
  },
  {
   "cell_type": "code",
   "execution_count": 76,
   "metadata": {
    "collapsed": false,
    "pycharm": {
     "name": "#%%\n"
    }
   },
   "outputs": [
    {
     "name": "stdout",
     "output_type": "stream",
     "text": [
      "{\n",
      "  \"fasttext-wiki-news-subwords-300\": {\n",
      "    \"num_records\": 999999,\n",
      "    \"file_size\": 1005007116,\n",
      "    \"base_dataset\": \"Wikipedia 2017, UMBC webbase corpus and statmt.org news dataset (16B tokens)\",\n",
      "    \"reader_code\": \"https://github.com/RaRe-Technologies/gensim-data/releases/download/fasttext-wiki-news-subwords-300/__init__.py\",\n",
      "    \"license\": \"https://creativecommons.org/licenses/by-sa/3.0/\",\n",
      "    \"parameters\": {\n",
      "      \"dimension\": 300\n",
      "    },\n",
      "    \"description\": \"1 million word vectors trained on Wikipedia 2017, UMBC webbase corpus and statmt.org news dataset (16B tokens).\",\n",
      "    \"read_more\": [\n",
      "      \"https://fasttext.cc/docs/en/english-vectors.html\",\n",
      "      \"https://arxiv.org/abs/1712.09405\",\n",
      "      \"https://arxiv.org/abs/1607.01759\"\n",
      "    ],\n",
      "    \"checksum\": \"de2bb3a20c46ce65c9c131e1ad9a77af\",\n",
      "    \"file_name\": \"fasttext-wiki-news-subwords-300.gz\",\n",
      "    \"parts\": 1\n",
      "  },\n",
      "  \"conceptnet-numberbatch-17-06-300\": {\n",
      "    \"num_records\": 1917247,\n",
      "    \"file_size\": 1225497562,\n",
      "    \"base_dataset\": \"ConceptNet, word2vec, GloVe, and OpenSubtitles 2016\",\n",
      "    \"reader_code\": \"https://github.com/RaRe-Technologies/gensim-data/releases/download/conceptnet-numberbatch-17-06-300/__init__.py\",\n",
      "    \"license\": \"https://github.com/commonsense/conceptnet-numberbatch/blob/master/LICENSE.txt\",\n",
      "    \"parameters\": {\n",
      "      \"dimension\": 300\n",
      "    },\n",
      "    \"description\": \"ConceptNet Numberbatch consists of state-of-the-art semantic vectors (also known as word embeddings) that can be used directly as a representation of word meanings or as a starting point for further machine learning. ConceptNet Numberbatch is part of the ConceptNet open data project. ConceptNet provides lots of ways to compute with word meanings, one of which is word embeddings. ConceptNet Numberbatch is a snapshot of just the word embeddings. It is built using an ensemble that combines data from ConceptNet, word2vec, GloVe, and OpenSubtitles 2016, using a variation on retrofitting.\",\n",
      "    \"read_more\": [\n",
      "      \"http://aaai.org/ocs/index.php/AAAI/AAAI17/paper/view/14972\",\n",
      "      \"https://github.com/commonsense/conceptnet-numberbatch\",\n",
      "      \"http://conceptnet.io/\"\n",
      "    ],\n",
      "    \"checksum\": \"fd642d457adcd0ea94da0cd21b150847\",\n",
      "    \"file_name\": \"conceptnet-numberbatch-17-06-300.gz\",\n",
      "    \"parts\": 1\n",
      "  },\n",
      "  \"word2vec-ruscorpora-300\": {\n",
      "    \"num_records\": 184973,\n",
      "    \"file_size\": 208427381,\n",
      "    \"base_dataset\": \"Russian National Corpus (about 250M words)\",\n",
      "    \"reader_code\": \"https://github.com/RaRe-Technologies/gensim-data/releases/download/word2vec-ruscorpora-300/__init__.py\",\n",
      "    \"license\": \"https://creativecommons.org/licenses/by/4.0/deed.en\",\n",
      "    \"parameters\": {\n",
      "      \"dimension\": 300,\n",
      "      \"window_size\": 10\n",
      "    },\n",
      "    \"description\": \"Word2vec Continuous Skipgram vectors trained on full Russian National Corpus (about 250M words). The model contains 185K words.\",\n",
      "    \"preprocessing\": \"The corpus was lemmatized and tagged with Universal PoS\",\n",
      "    \"read_more\": [\n",
      "      \"https://www.academia.edu/24306935/WebVectors_a_Toolkit_for_Building_Web_Interfaces_for_Vector_Semantic_Models\",\n",
      "      \"http://rusvectores.org/en/\",\n",
      "      \"https://github.com/RaRe-Technologies/gensim-data/issues/3\"\n",
      "    ],\n",
      "    \"checksum\": \"9bdebdc8ae6d17d20839dd9b5af10bc4\",\n",
      "    \"file_name\": \"word2vec-ruscorpora-300.gz\",\n",
      "    \"parts\": 1\n",
      "  },\n",
      "  \"word2vec-google-news-300\": {\n",
      "    \"num_records\": 3000000,\n",
      "    \"file_size\": 1743563840,\n",
      "    \"base_dataset\": \"Google News (about 100 billion words)\",\n",
      "    \"reader_code\": \"https://github.com/RaRe-Technologies/gensim-data/releases/download/word2vec-google-news-300/__init__.py\",\n",
      "    \"license\": \"not found\",\n",
      "    \"parameters\": {\n",
      "      \"dimension\": 300\n",
      "    },\n",
      "    \"description\": \"Pre-trained vectors trained on a part of the Google News dataset (about 100 billion words). The model contains 300-dimensional vectors for 3 million words and phrases. The phrases were obtained using a simple data-driven approach described in 'Distributed Representations of Words and Phrases and their Compositionality' (https://code.google.com/archive/p/word2vec/).\",\n",
      "    \"read_more\": [\n",
      "      \"https://code.google.com/archive/p/word2vec/\",\n",
      "      \"https://arxiv.org/abs/1301.3781\",\n",
      "      \"https://arxiv.org/abs/1310.4546\",\n",
      "      \"https://www.microsoft.com/en-us/research/publication/linguistic-regularities-in-continuous-space-word-representations/?from=http%3A%2F%2Fresearch.microsoft.com%2Fpubs%2F189726%2Frvecs.pdf\"\n",
      "    ],\n",
      "    \"checksum\": \"a5e5354d40acb95f9ec66d5977d140ef\",\n",
      "    \"file_name\": \"word2vec-google-news-300.gz\",\n",
      "    \"parts\": 1\n",
      "  },\n",
      "  \"glove-wiki-gigaword-50\": {\n",
      "    \"num_records\": 400000,\n",
      "    \"file_size\": 69182535,\n",
      "    \"base_dataset\": \"Wikipedia 2014 + Gigaword 5 (6B tokens, uncased)\",\n",
      "    \"reader_code\": \"https://github.com/RaRe-Technologies/gensim-data/releases/download/glove-wiki-gigaword-50/__init__.py\",\n",
      "    \"license\": \"http://opendatacommons.org/licenses/pddl/\",\n",
      "    \"parameters\": {\n",
      "      \"dimension\": 50\n",
      "    },\n",
      "    \"description\": \"Pre-trained vectors based on Wikipedia 2014 + Gigaword, 5.6B tokens, 400K vocab, uncased (https://nlp.stanford.edu/projects/glove/).\",\n",
      "    \"preprocessing\": \"Converted to w2v format with `python -m gensim.scripts.glove2word2vec -i <fname> -o glove-wiki-gigaword-50.txt`.\",\n",
      "    \"read_more\": [\n",
      "      \"https://nlp.stanford.edu/projects/glove/\",\n",
      "      \"https://nlp.stanford.edu/pubs/glove.pdf\"\n",
      "    ],\n",
      "    \"checksum\": \"c289bc5d7f2f02c6dc9f2f9b67641813\",\n",
      "    \"file_name\": \"glove-wiki-gigaword-50.gz\",\n",
      "    \"parts\": 1\n",
      "  },\n",
      "  \"glove-wiki-gigaword-100\": {\n",
      "    \"num_records\": 400000,\n",
      "    \"file_size\": 134300434,\n",
      "    \"base_dataset\": \"Wikipedia 2014 + Gigaword 5 (6B tokens, uncased)\",\n",
      "    \"reader_code\": \"https://github.com/RaRe-Technologies/gensim-data/releases/download/glove-wiki-gigaword-100/__init__.py\",\n",
      "    \"license\": \"http://opendatacommons.org/licenses/pddl/\",\n",
      "    \"parameters\": {\n",
      "      \"dimension\": 100\n",
      "    },\n",
      "    \"description\": \"Pre-trained vectors based on Wikipedia 2014 + Gigaword 5.6B tokens, 400K vocab, uncased (https://nlp.stanford.edu/projects/glove/).\",\n",
      "    \"preprocessing\": \"Converted to w2v format with `python -m gensim.scripts.glove2word2vec -i <fname> -o glove-wiki-gigaword-100.txt`.\",\n",
      "    \"read_more\": [\n",
      "      \"https://nlp.stanford.edu/projects/glove/\",\n",
      "      \"https://nlp.stanford.edu/pubs/glove.pdf\"\n",
      "    ],\n",
      "    \"checksum\": \"40ec481866001177b8cd4cb0df92924f\",\n",
      "    \"file_name\": \"glove-wiki-gigaword-100.gz\",\n",
      "    \"parts\": 1\n",
      "  },\n",
      "  \"glove-wiki-gigaword-200\": {\n",
      "    \"num_records\": 400000,\n",
      "    \"file_size\": 264336934,\n",
      "    \"base_dataset\": \"Wikipedia 2014 + Gigaword 5 (6B tokens, uncased)\",\n",
      "    \"reader_code\": \"https://github.com/RaRe-Technologies/gensim-data/releases/download/glove-wiki-gigaword-200/__init__.py\",\n",
      "    \"license\": \"http://opendatacommons.org/licenses/pddl/\",\n",
      "    \"parameters\": {\n",
      "      \"dimension\": 200\n",
      "    },\n",
      "    \"description\": \"Pre-trained vectors based on Wikipedia 2014 + Gigaword, 5.6B tokens, 400K vocab, uncased (https://nlp.stanford.edu/projects/glove/).\",\n",
      "    \"preprocessing\": \"Converted to w2v format with `python -m gensim.scripts.glove2word2vec -i <fname> -o glove-wiki-gigaword-200.txt`.\",\n",
      "    \"read_more\": [\n",
      "      \"https://nlp.stanford.edu/projects/glove/\",\n",
      "      \"https://nlp.stanford.edu/pubs/glove.pdf\"\n",
      "    ],\n",
      "    \"checksum\": \"59652db361b7a87ee73834a6c391dfc1\",\n",
      "    \"file_name\": \"glove-wiki-gigaword-200.gz\",\n",
      "    \"parts\": 1\n",
      "  },\n",
      "  \"glove-wiki-gigaword-300\": {\n",
      "    \"num_records\": 400000,\n",
      "    \"file_size\": 394362229,\n",
      "    \"base_dataset\": \"Wikipedia 2014 + Gigaword 5 (6B tokens, uncased)\",\n",
      "    \"reader_code\": \"https://github.com/RaRe-Technologies/gensim-data/releases/download/glove-wiki-gigaword-300/__init__.py\",\n",
      "    \"license\": \"http://opendatacommons.org/licenses/pddl/\",\n",
      "    \"parameters\": {\n",
      "      \"dimension\": 300\n",
      "    },\n",
      "    \"description\": \"Pre-trained vectors based on Wikipedia 2014 + Gigaword, 5.6B tokens, 400K vocab, uncased (https://nlp.stanford.edu/projects/glove/).\",\n",
      "    \"preprocessing\": \"Converted to w2v format with `python -m gensim.scripts.glove2word2vec -i <fname> -o glove-wiki-gigaword-300.txt`.\",\n",
      "    \"read_more\": [\n",
      "      \"https://nlp.stanford.edu/projects/glove/\",\n",
      "      \"https://nlp.stanford.edu/pubs/glove.pdf\"\n",
      "    ],\n",
      "    \"checksum\": \"29e9329ac2241937d55b852e8284e89b\",\n",
      "    \"file_name\": \"glove-wiki-gigaword-300.gz\",\n",
      "    \"parts\": 1\n",
      "  },\n",
      "  \"glove-twitter-25\": {\n",
      "    \"num_records\": 1193514,\n",
      "    \"file_size\": 109885004,\n",
      "    \"base_dataset\": \"Twitter (2B tweets, 27B tokens, 1.2M vocab, uncased)\",\n",
      "    \"reader_code\": \"https://github.com/RaRe-Technologies/gensim-data/releases/download/glove-twitter-25/__init__.py\",\n",
      "    \"license\": \"http://opendatacommons.org/licenses/pddl/\",\n",
      "    \"parameters\": {\n",
      "      \"dimension\": 25\n",
      "    },\n",
      "    \"description\": \"Pre-trained vectors based on 2B tweets, 27B tokens, 1.2M vocab, uncased (https://nlp.stanford.edu/projects/glove/).\",\n",
      "    \"preprocessing\": \"Converted to w2v format with `python -m gensim.scripts.glove2word2vec -i <fname> -o glove-twitter-25.txt`.\",\n",
      "    \"read_more\": [\n",
      "      \"https://nlp.stanford.edu/projects/glove/\",\n",
      "      \"https://nlp.stanford.edu/pubs/glove.pdf\"\n",
      "    ],\n",
      "    \"checksum\": \"50db0211d7e7a2dcd362c6b774762793\",\n",
      "    \"file_name\": \"glove-twitter-25.gz\",\n",
      "    \"parts\": 1\n",
      "  },\n",
      "  \"glove-twitter-50\": {\n",
      "    \"num_records\": 1193514,\n",
      "    \"file_size\": 209216938,\n",
      "    \"base_dataset\": \"Twitter (2B tweets, 27B tokens, 1.2M vocab, uncased)\",\n",
      "    \"reader_code\": \"https://github.com/RaRe-Technologies/gensim-data/releases/download/glove-twitter-50/__init__.py\",\n",
      "    \"license\": \"http://opendatacommons.org/licenses/pddl/\",\n",
      "    \"parameters\": {\n",
      "      \"dimension\": 50\n",
      "    },\n",
      "    \"description\": \"Pre-trained vectors based on 2B tweets, 27B tokens, 1.2M vocab, uncased (https://nlp.stanford.edu/projects/glove/)\",\n",
      "    \"preprocessing\": \"Converted to w2v format with `python -m gensim.scripts.glove2word2vec -i <fname> -o glove-twitter-50.txt`.\",\n",
      "    \"read_more\": [\n",
      "      \"https://nlp.stanford.edu/projects/glove/\",\n",
      "      \"https://nlp.stanford.edu/pubs/glove.pdf\"\n",
      "    ],\n",
      "    \"checksum\": \"c168f18641f8c8a00fe30984c4799b2b\",\n",
      "    \"file_name\": \"glove-twitter-50.gz\",\n",
      "    \"parts\": 1\n",
      "  },\n",
      "  \"glove-twitter-100\": {\n",
      "    \"num_records\": 1193514,\n",
      "    \"file_size\": 405932991,\n",
      "    \"base_dataset\": \"Twitter (2B tweets, 27B tokens, 1.2M vocab, uncased)\",\n",
      "    \"reader_code\": \"https://github.com/RaRe-Technologies/gensim-data/releases/download/glove-twitter-100/__init__.py\",\n",
      "    \"license\": \"http://opendatacommons.org/licenses/pddl/\",\n",
      "    \"parameters\": {\n",
      "      \"dimension\": 100\n",
      "    },\n",
      "    \"description\": \"Pre-trained vectors based on  2B tweets, 27B tokens, 1.2M vocab, uncased (https://nlp.stanford.edu/projects/glove/)\",\n",
      "    \"preprocessing\": \"Converted to w2v format with `python -m gensim.scripts.glove2word2vec -i <fname> -o glove-twitter-100.txt`.\",\n",
      "    \"read_more\": [\n",
      "      \"https://nlp.stanford.edu/projects/glove/\",\n",
      "      \"https://nlp.stanford.edu/pubs/glove.pdf\"\n",
      "    ],\n",
      "    \"checksum\": \"b04f7bed38756d64cf55b58ce7e97b15\",\n",
      "    \"file_name\": \"glove-twitter-100.gz\",\n",
      "    \"parts\": 1\n",
      "  },\n",
      "  \"glove-twitter-200\": {\n",
      "    \"num_records\": 1193514,\n",
      "    \"file_size\": 795373100,\n",
      "    \"base_dataset\": \"Twitter (2B tweets, 27B tokens, 1.2M vocab, uncased)\",\n",
      "    \"reader_code\": \"https://github.com/RaRe-Technologies/gensim-data/releases/download/glove-twitter-200/__init__.py\",\n",
      "    \"license\": \"http://opendatacommons.org/licenses/pddl/\",\n",
      "    \"parameters\": {\n",
      "      \"dimension\": 200\n",
      "    },\n",
      "    \"description\": \"Pre-trained vectors based on 2B tweets, 27B tokens, 1.2M vocab, uncased (https://nlp.stanford.edu/projects/glove/).\",\n",
      "    \"preprocessing\": \"Converted to w2v format with `python -m gensim.scripts.glove2word2vec -i <fname> -o glove-twitter-200.txt`.\",\n",
      "    \"read_more\": [\n",
      "      \"https://nlp.stanford.edu/projects/glove/\",\n",
      "      \"https://nlp.stanford.edu/pubs/glove.pdf\"\n",
      "    ],\n",
      "    \"checksum\": \"e52e8392d1860b95d5308a525817d8f9\",\n",
      "    \"file_name\": \"glove-twitter-200.gz\",\n",
      "    \"parts\": 1\n",
      "  },\n",
      "  \"__testing_word2vec-matrix-synopsis\": {\n",
      "    \"description\": \"[THIS IS ONLY FOR TESTING] Word vecrors of the movie matrix.\",\n",
      "    \"parameters\": {\n",
      "      \"dimensions\": 50\n",
      "    },\n",
      "    \"preprocessing\": \"Converted to w2v using a preprocessed corpus. Converted to w2v format with `python3.5 -m gensim.models.word2vec -train <input_filename> -iter 50 -output <output_filename>`.\",\n",
      "    \"read_more\": [],\n",
      "    \"checksum\": \"534dcb8b56a360977a269b7bfc62d124\",\n",
      "    \"file_name\": \"__testing_word2vec-matrix-synopsis.gz\",\n",
      "    \"parts\": 1\n",
      "  }\n",
      "}\n"
     ]
    }
   ],
   "source": [
    "import json\n",
    "import gensim.downloader as api\n",
    "\n",
    "info = api.info()  # show info about available models/datasets\n",
    "print(json.dumps(info['models'], indent=2))"
   ]
  },
  {
   "cell_type": "code",
   "execution_count": 77,
   "metadata": {
    "collapsed": false,
    "pycharm": {
     "name": "#%%\n"
    }
   },
   "outputs": [],
   "source": [
    "glove_model = api.load(\"glove-wiki-gigaword-100\")"
   ]
  },
  {
   "cell_type": "markdown",
   "metadata": {
    "collapsed": false,
    "pycharm": {
     "name": "#%% md\n"
    }
   },
   "source": [
    "We can use the loaded model's `key_to_index` attribute to retrieve the whole vocabulary (aka for how many words we learned embeddings for)."
   ]
  },
  {
   "cell_type": "code",
   "execution_count": 78,
   "metadata": {
    "collapsed": false,
    "pycharm": {
     "name": "#%%\n"
    }
   },
   "outputs": [
    {
     "name": "stdout",
     "output_type": "stream",
     "text": [
      "400000\n"
     ]
    }
   ],
   "source": [
    "vocab = list(glove_model.key_to_index)\n",
    "print(len(vocab))"
   ]
  },
  {
   "cell_type": "markdown",
   "metadata": {
    "collapsed": false,
    "pycharm": {
     "name": "#%% md\n"
    }
   },
   "source": [
    "Let's explore a bit further the embeddings. In the following cells, the embedding of a single word is returned. Double-check the dimensions (as sanity check). This is like inspecting the `W` matrix (weights) that we discussed in the lecture."
   ]
  },
  {
   "cell_type": "code",
   "execution_count": 79,
   "metadata": {
    "collapsed": false,
    "pycharm": {
     "name": "#%%\n"
    }
   },
   "outputs": [
    {
     "data": {
      "text/plain": [
       "array([-1.5180e-01,  3.8409e-01,  8.9340e-01, -4.2421e-01, -9.2161e-01,\n",
       "        3.7988e-02, -3.2026e-01,  3.4119e-03,  2.2101e-01, -2.2045e-01,\n",
       "        1.6661e-01,  2.1956e-01,  2.5325e-01, -2.9267e-01,  1.0171e-01,\n",
       "       -7.5491e-02, -6.0406e-02,  2.8194e-01, -5.8519e-01,  4.8271e-01,\n",
       "        1.7504e-02, -1.2086e-01, -1.0990e-01, -6.9554e-01,  1.5600e-01,\n",
       "        7.0558e-02, -1.5058e-01, -8.1811e-01, -1.8535e-01, -3.6863e-01,\n",
       "        3.1650e-02,  7.6616e-01,  8.4041e-02,  2.6928e-03, -2.7440e-01,\n",
       "        2.1815e-01, -3.5157e-02,  3.2569e-01,  1.0032e-01, -6.0932e-01,\n",
       "       -7.0316e-01,  1.8299e-01,  3.3134e-01, -1.2416e-01, -9.0542e-01,\n",
       "       -3.9157e-02,  4.4719e-01, -5.7338e-01, -4.0172e-01, -8.2234e-01,\n",
       "        5.5740e-01,  1.5101e-01,  2.4598e-01,  1.0113e+00, -4.6626e-01,\n",
       "       -2.7133e+00,  4.3273e-01, -1.6314e-01,  1.5828e+00,  5.5081e-01,\n",
       "       -2.4738e-01,  1.4184e+00, -1.6867e-02, -1.9368e-01,  1.0090e+00,\n",
       "       -5.9864e-02,  9.1853e-01,  4.3022e-01, -2.0624e-01,  7.6127e-02,\n",
       "        2.1595e-01, -2.6834e-01, -3.3342e-01, -3.7151e-01,  4.5197e-01,\n",
       "       -8.2460e-02,  3.2984e-01, -5.7376e-01, -1.3042e+00,  2.7121e-01,\n",
       "        6.6277e-01, -7.9626e-02, -7.9167e-01, -5.3662e-03, -1.7916e+00,\n",
       "       -3.3298e-01, -3.0698e-01, -3.3980e-01, -5.5618e-01, -6.9471e-01,\n",
       "        2.7427e-01, -2.1898e-01, -2.6714e-01,  2.2561e-03, -5.0178e-01,\n",
       "       -3.2775e-01, -4.5670e-01, -2.7123e-01,  2.2157e-01,  9.2112e-01],\n",
       "      dtype=float32)"
      ]
     },
     "execution_count": 79,
     "metadata": {},
     "output_type": "execute_result"
    }
   ],
   "source": [
    "# vector of a particular model. note that it is 100 dimensional as specified.\n",
    "glove_model['what']"
   ]
  },
  {
   "cell_type": "markdown",
   "metadata": {
    "collapsed": false,
    "pycharm": {
     "name": "#%% md\n"
    }
   },
   "source": [
    "Gensim objects offers different methods to easily run very common tasks. For example, there are different functions to find the most similar words.\n",
    "\n",
    "Check the documentation on how [`most_similar`](https://tedboy.github.io/nlps/generated/generated/gensim.models.Word2Vec.most_similar.html) and [`similar_by_word`](https://tedboy.github.io/nlps/generated/generated/gensim.models.Word2Vec.similar_by_word.html) can be used."
   ]
  },
  {
   "cell_type": "code",
   "execution_count": 80,
   "metadata": {
    "collapsed": false,
    "pycharm": {
     "name": "#%%\n"
    }
   },
   "outputs": [
    {
     "name": "stdout",
     "output_type": "stream",
     "text": [
      "[('how', 0.930321455001831), ('why', 0.9196362495422363), ('fact', 0.9069437980651855), ('know', 0.8876389861106873), ('that', 0.8810365796089172), ('think', 0.8772969841957092), ('so', 0.8753098249435425), ('even', 0.8751895427703857), ('something', 0.874744176864624), ('if', 0.8702542781829834)]\n",
      "[('play', 0.6266525387763977), ('missed', 0.608065128326416), ('she', 0.596325695514679), ('chance', 0.5839369297027588), ('tournament', 0.5722586512565613)]\n"
     ]
    }
   ],
   "source": [
    "# most similar words to a given word\n",
    "print(glove_model.most_similar('what', topn=10))\n",
    "\n",
    "# also u can use\n",
    "print(glove_model.similar_by_word('miss', topn=5))"
   ]
  },
  {
   "cell_type": "code",
   "execution_count": 81,
   "metadata": {
    "collapsed": false,
    "pycharm": {
     "name": "#%%\n"
    }
   },
   "outputs": [
    {
     "name": "stdout",
     "output_type": "stream",
     "text": [
      "[('know', 0.9440940618515015), ('what', 0.9196362495422363), ('think', 0.9086559414863586), ('how', 0.9020735621452332), ('tell', 0.8923122882843018), (\"n't\", 0.8890628814697266), ('sure', 0.8870969414710999), ('thought', 0.8747684955596924), ('believe', 0.8745115995407104), ('say', 0.8730074763298035)]\n"
     ]
    }
   ],
   "source": [
    "print(glove_model.most_similar('why', topn=10))"
   ]
  },
  {
   "cell_type": "code",
   "execution_count": 82,
   "metadata": {
    "collapsed": false,
    "pycharm": {
     "name": "#%%\n"
    }
   },
   "outputs": [
    {
     "name": "stdout",
     "output_type": "stream",
     "text": [
      "[('whom', 0.8642492890357971), ('he', 0.8201969861984253), ('whose', 0.8143677711486816), ('had', 0.8035845160484314), ('others', 0.7708419561386108)]\n"
     ]
    }
   ],
   "source": [
    "print(glove_model.similar_by_word('who', topn=5))"
   ]
  },
  {
   "cell_type": "markdown",
   "metadata": {
    "collapsed": false,
    "pycharm": {
     "name": "#%% md\n"
    }
   },
   "source": [
    "We can now compare our implementation with the one in the pre-trained model and confirm what we already expected."
   ]
  },
  {
   "cell_type": "code",
   "execution_count": 83,
   "metadata": {
    "collapsed": false,
    "pycharm": {
     "name": "#%%\n"
    }
   },
   "outputs": [
    {
     "name": "stdout",
     "output_type": "stream",
     "text": [
      "0.15712574\n",
      "0.15712574\n"
     ]
    }
   ],
   "source": [
    "# simalarity between two words\n",
    "word1 = 'alive'\n",
    "word2 = 'biology'\n",
    "print(glove_model.similarity(word1, word2))\n",
    "print(cosine_similarity(glove_model[word1], glove_model[word2]))"
   ]
  },
  {
   "cell_type": "code",
   "execution_count": 84,
   "metadata": {
    "collapsed": false,
    "pycharm": {
     "name": "#%%\n"
    }
   },
   "outputs": [
    {
     "name": "stdout",
     "output_type": "stream",
     "text": [
      "0.6400604\n",
      "0.6400604\n"
     ]
    }
   ],
   "source": [
    "# simalarity between two words. similar words\n",
    "word1 = 'alive'\n",
    "word2 = 'life'\n",
    "print(glove_model.similarity(word1, word2))\n",
    "print(cosine_similarity(glove_model[word1], glove_model[word2]))"
   ]
  },
  {
   "cell_type": "code",
   "execution_count": 85,
   "metadata": {
    "collapsed": false,
    "pycharm": {
     "name": "#%%\n"
    }
   },
   "outputs": [
    {
     "name": "stdout",
     "output_type": "stream",
     "text": [
      "0.71035177\n",
      "0.7103517\n"
     ]
    }
   ],
   "source": [
    "# simalarity between two words. dissimilar words\n",
    "word1 = 'alive'\n",
    "word2 = 'dead'\n",
    "print(glove_model.similarity(word1, word2))\n",
    "print(cosine_similarity(glove_model[word1], glove_model[word2]))"
   ]
  },
  {
   "cell_type": "code",
   "execution_count": 86,
   "metadata": {
    "collapsed": false,
    "pycharm": {
     "name": "#%%\n"
    }
   },
   "outputs": [
    {
     "name": "stdout",
     "output_type": "stream",
     "text": [
      "0.34625494\n",
      "0.34625494\n"
     ]
    }
   ],
   "source": [
    "# simalarity between two words. unrelated words\n",
    "word1 = 'alive'\n",
    "word2 = 'horse'\n",
    "print(glove_model.similarity(word1, word2))\n",
    "print(cosine_similarity(glove_model[word1], glove_model[word2]))"
   ]
  },
  {
   "cell_type": "code",
   "execution_count": 87,
   "metadata": {
    "collapsed": false,
    "pycharm": {
     "name": "#%%\n"
    }
   },
   "outputs": [
    {
     "name": "stdout",
     "output_type": "stream",
     "text": [
      "1.0\n",
      "1.0\n"
     ]
    }
   ],
   "source": [
    "# simalarity between two SAME words\n",
    "glove_model.similarity('equal', 'equal')\n",
    "word1 = 'equal'\n",
    "word2 = 'equal'\n",
    "print(glove_model.similarity(word1, word2))\n",
    "print(cosine_similarity(glove_model[word1], glove_model[word2]))"
   ]
  },
  {
   "cell_type": "markdown",
   "metadata": {
    "collapsed": false,
    "pycharm": {
     "name": "#%% md\n"
    }
   },
   "source": [
    "The next function contains the code to plot a similarity matrix between multiple words (e.g. if we want to compare 10 words and their pair-wise similarities). It requires a matrix with similarities (as input) and labels (aka the words) to display in the final figure."
   ]
  },
  {
   "cell_type": "code",
   "execution_count": 88,
   "metadata": {
    "collapsed": false,
    "pycharm": {
     "name": "#%%\n"
    }
   },
   "outputs": [],
   "source": [
    "def plot_similarity_matrix(matrix, labels):\n",
    "    \"\"\"\n",
    "    Displays a plot of the `matrix` of size (N x N) with the labels specified as a list of size N\n",
    "    Args:\n",
    "        matrix: a square-sized (N x N) numpy array\n",
    "        labels: a list of strings of hte size N\n",
    "    \"\"\"\n",
    "\n",
    "    fig, ax = plt.subplots()\n",
    "    im = ax.imshow(matrix)\n",
    "\n",
    "    # Show all ticks and label them with the respective list entries\n",
    "    ax.set_xticks(np.arange(len(labels)), labels=labels)\n",
    "    ax.set_yticks(np.arange(len(labels)), labels=labels)\n",
    "\n",
    "    # Rotate the tick labels and set their alignment.\n",
    "    plt.setp(ax.get_xticklabels(), rotation=45, ha=\"right\",\n",
    "             rotation_mode=\"anchor\")\n",
    "\n",
    "    # Loop over data dimensions and create text annotations.\n",
    "    for i in range(len(labels)):\n",
    "        for j in range(len(labels)):\n",
    "            text = ax.text(j, i, f'{matrix[i, j]:.2f}',\n",
    "                           ha=\"center\", va=\"center\", color=\"w\")\n",
    "\n",
    "    # ax.set_title(\"Give a title if you want\")\n",
    "    fig.tight_layout()\n",
    "    plt.show()"
   ]
  },
  {
   "cell_type": "markdown",
   "metadata": {
    "collapsed": false,
    "pycharm": {
     "name": "#%% md\n"
    }
   },
   "source": [
    "<a name='e10'></a>\n",
    "### Exercise 10: Plotting similarities between words\n",
    "\n",
    "(10p) In the following, we will explore some properties of word embeddings through some examples. We will use 6 example words for this purpose but experiment with other set of words as well. Fill in the next cell to create a similarity matrix between a list of words.\n",
    "\n",
    "Experiment with different words and their similarities plotted. Try at least 3 different sets of words of at least 6 words each. Use the `plot_similarity_matrix` function to visualize the results.\n",
    "Comment on the results. Do they make sense? Why some words are closer to each other than others? What does it mean?"
   ]
  },
  {
   "cell_type": "code",
   "execution_count": 89,
   "metadata": {},
   "outputs": [],
   "source": [
    "def calculate_similarity_table(list_words, model):\n",
    "    similarity_matrix = np.zeros((len(list_words), len(list_words)), dtype=float)\n",
    "\n",
    "    for index, n in enumerate(list_words):\n",
    "        for index2, j in enumerate(list_words):\n",
    "            vec1 = model[n]\n",
    "            vec2 = model[j]\n",
    "            \n",
    "            similarity = cosine_similarity(vec1, vec2)  \n",
    "            \n",
    "            similarity_matrix[index][index2] = similarity\n",
    "    return similarity_matrix"
   ]
  },
  {
   "cell_type": "code",
   "execution_count": 90,
   "metadata": {
    "collapsed": false,
    "pycharm": {
     "name": "#%%\n"
    }
   },
   "outputs": [
    {
     "data": {
      "image/png": "[encoded data removed]",
      "text/plain": [
       "<Figure size 640x480 with 1 Axes>"
      ]
     },
     "metadata": {},
     "output_type": "display_data"
    },
    {
     "data": {
      "image/png": "[encoded data removed]",
      "text/plain": [
       "<Figure size 640x480 with 1 Axes>"
      ]
     },
     "metadata": {},
     "output_type": "display_data"
    },
    {
     "data": {
      "image/png": "[encoded data removed]",
      "text/plain": [
       "<Figure size 640x480 with 1 Axes>"
      ]
     },
     "metadata": {},
     "output_type": "display_data"
    }
   ],
   "source": [
    "list_of_words = ['love', 'hate', 'life', 'equal', 'alive', 'dead']\n",
    "\n",
    "similarity_matrix = np.zeros((len(list_of_words), len(list_of_words)), dtype=float)\n",
    "\n",
    "### YOUR CODE HERE\n",
    "\n",
    "similarity_matrix1 = calculate_similarity_table(list_of_words, glove_model)\n",
    "\n",
    "list_words2 = [\"apple\", \"banana\", \"minion\", \"table\", \"chair\", \"tiger\", \"blanket\", \"animal\"]\n",
    "similarity_matrix2 = calculate_similarity_table(list_words2, glove_model)\n",
    "\n",
    "list_words3 = [\"phone\", \"space\", \"tesla\", \"apple\", \"technologies\", \"usa\", \"fruit\"]\n",
    "similarity_matrix3 = calculate_similarity_table(list_words3, glove_model)\n",
    "\n",
    "\n",
    "### YOUR CODE ENDS HERE\n",
    "\n",
    "plot_similarity_matrix(similarity_matrix1, list_of_words)\n",
    "\n",
    "plot_similarity_matrix(similarity_matrix2, list_words2)\n",
    "plot_similarity_matrix(similarity_matrix3, list_words3)"
   ]
  },
  {
   "cell_type": "code",
   "execution_count": 91,
   "metadata": {
    "collapsed": false,
    "pycharm": {
     "name": "#%%\n"
    }
   },
   "outputs": [],
   "source": [
    "#### YOUR CODE HERE\n",
    "\n",
    "# As we can see, some strange results may occur. For instance, the words \"alive\" and \"dead\" can have a very high cosine similarity,\n",
    "# which can be explained by their frequent co-occurrence as a pair in the same sentences. Since the glove model does not capture semantics \n",
    "# in the context of words meanings, but makes embedings by calculating statistics of word sequences and creating a co-occurrence matrix. \n",
    "\n",
    "# In general, it shows good results. For example, the words \"apple,\" \"technologies,\" and \"phone\" have a high similarity, \n",
    "# indicating that the model recognizes the Apple company’s connection to phone manufacturing and technologies.\n",
    "\n",
    "### YOUR CODE ENDS HERE"
   ]
  },
  {
   "cell_type": "markdown",
   "metadata": {
    "collapsed": false,
    "pycharm": {
     "name": "#%% md\n"
    }
   },
   "source": [
    "<a name='e11'></a>\n",
    "### Exercise 11: Other pre-trained word embeddings\n",
    "(10p) For this exercise, experiment with at least one different word embedding model. You can choose Glove with different dimensions or other pre-trained models. Use the gensim library to download and use the models.\n",
    "Plot similarity matrices between sets of words you used in the previous exercise and compare the results. Are there noticeable differences? Why (not)?"
   ]
  },
  {
   "cell_type": "code",
   "execution_count": 92,
   "metadata": {},
   "outputs": [],
   "source": [
    "model = api.load(\"fasttext-wiki-news-subwords-300\")"
   ]
  },
  {
   "cell_type": "code",
   "execution_count": 93,
   "metadata": {
    "collapsed": false,
    "pycharm": {
     "name": "#%%\n"
    }
   },
   "outputs": [
    {
     "data": {
      "image/png": "[encoded data removed]",
      "text/plain": [
       "<Figure size 640x480 with 1 Axes>"
      ]
     },
     "metadata": {},
     "output_type": "display_data"
    },
    {
     "data": {
      "image/png": "[encoded data removed]",
      "text/plain": [
       "<Figure size 640x480 with 1 Axes>"
      ]
     },
     "metadata": {},
     "output_type": "display_data"
    },
    {
     "data": {
      "image/png": "[encoded data removed]",
      "text/plain": [
       "<Figure size 640x480 with 1 Axes>"
      ]
     },
     "metadata": {},
     "output_type": "display_data"
    }
   ],
   "source": [
    "#### YOUR CODE HERE\n",
    "\n",
    "list_of_words = ['love', 'hate', 'life', 'equal', 'alive', 'dead']\n",
    "\n",
    "similarity_matrix = np.zeros((len(list_of_words), len(list_of_words)), dtype=float)\n",
    "\n",
    "\n",
    "similarity_matrix1 = calculate_similarity_table(list_of_words, model)\n",
    "\n",
    "list_words2 = [\"apple\", \"banana\", \"minion\", \"table\", \"chair\", \"tiger\", \"blanket\", \"animal\"]\n",
    "similarity_matrix2 = calculate_similarity_table(list_words2, model)\n",
    "\n",
    "list_words3 = [\"phone\", \"space\", \"tesla\", \"apple\", \"technologies\", \"usa\", \"fruit\"]\n",
    "similarity_matrix3 = calculate_similarity_table(list_words3, model)\n",
    "\n",
    "\n",
    "plot_similarity_matrix(similarity_matrix1, list_of_words)\n",
    "\n",
    "plot_similarity_matrix(similarity_matrix2, list_words2)\n",
    "plot_similarity_matrix(similarity_matrix3, list_words3)\n",
    "\n",
    "### YOUR CODE ENDS HERE"
   ]
  },
  {
   "cell_type": "code",
   "execution_count": 94,
   "metadata": {},
   "outputs": [],
   "source": [
    "# We can clearly observe that by using this pre-trained model, we still have the problem that some clearly opposite words have very high\n",
    "# similarity (\"apple\" and \"phone\"). \n",
    "\n",
    "# Fasttext-wiki-news-subwords-300 embeding identifies \"proximity\" based on statistics of ngrams occurrences in the same or similar environments. It can capture \n",
    "# high similarity between certain words (e.g., \"apple\" and \"phone\") even though they seem conceptually opposite in some senses (apple as a fruit vs. phone as a device)."
   ]
  },
  {
   "cell_type": "markdown",
   "metadata": {
    "collapsed": false,
    "pycharm": {
     "name": "#%% md\n"
    }
   },
   "source": [
    "// your comments"
   ]
  },
  {
   "cell_type": "markdown",
   "metadata": {
    "collapsed": false,
    "pycharm": {
     "name": "#%% md\n"
    }
   },
   "source": [
    "## 5. Sentence Embeddings by Averaging Word Embeddings\n",
    "\n",
    "Word embeddings are a powerful model for representing words and their meaning (in terms of distributional similarity). As we discussed in class, we can use them in a wide variety of tasks with more complex architectures. Word vectors offer a dense vector for each word. What if we wanted to represent a sentence (or a document) based on word vectors. How can we do that?\n",
    "\n",
    "In the course, we will see different architectures that take into account the sequence of words (by combining their vectors). A first naive but simple and sometimes (as we are going to see) quite effective approach would be to represent a sentence with an embedding vector that is the average of the word vectors that form the sentence.\n",
    "\n",
    "So formally, this is what we are aiming for:\n",
    "\n",
    "$\n",
    "\\text{Sentence_Embedding} = \\frac{1}{N} \\sum_{i=1}^{N} \\text{Word_Embedding}_i\n",
    "$\n",
    "\n",
    "where:\n",
    "* $N$ is the number of words in a sentence\n",
    "* $\\text{Word_Embedding}_i$ is the word vector for the $i$-th in the sentence.\n",
    "\n",
    "Things to note:\n",
    "* The embedding vector for the sentence will obviously have the same dimension as the word embedding.\n",
    "* This representation ignores the word order (like bag-of-words). During the course we will see how we can overcome this limitation by using sequence models."
   ]
  },
  {
   "cell_type": "markdown",
   "metadata": {
    "collapsed": false,
    "pycharm": {
     "name": "#%% md\n"
    }
   },
   "source": [
    "<a name='e12'></a>\n",
    "### Exercise 12: Sentence Embedding\n",
    "\n",
    "(10p) Complete the function below that takes as input the sentence in the form of tokens (so it's a list of words) and calculates the sentence embedding vector. First, we would need to retrieve the word embeddings for each word from our loaded model and then average the vectors.\n",
    "\n",
    "Note: There can be cases where all tokens from a sentence are out-of-vocabulary words (OOV). Think what to do in this case and make sure to discuss it in the report."
   ]
  },
  {
   "cell_type": "code",
   "execution_count": 95,
   "metadata": {
    "collapsed": false,
    "pycharm": {
     "name": "#%%\n"
    }
   },
   "outputs": [],
   "source": [
    "def embed_sentence_word_model(tokens, model):\n",
    "    \"\"\"\n",
    "    Calculates the sentence embedding by averaging the embeddings of the tokens\n",
    "    Args:\n",
    "        tokens: a list of words from the sentence\n",
    "        model: a trained word embeddings model\n",
    "\n",
    "    Returns: a numpy array of the sentence embedding\n",
    "\n",
    "    \"\"\"\n",
    "    #### YOUR CODE HERE\n",
    "    #### CAUTION: be sure to cover the case where all tokens are out-of-vocabulary!!!\n",
    "    vectors = []\n",
    "    for token in tokens:\n",
    "        if token in model.key_to_index:\n",
    "            vectors.append(model[token])\n",
    "\n",
    "    if len(vectors) == 0:\n",
    "        return np.zeros(model.vector_size)\n",
    "\n",
    "\n",
    "    return np.mean(vectors, axis=0)\n",
    "    ### YOUR CODE ENDS HERE"
   ]
  },
  {
   "cell_type": "markdown",
   "metadata": {
    "collapsed": false,
    "pycharm": {
     "name": "#%% md\n"
    }
   },
   "source": [
    "Now we can apply the function to the whole dataset. Here we do it both for the sentence and the compressed version. You should know it by now, but this operation might take some time. The next cells will apply your function to the whole dataset."
   ]
  },
  {
   "cell_type": "code",
   "execution_count": 96,
   "metadata": {
    "collapsed": false,
    "pycharm": {
     "name": "#%%\n"
    }
   },
   "outputs": [],
   "source": [
    "def embed_sentence_word_model_dataset(example, model):\n",
    "    \"\"\"\n",
    "    Embeds the sentence and the compressed sentence in the example from the Dataset\n",
    "    Args:\n",
    "        example: an example from the Dataset\n",
    "        model: a trained word embeddings model\n",
    "\n",
    "    Returns: updated example with 'sentence_embedding' and 'compressed_embedding' columns\n",
    "\n",
    "    \"\"\"\n",
    "    sentence_tokens = example['sentence_tokens']\n",
    "    clean_compressed = example['clean_compressed']\n",
    "    compressed_tokens = tokenize(clean_compressed)\n",
    "\n",
    "    sentence_embedding = embed_sentence_word_model(sentence_tokens, model)\n",
    "    compressed_embedding = embed_sentence_word_model(compressed_tokens, model)\n",
    "\n",
    "    example['sentence_embedding'] = sentence_embedding\n",
    "    example['compressed_embedding'] = compressed_embedding\n",
    "    return example"
   ]
  },
  {
   "cell_type": "code",
   "execution_count": 97,
   "metadata": {
    "collapsed": false,
    "pycharm": {
     "name": "#%%\n"
    }
   },
   "outputs": [
    {
     "data": {
      "application/vnd.jupyter.widget-view+json": {
       "model_id": "5fa3795b803941d69b1fc50d34119c5a",
       "version_major": 2,
       "version_minor": 0
      },
      "text/plain": [
       "Map:   0%|          | 0/36000 [00:00<?, ? examples/s]"
      ]
     },
     "metadata": {},
     "output_type": "display_data"
    },
    {
     "name": "stdout",
     "output_type": "stream",
     "text": [
      "Dataset({\n",
      "    features: ['set', 'clean_sentence', 'clean_compressed', 'sentence_tokens', 'compressed_tokens', 'sentence_bow', 'compressed_bow', 'sentence_embedding', 'compressed_embedding'],\n",
      "    num_rows: 36000\n",
      "})\n"
     ]
    }
   ],
   "source": [
    "test_ds = test_ds.map(embed_sentence_word_model_dataset, fn_kwargs={'model': glove_model})\n",
    "print(test_ds)"
   ]
  },
  {
   "cell_type": "code",
   "execution_count": 98,
   "metadata": {
    "collapsed": false,
    "pycharm": {
     "name": "#%%\n"
    }
   },
   "outputs": [
    {
     "name": "stdout",
     "output_type": "stream",
     "text": [
      "{'sentence_bow': array([0., 1., 0., ..., 0., 0., 0.]), 'compressed_bow': array([0., 0., 0., ..., 0., 0., 0.]), 'sentence_embedding': array([ 0.02453331,  0.14019701,  0.40209085, -0.46971211,  0.04033076,\n",
      "        0.18894698,  0.30266726,  0.23533823, -0.51022846, -0.02097319,\n",
      "        0.06425484, -0.05542472,  0.25127715, -0.02609646,  0.06118854,\n",
      "       -0.14668901,  0.2933439 ,  0.32538292, -0.06103169,  0.29631716,\n",
      "        0.18079489,  0.09402415,  0.2260948 ,  0.21759154,  0.32110819,\n",
      "       -0.21264647, -0.11774247, -0.3546254 , -0.05950624, -0.25997856,\n",
      "       -0.24597785,  0.36911014,  0.11414076,  0.06072923, -0.07174055,\n",
      "        0.20637923, -0.24378215,  0.51089787, -0.33287662, -0.09516747,\n",
      "       -0.02593537, -0.29986778,  0.30122846, -0.3545098 ,  0.18318513,\n",
      "        0.13710238,  0.25542429, -0.48246539,  0.05040184, -0.74636614,\n",
      "       -0.19993393, -0.15682769,  0.02851785,  0.85672534, -0.11560522,\n",
      "       -2.38524365, -0.08730708, -0.18486176,  1.37883925,  0.49415493,\n",
      "       -0.42263937,  0.58131921, -0.31596455,  0.20205528,  0.55249429,\n",
      "        0.08529684,  0.36318272,  0.24016021,  0.02235608,  0.04984414,\n",
      "       -0.04446346, -0.34437463, -0.34867409, -0.21116908,  0.00667308,\n",
      "        0.17238046, -0.19049716,  0.13178414, -0.8936168 ,  0.24665561,\n",
      "        0.61878306, -0.08533092, -0.53906637,  0.04942723, -0.96959466,\n",
      "       -0.2236432 ,  0.0116046 , -0.16839531, -0.03035117, -0.03988846,\n",
      "       -0.03656385, -0.06261763, -0.2036344 ,  0.12607053, -0.59498501,\n",
      "       -0.10592368, -0.25805181,  0.3356652 ,  0.80361009,  0.07476123]), 'compressed_embedding': array([ 2.06292003e-01,  3.66550013e-02,  4.63741213e-01, -7.65499949e-01,\n",
      "        3.96279916e-02,  1.23999998e-01,  5.10937989e-01,  2.52639383e-01,\n",
      "       -2.63594002e-01, -1.23012878e-01,  2.31600016e-01,  1.93719864e-02,\n",
      "        1.42184213e-01, -2.08146408e-01, -2.73177922e-02, -1.77377313e-01,\n",
      "        2.03971744e-01,  5.34083962e-01,  3.19880061e-02,  3.82311523e-01,\n",
      "        1.30331993e-01,  2.61889994e-01,  8.36104080e-02,  1.24559782e-01,\n",
      "        2.04029411e-01, -2.37680823e-01, -1.39203593e-01, -3.13166022e-01,\n",
      "        3.76270004e-02, -4.32687938e-01, -1.97890595e-01,  4.94063377e-01,\n",
      "        2.06685975e-01, -3.97900119e-02, -3.20921808e-01,  3.43895972e-01,\n",
      "       -3.17570031e-01,  8.89203995e-02, -4.91362005e-01, -1.61071986e-01,\n",
      "        2.20868021e-01, -3.88286412e-01,  1.11823998e-01, -4.77495015e-01,\n",
      "       -7.33995461e-04,  2.94919610e-02,  1.92699973e-02, -5.60696006e-01,\n",
      "        1.85732603e-01, -7.47740030e-01, -1.99632019e-01,  1.58679988e-02,\n",
      "       -6.57029971e-02,  5.17073989e-01,  5.58436029e-02, -1.92701399e+00,\n",
      "       -3.22987922e-02,  2.27659941e-02,  1.33084798e+00,  3.41992795e-01,\n",
      "       -3.42044026e-01,  2.97200024e-01, -2.75579780e-01,  2.01842785e-01,\n",
      "        3.79752010e-01, -6.62189946e-02,  3.69049221e-01,  3.09399992e-01,\n",
      "        1.83579919e-03,  1.43080190e-01, -8.01277980e-02, -3.99839967e-01,\n",
      "       -2.03764006e-01, -8.96779895e-02, -8.80600233e-03,  2.35112816e-01,\n",
      "       -3.52410376e-01,  1.22515999e-01, -5.24677992e-01,  8.72289985e-02,\n",
      "        5.76967835e-01, -1.20115995e-01, -6.18844032e-01, -1.02917992e-01,\n",
      "       -7.58840084e-01, -5.41752040e-01,  1.03272021e-01, -8.86413977e-02,\n",
      "       -3.94168086e-02,  7.96940103e-02, -2.84747988e-01,  9.12887529e-02,\n",
      "       -9.25419927e-02, -3.56664136e-02, -6.73497975e-01, -3.54751587e-01,\n",
      "       -8.70139822e-02,  6.47068024e-01,  6.96384013e-01,  2.02379934e-02])}\n",
      "{'sentence_bow': array([1., 0., 1., ..., 0., 0., 0.]), 'compressed_bow': array([0., 0., 0., ..., 0., 0., 0.]), 'sentence_embedding': array([ 3.89811695e-02, -4.11609970e-02,  2.47444972e-01, -3.00437570e-01,\n",
      "       -4.32065465e-02,  3.07158120e-02, -1.91866785e-01,  1.62005261e-01,\n",
      "       -3.44187528e-01,  4.71793078e-02,  1.17690186e-03, -1.76790971e-02,\n",
      "        2.73567349e-01, -2.24911511e-01,  5.79272285e-02, -2.44641766e-01,\n",
      "        1.64812416e-01, -1.53236046e-01, -4.21398073e-01,  2.78450370e-01,\n",
      "        1.69476837e-01, -1.12341553e-01,  1.03262395e-01, -5.47492728e-02,\n",
      "        2.04952583e-01,  7.91163519e-02, -1.01122807e-03, -4.64649647e-01,\n",
      "        2.32331842e-01,  1.39799833e-01, -1.52040228e-01,  4.25669283e-01,\n",
      "        6.51340485e-02,  1.04489692e-01,  1.49715040e-02,  2.18467385e-01,\n",
      "        1.29971355e-01,  2.68012971e-01, -1.52472019e-01, -7.59291425e-02,\n",
      "       -3.77765059e-01, -9.45944712e-02,  3.66006196e-01, -3.46978873e-01,\n",
      "       -5.25369979e-02, -1.26464918e-01, -2.46965457e-02, -2.11733624e-01,\n",
      "        3.75115462e-02, -6.10551953e-01, -3.77564542e-02, -7.41408095e-02,\n",
      "        3.11769962e-01,  8.98777246e-01, -1.79453492e-01, -2.01606774e+00,\n",
      "       -2.60330141e-01, -7.88790882e-02,  1.13984954e+00,  4.73797143e-01,\n",
      "        3.40210050e-02,  6.10074520e-01, -1.21488810e-01,  1.40947580e-01,\n",
      "        6.56221330e-01, -1.69322506e-01,  5.05301178e-01,  7.45864451e-01,\n",
      "       -7.71790743e-03, -6.10511340e-02,  2.92842705e-02, -3.06415468e-01,\n",
      "       -1.40564069e-01, -3.89381319e-01, -3.14754769e-02, -3.64927500e-02,\n",
      "       -1.42919585e-01, -8.89445543e-02, -7.86717057e-01,  4.79157716e-02,\n",
      "        5.36346614e-01,  1.55185945e-02, -3.81847382e-01, -2.47189235e-02,\n",
      "       -1.06365633e+00, -1.59052953e-01, -1.07601188e-01, -2.99299601e-02,\n",
      "       -1.13174275e-01, -3.68530720e-01,  8.01358297e-02, -2.80279160e-01,\n",
      "       -2.18022302e-01,  2.30220512e-01, -3.29057068e-01, -3.61208133e-02,\n",
      "       -1.57858178e-01, -1.65667906e-01,  2.63374031e-01,  1.08743146e-01]), 'compressed_embedding': array([ 6.98877871e-02,  2.43706349e-02,  1.66406438e-01, -4.40064251e-01,\n",
      "        1.98354223e-03, -1.15377620e-01, -3.98136303e-02,  6.38990849e-02,\n",
      "       -2.44580254e-01,  1.44350275e-01,  4.15415503e-02,  1.11996373e-02,\n",
      "        2.82421708e-01, -6.77813194e-04,  6.47632778e-02, -1.77600533e-01,\n",
      "        1.56990916e-01, -7.48199970e-02, -5.31089067e-01,  3.54442954e-01,\n",
      "        8.77391174e-02, -1.77672818e-01, -2.72188205e-02, -2.33154674e-03,\n",
      "        1.46299705e-01,  2.57826298e-01, -8.54266360e-02, -4.41383272e-01,\n",
      "        2.74590522e-01,  2.89283663e-01,  1.06308460e-01,  4.29103494e-01,\n",
      "        1.17815539e-01,  9.07474533e-02,  6.73735933e-03,  2.17153296e-01,\n",
      "        1.86549097e-01,  2.90991813e-01, -1.21693999e-01,  7.13944994e-03,\n",
      "       -3.15491319e-01,  1.26081817e-02,  3.81949991e-01, -1.69720456e-01,\n",
      "        5.09123467e-02, -1.46094814e-01, -3.50520015e-02, -7.71347508e-02,\n",
      "        2.86983669e-01, -4.42883015e-01, -1.38745278e-01, -1.75667062e-01,\n",
      "        2.25190893e-01,  7.10067213e-01, -8.49399045e-02, -1.39939511e+00,\n",
      "       -3.48786205e-01,  6.37532771e-02,  5.26866972e-01,  3.27020913e-01,\n",
      "       -5.20361811e-02,  6.06786311e-01, -8.78105462e-02,  1.53482094e-01,\n",
      "        5.31670511e-01,  1.05839139e-02,  5.64918220e-01,  7.12462902e-01,\n",
      "       -2.93822467e-01,  4.64404598e-02,  8.75338167e-02, -2.17499554e-01,\n",
      "       -6.47486299e-02, -4.48199093e-01, -2.85606980e-01, -8.02563503e-02,\n",
      "       -3.10290921e-02, -7.60788172e-02, -5.13911307e-01, -2.52378117e-02,\n",
      "        4.64782745e-01,  1.14780098e-01, -1.64291158e-01, -2.46206328e-01,\n",
      "       -7.41661787e-01, -1.54190734e-01, -1.54451460e-01, -5.90031780e-02,\n",
      "        1.11003183e-01, -2.73973823e-01,  1.97572708e-01, -1.25343651e-01,\n",
      "       -2.07327288e-02,  7.66334906e-02, -4.07214999e-01, -6.59909099e-02,\n",
      "       -4.87258174e-02, -1.53984532e-01, -4.53009941e-02,  1.18092105e-01])}\n",
      "{'sentence_bow': array([0., 0., 2., ..., 0., 0., 0.]), 'compressed_bow': array([0., 0., 1., ..., 0., 0., 0.]), 'sentence_embedding': array([-0.15963596,  0.09303056,  0.09860601,  0.06214636, -0.05356868,\n",
      "       -0.26448974, -0.16744791,  0.2237487 , -0.13240652,  0.20993714,\n",
      "        0.13769202,  0.07753959,  0.15431671, -0.16523068,  0.12108779,\n",
      "       -0.38255283,  0.07824799,  0.15231676, -0.18870701,  0.1986462 ,\n",
      "        0.24587201, -0.33571205,  0.04688104,  0.28296515, -0.1615797 ,\n",
      "       -0.13369781,  0.082307  , -0.26096803, -0.13667929, -0.17992073,\n",
      "       -0.22173785,  0.37595773, -0.19878197, -0.18155563, -0.17283444,\n",
      "        0.24964003,  0.18257289, -0.03935255, -0.11018375,  0.02309004,\n",
      "       -0.22632973, -0.22238086,  0.07559457, -0.12680371, -0.18388858,\n",
      "        0.111499  ,  0.18203886, -0.42930412, -0.24680462, -0.83654922,\n",
      "        0.09177507, -0.11920288, -0.01834751,  0.90069443, -0.23790884,\n",
      "       -1.87750089,  0.13311864, -0.54248828,  1.52891707,  0.4014816 ,\n",
      "        0.04839462,  0.31084058, -0.2115133 ,  0.07797848,  0.50620103,\n",
      "       -0.00948804,  0.08423917,  0.24788752,  0.46553671, -0.30186403,\n",
      "        0.30150333, -0.40341625, -0.36800206, -0.31118846,  0.09610402,\n",
      "        0.01171632, -0.06933712,  0.04127533, -0.76193869,  0.05438936,\n",
      "        0.49014169,  0.05679567, -0.43239579,  0.19198827, -1.21783161,\n",
      "       -0.24837369,  0.30269063, -0.20068477, -0.11698129, -0.20432119,\n",
      "       -0.07650173, -0.10413377, -0.21960413, -0.20023055, -0.42395154,\n",
      "       -0.03511068,  0.07305596, -0.30546969,  0.76239806, -0.01780204]), 'compressed_embedding': array([-0.06013875,  0.05881999,  0.20922643,  0.13557374, -0.18494184,\n",
      "       -0.19978184, -0.09203634,  0.29420325, -0.03066401,  0.1798685 ,\n",
      "        0.15861058,  0.088038  , -0.01876358, -0.20991565,  0.13958085,\n",
      "       -0.31258538,  0.17211457,  0.12318391, -0.2410689 ,  0.17203884,\n",
      "        0.22634758, -0.34237173,  0.01492283,  0.18081492, -0.11071003,\n",
      "       -0.02558268,  0.17870826, -0.14609034,  0.07732999, -0.13915825,\n",
      "       -0.24204333,  0.40930283, -0.0670775 , -0.21986459, -0.24534242,\n",
      "        0.18071644,  0.15804869, -0.16080667, -0.1007845 ,  0.13047008,\n",
      "       -0.24356158, -0.13820611,  0.22187519, -0.10490691, -0.25089309,\n",
      "        0.03575244,  0.05762723, -0.2940675 , -0.27530292, -0.69175929,\n",
      "        0.03418799, -0.16460831, -0.03162831,  0.79768997, -0.34970412,\n",
      "       -1.60545456,  0.2021606 , -0.57267857,  1.22476661,  0.25866273,\n",
      "        0.16367038,  0.25134915, -0.13834333,  0.08496987,  0.49233499,\n",
      "       -0.01637557, -0.04030152,  0.34057793,  0.20045699, -0.22024371,\n",
      "        0.32826218, -0.28875002, -0.45789543, -0.3506799 ,  0.18156283,\n",
      "        0.08965909, -0.01492133,  0.06304061, -0.68129832, -0.02615255,\n",
      "        0.29830667, -0.01876066, -0.36248282,  0.15444003, -0.8444593 ,\n",
      "       -0.09352332,  0.35590589, -0.15887187, -0.09239417, -0.14672284,\n",
      "       -0.00754584, -0.02225075, -0.2261325 , -0.09781033, -0.48020855,\n",
      "       -0.08439033, -0.03851574, -0.26774609,  0.57901174,  0.00346825])}\n",
      "{'sentence_bow': array([1., 2., 0., ..., 0., 0., 0.]), 'compressed_bow': array([0., 0., 0., ..., 0., 0., 0.]), 'sentence_embedding': array([ 2.31595412e-02, -4.11807261e-02,  2.33317241e-01, -9.43565145e-02,\n",
      "       -6.20370405e-03,  3.04550469e-01, -4.30458300e-02,  2.85236120e-01,\n",
      "       -3.34781975e-01,  1.21128559e-01,  1.91913769e-02,  2.19748199e-01,\n",
      "        1.84832141e-01,  1.49189839e-02,  1.59882784e-01, -1.80851579e-01,\n",
      "        3.39943528e-01, -1.53737068e-01, -3.94643068e-01,  1.34358376e-01,\n",
      "        2.12386429e-01, -2.14724112e-02,  2.64415473e-01,  6.21520495e-03,\n",
      "        2.57564157e-01, -1.97349861e-03, -3.06129038e-01, -4.61328715e-01,\n",
      "        5.66337258e-02, -1.55892968e-02, -1.32960066e-01,  2.52627224e-01,\n",
      "        3.58510651e-02,  1.15622751e-01, -1.72735736e-01, -2.64662853e-03,\n",
      "       -1.54226661e-01,  1.56151384e-01,  5.72869219e-02, -1.24721609e-01,\n",
      "       -4.83282804e-01, -1.69977248e-01,  1.14241861e-01, -3.07087362e-01,\n",
      "        1.45566702e-01,  4.21678387e-02,  1.42540872e-01, -9.78900716e-02,\n",
      "       -4.54441495e-02, -4.85543400e-01, -4.85384353e-02, -3.69480133e-01,\n",
      "        6.00552075e-02,  7.88973153e-01, -2.49462441e-01, -2.15123773e+00,\n",
      "       -1.64246544e-01, -2.29121968e-01,  1.40334213e+00,  4.49280411e-01,\n",
      "       -2.62159437e-01,  6.01335526e-01, -4.73883785e-02,  9.19007361e-02,\n",
      "        4.79551911e-01, -9.73279551e-02,  3.70276451e-01,  1.35916710e-01,\n",
      "       -5.50185656e-03,  4.14537787e-02, -2.32539549e-01, -6.93065748e-02,\n",
      "       -1.06390037e-01, -2.55789220e-01, -4.50529493e-02, -3.56254354e-03,\n",
      "        1.69160962e-01,  2.84409914e-02, -7.85549700e-01,  5.93700372e-02,\n",
      "        6.12468183e-01, -7.27457041e-03, -2.75545508e-01, -5.98715805e-02,\n",
      "       -8.21648121e-01, -1.99458957e-01,  1.15231954e-01, -1.90802693e-01,\n",
      "        1.17954956e-02, -3.19988668e-01,  9.58960876e-02, -2.06293926e-01,\n",
      "       -1.34282887e-01,  4.09480214e-01, -3.78196925e-01, -1.85009483e-02,\n",
      "       -7.59077147e-02, -1.68568730e-01,  4.84917074e-01, -6.60081431e-02]), 'compressed_embedding': array([ 3.07848137e-02, -4.41871993e-02,  2.54376709e-01,  8.18209173e-06,\n",
      "       -1.26219526e-01,  3.03876013e-01, -1.26441658e-01,  3.65286052e-01,\n",
      "       -2.46112734e-01, -9.62546747e-03,  1.52691185e-01,  2.88017154e-01,\n",
      "        1.03108458e-01, -4.47614677e-02,  2.34719992e-01, -6.22227304e-02,\n",
      "        4.32638526e-01, -1.25781640e-01, -3.88026893e-01,  6.95114210e-02,\n",
      "        3.88927370e-01,  1.91497907e-01,  3.93704534e-01,  7.70508945e-02,\n",
      "        2.42748171e-01,  1.88697278e-01, -3.67244810e-01, -3.32437307e-01,\n",
      "        5.84926605e-02,  1.36131765e-02, -4.94954437e-02,  9.72849205e-02,\n",
      "        2.19216451e-01,  7.39441812e-02, -1.61145255e-01, -1.03473634e-01,\n",
      "       -1.07910028e-02,  1.02769189e-01,  4.62657213e-02, -2.32364520e-01,\n",
      "       -3.42649758e-01, -2.17417970e-01, -1.81133449e-01, -3.53967339e-01,\n",
      "        2.49645725e-01,  8.71269926e-02,  2.53582746e-01, -6.64583892e-02,\n",
      "       -8.98952633e-02, -4.31444556e-01, -1.39871806e-01, -4.55705166e-01,\n",
      "        9.56590381e-03,  6.65567935e-01, -1.49039641e-01, -1.82911825e+00,\n",
      "       -2.38657191e-01, -2.42320925e-01,  1.16908276e+00,  4.25843626e-01,\n",
      "       -4.39488858e-01,  6.09742224e-01,  1.75414100e-01,  1.64002702e-01,\n",
      "        4.79468822e-01, -1.72131717e-01,  3.45876783e-01, -3.75227928e-01,\n",
      "       -9.55852792e-02, -1.68430552e-01, -3.22010875e-01,  2.65916362e-02,\n",
      "       -4.55609076e-02, -1.78871840e-01,  1.53345382e-02, -2.29259625e-01,\n",
      "        4.04480249e-01,  1.07711144e-01, -6.02934599e-01,  3.24271828e-01,\n",
      "        5.83839178e-01,  5.15312068e-02, -1.44633204e-01,  9.60080922e-02,\n",
      "       -4.11655873e-01, -1.20017007e-01, -8.81935935e-03, -2.70653188e-01,\n",
      "       -3.59609164e-02, -7.97371790e-02,  8.23447257e-02, -2.98305482e-01,\n",
      "       -9.91117209e-02,  5.46487629e-01, -2.30176911e-01,  1.35099635e-01,\n",
      "       -4.30366695e-02, -1.01536274e-01,  4.89041030e-01, -1.82904467e-01])}\n",
      "{'sentence_bow': array([2., 0., 0., ..., 0., 0., 0.]), 'compressed_bow': array([0., 0., 0., ..., 0., 0., 0.]), 'sentence_embedding': array([ 0.02831696, -0.14428243,  0.28341877, -0.32958663,  0.13897321,\n",
      "        0.22258578, -0.106007  ,  0.14094281, -0.3384023 ,  0.18606366,\n",
      "        0.00881721, -0.05114686,  0.20504463,  0.08984827,  0.11927149,\n",
      "       -0.20700648,  0.18391018,  0.03776808, -0.54862845,  0.22790238,\n",
      "        0.28738263, -0.226769  ,  0.35002649,  0.23803271,  0.27492344,\n",
      "       -0.03051737, -0.02396591, -0.58011085,  0.06502163, -0.0299296 ,\n",
      "        0.06262762,  0.43190512,  0.06433185,  0.10711534, -0.12464976,\n",
      "        0.03025685, -0.04468917,  0.29333881,  0.16010618,  0.00968415,\n",
      "       -0.46093935, -0.12860478,  0.17693748, -0.18358345,  0.20940775,\n",
      "        0.01099626,  0.04585356, -0.37871289, -0.07836771, -0.60073096,\n",
      "        0.09392267, -0.11215436,  0.21559606,  0.963678  , -0.25895935,\n",
      "       -2.10180426, -0.18260978, -0.33427641,  1.28155947,  0.48760673,\n",
      "       -0.06035423,  0.55946112, -0.07017667,  0.2091161 ,  0.59049398,\n",
      "       -0.10186963,  0.35086074,  0.34471792,  0.12518379,  0.17189699,\n",
      "       -0.02316895, -0.16932003, -0.3271963 , -0.22478049,  0.06289881,\n",
      "        0.10274256, -0.04314933,  0.03660411, -0.93354106, -0.04489982,\n",
      "        0.60198337,  0.11570548, -0.21803086,  0.16948442, -1.04802954,\n",
      "       -0.40900329,  0.05570363, -0.02323252,  0.01887448, -0.3337231 ,\n",
      "        0.07060003, -0.27401057, -0.0939289 ,  0.19808379, -0.38991788,\n",
      "        0.04873089, -0.22607954, -0.11517119,  0.33517587, -0.11370056]), 'compressed_embedding': array([ 0.09279312,  0.05854125,  0.28056091, -0.22413228, -0.00230425,\n",
      "        0.18474363, -0.28577748, -0.15335125, -0.51430112,  0.17400512,\n",
      "       -0.13104838,  0.01269076, -0.07699874,  0.13889562,  0.22156125,\n",
      "       -0.08689913,  0.03199425,  0.06879137, -0.36285239,  0.26848501,\n",
      "        0.31965214, -0.15923625,  0.28140676,  0.24133876,  0.31272623,\n",
      "        0.20102572, -0.07828325, -0.54968089, -0.11664662, -0.01386075,\n",
      "        0.31474888,  0.42606071,  0.17931125,  0.06012214, -0.19529833,\n",
      "        0.06755376, -0.07311375,  0.02044642,  0.09022662,  0.12861788,\n",
      "       -0.54619753, -0.09920637,  0.191367  , -0.12702525,  0.02037838,\n",
      "       -0.12789226, -0.07009599, -0.24605761, -0.14456087, -0.70114201,\n",
      "        0.45688498, -0.01645425,  0.26149374,  0.80947918, -0.09960653,\n",
      "       -1.7241025 , -0.22054   , -0.27051103,  0.94179916,  0.26877025,\n",
      "        0.02478838,  0.08787864,  0.03414563,  0.09032625,  0.43398124,\n",
      "       -0.0208545 ,  0.31932375,  0.36002025, -0.084205  ,  0.08629625,\n",
      "       -0.00591537,  0.11344674, -0.50195378, -0.11844888,  0.12425725,\n",
      "        0.16116163, -0.01109337, -0.04374374, -0.72806686,  0.198397  ,\n",
      "        0.46149439, -0.0030825 , -0.03218875,  0.06464588, -0.92113954,\n",
      "       -0.55685121, -0.22173938,  0.07500037,  0.16280851, -0.32640934,\n",
      "        0.04829288, -0.27090475, -0.24244176,  0.14057225, -0.25114486,\n",
      "       -0.05251537, -0.10108213,  0.0044275 ,  0.22759378, -0.18525001])}\n",
      "{'sentence_bow': array([1., 0., 1., ..., 0., 0., 0.]), 'compressed_bow': array([0., 0., 0., ..., 0., 0., 0.]), 'sentence_embedding': array([-1.43523172e-01, -3.30071598e-02,  2.90934473e-01, -2.67296076e-01,\n",
      "        5.43743670e-02, -1.32445814e-02, -1.84149995e-01,  3.10945511e-01,\n",
      "        5.90790026e-02,  6.62528351e-02,  1.23549640e-01,  1.61146998e-01,\n",
      "        3.47457826e-01, -2.75025237e-02,  1.81998774e-01, -2.75051445e-01,\n",
      "        4.00101364e-01,  8.04164782e-02, -3.36485803e-01,  1.36384398e-01,\n",
      "        1.93929940e-01, -1.85303345e-01,  2.65076876e-01, -6.20935671e-02,\n",
      "        1.99956521e-01, -2.61466354e-01,  6.62582815e-02, -3.62006843e-01,\n",
      "        2.13963091e-02, -1.50783211e-01, -5.46054728e-02,  3.82326186e-01,\n",
      "       -2.56874233e-01,  1.16968729e-01, -8.02250300e-03,  2.97995627e-01,\n",
      "       -7.02711940e-02,  1.77608058e-01, -2.34766364e-01, -9.49227959e-02,\n",
      "       -3.05744737e-01, -2.71176726e-01,  8.43154639e-02, -3.27383101e-01,\n",
      "        6.41742423e-02, -5.78203686e-02,  2.77413964e-01, -3.96728426e-01,\n",
      "       -5.06213084e-02, -6.33136809e-01,  1.28496006e-01,  1.89251170e-01,\n",
      "        2.98260450e-01,  1.09748161e+00, -1.00090839e-01, -2.19457173e+00,\n",
      "       -1.65466562e-01, -1.57818049e-01,  1.87004828e+00,  5.41554749e-01,\n",
      "       -5.58565296e-02,  4.93705362e-01, -1.45024166e-01,  1.79939374e-01,\n",
      "        8.25563192e-01, -4.62563103e-03,  3.84046763e-01,  3.20232958e-01,\n",
      "        1.61032870e-01, -2.85662204e-01, -1.01378731e-01, -3.68675143e-01,\n",
      "        4.18363372e-03, -4.87683654e-01,  1.73924044e-01,  6.65381327e-02,\n",
      "       -1.89076617e-01,  7.18458891e-02, -1.12627125e+00,  1.15134940e-01,\n",
      "        5.70300758e-01, -9.63756908e-03, -4.70332891e-01,  2.06930131e-01,\n",
      "       -1.25818014e+00, -1.86068311e-01,  2.78321296e-01, -2.31514737e-01,\n",
      "       -1.16310618e-03, -2.18757823e-01, -1.35256514e-01, -2.41171718e-01,\n",
      "       -1.84046224e-01, -1.37523478e-02, -3.70582134e-01, -2.14218926e-02,\n",
      "       -1.12189218e-01, -2.18570530e-01,  4.63179499e-01, -1.15096883e-03]), 'compressed_embedding': array([ 0.0531435 , -0.37812999,  0.22554415, -0.403662  ,  0.19308583,\n",
      "        0.18151833, -0.30438736,  0.39942947, -0.28835499,  0.09285066,\n",
      "        0.24223399,  0.15485001,  0.17877334,  0.04079117,  0.14552826,\n",
      "       -0.13749333,  0.34170118,  0.23524983, -0.08647499,  0.2264929 ,\n",
      "        0.0145095 ,  0.08891582,  0.16156666, -0.03460665,  0.49463835,\n",
      "       -0.26940486,  0.04266167, -0.27245381,  0.0313305 , -0.08388833,\n",
      "       -0.14530365,  0.38423169, -0.10253167,  0.03005867,  0.03255283,\n",
      "        0.23438001, -0.36205831,  0.22126867, -0.21739267, -0.10544816,\n",
      "        0.08065999, -0.20645916,  0.11697233, -0.38996169,  0.05175549,\n",
      "       -0.15047586,  0.09834766, -0.24577682, -0.08900168, -0.36338338,\n",
      "       -0.07758533,  0.15778501,  0.21586166,  0.76676553,  0.04237333,\n",
      "       -1.55084169, -0.0567475 ,  0.13113099,  1.57124507,  0.44041833,\n",
      "        0.10987332,  0.093867  ,  0.02452   ,  0.39474833,  0.37849164,\n",
      "       -0.017734  ,  0.20718217,  0.08508584,  0.16576   , -0.171615  ,\n",
      "       -0.1331175 , -0.19147418, -0.20517498, -0.4289932 ,  0.08133167,\n",
      "        0.31688485, -0.12892333,  0.04086084, -0.92385   ,  0.07451899,\n",
      "        0.64632505, -0.08925999, -0.40535668,  0.10931167, -0.87266582,\n",
      "       -0.00370167,  0.13235165, -0.3056612 ,  0.24835217, -0.05265759,\n",
      "       -0.30463967,  0.01914355, -0.03103667,  0.01613483, -0.0542325 ,\n",
      "       -0.08472569, -0.02616   ,  0.15345733,  0.48554516, -0.05338534])}\n",
      "{'sentence_bow': array([3., 0., 1., ..., 0., 0., 0.]), 'compressed_bow': array([0., 0., 0., ..., 0., 0., 0.]), 'sentence_embedding': array([-0.09653875,  0.03685053,  0.48475218, -0.18070564, -0.18376099,\n",
      "        0.10191339, -0.06100443,  0.30719447, -0.27576286,  0.01229313,\n",
      "        0.12674889,  0.06388859,  0.1690242 , -0.03167467,  0.05294171,\n",
      "       -0.13406336,  0.14553887,  0.14377999, -0.40066367,  0.06282327,\n",
      "        0.37086827, -0.12921973,  0.30745554,  0.09632642,  0.29132247,\n",
      "        0.01227736, -0.09468708, -0.43448547,  0.12945443, -0.20033842,\n",
      "       -0.19326292,  0.29828063, -0.07105138,  0.01203516,  0.11207114,\n",
      "        0.08900467, -0.17994522,  0.34382874, -0.17244419, -0.04133768,\n",
      "       -0.49647257, -0.12751648,  0.34775808, -0.37640262,  0.04255184,\n",
      "       -0.03143624,  0.40166852, -0.2125864 , -0.05590525, -0.66380131,\n",
      "       -0.09415466, -0.08029686,  0.25319541,  0.90240985, -0.16041835,\n",
      "       -2.143749  , -0.32454374, -0.0695803 ,  1.29915762,  0.59295803,\n",
      "       -0.29830259,  0.60851979, -0.23329388,  0.19748637,  0.67684388,\n",
      "       -0.07064303,  0.32718718,  0.42064953,  0.00951288, -0.18089306,\n",
      "        0.04116549, -0.28337502, -0.05448187, -0.39608553,  0.08640914,\n",
      "       -0.01800068, -0.22439748, -0.07399716, -0.69735193, -0.04615058,\n",
      "        0.47333157, -0.06417874, -0.43443218, -0.01726382, -1.17963147,\n",
      "       -0.23010318, -0.12680742, -0.02482857, -0.18644491, -0.27691761,\n",
      "       -0.1591191 , -0.10710565, -0.15374464,  0.18998247, -0.3289822 ,\n",
      "       -0.00947857, -0.0754004 , -0.07939862,  0.23367363,  0.15170373]), 'compressed_embedding': array([-0.17850225,  0.25007001,  0.59143245, -0.33173925, -0.61761177,\n",
      "        0.20812824, -0.10837951,  0.27096373,  0.246998  , -0.44251251,\n",
      "        0.09967445,  0.16971526,  0.37873751, -0.21542475,  0.10187001,\n",
      "       -0.30180752, -0.4463425 ,  0.280155  , -0.19457   ,  0.19437577,\n",
      "        0.277013  ,  0.33335751, -0.03983275, -0.37777501,  0.07454401,\n",
      "        0.16956475, -0.098678  , -0.43557426,  0.40687674,  0.07393225,\n",
      "       -0.153881  ,  0.59610748,  0.135115  , -0.0898825 ,  0.59833503,\n",
      "        0.30132252, -0.18086824,  0.27397749,  0.162765  , -0.24281999,\n",
      "       -0.23093249, -0.242614  ,  0.17015152, -0.65733004, -0.2161295 ,\n",
      "       -0.17383599,  0.69180501,  0.03822501, -0.0052205 , -1.265275  ,\n",
      "        0.05895625, -0.45272672,  0.3957825 ,  0.69903368, -0.19466999,\n",
      "       -2.18642497,  0.1149675 ,  0.15825325,  1.16009748,  0.65266126,\n",
      "        0.0234775 ,  1.31075001, -0.81079751,  0.05872808,  0.74434894,\n",
      "       -0.01460075,  0.64474249,  0.47612172,  0.09817025, -0.30540401,\n",
      "        0.11146549, -0.49443001,  0.18603803, -0.30959451,  0.30696824,\n",
      "        0.047345  , -0.10702063,  0.035284  , -0.55591249, -0.27436501,\n",
      "        0.53473496, -0.22119662, -0.83516753,  0.16013125, -1.82967496,\n",
      "       -0.30018499,  0.016615  , -0.22302   , -0.80507004, -0.64231753,\n",
      "       -0.14035749, -0.17676957,  0.06385499,  0.0764645 , -0.32649726,\n",
      "        0.23396224, -0.05792999, -0.50821   ,  0.0049245 ,  0.39374501])}\n",
      "{'sentence_bow': array([1., 2., 0., ..., 0., 0., 0.]), 'compressed_bow': array([0., 0., 0., ..., 0., 0., 0.]), 'sentence_embedding': array([-0.04107336,  0.22591299,  0.37916487, -0.23572758,  0.2898201 ,\n",
      "       -0.25659311, -0.07137512,  0.11838213, -0.07602235,  0.16501808,\n",
      "        0.08688274, -0.0493754 ,  0.293046  , -0.03245887, -0.12597471,\n",
      "       -0.29135373,  0.21948169, -0.27938879, -0.16457075,  0.11659966,\n",
      "        0.15062737, -0.17831545,  0.19048235,  0.05028898,  0.09729023,\n",
      "       -0.06252778, -0.17546822, -0.18016008, -0.00896474, -0.02026385,\n",
      "       -0.07797422,  0.42971081, -0.22628504, -0.06653779,  0.00344707,\n",
      "        0.27404058,  0.0831553 ,  0.26381406,  0.02633001, -0.07671273,\n",
      "       -0.3334409 , -0.27833247,  0.02751994, -0.18309087,  0.14759414,\n",
      "        0.0930547 , -0.04699146, -0.15479814, -0.15766555, -0.61565924,\n",
      "       -0.0699931 ,  0.18553656,  0.26175973,  1.01468587, -0.3137894 ,\n",
      "       -2.18488431, -0.23027924, -0.21697094,  1.60014141,  0.46931207,\n",
      "       -0.04274617,  0.40667921, -0.09957883,  0.05726413,  0.68275571,\n",
      "       -0.08326816,  0.38171595,  0.20768362,  0.16832057, -0.09465909,\n",
      "       -0.07665435, -0.13104966, -0.02975033, -0.27321404,  0.11476765,\n",
      "       -0.03395175,  0.02501232, -0.19449808, -1.0160079 ,  0.05425756,\n",
      "        0.75291187,  0.05470096, -0.3638624 ,  0.18868285, -0.90134585,\n",
      "       -0.28299716,  0.1183548 ,  0.10502519,  0.05894912, -0.43314278,\n",
      "        0.11693829, -0.13361946, -0.33523437, -0.15631697, -0.52327842,\n",
      "        0.1331896 , -0.29448333, -0.35864356,  0.56043601,  0.00642467]), 'compressed_embedding': array([ 1.39232501e-01,  6.16485000e-01,  1.58557504e-01, -3.20601463e-03,\n",
      "        3.04480016e-01, -4.12655801e-01, -1.62579983e-01,  9.01900008e-02,\n",
      "       -1.88293248e-01,  9.37491655e-04, -1.13449998e-01,  1.21788502e-01,\n",
      "        4.56802517e-01, -2.59675011e-02, -2.38737732e-01, -2.56207466e-01,\n",
      "        6.92574978e-02, -7.90047497e-02,  1.07672513e-01,  1.58564985e-01,\n",
      "        7.70625100e-02, -4.24553275e-01, -1.81122005e-01, -6.28675073e-02,\n",
      "        5.90275079e-02,  4.62502480e-01, -3.61707509e-01, -3.38849947e-02,\n",
      "        7.55197555e-02, -1.77297503e-01, -1.76360011e-01,  2.96637505e-01,\n",
      "       -2.89381444e-01, -1.29961506e-01,  2.19769999e-01,  4.12454993e-01,\n",
      "       -2.26929978e-01,  2.40394503e-01,  2.61850003e-02, -1.42850012e-01,\n",
      "       -3.76619220e-01, -3.93557489e-01, -2.06297487e-01, -1.06487498e-01,\n",
      "        2.45867521e-01,  1.49094984e-02, -4.95239019e-01, -6.85350001e-02,\n",
      "       -5.22307493e-02, -5.77417254e-01, -1.69247508e-01,  3.90769750e-01,\n",
      "        1.26642764e-01,  9.76147473e-01, -1.77245736e-01, -1.77925003e+00,\n",
      "        1.46006003e-01, -2.55637497e-01,  1.46248996e+00,  1.29647493e-01,\n",
      "        1.77516013e-01,  3.76602501e-01, -3.16647530e-01, -5.63700087e-02,\n",
      "        4.36717510e-01, -7.28165060e-02, -1.64224952e-02,  3.85350026e-02,\n",
      "        4.28299978e-02, -2.43014991e-01, -1.49010003e-01, -2.02555001e-01,\n",
      "        1.16150506e-01,  1.60931498e-01,  2.21299976e-02, -1.63327500e-01,\n",
      "       -7.78742433e-02, -5.40748239e-04, -5.67542553e-01,  8.18499923e-03,\n",
      "        6.69646978e-01,  8.29867274e-02, -5.11263728e-01, -7.67327398e-02,\n",
      "       -8.25228214e-01, -5.14787361e-02,  2.61608243e-01, -2.65411735e-01,\n",
      "        3.34552526e-01, -3.08867514e-01,  3.29704992e-02, -2.10745007e-01,\n",
      "       -1.61354974e-01, -3.03439021e-01, -4.21814978e-01,  3.55750099e-02,\n",
      "       -2.25000754e-01, -3.12359989e-01,  5.02225041e-01, -1.21569991e-01])}\n",
      "{'sentence_bow': array([2., 0., 1., ..., 0., 0., 0.]), 'compressed_bow': array([0., 0., 0., ..., 0., 0., 0.]), 'sentence_embedding': array([-0.3662101 , -0.143889  ,  0.2395907 , -0.18714637,  0.0079547 ,\n",
      "       -0.08228535, -0.17718913,  0.23804158, -0.15700422,  0.15441695,\n",
      "        0.08268449,  0.06272659,  0.20230632,  0.08763776, -0.04191632,\n",
      "       -0.33142391,  0.2793726 , -0.07792319, -0.50889528,  0.13408457,\n",
      "        0.22095765, -0.2183712 ,  0.25605342, -0.07362764, -0.05227275,\n",
      "       -0.07827695, -0.00638514, -0.28574374,  0.13742532, -0.13100477,\n",
      "       -0.20034441,  0.22978672, -0.00911   ,  0.07614218, -0.10271068,\n",
      "        0.08379937, -0.02906826,  0.28025615, -0.13150899, -0.17661391,\n",
      "       -0.35461652, -0.16671354,  0.23248334, -0.08731928,  0.13303523,\n",
      "        0.03181019,  0.15794387, -0.15255593, -0.04136369, -0.564224  ,\n",
      "        0.05865378,  0.02303992,  0.2105241 ,  0.83304846, -0.19214152,\n",
      "       -1.80928218, -0.09464132, -0.09043392,  1.36195004,  0.56850272,\n",
      "       -0.10171881,  0.29190439, -0.05352464,  0.09686179,  0.45483407,\n",
      "        0.03345006, -0.13636278,  0.44080451,  0.10593011,  0.01149826,\n",
      "        0.14930481, -0.4645893 , -0.20723104, -0.47292003,  0.18540114,\n",
      "       -0.01120641, -0.12847041,  0.23134179, -0.75417137,  0.14855286,\n",
      "        0.65355259, -0.09921818, -0.14139444,  0.14552431, -0.97345853,\n",
      "       -0.22254533,  0.22773105,  0.20393363,  0.02100632, -0.37846044,\n",
      "        0.1377212 , -0.26257908, -0.18265046,  0.29937321, -0.36088902,\n",
      "        0.0877668 , -0.05290263, -0.28256768,  0.30249146, -0.01140249]), 'compressed_embedding': array([-0.428783  , -0.29622579,  0.12489857,  0.03625572, -0.065707  ,\n",
      "        0.00866328, -0.11212684,  0.23582527, -0.27045643,  0.31995443,\n",
      "        0.18688028, -0.03856901,  0.00434285,  0.22501871, -0.19706586,\n",
      "       -0.46517855,  0.28691572, -0.07770029, -0.13850786,  0.17156328,\n",
      "        0.28190854, -0.13580571,  0.30705574, -0.21002257,  0.00392657,\n",
      "        0.04687114, -0.110472  , -0.15458098,  0.24349813, -0.28109771,\n",
      "       -0.23792158,  0.14046399, -0.14620699, -0.19792043, -0.05436185,\n",
      "       -0.03540215, -0.07246237,  0.216405  , -0.07090001, -0.30572829,\n",
      "       -0.21563901, -0.05617248,  0.12620573, -0.01935758,  0.28565139,\n",
      "        0.09771975,  0.14414558,  0.00704043,  0.15284431, -0.37062284,\n",
      "        0.09844385,  0.26184958,  0.25281572,  0.80368954, -0.08518714,\n",
      "       -1.51178145, -0.09681028, -0.41278699,  1.29032433,  0.41082716,\n",
      "        0.10324857,  0.21740286,  0.05754672,  0.2288713 ,  0.30117717,\n",
      "        0.03651047, -0.64982289,  0.31436449,  0.07151552,  0.22070715,\n",
      "        0.29662141, -0.54081583, -0.0530147 , -0.34383282,  0.31288472,\n",
      "       -0.222914  ,  0.00606138,  0.34703997, -0.6034357 ,  0.41645893,\n",
      "        0.5527615 , -0.15788142,  0.19934516,  0.37495974, -0.65972716,\n",
      "       -0.17733844,  0.46319899,  0.19838572,  0.15398   , -0.36570272,\n",
      "       -0.01654203, -0.40603834, -0.08656572,  0.20652829, -0.22824001,\n",
      "        0.10027228, -0.01299743, -0.29731816,  0.14887686, -0.09200471])}\n",
      "{'sentence_bow': array([1., 2., 2., ..., 0., 0., 0.]), 'compressed_bow': array([0., 0., 0., ..., 0., 0., 0.]), 'sentence_embedding': array([-1.23686306e-01, -1.27582904e-03,  3.41411144e-01, -1.45319924e-01,\n",
      "        1.61389098e-01,  2.13598818e-01, -4.23810771e-03,  2.54216611e-01,\n",
      "       -2.70625055e-01,  8.91686603e-02, -1.24973372e-01, -3.48196924e-03,\n",
      "        1.61632210e-01, -6.98543712e-02,  1.90974712e-01, -3.01123559e-01,\n",
      "        2.71936923e-01, -7.98535347e-02, -4.89250183e-01,  2.31186196e-01,\n",
      "        4.47190464e-01,  3.69195230e-02,  3.30788851e-01,  2.65578344e-03,\n",
      "        8.47113878e-02, -8.35022181e-02, -6.26532435e-02, -2.06708267e-01,\n",
      "        6.10836893e-02, -5.52312806e-02,  3.02303433e-02,  2.71511048e-01,\n",
      "        1.10950440e-01,  1.19432114e-01, -2.79952139e-01, -3.98278907e-02,\n",
      "        1.23903058e-01,  2.16923095e-02, -2.47551799e-02,  1.29158109e-01,\n",
      "       -5.89022040e-01, -2.74093837e-01,  6.05556034e-02, -2.87664562e-01,\n",
      "        2.16647744e-01,  8.62021595e-02,  3.02752316e-01, -2.97050297e-01,\n",
      "       -7.41780251e-02, -4.75989908e-01, -1.15045674e-01, -7.34486133e-02,\n",
      "        1.26302600e-01,  7.70632446e-01, -1.82053685e-01, -2.13920212e+00,\n",
      "       -9.07841474e-02, -3.31000417e-01,  1.35517204e+00,  4.59374756e-01,\n",
      "       -1.79082990e-01,  5.68089843e-01,  4.69433656e-03,  1.63257033e-01,\n",
      "        5.11193633e-01,  1.07261136e-01,  1.44248575e-01,  2.93772429e-01,\n",
      "        1.73133299e-01, -7.04071075e-02, -8.56795385e-02, -2.63363242e-01,\n",
      "       -1.84061751e-01, -2.10974976e-01,  2.92411894e-01,  4.50354926e-02,\n",
      "        4.95915525e-02,  6.65001944e-02, -7.64509678e-01,  9.23378915e-02,\n",
      "        5.87097347e-01,  8.70042294e-02, -5.14520586e-01,  1.26187459e-01,\n",
      "       -9.60548997e-01, -1.17712282e-01,  9.27586779e-02, -8.89578462e-02,\n",
      "        1.46854997e-01, -1.49310082e-01,  1.94785967e-01, -1.85721651e-01,\n",
      "       -2.41072744e-01,  2.08282724e-01, -6.70033038e-01,  4.33951505e-02,\n",
      "       -1.41592607e-01, -1.11210205e-01,  5.78071892e-01, -5.20155430e-02]), 'compressed_embedding': array([-0.39734498, -0.21539418,  0.54887831,  0.20231499, -0.07146767,\n",
      "        0.241446  ,  0.20944369,  0.37359834,  0.01922568, -0.16937667,\n",
      "        0.00186   ,  0.09884834,  0.32826999, -0.23672633,  0.15869834,\n",
      "       -0.10461833,  0.10498634, -0.24615   , -0.38315681, -0.10375633,\n",
      "        0.69676834,  0.38593164,  0.55224615, -0.15229334,  0.00932067,\n",
      "        0.24483669, -0.20509768,  0.00662866,  0.01254607,  0.18641949,\n",
      "        0.26475832,  0.09876733,  0.08638167,  0.17666115,  0.08375833,\n",
      "       -0.21051501,  0.074695  , -0.44915998, -0.18926501,  0.17797618,\n",
      "       -0.72265702, -0.10652465,  0.08854283,  0.08313333,  0.4190315 ,\n",
      "        0.114445  ,  0.37937367,  0.21951032,  0.30386594, -0.17198668,\n",
      "        0.06459317,  0.04668349,  0.20041668,  0.47127387,  0.06444   ,\n",
      "       -1.77957785, -0.17769732, -0.41111335,  0.84952664,  0.29060331,\n",
      "       -0.35796666,  0.52294463, -0.04947959,  0.10429001,  0.33613333,\n",
      "        0.11761883, -0.22142501,  0.00253334,  0.21480118, -0.07592366,\n",
      "       -0.22910126, -0.3071917 , -0.10613117, -0.16867782,  0.42207   ,\n",
      "        0.03467333,  0.20584334,  0.2232635 , -0.26588079,  0.19712716,\n",
      "        0.40163496,  0.09884167, -0.55134171,  0.28976485, -0.70061499,\n",
      "       -0.09671134,  0.03709833,  0.27547953,  0.31661668,  0.07988683,\n",
      "        0.21223433, -0.24320783, -0.21801518,  0.39600566, -0.78709817,\n",
      "        0.131025  , -0.0634912 ,  0.0438185 ,  0.5296067 , -0.095561  ])}\n"
     ]
    }
   ],
   "source": [
    "for i in range(10):\n",
    "    print(test_ds[i])"
   ]
  },
  {
   "cell_type": "markdown",
   "metadata": {
    "collapsed": false,
    "pycharm": {
     "name": "#%% md\n"
    }
   },
   "source": [
    "Here you can see that the new dataset returned a single numpy array containing all sentence embeddings in our dataset. This is a lot more efficient than returning a list of arrays (which is the default behaviour). Below we check the type and the dimensionality.\n",
    "\n",
    "We will be using `text` subset from our dataset to not use too much RAM."
   ]
  },
  {
   "cell_type": "code",
   "execution_count": 99,
   "metadata": {
    "collapsed": false,
    "pycharm": {
     "name": "#%%\n"
    }
   },
   "outputs": [
    {
     "name": "stdout",
     "output_type": "stream",
     "text": [
      "<class 'numpy.ndarray'>\n",
      "(36000, 100)\n",
      "<class 'numpy.ndarray'>\n",
      "(36000, 100)\n"
     ]
    }
   ],
   "source": [
    "sent_embedding = test_ds['sentence_embedding']\n",
    "compr_embedding = test_ds['compressed_embedding']\n",
    "print(type(sent_embedding))\n",
    "print(sent_embedding.shape)\n",
    "print(type(compr_embedding))\n",
    "print(compr_embedding.shape)"
   ]
  },
  {
   "cell_type": "markdown",
   "metadata": {
    "collapsed": false,
    "pycharm": {
     "name": "#%% md\n"
    }
   },
   "source": [
    "Next we try the condensed representatin based on a simple query. Feel free to try different queries with different words. What happens if we have OOV words in a query?"
   ]
  },
  {
   "cell_type": "code",
   "execution_count": 100,
   "metadata": {
    "collapsed": false,
    "pycharm": {
     "name": "#%%\n"
    }
   },
   "outputs": [
    {
     "name": "stdout",
     "output_type": "stream",
     "text": [
      "fox and deer\n",
      "(100,)\n",
      "[-7.9574332e-02 -3.4770331e-01  1.7729366e-01 -6.0485005e-01\n",
      "  3.0022332e-02 -3.1933334e-01 -3.3017006e-02  3.8080001e-01\n",
      " -9.5549993e-02 -6.8293667e-01 -2.5135002e-01 -2.6160267e-01\n",
      "  5.4243332e-01  4.8967004e-02  6.4244002e-01  1.4520667e-01\n",
      "  1.6598998e-01  2.1143766e-01 -2.9778001e-01  3.7910333e-01\n",
      " -2.5491999e-02  3.0857334e-01  4.4262299e-01 -4.8366687e-03\n",
      "  5.1693004e-01  6.1506337e-01 -1.6002001e-01 -1.9082667e-01\n",
      " -4.2462167e-01 -1.7103335e-02  9.1679998e-02  5.4518598e-01\n",
      "  2.2566617e-03  4.1771331e-01  2.9497001e-01  2.8101999e-01\n",
      " -2.5762668e-02  2.4963665e-01  3.6236334e-01  2.3719667e-01\n",
      " -2.1890998e-01 -2.1570998e-01 -4.9093699e-01  1.8930303e-01\n",
      " -2.2870134e-01  2.5945336e-02  2.1237333e-01 -3.5905001e-01\n",
      "  1.7600060e-03 -3.3630332e-01 -6.9356328e-01 -1.8233334e-01\n",
      "  9.2886640e-03  9.2804670e-01 -2.8199133e-01 -1.7956600e+00\n",
      " -1.0166732e-01  2.3830002e-02  7.7983665e-01  2.9350668e-01\n",
      " -4.9146999e-02  7.9245996e-01  3.5156965e-01  2.4036676e-02\n",
      "  1.1213700e+00  2.1680067e-01  3.5515597e-01 -1.1769990e-02\n",
      "  3.5113668e-01  6.1282998e-01 -2.3524332e-01 -3.1374046e-01\n",
      " -9.6039660e-02 -2.8411800e-01 -3.6390673e-02 -4.3443333e-02\n",
      " -5.8063668e-01  2.6340067e-01 -7.3534006e-01  2.5729999e-01\n",
      "  5.1676673e-01 -4.6536573e-03 -9.2333339e-02 -8.6986661e-02\n",
      " -6.4950603e-01 -1.3533334e-02 -3.5431001e-01  2.1625966e-01\n",
      "  4.4950667e-01  1.6832666e-01 -7.7321000e-02 -9.2248327e-01\n",
      "  1.2464666e-01  1.2446667e-02 -1.1995667e+00 -3.3782998e-01\n",
      " -5.7883334e-01 -2.6139334e-01  6.6624999e-01 -1.2742333e-01]\n"
     ]
    }
   ],
   "source": [
    "query = 'fox and deer'\n",
    "print(query)\n",
    "\n",
    "query_embedding = embed_text(query, clean, tokenize, lambda x: embed_sentence_word_model(x, glove_model))\n",
    "print(query_embedding.shape)\n",
    "print(query_embedding)"
   ]
  },
  {
   "cell_type": "code",
   "execution_count": 101,
   "metadata": {},
   "outputs": [
    {
     "name": "stdout",
     "output_type": "stream",
     "text": [
      "fortnite\n",
      "(100,)\n",
      "[0. 0. 0. 0. 0. 0. 0. 0. 0. 0. 0. 0. 0. 0. 0. 0. 0. 0. 0. 0. 0. 0. 0. 0.\n",
      " 0. 0. 0. 0. 0. 0. 0. 0. 0. 0. 0. 0. 0. 0. 0. 0. 0. 0. 0. 0. 0. 0. 0. 0.\n",
      " 0. 0. 0. 0. 0. 0. 0. 0. 0. 0. 0. 0. 0. 0. 0. 0. 0. 0. 0. 0. 0. 0. 0. 0.\n",
      " 0. 0. 0. 0. 0. 0. 0. 0. 0. 0. 0. 0. 0. 0. 0. 0. 0. 0. 0. 0. 0. 0. 0. 0.\n",
      " 0. 0. 0. 0.]\n"
     ]
    }
   ],
   "source": [
    "query = 'fortnite'\n",
    "print(query)\n",
    "\n",
    "query_embedding = embed_text(query, clean, tokenize, lambda x: embed_sentence_word_model(x, glove_model))\n",
    "print(query_embedding.shape)\n",
    "print(query_embedding)"
   ]
  },
  {
   "cell_type": "markdown",
   "metadata": {
    "collapsed": false,
    "pycharm": {
     "name": "#%% md\n"
    }
   },
   "source": [
    "<a name='e13'></a>\n",
    "### Exercise 13: Analyze sentence embeddings\n",
    "- (5p) Calculate similarity between the word embeddings representations of the selected queries and the dataset sentences.\n",
    "- (5p) Analyze the search results. Does the search work as expected? Discuss the results.\n",
    "- (5p) Compare the results with the ones you got with the bag-of-words and TF-IDF representation. Discuss the differences and similarities."
   ]
  },
  {
   "cell_type": "code",
   "execution_count": 102,
   "metadata": {
    "collapsed": false,
    "pycharm": {
     "name": "#%%\n"
    }
   },
   "outputs": [],
   "source": [
    "### YOUR CODE HERE\n",
    "def perform_search_embeddings(query, num_results=5, model=glove_model):\n",
    "    \n",
    "    \n",
    "    embedded_query = embed_text(query, clean, tokenize, lambda x: embed_sentence_word_model(x, model))\n",
    "    \n",
    "    query_similarity_embed = cosine_similarity_1_to_n(embedded_query, sent_embedding)\n",
    "\n",
    "    \n",
    "    query_similarity_embed = np.nan_to_num(query_similarity_embed)\n",
    "\n",
    "    \n",
    "    top_indices_embed = top_k_indices(query_similarity_embed, k=num_results).tolist()\n",
    "\n",
    "    \n",
    "    \n",
    "    for idx in top_indices_embed:\n",
    "        similarity_score = query_similarity_embed[idx]\n",
    "        original_sentence = split_ds['test'][idx]['set'][0] \n",
    "        print(f\"Similarity: {similarity_score} - {original_sentence}\")\n",
    "    \n",
    "\n",
    "\n",
    "\n",
    "### YOUR CODE ENDS HERE"
   ]
  },
  {
   "cell_type": "code",
   "execution_count": 103,
   "metadata": {},
   "outputs": [
    {
     "name": "stdout",
     "output_type": "stream",
     "text": [
      "########## Query: 'fox and deer' ##########\n",
      "\n",
      "BOW\n",
      "Similarity: 0.4082 - CW INDUSTRIES High density rectangular connector with enhanced retention and solderability, meets the requirements of MIL-DTL-28804 and NAVSEA 3164341 and 3164342 specifications.\n",
      "Similarity: 0.4082 - ``The Sensex has supports at 17,520 and 17,380 and resistances at 17,710 and 17,830. The Nifty has supports at 5,300 and 5,270 and resistances at 5,370 and 5,400,`` it added.\n",
      "Similarity: 0.3965 - Heide and Cook Ltd. is restructuring its business to focus on heating, ventilation and air conditioning services, and CFO and Executive Vice President Dexter Kekua is retiring and will not be replaced.\n",
      "Similarity: 0.3849 - Singapore and Australia reaffirmed on Monday to enhance bilateral ties and strengthen cooperation on regional and international political, economic and security developments.\n",
      "Similarity: 0.3825 - Chinese ambassador to Australia Zhang Junsai on Tuesday called for broader and further cooperation between China and Australia in such areas as energy and resources, education and tourism, and in environmental protection, particularly in the time of the global financial crisis and economic downturn.\n",
      "----------------------------------------\n",
      "TF-IDF\n",
      "Similarity: 0.3501 - What time of the day is best for hunting deer during a full moon?\n",
      "Similarity: 0.3256 - Fox has apologized to Asians after a Fox Sports report made fun of Asian students' accents and knowledge of college football.\n",
      "Similarity: 0.3229 - Authorities say a driver in west Michigan has died after hitting a deer, losing control of the vehicle and striking a tree.\n",
      "Similarity: 0.3189 - Divers found the body of a missing deer hunter, near Laurie, in Camden County.\n",
      "Similarity: 0.3189 - It's deer hunting season, and that means some lucky hunters will bring home venison.\n",
      "----------------------------------------\n",
      "Word Embedding\n",
      "Similarity: 0.8216568204346758 - It's deer hunting season, and that means some lucky hunters will bring home venison.\n",
      "Similarity: 0.7918045349010726 - A Missouri hunter recently found a white deer -- possibly an albino -- while hunting near Lake of the Ozarks.\n",
      "Similarity: 0.775249202233176 - CSU researchers bucked the trend, however, and reproduced in June a purebred bison calf at the Bronx Zoo.\n",
      "Similarity: 0.7743843010082276 - Wisconsin hunting, fishing, trapping and other licenses for fish and wildlife activities in Wisconsin go on sale Wednesday, March 9.\n",
      "Similarity: 0.7742840329691718 - The North Dakota Game and Fish Department says the first mountain lion of the season has been killed, in Dunn County.\n",
      "\n",
      "============================================================\n",
      "\n",
      "########## Query: 'Chinese planes' ##########\n",
      "\n",
      "BOW\n",
      "Similarity: 0.3162 - Charlotte and Port Charlotte high school students enrolled in Liang Wang's Chinese class celebrate the Chinese New Year.\n",
      "Similarity: 0.3015 - Shanghai-based Chinese steel giant Baosteel signs a cooperation contract with Hebei-based Chinese automobile maker Great Wall Motor Company Limited, according to media reports.\n",
      "Similarity: 0.3015 - An interaction program on Chinese publication was held Friday in Nepali capital Kathmandu to mark the coming Chinese New Year.\n",
      "Similarity: 0.2949 - AP , 06.08.11, 08:25 AM EDT Taiwanese and Chinese negotiators says Taiwan will let Chinese tourists travel alone on the island starting in late June.\n",
      "Similarity: 0.2774 - Chinese Premier Wen Jiabao will visit Brunei Darussalam next month, the first by the Chinese premier to the Sultanate.\n",
      "------------------------------------------\n",
      "TF-IDF\n",
      "Similarity: 0.4081 - The plane crashed into a home in High Point.\n",
      "Similarity: 0.3890 - A Greensboro man died in a small plane crash at the Elkin Municipal Airport, not far from where six people died in a plane crash last week.\n",
      "Similarity: 0.3363 - A small plane crashed this weekend into Lake Lucille near Wasilla and sank.\n",
      "Similarity: 0.3309 - Chinese Premier Wen Jiabao will visit Brunei Darussalam next month, the first by the Chinese premier to the Sultanate.\n",
      "Similarity: 0.3231 - Four-time Olympic champion Guo Jingjing will not retire after the Chinese 11th National Games, Zhou Jihong, team leader of the Chinese national diving team, said on Friday.\n",
      "------------------------------------------\n",
      "Word Embedding\n",
      "Similarity: 0.7965343397644172 - A Boeing passenger jet crashed today in Guyana.\n",
      "Similarity: 0.7851317852813273 - A US military cargo helicopter crashed near the North Korean border during a joint drill with South Korean forces Tuesday afternoon.\n",
      "Similarity: 0.7816359297468739 - Air China on Monday began operating regular flights between Beijing and Pyongyang, China's state-run media reported.\n",
      "Similarity: 0.7796485870959425 - A DHL cargo plane has crashed in the Central African nation of Gabon, where police rescued the crew with speedboats, APA reports quoting ``Associated Press''.\n",
      "Similarity: 0.7792358943162955 - A Cathay Pacific flight en route to Hong Kong has made an emergency landing in Moscow, after smoke was detected in the cockpit.\n",
      "\n",
      "============================================================\n",
      "\n",
      "########## Query: 'china airlines' ##########\n",
      "\n",
      "BOW\n",
      "Similarity: 0.4743 - Qantas has significantly expanded its reach into China by signing a new codeshare agreement with China Eastern Airlines.\n",
      "Similarity: 0.4243 - AirMedia Group Inc, an operator of out-of-home advertising platforms in China, has renewed its concession rights contract with China Eastern Airlines, the company reported today.\n",
      "Similarity: 0.3693 - For the seventh time LAN Airlines is chosen Best Airline in Central/ South America and the Caribbean by the Official Airline Guide.\n",
      "Similarity: 0.3651 - Starbucks Corporation will soon face more competition in China, said China Daily today.\n",
      "Similarity: 0.3536 - A Nationwide computer failure has drastically disrupted US carrier United Airlines operations, the airline confirmed.\n",
      "------------------------------------------\n",
      "TF-IDF\n",
      "Similarity: 0.5106 - For the seventh time LAN Airlines is chosen Best Airline in Central/ South America and the Caribbean by the Official Airline Guide.\n",
      "Similarity: 0.4581 - Qantas has significantly expanded its reach into China by signing a new codeshare agreement with China Eastern Airlines.\n",
      "Similarity: 0.4545 - AirMedia Group Inc, an operator of out-of-home advertising platforms in China, has renewed its concession rights contract with China Eastern Airlines, the company reported today.\n",
      "Similarity: 0.4106 - A Nationwide computer failure has drastically disrupted US carrier United Airlines operations, the airline confirmed.\n",
      "Similarity: 0.3926 - Aloha Airlines halting passenger service after bankruptcy filing The airline says it will stop taking flight reservations after today.\n",
      "------------------------------------------\n",
      "Word Embedding\n",
      "Similarity: 0.8438340300179009 - Dragonair, a subsidiary of Cathay Pacific Airways, has launched a new scheduled service to Hanoi, Vietnam.\n",
      "Similarity: 0.8407873538009878 - Dragonair has announced that it will resume scheduled services to Haikou in Hainan Province, further strengthening Hong Kong's position as a global aviation hub and gateway to Mainland China.\n",
      "Similarity: 0.8259618375187542 - Qantas has significantly expanded its reach into China by signing a new codeshare agreement with China Eastern Airlines.\n",
      "Similarity: 0.8224292727572431 - China Eastern Airlines, the country's third most valuable airline, agreed to buy 50 Airbus A320 aircraft to meet rising demand and lift its competitiveness in the air transportation market.\n",
      "Similarity: 0.8187070579431579 - Air China on Monday began operating regular flights between Beijing and Pyongyang, China's state-run media reported.\n",
      "\n",
      "============================================================\n",
      "\n",
      "########## Query: 'reply' ##########\n",
      "\n",
      "BOW\n",
      "Similarity: 0.3015 - WordPress announced that WordPress.com blogs are now getting comment notifications, with moderation and reply functionality.\n",
      "Similarity: 0.2582 - Congress president Sonia Gandhi warned on Wednesday that India would give a ``fitting reply'' to terrorism.\n",
      "Similarity: 0.1857 - Action against S Sreesanth for criticising the Kerala Cricket Association will depend on his reply to the association's letter seeking the player's explanation.\n",
      "Similarity: 0.1690 - Kolkata, June 8 Mohun Bagan Monday suspended soccer star Bhaichung Bhutia for six months, alleging that the striker has given an 'unsatisfactory' reply to the show cause notice slapped on him by the I-League club.\n",
      "Similarity: 0.1644 - BSNL has requested a refund of Rs 8,313.9 crore for surrendering its BWA spectrum in 20 circles, minister of state for communications and IT Milind Deora said in his written reply to Lok Sabha.\n",
      "Similarity: 0.1429 - Madhya Pradesh Veteran Congress leader Arjun Singh who was Madhya Pradesh Chief Minister at the time of the Bhopal gas disaster in December 1984 said here today that he would give ``appropriate reply at an appropriate time'' on it.\n",
      "Similarity: 0.1325 - In a written reply to the House, Minister of State for External Affairs E. Ahmad said: ``India is committed to resolving all outstanding issues with Pakistan through dialogue in the interest of peace and prosperity of our people,'' The Dawn reports.\n",
      "Similarity: 0.1187 - The Finance Ministry is going to reply to the Vodafone notice on the retrospective tax proposal after the passage of the Finance Bill in Parliament as the matter is related to it.\n",
      "Similarity: 0.1155 - The former chairman of Andhra Pradesh Industrial Infrastructure Corporation, Mr Ambati Rambabu, said the former MP, Mr YS Jagan Mohan Reddy, will give reply to the notices given by income tax department and alleged that the UPA chairperson, Ms Sonia Gandhi, the Chief Minister, Mr Kiran Kumar Reddy.\n",
      "Similarity: 0.0000 - Sports Writer Adding a big arm to their bullpen, the NL West-leading Los Angeles Dodgers acquired former All-Star closer George Sherrill from the Baltimore Orioles on Thursday for two minor leaguers.\n",
      "---------------------------------\n",
      "TF-IDF\n",
      "Similarity: 0.4957 - WordPress announced that WordPress.com blogs are now getting comment notifications, with moderation and reply functionality.\n",
      "Similarity: 0.4491 - Congress president Sonia Gandhi warned on Wednesday that India would give a ``fitting reply'' to terrorism.\n",
      "Similarity: 0.3446 - Action against S Sreesanth for criticising the Kerala Cricket Association will depend on his reply to the association's letter seeking the player's explanation.\n",
      "Similarity: 0.3417 - Kolkata, June 8 Mohun Bagan Monday suspended soccer star Bhaichung Bhutia for six months, alleging that the striker has given an 'unsatisfactory' reply to the show cause notice slapped on him by the I-League club.\n",
      "Similarity: 0.3353 - The Finance Ministry is going to reply to the Vodafone notice on the retrospective tax proposal after the passage of the Finance Bill in Parliament as the matter is related to it.\n",
      "Similarity: 0.3235 - BSNL has requested a refund of Rs 8,313.9 crore for surrendering its BWA spectrum in 20 circles, minister of state for communications and IT Milind Deora said in his written reply to Lok Sabha.\n",
      "Similarity: 0.2834 - In a written reply to the House, Minister of State for External Affairs E. Ahmad said: ``India is committed to resolving all outstanding issues with Pakistan through dialogue in the interest of peace and prosperity of our people,'' The Dawn reports.\n",
      "Similarity: 0.2331 - Madhya Pradesh Veteran Congress leader Arjun Singh who was Madhya Pradesh Chief Minister at the time of the Bhopal gas disaster in December 1984 said here today that he would give ``appropriate reply at an appropriate time'' on it.\n",
      "Similarity: 0.2027 - The former chairman of Andhra Pradesh Industrial Infrastructure Corporation, Mr Ambati Rambabu, said the former MP, Mr YS Jagan Mohan Reddy, will give reply to the notices given by income tax department and alleged that the UPA chairperson, Ms Sonia Gandhi, the Chief Minister, Mr Kiran Kumar Reddy.\n",
      "Similarity: 0.0000 - The Samsung Galaxy S4 will be available to pre-order from TalkTalk from Monday, ready for its release on April 26.\n",
      "---------------------------------\n",
      "Word Embedding\n",
      "Similarity: 0.4969280712005052 - WordPress announced that WordPress.com blogs are now getting comment notifications, with moderation and reply functionality.\n",
      "Similarity: 0.4607724622994618 - ``Mubarak did not write a letter of resignation,'' Farid al-Deeb told the court.\n",
      "Similarity: 0.45744635960799707 - Congress president Sonia Gandhi warned on Wednesday that India would give a ``fitting reply'' to terrorism.\n",
      "Similarity: 0.454418920224289 - Action against S Sreesanth for criticising the Kerala Cricket Association will depend on his reply to the association's letter seeking the player's explanation.\n",
      "Similarity: 0.4401591734724388 - ``Dear Twitter friends, I've read some horrible rumors on here & want u 2 know I absolutely deny I've had an affair with David Beckham,'' Jenkins tweeted.\n",
      "Similarity: 0.43897605461038336 - Bowler-friendly conditions in Durban will help India in the second Test against South Africa starting today, skipper Mahendra Singh Dhoni said yesterday.\n",
      "Similarity: 0.43888720751639615 - Batsman Ian Bell will not play in the forthcoming England`s Test series against Pakistan .\n",
      "Similarity: 0.43631188571636426 - Cheryl Cole says she doesn't read any press articles written about her, to avoid getting upset.\n",
      "Similarity: 0.4359376815380114 - Neither yes nor no but please could you ask a different question?\n",
      "Similarity: 0.4330372498442565 - South African skipper Graeme Smith won the toss and elected to bat in a crucial group B match against Bangladesh here Saturday.\n",
      "\n",
      "============================================================\n",
      "\n",
      "########## Query: 'respond' ##########\n",
      "\n",
      "BOW\n",
      "Similarity: 0.3849 - Firefighters already stretched thin in responding to multiple fires this week, responded to a fire off of County Road 397 Wednesday afternoon.\n",
      "Similarity: 0.3162 - Police respond to a stabbing around 8 pm Monday in Terre Haute.\n",
      "Similarity: 0.2673 - UFC President Dana White responded harshly when asked about the crowd booing tonight's flyweight title fight.\n",
      "Similarity: 0.2582 - The Red Cross is expanding its resources in Missouri to respond faster during local disasters.\n",
      "Similarity: 0.2500 - Crews responded to the scene of a natural gas leak in Chester County on Thursday evening.\n",
      "-----------------------------------\n",
      "TF-IDF\n",
      "Similarity: 0.5397 - Firefighters already stretched thin in responding to multiple fires this week, responded to a fire off of County Road 397 Wednesday afternoon.\n",
      "Similarity: 0.4883 - A Hofstra student was killed by police, who were responding to reports of a home invasion.\n",
      "Similarity: 0.4852 - Police respond to a stabbing around 8 pm Monday in Terre Haute.\n",
      "Similarity: 0.4103 - A Bismarck Police officer is shot and killed after responding to a call last night...\n",
      "Similarity: 0.4085 - Lauryn Hill has turned to the Internet to respond to federal tax evasion charges.\n",
      "-----------------------------------\n",
      "Word Embedding\n",
      "Similarity: 0.6354744460010769 - Multiple bomb threats forced eight Washington courthouses to evacuate Thursday afternoon, and officials don't yet know if the threats were coordinated.\n",
      "Similarity: 0.6299636680776404 - Scientists are trying to understand how HIV affects the brain.\n",
      "Similarity: 0.6235304348296905 - The US does not expect to send ground troops into Syria under any circumstances, Barack Obama has said.\n",
      "Similarity: 0.6224093863048663 - NATO agreed on Tuesday to send Patriot missiles to Turkey to defend against a possible Syrian missile attack and voiced grave concern about reports that Damascus may be preparing to use chemical weapons.\n",
      "Similarity: 0.6170184864224837 - Neither yes nor no but please could you ask a different question?\n",
      "\n",
      "============================================================\n",
      "\n",
      "########## Query: 'asian Elephant' ##########\n",
      "\n",
      "BOW\n",
      "Similarity: 0.3780 - A baby elephant had drowned at the Pinnawela Elephant Orphanage Saturday evening, officials said.\n",
      "Similarity: 0.2970 - The San Diego Zoo is loaning two female Asian elephants to the Los Angeles Zoo for its new $42-million Elephants of Asia exhibit set to open in mid-December, officials at the two zoos announced Friday.\n",
      "Similarity: 0.2887 - A rare Asian elephant born this summer at a southern Ontario safari park is the first third-generation calf born in North America, officials said Tuesday.\n",
      "Similarity: 0.2774 - Fox has apologized to Asians after a Fox Sports report made fun of Asian students' accents and knowledge of college football.\n",
      "Similarity: 0.2041 - A rare Sumatran elephant, missing its tusks, has been found dead in western Indonesia.\n",
      "------------------------------------------\n",
      "TF-IDF\n",
      "Similarity: 0.6312 - A baby elephant had drowned at the Pinnawela Elephant Orphanage Saturday evening, officials said.\n",
      "Similarity: 0.4547 - The San Diego Zoo is loaning two female Asian elephants to the Los Angeles Zoo for its new $42-million Elephants of Asia exhibit set to open in mid-December, officials at the two zoos announced Friday.\n",
      "Similarity: 0.4437 - A rare Asian elephant born this summer at a southern Ontario safari park is the first third-generation calf born in North America, officials said Tuesday.\n",
      "Similarity: 0.3875 - A rare Sumatran elephant, missing its tusks, has been found dead in western Indonesia.\n",
      "Similarity: 0.3763 - The elephants consumed poisonous crops, says a committee that went into the issue.\n",
      "------------------------------------------\n",
      "Word Embedding\n",
      "Similarity: 0.677401377729171 - A rare Asian elephant born this summer at a southern Ontario safari park is the first third-generation calf born in North America, officials said Tuesday.\n",
      "Similarity: 0.6726555877961456 - A rare Sumatran elephant, missing its tusks, has been found dead in western Indonesia.\n",
      "Similarity: 0.6611455857513748 - A baby elephant had drowned at the Pinnawela Elephant Orphanage Saturday evening, officials said.\n",
      "Similarity: 0.6562022827320809 - South African sniffer dogs were being used to combat rhino poaching and the smuggling of elephant tusks, according to a report on Saturday.\n",
      "Similarity: 0.655075143973399 - Indonesian dragon boat teams won six gold medals at the international DBS Marina Regatta water sports festival in Marina Bay, Singapore, beating out teams from around the region, including Malaysia, the Philippines, Hong Kong and Brunei.\n",
      "\n",
      "============================================================\n",
      "\n",
      "########## Query: 'Zosel Dam Lake Osoyoos' ##########\n",
      "\n",
      "BOW\n",
      "Similarity: 0.3693 - Additional water will be held back at Zosel Dam on Lake Osoyoos now that a drought has been declared in the region by the International Osoyoos Lake Board of Control.\n",
      "Similarity: 0.3162 - A Cedar Lake man has been charged in Lake Superior Court with child molesting involving an 11-year-old girl.\n",
      "Similarity: 0.2887 - Lake Tahoe has been named the ``Best Lake in America,'' according to results of a recent readers' poll released Monday by USA Today.\n",
      "Similarity: 0.2774 - Two people, including a 3-year-old boy, were injured Sunday afternoon in a Lake Michigan boating accident just north of the Muskegon Lake channel.\n",
      "Similarity: 0.2722 - Lake Tahoe area officials tomorrow will launch a water taxi service with two routes and four stops on the lake's north and west shores.\n",
      "--------------------------------------------------\n",
      "TF-IDF\n",
      "Similarity: 0.5817 - Additional water will be held back at Zosel Dam on Lake Osoyoos now that a drought has been declared in the region by the International Osoyoos Lake Board of Control.\n",
      "Similarity: 0.4643 - Low water level in Sardar Sarovar dam across Narmada river at Kevadya has restricted the power generation hours from six units of the 1450 mw hydro-power project set up at the dam site.\n",
      "Similarity: 0.4591 - Man's body found in NSW dam Updated: 15:03, Sunday December 9, 2012 The body of a man has been found in a dam north of Sydney, two days after he went missing.\n",
      "Similarity: 0.3328 - Captain Thulani Zwane said the woman, 20, apparently threw the baby into the dam on Wednesday after its father rejected the child.\n",
      "Similarity: 0.3223 - Lake Tahoe has been named the ``Best Lake in America,'' according to results of a recent readers' poll released Monday by USA Today.\n",
      "--------------------------------------------------\n",
      "Word Embedding\n",
      "Similarity: 0.582450024021404 - AP-NDSheyenne River Bridge Collapse,0123 ND bridge collapse tosses 5 into water Eds:\n",
      "Similarity: 0.5671224293189165 - Pervious concrete keeps campers dry at Otsego Lake State Park in Gaylord, Michigan.\n",
      "Similarity: 0.5206231891502129 - Residents were evacuated near the Markarfljot river Thursday after volcanic eruption melted glaciers and caused flooding in southern Iceland.\n",
      "Similarity: 0.5129031373662197 - The US Coast Guard has rescued a cold-water surfer from Lake Superior near the Presque Isle breakwall in Marquette.\n",
      "Similarity: 0.5016473654555446 - Low water level in Sardar Sarovar dam across Narmada river at Kevadya has restricted the power generation hours from six units of the 1450 mw hydro-power project set up at the dam site.\n",
      "\n",
      "============================================================\n",
      "\n",
      "########## Query: 'preventive' ##########\n",
      "\n",
      "BOW\n"
     ]
    },
    {
     "name": "stderr",
     "output_type": "stream",
     "text": [
      "/var/folders/fp/bqd9m9ln4sn4w0xn9dg147tc0000gn/T/ipykernel_37062/2851269352.py:17: RuntimeWarning: invalid value encountered in divide\n",
      "  similarities_vector = dot_product/(norm_vector*norms_others)\n"
     ]
    },
    {
     "name": "stdout",
     "output_type": "stream",
     "text": [
      "Similarity: 0.0000 - Two-time world champion Fernando Alonso on Saturday boosted his hopes of claiming his third victory at the Monaco Grand Prix when he topped the times in final free practice for Sunday's race.\n",
      "Similarity: 0.0000 - Barclays is launching two new savings accounts including a best buy cash ISA paying 3.55% gross/3.61% AER interest to help customers make the most of their tax-free savings allowance.\n",
      "Similarity: 0.0000 - A minor died in a road accident at Dulegauda in Tanahu district on Tuesday.\n",
      "Similarity: 0.0000 - The Samsung Galaxy S4 will be available to pre-order from TalkTalk from Monday, ready for its release on April 26.\n",
      "Similarity: 0.0000 - Actress Evelyn Keyes, who played Scarlett O'Hara's younger sister in ``Gone With the Wind,'' has died at age 91.\n",
      "--------------------------------------\n",
      "TF-IDF\n",
      "Similarity: 0.0000 - Two-time world champion Fernando Alonso on Saturday boosted his hopes of claiming his third victory at the Monaco Grand Prix when he topped the times in final free practice for Sunday's race.\n",
      "Similarity: 0.0000 - Barclays is launching two new savings accounts including a best buy cash ISA paying 3.55% gross/3.61% AER interest to help customers make the most of their tax-free savings allowance.\n",
      "Similarity: 0.0000 - A minor died in a road accident at Dulegauda in Tanahu district on Tuesday.\n",
      "Similarity: 0.0000 - The Samsung Galaxy S4 will be available to pre-order from TalkTalk from Monday, ready for its release on April 26.\n",
      "Similarity: 0.0000 - Actress Evelyn Keyes, who played Scarlett O'Hara's younger sister in ``Gone With the Wind,'' has died at age 91.\n",
      "--------------------------------------\n",
      "Word Embedding\n",
      "Similarity: 0.4714776596055625 - The Endocrine Society has released a new clinical practice guideline for the prevention and treatment of pediatric obesity.\n",
      "Similarity: 0.471438057429559 - Tamoxifen, taken by certain women as a preventive measure against breast cancer, saves lives and reduces medical costs.\n",
      "Similarity: 0.45503984568164374 - NTPL launches the Patient Management software used majorly in Hospital, Clinics, Medical centers, Medical Stores, Medical Colleges.\n",
      "Similarity: 0.45072203476928746 - The swine flu pandemic could cause a severe shortage of intensive care beds in hospitals, especially in children's units, experts warned today.\n",
      "Similarity: 0.4495622929121878 - Amicus Therapeutics has initiated a Phase 2 clinical trial of AT2220, for the treatment of Pompe disease.\n",
      "\n",
      "============================================================\n",
      "\n",
      "########## Query: 'blood pressure' ##########\n",
      "\n",
      "BOW\n",
      "Similarity: 0.3651 - Blood For Blood is reuniting and heading out on tour after six years.\n",
      "Similarity: 0.3430 - A local company says its new blood bag could revolutionize blood storage by eliminating shortages worldwide.\n",
      "Similarity: 0.3162 - A new study has found that exposure to secondhand smoke raises blood pressure in boys, but not in girls.\n",
      "Similarity: 0.3086 - Carlstadt will hold a community blood drive in cooperation with Community Blood Services on Saturday, July 24, from 9:30 am-noon.\n",
      "Similarity: 0.3015 - Third-place Tour de France finisher Bernhard Kohl admits he used the new blood booster CERA because he was under ``incredibly huge'' pressure to perform.\n",
      "------------------------------------------\n",
      "TF-IDF\n",
      "Similarity: 0.5526 - Blood For Blood is reuniting and heading out on tour after six years.\n",
      "Similarity: 0.4776 - A new study has found that exposure to secondhand smoke raises blood pressure in boys, but not in girls.\n",
      "Similarity: 0.4764 - Carlstadt will hold a community blood drive in cooperation with Community Blood Services on Saturday, July 24, from 9:30 am-noon.\n",
      "Similarity: 0.4629 - A local company says its new blood bag could revolutionize blood storage by eliminating shortages worldwide.\n",
      "Similarity: 0.4461 - The Ottawa Hospital is partnering with Canadian Blood Services to be the first national public cord blood collection site.\n",
      "------------------------------------------\n",
      "Word Embedding\n",
      "Similarity: 0.8076763647263652 - High sodium foods should be avoided for a number of reasons including hypertension, heart failure, kidney problems, weight management, etc. Too much sodium can cause the body to retain fluids.\n",
      "Similarity: 0.7947391504865787 - Statins reduce the risk of developing potentially fatal blood clots by one quarter, research has shown.\n",
      "Similarity: 0.7923986896999571 - ifm efector has launched a new line of pump diagnostic pressure sensors that detect potential pump damage caused by cavitation, trapped air or gas, blockages and deposits.\n",
      "Similarity: 0.7911835699412156 - Boston Scientific Corp. has recalled more than 100,000 heart catheters because the catheter tip can break inside of the patient causing tissue and blood vessel injury, heart attack or other serious events requiring additional unplanned surgery.\n",
      "Similarity: 0.7886556024520303 - A new national awareness campaign launched on Wednesday aims to raise public awareness about hemophilia, a rare bleeding disorder which prevents the blood from clotting properly and can cause spontaneous internal bleeding, which can lead to subsequent organ damage or even death.\n",
      "\n",
      "============================================================\n",
      "\n"
     ]
    }
   ],
   "source": [
    "queries_to_test = [\n",
    "    'fox and deer',\n",
    "    'Chinese planes',\n",
    "    'china airlines',\n",
    "    'reply',\n",
    "    'respond',\n",
    "    'asian Elephant',\n",
    "    'Zosel Dam Lake Osoyoos',\n",
    "    'preventive',\n",
    "    'blood pressure'\n",
    "]\n",
    "\n",
    "\n",
    "\n",
    "for q in queries_to_test:\n",
    "    print(f\"########## Query: '{q}' ##########\\n\")\n",
    "    if q == 'reply':\n",
    "        num_results = 10\n",
    "    else:\n",
    "        num_results = 5\n",
    "    print(\"BOW\")\n",
    "    \n",
    "    sentences_bows_test_for_search = test_ds['sentence_bow']\n",
    "    embedded_query_bow = embed_text(q, clean, tokenize, lambda x: bag_of_words(x, token_to_id))\n",
    "    \n",
    "    query_similarity_bow = cosine_similarity_1_to_n(embedded_query_bow, sentences_bows_test_for_search)\n",
    "    query_similarity_bow = np.nan_to_num(query_similarity_bow) # Handle NaNs\n",
    "    top_indices_bow = top_k_indices(query_similarity_bow, k=num_results).tolist()\n",
    "    for idx in top_indices_bow:\n",
    "        similarity_score = query_similarity_bow[idx]\n",
    "        original_sentence = split_ds['test'][idx]['set'][0]\n",
    "        print(f\"Similarity: {similarity_score:.4f} - {original_sentence}\")\n",
    "    print(\"-\" * (len(q) + 28)) # Separator\n",
    "\n",
    "    # TF-IDF Search\n",
    "    print(\"TF-IDF\")\n",
    "    embedded_query_tfidf = embed_query_tfidf(q, clean, tokenize, token_to_id, idf)\n",
    "   \n",
    "    \n",
    "    query_similarity_tfidf = cosine_similarity_1_to_n(embedded_query_tfidf, sentences_tfidf_test)\n",
    "    query_similarity_tfidf = np.nan_to_num(query_similarity_tfidf) # Handle NaNs\n",
    "    top_indices_tfidf = top_k_indices(query_similarity_tfidf, k=num_results).tolist()\n",
    "    for idx in top_indices_tfidf:\n",
    "        similarity_score = query_similarity_tfidf[idx]\n",
    "        original_sentence = split_ds['test'][idx]['set'][0]\n",
    "        print(f\"Similarity: {similarity_score:.4f} - {original_sentence}\")\n",
    "    print(\"-\" * (len(q) + 28))\n",
    "\n",
    "\n",
    "    print(\"Word Embedding\")\n",
    "    perform_search_embeddings(q, num_results=num_results, model=glove_model)\n",
    "\n",
    "    print(\"\\n\" + \"=\"*60 + \"\\n\")\n"
   ]
  },
  {
   "cell_type": "markdown",
   "metadata": {},
   "source": [
    "### Interpretation of results"
   ]
  },
  {
   "cell_type": "markdown",
   "metadata": {},
   "source": [
    "### Results and comparison\n",
    "As I found 9 useful examples in BOW and TF-IDF, here I am going to just go over them and describe how well does the Sentence embedding algorithm tackle them and what is the difference with BOW and TF-IDF.\n",
    "\n",
    "1)  **fox and deer**: Sentence Embedding performs worse than TF-IDF. It finds sentences about deer or hunting but completely misses the \"fox\" component. The averaging seems to lose the specific meaning of the combination and defaults to the general topic of animals or just \"deer\". BOW was irrelevant, TF-IDF found sentences with either word.\n",
    "2)  **Chinese planes**: Sentence Embedding performs better semantically than both BOW and TF-IDF. It consistently finds results related to the topic of aviation (planes, jets, helicopters, flights), often including relevant airlines, even if \"Chinese\" isn't the main focus. BOW focused only on \"Chinese\", and TF-IDF found some plane results but less topically consistent.\n",
    "3)  **china airlines**: Here Sentence Embedding performs very well, arguably better than BOW and TF-IDF, even though it doesn't put the most relevant answer on the first place. Interesting thing here is that it considered Dragonair from Hong-Kong to be more related to the query than sentences with literal phrases 'China airlines'. So it captured the concept well, not just exact word matches.\n",
    "4)  **reply**: Sentence Embedding shows mixed results. It finds some exact matches like BOW and TF_IDF, but also retrieves sentences with related meanings (\"resignation\", \"tweeted\", \"deny\"). It shows semantic understanding but loses the precision for the exact keyword compared to BOW/TF-IDF, and introduces some noise. So, the first results that it finds don't have exact word 'reply'. Here I should highlight that searching for just one word like that might not be the best idea.\n",
    "5)  **respond**: We need this just to compare, so skipping.\n",
    "6)  **asian Elephant**: Sentence Embedding performs alright semantically. It captures the combined concept, finding results about Asian/Sumatran elephants, baby elephants, and related topics like poaching. The first result is exactly abpit asian elephants, unlike in other 2 methods. Nevertheless, the sentence 'The San Diego Zoo is loaning two female Asian elephants to the Los Angeles Zoo for its new $42-million Elephants of Asia exhibit set to open in mid-December, officials at the two zoos announced Friday.' is not found by this algorithm due to big length (as we remember we just average the similarity with every word), so we can conclude that this exact model has troubles with big sentences with a lot of words.\n",
    "7)  **Zosel Dam Lake Osoyoos**: Sentence Embedding performs much worse than BOW/TF-IDF. The results are generic about dams and lakes completely losing the specific names, because \"Zosel\" and \"Osoyoos\" are oov for Glove. Averaging defaults to the common words. BOW/TF-IDF rely on lexical matching and would be better here if the terms are in their vocabulary. So, it is bad for finding specific names. \n",
    "8)  **preventive**: Sentence Embedding performs significantly better. While BOW/TF-IDF found nothing (there was an error due to vector being zero), embeddings found relevant sentences about preventive medicine. This shows its strength in using semantic context to find meaning even for less common words which are not in the corpus we made out of training subset.\n",
    "9)  **blood pressure**: Sentence Embedding performs not quite good for that one, just as previous algorithms. Even though it finds semantically related sentences (unlike some of the results of previous algorithms that just retrieved sentences where 'blood' word has multiple occurrences) about the medicine, it doesn't find specific phrase as 'blood pressure'. That is the limitation of this approach as we are treating words separately here. \n",
    "\n",
    "Overall, Sentence Embeddings (using averaging) clearly perform differently by focusing on meaning over exact words. It excels in understanding topics and synonyms where BOW/TF-IDF fail. However, the simple averaging technique causes problems with specific phrases, oov words and sometimes leads to irrelevant results. **Taking these facts into consideration, while promising for semantic tasks, this simple averaging method isn't consistently better than TF-IDF for this specific retrieval task*\n",
    " where lexical overlap is often important and specific terms can be OOV."
   ]
  },
  {
   "cell_type": "markdown",
   "metadata": {
    "id": "ZY2jouFmeHOg",
    "pycharm": {
     "name": "#%% md\n"
    }
   },
   "source": [
    "## 6. Evaluating Retrieval\n",
    "\n",
    "In this last section we will try to evaluate how good our sentence retrieval system is. To keep the computational resources manageable, we will use the test set for that as its size is more manageable.\n",
    "\n",
    "Recall from the lecture in IR that there are several metrics to evaluate retrieval performance by taking into account the relevance of the retrieved results to the query. We will use Recall@K here (for more metrics and more details refer to the lecture slides and the textbooks).\n",
    "\n",
    "RRecall@K is a metric used to measure the effectiveness of a search system in retrieving relevant documents within the top $K$ retrieved documents. It calculates the proportion of relevant documents retrieved within the top-$K$ results, compared to the total number of relevant documents in the collection.\n",
    "\n",
    "$\n",
    "\\text{Recall@K} = \\frac{\\text{Number of relevant documents retrieved in the top }-K}{\\text{Total number of relevant documents}}\n",
    "$\n",
    "\n",
    "In our case, we have a sentence, and it's compressed version. To test our system, we will treat compressed sentences as the queries. Each query will have only a single relevant sentence - the corresponding uncompressed sentence.\n",
    "\n",
    "Therefore, for the calculation of Recall@K we will take into account whether the correct retrieved result is contained within the first $K$ retrieved results. For example, if for a query (i.e. a compressed sentence) we retrieve 10 results and within these we see the relevant one (i.e. the full sentence), then Recall@10 = 1."
   ]
  },
  {
   "cell_type": "markdown",
   "metadata": {
    "id": "QUKPtG-uem9f",
    "pycharm": {
     "name": "#%% md\n"
    }
   },
   "source": [
    "<a name='e14'></a>\n",
    "### Exercise 14: Cosine similarity between two sets of vectors\n",
    "\n",
    "(3p) In this exercise you will revisit your implementation of the cosine similarity. Generalize it so that it can accept two arrays containing two sets of vectors (first one containing $M$ vectors and the second one $N$ vectors). Compute the cosine similarity between each pair of vectors coming from the two sets. The result should be an array of size $M x N$.\n",
    "\n",
    "Once again, try to write an efficient code. This means no loops. Remember the relation between matrix multiplication and dot product. (Depending on your implementation of the previous function calculating cosine similarity, this one can be almost the same)"
   ]
  },
  {
   "cell_type": "code",
   "execution_count": 104,
   "metadata": {
    "id": "xKiHDrN9eld7",
    "pycharm": {
     "name": "#%%\n"
    }
   },
   "outputs": [],
   "source": [
    "def cosine_similarity_m_to_n(vectors, other_vectors):\n",
    "    \"\"\"\n",
    "    Calculates the cosine similarity between a multiple vectors and other vectors.\n",
    "    Args:\n",
    "        vectors: a numpy array representing M number of vectors of D dimensions (of the size MxD)\n",
    "        other_vectors: a 2D numpy array representing other vectors (of the size NxD, where N is the number of vectors and D is their dimension)\n",
    "\n",
    "    Returns: a numpy array of cosine similarity between all the vectors and all the other vectors\n",
    "\n",
    "    \"\"\"\n",
    "\n",
    "    #### YOUR CODE HERE\n",
    "\n",
    "    dot_product = np.dot(vectors, other_vectors.T) # M x N matrix\n",
    "    norms_others = np.linalg.norm(other_vectors, axis=1).reshape(1, -1) #shape(1, N)\n",
    "    norm_vector = np.linalg.norm(vectors, axis = 1).reshape(-1, 1) # shape (M, 1)\n",
    "\n",
    "    similarities_vector = dot_product/(norm_vector*norms_others)\n",
    "\n",
    "    return similarities_vector\n",
    "\n",
    "\n",
    "    ### YOUR CODE ENDS HERE"
   ]
  },
  {
   "cell_type": "markdown",
   "metadata": {
    "id": "qQ-Yhl1Sgoka",
    "pycharm": {
     "name": "#%% md\n"
    }
   },
   "source": [
    "The following function will use your implementation to calculate Recall@K based on the similarity matrix."
   ]
  },
  {
   "cell_type": "code",
   "execution_count": 105,
   "metadata": {
    "id": "z0sLS3uRCfdh",
    "pycharm": {
     "name": "#%%\n"
    }
   },
   "outputs": [],
   "source": [
    "def calculate_recall(queries, sentences, k, batch_size=1000):\n",
    "    \"\"\"\n",
    "    Calculates recall@k given the embeddings of the queries and sentences.\n",
    "    Assumes that only a single sentence with the same index as query is relevant.\n",
    "    Batching is implemented to avoid high memory usage.\n",
    "    Args:\n",
    "        queries: a numpy array with the embeddings of N queries\n",
    "        sentences: a numpy array with the embeddings of N sentences available for retrieval\n",
    "        k: number of top results to search for the relevant sentence\n",
    "        batch_size: number of queries to process at a time\n",
    "\n",
    "    Returns: calculated recall@k\n",
    "\n",
    "    \"\"\"\n",
    "    n_queries = queries.shape[0]\n",
    "    correct = np.zeros(n_queries, dtype=bool)\n",
    "\n",
    "    with tqdm.tqdm(total=n_queries) as pbar:\n",
    "        for batch_start in range(0, n_queries, batch_size):\n",
    "            batch_end = min(batch_start + batch_size, n_queries)\n",
    "            queries_batch = queries[batch_start:batch_end]\n",
    "            batch_similarity = cosine_similarity_m_to_n(queries_batch, sentences)\n",
    "\n",
    "            for i, similarity_row in enumerate(batch_similarity):\n",
    "                query_index = batch_start + i\n",
    "                top_k = top_k_indices(similarity_row, k=k, sorted=False)\n",
    "\n",
    "                if query_index in top_k:\n",
    "                    correct[query_index] = True\n",
    "\n",
    "                pbar.update(1)\n",
    "\n",
    "    recall = np.sum(correct) / n_queries\n",
    "    return recall"
   ]
  },
  {
   "cell_type": "markdown",
   "metadata": {
    "id": "3QgAgMiDgw8m",
    "pycharm": {
     "name": "#%% md\n"
    }
   },
   "source": [
    "You can use it like so:"
   ]
  },
  {
   "cell_type": "code",
   "execution_count": 106,
   "metadata": {
    "id": "Yxpex7ZxHM7c",
    "pycharm": {
     "name": "#%%\n"
    }
   },
   "outputs": [
    {
     "name": "stderr",
     "output_type": "stream",
     "text": [
      "100%|██████████| 36000/36000 [00:13<00:00, 2585.58it/s]"
     ]
    },
    {
     "name": "stdout",
     "output_type": "stream",
     "text": [
      "\n",
      "55.24%\n"
     ]
    },
    {
     "name": "stderr",
     "output_type": "stream",
     "text": [
      "\n"
     ]
    }
   ],
   "source": [
    "recall_at_1 = calculate_recall(compr_embedding, sent_embedding, k=1, batch_size=1000)\n",
    "print(f'\\n{recall_at_1 * 100:.2f}%')"
   ]
  },
  {
   "cell_type": "markdown",
   "metadata": {
    "id": "zY5ZVq5ogzMI",
    "pycharm": {
     "name": "#%% md\n"
    }
   },
   "source": [
    "<a name='e15'></a>\n",
    "### Exercise 15: Evaluating retrieval methods\n",
    "\n",
    "(10p) Calculate recall for different values of $K$ for all methods:\n",
    "- BOW,\n",
    "- TF-IDF,\n",
    "- Pre-trained embeddings.\n",
    "\n",
    "Discuss the results.\n",
    "Comment on how recall changes based on the value of $K$. Are the results expected or surprising?"
   ]
  },
  {
   "cell_type": "code",
   "execution_count": 107,
   "metadata": {},
   "outputs": [],
   "source": [
    "def calculate_recall_tfidf(queries, sentences, k, batch_size=1000):\n",
    "    \n",
    "    n_queries = queries.shape[0]\n",
    "    correct = np.zeros(n_queries, dtype=bool)\n",
    "\n",
    "    with tqdm.tqdm(total=n_queries) as pbar:\n",
    "        for batch_start in range(0, n_queries, batch_size):\n",
    "            batch_end = min(batch_start + batch_size, n_queries)\n",
    "            queries_batch = queries[batch_start:batch_end]\n",
    "            batch_similarity = cosine_similarity_m_to_n(queries_batch, sentences)\n",
    "\n",
    "            for i, similarity_row in enumerate(batch_similarity):\n",
    "                query_index = batch_start + i\n",
    "                top_k = top_k_indices(similarity_row, k=k, sorted=False)\n",
    "\n",
    "                if query_index in top_k:\n",
    "                    correct[query_index] = True\n",
    "\n",
    "                pbar.update(1)\n",
    "\n",
    "    recall = np.sum(correct) / n_queries\n",
    "    return recall"
   ]
  },
  {
   "cell_type": "code",
   "execution_count": 108,
   "metadata": {
    "collapsed": false,
    "pycharm": {
     "name": "#%%\n"
    }
   },
   "outputs": [
    {
     "name": "stderr",
     "output_type": "stream",
     "text": [
      "  8%|▊         | 2950/36000 [00:11<01:24, 389.96it/s]/var/folders/fp/bqd9m9ln4sn4w0xn9dg147tc0000gn/T/ipykernel_37062/3952638300.py:18: RuntimeWarning: invalid value encountered in divide\n",
      "  similarities_vector = dot_product/(norm_vector*norms_others)\n",
      "100%|██████████| 36000/36000 [02:15<00:00, 266.43it/s]\n",
      "100%|██████████| 36000/36000 [00:18<00:00, 1958.94it/s]\n",
      "100%|██████████| 36000/36000 [02:10<00:00, 275.86it/s]\n"
     ]
    },
    {
     "name": "stdout",
     "output_type": "stream",
     "text": [
      "Recall@5 (TF-IDF): 95.19%\n",
      "Recall@5 (BOW): 89.77%\n",
      "Recall@5 (Embeddings): 72.01%\n"
     ]
    },
    {
     "name": "stderr",
     "output_type": "stream",
     "text": [
      "100%|██████████| 36000/36000 [02:14<00:00, 268.31it/s]\n",
      "100%|██████████| 36000/36000 [00:18<00:00, 1966.43it/s]\n",
      "100%|██████████| 36000/36000 [02:08<00:00, 280.42it/s]\n"
     ]
    },
    {
     "name": "stdout",
     "output_type": "stream",
     "text": [
      "Recall@10 (TF-IDF): 97.00%\n",
      "Recall@10 (BOW): 92.35%\n",
      "Recall@10 (Embeddings): 77.80%\n"
     ]
    },
    {
     "name": "stderr",
     "output_type": "stream",
     "text": [
      "100%|██████████| 36000/36000 [02:15<00:00, 266.18it/s]\n",
      "100%|██████████| 36000/36000 [00:18<00:00, 1957.19it/s]\n",
      "100%|██████████| 36000/36000 [02:08<00:00, 279.39it/s]\n"
     ]
    },
    {
     "name": "stdout",
     "output_type": "stream",
     "text": [
      "Recall@15 (TF-IDF): 97.69%\n",
      "Recall@15 (BOW): 93.63%\n",
      "Recall@15 (Embeddings): 80.82%\n"
     ]
    },
    {
     "name": "stderr",
     "output_type": "stream",
     "text": [
      "100%|██████████| 36000/36000 [02:16<00:00, 264.01it/s]\n",
      "100%|██████████| 36000/36000 [00:18<00:00, 1975.59it/s]\n",
      "100%|██████████| 36000/36000 [02:08<00:00, 279.50it/s]\n"
     ]
    },
    {
     "name": "stdout",
     "output_type": "stream",
     "text": [
      "Recall@20 (TF-IDF): 97.98%\n",
      "Recall@20 (BOW): 94.43%\n",
      "Recall@20 (Embeddings): 82.90%\n"
     ]
    },
    {
     "name": "stderr",
     "output_type": "stream",
     "text": [
      "100%|██████████| 36000/36000 [02:15<00:00, 265.75it/s]\n",
      "100%|██████████| 36000/36000 [00:18<00:00, 1970.74it/s]\n",
      "100%|██████████| 36000/36000 [02:08<00:00, 280.38it/s]"
     ]
    },
    {
     "name": "stdout",
     "output_type": "stream",
     "text": [
      "Recall@25 (TF-IDF): 98.28%\n",
      "Recall@25 (BOW): 94.87%\n",
      "Recall@25 (Embeddings): 84.39%\n"
     ]
    },
    {
     "name": "stderr",
     "output_type": "stream",
     "text": [
      "\n"
     ]
    }
   ],
   "source": [
    "#### YOUR CODE HERE\n",
    "\n",
    "k_values = [5,10,15,20,25]\n",
    "recalls_bow = []\n",
    "recalls_embed = []\n",
    "recalls_tfidf = []\n",
    "\n",
    "for n in  k_values:\n",
    "    recall_bow = calculate_recall(test_ds['compressed_bow'], test_ds['sentence_bow'], k=n, batch_size=1000)\n",
    "    recall_model = calculate_recall(test_ds[\"compressed_embedding\"], test_ds[\"sentence_embedding\"], k=n, batch_size=1000)\n",
    "    recall_tf_idf = calculate_recall_tfidf(compressed_tfidf_test, sentences_tfidf_test, k=n, batch_size=1000) \n",
    "    # TODO:need to create for the tf_idf\n",
    "    print(f\"Recall@{n} (TF-IDF): {recall_tf_idf * 100:.2f}%\")\n",
    "\n",
    "    print(f\"Recall@{n} (BOW): {recall_bow * 100:.2f}%\")\n",
    "    # print(f\"Recall@{n} (TF-IDF): {recall_tf_idf * 100:.2f}%\")\n",
    "    print(f\"Recall@{n} (Embeddings): {recall_model * 100:.2f}%\")\n",
    "    recalls_bow.append(recall_bow)\n",
    "    recalls_embed.append(recall_model)\n",
    "    recalls_tfidf.append(recall_tf_idf)\n",
    "    # recalls_tfidf.append(recall_tf_idf)\n",
    "\n",
    "\n",
    "\n",
    "### YOUR CODE ENDS HERE"
   ]
  },
  {
   "cell_type": "code",
   "execution_count": 109,
   "metadata": {},
   "outputs": [
    {
     "data": {
      "image/png": "[encoded data removed]",
      "text/plain": [
       "<Figure size 800x600 with 1 Axes>"
      ]
     },
     "metadata": {},
     "output_type": "display_data"
    }
   ],
   "source": [
    "plt.figure(figsize=(8, 6))\n",
    "plt.plot(k_values, recalls_bow, marker='o', label='BOW')\n",
    "plt.plot(k_values, recalls_embed, marker='s', label='Embeddings/Model')\n",
    "plt.plot(k_values, recalls_tfidf, marker='^', label='TF-IDF')\n",
    "# plt.plot(k_values, recalls_tfidf, marker='x', label='tf-idf')\n",
    "\n",
    "plt.xlabel('k')\n",
    "plt.ylabel('Recall@k')\n",
    "plt.title('Recall@k comparison')\n",
    "plt.legend()\n",
    "plt.grid(True)\n",
    "plt.show()"
   ]
  },
  {
   "cell_type": "markdown",
   "metadata": {
    "collapsed": false,
    "pycharm": {
     "name": "#%% md\n"
    }
   },
   "source": [
    "<a name='e16'></a>\n",
    "### Exercise 16: Improving retrieval\n",
    "\n",
    "(10p) Imagine that you work at a company and are tasked with delivering the best retrieval method. Select the most promising one and try to improve the scores (e.g. by changing the vocab size, loading different model, etc.).\n",
    "Discuss the results you achieve, even if you didn't manage to improve the scores."
   ]
  },
  {
   "cell_type": "code",
   "execution_count": 110,
   "metadata": {},
   "outputs": [
    {
     "data": {
      "text/plain": [
       "Dataset({\n",
       "    features: ['set', 'clean_sentence', 'clean_compressed', 'sentence_tokens', 'compressed_tokens', 'sentence_bow', 'compressed_bow', 'sentence_embedding', 'compressed_embedding'],\n",
       "    num_rows: 36000\n",
       "})"
      ]
     },
     "execution_count": 110,
     "metadata": {},
     "output_type": "execute_result"
    }
   ],
   "source": [
    "test_ds"
   ]
  },
  {
   "cell_type": "code",
   "execution_count": 114,
   "metadata": {
    "id": "YA9bEm5ehMq8",
    "pycharm": {
     "name": "#%%\n"
    }
   },
   "outputs": [
    {
     "data": {
      "application/vnd.jupyter.widget-view+json": {
       "model_id": "438e74a8940c48ddb902bce71ac7c6be",
       "version_major": 2,
       "version_minor": 0
      },
      "text/plain": [
       "tokenizer_config.json:   0%|          | 0.00/350 [00:00<?, ?B/s]"
      ]
     },
     "metadata": {},
     "output_type": "display_data"
    },
    {
     "data": {
      "application/vnd.jupyter.widget-view+json": {
       "model_id": "05b864d82f754d628e3ce5d42fcbf034",
       "version_major": 2,
       "version_minor": 0
      },
      "text/plain": [
       "vocab.txt:   0%|          | 0.00/232k [00:00<?, ?B/s]"
      ]
     },
     "metadata": {},
     "output_type": "display_data"
    },
    {
     "data": {
      "application/vnd.jupyter.widget-view+json": {
       "model_id": "9c5f829450e24a3e9084b41849bcd865",
       "version_major": 2,
       "version_minor": 0
      },
      "text/plain": [
       "tokenizer.json:   0%|          | 0.00/466k [00:00<?, ?B/s]"
      ]
     },
     "metadata": {},
     "output_type": "display_data"
    },
    {
     "data": {
      "application/vnd.jupyter.widget-view+json": {
       "model_id": "03fccc399888487692f4121e63f79b3f",
       "version_major": 2,
       "version_minor": 0
      },
      "text/plain": [
       "special_tokens_map.json:   0%|          | 0.00/112 [00:00<?, ?B/s]"
      ]
     },
     "metadata": {},
     "output_type": "display_data"
    },
    {
     "data": {
      "application/vnd.jupyter.widget-view+json": {
       "model_id": "a3e21378141940b7b8467f753b87470f",
       "version_major": 2,
       "version_minor": 0
      },
      "text/plain": [
       "config.json:   0%|          | 0.00/612 [00:00<?, ?B/s]"
      ]
     },
     "metadata": {},
     "output_type": "display_data"
    },
    {
     "name": "stderr",
     "output_type": "stream",
     "text": [
      "Xet Storage is enabled for this repo, but the 'hf_xet' package is not installed. Falling back to regular HTTP download. For better performance, install the package with: `pip install huggingface_hub[hf_xet]` or `pip install hf_xet`\n"
     ]
    },
    {
     "data": {
      "application/vnd.jupyter.widget-view+json": {
       "model_id": "d97a01d929c845b69b8106cc7f906e57",
       "version_major": 2,
       "version_minor": 0
      },
      "text/plain": [
       "model.safetensors:   0%|          | 0.00/90.9M [00:00<?, ?B/s]"
      ]
     },
     "metadata": {},
     "output_type": "display_data"
    }
   ],
   "source": [
    "#### YOUR CODE HERE\n",
    "\n",
    "import torch\n",
    "from transformers import AutoTokenizer, AutoModel\n",
    "from sklearn.metrics.pairwise import cosine_similarity\n",
    "\n",
    "model_name = 'sentence-transformers/all-MiniLM-L6-v2'\n",
    "tokenizer = AutoTokenizer.from_pretrained(model_name)\n",
    "model = AutoModel.from_pretrained(model_name)\n",
    "\n",
    "def mean_pooling(model_output, attention_mask):\n",
    "    token_embeddings = model_output[0] \n",
    "    input_mask_expanded = attention_mask.unsqueeze(-1).expand(token_embeddings.size()).float()\n",
    "    sum_embeddings = torch.sum(token_embeddings * input_mask_expanded, 1)\n",
    "    sum_mask = torch.clamp(input_mask_expanded.sum(1), min=1e-9)\n",
    "    mean_pooled = sum_embeddings / sum_mask\n",
    "    return mean_pooled.cpu().detach().numpy()\n",
    "\n",
    "def generate_sentence_embedding(sentence, tokenizer, model):\n",
    "    encoded_input = tokenizer(sentence, padding=True, truncation=True, return_tensors='pt')\n",
    "    with torch.no_grad():\n",
    "        model_output = model(**encoded_input)\n",
    "    sentence_embeddings = mean_pooling(model_output, encoded_input['attention_mask'])\n",
    "    return sentence_embeddings.flatten()\n",
    "\n",
    "def embed_dataset(dataset, tokenizer, model, batch_size=1000):\n",
    "    sentence_embeddings = []\n",
    "    num_sentences = len(dataset)\n",
    "\n",
    "    with tqdm.tqdm(total=num_sentences, desc=\"Embedding sentences\") as pbar:\n",
    "        for i in range(0, num_sentences, batch_size):\n",
    "            batch = dataset['sentence_tokens'][i:i + batch_size]\n",
    "            sentences = [\" \".join(tokens) for tokens in batch]\n",
    "            embeddings = []\n",
    "            for sentence in sentences:\n",
    "                embeddings.append(generate_sentence_embedding(sentence, tokenizer, model))\n",
    "            sentence_embeddings.extend(embeddings)\n",
    "            pbar.update(len(sentences))\n",
    "    return np.array(sentence_embeddings)\n",
    "\n",
    "\n",
    "def perform_search_improved(query, sentence_embeddings, sentences_text, tokenizer, model, num_results=5):\n",
    "    query_embedding = generate_sentence_embedding(query, tokenizer, model)\n",
    "    similarities = cosine_similarity(query_embedding.reshape(1, -1), sentence_embeddings)[0]\n",
    "    top_indices = np.argsort(similarities)[::-1][:num_results]\n",
    "    for idx in top_indices:\n",
    "        print(f\"Similarity: {similarities[idx]:.4f} - Sentence: {sentences_text['set'][idx]}\")\n",
    "\n"
   ]
  },
  {
   "cell_type": "code",
   "execution_count": 115,
   "metadata": {},
   "outputs": [
    {
     "name": "stderr",
     "output_type": "stream",
     "text": [
      "Embedding sentences: 100%|██████████| 36000/36000 [04:15<00:00, 140.92it/s]\n"
     ]
    }
   ],
   "source": [
    "\n",
    "sentences_embedding = embed_dataset(test_ds, tokenizer, model)\n",
    "sentences = test_ds\n"
   ]
  },
  {
   "cell_type": "code",
   "execution_count": 116,
   "metadata": {},
   "outputs": [
    {
     "name": "stdout",
     "output_type": "stream",
     "text": [
      "Query: homeless person\\n\n",
      "Similarity: 0.6828 - Sentence: ['A 53-year-old homeless man has gone missing.', 'Homeless man goes missing']\n",
      "Similarity: 0.5331 - Sentence: [\"A homeless woman who sneaked into a man's house and lived undetected in his closet for a year was arrested in Japan after he became suspicious when food mysteriously began disappearing.\", \"Woman lived in man's closet for a year\"]\n",
      "Similarity: 0.5094 - Sentence: ['A homeless man burned to death trying to stay warm overnight in the storm.', 'Homeless man burns to death']\n",
      "Similarity: 0.4870 - Sentence: ['A homeless man was found dead yesterday in a wooded area near Hicksville, a Nassau official said, the third homeless man discovered dead outside in a week marked by frigid temperatures and stormy weather.', 'Another homeless man found dead, near Hicksville']\n",
      "Similarity: 0.4739 - Sentence: ['A homeless man was found stabbed to death early yesterday morning in a parking lot, police said.', 'Homeless man found stabbed to death']\n",
      "==================================================\\n\n",
      "Query: government activity\\n\n",
      "Similarity: 0.4532 - Sentence: ['A nationwide study finds state governments lack transparency and accountability to citizens, and remain at high risk for corruption.', 'Study finds state governments lack transparency, accountability']\n",
      "Similarity: 0.4510 - Sentence: [\"The public and private sector must work together to complement the government's efforts in facing the global economic crisis, said the chief secretary to the government, Tan Sri Mohd Sidek Hassan.\", 'Public and private sector must work together']\n",
      "Similarity: 0.4329 - Sentence: ['The politics of power are getting in the way of solving our national debt crisis.', 'Politics, power getting in the way']\n",
      "Similarity: 0.4277 - Sentence: ['The government is working on a definite policy and legal framework to improve geospatial data management in the country, says Minister of Natural Resources and Environment, Datuk Seri Douglas Unggah Embas.', 'Government works on policy and framework to improve geospatial data management']\n",
      "Similarity: 0.4269 - Sentence: ['The Public-Private Investment Program has since lost momentum as participants become increasingly concerned that the government might change the rules.', 'Public-Private Investment Program loses momentum']\n",
      "==================================================\\n\n",
      "Query: new expansion\\n\n",
      "Similarity: 0.3970 - Sentence: ['MHO today announced expansion into Southern California, as well as the addition of new senior team member Jamie Minner.', 'MHO announces expansion into Southern California']\n",
      "Similarity: 0.3765 - Sentence: ['College Football Writer Big East leaders discussed expansion Friday and the expected loss of TCU, but no decisions were made on which schools to invite to the troubled league, two people who took part in the conference call told The Associated Press.', 'Big East leaders discuss expansion']\n",
      "Similarity: 0.3707 - Sentence: [\"Australia's corporate bond market is likely to expand in the coming years as banks look to diversify their funding sources and local investors seek to increase fixed income holdings.\", 'Corporate bond market likely to expand']\n",
      "Similarity: 0.3679 - Sentence: ['Mumbai, March 13 As part of its aggressive expansion plan in India, Singapore Airlines has decided to operate two new flights from New Delhi March 30 onwards, the airline said Thursday.', 'Singapore Airlines to operate two New flights from New Delhi']\n",
      "Similarity: 0.3668 - Sentence: ['NEW YORK ConocoPhillips said Tuesday it will expand its Surmont oil production project in Canada into a second phase, and now expects production capacity to jump to 110,000 barrels per day from 27,000.', 'ConocoPhillips to expand production project']\n",
      "==================================================\\n\n",
      "Query: market trends\\n\n",
      "Similarity: 0.5392 - Sentence: ['``Today, markets are likely to open modestly higher in line with Asian peers. 5,550 and 5,350 continue to be important resistance and support levels for the Nifty. Broader market outperformance is likely to continue. Economic data to be released today include weekly inflation data from India, PMI and Retail sales data from Euro-zone and non-farm payroll, unemployment rate and ISM non-manufacturing composite data from the US,`` notes brokerage house Anagram.', '5,550 continues to be important resistance:']\n",
      "Similarity: 0.5385 - Sentence: ['Markets are trading marginally higher in the early noon deals ahead of the September F&O expiry.', 'Markets trading marginally higher']\n",
      "Similarity: 0.5282 - Sentence: ['The following is a list of industries showing strong up- and downward momentum, based on the comparison between the current price and the 20-day simple moving average.', 'Industries showing strong up and downward momentum']\n",
      "Similarity: 0.5157 - Sentence: ['Consumer prices grew by 1% y/y in December, broadly in line with expectations, and speeding up from 0.5% y/y growth in November, data of the statistical office shows.', 'Consumer prices grow 1% y/y in December.']\n",
      "Similarity: 0.5153 - Sentence: ['The UK market is rising in early afternoon trading Monday, as markets in Europe welcomed deal-related news.', 'UK market rises;']\n",
      "==================================================\\n\n"
     ]
    }
   ],
   "source": [
    "queries = [\n",
    "   \n",
    "    'homeless person',\n",
    "    'government activity',\n",
    "    'new expansion',\n",
    "    'market trends'\n",
    "]\n",
    "\n",
    "for query in queries:\n",
    "    print(f\"Query: {query}\\\\n\")\n",
    "    perform_search_improved(query, sentences_embedding, sentences, tokenizer, model, num_results=5)\n",
    "    print(\"=\"*50 + \"\\\\n\")\n",
    "\n",
    "### YOUR CODE ENDS HERE"
   ]
  },
  {
   "cell_type": "markdown",
   "metadata": {
    "collapsed": false,
    "pycharm": {
     "name": "#%% md\n"
    }
   },
   "source": [
    "// your comments"
   ]
  },
  {
   "cell_type": "markdown",
   "metadata": {},
   "source": [
    "### Improvements\n",
    "\n",
    "##### Formulation of the task\n",
    "If we consider some real task to retrieve information then of course we usually will retrieve it with some specific phrases or whole sentences and not just words, so some of our previous examples for testing will be exlucded.\n",
    "\n",
    "##### Modelling\n",
    "We obviously want to stick to embeddings, because retrieving semantically close things is the most important part of any search and other methods can not offer that.\n",
    "If one wants to perform a normal search on that kind of data, we will need a sentence embedder (real sentence embedder, not just word embedder with averaging), because we are working exactly with sentences. It will let us extract a normal semantics from sentences and we don't have to worry about the number of words, etc. - it is not an important factor in sentence embeddings. As such an embedding we selected 'sentence-transformers/all-MiniLM-L6-v2' because it is light and perfomative. (https://huggingface.co/sentence-transformers/all-MiniLM-L6-v2). It maps sentences & paragraphs to a 384 dimensional dense vector space and can be used for tasks like semantic search. We will not change the method to compare similar sentences because cosine similarity is the easiest and is really effective and interpretable. \n",
    "\n",
    "### Interpreation of results\n",
    "Above you can see that, if we, for example, are trying to look up news about certain topics or regarding certain phenomenas, it works perfectly, every query gets exactly what requires from it. Now let's try our examples from pervious exercices. \n"
   ]
  },
  {
   "cell_type": "code",
   "execution_count": 117,
   "metadata": {},
   "outputs": [
    {
     "name": "stdout",
     "output_type": "stream",
     "text": [
      "Query: fox and deer\\n\n",
      "Similarity: 0.5067 - Sentence: ['The body of a rabid fox was found in the Pleasant Point area of the city last week.', 'Body of rabid fox found']\n",
      "Similarity: 0.4823 - Sentence: ['A primary school class in the US learned first hand about animal behaviour when a deer crashed through a window and into its classroom.', 'Deer crashes into classroom']\n",
      "Similarity: 0.4635 - Sentence: ['BUTTE, Mont. A 61-year-old woman got into a tussle with an aggressive deer after it attacked one of her poodles at her home on Monday.', 'Woman gets into tussle with an aggressive deer']\n",
      "Similarity: 0.4632 - Sentence: ['This is good news for badgers, cows, dairy farmers and animal-lovers alike.', \"RSPCA: 'this is good news for badgers'\"]\n",
      "Similarity: 0.4565 - Sentence: [\"It's deer hunting season, and that means some lucky hunters will bring home venison.\", \"It's deer hunting season:\"]\n",
      "==================================================\\n\n",
      "Query: Chinese planes\\n\n",
      "Similarity: 0.5665 - Sentence: ['China is building two indigenous aircraft carriers as part of a broad modernisation programme that has rattled nerves regionally, sources said yesterday, as the government confirmed it was refitting an old Soviet carrier for training.', 'Chinese are building two aircraft carriers: sources']\n",
      "Similarity: 0.5542 - Sentence: ['Airbus plans to deliver almost 100 aircraft in China next year, following a better-than-expected 2009 in the rapidly growing Chinese market.', 'Airbus to deliver 100 aircraft in China next year']\n",
      "Similarity: 0.5340 - Sentence: ['Air China is planning to buy 100 Airbus jets to expand its fleet as it seeks to keep up with growing demand from Chinese travelers.', 'Air China to buy 100 Airbus jets']\n",
      "Similarity: 0.5303 - Sentence: ['Korean Air has unveiled its second SkyTeam livery B737-800 aircraft, which will operate short-haul routes including China, Japan and South East Asia.', 'Korean Air unveils second SkyTeam livery aircraft']\n",
      "Similarity: 0.5178 - Sentence: [\"China Eastern Airlines, the country's third most valuable airline, agreed to buy 50 Airbus A320 aircraft to meet rising demand and lift its competitiveness in the air transportation market.\", 'China Eastern to buy 50 Airbus A320 aircraft']\n",
      "==================================================\\n\n",
      "Query: china airlines\\n\n",
      "Similarity: 0.6917 - Sentence: [\"China Eastern Airlines, the country's third most valuable airline, agreed to buy 50 Airbus A320 aircraft to meet rising demand and lift its competitiveness in the air transportation market.\", 'China Eastern to buy 50 Airbus A320 aircraft']\n",
      "Similarity: 0.6116 - Sentence: ['China Airlines has appointed Philip Wei as its new chairman and also re-elected him to its board of directors.', 'China Airlines appoints new chairman']\n",
      "Similarity: 0.6074 - Sentence: ['Airbus plans to deliver almost 100 aircraft in China next year, following a better-than-expected 2009 in the rapidly growing Chinese market.', 'Airbus to deliver 100 aircraft in China next year']\n",
      "Similarity: 0.6071 - Sentence: ['Air China is planning to buy 100 Airbus jets to expand its fleet as it seeks to keep up with growing demand from Chinese travelers.', 'Air China to buy 100 Airbus jets']\n",
      "Similarity: 0.6058 - Sentence: [\"Alitalia, Italy's largest airline, joined the Air France-KLM Group and Delta Air Lines as a member of the airline industry's leading trans-Atlantic joint venture.\", 'Alitalia joins Air France-KLM Group and Delta Air Lines']\n",
      "==================================================\\n\n",
      "Query: asian Elephant\\n\n",
      "Similarity: 0.6172 - Sentence: ['A rare Sumatran elephant, missing its tusks, has been found dead in western Indonesia.', 'Rare elephant found dead in Indonesia']\n",
      "Similarity: 0.5847 - Sentence: [\"A weak and dehydrated young female Borneo pygmy elephant was rescued in an oil palm plantation on Sabah's east coast amidst renewed calls by a wildlife expert for the creation of forest corridors.\", 'Weak Borneo pygmy elephant rescued in oil palm plantation']\n",
      "Similarity: 0.4890 - Sentence: ['The elephants consumed poisonous crops, says a committee that went into the issue.', 'Elephants consumed poisonous crops:']\n",
      "Similarity: 0.4859 - Sentence: ['A ROGUE elephant bull has been terrorising the Ozondati area in the Daures Constituency in the Erongo Region for the past two weeks, and the community is feeling that their plea for help is falling on deaf ears.', \"'ROGUE' elephant bull terrorises Ozondati\"]\n",
      "Similarity: 0.4850 - Sentence: ['A middle-aged woman was killed by a wild elephant near Karunya Nagar limits, on the outskirts of the city on Sunday night.', 'Woman killed by wild elephant']\n",
      "==================================================\\n\n",
      "Query: Zosel Dam Lake Osoyoos\\n\n",
      "Similarity: 0.7720 - Sentence: ['Additional water will be held back at Zosel Dam on Lake Osoyoos now that a drought has been declared in the region by the International Osoyoos Lake Board of Control.', 'Water will be held back at Zosel Dam']\n",
      "Similarity: 0.4605 - Sentence: ['More help is heading to flood victims in Silver Creek and Gowanda.', 'More help heads to flood']\n",
      "Similarity: 0.4373 - Sentence: ['The body of a missing boater has been found in Lake Okeechobee in southwest Florida.', 'Body of missing boater found in Lake Okeechobee']\n",
      "Similarity: 0.4242 - Sentence: ['The Masinga dam was shut down last week due to low levels of water that made it impossible to generate power.', 'Masinga dam shut down']\n",
      "Similarity: 0.4156 - Sentence: [\"Man's body found in NSW dam Updated: 15:03, Sunday December 9, 2012 The body of a man has been found in a dam north of Sydney, two days after he went missing.\", \"Man's body found in NSW dam\"]\n",
      "==================================================\\n\n",
      "Query: blood pressure\\n\n",
      "Similarity: 0.4550 - Sentence: ['A new study has found that exposure to secondhand smoke raises blood pressure in boys, but not in girls.', 'Secondhand smoke may raise blood pressure in boys']\n",
      "Similarity: 0.4057 - Sentence: ['Targacept has launched a Phase 2 study of a drug it calls TC-5214 as a potential therapy for resistant hypertension.', 'Targacept launches Phase 2 study']\n",
      "Similarity: 0.4038 - Sentence: [\"Birmingham City striker Cameron Jerome believes the pressure will be on Arsenal for Sunday's Carling Cup final.\", \"``Pressure will be on Arsenal''\"]\n",
      "Similarity: 0.3788 - Sentence: ['Free blood pressure checks will be on offer around Otago today to encourage people to find out if they are at risk of having a stroke.', 'Free blood pressure checks today']\n",
      "Similarity: 0.3475 - Sentence: ['After his performance on American Idol Wednesday night, contestant David Cook was rushed to the hospital after suffering from high blood pressure and experiencing heart palpitations.', \"'American Idol' contestant David Cook rushed to hospital\"]\n",
      "==================================================\\n\n"
     ]
    }
   ],
   "source": [
    "queries = [\n",
    "    'fox and deer',\n",
    "    'Chinese planes',\n",
    "    'china airlines',\n",
    "    'asian Elephant',\n",
    "    'Zosel Dam Lake Osoyoos',\n",
    "    'blood pressure'\n",
    "]\n",
    "\n",
    "for query in queries:\n",
    "    print(f\"Query: {query}\\\\n\")\n",
    "    perform_search_improved(query, sentences_embedding, sentences, tokenizer, model, num_results=5)\n",
    "    print(\"=\"*50 + \"\\\\n\")"
   ]
  },
  {
   "cell_type": "markdown",
   "metadata": {},
   "source": [
    "1) fox and deer: Sentence Embedding performs well. It retrieves sentences explicitly about a \"fox\" and a \"deer\" separately within the top results, along with other animal-related sentences (\"badgers\", \"cows\"). While it understands the individual concepts well, it doesn't strictly enforce the co-occurrence of both \"fox\" and \"deer\" in the very top hits as strongly as a lexical search might aim for. It avoids being misled by common words like BOW and offers more thematic relevance than TF-IDF which might just match individual terms.\n",
    "2) Chinese planes: Sentence Embedding performs excellently, clearly understanding the core topic. All top results are directly relevant, mentioning China/Chinese alongside aviation terms like \"aircraft\", \"jets\", and specific airlines. This semantic understanding is far superior to BOW  and TF-IDF.\n",
    "3) china airlines: Here Sentence Embedding performs excellently. It retrieves results explicitly mentioning \"China Eastern Airlines\" and \"Air China\", as well as related contexts like Airbus deals in China. Its ability to understand the context and specific entities surpasses the keyword based limitations of the previous methods.\n",
    "4) asian Elephant: Sentence Embedding performs quite well semantically. It retrieves sentences about \"Sumatran elephant\" and \"Borneo pygmy elephant\", capturing the \"elephant\" theme and relevant geographical context (which are Asian regions). This is more nuanced than BOW/TF-IDF which would rely on exact term matches. It successfully identifies the core concept, but it didn'f put the most obvious and related result on the first place. \n",
    "5) Zosel Dam Lake Osoyoos: Sentence Embedding achieves outstanding performance here, retrieving the exact matching sentence as the top result. Subsequent results are thematically related to dams and lakes. This is a significant improvement over glove averaging (which failed due to oov) and demonstrates the transformer's ability (possibly via subword tokenization) to handle specific named entities better than expected for a purely semantic model, outperforming BOW or TF-IDF in this specific instance.\n",
    "6) blood pressure: Sentence Embedding performs well, retrieving sentences that explicitly mention \"blood pressure\" and closely related medical concepts like \"hypertension\" and relevant studies. It understands the combined concept, unlike BOW/TF-IDF which might have focused on individual word occurrences."
   ]
  }
 ],
 "metadata": {
  "colab": {
   "provenance": [],
   "toc_visible": true
  },
  "kernelspec": {
   "display_name": "gensim-env",
   "language": "python",
   "name": "python3"
  },
  "language_info": {
   "codemirror_mode": {
    "name": "ipython",
    "version": 3
   },
   "file_extension": ".py",
   "mimetype": "text/x-python",
   "name": "python",
   "nbconvert_exporter": "python",
   "pygments_lexer": "ipython3",
   "version": "3.11.8"
  }
 },
 "nbformat": 4,
 "nbformat_minor": 0
}
