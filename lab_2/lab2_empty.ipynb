{
 "cells": [
  {
   "cell_type": "markdown",
   "metadata": {
    "collapsed": false,
    "id": "od2YkWY8pSOC",
    "pycharm": {
     "name": "#%% md\n"
    }
   },
   "source": [
    "# NLP 2025\n",
    "# Lab 2: Word Vectors and Information Retrieval\n",
    "\n",
    "During the first few weeks, we discussed various ways to represent text 📝. One key question was: What should be the basic unit of representation? Words are the fundamental building blocks 🧱.\n",
    "\n",
    "In this lab, we will explore different text representation models, such as Bag-of-Words (BoW), TF-IDF and word embeddings 🔤➡️🔢. Among these, word embeddings are the most effective in terms of performance. They represent each word as a vector of numbers, where each vector captures the meaning of the word 🧠📊.\n",
    "\n",
    "These numerical representations (or weights) are learned using machine learning models 🤖. We’ll dive deeper into how these vectors are learned in the next lecture 📚.\n",
    "\n",
    "For now, we’ll focus on how different representation methods affect performance in an information retrieval task 🔍."
   ]
  },
  {
   "cell_type": "markdown",
   "metadata": {
    "collapsed": false,
    "id": "s93LS5bspSOD",
    "pycharm": {
     "name": "#%% md\n"
    }
   },
   "source": [
    "By the end of this lab, you should be able to:\n",
    "\n",
    "+ 🧼🔁 Implement and/or use built-in functions to preprocess your data (once again!)\n",
    "+ 🧱👜 Build a Bag-of-Words representation of the dataset\n",
    "+ 📊✨ Implement TF-IDF\n",
    "+ 📥🔤 Load pre-trained word embeddings\n",
    "+ 🔍🧠 Inspect and test word embedding properties\n",
    "+ 🗣️➡️📐 Use word embeddings to get sentence representations (aka sentence embeddings)\n",
    "+ 🧩🔎 Use sentence embeddings to solve more complex tasks like information retrieval\n",
    "+ 🧪📏 Design evaluation frameworks for specific NLP tasks and assess their difficulty\n",
    "\n",
    "### Score breakdown\n",
    "\n",
    "| Exercise            | Points |\n",
    "|---------------------|--------|\n",
    "| [Exercise 1](#e1)   | 1      |\n",
    "| [Exercise 2](#e2)   | 1      |\n",
    "| [Exercise 3](#e3)   | 1      |\n",
    "| [Exercise 4](#e4)   | 1      |\n",
    "| [Exercise 5](#e5)   | 1      |\n",
    "| [Exercise 6](#e6)   | 2      |\n",
    "| [Exercise 7](#e7)   | 10     |\n",
    "| [Exercise 8](#e8)   | 5      |\n",
    "| [Exercise 9](#e9)   | 15     |\n",
    "| [Exercise 10](#e10) | 10     |\n",
    "| [Exercise 11](#e11) | 10     |\n",
    "| [Exercise 12](#e12) | 5      |\n",
    "| [Exercise 13](#e13) | 15     |\n",
    "| [Exercise 14](#e14) | 3      |\n",
    "| [Exercise 15](#e15) | 10     |\n",
    "| [Exercise 16](#e16) | 10     |\n",
    "| Total               | 100    |\n",
    "\n",
    "This score will be scaled down to 1 and that will be your final lab score.\n",
    "\n",
    "### 📌 **Instructions for Delivery** (📅 **Deadline: 18/Apr 18:00**, 🎭 *wildcards possible*)\n",
    "\n",
    "✅ **Submission Requirements**\n",
    "+ 📄 You need to submit a **PDF of your report** (use the templates provided in **LaTeX** 🖋️ (*preferred*) or **Word** 📑) and a **copy of your notebook** 📓 with the code.\n",
    "+ ⚡ Make sure that **all cells are executed properly** ⚙️ and that **all figures/results/plots** 📊 you include in the report are also visible in your **executed notebook**.\n",
    "\n",
    "✅ **Collaboration & Integrity**\n",
    "+ 🗣️ While you may **discuss** the lab with others, you must **write your solutions with your group only**. If you **discuss specific tasks** with others, please **include their names** in the appendix of the report.\n",
    "+ 📜 **Honor Code applies** to this lab. For more details, check **Syllabus §7.2** ⚖️.\n",
    "+ 📢 **Mandatory Disclosure**:\n",
    "   - Any **websites** 🌐 (e.g., **Stack Overflow** 💡) or **other resources** used must be **listed and disclosed**.\n",
    "   - Any **GenAI tools** 🤖 (e.g., **ChatGPT**) used must be **explicitly mentioned**.\n",
    "   - 🚨 **Failure to disclose these resources is a violation of academic integrity**. See **Syllabus §7.3** for details."
   ]
  },
  {
   "cell_type": "markdown",
   "metadata": {
    "collapsed": false,
    "id": "aHYGq5RUpSOD",
    "pycharm": {
     "name": "#%% md\n"
    }
   },
   "source": [
    "## 0. Setup\n",
    "\n",
    "As in the last lab, we will be using huggingface datasets library ([https://huggingface.co/datasets](https://huggingface.co/datasets)). You can find the detailed documentation and tutorials here: [https://huggingface.co/docs/datasets/en/index](https://huggingface.co/docs/datasets/en/index)\n",
    "\n",
    "If you don't have it installed you can run the code below or install it via `pip` in your terminal. If you are using Google Colab, you can uncomment and run the code below in a code cell. Restarting of the runtime may be required after installation (Runtime/Restart session)."
   ]
  },
  {
   "cell_type": "code",
   "execution_count": null,
   "metadata": {
    "id": "rhEG8hKrpSOE",
    "pycharm": {
     "name": "#%%\n"
    }
   },
   "outputs": [],
   "source": [
    "# ! pip install -U datasets~=3.5.0\n",
    "# ! pip install -U gensim\n",
    "# ! python -m pip install -U matplotlib\n",
    "# ! pip install nltk\n",
    "# ! pip install -U scikit-learn"
   ]
  },
  {
   "cell_type": "markdown",
   "metadata": {
    "collapsed": false,
    "pycharm": {
     "name": "#%% md\n"
    }
   },
   "source": [
    "Previously installed datasets library version of 3.2.0 had an error when combined with numpy version >2. If you encounter an error at some point it might require to update the datasets library to the newer version. You can do that by running the code below. If you are using Google Colab, you can run the code below in a code cell. If you are using Jupyter Notebook, you can run the code below in a code cell or in a terminal."
   ]
  },
  {
   "cell_type": "code",
   "execution_count": null,
   "metadata": {
    "collapsed": false,
    "pycharm": {
     "name": "#%%\n"
    }
   },
   "outputs": [],
   "source": [
    "# ! pip install --upgrade --force-reinstall datasets"
   ]
  },
  {
   "cell_type": "markdown",
   "metadata": {
    "collapsed": false,
    "id": "5CCI1TPJpSOF",
    "pycharm": {
     "name": "#%% md\n"
    }
   },
   "source": [
    "As usual, we start by importing some essential Python libraries and we will be using. Apart from `gensim` (which is going to be used for word embeddings), we have already seen the others."
   ]
  },
  {
   "cell_type": "code",
   "execution_count": 1,
   "metadata": {
    "id": "CRe8W4hKpSOF",
    "pycharm": {
     "name": "#%%\n"
    }
   },
   "outputs": [
    {
     "name": "stderr",
     "output_type": "stream",
     "text": [
      "[nltk_data] Downloading package punkt_tab to\n",
      "[nltk_data]     /Users/nichitabulgaru/nltk_data...\n",
      "[nltk_data]   Unzipping tokenizers/punkt_tab.zip.\n"
     ]
    },
    {
     "data": {
      "text/plain": [
       "True"
      ]
     },
     "execution_count": 1,
     "metadata": {},
     "output_type": "execute_result"
    }
   ],
   "source": [
    "import re\n",
    "\n",
    "import numpy as np\n",
    "import matplotlib.pyplot as plt\n",
    "import datasets\n",
    "import nltk\n",
    "import tqdm\n",
    "import gensim\n",
    "\n",
    "nltk.download('punkt_tab')"
   ]
  },
  {
   "cell_type": "markdown",
   "metadata": {
    "collapsed": false,
    "id": "NXy-1KiCpSOF",
    "pycharm": {
     "name": "#%% md\n"
    }
   },
   "source": [
    "## 1. Load and Preprocess Data\n",
    "\n",
    "*Sentence compression* involves rephrasing sentences to make them shorter while still retaining the original meaning. A reliable compression system would be valuable for mobile devices and could also serve as a component in an extractive summarization system.\n",
    "\n",
    "The dataset we are going to use can be found on [Huggingface](https://huggingface.co/datasets/embedding-data/sentence-compression). It concerns a set of 180,000 pairs of sentences, aka it is a parallel corpus of sentences and their equivalent compressions. It has been collected by harvesting news articles from the Internet where the headline appears to be similar to the first sentence and that property is used to find an \"extractive\" compression of the sentence.\n",
    "\n",
    "For example, for the sentence\n",
    "\n",
    "`\"Regulators Friday shut down a small Florida bank, bringing to 119 the number of US bank failures this year amid mounting loan defaults\"`\n",
    "\n",
    "the compressed equivalent (based on the dataset) is:\n",
    "\n",
    "`\"Regulators shut down small Florida bank\"`.\n",
    "\n",
    "\n",
    "For more information you can read the original paper (from Google) [here](https://aclanthology.org/D13-1155.pdf). We strongly recommend going over the paper to gain further insights. Notice that the paper is from 2013, therefore word embeddings have not been widely introduced yet in NLP tasks, meaning that the methods applied were based on the traditional NLP pipeline (feature extraction + ML)."
   ]
  },
  {
   "cell_type": "markdown",
   "metadata": {
    "collapsed": false,
    "id": "ztJX2GRVpSOF",
    "pycharm": {
     "name": "#%% md\n"
    }
   },
   "source": [
    "### 1.1 Loading the Dataset\n",
    "\n",
    "The dataset will be loaded as a Pandas DataFrame. This may take a few minutes because of the large size of the data.\n",
    "\n",
    "Make sure to inspect the dataset and make sure it is imported properly."
   ]
  },
  {
   "cell_type": "code",
   "execution_count": 2,
   "metadata": {
    "id": "tay2NXPTpSOG",
    "pycharm": {
     "name": "#%%\n"
    }
   },
   "outputs": [
    {
     "data": {
      "application/vnd.jupyter.widget-view+json": {
       "model_id": "52fe317d257f4c1480f63a51529f6c5b",
       "version_major": 2,
       "version_minor": 0
      },
      "text/plain": [
       "README.md:   0%|          | 0.00/4.88k [00:00<?, ?B/s]"
      ]
     },
     "metadata": {},
     "output_type": "display_data"
    },
    {
     "data": {
      "application/vnd.jupyter.widget-view+json": {
       "model_id": "f46f686a267f49d3bf1cf46add9050e6",
       "version_major": 2,
       "version_minor": 0
      },
      "text/plain": [
       "sentence-compression_compressed.jsonl.gz:   0%|          | 0.00/14.2M [00:00<?, ?B/s]"
      ]
     },
     "metadata": {},
     "output_type": "display_data"
    },
    {
     "data": {
      "application/vnd.jupyter.widget-view+json": {
       "model_id": "4e9ef15c97f44744aa6b553ed6066f56",
       "version_major": 2,
       "version_minor": 0
      },
      "text/plain": [
       "Generating train split:   0%|          | 0/180000 [00:00<?, ? examples/s]"
      ]
     },
     "metadata": {},
     "output_type": "display_data"
    },
    {
     "name": "stdout",
     "output_type": "stream",
     "text": [
      "DatasetDict({\n",
      "    train: Dataset({\n",
      "        features: ['set'],\n",
      "        num_rows: 180000\n",
      "    })\n",
      "})\n"
     ]
    }
   ],
   "source": [
    "ds = datasets.load_dataset('embedding-data/sentence-compression')\n",
    "print(ds)"
   ]
  },
  {
   "cell_type": "code",
   "execution_count": 3,
   "metadata": {
    "id": "bUud3eZVpSOH",
    "pycharm": {
     "name": "#%%\n"
    }
   },
   "outputs": [
    {
     "name": "stdout",
     "output_type": "stream",
     "text": [
      "{'set': [\"The USHL completed an expansion draft on Monday as 10 players who were on the rosters of USHL teams during the 2009-10 season were selected by the League's two newest entries, the Muskegon Lumberjacks and Dubuque Fighting Saints.\", 'USHL completes expansion draft']}\n",
      "{'set': ['Major League Baseball Commissioner Bud Selig will be speaking at St. Norbert College next month.', 'Bud Selig to speak at St. Norbert College']}\n",
      "{'set': [\"It's fresh cherry time in Michigan and the best time to enjoy this delicious and nutritious fruit.\", \"It's cherry time\"]}\n",
      "{'set': ['An Evesham man is facing charges in Pennsylvania after he allegedly dragged his girlfriend from the side of his pickup truck on the campus of Kutztown University in the early morning hours of Dec. 5, police said.', 'Evesham man faces charges for Pa.']}\n",
      "{'set': [\"NRT LLC, one of the nation's largest residential real estate brokerage companies, announced several executive appointments within its Coldwell Banker Residential Brokerage operations in Southern California.\", 'NRT announces executive appointments at its Coldwell Banker operations in Southern California']}\n",
      "{'set': ['THE JSE kept toying with an all time high by midday today as resources continued to fuel the bourse.', 'JSE keeps toying with all time high']}\n",
      "{'set': ['The government is defending the latest police crime statistics despite a worrying rise in the recorded amount of violent offending.', 'Government defends crime statistics']}\n",
      "{'set': ['The renovated Marappalam bridge, which had been opened for two-wheelers last week, was opened for other vehicles also on Friday.', 'Marappalam bridge opened']}\n",
      "{'set': ['A new survey shows 30 percent of Californians use Twitter, and more and more of us are using our smart phones to go online.', 'Survey: 30 percent of Californians use Twitter']}\n",
      "{'set': ['Brightpoint ,a provider of logistic services to the mobile industry, has started operations in the Turkish market.', 'Brightpoint starts operations on Turkish market']}\n"
     ]
    }
   ],
   "source": [
    "for i in range(10):\n",
    "    print(ds['train'][i])"
   ]
  },
  {
   "cell_type": "markdown",
   "metadata": {
    "collapsed": false,
    "id": "HfJSiWxrpSOH",
    "pycharm": {
     "name": "#%% md\n"
    }
   },
   "source": [
    "The dataset comes with only the `train` split so we will have to split it ourselves."
   ]
  },
  {
   "cell_type": "code",
   "execution_count": 4,
   "metadata": {
    "id": "tATL53MWpSOH",
    "pycharm": {
     "name": "#%%\n"
    }
   },
   "outputs": [
    {
     "name": "stdout",
     "output_type": "stream",
     "text": [
      "DatasetDict({\n",
      "    train: Dataset({\n",
      "        features: ['set'],\n",
      "        num_rows: 144000\n",
      "    })\n",
      "    test: Dataset({\n",
      "        features: ['set'],\n",
      "        num_rows: 36000\n",
      "    })\n",
      "})\n"
     ]
    }
   ],
   "source": [
    "split_ds = ds['train'].train_test_split(test_size=0.2)\n",
    "print(split_ds)"
   ]
  },
  {
   "cell_type": "markdown",
   "metadata": {
    "collapsed": false,
    "id": "L133t3CqpSOH",
    "pycharm": {
     "name": "#%% md\n"
    }
   },
   "source": [
    "### 1.2 Preprocessing the dataset\n",
    "In this section we will prepare the dataset, aka clean the sentences and tokenize.\n",
    "\n",
    "First, let's write the function to clean the text. It can be similar to the one from the previous lab (Lab1) but make sure that it makes sense for this dataset and task.\n",
    "\n",
    "More specifically, think about lower-casing, punctuation, stop-words and lemmatization/stemming and the impact it might have on the dataset. Also reflect on the fact that with word embeddings we want to uncover semantic relationships between words, whereas with bag-of-words we were trying to capture different morphological variations."
   ]
  },
  {
   "cell_type": "markdown",
   "metadata": {
    "collapsed": false,
    "id": "mQszN6GNpSOH",
    "pycharm": {
     "name": "#%% md\n"
    }
   },
   "source": [
    "<a name='e1'></a>\n",
    "### Exercise 1: Clean function\n",
    "(1p) Fill in the following function ot clean the dataset. Implement at least 3 different steps."
   ]
  },
  {
   "cell_type": "code",
   "execution_count": null,
   "metadata": {
    "id": "TxjfLQj6pSOH",
    "pycharm": {
     "name": "#%%\n"
    }
   },
   "outputs": [],
   "source": [
    "def clean(text):\n",
    "    \"\"\"\n",
    "    Cleans the given text\n",
    "    Args:\n",
    "        text: a str with the text to clean\n",
    "\n",
    "    Returns: a str with the cleaned text\n",
    "\n",
    "    \"\"\"\n",
    "\n",
    "    # Empty text\n",
    "    if text == '':\n",
    "        return text\n",
    "\n",
    "    # 'text' from the example can be of type numpy.str_, let's convert it to a python str\n",
    "    text = str(text)\n",
    "\n",
    "    #you might need more\n",
    "    #add them here\n",
    "\n",
    "    ### YOUR CODE HERE\n",
    "    # lower-casing\n",
    "    text = text.lower()\n",
    "\n",
    "    # remove comma between numbers (e.g. 15,000 -> 15000)\n",
    "    text = re.sub(r'(?<=\\d),(?=\\d)', '', text)\n",
    "\n",
    "    # remove multiple spaces (and some specific Unicode characters)\n",
    "    text = re.sub(r'[\\u200d\\u200c\\u2764\\ufe0f]+', ' ', text)    \n",
    "    pattern1 = r\"\\s{2,}\"\n",
    "    text = re.sub(pattern1, ' ', text)\n",
    "\n",
    "    # remove dots and commas\n",
    "    text = re.sub(r'[.,](?=\\s|$)', ' ', text)\n",
    "\n",
    "\n",
    "    # remove URLs from the text\n",
    "    text = re.sub(r'http\\S+', '', text)\n",
    "\n",
    "    # Remove newline characters by replacing them with a space\n",
    "    text = re.sub(r'\\n', ' ', text)\n",
    "\n",
    "    # Additional cleaning: space out special characters (@, ?, !, ', ())\n",
    "    pattern4 = r\"\\@|\\!|\\?|\\(|\\)\"\n",
    "    text = re.sub(pattern4, ' ', text)\n",
    "\n",
    "    # final whitespace cleanup (remove any extra spaces)\n",
    "    text = re.sub(pattern1, ' ', text)\n",
    "\n",
    "    ### YOUR CODE ENDS HERE\n",
    "\n",
    "    text = text.strip()\n",
    "\n",
    "    # Update the example with the cleaned text\n",
    "    return text"
   ]
  },
  {
   "cell_type": "markdown",
   "metadata": {
    "collapsed": false,
    "id": "gAqf1AoupSOJ",
    "pycharm": {
     "name": "#%% md\n"
    }
   },
   "source": [
    "The following function will apply the function (sic) you just wrote to the whole dataset. More specifically, it takes the first entry (`sentence`) from the set of uncompressed/compressed pairs, applies the `clean` function and saves the processed sentence in the field `clean_sentence`. The same is dome for the compressed version of the sentence (saved as `clean_compressed`)."
   ]
  },
  {
   "cell_type": "code",
   "execution_count": 6,
   "metadata": {
    "id": "WZn-M4_vpSOJ",
    "pycharm": {
     "name": "#%%\n"
    }
   },
   "outputs": [],
   "source": [
    "def clean_dataset(example):\n",
    "    \"\"\"\n",
    "    Cleans the sentence and compressed sentence in the example from the Dataset\n",
    "    Args:\n",
    "        example: an example from the Dataset\n",
    "\n",
    "    Returns: updated example with 'clean_sentence' and 'clean_compressed' cleaned\n",
    "\n",
    "    \"\"\"\n",
    "    sentence, compressed = example['set']\n",
    "    clean_sentence = clean(sentence)\n",
    "    clean_compressed = clean(compressed)\n",
    "    example['clean_sentence'] = clean_sentence\n",
    "    example['clean_compressed'] = clean_compressed\n",
    "    return example"
   ]
  },
  {
   "cell_type": "markdown",
   "metadata": {
    "collapsed": false,
    "id": "_KVujosKpSOJ",
    "pycharm": {
     "name": "#%% md\n"
    }
   },
   "source": [
    "Below we apply the function to the whole dataset (using `map`) and we can also inspect the result."
   ]
  },
  {
   "cell_type": "code",
   "execution_count": 7,
   "metadata": {
    "id": "NBS1JbISpSOJ",
    "pycharm": {
     "name": "#%%\n"
    }
   },
   "outputs": [
    {
     "data": {
      "application/vnd.jupyter.widget-view+json": {
       "model_id": "f34cda9c65aa43ba93bb57f61f112ee3",
       "version_major": 2,
       "version_minor": 0
      },
      "text/plain": [
       "Map:   0%|          | 0/144000 [00:00<?, ? examples/s]"
      ]
     },
     "metadata": {},
     "output_type": "display_data"
    },
    {
     "data": {
      "application/vnd.jupyter.widget-view+json": {
       "model_id": "438d211ef2ba4ab180ed554b75097a19",
       "version_major": 2,
       "version_minor": 0
      },
      "text/plain": [
       "Map:   0%|          | 0/36000 [00:00<?, ? examples/s]"
      ]
     },
     "metadata": {},
     "output_type": "display_data"
    },
    {
     "name": "stdout",
     "output_type": "stream",
     "text": [
      "DatasetDict({\n",
      "    train: Dataset({\n",
      "        features: ['set', 'clean_sentence', 'clean_compressed'],\n",
      "        num_rows: 144000\n",
      "    })\n",
      "    test: Dataset({\n",
      "        features: ['set', 'clean_sentence', 'clean_compressed'],\n",
      "        num_rows: 36000\n",
      "    })\n",
      "})\n"
     ]
    }
   ],
   "source": [
    "split_ds = split_ds.map(clean_dataset)\n",
    "print(split_ds)"
   ]
  },
  {
   "cell_type": "markdown",
   "metadata": {
    "collapsed": false,
    "id": "X_ThE9H-pSOJ",
    "pycharm": {
     "name": "#%% md\n"
    }
   },
   "source": [
    "Let's examine some examples from the dataset and make sure that we got the results we wanted. At this step, it might be necessary to revisit some pre-processing steps if you are not happy with the results."
   ]
  },
  {
   "cell_type": "code",
   "execution_count": 8,
   "metadata": {
    "id": "hP-qOPijpSOJ",
    "pycharm": {
     "name": "#%%\n"
    }
   },
   "outputs": [
    {
     "name": "stdout",
     "output_type": "stream",
     "text": [
      "{'set': ['Families all around the country are reuniting for Thanksgiving.', 'Families reuniting for Thanksgiving'], 'clean_sentence': 'families all around the country are reuniting for thanksgiving', 'clean_compressed': 'families reuniting for thanksgiving'}\n",
      "{'set': [\"Fox's ``So You Think You Can Dance'' finalized its judges table, adding choreographer Mia Michaels and bringing back choreographer-director Adam Shankman for its season premiere on May 27.\", \"``So You Think You Can Dance'' finalizes judges\"], 'clean_sentence': \"fox's ``so you think you can dance'' finalized its judges table adding choreographer mia michaels and bringing back choreographer-director adam shankman for its season premiere on may 27\", 'clean_compressed': \"``so you think you can dance'' finalizes judges\"}\n",
      "{'set': ['Punjab would launch integrated waste management system across the state by September this year.', 'Punjab to launch integrated waste management system this year'], 'clean_sentence': 'punjab would launch integrated waste management system across the state by september this year', 'clean_compressed': 'punjab to launch integrated waste management system this year'}\n",
      "{'set': ['First lady Michelle Obama will visit both northern and southern Nevada to talk about healthy living.', 'Michelle Obama to visit Nevada'], 'clean_sentence': 'first lady michelle obama will visit both northern and southern nevada to talk about healthy living', 'clean_compressed': 'michelle obama to visit nevada'}\n",
      "{'set': [\"A MULTI-million pound office complex in Cheltenham town centre has been given the green light despite claims it will be a ``monstrosity''.\", 'MULTI-million pound office complex given green light'], 'clean_sentence': \"a multi-million pound office complex in cheltenham town centre has been given the green light despite claims it will be a ``monstrosity''\", 'clean_compressed': 'multi-million pound office complex given green light'}\n",
      "{'set': [\"A Baltimore woman died after a one-vehicle fatal crash Thursday evening on Perry Township Road 381, according to the Coshocton County Sheriff's Office.\", 'Baltimore woman dies in crash'], 'clean_sentence': \"a baltimore woman died after a one-vehicle fatal crash thursday evening on perry township road 381 according to the coshocton county sheriff's office\", 'clean_compressed': 'baltimore woman dies in crash'}\n",
      "{'set': ['HENRY Hill, who went from small-time gangster to big-time celebrity when his life as a mobster-turned-FBI informant became the basis for the Martin Scorsese film Goodfellas, has died at 69.', 'Goodfellas gangster henry Hill dies'], 'clean_sentence': 'henry hill who went from small-time gangster to big-time celebrity when his life as a mobster-turned-fbi informant became the basis for the martin scorsese film goodfellas has died at 69', 'clean_compressed': 'goodfellas gangster henry hill dies'}\n",
      "{'set': ['Hamilton Academical midfielder James McArthur has confirmed that he will train with Wigan Athletic ahead of a possible summer move south of the border.', 'McArthur to train with Wigan'], 'clean_sentence': 'hamilton academical midfielder james mcarthur has confirmed that he will train with wigan athletic ahead of a possible summer move south of the border', 'clean_compressed': 'mcarthur to train with wigan'}\n",
      "{'set': ['Creative artwork designed by pupils at Cranbury College will go on show at a special exhibition at the Royal Society of Arts next month.', 'Creative artwork to go on show'], 'clean_sentence': 'creative artwork designed by pupils at cranbury college will go on show at a special exhibition at the royal society of arts next month', 'clean_compressed': 'creative artwork to go on show'}\n",
      "{'set': ['Two former Navy SEALS from San Diego County who were killed during riots in Libya on the anniversary of 9/11 were mourned by President Barack Obama today for laying down their lives while protecting their friends.', 'Former San Diego Navy SEALS mourned by Pres. Obama'], 'clean_sentence': 'two former navy seals from san diego county who were killed during riots in libya on the anniversary of 9/11 were mourned by president barack obama today for laying down their lives while protecting their friends', 'clean_compressed': 'former san diego navy seals mourned by pres obama'}\n"
     ]
    }
   ],
   "source": [
    "for i in range(10):\n",
    "    print(split_ds['train'][i])"
   ]
  },
  {
   "cell_type": "markdown",
   "metadata": {
    "collapsed": false,
    "id": "7LI2KlfypSOJ",
    "pycharm": {
     "name": "#%% md\n"
    }
   },
   "source": [
    "<a name='e2'></a>\n",
    "### Exercise 2: Tokenize function\n",
    "\n",
    "(1p) As always, we will need to tokenize the dataset in order to create bat-of-words and TF-IDF representations in the next sections. We will use the [Natural Language Toolkit (NLTK) library]([https://www.nltk.org/]) (https://www.nltk.org/). Complete the following function to split the text into tokens using the `word_tokenize()` function. Check the [documentation](https://www.nltk.org/api/nltk.tokenize.word_tokenize.html?highlight=word_tokenize) first.\n",
    "Note that there are different tokenizers e.g. `RegexpTokenizer` where you can enter your own regexp, `WhitespaceTokenizer` (similar to Python's string.split()) and `BlanklineTokenizer`."
   ]
  },
  {
   "cell_type": "code",
   "execution_count": 13,
   "metadata": {
    "id": "sb-M3V6ApSOK",
    "pycharm": {
     "name": "#%%\n"
    }
   },
   "outputs": [],
   "source": [
    "def tokenize(text):\n",
    "    \"\"\"\n",
    "    Tokenizes the `text` parameter using nltk library\n",
    "    Args:\n",
    "        text: a string representing a sentence to be tokenized\n",
    "\n",
    "    Returns: a list of tokens (strings)\n",
    "\n",
    "    \"\"\"\n",
    "\n",
    "    ### YOUR CODE HERE\n",
    "\n",
    "\n",
    "    tokens = nltk.word_tokenize(text)\n",
    "\n",
    "\n",
    "    ### YOUR CODE ENDS HERE\n",
    "    return tokens"
   ]
  },
  {
   "cell_type": "markdown",
   "metadata": {
    "collapsed": false,
    "id": "gwsHqZc9pSOK",
    "pycharm": {
     "name": "#%% md\n"
    }
   },
   "source": [
    "Next, the function will be applied to the whole dataset (as we did with the pre-processing) and `sentence_tokens` field will be created to store the result."
   ]
  },
  {
   "cell_type": "code",
   "execution_count": 14,
   "metadata": {
    "id": "6sTX-AcTpSOK",
    "pycharm": {
     "name": "#%%\n"
    }
   },
   "outputs": [],
   "source": [
    "def tokenize_dataset(example):\n",
    "    \"\"\"\n",
    "    Tokenizes 'clean_sentence' columns in the example from the Dataset\n",
    "    Args:\n",
    "        example: an example from the Dataset\n",
    "\n",
    "    Returns: updated example with 'sentence_tokens' columns\n",
    "\n",
    "    \"\"\"\n",
    "    example['sentence_tokens'] = tokenize(example['clean_sentence'])\n",
    "    example['compressed_tokens'] = tokenize(example['clean_compressed'])\n",
    "    return example"
   ]
  },
  {
   "cell_type": "code",
   "execution_count": 15,
   "metadata": {
    "id": "jvwmXLj2pSOK",
    "pycharm": {
     "name": "#%%\n"
    }
   },
   "outputs": [
    {
     "data": {
      "application/vnd.jupyter.widget-view+json": {
       "model_id": "e274dea15931476b80ecd02e8fa30629",
       "version_major": 2,
       "version_minor": 0
      },
      "text/plain": [
       "Map:   0%|          | 0/144000 [00:00<?, ? examples/s]"
      ]
     },
     "metadata": {},
     "output_type": "display_data"
    },
    {
     "data": {
      "application/vnd.jupyter.widget-view+json": {
       "model_id": "3a1a0905dfbd4bb1a7554cb0f5c2ed8d",
       "version_major": 2,
       "version_minor": 0
      },
      "text/plain": [
       "Map:   0%|          | 0/36000 [00:00<?, ? examples/s]"
      ]
     },
     "metadata": {},
     "output_type": "display_data"
    }
   ],
   "source": [
    "split_ds = split_ds.map(tokenize_dataset)"
   ]
  },
  {
   "cell_type": "code",
   "execution_count": 16,
   "metadata": {
    "id": "yXnje31SpSOK",
    "pycharm": {
     "name": "#%%\n"
    }
   },
   "outputs": [
    {
     "name": "stdout",
     "output_type": "stream",
     "text": [
      "{'set': ['Families all around the country are reuniting for Thanksgiving.', 'Families reuniting for Thanksgiving'], 'clean_sentence': 'families all around the country are reuniting for thanksgiving', 'clean_compressed': 'families reuniting for thanksgiving', 'sentence_tokens': ['families', 'all', 'around', 'the', 'country', 'are', 'reuniting', 'for', 'thanksgiving'], 'compressed_tokens': ['families', 'reuniting', 'for', 'thanksgiving']}\n",
      "{'set': [\"Fox's ``So You Think You Can Dance'' finalized its judges table, adding choreographer Mia Michaels and bringing back choreographer-director Adam Shankman for its season premiere on May 27.\", \"``So You Think You Can Dance'' finalizes judges\"], 'clean_sentence': \"fox's ``so you think you can dance'' finalized its judges table adding choreographer mia michaels and bringing back choreographer-director adam shankman for its season premiere on may 27\", 'clean_compressed': \"``so you think you can dance'' finalizes judges\", 'sentence_tokens': ['fox', \"'s\", '``', 'so', 'you', 'think', 'you', 'can', 'dance', \"''\", 'finalized', 'its', 'judges', 'table', 'adding', 'choreographer', 'mia', 'michaels', 'and', 'bringing', 'back', 'choreographer-director', 'adam', 'shankman', 'for', 'its', 'season', 'premiere', 'on', 'may', '27'], 'compressed_tokens': ['``', 'so', 'you', 'think', 'you', 'can', 'dance', \"''\", 'finalizes', 'judges']}\n",
      "{'set': ['Punjab would launch integrated waste management system across the state by September this year.', 'Punjab to launch integrated waste management system this year'], 'clean_sentence': 'punjab would launch integrated waste management system across the state by september this year', 'clean_compressed': 'punjab to launch integrated waste management system this year', 'sentence_tokens': ['punjab', 'would', 'launch', 'integrated', 'waste', 'management', 'system', 'across', 'the', 'state', 'by', 'september', 'this', 'year'], 'compressed_tokens': ['punjab', 'to', 'launch', 'integrated', 'waste', 'management', 'system', 'this', 'year']}\n",
      "{'set': ['First lady Michelle Obama will visit both northern and southern Nevada to talk about healthy living.', 'Michelle Obama to visit Nevada'], 'clean_sentence': 'first lady michelle obama will visit both northern and southern nevada to talk about healthy living', 'clean_compressed': 'michelle obama to visit nevada', 'sentence_tokens': ['first', 'lady', 'michelle', 'obama', 'will', 'visit', 'both', 'northern', 'and', 'southern', 'nevada', 'to', 'talk', 'about', 'healthy', 'living'], 'compressed_tokens': ['michelle', 'obama', 'to', 'visit', 'nevada']}\n",
      "{'set': [\"A MULTI-million pound office complex in Cheltenham town centre has been given the green light despite claims it will be a ``monstrosity''.\", 'MULTI-million pound office complex given green light'], 'clean_sentence': \"a multi-million pound office complex in cheltenham town centre has been given the green light despite claims it will be a ``monstrosity''\", 'clean_compressed': 'multi-million pound office complex given green light', 'sentence_tokens': ['a', 'multi-million', 'pound', 'office', 'complex', 'in', 'cheltenham', 'town', 'centre', 'has', 'been', 'given', 'the', 'green', 'light', 'despite', 'claims', 'it', 'will', 'be', 'a', '``', 'monstrosity', \"''\"], 'compressed_tokens': ['multi-million', 'pound', 'office', 'complex', 'given', 'green', 'light']}\n",
      "{'set': [\"A Baltimore woman died after a one-vehicle fatal crash Thursday evening on Perry Township Road 381, according to the Coshocton County Sheriff's Office.\", 'Baltimore woman dies in crash'], 'clean_sentence': \"a baltimore woman died after a one-vehicle fatal crash thursday evening on perry township road 381 according to the coshocton county sheriff's office\", 'clean_compressed': 'baltimore woman dies in crash', 'sentence_tokens': ['a', 'baltimore', 'woman', 'died', 'after', 'a', 'one-vehicle', 'fatal', 'crash', 'thursday', 'evening', 'on', 'perry', 'township', 'road', '381', 'according', 'to', 'the', 'coshocton', 'county', 'sheriff', \"'s\", 'office'], 'compressed_tokens': ['baltimore', 'woman', 'dies', 'in', 'crash']}\n",
      "{'set': ['HENRY Hill, who went from small-time gangster to big-time celebrity when his life as a mobster-turned-FBI informant became the basis for the Martin Scorsese film Goodfellas, has died at 69.', 'Goodfellas gangster henry Hill dies'], 'clean_sentence': 'henry hill who went from small-time gangster to big-time celebrity when his life as a mobster-turned-fbi informant became the basis for the martin scorsese film goodfellas has died at 69', 'clean_compressed': 'goodfellas gangster henry hill dies', 'sentence_tokens': ['henry', 'hill', 'who', 'went', 'from', 'small-time', 'gangster', 'to', 'big-time', 'celebrity', 'when', 'his', 'life', 'as', 'a', 'mobster-turned-fbi', 'informant', 'became', 'the', 'basis', 'for', 'the', 'martin', 'scorsese', 'film', 'goodfellas', 'has', 'died', 'at', '69'], 'compressed_tokens': ['goodfellas', 'gangster', 'henry', 'hill', 'dies']}\n",
      "{'set': ['Hamilton Academical midfielder James McArthur has confirmed that he will train with Wigan Athletic ahead of a possible summer move south of the border.', 'McArthur to train with Wigan'], 'clean_sentence': 'hamilton academical midfielder james mcarthur has confirmed that he will train with wigan athletic ahead of a possible summer move south of the border', 'clean_compressed': 'mcarthur to train with wigan', 'sentence_tokens': ['hamilton', 'academical', 'midfielder', 'james', 'mcarthur', 'has', 'confirmed', 'that', 'he', 'will', 'train', 'with', 'wigan', 'athletic', 'ahead', 'of', 'a', 'possible', 'summer', 'move', 'south', 'of', 'the', 'border'], 'compressed_tokens': ['mcarthur', 'to', 'train', 'with', 'wigan']}\n",
      "{'set': ['Creative artwork designed by pupils at Cranbury College will go on show at a special exhibition at the Royal Society of Arts next month.', 'Creative artwork to go on show'], 'clean_sentence': 'creative artwork designed by pupils at cranbury college will go on show at a special exhibition at the royal society of arts next month', 'clean_compressed': 'creative artwork to go on show', 'sentence_tokens': ['creative', 'artwork', 'designed', 'by', 'pupils', 'at', 'cranbury', 'college', 'will', 'go', 'on', 'show', 'at', 'a', 'special', 'exhibition', 'at', 'the', 'royal', 'society', 'of', 'arts', 'next', 'month'], 'compressed_tokens': ['creative', 'artwork', 'to', 'go', 'on', 'show']}\n",
      "{'set': ['Two former Navy SEALS from San Diego County who were killed during riots in Libya on the anniversary of 9/11 were mourned by President Barack Obama today for laying down their lives while protecting their friends.', 'Former San Diego Navy SEALS mourned by Pres. Obama'], 'clean_sentence': 'two former navy seals from san diego county who were killed during riots in libya on the anniversary of 9/11 were mourned by president barack obama today for laying down their lives while protecting their friends', 'clean_compressed': 'former san diego navy seals mourned by pres obama', 'sentence_tokens': ['two', 'former', 'navy', 'seals', 'from', 'san', 'diego', 'county', 'who', 'were', 'killed', 'during', 'riots', 'in', 'libya', 'on', 'the', 'anniversary', 'of', '9/11', 'were', 'mourned', 'by', 'president', 'barack', 'obama', 'today', 'for', 'laying', 'down', 'their', 'lives', 'while', 'protecting', 'their', 'friends'], 'compressed_tokens': ['former', 'san', 'diego', 'navy', 'seals', 'mourned', 'by', 'pres', 'obama']}\n"
     ]
    }
   ],
   "source": [
    "for i in range(10):\n",
    "    print(split_ds['train'][i])"
   ]
  },
  {
   "cell_type": "markdown",
   "metadata": {
    "collapsed": false,
    "id": "FeF0wFd0pSOL",
    "pycharm": {
     "name": "#%% md\n"
    }
   },
   "source": [
    "Since we will need the tokenized sentences, we can use the following statement to extract them from the `train` split of our dataset."
   ]
  },
  {
   "cell_type": "code",
   "execution_count": 17,
   "metadata": {
    "id": "qYKfXFxQpSOL",
    "pycharm": {
     "name": "#%%\n"
    }
   },
   "outputs": [
    {
     "name": "stdout",
     "output_type": "stream",
     "text": [
      "144000\n",
      "[['families', 'all', 'around', 'the', 'country', 'are', 'reuniting', 'for', 'thanksgiving'], ['fox', \"'s\", '``', 'so', 'you', 'think', 'you', 'can', 'dance', \"''\", 'finalized', 'its', 'judges', 'table', 'adding', 'choreographer', 'mia', 'michaels', 'and', 'bringing', 'back', 'choreographer-director', 'adam', 'shankman', 'for', 'its', 'season', 'premiere', 'on', 'may', '27'], ['punjab', 'would', 'launch', 'integrated', 'waste', 'management', 'system', 'across', 'the', 'state', 'by', 'september', 'this', 'year'], ['first', 'lady', 'michelle', 'obama', 'will', 'visit', 'both', 'northern', 'and', 'southern', 'nevada', 'to', 'talk', 'about', 'healthy', 'living'], ['a', 'multi-million', 'pound', 'office', 'complex', 'in', 'cheltenham', 'town', 'centre', 'has', 'been', 'given', 'the', 'green', 'light', 'despite', 'claims', 'it', 'will', 'be', 'a', '``', 'monstrosity', \"''\"], ['a', 'baltimore', 'woman', 'died', 'after', 'a', 'one-vehicle', 'fatal', 'crash', 'thursday', 'evening', 'on', 'perry', 'township', 'road', '381', 'according', 'to', 'the', 'coshocton', 'county', 'sheriff', \"'s\", 'office'], ['henry', 'hill', 'who', 'went', 'from', 'small-time', 'gangster', 'to', 'big-time', 'celebrity', 'when', 'his', 'life', 'as', 'a', 'mobster-turned-fbi', 'informant', 'became', 'the', 'basis', 'for', 'the', 'martin', 'scorsese', 'film', 'goodfellas', 'has', 'died', 'at', '69'], ['hamilton', 'academical', 'midfielder', 'james', 'mcarthur', 'has', 'confirmed', 'that', 'he', 'will', 'train', 'with', 'wigan', 'athletic', 'ahead', 'of', 'a', 'possible', 'summer', 'move', 'south', 'of', 'the', 'border'], ['creative', 'artwork', 'designed', 'by', 'pupils', 'at', 'cranbury', 'college', 'will', 'go', 'on', 'show', 'at', 'a', 'special', 'exhibition', 'at', 'the', 'royal', 'society', 'of', 'arts', 'next', 'month'], ['two', 'former', 'navy', 'seals', 'from', 'san', 'diego', 'county', 'who', 'were', 'killed', 'during', 'riots', 'in', 'libya', 'on', 'the', 'anniversary', 'of', '9/11', 'were', 'mourned', 'by', 'president', 'barack', 'obama', 'today', 'for', 'laying', 'down', 'their', 'lives', 'while', 'protecting', 'their', 'friends']]\n"
     ]
    }
   ],
   "source": [
    "tokenized_sentences = split_ds['train']['sentence_tokens']\n",
    "print(len(tokenized_sentences))\n",
    "print(tokenized_sentences[:10])"
   ]
  },
  {
   "cell_type": "code",
   "execution_count": 18,
   "metadata": {
    "collapsed": false,
    "pycharm": {
     "name": "#%%\n"
    }
   },
   "outputs": [
    {
     "name": "stdout",
     "output_type": "stream",
     "text": [
      "144000\n",
      "[['families', 'reuniting', 'for', 'thanksgiving'], ['``', 'so', 'you', 'think', 'you', 'can', 'dance', \"''\", 'finalizes', 'judges'], ['punjab', 'to', 'launch', 'integrated', 'waste', 'management', 'system', 'this', 'year'], ['michelle', 'obama', 'to', 'visit', 'nevada'], ['multi-million', 'pound', 'office', 'complex', 'given', 'green', 'light'], ['baltimore', 'woman', 'dies', 'in', 'crash'], ['goodfellas', 'gangster', 'henry', 'hill', 'dies'], ['mcarthur', 'to', 'train', 'with', 'wigan'], ['creative', 'artwork', 'to', 'go', 'on', 'show'], ['former', 'san', 'diego', 'navy', 'seals', 'mourned', 'by', 'pres', 'obama']]\n"
     ]
    }
   ],
   "source": [
    "tokenized_compressed = split_ds['train']['compressed_tokens']\n",
    "print(len(tokenized_compressed))\n",
    "print(tokenized_compressed[:10])"
   ]
  },
  {
   "cell_type": "markdown",
   "metadata": {
    "id": "ZDGwEiZeCA5U",
    "pycharm": {
     "name": "#%% md\n"
    }
   },
   "source": [
    "Notice the difference in the types of the different structures we use. Run the following cell to check the types. Do they make sense to you?"
   ]
  },
  {
   "cell_type": "code",
   "execution_count": 19,
   "metadata": {
    "id": "wKrkFmcZCtOd",
    "pycharm": {
     "name": "#%%\n"
    }
   },
   "outputs": [
    {
     "name": "stdout",
     "output_type": "stream",
     "text": [
      "<class 'datasets.dataset_dict.DatasetDict'>\n",
      "--\n",
      "{'set': [\"Fox's ``So You Think You Can Dance'' finalized its judges table, adding choreographer Mia Michaels and bringing back choreographer-director Adam Shankman for its season premiere on May 27.\", \"``So You Think You Can Dance'' finalizes judges\"], 'clean_sentence': \"fox's ``so you think you can dance'' finalized its judges table adding choreographer mia michaels and bringing back choreographer-director adam shankman for its season premiere on may 27\", 'clean_compressed': \"``so you think you can dance'' finalizes judges\", 'sentence_tokens': ['fox', \"'s\", '``', 'so', 'you', 'think', 'you', 'can', 'dance', \"''\", 'finalized', 'its', 'judges', 'table', 'adding', 'choreographer', 'mia', 'michaels', 'and', 'bringing', 'back', 'choreographer-director', 'adam', 'shankman', 'for', 'its', 'season', 'premiere', 'on', 'may', '27'], 'compressed_tokens': ['``', 'so', 'you', 'think', 'you', 'can', 'dance', \"''\", 'finalizes', 'judges']}\n",
      "<class 'dict'>\n",
      "--\n",
      "fox's ``so you think you can dance'' finalized its judges table adding choreographer mia michaels and bringing back choreographer-director adam shankman for its season premiere on may 27\n",
      "<class 'str'>\n",
      "--\n",
      "['fox', \"'s\", '``', 'so', 'you', 'think', 'you', 'can', 'dance', \"''\", 'finalized', 'its', 'judges', 'table', 'adding', 'choreographer', 'mia', 'michaels', 'and', 'bringing', 'back', 'choreographer-director', 'adam', 'shankman', 'for', 'its', 'season', 'premiere', 'on', 'may', '27']\n",
      "<class 'list'>\n",
      "--\n"
     ]
    }
   ],
   "source": [
    "#type of original dataset\n",
    "print(type(split_ds))\n",
    "print(\"--\")\n",
    "#type of original sentence\n",
    "print(split_ds['train'][1])\n",
    "print(type(split_ds['train'][1]))\n",
    "print(\"--\")\n",
    "#type of pre-proceesed sentence\n",
    "print(split_ds['train']['clean_sentence'][1])\n",
    "print(type(split_ds['train']['clean_sentence'][1]))\n",
    "print(\"--\")\n",
    "#type of tokenized sentence\n",
    "print(split_ds['train']['sentence_tokens'][1])\n",
    "print(type(split_ds['train']['sentence_tokens'][1]))\n",
    "print(\"--\")"
   ]
  },
  {
   "cell_type": "markdown",
   "metadata": {
    "collapsed": false,
    "pycharm": {
     "name": "#%% md\n"
    }
   },
   "source": [
    "## 2. Bag of Words\n",
    "In this section you will built a bag-of-words representation of the dataset. We will use numpy arrays to store the results. The bag-of-words representation is a simple and effective way to represent text data. It involves creating a vocabulary of unique words from the dataset and representing each sentence as a vector of word counts. We first need the vocabulary, which we will build from both the full sentences and the compressed sentences. Similar to the first lab, the vocabulary will be a list of unique words from the dataset."
   ]
  },
  {
   "cell_type": "markdown",
   "metadata": {
    "collapsed": false,
    "pycharm": {
     "name": "#%% md\n"
    }
   },
   "source": [
    "<a name='e3'></a>\n",
    "### Exercise 3: Extracting vocabulary counts\n",
    "\n",
    "(1p) In the following cell, you will implement a function that takes a list of tokenized sentences and returns a dictionary with the counts of each word in the vocabulary. The dictionary should be of the form {word: count}. As in previous lab, you will use the `Counter` class from the `collections` module to do this."
   ]
  },
  {
   "cell_type": "code",
   "execution_count": 23,
   "metadata": {
    "collapsed": false,
    "pycharm": {
     "name": "#%%\n"
    }
   },
   "outputs": [],
   "source": [
    "from collections import Counter\n",
    "\n",
    "\n",
    "def extract_vocabulary_counts(tokenized_sentences):\n",
    "    \"\"\"\n",
    "    Extracts the vocabulary from the tokenized sentences\n",
    "    Args:\n",
    "        tokenized_sentences: a list of lists of tokens\n",
    "\n",
    "    Returns: a Counter object with the counts of each word in the vocabulary\n",
    "    \"\"\"\n",
    "\n",
    "    ### YOUR CODE HERE\n",
    "    flat_tokens = [token for sentence in tokenized_sentences for token in sentence]\n",
    "    counts = Counter(flat_tokens)\n",
    "    return counts\n",
    "    ### YOUR CODE ENDS HERE"
   ]
  },
  {
   "cell_type": "code",
   "execution_count": 24,
   "metadata": {
    "collapsed": false,
    "pycharm": {
     "name": "#%%\n"
    }
   },
   "outputs": [
    {
     "name": "stdout",
     "output_type": "stream",
     "text": [
      "120566\n",
      "[('the', 182896), ('to', 130296), ('a', 116864), ('in', 112645), ('of', 100978), ('and', 68425), ('on', 56076), ('for', 52076), ('has', 39152), ('with', 31610)]\n"
     ]
    }
   ],
   "source": [
    "vocab_counter = extract_vocabulary_counts(tokenized_sentences + tokenized_compressed)\n",
    "print(len(vocab_counter))\n",
    "print(vocab_counter.most_common(10))"
   ]
  },
  {
   "cell_type": "markdown",
   "metadata": {
    "collapsed": false,
    "pycharm": {
     "name": "#%% md\n"
    }
   },
   "source": [
    "As you can see the size of the vocabulary is quite large. Like the last time, we will limit the vocabulary to the most frequent words. The next cell will create a dictionary that maps each word to an index in the vocabulary. This will be used to create the bag-of-words representation of the sentences."
   ]
  },
  {
   "cell_type": "code",
   "execution_count": 25,
   "metadata": {
    "collapsed": false,
    "pycharm": {
     "name": "#%%\n"
    }
   },
   "outputs": [
    {
     "name": "stdout",
     "output_type": "stream",
     "text": [
      "{'the': 0, 'to': 1, 'a': 2, 'in': 3, 'of': 4, 'and': 5, 'on': 6, 'for': 7, 'has': 8, 'with': 9, \"'s\": 10, 'is': 11, 'at': 12, 'that': 13, 'from': 14, '``': 15, 'by': 16, 'as': 17, 'new': 18, 'will': 19, 'said': 20, 'after': 21, 'his': 22, 'its': 23, 'an': 24, 'was': 25, 'it': 26, \"'\": 27, 'be': 28, 'have': 29, 'he': 30, 'man': 31, \"''\": 32, 'us': 33, ':': 34, 'are': 35, 'been': 36, 'today': 37, 'police': 38, '$': 39, 'this': 40, 'two': 41, 'their': 42, 'her': 43, 'who': 44, 'first': 45, 'over': 46, 'announced': 47, 'not': 48, 'up': 49, 'tuesday': 50, 'year': 51, 'more': 52, 'wednesday': 53, 'state': 54, 'thursday': 55, 'against': 56, 'monday': 57, 'friday': 58, 'president': 59, 'out': 60, 'former': 61, 'says': 62, 'into': 63, 'world': 64, 'one': 65, 'million': 66, 'which': 67, 'according': 68, 'city': 69, 'were': 70, 'county': 71, 'last': 72, 'woman': 73, 'may': 74, 'saturday': 75, 'about': 76, 'week': 77, 'than': 78, 'minister': 79, 'sunday': 80, 'government': 81, 'years': 82, 'company': 83, 'home': 84, 'i': 85, 'three': 86, 'she': 87, 'people': 88, 'but': 89, 'during': 90, 'they': 91, 'india': 92, 'when': 93, 'night': 94, 'off': 95, 'bank': 96, 'time': 97, 'killed': 98, 'all': 99, 'national': 100, 'being': 101, 'day': 102, 'south': 103, 'found': 104, 'next': 105, 'court': 106, 'morning': 107, '1': 108, 'arrested': 109, 'died': 110, 'country': 111, 'school': 112, 'had': 113, 'set': 114, 'obama': 115, 'would': 116, 'second': 117, 'charged': 118, 'could': 119, 'back': 120, 'no': 121, 'reported': 122, 'market': 123, 'group': 124, 'down': 125, 'china': 126, 'international': 127, 'fire': 128, 'can': 129, 'team': 130, 'business': 131, 'season': 132, '2': 133, 'open': 134, '--': 135, 'while': 136, 'oil': 137, \"n't\": 138, 'house': 139, '&': 140, 'north': 141, 'reports': 142, 'news': 143, 'inc': 144, 'car': 145, 'early': 146, 'service': 147, 'charges': 148, 'star': 149, 'high': 150, 'united': 151, 'prices': 152, 'now': 153, 'global': 154, 'or': 155, 'plans': 156, 'guilty': 157, 'month': 158, 'dies': 159, 'four': 160, 'officials': 161, 'hospital': 162, 'following': 163, 'report': 164, 'public': 165, 'some': 166, 'death': 167, '-': 168, 'yesterday': 169, 'billion': 170, 'him': 171, '%': 172, '5': 173, 'released': 174, 'york': 175, 'near': 176, 'american': 177, 'chief': 178, 'health': 179, 'league': 180, 'services': 181, 'federal': 182, 'pakistan': 183, 'end': 184, '3': 185, 'office': 186, 'hit': 187, 'show': 188, 'say': 189, 'west': 190, 'security': 191, '2012': 192, 'under': 193, 'help': 194, 'most': 195, 'other': 196, 'through': 197, 'financial': 198, 'just': 199, 'made': 200, 'game': 201, 'indian': 202, 'make': 203, 'months': 204, 'five': 205, 'economic': 206, 'you': 207, ';': 208, 'take': 209, 'before': 210, 'coach': 211, '10': 212, 'accused': 213, 'per': 214, 'local': 215, 'what': 216, 'percent': 217, 'john': 218, 'another': 219, 'women': 220, 'top': 221, 'jobs': 222, 'launched': 223, 'play': 224, 'life': 225, 'should': 226, 'british': 227, 'announces': 228, 'we': 229, 'expected': 230, 'official': 231, 'here': 232, 'part': 233, 'work': 234, 'third': 235, 'dead': 236, 'uk': 237, 'center': 238, 'power': 239, 'university': 240, 'european': 241, 'general': 242, '4': 243, 'if': 244, 'between': 245, 'energy': 246, 'party': 247, 'launches': 248, 'media': 249, 'trade': 250, 'major': 251, 'record': 252, 'stocks': 253, 'leader': 254, 'crash': 255, 'told': 256, 'cup': 257, 'deal': 258, 'because': 259, 'do': 260, 'win': 261, 'cut': 262, 'march': 263, 'shot': 264, 'left': 265, 'officer': 266, 'held': 267, 'men': 268, 'due': 269, 'air': 270, 'close': 271, 'support': 272, 'return': 273, 'get': 274, 'states': 275, '2010': 276, 'department': 277, 'days': 278, 'free': 279, 'since': 280, 'street': 281, 'economy': 282, 'gas': 283, 'london': 284, 'club': 285, 'child': 286, 'foreign': 287, 'online': 288, 'there': 289, 'bill': 290, 'sales': 291, 'children': 292, 'area': 293, 'head': 294, 'six': 295, 'injured': 296, 'won': 297, 'weekend': 298, '2011': 299, 'central': 300, 'drug': 301, 'capital': 302, 'mobile': 303, 'road': 304, 'prime': 305, 'district': 306, 'including': 307, 'family': 308, 'launch': 309, 'quarter': 310, 'face': 311, '6': 312, 'series': 313, 'start': 314, 'visit': 315, 'release': 316, 'called': 317, 'com': 318, 'afternoon': 319, 'still': 320, 'st': 321, 'australia': 322, 'shares': 323, 'how': 324, 'military': 325, 'attack': 326, 'students': 327, 'park': 328, 'board': 329, 'fall': 330, 'june': 331, 'tour': 332, 'campaign': 333, 'where': 334, 'iran': 335, 'david': 336, '7': 337, 'industry': 338, 'tax': 339, 'development': 340, 'dollar': 341, 'stock': 342, 'like': 343, 'system': 344, 'final': 345, 'film': 346, 'them': 347, 'across': 348, 'signed': 349, 'australian': 350, 'despite': 351, 'football': 352, 'markets': 353, 'april': 354, 'fell': 355, 'wins': 356, 'cancer': 357, 'east': 358, 'best': 359, 'data': 360, 'barack': 361, 'sentenced': 362, 'way': 363, 'council': 364, 'big': 365, 'washington': 366, 'corp': 367, 'afghanistan': 368, 'go': 369, 'plan': 370, 'water': 371, 'meeting': 372, '8': 373, 'manager': 374, 'management': 375, '2009': 376, 'growth': 377, 'actor': 378, 'around': 379, 'leading': 380, '11': 381, '2013': 382, 'talks': 383, 'contract': 384, 'authorities': 385, 'money': 386, 'law': 387, 'revealed': 388, 'move': 389, 'case': 390, 'so': 391, 'agency': 392, 'research': 393, 'host': 394, 'pay': 395, '20': 396, 'again': 397, 'san': 398, 'england': 399, 'prison': 400, 'only': 401, 'murder': 402, 'gold': 403, 'late': 404, 'price': 405, 'allegedly': 406, 'confirmed': 407, 'conference': 408, 'run': 409, 'director': 410, 'buy': 411, 'wants': 412, 'program': 413, 'largest': 414, 'white': 415, 'union': 416, 'increase': 417, 'rate': 418, 'michael': 419, 'number': 420, 'russia': 421, 'town': 422, 'chinese': 423, 'games': 424, 'food': 425, 'tv': 426, 'several': 427, 'firm': 428, 'july': 429, 'test': 430, 'higher': 431, 'music': 432, 'agreement': 433, 'network': 434, 'budget': 435, 'saying': 436, '15': 437, 'political': 438, 'japan': 439, 'annual': 440, 'technology': 441, 'community': 442, 'private': 443, 'america': 444, 'workers': 445, 'medical': 446, 'closed': 447, 'crisis': 448, '30': 449, 'any': 450, 'canada': 451, 'hold': 452, 'press': 453, 'recent': 454, 'girl': 455, 'companies': 456, 'demand': 457, 'use': 458, 'college': 459, 'recently': 460, 'latest': 461, 'surgery': 462, 'right': 463, 'continue': 464, '12': 465, 'actress': 466, 'good': 467, 'share': 468, 'pm': 469, 'investment': 470, 'young': 471, 'making': 472, 'body': 473, 'red': 474, 'am': 475, 'rise': 476, 'nearly': 477, 'secretary': 478, 'study': 479, 'wife': 480, 'become': 481, 'los': 482, 'many': 483, 'senior': 484, 'korea': 485, 'french': 486, 'rs': 487, 'store': 488, 'live': 489, 'rose': 490, 'well': 491, 'away': 492, 'taking': 493, 'lead': 494, 'senate': 495, 'provider': 496, 'age': 497, 'trial': 498, 'place': 499, 'opened': 500, 'special': 501, 'long': 502, 'cent': 503, 'shooting': 504, 'texas': 505, 'election': 506, 'southern': 507, 'accident': 508, 'production': 509, 'offer': 510, '9': 511, 'congress': 512, 'region': 513, 'sex': 514, 'meet': 515, 'line': 516, 'weeks': 517, 'named': 518, 'baby': 519, 'own': 520, 'singer': 521, 'lower': 522, 'sign': 523, 'going': 524, 'action': 525, 'likely': 526, 'centre': 527, 'war': 528, 'angeles': 529, 'fight': 530, 'judge': 531, 'africa': 532, 'signs': 533, 'forces': 534, 'mark': 535, 'rights': 536, 'care': 537, 'also': 538, 'my': 539, 'january': 540, 'rates': 541, 'russian': 542, 'europe': 543, 'israel': 544, 'credit': 545, 'opens': 546, 'updated': 547, 'times': 548, 'governor': 549, 'emergency': 550, 'debt': 551, 'apple': 552, 'charge': 553, 'faces': 554, 'ahead': 555, '25': 556, 'points': 557, 'ago': 558, '2008': 559, 'members': 560, 'google': 561, 'title': 562, 'coast': 563, 'trading': 564, 'investors': 565, 'premier': 566, 'social': 567, 'presidential': 568, 'hours': 569, 'assault': 570, 'facing': 571, 'filed': 572, 'building': 573, 'products': 574, 'california': 575, 'project': 576, 'nuclear': 577, 'even': 578, 'driver': 579, 'ministry': 580, 'nation': 581, 'loss': 582, 'information': 583, 'grand': 584, 'issued': 585, 'results': 586, 'profit': 587, 'paul': 588, 'least': 589, 's': 590, 'both': 591, 'small': 592, 'pleaded': 593, '0': 594, 'video': 595, 'player': 596, 'banks': 597, 'players': 598, 'german': 599, 'boy': 600, 'side': 601, 'chairman': 602, 'future': 603, 'executive': 604, 'fund': 605, 'amid': 606, 'working': 607, 'strong': 608, 'calls': 609, 'plant': 610, 'student': 611, 'without': 612, 'interest': 613, 'delhi': 614, 'co': 615, 'race': 616, 'summer': 617, 'pleads': 618, 'past': 619, 'army': 620, 'agreed': 621, 'february': 622, '100': 623, 'call': 624, 'september': 625, 'coming': 626, 'force': 627, 'does': 628, 'bus': 629, 'software': 630, 'real': 631, 'taken': 632, 'france': 633, 'took': 634, 'order': 635, 'asian': 636, 'leaders': 637, 'heart': 638, 'falls': 639, 'fourth': 640, 'old': 641, 'cash': 642, 'beat': 643, 'cuts': 644, 'earlier': 645, 'florida': 646, 'corporation': 647, 'seven': 648, 'leave': 649, 'northern': 650, 'sell': 651, '50': 652, 'residents': 653, 'november': 654, 'republican': 655, 'exchange': 656, 'education': 657, 'reportedly': 658, 'makes': 659, 'traffic': 660, 'half': 661, 'james': 662, 'claims': 663, 'gov': 664, 'change': 665, 'site': 666, 'issues': 667, 'sector': 668, 'planning': 669, 'station': 670, '13': 671, 'operations': 672, 'role': 673, 'canadian': 674, 'opening': 675, 'come': 676, 'bid': 677, 'forward': 678, 'human': 679, 'victory': 680, 'lost': 681, 'lake': 682, 'returns': 683, 'our': 684, 'internet': 685, 'continues': 686, 'control': 687, 'stop': 688, 'schools': 689, 'did': 690, 'further': 691, 'injury': 692, 'job': 693, 'need': 694, 'fans': 695, 'airlines': 696, '14': 697, 'evening': 698, 'your': 699, 'october': 700, 'policy': 701, 'match': 702, 'river': 703, 'consumer': 704, 'chris': 705, 'looking': 706, 'suspended': 707, 'december': 708, 'key': 709, 'much': 710, 'strike': 711, 'offering': 712, 'round': 713, 'missing': 714, 'airport': 715, 'killing': 716, 'parliament': 717, 'training': 718, 'raise': 719, 'led': 720, 'association': 721, 'great': 722, 'george': 723, 'brown': 724, 'hall': 725, 'ready': 726, 'insurance': 727, 'got': 728, 'album': 729, 'jail': 730, 'website': 731, 'israeli': 732, 'running': 733, 'keep': 734, 'sports': 735, 'domestic': 736, 'put': 737, '16': 738, 'remain': 739, 'construction': 740, 'countries': 741, 'must': 742, '18': 743, 'biggest': 744, 'britain': 745, 'august': 746, 'sale': 747, 'used': 748, 'member': 749, 'facebook': 750, 'current': 751, 'mother': 752, 'guard': 753, 'arrest': 754, 'giant': 755, 'issue': 756, 'black': 757, 'manchester': 758, 'son': 759, 'train': 760, 'chicago': 761, 'commission': 762, 'troops': 763, 'driving': 764, 'brand': 765, 'customers': 766, 'vote': 767, 'robert': 768, 'trying': 769, 'officers': 770, 'event': 771, 'want': 772, 'investigating': 773, 'ended': 774, 'vehicle': 775, 'join': 776, 'search': 777, 'better': 778, 'bankruptcy': 779, 'post': 780, 'green': 781, 'property': 782, 'island': 783, 'remains': 784, 'shows': 785, 'western': 786, 'sold': 787, 'weather': 788, 'getting': 789, 'soon': 790, 'session': 791, 'takes': 792, 'african': 793, 'euro': 794, 'tonight': 795, 'safety': 796, 'level': 797, 'couple': 798, 'full': 799, 'received': 800, 'statement': 801, 'hollywood': 802, '24': 803, 'eight': 804, 'having': 805, 'champion': 806, 'sri': 807, 'justice': 808, 'see': 809, 'committee': 810, 'retail': 811, 'finance': 812, 'low': 813, 'very': 814, 'sen': 815, 'among': 816, 'movie': 817, 'elections': 818, 'iraq': 819, 'solutions': 820, 'career': 821, 'turkey': 822, 'thousands': 823, '`': 824, '17': 825, 'regional': 826, 'space': 827, 'little': 828, 'stage': 829, 'give': 830, 'outside': 831, 'border': 832, 'field': 833, 'cricket': 834, 'announce': 835, 'himself': 836, 'target': 837, 'jackson': 838, 'behind': 839, 'later': 840, 'valley': 841, 'debut': 842, 'sexual': 843, 'suicide': 844, 'fuel': 845, 'practice': 846, 'staff': 847, 'germany': 848, 'admitted': 849, 'singh': 850, 'until': 851, 'along': 852, 'warned': 853, 'love': 854, 'ban': 855, 'candidate': 856, 'upcoming': 857, 'zealand': 858, 'mortgage': 859, 'awards': 860, 'violence': 861, 'gains': 862, 'opposition': 863, 'selling': 864, 'storm': 865, 'needs': 866, 'rock': 867, 'history': 868, 'wall': 869, 'maker': 870, 'microsoft': 871, 'recovery': 872, 'within': 873, 'struck': 874, 'championship': 875, 'award': 876, 'name': 877, 'based': 878, 'olympic': 879, 'anniversary': 880, 'beach': 881, 'mayor': 882, 'positive': 883, 'systems': 884, 'bay': 885, 'phone': 886, 'miss': 887, 'mexico': 888, 'decision': 889, 'such': 890, 'peace': 891, 'protection': 892, 'risk': 893, 'festival': 894, 'protest': 895, '21': 896, 'raised': 897, 'claimed': 898, 'offers': 899, 'mumbai': 900, 'officially': 901, 'using': 902, 'provide': 903, 'middle': 904, 'worth': 905, 'spending': 906, 'travel': 907, 'sent': 908, 'attacks': 909, 'flu': 910, 'performance': 911, 'ltd': 912, 'eastern': 913, 'asia': 914, 'loan': 915, 'list': 916, 'sheriff': 917, 'church': 918, '22': 919, 'build': 920, 'me': 921, 'too': 922, 'leaving': 923, 'same': 924, 'japanese': 925, 'losses': 926, 'acquire': 927, 'growing': 928, 'confidence': 929, 'cost': 930, 'battle': 931, 'businesses': 932, 'those': 933, 'alleged': 934, 'showed': 935, 'employees': 936, 'housing': 937, 'soldiers': 938, 'father': 939, 'administration': 940, 'plane': 941, 'changes': 942, 'almost': 943, 'files': 944, 'declared': 945, '19': 946, 'johnson': 947, 'fraud': 948, 'given': 949, 'un': 950, 'act': 951, \"'m\": 952, 'hotel': 953, 'funds': 954, 'ever': 955, 'approved': 956, 'radio': 957, 'reserve': 958, 'pressure': 959, 'husband': 960, 'daily': 961, 'truck': 962, 'possible': 963, 'television': 964, 'continued': 965, 'rally': 966, 'break': 967, 'democratic': 968, 'lady': 969, 'sources': 970, 'joint': 971, 'few': 972, 'georgia': 973, 'less': 974, 'boston': 975, 'interview': 976, 'serious': 977, 'legal': 978, 'known': 979, 'captain': 980, 'increased': 981, 'costs': 982, 'deputy': 983, 'step': 984, 'de': 985, 'dr': 986, 'heavy': 987, 'robbery': 988, 'girls': 989, 'carolina': 990, 'seen': 991, 'asked': 992, 'defense': 993, 'soldier': 994, 'basketball': 995, 'supply': 996, 'owner': 997, 'fired': 998, 'fiscal': 999, 'mike': 1000, 'calif': 1001, 'stay': 1002, 'natural': 1003, 'drive': 1004, 'boost': 1005, 'never': 1006, '40': 1007, 'baseball': 1008, 'williams': 1009, 'falling': 1010, 'rep': 1011, 'might': 1012, 'returned': 1013, 'syria': 1014, 'bush': 1015, 'survey': 1016, 'daughter': 1017, 'starting': 1018, 'facility': 1019, 'web': 1020, 'dropped': 1021, 'smith': 1022, 'nine': 1023, 'khan': 1024, 'single': 1025, 'armed': 1026, 'land': 1027, 'homes': 1028, 'vice': 1029, 'acquired': 1030, 'veteran': 1031, 'whose': 1032, 'jailed': 1033, 'convicted': 1034, 'main': 1035, 'attorney': 1036, 'every': 1037, 'king': 1038, '23': 1039, 'italian': 1040, 'injuries': 1041, 'look': 1042, 'champions': 1043, 'term': 1044, 'begin': 1045, 'highway': 1046, 'gay': 1047, 'flights': 1048, 'stores': 1049, 'projects': 1050, 'joe': 1051, 'inflation': 1052, 'gets': 1053, 'hopes': 1054, 'aid': 1055, 'met': 1056, 'palestinian': 1057, 'earnings': 1058, 'teacher': 1059, '27': 1060, 'striker': 1061, 'defence': 1062, 'passed': 1063, '26': 1064, 'ceo': 1065, 'division': 1066, 'recession': 1067, 'justin': 1068, 'christmas': 1069, 'why': 1070, 'common': 1071, 'investigation': 1072, 'nfl': 1073, 'total': 1074, 'joined': 1075, 'pakistani': 1076, 'warning': 1077, 'unit': 1078, 'drop': 1079, 'spring': 1080, 'al': 1081, 'popular': 1082, 'ohio': 1083, 'prince': 1084, 'commercial': 1085, 'point': 1086, 'completed': 1087, 'book': 1088, 'areas': 1089, 'bomb': 1090, 'winter': 1091, 'twitter': 1092, 'partnership': 1093, 'large': 1094, 'straight': 1095, 'tom': 1096, 'jones': 1097, 'bond': 1098, 'suffered': 1099, 'appointed': 1100, 'reached': 1101, 'nations': 1102, 'martin': 1103, 'front': 1104, 'concerns': 1105, 'find': 1106, 'drugs': 1107, 'stadium': 1108, 'double': 1109, 'futures': 1110, 'suspected': 1111, 'each': 1112, 'parts': 1113, 'digital': 1114, 'playing': 1115, 'failed': 1116, 'person': 1117, 'partner': 1118, 'spain': 1119, 'moving': 1120, 'light': 1121, 'hundreds': 1122, 'treatment': 1123, 'ground': 1124, 'efforts': 1125, 'published': 1126, 'paid': 1127, 'scheduled': 1128, 'lanka': 1129, 'super': 1130, 'watch': 1131, 'turkish': 1132, 'decided': 1133, 'bring': 1134, 'revenue': 1135, 'gun': 1136, 'goes': 1137, 'expand': 1138, 'spokesman': 1139, 'problems': 1140, 'supreme': 1141, 'la': 1142, 'steve': 1143, 'raises': 1144, 'dog': 1145, 'criminal': 1146, 'went': 1147, 'stars': 1148, 'know': 1149, 'assembly': 1150, 'finally': 1151, 'flight': 1152, 'once': 1153, 'winning': 1154, 'boss': 1155, 'caught': 1156, 'involved': 1157, 'already': 1158, 'marriage': 1159, 'iranian': 1160, 'birth': 1161, 'forced': 1162, 'communications': 1163, 'civil': 1164, 'ryan': 1165, 'crashed': 1166, 'conditions': 1167, 'wo': 1168, 'yet': 1169, 'stake': 1170, 'suspect': 1171, 'turned': 1172, 'syrian': 1173, 'hits': 1174, 'banned': 1175, 'create': 1176, 'connection': 1177, 'begins': 1178, 'operation': 1179, '28': 1180, 'focus': 1181, 'afghan': 1182, 'peter': 1183, 'giving': 1184, 'index': 1185, 'fashion': 1186, 'michigan': 1187, 'band': 1188, 'equity': 1189, 'funding': 1190, 'started': 1191, 'whether': 1192, 'releases': 1193, 'seeking': 1194, 'abuse': 1195, 'nato': 1196, 'net': 1197, 'cars': 1198, 'senator': 1199, 'magazine': 1200, 'celebrate': 1201, 'taylor': 1202, 'ireland': 1203, 'levels': 1204, 'royal': 1205, 'together': 1206, 'reduce': 1207, 'jury': 1208, 'improve': 1209, 'joins': 1210, 'ambassador': 1211, 'houston': 1212, 'range': 1213, 'lawsuit': 1214, 'assets': 1215, 'sydney': 1216, 'province': 1217, 'holding': 1218, '31': 1219, 'added': 1220, 'corporate': 1221, 'illegal': 1222, 'eu': 1223, 'sea': 1224, 'leaves': 1225, 'access': 1226, 'incident': 1227, 'track': 1228, 'iphone': 1229, 'earthquake': 1230, 'condition': 1231, 'steel': 1232, 'retirement': 1233, 'cases': 1234, 'patients': 1235, 'spanish': 1236, 'scott': 1237, 'save': 1238, 'arrived': 1239, 'perform': 1240, 'divorce': 1241, 'marketing': 1242, 'worldwide': 1243, 'caused': 1244, 'below': 1245, 'unveiled': 1246, 'class': 1247, 'records': 1248, 'producer': 1249, 'stabbed': 1250, 'egypt': 1251, 'attacked': 1252, 'liverpool': 1253, 'village': 1254, 'entertainment': 1255, 'kill': 1256, 'romney': 1257, 'process': 1258, 'singapore': 1259, 'channel': 1260, 'tournament': 1261, 'kim': 1262, '500': 1263, 'industrial': 1264, 'toronto': 1265, 'crime': 1266, 'dubai': 1267, 'rape': 1268, 'relations': 1269, 'affairs': 1270, 'jennifer': 1271, 'independent': 1272, 'base': 1273, 'review': 1274, 'reach': 1275, 'banking': 1276, 'period': 1277, 'platform': 1278, 'birthday': 1279, 'rising': 1280, 'stolen': 1281, 'living': 1282, 'robbed': 1283, 'lee': 1284, 'direct': 1285, 'jan': 1286, 'urged': 1287, 'above': 1288, 'gulf': 1289, 'damage': 1290, 'personal': 1291, 'solar': 1292, 'admits': 1293, 'tony': 1294, 'clinton': 1295, 'chelsea': 1296, 'competition': 1297, 'wanted': 1298, 'rules': 1299, 'minor': 1300, 'card': 1301, 'proposed': 1302, 'rest': 1303, 'cabinet': 1304, 'cooperation': 1305, 'ship': 1306, 'soccer': 1307, 'saudi': 1308, 'primary': 1309, 'inside': 1310, 'available': 1311, 'broke': 1312, 'blue': 1313, 'newspaper': 1314, 'threat': 1315, 'posted': 1316, 'unemployment': 1317, 'camp': 1318, 'ruled': 1319, 'crude': 1320, 'seek': 1321, 'bridge': 1322, 'stealing': 1323, 'fort': 1324, 'figures': 1325, 'resources': 1326, 'calling': 1327, 'stand': 1328, 'source': 1329, 'manufacturing': 1330, 'appeal': 1331, 'youth': 1332, 'taiwan': 1333, 'midfielder': 1334, 'kevin': 1335, 'celebrates': 1336, 'italy': 1337, 'planned': 1338, 'brazil': 1339, 'fox': 1340, 'expects': 1341, 'fifth': 1342, 'split': 1343, 'returning': 1344, 'tomorrow': 1345, 'minnesota': 1346, 'challenge': 1347, 'auto': 1348, 'institute': 1349, 'receive': 1350, 'dividend': 1351, 'turn': 1352, 'extended': 1353, 'concert': 1354, 'ordered': 1355, 'operator': 1356, 'taliban': 1357, 'then': 1358, 'corruption': 1359, 'overnight': 1360, 'paris': 1361, 'disease': 1362, 'girlfriend': 1363, 'suffering': 1364, 'massive': 1365, 'buying': 1366, 'came': 1367, 'dollars': 1368, 'offered': 1369, 'kansas': 1370, 'agent': 1371, 'holiday': 1372, 'female': 1373, 'technologies': 1374, 'limited': 1375, 'users': 1376, 'korean': 1377, 'far': 1378, 'think': 1379, 'downtown': 1380, 'ali': 1381, '29': 1382, 'researchers': 1383, 'teachers': 1384, 'ceremony': 1385, 'ties': 1386, 'strategic': 1387, 'hard': 1388, 'potential': 1389, 'helped': 1390, 'comes': 1391, 'model': 1392, 'felony': 1393, 'parents': 1394, 'charity': 1395, 'rises': 1396, 'pop': 1397, 'militants': 1398, 'boat': 1399, 'brother': 1400, 'deficit': 1401, 'apartment': 1402, 'gives': 1403, 'airline': 1404, 'las': 1405, 'adding': 1406, 'miami': 1407, 'pregnant': 1408, 'americans': 1409, 'played': 1410, 'began': 1411, 'scheme': 1412, 'short': 1413, 'virginia': 1414, 'barrel': 1415, 'nba': 1416, 'fresh': 1417, 'aircraft': 1418, 'doctors': 1419, 'cause': 1420, 'worker': 1421, 'greece': 1422, 'address': 1423, 'malaysia': 1424, 'coal': 1425, 'quarterly': 1426, 'scientists': 1427, 'jersey': 1428, 'quality': 1429, 'libya': 1430, 'wedding': 1431, 'vehicles': 1432, 'form': 1433, 'louis': 1434, 'firefighters': 1435, 'moved': 1436, 'fair': 1437, 'discuss': 1438, 'detroit': 1439, 'orders': 1440, 'port': 1441, 'mining': 1442, 'income': 1443, 'hill': 1444, 'others': 1445, 'previous': 1446, 'iowa': 1447, 'colorado': 1448, 'bills': 1449, 'terms': 1450, 'weak': 1451, 'acquires': 1452, 'perry': 1453, 'programme': 1454, \"'re\": 1455, 'tried': 1456, 'receives': 1457, 'gaza': 1458, 'appear': 1459, 'controversial': 1460, 'morgan': 1461, \"'ll\": 1462, 'room': 1463, 'highest': 1464, 'estate': 1465, 'acquisition': 1466, 'writer': 1467, 'towards': 1468, 'engaged': 1469, 'legend': 1470, 'queen': 1471, 'draft': 1472, 'sells': 1473, 'denied': 1474, 'product': 1475, 'illinois': 1476, 'mp': 1477, 'heard': 1478, 'mccain': 1479, 'talk': 1480, 'starts': 1481, 'looks': 1482, 'airways': 1483, 'voters': 1484, 'vegas': 1485, 'teen': 1486, 'rain': 1487, 'partners': 1488, 'ca': 1489, 'losing': 1490, 'response': 1491, 'exports': 1492, 'voted': 1493, 'bad': 1494, 'victims': 1495, 'compared': 1496, 'memorial': 1497, 'defeat': 1498, 'alex': 1499, 'claim': 1500, 'draw': 1501, '200': 1502, 'snow': 1503, 'feb': 1504, 'arizona': 1505, 'jim': 1506, 'date': 1507, 'blood': 1508, 'tiger': 1509, 'society': 1510, 'rescued': 1511, 'closing': 1512, 'reform': 1513, 'beating': 1514, 'friends': 1515, 'restaurant': 1516, 'view': 1517, 'irish': 1518, 'cutting': 1519, 'groups': 1520, 'bail': 1521, 'situation': 1522, 'rangers': 1523, 'fame': 1524, 'leads': 1525, 'labor': 1526, 'fatal': 1527, 'measures': 1528, 'operating': 1529, 'indicted': 1530, 'gave': 1531, 'fighting': 1532, 'friend': 1533, 'authority': 1534, 'azerbaijan': 1535, 'republic': 1536, 'winner': 1537, 'defender': 1538, 'protesters': 1539, 'francisco': 1540, 'environment': 1541, 'separate': 1542, 'package': 1543, 'poor': 1544, 'andrew': 1545, 'course': 1546, 'average': 1547, 'computer': 1548, 'swine': 1549, 'hospitalized': 1550, 'lot': 1551, 'grant': 1552, 'contest': 1553, 'allow': 1554, 'celebrity': 1555, 'custody': 1556, 'flood': 1557, 'elderly': 1558, 'rating': 1559, 'effort': 1560, 'tim': 1561, 'farmers': 1562, 'investigate': 1563, 'climate': 1564, 'victim': 1565, 'additional': 1566, 'wireless': 1567, 'moves': 1568, 'bonds': 1569, 'madrid': 1570, 'though': 1571, 'flat': 1572, 'kelly': 1573, 'completes': 1574, 'rebels': 1575, 'hong': 1576, 'committed': 1577, 'ben': 1578, 'dec': 1579, \"'ve\": 1580, '60': 1581, 'rescue': 1582, 'van': 1583, 'currently': 1584, 'hockey': 1585, 'farm': 1586, 'critical': 1587, 'block': 1588, 'attempt': 1589, 'effective': 1590, 'mission': 1591, 'aug': 1592, 'forecast': 1593, 'hurricane': 1594, 'hearing': 1595, 'navy': 1596, 'introduced': 1597, 'enough': 1598, 'boys': 1599, 'diego': 1600, 'retire': 1601, 'position': 1602, 'broken': 1603, 'knee': 1604, 'wind': 1605, 'families': 1606, 'reporting': 1607, 'academy': 1608, 't': 1609, 'equipment': 1610, 'fined': 1611, 'rugby': 1612, 'rival': 1613, 'arrives': 1614, 'pirates': 1615, 'spot': 1616, 'beginning': 1617, 'organization': 1618, 'lose': 1619, 'richard': 1620, 'boyfriend': 1621, 'squad': 1622, 'slightly': 1623, 'becoming': 1624, 'beijing': 1625, 'theft': 1626, 'atlanta': 1627, 'm': 1628, 'electric': 1629, 'weapons': 1630, 'chase': 1631, 'kong': 1632, 'resume': 1633, 'hand': 1634, 'cloud': 1635, 'dispute': 1636, 'teams': 1637, 'elected': 1638, 'believes': 1639, 'nov': 1640, 'different': 1641, 'holds': 1642, 'lawmakers': 1643, 'developer': 1644, 'tennis': 1645, 'cross': 1646, 'via': 1647, 'meets': 1648, 'considering': 1649, 'ending': 1650, 'chain': 1651, 'chance': 1652, 'greek': 1653, 'quarterback': 1654, 'celebrated': 1655, 'runs': 1656, 'minutes': 1657, 'gaga': 1658, 'directors': 1659, 'pacific': 1660, 'involving': 1661, 'protect': 1662, 'millions': 1663, 'benefits': 1664, 'summit': 1665, 'replace': 1666, 'solution': 1667, 'charlie': 1668, 'severe': 1669, 'bollywood': 1670, 'zone': 1671, 'ends': 1672, 'events': 1673, 'successful': 1674, 'doing': 1675, 'dallas': 1676, 'usa': 1677, 'indonesia': 1678, 'multiple': 1679, 'believe': 1680, 'milan': 1681, 'develop': 1682, 'woods': 1683, 'shut': 1684, 'lohan': 1685, 'shop': 1686, 'wayne': 1687, 'sets': 1688, 'kate': 1689, 'cell': 1690, 'currency': 1691, 'headquarters': 1692, 'owners': 1693, 'avoid': 1694, 'present': 1695, 'ministers': 1696, 'x': 1697, 'headed': 1698, 'lindsay': 1699, 'kashmir': 1700, 'santa': 1701, 'saw': 1702, 'progress': 1703, 'loans': 1704, 'pulled': 1705, 'labour': 1706, 'andy': 1707, 'securities': 1708, 'effect': 1709, 'venture': 1710, 'problem': 1711, 'sir': 1712, 'seeks': 1713, 'tests': 1714, \"'the\": 1715, 'threatened': 1716, 'b': 1717, 'ratings': 1718, 'trust': 1719, 'tourism': 1720, 'films': 1721, 'motor': 1722, 'philadelphia': 1723, 'cities': 1724, 'visits': 1725, 'version': 1726, 'impact': 1727, 'leadership': 1728, 'foundation': 1729, 'tree': 1730, 'account': 1731, 'mixed': 1732, 'art': 1733, 'transfer': 1734, 'township': 1735, 'forest': 1736, 'carrier': 1737, 'huge': 1738, 'launching': 1739, 'ice': 1740, 'conduct': 1741, 'worst': 1742, 'row': 1743, 'brain': 1744, 'oct': 1745, 'benefit': 1746, 'matt': 1747, 'mr': 1748, 'assistant': 1749, 'design': 1750, 'protests': 1751, 'ford': 1752, 'outlook': 1753, 'landing': 1754, 'bob': 1755, 'passes': 1756, 'reality': 1757, 'turns': 1758, 'increasing': 1759, 'hot': 1760, 'manufacturer': 1761, 'helping': 1762, 'showing': 1763, 'journal': 1764, 'important': 1765, 'seattle': 1766, 'environmental': 1767, 'citizens': 1768, 'various': 1769, 'profits': 1770, 'causing': 1771, 'poll': 1772, 'lawyer': 1773, 'awarded': 1774, 'bringing': 1775, 'complex': 1776, 'hope': 1777, 'citing': 1778, 'ukraine': 1779, 'doctor': 1780, 'alliance': 1781, 'kills': 1782, 'science': 1783, 'crashes': 1784, 'became': 1785, 'gone': 1786, 'industries': 1787, 'lines': 1788, 'aimed': 1789, 'song': 1790, 'die': 1791, 'golf': 1792, 'steps': 1793, 'relationship': 1794, 'harry': 1795, 'increases': 1796, 'motors': 1797, 'quit': 1798, 'trip': 1799, '2007': 1800, 'rupee': 1801, 'rick': 1802, 'commissioner': 1803, 'brian': 1804, 'decline': 1805, 'parties': 1806, 'expecting': 1807, 'jason': 1808, 'value': 1809, 'retailer': 1810, 'needed': 1811, 'result': 1812, 'classic': 1813, 'toyota': 1814, 'tribute': 1815, 'kids': 1816, 'terror': 1817, 'raising': 1818, 'politics': 1819, 'kardashian': 1820, 'cleared': 1821, 'married': 1822, 'marijuana': 1823, 'investor': 1824, 'relief': 1825, 'grow': 1826, 'seriously': 1827, 'recall': 1828, 'indiana': 1829, 'related': 1830, 'bowl': 1831, 'disaster': 1832, 'strategy': 1833, 'brought': 1834, 'drivers': 1835, 'english': 1836, 'allen': 1837, 'arsenal': 1838, 'application': 1839, 'consumers': 1840, 'vs': 1841, 'william': 1842, 'sony': 1843, 'signing': 1844, 'distribution': 1845, 'expansion': 1846, 'bbc': 1847, 'professional': 1848, 'missouri': 1849, 'sox': 1850, 'app': 1851, 'jack': 1852, 'strikes': 1853, 'animal': 1854, 'advanced': 1855, 'telecom': 1856, 'scored': 1857, 'charles': 1858, 'crimes': 1859, 'attempted': 1860, 'entered': 1861, 'samsung': 1862, 'fears': 1863, 'things': 1864, 'transport': 1865, 'arab': 1866, 'cleveland': 1867, 'square': 1868, 'metro': 1869, 'breaks': 1870, 'punjab': 1871, 'employee': 1872, 'remained': 1873, 'embassy': 1874, 'sexually': 1875, 'arts': 1876, 'infrastructure': 1877, 'associated': 1878, 'recovering': 1879, 'content': 1880, 'invest': 1881, 'metal': 1882, 'heat': 1883, 'prevent': 1884, 'bangladesh': 1885, 'file': 1886, 'mountain': 1887, 'appoints': 1888, 'activity': 1889, 'express': 1890, 'warns': 1891, 'feels': 1892, 'stewart': 1893, 'patent': 1894, 'delivery': 1895, 'attend': 1896, 'sanctions': 1897, 'debate': 1898, 'capacity': 1899, 'customer': 1900, 'toward': 1901, 'nationwide': 1902, 'crore': 1903, 'scotland': 1904, 'satellite': 1905, 'wisconsin': 1906, 'schedule': 1907, 'bjp': 1908, 'wide': 1909, 'analysts': 1910, 'fast': 1911, 'extend': 1912, 'safe': 1913, 'happy': 1914, 'allegations': 1915, 'box': 1916, 'activists': 1917, 'pilot': 1918, 'swiss': 1919, 'possession': 1920, 'giants': 1921, 'holdings': 1922, 'discovered': 1923, 'placed': 1924, 'sharply': 1925, 'approves': 1926, 'unveils': 1927, 'struggling': 1928, '70': 1929, 'mass': 1930, 'tech': 1931, 'really': 1932, 'ap': 1933, 'gordon': 1934, 'moscow': 1935, 'rule': 1936, 'plants': 1937, 'historic': 1938, 'bar': 1939, 'advertising': 1940, 'wake': 1941, 'joining': 1942, 'homicide': 1943, 'candidates': 1944, 'cruise': 1945, 'motorcycle': 1946, 'always': 1947, 'idol': 1948, 'barcelona': 1949, 'battery': 1950, 'applications': 1951, 'rare': 1952, 'sarah': 1953, 'networks': 1954, 'story': 1955, 'simon': 1956, 'send': 1957, 'expectations': 1958, 'lives': 1959, 'fan': 1960, 'seized': 1961, 'offices': 1962, 'avenue': 1963, 'cast': 1964, 'majority': 1965, 'apparently': 1966, 'carrying': 1967, 'leg': 1968, 'ii': 1969, 'disabled': 1970, 'tackle': 1971, 'regular': 1972, 'russell': 1973, 'patrick': 1974, 'terrorism': 1975, 'mitt': 1976, 'healthcare': 1977, 'helicopter': 1978, 'tennessee': 1979, 'jose': 1980, 'stephen': 1981, 'bieber': 1982, 'weekly': 1983, 'spend': 1984, 'jr': 1985, 'declares': 1986, 'experts': 1987, 'factor': 1988, 'thomas': 1989, 'sentence': 1990, 'thought': 1991, 'dutch': 1992, '75': 1993, 'detained': 1994, 'pick': 1995, 'olympics': 1996, 'jessica': 1997, 'seat': 1998, 'denies': 1999, 'ongoing': 2000, 'dc': 2001, 'add': 2002, 'failure': 2003, 'cents': 2004, 'throughout': 2005, 'closes': 2006, 'providing': 2007, 'author': 2008, 'electronic': 2009, 'jets': 2010, 'complete': 2011, 'developing': 2012, 'clear': 2013, 'developed': 2014, 'engineering': 2015, 'hamilton': 2016, 'technical': 2017, 'works': 2018, 'activities': 2019, 'closer': 2020, 'islamic': 2021, 'goal': 2022, 'cameron': 2023, 'auction': 2024, 'comedy': 2025, 'deadly': 2026, 'brazilian': 2027, 'voice': 2028, 'commerce': 2029, 'identified': 2030, 'activist': 2031, 'enter': 2032, 'defensive': 2033, 'settlement': 2034, 'victoria': 2035, 'loses': 2036, 'allowed': 2037, 'theatre': 2038, 'yahoo': 2039, 'muslim': 2040, 'cole': 2041, 'melbourne': 2042, 'spent': 2043, 'golden': 2044, 'comments': 2045, 'stabbing': 2046, 'vietnam': 2047, 'fires': 2048, 'immigration': 2049, 'offensive': 2050, 'extension': 2051, 'advisory': 2052, 're-election': 2053, 'success': 2054, 'introduces': 2055, 'hills': 2056, 'able': 2057, 'receiver': 2058, 'purchase': 2059, 'democrats': 2060, 'fc': 2061, 'reveals': 2062, 'concern': 2063, '35': 2064, 'significant': 2065, 'elizabeth': 2066, 'patrol': 2067, 'sending': 2068, 'overall': 2069, 'dating': 2070, 'hosting': 2071, 'gain': 2072, 'posts': 2073, 'brad': 2074, 'forum': 2075, 'appears': 2076, 'violent': 2077, 'sun': 2078, 'taxes': 2079, 'bin': 2080, 'promote': 2081, 'plc': 2082, 'consecutive': 2083, 'counts': 2084, 'wales': 2085, 'granted': 2086, 'firms': 2087, 'kentucky': 2088, 'export': 2089, 'passenger': 2090, 'failing': 2091, 'agree': 2092, 'expands': 2093, 'designed': 2094, 'route': 2095, 'wild': 2096, 'teenager': 2097, 'consider': 2098, 'assaulting': 2099, 'standard': 2100, 'polls': 2101, 'created': 2102, 'treasury': 2103, 'stimulus': 2104, 'ten': 2105, 'campus': 2106, 'zimbabwe': 2107, 'heading': 2108, 'confirms': 2109, 'selected': 2110, 'overseas': 2111, 'alabama': 2112, 'try': 2113, 'windows': 2114, 'gary': 2115, 'crew': 2116, 'jet': 2117, 'previously': 2118, '1000': 2119, 'visited': 2120, 'oklahoma': 2121, 'amy': 2122, 'rural': 2123, 'arabia': 2124, 'recovered': 2125, 'setting': 2126, 'experience': 2127, 'prize': 2128, 'palin': 2129, 'adam': 2130, 'evidence': 2131, 'daniel': 2132, 'subsidiary': 2133, 'cover': 2134, 'beckham': 2135, 'longer': 2136, 'serving': 2137, 'electronics': 2138, 'supplies': 2139, 'fees': 2140, '80': 2141, 'speech': 2142, 'speak': 2143, 'alcohol': 2144, 'parliamentary': 2145, 'kennedy': 2146, 'coalition': 2147, 'qatar': 2148, 'destroyed': 2149, 'claiming': 2150, 'hour': 2151, 'beaten': 2152, 'shopping': 2153, 'orleans': 2154, 'done': 2155, 'p': 2156, 'ruling': 2157, 'trend': 2158, 'secret': 2159, 'speed': 2160, 'anthony': 2161, 'let': 2162, 'nick': 2163, 'these': 2164, 'racing': 2165, 'cbs': 2166, 'n': 2167, 'linked': 2168, 'expanding': 2169, 'denver': 2170, 'shareholders': 2171, 'el': 2172, 'voting': 2173, 'photo': 2174, 'broadband': 2175, 'aged': 2176, 'ring': 2177, 'prosecutors': 2178, 'burglary': 2179, 'pass': 2180, 'resigned': 2181, 'changed': 2182, 'fine': 2183, 'mexican': 2184, 'negative': 2185, 'philippines': 2186, 'feel': 2187, 'iron': 2188, 'carbon': 2189, 'beats': 2190, 'passengers': 2191, 'serve': 2192, 'refused': 2193, 'founder': 2194, 'pace': 2195, 'agriculture': 2196, 'update': 2197, 'analyst': 2198, 'branch': 2199, 'parking': 2200, 'territory': 2201, 'nokia': 2202, 'finds': 2203, 'sport': 2204, 'palm': 2205, 'uae': 2206, 'cable': 2207, 'electricity': 2208, 'paper': 2209, 'agencies': 2210, 'hands': 2211, 'deliver': 2212, 'threatening': 2213, 'ensure': 2214, 'decade': 2215, 'enterprise': 2216, 'nigeria': 2217, 'michelle': 2218, 'silver': 2219, 'studio': 2220, 'oscar': 2221, 'phoenix': 2222, 'frank': 2223, 'scandal': 2224, 'freedom': 2225, 'sixth': 2226, '300': 2227, 'pitcher': 2228, 'chapter': 2229, 'herself': 2230, 'indians': 2231, 'improved': 2232, 'generation': 2233, 'units': 2234, 'tata': 2235, 'resign': 2236, 'honored': 2237, 'foot': 2238, 'statistics': 2239, 'prix': 2240, 'egyptian': 2241, 'nelson': 2242, 'streets': 2243, 'hillary': 2244, 'ghana': 2245, 'chemical': 2246, 'j': 2247, 'pounds': 2248, 'democracy': 2249, 'tamil': 2250, 'adds': 2251, 'targets': 2252, 'clash': 2253, 'interior': 2254, 'kyrgyzstan': 2255, 'android': 2256, 'lewis': 2257, 'cocaine': 2258, 'pradesh': 2259, 'eye': 2260, 'breaking': 2261, 'southwest': 2262, 'christian': 2263, 'expanded': 2264, 'diagnosed': 2265, '2014': 2266, 'threats': 2267, 'keeping': 2268, 'scottish': 2269, 'jordan': 2270, 'tokyo': 2271, 'treated': 2272, 'sept': 2273, 'surprise': 2274, 'c': 2275, 'visiting': 2276, 'cape': 2277, 'bought': 2278, 'numbers': 2279, 'foods': 2280, 'thanks': 2281, 'campbell': 2282, 'hosts': 2283, 'elementary': 2284, 'built': 2285, 'panel': 2286, 'questions': 2287, 'question': 2288, 'continuing': 2289, 'devices': 2290, 'successfully': 2291, 'wounded': 2292, '90': 2293, 'receiving': 2294, 'pattinson': 2295, 'yemen': 2296, 'license': 2297, 'decades': 2298, 'terrorist': 2299, 'announcement': 2300, 'ipad': 2301, 'wrong': 2302, 'rejected': 2303, 'alert': 2304, 'toll': 2305, 'proposal': 2306, 'marine': 2307, 'rail': 2308, 'letter': 2309, 'ocean': 2310, 'libyan': 2311, 'hurt': 2312, 'e': 2313, 'tough': 2314, 'hired': 2315, 'roads': 2316, 'strip': 2317, 'breast': 2318, 'sites': 2319, 'agents': 2320, 'abu': 2321, 'dogs': 2322, 'sees': 2323, 'appeared': 2324, 'religious': 2325, 'dealers': 2326, 'venezuela': 2327, 'appearance': 2328, 'extends': 2329, 'pittsburgh': 2330, 'stated': 2331, 'assaulted': 2332, 'engine': 2333, 'factory': 2334, 'moore': 2335, 'facilities': 2336, 'abc': 2337, 'artist': 2338, 'brothers': 2339, 'lack': 2340, 'davis': 2341, 'approval': 2342, 'details': 2343, 'portfolio': 2344, 'ill': 2345, 'laws': 2346, 'device': 2347, 'message': 2348, 'urges': 2349, 'tropical': 2350, 'status': 2351, 'yen': 2352, 'northwest': 2353, 'cold': 2354, 'deals': 2355, 'shown': 2356, 'usd': 2357, 'harris': 2358, 'amount': 2359, 'mine': 2360, 'catholic': 2361, 'laid': 2362, 'oregon': 2363, 'milwaukee': 2364, 'twins': 2365, 'bodies': 2366, 'medal': 2367, 'journalists': 2368, 'traders': 2369, 'greater': 2370, 'stronger': 2371, 'undergo': 2372, 'speculation': 2373, 'nifty': 2374, 'pension': 2375, 'miller': 2376, 'cuba': 2377, 'produce': 2378, 'goods': 2379, 'plea': 2380, 'residential': 2381, 'lending': 2382, 'fargo': 2383, 'storage': 2384, 'formally': 2385, 'testing': 2386, 'rihanna': 2387, 'murray': 2388, 'homeless': 2389, 'believed': 2390, 'pope': 2391, 'explosion': 2392, 'feature': 2393, 'amazon': 2394, 'independence': 2395, 'programs': 2396, 'movement': 2397, 'wilson': 2398, 'ny': 2399, 'challenges': 2400, 'lowest': 2401, 'reaches': 2402, 'bear': 2403, 'lifted': 2404, 'provides': 2405, 'phones': 2406, 'formula': 2407, 'austin': 2408, 'orange': 2409, 'dangerous': 2410, 'rapper': 2411, 'r': 2412, 'located': 2413, 'library': 2414, 'collision': 2415, 'note': 2416, 'buys': 2417, 'clean': 2418, 'kept': 2419, 'spears': 2420, 'arms': 2421, 'earth': 2422, 'garden': 2423, 'mail': 2424, 'duty': 2425, 'supports': 2426, 'shoot': 2427, 'becomes': 2428, 'ontario': 2429, 'myanmar': 2430, 'yankees': 2431, 'iraqi': 2432, 'investments': 2433, 'reuters': 2434, 'true': 2435, 'simpson': 2436, 'fellow': 2437, 'eric': 2438, '45': 2439, 'dozens': 2440, 'certain': 2441, 'sam': 2442, 'drama': 2443, 'pro': 2444, 'stanley': 2445, 'suspicion': 2446, 'immediate': 2447, 'sheen': 2448, 'copper': 2449, 'jon': 2450, 'stone': 2451, 'supporters': 2452, 'famous': 2453, 'wells': 2454, 'crews': 2455, 'bulgaria': 2456, 'although': 2457, 'finish': 2458, 'jerry': 2459, 'friendly': 2460, 'lebanon': 2461, 'powerful': 2462, 'representative': 2463, 'waste': 2464, 'healthy': 2465, 'walk': 2466, 'spread': 2467, 'rivals': 2468, 'votes': 2469, 'instead': 2470, 'enforcement': 2471, 'notes': 2472, 'option': 2473, 'teenage': 2474, 'roger': 2475, 'hire': 2476, 'fully': 2477, 'communities': 2478, 'goals': 2479, 'include': 2480, 'tickets': 2481, 'itself': 2482, 'push': 2483, 'collection': 2484, 'cheryl': 2485, 'tells': 2486, 'reduced': 2487, 'cards': 2488, 'sued': 2489, 'bureau': 2490, 'madonna': 2491, 'strength': 2492, 'rehab': 2493, 'designer': 2494, 'deadline': 2495, 'cancelled': 2496, 'initial': 2497, 'monetary': 2498, 'causes': 2499, 'strengthen': 2500, 'rice': 2501, 'bailout': 2502, 'options': 2503, 'conservative': 2504, 'journalist': 2505, 'veterans': 2506, 'creating': 2507, 'tourists': 2508, 'hero': 2509, 'britney': 2510, 'missed': 2511, 'begun': 2512, 'sudan': 2513, 'tampa': 2514, 'shoulder': 2515, 'vowed': 2516, 'arena': 2517, 'weight': 2518, 'championships': 2519, 'owned': 2520, 'legislation': 2521, 'howard': 2522, '400': 2523, 'buffalo': 2524, 'pool': 2525, 'massachusetts': 2526, 'anna': 2527, 'recover': 2528, 'newcastle': 2529, 'honor': 2530, 'dance': 2531, 'screen': 2532, 'however': 2533, 'stroke': 2534, 'acting': 2535, 'gandhi': 2536, 'fishing': 2537, 'commander': 2538, 'exclusive': 2539, 'rather': 2540, 'offender': 2541, 'miles': 2542, 'patient': 2543, 'nationals': 2544, 'contracts': 2545, 'basis': 2546, 'oakland': 2547, 'policies': 2548, 'employment': 2549, 'twice': 2550, 'combat': 2551, 'expert': 2552, 'broadway': 2553, 'drops': 2554, 'nomination': 2555, 'stopped': 2556, 'apparent': 2557, 'presence': 2558, 'legendary': 2559, 'winds': 2560, 'congressional': 2561, 'alive': 2562, 'resigns': 2563, 'recalled': 2564, 'utah': 2565, 'advance': 2566, 'native': 2567, 'secure': 2568, 'exercise': 2569, 'properties': 2570, 'prisoners': 2571, 'preliminary': 2572, 'payment': 2573, 'springs': 2574, 'lions': 2575, 'regime': 2576, 'newly': 2577, 'existing': 2578, 'sprint': 2579, 'sensex': 2580, 'intelligence': 2581, 'museum': 2582, 'dream': 2583, 'somali': 2584, 'suffers': 2585, 'horse': 2586, 'mall': 2587, 'argentina': 2588, 'hospitals': 2589, 'delegation': 2590, 'musical': 2591, '150': 2592, 'resort': 2593, 'dialogue': 2594, 'sharp': 2595, 'virus': 2596, 'hudson': 2597, 'galaxy': 2598, 'atlantic': 2599, 'demi': 2600, 'plays': 2601, 'welcome': 2602, 'removed': 2603, 'kicked': 2604, 'invited': 2605, 'stations': 2606, 'railway': 2607, 'assistance': 2608, 'presented': 2609, 'putting': 2610, 'kumar': 2611, 'coverage': 2612, 'hoping': 2613, 'extra': 2614, 'agrees': 2615, 'baltimore': 2616, 'columbus': 2617, 'comeback': 2618, 'katie': 2619, 'columbia': 2620, 'thailand': 2621, 'brands': 2622, 'sought': 2623, 'approximately': 2624, 'edwards': 2625, 'enters': 2626, 'offshore': 2627, 'superstar': 2628, 'smartphone': 2629, 'malaysian': 2630, 'ball': 2631, 'diplomatic': 2632, 'w': 2633, 'spotted': 2634, 'entire': 2635, 'chiefs': 2636, 'doors': 2637, 'traded': 2638, 'creek': 2639, 'touch': 2640, 'zardari': 2641, 'ticket': 2642, 'speaker': 2643, 'mary': 2644, 'awareness': 2645, 'transportation': 2646, 'sa': 2647, 'discovery': 2648, 'pennsylvania': 2649, 'rio': 2650, 'restructuring': 2651, 'resident': 2652, 'pain': 2653, 'ron': 2654, 'initiative': 2655, 'evacuated': 2656, 'fact': 2657, 'postponed': 2658, 'themselves': 2659, 'highly': 2660, 'tigers': 2661, 'luxury': 2662, 'waters': 2663, 'check': 2664, 'clinic': 2665, 'expect': 2666, 'illness': 2667, 'asking': 2668, 'warren': 2669, 'palestinians': 2670, 'hitting': 2671, 'affected': 2672, 'serbia': 2673, 'winehouse': 2674, 'floor': 2675, 'phil': 2676, 'katy': 2677, 'exhibition': 2678, 'boxing': 2679, 'performing': 2680, 'franchise': 2681, 'funeral': 2682, 'orlando': 2683, 'stable': 2684, 'sworn': 2685, 'smart': 2686, 'contact': 2687, 'filing': 2688, 'welcomes': 2689, 'slow': 2690, 'regarding': 2691, 'busy': 2692, 'reporter': 2693, 'jimmy': 2694, 'merger': 2695, 'jeff': 2696, 'madison': 2697, 'gang': 2698, 'southeast': 2699, 'fish': 2700, 'heads': 2701, 'gop': 2702, 'deaths': 2703, 'page': 2704, 'penalty': 2705, 'nothing': 2706, 'henry': 2707, 'queensland': 2708, 'fear': 2709, 'alaska': 2710, 'welcomed': 2711, 'monthly': 2712, 'emerging': 2713, 'collapsed': 2714, 'bahrain': 2715, 'renewed': 2716, 'pipeline': 2717, 'felt': 2718, 'pair': 2719, 'probation': 2720, 'culture': 2721, 'jolie': 2722, 'retired': 2723, 'killer': 2724, 'movies': 2725, 'lawyers': 2726, '/': 2727, 'nbc': 2728, 'aviation': 2729, 'preparing': 2730, 'reporters': 2731, 'tonnes': 2732, 'shanghai': 2733, 'anderson': 2734, 'recalls': 2735, 'sugar': 2736, 'complaint': 2737, 'canceled': 2738, 'jumped': 2739, 'probe': 2740, 'feet': 2741, 'missile': 2742, 'searching': 2743, 'ad': 2744, 'outstanding': 2745, '2-1': 2746, 'businessman': 2747, 'sean': 2748, 'population': 2749, 'ease': 2750, 'representatives': 2751, 'identity': 2752, 'output': 2753, 'kings': 2754, 'terrorists': 2755, 'asks': 2756, 'suspicious': 2757, 'drunk': 2758, 'pull': 2759, 'considered': 2760, '33': 2761, 'manmohan': 2762, 'sabha': 2763, 'disney': 2764, 'longtime': 2765, 'ways': 2766, 'delayed': 2767, 'fishermen': 2768, 'scene': 2769, 'active': 2770, 'angelina': 2771, 'birmingham': 2772, 'escaped': 2773, 'bilateral': 2774, 'especially': 2775, 'matches': 2776, 'conducted': 2777, 'tested': 2778, 'declined': 2779, 'vancouver': 2780, 'casino': 2781, 'nsw': 2782, 'fit': 2783, 'mississippi': 2784, 'sky': 2785, 'turning': 2786, 'eurozone': 2787, 'tender': 2788, 'insists': 2789, 'accounts': 2790, 'arm': 2791, 'request': 2792, 'clients': 2793, 'smoke': 2794, 'learned': 2795, 'negotiations': 2796, 'normal': 2797, 'carlos': 2798, 'counties': 2799, 'goldman': 2800, 'celebrating': 2801, 'tottenham': 2802, 'pitt': 2803, 'buildings': 2804, 'edge': 2805, 'sentiment': 2806, 'junior': 2807, 'resolution': 2808, 'congressman': 2809, 'places': 2810, 'imports': 2811, 'republicans': 2812, 'kenya': 2813, 'pays': 2814, 'immediately': 2815, 'raid': 2816, 'asset': 2817, 'payments': 2818, 'unions': 2819, 'managed': 2820, 'bell': 2821, 'documents': 2822, 'window': 2823, 'diamond': 2824, 'defend': 2825, 'circuit': 2826, 'specialist': 2827, 'financing': 2828, 'drinking': 2829, 'visa': 2830, 'steady': 2831, 'networking': 2832, 'repair': 2833, 'ray': 2834, 'biden': 2835, 'nhl': 2836, 'supplier': 2837, 'edward': 2838, 'guy': 2839, 'suspends': 2840, 'franklin': 2841, 'display': 2842, 'bears': 2843, 'cargo': 2844, 'male': 2845, 'chavez': 2846, 'manslaughter': 2847, 'settle': 2848, 'chrysler': 2849, 'fee': 2850, 'dedicated': 2851, 'transit': 2852, 'professor': 2853, 'opportunities': 2854, 'fatally': 2855, 'penn': 2856, 'steven': 2857, 'maryland': 2858, 'judges': 2859, 'deep': 2860, 'nasa': 2861, 'swedish': 2862, 'tell': 2863, 'louisiana': 2864, 'rich': 2865, 'ride': 2866, 'matter': 2867, 'kristen': 2868, 'standards': 2869, 'ag': 2870, 'mac': 2871, 'born': 2872, 'fighter': 2873, 'medicine': 2874, 'internal': 2875, 'tons': 2876, 'noon': 2877, 'bull': 2878, 'rocket': 2879, 'dhabi': 2880, 'promotion': 2881, 'demands': 2882, 'image': 2883, 'democrat': 2884, 'derby': 2885, 'bulgarian': 2886, 'lift': 2887, 'roll': 2888, 'troubled': 2889, 'personnel': 2890, 'connecticut': 2891, 'targeting': 2892, 'incidents': 2893, 'talent': 2894, 'd': 2895, 'portland': 2896, 'kazakhstan': 2897, 'hamas': 2898, 'battling': 2899, 'taxi': 2900, 'benchmark': 2901, 'edition': 2902, 'marks': 2903, 'antonio': 2904, 'pedestrian': 2905, 'participate': 2906, 'scientific': 2907, 'charlotte': 2908, 'features': 2909, 'sachs': 2910, 'residence': 2911, 'eve': 2912, 'informed': 2913, 'positions': 2914, 'helps': 2915, 'drew': 2916, 'azerbaijani': 2917, '*': 2918, 'cooper': 2919, 'picked': 2920, 'conflict': 2921, 'delay': 2922, 'kidnapped': 2923, 'defends': 2924, 'tight': 2925, 'false': 2926, 'wood': 2927, 'czech': 2928, 'blast': 2929, 'jewish': 2930, 'boeing': 2931, 'sister': 2932, 'waiting': 2933, 'mental': 2934, 'tehran': 2935, 'dancing': 2936, 'ncaa': 2937, 'remove': 2938, 'dan': 2939, '10000': 2940, 'investigators': 2941, 'mutual': 2942, 'shortage': 2943, 'fake': 2944, 'federation': 2945, 'follow': 2946, 'persons': 2947, 'tornado': 2948, 'andre': 2949, 'bp': 2950, 'escape': 2951, 'dark': 2952, 'carter': 2953, 'switzerland': 2954, '1-0': 2955, '32': 2956, 'don': 2957, 'figure': 2958, 'pornography': 2959, 'choice': 2960, 'perfect': 2961, 'deputies': 2962, 'dakota': 2963, 'aims': 2964, 'ferguson': 2965, 'centers': 2966, 'something': 2967, 'announcing': 2968, 'craig': 2969, 'responsible': 2970, 'youtube': 2971, 'criticism': 2972, 'mount': 2973, 'jay': 2974, 'decide': 2975, 'suggested': 2976, 'reforms': 2977, 'pictures': 2978, 'introduce': 2979, 'estimates': 2980, 'beyond': 2981, 'josh': 2982, 'opener': 2983, 'flooding': 2984, 'phase': 2985, 'learn': 2986, 'fifa': 2987, 'virgin': 2988, 'materials': 2989, 'betting': 2990, 'delays': 2991, 'arkansas': 2992, 'jump': 2993, 'lankan': 2994, 'bristol': 2995, 'cancels': 2996, 'llc': 2997, 'hike': 2998, 'marathon': 2999, 'tied': 3000, 'kicks': 3001, 'warrant': 3002, 'tea': 3003, 'seems': 3004, 'fallen': 3005, 'carry': 3006, 'hosted': 3007, 'temporary': 3008, 'targeted': 3009, 'expressed': 3010, 'convention': 3011, '2000': 3012, 'style': 3013, 'cyrus': 3014, 'netherlands': 3015, 'neighborhood': 3016, 'approach': 3017, 'worked': 3018, 'ask': 3019, 'restore': 3020, 'alexander': 3021, 'rookie': 3022, 'traditional': 3023, 'modern': 3024, 'onto': 3025, 'producers': 3026, 'images': 3027, 'northeast': 3028, 'invasion': 3029, 'learning': 3030, 'inmate': 3031, 'del': 3032, 'nominated': 3033, 'utility': 3034, 'philippine': 3035, '600': 3036, 'stole': 3037, '―': 3038, 'wildlife': 3039, 'suspects': 3040, 'ankle': 3041, '2-0': 3042, 'includes': 3043, 'meetings': 3044, 'provided': 3045, 'confident': 3046, 'drowned': 3047, 'import': 3048, 'kingdom': 3049, 'paying': 3050, 'ibm': 3051, 'sends': 3052, 'armstrong': 3053, 'ran': 3054, 'espn': 3055, 'sweden': 3056, 'shots': 3057, 'wait': 3058, 'savings': 3059, 'appeals': 3060, 'language': 3061, 'century': 3062, 'knife': 3063, 'swift': 3064, 'bradley': 3065, 'slowdown': 3066, 'arrive': 3067, 'notice': 3068, 'petrol': 3069, 'upgraded': 3070, 'secured': 3071, 'thai': 3072, 'cnn': 3073, 'swimming': 3074, 'suspension': 3075, 'lay': 3076, 'islands': 3077, 'armenia': 3078, 'thing': 3079, 'improving': 3080, 'engagement': 3081, 'belarus': 3082, 'items': 3083, 'marry': 3084, 'pound': 3085, 'montreal': 3086, 'bit': 3087, 'eagles': 3088, 'crossing': 3089, 'recorded': 3090, 'whole': 3091, 'aniston': 3092, 'threatens': 3093, 'intel': 3094, 'provincial': 3095, 'alan': 3096, 'musharraf': 3097, 'indonesian': 3098, 'everything': 3099, 'core': 3100, 'flag': 3101, 'adults': 3102, 'scam': 3103, 'terry': 3104, 'assigned': 3105, 'rushed': 3106, 'nashville': 3107, 'broadcast': 3108, 'table': 3109, 'seasons': 3110, 'commitment': 3111, 'nicolas': 3112, 'suing': 3113, \"'d\": 3114, 'everyone': 3115, 'raped': 3116, 'defended': 3117, 'bruce': 3118, 'premiere': 3119, 'rob': 3120, 'blackberry': 3121, 'email': 3122, '48': 3123, 'medvedev': 3124, 'haiti': 3125, 'coffee': 3126, 'integrated': 3127, 'blamed': 3128, 'murdered': 3129, 'hawaii': 3130, 'bars': 3131, 'books': 3132, 'parent': 3133, 'remaining': 3134, 'halt': 3135, 'institutions': 3136, 'trophy': 3137, 'ed': 3138, 'cincinnati': 3139, 'retiring': 3140, 'compensation': 3141, 'civilians': 3142, 'petroleum': 3143, 'seventh': 3144, 'reading': 3145, 'supporting': 3146, 'registered': 3147, 'murdering': 3148, 'direction': 3149, 'jazz': 3150, 'ukrainian': 3151, 'billy': 3152, 'upper': 3153, 'miley': 3154, 'dinner': 3155, 'allowing': 3156, 'difficult': 3157, 'nascar': 3158, 'managing': 3159, 'weaker': 3160, 'pilots': 3161, 'maintenance': 3162, 'crowd': 3163, 'masters': 3164, 'happened': 3165, 'processing': 3166, 'barbara': 3167, 'euros': 3168, 'trafficking': 3169, 'pat': 3170, 'comedian': 3171, 'bobby': 3172, 'violations': 3173, 'warner': 3174, 'clubs': 3175, 'nevada': 3176, '5000': 3177, 'brings': 3178, 'anything': 3179, 'lincoln': 3180, 'gates': 3181, 'districts': 3182, 'carried': 3183, 'promised': 3184, 'lopez': 3185, 'blow': 3186, '10th': 3187, 'arrests': 3188, 'shah': 3189, 'names': 3190, 'means': 3191, 'scores': 3192, 'mostly': 3193, 'clashes': 3194, 'cited': 3195, 'easy': 3196, 'finished': 3197, 'barclays': 3198, 'estimated': 3199, 'compete': 3200, 'roster': 3201, 'spill': 3202, 'liam': 3203, 'cuban': 3204, 'retailers': 3205, 'picture': 3206, 'pitch': 3207, 'described': 3208, 'influence': 3209, 'faced': 3210, 'naval': 3211, 'improvement': 3212, 'degree': 3213, 'fitness': 3214, 'adopted': 3215, 'pc': 3216, 'nicole': 3217, 'tourist': 3218, 'camera': 3219, 'cultural': 3220, 'lawrence': 3221, 'resistance': 3222, 'lender': 3223, 'maria': 3224, 'hires': 3225, 'produced': 3226, 'shortly': 3227, 'god': 3228, 'ac': 3229, 'undergoing': 3230, 'cardinals': 3231, 'defeated': 3232, 'often': 3233, 'door': 3234, 'delivered': 3235, 'prominent': 3236, 'cap': 3237, 'interstate': 3238, 'trillion': 3239, 'vows': 3240, 'accept': 3241, 'alternative': 3242, 'smoking': 3243, 'crown': 3244, 'sure': 3245, 'dealer': 3246, 'grants': 3247, 'arson': 3248, 'sound': 3249, 'diabetes': 3250, 'urban': 3251, 'wave': 3252, 'withdraws': 3253, 'forthcoming': 3254, 'listed': 3255, 'physical': 3256, 'downturn': 3257, 'plastic': 3258, 'cowell': 3259, 'featuring': 3260, 'bulls': 3261, 'streak': 3262, 'reasons': 3263, 'hilton': 3264, 'undisclosed': 3265, 'parker': 3266, 'actually': 3267, 'flying': 3268, 'judicial': 3269, 'nepal': 3270, 'lane': 3271, 'dave': 3272, 'liberal': 3273, 'emerged': 3274, '65': 3275, 'maintain': 3276, 'regulatory': 3277, 'trees': 3278, 'word': 3279, '85': 3280, 'upon': 3281, 'wear': 3282, 'kolkata': 3283, 'ufc': 3284, 'plead': 3285, 'sacramento': 3286, 'comprehensive': 3287, '100000': 3288, 'lama': 3289, 'material': 3290, 'permanent': 3291, 'joseph': 3292, 'occurred': 3293, 'malik': 3294, 'wikileaks': 3295, 'walker': 3296, 'downgraded': 3297, 'zoo': 3298, 'robin': 3299, 'unchanged': 3300, 'clark': 3301, 'johnny': 3302, 'reid': 3303, 'constitution': 3304, 'houses': 3305, 'lightning': 3306, 'cowboys': 3307, '34': 3308, 'till': 3309, 'mandela': 3310, 'firefighter': 3311, 'handed': 3312, 'gunpoint': 3313, 'presents': 3314, 'kidnapping': 3315, 'performed': 3316, 'establish': 3317, 'damaged': 3318, 'drilling': 3319, 'backed': 3320, 'nominee': 3321, 'villa': 3322, 'rafael': 3323, 'globe': 3324, 'fbi': 3325, 'similar': 3326, 'fleet': 3327, 'watson': 3328, 'dow': 3329, 'honda': 3330, 'dismissed': 3331, 'balance': 3332, 'bengal': 3333, 'suggests': 3334, 'jesse': 3335, 'burning': 3336, 'prepare': 3337, 'fewer': 3338, 'unexpectedly': 3339, 'dodgers': 3340, 'advantage': 3341, '2006': 3342, 'interim': 3343, 'gained': 3344, 'employers': 3345, 'verizon': 3346, 'fiji': 3347, 'prosecutor': 3348, 'guide': 3349, 'reliance': 3350, 'legislative': 3351, 'quickly': 3352, 'pole': 3353, 'opportunity': 3354, 'regulators': 3355, 'reopen': 3356, 'organizations': 3357, 'neil': 3358, 'commodity': 3359, 'talking': 3360, 'toddler': 3361, 'nebraska': 3362, 'shore': 3363, 'wearing': 3364, 'auckland': 3365, 'location': 3366, 'communication': 3367, 'hiring': 3368, 'celebration': 3369, 'tower': 3370, 'putin': 3371, 'restored': 3372, 'exit': 3373, 'kick': 3374, 'cyprus': 3375, 'dates': 3376, 'hp': 3377, 'dalai': 3378, 'revenues': 3379, 'long-term': 3380, 'delta': 3381, 'feeling': 3382, 'registration': 3383, 'caribbean': 3384, 'mps': 3385, 'tablet': 3386, 'master': 3387, 'guidance': 3388, 'heritage': 3389, 'barry': 3390, 'volunteers': 3391, 'islamabad': 3392, 'emirates': 3393, 'passing': 3394, 'attention': 3395, 'milestone': 3396, 'indianapolis': 3397, 'suit': 3398, 'lord': 3399, 'older': 3400, 'fastest': 3401, 'stepping': 3402, 'classes': 3403, 'jamie': 3404, 'condemned': 3405, 'legislature': 3406, 'twin': 3407, 'sarkozy': 3408, 'section': 3409, 'diesel': 3410, 'drunken': 3411, 'proud': 3412, 'minority': 3413, 'hear': 3414, 'greg': 3415, 'roberts': 3416, 'sunderland': 3417, 'chennai': 3418, 'creative': 3419, 'asif': 3420, 'original': 3421, 'threw': 3422, 'machine': 3423, 'temporarily': 3424, 'dublin': 3425, 'organisation': 3426, 'jammu': 3427, 'fail': 3428, 'plus': 3429, 'register': 3430, 'temple': 3431, 'idea': 3432, 'risks': 3433, 'backs': 3434, 'struggle': 3435, 'wholesale': 3436, 'afp': 3437, 'analysis': 3438, 'alone': 3439, 'motorola': 3440, 'collaboration': 3441, 'rand': 3442, 'rush': 3443, 'withdraw': 3444, 'speaks': 3445, 'violating': 3446, 'grew': 3447, 'tries': 3448, 'softball': 3449, 'witnesses': 3450, 'takeover': 3451, 'code': 3452, 'inquiry': 3453, 'practices': 3454, 'loves': 3455, 'respect': 3456, 'unveil': 3457, 'matthew': 3458, 'kind': 3459, 'landed': 3460, 'collins': 3461, 'guns': 3462, 'poland': 3463, 'responsibility': 3464, 'era': 3465, 'written': 3466, 'captured': 3467, 'task': 3468, 'accidentally': 3469, 'increasingly': 3470, 'casey': 3471, 'restrictions': 3472, 'principal': 3473, 'accepted': 3474, 'recalling': 3475, 'salman': 3476, '37': 3477, 'fitch': 3478, 'palace': 3479, 'charter': 3480, 'shoots': 3481, 'christina': 3482, 'storms': 3483, 'duke': 3484, 'rains': 3485, 'competitive': 3486, 'ross': 3487, 'affect': 3488, 'enhance': 3489, '44': 3490, 'shuttle': 3491, 'resignation': 3492, 'kuwait': 3493, 'tensions': 3494, 'determined': 3495, 'danny': 3496, 'freed': 3497, 'reaching': 3498, 'seize': 3499, 'abroad': 3500, 'pharmaceutical': 3501, 'automotive': 3502, 'parks': 3503, 'exploration': 3504, '72': 3505, 'recording': 3506, 'asylum': 3507, 'trail': 3508, 'worries': 3509, 'publisher': 3510, 'rejects': 3511, 'athletic': 3512, 'motion': 3513, 'trucks': 3514, 'reason': 3515, 'score': 3516, 'bird': 3517, 'gaddafi': 3518, 'prepared': 3519, 'raping': 3520, 'conviction': 3521, 'extending': 3522, 'powers': 3523, 'read': 3524, 'kerala': 3525, '42': 3526, 'moment': 3527, 'thinks': 3528, 'knowledge': 3529, 'episode': 3530, 'armenian': 3531, 'drink': 3532, 'customs': 3533, 'infection': 3534, 'gujarat': 3535, 'label': 3536, 'honoured': 3537, 'roof': 3538, 'beauty': 3539, 'demanded': 3540, 'minimum': 3541, 'larry': 3542, 'kapoor': 3543, 'hedge': 3544, 'leak': 3545, 'drought': 3546, 'billionaire': 3547, 'stability': 3548, 'grove': 3549, 'gaming': 3550, 'considers': 3551, 'sparked': 3552, 'tyler': 3553, 'earned': 3554, 'lakers': 3555, 'fails': 3556, 'hunger': 3557, 'ricky': 3558, 'mccartney': 3559, 'workforce': 3560, 'tool': 3561, 'crack': 3562, 'checks': 3563, '250': 3564, 'probably': 3565, 'walking': 3566, 'mukherjee': 3567, 'collapse': 3568, 'tools': 3569, 'dolphins': 3570, 'athletes': 3571, 'magic': 3572, 'misdemeanor': 3573, 'cat': 3574, 'icon': 3575, 'innovative': 3576, 'adult': 3577, 'latin': 3578, 'interactive': 3579, 'executives': 3580, 'established': 3581, 'defending': 3582, 'standing': 3583, 'attacking': 3584, 'anyone': 3585, 'depression': 3586, 'mtv': 3587, 'governments': 3588, 'hair': 3589, \"'we\": 3590, 'maine': 3591, 'raiders': 3592, 'blog': 3593, 'heavyweight': 3594, 'ore': 3595, 'springfield': 3596, 'hampshire': 3597, 'intends': 3598, '>': 3599, 'hugo': 3600, 'selection': 3601, 'nigerian': 3602, 'ottawa': 3603, 'marking': 3604, 'ranked': 3605, 'lenders': 3606, '55': 3607, 'pushed': 3608, 'triple': 3609, 'injuring': 3610, 'keen': 3611, 'speaking': 3612, 'motorcyclist': 3613, 'roy': 3614, 'parade': 3615, 'withdrawn': 3616, 'benedict': 3617, 'resumed': 3618, '36': 3619, 'drone': 3620, 'required': 3621, 'mar': 3622, 'operators': 3623, 'shipping': 3624, 'accepting': 3625, 'dick': 3626, 'dry': 3627, 'tribal': 3628, 'undergoes': 3629, 'pak': 3630, 'coordinator': 3631, 'knocked': 3632, 'graham': 3633, 'unique': 3634, 'montana': 3635, 'aaron': 3636, 'salary': 3637, 'innovation': 3638, 'douglas': 3639, 'hughes': 3640, 'sterling': 3641, 'milk': 3642, 'interested': 3643, 'hotels': 3644, 'currencies': 3645, 'virtual': 3646, 'proposes': 3647, 'lakh': 3648, 'humanitarian': 3649, 'buyers': 3650, 'brandon': 3651, 'qantas': 3652, 'moon': 3653, 'warriors': 3654, 'entry': 3655, 'measure': 3656, 'streaming': 3657, 'deutsche': 3658, 'knight': 3659, 'regions': 3660, 'lok': 3661, '3000': 3662, 'pet': 3663, 'lineup': 3664, 'fisher': 3665, 'publicly': 3666, 'fixed': 3667, 'accuses': 3668, 'formed': 3669, 'rome': 3670, 'colombia': 3671, 'municipal': 3672, 'ian': 3673, 'revolution': 3674, 'carl': 3675, 'goalkeeper': 3676, 'tanker': 3677, 'routes': 3678, 'wreck': 3679, 'praised': 3680, 'cells': 3681, 'hunt': 3682, '41': 3683, 'neck': 3684, 'remarks': 3685, 'kyle': 3686, 'saved': 3687, 'idaho': 3688, 'solo': 3689, 'dealing': 3690, 'faster': 3691, 'fa': 3692, 'quits': 3693, 'kosovo': 3694, 'everton': 3695, 'skills': 3696, 'included': 3697, 'politicians': 3698, 'rollover': 3699, 'reveal': 3700, 'inter': 3701, 'reopened': 3702, 'article': 3703, 'fla': 3704, 'wealth': 3705, 'ashley': 3706, 'linebacker': 3707, 'mets': 3708, 'bihar': 3709, 'playoff': 3710, 'munich': 3711, 'changing': 3712, 'julia': 3713, 'resolve': 3714, 'upset': 3715, 'endorsed': 3716, 'writes': 3717, 'keith': 3718, 'nc': 3719, 'retires': 3720, 'sciences': 3721, 'courts': 3722, 'welfare': 3723, 'limit': 3724, 'jonathan': 3725, 'kerry': 3726, 'militant': 3727, 'pub': 3728, 'wright': 3729, 'cook': 3730, 'outfielder': 3731, 'hip': 3732, 'bachchan': 3733, 'cubs': 3734, 'link': 3735, 'visitors': 3736, 'dell': 3737, 'patriots': 3738, 'rolling': 3739, 'kenny': 3740, 'saints': 3741, 'songs': 3742, 'wine': 3743, 'bike': 3744, 'crashing': 3745, 'baghdad': 3746, 'finals': 3747, 'highs': 3748, 'studies': 3749, 'rallied': 3750, 'individual': 3751, 'coaching': 3752, 'photos': 3753, '82': 3754, 'possibility': 3755, '95': 3756, 'sue': 3757, 'unlikely': 3758, 'chancellor': 3759, 'puts': 3760, 'managers': 3761, 'maoists': 3762, 'muslims': 3763, 'modi': 3764, 'wheat': 3765, 'endorses': 3766, 'brisbane': 3767, 'shane': 3768, 'memphis': 3769, 'crackdown': 3770, 'pledged': 3771, 'boosted': 3772, 'restaurants': 3773, 'romania': 3774, 'select': 3775, 'prior': 3776, 'mill': 3777, 'terminal': 3778, 'entering': 3779, 'thieves': 3780, 'prepares': 3781, 'lands': 3782, 'liberty': 3783, 'sustainable': 3784, 'thompson': 3785, 'ted': 3786, 'bc': 3787, 'variety': 3788, 'count': 3789, 'twenty20': 3790, 'prospect': 3791, 'ahmadinejad': 3792, 'potentially': 3793, 'jerusalem': 3794, 'bomber': 3795, 'blues': 3796, 'text': 3797, 'gm': 3798, 'pit': 3799, 'familiar': 3800, 'assignment': 3801, 'focused': 3802, 'commonwealth': 3803, 'immigrants': 3804, 'refuses': 3805, 'sides': 3806, 'clothing': 3807, 'nadal': 3808, 'encounter': 3809, 'served': 3810, 'lance': 3811, 'starring': 3812, 'quite': 3813, 'adelaide': 3814, 'emissions': 3815, 'external': 3816, 'roman': 3817, 'surge': 3818, 'critically': 3819, 'adviser': 3820, 'wrote': 3821, 'illegally': 3822, 'releasing': 3823, 'tie': 3824, 'someone': 3825, 'attempting': 3826, 'memory': 3827, 'involvement': 3828, 'spokeswoman': 3829, 'stranded': 3830, 'colombian': 3831, 'perth': 3832, 'agreements': 3833, 'rolled': 3834, 'jeremy': 3835, '38': 3836, 'strongly': 3837, 'vaccine': 3838, 'category': 3839, 'studios': 3840, 'berlin': 3841, 'voluntary': 3842, 'conservation': 3843, 'enterprises': 3844, 'affair': 3845, 'rachel': 3846, 'declines': 3847, 'envoy': 3848, 'metals': 3849, 'wage': 3850, 'karnataka': 3851, 'thrown': 3852, 'cinema': 3853, 'two-year': 3854, 'sep': 3855, 'dramatic': 3856, 'chidambaram': 3857, 'delaware': 3858, 'pti': 3859, 'settled': 3860, 'skin': 3861, 'conspiracy': 3862, 'significantly': 3863, 'one-year': 3864, 'photographer': 3865, 'opera': 3866, 'sues': 3867, 'size': 3868, 'tracks': 3869, '3d': 3870, 'fed': 3871, 'iii': 3872, 'foreclosure': 3873, 'prove': 3874, 'vatican': 3875, 'vladimir': 3876, 'holmes': 3877, '76': 3878, 'kent': 3879, 'telling': 3880, 'heidi': 3881, 'hunter': 3882, 'insisted': 3883, 'mind': 3884, 'rogers': 3885, 'stress': 3886, '46': 3887, 'controversy': 3888, 'character': 3889, 'kidney': 3890, 'vision': 3891, 'citizen': 3892, 'gap': 3893, 'assist': 3894, 'reducing': 3895, 'marshall': 3896, 'reserves': 3897, 'reduction': 3898, 'scale': 3899, 'marked': 3900, 'adams': 3901, 'beer': 3902, 'monitoring': 3903, 'promoted': 3904, 'worse': 3905, 'forcing': 3906, 'northwestern': 3907, 'royals': 3908, 'renewable': 3909, 'agricultural': 3910, 'coaches': 3911, 'ranks': 3912, 'animals': 3913, 'rochester': 3914, '39': 3915, 'prospects': 3916, 'stands': 3917, 'picks': 3918, 'theater': 3919, 'write': 3920, 'pete': 3921, 'rooney': 3922, 'answer': 3923, 'aston': 3924, 'somalia': 3925, 'refugees': 3926, 'bangalore': 3927, 'heights': 3928, 'chile': 3929, '71': 3930, 'temperatures': 3931, 'tracking': 3932, 'robinson': 3933, 'sleep': 3934, 'fun': 3935, 'interests': 3936, 'firing': 3937, '800': 3938, 'spirit': 3939, 'fields': 3940, 'raw': 3941, 'trapped': 3942, 'eagle': 3943, 'forecasts': 3944, 'pushing': 3945, 'karachi': 3946, 'promises': 3947, 'hub': 3948, '700': 3949, 'pharmaceuticals': 3950, 'citigroup': 3951, 'bone': 3952, 'motorists': 3953, '#': 3954, 'throwing': 3955, 'dui': 3956, 'middleton': 3957, 'abortion': 3958, 'appointment': 3959, 'mills': 3960, 'sustained': 3961, 'gift': 3962, 'georgian': 3963, 'structure': 3964, 'phillies': 3965, 'midnight': 3966, 'foster': 3967, 'capitol': 3968, 'kris': 3969, 'evans': 3970, 'stepped': 3971, '49': 3972, 'efficiency': 3973, 'lebanese': 3974, 'lying': 3975, 'beef': 3976, 'mubarak': 3977, 'upgrade': 3978, 'directed': 3979, 'closure': 3980, '43': 3981, 'tsunami': 3982, 'bans': 3983, 'outbreak': 3984, 'cameras': 3985, 'resumes': 3986, 'petition': 3987, 'all-star': 3988, 'burns': 3989, 'parish': 3990, 'peak': 3991, 'sharks': 3992, 'commits': 3993, 'resource': 3994, 'fly': 3995, 'catches': 3996, 'skipper': 3997, '3-0': 3998, 'trouble': 3999, 'communist': 4000, 'momentum': 4001, 'newest': 4002, 'pleased': 4003, 'brief': 4004, 'prescription': 4005, 'finding': 4006, 'contractor': 4007, 'kanye': 4008, 'angry': 4009, 'discrimination': 4010, 'spencer': 4011, 'gunmen': 4012, 'effects': 4013, 'bigger': 4014, 'presidency': 4015, 'providers': 4016, 'addition': 4017, 'jacksonville': 4018, 'waivers': 4019, 'implement': 4020, 'standoff': 4021, 'edged': 4022, 'underwent': 4023, 'zuma': 4024, 'favourite': 4025, 'grade': 4026, 'lung': 4027, 'tendulkar': 4028, 'sponsor': 4029, '47': 4030, 'smartphones': 4031, 'jefferson': 4032, 'vikings': 4033, 'approve': 4034, 'remote': 4035, 'nhs': 4036, 'witness': 4037, 'floods': 4038, 'telecommunications': 4039, 'brett': 4040, 'inducted': 4041, 'pulls': 4042, 'eddie': 4043, 'advice': 4044, 'abdullah': 4045, 'imposed': 4046, 'cancel': 4047, 'sectors': 4048, 'muhammad': 4049, 'mahmoud': 4050, 'supermarket': 4051, 'treat': 4052, 'lucky': 4053, 'editor': 4054, 'attempts': 4055, 'complaints': 4056, 'teens': 4057, 'trials': 4058, 'norway': 4059, 'airbus': 4060, 'murphy': 4061, 'holidays': 4062, 'nursing': 4063, 'misses': 4064, 'privacy': 4065, 'mom': 4066, 'seats': 4067, 'proposals': 4068, 'alongside': 4069, 'cairo': 4070, 'quoted': 4071, 'venezuelan': 4072, 'weapon': 4073, 'guest': 4074, 'expenses': 4075, 'brooklyn': 4076, 'musician': 4077, 'costa': 4078, 'actions': 4079, 'refinance': 4080, 'pregnancy': 4081, 'premium': 4082, 'walked': 4083, 'demanding': 4084, 'stops': 4085, 'surplus': 4086, 'maharashtra': 4087, 'consulting': 4088, 'featured': 4089, 'wing': 4090, 'computers': 4091, 'celtic': 4092, 'carey': 4093, 'sons': 4094, 'martinez': 4095, 'filmmaker': 4096, 'hunting': 4097, 'broncos': 4098, 'widespread': 4099, 'poverty': 4100, 'shelter': 4101, '54': 4102, 'leeds': 4103, 'superior': 4104, 'raza': 4105, 'licence': 4106, 'k': 4107, 'qualifying': 4108, 'winger': 4109, 'tops': 4110, 'lily': 4111, 'poised': 4112, 'nj': 4113, 'nobel': 4114, 'rahul': 4115, 'bat': 4116, 'gomez': 4117, 'lovato': 4118, 'mean': 4119, 'urging': 4120, 'developers': 4121, 'browns': 4122, 'pending': 4123, 'disappointing': 4124, 'rebound': 4125, 'computing': 4126, 'supported': 4127, '2015': 4128, 'mario': 4129, 'julian': 4130, 'trailer': 4131, 'brussels': 4132, 'vessel': 4133, 'chosen': 4134, 'watching': 4135, 'hate': 4136, 'haryana': 4137, 'shock': 4138, 'wimbledon': 4139, 'dropping': 4140, 'indies': 4141, 'nightclub': 4142, 'bloomberg': 4143, 'models': 4144, 'burned': 4145, 'revised': 4146, 'requirements': 4147, 'donald': 4148, 'constitutional': 4149, 'gilani': 4150, 'abusing': 4151, 'landmark': 4152, 'plunged': 4153, 'adopt': 4154, 'viewers': 4155, 'refinery': 4156, 'weakened': 4157, 'crystal': 4158, 'keeps': 4159, 'links': 4160, 'driven': 4161, 'affordable': 4162, 'cambridge': 4163, 'priority': 4164, 'catch': 4165, 'saving': 4166, 'volleyball': 4167, 'porn': 4168, 'papers': 4169, 'ham': 4170, 'integration': 4171, 'bag': 4172, 'innings': 4173, 'wish': 4174, 'path': 4175, 'string': 4176, 'jobless': 4177, 'limits': 4178, 'saint': 4179, 'marc': 4180, 'buried': 4181, 'favorite': 4182, 'cyclist': 4183, 'pizza': 4184, 'berlusconi': 4185, 'celebrations': 4186, 'universal': 4187, 'either': 4188, 'chest': 4189, 'attract': 4190, 'athletics': 4191, 'audience': 4192, 'eighth': 4193, 'writing': 4194, 'sacked': 4195, 'equities': 4196, 'clinical': 4197, 'replaced': 4198, 'words': 4199, 'winners': 4200, 'messages': 4201, 'universities': 4202, 'ambulance': 4203, 'susan': 4204, 'slip': 4205, 'assange': 4206, 'recycling': 4207, 'slash': 4208, 'possibly': 4209, 'slammed': 4210, 'economies': 4211, 'apply': 4212, 'upgrades': 4213, 'corner': 4214, 'solid': 4215, 'prostitution': 4216, 'user': 4217, 'athens': 4218, 'v': 4219, 'transaction': 4220, 'subject': 4221, 'chamber': 4222, 'bed': 4223, 'montgomery': 4224, 'volume': 4225, 'fighters': 4226, 'promoting': 4227, 'steelers': 4228, 'uses': 4229, 'juan': 4230, 'lawmaker': 4231, 'bottom': 4232, 'rockets': 4233, 'locations': 4234, 'confirm': 4235, 'arnold': 4236, 'braves': 4237, 'shareholder': 4238, 'roberto': 4239, '51': 4240, 'spoke': 4241, 'prostate': 4242, 'hiv': 4243, 'crucial': 4244, 'branches': 4245, 'flash': 4246, 'donated': 4247, 'farmer': 4248, 'youths': 4249, 'imf': 4250, 'shift': 4251, 'producing': 4252, 'shed': 4253, 'judiciary': 4254, 'documentary': 4255, 'anne': 4256, 'regulations': 4257, 'slipped': 4258, '11th': 4259, 'sachin': 4260, 'earn': 4261, 'sovereign': 4262, 'monitor': 4263, 'ace': 4264, 'drove': 4265, 'laden': 4266, 'type': 4267, 'condemns': 4268, 'priest': 4269, 'bmw': 4270, 'easter': 4271, 'blaze': 4272, 'workshop': 4273, 'watchdog': 4274, 'allows': 4275, 'tommy': 4276, 'sandy': 4277, 'jacob': 4278, 'sessions': 4279, 'predicted': 4280, 'ability': 4281, '88': 4282, 'dmitry': 4283, 'holy': 4284, 'tank': 4285, 'garage': 4286, 'accusing': 4287, 'christie': 4288, 'tributes': 4289, 'five-year': 4290, 'underway': 4291, 'greatest': 4292, 'titans': 4293, 'serial': 4294, 'merkel': 4295, 'auburn': 4296, 'amanda': 4297, 'l': 4298, 'abdul': 4299, '56': 4300, 'bayern': 4301, 'switch': 4302, 'throws': 4303, 'neutral': 4304, 'bernanke': 4305, 'concerned': 4306, 'wwe': 4307, 'websites': 4308, 'xinhua': 4309, 'rajasthan': 4310, 'maritime': 4311, 'karzai': 4312, 'blasts': 4313, 'topped': 4314, 'senators': 4315, 'hanging': 4316, 'discharged': 4317, 'burn': 4318, 'ken': 4319, 'honorary': 4320, 'shops': 4321, 'defenseman': 4322, 'gene': 4323, '86': 4324, 'dean': 4325, 'suzuki': 4326, 'redskins': 4327, 'lil': 4328, 'stream': 4329, 'apologizes': 4330, 'yemeni': 4331, 'broadcasting': 4332, 'opinion': 4333, 'trains': 4334, 'refusing': 4335, 'cruelty': 4336, 'pricing': 4337, 'guards': 4338, 'uncertainty': 4339, 'unknown': 4340, 'broad': 4341, '50th': 4342, 'oracle': 4343, 'rider': 4344, 'dad': 4345, 'suspend': 4346, 'vodafone': 4347, 'actors': 4348, '1-1': 4349, 'performs': 4350, 'tribune': 4351, 'drowns': 4352, 'pervez': 4353, 'sing': 4354, 'outdoor': 4355, 'discussed': 4356, 'ferrari': 4357, 'eased': 4358, 'harper': 4359, 'spokesperson': 4360, 'syed': 4361, 'values': 4362, 'quick': 4363, 'advised': 4364, 'pneumonia': 4365, 'prevention': 4366, 'peaceful': 4367, 'identify': 4368, 'eating': 4369, 'followed': 4370, 'centres': 4371, 'f': 4372, 'accidents': 4373, 'abbas': 4374, 'baseman': 4375, '12th': 4376, 'aggravated': 4377, 'mitchell': 4378, 'offences': 4379, '50000': 4380, 'ubs': 4381, 'concluded': 4382, 'dozen': 4383, 'osbourne': 4384, 'creation': 4385, 'species': 4386, 'evasion': 4387, 'u': 4388, 'aim': 4389, 'preseason': 4390, 'chart': 4391, 'determine': 4392, 'sick': 4393, 'naked': 4394, 'flames': 4395, 'ronaldo': 4396, 'acts': 4397, 'louisville': 4398, 'unable': 4399, 'manage': 4400, '68': 4401, 'apologized': 4402, 'colleges': 4403, 'improves': 4404, 'netanyahu': 4405, 'exposure': 4406, 'membership': 4407, 'blame': 4408, 'airports': 4409, 'anticipated': 4410, 'babies': 4411, 'overcome': 4412, 'grain': 4413, 'bombing': 4414, 'warming': 4415, 'counterpart': 4416, 'rapid': 4417, 'haven': 4418, 'wire': 4419, '66': 4420, 'obesity': 4421, '64': 4422, 'o': 4423, 'surrounding': 4424, 'pilgrims': 4425, 'wildfire': 4426, 'unidentified': 4427, 'praises': 4428, 'hailed': 4429, 'particularly': 4430, 'warn': 4431, 'mars': 4432, 'aggressive': 4433, 'uranium': 4434, 'attended': 4435, 'respond': 4436, 'baku': 4437, 'transplant': 4438, 'ski': 4439, '77': 4440, 'fernando': 4441, 'forms': 4442, 'completely': 4443, 'state-run': 4444, 'hopeful': 4445, 'agenda': 4446, 'feared': 4447, 'pacquiao': 4448, 'makers': 4449, 'piece': 4450, 'initiatives': 4451, 'austerity': 4452, 'slide': 4453, 'faith': 4454, 'affiliate': 4455, 'sporting': 4456, '81': 4457, 'ownership': 4458, 'robbie': 4459, 'observed': 4460, 'promising': 4461, '73': 4462, 'anc': 4463, 'artists': 4464, 'commissioners': 4465, 'playstation': 4466, 'designated': 4467, 'scrap': 4468, '67': 4469, 'nadu': 4470, 'bolton': 4471, 'concussion': 4472, 'easing': 4473, 'clothes': 4474, 'salt': 4475, 'operate': 4476, 'finger': 4477, 'channels': 4478, 'hostage': 4479, 'attending': 4480, 'monroe': 4481, 'argument': 4482, 'ward': 4483, 'wenger': 4484, 'bryant': 4485, 'aids': 4486, 'diplomats': 4487, 'publishing': 4488, 'behaviour': 4489, 'sharif': 4490, 'celtics': 4491, 'glass': 4492, 'ravens': 4493, 'chef': 4494, 'mason': 4495, 'rumors': 4496, 'murdoch': 4497, 'apa': 4498, 'quoting': 4499, 'yes': 4500, 'coroner': 4501, 'stakes': 4502, 'vital': 4503, 'federer': 4504, 'applied': 4505, 'sheikh': 4506, 'manufacturers': 4507, 'grocery': 4508, 'lynch': 4509, 'planes': 4510, 'pranab': 4511, 'recognized': 4512, 'secondary': 4513, 'default': 4514, 'nominations': 4515, 'bishop': 4516, 'edmonton': 4517, 'spectrum': 4518, 'lakes': 4519, 'gasoline': 4520, 'gibson': 4521, '1500': 4522, 'cotton': 4523, 'races': 4524, 'emma': 4525, 'selena': 4526, 'thanksgiving': 4527, 'signal': 4528, 'swept': 4529, 'diplomat': 4530, 'warehouse': 4531, 'inquest': 4532, 'gross': 4533, 'elton': 4534, 'polish': 4535, 'novel': 4536, 'ericsson': 4537, 'chip': 4538, 'remember': 4539, 'johannesburg': 4540, 'gunman': 4541, 'rodriguez': 4542, 'commodities': 4543, 'ships': 4544, 'heroin': 4545, 'reds': 4546, '3-1': 4547, 'manhattan': 4548, 'suburban': 4549, 'acres': 4550, 'zero': 4551, 'fares': 4552, 'abandoned': 4553, 'uefa': 4554, 'scare': 4555, 'cliff': 4556, 'automaker': 4557, 'htc': 4558, 'beverly': 4559, 'oldest': 4560, 'seminar': 4561, 'nature': 4562, 'randy': 4563, 'recognition': 4564, 'alberta': 4565, 'titles': 4566, 'belgium': 4567, 'offset': 4568, 'danger': 4569, 'rebel': 4570, 'sweep': 4571, 'client': 4572, 'richmond': 4573, 'enjoy': 4574, 'cbi': 4575, 'pastor': 4576, 'detention': 4577, 'throw': 4578, 'finland': 4579, 'cycling': 4580, 'command': 4581, 'torch': 4582, 'seeing': 4583, 'timberlake': 4584, 'electrical': 4585, 'updates': 4586, '53': 4587, '20-year-old': 4588, 'unity': 4589, 'argentine': 4590, 'rental': 4591, 'corps': 4592, 'dennis': 4593, '63': 4594, 'violation': 4595, 'ninth': 4596, 'necessary': 4597, 'shell': 4598, 'volunteer': 4599, 'ashton': 4600, 'rocker': 4601, 'rolls': 4602, 'referendum': 4603, 'comment': 4604, 'infant': 4605, 'childhood': 4606, 'dairy': 4607, 'slams': 4608, 'engineers': 4609, 'transition': 4610, 'schwarzenegger': 4611, 'quinn': 4612, 'cool': 4613, 'census': 4614, 'newspapers': 4615, 'suffer': 4616, 'phillips': 4617, 'slump': 4618, 'installed': 4619, 'occupy': 4620, 'baldwin': 4621, 'nearby': 4622, 'regulator': 4623, 'broadcaster': 4624, 'formal': 4625, 'castro': 4626, 'deposit': 4627, 'canadians': 4628, 'sitting': 4629, 'administrative': 4630, 'critics': 4631, 'two-day': 4632, 'lows': 4633, 'smuggling': 4634, 'investigated': 4635, 'decisions': 4636, '21-year-old': 4637, 'bernard': 4638, '20th': 4639, 'unless': 4640, 'romanian': 4641, 'kabul': 4642, 'poker': 4643, 'santorum': 4644, 'purchases': 4645, 'h': 4646, 'lifetime': 4647, 'rapids': 4648, 'eat': 4649, 'newton': 4650, 'consumption': 4651, 'mel': 4652, 'absence': 4653, 'swim': 4654, 'specialty': 4655, 'disputed': 4656, 'seoul': 4657, 'bashar': 4658, 'robbing': 4659, '3-2': 4660, 'ads': 4661, 'parole': 4662, 'doubled': 4663, 'shared': 4664, 'portsmouth': 4665, 'max': 4666, 'billions': 4667, 'qaeda': 4668, 'manny': 4669, 'princess': 4670, 'duties': 4671, 'scoring': 4672, 'lion': 4673, 'trades': 4674, 'civilian': 4675, 'advances': 4676, 'educational': 4677, 'inning': 4678, 'downgrades': 4679, 'fireworks': 4680, 'elbow': 4681, 'prisoner': 4682, 'luke': 4683, 'importance': 4684, 'luis': 4685, 'jays': 4686, 'slashed': 4687, 'crushed': 4688, 'overhaul': 4689, 'afl': 4690, 'basic': 4691, 'frozen': 4692, '2005': 4693, 'vacant': 4694, 'maximum': 4695, 'miners': 4696, 'sonia': 4697, 'graduate': 4698, 'levy': 4699, 'pink': 4700, 'feed': 4701, 'arctic': 4702, 'hole': 4703, 'aide': 4704, 'screening': 4705, 'easily': 4706, 'serbian': 4707, 'download': 4708, 'rivers': 4709, 'steal': 4710, 'directly': 4711, 'owen': 4712, 'individuals': 4713, 'cisco': 4714, 'freight': 4715, 'colin': 4716, 'roles': 4717, 'seahawks': 4718, 'clarke': 4719, 'harrison': 4720, 'suu': 4721, 'kyi': 4722, 'oscars': 4723, 'aboard': 4724, 'achieved': 4725, 'hu': 4726, 'audio': 4727, 'guru': 4728, 'xbox': 4729, 'mugabe': 4730, '57': 4731, 'placement': 4732, 'wellington': 4733, '87': 4734, 'looked': 4735, 'co-star': 4736, 'charging': 4737, 'appoint': 4738, 'opec': 4739, 'gathered': 4740, 'academic': 4741, 'briefly': 4742, 'sharing': 4743, 'ann': 4744, 'guitarist': 4745, 'mahindra': 4746, 'delivers': 4747, 'apart': 4748, 'exploded': 4749, 'minneapolis': 4750, 'nancy': 4751, '1st': 4752, 'mines': 4753, 'drawing': 4754, '120': 4755, '79': 4756, 'h1n1': 4757, 'estranged': 4758, '91': 4759, 'sense': 4760, 'definitely': 4761, 'extreme': 4762, 'three-year': 4763, 'desert': 4764, 'riding': 4765, 'gillard': 4766, 'enable': 4767, 'meat': 4768, 'juventus': 4769, 'shark': 4770, 'mariners': 4771, 'ethnic': 4772, '61': 4773, 'hsbc': 4774, 'apology': 4775, 'defeats': 4776, 'robber': 4777, 'collapses': 4778, 'escapes': 4779, 'professionals': 4780, 'simple': 4781, 'discount': 4782, 'homeowners': 4783, 'suv': 4784, 'suggesting': 4785, 'rod': 4786, 'missiles': 4787, 'responded': 4788, 'grid': 4789, 'three-day': 4790, 'completion': 4791, 'angels': 4792, 'convenience': 4793, 'amitabh': 4794, 'elephant': 4795, 'roadside': 4796, 'commit': 4797, 'scenes': 4798, 'pentagon': 4799, 'rumours': 4800, 'iconic': 4801, 'teaching': 4802, 'wichita': 4803, 'slowed': 4804, 'lottery': 4805, 'replacing': 4806, 'telephone': 4807, 'potter': 4808, 'unrest': 4809, 'continental': 4810, 'smaller': 4811, 'replacement': 4812, 'postal': 4813, 'jonas': 4814, 'todd': 4815, 'titled': 4816, 'watched': 4817, 'le': 4818, 'flagship': 4819, 'suite': 4820, 'francis': 4821, 'survived': 4822, 'gallagher': 4823, '78': 4824, 'deer': 4825, 'boycott': 4826, 'liquor': 4827, 'abbott': 4828, 'mystery': 4829, 'freeze': 4830, 'atomic': 4831, 'tribunal': 4832, 'survive': 4833, 'leon': 4834, 'grammy': 4835, 'versus': 4836, 'fundraising': 4837, 'doubles': 4838, 'tape': 4839, 'blocked': 4840, 'borrowing': 4841, 'nurse': 4842, 'closely': 4843, 'unbeaten': 4844, 'differences': 4845, 'staying': 4846, 'honour': 4847, 'uttar': 4848, 'crunch': 4849, 'hull': 4850, 'slowing': 4851, 'eyes': 4852, 'clerk': 4853, 'ridge': 4854, 'playoffs': 4855, '92': 4856, 'dress': 4857, 'berry': 4858, 'ballot': 4859, 'tmz': 4860, 'kitchen': 4861, '900': 4862, 'sandra': 4863, 'hungary': 4864, 'rebounds': 4865, 'jake': 4866, 'crowned': 4867, 'teenagers': 4868, 'moss': 4869, 'norwich': 4870, 'insurer': 4871, 'robberies': 4872, 'outlets': 4873, 'denmark': 4874, 'diet': 4875, 'pollution': 4876, 'declining': 4877, 'beautiful': 4878, 'guarantee': 4879, 'destination': 4880, 'investing': 4881, 'inspired': 4882, 'gather': 4883, 'omaha': 4884, '83': 4885, 'cope': 4886, 'damages': 4887, 'fundraiser': 4888, 'jewelry': 4889, 'soul': 4890, 'regulation': 4891, 'outfit': 4892, 'seed': 4893, 'penguins': 4894, 'prestigious': 4895, 'strengthened': 4896, 'newman': 4897, 'insider': 4898, 'one-day': 4899, 'lt': 4900, 'sisters': 4901, 'capture': 4902, 'furniture': 4903, 'hometown': 4904, 'blake': 4905, 'dj': 4906, 'dumped': 4907, 'leaked': 4908, 'larger': 4909, 'floyd': 4910, 'definitive': 4911, 'blair': 4912, 'wages': 4913, 'frontman': 4914, 'oak': 4915, 'sebastian': 4916, 'acquitted': 4917, 'unanimously': 4918, 'branded': 4919, '84': 4920, 'dame': 4921, 'combined': 4922, 'portugal': 4923, 'bounce': 4924, 'blind': 4925, 'empire': 4926, '74': 4927, 'disclosed': 4928, 'departments': 4929, 'bound': 4930, 'abducted': 4931, 'medals': 4932, 'nrl': 4933, 'coastal': 4934, 'statewide': 4935, 'blackburn': 4936, 'younger': 4937, 'surveillance': 4938, 'tibetan': 4939, 'indicated': 4940, 'eliminate': 4941, 'plot': 4942, 'print': 4943, 'lloyd': 4944, 'amendment': 4945, 'wal-mart': 4946, 'ceasefire': 4947, 'whitney': 4948, '52': 4949, 'capable': 4950, 'hybrid': 4951, '6-4': 4952, 'extremely': 4953, 'declare': 4954, 'substance': 4955, 'misconduct': 4956, 'xvi': 4957, 'refugee': 4958, 'brewers': 4959, 'locked': 4960, 'odds': 4961, 'donations': 4962, 'slam': 4963, 'hamid': 4964, '00': 4965, 'moderate': 4966, 'optimism': 4967, 'oath': 4968, 'engineer': 4969, 'hearts': 4970, 'arbitration': 4971, 'happen': 4972, 'zambia': 4973, 'shootout': 4974, 'pride': 4975, 'prompting': 4976, 'billboard': 4977, 'lease': 4978, 'gear': 4979, 'eur': 4980, 'nintendo': 4981, 'syracuse': 4982, 'pulling': 4983, 'archbishop': 4984, 'dental': 4985, '99': 4986, 'fill': 4987, 'semiconductor': 4988, 'pact': 4989, 'hugh': 4990, 'stuck': 4991, 'spy': 4992, 'evacuation': 4993, 'tentative': 4994, 'contain': 4995, 'cheating': 4996, 'angel': 4997, 'lunch': 4998, 'discussion': 4999, 'minute': 5000, 'mohammed': 5001, 'theme': 5002, 'jesus': 5003, 'household': 5004, '500000': 5005, 'trends': 5006, 'eva': 5007, '62': 5008, 'inmates': 5009, 'assam': 5010, 'donates': 5011, 'sc': 5012, 'accepts': 5013, 'curb': 5014, 'unpaid': 5015, 'northeastern': 5016, 'advisor': 5017, 'cruz': 5018, 'employer': 5019, 'barnes': 5020, 'nz': 5021, 'rupert': 5022, 'staged': 5023, 'southeastern': 5024, 'operational': 5025, 'valued': 5026, 'stones': 5027, 'ebay': 5028, 'proceedings': 5029, 'submitted': 5030, 'collided': 5031, 'christians': 5032, 'marion': 5033, 'occupied': 5034, 'easier': 5035, 'pga': 5036, 'qualify': 5037, 'raj': 5038, 'fled': 5039, 'bullock': 5040, 'compliance': 5041, 'bronze': 5042, 'nissan': 5043, 'freddie': 5044, 'sensation': 5045, 'yields': 5046, 'ultimate': 5047, 'pickup': 5048, 'bags': 5049, 'tag': 5050, 'obtained': 5051, 'weakness': 5052, 'backing': 5053, 'whom': 5054, 'desperate': 5055, 'heath': 5056, 'joel': 5057, 'packers': 5058, 'cautious': 5059, 'citizenship': 5060, 'defeating': 5061, 'tablets': 5062, '25000': 5063, 'recruitment': 5064, 'horses': 5065, 'stages': 5066, 'trainer': 5067, 'jpmorgan': 5068, 'bang': 5069, 'right-hander': 5070, 'boats': 5071, 'appealing': 5072, 'bids': 5073, 'renew': 5074, 'blocks': 5075, 'pleading': 5076, 'achieve': 5077, 'mohamed': 5078, 'guidelines': 5079, 'emmy': 5080, 'nude': 5081, 'favor': 5082, 'mentally': 5083, 'lights': 5084, 'swap': 5085, 'lifestyle': 5086, 'hyderabad': 5087, 'shoppers': 5088, 'ashes': 5089, 'decrease': 5090, 'numerous': 5091, 'al-qaeda': 5092, 'drinks': 5093, 'destroys': 5094, 'reopens': 5095, '89': 5096, 'calm': 5097, 'lexington': 5098, 'award-winning': 5099, 'deposits': 5100, 'philip': 5101, 'midwest': 5102, 'peru': 5103, 'dna': 5104, 'lahore': 5105, 'mclaren': 5106, 'shape': 5107, 'tesco': 5108, 'siemens': 5109, 'treaty': 5110, 'climbed': 5111, 'inaugural': 5112, 'albert': 5113, 'migrants': 5114, 'railways': 5115, 'norwegian': 5116, 'stem': 5117, 'seconds': 5118, 'permits': 5119, 'beyonce': 5120, 'controlled': 5121, 'gallery': 5122, 'amnesty': 5123, 'pioneer': 5124, '19-year-old': 5125, 'quebec': 5126, 'rehabilitation': 5127, 'wounds': 5128, 'marcus': 5129, 'tragedy': 5130, '69': 5131, 'wigan': 5132, 'pupils': 5133, 'organised': 5134, 'aside': 5135, 'preparation': 5136, 'inspection': 5137, 'packaging': 5138, 'economist': 5139, 'intersection': 5140, 'deported': 5141, 'icc': 5142, 'mounting': 5143, 'organized': 5144, 'co-founder': 5145, 'wrestling': 5146, '2nd': 5147, 'magnitude': 5148, 'apologised': 5149, 'datuk': 5150, 'badly': 5151, 'emotional': 5152, 'soft': 5153, 'pose': 5154, 'prosecution': 5155, 'peninsula': 5156, 'borders': 5157, 'thunder': 5158, 'surged': 5159, 'electoral': 5160, 'racist': 5161, 'trump': 5162, 'butler': 5163, 'breach': 5164, '24-year-old': 5165, 'yard': 5166, 'kicking': 5167, 'aberdeen': 5168, 'comic': 5169, 'corn': 5170, 'retained': 5171, 'recommended': 5172, 'maruti': 5173, 'speedway': 5174, 'entitled': 5175, 'brady': 5176, 'strain': 5177, 'albany': 5178, 'orioles': 5179, \"'to\": 5180, 'selects': 5181, 'pledge': 5182, 'permission': 5183, 'lp': 5184, 'pensions': 5185, 'gen': 5186, 'buses': 5187, 'bench': 5188, 'crop': 5189, 'newport': 5190, 'mainly': 5191, 'johansson': 5192, 'verdict': 5193, 'mild': 5194, 'warm': 5195, 'ram': 5196, 'breakfast': 5197, 'glasgow': 5198, '20000': 5199, 'pattern': 5200, 'sheffield': 5201, 'bosses': 5202, 'executed': 5203, 'angela': 5204, 'developments': 5205, 'silence': 5206, 'worried': 5207, 'cardiff': 5208, 'thousand': 5209, 'sanchez': 5210, 'endorse': 5211, 'darren': 5212, 'horror': 5213, 'inaugurated': 5214, 'secures': 5215, 'liver': 5216, 'views': 5217, 'tobacco': 5218, 'turmoil': 5219, 'machines': 5220, 'representing': 5221, 'muammar': 5222, 'yuan': 5223, 'reviews': 5224, 'crossed': 5225, 'diseases': 5226, 'questioned': 5227, 'silicon': 5228, 'gambling': 5229, 'rankings': 5230, 'spurs': 5231, 'ancient': 5232, 'harassment': 5233, '100th': 5234, 'jewellery': 5235, 'ones': 5236, 'chemicals': 5237, 'scientist': 5238, 'bryan': 5239, 'widely': 5240, 'policemen': 5241, 'skip': 5242, 'gate': 5243, 'christchurch': 5244, 'ferry': 5245, 'cheney': 5246, 'mad': 5247, 'brush': 5248, 'stripped': 5249, 'grounds': 5250, 'nathan': 5251, 'foreigners': 5252, 'bolt': 5253, 'broker': 5254, 'runway': 5255, 'quiet': 5256, 'ex-wife': 5257, 'governance': 5258, 'swansea': 5259, 'charleston': 5260, 'burglaries': 5261, 'readers': 5262, 'warnings': 5263, 'insurgents': 5264, 'intervention': 5265, 'underground': 5266, 'birds': 5267, 'finnish': 5268, 'serena': 5269, 'audit': 5270, 'maintained': 5271, 'behalf': 5272, 'sustainability': 5273, 'fugitive': 5274, 'fresno': 5275, 'oprah': 5276, 'clooney': 5277, 'heroes': 5278, 'fat': 5279, 'declaration': 5280, 'controls': 5281, 'preferred': 5282, '58': 5283, '94': 5284, 'christopher': 5285, 'farms': 5286, 'catcher': 5287, 'demonstration': 5288, 'opponents': 5289, 'challenging': 5290, 'fines': 5291, 'miliband': 5292, 'cardiac': 5293, 'tips': 5294, 'thackeray': 5295, 'ally': 5296, 'so-called': 5297, 'survival': 5298, 'manning': 5299, 'damascus': 5300, 'flow': 5301, 'tibet': 5302, 'bowling': 5303, 'document': 5304, 'institution': 5305, 'colombo': 5306, 'taipei': 5307, 'dam': 5308, 'loved': 5309, 'pa': 5310, 'walter': 5311, 'osama': 5312, 'statements': 5313, 'coleman': 5314, 'chair': 5315, 'struggles': 5316, 'buffett': 5317, 'letters': 5318, 'checkpoint': 5319, 'amber': 5320, 'ethics': 5321, 'sioux': 5322, 'taxpayers': 5323, '25th': 5324, 'singing': 5325, 'bankers': 5326, 'mayer': 5327, 'wars': 5328, 'tours': 5329, 'execution': 5330, 'challenged': 5331, '200000': 5332, 'rehman': 5333, 'covering': 5334, 'overturned': 5335, 'harbor': 5336, 'recruiting': 5337, 'ahmed': 5338, 'pump': 5339, 'baker': 5340, 'emerge': 5341, 'participation': 5342, 'seniors': 5343, 'vince': 5344, 'wolves': 5345, 'exposed': 5346, 'triple-a': 5347, 'politician': 5348, 'delivering': 5349, 'recruit': 5350, 'enhanced': 5351, 'sorry': 5352, 'invitation': 5353, 'posting': 5354, 'ex-girlfriend': 5355, '2004': 5356, 'platinum': 5357, 'ecuador': 5358, 'restraining': 5359, 'unprecedented': 5360, 'imran': 5361, 'detective': 5362, 'influential': 5363, 'peterson': 5364, 'responding': 5365, 'pledges': 5366, 'disciplinary': 5367, 'renews': 5368, 'fix': 5369, 'boxer': 5370, 'mo': 5371, 'severely': 5372, 'clearing': 5373, 'profile': 5374, 'pretty': 5375, 'austria': 5376, 'belgian': 5377, 'betty': 5378, 'ailing': 5379, 'logistics': 5380, 'superintendent': 5381, 're-signed': 5382, 'withdrew': 5383, 'remembered': 5384, 'chronic': 5385, 'ave': 5386, 'tens': 5387, 'promise': 5388, 'cemetery': 5389, 'na': 5390, 'aguilera': 5391, 'doubt': 5392, 'g': 5393, 'lived': 5394, 'cox': 5395, 'splits': 5396, 'itunes': 5397, 'lg': 5398, 'correspondent': 5399, 'chad': 5400, 'boyle': 5401, 'sap': 5402, 'jumps': 5403, 'bombs': 5404, 'confessed': 5405, 'norfolk': 5406, 'navigation': 5407, 'danish': 5408, 'blagojevich': 5409, 'bolster': 5410, 'carpet': 5411, 'capabilities': 5412, 'ucla': 5413, 'protesting': 5414, 'moody': 5415, 'explosive': 5416, 'scarlett': 5417, 'certification': 5418, 'assured': 5419, 'admitting': 5420, 'reverse': 5421, '4000': 5422, 'ms': 5423, 'criminals': 5424, 'monsoon': 5425, 'insisting': 5426, 'experienced': 5427, 'michele': 5428, 'stomach': 5429, 'intensive': 5430, 'walsh': 5431, 'intent': 5432, 'hardware': 5433, 'camps': 5434, 'giffords': 5435, 'drill': 5436, 'historical': 5437, 'acquiring': 5438, 'lisa': 5439, 'mini': 5440, 'implementation': 5441, 'hiding': 5442, 'newborn': 5443, 'punishment': 5444, 'president-elect': 5445, 'islam': 5446, 'subscribers': 5447, 'bath': 5448, 'rallies': 5449, 'lifts': 5450, '6-3': 5451, 'licensing': 5452, 'qualified': 5453, 'swat': 5454, 'naomi': 5455, 'reiterated': 5456, 'gray': 5457, '22-year-old': 5458, 'policeman': 5459, 'sharma': 5460, 'disorder': 5461, 'mccarthy': 5462, 'striking': 5463, 'disappointed': 5464, 'portal': 5465, 'cycle': 5466, 'speeding': 5467, 'frontier': 5468, 'chances': 5469, 'fred': 5470, 'ist': 5471, 'voter': 5472, 'vulnerable': 5473, 'therapy': 5474, 'batsman': 5475, 'riot': 5476, 'paterson': 5477, 'distributor': 5478, 'ethiopia': 5479, 'jamaica': 5480, 'mcdonald': 5481, 'layoffs': 5482, 'occasion': 5483, 'install': 5484, 'kutcher': 5485, 'conrad': 5486, 'medicare': 5487, 'suburb': 5488, 'turkmenistan': 5489, '000': 5490, '360': 5491, 'carriers': 5492, 'ppp': 5493, 'contractors': 5494, 'anchor': 5495, 'manuel': 5496, 'calgary': 5497, 'finances': 5498, 'jumping': 5499, 'jakarta': 5500, 'answers': 5501, 'fought': 5502, \"o'brien\": 5503, 'footballer': 5504, 'raja': 5505, 'button': 5506, '25-year-old': 5507, 'climb': 5508, 'liquidity': 5509, '18th': 5510, 'appointments': 5511, 'discover': 5512, 'jane': 5513, 'thomson': 5514, 'touched': 5515, 'weighed': 5516, 'pharmacy': 5517, 'domain': 5518, 'exporters': 5519, 'hospitalised': 5520, 'doping': 5521, 'composer': 5522, 'expo': 5523, 'knew': 5524, 'renowned': 5525, 'hang': 5526, 'blockbuster': 5527, 'originally': 5528, 'represent': 5529, 'keys': 5530, 'largely': 5531, 're-sign': 5532, 'sindh': 5533, 'narendra': 5534, 'welsh': 5535, 'reconciliation': 5536, 'blacks': 5537, '23-year-old': 5538, 'lesbian': 5539, 'attractive': 5540, 'ipl': 5541, 'creator': 5542, 'magistrate': 5543, 'narrowly': 5544, 'thriller': 5545, 'retain': 5546, 'lowered': 5547, 'suggest': 5548, 'shoes': 5549, 'indefinitely': 5550, 'tripoli': 5551, 'semi-final': 5552, 'vermont': 5553, 'sierra': 5554, 'stevens': 5555, 'sit': 5556, 'overdose': 5557, 'vacation': 5558, 'spreading': 5559, 'four-year': 5560, 'cornerback': 5561, 'complications': 5562, 'beta': 5563, 'fabio': 5564, 'mariah': 5565, 'expelled': 5566, 'crane': 5567, 'roma': 5568, 'ivory': 5569, 'mae': 5570, 'xi': 5571, 'wishes': 5572, 'thinking': 5573, 'semifinals': 5574, 'adrian': 5575, 'hazare': 5576, 'survives': 5577, 'plate': 5578, 'knows': 5579, 'kid': 5580, 'cues': 5581, 'sena': 5582, 'tractor': 5583, 'excited': 5584, 'nile': 5585, 'aiming': 5586, 'holder': 5587, 'apps': 5588, 'understanding': 5589, '14th': 5590, 'elite': 5591, 'salaries': 5592, '15th': 5593, 'canal': 5594, 'yellow': 5595, 'glenn': 5596, 'janata': 5597, 'bros': 5598, 'spell': 5599, 'licenses': 5600, 'holders': 5601, 'andhra': 5602, 'wings': 5603, 'relay': 5604, 'exciting': 5605, 'innocent': 5606, 'chicken': 5607, 'gaining': 5608, 'expensive': 5609, 'availability': 5610, 'suisse': 5611, 'myers': 5612, 'routine': 5613, 'genetic': 5614, 'orissa': 5615, 'waived': 5616, 'arraigned': 5617, 'acquisitions': 5618, 'cyber': 5619, 'mortgages': 5620, 'niagara': 5621, 'reduces': 5622, 'apologises': 5623, 'istanbul': 5624, 'austrian': 5625, 'swing': 5626, 'hijacked': 5627, 'triggered': 5628, 'anti-government': 5629, 'server': 5630, 'filming': 5631, 'bowler': 5632, 'e-mail': 5633, 'tulsa': 5634, 'molestation': 5635, 'twilight': 5636, 'deployed': 5637, 'discussions': 5638, 'dawn': 5639, 'mum': 5640, 'rams': 5641, 'towns': 5642, 'concept': 5643, 'vice-president': 5644, 'boosting': 5645, 'celebrities': 5646, 'racial': 5647, 'treasurer': 5648, '350': 5649, 'conn': 5650, 'trooper': 5651, 'valentine': 5652, 'modest': 5653, 'compromise': 5654, 'woes': 5655, 'hartford': 5656, 'spiritual': 5657, 'extraordinary': 5658, 'longest': 5659, 'focusing': 5660, 'oman': 5661, 'arsene': 5662, 'colts': 5663, 'supermodel': 5664, 'impressive': 5665, 'sweet': 5666, 'infringement': 5667, 'newark': 5668, 'threaten': 5669, 'merge': 5670, 'grows': 5671, 'wade': 5672, 'colleagues': 5673, 'mansion': 5674, 'fights': 5675, \"'no\": 5676, 'economists': 5677, 'natalie': 5678, 'brooks': 5679, 'cement': 5680, 'retreat': 5681, 'thin': 5682, 'risen': 5683, 'bangkok': 5684, 'shield': 5685, 'mogul': 5686, 'defamation': 5687, 'kingston': 5688, 'southwestern': 5689, '4th': 5690, 'et': 5691, 'eds': 5692, 'singles': 5693, 'di': 5694, 'appearing': 5695, 'finale': 5696, 'analytics': 5697, 'morris': 5698, 'plenty': 5699, 'derek': 5700, 'strict': 5701, 'cuomo': 5702, 'margaret': 5703, 'ash': 5704, 'explore': 5705, 'fruit': 5706, 'mt': 5707, 'bullet': 5708, 'carson': 5709, 'grown': 5710, 'hd': 5711, 'jharkhand': 5712, 'relatives': 5713, 'talked': 5714, 'herald': 5715, 'tunisia': 5716, 'regrets': 5717, 'publication': 5718, 'chargers': 5719, 'assad': 5720, 'require': 5721, '£1': 5722, 'destroy': 5723, 'gathering': 5724, 'listing': 5725, 'universe': 5726, 'projected': 5727, 'sleeping': 5728, 'hathaway': 5729, 'recovers': 5730, 'extensive': 5731, 'provinces': 5732, 'encourage': 5733, 'ranch': 5734, 'throat': 5735, 'second-degree': 5736, 'stories': 5737, 'trevor': 5738, 'circle': 5739, 'volatile': 5740, 'tear': 5741, 'connect': 5742, 'understand': 5743, 'norman': 5744, 'arthur': 5745, 'writers': 5746, 'benjamin': 5747, 'contribute': 5748, 'va': 5749, 'winnipeg': 5750, 'quest': 5751, 'ipo': 5752, 'sharapova': 5753, 'noel': 5754, 'hikes': 5755, 'silvio': 5756, 'mile': 5757, 'wyoming': 5758, 'salem': 5759, 'diaz': 5760, 'lab': 5761, 'civic': 5762, 'capello': 5763, 'www': 5764, 'romance': 5765, 'marlins': 5766, 'lineman': 5767, 'wilmington': 5768, 'transferred': 5769, 'proved': 5770, 'two-time': 5771, 'pond': 5772, 'settles': 5773, 'sponsorship': 5774, 'boris': 5775, 'glen': 5776, \"'it\": 5777, 'jean': 5778, 'manila': 5779, 'truth': 5780, 'richie': 5781, 'effectively': 5782, '130': 5783, 'unconscious': 5784, 'prompted': 5785, 'vincent': 5786, 'mega': 5787, 'athlete': 5788, 'autopsy': 5789, 'indefinite': 5790, 'paso': 5791, 'safely': 5792, 'pack': 5793, 'revealing': 5794, 'spin': 5795, 'meant': 5796, 'fda': 5797, '911': 5798, 'donate': 5799, 'laura': 5800, 'bharti': 5801, 'airtel': 5802, '13th': 5803, 'belt': 5804, 'omar': 5805, 'counter': 5806, 'harvey': 5807, 'patil': 5808, 'handling': 5809, 'campaigns': 5810, 'sanjay': 5811, 'rounds': 5812, 'framework': 5813, 'bancorp': 5814, 'amtrak': 5815, 'exactly': 5816, 'ryder': 5817, 'cream': 5818, '3g': 5819, '30000': 5820, 'stuart': 5821, 'strategies': 5822, 'knot': 5823, 'starbucks': 5824, 'fleeing': 5825, 'impose': 5826, 'wheel': 5827, 'heavily': 5828, 'providence': 5829, 'transmission': 5830, 'torn': 5831, 'ryanair': 5832, 'astronaut': 5833, 'warrants': 5834, 'kg': 5835, 'container': 5836, 'pipe': 5837, 'format': 5838, 'duncan': 5839, 'riverside': 5840, 'rudd': 5841, 'mohammad': 5842, 'marketplace': 5843, 'radical': 5844, 'swan': 5845, 'donation': 5846, 'eliminated': 5847, 'filled': 5848, 'bout': 5849, 'affecting': 5850, 'winfrey': 5851, 'richardson': 5852, 'edinburgh': 5853, 'map': 5854, 'apr': 5855, 'margin': 5856, 'willing': 5857, 'boom': 5858, 'romantic': 5859, 'remake': 5860, 'slated': 5861, 'mamata': 5862, 'minn': 5863, 'explain': 5864, 'nice': 5865, 'else': 5866, 'bitter': 5867, 'somerset': 5868, 'parked': 5869, 'lsu': 5870, 'strengthening': 5871, 'ports': 5872, 'schemes': 5873, 'offenders': 5874, 'sentencing': 5875, 'mistakes': 5876, 'meters': 5877, 'kenyan': 5878, 'bruins': 5879, 'unified': 5880, 'invites': 5881, 'creates': 5882, 'leicester': 5883, 'genocide': 5884, 'couples': 5885, 'violated': 5886, 'procedure': 5887, 'autism': 5888, 'sec': 5889, 'resulting': 5890, 'contribution': 5891, 'breakthrough': 5892, 'nasdaq': 5893, 'reward': 5894, 'substantial': 5895, 'courthouse': 5896, 'autumn': 5897, 'rbi': 5898, 'allies': 5899, 'ages': 5900, 'tire': 5901, 'chopra': 5902, 'metropolitan': 5903, 'grave': 5904, '15000': 5905, 'aerospace': 5906, 'resulted': 5907, 'absolutely': 5908, 'fulham': 5909, 'pensioner': 5910, 'dvd': 5911, 'addresses': 5912, 'drives': 5913, 'tougher': 5914, 'timothy': 5915, 'doherty': 5916, 'sanford': 5917, 'walmart': 5918, 'urge': 5919, 'wickets': 5920, 'harvard': 5921, 'surface': 5922, 'owns': 5923, 'praise': 5924, 'thief': 5925, 'planet': 5926, 'cats': 5927, 'vanessa': 5928, 'promotions': 5929, 'maintains': 5930, 'advisers': 5931, 'purchased': 5932, 'participants': 5933, 'jintao': 5934, 'cedar': 5935, 'satellites': 5936, 'reliever': 5937, 'portuguese': 5938, 'depp': 5939, 'glee': 5940, 'webber': 5941, 'shootings': 5942, 'punched': 5943, 'witherspoon': 5944, 'personality': 5945, '05': 5946, 'des': 5947, 'tension': 5948, 'us-based': 5949, 'protected': 5950, 'extradition': 5951, 'sensitive': 5952, 'doubleheader': 5953, 'plaza': 5954, 'canyon': 5955, 'boulevard': 5956, 'bundesliga': 5957, 'encouraged': 5958, 'grace': 5959, 'rovers': 5960, 'appealed': 5961, 'saves': 5962, 'shoe': 5963, 'improvements': 5964, '101': 5965, 'crush': 5966, '28-year-old': 5967, 'travis': 5968, 'stemming': 5969, 'diving': 5970, 'nicki': 5971, 'minaj': 5972, 'rukh': 5973, 'qb': 5974, 'lambert': 5975, 'bonuses': 5976, 'picking': 5977, '59': 5978, 'accounting': 5979, 'dragged': 5980, 'alleging': 5981, 'th': 5982, 'develops': 5983, 'privately': 5984, 'rubber': 5985, 'outsourcing': 5986, 'michaels': 5987, 'windsor': 5988, 'mercury': 5989, 'abused': 5990, 'ge': 5991, 'lessons': 5992, 'dhoni': 5993, 'proceeds': 5994, 'hosni': 5995, 'briefing': 5996, 'finishing': 5997, 'seekers': 5998, 'equal': 5999, 'optimistic': 6000, 'rapidly': 6001, 'typhoon': 6002, 'soaring': 6003, 'batch': 6004, 'subway': 6005, 'associate': 6006, 'concerts': 6007, 'distribute': 6008, 'palmer': 6009, 'reed': 6010, 'devastating': 6011, '110': 6012, 'rocky': 6013, 'paulo': 6014, 'wallace': 6015, 'neighbor': 6016, 'booked': 6017, 'barn': 6018, 'mountains': 6019, 'handle': 6020, 'load': 6021, 'longoria': 6022, '2002': 6023, 'likes': 6024, 'molesting': 6025, 't-mobile': 6026, 'mainland': 6027, 'shipments': 6028, 'difference': 6029, 'second-largest': 6030, 'reynolds': 6031, 'minogue': 6032, 'favre': 6033, 'intention': 6034, 'kiss': 6035, 'charities': 6036, 'favour': 6037, 'ronnie': 6038, 'miranda': 6039, 'veto': 6040, 'da': 6041, 'percentage': 6042, 'knicks': 6043, 'sweeping': 6044, 'wolf': 6045, 'rainfall': 6046, 'remanded': 6047, 'teammate': 6048, 'circumstances': 6049, 'valuable': 6050, 'karl': 6051, 'collective': 6052, 'housewives': 6053, 'oxford': 6054, '14-year-old': 6055, 'bend': 6056, 'gilbert': 6057, 'simply': 6058, '6-2': 6059, 'sofia': 6060, 'courses': 6061, 'issuing': 6062, 'torture': 6063, 'lieutenant': 6064, 'fantasy': 6065, 'burglar': 6066, 'contained': 6067, 'helicopters': 6068, 'carroll': 6069, 'legs': 6070, 'blew': 6071, 'buzz': 6072, 'covered': 6073, \"'could\": 6074, 'sudden': 6075, 'firearms': 6076, 'portion': 6077, 'bruno': 6078, 'cannabis': 6079, 'assessment': 6080, 'golfer': 6081, 'biopic': 6082, 'plunge': 6083, 'productivity': 6084, 'hacked': 6085, 'vietnamese': 6086, 'burst': 6087, 'gdp': 6088, 'kobe': 6089, 'brook': 6090, 'rays': 6091, 'neighbours': 6092, 'bennett': 6093, 'hamstring': 6094, 'walks': 6095, 'journey': 6096, 'specific': 6097, 'referee': 6098, 'hart': 6099, 'medicaid': 6100, 'instruments': 6101, 'overweight': 6102, 'survivors': 6103, 'kirk': 6104, 'cricketer': 6105, 'dpa': 6106, 'choose': 6107, 'hamburg': 6108, 'greene': 6109, 'revive': 6110, 'vendor': 6111, 'aol': 6112, 'function': 6113, 'hornets': 6114, 'honors': 6115, 'turner': 6116, 'qualifier': 6117, 'yorkshire': 6118, 'elect': 6119, 'mosque': 6120, 'essex': 6121, 'maple': 6122, 'endorsement': 6123, 'traveling': 6124, \"'not\": 6125, 'powell': 6126, 'geithner': 6127, 'fever': 6128, 'richards': 6129, 'nurses': 6130, 'nyc': 6131, 'encouraging': 6132, 'harvest': 6133, 'brent': 6134, 'credits': 6135, 'depot': 6136, 'mourinho': 6137, 'aung': 6138, 'lebron': 6139, 'dismisses': 6140, 'djokovic': 6141, 'addressing': 6142, '30th': 6143, 'consultancy': 6144, 'ellen': 6145, '1200': 6146, 'vick': 6147, 'petersburg': 6148, 'isle': 6149, 'seem': 6150, 'batting': 6151, 'equality': 6152, 'bounced': 6153, 'reese': 6154, 'slain': 6155, 'carrie': 6156, 'adoption': 6157, 'convertible': 6158, 'cooperate': 6159, 'bright': 6160, '17th': 6161, 'intended': 6162, 'acclaimed': 6163, '40th': 6164, 'imported': 6165, 'bullish': 6166, 'sudanese': 6167, 'spice': 6168, 'catherine': 6169, 'henderson': 6170, 'robbers': 6171, '19th': 6172, 'hurricanes': 6173, 'invested': 6174, 'dirty': 6175, 'whale': 6176, 'hbo': 6177, 'restructure': 6178, 'turbine': 6179, 'bust': 6180, 'daytona': 6181, 'battled': 6182, 'components': 6183, 'method': 6184, 'certificate': 6185, '30-year-old': 6186, 'juvenile': 6187, 'collected': 6188, 'stoke': 6189, 'mlb': 6190, 'carlisle': 6191, 'enjoyed': 6192, 'helen': 6193, 'uncertain': 6194, '18-year-old': 6195, 'orchestra': 6196, 'perhaps': 6197, 'reception': 6198, 'submit': 6199, 'al-assad': 6200, '93': 6201, 'vettel': 6202, 'organisers': 6203, 'chuck': 6204, 'du': 6205, '4g': 6206, 'presenter': 6207, 'partial': 6208, 'shutdown': 6209, 'ranking': 6210, 'guests': 6211, 'doug': 6212, 'gardens': 6213, 'bradford': 6214, 'rockies': 6215, 'inventories': 6216, 'gps': 6217, 'europa': 6218, 'awaited': 6219, 'shaun': 6220, 'noted': 6221, 'thunderstorm': 6222, 'serie': 6223, 'falcons': 6224, 'foul': 6225, 'clemens': 6226, 'reference': 6227, 'heather': 6228, 'globally': 6229, 'strauss-kahn': 6230, 'offerings': 6231, 'jp': 6232, 'cheap': 6233, 'bribery': 6234, 'arrival': 6235, 'carnival': 6236, 'regain': 6237, 'goa': 6238, 'brokerage': 6239, 'reaction': 6240, 'jockey': 6241, 'smashed': 6242, 'travelling': 6243, 'patents': 6244, 'counterfeit': 6245, 'railroad': 6246, 'wii': 6247, 'uganda': 6248, 'cruises': 6249, 'bridges': 6250, 'postpones': 6251, 'showcase': 6252, 'rover': 6253, 'pune': 6254, 'wonder': 6255, 'hanged': 6256, 'thus': 6257, 'partially': 6258, 'contributions': 6259, 'pills': 6260, 'fierce': 6261, 'homeland': 6262, 'boards': 6263, 'youngest': 6264, 'duo': 6265, 'tweet': 6266, 'jun': 6267, 'sponsored': 6268, 'repeatedly': 6269, 'possessing': 6270, 'enjoying': 6271, 'declaring': 6272, 'australians': 6273, 'head-on': 6274, 'plymouth': 6275, 'tumor': 6276, 'transparency': 6277, 'myspace': 6278, 'rev': 6279, 'soap': 6280, 'broader': 6281, 'suddenly': 6282, 'miner': 6283, 'essential': 6284, 'slovenia': 6285, 'borough': 6286, 'presentation': 6287, 'panasonic': 6288, 'uniform': 6289, 'cage': 6290, 'dominique': 6291, 'dayton': 6292, 'os': 6293, 'stick': 6294, 'marco': 6295, 'pratt': 6296, 'riley': 6297, 'gifts': 6298, 'infosys': 6299, 'etihad': 6300, 'ventures': 6301, 'cain': 6302, 'toss': 6303, 'nose': 6304, 'nets': 6305, 'pine': 6306, 'sidelined': 6307, 'bankrupt': 6308, 'lyon': 6309, 'repairs': 6310, 'suppliers': 6311, 'challenger': 6312, 'lock': 6313, 'ea': 6314, 'garcia': 6315, 'programmes': 6316, 'meals': 6317, 'spoken': 6318, 'brawl': 6319, 'councillor': 6320, 'activated': 6321, 'tel': 6322, '6000': 6323, 'barrier': 6324, 'oscar-winning': 6325, 'oliver': 6326, 'rebounded': 6327, 'tucson': 6328, 'disputes': 6329, 'mate': 6330, 'halted': 6331, 'sergio': 6332, 'malta': 6333, 'hindu': 6334, 'solve': 6335, 'procedures': 6336, 'underage': 6337, 'posed': 6338, '2016': 6339, 'tinto': 6340, 'coventry': 6341, 'stanford': 6342, 'guitar': 6343, '2020': 6344, 'mobility': 6345, 'struggled': 6346, 'paise': 6347, 'engines': 6348, 'grass': 6349, 'bailey': 6350, 'addressed': 6351, 'lashed': 6352, 'erupted': 6353, 'krishna': 6354, 'mandatory': 6355, 'predict': 6356, 'spree': 6357, 'passport': 6358, 'advocates': 6359, 'castle': 6360, 'fate': 6361, 'ex': 6362, 'snap': 6363, 'durham': 6364, 'permit': 6365, 'hammer': 6366, 'tyson': 6367, 'lobby': 6368, 'premiership': 6369, 'flags': 6370, 'symbol': 6371, 'indecent': 6372, 'rajya': 6373, 'schumacher': 6374, 'eligible': 6375, 'posing': 6376, 'leonardo': 6377, 'pointing': 6378, 'priced': 6379, 'puerto': 6380, 'orbit': 6381, 'km': 6382, 'quitting': 6383, 'satyam': 6384, 'yousuf': 6385, 'rough': 6386, 'associates': 6387, 'belfast': 6388, 'attorneys': 6389, 'overtime': 6390, 'dreams': 6391, 'spotlight': 6392, 'daughters': 6393, 'compact': 6394, 'first-quarter': 6395, 'voluntarily': 6396, 'congratulates': 6397, 'degrees': 6398, 'infielder': 6399, 'laptop': 6400, 'invests': 6401, 'eases': 6402, 'flew': 6403, 'pistorius': 6404, 'nuggets': 6405, 'utilities': 6406, '15-year-old': 6407, 'battles': 6408, 'dhaka': 6409, 'pre-season': 6410, 'ton': 6411, 'crazy': 6412, 'counsel': 6413, 'avalanche': 6414, 'cristiano': 6415, 'chilean': 6416, 'horizon': 6417, 'penalties': 6418, 'govt': 6419, 'epic': 6420, 'aussie': 6421, 'institutional': 6422, 'tumbled': 6423, 'astros': 6424, 'logo': 6425, 'contender': 6426, 'notre': 6427, 'dubbed': 6428, 'raids': 6429, 'gig': 6430, 'airlifted': 6431, 'administrator': 6432, 'deployment': 6433, 'mavericks': 6434, 'origin': 6435, 'md': 6436, 'hackers': 6437, 'brendan': 6438, 'lighting': 6439, 'stretch': 6440, 'investigations': 6441, 'cops': 6442, 'buyout': 6443, 'reckless': 6444, 'knox': 6445, '2500': 6446, 'hussain': 6447, 'dying': 6448, 'removing': 6449, 'moments': 6450, 'backup': 6451, 'laundering': 6452, 'raleigh': 6453, 'tap': 6454, 'soil': 6455, 'chips': 6456, 'unite': 6457, 'aaa': 6458, 'proper': 6459, 'geneva': 6460, 'rim': 6461, 'perez': 6462, 'gosselin': 6463, 'killings': 6464, 'prayer': 6465, 'multi-year': 6466, 'containing': 6467, 'novak': 6468, 'dip': 6469, 'sluggish': 6470, 'brutal': 6471, 'consolidation': 6472, 'noble': 6473, 're-elected': 6474, '3rd': 6475, 'economics': 6476, 'panthers': 6477, 'ideas': 6478, '97': 6479, 'rebuild': 6480, 'testify': 6481, 'puppy': 6482, 'kyrgyz': 6483, 'ballots': 6484, 'lie': 6485, 'merrill': 6486, 'withdrawal': 6487, 'videos': 6488, 'religion': 6489, 'incumbent': 6490, 'intellectual': 6491, 'concrete': 6492, 'governing': 6493, 'fiery': 6494, 'stunning': 6495, 'drawn': 6496, 'banerjee': 6497, 'resigning': 6498, '21st': 6499, 'solidarity': 6500, 'jaguars': 6501, 'bachmann': 6502, 'volcano': 6503, 'state-owned': 6504, 'scout': 6505, 'cannon': 6506, 'wider': 6507, 'rhode': 6508, 'aden': 6509, 'particular': 6510, 'ios': 6511, 'connected': 6512, 'adele': 6513, 'gabrielle': 6514, 'gender': 6515, 'decides': 6516, 'excellent': 6517, 'seasonal': 6518, 'excessive': 6519, 'sheet': 6520, 'manitoba': 6521, 'lockout': 6522, 'builder': 6523, 'hungarian': 6524, 'barton': 6525, 'ladies': 6526, 'bhp': 6527, 'mandate': 6528, 'spray': 6529, 'sharon': 6530, 'neighbors': 6531, 'td': 6532, 'edges': 6533, 'felipe': 6534, 'gubernatorial': 6535, '16-year-old': 6536, 'stressed': 6537, 'organizers': 6538, 'mayweather': 6539, 'questioning': 6540, 'maps': 6541, 'mistake': 6542, 'efficient': 6543, 'ledger': 6544, 'rodgers': 6545, 'exclusively': 6546, 'alicia': 6547, 'shahid': 6548, 'angola': 6549, 'retains': 6550, 'symptoms': 6551, 'rwanda': 6552, 'plotting': 6553, 'buyer': 6554, 'aamir': 6555, 'popularity': 6556, '15-day': 6557, 'renault': 6558, 'pressures': 6559, 'surrender': 6560, 'acute': 6561, 'recognize': 6562, 'anthem': 6563, 'mothers': 6564, 'checked': 6565, 'sentences': 6566, 'relating': 6567, 'councillors': 6568, 'raul': 6569, 'chat': 6570, 'performances': 6571, 'shutting': 6572, 'farewell': 6573, 'oppose': 6574, 'humphries': 6575, 'maintaining': 6576, 'approaches': 6577, 'reddy': 6578, 'li': 6579, 'competing': 6580, 'lanes': 6581, 'pierce': 6582, 'vijay': 6583, '17-year-old': 6584, 'hoped': 6585, 'coyotes': 6586, 'metres': 6587, 'amsterdam': 6588, 'vehicular': 6589, 'saskatchewan': 6590, '125': 6591, 'griffin': 6592, 'rossi': 6593, 'transactions': 6594, 'gala': 6595, 'swings': 6596, 'dragon': 6597, 'repeat': 6598, 'opposite': 6599, 'stern': 6600, 'sexy': 6601, 'graduation': 6602, 'weakens': 6603, 'detected': 6604, 'quarters': 6605, 'permanently': 6606, 'distributed': 6607, 'yoga': 6608, 'reflecting': 6609, 'bold': 6610, 'caroline': 6611, 'volatility': 6612, 'covers': 6613, 'hilary': 6614, 'freshman': 6615, 'rap': 6616, 'specifically': 6617, 'sank': 6618, 'brokers': 6619, 'baptist': 6620, 'valencia': 6621, 'meaning': 6622, 'hinted': 6623, 'marries': 6624, 'hunters': 6625, 'panic': 6626, 'youngsters': 6627, 'huntington': 6628, 'confrontation': 6629, 'sidelines': 6630, 'nervous': 6631, 'swung': 6632, 'sometime': 6633, 'compound': 6634, 'nawaz': 6635, 'iceland': 6636, 'surprised': 6637, 'hopkins': 6638, 'alberto': 6639, 'mercy': 6640, 'massacre': 6641, 'graduates': 6642, 'laser': 6643, 'trigger': 6644, 'tattoo': 6645, 'consequences': 6646, 'midday': 6647, 'first-degree': 6648, 'jd': 6649, 'disabilities': 6650, 'households': 6651, 'kidnap': 6652, 'cellular': 6653, 'gazprom': 6654, 'yield': 6655, 'andrews': 6656, 'displaced': 6657, 'tenn': 6658, 'inspector': 6659, 'carlo': 6660, 'pursue': 6661, 'cia': 6662, 'welterweight': 6663, 'presidents': 6664, 'lowers': 6665, 'finishes': 6666, 'removal': 6667, 'participating': 6668, 'consolidate': 6669, 'congratulated': 6670, 'drummer': 6671, 'trader': 6672, 'beatles': 6673, 'patch': 6674, 'bhd': 6675, 'joy': 6676, 'statue': 6677, 'gonzalez': 6678, 'flyers': 6679, 'poisoning': 6680, 'pitches': 6681, 'expresses': 6682, 'earns': 6683, 'shuts': 6684, '9/11': 6685, 'bee': 6686, 'muscle': 6687, 'subscription': 6688, 'invitational': 6689, 'runner': 6690, 'algeria': 6691, 'well-known': 6692, 'eventually': 6693, 'matters': 6694, 'herman': 6695, 'duchess': 6696, 'pearl': 6697, 'battered': 6698, 'asean': 6699, 'payroll': 6700, 'wi-fi': 6701, 'anil': 6702, 'lucas': 6703, 'pirate': 6704, 'folk': 6705, 'consent': 6706, 'seal': 6707, 'myself': 6708, 'publicist': 6709, 'laboratory': 6710, 'succeed': 6711, 'underwood': 6712, 'holland': 6713, 'detectives': 6714, 'calendar': 6715, 'creditors': 6716, 'administrators': 6717, 'tsvangirai': 6718, 'crawford': 6719, 'jay-z': 6720, 'volkswagen': 6721, 'nova': 6722, 'resorts': 6723, 'clears': 6724, 'beaches': 6725, 'hundred': 6726, 'bombings': 6727, \"o'neal\": 6728, 'wa': 6729, 'floating': 6730, 'der': 6731, 'studying': 6732, 'sore': 6733, 'shortages': 6734, 'demonstrators': 6735, 'slowly': 6736, 'intense': 6737, 'sting': 6738, '7th': 6739, 'texans': 6740, 'reorganization': 6741, 'sat': 6742, 'prayers': 6743, 'imprisonment': 6744, 'desire': 6745, 'adjourned': 6746, 'walt': 6747, 'requested': 6748, 'belmont': 6749, 'myrtle': 6750, 'weakening': 6751, 'suns': 6752, 'commuters': 6753, 'recommendations': 6754, 'handset': 6755, 'jeffrey': 6756, 'vienna': 6757, 'bottle': 6758, 'approaching': 6759, 'progressive': 6760, '96': 6761, 'exercises': 6762, 'claire': 6763, 'parkway': 6764, 'victorian': 6765, 'scouts': 6766, 'katrina': 6767, 'achievement': 6768, 'altercation': 6769, 'fiat': 6770, 'greenhouse': 6771, 'riders': 6772, 'croatia': 6773, 'gym': 6774, 'venue': 6775, 'humans': 6776, 'macedonia': 6777, 'wet': 6778, 'behavior': 6779, 'entrepreneurs': 6780, 'burnt': 6781, 'tevez': 6782, 'troy': 6783, 'ftse': 6784, 'pre-tax': 6785, 'shocking': 6786, 'reservation': 6787, 'jointly': 6788, 'steam': 6789, 'damaging': 6790, 'completing': 6791, 'repeal': 6792, 'florence': 6793, 'monica': 6794, 'micro': 6795, 'slight': 6796, 'travelers': 6797, 'ramirez': 6798, 'implemented': 6799, 'wash': 6800, 'indie': 6801, 'villages': 6802, 'guinea': 6803, 'raymond': 6804, 'marie': 6805, '400000': 6806, 'oasis': 6807, 'restricted': 6808, 'yadav': 6809, 'jul': 6810, 'mouth': 6811, 'hispanic': 6812, 'citi': 6813, 'mph': 6814, 'e-commerce': 6815, 'deciding': 6816, 'usain': 6817, 'toilet': 6818, 'zsa': 6819, 'matthews': 6820, 'messaging': 6821, 'banning': 6822, 'pointed': 6823, 'flee': 6824, 'pietersen': 6825, 'automation': 6826, 'polling': 6827, 'publish': 6828, 'gadhafi': 6829, 'allocation': 6830, 'governors': 6831, 'platforms': 6832, 'asthma': 6833, 'fractured': 6834, 'taste': 6835, 'strengthens': 6836, 'reject': 6837, 'thank': 6838, 'medium': 6839, 'ltte': 6840, 'bombers': 6841, '26-year-old': 6842, 'approached': 6843, 'ejected': 6844, 'luck': 6845, 'initiated': 6846, 'grandmother': 6847, 'garbage': 6848, 'shortfall': 6849, 'ousted': 6850, 'rogue': 6851, 'hell': 6852, 'rig': 6853, 'combine': 6854, 'zuckerberg': 6855, 'victor': 6856, 'printing': 6857, 'heels': 6858, 'playboy': 6859, 'burlington': 6860, 'secretly': 6861, 'pages': 6862, 'spends': 6863, 'engage': 6864, 'indicates': 6865, 'coma': 6866, 'al-qaida': 6867, 'concerning': 6868, 'guardian': 6869, 'bump': 6870, 'carmaker': 6871, 'maradona': 6872, 'freeway': 6873, 'revival': 6874, 'teach': 6875, '49ers': 6876, 'debts': 6877, 'ana': 6878, 'plains': 6879, 'broking': 6880, 'marines': 6881, 'chrome': 6882, 'legacy': 6883, 'workplace': 6884, 'narrow': 6885, 'filipino': 6886, 'willis': 6887, 'trained': 6888, 'precious': 6889, 'requests': 6890, 'designs': 6891, 'barrels': 6892, 'happiness': 6893, 'wrap': 6894, 'openly': 6895, 'halloween': 6896, 'arlington': 6897, '140': 6898, 'nikkei': 6899, 'islamist': 6900, 'grenade': 6901, 'uzbekistan': 6902, 'wipro': 6903, 'clippers': 6904, 'destinations': 6905, 'accidental': 6906, 'scholarship': 6907, 'poses': 6908, 'blames': 6909, 'facilitate': 6910, 'alarm': 6911, 'rica': 6912, 'addiction': 6913, 'disruption': 6914, 'netflix': 6915, 'draws': 6916, 'climbing': 6917, 'advani': 6918, 'self': 6919, 'tanks': 6920, 'disorderly': 6921, 'adopts': 6922, 'sweeps': 6923, 'hails': 6924, 'rescues': 6925, 'faculty': 6926, 'shiv': 6927, 'presenting': 6928, 'opposed': 6929, 'relative': 6930, 'respectively': 6931, 'toxic': 6932, 'peoples': 6933, 'roots': 6934, 'teammates': 6935, 'consultation': 6936, 'chocolate': 6937, 'bengals': 6938, 'consultant': 6939, 'hostile': 6940, 'quarterfinals': 6941, 'abduction': 6942, 'introduction': 6943, 'cab': 6944, 'lets': 6945, 'councilman': 6946, 'consulate': 6947, 'makeover': 6948, 'hewitt': 6949, 'dated': 6950, 'ahmad': 6951, 're': 6952, 'bernie': 6953, '60th': 6954, 'olmert': 6955, 'blackhawks': 6956, 'joey': 6957, 'combination': 6958, 'o2': 6959, 'halifax': 6960, 'yards': 6961, 'dominican': 6962, 'corrupt': 6963, 'hood': 6964, 'sullivan': 6965, 'tip': 6966, 'packages': 6967, 'inappropriate': 6968, 'nd': 6969, 'stood': 6970, 'vale': 6971, 'earthquakes': 6972, 'burma': 6973, 'wrist': 6974, 'canucks': 6975, 'dominated': 6976, 'difficulties': 6977, 'symphony': 6978, 'kraft': 6979, 'facial': 6980, 'proposing': 6981, 'prefer': 6982, 'diana': 6983, 'montag': 6984, 'atletico': 6985, 'outage': 6986, 'ex-husband': 6987, 'slower': 6988, 'yacht': 6989, 'subsidiaries': 6990, 'surcharge': 6991, 'hezbollah': 6992, 'shaw': 6993, 'ipod': 6994, 'wilkinson': 6995, 'steep': 6996, 'tracy': 6997, 'hemsworth': 6998, 'sparks': 6999, 'laying': 7000, 'apparel': 7001, 'constable': 7002, 'operated': 7003, 'queens': 7004, 'startup': 7005, 'collect': 7006, 'foreclosures': 7007, 'advocate': 7008, 'arrangements': 7009, 'revenge': 7010, 'reunited': 7011, '2-2': 7012, 'mysterious': 7013, '23rd': 7014, 'budgets': 7015, 'attendance': 7016, 'withdrawing': 7017, 'sailor': 7018, 'formation': 7019, 'renovation': 7020, 'washed': 7021, 'requires': 7022, 'accusations': 7023, 'lancaster': 7024, 'mode': 7025, 'undercover': 7026, 'upa': 7027, 'exam': 7028, 'murders': 7029, 'letterman': 7030, 'deserve': 7031, 'explains': 7032, '6th': 7033, 'bucks': 7034, 'trademark': 7035, 'pets': 7036, 'martial': 7037, 'apartments': 7038, 'wheelchair': 7039, 'hat': 7040, 'anger': 7041, 'propose': 7042, 'boosts': 7043, 'gunshot': 7044, 'revolutionary': 7045, 'evacuate': 7046, 'curtis': 7047, 'usc': 7048, 'slid': 7049, 'maiden': 7050, 'pfizer': 7051, 'rico': 7052, 'excellence': 7053, 'founding': 7054, 'dock': 7055, 'ducks': 7056, 'f1': 7057, 'loose': 7058, 'consensus': 7059, 'forming': 7060, 'accra': 7061, 'heating': 7062, 'kurt': 7063, 'caps': 7064, 'sanders': 7065, 'tragic': 7066, 'consideration': 7067, 'lauren': 7068, 'flown': 7069, 'franco': 7070, 'grey': 7071, 'devils': 7072, 'klum': 7073, 'teeth': 7074, 'minerals': 7075, 'millionaire': 7076, 'slows': 7077, 'ip': 7078, 'lays': 7079, 'roethlisberger': 7080, 'riots': 7081, 'accelerated': 7082, 'portman': 7083, 'bt': 7084, 'scotia': 7085, 'nationally': 7086, 'accountability': 7087, 'telekom': 7088, 'forecasters': 7089, 'bret': 7090, 'duff': 7091, 'ok': 7092, 'outages': 7093, 'redknapp': 7094, 'relegation': 7095, 'benitez': 7096, 'sovereignty': 7097, 'prepaid': 7098, 'assassination': 7099, 'merchant': 7100, 'elements': 7101, 'earning': 7102, 'rifle': 7103, 'fisherman': 7104, 'robust': 7105, 'crops': 7106, 'secrets': 7107, 'lawsuits': 7108, 'drake': 7109, 'dutt': 7110, 'vista': 7111, 'consortium': 7112, 'georgetown': 7113, 'samuel': 7114, 'wbc': 7115, 'glory': 7116, 'eyed': 7117, 'sp': 7118, 'motogp': 7119, 'notorious': 7120, 'brewer': 7121, 'tiny': 7122, 'pursuit': 7123, 'arriving': 7124, 'nitish': 7125, 'profitability': 7126, 'wallabies': 7127, 'testimony': 7128, 'fannie': 7129, 'piracy': 7130, 'pig': 7131, 'inauguration': 7132, 'minors': 7133, 'maoist': 7134, 'upbeat': 7135, 'shocked': 7136, '180': 7137, 'burden': 7138, 'acid': 7139, 'councils': 7140, 'skype': 7141, 'editorial': 7142, 'dogg': 7143, 'empty': 7144, 'travellers': 7145, 'rutgers': 7146, 'fourth-quarter': 7147, 'morrison': 7148, 'miguel': 7149, 'humanity': 7150, 'signature': 7151, 'gerard': 7152, 'hawks': 7153, 'organisations': 7154, 'abbey': 7155, 'stance': 7156, 'demolition': 7157, 'cigarettes': 7158, 'khalifa': 7159, 'shadow': 7160, 'columnist': 7161, 'publishes': 7162, 'malawi': 7163, 'explodes': 7164, 'nobody': 7165, 'motel': 7166, 'neglect': 7167, 'ethanol': 7168, 'klitschko': 7169, 'greenback': 7170, 'wed': 7171, 'afraid': 7172, 'oval': 7173, 'predicts': 7174, 'stating': 7175, 'clayton': 7176, 'manner': 7177, 'purpose': 7178, 'congo': 7179, 'sometimes': 7180, 'lacrosse': 7181, 'ramp': 7182, 'reinstated': 7183, 'croatian': 7184, 'aviv': 7185, 'suffolk': 7186, '2003': 7187, 'bet': 7188, 'jorge': 7189, 'offense': 7190, 'bharatiya': 7191, 'christ': 7192, 'contempt': 7193, 'turnover': 7194, 'cheated': 7195, 'morocco': 7196, 'amidst': 7197, 'cooking': 7198, 'embattled': 7199, 'blackpool': 7200, 'irene': 7201, 'preserve': 7202, 'controller': 7203, 'comfortable': 7204, 'icici': 7205, 'lone': 7206, 'axe': 7207, 'preston': 7208, 'ambitious': 7209, 'skating': 7210, 'prop': 7211, 'polar': 7212, 'maldives': 7213, 'segment': 7214, 'dressed': 7215, 'lots': 7216, 'indictment': 7217, 'notices': 7218, 'tipped': 7219, 'diamondbacks': 7220, '31-year-old': 7221, 'bingo': 7222, 'mirza': 7223, '29-year-old': 7224, 'bentley': 7225, 'depth': 7226, 'snapped': 7227, 'villagers': 7228, '5th': 7229, 'enemy': 7230, 'lynn': 7231, 'desktop': 7232, 'booking': 7233, 'lou': 7234, 'sergeant': 7235, 'doctorate': 7236, 'ditch': 7237, 'free-agent': 7238, 'sunny': 7239, 'ceiling': 7240, 'snoop': 7241, 'patel': 7242, 'restart': 7243, 'multi-million': 7244, 'protecting': 7245, 'criticised': 7246, 'internationally': 7247, 'silva': 7248, 'incentives': 7249, 'describing': 7250, 'lionel': 7251, 'downs': 7252, 'janet': 7253, 'slovakia': 7254, 'classroom': 7255, 'high-profile': 7256, 'reliable': 7257, 'dementia': 7258, 'volumes': 7259, 'imminent': 7260, 'length': 7261, 'sprained': 7262, 'thermal': 7263, 'surrendered': 7264, 'padres': 7265, 'quake': 7266, 'fm': 7267, 'introducing': 7268, 'integrity': 7269, 'high-speed': 7270, 'surrey': 7271, 'endangered': 7272, 'delighted': 7273, 'theory': 7274, 'himachal': 7275, 'seng': 7276, 'hernandez': 7277, 'passage': 7278, 'shortstop': 7279, 'itv': 7280, 'madoff': 7281, 'semi': 7282, 'kamal': 7283, 'rory': 7284, 'halle': 7285, 'lawn': 7286, 'michel': 7287, 'exchanges': 7288, 'nyse': 7289, 'winslet': 7290, 'liability': 7291, 'ministries': 7292, 'programming': 7293, 'inches': 7294, 'mali': 7295, 'characters': 7296, 'appreciation': 7297, 'tycoon': 7298, 'offseason': 7299, 'stamford': 7300, 'aging': 7301, 'urgent': 7302, 'trio': 7303, 'famed': 7304, 'amazing': 7305, 'kerr': 7306, 'bargain': 7307, 'confirming': 7308, 'resolved': 7309, 'cigarette': 7310, 'sabah': 7311, 'seizure': 7312, 'hassan': 7313, 'medicines': 7314, 'westminster': 7315, 'arabian': 7316, 'albuquerque': 7317, 'planting': 7318, 'organic': 7319, 'sequel': 7320, 'highlights': 7321, 'champ': 7322, 'examiner': 7323, 'rage': 7324, 'coca-cola': 7325, 'sandusky': 7326, 'interesting': 7327, 'premises': 7328, 'pancreatic': 7329, 'tonne': 7330, 'disrupted': 7331, 'estimate': 7332, 'imaging': 7333, 'boil': 7334, 'awaiting': 7335, 'katherine': 7336, 'publishers': 7337, 'jenkins': 7338, 'isaac': 7339, 'busch': 7340, 'coral': 7341, 'gloucester': 7342, 'capsized': 7343, 'wounding': 7344, 'prairie': 7345, 'setback': 7346, 'vessels': 7347, 'stayed': 7348, 'huffington': 7349, 'second-quarter': 7350, 'gunfire': 7351, 'havana': 7352, 'regard': 7353, 'brooke': 7354, 'caution': 7355, 'sewer': 7356, 'hazardous': 7357, 'indeed': 7358, 'lte': 7359, 'tuition': 7360, 'toy': 7361, 'jackie': 7362, 'cleric': 7363, 'cheaper': 7364, 'admission': 7365, 'minsk': 7366, 'initially': 7367, 'chaos': 7368, 'clashed': 7369, 'repay': 7370, 'loaded': 7371, 'megan': 7372, 'dodge': 7373, 'frankfurt': 7374, 'mick': 7375, '40000': 7376, 'wound': 7377, 'brunswick': 7378, 'ellis': 7379, 'nottingham': 7380, 'indoor': 7381, 'prosperity': 7382, 'unusual': 7383, 'trustees': 7384, 'ethiopian': 7385, 'purdue': 7386, 'kuwaiti': 7387, 'reputation': 7388, 'generate': 7389, 'legislators': 7390, 'troopers': 7391, 'showdown': 7392, 'erie': 7393, 'kidman': 7394, 'outperform': 7395, 'doubts': 7396, 'rent': 7397, 'dengue': 7398, 'kurdish': 7399, 'vernon': 7400, 'taiwanese': 7401, 'tightened': 7402, 'wr': 7403, 'gingrich': 7404, 'unexpected': 7405, 'alley': 7406, '4-1': 7407, 'replaces': 7408, 'penny': 7409, 'dylan': 7410, 'litre': 7411, 'zones': 7412, '300000': 7413, 'temperature': 7414, 'promotes': 7415, 'pepper': 7416, 'reunite': 7417, 'experiences': 7418, 'reviewing': 7419, 'dynamics': 7420, 'charts': 7421, 'saeed': 7422, 'tanzania': 7423, 'opposes': 7424, 'tweets': 7425, 'pelosi': 7426, 'mercedes': 7427, 'persistent': 7428, 'khloe': 7429, 'reconstruction': 7430, 'adventure': 7431, 'q': 7432, 'dentist': 7433, 'incorporated': 7434, 'headline': 7435, 'generic': 7436, 'knoxville': 7437, 'willie': 7438, 'tradition': 7439, 'deny': 7440, 'trash': 7441, 'conservatives': 7442, 'songwriter': 7443, 'uprising': 7444, 'midland': 7445, 'hannah': 7446, 'laurent': 7447, 'cavaliers': 7448, 'infected': 7449, 'ab': 7450, 'annually': 7451, 'harm': 7452, 'blasted': 7453, 'bloc': 7454, 'operates': 7455, 'recreation': 7456, 'middleweight': 7457, 'sao': 7458, 'radiation': 7459, 'bias': 7460, 'year-old': 7461, 'bse': 7462, 'salvation': 7463, 'statistical': 7464, 'subsidies': 7465, 'accessories': 7466, 'attacker': 7467, 'exploitation': 7468, 'dicaprio': 7469, 'clinched': 7470, 'burke': 7471, 'melissa': 7472, 'gabriel': 7473, 'cathedral': 7474, 'alice': 7475, '27-year-old': 7476, 'municipality': 7477, 'pml-n': 7478, 'dump': 7479, 'harbour': 7480, 'speeds': 7481, 'cardinal': 7482, 'bicycle': 7483, 'cavendish': 7484, 'tan': 7485, 'ounce': 7486, 'dismissal': 7487, 'earl': 7488, 'proof': 7489, 'fedex': 7490, 'kodak': 7491, 'experiencing': 7492, 'wanderers': 7493, 'muamba': 7494, 'vandals': 7495, 'mayoral': 7496, 'fiance': 7497, 'eden': 7498, 'punch': 7499, 'portable': 7500, 'vitamin': 7501, 'sailing': 7502, '-based': 7503, 'ferdinand': 7504, 'placing': 7505, 'reunion': 7506, 'laureate': 7507, 'widened': 7508, 'adobe': 7509, 'recommends': 7510, 'mesa': 7511, 'safer': 7512, 'animation': 7513, 'informs': 7514, 'deploy': 7515, 'courtney': 7516, 'tornadoes': 7517, \"o'neill\": 7518, 'walters': 7519, 'disappeared': 7520, 'chartered': 7521, 'distributing': 7522, 'neighbour': 7523, 'impaired': 7524, 'msnbc': 7525, 'hague': 7526, 'bnp': 7527, 'goodwill': 7528, 'expense': 7529, 'followers': 7530, 'daniels': 7531, 'flooded': 7532, 'researcher': 7533, 'toys': 7534, 'reno': 7535, 'rank': 7536, 'oilers': 7537, '160': 7538, 'faulty': 7539, 'drive-by': 7540, 'negotiating': 7541, 'sunshine': 7542, 'packed': 7543, 'forbes': 7544, 'pyongyang': 7545, '6-1': 7546, 'negotiate': 7547, 'chandler': 7548, 'telegraph': 7549, 'starter': 7550, 'error': 7551, 'browser': 7552, 'example': 7553, 'marginally': 7554, 'strained': 7555, 'departure': 7556, 'ashok': 7557, 'admit': 7558, 'automatic': 7559, 'sussex': 7560, 'ecb': 7561, 'dale': 7562, 'aquino': 7563, 'ripped': 7564, 'canberra': 7565, 'workout': 7566, 'mvp': 7567, 'chandigarh': 7568, 'reactor': 7569, 'moral': 7570, 'infections': 7571, '250000': 7572, 'telstra': 7573, 'constituency': 7574, 'agreeing': 7575, 'aliyev': 7576, 'panels': 7577, 'samantha': 7578, 'exhibit': 7579, 'tighten': 7580, 'indexes': 7581, 'palo': 7582, '2001': 7583, 'committees': 7584, 'shale': 7585, 'alto': 7586, 'barrymore': 7587, 'stalking': 7588, 'linking': 7589, 'guantanamo': 7590, 'hacking': 7591, 'pcs': 7592, 'scanner': 7593, 'transfers': 7594, 'drain': 7595, 'breathing': 7596, 'groin': 7597, 'chester': 7598, 'paula': 7599, 'sara': 7600, 'damon': 7601, 'blockade': 7602, 'lansing': 7603, 'searched': 7604, 'indigenous': 7605, 'cross-border': 7606, 'airspace': 7607, 'beirut': 7608, 'detection': 7609, 'funny': 7610, 'maybe': 7611, 'bombay': 7612, 'waive': 7613, 'southampton': 7614, 'org': 7615, 'dipped': 7616, 'sparking': 7617, 'represents': 7618, 'methods': 7619, 'entrance': 7620, 'stalled': 7621, 'canterbury': 7622, 'aurora': 7623, 'surpassed': 7624, 'impossible': 7625, 'relation': 7626, 'owens': 7627, 'truly': 7628, 'vampire': 7629, 'diane': 7630, 'ak': 7631, 'afghans': 7632, 'srinagar': 7633, 'patience': 7634, 'long-awaited': 7635, 'chose': 7636, 'mercer': 7637, 'cooperative': 7638, 'productions': 7639, 'lover': 7640, 'treatments': 7641, 'dictator': 7642, 'suspending': 7643, 'priyanka': 7644, 'goaltender': 7645, 'johnston': 7646, 'sole': 7647, 'friendship': 7648, '35-year-old': 7649, 'formerly': 7650, 'successor': 7651, 'javier': 7652, 'smash': 7653, 'appropriate': 7654, 'concludes': 7655, 'boise': 7656, 'leafs': 7657, 'poet': 7658, 'cal': 7659, 'bathroom': 7660, 'devastated': 7661, 'bart': 7662, 'explosives': 7663, 'donor': 7664, 'huntsman': 7665, 'database': 7666, 'calf': 7667, 'bloody': 7668, 'successive': 7669, 'automobile': 7670, 'anonymous': 7671, 'mitsubishi': 7672, 'cleaning': 7673, 'endangerment': 7674, 'russians': 7675, 'ponting': 7676, 'hide': 7677, 'rocked': 7678, 'coup': 7679, 'sum': 7680, 'ike': 7681, 'bracing': 7682, 'businessmen': 7683, 'nexus': 7684, 'roses': 7685, 'pieces': 7686, 'richest': 7687, 'tube': 7688, 'holly': 7689, 'immigrant': 7690, 'santos': 7691, 'dover': 7692, 'blogger': 7693, 'nearing': 7694, 'ministerial': 7695, 'tebow': 7696, 'jude': 7697, 'en': 7698, '150000': 7699, 'amir': 7700, 'bones': 7701, 'fare': 7702, 'qualifiers': 7703, 'achievements': 7704, 'treating': 7705, 'hepatitis': 7706, 'chesapeake': 7707, 'zimbabwean': 7708, 'observers': 7709, 'meltdown': 7710, 'tunnel': 7711, 'courtroom': 7712, 'responds': 7713, 'neighbouring': 7714, 'exceed': 7715, 'honduras': 7716, 'roughly': 7717, 'signals': 7718, 'unemployed': 7719, 'deepika': 7720, 'happens': 7721, 'tweeted': 7722, 'sand': 7723, 'painting': 7724, 'clinics': 7725, 'dana': 7726, 'amateur': 7727, 'bible': 7728, 'factories': 7729, 'oral': 7730, 'lecture': 7731, 'burger': 7732, '04': 7733, 'dual': 7734, 'antony': 7735, 'bae': 7736, 'lorry': 7737, 'alonso': 7738, 'nano': 7739, 'denying': 7740, 'flexible': 7741, 'accelerate': 7742, 'strokes': 7743, 'ga': 7744, 'embezzlement': 7745, 'servants': 7746, 'resistances': 7747, 'explained': 7748, 'surgeon': 7749, 'fraser': 7750, 'afc': 7751, 'learnt': 7752, 'mirror': 7753, 'breaching': 7754, 'invite': 7755, 'waves': 7756, 'mri': 7757, 'cattle': 7758, 'lafayette': 7759, 'vandalism': 7760, 'hurdle': 7761, 'satisfaction': 7762, 'nielsen': 7763, 'jared': 7764, 'il': 7765, 'sana': 7766, 'fairfield': 7767, 'robertson': 7768, 'contestant': 7769, 'bitten': 7770, '450': 7771, 'bases': 7772, '3m': 7773, 'abraham': 7774, 'macquarie': 7775, 'counterparts': 7776, 'metric': 7777, 'ordinary': 7778, 'elects': 7779, 'highways': 7780, 'pitching': 7781, 'mob': 7782, 'spike': 7783, 'clay': 7784, 'monitors': 7785, 'americas': 7786, 'opponent': 7787, 'syndrome': 7788, 'dealt': 7789, 'burnley': 7790, 'slips': 7791, 'butt': 7792, 'pains': 7793, 'tumble': 7794, 'peacefully': 7795, 'contemporary': 7796, 'astronauts': 7797, 'stays': 7798, '32-year-old': 7799, 'insight': 7800, 'eager': 7801, 'commissioned': 7802, 'emily': 7803, 'cop': 7804, 'lehigh': 7805, 'demonstrations': 7806, 'entrepreneur': 7807, 'hodgson': 7808, 'seri': 7809, 'literacy': 7810, 'landlord': 7811, 'tenants': 7812, 'lehman': 7813, 'endeavour': 7814, 'casualties': 7815, 'installation': 7816, 'criticized': 7817, 'insurers': 7818, 'gossip': 7819, 'leigh': 7820, 'ronson': 7821, 'pro-democracy': 7822, 'mechanism': 7823, 'silent': 7824, 'factors': 7825, 'lucknow': 7826, 'brave': 7827, 'directing': 7828, 'ehud': 7829, 'thunderstorms': 7830, 'mayo': 7831, 'nutrition': 7832, 'legends': 7833, 'avoided': 7834, 'mancini': 7835, 'balotelli': 7836, 'purchasing': 7837, 'aware': 7838, 'generating': 7839, 'statutory': 7840, 'pierre': 7841, 'virtually': 7842, 'upward': 7843, 'sitcom': 7844, 'shook': 7845, 'hidden': 7846, 'undergone': 7847, 'respects': 7848, 'splash': 7849, 'blaming': 7850, 'mcilroy': 7851, 'arquette': 7852, 'pubs': 7853, 'haley': 7854, 'steroids': 7855, 'snyder': 7856, 'torres': 7857, 'havoc': 7858, 'grande': 7859, 'anand': 7860, 'webb': 7861, 'cyclone': 7862, 'sailors': 7863, 'hotspur': 7864, 'newt': 7865, 'lodge': 7866, 'rcmp': 7867, 'bullpen': 7868, 'westwood': 7869, 'stopping': 7870, 'cambodia': 7871, 'discusses': 7872, 'scratched': 7873, 'confirmation': 7874, 'shifted': 7875, 'ritchie': 7876, 'chevrolet': 7877, 'campaigning': 7878, 'bearish': 7879, 'adjusted': 7880, 'highlighting': 7881, 'malaria': 7882, 'debris': 7883, 'sponsors': 7884, 'junction': 7885, 'relationships': 7886, 'cave': 7887, 'punching': 7888, 'kingfisher': 7889, 'conducting': 7890, 'plunges': 7891, 'rated': 7892, 'reinstate': 7893, 'array': 7894, 'augusta': 7895, 'eli': 7896, 'attracted': 7897, 'webcast': 7898, '2011-12': 7899, 'renewal': 7900, 'disrupt': 7901, 'relatively': 7902, 'balanced': 7903, 'critic': 7904, 'yang': 7905, 'fielder': 7906, 'observe': 7907, 'qld': 7908, 'protestors': 7909, '16th': 7910, 'contrary': 7911, 'bass': 7912, 'demolished': 7913, 'conglomerate': 7914, 'locker': 7915, 'ghost': 7916, 'timor': 7917, 'languages': 7918, 'hogan': 7919, 'inventory': 7920, 'disappointment': 7921, 'textile': 7922, 'ashore': 7923, 'adaptation': 7924, 'color': 7925, 'hip-hop': 7926, 'vast': 7927, 'simmons': 7928, 'daytime': 7929, 'strictly': 7930, 'ind': 7931, 'ipswich': 7932, 'errors': 7933, 'fortune': 7934, 'llp': 7935, 'territorial': 7936, 'requiring': 7937, 'soared': 7938, '225': 7939, 'zach': 7940, 'reservoir': 7941, 'majors': 7942, 'burton': 7943, 'macon': 7944, 'ria': 7945, 'monument': 7946, 'wildfires': 7947, 'cabin': 7948, 'spectacular': 7949, 'midlands': 7950, 'strange': 7951, 'eid': 7952, 'margins': 7953, 'biological': 7954, 'freestyle': 7955, 'odi': 7956, 'clarkson': 7957, 'debates': 7958, 'libel': 7959, 'establishment': 7960, 'felix': 7961, 'ceremonies': 7962, 'capitals': 7963, 'jade': 7964, 'zac': 7965, 'daly': 7966, 'unfair': 7967, 'balls': 7968, 'upside': 7969, 'sultan': 7970, 'evan': 7971, 'disorders': 7972, 'enjoys': 7973, 'arrivals': 7974, 'discussing': 7975, 'mcdonnell': 7976, 'pensioners': 7977, 'bread': 7978, 'reiterates': 7979, 'hospitality': 7980, 'jaguar': 7981, 'casinos': 7982, 'attends': 7983, 'lashes': 7984, '1600': 7985, 'injures': 7986, \"'will\": 7987, 'jessie': 7988, 'surf': 7989, 'laboratories': 7990, 'outgoing': 7991, 'autobiography': 7992, 'infamous': 7993, 'chaudhry': 7994, 'mentor': 7995, 'guys': 7996, 'distance': 7997, 'repurchase': 7998, 'chan': 7999, 'afridi': 8000, 'findings': 8001, 'malcolm': 8002, 'committing': 8003, 'copyright': 8004, \"'american\": 8005, 'handsets': 8006, 'lists': 8007, 'acknowledged': 8008, 'prefers': 8009, 'toledo': 8010, 'wizards': 8011, 'yankee': 8012, 'abandon': 8013, 'transformation': 8014, 'thefts': 8015, 'discipline': 8016, '0-0': 8017, 'marched': 8018, 'ibrahim': 8019, 'restoring': 8020, 'honolulu': 8021, 'namibia': 8022, 'iphones': 8023, 'unilever': 8024, 'hyundai': 8025, 'jse': 8026, 'palestine': 8027, 'mich': 8028, 'uc': 8029, 'baba': 8030, 'rocks': 8031, 'rid': 8032, 'ensuring': 8033, 'certified': 8034, 'meth': 8035, 'sidney': 8036, 'berkeley': 8037, 'von': 8038, 'bolivia': 8039, 'attached': 8040, 'gearing': 8041, 'disturbance': 8042, 'islanders': 8043, 'skilled': 8044, 'prolonged': 8045, '12000': 8046, 'smokers': 8047, 'waiver': 8048, 'audi': 8049, 'manipur': 8050, '50-year-old': 8051, 'pot': 8052, 'sack': 8053, 'occupation': 8054, 'aftermath': 8055, 'experimental': 8056, 'aust': 8057, 'inspectors': 8058, 'cure': 8059, 'detainees': 8060, 'contamination': 8061, 'billiton': 8062, 'clegg': 8063, 'all-time': 8064, 'tory': 8065, 'indicating': 8066, 'dancer': 8067, 'allied': 8068, 'eliminating': 8069, 'pawlenty': 8070, 'marilyn': 8071, 'massa': 8072, 'treasure': 8073, 'sheboygan': 8074, 'skies': 8075, 'curfew': 8076, 'disasters': 8077, 'lodged': 8078, 'pursuing': 8079, \"'my\": 8080, 'neighboring': 8081, 'obese': 8082, 'nickel': 8083, 'burglars': 8084, 'arcelormittal': 8085, 'umpire': 8086, 'jackpot': 8087, 'cheltenham': 8088, 'landfall': 8089, 'towers': 8090, 'slim': 8091, 'logan': 8092, 'eugene': 8093, 'les': 8094, 'detect': 8095, 'landslide': 8096, 'indices': 8097, 'recognised': 8098, 'outcome': 8099, 'liberation': 8100, 'mw': 8101, 'mls': 8102, 'peters': 8103, 'cleanup': 8104, 'mgm': 8105, 'hitachi': 8106, 'linda': 8107, 'nonprofit': 8108, 'scared': 8109, 'freeman': 8110, 'chess': 8111, 'wen': 8112, 'minorities': 8113, 'continent': 8114, 'cannes': 8115, 'dumping': 8116, 'yeddyurappa': 8117, 'assess': 8118, 'jc': 8119, 'jenna': 8120, 'hurley': 8121, 'hayden': 8122, 'settlers': 8123, 'inn': 8124, 'saga': 8125, 'notebook': 8126, 'bizarre': 8127, 'reflect': 8128, 'doha': 8129, 'rampage': 8130, 'carries': 8131, 'co-operation': 8132, 'trim': 8133, 'davies': 8134, 'daylight': 8135, 'novosti': 8136, 'subdued': 8137, 'ups': 8138, 'clemson': 8139, 'paltrow': 8140, 'java': 8141, 'first-round': 8142, 'par': 8143, 'sounds': 8144, 'upheld': 8145, 'testified': 8146, 'touring': 8147, 'lindsey': 8148, 'messi': 8149, 'obligations': 8150, 'vic': 8151, 'shawn': 8152, 'irvine': 8153, 'visual': 8154, 'warships': 8155, 'synthetic': 8156, 'bedroom': 8157, 'vendors': 8158, 'wembley': 8159, 'forgery': 8160, 'besides': 8161, 'loud': 8162, 'certainly': 8163, 'literature': 8164, 'shrank': 8165, 'worsening': 8166, 'chevron': 8167, 'kindle': 8168, 'laptops': 8169, 'paterno': 8170, 'derailed': 8171, 'firmly': 8172, 'donovan': 8173, 'rajapaksa': 8174, 'dust': 8175, 'scholarships': 8176, 'fertilizer': 8177, 'semifinal': 8178, 'binghamton': 8179, 'hungry': 8180, 'exporter': 8181, 'albums': 8182, 'bands': 8183, 'telecoms': 8184, 'tajikistan': 8185, 'poultry': 8186, 'dwi': 8187, 'deportation': 8188, 'dissident': 8189, 'conversation': 8190, 'fairfax': 8191, 'pleasant': 8192, 'sight': 8193, 'blunt': 8194, 'psychiatric': 8195, 'cumberland': 8196, 'salmonella': 8197, 'mix': 8198, 'elimination': 8199, 'corrections': 8200, 'diva': 8201, 'filling': 8202, 'booker': 8203, 'shetty': 8204, '28th': 8205, 'dramatically': 8206, 'spying': 8207, 'conjunction': 8208, 'tears': 8209, 'shahbaz': 8210, 'punk': 8211, 'audiences': 8212, 'restoration': 8213, 'preparations': 8214, 'implications': 8215, 'pure': 8216, 'mineral': 8217, 'socialist': 8218, 'hampton': 8219, 'kuala': 8220, 'paypal': 8221, 'refuge': 8222, 'triumph': 8223, 'evaluation': 8224, 'rumor': 8225, 'rupees': 8226, 'separation': 8227, 'forever': 8228, 'all-american': 8229, 'shriver': 8230, 'monster': 8231, 'denise': 8232, 'divided': 8233, 'advisors': 8234, 'gwyneth': 8235, 'quietly': 8236, 'turnout': 8237, 'pan': 8238, 'scrapped': 8239, 'accord': 8240, 'nolan': 8241, 'activate': 8242, 'auditorium': 8243, 'spare': 8244, 'reaffirmed': 8245, 'bhutto': 8246, 'ambush': 8247, 'samajwadi': 8248, 'paralympic': 8249, 'marvel': 8250, 'supermarkets': 8251, 'diamonds': 8252, 'concessions': 8253, 'bottles': 8254, 'immunity': 8255, 'expression': 8256, 'stint': 8257, 'fraudulent': 8258, '06': 8259, 'marsh': 8260, '1300': 8261, 'busted': 8262, 'gerrard': 8263, 'pictured': 8264, 'kendra': 8265, 'caucus': 8266, 'survivor': 8267, 'radcliffe': 8268, 'deepening': 8269, 'judgment': 8270, 'lloyds': 8271, 'visas': 8272, 'bow': 8273, 'widow': 8274, 'math': 8275, 'appearances': 8276, 'y/y': 8277, 'sotomayor': 8278, 'downloads': 8279, 'amongst': 8280, 'unmanned': 8281, 'appetite': 8282, 'spa': 8283, 'boutique': 8284, 'bicyclist': 8285, 'methodist': 8286, 'heathrow': 8287, 'pretoria': 8288, 'narcotics': 8289, 'ti': 8290, '4-3': 8291, 'freezes': 8292, 'predators': 8293, 'harsh': 8294, 'third-quarter': 8295, 'articles': 8296, 'soviet': 8297, 'transparent': 8298, 'disability': 8299, 'splitting': 8300, '98': 8301, '12-year-old': 8302, 'tightening': 8303, '®': 8304, 'preview': 8305, 'bangladeshi': 8306, 'short-term': 8307, 'phillip': 8308, 'unsecured': 8309, 'derivatives': 8310, 'all-rounder': 8311, 'desk': 8312, 'mediterranean': 8313, 'aviva': 8314, 'pared': 8315, 'item': 8316, 'alzheimer': 8317, 'hook': 8318, 'greenville': 8319, '2012-13': 8320, 'vegetables': 8321, 'hindi': 8322, '01': 8323, 'rawalpindi': 8324, 'uncle': 8325, 'fault': 8326, 'boxes': 8327, 'composite': 8328, 'lightweight': 8329, 'height': 8330, 'spate': 8331, 'sinking': 8332, 'rooms': 8333, 'rescuers': 8334, 'misleading': 8335, 'uss': 8336, '8th': 8337, 'goodbye': 8338, '4s': 8339, 'volvo': 8340, 'strongest': 8341, 'ep': 8342, 'olivia': 8343, 'peruvian': 8344, 'destruction': 8345, 'attitude': 8346, 'gradually': 8347, 'viral': 8348, 'surging': 8349, 'batteries': 8350, 'leonard': 8351, 'holocaust': 8352, 'goody': 8353, 'divisions': 8354, 'belgrade': 8355, 'olive': 8356, 'sort': 8357, 'kay': 8358, 'newsday': 8359, 'watford': 8360, 'crushing': 8361, 'remarkable': 8362, '7-6': 8363, 'oj': 8364, 'jackets': 8365, 'nixon': 8366, 'remainder': 8367, 'rouge': 8368, 'establishes': 8369, 'toshiba': 8370, 'tomas': 8371, 'co-host': 8372, 'roommate': 8373, 'freezing': 8374, 'beloved': 8375, 'highlight': 8376, 'churches': 8377, 'bruised': 8378, 'braced': 8379, 'snowmobile': 8380, 'dominate': 8381, 'porsche': 8382, 'suburbs': 8383, 'karan': 8384, 'dividends': 8385, 'tunisian': 8386, 'sinks': 8387, 'inch': 8388, 'follows': 8389, 'protested': 8390, 'johns': 8391, 'slumped': 8392, 'crist': 8393, 'tina': 8394, 'requirement': 8395, 'xperia': 8396, 'pedro': 8397, 'medication': 8398, 'amended': 8399, 'borrowers': 8400, 'personally': 8401, 'provision': 8402, 'none': 8403, 'lies': 8404, 'chhattisgarh': 8405, 'demonstrate': 8406, 'counting': 8407, 'savannah': 8408, 'norton': 8409, 'paving': 8410, 'liquid': 8411, 'wholly': 8412, 'automated': 8413, 'a-league': 8414, 'bahamas': 8415, 'delaying': 8416, 'accreditation': 8417, 'aggregate': 8418, 'serves': 8419, 'topeka': 8420, 'stimulate': 8421, 'avoiding': 8422, 'panda': 8423, 'travolta': 8424, 'lengthy': 8425, 'exceeded': 8426, 'gateway': 8427, 'julio': 8428, 'postpone': 8429, 'shahrukh': 8430, '13-year-old': 8431, 'pratibha': 8432, 'supervisor': 8433, 'benson': 8434, 'disclosure': 8435, 'brighton': 8436, 'soar': 8437, 'respiratory': 8438, 'bargaining': 8439, 'isolated': 8440, 'rodney': 8441, 'speedy': 8442, 'whatever': 8443, 'injunction': 8444, 'nor': 8445, 'issuer': 8446, 'choppy': 8447, 'sevilla': 8448, 'affirmed': 8449, 'closures': 8450, 'catching': 8451, 'apologise': 8452, 'downing': 8453, 'lea': 8454, 'keane': 8455, 'spirits': 8456, 'boulder': 8457, 'mozambique': 8458, '104': 8459, 'bermuda': 8460, 'shelves': 8461, 'bulk': 8462, 'processor': 8463, 'didier': 8464, 'jermaine': 8465, 'hostages': 8466, 'curry': 8467, 'suarez': 8468, 'steering': 8469, 'passion': 8470, 'comcast': 8471, 'pushes': 8472, 'mickey': 8473, 'physicians': 8474, 'immune': 8475, '750': 8476, 'explorer': 8477, 'mln': 8478, 'ammunition': 8479, 'ralph': 8480, 'automakers': 8481, 'theaters': 8482, 'generations': 8483, 'episodes': 8484, 'casting': 8485, 'mrs': 8486, 'billings': 8487, 'cpi': 8488, 'delegates': 8489, 'karunanidhi': 8490, 'commons': 8491, 'fog': 8492, 'gavin': 8493, 'shipment': 8494, 'crosby': 8495, 'firmer': 8496, 'panama': 8497, 'expires': 8498, 'footprint': 8499, 'pharma': 8500, 'coronation': 8501, 'wesley': 8502, 'promoter': 8503, 'hangs': 8504, 'one-vehicle': 8505, 'seals': 8506, 'controlling': 8507, 'physically': 8508, 'owes': 8509, 'sword': 8510, 'hillsborough': 8511, 'airtran': 8512, 'tymoshenko': 8513, 'verge': 8514, 'alec': 8515, 'highland': 8516, 'wrapped': 8517, 'taught': 8518, 'usual': 8519, 'gotten': 8520, '9th': 8521, 'ossetia': 8522, 'carol': 8523, 'highlands': 8524, 'clearly': 8525, 'snack': 8526, 'extradited': 8527, 'bikini': 8528, 'moratorium': 8529, 'loyal': 8530, 'owed': 8531, 'consultations': 8532, 'ramesh': 8533, 'keeper': 8534, 'cameroon': 8535, 'switching': 8536, 'borrow': 8537, 'magistrates': 8538, 'condolences': 8539, 'everybody': 8540, 'sad': 8541, 'darling': 8542, 'shepherd': 8543, 'obtain': 8544, 'basu': 8545, 'moines': 8546, 'payne': 8547, 'favourites': 8548, 'biel': 8549, 'spark': 8550, 'concentrate': 8551, 'stunned': 8552, 'lumpur': 8553, 'spots': 8554, 'lend': 8555, 'mayawati': 8556, 'collaborate': 8557, 'grabbed': 8558, 'undefeated': 8559, 'sophomore': 8560, 'correctional': 8561, 'ugly': 8562, 'rear': 8563, 'pumps': 8564, 'fletcher': 8565, 'handing': 8566, 'hearings': 8567, 'listen': 8568, 'ft': 8569, 'stamp': 8570, 'scrutiny': 8571, 'arguing': 8572, 'extremists': 8573, 'runoff': 8574, 'spelling': 8575, 'complained': 8576, 'banker': 8577, 'uruguay': 8578, 'grandfather': 8579, 'collecting': 8580, 'touching': 8581, 'reversing': 8582, 'landscape': 8583, 'long-time': 8584, 'tariff': 8585, 'frederick': 8586, 'belonging': 8587, '10-year': 8588, 'wis': 8589, 'albion': 8590, 'defrauding': 8591, 'wooden': 8592, 'boots': 8593, 'hoax': 8594, 'lowe': 8595, 'camden': 8596, 'smallest': 8597, 'subsidy': 8598, 'actively': 8599, 'galway': 8600, 'raided': 8601, 'colleague': 8602, \"'good\": 8603, 'interbank': 8604, 'thatcher': 8605, 'protocol': 8606, 'fidel': 8607, 'menu': 8608, 'whip': 8609, 'corning': 8610, 'levi': 8611, 'ordinance': 8612, 'shower': 8613, 'shrink': 8614, 'conceded': 8615, 'paraguay': 8616, 'mila': 8617, 'slashes': 8618, 'finalized': 8619, 'ordering': 8620, 'arroyo': 8621, 'highlighted': 8622, 'injection': 8623, '7000': 8624, 'bal': 8625, 'lilly': 8626, '8000': 8627, 'exploring': 8628, 'embezzling': 8629, 'ramdev': 8630, 'colonial': 8631, 'uk-based': 8632, 'donors': 8633, 'larceny': 8634, 'improper': 8635, 'conway': 8636, 'four-day': 8637, 'antitrust': 8638, 'fragile': 8639, 'bismarck': 8640, 'rewards': 8641, 'intoxication': 8642, 'cnbc': 8643, 'beau': 8644, 'impersonating': 8645, 'breakdown': 8646, 'ulster': 8647, 'revamped': 8648, 'wba': 8649, 'jamaican': 8650, 'lined': 8651, 'lotus': 8652, 'mainstream': 8653, 'specialists': 8654, 'clara': 8655, 'describes': 8656, 'milton': 8657, 'freak': 8658, 'ipads': 8659, 'escalating': 8660, 'belief': 8661, 'convert': 8662, 'powered': 8663, 'egg': 8664, 'hon': 8665, 'tactics': 8666, 'cables': 8667, 'long-running': 8668, 'cory': 8669, 'concedes': 8670, 'lewd': 8671, 'purse': 8672, 'taxation': 8673, 'partly': 8674, 'comics': 8675, 'therapeutics': 8676, 'historian': 8677, 'affiliated': 8678, 'gesture': 8679, 'checking': 8680, 'trent': 8681, 'elsewhere': 8682, 'understands': 8683, 'convinced': 8684, 'seth': 8685, 'conan': 8686, 'spacecraft': 8687, 'gallon': 8688, 'marina': 8689, '45-year-old': 8690, 'piper': 8691, 'kourtney': 8692, 'disgraced': 8693, 'balochistan': 8694, 'supervisors': 8695, 'two-vehicle': 8696, 'hayes': 8697, 'commuter': 8698, 'liberals': 8699, 'chambers': 8700, 'contention': 8701, 'graphics': 8702, 'principle': 8703, 'wachovia': 8704, 'ai': 8705, 'physician': 8706, 'helm': 8707, 'banner': 8708, 'au': 8709, 'dundee': 8710, 'plug': 8711, 'flies': 8712, 'tna': 8713, 'detailed': 8714, 'peers': 8715, 'absolute': 8716, 'bloom': 8717, 'lure': 8718, 'locals': 8719, 'supervision': 8720, 'debuts': 8721, 'pork': 8722, 'auctions': 8723, 'everywhere': 8724, 'deliveries': 8725, 'deliberately': 8726, 'year-on-year': 8727, 'visitor': 8728, 'macau': 8729, 'lennon': 8730, 'corridor': 8731, 'funded': 8732, 'crow': 8733, 'choices': 8734, 'slashing': 8735, 'kissing': 8736, 'counseling': 8737, 'line-up': 8738, 'boone': 8739, 'shake': 8740, 'bonus': 8741, 'deserves': 8742, \"'very\": 8743, 'builds': 8744, 'solomon': 8745, 'overturns': 8746, 'kunis': 8747, 'dannii': 8748, 'widens': 8749, 'securing': 8750, 'collapsing': 8751, 'ubisoft': 8752, 'backyard': 8753, 'pike': 8754, 'slapped': 8755, 'mitch': 8756, 'boating': 8757, 'destroying': 8758, 'byrne': 8759, 'berkshire': 8760, 'groupon': 8761, 'carr': 8762, 'troubles': 8763, 'motorist': 8764, 'ranbir': 8765, 'dwight': 8766, 'indicate': 8767, 'adequate': 8768, 'colon': 8769, 'hewlett-packard': 8770, 'tier': 8771, 'habitat': 8772, 'byrd': 8773, '39-year-old': 8774, 'decisive': 8775, 'examination': 8776, 'wellness': 8777, 'perdue': 8778, 'ranging': 8779, 'flame': 8780, 'cohen': 8781, 'aides': 8782, 'jindal': 8783, 'connections': 8784, 'salisbury': 8785, 'repeated': 8786, 'warne': 8787, 'tsx': 8788, 'nights': 8789, 'zimmerman': 8790, 'rai': 8791, 'honours': 8792, 'breached': 8793, 'boot': 8794, 'intercontinental': 8795, 'incentive': 8796, 'eclipse': 8797, 'breakaway': 8798, 'eleven': 8799, 'react': 8800, 'joan': 8801, 'intoxicated': 8802, 'washing': 8803, 'fisheries': 8804, '7:30': 8805, 'frequent': 8806, 'shirley': 8807, 'reader': 8808, 'acc': 8809, 'submarine': 8810, 'outlet': 8811, 'novelist': 8812, 'surfaced': 8813, '2g': 8814, 'displays': 8815, 'attendant': 8816, 'viktor': 8817, 'homage': 8818, 'diversified': 8819, '1400': 8820, 'devon': 8821, 'colbert': 8822, 'spokane': 8823, 'lesson': 8824, 'persian': 8825, 'worcester': 8826, 'osborne': 8827, \"'big\": 8828, 'sienna': 8829, 'enables': 8830, 'prevented': 8831, 'witnessed': 8832, 'soybean': 8833, 'poster': 8834, 'focuses': 8835, 'senegal': 8836, 'yourself': 8837, 'basin': 8838, 'lpga': 8839, 'moammar': 8840, 'afford': 8841, 'scherzinger': 8842, 'shoaib': 8843, 'medalist': 8844, 'fabrice': 8845, 'low-cost': 8846, 'prisons': 8847, 'transform': 8848, 'competitiveness': 8849, 'ronald': 8850, 'sim': 8851, 'julius': 8852, 'biotechnology': 8853, 'styles': 8854, 'conditioning': 8855, 'zurich': 8856, 'pitched': 8857, 'condemn': 8858, 'naples': 8859, 'guinness': 8860, 'letting': 8861, 'raceway': 8862, 'conferences': 8863, 'vaccines': 8864, 'overwhelmingly': 8865, 'iris': 8866, 'fiber': 8867, 'livingston': 8868, 'conflicts': 8869, 'mickelson': 8870, 'eggs': 8871, 'swimmer': 8872, 'schalke': 8873, 'limerick': 8874, 'situations': 8875, 'smartrend': 8876, 'captures': 8877, \"'should\": 8878, 'manufacture': 8879, 'animated': 8880, 'pray': 8881, '1/2': 8882, 'upstate': 8883, 'batman': 8884, 'asia-pacific': 8885, 'indicators': 8886, 'libraries': 8887, 'aj': 8888, '+': 8889, 'millennium': 8890, 'penske': 8891, 'hints': 8892, 'rotary': 8893, 'polio': 8894, 'shrine': 8895, 'northampton': 8896, 'nate': 8897, 'kit': 8898, 'flick': 8899, 'jam': 8900, 'opted': 8901, 'types': 8902, 'patrols': 8903, 'killers': 8904, 'penney': 8905, 'crowe': 8906, 'amendments': 8907, 'mood': 8908, 'slot': 8909, 'emc': 8910, 'auctioned': 8911, 'cult': 8912, 'graffiti': 8913, 'comparison': 8914, 'flowers': 8915, 'root': 8916, 'geological': 8917, 'filmed': 8918, 'ventura': 8919, 'stan': 8920, 'priorities': 8921, 'lokpal': 8922, 'salon': 8923, 'twenty': 8924, 'furious': 8925, 'warship': 8926, 'starred': 8927, 'paint': 8928, 'headlines': 8929, 'iftikhar': 8930, 'sheila': 8931, 'suicidal': 8932, 'donating': 8933, 'movements': 8934, 'ankara': 8935, \"o'malley\": 8936, 'atlantis': 8937, 'seizes': 8938, 'lithuania': 8939, 'rahman': 8940, 'concord': 8941, \"o'reilly\": 8942, 'provisions': 8943, 'timing': 8944, 'knights': 8945, 'measuring': 8946, 'philips': 8947, 'youngster': 8948, 'competitors': 8949, 'aer': 8950, 'handful': 8951, 'nod': 8952, 'motorway': 8953, 'overwhelming': 8954, 'beck': 8955, 'receivers': 8956, 'rings': 8957, 'apprentice': 8958, 'finalist': 8959, 'albania': 8960, 'barely': 8961, 'background': 8962, 'teaming': 8963, 'monkey': 8964, 'worry': 8965, 'machinery': 8966, 'cairn': 8967, 'efron': 8968, 'lagos': 8969, 'â€': 8970, 'kylie': 8971, 'garrett': 8972, \"o'donnell\": 8973, 'johan': 8974, 'leno': 8975, 'otherwise': 8976, 'founded': 8977, 'acted': 8978, 'pavilion': 8979, 'fx': 8980, 'pupil': 8981, 'baton': 8982, 'bosnian': 8983, 'lara': 8984, 'trek': 8985, 'dawson': 8986, 'durban': 8987, 'alcoholic': 8988, 'gill': 8989, 'expired': 8990, 'engulfing': 8991, 'stray': 8992, 'bachelor': 8993, 'polanski': 8994, 'cheese': 8995, '22nd': 8996, '03': 8997, 'arbor': 8998, 'rss': 8999, 'anti-corruption': 9000, 'collections': 9001, 'hiked': 9002, 'collide': 9003, 'kane': 9004, 'chivas': 9005, 'nordstrom': 9006, 'candlestick': 9007, 'polk': 9008, 'knocks': 9009, 'alcoa': 9010, 'heineken': 9011, 'icahn': 9012, 'gadkari': 9013, 'valuation': 9014, 'enemies': 9015, 'degeneres': 9016, '4-0': 9017, 'outskirts': 9018, 'zynga': 9019, 'leone': 9020, 'disposal': 9021, 'migrant': 9022, 'telangana': 9023, 'backdrop': 9024, 'reductions': 9025, 'screens': 9026, 'brit': 9027, 'reelection': 9028, 'first-half': 9029, 'reopening': 9030, 'strauss': 9031, 'jenny': 9032, 'junk': 9033, 'stupid': 9034, 'examine': 9035, 'builders': 9036, 'custom': 9037, 'singer-songwriter': 9038, 'principles': 9039, 'impressed': 9040, 'dunn': 9041, 'labourers': 9042, 'showers': 9043, 'dmk': 9044, 'kashmiri': 9045, 'jiabao': 9046, 'right-handed': 9047, 'copies': 9048, 'hulk': 9049, 'kilometres': 9050, 'acceptance': 9051, 'cease': 9052, 'booth': 9053, 'blown': 9054, 'touches': 9055, '02': 9056, 'commenced': 9057, 'obsessed': 9058, '09': 9059, 'jubilee': 9060, 'preventing': 9061, 'lied': 9062, 'sbi': 9063, 'indycar': 9064, 'addict': 9065, 'approvals': 9066, 'scenario': 9067, 'radar': 9068, 'pocket': 9069, 'slalom': 9070, 'uconn': 9071, 'tone': 9072, 'restive': 9073, 'deeper': 9074, 'apollo': 9075, 'wbo': 9076, 'calhoun': 9077, 'paramount': 9078, 'unanimous': 9079, 'driveway': 9080, 'phelps': 9081, 'swayze': 9082, 'reactors': 9083, 'contaminated': 9084, 'electrocuted': 9085, 'cartel': 9086, 'correction': 9087, 'gareth': 9088, 'beverage': 9089, 'bidding': 9090, 'lufthansa': 9091, 'lit': 9092, 'lifting': 9093, 'pakistanis': 9094, 'erin': 9095, 'lockheed': 9096, 'anchorage': 9097, 'sania': 9098, 'granite': 9099, '90th': 9100, 'petraeus': 9101, 'mcafee': 9102, 'hai': 9103, 'precision': 9104, 'indy': 9105, 'goalless': 9106, 'anywhere': 9107, 'separated': 9108, 'bypass': 9109, 'patterson': 9110, 'refuse': 9111, 'paedophile': 9112, 'stab': 9113, 'stormed': 9114, 'reshuffle': 9115, 'topic': 9116, 'sights': 9117, 'copa': 9118, 'downward': 9119, '27th': 9120, 'paulson': 9121, 'trusted': 9122, 'drones': 9123, 'prolific': 9124, 'shifts': 9125, 'answered': 9126, '4-2': 9127, 'drag': 9128, 'intimate': 9129, 'barred': 9130, 'procurement': 9131, 'jacobs': 9132, 'schmidt': 9133, 'abuses': 9134, 'whopping': 9135, 'comply': 9136, '2018': 9137, 'establishing': 9138, 'lap': 9139, 'mouse': 9140, 'intensified': 9141, 'ligament': 9142, 'would-be': 9143, 'designers': 9144, 'attracting': 9145, 'tariffs': 9146, 'pepsi': 9147, 'enrichment': 9148, 'barker': 9149, 'usher': 9150, 'bite': 9151, 'noise': 9152, 'knock': 9153, \"o'connor\": 9154, 'shannon': 9155, 'musicians': 9156, 'waterloo': 9157, 'upsets': 9158, 'rao': 9159, 'reagan': 9160, 'atmosphere': 9161, 'revoked': 9162, 'fergie': 9163, 'halts': 9164, 'inaugurates': 9165, 'mia': 9166, 'trips': 9167, 'eastman': 9168, 'geo': 9169, 'debit': 9170, 'wrongful': 9171, 'harlem': 9172, '6-0': 9173, 'lucrative': 9174, 'herbert': 9175, 'saleh': 9176, 'shifting': 9177, 'wrestler': 9178, 'hacker': 9179, 'warplanes': 9180, 'predicting': 9181, 'confidential': 9182, '1bn': 9183, 'quota': 9184, 'harder': 9185, 'est': 9186, 'qpr': 9187, 'sas': 9188, 'asda': 9189, 'handgun': 9190, 'saskatoon': 9191, 'piers': 9192, 'tenure': 9193, 'totally': 9194, 'slugger': 9195, 'participated': 9196, 'explosions': 9197, 'registry': 9198, 'sealed': 9199, 'anaheim': 9200, 'whales': 9201, 'hijack': 9202, 'architecture': 9203, 'jokes': 9204, 'duck': 9205, 'extinction': 9206, 'anticipation': 9207, 'knightley': 9208, 'properly': 9209, 'entertainer': 9210, 'baron': 9211, 'workshops': 9212, 'convoy': 9213, 'bash': 9214, 'narrowed': 9215, 'partnerships': 9216, 'ballet': 9217, '7-5': 9218, '31st': 9219, 'clijsters': 9220, 'twist': 9221, 'sprinter': 9222, 'outer': 9223, 'garner': 9224, 'lamar': 9225, 'weigh': 9226, 'gore': 9227, 'icy': 9228, 'stuff': 9229, '1970s': 9230, 'forestry': 9231, 'graphic': 9232, 'cousins': 9233, 'multimedia': 9234, 'grip': 9235, 'vigil': 9236, 'dixon': 9237, 'ing': 9238, 'commitments': 9239, 'commissions': 9240, 'nairobi': 9241, 'deepen': 9242, 'airasia': 9243, 'locally': 9244, 'caretaker': 9245, 'aliens': 9246, 'guarantees': 9247, 'territories': 9248, 'substitute': 9249, 'lille': 9250, 'regret': 9251, 'mid': 9252, 'ancelotti': 9253, 'instructor': 9254, 'spector': 9255, 'mahama': 9256, 'bulldogs': 9257, '5m': 9258, 'premiums': 9259, 'payable': 9260, 'strait': 9261, 'ilham': 9262, 'monte': 9263, 'kazakh': 9264, 'better-than-expected': 9265, 'blocking': 9266, 'guatemala': 9267, 'brewing': 9268, 'bishops': 9269, 'pearce': 9270, 'bafana': 9271, 'homer': 9272, 'halftime': 9273, 'deficits': 9274, 'therefore': 9275, 'g20': 9276, 'buccaneers': 9277, 'comfort': 9278, 'bullets': 9279, 'lieberman': 9280, 'booming': 9281, '1997': 9282, 'directions': 9283, 'dominant': 9284, 'indication': 9285, 'basket': 9286, 'orthodox': 9287, 'diversity': 9288, \"'you\": 9289, 'buenos': 9290, 'aires': 9291, 'tired': 9292, 'mirren': 9293, 'tide': 9294, 'caucasus': 9295, 'woody': 9296, 'cooling': 9297, 'breaches': 9298, 'pill': 9299, 'exist': 9300, 'regulate': 9301, 'triggering': 9302, 'realty': 9303, 'keegan': 9304, 'anz': 9305, 'steals': 9306, 'anti-doping': 9307, 'alexandra': 9308, 'peterborough': 9309, 'leisure': 9310, 'oversight': 9311, 'fontana': 9312, 'aground': 9313, 'surges': 9314, 'shakes': 9315, 'bride': 9316, 'slaying': 9317, 'ruler': 9318, 'unlawful': 9319, 'shipyard': 9320, 'shoplifting': 9321, 'id': 9322, 'bayer': 9323, 'vat': 9324, 'emission': 9325, 'relegated': 9326, 'hancock': 9327, 'memorandum': 9328, 'interviews': 9329, 'knocking': 9330, 'anxiety': 9331, 'produces': 9332, 'naming': 9333, 'flynn': 9334, 'paddy': 9335, 'kan': 9336, 'influenza': 9337, 'stockholm': 9338, 'monaco': 9339, 'linkedin': 9340, 'evolution': 9341, 'organizational': 9342, 'joke': 9343, 'se': 9344, 'sgt': 9345, 'promotional': 9346, 'five-day': 9347, 'peyton': 9348, 'drowning': 9349, 'patriotic': 9350, 'proves': 9351, 'ariz': 9352, 'corey': 9353, 'ex-boyfriend': 9354, 'instant': 9355, 'rita': 9356, 'belarusian': 9357, 'rabies': 9358, 'maid': 9359, 'assurance': 9360, 'slur': 9361, 'pleas': 9362, 'modified': 9363, 'merit': 9364, 'bali': 9365, 'rd': 9366, 'lovers': 9367, 'travels': 9368, 'fence': 9369, 'closet': 9370, 'aggression': 9371, 'bites': 9372, 'dismiss': 9373, 'papua': 9374, 'memories': 9375, 'gamble': 9376, 'spotify': 9377, 'prof': 9378, 'apologize': 9379, 'conclusion': 9380, 'tackling': 9381, 'jong': 9382, 'disqualified': 9383, 'maestro': 9384, 'noting': 9385, 'modestly': 9386, 'rivera': 9387, 'thrilled': 9388, 'six-month': 9389, 'seemed': 9390, 'pacers': 9391, 'heated': 9392, 'two-week': 9393, 'halfway': 9394, 'daryl': 9395, 'brutally': 9396, 'latter': 9397, 'vonn': 9398, 'scope': 9399, 'wears': 9400, 'obstruction': 9401, 'shropshire': 9402, 'budapest': 9403, 'flower': 9404, 'flows': 9405, 'acoustic': 9406, 'grains': 9407, 'candidacy': 9408, '70000': 9409, 'downgrade': 9410, 'usage': 9411, 'boca': 9412, 'continuous': 9413, 'avery': 9414, 'stallone': 9415, 'princeton': 9416, 'huawei': 9417, 'sheep': 9418, 'weighing': 9419, 'reads': 9420, 'cellphone': 9421, 'psychological': 9422, 'consultants': 9423, 'mercantile': 9424, 'rodham': 9425, 'cafe': 9426, 'farmington': 9427, 'trafford': 9428, 'exercised': 9429, 'vmware': 9430, 'commencement': 9431, 'inspections': 9432, 'martha': 9433, 'organ': 9434, 'parkinson': 9435, 'slept': 9436, 'designate': 9437, 'contador': 9438, 'migration': 9439, 'tab': 9440, 'gp': 9441, 'akron': 9442, 'artificial': 9443, 'fiancee': 9444, 'gcc': 9445, \"'may\": 9446, 'duet': 9447, 'collides': 9448, 'grizzlies': 9449, 'aluminum': 9450, 'livestock': 9451, 'unlimited': 9452, 'achieves': 9453, 'vow': 9454, 'shrinks': 9455, 'brilliant': 9456, 'kristin': 9457, 'hottest': 9458, 'credited': 9459, 'nv': 9460, 'colo': 9461, 'fast-growing': 9462, 'licensed': 9463, 'literally': 9464, 'fayetteville': 9465, 'abkhazia': 9466, 'eminem': 9467, 'capped': 9468, 'airstrike': 9469, 'militia': 9470, 'pianist': 9471, 'mahendra': 9472, 'cricketers': 9473, 'mistakenly': 9474, 'contributed': 9475, 'connectivity': 9476, 'deemed': 9477, 'tvs': 9478, 'holes': 9479, 'norms': 9480, 'putnam': 9481, 'nigel': 9482, 'cancellation': 9483, 'khyber': 9484, 'extremism': 9485, 'waziristan': 9486, 'best-selling': 9487, 'skier': 9488, 'atp': 9489, 'spider-man': 9490, 'victories': 9491, 'cherokee': 9492, 'jaipur': 9493, 'dining': 9494, 'divorced': 9495, '5bn': 9496, 'flintoff': 9497, 'high-level': 9498, 'nassau': 9499, 'cesar': 9500, 'lautner': 9501, 'powder': 9502, 'outrage': 9503, 'pile': 9504, 'perkins': 9505, 'sedan': 9506, 'bribes': 9507, 'semi-finals': 9508, 'trinamool': 9509, 'pal': 9510, 'column': 9511, 'manufactured': 9512, 'tortured': 9513, 'fundamental': 9514, 'jurors': 9515, 'trinity': 9516, 'alexandria': 9517, 'vegetable': 9518, 'relevant': 9519, 'jill': 9520, 'astana': 9521, 'usually': 9522, 'spinal': 9523, 'canadiens': 9524, 'quincy': 9525, 'lancashire': 9526, 'liga': 9527, 'intentionally': 9528, 'ultimately': 9529, 'nda': 9530, 'maori': 9531, 'careers': 9532, 'blu-ray': 9533, 'marvin': 9534, 'annan': 9535, 'medallist': 9536, 'shooter': 9537, 'directorial': 9538, 'classified': 9539, 'rejecting': 9540, 'owing': 9541, 'yanukovych': 9542, 'happening': 9543, 'imperial': 9544, 'surgical': 9545, 'canton': 9546, 'pre-orders': 9547, 'surfer': 9548, 'staging': 9549, 'hardy': 9550, 'mastercard': 9551, 'defenceman': 9552, 'cork': 9553, 'pamela': 9554, 'retreated': 9555, 'dismal': 9556, 'contracted': 9557, 'eligibility': 9558, 'ratio': 9559, 'fingers': 9560, 'aspen': 9561, 'hazard': 9562, 'abdominal': 9563, 'forests': 9564, 'gainesville': 9565, 'aerial': 9566, 'britons': 9567, 'methamphetamine': 9568, 'elena': 9569, '2010-11': 9570, 'carpenter': 9571, 'wardrobe': 9572, 'clinch': 9573, 'peas': 9574, 'ghanaian': 9575, 'cindy': 9576, 'integrate': 9577, 'kia': 9578, 'santana': 9579, 'gupta': 9580, 'divers': 9581, 'ma': 9582, 'elder': 9583, 'epidemic': 9584, 'pawar': 9585, 'mosquito': 9586, 'cautioned': 9587, 'imposes': 9588, 'polo': 9589, 'mtn': 9590, 'pedestrians': 9591, 'associations': 9592, 'bahraini': 9593, 'carlyle': 9594, 'thermo': 9595, 'qualcomm': 9596, 'shores': 9597, 'pools': 9598, 'bajaj': 9599, 'enabling': 9600, '107': 9601, 'auditor': 9602, 'beam': 9603, 'monoxide': 9604, 'weisz': 9605, 'uttarakhand': 9606, 'chasing': 9607, 'tables': 9608, 'bald': 9609, 'decreased': 9610, 'meningitis': 9611, 'elvis': 9612, 'rubbish': 9613, 'architect': 9614, 'symposium': 9615, 'timberwolves': 9616, 'caterpillar': 9617, 'amar': 9618, 'contacts': 9619, 'sacred': 9620, 'joplin': 9621, 'affirms': 9622, 'rebecca': 9623, 'relocate': 9624, 'vetoes': 9625, 'parcel': 9626, 'murderer': 9627, 'luiz': 9628, 'unesco': 9629, 'grandson': 9630, 'clues': 9631, 'hop': 9632, 'except': 9633, '5-2': 9634, 'three-game': 9635, 'cornwall': 9636, 'discounts': 9637, 'taxpayer': 9638, 'anti-terrorism': 9639, 'leaking': 9640, 'optical': 9641, 'flats': 9642, 'meal': 9643, 'paribas': 9644, 'rimes': 9645, 'benghazi': 9646, 'jerome': 9647, 'ringgit': 9648, 'terrible': 9649, 'determination': 9650, 'correct': 9651, 'cypriot': 9652, 'achieving': 9653, 'broadly': 9654, 'webinar': 9655, 'sikh': 9656, 'inevitable': 9657, 'bellevue': 9658, 'intelligent': 9659, 'lasting': 9660, 'campaigners': 9661, 'singers': 9662, \"'n\": 9663, 'photographs': 9664, 'keira': 9665, 'bury': 9666, 'performer': 9667, 'talented': 9668, 'gears': 9669, 'rosa': 9670, 'ajay': 9671, 'trauma': 9672, 'enrollment': 9673, 'nh': 9674, 'pepsico': 9675, 'microsystems': 9676, 'impending': 9677, 'ballistic': 9678, 'versions': 9679, 'mounted': 9680, 'chains': 9681, 'bronx': 9682, 'secretary-general': 9683, 'sewage': 9684, 'competent': 9685, 'alba': 9686, 'tires': 9687, 'tall': 9688, 'grounded': 9689, 'moses': 9690, 'sonic': 9691, 'viewing': 9692, 'doncaster': 9693, 'balloon': 9694, 'drills': 9695, 'petty': 9696, 'incredible': 9697, 'plain': 9698, '1960s': 9699, 'carla': 9700, 'widening': 9701, 'summoned': 9702, 'kiev': 9703, '1999': 9704, 'choosing': 9705, 'shiite': 9706, 'luncheon': 9707, 'touchdown': 9708, 'lucie': 9709, 'yerevan': 9710, 'tumour': 9711, 'mentioned': 9712, 'graves': 9713, 'airplane': 9714, 'edgar': 9715, 'bacteria': 9716, 'meredith': 9717, 'sahara': 9718, 'sketch': 9719, 'turtle': 9720, 'evil': 9721, 'congestion': 9722, \"'this\": 9723, 'proving': 9724, 'surviving': 9725, 'drogba': 9726, '1800': 9727, 'spreads': 9728, 'wrongly': 9729, 'mammoth': 9730, 'autonomous': 9731, \"'buy\": 9732, 'rescheduled': 9733, 'comprising': 9734, 'ho': 9735, '3500': 9736, 'deadliest': 9737, 'limiting': 9738, 'hates': 9739, 'cautiously': 9740, 'underlying': 9741, 'africans': 9742, 'dustin': 9743, 'harding': 9744, 'aretha': 9745, 'snowfall': 9746, 'firearm': 9747, 'first-ever': 9748, 'frame': 9749, 'appalachian': 9750, 'ole': 9751, 'aka': 9752, '1100': 9753, 'patriot': 9754, '38-year-old': 9755, 'anymore': 9756, 'knockout': 9757, 'buck': 9758, 'jihad': 9759, 'diplomacy': 9760, 'runners': 9761, 'petitions': 9762, 'hudgens': 9763, 'snake': 9764, 'municipalities': 9765, 'kara': 9766, 'ignored': 9767, 'dragons': 9768, 'memoir': 9769, 'colour': 9770, 'everyday': 9771, 'skiing': 9772, 'costing': 9773, 'colonel': 9774, 'kandahar': 9775, 'commence': 9776, '40-year-old': 9777, 'linux': 9778, 'playbook': 9779, 'nepali': 9780, 'harold': 9781, 'haul': 9782, 'coli': 9783, 'nypd': 9784, 'supplying': 9785, 'redistricting': 9786, 'leinster': 9787, 'knifepoint': 9788, 'lifeline': 9789, 'dynamo': 9790, 'footage': 9791, 'recognizes': 9792, 'jaime': 9793, 'samoa': 9794, 'weaken': 9795, 'akhtar': 9796, 'sticks': 9797, 'cfo': 9798, 'meyer': 9799, 'legislator': 9800, 'fallon': 9801, 'cialis': 9802, 'pearson': 9803, 'diverted': 9804, 'surprisingly': 9805, 'journalism': 9806, 'festivals': 9807, 'sanctuary': 9808, 'crises': 9809, 'technological': 9810, 'nitin': 9811, 'two-year-old': 9812, 'waterford': 9813, 'ruth': 9814, 'smashing': 9815, 'legion': 9816, 'containers': 9817, 'shutout': 9818, 'separatist': 9819, 'loving': 9820, 'ki': 9821, 'fiction': 9822, 'kaif': 9823, 'stafford': 9824, 'sections': 9825, 'please': 9826, 'supplements': 9827, 'roddick': 9828, 'fullback': 9829, 'cruces': 9830, 'perspective': 9831, 'humane': 9832, 'quarterfinal': 9833, 'patrice': 9834, 'yusuf': 9835, 'interviewed': 9836, 'samples': 9837, 'capsizes': 9838, 'represented': 9839, 'punish': 9840, 'referred': 9841, 'raft': 9842, 'missions': 9843, 'insurgency': 9844, 'copenhagen': 9845, 'fischer': 9846, 'gardner': 9847, 'aquarium': 9848, 'expressing': 9849, 'console': 9850, 'basement': 9851, 'shilpa': 9852, 'marred': 9853, 'ideal': 9854, 'webster': 9855, 'roland': 9856, 'elephants': 9857, 'inflows': 9858, 'prostitute': 9859, 'controllers': 9860, 'catastrophic': 9861, 'nike': 9862, 'hutchison': 9863, 'consolidated': 9864, 'condemning': 9865, 'cutler': 9866, 'lauderdale': 9867, 'moose': 9868, 'brace': 9869, 'exchanged': 9870, 'filipinos': 9871, 'lingus': 9872, 'gurgaon': 9873, 'ark': 9874, 'duluth': 9875, 'nl': 9876, 'premieres': 9877, 'ugandan': 9878, '175': 9879, 'jackman': 9880, 'irs': 9881, 'processors': 9882, 'balcony': 9883, 'lin': 9884, 'chapel': 9885, 'connecting': 9886, 'leaf': 9887, 'intensify': 9888, 'guaranteed': 9889, 'advocacy': 9890, 'welcoming': 9891, 'commentator': 9892, 'helena': 9893, '3-year-old': 9894, 'grades': 9895, 'napoli': 9896, 'moyes': 9897, 'regularly': 9898, 'indictments': 9899, 'sellers': 9900, 'branson': 9901, 'legally': 9902, 'deeply': 9903, 'tesla': 9904, 'seafood': 9905, 'nvidia': 9906, 'negligent': 9907, 'im': 9908, 'edwin': 9909, 'conocophillips': 9910, 'stuttgart': 9911, 'structural': 9912, 'implementing': 9913, 'iv': 9914, 'sands': 9915, 'jupiter': 9916, 'consistent': 9917, 'lunar': 9918, '9000': 9919, 'aloud': 9920, 'generally': 9921, 'repaired': 9922, 'voices': 9923, 'marseille': 9924, '2017': 9925, 'assemblyman': 9926, 'emerges': 9927, 'lk': 9928, 'straw': 9929, 'shaft': 9930, 'greens': 9931, 'rex': 9932, 'employed': 9933, 'bullying': 9934, 'conspiring': 9935, 'romo': 9936, 'opt': 9937, 'smooth': 9938, 'feelings': 9939, 'capability': 9940, 'bipartisan': 9941, 'lorenzo': 9942, 'fremont': 9943, 'blizzard': 9944, 'dirt': 9945, 'presley': 9946, 'seacrest': 9947, 'johar': 9948, 'applying': 9949, 'installs': 9950, 'alpha': 9951, 'safeguard': 9952, 'noah': 9953, 'nordic': 9954, 'third-largest': 9955, 'karen': 9956, 'fantastic': 9957, 'identifying': 9958, 'sears': 9959, 'expel': 9960, 'reaffirms': 9961, 'mideast': 9962, 'initiates': 9963, 'unnecessary': 9964, 'gibb': 9965, 'kathleen': 9966, 'eyeing': 9967, 'lng': 9968, 'wrongdoing': 9969, 'finalised': 9970, 'penelope': 9971, 'landfill': 9972, 'luther': 9973, 'imposing': 9974, 'middletown': 9975, 'fibre': 9976, 'pad': 9977, 'opposing': 9978, 'virtualization': 9979, 'leann': 9980, 'prospective': 9981, 'harrisburg': 9982, 'kroger': 9983, 'kochi': 9984, 'pippa': 9985, 'troop': 9986, '37-year-old': 9987, 'one-time': 9988, 'padukone': 9989, 'casual': 9990, 'worlds': 9991, 'outburst': 9992, 'profitable': 9993, 'quentin': 9994, 'staples': 9995, 'contributing': 9996, 'respective': 9997, 'dresses': 9998, 'ict': 9999}\n"
     ]
    }
   ],
   "source": [
    "vocab_size = 10_000\n",
    "vocab = vocab_counter.most_common(vocab_size)\n",
    "token_to_id = {word: i for i, (word, _) in enumerate(vocab)}\n",
    "print(token_to_id)"
   ]
  },
  {
   "cell_type": "markdown",
   "metadata": {
    "collapsed": false,
    "pycharm": {
     "name": "#%% md\n"
    }
   },
   "source": [
    "<a name='e4'></a>\n",
    "### Exercise 4: Bag of Words\n",
    "(1p) Here we will create the bag-of-words representation of the sentences. The function will take a single sentence (list of tokens) and return an array of size `vocab_size` with the counts of each word in the vocabulary. The\n",
    "`vocab_size` is calculated as the length of the passed `token_to_id` dictionary. The resulting array should have zeros everywhere but the indices corresponding to the words in the vocabulary where it should have the counts of the words in the sentence. For example, if the sentence is `['fox', 'and', 'deer']` and the vocabulary is `{'fox': 0, 'and': 1, 'deer': 2}`, the resulting array should be `[1, 1, 1]`. If the sentence is `['fox', 'and', 'fox', 'deer']`, the resulting array should be `[2, 1, 1]`."
   ]
  },
  {
   "cell_type": "code",
   "execution_count": 26,
   "metadata": {
    "collapsed": false,
    "pycharm": {
     "name": "#%%\n"
    }
   },
   "outputs": [],
   "source": [
    "def bag_of_words(sentence, token_to_id):\n",
    "    \"\"\"\n",
    "    Creates a bag-of-words representation of the sentence\n",
    "    Args:\n",
    "        sentence: a list of tokens\n",
    "        token_to_id: a dictionary mapping each word to an index in the vocabulary\n",
    "\n",
    "    Returns:: a numpy array of size vocab_size with the counts of each word in the vocabulary\n",
    "\n",
    "    \"\"\"\n",
    "    vocab_size = len(token_to_id)\n",
    "    bow = np.zeros(vocab_size, dtype=int)\n",
    "\n",
    "    ### YOUR CODE HERE\n",
    "    for token in sentence:\n",
    "        if token in token_to_id:\n",
    "            bow[token_to_id[token]] += 1\n",
    "    ### YOUR CODE ENDS HERE\n",
    "\n",
    "    return bow"
   ]
  },
  {
   "cell_type": "markdown",
   "metadata": {
    "collapsed": false,
    "pycharm": {
     "name": "#%% md\n"
    }
   },
   "source": [
    "Let's see how the function works on a single sentence. The output should be a numpy array of size `vocab_size` with the counts of each word in the vocabulary."
   ]
  },
  {
   "cell_type": "code",
   "execution_count": 27,
   "metadata": {
    "collapsed": false,
    "pycharm": {
     "name": "#%%\n"
    }
   },
   "outputs": [
    {
     "name": "stdout",
     "output_type": "stream",
     "text": [
      "Tokenized sentence:\n",
      "['families', 'all', 'around', 'the', 'country', 'are', 'reuniting', 'for', 'thanksgiving']\n",
      "Bag of words:\n",
      "[1 0 0 ... 0 0 0]\n",
      "Type of bag of words:\n",
      "<class 'numpy.ndarray'>\n",
      "Shape of bag of words:\n",
      "(10000,)\n",
      "Non-zero elements in bag of words:\n",
      "[   0    7   35   99  111  379 1606 4527]\n"
     ]
    }
   ],
   "source": [
    "print('Tokenized sentence:')\n",
    "print(tokenized_sentences[0])\n",
    "sentence_bow = bag_of_words(tokenized_sentences[0], token_to_id)\n",
    "\n",
    "print('Bag of words:')\n",
    "print(sentence_bow)\n",
    "print('Type of bag of words:')\n",
    "print(type(sentence_bow))\n",
    "print('Shape of bag of words:')\n",
    "print(sentence_bow.shape)\n",
    "print('Non-zero elements in bag of words:')\n",
    "print(np.nonzero(sentence_bow)[0])"
   ]
  },
  {
   "cell_type": "markdown",
   "metadata": {
    "collapsed": false,
    "pycharm": {
     "name": "#%% md\n"
    }
   },
   "source": [
    "We can also check in detail what words and their counts are in the bag-of-words representation."
   ]
  },
  {
   "cell_type": "code",
   "execution_count": null,
   "metadata": {
    "collapsed": false,
    "pycharm": {
     "name": "#%%\n"
    }
   },
   "outputs": [],
   "source": [
    "sentence_non_zero_bow = np.nonzero(sentence_bow)[0]\n",
    "print('Non-zero elements in bag of words:')\n",
    "print(sentence_non_zero_bow)\n",
    "for i in sentence_non_zero_bow:\n",
    "    print(vocab[i][0], ':', sentence_bow[i])"
   ]
  },
  {
   "cell_type": "markdown",
   "metadata": {
    "collapsed": false,
    "pycharm": {
     "name": "#%% md\n"
    }
   },
   "source": [
    "The following function will apply all the steps we implemented to a single sentence. It returns a bag of words representation that we will use to calculate the similarity between different sentences."
   ]
  },
  {
   "cell_type": "code",
   "execution_count": null,
   "metadata": {
    "collapsed": false,
    "pycharm": {
     "name": "#%%\n"
    }
   },
   "outputs": [],
   "source": [
    "def embed_text(text, clean_fn, tokenize_fn, embed_fn):\n",
    "    cleaned = clean_fn(text)\n",
    "    tokens = tokenize_fn(cleaned)\n",
    "    embedding = embed_fn(tokens)\n",
    "    return embedding"
   ]
  },
  {
   "cell_type": "markdown",
   "metadata": {
    "collapsed": false,
    "pycharm": {
     "name": "#%% md\n"
    }
   },
   "source": [
    "<a name='e5'></a>\n",
    "### Exercise 5: Cosine Similarity between two vectors\n",
    "\n",
    "(1p) Complete the following function that given any two vectors will compute the cosine similarity. If you don't remember the formula for the cosine similarity, revisit the course material. Notice that the function receives numpy arrays and recall that you can express cosine similarity as a dot product. Use numpy functions to write an efficient implementation."
   ]
  },
  {
   "cell_type": "code",
   "execution_count": null,
   "metadata": {
    "collapsed": false,
    "pycharm": {
     "name": "#%%\n"
    }
   },
   "outputs": [],
   "source": [
    "def cosine_similarity(vector1, vector2):\n",
    "    \"\"\"\n",
    "    Computes the cosine similarity between two vectors\n",
    "    Args:\n",
    "        vector1: numpy array of the first vector\n",
    "        vector2: numpy array of the second vector\n",
    "\n",
    "    Returns: cosine similarity\n",
    "\n",
    "    \"\"\"\n",
    "    ### YOUR CODE HERE\n",
    "\n",
    "\n",
    "\n",
    "    ### YOUR CODE ENDS HERE"
   ]
  },
  {
   "cell_type": "code",
   "execution_count": null,
   "metadata": {
    "collapsed": false,
    "pycharm": {
     "name": "#%%\n"
    }
   },
   "outputs": [],
   "source": [
    "cosine_similarity(np.array([0, 1, 2]), np.array([0, 2, 4]))"
   ]
  },
  {
   "cell_type": "code",
   "execution_count": null,
   "metadata": {
    "collapsed": false,
    "pycharm": {
     "name": "#%%\n"
    }
   },
   "outputs": [],
   "source": [
    "sentences = [\n",
    "    'The quick brown fox jumps over the lazy dog.',\n",
    "    'Some interesting document containin sentences.',\n",
    "    'The quick brown fox jumps over the lazy cat and some other stuff.',\n",
    "    'Fox and deer are not friends.',\n",
    "    'Fox and deer are not friends. But this document is a lot longer than the previous one. We can add sentence by sentence and see how the embeddings change.',\n",
    "]\n",
    "embedded_sentences = [\n",
    "    embed_text(sentence, clean, tokenize, lambda x: bag_of_words(x, token_to_id))\n",
    "    for sentence in sentences\n",
    "]\n",
    "\n",
    "query = 'fox and deer'\n",
    "embedded_query = embed_text(query, clean, tokenize, lambda x: bag_of_words(x, token_to_id))\n",
    "\n",
    "cosine_similarities = [\n",
    "    cosine_similarity(embedded_query, embedded_sentence)\n",
    "    for embedded_sentence in embedded_sentences\n",
    "]\n",
    "print(f'Query: {query}')\n",
    "for sent, cos_sim in zip(sentences, cosine_similarities):\n",
    "    print(f'Cosine Similarity: {cos_sim:.4f} - Sentence: {sent}')"
   ]
  },
  {
   "cell_type": "markdown",
   "metadata": {
    "collapsed": false,
    "pycharm": {
     "name": "#%% md\n"
    }
   },
   "source": [
    "We will apply the function to the whole dataset. This might take a while, so be patient. The result will be stored in the `sentence_bow` and `compressed_bow` fields of the dataset."
   ]
  },
  {
   "cell_type": "code",
   "execution_count": null,
   "metadata": {
    "collapsed": false,
    "pycharm": {
     "name": "#%%\n"
    }
   },
   "outputs": [],
   "source": [
    "def bag_of_words_dataset(example):\n",
    "    \"\"\"\n",
    "    Creates a bag-of-words representation of the sentence and compressed sentence in the example from the Dataset\n",
    "    Args:\n",
    "        example: an example from the Dataset\n",
    "\n",
    "    Returns: updated example with 'sentence_bow' and 'compressed_bow' columns\n",
    "\n",
    "    \"\"\"\n",
    "    sentence_tokens = example['sentence_tokens']\n",
    "    compressed_tokens = example['compressed_tokens']\n",
    "\n",
    "    sentence_bow = bag_of_words(sentence_tokens, token_to_id)\n",
    "    compressed_bow = bag_of_words(compressed_tokens, token_to_id)\n",
    "\n",
    "    example['sentence_bow'] = sentence_bow\n",
    "    example['compressed_bow'] = compressed_bow\n",
    "    return example"
   ]
  },
  {
   "cell_type": "markdown",
   "metadata": {
    "collapsed": false,
    "pycharm": {
     "name": "#%% md\n"
    }
   },
   "source": [
    "The following cell will apply the function to the whole dataset. The result will be stored in the `sentence_bow` and `compressed_bow` fields of the dataset. We will also convert the dataset's fields `sentence_bow` and `compressed_bow` to numpy format for easier manipulation."
   ]
  },
  {
   "cell_type": "code",
   "execution_count": null,
   "metadata": {
    "collapsed": false,
    "pycharm": {
     "name": "#%%\n"
    }
   },
   "outputs": [],
   "source": [
    "test_ds = split_ds['test'].map(bag_of_words_dataset)\n",
    "test_ds = test_ds.with_format('np', columns=['sentence_bow', 'compressed_bow'], dtype=float)\n",
    "print(test_ds)"
   ]
  },
  {
   "cell_type": "markdown",
   "metadata": {
    "collapsed": false,
    "pycharm": {
     "name": "#%% md\n"
    }
   },
   "source": [
    "Let's check the results. The `sentence_bow` and `compressed_bow` fields should contain the bag-of-words representation of the sentences and compressed sentences, respectively."
   ]
  },
  {
   "cell_type": "code",
   "execution_count": null,
   "metadata": {
    "collapsed": false,
    "pycharm": {
     "name": "#%%\n"
    }
   },
   "outputs": [],
   "source": [
    "print(test_ds[0])"
   ]
  },
  {
   "cell_type": "code",
   "execution_count": null,
   "metadata": {
    "collapsed": false,
    "pycharm": {
     "name": "#%%\n"
    }
   },
   "outputs": [],
   "source": [
    "sentences_bows = test_ds['sentence_bow']\n",
    "print(sentences_bows.shape)"
   ]
  },
  {
   "cell_type": "markdown",
   "metadata": {
    "collapsed": false,
    "pycharm": {
     "name": "#%% md\n"
    }
   },
   "source": [
    "Now we can start building a retriever based on the bag of words representation. The first step is to calculate the cosine similarity between two vectors."
   ]
  },
  {
   "cell_type": "markdown",
   "metadata": {
    "collapsed": false,
    "pycharm": {
     "name": "#%% md\n"
    }
   },
   "source": [
    "<a name='e6'></a>\n",
    "### Exercise 6: Cosine Similarity between a vector and an array of vectors\n",
    "\n",
    "(2p) The next step in our retrieval system, would be to calculate the proximity of a query to our retrieval corpus (in our case that is all the sentences).\n",
    "\n",
    "Complete the following function to calculate the cosine similarity between a vector (first parameter `vector`, that will usually be the query vector) and all other vectors (second parameter `other_vectors`, that will be the sentence embeddings in our case). Note that the `other_vectors` parameter is a single numpy array of size `N x D`, where $N$ is the number of vectors and $D$ is the dimension of each vector.\n",
    "\n",
    "For maximum efficiency (we will need it) do not use loops. Try to write the implementation with numpy functions. Hint: matrix multiplication can be seen as calculating the dot product between rows and columns of the multiplied matrices."
   ]
  },
  {
   "cell_type": "code",
   "execution_count": null,
   "metadata": {
    "id": "LgaV2b3fpSOR",
    "pycharm": {
     "name": "#%%\n"
    }
   },
   "outputs": [],
   "source": [
    "def cosine_similarity_1_to_n(vector, other_vectors):\n",
    "    \"\"\"\n",
    "    Calculates the cosine similarity between a single vector and other vectors.\n",
    "    Args:\n",
    "        vector: a numpy array representing a vector of D dimensions\n",
    "        other_vectors: a 2D numpy array representing other vectors (of the size NxD, where N is the number of vectors and D is their dimension)\n",
    "\n",
    "    Returns: a 1D numpy array of size N containing the cosine similarity between the vector and all the other vectors\n",
    "\n",
    "    \"\"\"\n",
    "\n",
    "    #### YOUR CODE HERE\n",
    "\n",
    "\n",
    "\n",
    "\n",
    "\n",
    "\n",
    "    ### YOUR CODE ENDS HERE"
   ]
  },
  {
   "cell_type": "markdown",
   "metadata": {
    "collapsed": false,
    "id": "irNqAJZLpSOR",
    "pycharm": {
     "name": "#%% md\n"
    }
   },
   "source": [
    "We will use the function to calculate the similarity of all sentences in the dataset to our query."
   ]
  },
  {
   "cell_type": "code",
   "execution_count": null,
   "metadata": {
    "collapsed": false,
    "pycharm": {
     "name": "#%%\n"
    }
   },
   "outputs": [],
   "source": [
    "query = 'fox and deer'\n",
    "embedded_query = embed_text(query, clean, tokenize, lambda x: bag_of_words(x, token_to_id))"
   ]
  },
  {
   "cell_type": "code",
   "execution_count": null,
   "metadata": {
    "id": "uD9mVAhYpSOR",
    "pycharm": {
     "name": "#%%\n"
    }
   },
   "outputs": [],
   "source": [
    "query_similarity = cosine_similarity_1_to_n(embedded_query, sentences_bows)\n",
    "print(query_similarity.shape)\n",
    "print(query_similarity[:10])"
   ]
  },
  {
   "cell_type": "markdown",
   "metadata": {
    "collapsed": false,
    "id": "_l3erVTNpSOR",
    "pycharm": {
     "name": "#%% md\n"
    }
   },
   "source": [
    "The following cell will select the most similar sentence."
   ]
  },
  {
   "cell_type": "code",
   "execution_count": null,
   "metadata": {
    "id": "0wWa4AWHpSOR",
    "pycharm": {
     "name": "#%%\n"
    }
   },
   "outputs": [],
   "source": [
    "most_similar = int(np.argmax(query_similarity))\n",
    "print(most_similar)\n",
    "print(query_similarity[most_similar])\n",
    "print(split_ds['test'][most_similar]['set'][0])"
   ]
  },
  {
   "cell_type": "markdown",
   "metadata": {
    "collapsed": false,
    "id": "fpdJHFD1pSOR",
    "pycharm": {
     "name": "#%% md\n"
    }
   },
   "source": [
    "The following function will return the indices of the top-k elements in the array."
   ]
  },
  {
   "cell_type": "code",
   "execution_count": null,
   "metadata": {
    "id": "QFUNI9elpSOS",
    "pycharm": {
     "name": "#%%\n"
    }
   },
   "outputs": [],
   "source": [
    "def top_k_indices(array, k, sorted=True):\n",
    "    \"\"\"\n",
    "    Returns top-k indices from the 1D array. If `sorted` is `True` the returned indices are sorted in the descending order\n",
    "    Args:\n",
    "        array: a 1D numpy array\n",
    "        k: a number of top indices to return\n",
    "        sorted: if True, the returned indices are sorted in descending order\n",
    "\n",
    "    Returns: a 1D array containing top-k indices\n",
    "\n",
    "    \"\"\"\n",
    "    top_k = np.argpartition(array, -k)[-k:]\n",
    "    if sorted:\n",
    "        selected = array[top_k]\n",
    "        sorted_selected = (-selected).argsort()\n",
    "        top_k = top_k[sorted_selected]\n",
    "    return top_k"
   ]
  },
  {
   "cell_type": "code",
   "execution_count": null,
   "metadata": {
    "id": "nY8vvJdepSOS",
    "pycharm": {
     "name": "#%%\n"
    }
   },
   "outputs": [],
   "source": [
    "top_indices = top_k_indices(query_similarity, k=10).tolist()\n",
    "for idx in top_indices:\n",
    "    print(split_ds['test'][idx]['set'][0])\n",
    "    print(f'similarity: {query_similarity[idx]}')"
   ]
  },
  {
   "cell_type": "markdown",
   "metadata": {
    "collapsed": false,
    "id": "BuRI2JzQpSOS",
    "pycharm": {
     "name": "#%% md\n"
    }
   },
   "source": [
    "<a name='e7'></a>\n",
    "### Exercise 7: Analyzing and improving BOW search results\n",
    "\n",
    "Experiment with different queries (taking into account the nature of the dataset and your insights from the analysis so far).\n",
    "Answer the following questions:\n",
    "- (5p) Does the search perform well? When does it fail? Discuss several examples that are we get an expected but also unexpected results (find at least 3 from each category). Provide reasons for the good/bad result in each case (e.g. is there some error in the data, is there some linguistic phenomenon that we don't capture, is something wrong with our modeling with average embeddings, ...)\n",
    "- (5p) If you see problems with search, how could you improve your implementation? Change the functions above, if you think there is room for improvement. Describe your changes and how they made the search better or (in case you made no changes) explain what made the search robust enough to work well."
   ]
  },
  {
   "cell_type": "code",
   "execution_count": null,
   "metadata": {
    "id": "sEQKHAvcpSOS",
    "pycharm": {
     "name": "#%%\n"
    }
   },
   "outputs": [],
   "source": [
    "#### YOUR CODE HERE\n",
    "\n",
    "\n",
    "\n",
    "### YOUR CODE ENDS HERE"
   ]
  },
  {
   "cell_type": "markdown",
   "metadata": {
    "id": "eiIGTfq6eFI5",
    "pycharm": {
     "name": "#%% md\n"
    }
   },
   "source": [
    "// your comments"
   ]
  },
  {
   "cell_type": "markdown",
   "metadata": {
    "collapsed": false,
    "pycharm": {
     "name": "#%% md\n"
    }
   },
   "source": [
    "## 3. Term Frequency - Inverse Document Frequency (TF-IDF)\n",
    "\n",
    "In this section we will implement the TF-IDF algorithm. While BOW is a simple way to represent the documents, it has some limitations. For example, it does not take into account the importance of each word in the document. TF-IDF representation takes into account the frequency of each word in the document and the frequency of the word in the whole dataset. It is a widely used technique in information retrieval and text mining. Refer to the lecture slides for more details."
   ]
  },
  {
   "cell_type": "markdown",
   "metadata": {
    "collapsed": false,
    "pycharm": {
     "name": "#%% md\n"
    }
   },
   "source": [
    "<a name='e8'></a>\n",
    "### Exercise 8: Inverse Document Frequency (IDF)\n",
    "(5p) In this exercise, you will implement the TF-IDF algorithm. First, calculate Inverse Document Frequency (IDF) for each word in the vocabulary. Intuitively, it is a measure of how informative a word is based on the whole dataset. Consult the lecture slides for the details. The IDF is calculated as follows:\n",
    "$$\n",
    "IDF(t) = log_{10}(N/df(t))$$\n",
    "where $N$ is the total number of documents (sentences) in the dataset and $df(t)$ is the number of documents containing the word $t$.\n"
   ]
  },
  {
   "cell_type": "code",
   "execution_count": null,
   "metadata": {
    "collapsed": false,
    "pycharm": {
     "name": "#%%\n"
    }
   },
   "outputs": [],
   "source": [
    "def calculate_idf(bows):\n",
    "    \"\"\"\n",
    "    Calculates the IDF for each word in the vocabulary\n",
    "    Args:\n",
    "        bows: numpty array of size (N x D) where N is the number of documents and D is the vocabulary size\n",
    "\n",
    "    Returns: a numpy array of size D with IDF values for each token\n",
    "    \"\"\"\n",
    "\n",
    "    ### YOUR CODE HERE\n",
    "\n",
    "\n",
    "\n",
    "    ### YOUR CODE ENDS HERE\n",
    "\n",
    "idf = calculate_idf(sentences_bows)"
   ]
  },
  {
   "cell_type": "markdown",
   "metadata": {
    "collapsed": false,
    "pycharm": {
     "name": "#%% md\n"
    }
   },
   "source": [
    "<a name='e9'></a>\n",
    "### Exercise 9: TF-IDF\n",
    "- (5p) Calculate TF-IDF on the `test` subset of the dataset.\n",
    "- (5p) Analyze the search results based on your implemented TF-IDF. Does the search perform well? When does it fail? Discuss several examples that are we get an expected but also unexpected results (find at least 3 from each category). Provide reasons for the good/bad result in each case (e.g. is there some error in the data, is there some linguistic phenomenon that we don't capture, is something wrong with our modeling with average embeddings, ...)\n",
    "- (5p) Compare the results with the ones you got with the bag-of-words representation. Discuss the differences and similarities. Do you think TF-IDF is a better representation for this task? Why or why not? Provide examples to support your arguments.\n"
   ]
  },
  {
   "cell_type": "code",
   "execution_count": null,
   "metadata": {
    "collapsed": false,
    "pycharm": {
     "name": "#%%\n"
    }
   },
   "outputs": [],
   "source": [
    "### YOUR CODE HERE\n",
    "\n",
    "\n",
    "\n",
    "\n",
    "### YOUR CODE ENDS HERE\n",
    "\n",
    "### YOU CAN ADD MORE CELLS"
   ]
  },
  {
   "cell_type": "markdown",
   "metadata": {
    "collapsed": false,
    "pycharm": {
     "name": "#%% md\n"
    }
   },
   "source": [
    "// your comments"
   ]
  },
  {
   "cell_type": "markdown",
   "metadata": {
    "collapsed": false,
    "pycharm": {
     "name": "#%% md\n"
    }
   },
   "source": [
    "## 4. Word Embeddings\n",
    "\n",
    "In this section you will load the pre-trained word embeddings model - Glove. You can read more about it [here](https://aclanthology.org/D14-1162/) ([https://aclanthology.org/D14-1162/](https://aclanthology.org/D14-1162/)). The embeddings are trained on a large corpus of text and are available in different dimensions. We will start with the dimension of 100, but later you will be asked to experiment with other dimensions.\n",
    "Gensim library maintains a storage containing some pre-trained models. You can read more about it [here](https://github.com/piskvorky/gensim-data) ([https://github.com/piskvorky/gensim-data](https://github.com/piskvorky/gensim-data)). Be sure to read the README of this repository.\n",
    "\n",
    "Let's first load the info of what models are available."
   ]
  },
  {
   "cell_type": "code",
   "execution_count": null,
   "metadata": {
    "collapsed": false,
    "pycharm": {
     "name": "#%%\n"
    }
   },
   "outputs": [],
   "source": [
    "import json\n",
    "import gensim.downloader as api\n",
    "\n",
    "info = api.info()  # show info about available models/datasets\n",
    "print(json.dumps(info['models'], indent=2))"
   ]
  },
  {
   "cell_type": "code",
   "execution_count": null,
   "metadata": {
    "collapsed": false,
    "pycharm": {
     "name": "#%%\n"
    }
   },
   "outputs": [],
   "source": [
    "glove_model = api.load(\"glove-wiki-gigaword-100\")"
   ]
  },
  {
   "cell_type": "markdown",
   "metadata": {
    "collapsed": false,
    "pycharm": {
     "name": "#%% md\n"
    }
   },
   "source": [
    "We can use the loaded model's `key_to_index` attribute to retrieve the whole vocabulary (aka for how many words we learned embeddings for)."
   ]
  },
  {
   "cell_type": "code",
   "execution_count": null,
   "metadata": {
    "collapsed": false,
    "pycharm": {
     "name": "#%%\n"
    }
   },
   "outputs": [],
   "source": [
    "vocab = list(glove_model.key_to_index)\n",
    "print(len(vocab))"
   ]
  },
  {
   "cell_type": "markdown",
   "metadata": {
    "collapsed": false,
    "pycharm": {
     "name": "#%% md\n"
    }
   },
   "source": [
    "Let's explore a bit further the embeddings. In the following cells, the embedding of a single word is returned. Double-check the dimensions (as sanity check). This is like inspecting the `W` matrix (weights) that we discussed in the lecture."
   ]
  },
  {
   "cell_type": "code",
   "execution_count": null,
   "metadata": {
    "collapsed": false,
    "pycharm": {
     "name": "#%%\n"
    }
   },
   "outputs": [],
   "source": [
    "# vector of a particular model. note that it is 100 dimensional as specified.\n",
    "glove_model['what']"
   ]
  },
  {
   "cell_type": "markdown",
   "metadata": {
    "collapsed": false,
    "pycharm": {
     "name": "#%% md\n"
    }
   },
   "source": [
    "Gensim objects offers different methods to easily run very common tasks. For example, there are different functions to find the most similar words.\n",
    "\n",
    "Check the documentation on how [`most_similar`](https://tedboy.github.io/nlps/generated/generated/gensim.models.Word2Vec.most_similar.html) and [`similar_by_word`](https://tedboy.github.io/nlps/generated/generated/gensim.models.Word2Vec.similar_by_word.html) can be used."
   ]
  },
  {
   "cell_type": "code",
   "execution_count": null,
   "metadata": {
    "collapsed": false,
    "pycharm": {
     "name": "#%%\n"
    }
   },
   "outputs": [],
   "source": [
    "# most similar words to a given word\n",
    "print(glove_model.most_similar('what', topn=10))\n",
    "\n",
    "# also u can use\n",
    "print(glove_model.similar_by_word('miss', topn=5))"
   ]
  },
  {
   "cell_type": "code",
   "execution_count": null,
   "metadata": {
    "collapsed": false,
    "pycharm": {
     "name": "#%%\n"
    }
   },
   "outputs": [],
   "source": [
    "print(glove_model.most_similar('why', topn=10))"
   ]
  },
  {
   "cell_type": "code",
   "execution_count": null,
   "metadata": {
    "collapsed": false,
    "pycharm": {
     "name": "#%%\n"
    }
   },
   "outputs": [],
   "source": [
    "print(glove_model.similar_by_word('who', topn=5))"
   ]
  },
  {
   "cell_type": "markdown",
   "metadata": {
    "collapsed": false,
    "pycharm": {
     "name": "#%% md\n"
    }
   },
   "source": [
    "We can now compare our implementation with the one in the pre-trained model and confirm what we already expected."
   ]
  },
  {
   "cell_type": "code",
   "execution_count": null,
   "metadata": {
    "collapsed": false,
    "pycharm": {
     "name": "#%%\n"
    }
   },
   "outputs": [],
   "source": [
    "# simalarity between two words\n",
    "word1 = 'alive'\n",
    "word2 = 'biology'\n",
    "print(glove_model.similarity(word1, word2))\n",
    "print(cosine_similarity(glove_model[word1], glove_model[word2]))"
   ]
  },
  {
   "cell_type": "code",
   "execution_count": null,
   "metadata": {
    "collapsed": false,
    "pycharm": {
     "name": "#%%\n"
    }
   },
   "outputs": [],
   "source": [
    "# simalarity between two words. similar words\n",
    "word1 = 'alive'\n",
    "word2 = 'life'\n",
    "print(glove_model.similarity(word1, word2))\n",
    "print(cosine_similarity(glove_model[word1], glove_model[word2]))"
   ]
  },
  {
   "cell_type": "code",
   "execution_count": null,
   "metadata": {
    "collapsed": false,
    "pycharm": {
     "name": "#%%\n"
    }
   },
   "outputs": [],
   "source": [
    "# simalarity between two words. dissimilar words\n",
    "word1 = 'alive'\n",
    "word2 = 'dead'\n",
    "print(glove_model.similarity(word1, word2))\n",
    "print(cosine_similarity(glove_model[word1], glove_model[word2]))"
   ]
  },
  {
   "cell_type": "code",
   "execution_count": null,
   "metadata": {
    "collapsed": false,
    "pycharm": {
     "name": "#%%\n"
    }
   },
   "outputs": [],
   "source": [
    "# simalarity between two words. unrelated words\n",
    "word1 = 'alive'\n",
    "word2 = 'horse'\n",
    "print(glove_model.similarity(word1, word2))\n",
    "print(cosine_similarity(glove_model[word1], glove_model[word2]))"
   ]
  },
  {
   "cell_type": "code",
   "execution_count": null,
   "metadata": {
    "collapsed": false,
    "pycharm": {
     "name": "#%%\n"
    }
   },
   "outputs": [],
   "source": [
    "# simalarity between two SAME words\n",
    "glove_model.similarity('equal', 'equal')\n",
    "word1 = 'equal'\n",
    "word2 = 'equal'\n",
    "print(glove_model.similarity(word1, word2))\n",
    "print(cosine_similarity(glove_model[word1], glove_model[word2]))"
   ]
  },
  {
   "cell_type": "markdown",
   "metadata": {
    "collapsed": false,
    "pycharm": {
     "name": "#%% md\n"
    }
   },
   "source": [
    "The next function contains the code to plot a similarity matrix between multiple words (e.g. if we want to compare 10 words and their pair-wise similarities). It requires a matrix with similarities (as input) and labels (aka the words) to display in the final figure."
   ]
  },
  {
   "cell_type": "code",
   "execution_count": null,
   "metadata": {
    "collapsed": false,
    "pycharm": {
     "name": "#%%\n"
    }
   },
   "outputs": [],
   "source": [
    "def plot_similarity_matrix(matrix, labels):\n",
    "    \"\"\"\n",
    "    Displays a plot of the `matrix` of size (N x N) with the labels specified as a list of size N\n",
    "    Args:\n",
    "        matrix: a square-sized (N x N) numpy array\n",
    "        labels: a list of strings of hte size N\n",
    "    \"\"\"\n",
    "\n",
    "    fig, ax = plt.subplots()\n",
    "    im = ax.imshow(matrix)\n",
    "\n",
    "    # Show all ticks and label them with the respective list entries\n",
    "    ax.set_xticks(np.arange(len(labels)), labels=labels)\n",
    "    ax.set_yticks(np.arange(len(labels)), labels=labels)\n",
    "\n",
    "    # Rotate the tick labels and set their alignment.\n",
    "    plt.setp(ax.get_xticklabels(), rotation=45, ha=\"right\",\n",
    "             rotation_mode=\"anchor\")\n",
    "\n",
    "    # Loop over data dimensions and create text annotations.\n",
    "    for i in range(len(labels)):\n",
    "        for j in range(len(labels)):\n",
    "            text = ax.text(j, i, f'{matrix[i, j]:.2f}',\n",
    "                           ha=\"center\", va=\"center\", color=\"w\")\n",
    "\n",
    "    # ax.set_title(\"Give a title if you want\")\n",
    "    fig.tight_layout()\n",
    "    plt.show()"
   ]
  },
  {
   "cell_type": "markdown",
   "metadata": {
    "collapsed": false,
    "pycharm": {
     "name": "#%% md\n"
    }
   },
   "source": [
    "<a name='e10'></a>\n",
    "### Exercise 10: Plotting similarities between words\n",
    "\n",
    "(10p) In the following, we will explore some properties of word embeddings through some examples. We will use 6 example words for this purpose but experiment with other set of words as well. Fill in the next cell to create a similarity matrix between a list of words.\n",
    "\n",
    "Experiment with different words and their similarities plotted. Try at least 3 different sets of words of at least 6 words each. Use the `plot_similarity_matrix` function to visualize the results.\n",
    "Comment on the results. Do they make sense? Why some words are closer to each other than others? What does it mean?"
   ]
  },
  {
   "cell_type": "code",
   "execution_count": null,
   "metadata": {
    "collapsed": false,
    "pycharm": {
     "name": "#%%\n"
    }
   },
   "outputs": [],
   "source": [
    "list_of_words = ['love', 'hate', 'life', 'equal', 'alive', 'dead']\n",
    "\n",
    "similarity_matrix = np.zeros((len(list_of_words), len(list_of_words)), dtype=float)\n",
    "\n",
    "### YOUR CODE HERE\n",
    "\n",
    "\n",
    "\n",
    "\n",
    "\n",
    "### YOUR CODE ENDS HERE\n",
    "\n",
    "\n",
    "plot_similarity_matrix(similarity_matrix, list_of_words)"
   ]
  },
  {
   "cell_type": "code",
   "execution_count": null,
   "metadata": {
    "collapsed": false,
    "pycharm": {
     "name": "#%%\n"
    }
   },
   "outputs": [],
   "source": [
    "#### YOUR CODE HERE\n",
    "\n",
    "\n",
    "\n",
    "### YOUR CODE ENDS HERE"
   ]
  },
  {
   "cell_type": "markdown",
   "metadata": {
    "collapsed": false,
    "pycharm": {
     "name": "#%% md\n"
    }
   },
   "source": [
    "<a name='e11'></a>\n",
    "### Exercise 11: Other pre-trained word embeddings\n",
    "(10p) For this exercise, experiment with at least one different word embedding model. You can choose Glove with different dimensions or other pre-trained models. Use the gensim library to download and use the models.\n",
    "Plot similarity matrices between sets of words you used in the previous exercise and compare the results. Are there noticeable differences? Why (not)?"
   ]
  },
  {
   "cell_type": "code",
   "execution_count": null,
   "metadata": {
    "collapsed": false,
    "pycharm": {
     "name": "#%%\n"
    }
   },
   "outputs": [],
   "source": [
    "#### YOUR CODE HERE\n",
    "\n",
    "\n",
    "\n",
    "### YOUR CODE ENDS HERE"
   ]
  },
  {
   "cell_type": "markdown",
   "metadata": {
    "collapsed": false,
    "pycharm": {
     "name": "#%% md\n"
    }
   },
   "source": [
    "// your comments"
   ]
  },
  {
   "cell_type": "markdown",
   "metadata": {
    "collapsed": false,
    "pycharm": {
     "name": "#%% md\n"
    }
   },
   "source": [
    "## 5. Sentence Embeddings by Averaging Word Embeddings\n",
    "\n",
    "Word embeddings are a powerful model for representing words and their meaning (in terms of distributional similarity). As we discussed in class, we can use them in a wide variety of tasks with more complex architectures. Word vectors offer a dense vector for each word. What if we wanted to represent a sentence (or a document) based on word vectors. How can we do that?\n",
    "\n",
    "In the course, we will see different architectures that take into account the sequence of words (by combining their vectors). A first naive but simple and sometimes (as we are going to see) quite effective approach would be to represent a sentence with an embedding vector that is the average of the word vectors that form the sentence.\n",
    "\n",
    "So formally, this is what we are aiming for:\n",
    "\n",
    "$\n",
    "\\text{Sentence_Embedding} = \\frac{1}{N} \\sum_{i=1}^{N} \\text{Word_Embedding}_i\n",
    "$\n",
    "\n",
    "where:\n",
    "* $N$ is the number of words in a sentence\n",
    "* $\\text{Word_Embedding}_i$ is the word vector for the $i$-th in the sentence.\n",
    "\n",
    "Things to note:\n",
    "* The embedding vector for the sentence will obviously have the same dimension as the word embedding.\n",
    "* This representation ignores the word order (like bag-of-words). During the course we will see how we can overcome this limitation by using sequence models."
   ]
  },
  {
   "cell_type": "markdown",
   "metadata": {
    "collapsed": false,
    "pycharm": {
     "name": "#%% md\n"
    }
   },
   "source": [
    "<a name='e12'></a>\n",
    "### Exercise 12: Sentence Embedding\n",
    "\n",
    "(10p) Complete the function below that takes as input the sentence in the form of tokens (so it's a list of words) and calculates the sentence embedding vector. First, we would need to retrieve the word embeddings for each word from our loaded model and then average the vectors.\n",
    "\n",
    "Note: There can be cases where all tokens from a sentence are out-of-vocabulary words (OOV). Think what to do in this case and make sure to discuss it in the report."
   ]
  },
  {
   "cell_type": "code",
   "execution_count": null,
   "metadata": {
    "collapsed": false,
    "pycharm": {
     "name": "#%%\n"
    }
   },
   "outputs": [],
   "source": [
    "def embed_sentence_word_model(tokens, model):\n",
    "    \"\"\"\n",
    "    Calculates the sentence embedding by averaging the embeddings of the tokens\n",
    "    Args:\n",
    "        tokens: a list of words from the sentence\n",
    "        model: a trained word embeddings model\n",
    "\n",
    "    Returns: a numpy array of the sentence embedding\n",
    "\n",
    "    \"\"\"\n",
    "    #### YOUR CODE HERE\n",
    "    #### CAUTION: be sure to cover the case where all tokens are out-of-vocabulary!!!\n",
    "\n",
    "\n",
    "\n",
    "\n",
    "    ### YOUR CODE ENDS HERE"
   ]
  },
  {
   "cell_type": "markdown",
   "metadata": {
    "collapsed": false,
    "pycharm": {
     "name": "#%% md\n"
    }
   },
   "source": [
    "Now we can apply the function to the whole dataset. Here we do it both for the sentence and the compressed version. You should know it by now, but this operation might take some time. The next cells will apply your function to the whole dataset."
   ]
  },
  {
   "cell_type": "code",
   "execution_count": null,
   "metadata": {
    "collapsed": false,
    "pycharm": {
     "name": "#%%\n"
    }
   },
   "outputs": [],
   "source": [
    "def embed_sentence_word_model_dataset(example, model):\n",
    "    \"\"\"\n",
    "    Embeds the sentence and the compressed sentence in the example from the Dataset\n",
    "    Args:\n",
    "        example: an example from the Dataset\n",
    "        model: a trained word embeddings model\n",
    "\n",
    "    Returns: updated example with 'sentence_embedding' and 'compressed_embedding' columns\n",
    "\n",
    "    \"\"\"\n",
    "    sentence_tokens = example['sentence_tokens']\n",
    "    clean_compressed = example['clean_compressed']\n",
    "    compressed_tokens = tokenize(clean_compressed)\n",
    "\n",
    "    sentence_embedding = embed_sentence_word_model(sentence_tokens, model)\n",
    "    compressed_embedding = embed_sentence_word_model(compressed_tokens, model)\n",
    "\n",
    "    example['sentence_embedding'] = sentence_embedding\n",
    "    example['compressed_embedding'] = compressed_embedding\n",
    "    return example"
   ]
  },
  {
   "cell_type": "code",
   "execution_count": null,
   "metadata": {
    "collapsed": false,
    "pycharm": {
     "name": "#%%\n"
    }
   },
   "outputs": [],
   "source": [
    "test_ds = test_ds.map(embed_sentence_word_model_dataset, fn_kwargs={'model': glove_model})\n",
    "print(test_ds)"
   ]
  },
  {
   "cell_type": "code",
   "execution_count": null,
   "metadata": {
    "collapsed": false,
    "pycharm": {
     "name": "#%%\n"
    }
   },
   "outputs": [],
   "source": [
    "for i in range(10):\n",
    "    print(test_ds[i])"
   ]
  },
  {
   "cell_type": "markdown",
   "metadata": {
    "collapsed": false,
    "pycharm": {
     "name": "#%% md\n"
    }
   },
   "source": [
    "Here you can see that the new dataset returned a single numpy array containing all sentence embeddings in our dataset. This is a lot more efficient than returning a list of arrays (which is the default behaviour). Below we check the type and the dimensionality.\n",
    "\n",
    "We will be using `text` subset from our dataset to not use too much RAM."
   ]
  },
  {
   "cell_type": "code",
   "execution_count": null,
   "metadata": {
    "collapsed": false,
    "pycharm": {
     "name": "#%%\n"
    }
   },
   "outputs": [],
   "source": [
    "sent_embedding = test_ds['sentence_embedding']\n",
    "compr_embedding = test_ds['compressed_embedding']\n",
    "print(type(sent_embedding))\n",
    "print(sent_embedding.shape)\n",
    "print(type(compr_embedding))\n",
    "print(compr_embedding.shape)"
   ]
  },
  {
   "cell_type": "markdown",
   "metadata": {
    "collapsed": false,
    "pycharm": {
     "name": "#%% md\n"
    }
   },
   "source": [
    "Next we try the condensed representatin based on a simple query. Feel free to try different queries with different words. What happens if we have OOV words in a query?"
   ]
  },
  {
   "cell_type": "code",
   "execution_count": null,
   "metadata": {
    "collapsed": false,
    "pycharm": {
     "name": "#%%\n"
    }
   },
   "outputs": [],
   "source": [
    "query = 'fox and deer'\n",
    "print(query)\n",
    "\n",
    "query_embedding = embed_text(query, clean, tokenize, lambda x: embed_sentence_word_model(x, glove_model))\n",
    "print(query_embedding.shape)\n",
    "print(query_embedding)"
   ]
  },
  {
   "cell_type": "markdown",
   "metadata": {
    "collapsed": false,
    "pycharm": {
     "name": "#%% md\n"
    }
   },
   "source": [
    "<a name='e13'></a>\n",
    "### Exercise 13: Analyze sentence embeddings\n",
    "- (5p) Calculate similarity between the word embeddings representations of the selected queries and the dataset sentences.\n",
    "- (5p) Analyze the search results. Does the search work as expected? Discuss the results.\n",
    "- (5p) Compare the results with the ones you got with the bag-of-words and TF-IDF representation. Discuss the differences and similarities."
   ]
  },
  {
   "cell_type": "code",
   "execution_count": null,
   "metadata": {
    "collapsed": false,
    "pycharm": {
     "name": "#%%\n"
    }
   },
   "outputs": [],
   "source": [
    "### YOUR CODE HERE\n",
    "\n",
    "\n",
    "\n",
    "\n",
    "### YOUR CODE ENDS HERE"
   ]
  },
  {
   "cell_type": "markdown",
   "metadata": {
    "id": "ZY2jouFmeHOg",
    "pycharm": {
     "name": "#%% md\n"
    }
   },
   "source": [
    "## 6. Evaluating Retrieval\n",
    "\n",
    "In this last section we will try to evaluate how good our sentence retrieval system is. To keep the computational resources manageable, we will use the test set for that as its size is more manageable.\n",
    "\n",
    "Recall from the lecture in IR that there are several metrics to evaluate retrieval performance by taking into account the relevance of the retrieved results to the query. We will use Recall@K here (for more metrics and more details refer to the lecture slides and the textbooks).\n",
    "\n",
    "RRecall@K is a metric used to measure the effectiveness of a search system in retrieving relevant documents within the top $K$ retrieved documents. It calculates the proportion of relevant documents retrieved within the top-$K$ results, compared to the total number of relevant documents in the collection.\n",
    "\n",
    "$\n",
    "\\text{Recall@K} = \\frac{\\text{Number of relevant documents retrieved in the top }-K}{\\text{Total number of relevant documents}}\n",
    "$\n",
    "\n",
    "In our case, we have a sentence, and it's compressed version. To test our system, we will treat compressed sentences as the queries. Each query will have only a single relevant sentence - the corresponding uncompressed sentence.\n",
    "\n",
    "Therefore, for the calculation of Recall@K we will take into account whether the correct retrieved result is contained within the first $K$ retrieved results. For example, if for a query (i.e. a compressed sentence) we retrieve 10 results and within these we see the relevant one (i.e. the full sentence), then Recall@10 = 1."
   ]
  },
  {
   "cell_type": "markdown",
   "metadata": {
    "id": "QUKPtG-uem9f",
    "pycharm": {
     "name": "#%% md\n"
    }
   },
   "source": [
    "<a name='e14'></a>\n",
    "### Exercise 14: Cosine similarity between two sets of vectors\n",
    "\n",
    "(3p) In this exercise you will revisit your implementation of the cosine similarity. Generalize it so that it can accept two arrays containing two sets of vectors (first one containing $M$ vectors and the second one $N$ vectors). Compute the cosine similarity between each pair of vectors coming from the two sets. The result should be an array of size $M x N$.\n",
    "\n",
    "Once again, try to write an efficient code. This means no loops. Remember the relation between matrix multiplication and dot product. (Depending on your implementation of the previous function calculating cosine similarity, this one can be almost the same)"
   ]
  },
  {
   "cell_type": "code",
   "execution_count": null,
   "metadata": {
    "id": "xKiHDrN9eld7",
    "pycharm": {
     "name": "#%%\n"
    }
   },
   "outputs": [],
   "source": [
    "def cosine_similarity_m_to_n(vectors, other_vectors):\n",
    "    \"\"\"\n",
    "    Calculates the cosine similarity between a multiple vectors and other vectors.\n",
    "    Args:\n",
    "        vectors: a numpy array representing M number of vectors of D dimensions (of the size MxD)\n",
    "        other_vectors: a 2D numpy array representing other vectors (of the size NxD, where N is the number of vectors and D is their dimension)\n",
    "\n",
    "    Returns: a numpy array of cosine similarity between all the vectors and all the other vectors\n",
    "\n",
    "    \"\"\"\n",
    "\n",
    "    #### YOUR CODE HERE\n",
    "\n",
    "\n",
    "\n",
    "\n",
    "    ### YOUR CODE ENDS HERE"
   ]
  },
  {
   "cell_type": "markdown",
   "metadata": {
    "id": "qQ-Yhl1Sgoka",
    "pycharm": {
     "name": "#%% md\n"
    }
   },
   "source": [
    "The following function will use your implementation to calculate Recall@K based on the similarity matrix."
   ]
  },
  {
   "cell_type": "code",
   "execution_count": null,
   "metadata": {
    "id": "z0sLS3uRCfdh",
    "pycharm": {
     "name": "#%%\n"
    }
   },
   "outputs": [],
   "source": [
    "def calculate_recall(queries, sentences, k, batch_size=1000):\n",
    "    \"\"\"\n",
    "    Calculates recall@k given the embeddings of the queries and sentences.\n",
    "    Assumes that only a single sentence with the same index as query is relevant.\n",
    "    Batching is implemented to avoid high memory usage.\n",
    "    Args:\n",
    "        queries: a numpy array with the embeddings of N queries\n",
    "        sentences: a numpy array with the embeddings of N sentences available for retrieval\n",
    "        k: number of top results to search for the relevant sentence\n",
    "        batch_size: number of queries to process at a time\n",
    "\n",
    "    Returns: calculated recall@k\n",
    "\n",
    "    \"\"\"\n",
    "    n_queries = queries.shape[0]\n",
    "    correct = np.zeros(n_queries, dtype=bool)\n",
    "\n",
    "    with tqdm.tqdm(total=n_queries) as pbar:\n",
    "        for batch_start in range(0, n_queries, batch_size):\n",
    "            batch_end = min(batch_start + batch_size, n_queries)\n",
    "            queries_batch = queries[batch_start:batch_end]\n",
    "            batch_similarity = cosine_similarity_m_to_n(queries_batch, sentences)\n",
    "\n",
    "            for i, similarity_row in enumerate(batch_similarity):\n",
    "                query_index = batch_start + i\n",
    "                top_k = top_k_indices(similarity_row, k=k, sorted=False)\n",
    "\n",
    "                if query_index in top_k:\n",
    "                    correct[query_index] = True\n",
    "\n",
    "                pbar.update(1)\n",
    "\n",
    "    recall = np.sum(correct) / n_queries\n",
    "    return recall"
   ]
  },
  {
   "cell_type": "markdown",
   "metadata": {
    "id": "3QgAgMiDgw8m",
    "pycharm": {
     "name": "#%% md\n"
    }
   },
   "source": [
    "You can use it like so:"
   ]
  },
  {
   "cell_type": "code",
   "execution_count": null,
   "metadata": {
    "id": "Yxpex7ZxHM7c",
    "pycharm": {
     "name": "#%%\n"
    }
   },
   "outputs": [],
   "source": [
    "recall_at_1 = calculate_recall(compr_embedding, sent_embedding, k=1, batch_size=1000)\n",
    "print(f'\\n{recall_at_1 * 100:.2f}%')"
   ]
  },
  {
   "cell_type": "markdown",
   "metadata": {
    "id": "zY5ZVq5ogzMI",
    "pycharm": {
     "name": "#%% md\n"
    }
   },
   "source": [
    "<a name='e15'></a>\n",
    "### Exercise 15: Evaluating retrieval methods\n",
    "\n",
    "(10p) Calculate recall for different values of $K$ for all methods:\n",
    "- BOW,\n",
    "- TF-IDF,\n",
    "- Pre-trained embeddings.\n",
    "\n",
    "Discuss the results.\n",
    "Comment on how recall changes based on the value of $K$. Are the results expected or surprising?"
   ]
  },
  {
   "cell_type": "code",
   "execution_count": null,
   "metadata": {
    "collapsed": false,
    "pycharm": {
     "name": "#%%\n"
    }
   },
   "outputs": [],
   "source": [
    "#### YOUR CODE HERE\n",
    "\n",
    "\n",
    "\n",
    "### YOUR CODE ENDS HERE"
   ]
  },
  {
   "cell_type": "markdown",
   "metadata": {
    "collapsed": false,
    "pycharm": {
     "name": "#%% md\n"
    }
   },
   "source": [
    "<a name='e16'></a>\n",
    "### Exercise 16: Improving retrieval\n",
    "\n",
    "(10p) Imagine that you work at a company and are tasked with delivering the best retrieval method. Select the most promising one and try to improve the scores (e.g. by changing the vocab size, loading different model, etc.).\n",
    "Discuss the results you achieve, even if you didn't manage to improve the scores."
   ]
  },
  {
   "cell_type": "code",
   "execution_count": null,
   "metadata": {
    "id": "YA9bEm5ehMq8",
    "pycharm": {
     "name": "#%%\n"
    }
   },
   "outputs": [],
   "source": [
    "#### YOUR CODE HERE\n",
    "\n",
    "\n",
    "\n",
    "### YOUR CODE ENDS HERE"
   ]
  },
  {
   "cell_type": "markdown",
   "metadata": {
    "collapsed": false,
    "pycharm": {
     "name": "#%% md\n"
    }
   },
   "source": [
    "// your comments"
   ]
  }
 ],
 "metadata": {
  "colab": {
   "provenance": [],
   "toc_visible": true
  },
  "kernelspec": {
   "display_name": "gensim-env",
   "language": "python",
   "name": "python3"
  },
  "language_info": {
   "codemirror_mode": {
    "name": "ipython",
    "version": 3
   },
   "file_extension": ".py",
   "mimetype": "text/x-python",
   "name": "python",
   "nbconvert_exporter": "python",
   "pygments_lexer": "ipython3",
   "version": "3.11.8"
  }
 },
 "nbformat": 4,
 "nbformat_minor": 0
}
